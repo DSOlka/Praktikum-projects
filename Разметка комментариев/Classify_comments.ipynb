{
 "cells": [
  {
   "cell_type": "markdown",
   "metadata": {
    "toc": true
   },
   "source": [
    "<h1>Содержание<span class=\"tocSkip\"></span></h1>\n",
    "<div class=\"toc\"><ul class=\"toc-item\"><li><span><a href=\"#Подготовка-данных\" data-toc-modified-id=\"Подготовка-данных-1\"><span class=\"toc-item-num\">1&nbsp;&nbsp;</span>Подготовка данных</a></span><ul class=\"toc-item\"><li><span><a href=\"#1.1.-Вывод\" data-toc-modified-id=\"1.1.-Вывод-1.1\"><span class=\"toc-item-num\">1.1&nbsp;&nbsp;</span>1.1. Вывод</a></span></li></ul></li><li><span><a href=\"#Обучение\" data-toc-modified-id=\"Обучение-2\"><span class=\"toc-item-num\">2&nbsp;&nbsp;</span>Обучение</a></span><ul class=\"toc-item\"><li><ul class=\"toc-item\"><li><span><a href=\"#Модель-логистической-регрессии\" data-toc-modified-id=\"Модель-логистической-регрессии-2.0.1\"><span class=\"toc-item-num\">2.0.1&nbsp;&nbsp;</span>Модель логистической регрессии</a></span></li><li><span><a href=\"#Модель-случайного-леса\" data-toc-modified-id=\"Модель-случайного-леса-2.0.2\"><span class=\"toc-item-num\">2.0.2&nbsp;&nbsp;</span>Модель случайного леса</a></span></li><li><span><a href=\"#Модель-стохастического-градиентного-бустинга\" data-toc-modified-id=\"Модель-стохастического-градиентного-бустинга-2.0.3\"><span class=\"toc-item-num\">2.0.3&nbsp;&nbsp;</span>Модель стохастического градиентного бустинга</a></span></li><li><span><a href=\"#Вывод\" data-toc-modified-id=\"Вывод-2.0.4\"><span class=\"toc-item-num\">2.0.4&nbsp;&nbsp;</span>Вывод</a></span></li></ul></li></ul></li><li><span><a href=\"#Тестирование\" data-toc-modified-id=\"Тестирование-3\"><span class=\"toc-item-num\">3&nbsp;&nbsp;</span>Тестирование</a></span></li><li><span><a href=\"#Вывод\" data-toc-modified-id=\"Вывод-4\"><span class=\"toc-item-num\">4&nbsp;&nbsp;</span>Вывод</a></span></li></ul></div>"
   ]
  },
  {
   "cell_type": "markdown",
   "metadata": {},
   "source": [
    "# Разметка комментариев для интернет-магазина"
   ]
  },
  {
   "cell_type": "markdown",
   "metadata": {},
   "source": [
    "**Цель проекта**: построить модель для классификации комментариев на позитивные и негативные для интернет-магазина. \n",
    "\n",
    "**Исходные данные**: в нашем распоряжении набор данных с разметкой о токсичности правок. Столбец `text` в нём содержит текст комментария, а `toxic` — целевой признак.\n",
    "\n",
    "**Критерий оценки**: метрика качества *F1* модели должна быть не меньше 0.75 \n",
    "\n",
    "**Этапы проекта:**\n",
    "1. Подготовка данных\n",
    "    - изучение данных\n",
    "    - изучение баланса классов\n",
    "    - очистка и лемматизация\n",
    "2. Построение моделей:\n",
    "    - подготовка тренировочной и тестовой выборок\n",
    "    - логистическая регрессия\n",
    "    - случайный лес\n",
    "    - стохастический градиентный бустинг\n",
    "3. Тестирование моделей\n",
    "4. Выводы"
   ]
  },
  {
   "cell_type": "markdown",
   "metadata": {},
   "source": [
    "## Подготовка данных"
   ]
  },
  {
   "cell_type": "code",
   "execution_count": 36,
   "metadata": {},
   "outputs": [],
   "source": [
    "from catboost import CatBoostClassifier, Pool\n",
    "from imblearn.over_sampling import RandomOverSampler\n",
    "import lightgbm as lgbm\n",
    "import matplotlib.pyplot as plt\n",
    "import nltk\n",
    "import numpy as np\n",
    "import pandas as pd\n",
    "import re\n",
    "import seaborn as sns\n",
    "from catboost import CatBoostClassifier\n",
    "from nltk.corpus import stopwords as nltk_stopwords, wordnet\n",
    "from nltk.stem import WordNetLemmatizer\n",
    "from sklearn import metrics\n",
    "from sklearn.feature_extraction.text import TfidfVectorizer\n",
    "from sklearn.linear_model import LogisticRegression\n",
    "from sklearn.ensemble import RandomForestClassifier\n",
    "from sklearn.model_selection import cross_val_score\n",
    "from sklearn.model_selection import train_test_split\n",
    "from sklearn.model_selection import RandomizedSearchCV\n",
    "from sklearn.metrics import f1_score, roc_curve, precision_recall_curve, PrecisionRecallDisplay"
   ]
  },
  {
   "cell_type": "code",
   "execution_count": 2,
   "metadata": {},
   "outputs": [
    {
     "name": "stdout",
     "output_type": "stream",
     "text": [
      "<class 'pandas.core.frame.DataFrame'>\n",
      "RangeIndex: 159571 entries, 0 to 159570\n",
      "Data columns (total 2 columns):\n",
      " #   Column  Non-Null Count   Dtype \n",
      "---  ------  --------------   ----- \n",
      " 0   text    159571 non-null  object\n",
      " 1   toxic   159571 non-null  int64 \n",
      "dtypes: int64(1), object(1)\n",
      "memory usage: 2.4+ MB\n"
     ]
    },
    {
     "data": {
      "text/plain": [
       "None"
      ]
     },
     "metadata": {},
     "output_type": "display_data"
    }
   ],
   "source": [
    "comments = pd.read_csv('toxic_comments.csv')\n",
    "display(comments.info())"
   ]
  },
  {
   "cell_type": "markdown",
   "metadata": {},
   "source": [
    "В датасете 159 571 комментарий, пропусков нет, мы имеем дело с англоязычными пользователями.\n",
    "\n",
    "Проанализируем баланс классов в данных: "
   ]
  },
  {
   "cell_type": "code",
   "execution_count": 3,
   "metadata": {},
   "outputs": [
    {
     "data": {
      "text/plain": [
       "0    0.898\n",
       "1    0.102\n",
       "Name: toxic, dtype: float64"
      ]
     },
     "metadata": {},
     "output_type": "display_data"
    },
    {
     "data": {
      "image/png": "[encoded data removed]",
      "text/plain": [
       "<Figure size 432x288 with 1 Axes>"
      ]
     },
     "metadata": {
      "needs_background": "light"
     },
     "output_type": "display_data"
    }
   ],
   "source": [
    "display(round(comments['toxic'].value_counts(normalize = True), 3))\n",
    "comments['toxic'].value_counts(normalize = True).plot(kind = 'bar')\n",
    "plt.show()"
   ]
  },
  {
   "cell_type": "markdown",
   "metadata": {},
   "source": [
    "Налицо дисбаланс классов: токсичных комментариев выявлено горадо меньше, чем нетоксичных - 10% против 90%. \n",
    "\n",
    "Следующим шагом оставим для анализа только буквы латинского алфавита: "
   ]
  },
  {
   "cell_type": "code",
   "execution_count": 4,
   "metadata": {
    "scrolled": true
   },
   "outputs": [
    {
     "data": {
      "text/plain": [
       "0         Explanation Why the edits made under my userna...\n",
       "1         D aww He matches this background colour I m se...\n",
       "2         Hey man I m really not trying to edit war It s...\n",
       "3         More I can t make any real suggestions on impr...\n",
       "4         You sir are my hero Any chance you remember wh...\n",
       "                                ...                        \n",
       "159566    And for the second time of asking when your vi...\n",
       "159567    You should be ashamed of yourself That is a ho...\n",
       "159568    Spitzer Umm theres no actual article for prost...\n",
       "159569    And it looks like it was actually you who put ...\n",
       "159570    And I really don t think you understand I came...\n",
       "Name: clear_t, Length: 159571, dtype: object"
      ]
     },
     "execution_count": 4,
     "metadata": {},
     "output_type": "execute_result"
    }
   ],
   "source": [
    "# функция для очистки текста от лишних символов\n",
    "def clear_text(text):\n",
    "    clean_t = re.sub(r'[^a-zA-Z]', ' ', text)\n",
    "    return \" \".join(clean_t.split())\n",
    "\n",
    "comments['clear_t'] = comments['text'].apply(lambda x: clear_text(x))\n",
    "\n",
    "texts = comments['clear_t']\n",
    "texts"
   ]
  },
  {
   "cell_type": "markdown",
   "metadata": {},
   "source": [
    "Лемматизируем очищенные комментарии с помощью библиотеки NLTK:"
   ]
  },
  {
   "cell_type": "code",
   "execution_count": 5,
   "metadata": {},
   "outputs": [],
   "source": [
    "# функция для определения части речи\n",
    "def get_wordnet_pos(word):\n",
    "    tag = nltk.pos_tag([word])[0][1][0].upper()\n",
    "    tag_dict = {\"J\": wordnet.ADJ,\n",
    "                \"N\": wordnet.NOUN,\n",
    "                \"V\": wordnet.VERB,\n",
    "                \"R\": wordnet.ADV}\n",
    "    return tag_dict.get(tag, wordnet.NOUN)"
   ]
  },
  {
   "cell_type": "code",
   "execution_count": 6,
   "metadata": {},
   "outputs": [],
   "source": [
    "lemmatizer = WordNetLemmatizer()\n",
    "\n",
    "# функция для лемматизации\n",
    "def lemmatize(text):\n",
    "    lemm_list = [lemmatizer.lemmatize(w, get_wordnet_pos(w)) for w in nltk.word_tokenize(text)]\n",
    "    lemm_text = \" \".join(lemm_list)      \n",
    "    return lemm_text"
   ]
  },
  {
   "cell_type": "code",
   "execution_count": 7,
   "metadata": {},
   "outputs": [
    {
     "name": "stdout",
     "output_type": "stream",
     "text": [
      "Wall time: 1h 24min 31s\n"
     ]
    },
    {
     "data": {
      "text/html": [
       "<div>\n",
       "<style scoped>\n",
       "    .dataframe tbody tr th:only-of-type {\n",
       "        vertical-align: middle;\n",
       "    }\n",
       "\n",
       "    .dataframe tbody tr th {\n",
       "        vertical-align: top;\n",
       "    }\n",
       "\n",
       "    .dataframe thead th {\n",
       "        text-align: right;\n",
       "    }\n",
       "</style>\n",
       "<table border=\"1\" class=\"dataframe\">\n",
       "  <thead>\n",
       "    <tr style=\"text-align: right;\">\n",
       "      <th></th>\n",
       "      <th>text</th>\n",
       "      <th>toxic</th>\n",
       "      <th>clear_t</th>\n",
       "      <th>lemmas</th>\n",
       "    </tr>\n",
       "  </thead>\n",
       "  <tbody>\n",
       "    <tr>\n",
       "      <th>0</th>\n",
       "      <td>Explanation\\nWhy the edits made under my usern...</td>\n",
       "      <td>0</td>\n",
       "      <td>Explanation Why the edits made under my userna...</td>\n",
       "      <td>Explanation Why the edits make under my userna...</td>\n",
       "    </tr>\n",
       "    <tr>\n",
       "      <th>1</th>\n",
       "      <td>D'aww! He matches this background colour I'm s...</td>\n",
       "      <td>0</td>\n",
       "      <td>D aww He matches this background colour I m se...</td>\n",
       "      <td>D aww He match this background colour I m seem...</td>\n",
       "    </tr>\n",
       "    <tr>\n",
       "      <th>2</th>\n",
       "      <td>Hey man, I'm really not trying to edit war. It...</td>\n",
       "      <td>0</td>\n",
       "      <td>Hey man I m really not trying to edit war It s...</td>\n",
       "      <td>Hey man I m really not try to edit war It s ju...</td>\n",
       "    </tr>\n",
       "    <tr>\n",
       "      <th>3</th>\n",
       "      <td>\"\\nMore\\nI can't make any real suggestions on ...</td>\n",
       "      <td>0</td>\n",
       "      <td>More I can t make any real suggestions on impr...</td>\n",
       "      <td>More I can t make any real suggestion on impro...</td>\n",
       "    </tr>\n",
       "    <tr>\n",
       "      <th>4</th>\n",
       "      <td>You, sir, are my hero. Any chance you remember...</td>\n",
       "      <td>0</td>\n",
       "      <td>You sir are my hero Any chance you remember wh...</td>\n",
       "      <td>You sir be my hero Any chance you remember wha...</td>\n",
       "    </tr>\n",
       "    <tr>\n",
       "      <th>...</th>\n",
       "      <td>...</td>\n",
       "      <td>...</td>\n",
       "      <td>...</td>\n",
       "      <td>...</td>\n",
       "    </tr>\n",
       "    <tr>\n",
       "      <th>159566</th>\n",
       "      <td>\":::::And for the second time of asking, when ...</td>\n",
       "      <td>0</td>\n",
       "      <td>And for the second time of asking when your vi...</td>\n",
       "      <td>And for the second time of ask when your view ...</td>\n",
       "    </tr>\n",
       "    <tr>\n",
       "      <th>159567</th>\n",
       "      <td>You should be ashamed of yourself \\n\\nThat is ...</td>\n",
       "      <td>0</td>\n",
       "      <td>You should be ashamed of yourself That is a ho...</td>\n",
       "      <td>You should be ashamed of yourself That be a ho...</td>\n",
       "    </tr>\n",
       "    <tr>\n",
       "      <th>159568</th>\n",
       "      <td>Spitzer \\n\\nUmm, theres no actual article for ...</td>\n",
       "      <td>0</td>\n",
       "      <td>Spitzer Umm theres no actual article for prost...</td>\n",
       "      <td>Spitzer Umm there no actual article for prosti...</td>\n",
       "    </tr>\n",
       "    <tr>\n",
       "      <th>159569</th>\n",
       "      <td>And it looks like it was actually you who put ...</td>\n",
       "      <td>0</td>\n",
       "      <td>And it looks like it was actually you who put ...</td>\n",
       "      <td>And it look like it be actually you who put on...</td>\n",
       "    </tr>\n",
       "    <tr>\n",
       "      <th>159570</th>\n",
       "      <td>\"\\nAnd ... I really don't think you understand...</td>\n",
       "      <td>0</td>\n",
       "      <td>And I really don t think you understand I came...</td>\n",
       "      <td>And I really don t think you understand I come...</td>\n",
       "    </tr>\n",
       "  </tbody>\n",
       "</table>\n",
       "<p>159571 rows × 4 columns</p>\n",
       "</div>"
      ],
      "text/plain": [
       "                                                     text  toxic  \\\n",
       "0       Explanation\\nWhy the edits made under my usern...      0   \n",
       "1       D'aww! He matches this background colour I'm s...      0   \n",
       "2       Hey man, I'm really not trying to edit war. It...      0   \n",
       "3       \"\\nMore\\nI can't make any real suggestions on ...      0   \n",
       "4       You, sir, are my hero. Any chance you remember...      0   \n",
       "...                                                   ...    ...   \n",
       "159566  \":::::And for the second time of asking, when ...      0   \n",
       "159567  You should be ashamed of yourself \\n\\nThat is ...      0   \n",
       "159568  Spitzer \\n\\nUmm, theres no actual article for ...      0   \n",
       "159569  And it looks like it was actually you who put ...      0   \n",
       "159570  \"\\nAnd ... I really don't think you understand...      0   \n",
       "\n",
       "                                                  clear_t  \\\n",
       "0       Explanation Why the edits made under my userna...   \n",
       "1       D aww He matches this background colour I m se...   \n",
       "2       Hey man I m really not trying to edit war It s...   \n",
       "3       More I can t make any real suggestions on impr...   \n",
       "4       You sir are my hero Any chance you remember wh...   \n",
       "...                                                   ...   \n",
       "159566  And for the second time of asking when your vi...   \n",
       "159567  You should be ashamed of yourself That is a ho...   \n",
       "159568  Spitzer Umm theres no actual article for prost...   \n",
       "159569  And it looks like it was actually you who put ...   \n",
       "159570  And I really don t think you understand I came...   \n",
       "\n",
       "                                                   lemmas  \n",
       "0       Explanation Why the edits make under my userna...  \n",
       "1       D aww He match this background colour I m seem...  \n",
       "2       Hey man I m really not try to edit war It s ju...  \n",
       "3       More I can t make any real suggestion on impro...  \n",
       "4       You sir be my hero Any chance you remember wha...  \n",
       "...                                                   ...  \n",
       "159566  And for the second time of ask when your view ...  \n",
       "159567  You should be ashamed of yourself That be a ho...  \n",
       "159568  Spitzer Umm there no actual article for prosti...  \n",
       "159569  And it look like it be actually you who put on...  \n",
       "159570  And I really don t think you understand I come...  \n",
       "\n",
       "[159571 rows x 4 columns]"
      ]
     },
     "execution_count": 7,
     "metadata": {},
     "output_type": "execute_result"
    }
   ],
   "source": [
    "%%time\n",
    "comments['lemmas'] = texts.apply(lambda x: lemmatize(x))\n",
    "comments"
   ]
  },
  {
   "cell_type": "markdown",
   "metadata": {},
   "source": [
    "Проверим, всё ли успешно лемматизировалось:"
   ]
  },
  {
   "cell_type": "code",
   "execution_count": 8,
   "metadata": {},
   "outputs": [
    {
     "data": {
      "text/html": [
       "<div>\n",
       "<style scoped>\n",
       "    .dataframe tbody tr th:only-of-type {\n",
       "        vertical-align: middle;\n",
       "    }\n",
       "\n",
       "    .dataframe tbody tr th {\n",
       "        vertical-align: top;\n",
       "    }\n",
       "\n",
       "    .dataframe thead th {\n",
       "        text-align: right;\n",
       "    }\n",
       "</style>\n",
       "<table border=\"1\" class=\"dataframe\">\n",
       "  <thead>\n",
       "    <tr style=\"text-align: right;\">\n",
       "      <th></th>\n",
       "      <th>text</th>\n",
       "      <th>toxic</th>\n",
       "      <th>clear_t</th>\n",
       "      <th>lemmas</th>\n",
       "    </tr>\n",
       "  </thead>\n",
       "  <tbody>\n",
       "  </tbody>\n",
       "</table>\n",
       "</div>"
      ],
      "text/plain": [
       "Empty DataFrame\n",
       "Columns: [text, toxic, clear_t, lemmas]\n",
       "Index: []"
      ]
     },
     "execution_count": 8,
     "metadata": {},
     "output_type": "execute_result"
    }
   ],
   "source": [
    "comments.loc[comments['lemmas'].isna()]"
   ]
  },
  {
   "cell_type": "markdown",
   "metadata": {},
   "source": [
    "Как видим, 7 строк содержали только символы и были почищены полностью. Удалим их:"
   ]
  },
  {
   "cell_type": "code",
   "execution_count": 9,
   "metadata": {},
   "outputs": [
    {
     "data": {
      "text/html": [
       "<div>\n",
       "<style scoped>\n",
       "    .dataframe tbody tr th:only-of-type {\n",
       "        vertical-align: middle;\n",
       "    }\n",
       "\n",
       "    .dataframe tbody tr th {\n",
       "        vertical-align: top;\n",
       "    }\n",
       "\n",
       "    .dataframe thead th {\n",
       "        text-align: right;\n",
       "    }\n",
       "</style>\n",
       "<table border=\"1\" class=\"dataframe\">\n",
       "  <thead>\n",
       "    <tr style=\"text-align: right;\">\n",
       "      <th></th>\n",
       "      <th>text</th>\n",
       "      <th>toxic</th>\n",
       "      <th>clear_t</th>\n",
       "      <th>lemmas</th>\n",
       "    </tr>\n",
       "  </thead>\n",
       "  <tbody>\n",
       "  </tbody>\n",
       "</table>\n",
       "</div>"
      ],
      "text/plain": [
       "Empty DataFrame\n",
       "Columns: [text, toxic, clear_t, lemmas]\n",
       "Index: []"
      ]
     },
     "execution_count": 9,
     "metadata": {},
     "output_type": "execute_result"
    }
   ],
   "source": [
    "comments.dropna(subset = ['lemmas'],inplace=True)\n",
    "comments.loc[comments['lemmas'].isna()]"
   ]
  },
  {
   "cell_type": "code",
   "execution_count": 10,
   "metadata": {},
   "outputs": [
    {
     "name": "stdout",
     "output_type": "stream",
     "text": [
      "<class 'pandas.core.frame.DataFrame'>\n",
      "Int64Index: 159571 entries, 0 to 159570\n",
      "Data columns (total 4 columns):\n",
      " #   Column   Non-Null Count   Dtype \n",
      "---  ------   --------------   ----- \n",
      " 0   text     159571 non-null  object\n",
      " 1   toxic    159571 non-null  int64 \n",
      " 2   clear_t  159571 non-null  object\n",
      " 3   lemmas   159571 non-null  object\n",
      "dtypes: int64(1), object(3)\n",
      "memory usage: 6.1+ MB\n"
     ]
    }
   ],
   "source": [
    "comments.info()"
   ]
  },
  {
   "cell_type": "markdown",
   "metadata": {},
   "source": [
    "### 1.1. Вывод\n",
    "В рамках предобработки комментарии были очищены от символов и лемматизированы. Обработанный датасет содержит 159 564 строки. Классы в датасете разбалансированы: только каждый 10й комментарий размечен как токсичный."
   ]
  },
  {
   "cell_type": "markdown",
   "metadata": {},
   "source": [
    "## Обучение\n",
    "\n",
    "Поскольку целевой признак в нашем случае - бинарная переменная, перед нами стоит задача\n",
    "классификации. Для этого будем использовать следующие модели:\n",
    "- логистическую регрессию\n",
    "- случайный лес\n",
    "- модель градиентного бустинга на основе библиотеки LightGBM\n",
    "\n",
    "Разделим датасет на тренировочную и тестовую выборку в соотношении 70/30:"
   ]
  },
  {
   "cell_type": "code",
   "execution_count": 11,
   "metadata": {},
   "outputs": [
    {
     "name": "stdout",
     "output_type": "stream",
     "text": [
      "(111699, 4) (47872, 4)\n"
     ]
    }
   ],
   "source": [
    "train, test = train_test_split(comments, test_size = 0.3, random_state = 16, stratify = comments['toxic'])\n",
    "print(train.shape, test.shape)"
   ]
  },
  {
   "cell_type": "markdown",
   "metadata": {},
   "source": [
    "Убедимся, что соотношение классов в полученных наборах примерно одинаково:"
   ]
  },
  {
   "cell_type": "code",
   "execution_count": 12,
   "metadata": {},
   "outputs": [
    {
     "data": {
      "text/plain": [
       "0    0.898325\n",
       "1    0.101675\n",
       "Name: toxic, dtype: float64"
      ]
     },
     "execution_count": 12,
     "metadata": {},
     "output_type": "execute_result"
    }
   ],
   "source": [
    "train['toxic'].value_counts(normalize = True)"
   ]
  },
  {
   "cell_type": "code",
   "execution_count": 13,
   "metadata": {},
   "outputs": [
    {
     "data": {
      "text/plain": [
       "0    0.898312\n",
       "1    0.101688\n",
       "Name: toxic, dtype: float64"
      ]
     },
     "execution_count": 13,
     "metadata": {},
     "output_type": "execute_result"
    }
   ],
   "source": [
    "test['toxic'].value_counts(normalize = True)"
   ]
  },
  {
   "cell_type": "markdown",
   "metadata": {},
   "source": [
    "Загрузим словарь английских стоп-слов и обучим счётчик TF-IDF:"
   ]
  },
  {
   "cell_type": "code",
   "execution_count": 14,
   "metadata": {},
   "outputs": [],
   "source": [
    "stopwords = set(nltk_stopwords.words('english'))\n",
    "count_tf_idf = TfidfVectorizer(stop_words=stopwords)\n",
    "train_tf_idf = count_tf_idf.fit_transform(train['lemmas'])"
   ]
  },
  {
   "cell_type": "markdown",
   "metadata": {},
   "source": [
    "Выделим целевой и обучающий признаки, в качестве обучающего примем результат работы счётчика TF-IDF:"
   ]
  },
  {
   "cell_type": "code",
   "execution_count": 15,
   "metadata": {},
   "outputs": [],
   "source": [
    "train_features = train_tf_idf\n",
    "train_target = train['toxic']"
   ]
  },
  {
   "cell_type": "markdown",
   "metadata": {},
   "source": [
    "Поскольку классы в нашей выборке не сбалансированы, выполним апсемплинг с помощью библиотеки imblearn:"
   ]
  },
  {
   "cell_type": "code",
   "execution_count": 16,
   "metadata": {},
   "outputs": [
    {
     "name": "stdout",
     "output_type": "stream",
     "text": [
      "(200684, 129233) (200684,)\n"
     ]
    }
   ],
   "source": [
    "ros = RandomOverSampler(random_state = 16)\n",
    "train_features_ros, train_target_ros = ros.fit_resample(train_features, train_target)\n",
    "print(train_features_ros.shape, train_target_ros.shape)"
   ]
  },
  {
   "cell_type": "markdown",
   "metadata": {},
   "source": [
    "Баланс классов после апсемплинга:"
   ]
  },
  {
   "cell_type": "code",
   "execution_count": 17,
   "metadata": {},
   "outputs": [
    {
     "data": {
      "text/plain": [
       "0    0.5\n",
       "1    0.5\n",
       "Name: toxic, dtype: float64"
      ]
     },
     "execution_count": 17,
     "metadata": {},
     "output_type": "execute_result"
    }
   ],
   "source": [
    "train_target_ros.value_counts(normalize = True)"
   ]
  },
  {
   "cell_type": "markdown",
   "metadata": {},
   "source": [
    "Данные подготовлены и готовы к отправке в модель."
   ]
  },
  {
   "cell_type": "markdown",
   "metadata": {},
   "source": [
    "___\n",
    "#### Модель логистической регрессии"
   ]
  },
  {
   "cell_type": "code",
   "execution_count": 18,
   "metadata": {},
   "outputs": [
    {
     "name": "stdout",
     "output_type": "stream",
     "text": [
      "Средняя оценка F1 модели логистической регрессии (с использованием внутреннего взвешивания): 0.74\n"
     ]
    }
   ],
   "source": [
    "log_model = LogisticRegression(random_state = 1, solver = 'liblinear', class_weight = 'balanced')\n",
    "log_model.fit(train_features, train_target)\n",
    "log_scores = cross_val_score(log_model, train_features, train_target, scoring = 'f1', cv = 3, n_jobs = -1)\n",
    "print('Средняя оценка F1 модели логистической регрессии (с использованием внутреннего взвешивания):', \n",
    "      round(log_scores.mean(), 2))"
   ]
  },
  {
   "cell_type": "code",
   "execution_count": 19,
   "metadata": {},
   "outputs": [
    {
     "name": "stdout",
     "output_type": "stream",
     "text": [
      "Средняя оценка F1 модели логистической регрессии (на upsamle-выборке): 0.96\n"
     ]
    }
   ],
   "source": [
    "log_balanced_model = LogisticRegression(random_state = 1, solver = 'liblinear')\n",
    "log_balanced_model.fit(train_features_ros, train_target_ros)\n",
    "log_balanced_scores = cross_val_score(log_balanced_model, train_features_ros, train_target_ros, scoring = 'f1', \n",
    "                                      cv = 3, n_jobs = -1)\n",
    "print('Средняя оценка F1 модели логистической регрессии (на upsamle-выборке):', \n",
    "      round(log_balanced_scores.mean(), 2))"
   ]
  },
  {
   "cell_type": "markdown",
   "metadata": {},
   "source": [
    "Как видим, лучший результат модель показывает на upsamle-выборке."
   ]
  },
  {
   "cell_type": "markdown",
   "metadata": {},
   "source": [
    "___\n",
    "#### Модель случайного леса"
   ]
  },
  {
   "cell_type": "code",
   "execution_count": 20,
   "metadata": {},
   "outputs": [
    {
     "name": "stdout",
     "output_type": "stream",
     "text": [
      "Параметры лучшего случайного леса {'n_estimators': 100, 'max_depth': 9}\n",
      "Лучшая модель случайного леса показала F1 0.79\n"
     ]
    }
   ],
   "source": [
    "forest = RandomForestClassifier(random_state = 16, class_weight = 'balanced')\n",
    "params = {'max_depth':range(1,10,2),\n",
    "          'n_estimators': range(50,150,50)}\n",
    "random_forest = RandomizedSearchCV(forest, params, random_state=16, cv = 3, scoring = 'f1', n_jobs = -1)\n",
    "random_forest.fit(train_features_ros, train_target_ros)\n",
    "print('Параметры лучшего случайного леса', random_forest.best_params_)\n",
    "print('Лучшая модель случайного леса показала F1', round(random_forest.best_score_, 2))"
   ]
  },
  {
   "cell_type": "markdown",
   "metadata": {},
   "source": [
    "___\n",
    "#### Модель стохастического градиентного бустинга"
   ]
  },
  {
   "cell_type": "code",
   "execution_count": 21,
   "metadata": {},
   "outputs": [
    {
     "name": "stdout",
     "output_type": "stream",
     "text": [
      "Средняя оценка F1 модели градиентного бустинга LGBM: 0.9\n"
     ]
    }
   ],
   "source": [
    "lgbm_model = lgbm.LGBMClassifier(random_state = 16)\n",
    "lgbm_model.fit(train_features_ros, train_target_ros)\n",
    "\n",
    "lgbm_scores = cross_val_score(lgbm_model, train_features_ros, train_target_ros, scoring = 'f1', cv = 3, \n",
    "                              n_jobs = -1)\n",
    "print('Средняя оценка F1 модели градиентного бустинга LGBM:', round(lgbm_scores.mean(), 2))"
   ]
  },
  {
   "cell_type": "code",
   "execution_count": 22,
   "metadata": {},
   "outputs": [
    {
     "name": "stdout",
     "output_type": "stream",
     "text": [
      "Лучшая оценка F1 модели градиентного бустинга Catboost: 0.95\n"
     ]
    }
   ],
   "source": [
    "cat_model = CatBoostClassifier(iterations = 200,\n",
    "                               depth = 5,\n",
    "                               learning_rate = 1,\n",
    "                               loss_function = 'Logloss',\n",
    "                               eval_metric = 'F1',\n",
    "                               verbose = False)\n",
    "\n",
    "cat_model.fit(train_features_ros, train_target_ros)\n",
    "print('Лучшая оценка F1 модели градиентного бустинга Catboost:', round(cat_model.best_score_['learn']['F1'], 2))"
   ]
  },
  {
   "cell_type": "markdown",
   "metadata": {},
   "source": [
    "Агрегируем результаты:"
   ]
  },
  {
   "cell_type": "code",
   "execution_count": 23,
   "metadata": {},
   "outputs": [
    {
     "name": "stdout",
     "output_type": "stream",
     "text": [
      "Cлучайный лес              0.79\n",
      "Бустинг с LightGBM         0.90\n",
      "Бустинг с Catboost         0.95\n",
      "Логистическая регрессия    0.96\n",
      "dtype: float64\n"
     ]
    },
    {
     "data": {
      "image/png": "[encoded data removed]",
      "text/plain": [
       "<Figure size 432x288 with 1 Axes>"
      ]
     },
     "metadata": {
      "needs_background": "light"
     },
     "output_type": "display_data"
    }
   ],
   "source": [
    "train_result_table = pd.Series([log_balanced_scores.mean(), random_forest.best_score_, \n",
    "                                lgbm_scores.mean(), cat_model.best_score_['learn']['F1']],\n",
    "                               index = ['Логистическая регрессия', 'Cлучайный лес', \n",
    "                                        'Бустинг с LightGBM', 'Бустинг с Catboost'])\n",
    "print(round(train_result_table, 2).sort_values()) \n",
    "\n",
    "train_result_table.sort_values().plot(kind = 'bar', title = 'Метрика F1 моделей на тренировочной выборке')\n",
    "plt.show()"
   ]
  },
  {
   "cell_type": "markdown",
   "metadata": {},
   "source": [
    "#### Вывод\n",
    "Все четыре модели на тренировочной выборке показывают хороший результат: метрика F1 больше 0,75. Лучший результат показала модель логистической регрессии с F1, равным 0,96."
   ]
  },
  {
   "cell_type": "markdown",
   "metadata": {},
   "source": [
    "## Тестирование"
   ]
  },
  {
   "cell_type": "code",
   "execution_count": 24,
   "metadata": {},
   "outputs": [],
   "source": [
    "test_tf_idf = count_tf_idf.transform(test['lemmas'])\n",
    "test_features = test_tf_idf\n",
    "test_target = test['toxic']"
   ]
  },
  {
   "cell_type": "code",
   "execution_count": 25,
   "metadata": {},
   "outputs": [],
   "source": [
    "def test_model(model, name):\n",
    "    predictions = model.predict(test_features)\n",
    "    f1 = f1_score(test_target, predictions)\n",
    "    cnf_matrix = metrics.confusion_matrix(test_target, predictions)\n",
    "    ax = plt.axes()\n",
    "    sns.heatmap(cnf_matrix/np.sum(cnf_matrix), annot=True, fmt='.1%', ax = ax)\n",
    "    ax.set_title('Матрица ошибок {}'.format(name))\n",
    "    plt.ylabel('True class')\n",
    "    plt.xlabel('Predicted class')\n",
    "    print('F1 модели {}:'.format(name), round(f1, 2))"
   ]
  },
  {
   "cell_type": "code",
   "execution_count": 26,
   "metadata": {
    "scrolled": true
   },
   "outputs": [
    {
     "name": "stdout",
     "output_type": "stream",
     "text": [
      "F1 модели логистическая регрессия: 0.75\n"
     ]
    },
    {
     "data": {
      "image/png": "[encoded data removed]",
      "text/plain": [
       "<Figure size 432x288 with 2 Axes>"
      ]
     },
     "metadata": {
      "needs_background": "light"
     },
     "output_type": "display_data"
    }
   ],
   "source": [
    "test_model(log_balanced_model, 'логистическая регрессия')\n",
    "log_probabilities_one = log_balanced_model.predict_proba(test_features)[:,1]\n",
    "fpr_log, tpr_log, thr_log = roc_curve(test_target, log_probabilities_one)"
   ]
  },
  {
   "cell_type": "code",
   "execution_count": 27,
   "metadata": {},
   "outputs": [
    {
     "name": "stdout",
     "output_type": "stream",
     "text": [
      "F1 модели градиентного бустинга LGBM: 0.73\n"
     ]
    },
    {
     "data": {
      "image/png": "[encoded data removed]",
      "text/plain": [
       "<Figure size 432x288 with 2 Axes>"
      ]
     },
     "metadata": {
      "needs_background": "light"
     },
     "output_type": "display_data"
    }
   ],
   "source": [
    "test_model(lgbm_model, 'градиентного бустинга LGBM')\n",
    "lgbm_probabilities_one = lgbm_model.predict_proba(test_features)[:,1]\n",
    "fpr_lgbm, tpr_lgbm, thr_lgbm = roc_curve(test_target, lgbm_probabilities_one)"
   ]
  },
  {
   "cell_type": "code",
   "execution_count": 28,
   "metadata": {},
   "outputs": [
    {
     "name": "stdout",
     "output_type": "stream",
     "text": [
      "F1 модели случайный лес: 0.34\n"
     ]
    },
    {
     "data": {
      "image/png": "[encoded data removed]",
      "text/plain": [
       "<Figure size 432x288 with 2 Axes>"
      ]
     },
     "metadata": {
      "needs_background": "light"
     },
     "output_type": "display_data"
    }
   ],
   "source": [
    "test_model(random_forest, 'случайный лес')\n",
    "forest_probabilities_one = random_forest.predict_proba(test_features)[:,1]\n",
    "fpr_forest, tpr_forest, thr_forest = roc_curve(test_target, forest_probabilities_one)"
   ]
  },
  {
   "cell_type": "code",
   "execution_count": 29,
   "metadata": {},
   "outputs": [
    {
     "name": "stdout",
     "output_type": "stream",
     "text": [
      "F1 модели градиентного бустинга Catboost: 0.71\n"
     ]
    },
    {
     "data": {
      "image/png": "[encoded data removed]",
      "text/plain": [
       "<Figure size 432x288 with 2 Axes>"
      ]
     },
     "metadata": {
      "needs_background": "light"
     },
     "output_type": "display_data"
    }
   ],
   "source": [
    "test_model(cat_model, 'градиентного бустинга Catboost')\n",
    "cat_probabilities_one = cat_model.predict_proba(test_features)[:,1]\n",
    "fpr_cat, tpr_cat, thr_cat = roc_curve(test_target, cat_probabilities_one)"
   ]
  },
  {
   "cell_type": "code",
   "execution_count": 30,
   "metadata": {},
   "outputs": [
    {
     "name": "stdout",
     "output_type": "stream",
     "text": [
      "Cлучайный лес              0.34\n",
      "Бустинг с Catboost         0.71\n",
      "Бустинг LightGBM           0.73\n",
      "Логистическая регрессия    0.75\n",
      "dtype: float64\n"
     ]
    },
    {
     "data": {
      "image/png": "[encoded data removed]",
      "text/plain": [
       "<Figure size 432x288 with 1 Axes>"
      ]
     },
     "metadata": {
      "needs_background": "light"
     },
     "output_type": "display_data"
    }
   ],
   "source": [
    "test_result_table = pd.Series([0.75, 0.34, 0.73, 0.71],\n",
    "                               index = ['Логистическая регрессия', 'Cлучайный лес', \n",
    "                                        'Бустинг LightGBM', 'Бустинг с Catboost'])\n",
    "print(round(test_result_table, 2).sort_values()) \n",
    "\n",
    "test_result_table.sort_values().plot(kind = 'bar', title = 'Метрика F1 моделей на тестовой выборке')\n",
    "plt.show()"
   ]
  },
  {
   "cell_type": "code",
   "execution_count": 31,
   "metadata": {},
   "outputs": [
    {
     "data": {
      "image/png": "[encoded data removed]",
      "text/plain": [
       "<Figure size 432x288 with 1 Axes>"
      ]
     },
     "metadata": {
      "needs_background": "light"
     },
     "output_type": "display_data"
    }
   ],
   "source": [
    "plt.figure()\n",
    "plt.plot(fpr_log, tpr_log, label = 'Logit-regression')\n",
    "plt.plot(fpr_lgbm, tpr_lgbm, label = 'LGBM')\n",
    "plt.plot(fpr_forest, tpr_forest, label = 'Random forest')\n",
    "plt.plot(fpr_cat, tpr_cat, label = 'Catboost')\n",
    "plt.plot([0, 1], [0, 1], linestyle = '--')\n",
    "plt.ylim([0, 1])\n",
    "plt.xlim([0, 1])\n",
    "plt.xlabel('False Positive Rate')\n",
    "plt.ylabel('True Positive Rate')\n",
    "plt.gca().legend()\n",
    "plt.title('ROC-кривая')\n",
    "plt.show()"
   ]
  },
  {
   "cell_type": "markdown",
   "metadata": {},
   "source": [
    "Попробуем подобрать порог принятия решения для логистической регрессии так, чтобы улучшить метрику F1. \n",
    "Построим кривую precision-recall:"
   ]
  },
  {
   "cell_type": "code",
   "execution_count": 46,
   "metadata": {
    "scrolled": true
   },
   "outputs": [
    {
     "data": {
      "image/png": "[encoded data removed]",
      "text/plain": [
       "<Figure size 432x288 with 1 Axes>"
      ]
     },
     "metadata": {
      "needs_background": "light"
     },
     "output_type": "display_data"
    }
   ],
   "source": [
    "precision, recall, thresholds = precision_recall_curve(test_target, log_probabilities_one)\n",
    "PrecisionRecallDisplay(precision=precision, recall=recall).plot()\n",
    "plt.show()"
   ]
  },
  {
   "cell_type": "markdown",
   "metadata": {},
   "source": [
    "Найдём такой порог, при котором F1 максимален."
   ]
  },
  {
   "cell_type": "code",
   "execution_count": 38,
   "metadata": {},
   "outputs": [
    {
     "data": {
      "text/plain": [
       "(array([41551, 41552, 41553, 41554, 41555, 41556, 41557, 41558, 41559,\n",
       "        41560, 41561, 41562, 41563, 41564, 41565, 41566, 41567, 41568,\n",
       "        41569, 41570, 41571, 41572], dtype=int64),)"
      ]
     },
     "execution_count": 38,
     "metadata": {},
     "output_type": "execute_result"
    }
   ],
   "source": [
    "ind = np.where((2 * (precision * recall) / (precision + recall)) > 0.775)\n",
    "ind"
   ]
  },
  {
   "cell_type": "code",
   "execution_count": 39,
   "metadata": {},
   "outputs": [
    {
     "data": {
      "text/plain": [
       "0.642"
      ]
     },
     "execution_count": 39,
     "metadata": {},
     "output_type": "execute_result"
    }
   ],
   "source": [
    "round(thresholds[ind[0][0]], 3)"
   ]
  },
  {
   "cell_type": "code",
   "execution_count": 40,
   "metadata": {},
   "outputs": [
    {
     "data": {
      "text/plain": [
       "0.775"
      ]
     },
     "execution_count": 40,
     "metadata": {},
     "output_type": "execute_result"
    }
   ],
   "source": [
    "predictions_thr = log_balanced_model.predict_proba(test_features)[:,1] > thresholds[ind[0][0]]\n",
    "round(f1_score(test_target, predictions_thr), 3)"
   ]
  },
  {
   "cell_type": "markdown",
   "metadata": {},
   "source": [
    "## Вывод"
   ]
  },
  {
   "cell_type": "markdown",
   "metadata": {},
   "source": [
    "Перед нами стояла задача построения модели классификации англоязычных комментариев пользователей интернет-магазина на токсичные и нетоксичные. В рамках проекта обучены и протестированы следующие модели:\n",
    "- логистическая регрессия\n",
    "- случайный лес\n",
    "- стохастический градиентный бустинг с применением библиотек LightGBM и CatBoost\n",
    "\n",
    "Выбранные модели показали хороший результат на обучающей выборке, однако сильно переобучились (вероятно, из-за проведённого апсемплинга). На тестовой выборке заданному критерию F1 (не менее 0,75) удовлетворяет только **модель логит-регрессии**. Её и рекомендуется использовать магазину для классификации комментариев пользователей. **Чтобы улучшить качество предсказания с точки зрения метрики F1, порог принятия решения об отнесении комментария к токсичному рекомендуется установить на уровне около 0,68**. "
   ]
  }
 ],
 "metadata": {
  "ExecuteTimeLog": [
   {
    "duration": 5,
    "start_time": "2021-11-16T09:39:51.564Z"
   },
   {
    "duration": 191,
    "start_time": "2021-11-16T09:42:51.554Z"
   },
   {
    "duration": 1685,
    "start_time": "2021-11-16T09:43:56.821Z"
   },
   {
    "duration": 769,
    "start_time": "2021-11-16T09:44:04.638Z"
   },
   {
    "duration": 784,
    "start_time": "2021-11-16T09:44:35.841Z"
   },
   {
    "duration": 758,
    "start_time": "2021-11-16T09:44:46.832Z"
   },
   {
    "duration": 721,
    "start_time": "2021-11-16T09:44:51.918Z"
   },
   {
    "duration": 31,
    "start_time": "2021-11-16T09:45:04.534Z"
   },
   {
    "duration": 12,
    "start_time": "2021-11-16T09:49:27.033Z"
   },
   {
    "duration": 6,
    "start_time": "2021-11-16T09:49:45.095Z"
   },
   {
    "duration": 165653,
    "start_time": "2021-11-16T09:50:27.923Z"
   },
   {
    "duration": 778,
    "start_time": "2021-11-16T09:53:21.459Z"
   },
   {
    "duration": 32,
    "start_time": "2021-11-16T09:53:25.532Z"
   },
   {
    "duration": 5,
    "start_time": "2021-11-16T09:53:28.504Z"
   },
   {
    "duration": 5762245,
    "start_time": "2021-11-16T09:53:57.261Z"
   },
   {
    "duration": 796,
    "start_time": "2021-11-16T11:30:46.818Z"
   },
   {
    "duration": 821,
    "start_time": "2021-11-16T11:31:13.004Z"
   },
   {
    "duration": 880,
    "start_time": "2021-11-16T11:31:33.408Z"
   },
   {
    "duration": 72,
    "start_time": "2021-11-16T11:33:38.623Z"
   },
   {
    "duration": 42,
    "start_time": "2021-11-16T11:34:02.403Z"
   },
   {
    "duration": 782,
    "start_time": "2021-11-16T11:34:24.259Z"
   },
   {
    "duration": 1086,
    "start_time": "2021-11-16T11:35:05.233Z"
   },
   {
    "duration": 783,
    "start_time": "2021-11-16T11:36:39.104Z"
   },
   {
    "duration": -523,
    "start_time": "2021-11-16T16:06:06.067Z"
   },
   {
    "duration": 58,
    "start_time": "2021-11-16T16:06:08.704Z"
   },
   {
    "duration": 1647,
    "start_time": "2021-11-16T16:06:20.537Z"
   },
   {
    "duration": 852,
    "start_time": "2021-11-16T16:06:22.186Z"
   },
   {
    "duration": 35,
    "start_time": "2021-11-16T16:06:23.041Z"
   },
   {
    "duration": 416,
    "start_time": "2021-11-16T16:06:23.079Z"
   },
   {
    "duration": 4,
    "start_time": "2021-11-16T16:06:23.498Z"
   },
   {
    "duration": 20,
    "start_time": "2021-11-16T16:06:23.504Z"
   },
   {
    "duration": 61,
    "start_time": "2021-11-16T16:06:23.526Z"
   },
   {
    "duration": 28649,
    "start_time": "2021-11-16T16:06:23.590Z"
   },
   {
    "duration": -524,
    "start_time": "2021-11-16T16:06:52.766Z"
   },
   {
    "duration": -525,
    "start_time": "2021-11-16T16:06:52.769Z"
   },
   {
    "duration": -526,
    "start_time": "2021-11-16T16:06:52.772Z"
   },
   {
    "duration": -529,
    "start_time": "2021-11-16T16:06:52.776Z"
   },
   {
    "duration": -529,
    "start_time": "2021-11-16T16:06:52.777Z"
   },
   {
    "duration": -530,
    "start_time": "2021-11-16T16:06:52.780Z"
   },
   {
    "duration": -531,
    "start_time": "2021-11-16T16:06:52.782Z"
   },
   {
    "duration": -531,
    "start_time": "2021-11-16T16:06:52.784Z"
   },
   {
    "duration": -533,
    "start_time": "2021-11-16T16:06:52.787Z"
   },
   {
    "duration": -535,
    "start_time": "2021-11-16T16:06:52.790Z"
   },
   {
    "duration": -535,
    "start_time": "2021-11-16T16:06:52.792Z"
   },
   {
    "duration": 380,
    "start_time": "2021-11-16T16:07:43.600Z"
   },
   {
    "duration": 5773,
    "start_time": "2021-11-16T16:08:59.863Z"
   },
   {
    "duration": 1214111,
    "start_time": "2021-11-16T16:09:59.952Z"
   },
   {
    "duration": 1049,
    "start_time": "2021-11-16T16:30:45.633Z"
   },
   {
    "duration": 6,
    "start_time": "2021-11-16T16:31:47.684Z"
   },
   {
    "duration": 809,
    "start_time": "2021-11-16T16:31:47.693Z"
   },
   {
    "duration": 33,
    "start_time": "2021-11-16T16:31:48.505Z"
   },
   {
    "duration": 332,
    "start_time": "2021-11-16T16:31:48.542Z"
   },
   {
    "duration": 4,
    "start_time": "2021-11-16T16:31:48.876Z"
   },
   {
    "duration": 7,
    "start_time": "2021-11-16T16:31:48.883Z"
   },
   {
    "duration": 69,
    "start_time": "2021-11-16T16:31:48.892Z"
   },
   {
    "duration": 6352,
    "start_time": "2021-11-16T16:31:48.965Z"
   },
   {
    "duration": 977,
    "start_time": "2021-11-16T16:31:59.390Z"
   },
   {
    "duration": 449306,
    "start_time": "2021-11-16T16:32:57.028Z"
   }
  ],
  "kernelspec": {
   "display_name": "Python 3",
   "language": "python",
   "name": "python3"
  },
  "language_info": {
   "codemirror_mode": {
    "name": "ipython",
    "version": 3
   },
   "file_extension": ".py",
   "mimetype": "text/x-python",
   "name": "python",
   "nbconvert_exporter": "python",
   "pygments_lexer": "ipython3",
   "version": "3.8.2"
  },
  "toc": {
   "base_numbering": 1,
   "nav_menu": {},
   "number_sections": true,
   "sideBar": true,
   "skip_h1_title": true,
   "title_cell": "Содержание",
   "title_sidebar": "Contents",
   "toc_cell": true,
   "toc_position": {
    "height": "calc(100% - 180px)",
    "left": "10px",
    "top": "150px",
    "width": "302.391px"
   },
   "toc_section_display": true,
   "toc_window_display": false
  }
 },
 "nbformat": 4,
 "nbformat_minor": 2
}
