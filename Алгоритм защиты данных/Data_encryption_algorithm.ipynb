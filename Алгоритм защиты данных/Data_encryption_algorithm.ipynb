{
 "cells": [
  {
   "cell_type": "markdown",
   "metadata": {
    "toc": true
   },
   "source": [
    "<h1>Содержание<span class=\"tocSkip\"></span></h1>\n",
    "<div class=\"toc\"><ul class=\"toc-item\"><li><span><a href=\"#Загрузка-данных\" data-toc-modified-id=\"Загрузка-данных-1\"><span class=\"toc-item-num\">1&nbsp;&nbsp;</span>Загрузка данных</a></span><ul class=\"toc-item\"><li><span><a href=\"#Вывод\" data-toc-modified-id=\"Вывод-1.1\"><span class=\"toc-item-num\">1.1&nbsp;&nbsp;</span>Вывод</a></span></li></ul></li><li><span><a href=\"#Умножение-матриц\" data-toc-modified-id=\"Умножение-матриц-2\"><span class=\"toc-item-num\">2&nbsp;&nbsp;</span>Умножение матриц</a></span></li><li><span><a href=\"#Алгоритм-преобразования\" data-toc-modified-id=\"Алгоритм-преобразования-3\"><span class=\"toc-item-num\">3&nbsp;&nbsp;</span>Алгоритм преобразования</a></span></li><li><span><a href=\"#Проверка-алгоритма\" data-toc-modified-id=\"Проверка-алгоритма-4\"><span class=\"toc-item-num\">4&nbsp;&nbsp;</span>Проверка алгоритма</a></span></li><li><span><a href=\"#Вывод\" data-toc-modified-id=\"Вывод-5\"><span class=\"toc-item-num\">5&nbsp;&nbsp;</span>Вывод</a></span></ul></div>"
   ]
  },
  {
   "cell_type": "markdown",
   "metadata": {},
   "source": [
    "# Защита персональных данных клиентов"
   ]
  },
  {
   "cell_type": "markdown",
   "metadata": {},
   "source": [
    "**Цель проекта**: защитить данные клиентов страховой компании - разработать такой метод преобразования данных, чтобы по ним было сложно восстановить персональную информацию, и обосновать корректность его работы.\n",
    "\n",
    "Корректность выбранного алгоритма будет проверяться на моделях линейной регрессии с помощью коэффициента детерминации."
   ]
  },
  {
   "cell_type": "markdown",
   "metadata": {},
   "source": [
    "## Загрузка данных"
   ]
  },
  {
   "cell_type": "code",
   "execution_count": 1,
   "metadata": {},
   "outputs": [
    {
     "data": {
      "text/html": [
       "<div>\n",
       "<style scoped>\n",
       "    .dataframe tbody tr th:only-of-type {\n",
       "        vertical-align: middle;\n",
       "    }\n",
       "\n",
       "    .dataframe tbody tr th {\n",
       "        vertical-align: top;\n",
       "    }\n",
       "\n",
       "    .dataframe thead th {\n",
       "        text-align: right;\n",
       "    }\n",
       "</style>\n",
       "<table border=\"1\" class=\"dataframe\">\n",
       "  <thead>\n",
       "    <tr style=\"text-align: right;\">\n",
       "      <th></th>\n",
       "      <th>Пол</th>\n",
       "      <th>Возраст</th>\n",
       "      <th>Зарплата</th>\n",
       "      <th>Члены семьи</th>\n",
       "      <th>Страховые выплаты</th>\n",
       "    </tr>\n",
       "  </thead>\n",
       "  <tbody>\n",
       "    <tr>\n",
       "      <td>0</td>\n",
       "      <td>1</td>\n",
       "      <td>41.0</td>\n",
       "      <td>49600.0</td>\n",
       "      <td>1</td>\n",
       "      <td>0</td>\n",
       "    </tr>\n",
       "    <tr>\n",
       "      <td>1</td>\n",
       "      <td>0</td>\n",
       "      <td>46.0</td>\n",
       "      <td>38000.0</td>\n",
       "      <td>1</td>\n",
       "      <td>1</td>\n",
       "    </tr>\n",
       "    <tr>\n",
       "      <td>2</td>\n",
       "      <td>0</td>\n",
       "      <td>29.0</td>\n",
       "      <td>21000.0</td>\n",
       "      <td>0</td>\n",
       "      <td>0</td>\n",
       "    </tr>\n",
       "    <tr>\n",
       "      <td>3</td>\n",
       "      <td>0</td>\n",
       "      <td>21.0</td>\n",
       "      <td>41700.0</td>\n",
       "      <td>2</td>\n",
       "      <td>0</td>\n",
       "    </tr>\n",
       "    <tr>\n",
       "      <td>4</td>\n",
       "      <td>1</td>\n",
       "      <td>28.0</td>\n",
       "      <td>26100.0</td>\n",
       "      <td>0</td>\n",
       "      <td>0</td>\n",
       "    </tr>\n",
       "  </tbody>\n",
       "</table>\n",
       "</div>"
      ],
      "text/plain": [
       "   Пол  Возраст  Зарплата  Члены семьи  Страховые выплаты\n",
       "0    1     41.0   49600.0            1                  0\n",
       "1    0     46.0   38000.0            1                  1\n",
       "2    0     29.0   21000.0            0                  0\n",
       "3    0     21.0   41700.0            2                  0\n",
       "4    1     28.0   26100.0            0                  0"
      ]
     },
     "execution_count": 1,
     "metadata": {},
     "output_type": "execute_result"
    }
   ],
   "source": [
    "import pandas as pd\n",
    "import numpy as np\n",
    "from sklearn.linear_model import LinearRegression\n",
    "from sklearn.metrics import r2_score\n",
    "\n",
    "data = pd.read_csv('/insurance.csv')\n",
    "data.head()"
   ]
  },
  {
   "cell_type": "code",
   "execution_count": 2,
   "metadata": {},
   "outputs": [
    {
     "name": "stdout",
     "output_type": "stream",
     "text": [
      "<class 'pandas.core.frame.DataFrame'>\n",
      "RangeIndex: 5000 entries, 0 to 4999\n",
      "Data columns (total 5 columns):\n",
      "Пол                  5000 non-null int64\n",
      "Возраст              5000 non-null float64\n",
      "Зарплата             5000 non-null float64\n",
      "Члены семьи          5000 non-null int64\n",
      "Страховые выплаты    5000 non-null int64\n",
      "dtypes: float64(2), int64(3)\n",
      "memory usage: 195.4 KB\n"
     ]
    }
   ],
   "source": [
    "data.info()"
   ]
  },
  {
   "cell_type": "markdown",
   "metadata": {},
   "source": [
    "### Вывод\n",
    "Таблица содержит следующие данные о застрахованных:\n",
    "- пол\n",
    "- возраст\n",
    "- заработная плата\n",
    "- количество членов в семье застрахованного\n",
    "- факт осуществления страховой выплаты\n",
    "\n",
    "В таблице 5000 строк, пропусков нет."
   ]
  },
  {
   "cell_type": "markdown",
   "metadata": {},
   "source": [
    "## Умножение матриц"
   ]
  },
  {
   "cell_type": "markdown",
   "metadata": {},
   "source": [
    "Выделим из выборки обучающие и целевой признаки:"
   ]
  },
  {
   "cell_type": "code",
   "execution_count": 3,
   "metadata": {},
   "outputs": [
    {
     "name": "stdout",
     "output_type": "stream",
     "text": [
      "Размер матрицы с обучающими признаками: (5000, 4)\n",
      "Размер матрицы с целевым признаком: (5000,)\n"
     ]
    }
   ],
   "source": [
    "features = data.drop('Страховые выплаты', axis=1)\n",
    "target = data['Страховые выплаты']\n",
    "print('Размер матрицы с обучающими признаками:', features.shape)\n",
    "print('Размер матрицы с целевым признаком:', target.shape)"
   ]
  },
  {
   "cell_type": "markdown",
   "metadata": {},
   "source": [
    "**Вопрос**: признаки умножают на обратимую матрицу. Изменится ли качество линейной регрессии?\n",
    "\n",
    "**Ответ**: качество линейной регрессии не изменится.\n",
    "\n",
    "**Обоснование**: \n",
    "\n",
    "Обозначения:\n",
    "\n",
    "- $X$ — матрица признаков\n",
    "\n",
    "- $y$ — вектор целевого признака\n",
    "\n",
    "- $P$ — матрица, на которую умножаются признаки\n",
    "\n",
    "- $E$ - единичная матрица\n",
    "\n",
    "- $w$ — вектор весов линейной регрессии (я сознательно опускаю здесь независимый член уравнения, поскольку даём общее обоснование, размерность матрицы признаков не имеет значения)\n",
    "\n",
    "оптимальные коэффициенты регрессии рассчитваются по формуле $ w = (X^T X)^{-1} X^T y $\n",
    "\n",
    "Покажем, что после умножения признаков на квадратную обратимую матрицу P размером n*n, где n - количество столбцов в матрице с признаками, коэффициенты $w_1 = P^{-1} w $: \n",
    "$$w_1 = ((XP)^T (XP))^{-1} (XP)^T y = (P^T X^T X P)^{-1} P^T X^T y = P^{-1} (X^T X)^{-1} P^T (P^T)^{-1} X^T y = P^{-1} (X^T X)^{-1} E X^T y = P^{-1} (X^T X)^{-1} X^T y = P^{-1} w$$\n",
    "\n",
    "При этом предсказания новой модели будут равны предсказаниям исходной, т. к.:\n",
    "$$a_1 = X P w_1 = X P P^{-1} w = X E w = X w$$"
   ]
  },
  {
   "cell_type": "code",
   "execution_count": 4,
   "metadata": {},
   "outputs": [
    {
     "name": "stdout",
     "output_type": "stream",
     "text": [
      "Коэффициенты исходной модели: [-4.43854686e-02  2.33356224e-02 -1.17739038e-05 -4.55168125e-02]\n"
     ]
    }
   ],
   "source": [
    "X = features\n",
    "y = target\n",
    "P = np.random.normal(size = (4, 4))\n",
    "\n",
    "# коэффициенты исходной модели:\n",
    "w = np.linalg.inv(X.T @ X) @ X.T @ y\n",
    "print('Коэффициенты исходной модели:', np.array(w))"
   ]
  },
  {
   "cell_type": "code",
   "execution_count": 5,
   "metadata": {},
   "outputs": [
    {
     "name": "stdout",
     "output_type": "stream",
     "text": [
      "Коэффициенты преобразованной модели: [-0.1000635   0.01508085 -0.07919564  0.04526505]\n"
     ]
    }
   ],
   "source": [
    "# умножаем матрицу признаков на обратимую матрицу:\n",
    "X1 = X @ P\n",
    "\n",
    "# коэффициенты модели после преобразования:\n",
    "w1 = np.linalg.inv(X1.T @ X1) @ X1.T @ y\n",
    "print('Коэффициенты преобразованной модели:', np.array(w1))"
   ]
  },
  {
   "cell_type": "markdown",
   "metadata": {},
   "source": [
    "Убедимся, что $w_1 = P^{-1} w $"
   ]
  },
  {
   "cell_type": "code",
   "execution_count": 6,
   "metadata": {},
   "outputs": [
    {
     "data": {
      "text/plain": [
       "array([-0.1000637 ,  0.01508099, -0.07919594,  0.04526537])"
      ]
     },
     "execution_count": 6,
     "metadata": {},
     "output_type": "execute_result"
    }
   ],
   "source": [
    "np.linalg.inv(P) @ w"
   ]
  },
  {
   "cell_type": "code",
   "execution_count": 7,
   "metadata": {},
   "outputs": [
    {
     "name": "stdout",
     "output_type": "stream",
     "text": [
      "Предсказания исходной модели: \n",
      " \n",
      "0       0.282873\n",
      "1       0.580513\n",
      "2       0.429481\n",
      "3      -0.091957\n",
      "4       0.301713\n",
      "          ...   \n",
      "4995    0.142035\n",
      "4996    0.130942\n",
      "4997   -0.023457\n",
      "4998   -0.052559\n",
      "4999    0.085475\n",
      "Length: 5000, dtype: float64\n"
     ]
    }
   ],
   "source": [
    "a = X.values @ w\n",
    "print('Предсказания исходной модели: \\n \\n', pd.Series(a), sep = '')"
   ]
  },
  {
   "cell_type": "code",
   "execution_count": 8,
   "metadata": {},
   "outputs": [
    {
     "name": "stdout",
     "output_type": "stream",
     "text": [
      "Предсказания преобразованной модели: \n",
      " \n",
      "0       0.282873\n",
      "1       0.580514\n",
      "2       0.429481\n",
      "3      -0.091957\n",
      "4       0.301713\n",
      "          ...   \n",
      "4995    0.142036\n",
      "4996    0.130942\n",
      "4997   -0.023456\n",
      "4998   -0.052559\n",
      "4999    0.085475\n",
      "Length: 5000, dtype: float64\n"
     ]
    }
   ],
   "source": [
    "a1 = X1.values @ w1\n",
    "print('Предсказания преобразованной модели: \\n \\n', pd.Series(a1), sep = '')"
   ]
  },
  {
   "cell_type": "markdown",
   "metadata": {},
   "source": [
    "## Алгоритм преобразования"
   ]
  },
  {
   "cell_type": "markdown",
   "metadata": {},
   "source": [
    "**Предлагаемый алгоритм защиты данных**: \n",
    "- сгенерируем случайную обратимую матрицу $p$ размера 4*4 \n",
    "- проверим матрицу на обратимость\n",
    "- умножим матрицу с признаками на матрицу $p$\n",
    "- получим преобразованный массив признаков той же размерности, что и исходный\n",
    "- построим модель линейной регрессии на исходных данных, получим предсказания, вычислим $R^2$\n",
    "- построим модель линейной регрессии на преобразованных данных, получим предсказания, вычислим $R^2$\n",
    "- сравним метрики и предсказания двух моделей"
   ]
  },
  {
   "cell_type": "markdown",
   "metadata": {},
   "source": [
    "## Проверка алгоритма"
   ]
  },
  {
   "cell_type": "markdown",
   "metadata": {},
   "source": [
    "Сгенерируем обратимую матрицу 4*4 и умножим признаки на неё:"
   ]
  },
  {
   "cell_type": "code",
   "execution_count": 9,
   "metadata": {},
   "outputs": [
    {
     "data": {
      "text/plain": [
       "array([[ 1.62434536, -0.61175641, -0.52817175, -1.07296862],\n",
       "       [ 0.86540763, -2.3015387 ,  1.74481176, -0.7612069 ],\n",
       "       [ 0.3190391 , -0.24937038,  1.46210794, -2.06014071],\n",
       "       [-0.3224172 , -0.38405435,  1.13376944, -1.09989127]])"
      ]
     },
     "execution_count": 9,
     "metadata": {},
     "output_type": "execute_result"
    }
   ],
   "source": [
    "# генерация обратимой матрицы 4*4\n",
    "p = np.random.RandomState(1).normal(size = (4, 4))\n",
    "p"
   ]
  },
  {
   "cell_type": "markdown",
   "metadata": {},
   "source": [
    "Проверим марицу на обратимость:"
   ]
  },
  {
   "cell_type": "code",
   "execution_count": 10,
   "metadata": {},
   "outputs": [],
   "source": [
    "try: \n",
    "    np.linalg.inv(p)\n",
    "except:\n",
    "    print('Сгенерирована необратимая матрица')"
   ]
  },
  {
   "cell_type": "code",
   "execution_count": 11,
   "metadata": {},
   "outputs": [
    {
     "data": {
      "text/html": [
       "<div>\n",
       "<style scoped>\n",
       "    .dataframe tbody tr th:only-of-type {\n",
       "        vertical-align: middle;\n",
       "    }\n",
       "\n",
       "    .dataframe tbody tr th {\n",
       "        vertical-align: top;\n",
       "    }\n",
       "\n",
       "    .dataframe thead th {\n",
       "        text-align: right;\n",
       "    }\n",
       "</style>\n",
       "<table border=\"1\" class=\"dataframe\">\n",
       "  <thead>\n",
       "    <tr style=\"text-align: right;\">\n",
       "      <th></th>\n",
       "      <th>Пол</th>\n",
       "      <th>Возраст</th>\n",
       "      <th>Зарплата</th>\n",
       "      <th>Члены семьи</th>\n",
       "    </tr>\n",
       "  </thead>\n",
       "  <tbody>\n",
       "    <tr>\n",
       "      <td>0</td>\n",
       "      <td>15861.122805</td>\n",
       "      <td>-12464.129521</td>\n",
       "      <td>72592.696557</td>\n",
       "      <td>-102216.361534</td>\n",
       "    </tr>\n",
       "    <tr>\n",
       "      <td>1</td>\n",
       "      <td>12162.971984</td>\n",
       "      <td>-9582.329103</td>\n",
       "      <td>55641.496718</td>\n",
       "      <td>-78321.462370</td>\n",
       "    </tr>\n",
       "    <tr>\n",
       "      <td>2</td>\n",
       "      <td>6724.917838</td>\n",
       "      <td>-5303.522507</td>\n",
       "      <td>30754.866219</td>\n",
       "      <td>-43285.029900</td>\n",
       "    </tr>\n",
       "    <tr>\n",
       "      <td>3</td>\n",
       "      <td>13321.459031</td>\n",
       "      <td>-10447.845079</td>\n",
       "      <td>61008.809561</td>\n",
       "      <td>-85926.052714</td>\n",
       "    </tr>\n",
       "    <tr>\n",
       "      <td>4</td>\n",
       "      <td>8352.776166</td>\n",
       "      <td>-6573.621640</td>\n",
       "      <td>38209.343715</td>\n",
       "      <td>-53792.059280</td>\n",
       "    </tr>\n",
       "  </tbody>\n",
       "</table>\n",
       "</div>"
      ],
      "text/plain": [
       "            Пол       Возраст      Зарплата    Члены семьи\n",
       "0  15861.122805 -12464.129521  72592.696557 -102216.361534\n",
       "1  12162.971984  -9582.329103  55641.496718  -78321.462370\n",
       "2   6724.917838  -5303.522507  30754.866219  -43285.029900\n",
       "3  13321.459031 -10447.845079  61008.809561  -85926.052714\n",
       "4   8352.776166  -6573.621640  38209.343715  -53792.059280"
      ]
     },
     "metadata": {},
     "output_type": "display_data"
    }
   ],
   "source": [
    "features_chahged = features @ p\n",
    "features_chahged.columns = features.columns\n",
    "display(features_chahged.head())"
   ]
  },
  {
   "cell_type": "markdown",
   "metadata": {},
   "source": [
    "Теперь признаки в таблице исходных данных зашифрованы. Проверим, изменится ли качество линейной регрессии. \n",
    "\n",
    "Построим модели для исходных и преобразованных данных:"
   ]
  },
  {
   "cell_type": "code",
   "execution_count": 12,
   "metadata": {},
   "outputs": [
    {
     "name": "stdout",
     "output_type": "stream",
     "text": [
      "R2 модели: 0.425 \n",
      "\n",
      "Предсказания модели: \n",
      " 0       0.511727\n",
      "1       0.684316\n",
      "2       0.093734\n",
      "3      -0.222589\n",
      "4       0.065084\n",
      "          ...   \n",
      "4995    0.028390\n",
      "4996    0.253367\n",
      "4997   -0.256970\n",
      "4998   -0.190992\n",
      "4999    0.049050\n",
      "Length: 5000, dtype: float64 \n",
      "\n",
      "Коэффициенты модели: -0.9382355041527256 [ 7.92580543e-03  3.57083050e-02 -1.70080492e-07 -1.35676623e-02]\n"
     ]
    }
   ],
   "source": [
    "# функция для обучения модели и получения результатов\n",
    "def LR (features, target):\n",
    "    linear = LinearRegression ()\n",
    "    linear.fit(features, target)\n",
    "    predictions = linear.predict(features)\n",
    "    print('R2 модели:', round(r2_score(target, predictions), 3), '\\n')\n",
    "    print('Предсказания модели: \\n', pd.Series(predictions), '\\n')\n",
    "    print('Коэффициенты модели:', linear.intercept_, linear.coef_)\n",
    "\n",
    "# модель на исходных данных\n",
    "LR(features, target)"
   ]
  },
  {
   "cell_type": "code",
   "execution_count": 13,
   "metadata": {
    "scrolled": false
   },
   "outputs": [
    {
     "name": "stdout",
     "output_type": "stream",
     "text": [
      "R2 модели: 0.425 \n",
      "\n",
      "Предсказания модели: \n",
      " 0       0.511727\n",
      "1       0.684316\n",
      "2       0.093734\n",
      "3      -0.222589\n",
      "4       0.065084\n",
      "          ...   \n",
      "4995    0.028390\n",
      "4996    0.253367\n",
      "4997   -0.256970\n",
      "4998   -0.190992\n",
      "4999    0.049050\n",
      "Length: 5000, dtype: float64 \n",
      "\n",
      "Коэффициенты модели: -0.9382355041358567 [0.04432657 0.01894927 0.03689241 0.03075391]\n"
     ]
    }
   ],
   "source": [
    "# модель на зашифрованных данных\n",
    "LR(features_chahged, target)"
   ]
  },
  {
   "cell_type": "markdown",
   "metadata": {},
   "source": [
    "Мы убедились, что качество модели после преобразования не изменилось: идентичны предсказания и коэффициенты $R^2$ двух моделей.\n",
    "Можно также убедиться, что коэффициенты модели на зашифрованных данных можно получить с помощью умножения коэффицентов исходной модели на $ (P)^{-1} $"
   ]
  },
  {
   "cell_type": "code",
   "execution_count": 14,
   "metadata": {},
   "outputs": [
    {
     "data": {
      "text/plain": [
       "array([0.04432657, 0.01894927, 0.03689241, 0.03075391])"
      ]
     },
     "execution_count": 14,
     "metadata": {},
     "output_type": "execute_result"
    }
   ],
   "source": [
    "coef = np.array([7.92580543e-03,  3.57083050e-02, -1.70080492e-07, -1.35676623e-02])\n",
    "np.linalg.inv(p) @ coef"
   ]
  },
  {
   "cell_type": "markdown",
   "metadata": {},
   "source": [
    "## Вывод\n",
    "Перед нами была поставлена задача разработки алгоритма защиты данных клиента, который не ухудшит качество модели линейной регрессии. \n",
    "\n",
    "В качестве алгоритма рекомендуется использовать умножение признаков модели на обратимую матрицу размера n*n, где n - количество предикторов в модели. Алгоритм обоснован математически и проверен на практике.\n",
    "Предсказания модели, а соответственно, и метрики качества (на примере коэффициента детерминации $R^2$) при этом не меняются, а данные клиентов будут защищены. "
   ]
  }
 ],
 "metadata": {
  "ExecuteTimeLog": [
   {
    "duration": 796,
    "start_time": "2021-10-14T09:53:21.386Z"
   },
   {
    "duration": 9,
    "start_time": "2021-10-14T09:53:32.872Z"
   },
   {
    "duration": 466,
    "start_time": "2021-10-14T10:00:37.554Z"
   },
   {
    "duration": 376,
    "start_time": "2021-10-14T10:00:46.408Z"
   },
   {
    "duration": 206,
    "start_time": "2021-10-14T10:01:27.318Z"
   },
   {
    "duration": 386,
    "start_time": "2021-10-14T10:01:32.795Z"
   },
   {
    "duration": 360,
    "start_time": "2021-10-14T10:01:41.385Z"
   },
   {
    "duration": 7,
    "start_time": "2021-10-14T10:02:12.333Z"
   },
   {
    "duration": 3,
    "start_time": "2021-10-14T10:06:08.804Z"
   },
   {
    "duration": 6,
    "start_time": "2021-10-14T10:06:23.034Z"
   },
   {
    "duration": 6,
    "start_time": "2021-10-14T10:06:33.454Z"
   },
   {
    "duration": 6,
    "start_time": "2021-10-14T10:07:19.987Z"
   },
   {
    "duration": 6,
    "start_time": "2021-10-14T10:10:14.652Z"
   },
   {
    "duration": 7,
    "start_time": "2021-10-14T10:11:11.727Z"
   },
   {
    "duration": 467,
    "start_time": "2021-10-14T10:11:24.107Z"
   },
   {
    "duration": 6,
    "start_time": "2021-10-14T10:11:54.009Z"
   },
   {
    "duration": 14,
    "start_time": "2021-10-14T10:11:56.073Z"
   },
   {
    "duration": 5,
    "start_time": "2021-10-14T10:12:14.833Z"
   },
   {
    "duration": 362,
    "start_time": "2021-10-14T10:12:19.477Z"
   },
   {
    "duration": 5,
    "start_time": "2021-10-14T10:12:36.027Z"
   },
   {
    "duration": 6,
    "start_time": "2021-10-14T10:12:51.636Z"
   },
   {
    "duration": 425,
    "start_time": "2021-10-14T10:12:54.701Z"
   },
   {
    "duration": 6,
    "start_time": "2021-10-14T10:13:00.194Z"
   },
   {
    "duration": 396,
    "start_time": "2021-10-14T10:13:02.388Z"
   },
   {
    "duration": 7,
    "start_time": "2021-10-14T10:13:19.528Z"
   },
   {
    "duration": 400,
    "start_time": "2021-10-14T10:13:21.373Z"
   },
   {
    "duration": 6,
    "start_time": "2021-10-14T10:13:31.666Z"
   },
   {
    "duration": 13,
    "start_time": "2021-10-14T10:13:34.078Z"
   },
   {
    "duration": 5,
    "start_time": "2021-10-14T10:15:38.367Z"
   },
   {
    "duration": 14,
    "start_time": "2021-10-14T10:15:40.663Z"
   },
   {
    "duration": 7,
    "start_time": "2021-10-14T10:16:01.229Z"
   },
   {
    "duration": 16,
    "start_time": "2021-10-14T10:16:08.650Z"
   },
   {
    "duration": 619,
    "start_time": "2021-10-14T10:18:10.174Z"
   },
   {
    "duration": 28,
    "start_time": "2021-10-14T10:18:58.959Z"
   },
   {
    "duration": 12,
    "start_time": "2021-10-14T10:19:57.316Z"
   },
   {
    "duration": 12,
    "start_time": "2021-10-14T10:20:02.878Z"
   },
   {
    "duration": 4,
    "start_time": "2021-10-14T10:20:39.495Z"
   },
   {
    "duration": 11,
    "start_time": "2021-10-14T10:20:51.821Z"
   },
   {
    "duration": 11,
    "start_time": "2021-10-14T10:21:16.304Z"
   },
   {
    "duration": 9,
    "start_time": "2021-10-14T10:21:47.005Z"
   },
   {
    "duration": 743,
    "start_time": "2021-10-14T10:22:42.283Z"
   },
   {
    "duration": 13,
    "start_time": "2021-10-14T10:22:47.691Z"
   },
   {
    "duration": 10,
    "start_time": "2021-10-14T10:22:52.301Z"
   },
   {
    "duration": 7,
    "start_time": "2021-10-14T10:23:06.572Z"
   },
   {
    "duration": 12,
    "start_time": "2021-10-14T10:23:09.235Z"
   },
   {
    "duration": 12,
    "start_time": "2021-10-14T10:23:11.988Z"
   },
   {
    "duration": 6,
    "start_time": "2021-10-14T10:23:20.188Z"
   },
   {
    "duration": 410,
    "start_time": "2021-10-14T10:23:22.390Z"
   },
   {
    "duration": 6,
    "start_time": "2021-10-14T10:23:32.879Z"
   },
   {
    "duration": 511,
    "start_time": "2021-10-14T10:23:35.866Z"
   },
   {
    "duration": 1434,
    "start_time": "2021-10-14T10:25:36.171Z"
   },
   {
    "duration": 9,
    "start_time": "2021-10-14T10:25:37.608Z"
   },
   {
    "duration": 14,
    "start_time": "2021-10-14T10:25:37.620Z"
   },
   {
    "duration": 27,
    "start_time": "2021-10-14T10:25:37.637Z"
   },
   {
    "duration": 99,
    "start_time": "2021-10-14T10:25:37.667Z"
   },
   {
    "duration": 20,
    "start_time": "2021-10-14T10:25:37.858Z"
   },
   {
    "duration": 80,
    "start_time": "2021-10-14T10:25:37.880Z"
   },
   {
    "duration": 7,
    "start_time": "2021-10-14T10:25:58.242Z"
   },
   {
    "duration": 215,
    "start_time": "2021-10-14T10:26:00.647Z"
   },
   {
    "duration": 101,
    "start_time": "2021-10-14T10:26:03.565Z"
   },
   {
    "duration": 6,
    "start_time": "2021-10-14T10:27:09.809Z"
   },
   {
    "duration": 94,
    "start_time": "2021-10-14T10:27:14.566Z"
   },
   {
    "duration": 891,
    "start_time": "2021-10-14T10:27:20.794Z"
   },
   {
    "duration": 7,
    "start_time": "2021-10-14T10:27:38.466Z"
   },
   {
    "duration": 77,
    "start_time": "2021-10-14T10:27:40.684Z"
   },
   {
    "duration": 8,
    "start_time": "2021-10-14T10:27:43.820Z"
   },
   {
    "duration": 6,
    "start_time": "2021-10-14T10:27:50.790Z"
   },
   {
    "duration": 13,
    "start_time": "2021-10-14T10:27:52.954Z"
   },
   {
    "duration": 13,
    "start_time": "2021-10-14T10:27:55.996Z"
   },
   {
    "duration": 6,
    "start_time": "2021-10-14T10:28:07.014Z"
   },
   {
    "duration": 14,
    "start_time": "2021-10-14T10:28:09.116Z"
   },
   {
    "duration": 10,
    "start_time": "2021-10-14T10:28:11.326Z"
   },
   {
    "duration": 6,
    "start_time": "2021-10-14T10:28:20.264Z"
   },
   {
    "duration": 17,
    "start_time": "2021-10-14T10:28:21.612Z"
   },
   {
    "duration": 16,
    "start_time": "2021-10-14T10:28:24.325Z"
   },
   {
    "duration": 15,
    "start_time": "2021-10-14T10:29:31.221Z"
   },
   {
    "duration": 13,
    "start_time": "2021-10-14T10:29:33.937Z"
   },
   {
    "duration": 7,
    "start_time": "2021-10-14T10:29:40.451Z"
   },
   {
    "duration": 177,
    "start_time": "2021-10-14T10:29:43.196Z"
   },
   {
    "duration": 39,
    "start_time": "2021-10-14T10:29:45.718Z"
   },
   {
    "duration": 12,
    "start_time": "2021-10-14T10:29:58.891Z"
   },
   {
    "duration": 10,
    "start_time": "2021-10-14T10:30:07.310Z"
   },
   {
    "duration": 137,
    "start_time": "2021-10-14T10:30:10.027Z"
   },
   {
    "duration": 48,
    "start_time": "2021-10-14T10:30:12.810Z"
   },
   {
    "duration": 9,
    "start_time": "2021-10-14T10:30:26.754Z"
   },
   {
    "duration": 221,
    "start_time": "2021-10-14T10:30:29.359Z"
   },
   {
    "duration": 158,
    "start_time": "2021-10-14T10:30:31.802Z"
   },
   {
    "duration": 16,
    "start_time": "2021-10-14T10:31:27.112Z"
   },
   {
    "duration": 155,
    "start_time": "2021-10-14T10:31:33.607Z"
   },
   {
    "duration": 35,
    "start_time": "2021-10-14T10:32:15.123Z"
   },
   {
    "duration": 87,
    "start_time": "2021-10-14T10:32:36.671Z"
   },
   {
    "duration": 38,
    "start_time": "2021-10-14T10:32:52.220Z"
   },
   {
    "duration": 17,
    "start_time": "2021-10-14T10:33:00.233Z"
   },
   {
    "duration": 40,
    "start_time": "2021-10-14T10:33:07.719Z"
   },
   {
    "duration": 17,
    "start_time": "2021-10-14T10:33:19.165Z"
   },
   {
    "duration": 17,
    "start_time": "2021-10-14T10:33:34.446Z"
   },
   {
    "duration": 92,
    "start_time": "2021-10-14T10:33:45.168Z"
   },
   {
    "duration": 7,
    "start_time": "2021-10-14T10:33:54.216Z"
   },
   {
    "duration": 20,
    "start_time": "2021-10-14T10:33:56.686Z"
   },
   {
    "duration": 13,
    "start_time": "2021-10-14T10:33:59.298Z"
   },
   {
    "duration": 7,
    "start_time": "2021-10-14T10:34:10.898Z"
   },
   {
    "duration": 194,
    "start_time": "2021-10-14T10:34:13.575Z"
   },
   {
    "duration": 52,
    "start_time": "2021-10-14T10:34:15.908Z"
   },
   {
    "duration": 13,
    "start_time": "2021-10-14T10:37:28.140Z"
   },
   {
    "duration": 26,
    "start_time": "2021-10-14T10:37:44.947Z"
   },
   {
    "duration": 192,
    "start_time": "2021-10-14T10:37:57.180Z"
   },
   {
    "duration": 28,
    "start_time": "2021-10-14T10:49:40.115Z"
   },
   {
    "duration": 35,
    "start_time": "2021-10-14T10:50:32.326Z"
   },
   {
    "duration": 84,
    "start_time": "2021-10-14T10:50:48.476Z"
   },
   {
    "duration": 124,
    "start_time": "2021-10-14T10:50:57.634Z"
   },
   {
    "duration": 6,
    "start_time": "2021-10-14T10:51:41.445Z"
   },
   {
    "duration": 14,
    "start_time": "2021-10-14T10:51:47.982Z"
   },
   {
    "duration": 22,
    "start_time": "2021-10-14T10:52:20.746Z"
   },
   {
    "duration": 7,
    "start_time": "2021-10-14T10:52:33.364Z"
   },
   {
    "duration": 17,
    "start_time": "2021-10-14T10:52:35.317Z"
   },
   {
    "duration": 24,
    "start_time": "2021-10-14T10:52:38.342Z"
   },
   {
    "duration": 7,
    "start_time": "2021-10-14T10:54:29.451Z"
   },
   {
    "duration": 88,
    "start_time": "2021-10-14T10:54:32.182Z"
   },
   {
    "duration": 13,
    "start_time": "2021-10-14T10:54:34.633Z"
   },
   {
    "duration": 7,
    "start_time": "2021-10-14T10:54:55.195Z"
   },
   {
    "duration": 20,
    "start_time": "2021-10-14T10:54:57.047Z"
   },
   {
    "duration": 22,
    "start_time": "2021-10-14T10:55:00.059Z"
   },
   {
    "duration": 7,
    "start_time": "2021-10-14T10:55:18.179Z"
   },
   {
    "duration": 16,
    "start_time": "2021-10-14T10:55:20.553Z"
   },
   {
    "duration": 97,
    "start_time": "2021-10-14T10:55:22.763Z"
   },
   {
    "duration": 7,
    "start_time": "2021-10-14T10:58:48.593Z"
   },
   {
    "duration": 6,
    "start_time": "2021-10-14T10:58:52.260Z"
   },
   {
    "duration": 6,
    "start_time": "2021-10-14T10:59:04.602Z"
   },
   {
    "duration": 5,
    "start_time": "2021-10-14T10:59:06.589Z"
   },
   {
    "duration": 7,
    "start_time": "2021-10-14T10:59:18.171Z"
   },
   {
    "duration": 16,
    "start_time": "2021-10-14T10:59:21.183Z"
   },
   {
    "duration": 6,
    "start_time": "2021-10-14T10:59:32.525Z"
   },
   {
    "duration": 5,
    "start_time": "2021-10-14T10:59:34.944Z"
   },
   {
    "duration": 6,
    "start_time": "2021-10-14T10:59:42.482Z"
   },
   {
    "duration": 14,
    "start_time": "2021-10-14T10:59:43.192Z"
   },
   {
    "duration": 17,
    "start_time": "2021-10-14T11:02:59.947Z"
   },
   {
    "duration": 6,
    "start_time": "2021-10-14T11:03:41.374Z"
   },
   {
    "duration": 17,
    "start_time": "2021-10-14T11:03:42.868Z"
   },
   {
    "duration": 6,
    "start_time": "2021-10-14T11:05:36.098Z"
   },
   {
    "duration": 1008,
    "start_time": "2021-10-14T11:05:50.917Z"
   },
   {
    "duration": 440,
    "start_time": "2021-10-14T11:06:39.930Z"
   },
   {
    "duration": 6,
    "start_time": "2021-10-14T11:06:43.020Z"
   },
   {
    "duration": 16,
    "start_time": "2021-10-14T11:06:56.971Z"
   },
   {
    "duration": 6,
    "start_time": "2021-10-14T11:07:07.198Z"
   },
   {
    "duration": 6,
    "start_time": "2021-10-14T11:07:41.182Z"
   },
   {
    "duration": 15,
    "start_time": "2021-10-14T11:07:42.808Z"
   },
   {
    "duration": 24,
    "start_time": "2021-10-14T11:08:17.248Z"
   },
   {
    "duration": 96,
    "start_time": "2021-10-14T11:10:43.563Z"
   },
   {
    "duration": 29,
    "start_time": "2021-10-14T11:12:31.524Z"
   },
   {
    "duration": 9,
    "start_time": "2021-10-14T11:12:31.556Z"
   },
   {
    "duration": 15,
    "start_time": "2021-10-14T11:12:31.568Z"
   },
   {
    "duration": 9,
    "start_time": "2021-10-14T11:12:31.586Z"
   },
   {
    "duration": 26,
    "start_time": "2021-10-14T11:12:31.597Z"
   },
   {
    "duration": 36,
    "start_time": "2021-10-14T11:12:31.625Z"
   },
   {
    "duration": 201,
    "start_time": "2021-10-14T11:12:31.666Z"
   },
   {
    "duration": 126,
    "start_time": "2021-10-14T11:14:17.914Z"
   },
   {
    "duration": 431,
    "start_time": "2021-10-14T11:14:32.999Z"
   },
   {
    "duration": 389,
    "start_time": "2021-10-14T11:14:41.175Z"
   },
   {
    "duration": 131,
    "start_time": "2021-10-14T11:14:53.013Z"
   },
   {
    "duration": 4,
    "start_time": "2021-10-14T11:16:03.437Z"
   },
   {
    "duration": 7,
    "start_time": "2021-10-14T11:16:08.675Z"
   },
   {
    "duration": 6,
    "start_time": "2021-10-14T11:16:20.166Z"
   },
   {
    "duration": 7,
    "start_time": "2021-10-14T11:16:37.745Z"
   },
   {
    "duration": 9,
    "start_time": "2021-10-14T11:18:26.728Z"
   },
   {
    "duration": 8,
    "start_time": "2021-10-14T11:20:42.036Z"
   },
   {
    "duration": 30,
    "start_time": "2021-10-14T11:23:26.501Z"
   },
   {
    "duration": 8,
    "start_time": "2021-10-14T11:23:26.533Z"
   },
   {
    "duration": 7,
    "start_time": "2021-10-14T11:23:26.544Z"
   },
   {
    "duration": 7,
    "start_time": "2021-10-14T11:23:26.561Z"
   },
   {
    "duration": 12,
    "start_time": "2021-10-14T11:23:26.570Z"
   },
   {
    "duration": 85,
    "start_time": "2021-10-14T11:23:26.585Z"
   },
   {
    "duration": 190,
    "start_time": "2021-10-14T11:23:26.674Z"
   },
   {
    "duration": 100,
    "start_time": "2021-10-14T11:23:26.867Z"
   },
   {
    "duration": 10,
    "start_time": "2021-10-14T11:23:27.058Z"
   },
   {
    "duration": 7,
    "start_time": "2021-10-14T11:23:46.349Z"
   },
   {
    "duration": 7,
    "start_time": "2021-10-14T11:23:48.265Z"
   },
   {
    "duration": 16,
    "start_time": "2021-10-14T11:23:51.442Z"
   },
   {
    "duration": 18,
    "start_time": "2021-10-14T11:23:56.012Z"
   },
   {
    "duration": 15,
    "start_time": "2021-10-14T11:24:01.126Z"
   },
   {
    "duration": 8,
    "start_time": "2021-10-14T11:24:06.909Z"
   },
   {
    "duration": 7,
    "start_time": "2021-10-14T11:28:28.446Z"
   },
   {
    "duration": 8,
    "start_time": "2021-10-14T11:30:06.064Z"
   },
   {
    "duration": 7,
    "start_time": "2021-10-14T11:32:43.204Z"
   },
   {
    "duration": 8,
    "start_time": "2021-10-14T11:32:47.899Z"
   },
   {
    "duration": 6,
    "start_time": "2021-10-14T11:33:04.715Z"
   },
   {
    "duration": 8,
    "start_time": "2021-10-14T11:33:06.935Z"
   },
   {
    "duration": 6,
    "start_time": "2021-10-14T11:33:17.569Z"
   },
   {
    "duration": 7,
    "start_time": "2021-10-14T11:33:20.347Z"
   },
   {
    "duration": 8,
    "start_time": "2021-10-14T11:33:45.251Z"
   },
   {
    "duration": 6,
    "start_time": "2021-10-14T11:34:28.049Z"
   },
   {
    "duration": 6,
    "start_time": "2021-10-14T11:35:42.658Z"
   },
   {
    "duration": 6,
    "start_time": "2021-10-14T11:35:47.290Z"
   },
   {
    "duration": 6,
    "start_time": "2021-10-14T11:35:50.270Z"
   },
   {
    "duration": 6,
    "start_time": "2021-10-14T11:36:01.254Z"
   },
   {
    "duration": 129,
    "start_time": "2021-10-14T11:36:30.776Z"
   },
   {
    "duration": 139,
    "start_time": "2021-10-14T11:36:43.869Z"
   },
   {
    "duration": 7,
    "start_time": "2021-10-14T11:36:56.667Z"
   },
   {
    "duration": 30,
    "start_time": "2021-10-14T11:37:03.355Z"
   },
   {
    "duration": 9,
    "start_time": "2021-10-14T11:37:03.387Z"
   },
   {
    "duration": 8,
    "start_time": "2021-10-14T11:37:03.398Z"
   },
   {
    "duration": 12,
    "start_time": "2021-10-14T11:37:03.408Z"
   },
   {
    "duration": 6,
    "start_time": "2021-10-14T11:37:03.422Z"
   },
   {
    "duration": 126,
    "start_time": "2021-10-14T11:37:03.431Z"
   },
   {
    "duration": 107,
    "start_time": "2021-10-14T11:37:03.561Z"
   },
   {
    "duration": 99,
    "start_time": "2021-10-14T11:37:03.761Z"
   },
   {
    "duration": 654,
    "start_time": "2021-10-14T11:37:32.061Z"
   },
   {
    "duration": 391,
    "start_time": "2021-10-14T11:37:49.349Z"
   },
   {
    "duration": 1395,
    "start_time": "2021-10-14T11:38:00.917Z"
   },
   {
    "duration": 8,
    "start_time": "2021-10-14T11:38:02.315Z"
   },
   {
    "duration": 29,
    "start_time": "2021-10-14T11:38:02.326Z"
   },
   {
    "duration": 16,
    "start_time": "2021-10-14T11:38:02.357Z"
   },
   {
    "duration": 523,
    "start_time": "2021-10-14T11:38:02.375Z"
   },
   {
    "duration": -108,
    "start_time": "2021-10-14T11:38:03.009Z"
   },
   {
    "duration": -111,
    "start_time": "2021-10-14T11:38:03.014Z"
   },
   {
    "duration": -115,
    "start_time": "2021-10-14T11:38:03.019Z"
   },
   {
    "duration": 13,
    "start_time": "2021-10-14T11:38:23.145Z"
   },
   {
    "duration": 14,
    "start_time": "2021-10-14T11:38:39.921Z"
   },
   {
    "duration": 7,
    "start_time": "2021-10-14T11:39:22.220Z"
   },
   {
    "duration": 17,
    "start_time": "2021-10-14T11:39:28.494Z"
   },
   {
    "duration": 88,
    "start_time": "2021-10-14T11:39:31.770Z"
   },
   {
    "duration": 8,
    "start_time": "2021-10-14T12:05:57.505Z"
   },
   {
    "duration": 21,
    "start_time": "2021-10-14T12:07:24.200Z"
   },
   {
    "duration": 8,
    "start_time": "2021-10-14T12:08:31.036Z"
   },
   {
    "duration": 8,
    "start_time": "2021-10-14T12:09:08.780Z"
   },
   {
    "duration": 14,
    "start_time": "2021-10-14T12:09:15.193Z"
   },
   {
    "duration": 136,
    "start_time": "2021-10-14T12:09:31.783Z"
   },
   {
    "duration": 376,
    "start_time": "2021-10-14T12:10:02.001Z"
   },
   {
    "duration": 7,
    "start_time": "2021-10-14T12:10:35.372Z"
   },
   {
    "duration": 16,
    "start_time": "2021-10-14T12:10:38.441Z"
   },
   {
    "duration": 392,
    "start_time": "2021-10-14T12:10:39.141Z"
   },
   {
    "duration": 10,
    "start_time": "2021-10-14T12:10:57.711Z"
   },
   {
    "duration": 8,
    "start_time": "2021-10-14T12:11:03.478Z"
   },
   {
    "duration": 9,
    "start_time": "2021-10-14T12:11:36.426Z"
   },
   {
    "duration": 8,
    "start_time": "2021-10-14T12:12:31.086Z"
   },
   {
    "duration": 7,
    "start_time": "2021-10-14T12:12:54.775Z"
   },
   {
    "duration": 152,
    "start_time": "2021-10-14T12:13:15.603Z"
   },
   {
    "duration": 8,
    "start_time": "2021-10-14T12:13:21.660Z"
   },
   {
    "duration": 7,
    "start_time": "2021-10-14T12:13:33.713Z"
   },
   {
    "duration": 7,
    "start_time": "2021-10-14T12:13:43.671Z"
   },
   {
    "duration": 7,
    "start_time": "2021-10-14T12:14:08.552Z"
   },
   {
    "duration": 63,
    "start_time": "2021-10-14T12:25:59.095Z"
   },
   {
    "duration": 14,
    "start_time": "2021-10-14T12:26:20.156Z"
   },
   {
    "duration": 82,
    "start_time": "2021-10-14T12:26:54.778Z"
   },
   {
    "duration": 7,
    "start_time": "2021-10-14T12:27:04.675Z"
   },
   {
    "duration": 8,
    "start_time": "2021-10-14T12:27:42.041Z"
   },
   {
    "duration": 13,
    "start_time": "2021-10-14T12:28:17.309Z"
   },
   {
    "duration": 6,
    "start_time": "2021-10-14T12:28:22.469Z"
   },
   {
    "duration": 12,
    "start_time": "2021-10-14T16:20:11.266Z"
   },
   {
    "duration": 130,
    "start_time": "2021-10-14T16:20:17.050Z"
   },
   {
    "duration": 17,
    "start_time": "2021-10-14T16:20:24.860Z"
   },
   {
    "duration": 10,
    "start_time": "2021-10-14T16:20:46.194Z"
   },
   {
    "duration": 15,
    "start_time": "2021-10-14T16:23:28.670Z"
   },
   {
    "duration": 13,
    "start_time": "2021-10-14T16:23:30.132Z"
   },
   {
    "duration": 40,
    "start_time": "2021-10-14T16:24:26.918Z"
   },
   {
    "duration": 13,
    "start_time": "2021-10-14T16:24:36.038Z"
   },
   {
    "duration": 19,
    "start_time": "2021-10-14T16:24:55.332Z"
   },
   {
    "duration": 17,
    "start_time": "2021-10-14T16:25:19.763Z"
   },
   {
    "duration": 9,
    "start_time": "2021-10-14T16:25:33.295Z"
   },
   {
    "duration": 9,
    "start_time": "2021-10-14T16:25:56.449Z"
   },
   {
    "duration": 7,
    "start_time": "2021-10-14T16:26:21.282Z"
   },
   {
    "duration": 17,
    "start_time": "2021-10-14T16:44:34.964Z"
   },
   {
    "duration": 1370,
    "start_time": "2021-10-14T16:46:17.936Z"
   },
   {
    "duration": 10,
    "start_time": "2021-10-14T16:46:19.309Z"
   },
   {
    "duration": 6,
    "start_time": "2021-10-14T16:46:19.322Z"
   },
   {
    "duration": 30,
    "start_time": "2021-10-14T16:46:19.331Z"
   },
   {
    "duration": 97,
    "start_time": "2021-10-14T16:46:19.363Z"
   },
   {
    "duration": 96,
    "start_time": "2021-10-14T16:46:19.464Z"
   },
   {
    "duration": 96,
    "start_time": "2021-10-14T16:46:19.563Z"
   },
   {
    "duration": 98,
    "start_time": "2021-10-14T16:46:19.668Z"
   },
   {
    "duration": 188,
    "start_time": "2021-10-14T16:46:19.770Z"
   },
   {
    "duration": 14,
    "start_time": "2021-10-14T16:46:19.961Z"
   },
   {
    "duration": 83,
    "start_time": "2021-10-14T16:46:19.977Z"
   },
   {
    "duration": 107,
    "start_time": "2021-10-14T16:46:20.064Z"
   },
   {
    "duration": 102,
    "start_time": "2021-10-14T16:46:20.260Z"
   },
   {
    "duration": 322,
    "start_time": "2021-10-15T04:17:29.481Z"
   },
   {
    "duration": 1275,
    "start_time": "2021-10-15T04:17:35.431Z"
   },
   {
    "duration": 8,
    "start_time": "2021-10-15T04:17:36.709Z"
   },
   {
    "duration": 8,
    "start_time": "2021-10-15T04:17:36.720Z"
   },
   {
    "duration": 58,
    "start_time": "2021-10-15T04:17:36.731Z"
   },
   {
    "duration": 101,
    "start_time": "2021-10-15T04:17:36.792Z"
   },
   {
    "duration": 94,
    "start_time": "2021-10-15T04:17:36.897Z"
   },
   {
    "duration": 11,
    "start_time": "2021-10-15T04:17:37.085Z"
   },
   {
    "duration": 99,
    "start_time": "2021-10-15T04:17:37.185Z"
   },
   {
    "duration": 1223,
    "start_time": "2021-10-15T04:17:37.287Z"
   },
   {
    "duration": 1461,
    "start_time": "2021-10-15T04:17:37.052Z"
   },
   {
    "duration": 1460,
    "start_time": "2021-10-15T04:17:37.055Z"
   },
   {
    "duration": 1459,
    "start_time": "2021-10-15T04:17:37.059Z"
   },
   {
    "duration": 1458,
    "start_time": "2021-10-15T04:17:37.062Z"
   },
   {
    "duration": 7,
    "start_time": "2021-10-15T04:18:41.090Z"
   },
   {
    "duration": 7,
    "start_time": "2021-10-15T04:18:43.906Z"
   },
   {
    "duration": 12,
    "start_time": "2021-10-15T04:19:34.179Z"
   },
   {
    "duration": 284,
    "start_time": "2021-10-15T04:20:27.973Z"
   },
   {
    "duration": 1088,
    "start_time": "2021-10-15T04:20:44.779Z"
   },
   {
    "duration": 4,
    "start_time": "2021-10-15T04:22:25.102Z"
   },
   {
    "duration": 4,
    "start_time": "2021-10-15T04:22:29.919Z"
   },
   {
    "duration": 261,
    "start_time": "2021-10-15T04:23:23.625Z"
   },
   {
    "duration": 6,
    "start_time": "2021-10-15T04:23:37.813Z"
   },
   {
    "duration": 5,
    "start_time": "2021-10-15T04:24:30.926Z"
   },
   {
    "duration": 11,
    "start_time": "2021-10-15T04:57:14.297Z"
   },
   {
    "duration": 1330,
    "start_time": "2021-10-15T05:00:28.685Z"
   },
   {
    "duration": 9,
    "start_time": "2021-10-15T05:00:30.018Z"
   },
   {
    "duration": 10,
    "start_time": "2021-10-15T05:00:30.031Z"
   },
   {
    "duration": 42,
    "start_time": "2021-10-15T05:00:30.045Z"
   },
   {
    "duration": 193,
    "start_time": "2021-10-15T05:00:30.090Z"
   },
   {
    "duration": 101,
    "start_time": "2021-10-15T05:00:30.287Z"
   },
   {
    "duration": 97,
    "start_time": "2021-10-15T05:00:30.391Z"
   },
   {
    "duration": 97,
    "start_time": "2021-10-15T05:00:30.493Z"
   },
   {
    "duration": 101,
    "start_time": "2021-10-15T05:00:30.593Z"
   },
   {
    "duration": 20,
    "start_time": "2021-10-15T05:00:30.697Z"
   },
   {
    "duration": 76,
    "start_time": "2021-10-15T05:00:30.720Z"
   },
   {
    "duration": 185,
    "start_time": "2021-10-15T05:00:30.800Z"
   },
   {
    "duration": 107,
    "start_time": "2021-10-15T05:00:30.988Z"
   },
   {
    "duration": 189,
    "start_time": "2021-10-15T05:00:31.098Z"
   },
   {
    "duration": 1278,
    "start_time": "2021-10-15T05:03:37.525Z"
   },
   {
    "duration": 9,
    "start_time": "2021-10-15T05:03:38.805Z"
   },
   {
    "duration": 8,
    "start_time": "2021-10-15T05:03:38.817Z"
   },
   {
    "duration": 62,
    "start_time": "2021-10-15T05:03:38.828Z"
   },
   {
    "duration": 10,
    "start_time": "2021-10-15T05:03:38.982Z"
   },
   {
    "duration": 91,
    "start_time": "2021-10-15T05:03:38.996Z"
   },
   {
    "duration": 99,
    "start_time": "2021-10-15T05:03:39.092Z"
   },
   {
    "duration": 97,
    "start_time": "2021-10-15T05:03:39.195Z"
   },
   {
    "duration": 98,
    "start_time": "2021-10-15T05:03:39.386Z"
   },
   {
    "duration": 5,
    "start_time": "2021-10-15T05:03:39.487Z"
   },
   {
    "duration": 90,
    "start_time": "2021-10-15T05:03:39.495Z"
   },
   {
    "duration": 99,
    "start_time": "2021-10-15T05:03:39.588Z"
   },
   {
    "duration": 97,
    "start_time": "2021-10-15T05:03:39.689Z"
   },
   {
    "duration": 96,
    "start_time": "2021-10-15T05:03:39.789Z"
   },
   {
    "duration": 1554,
    "start_time": "2021-10-15T11:37:39.631Z"
   },
   {
    "duration": 10,
    "start_time": "2021-10-15T11:37:41.188Z"
   },
   {
    "duration": 8,
    "start_time": "2021-10-15T11:37:41.201Z"
   },
   {
    "duration": 57,
    "start_time": "2021-10-15T11:37:41.212Z"
   },
   {
    "duration": 107,
    "start_time": "2021-10-15T11:37:41.273Z"
   },
   {
    "duration": 84,
    "start_time": "2021-10-15T11:37:41.384Z"
   },
   {
    "duration": 91,
    "start_time": "2021-10-15T11:37:41.471Z"
   },
   {
    "duration": 104,
    "start_time": "2021-10-15T11:37:41.565Z"
   },
   {
    "duration": 8,
    "start_time": "2021-10-15T11:37:41.671Z"
   },
   {
    "duration": 96,
    "start_time": "2021-10-15T11:37:41.682Z"
   },
   {
    "duration": 95,
    "start_time": "2021-10-15T11:37:41.782Z"
   },
   {
    "duration": 183,
    "start_time": "2021-10-15T11:37:41.880Z"
   },
   {
    "duration": 107,
    "start_time": "2021-10-15T11:37:42.066Z"
   },
   {
    "duration": 94,
    "start_time": "2021-10-15T11:37:42.177Z"
   }
  ],
  "kernelspec": {
   "display_name": "Python 3",
   "language": "python",
   "name": "python3"
  },
  "language_info": {
   "codemirror_mode": {
    "name": "ipython",
    "version": 3
   },
   "file_extension": ".py",
   "mimetype": "text/x-python",
   "name": "python",
   "nbconvert_exporter": "python",
   "pygments_lexer": "ipython3",
   "version": "3.8.2"
  },
  "toc": {
   "base_numbering": 1,
   "nav_menu": {},
   "number_sections": true,
   "sideBar": true,
   "skip_h1_title": true,
   "title_cell": "Содержание",
   "title_sidebar": "Contents",
   "toc_cell": true,
   "toc_position": {},
   "toc_section_display": true,
   "toc_window_display": false
  }
 },
 "nbformat": 4,
 "nbformat_minor": 2
}
