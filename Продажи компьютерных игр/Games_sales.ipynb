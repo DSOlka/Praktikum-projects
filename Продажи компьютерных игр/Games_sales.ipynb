{
 "cells": [
  {
   "cell_type": "markdown",
   "metadata": {},
   "source": [
    "# Исследование продаж компьютерных игр"
   ]
  },
  {
   "cell_type": "markdown",
   "metadata": {},
   "source": [
    "**Цель проекта**: \n",
    "анализ факторов, влияющих на уровень продажи игры, выявление наиболее популярных жанров и платформ для дальнейшего планирования рекламных кампаний. \n",
    "\n",
    "В нашем распоряжении следующие данные о продажах компьютерных игр за 2016 год:\n",
    "-\tName — название игры\n",
    "-\tPlatform — платформа\n",
    "-\tYear_of_Release — год выпуска\n",
    "-\tGenre — жанр игры\n",
    "-\tNA_sales — продажи в Северной Америке (миллионы проданных копий)\n",
    "-\tEU_sales — продажи в Европе (миллионы проданных копий)\n",
    "-\tJP_sales — продажи в Японии (миллионы проданных копий)\n",
    "-\tOther_sales — продажи в других странах (миллионы проданных копий)\n",
    "-\tCritic_Score — оценка критиков (максимум 100)\n",
    "-\tUser_Score — оценка пользователей (максимум 10)\n",
    "-\tRating — рейтинг от организации ESRB.\n",
    "\n",
    "\n",
    "**Основные этапы проекта**:\n",
    "- Изучение предоставленных данных\n",
    "- Очистка и предобработка данных\n",
    "- Предварительные расчёты: суммарные продажи во всех регионах\n",
    "- Анализ данных:\n",
    "    - анализ объемов продаж по годам\n",
    "    - анализ жизненного цикла игровых платформ\n",
    "    - выявление наиболее популярных и перспективных игровых платформ\n",
    "    - анализ взаимосвязи между объемом продаж и оценками критиков и пользователей\n",
    "    - анализ продаж в разрезе жанров\n",
    "    - анализ региональных продаж в разрезе платформ и жанров, оценка взаимосвязи продаж с рейтингом ESRB\n",
    "    - проверка гипотез\n",
    "- Общий вывод и рекомендации"
   ]
  },
  {
   "cell_type": "markdown",
   "metadata": {},
   "source": [
    "## Изучение данных"
   ]
  },
  {
   "cell_type": "code",
   "execution_count": 1,
   "metadata": {},
   "outputs": [
    {
     "name": "stdout",
     "output_type": "stream",
     "text": [
      "<class 'pandas.core.frame.DataFrame'>\n",
      "RangeIndex: 16715 entries, 0 to 16714\n",
      "Data columns (total 11 columns):\n",
      " #   Column           Non-Null Count  Dtype  \n",
      "---  ------           --------------  -----  \n",
      " 0   Name             16713 non-null  object \n",
      " 1   Platform         16715 non-null  object \n",
      " 2   Year_of_Release  16446 non-null  float64\n",
      " 3   Genre            16713 non-null  object \n",
      " 4   NA_sales         16715 non-null  float64\n",
      " 5   EU_sales         16715 non-null  float64\n",
      " 6   JP_sales         16715 non-null  float64\n",
      " 7   Other_sales      16715 non-null  float64\n",
      " 8   Critic_Score     8137 non-null   float64\n",
      " 9   User_Score       10014 non-null  object \n",
      " 10  Rating           9949 non-null   object \n",
      "dtypes: float64(6), object(5)\n",
      "memory usage: 1.4+ MB\n",
      "None\n"
     ]
    },
    {
     "data": {
      "text/html": [
       "<div>\n",
       "<style scoped>\n",
       "    .dataframe tbody tr th:only-of-type {\n",
       "        vertical-align: middle;\n",
       "    }\n",
       "\n",
       "    .dataframe tbody tr th {\n",
       "        vertical-align: top;\n",
       "    }\n",
       "\n",
       "    .dataframe thead th {\n",
       "        text-align: right;\n",
       "    }\n",
       "</style>\n",
       "<table border=\"1\" class=\"dataframe\">\n",
       "  <thead>\n",
       "    <tr style=\"text-align: right;\">\n",
       "      <th></th>\n",
       "      <th>Name</th>\n",
       "      <th>Platform</th>\n",
       "      <th>Year_of_Release</th>\n",
       "      <th>Genre</th>\n",
       "      <th>NA_sales</th>\n",
       "      <th>EU_sales</th>\n",
       "      <th>JP_sales</th>\n",
       "      <th>Other_sales</th>\n",
       "      <th>Critic_Score</th>\n",
       "      <th>User_Score</th>\n",
       "      <th>Rating</th>\n",
       "    </tr>\n",
       "  </thead>\n",
       "  <tbody>\n",
       "    <tr>\n",
       "      <th>0</th>\n",
       "      <td>Wii Sports</td>\n",
       "      <td>Wii</td>\n",
       "      <td>2006.0</td>\n",
       "      <td>Sports</td>\n",
       "      <td>41.36</td>\n",
       "      <td>28.96</td>\n",
       "      <td>3.77</td>\n",
       "      <td>8.45</td>\n",
       "      <td>76.0</td>\n",
       "      <td>8</td>\n",
       "      <td>E</td>\n",
       "    </tr>\n",
       "    <tr>\n",
       "      <th>1</th>\n",
       "      <td>Super Mario Bros.</td>\n",
       "      <td>NES</td>\n",
       "      <td>1985.0</td>\n",
       "      <td>Platform</td>\n",
       "      <td>29.08</td>\n",
       "      <td>3.58</td>\n",
       "      <td>6.81</td>\n",
       "      <td>0.77</td>\n",
       "      <td>NaN</td>\n",
       "      <td>NaN</td>\n",
       "      <td>NaN</td>\n",
       "    </tr>\n",
       "    <tr>\n",
       "      <th>2</th>\n",
       "      <td>Mario Kart Wii</td>\n",
       "      <td>Wii</td>\n",
       "      <td>2008.0</td>\n",
       "      <td>Racing</td>\n",
       "      <td>15.68</td>\n",
       "      <td>12.76</td>\n",
       "      <td>3.79</td>\n",
       "      <td>3.29</td>\n",
       "      <td>82.0</td>\n",
       "      <td>8.3</td>\n",
       "      <td>E</td>\n",
       "    </tr>\n",
       "    <tr>\n",
       "      <th>3</th>\n",
       "      <td>Wii Sports Resort</td>\n",
       "      <td>Wii</td>\n",
       "      <td>2009.0</td>\n",
       "      <td>Sports</td>\n",
       "      <td>15.61</td>\n",
       "      <td>10.93</td>\n",
       "      <td>3.28</td>\n",
       "      <td>2.95</td>\n",
       "      <td>80.0</td>\n",
       "      <td>8</td>\n",
       "      <td>E</td>\n",
       "    </tr>\n",
       "    <tr>\n",
       "      <th>4</th>\n",
       "      <td>Pokemon Red/Pokemon Blue</td>\n",
       "      <td>GB</td>\n",
       "      <td>1996.0</td>\n",
       "      <td>Role-Playing</td>\n",
       "      <td>11.27</td>\n",
       "      <td>8.89</td>\n",
       "      <td>10.22</td>\n",
       "      <td>1.00</td>\n",
       "      <td>NaN</td>\n",
       "      <td>NaN</td>\n",
       "      <td>NaN</td>\n",
       "    </tr>\n",
       "  </tbody>\n",
       "</table>\n",
       "</div>"
      ],
      "text/plain": [
       "                       Name Platform  Year_of_Release         Genre  NA_sales  \\\n",
       "0                Wii Sports      Wii           2006.0        Sports     41.36   \n",
       "1         Super Mario Bros.      NES           1985.0      Platform     29.08   \n",
       "2            Mario Kart Wii      Wii           2008.0        Racing     15.68   \n",
       "3         Wii Sports Resort      Wii           2009.0        Sports     15.61   \n",
       "4  Pokemon Red/Pokemon Blue       GB           1996.0  Role-Playing     11.27   \n",
       "\n",
       "   EU_sales  JP_sales  Other_sales  Critic_Score User_Score Rating  \n",
       "0     28.96      3.77         8.45          76.0          8      E  \n",
       "1      3.58      6.81         0.77           NaN        NaN    NaN  \n",
       "2     12.76      3.79         3.29          82.0        8.3      E  \n",
       "3     10.93      3.28         2.95          80.0          8      E  \n",
       "4      8.89     10.22         1.00           NaN        NaN    NaN  "
      ]
     },
     "execution_count": 1,
     "metadata": {},
     "output_type": "execute_result"
    }
   ],
   "source": [
    "import pandas as pd\n",
    "import matplotlib.pyplot as plt\n",
    "import seaborn as sns\n",
    "from scipy import stats as st\n",
    "import numpy as np\n",
    "\n",
    "games = pd.read_csv('/games.csv')\n",
    "print(games.info())\n",
    "games.head()"
   ]
  },
  {
   "cell_type": "markdown",
   "metadata": {},
   "source": [
    "### Вывод\n",
    "В предоставленной таблице 16 715 строк. С первого взгляда обнаруживаются следующие проблемы: пропуски в столбцах с названием платформы, годом релиза, жанром, оценками от критиков и пользователей, рейтингом от организации ESRB. Помимо этого, необходимо привести к целочисленному типу столбцы с годом релиза и оценкой критиков, а столбец с оценкой пользователей - к типу float. "
   ]
  },
  {
   "cell_type": "markdown",
   "metadata": {},
   "source": [
    "## Предобработка данных\n",
    "\n",
    "Сперва приведём к нижнему регистру названия столбцов:"
   ]
  },
  {
   "cell_type": "code",
   "execution_count": 2,
   "metadata": {},
   "outputs": [
    {
     "data": {
      "text/html": [
       "<div>\n",
       "<style scoped>\n",
       "    .dataframe tbody tr th:only-of-type {\n",
       "        vertical-align: middle;\n",
       "    }\n",
       "\n",
       "    .dataframe tbody tr th {\n",
       "        vertical-align: top;\n",
       "    }\n",
       "\n",
       "    .dataframe thead th {\n",
       "        text-align: right;\n",
       "    }\n",
       "</style>\n",
       "<table border=\"1\" class=\"dataframe\">\n",
       "  <thead>\n",
       "    <tr style=\"text-align: right;\">\n",
       "      <th></th>\n",
       "      <th>name</th>\n",
       "      <th>platform</th>\n",
       "      <th>year_of_release</th>\n",
       "      <th>genre</th>\n",
       "      <th>na_sales</th>\n",
       "      <th>eu_sales</th>\n",
       "      <th>jp_sales</th>\n",
       "      <th>other_sales</th>\n",
       "      <th>critic_score</th>\n",
       "      <th>user_score</th>\n",
       "      <th>rating</th>\n",
       "    </tr>\n",
       "  </thead>\n",
       "  <tbody>\n",
       "    <tr>\n",
       "      <th>0</th>\n",
       "      <td>Wii Sports</td>\n",
       "      <td>Wii</td>\n",
       "      <td>2006.0</td>\n",
       "      <td>Sports</td>\n",
       "      <td>41.36</td>\n",
       "      <td>28.96</td>\n",
       "      <td>3.77</td>\n",
       "      <td>8.45</td>\n",
       "      <td>76.0</td>\n",
       "      <td>8</td>\n",
       "      <td>E</td>\n",
       "    </tr>\n",
       "    <tr>\n",
       "      <th>1</th>\n",
       "      <td>Super Mario Bros.</td>\n",
       "      <td>NES</td>\n",
       "      <td>1985.0</td>\n",
       "      <td>Platform</td>\n",
       "      <td>29.08</td>\n",
       "      <td>3.58</td>\n",
       "      <td>6.81</td>\n",
       "      <td>0.77</td>\n",
       "      <td>NaN</td>\n",
       "      <td>NaN</td>\n",
       "      <td>NaN</td>\n",
       "    </tr>\n",
       "    <tr>\n",
       "      <th>2</th>\n",
       "      <td>Mario Kart Wii</td>\n",
       "      <td>Wii</td>\n",
       "      <td>2008.0</td>\n",
       "      <td>Racing</td>\n",
       "      <td>15.68</td>\n",
       "      <td>12.76</td>\n",
       "      <td>3.79</td>\n",
       "      <td>3.29</td>\n",
       "      <td>82.0</td>\n",
       "      <td>8.3</td>\n",
       "      <td>E</td>\n",
       "    </tr>\n",
       "  </tbody>\n",
       "</table>\n",
       "</div>"
      ],
      "text/plain": [
       "                name platform  year_of_release     genre  na_sales  eu_sales  \\\n",
       "0         Wii Sports      Wii           2006.0    Sports     41.36     28.96   \n",
       "1  Super Mario Bros.      NES           1985.0  Platform     29.08      3.58   \n",
       "2     Mario Kart Wii      Wii           2008.0    Racing     15.68     12.76   \n",
       "\n",
       "   jp_sales  other_sales  critic_score user_score rating  \n",
       "0      3.77         8.45          76.0          8      E  \n",
       "1      6.81         0.77           NaN        NaN    NaN  \n",
       "2      3.79         3.29          82.0        8.3      E  "
      ]
     },
     "execution_count": 2,
     "metadata": {},
     "output_type": "execute_result"
    }
   ],
   "source": [
    "games.columns = games.columns.str.lower()\n",
    "games.head(3)"
   ]
  },
  {
   "cell_type": "markdown",
   "metadata": {},
   "source": [
    "Теперь рассмотрим подробнее столбец с **названием игры**. В этом столбце есть 2 пропуска, посмотрим на эти строки:"
   ]
  },
  {
   "cell_type": "code",
   "execution_count": 3,
   "metadata": {},
   "outputs": [
    {
     "data": {
      "text/html": [
       "<div>\n",
       "<style scoped>\n",
       "    .dataframe tbody tr th:only-of-type {\n",
       "        vertical-align: middle;\n",
       "    }\n",
       "\n",
       "    .dataframe tbody tr th {\n",
       "        vertical-align: top;\n",
       "    }\n",
       "\n",
       "    .dataframe thead th {\n",
       "        text-align: right;\n",
       "    }\n",
       "</style>\n",
       "<table border=\"1\" class=\"dataframe\">\n",
       "  <thead>\n",
       "    <tr style=\"text-align: right;\">\n",
       "      <th></th>\n",
       "      <th>name</th>\n",
       "      <th>platform</th>\n",
       "      <th>year_of_release</th>\n",
       "      <th>genre</th>\n",
       "      <th>na_sales</th>\n",
       "      <th>eu_sales</th>\n",
       "      <th>jp_sales</th>\n",
       "      <th>other_sales</th>\n",
       "      <th>critic_score</th>\n",
       "      <th>user_score</th>\n",
       "      <th>rating</th>\n",
       "    </tr>\n",
       "  </thead>\n",
       "  <tbody>\n",
       "    <tr>\n",
       "      <th>659</th>\n",
       "      <td>NaN</td>\n",
       "      <td>GEN</td>\n",
       "      <td>1993.0</td>\n",
       "      <td>NaN</td>\n",
       "      <td>1.78</td>\n",
       "      <td>0.53</td>\n",
       "      <td>0.00</td>\n",
       "      <td>0.08</td>\n",
       "      <td>NaN</td>\n",
       "      <td>NaN</td>\n",
       "      <td>NaN</td>\n",
       "    </tr>\n",
       "    <tr>\n",
       "      <th>14244</th>\n",
       "      <td>NaN</td>\n",
       "      <td>GEN</td>\n",
       "      <td>1993.0</td>\n",
       "      <td>NaN</td>\n",
       "      <td>0.00</td>\n",
       "      <td>0.00</td>\n",
       "      <td>0.03</td>\n",
       "      <td>0.00</td>\n",
       "      <td>NaN</td>\n",
       "      <td>NaN</td>\n",
       "      <td>NaN</td>\n",
       "    </tr>\n",
       "  </tbody>\n",
       "</table>\n",
       "</div>"
      ],
      "text/plain": [
       "      name platform  year_of_release genre  na_sales  eu_sales  jp_sales  \\\n",
       "659    NaN      GEN           1993.0   NaN      1.78      0.53      0.00   \n",
       "14244  NaN      GEN           1993.0   NaN      0.00      0.00      0.03   \n",
       "\n",
       "       other_sales  critic_score user_score rating  \n",
       "659           0.08           NaN        NaN    NaN  \n",
       "14244         0.00           NaN        NaN    NaN  "
      ]
     },
     "execution_count": 3,
     "metadata": {},
     "output_type": "execute_result"
    }
   ],
   "source": [
    "games.loc[games['name'].isna()]"
   ]
  },
  {
   "cell_type": "markdown",
   "metadata": {},
   "source": [
    "Эти безымянные игры выпущены в 1993 году, не имеют рейтингов, продажи были небольшими, их можно удалить: "
   ]
  },
  {
   "cell_type": "code",
   "execution_count": 4,
   "metadata": {},
   "outputs": [
    {
     "name": "stdout",
     "output_type": "stream",
     "text": [
      "<class 'pandas.core.frame.DataFrame'>\n",
      "Int64Index: 16713 entries, 0 to 16714\n",
      "Data columns (total 11 columns):\n",
      " #   Column           Non-Null Count  Dtype  \n",
      "---  ------           --------------  -----  \n",
      " 0   name             16713 non-null  object \n",
      " 1   platform         16713 non-null  object \n",
      " 2   year_of_release  16444 non-null  float64\n",
      " 3   genre            16713 non-null  object \n",
      " 4   na_sales         16713 non-null  float64\n",
      " 5   eu_sales         16713 non-null  float64\n",
      " 6   jp_sales         16713 non-null  float64\n",
      " 7   other_sales      16713 non-null  float64\n",
      " 8   critic_score     8137 non-null   float64\n",
      " 9   user_score       10014 non-null  object \n",
      " 10  rating           9949 non-null   object \n",
      "dtypes: float64(6), object(5)\n",
      "memory usage: 1.5+ MB\n"
     ]
    }
   ],
   "source": [
    "games.dropna(subset = ['name'], inplace = True)\n",
    "games.info()"
   ]
  },
  {
   "cell_type": "markdown",
   "metadata": {},
   "source": [
    "Посмотрим, какие вообще игры представлены в таблице, и есть ли среди них дубликаты:"
   ]
  },
  {
   "cell_type": "code",
   "execution_count": 5,
   "metadata": {},
   "outputs": [
    {
     "data": {
      "text/plain": [
       "Need for Speed: Most Wanted                              12\n",
       "FIFA 14                                                   9\n",
       "Ratatouille                                               9\n",
       "LEGO Marvel Super Heroes                                  9\n",
       "Madden NFL 07                                             9\n",
       "                                                         ..\n",
       "The Amazing Spider-Man (DS & Mobile Versions)             1\n",
       "Mobile Suit Gundam Age: Universe Accel / Cosmic Drive     1\n",
       "Sonic Rivals                                              1\n",
       "UNO / Skip-Bo / UNO Freefall                              1\n",
       "Aliens: Infestation                                       1\n",
       "Name: name, Length: 11559, dtype: int64"
      ]
     },
     "execution_count": 5,
     "metadata": {},
     "output_type": "execute_result"
    }
   ],
   "source": [
    "games['name'].value_counts()"
   ]
  },
  {
   "cell_type": "markdown",
   "metadata": {},
   "source": [
    "Многие названия игр встречаются неоднократно. Проверим, не дубликаты ли это."
   ]
  },
  {
   "cell_type": "code",
   "execution_count": 6,
   "metadata": {},
   "outputs": [
    {
     "data": {
      "text/plain": [
       "0"
      ]
     },
     "execution_count": 6,
     "metadata": {},
     "output_type": "execute_result"
    }
   ],
   "source": [
    "games.duplicated().sum()"
   ]
  },
  {
   "cell_type": "code",
   "execution_count": 7,
   "metadata": {},
   "outputs": [
    {
     "data": {
      "text/html": [
       "<div>\n",
       "<style scoped>\n",
       "    .dataframe tbody tr th:only-of-type {\n",
       "        vertical-align: middle;\n",
       "    }\n",
       "\n",
       "    .dataframe tbody tr th {\n",
       "        vertical-align: top;\n",
       "    }\n",
       "\n",
       "    .dataframe thead th {\n",
       "        text-align: right;\n",
       "    }\n",
       "</style>\n",
       "<table border=\"1\" class=\"dataframe\">\n",
       "  <thead>\n",
       "    <tr style=\"text-align: right;\">\n",
       "      <th></th>\n",
       "      <th>name</th>\n",
       "      <th>platform</th>\n",
       "      <th>year_of_release</th>\n",
       "      <th>genre</th>\n",
       "      <th>na_sales</th>\n",
       "      <th>eu_sales</th>\n",
       "      <th>jp_sales</th>\n",
       "      <th>other_sales</th>\n",
       "      <th>critic_score</th>\n",
       "      <th>user_score</th>\n",
       "      <th>rating</th>\n",
       "    </tr>\n",
       "  </thead>\n",
       "  <tbody>\n",
       "    <tr>\n",
       "      <th>253</th>\n",
       "      <td>Need for Speed: Most Wanted</td>\n",
       "      <td>PS2</td>\n",
       "      <td>2005.0</td>\n",
       "      <td>Racing</td>\n",
       "      <td>2.03</td>\n",
       "      <td>1.79</td>\n",
       "      <td>0.08</td>\n",
       "      <td>0.47</td>\n",
       "      <td>82.0</td>\n",
       "      <td>9.1</td>\n",
       "      <td>T</td>\n",
       "    </tr>\n",
       "    <tr>\n",
       "      <th>523</th>\n",
       "      <td>Need for Speed: Most Wanted</td>\n",
       "      <td>PS3</td>\n",
       "      <td>2012.0</td>\n",
       "      <td>Racing</td>\n",
       "      <td>0.71</td>\n",
       "      <td>1.46</td>\n",
       "      <td>0.06</td>\n",
       "      <td>0.58</td>\n",
       "      <td>NaN</td>\n",
       "      <td>NaN</td>\n",
       "      <td>NaN</td>\n",
       "    </tr>\n",
       "    <tr>\n",
       "      <th>1190</th>\n",
       "      <td>Need for Speed: Most Wanted</td>\n",
       "      <td>X360</td>\n",
       "      <td>2012.0</td>\n",
       "      <td>Racing</td>\n",
       "      <td>0.62</td>\n",
       "      <td>0.78</td>\n",
       "      <td>0.01</td>\n",
       "      <td>0.15</td>\n",
       "      <td>83.0</td>\n",
       "      <td>8.5</td>\n",
       "      <td>T</td>\n",
       "    </tr>\n",
       "    <tr>\n",
       "      <th>1591</th>\n",
       "      <td>Need for Speed: Most Wanted</td>\n",
       "      <td>X360</td>\n",
       "      <td>2005.0</td>\n",
       "      <td>Racing</td>\n",
       "      <td>1.00</td>\n",
       "      <td>0.13</td>\n",
       "      <td>0.02</td>\n",
       "      <td>0.10</td>\n",
       "      <td>83.0</td>\n",
       "      <td>8.5</td>\n",
       "      <td>T</td>\n",
       "    </tr>\n",
       "    <tr>\n",
       "      <th>1998</th>\n",
       "      <td>Need for Speed: Most Wanted</td>\n",
       "      <td>XB</td>\n",
       "      <td>2005.0</td>\n",
       "      <td>Racing</td>\n",
       "      <td>0.53</td>\n",
       "      <td>0.46</td>\n",
       "      <td>0.00</td>\n",
       "      <td>0.05</td>\n",
       "      <td>83.0</td>\n",
       "      <td>8.8</td>\n",
       "      <td>T</td>\n",
       "    </tr>\n",
       "    <tr>\n",
       "      <th>2048</th>\n",
       "      <td>Need for Speed: Most Wanted</td>\n",
       "      <td>PSV</td>\n",
       "      <td>2012.0</td>\n",
       "      <td>Racing</td>\n",
       "      <td>0.33</td>\n",
       "      <td>0.45</td>\n",
       "      <td>0.01</td>\n",
       "      <td>0.22</td>\n",
       "      <td>NaN</td>\n",
       "      <td>NaN</td>\n",
       "      <td>NaN</td>\n",
       "    </tr>\n",
       "    <tr>\n",
       "      <th>3581</th>\n",
       "      <td>Need for Speed: Most Wanted</td>\n",
       "      <td>GC</td>\n",
       "      <td>2005.0</td>\n",
       "      <td>Racing</td>\n",
       "      <td>0.43</td>\n",
       "      <td>0.11</td>\n",
       "      <td>0.00</td>\n",
       "      <td>0.02</td>\n",
       "      <td>80.0</td>\n",
       "      <td>9.1</td>\n",
       "      <td>T</td>\n",
       "    </tr>\n",
       "    <tr>\n",
       "      <th>5972</th>\n",
       "      <td>Need for Speed: Most Wanted</td>\n",
       "      <td>PC</td>\n",
       "      <td>2005.0</td>\n",
       "      <td>Racing</td>\n",
       "      <td>0.02</td>\n",
       "      <td>0.23</td>\n",
       "      <td>0.00</td>\n",
       "      <td>0.04</td>\n",
       "      <td>82.0</td>\n",
       "      <td>8.5</td>\n",
       "      <td>T</td>\n",
       "    </tr>\n",
       "    <tr>\n",
       "      <th>6273</th>\n",
       "      <td>Need for Speed: Most Wanted</td>\n",
       "      <td>WiiU</td>\n",
       "      <td>2013.0</td>\n",
       "      <td>Racing</td>\n",
       "      <td>0.13</td>\n",
       "      <td>0.12</td>\n",
       "      <td>0.00</td>\n",
       "      <td>0.02</td>\n",
       "      <td>NaN</td>\n",
       "      <td>NaN</td>\n",
       "      <td>NaN</td>\n",
       "    </tr>\n",
       "    <tr>\n",
       "      <th>6410</th>\n",
       "      <td>Need for Speed: Most Wanted</td>\n",
       "      <td>DS</td>\n",
       "      <td>2005.0</td>\n",
       "      <td>Racing</td>\n",
       "      <td>0.24</td>\n",
       "      <td>0.01</td>\n",
       "      <td>0.00</td>\n",
       "      <td>0.02</td>\n",
       "      <td>45.0</td>\n",
       "      <td>6.1</td>\n",
       "      <td>E</td>\n",
       "    </tr>\n",
       "    <tr>\n",
       "      <th>6473</th>\n",
       "      <td>Need for Speed: Most Wanted</td>\n",
       "      <td>GBA</td>\n",
       "      <td>2005.0</td>\n",
       "      <td>Racing</td>\n",
       "      <td>0.19</td>\n",
       "      <td>0.07</td>\n",
       "      <td>0.00</td>\n",
       "      <td>0.00</td>\n",
       "      <td>NaN</td>\n",
       "      <td>8.3</td>\n",
       "      <td>E</td>\n",
       "    </tr>\n",
       "    <tr>\n",
       "      <th>11715</th>\n",
       "      <td>Need for Speed: Most Wanted</td>\n",
       "      <td>PC</td>\n",
       "      <td>2012.0</td>\n",
       "      <td>Racing</td>\n",
       "      <td>0.00</td>\n",
       "      <td>0.06</td>\n",
       "      <td>0.00</td>\n",
       "      <td>0.02</td>\n",
       "      <td>82.0</td>\n",
       "      <td>8.5</td>\n",
       "      <td>T</td>\n",
       "    </tr>\n",
       "  </tbody>\n",
       "</table>\n",
       "</div>"
      ],
      "text/plain": [
       "                              name platform  year_of_release   genre  \\\n",
       "253    Need for Speed: Most Wanted      PS2           2005.0  Racing   \n",
       "523    Need for Speed: Most Wanted      PS3           2012.0  Racing   \n",
       "1190   Need for Speed: Most Wanted     X360           2012.0  Racing   \n",
       "1591   Need for Speed: Most Wanted     X360           2005.0  Racing   \n",
       "1998   Need for Speed: Most Wanted       XB           2005.0  Racing   \n",
       "2048   Need for Speed: Most Wanted      PSV           2012.0  Racing   \n",
       "3581   Need for Speed: Most Wanted       GC           2005.0  Racing   \n",
       "5972   Need for Speed: Most Wanted       PC           2005.0  Racing   \n",
       "6273   Need for Speed: Most Wanted     WiiU           2013.0  Racing   \n",
       "6410   Need for Speed: Most Wanted       DS           2005.0  Racing   \n",
       "6473   Need for Speed: Most Wanted      GBA           2005.0  Racing   \n",
       "11715  Need for Speed: Most Wanted       PC           2012.0  Racing   \n",
       "\n",
       "       na_sales  eu_sales  jp_sales  other_sales  critic_score user_score  \\\n",
       "253        2.03      1.79      0.08         0.47          82.0        9.1   \n",
       "523        0.71      1.46      0.06         0.58           NaN        NaN   \n",
       "1190       0.62      0.78      0.01         0.15          83.0        8.5   \n",
       "1591       1.00      0.13      0.02         0.10          83.0        8.5   \n",
       "1998       0.53      0.46      0.00         0.05          83.0        8.8   \n",
       "2048       0.33      0.45      0.01         0.22           NaN        NaN   \n",
       "3581       0.43      0.11      0.00         0.02          80.0        9.1   \n",
       "5972       0.02      0.23      0.00         0.04          82.0        8.5   \n",
       "6273       0.13      0.12      0.00         0.02           NaN        NaN   \n",
       "6410       0.24      0.01      0.00         0.02          45.0        6.1   \n",
       "6473       0.19      0.07      0.00         0.00           NaN        8.3   \n",
       "11715      0.00      0.06      0.00         0.02          82.0        8.5   \n",
       "\n",
       "      rating  \n",
       "253        T  \n",
       "523      NaN  \n",
       "1190       T  \n",
       "1591       T  \n",
       "1998       T  \n",
       "2048     NaN  \n",
       "3581       T  \n",
       "5972       T  \n",
       "6273     NaN  \n",
       "6410       E  \n",
       "6473       E  \n",
       "11715      T  "
      ]
     },
     "execution_count": 7,
     "metadata": {},
     "output_type": "execute_result"
    }
   ],
   "source": [
    "games.query('name == \"Need for Speed: Most Wanted\"') # на примере игры, которая встречается чаще всего"
   ]
  },
  {
   "cell_type": "markdown",
   "metadata": {},
   "source": [
    "Явных дубликатов в таблице нет, одна и та же игра выходила на разных платформах в разные годы - отсюда и повторные названия в столбце."
   ]
  },
  {
   "cell_type": "markdown",
   "metadata": {},
   "source": [
    "Рассмотрим столбец с информацией о **платформе**:"
   ]
  },
  {
   "cell_type": "code",
   "execution_count": 8,
   "metadata": {},
   "outputs": [
    {
     "data": {
      "text/plain": [
       "PS2     2161\n",
       "DS      2151\n",
       "PS3     1331\n",
       "Wii     1320\n",
       "X360    1262\n",
       "PSP     1209\n",
       "PS      1197\n",
       "PC       974\n",
       "XB       824\n",
       "GBA      822\n",
       "GC       556\n",
       "3DS      520\n",
       "PSV      430\n",
       "PS4      392\n",
       "N64      319\n",
       "XOne     247\n",
       "SNES     239\n",
       "SAT      173\n",
       "WiiU     147\n",
       "2600     133\n",
       "GB        98\n",
       "NES       98\n",
       "DC        52\n",
       "GEN       27\n",
       "NG        12\n",
       "SCD        6\n",
       "WS         6\n",
       "3DO        3\n",
       "TG16       2\n",
       "GG         1\n",
       "PCFX       1\n",
       "Name: platform, dtype: int64"
      ]
     },
     "execution_count": 8,
     "metadata": {},
     "output_type": "execute_result"
    }
   ],
   "source": [
    "games['platform'].value_counts()"
   ]
  },
  {
   "cell_type": "markdown",
   "metadata": {},
   "source": [
    "Проблем с наименованиями платформ не обнаружено, скрытых дубликатов в данном столбце нет. \n",
    "\n",
    "Перейдём к столбцу с **датой релиза** и прежде всего рассмотрим пропуски:"
   ]
  },
  {
   "cell_type": "code",
   "execution_count": 9,
   "metadata": {},
   "outputs": [
    {
     "data": {
      "text/html": [
       "<div>\n",
       "<style scoped>\n",
       "    .dataframe tbody tr th:only-of-type {\n",
       "        vertical-align: middle;\n",
       "    }\n",
       "\n",
       "    .dataframe tbody tr th {\n",
       "        vertical-align: top;\n",
       "    }\n",
       "\n",
       "    .dataframe thead th {\n",
       "        text-align: right;\n",
       "    }\n",
       "</style>\n",
       "<table border=\"1\" class=\"dataframe\">\n",
       "  <thead>\n",
       "    <tr style=\"text-align: right;\">\n",
       "      <th></th>\n",
       "      <th>name</th>\n",
       "      <th>platform</th>\n",
       "      <th>year_of_release</th>\n",
       "      <th>genre</th>\n",
       "      <th>na_sales</th>\n",
       "      <th>eu_sales</th>\n",
       "      <th>jp_sales</th>\n",
       "      <th>other_sales</th>\n",
       "      <th>critic_score</th>\n",
       "      <th>user_score</th>\n",
       "      <th>rating</th>\n",
       "    </tr>\n",
       "  </thead>\n",
       "  <tbody>\n",
       "    <tr>\n",
       "      <th>183</th>\n",
       "      <td>Madden NFL 2004</td>\n",
       "      <td>PS2</td>\n",
       "      <td>NaN</td>\n",
       "      <td>Sports</td>\n",
       "      <td>4.26</td>\n",
       "      <td>0.26</td>\n",
       "      <td>0.01</td>\n",
       "      <td>0.71</td>\n",
       "      <td>94.0</td>\n",
       "      <td>8.5</td>\n",
       "      <td>E</td>\n",
       "    </tr>\n",
       "    <tr>\n",
       "      <th>377</th>\n",
       "      <td>FIFA Soccer 2004</td>\n",
       "      <td>PS2</td>\n",
       "      <td>NaN</td>\n",
       "      <td>Sports</td>\n",
       "      <td>0.59</td>\n",
       "      <td>2.36</td>\n",
       "      <td>0.04</td>\n",
       "      <td>0.51</td>\n",
       "      <td>84.0</td>\n",
       "      <td>6.4</td>\n",
       "      <td>E</td>\n",
       "    </tr>\n",
       "    <tr>\n",
       "      <th>456</th>\n",
       "      <td>LEGO Batman: The Videogame</td>\n",
       "      <td>Wii</td>\n",
       "      <td>NaN</td>\n",
       "      <td>Action</td>\n",
       "      <td>1.80</td>\n",
       "      <td>0.97</td>\n",
       "      <td>0.00</td>\n",
       "      <td>0.29</td>\n",
       "      <td>74.0</td>\n",
       "      <td>7.9</td>\n",
       "      <td>E10+</td>\n",
       "    </tr>\n",
       "    <tr>\n",
       "      <th>475</th>\n",
       "      <td>wwe Smackdown vs. Raw 2006</td>\n",
       "      <td>PS2</td>\n",
       "      <td>NaN</td>\n",
       "      <td>Fighting</td>\n",
       "      <td>1.57</td>\n",
       "      <td>1.02</td>\n",
       "      <td>0.00</td>\n",
       "      <td>0.41</td>\n",
       "      <td>NaN</td>\n",
       "      <td>NaN</td>\n",
       "      <td>NaN</td>\n",
       "    </tr>\n",
       "    <tr>\n",
       "      <th>609</th>\n",
       "      <td>Space Invaders</td>\n",
       "      <td>2600</td>\n",
       "      <td>NaN</td>\n",
       "      <td>Shooter</td>\n",
       "      <td>2.36</td>\n",
       "      <td>0.14</td>\n",
       "      <td>0.00</td>\n",
       "      <td>0.03</td>\n",
       "      <td>NaN</td>\n",
       "      <td>NaN</td>\n",
       "      <td>NaN</td>\n",
       "    </tr>\n",
       "    <tr>\n",
       "      <th>...</th>\n",
       "      <td>...</td>\n",
       "      <td>...</td>\n",
       "      <td>...</td>\n",
       "      <td>...</td>\n",
       "      <td>...</td>\n",
       "      <td>...</td>\n",
       "      <td>...</td>\n",
       "      <td>...</td>\n",
       "      <td>...</td>\n",
       "      <td>...</td>\n",
       "      <td>...</td>\n",
       "    </tr>\n",
       "    <tr>\n",
       "      <th>16373</th>\n",
       "      <td>PDC World Championship Darts 2008</td>\n",
       "      <td>PSP</td>\n",
       "      <td>NaN</td>\n",
       "      <td>Sports</td>\n",
       "      <td>0.01</td>\n",
       "      <td>0.00</td>\n",
       "      <td>0.00</td>\n",
       "      <td>0.00</td>\n",
       "      <td>43.0</td>\n",
       "      <td>tbd</td>\n",
       "      <td>E10+</td>\n",
       "    </tr>\n",
       "    <tr>\n",
       "      <th>16405</th>\n",
       "      <td>Freaky Flyers</td>\n",
       "      <td>GC</td>\n",
       "      <td>NaN</td>\n",
       "      <td>Racing</td>\n",
       "      <td>0.01</td>\n",
       "      <td>0.00</td>\n",
       "      <td>0.00</td>\n",
       "      <td>0.00</td>\n",
       "      <td>69.0</td>\n",
       "      <td>6.5</td>\n",
       "      <td>T</td>\n",
       "    </tr>\n",
       "    <tr>\n",
       "      <th>16448</th>\n",
       "      <td>Inversion</td>\n",
       "      <td>PC</td>\n",
       "      <td>NaN</td>\n",
       "      <td>Shooter</td>\n",
       "      <td>0.01</td>\n",
       "      <td>0.00</td>\n",
       "      <td>0.00</td>\n",
       "      <td>0.00</td>\n",
       "      <td>59.0</td>\n",
       "      <td>6.7</td>\n",
       "      <td>M</td>\n",
       "    </tr>\n",
       "    <tr>\n",
       "      <th>16458</th>\n",
       "      <td>Hakuouki: Shinsengumi Kitan</td>\n",
       "      <td>PS3</td>\n",
       "      <td>NaN</td>\n",
       "      <td>Adventure</td>\n",
       "      <td>0.01</td>\n",
       "      <td>0.00</td>\n",
       "      <td>0.00</td>\n",
       "      <td>0.00</td>\n",
       "      <td>NaN</td>\n",
       "      <td>NaN</td>\n",
       "      <td>NaN</td>\n",
       "    </tr>\n",
       "    <tr>\n",
       "      <th>16522</th>\n",
       "      <td>Virtua Quest</td>\n",
       "      <td>GC</td>\n",
       "      <td>NaN</td>\n",
       "      <td>Role-Playing</td>\n",
       "      <td>0.01</td>\n",
       "      <td>0.00</td>\n",
       "      <td>0.00</td>\n",
       "      <td>0.00</td>\n",
       "      <td>55.0</td>\n",
       "      <td>5.5</td>\n",
       "      <td>T</td>\n",
       "    </tr>\n",
       "  </tbody>\n",
       "</table>\n",
       "<p>269 rows × 11 columns</p>\n",
       "</div>"
      ],
      "text/plain": [
       "                                    name platform  year_of_release  \\\n",
       "183                      Madden NFL 2004      PS2              NaN   \n",
       "377                     FIFA Soccer 2004      PS2              NaN   \n",
       "456           LEGO Batman: The Videogame      Wii              NaN   \n",
       "475           wwe Smackdown vs. Raw 2006      PS2              NaN   \n",
       "609                       Space Invaders     2600              NaN   \n",
       "...                                  ...      ...              ...   \n",
       "16373  PDC World Championship Darts 2008      PSP              NaN   \n",
       "16405                      Freaky Flyers       GC              NaN   \n",
       "16448                          Inversion       PC              NaN   \n",
       "16458        Hakuouki: Shinsengumi Kitan      PS3              NaN   \n",
       "16522                       Virtua Quest       GC              NaN   \n",
       "\n",
       "              genre  na_sales  eu_sales  jp_sales  other_sales  critic_score  \\\n",
       "183          Sports      4.26      0.26      0.01         0.71          94.0   \n",
       "377          Sports      0.59      2.36      0.04         0.51          84.0   \n",
       "456          Action      1.80      0.97      0.00         0.29          74.0   \n",
       "475        Fighting      1.57      1.02      0.00         0.41           NaN   \n",
       "609         Shooter      2.36      0.14      0.00         0.03           NaN   \n",
       "...             ...       ...       ...       ...          ...           ...   \n",
       "16373        Sports      0.01      0.00      0.00         0.00          43.0   \n",
       "16405        Racing      0.01      0.00      0.00         0.00          69.0   \n",
       "16448       Shooter      0.01      0.00      0.00         0.00          59.0   \n",
       "16458     Adventure      0.01      0.00      0.00         0.00           NaN   \n",
       "16522  Role-Playing      0.01      0.00      0.00         0.00          55.0   \n",
       "\n",
       "      user_score rating  \n",
       "183          8.5      E  \n",
       "377          6.4      E  \n",
       "456          7.9   E10+  \n",
       "475          NaN    NaN  \n",
       "609          NaN    NaN  \n",
       "...          ...    ...  \n",
       "16373        tbd   E10+  \n",
       "16405        6.5      T  \n",
       "16448        6.7      M  \n",
       "16458        NaN    NaN  \n",
       "16522        5.5      T  \n",
       "\n",
       "[269 rows x 11 columns]"
      ]
     },
     "execution_count": 9,
     "metadata": {},
     "output_type": "execute_result"
    }
   ],
   "source": [
    "games.loc[games['year_of_release'].isna()]"
   ]
  },
  {
   "cell_type": "markdown",
   "metadata": {},
   "source": [
    "В этом столбце 269 пропусков, или 1,6%. В принципе, такой долей данных можно пренебречь. Однако, поскольку данные о релизах находятся в открытом доступе, можно вручную заполнить дату выхода игр со значительными продажами (например, свыше 1 млн. копий):"
   ]
  },
  {
   "cell_type": "code",
   "execution_count": 10,
   "metadata": {},
   "outputs": [
    {
     "data": {
      "text/html": [
       "<div>\n",
       "<style scoped>\n",
       "    .dataframe tbody tr th:only-of-type {\n",
       "        vertical-align: middle;\n",
       "    }\n",
       "\n",
       "    .dataframe tbody tr th {\n",
       "        vertical-align: top;\n",
       "    }\n",
       "\n",
       "    .dataframe thead th {\n",
       "        text-align: right;\n",
       "    }\n",
       "</style>\n",
       "<table border=\"1\" class=\"dataframe\">\n",
       "  <thead>\n",
       "    <tr style=\"text-align: right;\">\n",
       "      <th></th>\n",
       "      <th>name</th>\n",
       "      <th>platform</th>\n",
       "      <th>year_of_release</th>\n",
       "      <th>genre</th>\n",
       "      <th>na_sales</th>\n",
       "      <th>eu_sales</th>\n",
       "      <th>jp_sales</th>\n",
       "      <th>other_sales</th>\n",
       "      <th>critic_score</th>\n",
       "      <th>user_score</th>\n",
       "      <th>rating</th>\n",
       "    </tr>\n",
       "  </thead>\n",
       "  <tbody>\n",
       "    <tr>\n",
       "      <th>183</th>\n",
       "      <td>Madden NFL 2004</td>\n",
       "      <td>PS2</td>\n",
       "      <td>NaN</td>\n",
       "      <td>Sports</td>\n",
       "      <td>4.26</td>\n",
       "      <td>0.26</td>\n",
       "      <td>0.01</td>\n",
       "      <td>0.71</td>\n",
       "      <td>94.0</td>\n",
       "      <td>8.5</td>\n",
       "      <td>E</td>\n",
       "    </tr>\n",
       "    <tr>\n",
       "      <th>456</th>\n",
       "      <td>LEGO Batman: The Videogame</td>\n",
       "      <td>Wii</td>\n",
       "      <td>NaN</td>\n",
       "      <td>Action</td>\n",
       "      <td>1.80</td>\n",
       "      <td>0.97</td>\n",
       "      <td>0.00</td>\n",
       "      <td>0.29</td>\n",
       "      <td>74.0</td>\n",
       "      <td>7.9</td>\n",
       "      <td>E10+</td>\n",
       "    </tr>\n",
       "    <tr>\n",
       "      <th>475</th>\n",
       "      <td>wwe Smackdown vs. Raw 2006</td>\n",
       "      <td>PS2</td>\n",
       "      <td>NaN</td>\n",
       "      <td>Fighting</td>\n",
       "      <td>1.57</td>\n",
       "      <td>1.02</td>\n",
       "      <td>0.00</td>\n",
       "      <td>0.41</td>\n",
       "      <td>NaN</td>\n",
       "      <td>NaN</td>\n",
       "      <td>NaN</td>\n",
       "    </tr>\n",
       "    <tr>\n",
       "      <th>609</th>\n",
       "      <td>Space Invaders</td>\n",
       "      <td>2600</td>\n",
       "      <td>NaN</td>\n",
       "      <td>Shooter</td>\n",
       "      <td>2.36</td>\n",
       "      <td>0.14</td>\n",
       "      <td>0.00</td>\n",
       "      <td>0.03</td>\n",
       "      <td>NaN</td>\n",
       "      <td>NaN</td>\n",
       "      <td>NaN</td>\n",
       "    </tr>\n",
       "    <tr>\n",
       "      <th>627</th>\n",
       "      <td>Rock Band</td>\n",
       "      <td>X360</td>\n",
       "      <td>NaN</td>\n",
       "      <td>Misc</td>\n",
       "      <td>1.93</td>\n",
       "      <td>0.33</td>\n",
       "      <td>0.00</td>\n",
       "      <td>0.21</td>\n",
       "      <td>92.0</td>\n",
       "      <td>8.2</td>\n",
       "      <td>T</td>\n",
       "    </tr>\n",
       "    <tr>\n",
       "      <th>657</th>\n",
       "      <td>Frogger's Adventures: Temple of the Frog</td>\n",
       "      <td>GBA</td>\n",
       "      <td>NaN</td>\n",
       "      <td>Adventure</td>\n",
       "      <td>2.15</td>\n",
       "      <td>0.18</td>\n",
       "      <td>0.00</td>\n",
       "      <td>0.07</td>\n",
       "      <td>73.0</td>\n",
       "      <td>tbd</td>\n",
       "      <td>E</td>\n",
       "    </tr>\n",
       "    <tr>\n",
       "      <th>678</th>\n",
       "      <td>LEGO Indiana Jones: The Original Adventures</td>\n",
       "      <td>Wii</td>\n",
       "      <td>NaN</td>\n",
       "      <td>Action</td>\n",
       "      <td>1.51</td>\n",
       "      <td>0.61</td>\n",
       "      <td>0.00</td>\n",
       "      <td>0.21</td>\n",
       "      <td>78.0</td>\n",
       "      <td>6.6</td>\n",
       "      <td>E10+</td>\n",
       "    </tr>\n",
       "    <tr>\n",
       "      <th>719</th>\n",
       "      <td>Call of Duty 3</td>\n",
       "      <td>Wii</td>\n",
       "      <td>NaN</td>\n",
       "      <td>Shooter</td>\n",
       "      <td>1.17</td>\n",
       "      <td>0.84</td>\n",
       "      <td>0.00</td>\n",
       "      <td>0.23</td>\n",
       "      <td>69.0</td>\n",
       "      <td>6.7</td>\n",
       "      <td>T</td>\n",
       "    </tr>\n",
       "    <tr>\n",
       "      <th>805</th>\n",
       "      <td>Rock Band</td>\n",
       "      <td>Wii</td>\n",
       "      <td>NaN</td>\n",
       "      <td>Misc</td>\n",
       "      <td>1.33</td>\n",
       "      <td>0.56</td>\n",
       "      <td>0.00</td>\n",
       "      <td>0.20</td>\n",
       "      <td>80.0</td>\n",
       "      <td>6.3</td>\n",
       "      <td>T</td>\n",
       "    </tr>\n",
       "    <tr>\n",
       "      <th>1506</th>\n",
       "      <td>Adventure</td>\n",
       "      <td>2600</td>\n",
       "      <td>NaN</td>\n",
       "      <td>Adventure</td>\n",
       "      <td>1.21</td>\n",
       "      <td>0.08</td>\n",
       "      <td>0.00</td>\n",
       "      <td>0.01</td>\n",
       "      <td>NaN</td>\n",
       "      <td>NaN</td>\n",
       "      <td>NaN</td>\n",
       "    </tr>\n",
       "    <tr>\n",
       "      <th>1585</th>\n",
       "      <td>Combat</td>\n",
       "      <td>2600</td>\n",
       "      <td>NaN</td>\n",
       "      <td>Action</td>\n",
       "      <td>1.17</td>\n",
       "      <td>0.07</td>\n",
       "      <td>0.00</td>\n",
       "      <td>0.01</td>\n",
       "      <td>NaN</td>\n",
       "      <td>NaN</td>\n",
       "      <td>NaN</td>\n",
       "    </tr>\n",
       "  </tbody>\n",
       "</table>\n",
       "</div>"
      ],
      "text/plain": [
       "                                             name platform  year_of_release  \\\n",
       "183                               Madden NFL 2004      PS2              NaN   \n",
       "456                    LEGO Batman: The Videogame      Wii              NaN   \n",
       "475                    wwe Smackdown vs. Raw 2006      PS2              NaN   \n",
       "609                                Space Invaders     2600              NaN   \n",
       "627                                     Rock Band     X360              NaN   \n",
       "657      Frogger's Adventures: Temple of the Frog      GBA              NaN   \n",
       "678   LEGO Indiana Jones: The Original Adventures      Wii              NaN   \n",
       "719                                Call of Duty 3      Wii              NaN   \n",
       "805                                     Rock Band      Wii              NaN   \n",
       "1506                                    Adventure     2600              NaN   \n",
       "1585                                       Combat     2600              NaN   \n",
       "\n",
       "          genre  na_sales  eu_sales  jp_sales  other_sales  critic_score  \\\n",
       "183      Sports      4.26      0.26      0.01         0.71          94.0   \n",
       "456      Action      1.80      0.97      0.00         0.29          74.0   \n",
       "475    Fighting      1.57      1.02      0.00         0.41           NaN   \n",
       "609     Shooter      2.36      0.14      0.00         0.03           NaN   \n",
       "627        Misc      1.93      0.33      0.00         0.21          92.0   \n",
       "657   Adventure      2.15      0.18      0.00         0.07          73.0   \n",
       "678      Action      1.51      0.61      0.00         0.21          78.0   \n",
       "719     Shooter      1.17      0.84      0.00         0.23          69.0   \n",
       "805        Misc      1.33      0.56      0.00         0.20          80.0   \n",
       "1506  Adventure      1.21      0.08      0.00         0.01           NaN   \n",
       "1585     Action      1.17      0.07      0.00         0.01           NaN   \n",
       "\n",
       "     user_score rating  \n",
       "183         8.5      E  \n",
       "456         7.9   E10+  \n",
       "475         NaN    NaN  \n",
       "609         NaN    NaN  \n",
       "627         8.2      T  \n",
       "657         tbd      E  \n",
       "678         6.6   E10+  \n",
       "719         6.7      T  \n",
       "805         6.3      T  \n",
       "1506        NaN    NaN  \n",
       "1585        NaN    NaN  "
      ]
     },
     "execution_count": 10,
     "metadata": {},
     "output_type": "execute_result"
    }
   ],
   "source": [
    "games.loc[games['year_of_release'].isna()].query(\n",
    "    'na_sales >= 1' or 'eu_sales >= 1' \n",
    "    or 'jp_sales >= 1' or 'other_sales >= 1')"
   ]
  },
  {
   "cell_type": "code",
   "execution_count": 11,
   "metadata": {},
   "outputs": [],
   "source": [
    "games.loc[183, ['year_of_release']] = 2003 # Madden NFL 2004\n",
    "games.loc[456, ['year_of_release']] = 2008 # LEGO Batman: The Videogame\n",
    "games.loc[475, ['year_of_release']] = 2005 # wwe Smackdown vs. Raw 2006\n",
    "games.loc[609, ['year_of_release']] = 1980 # Space Invaders\n",
    "games.loc[627, ['year_of_release']] = 2007 # Rock Band для X360\n",
    "games.loc[657, ['year_of_release']] = 2001 # Frogger's Adventures: Temple of the Frog\n",
    "games.loc[678, ['year_of_release']] = 2008 # LEGO Indiana Jones: The Original Adventures\n",
    "games.loc[719, ['year_of_release']] = 2006 # Call of Duty 3\n",
    "games.loc[805, ['year_of_release']] = 2007 # Rock Band для Wii\n",
    "games.loc[1506, ['year_of_release']] = 1979 # Adventure\n",
    "games.loc[1585, ['year_of_release']] = 1977 # Combat"
   ]
  },
  {
   "cell_type": "markdown",
   "metadata": {},
   "source": [
    "Для многих игр пропущены значения года релиза для какой-то конкретной платформы при том, что известен год релиза для других платформ. Думаю, не будет большой ошибкой заполнить такие пропуски исходя из известного года релиза:"
   ]
  },
  {
   "cell_type": "code",
   "execution_count": 12,
   "metadata": {
    "scrolled": true
   },
   "outputs": [
    {
     "name": "stderr",
     "output_type": "stream",
     "text": [
      "c:\\program files\\python38\\lib\\site-packages\\numpy\\lib\\nanfunctions.py:1117: RuntimeWarning: Mean of empty slice\n",
      "  return np.nanmean(a, axis, out=out, keepdims=keepdims)\n",
      "c:\\program files\\python38\\lib\\site-packages\\numpy\\lib\\nanfunctions.py:1117: RuntimeWarning: Mean of empty slice\n",
      "  return np.nanmean(a, axis, out=out, keepdims=keepdims)\n",
      "c:\\program files\\python38\\lib\\site-packages\\numpy\\lib\\nanfunctions.py:1117: RuntimeWarning: Mean of empty slice\n",
      "  return np.nanmean(a, axis, out=out, keepdims=keepdims)\n",
      "c:\\program files\\python38\\lib\\site-packages\\numpy\\lib\\nanfunctions.py:1117: RuntimeWarning: Mean of empty slice\n",
      "  return np.nanmean(a, axis, out=out, keepdims=keepdims)\n",
      "c:\\program files\\python38\\lib\\site-packages\\numpy\\lib\\nanfunctions.py:1117: RuntimeWarning: Mean of empty slice\n",
      "  return np.nanmean(a, axis, out=out, keepdims=keepdims)\n",
      "c:\\program files\\python38\\lib\\site-packages\\numpy\\lib\\nanfunctions.py:1117: RuntimeWarning: Mean of empty slice\n",
      "  return np.nanmean(a, axis, out=out, keepdims=keepdims)\n",
      "c:\\program files\\python38\\lib\\site-packages\\numpy\\lib\\nanfunctions.py:1117: RuntimeWarning: Mean of empty slice\n",
      "  return np.nanmean(a, axis, out=out, keepdims=keepdims)\n",
      "c:\\program files\\python38\\lib\\site-packages\\numpy\\lib\\nanfunctions.py:1117: RuntimeWarning: Mean of empty slice\n",
      "  return np.nanmean(a, axis, out=out, keepdims=keepdims)\n",
      "c:\\program files\\python38\\lib\\site-packages\\numpy\\lib\\nanfunctions.py:1117: RuntimeWarning: Mean of empty slice\n",
      "  return np.nanmean(a, axis, out=out, keepdims=keepdims)\n",
      "c:\\program files\\python38\\lib\\site-packages\\numpy\\lib\\nanfunctions.py:1117: RuntimeWarning: Mean of empty slice\n",
      "  return np.nanmean(a, axis, out=out, keepdims=keepdims)\n",
      "c:\\program files\\python38\\lib\\site-packages\\numpy\\lib\\nanfunctions.py:1117: RuntimeWarning: Mean of empty slice\n",
      "  return np.nanmean(a, axis, out=out, keepdims=keepdims)\n",
      "c:\\program files\\python38\\lib\\site-packages\\numpy\\lib\\nanfunctions.py:1117: RuntimeWarning: Mean of empty slice\n",
      "  return np.nanmean(a, axis, out=out, keepdims=keepdims)\n",
      "c:\\program files\\python38\\lib\\site-packages\\numpy\\lib\\nanfunctions.py:1117: RuntimeWarning: Mean of empty slice\n",
      "  return np.nanmean(a, axis, out=out, keepdims=keepdims)\n",
      "c:\\program files\\python38\\lib\\site-packages\\numpy\\lib\\nanfunctions.py:1117: RuntimeWarning: Mean of empty slice\n",
      "  return np.nanmean(a, axis, out=out, keepdims=keepdims)\n",
      "c:\\program files\\python38\\lib\\site-packages\\numpy\\lib\\nanfunctions.py:1117: RuntimeWarning: Mean of empty slice\n",
      "  return np.nanmean(a, axis, out=out, keepdims=keepdims)\n",
      "c:\\program files\\python38\\lib\\site-packages\\numpy\\lib\\nanfunctions.py:1117: RuntimeWarning: Mean of empty slice\n",
      "  return np.nanmean(a, axis, out=out, keepdims=keepdims)\n",
      "c:\\program files\\python38\\lib\\site-packages\\numpy\\lib\\nanfunctions.py:1117: RuntimeWarning: Mean of empty slice\n",
      "  return np.nanmean(a, axis, out=out, keepdims=keepdims)\n",
      "c:\\program files\\python38\\lib\\site-packages\\numpy\\lib\\nanfunctions.py:1117: RuntimeWarning: Mean of empty slice\n",
      "  return np.nanmean(a, axis, out=out, keepdims=keepdims)\n",
      "c:\\program files\\python38\\lib\\site-packages\\numpy\\lib\\nanfunctions.py:1117: RuntimeWarning: Mean of empty slice\n",
      "  return np.nanmean(a, axis, out=out, keepdims=keepdims)\n",
      "c:\\program files\\python38\\lib\\site-packages\\numpy\\lib\\nanfunctions.py:1117: RuntimeWarning: Mean of empty slice\n",
      "  return np.nanmean(a, axis, out=out, keepdims=keepdims)\n",
      "c:\\program files\\python38\\lib\\site-packages\\numpy\\lib\\nanfunctions.py:1117: RuntimeWarning: Mean of empty slice\n",
      "  return np.nanmean(a, axis, out=out, keepdims=keepdims)\n",
      "c:\\program files\\python38\\lib\\site-packages\\numpy\\lib\\nanfunctions.py:1117: RuntimeWarning: Mean of empty slice\n",
      "  return np.nanmean(a, axis, out=out, keepdims=keepdims)\n",
      "c:\\program files\\python38\\lib\\site-packages\\numpy\\lib\\nanfunctions.py:1117: RuntimeWarning: Mean of empty slice\n",
      "  return np.nanmean(a, axis, out=out, keepdims=keepdims)\n",
      "c:\\program files\\python38\\lib\\site-packages\\numpy\\lib\\nanfunctions.py:1117: RuntimeWarning: Mean of empty slice\n",
      "  return np.nanmean(a, axis, out=out, keepdims=keepdims)\n",
      "c:\\program files\\python38\\lib\\site-packages\\numpy\\lib\\nanfunctions.py:1117: RuntimeWarning: Mean of empty slice\n",
      "  return np.nanmean(a, axis, out=out, keepdims=keepdims)\n",
      "c:\\program files\\python38\\lib\\site-packages\\numpy\\lib\\nanfunctions.py:1117: RuntimeWarning: Mean of empty slice\n",
      "  return np.nanmean(a, axis, out=out, keepdims=keepdims)\n",
      "c:\\program files\\python38\\lib\\site-packages\\numpy\\lib\\nanfunctions.py:1117: RuntimeWarning: Mean of empty slice\n",
      "  return np.nanmean(a, axis, out=out, keepdims=keepdims)\n",
      "c:\\program files\\python38\\lib\\site-packages\\numpy\\lib\\nanfunctions.py:1117: RuntimeWarning: Mean of empty slice\n",
      "  return np.nanmean(a, axis, out=out, keepdims=keepdims)\n",
      "c:\\program files\\python38\\lib\\site-packages\\numpy\\lib\\nanfunctions.py:1117: RuntimeWarning: Mean of empty slice\n",
      "  return np.nanmean(a, axis, out=out, keepdims=keepdims)\n",
      "c:\\program files\\python38\\lib\\site-packages\\numpy\\lib\\nanfunctions.py:1117: RuntimeWarning: Mean of empty slice\n",
      "  return np.nanmean(a, axis, out=out, keepdims=keepdims)\n",
      "c:\\program files\\python38\\lib\\site-packages\\numpy\\lib\\nanfunctions.py:1117: RuntimeWarning: Mean of empty slice\n",
      "  return np.nanmean(a, axis, out=out, keepdims=keepdims)\n",
      "c:\\program files\\python38\\lib\\site-packages\\numpy\\lib\\nanfunctions.py:1117: RuntimeWarning: Mean of empty slice\n",
      "  return np.nanmean(a, axis, out=out, keepdims=keepdims)\n",
      "c:\\program files\\python38\\lib\\site-packages\\numpy\\lib\\nanfunctions.py:1117: RuntimeWarning: Mean of empty slice\n",
      "  return np.nanmean(a, axis, out=out, keepdims=keepdims)\n",
      "c:\\program files\\python38\\lib\\site-packages\\numpy\\lib\\nanfunctions.py:1117: RuntimeWarning: Mean of empty slice\n",
      "  return np.nanmean(a, axis, out=out, keepdims=keepdims)\n",
      "c:\\program files\\python38\\lib\\site-packages\\numpy\\lib\\nanfunctions.py:1117: RuntimeWarning: Mean of empty slice\n",
      "  return np.nanmean(a, axis, out=out, keepdims=keepdims)\n",
      "c:\\program files\\python38\\lib\\site-packages\\numpy\\lib\\nanfunctions.py:1117: RuntimeWarning: Mean of empty slice\n",
      "  return np.nanmean(a, axis, out=out, keepdims=keepdims)\n",
      "c:\\program files\\python38\\lib\\site-packages\\numpy\\lib\\nanfunctions.py:1117: RuntimeWarning: Mean of empty slice\n",
      "  return np.nanmean(a, axis, out=out, keepdims=keepdims)\n",
      "c:\\program files\\python38\\lib\\site-packages\\numpy\\lib\\nanfunctions.py:1117: RuntimeWarning: Mean of empty slice\n",
      "  return np.nanmean(a, axis, out=out, keepdims=keepdims)\n",
      "c:\\program files\\python38\\lib\\site-packages\\numpy\\lib\\nanfunctions.py:1117: RuntimeWarning: Mean of empty slice\n",
      "  return np.nanmean(a, axis, out=out, keepdims=keepdims)\n",
      "c:\\program files\\python38\\lib\\site-packages\\numpy\\lib\\nanfunctions.py:1117: RuntimeWarning: Mean of empty slice\n",
      "  return np.nanmean(a, axis, out=out, keepdims=keepdims)\n",
      "c:\\program files\\python38\\lib\\site-packages\\numpy\\lib\\nanfunctions.py:1117: RuntimeWarning: Mean of empty slice\n",
      "  return np.nanmean(a, axis, out=out, keepdims=keepdims)\n",
      "c:\\program files\\python38\\lib\\site-packages\\numpy\\lib\\nanfunctions.py:1117: RuntimeWarning: Mean of empty slice\n",
      "  return np.nanmean(a, axis, out=out, keepdims=keepdims)\n",
      "c:\\program files\\python38\\lib\\site-packages\\numpy\\lib\\nanfunctions.py:1117: RuntimeWarning: Mean of empty slice\n",
      "  return np.nanmean(a, axis, out=out, keepdims=keepdims)\n",
      "c:\\program files\\python38\\lib\\site-packages\\numpy\\lib\\nanfunctions.py:1117: RuntimeWarning: Mean of empty slice\n",
      "  return np.nanmean(a, axis, out=out, keepdims=keepdims)\n",
      "c:\\program files\\python38\\lib\\site-packages\\numpy\\lib\\nanfunctions.py:1117: RuntimeWarning: Mean of empty slice\n",
      "  return np.nanmean(a, axis, out=out, keepdims=keepdims)\n",
      "c:\\program files\\python38\\lib\\site-packages\\numpy\\lib\\nanfunctions.py:1117: RuntimeWarning: Mean of empty slice\n",
      "  return np.nanmean(a, axis, out=out, keepdims=keepdims)\n",
      "c:\\program files\\python38\\lib\\site-packages\\numpy\\lib\\nanfunctions.py:1117: RuntimeWarning: Mean of empty slice\n",
      "  return np.nanmean(a, axis, out=out, keepdims=keepdims)\n",
      "c:\\program files\\python38\\lib\\site-packages\\numpy\\lib\\nanfunctions.py:1117: RuntimeWarning: Mean of empty slice\n",
      "  return np.nanmean(a, axis, out=out, keepdims=keepdims)\n",
      "c:\\program files\\python38\\lib\\site-packages\\numpy\\lib\\nanfunctions.py:1117: RuntimeWarning: Mean of empty slice\n",
      "  return np.nanmean(a, axis, out=out, keepdims=keepdims)\n",
      "c:\\program files\\python38\\lib\\site-packages\\numpy\\lib\\nanfunctions.py:1117: RuntimeWarning: Mean of empty slice\n",
      "  return np.nanmean(a, axis, out=out, keepdims=keepdims)\n",
      "c:\\program files\\python38\\lib\\site-packages\\numpy\\lib\\nanfunctions.py:1117: RuntimeWarning: Mean of empty slice\n",
      "  return np.nanmean(a, axis, out=out, keepdims=keepdims)\n",
      "c:\\program files\\python38\\lib\\site-packages\\numpy\\lib\\nanfunctions.py:1117: RuntimeWarning: Mean of empty slice\n",
      "  return np.nanmean(a, axis, out=out, keepdims=keepdims)\n",
      "c:\\program files\\python38\\lib\\site-packages\\numpy\\lib\\nanfunctions.py:1117: RuntimeWarning: Mean of empty slice\n",
      "  return np.nanmean(a, axis, out=out, keepdims=keepdims)\n",
      "c:\\program files\\python38\\lib\\site-packages\\numpy\\lib\\nanfunctions.py:1117: RuntimeWarning: Mean of empty slice\n",
      "  return np.nanmean(a, axis, out=out, keepdims=keepdims)\n",
      "c:\\program files\\python38\\lib\\site-packages\\numpy\\lib\\nanfunctions.py:1117: RuntimeWarning: Mean of empty slice\n",
      "  return np.nanmean(a, axis, out=out, keepdims=keepdims)\n",
      "c:\\program files\\python38\\lib\\site-packages\\numpy\\lib\\nanfunctions.py:1117: RuntimeWarning: Mean of empty slice\n",
      "  return np.nanmean(a, axis, out=out, keepdims=keepdims)\n"
     ]
    },
    {
     "name": "stderr",
     "output_type": "stream",
     "text": [
      "c:\\program files\\python38\\lib\\site-packages\\numpy\\lib\\nanfunctions.py:1117: RuntimeWarning: Mean of empty slice\n",
      "  return np.nanmean(a, axis, out=out, keepdims=keepdims)\n",
      "c:\\program files\\python38\\lib\\site-packages\\numpy\\lib\\nanfunctions.py:1117: RuntimeWarning: Mean of empty slice\n",
      "  return np.nanmean(a, axis, out=out, keepdims=keepdims)\n",
      "c:\\program files\\python38\\lib\\site-packages\\numpy\\lib\\nanfunctions.py:1117: RuntimeWarning: Mean of empty slice\n",
      "  return np.nanmean(a, axis, out=out, keepdims=keepdims)\n",
      "c:\\program files\\python38\\lib\\site-packages\\numpy\\lib\\nanfunctions.py:1117: RuntimeWarning: Mean of empty slice\n",
      "  return np.nanmean(a, axis, out=out, keepdims=keepdims)\n",
      "c:\\program files\\python38\\lib\\site-packages\\numpy\\lib\\nanfunctions.py:1117: RuntimeWarning: Mean of empty slice\n",
      "  return np.nanmean(a, axis, out=out, keepdims=keepdims)\n",
      "c:\\program files\\python38\\lib\\site-packages\\numpy\\lib\\nanfunctions.py:1117: RuntimeWarning: Mean of empty slice\n",
      "  return np.nanmean(a, axis, out=out, keepdims=keepdims)\n",
      "c:\\program files\\python38\\lib\\site-packages\\numpy\\lib\\nanfunctions.py:1117: RuntimeWarning: Mean of empty slice\n",
      "  return np.nanmean(a, axis, out=out, keepdims=keepdims)\n",
      "c:\\program files\\python38\\lib\\site-packages\\numpy\\lib\\nanfunctions.py:1117: RuntimeWarning: Mean of empty slice\n",
      "  return np.nanmean(a, axis, out=out, keepdims=keepdims)\n",
      "c:\\program files\\python38\\lib\\site-packages\\numpy\\lib\\nanfunctions.py:1117: RuntimeWarning: Mean of empty slice\n",
      "  return np.nanmean(a, axis, out=out, keepdims=keepdims)\n",
      "c:\\program files\\python38\\lib\\site-packages\\numpy\\lib\\nanfunctions.py:1117: RuntimeWarning: Mean of empty slice\n",
      "  return np.nanmean(a, axis, out=out, keepdims=keepdims)\n",
      "c:\\program files\\python38\\lib\\site-packages\\numpy\\lib\\nanfunctions.py:1117: RuntimeWarning: Mean of empty slice\n",
      "  return np.nanmean(a, axis, out=out, keepdims=keepdims)\n",
      "c:\\program files\\python38\\lib\\site-packages\\numpy\\lib\\nanfunctions.py:1117: RuntimeWarning: Mean of empty slice\n",
      "  return np.nanmean(a, axis, out=out, keepdims=keepdims)\n",
      "c:\\program files\\python38\\lib\\site-packages\\numpy\\lib\\nanfunctions.py:1117: RuntimeWarning: Mean of empty slice\n",
      "  return np.nanmean(a, axis, out=out, keepdims=keepdims)\n",
      "c:\\program files\\python38\\lib\\site-packages\\numpy\\lib\\nanfunctions.py:1117: RuntimeWarning: Mean of empty slice\n",
      "  return np.nanmean(a, axis, out=out, keepdims=keepdims)\n",
      "c:\\program files\\python38\\lib\\site-packages\\numpy\\lib\\nanfunctions.py:1117: RuntimeWarning: Mean of empty slice\n",
      "  return np.nanmean(a, axis, out=out, keepdims=keepdims)\n",
      "c:\\program files\\python38\\lib\\site-packages\\numpy\\lib\\nanfunctions.py:1117: RuntimeWarning: Mean of empty slice\n",
      "  return np.nanmean(a, axis, out=out, keepdims=keepdims)\n",
      "c:\\program files\\python38\\lib\\site-packages\\numpy\\lib\\nanfunctions.py:1117: RuntimeWarning: Mean of empty slice\n",
      "  return np.nanmean(a, axis, out=out, keepdims=keepdims)\n",
      "c:\\program files\\python38\\lib\\site-packages\\numpy\\lib\\nanfunctions.py:1117: RuntimeWarning: Mean of empty slice\n",
      "  return np.nanmean(a, axis, out=out, keepdims=keepdims)\n",
      "c:\\program files\\python38\\lib\\site-packages\\numpy\\lib\\nanfunctions.py:1117: RuntimeWarning: Mean of empty slice\n",
      "  return np.nanmean(a, axis, out=out, keepdims=keepdims)\n",
      "c:\\program files\\python38\\lib\\site-packages\\numpy\\lib\\nanfunctions.py:1117: RuntimeWarning: Mean of empty slice\n",
      "  return np.nanmean(a, axis, out=out, keepdims=keepdims)\n",
      "c:\\program files\\python38\\lib\\site-packages\\numpy\\lib\\nanfunctions.py:1117: RuntimeWarning: Mean of empty slice\n",
      "  return np.nanmean(a, axis, out=out, keepdims=keepdims)\n",
      "c:\\program files\\python38\\lib\\site-packages\\numpy\\lib\\nanfunctions.py:1117: RuntimeWarning: Mean of empty slice\n",
      "  return np.nanmean(a, axis, out=out, keepdims=keepdims)\n",
      "c:\\program files\\python38\\lib\\site-packages\\numpy\\lib\\nanfunctions.py:1117: RuntimeWarning: Mean of empty slice\n",
      "  return np.nanmean(a, axis, out=out, keepdims=keepdims)\n",
      "c:\\program files\\python38\\lib\\site-packages\\numpy\\lib\\nanfunctions.py:1117: RuntimeWarning: Mean of empty slice\n",
      "  return np.nanmean(a, axis, out=out, keepdims=keepdims)\n",
      "c:\\program files\\python38\\lib\\site-packages\\numpy\\lib\\nanfunctions.py:1117: RuntimeWarning: Mean of empty slice\n",
      "  return np.nanmean(a, axis, out=out, keepdims=keepdims)\n",
      "c:\\program files\\python38\\lib\\site-packages\\numpy\\lib\\nanfunctions.py:1117: RuntimeWarning: Mean of empty slice\n",
      "  return np.nanmean(a, axis, out=out, keepdims=keepdims)\n",
      "c:\\program files\\python38\\lib\\site-packages\\numpy\\lib\\nanfunctions.py:1117: RuntimeWarning: Mean of empty slice\n",
      "  return np.nanmean(a, axis, out=out, keepdims=keepdims)\n",
      "c:\\program files\\python38\\lib\\site-packages\\numpy\\lib\\nanfunctions.py:1117: RuntimeWarning: Mean of empty slice\n",
      "  return np.nanmean(a, axis, out=out, keepdims=keepdims)\n",
      "c:\\program files\\python38\\lib\\site-packages\\numpy\\lib\\nanfunctions.py:1117: RuntimeWarning: Mean of empty slice\n",
      "  return np.nanmean(a, axis, out=out, keepdims=keepdims)\n",
      "c:\\program files\\python38\\lib\\site-packages\\numpy\\lib\\nanfunctions.py:1117: RuntimeWarning: Mean of empty slice\n",
      "  return np.nanmean(a, axis, out=out, keepdims=keepdims)\n",
      "c:\\program files\\python38\\lib\\site-packages\\numpy\\lib\\nanfunctions.py:1117: RuntimeWarning: Mean of empty slice\n",
      "  return np.nanmean(a, axis, out=out, keepdims=keepdims)\n",
      "c:\\program files\\python38\\lib\\site-packages\\numpy\\lib\\nanfunctions.py:1117: RuntimeWarning: Mean of empty slice\n",
      "  return np.nanmean(a, axis, out=out, keepdims=keepdims)\n",
      "c:\\program files\\python38\\lib\\site-packages\\numpy\\lib\\nanfunctions.py:1117: RuntimeWarning: Mean of empty slice\n",
      "  return np.nanmean(a, axis, out=out, keepdims=keepdims)\n",
      "c:\\program files\\python38\\lib\\site-packages\\numpy\\lib\\nanfunctions.py:1117: RuntimeWarning: Mean of empty slice\n",
      "  return np.nanmean(a, axis, out=out, keepdims=keepdims)\n",
      "c:\\program files\\python38\\lib\\site-packages\\numpy\\lib\\nanfunctions.py:1117: RuntimeWarning: Mean of empty slice\n",
      "  return np.nanmean(a, axis, out=out, keepdims=keepdims)\n",
      "c:\\program files\\python38\\lib\\site-packages\\numpy\\lib\\nanfunctions.py:1117: RuntimeWarning: Mean of empty slice\n",
      "  return np.nanmean(a, axis, out=out, keepdims=keepdims)\n",
      "c:\\program files\\python38\\lib\\site-packages\\numpy\\lib\\nanfunctions.py:1117: RuntimeWarning: Mean of empty slice\n",
      "  return np.nanmean(a, axis, out=out, keepdims=keepdims)\n",
      "c:\\program files\\python38\\lib\\site-packages\\numpy\\lib\\nanfunctions.py:1117: RuntimeWarning: Mean of empty slice\n",
      "  return np.nanmean(a, axis, out=out, keepdims=keepdims)\n",
      "c:\\program files\\python38\\lib\\site-packages\\numpy\\lib\\nanfunctions.py:1117: RuntimeWarning: Mean of empty slice\n",
      "  return np.nanmean(a, axis, out=out, keepdims=keepdims)\n",
      "c:\\program files\\python38\\lib\\site-packages\\numpy\\lib\\nanfunctions.py:1117: RuntimeWarning: Mean of empty slice\n",
      "  return np.nanmean(a, axis, out=out, keepdims=keepdims)\n",
      "c:\\program files\\python38\\lib\\site-packages\\numpy\\lib\\nanfunctions.py:1117: RuntimeWarning: Mean of empty slice\n",
      "  return np.nanmean(a, axis, out=out, keepdims=keepdims)\n",
      "c:\\program files\\python38\\lib\\site-packages\\numpy\\lib\\nanfunctions.py:1117: RuntimeWarning: Mean of empty slice\n",
      "  return np.nanmean(a, axis, out=out, keepdims=keepdims)\n",
      "c:\\program files\\python38\\lib\\site-packages\\numpy\\lib\\nanfunctions.py:1117: RuntimeWarning: Mean of empty slice\n",
      "  return np.nanmean(a, axis, out=out, keepdims=keepdims)\n",
      "c:\\program files\\python38\\lib\\site-packages\\numpy\\lib\\nanfunctions.py:1117: RuntimeWarning: Mean of empty slice\n",
      "  return np.nanmean(a, axis, out=out, keepdims=keepdims)\n",
      "c:\\program files\\python38\\lib\\site-packages\\numpy\\lib\\nanfunctions.py:1117: RuntimeWarning: Mean of empty slice\n",
      "  return np.nanmean(a, axis, out=out, keepdims=keepdims)\n",
      "c:\\program files\\python38\\lib\\site-packages\\numpy\\lib\\nanfunctions.py:1117: RuntimeWarning: Mean of empty slice\n",
      "  return np.nanmean(a, axis, out=out, keepdims=keepdims)\n",
      "c:\\program files\\python38\\lib\\site-packages\\numpy\\lib\\nanfunctions.py:1117: RuntimeWarning: Mean of empty slice\n",
      "  return np.nanmean(a, axis, out=out, keepdims=keepdims)\n",
      "c:\\program files\\python38\\lib\\site-packages\\numpy\\lib\\nanfunctions.py:1117: RuntimeWarning: Mean of empty slice\n",
      "  return np.nanmean(a, axis, out=out, keepdims=keepdims)\n",
      "c:\\program files\\python38\\lib\\site-packages\\numpy\\lib\\nanfunctions.py:1117: RuntimeWarning: Mean of empty slice\n",
      "  return np.nanmean(a, axis, out=out, keepdims=keepdims)\n",
      "c:\\program files\\python38\\lib\\site-packages\\numpy\\lib\\nanfunctions.py:1117: RuntimeWarning: Mean of empty slice\n",
      "  return np.nanmean(a, axis, out=out, keepdims=keepdims)\n"
     ]
    },
    {
     "name": "stderr",
     "output_type": "stream",
     "text": [
      "c:\\program files\\python38\\lib\\site-packages\\numpy\\lib\\nanfunctions.py:1117: RuntimeWarning: Mean of empty slice\n",
      "  return np.nanmean(a, axis, out=out, keepdims=keepdims)\n",
      "c:\\program files\\python38\\lib\\site-packages\\numpy\\lib\\nanfunctions.py:1117: RuntimeWarning: Mean of empty slice\n",
      "  return np.nanmean(a, axis, out=out, keepdims=keepdims)\n",
      "c:\\program files\\python38\\lib\\site-packages\\numpy\\lib\\nanfunctions.py:1117: RuntimeWarning: Mean of empty slice\n",
      "  return np.nanmean(a, axis, out=out, keepdims=keepdims)\n",
      "c:\\program files\\python38\\lib\\site-packages\\numpy\\lib\\nanfunctions.py:1117: RuntimeWarning: Mean of empty slice\n",
      "  return np.nanmean(a, axis, out=out, keepdims=keepdims)\n",
      "c:\\program files\\python38\\lib\\site-packages\\numpy\\lib\\nanfunctions.py:1117: RuntimeWarning: Mean of empty slice\n",
      "  return np.nanmean(a, axis, out=out, keepdims=keepdims)\n",
      "c:\\program files\\python38\\lib\\site-packages\\numpy\\lib\\nanfunctions.py:1117: RuntimeWarning: Mean of empty slice\n",
      "  return np.nanmean(a, axis, out=out, keepdims=keepdims)\n",
      "c:\\program files\\python38\\lib\\site-packages\\numpy\\lib\\nanfunctions.py:1117: RuntimeWarning: Mean of empty slice\n",
      "  return np.nanmean(a, axis, out=out, keepdims=keepdims)\n",
      "c:\\program files\\python38\\lib\\site-packages\\numpy\\lib\\nanfunctions.py:1117: RuntimeWarning: Mean of empty slice\n",
      "  return np.nanmean(a, axis, out=out, keepdims=keepdims)\n",
      "c:\\program files\\python38\\lib\\site-packages\\numpy\\lib\\nanfunctions.py:1117: RuntimeWarning: Mean of empty slice\n",
      "  return np.nanmean(a, axis, out=out, keepdims=keepdims)\n",
      "c:\\program files\\python38\\lib\\site-packages\\numpy\\lib\\nanfunctions.py:1117: RuntimeWarning: Mean of empty slice\n",
      "  return np.nanmean(a, axis, out=out, keepdims=keepdims)\n",
      "c:\\program files\\python38\\lib\\site-packages\\numpy\\lib\\nanfunctions.py:1117: RuntimeWarning: Mean of empty slice\n",
      "  return np.nanmean(a, axis, out=out, keepdims=keepdims)\n",
      "c:\\program files\\python38\\lib\\site-packages\\numpy\\lib\\nanfunctions.py:1117: RuntimeWarning: Mean of empty slice\n",
      "  return np.nanmean(a, axis, out=out, keepdims=keepdims)\n",
      "c:\\program files\\python38\\lib\\site-packages\\numpy\\lib\\nanfunctions.py:1117: RuntimeWarning: Mean of empty slice\n",
      "  return np.nanmean(a, axis, out=out, keepdims=keepdims)\n",
      "c:\\program files\\python38\\lib\\site-packages\\numpy\\lib\\nanfunctions.py:1117: RuntimeWarning: Mean of empty slice\n",
      "  return np.nanmean(a, axis, out=out, keepdims=keepdims)\n",
      "c:\\program files\\python38\\lib\\site-packages\\numpy\\lib\\nanfunctions.py:1117: RuntimeWarning: Mean of empty slice\n",
      "  return np.nanmean(a, axis, out=out, keepdims=keepdims)\n",
      "c:\\program files\\python38\\lib\\site-packages\\numpy\\lib\\nanfunctions.py:1117: RuntimeWarning: Mean of empty slice\n",
      "  return np.nanmean(a, axis, out=out, keepdims=keepdims)\n",
      "c:\\program files\\python38\\lib\\site-packages\\numpy\\lib\\nanfunctions.py:1117: RuntimeWarning: Mean of empty slice\n",
      "  return np.nanmean(a, axis, out=out, keepdims=keepdims)\n",
      "c:\\program files\\python38\\lib\\site-packages\\numpy\\lib\\nanfunctions.py:1117: RuntimeWarning: Mean of empty slice\n",
      "  return np.nanmean(a, axis, out=out, keepdims=keepdims)\n",
      "c:\\program files\\python38\\lib\\site-packages\\numpy\\lib\\nanfunctions.py:1117: RuntimeWarning: Mean of empty slice\n",
      "  return np.nanmean(a, axis, out=out, keepdims=keepdims)\n",
      "c:\\program files\\python38\\lib\\site-packages\\numpy\\lib\\nanfunctions.py:1117: RuntimeWarning: Mean of empty slice\n",
      "  return np.nanmean(a, axis, out=out, keepdims=keepdims)\n",
      "c:\\program files\\python38\\lib\\site-packages\\numpy\\lib\\nanfunctions.py:1117: RuntimeWarning: Mean of empty slice\n",
      "  return np.nanmean(a, axis, out=out, keepdims=keepdims)\n",
      "c:\\program files\\python38\\lib\\site-packages\\numpy\\lib\\nanfunctions.py:1117: RuntimeWarning: Mean of empty slice\n",
      "  return np.nanmean(a, axis, out=out, keepdims=keepdims)\n"
     ]
    }
   ],
   "source": [
    "# заполняем пропуски медианой по известным данным\n",
    "games['year_of_release'] = games.groupby('name')['year_of_release'].apply(\n",
    "    lambda x: x.fillna(x.median()))"
   ]
  },
  {
   "cell_type": "code",
   "execution_count": 13,
   "metadata": {},
   "outputs": [
    {
     "data": {
      "text/html": [
       "<div>\n",
       "<style scoped>\n",
       "    .dataframe tbody tr th:only-of-type {\n",
       "        vertical-align: middle;\n",
       "    }\n",
       "\n",
       "    .dataframe tbody tr th {\n",
       "        vertical-align: top;\n",
       "    }\n",
       "\n",
       "    .dataframe thead th {\n",
       "        text-align: right;\n",
       "    }\n",
       "</style>\n",
       "<table border=\"1\" class=\"dataframe\">\n",
       "  <thead>\n",
       "    <tr style=\"text-align: right;\">\n",
       "      <th></th>\n",
       "      <th>name</th>\n",
       "      <th>platform</th>\n",
       "      <th>year_of_release</th>\n",
       "      <th>genre</th>\n",
       "      <th>na_sales</th>\n",
       "      <th>eu_sales</th>\n",
       "      <th>jp_sales</th>\n",
       "      <th>other_sales</th>\n",
       "      <th>critic_score</th>\n",
       "      <th>user_score</th>\n",
       "      <th>rating</th>\n",
       "    </tr>\n",
       "  </thead>\n",
       "  <tbody>\n",
       "    <tr>\n",
       "      <th>1301</th>\n",
       "      <td>Triple Play 99</td>\n",
       "      <td>PS</td>\n",
       "      <td>NaN</td>\n",
       "      <td>Sports</td>\n",
       "      <td>0.81</td>\n",
       "      <td>0.55</td>\n",
       "      <td>0.00</td>\n",
       "      <td>0.10</td>\n",
       "      <td>NaN</td>\n",
       "      <td>NaN</td>\n",
       "      <td>NaN</td>\n",
       "    </tr>\n",
       "    <tr>\n",
       "      <th>1984</th>\n",
       "      <td>Legacy of Kain: Soul Reaver</td>\n",
       "      <td>PS</td>\n",
       "      <td>NaN</td>\n",
       "      <td>Action</td>\n",
       "      <td>0.58</td>\n",
       "      <td>0.40</td>\n",
       "      <td>0.00</td>\n",
       "      <td>0.07</td>\n",
       "      <td>91.0</td>\n",
       "      <td>9</td>\n",
       "      <td>T</td>\n",
       "    </tr>\n",
       "    <tr>\n",
       "      <th>2010</th>\n",
       "      <td>Donkey Kong Land III</td>\n",
       "      <td>GB</td>\n",
       "      <td>NaN</td>\n",
       "      <td>Platform</td>\n",
       "      <td>0.68</td>\n",
       "      <td>0.31</td>\n",
       "      <td>0.00</td>\n",
       "      <td>0.04</td>\n",
       "      <td>NaN</td>\n",
       "      <td>NaN</td>\n",
       "      <td>NaN</td>\n",
       "    </tr>\n",
       "    <tr>\n",
       "      <th>2106</th>\n",
       "      <td>Air-Sea Battle</td>\n",
       "      <td>2600</td>\n",
       "      <td>NaN</td>\n",
       "      <td>Shooter</td>\n",
       "      <td>0.91</td>\n",
       "      <td>0.06</td>\n",
       "      <td>0.00</td>\n",
       "      <td>0.01</td>\n",
       "      <td>NaN</td>\n",
       "      <td>NaN</td>\n",
       "      <td>NaN</td>\n",
       "    </tr>\n",
       "    <tr>\n",
       "      <th>2108</th>\n",
       "      <td>Suikoden III</td>\n",
       "      <td>PS2</td>\n",
       "      <td>NaN</td>\n",
       "      <td>Role-Playing</td>\n",
       "      <td>0.29</td>\n",
       "      <td>0.23</td>\n",
       "      <td>0.38</td>\n",
       "      <td>0.08</td>\n",
       "      <td>86.0</td>\n",
       "      <td>7.7</td>\n",
       "      <td>T</td>\n",
       "    </tr>\n",
       "    <tr>\n",
       "      <th>...</th>\n",
       "      <td>...</td>\n",
       "      <td>...</td>\n",
       "      <td>...</td>\n",
       "      <td>...</td>\n",
       "      <td>...</td>\n",
       "      <td>...</td>\n",
       "      <td>...</td>\n",
       "      <td>...</td>\n",
       "      <td>...</td>\n",
       "      <td>...</td>\n",
       "      <td>...</td>\n",
       "    </tr>\n",
       "    <tr>\n",
       "      <th>16277</th>\n",
       "      <td>Homeworld Remastered Collection</td>\n",
       "      <td>PC</td>\n",
       "      <td>NaN</td>\n",
       "      <td>Strategy</td>\n",
       "      <td>0.00</td>\n",
       "      <td>0.01</td>\n",
       "      <td>0.00</td>\n",
       "      <td>0.00</td>\n",
       "      <td>86.0</td>\n",
       "      <td>8.2</td>\n",
       "      <td>E10+</td>\n",
       "    </tr>\n",
       "    <tr>\n",
       "      <th>16288</th>\n",
       "      <td>Shorts</td>\n",
       "      <td>DS</td>\n",
       "      <td>NaN</td>\n",
       "      <td>Platform</td>\n",
       "      <td>0.01</td>\n",
       "      <td>0.00</td>\n",
       "      <td>0.00</td>\n",
       "      <td>0.00</td>\n",
       "      <td>NaN</td>\n",
       "      <td>tbd</td>\n",
       "      <td>E10+</td>\n",
       "    </tr>\n",
       "    <tr>\n",
       "      <th>16348</th>\n",
       "      <td>Agarest Senki: Re-appearance</td>\n",
       "      <td>PS3</td>\n",
       "      <td>NaN</td>\n",
       "      <td>Role-Playing</td>\n",
       "      <td>0.00</td>\n",
       "      <td>0.00</td>\n",
       "      <td>0.01</td>\n",
       "      <td>0.00</td>\n",
       "      <td>NaN</td>\n",
       "      <td>NaN</td>\n",
       "      <td>NaN</td>\n",
       "    </tr>\n",
       "    <tr>\n",
       "      <th>16458</th>\n",
       "      <td>Hakuouki: Shinsengumi Kitan</td>\n",
       "      <td>PS3</td>\n",
       "      <td>NaN</td>\n",
       "      <td>Adventure</td>\n",
       "      <td>0.01</td>\n",
       "      <td>0.00</td>\n",
       "      <td>0.00</td>\n",
       "      <td>0.00</td>\n",
       "      <td>NaN</td>\n",
       "      <td>NaN</td>\n",
       "      <td>NaN</td>\n",
       "    </tr>\n",
       "    <tr>\n",
       "      <th>16522</th>\n",
       "      <td>Virtua Quest</td>\n",
       "      <td>GC</td>\n",
       "      <td>NaN</td>\n",
       "      <td>Role-Playing</td>\n",
       "      <td>0.01</td>\n",
       "      <td>0.00</td>\n",
       "      <td>0.00</td>\n",
       "      <td>0.00</td>\n",
       "      <td>55.0</td>\n",
       "      <td>5.5</td>\n",
       "      <td>T</td>\n",
       "    </tr>\n",
       "  </tbody>\n",
       "</table>\n",
       "<p>138 rows × 11 columns</p>\n",
       "</div>"
      ],
      "text/plain": [
       "                                  name platform  year_of_release  \\\n",
       "1301                    Triple Play 99       PS              NaN   \n",
       "1984       Legacy of Kain: Soul Reaver       PS              NaN   \n",
       "2010              Donkey Kong Land III       GB              NaN   \n",
       "2106                    Air-Sea Battle     2600              NaN   \n",
       "2108                      Suikoden III      PS2              NaN   \n",
       "...                                ...      ...              ...   \n",
       "16277  Homeworld Remastered Collection       PC              NaN   \n",
       "16288                           Shorts       DS              NaN   \n",
       "16348     Agarest Senki: Re-appearance      PS3              NaN   \n",
       "16458      Hakuouki: Shinsengumi Kitan      PS3              NaN   \n",
       "16522                     Virtua Quest       GC              NaN   \n",
       "\n",
       "              genre  na_sales  eu_sales  jp_sales  other_sales  critic_score  \\\n",
       "1301         Sports      0.81      0.55      0.00         0.10           NaN   \n",
       "1984         Action      0.58      0.40      0.00         0.07          91.0   \n",
       "2010       Platform      0.68      0.31      0.00         0.04           NaN   \n",
       "2106        Shooter      0.91      0.06      0.00         0.01           NaN   \n",
       "2108   Role-Playing      0.29      0.23      0.38         0.08          86.0   \n",
       "...             ...       ...       ...       ...          ...           ...   \n",
       "16277      Strategy      0.00      0.01      0.00         0.00          86.0   \n",
       "16288      Platform      0.01      0.00      0.00         0.00           NaN   \n",
       "16348  Role-Playing      0.00      0.00      0.01         0.00           NaN   \n",
       "16458     Adventure      0.01      0.00      0.00         0.00           NaN   \n",
       "16522  Role-Playing      0.01      0.00      0.00         0.00          55.0   \n",
       "\n",
       "      user_score rating  \n",
       "1301         NaN    NaN  \n",
       "1984           9      T  \n",
       "2010         NaN    NaN  \n",
       "2106         NaN    NaN  \n",
       "2108         7.7      T  \n",
       "...          ...    ...  \n",
       "16277        8.2   E10+  \n",
       "16288        tbd   E10+  \n",
       "16348        NaN    NaN  \n",
       "16458        NaN    NaN  \n",
       "16522        5.5      T  \n",
       "\n",
       "[138 rows x 11 columns]"
      ]
     },
     "execution_count": 13,
     "metadata": {},
     "output_type": "execute_result"
    }
   ],
   "source": [
    "games.loc[games['year_of_release'].isna()]"
   ]
  },
  {
   "cell_type": "markdown",
   "metadata": {},
   "source": [
    "У нас осталось 138 пропусков, или 0,83% от общего числа данных. Удалим их из таблицы и приведём столбец к целочисленному типу:"
   ]
  },
  {
   "cell_type": "code",
   "execution_count": 14,
   "metadata": {},
   "outputs": [
    {
     "name": "stdout",
     "output_type": "stream",
     "text": [
      "<class 'pandas.core.frame.DataFrame'>\n",
      "Int64Index: 16575 entries, 0 to 16714\n",
      "Data columns (total 11 columns):\n",
      " #   Column           Non-Null Count  Dtype  \n",
      "---  ------           --------------  -----  \n",
      " 0   name             16575 non-null  object \n",
      " 1   platform         16575 non-null  object \n",
      " 2   year_of_release  16575 non-null  int32  \n",
      " 3   genre            16575 non-null  object \n",
      " 4   na_sales         16575 non-null  float64\n",
      " 5   eu_sales         16575 non-null  float64\n",
      " 6   jp_sales         16575 non-null  float64\n",
      " 7   other_sales      16575 non-null  float64\n",
      " 8   critic_score     8080 non-null   float64\n",
      " 9   user_score       9939 non-null   object \n",
      " 10  rating           9873 non-null   object \n",
      "dtypes: float64(5), int32(1), object(5)\n",
      "memory usage: 1.5+ MB\n"
     ]
    }
   ],
   "source": [
    "games.dropna(subset = ['year_of_release'], inplace = True)        \n",
    "games['year_of_release'] = games['year_of_release'].astype(int)  \n",
    "games.info()"
   ]
  },
  {
   "cell_type": "markdown",
   "metadata": {},
   "source": [
    "Рассмотрим, какие значения принимает столбец с **жанром** игры:"
   ]
  },
  {
   "cell_type": "code",
   "execution_count": 15,
   "metadata": {},
   "outputs": [
    {
     "data": {
      "text/plain": [
       "Action          3343\n",
       "Sports          2333\n",
       "Misc            1739\n",
       "Role-Playing    1484\n",
       "Shooter         1311\n",
       "Adventure       1296\n",
       "Racing          1236\n",
       "Platform         879\n",
       "Simulation       860\n",
       "Fighting         843\n",
       "Strategy         678\n",
       "Puzzle           573\n",
       "Name: genre, dtype: int64"
      ]
     },
     "execution_count": 15,
     "metadata": {},
     "output_type": "execute_result"
    }
   ],
   "source": [
    "games['genre'].value_counts()"
   ]
  },
  {
   "cell_type": "markdown",
   "metadata": {},
   "source": [
    "Скрытых дубликатов нет. \n",
    "\n",
    "В столбцах с данными о **продажах по регионам** нет пропусков, они хранятся в нужном нам формате float, поэтому их обрабатывать не требуется.\n",
    "\n",
    "Перейдём к столбцу с **оценкой критиков**:"
   ]
  },
  {
   "cell_type": "code",
   "execution_count": 16,
   "metadata": {},
   "outputs": [
    {
     "data": {
      "text/plain": [
       "count    8080.000000\n",
       "mean       69.001114\n",
       "std        13.925140\n",
       "min        13.000000\n",
       "25%        60.000000\n",
       "50%        71.000000\n",
       "75%        79.000000\n",
       "max        98.000000\n",
       "Name: critic_score, dtype: float64"
      ]
     },
     "execution_count": 16,
     "metadata": {},
     "output_type": "execute_result"
    }
   ],
   "source": [
    "games['critic_score'].describe()"
   ]
  },
  {
   "cell_type": "markdown",
   "metadata": {},
   "source": [
    "Минимальные и максимальные значения в норме - не ниже 0 и не более 100. Однако в этом столбце очень много пропусков: 51% не заполнено. Проверим, зависит ли наличие оценок от года релиза:"
   ]
  },
  {
   "cell_type": "code",
   "execution_count": 17,
   "metadata": {},
   "outputs": [
    {
     "data": {
      "text/plain": [
       "2009    776\n",
       "2010    758\n",
       "2008    716\n",
       "2011    646\n",
       "2007    506\n",
       "2006    388\n",
       "2015    381\n",
       "1998    351\n",
       "2012    334\n",
       "2014    320\n",
       "1999    300\n",
       "2005    285\n",
       "2013    272\n",
       "1997    272\n",
       "2016    270\n",
       "1996    255\n",
       "1995    219\n",
       "2000    208\n",
       "2002    203\n",
       "2004    203\n",
       "2003    191\n",
       "2001    156\n",
       "1994    120\n",
       "1993     60\n",
       "1981     46\n",
       "1992     42\n",
       "1991     41\n",
       "1982     36\n",
       "1986     21\n",
       "1989     17\n",
       "1983     17\n",
       "1987     16\n",
       "1990     16\n",
       "1984     14\n",
       "1988     14\n",
       "1985     13\n",
       "1980     10\n",
       "1979      1\n",
       "1977      1\n",
       "Name: year_of_release, dtype: int64"
      ]
     },
     "execution_count": 17,
     "metadata": {},
     "output_type": "execute_result"
    }
   ],
   "source": [
    "games.loc[games['critic_score'].isna()]['year_of_release'].value_counts()"
   ]
  },
  {
   "cell_type": "markdown",
   "metadata": {},
   "source": [
    "Нет, даже для многих свежих игр отсутствует оценка критиков. Рассмотрим пропуски на примере игры Need for Speed: Most Wanted, которая в таблице встречается чаще других:"
   ]
  },
  {
   "cell_type": "code",
   "execution_count": 18,
   "metadata": {},
   "outputs": [
    {
     "data": {
      "text/html": [
       "<div>\n",
       "<style scoped>\n",
       "    .dataframe tbody tr th:only-of-type {\n",
       "        vertical-align: middle;\n",
       "    }\n",
       "\n",
       "    .dataframe tbody tr th {\n",
       "        vertical-align: top;\n",
       "    }\n",
       "\n",
       "    .dataframe thead th {\n",
       "        text-align: right;\n",
       "    }\n",
       "</style>\n",
       "<table border=\"1\" class=\"dataframe\">\n",
       "  <thead>\n",
       "    <tr style=\"text-align: right;\">\n",
       "      <th></th>\n",
       "      <th>name</th>\n",
       "      <th>platform</th>\n",
       "      <th>year_of_release</th>\n",
       "      <th>genre</th>\n",
       "      <th>na_sales</th>\n",
       "      <th>eu_sales</th>\n",
       "      <th>jp_sales</th>\n",
       "      <th>other_sales</th>\n",
       "      <th>critic_score</th>\n",
       "      <th>user_score</th>\n",
       "      <th>rating</th>\n",
       "    </tr>\n",
       "  </thead>\n",
       "  <tbody>\n",
       "    <tr>\n",
       "      <th>253</th>\n",
       "      <td>Need for Speed: Most Wanted</td>\n",
       "      <td>PS2</td>\n",
       "      <td>2005</td>\n",
       "      <td>Racing</td>\n",
       "      <td>2.03</td>\n",
       "      <td>1.79</td>\n",
       "      <td>0.08</td>\n",
       "      <td>0.47</td>\n",
       "      <td>82.0</td>\n",
       "      <td>9.1</td>\n",
       "      <td>T</td>\n",
       "    </tr>\n",
       "    <tr>\n",
       "      <th>523</th>\n",
       "      <td>Need for Speed: Most Wanted</td>\n",
       "      <td>PS3</td>\n",
       "      <td>2012</td>\n",
       "      <td>Racing</td>\n",
       "      <td>0.71</td>\n",
       "      <td>1.46</td>\n",
       "      <td>0.06</td>\n",
       "      <td>0.58</td>\n",
       "      <td>NaN</td>\n",
       "      <td>NaN</td>\n",
       "      <td>NaN</td>\n",
       "    </tr>\n",
       "    <tr>\n",
       "      <th>1190</th>\n",
       "      <td>Need for Speed: Most Wanted</td>\n",
       "      <td>X360</td>\n",
       "      <td>2012</td>\n",
       "      <td>Racing</td>\n",
       "      <td>0.62</td>\n",
       "      <td>0.78</td>\n",
       "      <td>0.01</td>\n",
       "      <td>0.15</td>\n",
       "      <td>83.0</td>\n",
       "      <td>8.5</td>\n",
       "      <td>T</td>\n",
       "    </tr>\n",
       "    <tr>\n",
       "      <th>1591</th>\n",
       "      <td>Need for Speed: Most Wanted</td>\n",
       "      <td>X360</td>\n",
       "      <td>2005</td>\n",
       "      <td>Racing</td>\n",
       "      <td>1.00</td>\n",
       "      <td>0.13</td>\n",
       "      <td>0.02</td>\n",
       "      <td>0.10</td>\n",
       "      <td>83.0</td>\n",
       "      <td>8.5</td>\n",
       "      <td>T</td>\n",
       "    </tr>\n",
       "    <tr>\n",
       "      <th>1998</th>\n",
       "      <td>Need for Speed: Most Wanted</td>\n",
       "      <td>XB</td>\n",
       "      <td>2005</td>\n",
       "      <td>Racing</td>\n",
       "      <td>0.53</td>\n",
       "      <td>0.46</td>\n",
       "      <td>0.00</td>\n",
       "      <td>0.05</td>\n",
       "      <td>83.0</td>\n",
       "      <td>8.8</td>\n",
       "      <td>T</td>\n",
       "    </tr>\n",
       "    <tr>\n",
       "      <th>2048</th>\n",
       "      <td>Need for Speed: Most Wanted</td>\n",
       "      <td>PSV</td>\n",
       "      <td>2012</td>\n",
       "      <td>Racing</td>\n",
       "      <td>0.33</td>\n",
       "      <td>0.45</td>\n",
       "      <td>0.01</td>\n",
       "      <td>0.22</td>\n",
       "      <td>NaN</td>\n",
       "      <td>NaN</td>\n",
       "      <td>NaN</td>\n",
       "    </tr>\n",
       "    <tr>\n",
       "      <th>3581</th>\n",
       "      <td>Need for Speed: Most Wanted</td>\n",
       "      <td>GC</td>\n",
       "      <td>2005</td>\n",
       "      <td>Racing</td>\n",
       "      <td>0.43</td>\n",
       "      <td>0.11</td>\n",
       "      <td>0.00</td>\n",
       "      <td>0.02</td>\n",
       "      <td>80.0</td>\n",
       "      <td>9.1</td>\n",
       "      <td>T</td>\n",
       "    </tr>\n",
       "    <tr>\n",
       "      <th>5972</th>\n",
       "      <td>Need for Speed: Most Wanted</td>\n",
       "      <td>PC</td>\n",
       "      <td>2005</td>\n",
       "      <td>Racing</td>\n",
       "      <td>0.02</td>\n",
       "      <td>0.23</td>\n",
       "      <td>0.00</td>\n",
       "      <td>0.04</td>\n",
       "      <td>82.0</td>\n",
       "      <td>8.5</td>\n",
       "      <td>T</td>\n",
       "    </tr>\n",
       "    <tr>\n",
       "      <th>6273</th>\n",
       "      <td>Need for Speed: Most Wanted</td>\n",
       "      <td>WiiU</td>\n",
       "      <td>2013</td>\n",
       "      <td>Racing</td>\n",
       "      <td>0.13</td>\n",
       "      <td>0.12</td>\n",
       "      <td>0.00</td>\n",
       "      <td>0.02</td>\n",
       "      <td>NaN</td>\n",
       "      <td>NaN</td>\n",
       "      <td>NaN</td>\n",
       "    </tr>\n",
       "    <tr>\n",
       "      <th>6410</th>\n",
       "      <td>Need for Speed: Most Wanted</td>\n",
       "      <td>DS</td>\n",
       "      <td>2005</td>\n",
       "      <td>Racing</td>\n",
       "      <td>0.24</td>\n",
       "      <td>0.01</td>\n",
       "      <td>0.00</td>\n",
       "      <td>0.02</td>\n",
       "      <td>45.0</td>\n",
       "      <td>6.1</td>\n",
       "      <td>E</td>\n",
       "    </tr>\n",
       "    <tr>\n",
       "      <th>6473</th>\n",
       "      <td>Need for Speed: Most Wanted</td>\n",
       "      <td>GBA</td>\n",
       "      <td>2005</td>\n",
       "      <td>Racing</td>\n",
       "      <td>0.19</td>\n",
       "      <td>0.07</td>\n",
       "      <td>0.00</td>\n",
       "      <td>0.00</td>\n",
       "      <td>NaN</td>\n",
       "      <td>8.3</td>\n",
       "      <td>E</td>\n",
       "    </tr>\n",
       "    <tr>\n",
       "      <th>11715</th>\n",
       "      <td>Need for Speed: Most Wanted</td>\n",
       "      <td>PC</td>\n",
       "      <td>2012</td>\n",
       "      <td>Racing</td>\n",
       "      <td>0.00</td>\n",
       "      <td>0.06</td>\n",
       "      <td>0.00</td>\n",
       "      <td>0.02</td>\n",
       "      <td>82.0</td>\n",
       "      <td>8.5</td>\n",
       "      <td>T</td>\n",
       "    </tr>\n",
       "  </tbody>\n",
       "</table>\n",
       "</div>"
      ],
      "text/plain": [
       "                              name platform  year_of_release   genre  \\\n",
       "253    Need for Speed: Most Wanted      PS2             2005  Racing   \n",
       "523    Need for Speed: Most Wanted      PS3             2012  Racing   \n",
       "1190   Need for Speed: Most Wanted     X360             2012  Racing   \n",
       "1591   Need for Speed: Most Wanted     X360             2005  Racing   \n",
       "1998   Need for Speed: Most Wanted       XB             2005  Racing   \n",
       "2048   Need for Speed: Most Wanted      PSV             2012  Racing   \n",
       "3581   Need for Speed: Most Wanted       GC             2005  Racing   \n",
       "5972   Need for Speed: Most Wanted       PC             2005  Racing   \n",
       "6273   Need for Speed: Most Wanted     WiiU             2013  Racing   \n",
       "6410   Need for Speed: Most Wanted       DS             2005  Racing   \n",
       "6473   Need for Speed: Most Wanted      GBA             2005  Racing   \n",
       "11715  Need for Speed: Most Wanted       PC             2012  Racing   \n",
       "\n",
       "       na_sales  eu_sales  jp_sales  other_sales  critic_score user_score  \\\n",
       "253        2.03      1.79      0.08         0.47          82.0        9.1   \n",
       "523        0.71      1.46      0.06         0.58           NaN        NaN   \n",
       "1190       0.62      0.78      0.01         0.15          83.0        8.5   \n",
       "1591       1.00      0.13      0.02         0.10          83.0        8.5   \n",
       "1998       0.53      0.46      0.00         0.05          83.0        8.8   \n",
       "2048       0.33      0.45      0.01         0.22           NaN        NaN   \n",
       "3581       0.43      0.11      0.00         0.02          80.0        9.1   \n",
       "5972       0.02      0.23      0.00         0.04          82.0        8.5   \n",
       "6273       0.13      0.12      0.00         0.02           NaN        NaN   \n",
       "6410       0.24      0.01      0.00         0.02          45.0        6.1   \n",
       "6473       0.19      0.07      0.00         0.00           NaN        8.3   \n",
       "11715      0.00      0.06      0.00         0.02          82.0        8.5   \n",
       "\n",
       "      rating  \n",
       "253        T  \n",
       "523      NaN  \n",
       "1190       T  \n",
       "1591       T  \n",
       "1998       T  \n",
       "2048     NaN  \n",
       "3581       T  \n",
       "5972       T  \n",
       "6273     NaN  \n",
       "6410       E  \n",
       "6473       E  \n",
       "11715      T  "
      ]
     },
     "execution_count": 18,
     "metadata": {},
     "output_type": "execute_result"
    }
   ],
   "source": [
    "games.query('name == \"Need for Speed: Most Wanted\"')"
   ]
  },
  {
   "cell_type": "markdown",
   "metadata": {},
   "source": [
    "Как можно видеть, оценка критиков, пользователей и даже рейтинг неодинаковы для разных платформ, поэтому заполнять пропуски исходя из имеющихся данных было бы некорректным. Поскольку минимальное значение дейсвительно выставленной оценки в нашей таблице - 13, можно заменить пропуски в этом столбце на 0, в дальнейшем при анализе будем иметь в виду, что 0 - отсутствующие значения. "
   ]
  },
  {
   "cell_type": "code",
   "execution_count": 19,
   "metadata": {},
   "outputs": [],
   "source": [
    "games['critic_score'] = games['critic_score'].fillna(0)\n",
    "games['critic_score'] = games['critic_score'].astype(int)"
   ]
  },
  {
   "cell_type": "markdown",
   "metadata": {},
   "source": [
    "Столбец с **оценкой пользователей**:"
   ]
  },
  {
   "cell_type": "code",
   "execution_count": 20,
   "metadata": {},
   "outputs": [
    {
     "data": {
      "text/plain": [
       "count     9939\n",
       "unique      96\n",
       "top        tbd\n",
       "freq      2395\n",
       "Name: user_score, dtype: object"
      ]
     },
     "execution_count": 20,
     "metadata": {},
     "output_type": "execute_result"
    }
   ],
   "source": [
    "games['user_score'].describe()"
   ]
  },
  {
   "cell_type": "code",
   "execution_count": 21,
   "metadata": {},
   "outputs": [
    {
     "data": {
      "text/html": [
       "<div>\n",
       "<style scoped>\n",
       "    .dataframe tbody tr th:only-of-type {\n",
       "        vertical-align: middle;\n",
       "    }\n",
       "\n",
       "    .dataframe tbody tr th {\n",
       "        vertical-align: top;\n",
       "    }\n",
       "\n",
       "    .dataframe thead th {\n",
       "        text-align: right;\n",
       "    }\n",
       "</style>\n",
       "<table border=\"1\" class=\"dataframe\">\n",
       "  <thead>\n",
       "    <tr style=\"text-align: right;\">\n",
       "      <th></th>\n",
       "      <th>name</th>\n",
       "      <th>platform</th>\n",
       "      <th>year_of_release</th>\n",
       "      <th>genre</th>\n",
       "      <th>na_sales</th>\n",
       "      <th>eu_sales</th>\n",
       "      <th>jp_sales</th>\n",
       "      <th>other_sales</th>\n",
       "      <th>critic_score</th>\n",
       "      <th>user_score</th>\n",
       "      <th>rating</th>\n",
       "    </tr>\n",
       "  </thead>\n",
       "  <tbody>\n",
       "    <tr>\n",
       "      <th>119</th>\n",
       "      <td>Zumba Fitness</td>\n",
       "      <td>Wii</td>\n",
       "      <td>2010</td>\n",
       "      <td>Sports</td>\n",
       "      <td>3.45</td>\n",
       "      <td>2.59</td>\n",
       "      <td>0.0</td>\n",
       "      <td>0.66</td>\n",
       "      <td>0</td>\n",
       "      <td>tbd</td>\n",
       "      <td>E</td>\n",
       "    </tr>\n",
       "    <tr>\n",
       "      <th>301</th>\n",
       "      <td>Namco Museum: 50th Anniversary</td>\n",
       "      <td>PS2</td>\n",
       "      <td>2005</td>\n",
       "      <td>Misc</td>\n",
       "      <td>2.08</td>\n",
       "      <td>1.35</td>\n",
       "      <td>0.0</td>\n",
       "      <td>0.54</td>\n",
       "      <td>61</td>\n",
       "      <td>tbd</td>\n",
       "      <td>E10+</td>\n",
       "    </tr>\n",
       "    <tr>\n",
       "      <th>520</th>\n",
       "      <td>Zumba Fitness 2</td>\n",
       "      <td>Wii</td>\n",
       "      <td>2011</td>\n",
       "      <td>Sports</td>\n",
       "      <td>1.51</td>\n",
       "      <td>1.03</td>\n",
       "      <td>0.0</td>\n",
       "      <td>0.27</td>\n",
       "      <td>0</td>\n",
       "      <td>tbd</td>\n",
       "      <td>T</td>\n",
       "    </tr>\n",
       "    <tr>\n",
       "      <th>645</th>\n",
       "      <td>uDraw Studio</td>\n",
       "      <td>Wii</td>\n",
       "      <td>2010</td>\n",
       "      <td>Misc</td>\n",
       "      <td>1.65</td>\n",
       "      <td>0.57</td>\n",
       "      <td>0.0</td>\n",
       "      <td>0.20</td>\n",
       "      <td>71</td>\n",
       "      <td>tbd</td>\n",
       "      <td>E</td>\n",
       "    </tr>\n",
       "    <tr>\n",
       "      <th>657</th>\n",
       "      <td>Frogger's Adventures: Temple of the Frog</td>\n",
       "      <td>GBA</td>\n",
       "      <td>2001</td>\n",
       "      <td>Adventure</td>\n",
       "      <td>2.15</td>\n",
       "      <td>0.18</td>\n",
       "      <td>0.0</td>\n",
       "      <td>0.07</td>\n",
       "      <td>73</td>\n",
       "      <td>tbd</td>\n",
       "      <td>E</td>\n",
       "    </tr>\n",
       "    <tr>\n",
       "      <th>...</th>\n",
       "      <td>...</td>\n",
       "      <td>...</td>\n",
       "      <td>...</td>\n",
       "      <td>...</td>\n",
       "      <td>...</td>\n",
       "      <td>...</td>\n",
       "      <td>...</td>\n",
       "      <td>...</td>\n",
       "      <td>...</td>\n",
       "      <td>...</td>\n",
       "      <td>...</td>\n",
       "    </tr>\n",
       "    <tr>\n",
       "      <th>16695</th>\n",
       "      <td>Planet Monsters</td>\n",
       "      <td>GBA</td>\n",
       "      <td>2001</td>\n",
       "      <td>Action</td>\n",
       "      <td>0.01</td>\n",
       "      <td>0.00</td>\n",
       "      <td>0.0</td>\n",
       "      <td>0.00</td>\n",
       "      <td>67</td>\n",
       "      <td>tbd</td>\n",
       "      <td>E</td>\n",
       "    </tr>\n",
       "    <tr>\n",
       "      <th>16697</th>\n",
       "      <td>Bust-A-Move 3000</td>\n",
       "      <td>GC</td>\n",
       "      <td>2003</td>\n",
       "      <td>Puzzle</td>\n",
       "      <td>0.01</td>\n",
       "      <td>0.00</td>\n",
       "      <td>0.0</td>\n",
       "      <td>0.00</td>\n",
       "      <td>53</td>\n",
       "      <td>tbd</td>\n",
       "      <td>E</td>\n",
       "    </tr>\n",
       "    <tr>\n",
       "      <th>16698</th>\n",
       "      <td>Mega Brain Boost</td>\n",
       "      <td>DS</td>\n",
       "      <td>2008</td>\n",
       "      <td>Puzzle</td>\n",
       "      <td>0.01</td>\n",
       "      <td>0.00</td>\n",
       "      <td>0.0</td>\n",
       "      <td>0.00</td>\n",
       "      <td>48</td>\n",
       "      <td>tbd</td>\n",
       "      <td>E</td>\n",
       "    </tr>\n",
       "    <tr>\n",
       "      <th>16704</th>\n",
       "      <td>Plushees</td>\n",
       "      <td>DS</td>\n",
       "      <td>2008</td>\n",
       "      <td>Simulation</td>\n",
       "      <td>0.01</td>\n",
       "      <td>0.00</td>\n",
       "      <td>0.0</td>\n",
       "      <td>0.00</td>\n",
       "      <td>0</td>\n",
       "      <td>tbd</td>\n",
       "      <td>E</td>\n",
       "    </tr>\n",
       "    <tr>\n",
       "      <th>16706</th>\n",
       "      <td>Men in Black II: Alien Escape</td>\n",
       "      <td>GC</td>\n",
       "      <td>2003</td>\n",
       "      <td>Shooter</td>\n",
       "      <td>0.01</td>\n",
       "      <td>0.00</td>\n",
       "      <td>0.0</td>\n",
       "      <td>0.00</td>\n",
       "      <td>0</td>\n",
       "      <td>tbd</td>\n",
       "      <td>T</td>\n",
       "    </tr>\n",
       "  </tbody>\n",
       "</table>\n",
       "<p>2395 rows × 11 columns</p>\n",
       "</div>"
      ],
      "text/plain": [
       "                                           name platform  year_of_release  \\\n",
       "119                               Zumba Fitness      Wii             2010   \n",
       "301              Namco Museum: 50th Anniversary      PS2             2005   \n",
       "520                             Zumba Fitness 2      Wii             2011   \n",
       "645                                uDraw Studio      Wii             2010   \n",
       "657    Frogger's Adventures: Temple of the Frog      GBA             2001   \n",
       "...                                         ...      ...              ...   \n",
       "16695                           Planet Monsters      GBA             2001   \n",
       "16697                          Bust-A-Move 3000       GC             2003   \n",
       "16698                          Mega Brain Boost       DS             2008   \n",
       "16704                                  Plushees       DS             2008   \n",
       "16706             Men in Black II: Alien Escape       GC             2003   \n",
       "\n",
       "            genre  na_sales  eu_sales  jp_sales  other_sales  critic_score  \\\n",
       "119        Sports      3.45      2.59       0.0         0.66             0   \n",
       "301          Misc      2.08      1.35       0.0         0.54            61   \n",
       "520        Sports      1.51      1.03       0.0         0.27             0   \n",
       "645          Misc      1.65      0.57       0.0         0.20            71   \n",
       "657     Adventure      2.15      0.18       0.0         0.07            73   \n",
       "...           ...       ...       ...       ...          ...           ...   \n",
       "16695      Action      0.01      0.00       0.0         0.00            67   \n",
       "16697      Puzzle      0.01      0.00       0.0         0.00            53   \n",
       "16698      Puzzle      0.01      0.00       0.0         0.00            48   \n",
       "16704  Simulation      0.01      0.00       0.0         0.00             0   \n",
       "16706     Shooter      0.01      0.00       0.0         0.00             0   \n",
       "\n",
       "      user_score rating  \n",
       "119          tbd      E  \n",
       "301          tbd   E10+  \n",
       "520          tbd      T  \n",
       "645          tbd      E  \n",
       "657          tbd      E  \n",
       "...          ...    ...  \n",
       "16695        tbd      E  \n",
       "16697        tbd      E  \n",
       "16698        tbd      E  \n",
       "16704        tbd      E  \n",
       "16706        tbd      T  \n",
       "\n",
       "[2395 rows x 11 columns]"
      ]
     },
     "execution_count": 21,
     "metadata": {},
     "output_type": "execute_result"
    }
   ],
   "source": [
    "games.query('user_score == \"tbd\"')"
   ]
  },
  {
   "cell_type": "markdown",
   "metadata": {},
   "source": [
    "Значение \"tbd\" - \"to be determined\", означает, что оценка ещё не определена. Заменим эти значения на явно завышенные - например, 20 (при том, что максимум - 10 баллов). Пропущенные значения также заменим на явно завышенные: 30, например."
   ]
  },
  {
   "cell_type": "code",
   "execution_count": 22,
   "metadata": {},
   "outputs": [
    {
     "data": {
      "text/plain": [
       "30     6636\n",
       "20     2395\n",
       "7.8     324\n",
       "8       288\n",
       "8.2     280\n",
       "       ... \n",
       "0.7       2\n",
       "1.1       2\n",
       "0.2       2\n",
       "0         1\n",
       "9.7       1\n",
       "Name: user_score, Length: 97, dtype: int64"
      ]
     },
     "execution_count": 22,
     "metadata": {},
     "output_type": "execute_result"
    }
   ],
   "source": [
    "games.loc[games['user_score'] == 'tbd', ['user_score']] = 20 # меняем tbd на 20\n",
    "games['user_score'] = games['user_score'].fillna(30)         # меняем NAN на 30\n",
    "games['user_score'].value_counts()"
   ]
  },
  {
   "cell_type": "markdown",
   "metadata": {},
   "source": [
    "Поскольку оценки выставлены с точностью до десятых, заменим тип данных в столбце на float:"
   ]
  },
  {
   "cell_type": "code",
   "execution_count": 23,
   "metadata": {},
   "outputs": [
    {
     "data": {
      "text/plain": [
       "count    16575.000000\n",
       "mean        18.143735\n",
       "std         10.633130\n",
       "min          0.000000\n",
       "25%          7.600000\n",
       "50%         20.000000\n",
       "75%         30.000000\n",
       "max         30.000000\n",
       "Name: user_score, dtype: float64"
      ]
     },
     "execution_count": 23,
     "metadata": {},
     "output_type": "execute_result"
    }
   ],
   "source": [
    "games['user_score'] = games['user_score'].astype(float)\n",
    "games['user_score'].describe()"
   ]
  },
  {
   "cell_type": "markdown",
   "metadata": {},
   "source": [
    "У нас остался столбец с **рейтингом от организации ESRB**. Посмотрим, какие значения он принимает и какие строки содержат пропуски:"
   ]
  },
  {
   "cell_type": "code",
   "execution_count": 24,
   "metadata": {},
   "outputs": [
    {
     "data": {
      "text/plain": [
       "E       3959\n",
       "T       2934\n",
       "M       1554\n",
       "E10+    1412\n",
       "EC         8\n",
       "K-A        3\n",
       "RP         2\n",
       "AO         1\n",
       "Name: rating, dtype: int64"
      ]
     },
     "execution_count": 24,
     "metadata": {},
     "output_type": "execute_result"
    }
   ],
   "source": [
    "games['rating'].value_counts()"
   ]
  },
  {
   "cell_type": "code",
   "execution_count": 25,
   "metadata": {},
   "outputs": [
    {
     "data": {
      "text/html": [
       "<div>\n",
       "<style scoped>\n",
       "    .dataframe tbody tr th:only-of-type {\n",
       "        vertical-align: middle;\n",
       "    }\n",
       "\n",
       "    .dataframe tbody tr th {\n",
       "        vertical-align: top;\n",
       "    }\n",
       "\n",
       "    .dataframe thead th {\n",
       "        text-align: right;\n",
       "    }\n",
       "</style>\n",
       "<table border=\"1\" class=\"dataframe\">\n",
       "  <thead>\n",
       "    <tr style=\"text-align: right;\">\n",
       "      <th></th>\n",
       "      <th>name</th>\n",
       "      <th>platform</th>\n",
       "      <th>year_of_release</th>\n",
       "      <th>genre</th>\n",
       "      <th>na_sales</th>\n",
       "      <th>eu_sales</th>\n",
       "      <th>jp_sales</th>\n",
       "      <th>other_sales</th>\n",
       "      <th>critic_score</th>\n",
       "      <th>user_score</th>\n",
       "      <th>rating</th>\n",
       "    </tr>\n",
       "  </thead>\n",
       "  <tbody>\n",
       "    <tr>\n",
       "      <th>1</th>\n",
       "      <td>Super Mario Bros.</td>\n",
       "      <td>NES</td>\n",
       "      <td>1985</td>\n",
       "      <td>Platform</td>\n",
       "      <td>29.08</td>\n",
       "      <td>3.58</td>\n",
       "      <td>6.81</td>\n",
       "      <td>0.77</td>\n",
       "      <td>0</td>\n",
       "      <td>30.0</td>\n",
       "      <td>NaN</td>\n",
       "    </tr>\n",
       "    <tr>\n",
       "      <th>4</th>\n",
       "      <td>Pokemon Red/Pokemon Blue</td>\n",
       "      <td>GB</td>\n",
       "      <td>1996</td>\n",
       "      <td>Role-Playing</td>\n",
       "      <td>11.27</td>\n",
       "      <td>8.89</td>\n",
       "      <td>10.22</td>\n",
       "      <td>1.00</td>\n",
       "      <td>0</td>\n",
       "      <td>30.0</td>\n",
       "      <td>NaN</td>\n",
       "    </tr>\n",
       "    <tr>\n",
       "      <th>5</th>\n",
       "      <td>Tetris</td>\n",
       "      <td>GB</td>\n",
       "      <td>1989</td>\n",
       "      <td>Puzzle</td>\n",
       "      <td>23.20</td>\n",
       "      <td>2.26</td>\n",
       "      <td>4.22</td>\n",
       "      <td>0.58</td>\n",
       "      <td>0</td>\n",
       "      <td>30.0</td>\n",
       "      <td>NaN</td>\n",
       "    </tr>\n",
       "    <tr>\n",
       "      <th>9</th>\n",
       "      <td>Duck Hunt</td>\n",
       "      <td>NES</td>\n",
       "      <td>1984</td>\n",
       "      <td>Shooter</td>\n",
       "      <td>26.93</td>\n",
       "      <td>0.63</td>\n",
       "      <td>0.28</td>\n",
       "      <td>0.47</td>\n",
       "      <td>0</td>\n",
       "      <td>30.0</td>\n",
       "      <td>NaN</td>\n",
       "    </tr>\n",
       "    <tr>\n",
       "      <th>10</th>\n",
       "      <td>Nintendogs</td>\n",
       "      <td>DS</td>\n",
       "      <td>2005</td>\n",
       "      <td>Simulation</td>\n",
       "      <td>9.05</td>\n",
       "      <td>10.95</td>\n",
       "      <td>1.93</td>\n",
       "      <td>2.74</td>\n",
       "      <td>0</td>\n",
       "      <td>30.0</td>\n",
       "      <td>NaN</td>\n",
       "    </tr>\n",
       "    <tr>\n",
       "      <th>...</th>\n",
       "      <td>...</td>\n",
       "      <td>...</td>\n",
       "      <td>...</td>\n",
       "      <td>...</td>\n",
       "      <td>...</td>\n",
       "      <td>...</td>\n",
       "      <td>...</td>\n",
       "      <td>...</td>\n",
       "      <td>...</td>\n",
       "      <td>...</td>\n",
       "      <td>...</td>\n",
       "    </tr>\n",
       "    <tr>\n",
       "      <th>16710</th>\n",
       "      <td>Samurai Warriors: Sanada Maru</td>\n",
       "      <td>PS3</td>\n",
       "      <td>2016</td>\n",
       "      <td>Action</td>\n",
       "      <td>0.00</td>\n",
       "      <td>0.00</td>\n",
       "      <td>0.01</td>\n",
       "      <td>0.00</td>\n",
       "      <td>0</td>\n",
       "      <td>30.0</td>\n",
       "      <td>NaN</td>\n",
       "    </tr>\n",
       "    <tr>\n",
       "      <th>16711</th>\n",
       "      <td>LMA Manager 2007</td>\n",
       "      <td>X360</td>\n",
       "      <td>2006</td>\n",
       "      <td>Sports</td>\n",
       "      <td>0.00</td>\n",
       "      <td>0.01</td>\n",
       "      <td>0.00</td>\n",
       "      <td>0.00</td>\n",
       "      <td>0</td>\n",
       "      <td>30.0</td>\n",
       "      <td>NaN</td>\n",
       "    </tr>\n",
       "    <tr>\n",
       "      <th>16712</th>\n",
       "      <td>Haitaka no Psychedelica</td>\n",
       "      <td>PSV</td>\n",
       "      <td>2016</td>\n",
       "      <td>Adventure</td>\n",
       "      <td>0.00</td>\n",
       "      <td>0.00</td>\n",
       "      <td>0.01</td>\n",
       "      <td>0.00</td>\n",
       "      <td>0</td>\n",
       "      <td>30.0</td>\n",
       "      <td>NaN</td>\n",
       "    </tr>\n",
       "    <tr>\n",
       "      <th>16713</th>\n",
       "      <td>Spirits &amp; Spells</td>\n",
       "      <td>GBA</td>\n",
       "      <td>2003</td>\n",
       "      <td>Platform</td>\n",
       "      <td>0.01</td>\n",
       "      <td>0.00</td>\n",
       "      <td>0.00</td>\n",
       "      <td>0.00</td>\n",
       "      <td>0</td>\n",
       "      <td>30.0</td>\n",
       "      <td>NaN</td>\n",
       "    </tr>\n",
       "    <tr>\n",
       "      <th>16714</th>\n",
       "      <td>Winning Post 8 2016</td>\n",
       "      <td>PSV</td>\n",
       "      <td>2016</td>\n",
       "      <td>Simulation</td>\n",
       "      <td>0.00</td>\n",
       "      <td>0.00</td>\n",
       "      <td>0.01</td>\n",
       "      <td>0.00</td>\n",
       "      <td>0</td>\n",
       "      <td>30.0</td>\n",
       "      <td>NaN</td>\n",
       "    </tr>\n",
       "  </tbody>\n",
       "</table>\n",
       "<p>6702 rows × 11 columns</p>\n",
       "</div>"
      ],
      "text/plain": [
       "                                name platform  year_of_release         genre  \\\n",
       "1                  Super Mario Bros.      NES             1985      Platform   \n",
       "4           Pokemon Red/Pokemon Blue       GB             1996  Role-Playing   \n",
       "5                             Tetris       GB             1989        Puzzle   \n",
       "9                          Duck Hunt      NES             1984       Shooter   \n",
       "10                        Nintendogs       DS             2005    Simulation   \n",
       "...                              ...      ...              ...           ...   \n",
       "16710  Samurai Warriors: Sanada Maru      PS3             2016        Action   \n",
       "16711               LMA Manager 2007     X360             2006        Sports   \n",
       "16712        Haitaka no Psychedelica      PSV             2016     Adventure   \n",
       "16713               Spirits & Spells      GBA             2003      Platform   \n",
       "16714            Winning Post 8 2016      PSV             2016    Simulation   \n",
       "\n",
       "       na_sales  eu_sales  jp_sales  other_sales  critic_score  user_score  \\\n",
       "1         29.08      3.58      6.81         0.77             0        30.0   \n",
       "4         11.27      8.89     10.22         1.00             0        30.0   \n",
       "5         23.20      2.26      4.22         0.58             0        30.0   \n",
       "9         26.93      0.63      0.28         0.47             0        30.0   \n",
       "10         9.05     10.95      1.93         2.74             0        30.0   \n",
       "...         ...       ...       ...          ...           ...         ...   \n",
       "16710      0.00      0.00      0.01         0.00             0        30.0   \n",
       "16711      0.00      0.01      0.00         0.00             0        30.0   \n",
       "16712      0.00      0.00      0.01         0.00             0        30.0   \n",
       "16713      0.01      0.00      0.00         0.00             0        30.0   \n",
       "16714      0.00      0.00      0.01         0.00             0        30.0   \n",
       "\n",
       "      rating  \n",
       "1        NaN  \n",
       "4        NaN  \n",
       "5        NaN  \n",
       "9        NaN  \n",
       "10       NaN  \n",
       "...      ...  \n",
       "16710    NaN  \n",
       "16711    NaN  \n",
       "16712    NaN  \n",
       "16713    NaN  \n",
       "16714    NaN  \n",
       "\n",
       "[6702 rows x 11 columns]"
      ]
     },
     "execution_count": 25,
     "metadata": {},
     "output_type": "execute_result"
    }
   ],
   "source": [
    "games.loc[games['rating'].isna()]"
   ]
  },
  {
   "cell_type": "markdown",
   "metadata": {},
   "source": [
    "6 702 пропуска - это 40% от всех данных, причём игры не рейтинговались в разные годы. Удалить эти строки - значит лишиться большой части данных, заменить их из имеющихся не представляется возможным, поэтому заменим их на 'NAN'."
   ]
  },
  {
   "cell_type": "code",
   "execution_count": 26,
   "metadata": {},
   "outputs": [],
   "source": [
    "games['rating'] = games['rating'].fillna('NAN')"
   ]
  },
  {
   "cell_type": "markdown",
   "metadata": {},
   "source": [
    "Посмотрим, как теперь выглядит информация в нашей таблице:"
   ]
  },
  {
   "cell_type": "code",
   "execution_count": 27,
   "metadata": {},
   "outputs": [
    {
     "name": "stdout",
     "output_type": "stream",
     "text": [
      "<class 'pandas.core.frame.DataFrame'>\n",
      "Int64Index: 16575 entries, 0 to 16714\n",
      "Data columns (total 11 columns):\n",
      " #   Column           Non-Null Count  Dtype  \n",
      "---  ------           --------------  -----  \n",
      " 0   name             16575 non-null  object \n",
      " 1   platform         16575 non-null  object \n",
      " 2   year_of_release  16575 non-null  int32  \n",
      " 3   genre            16575 non-null  object \n",
      " 4   na_sales         16575 non-null  float64\n",
      " 5   eu_sales         16575 non-null  float64\n",
      " 6   jp_sales         16575 non-null  float64\n",
      " 7   other_sales      16575 non-null  float64\n",
      " 8   critic_score     16575 non-null  int32  \n",
      " 9   user_score       16575 non-null  float64\n",
      " 10  rating           16575 non-null  object \n",
      "dtypes: float64(5), int32(2), object(4)\n",
      "memory usage: 1.4+ MB\n"
     ]
    }
   ],
   "source": [
    "games.info()"
   ]
  },
  {
   "cell_type": "markdown",
   "metadata": {},
   "source": [
    "### Вывод\n",
    "\n",
    "В рамках предобработки данных выполнено следующее:\n",
    "- данные проверены на явные и скрытые дубликаты;\n",
    "- удалены пропуски в столбцах с названием игры и годом релиза;\n",
    "- частично восстановлены пропущенные данные о годе релиза игры;\n",
    "- тип данных изменён с столбцах с годом релиза и оценкой критиков (на целочисленный), оценкой пользователей (на float);\n",
    "- пропуски в данных с оценками критиков и пользователей заменены на значения-маркеры;\n",
    "- пропуски в рейтинге ESRB заменены на текстовый 'NAN'.\n",
    "\n",
    "После выполненой обработки удалось сохранить 99% первоначальных данных."
   ]
  },
  {
   "cell_type": "markdown",
   "metadata": {},
   "source": [
    "## Расчёты и добавление результатов в таблицу"
   ]
  },
  {
   "cell_type": "markdown",
   "metadata": {},
   "source": [
    "Посчитаем суммарные продажи во всех регионах и выведем их отдельным столбцом:"
   ]
  },
  {
   "cell_type": "code",
   "execution_count": 28,
   "metadata": {},
   "outputs": [
    {
     "data": {
      "text/html": [
       "<div>\n",
       "<style scoped>\n",
       "    .dataframe tbody tr th:only-of-type {\n",
       "        vertical-align: middle;\n",
       "    }\n",
       "\n",
       "    .dataframe tbody tr th {\n",
       "        vertical-align: top;\n",
       "    }\n",
       "\n",
       "    .dataframe thead th {\n",
       "        text-align: right;\n",
       "    }\n",
       "</style>\n",
       "<table border=\"1\" class=\"dataframe\">\n",
       "  <thead>\n",
       "    <tr style=\"text-align: right;\">\n",
       "      <th></th>\n",
       "      <th>name</th>\n",
       "      <th>platform</th>\n",
       "      <th>year_of_release</th>\n",
       "      <th>genre</th>\n",
       "      <th>na_sales</th>\n",
       "      <th>eu_sales</th>\n",
       "      <th>jp_sales</th>\n",
       "      <th>other_sales</th>\n",
       "      <th>critic_score</th>\n",
       "      <th>user_score</th>\n",
       "      <th>rating</th>\n",
       "      <th>total_sales</th>\n",
       "    </tr>\n",
       "  </thead>\n",
       "  <tbody>\n",
       "    <tr>\n",
       "      <th>0</th>\n",
       "      <td>Wii Sports</td>\n",
       "      <td>Wii</td>\n",
       "      <td>2006</td>\n",
       "      <td>Sports</td>\n",
       "      <td>41.36</td>\n",
       "      <td>28.96</td>\n",
       "      <td>3.77</td>\n",
       "      <td>8.45</td>\n",
       "      <td>76</td>\n",
       "      <td>8.0</td>\n",
       "      <td>E</td>\n",
       "      <td>82.54</td>\n",
       "    </tr>\n",
       "    <tr>\n",
       "      <th>1</th>\n",
       "      <td>Super Mario Bros.</td>\n",
       "      <td>NES</td>\n",
       "      <td>1985</td>\n",
       "      <td>Platform</td>\n",
       "      <td>29.08</td>\n",
       "      <td>3.58</td>\n",
       "      <td>6.81</td>\n",
       "      <td>0.77</td>\n",
       "      <td>0</td>\n",
       "      <td>30.0</td>\n",
       "      <td>NAN</td>\n",
       "      <td>40.24</td>\n",
       "    </tr>\n",
       "    <tr>\n",
       "      <th>2</th>\n",
       "      <td>Mario Kart Wii</td>\n",
       "      <td>Wii</td>\n",
       "      <td>2008</td>\n",
       "      <td>Racing</td>\n",
       "      <td>15.68</td>\n",
       "      <td>12.76</td>\n",
       "      <td>3.79</td>\n",
       "      <td>3.29</td>\n",
       "      <td>82</td>\n",
       "      <td>8.3</td>\n",
       "      <td>E</td>\n",
       "      <td>35.52</td>\n",
       "    </tr>\n",
       "    <tr>\n",
       "      <th>3</th>\n",
       "      <td>Wii Sports Resort</td>\n",
       "      <td>Wii</td>\n",
       "      <td>2009</td>\n",
       "      <td>Sports</td>\n",
       "      <td>15.61</td>\n",
       "      <td>10.93</td>\n",
       "      <td>3.28</td>\n",
       "      <td>2.95</td>\n",
       "      <td>80</td>\n",
       "      <td>8.0</td>\n",
       "      <td>E</td>\n",
       "      <td>32.77</td>\n",
       "    </tr>\n",
       "    <tr>\n",
       "      <th>4</th>\n",
       "      <td>Pokemon Red/Pokemon Blue</td>\n",
       "      <td>GB</td>\n",
       "      <td>1996</td>\n",
       "      <td>Role-Playing</td>\n",
       "      <td>11.27</td>\n",
       "      <td>8.89</td>\n",
       "      <td>10.22</td>\n",
       "      <td>1.00</td>\n",
       "      <td>0</td>\n",
       "      <td>30.0</td>\n",
       "      <td>NAN</td>\n",
       "      <td>31.38</td>\n",
       "    </tr>\n",
       "  </tbody>\n",
       "</table>\n",
       "</div>"
      ],
      "text/plain": [
       "                       name platform  year_of_release         genre  na_sales  \\\n",
       "0                Wii Sports      Wii             2006        Sports     41.36   \n",
       "1         Super Mario Bros.      NES             1985      Platform     29.08   \n",
       "2            Mario Kart Wii      Wii             2008        Racing     15.68   \n",
       "3         Wii Sports Resort      Wii             2009        Sports     15.61   \n",
       "4  Pokemon Red/Pokemon Blue       GB             1996  Role-Playing     11.27   \n",
       "\n",
       "   eu_sales  jp_sales  other_sales  critic_score  user_score rating  \\\n",
       "0     28.96      3.77         8.45            76         8.0      E   \n",
       "1      3.58      6.81         0.77             0        30.0    NAN   \n",
       "2     12.76      3.79         3.29            82         8.3      E   \n",
       "3     10.93      3.28         2.95            80         8.0      E   \n",
       "4      8.89     10.22         1.00             0        30.0    NAN   \n",
       "\n",
       "   total_sales  \n",
       "0        82.54  \n",
       "1        40.24  \n",
       "2        35.52  \n",
       "3        32.77  \n",
       "4        31.38  "
      ]
     },
     "execution_count": 28,
     "metadata": {},
     "output_type": "execute_result"
    }
   ],
   "source": [
    "games['total_sales'] = games['na_sales'] + games['eu_sales'] \n",
    "+ games['jp_sales'] + games['other_sales']\n",
    "games.head()"
   ]
  },
  {
   "cell_type": "code",
   "execution_count": 29,
   "metadata": {},
   "outputs": [
    {
     "data": {
      "text/html": [
       "<div>\n",
       "<style scoped>\n",
       "    .dataframe tbody tr th:only-of-type {\n",
       "        vertical-align: middle;\n",
       "    }\n",
       "\n",
       "    .dataframe tbody tr th {\n",
       "        vertical-align: top;\n",
       "    }\n",
       "\n",
       "    .dataframe thead th {\n",
       "        text-align: right;\n",
       "    }\n",
       "</style>\n",
       "<table border=\"1\" class=\"dataframe\">\n",
       "  <thead>\n",
       "    <tr style=\"text-align: right;\">\n",
       "      <th></th>\n",
       "      <th>name</th>\n",
       "      <th>platform</th>\n",
       "      <th>year_of_release</th>\n",
       "      <th>genre</th>\n",
       "      <th>na_sales</th>\n",
       "      <th>eu_sales</th>\n",
       "      <th>jp_sales</th>\n",
       "      <th>other_sales</th>\n",
       "      <th>critic_score</th>\n",
       "      <th>user_score</th>\n",
       "      <th>rating</th>\n",
       "      <th>total_sales</th>\n",
       "      <th>total_sales_1</th>\n",
       "    </tr>\n",
       "  </thead>\n",
       "  <tbody>\n",
       "    <tr>\n",
       "      <th>0</th>\n",
       "      <td>Wii Sports</td>\n",
       "      <td>Wii</td>\n",
       "      <td>2006</td>\n",
       "      <td>Sports</td>\n",
       "      <td>41.36</td>\n",
       "      <td>28.96</td>\n",
       "      <td>3.77</td>\n",
       "      <td>8.45</td>\n",
       "      <td>76</td>\n",
       "      <td>8.0</td>\n",
       "      <td>E</td>\n",
       "      <td>82.54</td>\n",
       "      <td>82.54</td>\n",
       "    </tr>\n",
       "    <tr>\n",
       "      <th>1</th>\n",
       "      <td>Super Mario Bros.</td>\n",
       "      <td>NES</td>\n",
       "      <td>1985</td>\n",
       "      <td>Platform</td>\n",
       "      <td>29.08</td>\n",
       "      <td>3.58</td>\n",
       "      <td>6.81</td>\n",
       "      <td>0.77</td>\n",
       "      <td>0</td>\n",
       "      <td>30.0</td>\n",
       "      <td>NAN</td>\n",
       "      <td>40.24</td>\n",
       "      <td>40.24</td>\n",
       "    </tr>\n",
       "    <tr>\n",
       "      <th>2</th>\n",
       "      <td>Mario Kart Wii</td>\n",
       "      <td>Wii</td>\n",
       "      <td>2008</td>\n",
       "      <td>Racing</td>\n",
       "      <td>15.68</td>\n",
       "      <td>12.76</td>\n",
       "      <td>3.79</td>\n",
       "      <td>3.29</td>\n",
       "      <td>82</td>\n",
       "      <td>8.3</td>\n",
       "      <td>E</td>\n",
       "      <td>35.52</td>\n",
       "      <td>35.52</td>\n",
       "    </tr>\n",
       "    <tr>\n",
       "      <th>3</th>\n",
       "      <td>Wii Sports Resort</td>\n",
       "      <td>Wii</td>\n",
       "      <td>2009</td>\n",
       "      <td>Sports</td>\n",
       "      <td>15.61</td>\n",
       "      <td>10.93</td>\n",
       "      <td>3.28</td>\n",
       "      <td>2.95</td>\n",
       "      <td>80</td>\n",
       "      <td>8.0</td>\n",
       "      <td>E</td>\n",
       "      <td>32.77</td>\n",
       "      <td>32.77</td>\n",
       "    </tr>\n",
       "    <tr>\n",
       "      <th>4</th>\n",
       "      <td>Pokemon Red/Pokemon Blue</td>\n",
       "      <td>GB</td>\n",
       "      <td>1996</td>\n",
       "      <td>Role-Playing</td>\n",
       "      <td>11.27</td>\n",
       "      <td>8.89</td>\n",
       "      <td>10.22</td>\n",
       "      <td>1.00</td>\n",
       "      <td>0</td>\n",
       "      <td>30.0</td>\n",
       "      <td>NAN</td>\n",
       "      <td>31.38</td>\n",
       "      <td>31.38</td>\n",
       "    </tr>\n",
       "  </tbody>\n",
       "</table>\n",
       "</div>"
      ],
      "text/plain": [
       "                       name platform  year_of_release         genre  na_sales  \\\n",
       "0                Wii Sports      Wii             2006        Sports     41.36   \n",
       "1         Super Mario Bros.      NES             1985      Platform     29.08   \n",
       "2            Mario Kart Wii      Wii             2008        Racing     15.68   \n",
       "3         Wii Sports Resort      Wii             2009        Sports     15.61   \n",
       "4  Pokemon Red/Pokemon Blue       GB             1996  Role-Playing     11.27   \n",
       "\n",
       "   eu_sales  jp_sales  other_sales  critic_score  user_score rating  \\\n",
       "0     28.96      3.77         8.45            76         8.0      E   \n",
       "1      3.58      6.81         0.77             0        30.0    NAN   \n",
       "2     12.76      3.79         3.29            82         8.3      E   \n",
       "3     10.93      3.28         2.95            80         8.0      E   \n",
       "4      8.89     10.22         1.00             0        30.0    NAN   \n",
       "\n",
       "   total_sales  total_sales_1  \n",
       "0        82.54          82.54  \n",
       "1        40.24          40.24  \n",
       "2        35.52          35.52  \n",
       "3        32.77          32.77  \n",
       "4        31.38          31.38  "
      ]
     },
     "execution_count": 29,
     "metadata": {},
     "output_type": "execute_result"
    }
   ],
   "source": [
    "games['total_sales_1'] = games[['na_sales', 'eu_sales', \n",
    "                                'jp_sales', 'other_sales']].sum(axis=1)\n",
    "games.head()"
   ]
  },
  {
   "cell_type": "code",
   "execution_count": 30,
   "metadata": {},
   "outputs": [
    {
     "data": {
      "text/html": [
       "<div>\n",
       "<style scoped>\n",
       "    .dataframe tbody tr th:only-of-type {\n",
       "        vertical-align: middle;\n",
       "    }\n",
       "\n",
       "    .dataframe tbody tr th {\n",
       "        vertical-align: top;\n",
       "    }\n",
       "\n",
       "    .dataframe thead th {\n",
       "        text-align: right;\n",
       "    }\n",
       "</style>\n",
       "<table border=\"1\" class=\"dataframe\">\n",
       "  <thead>\n",
       "    <tr style=\"text-align: right;\">\n",
       "      <th></th>\n",
       "      <th>name</th>\n",
       "      <th>platform</th>\n",
       "      <th>year_of_release</th>\n",
       "      <th>genre</th>\n",
       "      <th>na_sales</th>\n",
       "      <th>eu_sales</th>\n",
       "      <th>jp_sales</th>\n",
       "      <th>other_sales</th>\n",
       "      <th>critic_score</th>\n",
       "      <th>user_score</th>\n",
       "      <th>rating</th>\n",
       "      <th>total_sales</th>\n",
       "      <th>total_sales_1</th>\n",
       "      <th>total_sales_2</th>\n",
       "    </tr>\n",
       "  </thead>\n",
       "  <tbody>\n",
       "    <tr>\n",
       "      <th>0</th>\n",
       "      <td>Wii Sports</td>\n",
       "      <td>Wii</td>\n",
       "      <td>2006</td>\n",
       "      <td>Sports</td>\n",
       "      <td>41.36</td>\n",
       "      <td>28.96</td>\n",
       "      <td>3.77</td>\n",
       "      <td>8.45</td>\n",
       "      <td>76</td>\n",
       "      <td>8.0</td>\n",
       "      <td>E</td>\n",
       "      <td>82.54</td>\n",
       "      <td>82.54</td>\n",
       "      <td>247.62</td>\n",
       "    </tr>\n",
       "    <tr>\n",
       "      <th>1</th>\n",
       "      <td>Super Mario Bros.</td>\n",
       "      <td>NES</td>\n",
       "      <td>1985</td>\n",
       "      <td>Platform</td>\n",
       "      <td>29.08</td>\n",
       "      <td>3.58</td>\n",
       "      <td>6.81</td>\n",
       "      <td>0.77</td>\n",
       "      <td>0</td>\n",
       "      <td>30.0</td>\n",
       "      <td>NAN</td>\n",
       "      <td>40.24</td>\n",
       "      <td>40.24</td>\n",
       "      <td>120.72</td>\n",
       "    </tr>\n",
       "    <tr>\n",
       "      <th>2</th>\n",
       "      <td>Mario Kart Wii</td>\n",
       "      <td>Wii</td>\n",
       "      <td>2008</td>\n",
       "      <td>Racing</td>\n",
       "      <td>15.68</td>\n",
       "      <td>12.76</td>\n",
       "      <td>3.79</td>\n",
       "      <td>3.29</td>\n",
       "      <td>82</td>\n",
       "      <td>8.3</td>\n",
       "      <td>E</td>\n",
       "      <td>35.52</td>\n",
       "      <td>35.52</td>\n",
       "      <td>106.56</td>\n",
       "    </tr>\n",
       "    <tr>\n",
       "      <th>3</th>\n",
       "      <td>Wii Sports Resort</td>\n",
       "      <td>Wii</td>\n",
       "      <td>2009</td>\n",
       "      <td>Sports</td>\n",
       "      <td>15.61</td>\n",
       "      <td>10.93</td>\n",
       "      <td>3.28</td>\n",
       "      <td>2.95</td>\n",
       "      <td>80</td>\n",
       "      <td>8.0</td>\n",
       "      <td>E</td>\n",
       "      <td>32.77</td>\n",
       "      <td>32.77</td>\n",
       "      <td>98.31</td>\n",
       "    </tr>\n",
       "    <tr>\n",
       "      <th>4</th>\n",
       "      <td>Pokemon Red/Pokemon Blue</td>\n",
       "      <td>GB</td>\n",
       "      <td>1996</td>\n",
       "      <td>Role-Playing</td>\n",
       "      <td>11.27</td>\n",
       "      <td>8.89</td>\n",
       "      <td>10.22</td>\n",
       "      <td>1.00</td>\n",
       "      <td>0</td>\n",
       "      <td>30.0</td>\n",
       "      <td>NAN</td>\n",
       "      <td>31.38</td>\n",
       "      <td>31.38</td>\n",
       "      <td>94.14</td>\n",
       "    </tr>\n",
       "  </tbody>\n",
       "</table>\n",
       "</div>"
      ],
      "text/plain": [
       "                       name platform  year_of_release         genre  na_sales  \\\n",
       "0                Wii Sports      Wii             2006        Sports     41.36   \n",
       "1         Super Mario Bros.      NES             1985      Platform     29.08   \n",
       "2            Mario Kart Wii      Wii             2008        Racing     15.68   \n",
       "3         Wii Sports Resort      Wii             2009        Sports     15.61   \n",
       "4  Pokemon Red/Pokemon Blue       GB             1996  Role-Playing     11.27   \n",
       "\n",
       "   eu_sales  jp_sales  other_sales  critic_score  user_score rating  \\\n",
       "0     28.96      3.77         8.45            76         8.0      E   \n",
       "1      3.58      6.81         0.77             0        30.0    NAN   \n",
       "2     12.76      3.79         3.29            82         8.3      E   \n",
       "3     10.93      3.28         2.95            80         8.0      E   \n",
       "4      8.89     10.22         1.00             0        30.0    NAN   \n",
       "\n",
       "   total_sales  total_sales_1  total_sales_2  \n",
       "0        82.54          82.54         247.62  \n",
       "1        40.24          40.24         120.72  \n",
       "2        35.52          35.52         106.56  \n",
       "3        32.77          32.77          98.31  \n",
       "4        31.38          31.38          94.14  "
      ]
     },
     "execution_count": 30,
     "metadata": {},
     "output_type": "execute_result"
    }
   ],
   "source": [
    "games['total_sales_2'] = games.filter(like='sales').sum(axis=1)\n",
    "games.head()"
   ]
  },
  {
   "cell_type": "markdown",
   "metadata": {},
   "source": [
    "## Исследовательский анализ данных"
   ]
  },
  {
   "cell_type": "markdown",
   "metadata": {},
   "source": [
    "Посмотрим, **сколько игр было выпущено в разные годы**:"
   ]
  },
  {
   "cell_type": "code",
   "execution_count": 31,
   "metadata": {},
   "outputs": [
    {
     "data": {
      "text/html": [
       "<div>\n",
       "<style scoped>\n",
       "    .dataframe tbody tr th:only-of-type {\n",
       "        vertical-align: middle;\n",
       "    }\n",
       "\n",
       "    .dataframe tbody tr th {\n",
       "        vertical-align: top;\n",
       "    }\n",
       "\n",
       "    .dataframe thead th {\n",
       "        text-align: right;\n",
       "    }\n",
       "</style>\n",
       "<table border=\"1\" class=\"dataframe\">\n",
       "  <thead>\n",
       "    <tr style=\"text-align: right;\">\n",
       "      <th></th>\n",
       "      <th>year_of_release</th>\n",
       "      <th>total_sales</th>\n",
       "    </tr>\n",
       "  </thead>\n",
       "  <tbody>\n",
       "    <tr>\n",
       "      <th>0</th>\n",
       "      <td>1977</td>\n",
       "      <td>1</td>\n",
       "    </tr>\n",
       "    <tr>\n",
       "      <th>1</th>\n",
       "      <td>1979</td>\n",
       "      <td>1</td>\n",
       "    </tr>\n",
       "    <tr>\n",
       "      <th>2</th>\n",
       "      <td>1980</td>\n",
       "      <td>10</td>\n",
       "    </tr>\n",
       "    <tr>\n",
       "      <th>3</th>\n",
       "      <td>1981</td>\n",
       "      <td>46</td>\n",
       "    </tr>\n",
       "    <tr>\n",
       "      <th>4</th>\n",
       "      <td>1982</td>\n",
       "      <td>36</td>\n",
       "    </tr>\n",
       "    <tr>\n",
       "      <th>5</th>\n",
       "      <td>1983</td>\n",
       "      <td>17</td>\n",
       "    </tr>\n",
       "    <tr>\n",
       "      <th>6</th>\n",
       "      <td>1984</td>\n",
       "      <td>14</td>\n",
       "    </tr>\n",
       "    <tr>\n",
       "      <th>7</th>\n",
       "      <td>1985</td>\n",
       "      <td>14</td>\n",
       "    </tr>\n",
       "    <tr>\n",
       "      <th>8</th>\n",
       "      <td>1986</td>\n",
       "      <td>21</td>\n",
       "    </tr>\n",
       "    <tr>\n",
       "      <th>9</th>\n",
       "      <td>1987</td>\n",
       "      <td>16</td>\n",
       "    </tr>\n",
       "    <tr>\n",
       "      <th>10</th>\n",
       "      <td>1988</td>\n",
       "      <td>15</td>\n",
       "    </tr>\n",
       "    <tr>\n",
       "      <th>11</th>\n",
       "      <td>1989</td>\n",
       "      <td>17</td>\n",
       "    </tr>\n",
       "    <tr>\n",
       "      <th>12</th>\n",
       "      <td>1990</td>\n",
       "      <td>16</td>\n",
       "    </tr>\n",
       "    <tr>\n",
       "      <th>13</th>\n",
       "      <td>1991</td>\n",
       "      <td>41</td>\n",
       "    </tr>\n",
       "    <tr>\n",
       "      <th>14</th>\n",
       "      <td>1992</td>\n",
       "      <td>43</td>\n",
       "    </tr>\n",
       "    <tr>\n",
       "      <th>15</th>\n",
       "      <td>1993</td>\n",
       "      <td>60</td>\n",
       "    </tr>\n",
       "    <tr>\n",
       "      <th>16</th>\n",
       "      <td>1994</td>\n",
       "      <td>121</td>\n",
       "    </tr>\n",
       "    <tr>\n",
       "      <th>17</th>\n",
       "      <td>1995</td>\n",
       "      <td>219</td>\n",
       "    </tr>\n",
       "    <tr>\n",
       "      <th>18</th>\n",
       "      <td>1996</td>\n",
       "      <td>263</td>\n",
       "    </tr>\n",
       "    <tr>\n",
       "      <th>19</th>\n",
       "      <td>1997</td>\n",
       "      <td>289</td>\n",
       "    </tr>\n",
       "    <tr>\n",
       "      <th>20</th>\n",
       "      <td>1998</td>\n",
       "      <td>379</td>\n",
       "    </tr>\n",
       "    <tr>\n",
       "      <th>21</th>\n",
       "      <td>1999</td>\n",
       "      <td>339</td>\n",
       "    </tr>\n",
       "    <tr>\n",
       "      <th>22</th>\n",
       "      <td>2000</td>\n",
       "      <td>351</td>\n",
       "    </tr>\n",
       "    <tr>\n",
       "      <th>23</th>\n",
       "      <td>2001</td>\n",
       "      <td>487</td>\n",
       "    </tr>\n",
       "    <tr>\n",
       "      <th>24</th>\n",
       "      <td>2002</td>\n",
       "      <td>844</td>\n",
       "    </tr>\n",
       "    <tr>\n",
       "      <th>25</th>\n",
       "      <td>2003</td>\n",
       "      <td>784</td>\n",
       "    </tr>\n",
       "    <tr>\n",
       "      <th>26</th>\n",
       "      <td>2004</td>\n",
       "      <td>765</td>\n",
       "    </tr>\n",
       "    <tr>\n",
       "      <th>27</th>\n",
       "      <td>2005</td>\n",
       "      <td>949</td>\n",
       "    </tr>\n",
       "    <tr>\n",
       "      <th>28</th>\n",
       "      <td>2006</td>\n",
       "      <td>1019</td>\n",
       "    </tr>\n",
       "    <tr>\n",
       "      <th>29</th>\n",
       "      <td>2007</td>\n",
       "      <td>1206</td>\n",
       "    </tr>\n",
       "    <tr>\n",
       "      <th>30</th>\n",
       "      <td>2008</td>\n",
       "      <td>1441</td>\n",
       "    </tr>\n",
       "    <tr>\n",
       "      <th>31</th>\n",
       "      <td>2009</td>\n",
       "      <td>1430</td>\n",
       "    </tr>\n",
       "    <tr>\n",
       "      <th>32</th>\n",
       "      <td>2010</td>\n",
       "      <td>1269</td>\n",
       "    </tr>\n",
       "    <tr>\n",
       "      <th>33</th>\n",
       "      <td>2011</td>\n",
       "      <td>1153</td>\n",
       "    </tr>\n",
       "    <tr>\n",
       "      <th>34</th>\n",
       "      <td>2012</td>\n",
       "      <td>662</td>\n",
       "    </tr>\n",
       "    <tr>\n",
       "      <th>35</th>\n",
       "      <td>2013</td>\n",
       "      <td>548</td>\n",
       "    </tr>\n",
       "    <tr>\n",
       "      <th>36</th>\n",
       "      <td>2014</td>\n",
       "      <td>581</td>\n",
       "    </tr>\n",
       "    <tr>\n",
       "      <th>37</th>\n",
       "      <td>2015</td>\n",
       "      <td>606</td>\n",
       "    </tr>\n",
       "    <tr>\n",
       "      <th>38</th>\n",
       "      <td>2016</td>\n",
       "      <td>502</td>\n",
       "    </tr>\n",
       "  </tbody>\n",
       "</table>\n",
       "</div>"
      ],
      "text/plain": [
       "    year_of_release  total_sales\n",
       "0              1977            1\n",
       "1              1979            1\n",
       "2              1980           10\n",
       "3              1981           46\n",
       "4              1982           36\n",
       "5              1983           17\n",
       "6              1984           14\n",
       "7              1985           14\n",
       "8              1986           21\n",
       "9              1987           16\n",
       "10             1988           15\n",
       "11             1989           17\n",
       "12             1990           16\n",
       "13             1991           41\n",
       "14             1992           43\n",
       "15             1993           60\n",
       "16             1994          121\n",
       "17             1995          219\n",
       "18             1996          263\n",
       "19             1997          289\n",
       "20             1998          379\n",
       "21             1999          339\n",
       "22             2000          351\n",
       "23             2001          487\n",
       "24             2002          844\n",
       "25             2003          784\n",
       "26             2004          765\n",
       "27             2005          949\n",
       "28             2006         1019\n",
       "29             2007         1206\n",
       "30             2008         1441\n",
       "31             2009         1430\n",
       "32             2010         1269\n",
       "33             2011         1153\n",
       "34             2012          662\n",
       "35             2013          548\n",
       "36             2014          581\n",
       "37             2015          606\n",
       "38             2016          502"
      ]
     },
     "metadata": {},
     "output_type": "display_data"
    },
    {
     "data": {
      "image/png": "[encoded data removed]",
      "text/plain": [
       "<Figure size 936x360 with 1 Axes>"
      ]
     },
     "metadata": {
      "needs_background": "light"
     },
     "output_type": "display_data"
    }
   ],
   "source": [
    "pivot_years = games.pivot_table(index = 'year_of_release', \n",
    "                                values = 'total_sales', \n",
    "                                aggfunc = 'count').reset_index()\n",
    "display(pivot_years)\n",
    "pivot_years.plot('year_of_release', 'total_sales', \n",
    "                 kind = 'bar', \n",
    "                 figsize = (13,5), \n",
    "                 title = 'Глобальные продажи игр по годам, млн. копий')\n",
    "plt.show()"
   ]
  },
  {
   "cell_type": "markdown",
   "metadata": {},
   "source": [
    "Как видно из таблицы и графика, до 1994 года количество выпускаемых за год игр было незначительным, рост начался с 1994 года, игровой бум приходится на период с 2006 по 2011 год с пиком в 2008 году, уже в 2012 году количество игр, выпущенных за год,  снижается почти в 2 раза по сравнению с 2011 годом, и остаётся примерно на одном уровне до конца исследования (2016 год). Снижению количества игр после 2008 года способствовали многие факторы, в том числе мировой финансовый кризис 2008 года и развитие рынка игр для мобильных устройств.\n",
    "\n",
    "---\n",
    "**Проанализируем платформы с наибольшим количеством продаж**:"
   ]
  },
  {
   "cell_type": "code",
   "execution_count": 32,
   "metadata": {},
   "outputs": [
    {
     "data": {
      "text/html": [
       "<div>\n",
       "<style scoped>\n",
       "    .dataframe tbody tr th:only-of-type {\n",
       "        vertical-align: middle;\n",
       "    }\n",
       "\n",
       "    .dataframe tbody tr th {\n",
       "        vertical-align: top;\n",
       "    }\n",
       "\n",
       "    .dataframe thead th {\n",
       "        text-align: right;\n",
       "    }\n",
       "</style>\n",
       "<table border=\"1\" class=\"dataframe\">\n",
       "  <thead>\n",
       "    <tr style=\"text-align: right;\">\n",
       "      <th></th>\n",
       "      <th>total_sales</th>\n",
       "    </tr>\n",
       "    <tr>\n",
       "      <th>platform</th>\n",
       "      <th></th>\n",
       "    </tr>\n",
       "  </thead>\n",
       "  <tbody>\n",
       "    <tr>\n",
       "      <th>PS2</th>\n",
       "      <td>1251.28</td>\n",
       "    </tr>\n",
       "    <tr>\n",
       "      <th>X360</th>\n",
       "      <td>969.08</td>\n",
       "    </tr>\n",
       "    <tr>\n",
       "      <th>PS3</th>\n",
       "      <td>936.81</td>\n",
       "    </tr>\n",
       "    <tr>\n",
       "      <th>Wii</th>\n",
       "      <td>905.40</td>\n",
       "    </tr>\n",
       "    <tr>\n",
       "      <th>DS</th>\n",
       "      <td>804.28</td>\n",
       "    </tr>\n",
       "    <tr>\n",
       "      <th>PS</th>\n",
       "      <td>727.58</td>\n",
       "    </tr>\n",
       "    <tr>\n",
       "      <th>GBA</th>\n",
       "      <td>316.13</td>\n",
       "    </tr>\n",
       "    <tr>\n",
       "      <th>PS4</th>\n",
       "      <td>314.14</td>\n",
       "    </tr>\n",
       "    <tr>\n",
       "      <th>PSP</th>\n",
       "      <td>293.57</td>\n",
       "    </tr>\n",
       "    <tr>\n",
       "      <th>PC</th>\n",
       "      <td>258.86</td>\n",
       "    </tr>\n",
       "  </tbody>\n",
       "</table>\n",
       "</div>"
      ],
      "text/plain": [
       "          total_sales\n",
       "platform             \n",
       "PS2           1251.28\n",
       "X360           969.08\n",
       "PS3            936.81\n",
       "Wii            905.40\n",
       "DS             804.28\n",
       "PS             727.58\n",
       "GBA            316.13\n",
       "PS4            314.14\n",
       "PSP            293.57\n",
       "PC             258.86"
      ]
     },
     "execution_count": 32,
     "metadata": {},
     "output_type": "execute_result"
    }
   ],
   "source": [
    "pivot_platform = games.pivot_table(index = ['platform'], \n",
    "                                   values = 'total_sales', \n",
    "                                   aggfunc = 'sum')\n",
    "pivot_platform_top = pivot_platform.sort_values(by = 'total_sales', \n",
    "                                                ascending = False).head(10)\n",
    "pivot_platform_top"
   ]
  },
  {
   "cell_type": "markdown",
   "metadata": {},
   "source": [
    "Построим распределение продаж по годам для каждой из платформ:"
   ]
  },
  {
   "cell_type": "code",
   "execution_count": 33,
   "metadata": {},
   "outputs": [
    {
     "data": {
      "image/png": "[encoded data removed]",
      "text/plain": [
       "<Figure size 432x288 with 1 Axes>"
      ]
     },
     "metadata": {
      "needs_background": "light"
     },
     "output_type": "display_data"
    },
    {
     "data": {
      "image/png": "[encoded data removed]",
      "text/plain": [
       "<Figure size 432x288 with 1 Axes>"
      ]
     },
     "metadata": {
      "needs_background": "light"
     },
     "output_type": "display_data"
    },
    {
     "data": {
      "image/png": "[encoded data removed]",
      "text/plain": [
       "<Figure size 432x288 with 1 Axes>"
      ]
     },
     "metadata": {
      "needs_background": "light"
     },
     "output_type": "display_data"
    },
    {
     "data": {
      "image/png": "[encoded data removed]",
      "text/plain": [
       "<Figure size 432x288 with 1 Axes>"
      ]
     },
     "metadata": {
      "needs_background": "light"
     },
     "output_type": "display_data"
    },
    {
     "data": {
      "image/png": "[encoded data removed]",
      "text/plain": [
       "<Figure size 432x288 with 1 Axes>"
      ]
     },
     "metadata": {
      "needs_background": "light"
     },
     "output_type": "display_data"
    },
    {
     "data": {
      "image/png": "[encoded data removed]",
      "text/plain": [
       "<Figure size 432x288 with 1 Axes>"
      ]
     },
     "metadata": {
      "needs_background": "light"
     },
     "output_type": "display_data"
    },
    {
     "data": {
      "image/png": "[encoded data removed]",
      "text/plain": [
       "<Figure size 432x288 with 1 Axes>"
      ]
     },
     "metadata": {
      "needs_background": "light"
     },
     "output_type": "display_data"
    },
    {
     "data": {
      "image/png": "[encoded data removed]",
      "text/plain": [
       "<Figure size 432x288 with 1 Axes>"
      ]
     },
     "metadata": {
      "needs_background": "light"
     },
     "output_type": "display_data"
    },
    {
     "data": {
      "image/png": "[encoded data removed]",
      "text/plain": [
       "<Figure size 432x288 with 1 Axes>"
      ]
     },
     "metadata": {
      "needs_background": "light"
     },
     "output_type": "display_data"
    },
    {
     "data": {
      "image/png": "[encoded data removed]",
      "text/plain": [
       "<Figure size 432x288 with 1 Axes>"
      ]
     },
     "metadata": {
      "needs_background": "light"
     },
     "output_type": "display_data"
    }
   ],
   "source": [
    "# для каждой платформы соберём статистику по годам:\n",
    "for row in pivot_platform_top.index:\n",
    "    # для каждой платформы делаем срез и строим сводную таблицу:\n",
    "    platform_data = games.query('platform == @row')\n",
    "    platform_year = platform_data.pivot_table(index = 'year_of_release', \n",
    "                                              values = 'total_sales', \n",
    "                                              aggfunc = 'sum').reset_index()\n",
    "        \n",
    "    # строим графики:\n",
    "    platform_year.plot('year_of_release', 'total_sales', \n",
    "                       kind = 'bar', \n",
    "                       figsize = (6,4))\n",
    "    plt.title(row)"
   ]
  },
  {
   "cell_type": "markdown",
   "metadata": {},
   "source": [
    "По графикам можно сделать вывод, что средний \"срок жизни\" платформы - около 10 лет. Например, игры под PlayStation выпускались с 1994 по 2003 год, затем её полностью заменила PlayStation2 (с 2000 по 2011 год), затем PlayStation3 (с 2005 по 2016 год), которую в настоящее время теснит PlayStation4, выпущенная в 2013 году. Похожие параметры у распределений консолей PlayStation Portable (2004-2015), Nintendo GBA (2000-2007), Nintendo Wii (2006-2016), Xbox 360 (2005-2016), Nintendo DS (2004-2013, есть также данные о 1985, но это явная ошибка - консоль была выпущена в 2004 году). Из общей тенденции выбивается только PC - персональный компьютер, игры под который выпускаются с 1992 по настоящее время.\n",
    "\n",
    "---\n",
    "В дальнейшем для анализа будем рассматривать данные, **начиная с 2012 года**, поскольку текущая тенденция продаж сохраняется именно с этого времени. Картина продаж до 2011 года существенно отличается, поэтому эти данные предлагается не рассматривать. "
   ]
  },
  {
   "cell_type": "code",
   "execution_count": 34,
   "metadata": {},
   "outputs": [
    {
     "data": {
      "text/html": [
       "<div>\n",
       "<style scoped>\n",
       "    .dataframe tbody tr th:only-of-type {\n",
       "        vertical-align: middle;\n",
       "    }\n",
       "\n",
       "    .dataframe tbody tr th {\n",
       "        vertical-align: top;\n",
       "    }\n",
       "\n",
       "    .dataframe thead th {\n",
       "        text-align: right;\n",
       "    }\n",
       "</style>\n",
       "<table border=\"1\" class=\"dataframe\">\n",
       "  <thead>\n",
       "    <tr style=\"text-align: right;\">\n",
       "      <th></th>\n",
       "      <th>name</th>\n",
       "      <th>platform</th>\n",
       "      <th>year_of_release</th>\n",
       "      <th>genre</th>\n",
       "      <th>na_sales</th>\n",
       "      <th>eu_sales</th>\n",
       "      <th>jp_sales</th>\n",
       "      <th>other_sales</th>\n",
       "      <th>critic_score</th>\n",
       "      <th>user_score</th>\n",
       "      <th>rating</th>\n",
       "      <th>total_sales</th>\n",
       "      <th>total_sales_1</th>\n",
       "      <th>total_sales_2</th>\n",
       "    </tr>\n",
       "  </thead>\n",
       "  <tbody>\n",
       "    <tr>\n",
       "      <th>16</th>\n",
       "      <td>Grand Theft Auto V</td>\n",
       "      <td>PS3</td>\n",
       "      <td>2013</td>\n",
       "      <td>Action</td>\n",
       "      <td>7.02</td>\n",
       "      <td>9.09</td>\n",
       "      <td>0.98</td>\n",
       "      <td>3.96</td>\n",
       "      <td>97</td>\n",
       "      <td>8.2</td>\n",
       "      <td>M</td>\n",
       "      <td>21.05</td>\n",
       "      <td>21.05</td>\n",
       "      <td>63.15</td>\n",
       "    </tr>\n",
       "    <tr>\n",
       "      <th>23</th>\n",
       "      <td>Grand Theft Auto V</td>\n",
       "      <td>X360</td>\n",
       "      <td>2013</td>\n",
       "      <td>Action</td>\n",
       "      <td>9.66</td>\n",
       "      <td>5.14</td>\n",
       "      <td>0.06</td>\n",
       "      <td>1.41</td>\n",
       "      <td>97</td>\n",
       "      <td>8.1</td>\n",
       "      <td>M</td>\n",
       "      <td>16.27</td>\n",
       "      <td>16.27</td>\n",
       "      <td>48.81</td>\n",
       "    </tr>\n",
       "    <tr>\n",
       "      <th>31</th>\n",
       "      <td>Call of Duty: Black Ops 3</td>\n",
       "      <td>PS4</td>\n",
       "      <td>2015</td>\n",
       "      <td>Shooter</td>\n",
       "      <td>6.03</td>\n",
       "      <td>5.86</td>\n",
       "      <td>0.36</td>\n",
       "      <td>2.38</td>\n",
       "      <td>0</td>\n",
       "      <td>30.0</td>\n",
       "      <td>NAN</td>\n",
       "      <td>14.63</td>\n",
       "      <td>14.63</td>\n",
       "      <td>43.89</td>\n",
       "    </tr>\n",
       "    <tr>\n",
       "      <th>33</th>\n",
       "      <td>Pokemon X/Pokemon Y</td>\n",
       "      <td>3DS</td>\n",
       "      <td>2013</td>\n",
       "      <td>Role-Playing</td>\n",
       "      <td>5.28</td>\n",
       "      <td>4.19</td>\n",
       "      <td>4.35</td>\n",
       "      <td>0.78</td>\n",
       "      <td>0</td>\n",
       "      <td>30.0</td>\n",
       "      <td>NAN</td>\n",
       "      <td>14.60</td>\n",
       "      <td>14.60</td>\n",
       "      <td>43.80</td>\n",
       "    </tr>\n",
       "    <tr>\n",
       "      <th>34</th>\n",
       "      <td>Call of Duty: Black Ops II</td>\n",
       "      <td>PS3</td>\n",
       "      <td>2012</td>\n",
       "      <td>Shooter</td>\n",
       "      <td>4.99</td>\n",
       "      <td>5.73</td>\n",
       "      <td>0.65</td>\n",
       "      <td>2.42</td>\n",
       "      <td>83</td>\n",
       "      <td>5.3</td>\n",
       "      <td>M</td>\n",
       "      <td>13.79</td>\n",
       "      <td>13.79</td>\n",
       "      <td>41.37</td>\n",
       "    </tr>\n",
       "    <tr>\n",
       "      <th>...</th>\n",
       "      <td>...</td>\n",
       "      <td>...</td>\n",
       "      <td>...</td>\n",
       "      <td>...</td>\n",
       "      <td>...</td>\n",
       "      <td>...</td>\n",
       "      <td>...</td>\n",
       "      <td>...</td>\n",
       "      <td>...</td>\n",
       "      <td>...</td>\n",
       "      <td>...</td>\n",
       "      <td>...</td>\n",
       "      <td>...</td>\n",
       "      <td>...</td>\n",
       "    </tr>\n",
       "    <tr>\n",
       "      <th>16703</th>\n",
       "      <td>Strawberry Nauts</td>\n",
       "      <td>PSV</td>\n",
       "      <td>2016</td>\n",
       "      <td>Adventure</td>\n",
       "      <td>0.00</td>\n",
       "      <td>0.00</td>\n",
       "      <td>0.01</td>\n",
       "      <td>0.00</td>\n",
       "      <td>0</td>\n",
       "      <td>30.0</td>\n",
       "      <td>NAN</td>\n",
       "      <td>0.01</td>\n",
       "      <td>0.01</td>\n",
       "      <td>0.03</td>\n",
       "    </tr>\n",
       "    <tr>\n",
       "      <th>16707</th>\n",
       "      <td>Aiyoku no Eustia</td>\n",
       "      <td>PSV</td>\n",
       "      <td>2014</td>\n",
       "      <td>Misc</td>\n",
       "      <td>0.00</td>\n",
       "      <td>0.00</td>\n",
       "      <td>0.01</td>\n",
       "      <td>0.00</td>\n",
       "      <td>0</td>\n",
       "      <td>30.0</td>\n",
       "      <td>NAN</td>\n",
       "      <td>0.01</td>\n",
       "      <td>0.01</td>\n",
       "      <td>0.03</td>\n",
       "    </tr>\n",
       "    <tr>\n",
       "      <th>16710</th>\n",
       "      <td>Samurai Warriors: Sanada Maru</td>\n",
       "      <td>PS3</td>\n",
       "      <td>2016</td>\n",
       "      <td>Action</td>\n",
       "      <td>0.00</td>\n",
       "      <td>0.00</td>\n",
       "      <td>0.01</td>\n",
       "      <td>0.00</td>\n",
       "      <td>0</td>\n",
       "      <td>30.0</td>\n",
       "      <td>NAN</td>\n",
       "      <td>0.01</td>\n",
       "      <td>0.01</td>\n",
       "      <td>0.03</td>\n",
       "    </tr>\n",
       "    <tr>\n",
       "      <th>16712</th>\n",
       "      <td>Haitaka no Psychedelica</td>\n",
       "      <td>PSV</td>\n",
       "      <td>2016</td>\n",
       "      <td>Adventure</td>\n",
       "      <td>0.00</td>\n",
       "      <td>0.00</td>\n",
       "      <td>0.01</td>\n",
       "      <td>0.00</td>\n",
       "      <td>0</td>\n",
       "      <td>30.0</td>\n",
       "      <td>NAN</td>\n",
       "      <td>0.01</td>\n",
       "      <td>0.01</td>\n",
       "      <td>0.03</td>\n",
       "    </tr>\n",
       "    <tr>\n",
       "      <th>16714</th>\n",
       "      <td>Winning Post 8 2016</td>\n",
       "      <td>PSV</td>\n",
       "      <td>2016</td>\n",
       "      <td>Simulation</td>\n",
       "      <td>0.00</td>\n",
       "      <td>0.00</td>\n",
       "      <td>0.01</td>\n",
       "      <td>0.00</td>\n",
       "      <td>0</td>\n",
       "      <td>30.0</td>\n",
       "      <td>NAN</td>\n",
       "      <td>0.01</td>\n",
       "      <td>0.01</td>\n",
       "      <td>0.03</td>\n",
       "    </tr>\n",
       "  </tbody>\n",
       "</table>\n",
       "<p>2899 rows × 14 columns</p>\n",
       "</div>"
      ],
      "text/plain": [
       "                                name platform  year_of_release         genre  \\\n",
       "16                Grand Theft Auto V      PS3             2013        Action   \n",
       "23                Grand Theft Auto V     X360             2013        Action   \n",
       "31         Call of Duty: Black Ops 3      PS4             2015       Shooter   \n",
       "33               Pokemon X/Pokemon Y      3DS             2013  Role-Playing   \n",
       "34        Call of Duty: Black Ops II      PS3             2012       Shooter   \n",
       "...                              ...      ...              ...           ...   \n",
       "16703               Strawberry Nauts      PSV             2016     Adventure   \n",
       "16707               Aiyoku no Eustia      PSV             2014          Misc   \n",
       "16710  Samurai Warriors: Sanada Maru      PS3             2016        Action   \n",
       "16712        Haitaka no Psychedelica      PSV             2016     Adventure   \n",
       "16714            Winning Post 8 2016      PSV             2016    Simulation   \n",
       "\n",
       "       na_sales  eu_sales  jp_sales  other_sales  critic_score  user_score  \\\n",
       "16         7.02      9.09      0.98         3.96            97         8.2   \n",
       "23         9.66      5.14      0.06         1.41            97         8.1   \n",
       "31         6.03      5.86      0.36         2.38             0        30.0   \n",
       "33         5.28      4.19      4.35         0.78             0        30.0   \n",
       "34         4.99      5.73      0.65         2.42            83         5.3   \n",
       "...         ...       ...       ...          ...           ...         ...   \n",
       "16703      0.00      0.00      0.01         0.00             0        30.0   \n",
       "16707      0.00      0.00      0.01         0.00             0        30.0   \n",
       "16710      0.00      0.00      0.01         0.00             0        30.0   \n",
       "16712      0.00      0.00      0.01         0.00             0        30.0   \n",
       "16714      0.00      0.00      0.01         0.00             0        30.0   \n",
       "\n",
       "      rating  total_sales  total_sales_1  total_sales_2  \n",
       "16         M        21.05          21.05          63.15  \n",
       "23         M        16.27          16.27          48.81  \n",
       "31       NAN        14.63          14.63          43.89  \n",
       "33       NAN        14.60          14.60          43.80  \n",
       "34         M        13.79          13.79          41.37  \n",
       "...      ...          ...            ...            ...  \n",
       "16703    NAN         0.01           0.01           0.03  \n",
       "16707    NAN         0.01           0.01           0.03  \n",
       "16710    NAN         0.01           0.01           0.03  \n",
       "16712    NAN         0.01           0.01           0.03  \n",
       "16714    NAN         0.01           0.01           0.03  \n",
       "\n",
       "[2899 rows x 14 columns]"
      ]
     },
     "execution_count": 34,
     "metadata": {},
     "output_type": "execute_result"
    }
   ],
   "source": [
    "games_actual = games.query('year_of_release >= 2012')\n",
    "games_actual"
   ]
  },
  {
   "cell_type": "markdown",
   "metadata": {},
   "source": [
    "Посмотрим, **какие платформы лидируют по продажам**:"
   ]
  },
  {
   "cell_type": "code",
   "execution_count": 35,
   "metadata": {},
   "outputs": [
    {
     "data": {
      "text/html": [
       "<div>\n",
       "<style scoped>\n",
       "    .dataframe tbody tr th:only-of-type {\n",
       "        vertical-align: middle;\n",
       "    }\n",
       "\n",
       "    .dataframe tbody tr th {\n",
       "        vertical-align: top;\n",
       "    }\n",
       "\n",
       "    .dataframe thead th {\n",
       "        text-align: right;\n",
       "    }\n",
       "</style>\n",
       "<table border=\"1\" class=\"dataframe\">\n",
       "  <thead>\n",
       "    <tr style=\"text-align: right;\">\n",
       "      <th></th>\n",
       "      <th>total_sales</th>\n",
       "      <th>%</th>\n",
       "    </tr>\n",
       "    <tr>\n",
       "      <th>platform</th>\n",
       "      <th></th>\n",
       "      <th></th>\n",
       "    </tr>\n",
       "  </thead>\n",
       "  <tbody>\n",
       "    <tr>\n",
       "      <th>PS4</th>\n",
       "      <td>314.14</td>\n",
       "      <td>21.63</td>\n",
       "    </tr>\n",
       "    <tr>\n",
       "      <th>PS3</th>\n",
       "      <td>289.71</td>\n",
       "      <td>19.95</td>\n",
       "    </tr>\n",
       "    <tr>\n",
       "      <th>X360</th>\n",
       "      <td>237.52</td>\n",
       "      <td>16.36</td>\n",
       "    </tr>\n",
       "    <tr>\n",
       "      <th>3DS</th>\n",
       "      <td>195.01</td>\n",
       "      <td>13.43</td>\n",
       "    </tr>\n",
       "    <tr>\n",
       "      <th>XOne</th>\n",
       "      <td>159.32</td>\n",
       "      <td>10.97</td>\n",
       "    </tr>\n",
       "    <tr>\n",
       "      <th>WiiU</th>\n",
       "      <td>82.19</td>\n",
       "      <td>5.66</td>\n",
       "    </tr>\n",
       "    <tr>\n",
       "      <th>PC</th>\n",
       "      <td>63.51</td>\n",
       "      <td>4.37</td>\n",
       "    </tr>\n",
       "    <tr>\n",
       "      <th>PSV</th>\n",
       "      <td>49.18</td>\n",
       "      <td>3.39</td>\n",
       "    </tr>\n",
       "    <tr>\n",
       "      <th>Wii</th>\n",
       "      <td>36.60</td>\n",
       "      <td>2.52</td>\n",
       "    </tr>\n",
       "    <tr>\n",
       "      <th>DS</th>\n",
       "      <td>13.21</td>\n",
       "      <td>0.91</td>\n",
       "    </tr>\n",
       "    <tr>\n",
       "      <th>PSP</th>\n",
       "      <td>11.69</td>\n",
       "      <td>0.81</td>\n",
       "    </tr>\n",
       "  </tbody>\n",
       "</table>\n",
       "</div>"
      ],
      "text/plain": [
       "          total_sales      %\n",
       "platform                    \n",
       "PS4            314.14  21.63\n",
       "PS3            289.71  19.95\n",
       "X360           237.52  16.36\n",
       "3DS            195.01  13.43\n",
       "XOne           159.32  10.97\n",
       "WiiU            82.19   5.66\n",
       "PC              63.51   4.37\n",
       "PSV             49.18   3.39\n",
       "Wii             36.60   2.52\n",
       "DS              13.21   0.91\n",
       "PSP             11.69   0.81"
      ]
     },
     "execution_count": 35,
     "metadata": {},
     "output_type": "execute_result"
    }
   ],
   "source": [
    "pivot_platform_act = games_actual.pivot_table(index = 'platform', \n",
    "                                              values = 'total_sales', \n",
    "                                              aggfunc = 'sum')\n",
    "pivot_platform_act['%'] = ((pivot_platform_act['total_sales'] / \n",
    "                            pivot_platform_act['total_sales'].sum())*100).round(2)\n",
    "pivot_platform_act.sort_values(by = 'total_sales', ascending = False)"
   ]
  },
  {
   "cell_type": "markdown",
   "metadata": {},
   "source": [
    "За 2012-2016 год лидер рынка - Sony с приставками PlayStation, на которые пришлось 46% всех продаж. У XBox - 27%, Nintendo - 23%, игры под ПК - 4%. \n",
    "\n",
    "Посмотрим, какие платформы ещё будут расти, а какие уже на спаде популярности:"
   ]
  },
  {
   "cell_type": "code",
   "execution_count": 36,
   "metadata": {},
   "outputs": [
    {
     "data": {
      "image/png": "[encoded data removed]",
      "text/plain": [
       "<Figure size 432x288 with 1 Axes>"
      ]
     },
     "metadata": {
      "needs_background": "light"
     },
     "output_type": "display_data"
    },
    {
     "data": {
      "image/png": "[encoded data removed]",
      "text/plain": [
       "<Figure size 432x288 with 1 Axes>"
      ]
     },
     "metadata": {
      "needs_background": "light"
     },
     "output_type": "display_data"
    },
    {
     "data": {
      "image/png": "[encoded data removed]",
      "text/plain": [
       "<Figure size 432x288 with 1 Axes>"
      ]
     },
     "metadata": {
      "needs_background": "light"
     },
     "output_type": "display_data"
    },
    {
     "data": {
      "image/png": "[encoded data removed]",
      "text/plain": [
       "<Figure size 432x288 with 1 Axes>"
      ]
     },
     "metadata": {
      "needs_background": "light"
     },
     "output_type": "display_data"
    },
    {
     "data": {
      "image/png": "[encoded data removed]",
      "text/plain": [
       "<Figure size 432x288 with 1 Axes>"
      ]
     },
     "metadata": {
      "needs_background": "light"
     },
     "output_type": "display_data"
    },
    {
     "data": {
      "image/png": "[encoded data removed]",
      "text/plain": [
       "<Figure size 432x288 with 1 Axes>"
      ]
     },
     "metadata": {
      "needs_background": "light"
     },
     "output_type": "display_data"
    },
    {
     "data": {
      "image/png": "[encoded data removed]",
      "text/plain": [
       "<Figure size 432x288 with 1 Axes>"
      ]
     },
     "metadata": {
      "needs_background": "light"
     },
     "output_type": "display_data"
    },
    {
     "data": {
      "image/png": "[encoded data removed]",
      "text/plain": [
       "<Figure size 432x288 with 1 Axes>"
      ]
     },
     "metadata": {
      "needs_background": "light"
     },
     "output_type": "display_data"
    },
    {
     "data": {
      "image/png": "[encoded data removed]",
      "text/plain": [
       "<Figure size 432x288 with 1 Axes>"
      ]
     },
     "metadata": {
      "needs_background": "light"
     },
     "output_type": "display_data"
    },
    {
     "data": {
      "image/png": "[encoded data removed]",
      "text/plain": [
       "<Figure size 432x288 with 1 Axes>"
      ]
     },
     "metadata": {
      "needs_background": "light"
     },
     "output_type": "display_data"
    },
    {
     "data": {
      "image/png": "[encoded data removed]",
      "text/plain": [
       "<Figure size 432x288 with 1 Axes>"
      ]
     },
     "metadata": {
      "needs_background": "light"
     },
     "output_type": "display_data"
    }
   ],
   "source": [
    "for row in pivot_platform_act.index:\n",
    "    # для каждой платформы делаем срез и строим сводную таблицу:\n",
    "    platform_act_data = games_actual.query('platform == @row')\n",
    "    platform_act_year = platform_act_data.pivot_table(index = 'year_of_release', \n",
    "                                                      values = 'total_sales', \n",
    "                                                      aggfunc = 'sum').reset_index()\n",
    "    \n",
    "    # строим графики:\n",
    "    platform_act_year.plot('year_of_release', 'total_sales', \n",
    "                           kind = 'bar', \n",
    "                           figsize = (6,4))\n",
    "    plt.title(row)"
   ]
  },
  {
   "cell_type": "markdown",
   "metadata": {},
   "source": [
    "По графикам видно, что ни одна платформа в 2016 году не находилась непосредственно в стадии роста, однако потенциально прибыльными остаются Nintendo 3DS, Sony PlayStation 4 (лидирует и вероятно, в 2017 году будет лидером рынка), Sony PlayStation Vita, Nintendo WiiU, Xbox One и ПК. Завершают или уже завершили свой жизненный цикл: Xbox 360, Nintendo Wii, Sony PlayStation Portable, Sony PlayStation 3, Nintendo DS. \n",
    "\n",
    "Проанализируем распределения продаж для каждой платформы:"
   ]
  },
  {
   "cell_type": "code",
   "execution_count": 37,
   "metadata": {},
   "outputs": [
    {
     "data": {
      "image/png": "[encoded data removed]",
      "text/plain": [
       "<Figure size 1440x720 with 1 Axes>"
      ]
     },
     "metadata": {},
     "output_type": "display_data"
    }
   ],
   "source": [
    "sns.set_style('whitegrid')\n",
    "plt.figure(figsize=(20,10))\n",
    "sns.boxplot(x = games_actual['platform'], \n",
    "            y = games_actual['total_sales']).set_title(\"Распределение продаж в разрезе платформ\")\n",
    "plt.show()"
   ]
  },
  {
   "cell_type": "markdown",
   "metadata": {},
   "source": [
    "Графики подтверждают полученную ранее статистику по наиболее популярным платформам: это первые 4 бокса.\n",
    "Видно, что все распределения имеют длинные хвосты и отличаются большим количеством выбросов: основная масса игр продаётся в количестве не более 1 млн. экземпляров, однако на рынке существуют очень популярные игры, которые расходятся тиражом свыше 15 и даже 20 млн. копий. \n",
    "Посмотрим, что это за игры: "
   ]
  },
  {
   "cell_type": "code",
   "execution_count": 38,
   "metadata": {},
   "outputs": [
    {
     "data": {
      "text/html": [
       "<div>\n",
       "<style scoped>\n",
       "    .dataframe tbody tr th:only-of-type {\n",
       "        vertical-align: middle;\n",
       "    }\n",
       "\n",
       "    .dataframe tbody tr th {\n",
       "        vertical-align: top;\n",
       "    }\n",
       "\n",
       "    .dataframe thead th {\n",
       "        text-align: right;\n",
       "    }\n",
       "</style>\n",
       "<table border=\"1\" class=\"dataframe\">\n",
       "  <thead>\n",
       "    <tr style=\"text-align: right;\">\n",
       "      <th></th>\n",
       "      <th>name</th>\n",
       "      <th>platform</th>\n",
       "      <th>year_of_release</th>\n",
       "      <th>genre</th>\n",
       "      <th>na_sales</th>\n",
       "      <th>eu_sales</th>\n",
       "      <th>jp_sales</th>\n",
       "      <th>other_sales</th>\n",
       "      <th>critic_score</th>\n",
       "      <th>user_score</th>\n",
       "      <th>rating</th>\n",
       "      <th>total_sales</th>\n",
       "      <th>total_sales_1</th>\n",
       "      <th>total_sales_2</th>\n",
       "    </tr>\n",
       "  </thead>\n",
       "  <tbody>\n",
       "    <tr>\n",
       "      <th>16</th>\n",
       "      <td>Grand Theft Auto V</td>\n",
       "      <td>PS3</td>\n",
       "      <td>2013</td>\n",
       "      <td>Action</td>\n",
       "      <td>7.02</td>\n",
       "      <td>9.09</td>\n",
       "      <td>0.98</td>\n",
       "      <td>3.96</td>\n",
       "      <td>97</td>\n",
       "      <td>8.2</td>\n",
       "      <td>M</td>\n",
       "      <td>21.05</td>\n",
       "      <td>21.05</td>\n",
       "      <td>63.15</td>\n",
       "    </tr>\n",
       "    <tr>\n",
       "      <th>23</th>\n",
       "      <td>Grand Theft Auto V</td>\n",
       "      <td>X360</td>\n",
       "      <td>2013</td>\n",
       "      <td>Action</td>\n",
       "      <td>9.66</td>\n",
       "      <td>5.14</td>\n",
       "      <td>0.06</td>\n",
       "      <td>1.41</td>\n",
       "      <td>97</td>\n",
       "      <td>8.1</td>\n",
       "      <td>M</td>\n",
       "      <td>16.27</td>\n",
       "      <td>16.27</td>\n",
       "      <td>48.81</td>\n",
       "    </tr>\n",
       "    <tr>\n",
       "      <th>31</th>\n",
       "      <td>Call of Duty: Black Ops 3</td>\n",
       "      <td>PS4</td>\n",
       "      <td>2015</td>\n",
       "      <td>Shooter</td>\n",
       "      <td>6.03</td>\n",
       "      <td>5.86</td>\n",
       "      <td>0.36</td>\n",
       "      <td>2.38</td>\n",
       "      <td>0</td>\n",
       "      <td>30.0</td>\n",
       "      <td>NAN</td>\n",
       "      <td>14.63</td>\n",
       "      <td>14.63</td>\n",
       "      <td>43.89</td>\n",
       "    </tr>\n",
       "    <tr>\n",
       "      <th>33</th>\n",
       "      <td>Pokemon X/Pokemon Y</td>\n",
       "      <td>3DS</td>\n",
       "      <td>2013</td>\n",
       "      <td>Role-Playing</td>\n",
       "      <td>5.28</td>\n",
       "      <td>4.19</td>\n",
       "      <td>4.35</td>\n",
       "      <td>0.78</td>\n",
       "      <td>0</td>\n",
       "      <td>30.0</td>\n",
       "      <td>NAN</td>\n",
       "      <td>14.60</td>\n",
       "      <td>14.60</td>\n",
       "      <td>43.80</td>\n",
       "    </tr>\n",
       "    <tr>\n",
       "      <th>34</th>\n",
       "      <td>Call of Duty: Black Ops II</td>\n",
       "      <td>PS3</td>\n",
       "      <td>2012</td>\n",
       "      <td>Shooter</td>\n",
       "      <td>4.99</td>\n",
       "      <td>5.73</td>\n",
       "      <td>0.65</td>\n",
       "      <td>2.42</td>\n",
       "      <td>83</td>\n",
       "      <td>5.3</td>\n",
       "      <td>M</td>\n",
       "      <td>13.79</td>\n",
       "      <td>13.79</td>\n",
       "      <td>41.37</td>\n",
       "    </tr>\n",
       "    <tr>\n",
       "      <th>35</th>\n",
       "      <td>Call of Duty: Black Ops II</td>\n",
       "      <td>X360</td>\n",
       "      <td>2012</td>\n",
       "      <td>Shooter</td>\n",
       "      <td>8.25</td>\n",
       "      <td>4.24</td>\n",
       "      <td>0.07</td>\n",
       "      <td>1.12</td>\n",
       "      <td>83</td>\n",
       "      <td>4.8</td>\n",
       "      <td>M</td>\n",
       "      <td>13.68</td>\n",
       "      <td>13.68</td>\n",
       "      <td>41.04</td>\n",
       "    </tr>\n",
       "    <tr>\n",
       "      <th>42</th>\n",
       "      <td>Grand Theft Auto V</td>\n",
       "      <td>PS4</td>\n",
       "      <td>2014</td>\n",
       "      <td>Action</td>\n",
       "      <td>3.96</td>\n",
       "      <td>6.31</td>\n",
       "      <td>0.38</td>\n",
       "      <td>1.97</td>\n",
       "      <td>97</td>\n",
       "      <td>8.3</td>\n",
       "      <td>M</td>\n",
       "      <td>12.62</td>\n",
       "      <td>12.62</td>\n",
       "      <td>37.86</td>\n",
       "    </tr>\n",
       "    <tr>\n",
       "      <th>47</th>\n",
       "      <td>Pokemon Omega Ruby/Pokemon Alpha Sapphire</td>\n",
       "      <td>3DS</td>\n",
       "      <td>2014</td>\n",
       "      <td>Role-Playing</td>\n",
       "      <td>4.35</td>\n",
       "      <td>3.49</td>\n",
       "      <td>3.10</td>\n",
       "      <td>0.74</td>\n",
       "      <td>0</td>\n",
       "      <td>30.0</td>\n",
       "      <td>NAN</td>\n",
       "      <td>11.68</td>\n",
       "      <td>11.68</td>\n",
       "      <td>35.04</td>\n",
       "    </tr>\n",
       "    <tr>\n",
       "      <th>60</th>\n",
       "      <td>Call of Duty: Ghosts</td>\n",
       "      <td>X360</td>\n",
       "      <td>2013</td>\n",
       "      <td>Shooter</td>\n",
       "      <td>6.73</td>\n",
       "      <td>2.56</td>\n",
       "      <td>0.04</td>\n",
       "      <td>0.91</td>\n",
       "      <td>73</td>\n",
       "      <td>2.6</td>\n",
       "      <td>M</td>\n",
       "      <td>10.24</td>\n",
       "      <td>10.24</td>\n",
       "      <td>30.72</td>\n",
       "    </tr>\n",
       "  </tbody>\n",
       "</table>\n",
       "</div>"
      ],
      "text/plain": [
       "                                         name platform  year_of_release  \\\n",
       "16                         Grand Theft Auto V      PS3             2013   \n",
       "23                         Grand Theft Auto V     X360             2013   \n",
       "31                  Call of Duty: Black Ops 3      PS4             2015   \n",
       "33                        Pokemon X/Pokemon Y      3DS             2013   \n",
       "34                 Call of Duty: Black Ops II      PS3             2012   \n",
       "35                 Call of Duty: Black Ops II     X360             2012   \n",
       "42                         Grand Theft Auto V      PS4             2014   \n",
       "47  Pokemon Omega Ruby/Pokemon Alpha Sapphire      3DS             2014   \n",
       "60                       Call of Duty: Ghosts     X360             2013   \n",
       "\n",
       "           genre  na_sales  eu_sales  jp_sales  other_sales  critic_score  \\\n",
       "16        Action      7.02      9.09      0.98         3.96            97   \n",
       "23        Action      9.66      5.14      0.06         1.41            97   \n",
       "31       Shooter      6.03      5.86      0.36         2.38             0   \n",
       "33  Role-Playing      5.28      4.19      4.35         0.78             0   \n",
       "34       Shooter      4.99      5.73      0.65         2.42            83   \n",
       "35       Shooter      8.25      4.24      0.07         1.12            83   \n",
       "42        Action      3.96      6.31      0.38         1.97            97   \n",
       "47  Role-Playing      4.35      3.49      3.10         0.74             0   \n",
       "60       Shooter      6.73      2.56      0.04         0.91            73   \n",
       "\n",
       "    user_score rating  total_sales  total_sales_1  total_sales_2  \n",
       "16         8.2      M        21.05          21.05          63.15  \n",
       "23         8.1      M        16.27          16.27          48.81  \n",
       "31        30.0    NAN        14.63          14.63          43.89  \n",
       "33        30.0    NAN        14.60          14.60          43.80  \n",
       "34         5.3      M        13.79          13.79          41.37  \n",
       "35         4.8      M        13.68          13.68          41.04  \n",
       "42         8.3      M        12.62          12.62          37.86  \n",
       "47        30.0    NAN        11.68          11.68          35.04  \n",
       "60         2.6      M        10.24          10.24          30.72  "
      ]
     },
     "execution_count": 38,
     "metadata": {},
     "output_type": "execute_result"
    }
   ],
   "source": [
    "games_actual.query('total_sales > 10')"
   ]
  },
  {
   "cell_type": "markdown",
   "metadata": {},
   "source": [
    "Поскольку выше график не очень нагляден из-за больших выбросов, ограничим ось Y:"
   ]
  },
  {
   "cell_type": "code",
   "execution_count": 39,
   "metadata": {},
   "outputs": [
    {
     "data": {
      "image/png": "[encoded data removed]",
      "text/plain": [
       "<Figure size 1440x720 with 1 Axes>"
      ]
     },
     "metadata": {},
     "output_type": "display_data"
    }
   ],
   "source": [
    "sns.set_style('whitegrid')\n",
    "plt.figure(figsize=(20,10))\n",
    "plt.ylim(0, 3)\n",
    "sns.boxplot(x = games_actual['platform'], \n",
    "            y = games_actual['total_sales']).set_title(\"Распределение продаж в разрезе платформ\")\n",
    "plt.show()"
   ]
  },
  {
   "cell_type": "markdown",
   "metadata": {},
   "source": [
    "Несмотря на то, что у Sony в целом продаж больше, по графику можно видеть, что в среднем игры для XBox расходятся большим тиражом, чем для платформ других производителей. Самые низкие медианные продажи  - у Nintendo DS, Sony PlayStation Vita, Sony PlayStation Portable - менее 200 тыс. Однако, из этих трёх \"аутсайдеров\" можно выделить PlayStation Vita: у этой платформы есть продажи почти до 2 млн. экзмепляров и достаточно много продаж в диапазоне от 250 тыс. до 1,5 млн. копий.\n",
    "\n",
    "Теперь рассмотрим на примере одной платформы, **влияют ли на продажи отзывы критиков и пользователей**. Рассматривать будем лидера за последние годы - Sony PlayStation 4. Напомним, что мы приняли в качестве индикатора пропуска в оценке критиков - 0, в оценке пользователей - 20 и 30. Отфильтруем таблицу и оставим только строки с реальными оценками:"
   ]
  },
  {
   "cell_type": "code",
   "execution_count": 40,
   "metadata": {},
   "outputs": [
    {
     "data": {
      "text/html": [
       "<div>\n",
       "<style scoped>\n",
       "    .dataframe tbody tr th:only-of-type {\n",
       "        vertical-align: middle;\n",
       "    }\n",
       "\n",
       "    .dataframe tbody tr th {\n",
       "        vertical-align: top;\n",
       "    }\n",
       "\n",
       "    .dataframe thead th {\n",
       "        text-align: right;\n",
       "    }\n",
       "</style>\n",
       "<table border=\"1\" class=\"dataframe\">\n",
       "  <thead>\n",
       "    <tr style=\"text-align: right;\">\n",
       "      <th></th>\n",
       "      <th>name</th>\n",
       "      <th>platform</th>\n",
       "      <th>year_of_release</th>\n",
       "      <th>genre</th>\n",
       "      <th>na_sales</th>\n",
       "      <th>eu_sales</th>\n",
       "      <th>jp_sales</th>\n",
       "      <th>other_sales</th>\n",
       "      <th>critic_score</th>\n",
       "      <th>user_score</th>\n",
       "      <th>rating</th>\n",
       "      <th>total_sales</th>\n",
       "      <th>total_sales_1</th>\n",
       "      <th>total_sales_2</th>\n",
       "    </tr>\n",
       "  </thead>\n",
       "  <tbody>\n",
       "    <tr>\n",
       "      <th>42</th>\n",
       "      <td>Grand Theft Auto V</td>\n",
       "      <td>PS4</td>\n",
       "      <td>2014</td>\n",
       "      <td>Action</td>\n",
       "      <td>3.96</td>\n",
       "      <td>6.31</td>\n",
       "      <td>0.38</td>\n",
       "      <td>1.97</td>\n",
       "      <td>97</td>\n",
       "      <td>8.3</td>\n",
       "      <td>M</td>\n",
       "      <td>12.62</td>\n",
       "      <td>12.62</td>\n",
       "      <td>37.86</td>\n",
       "    </tr>\n",
       "    <tr>\n",
       "      <th>77</th>\n",
       "      <td>FIFA 16</td>\n",
       "      <td>PS4</td>\n",
       "      <td>2015</td>\n",
       "      <td>Sports</td>\n",
       "      <td>1.12</td>\n",
       "      <td>6.12</td>\n",
       "      <td>0.06</td>\n",
       "      <td>1.28</td>\n",
       "      <td>82</td>\n",
       "      <td>4.3</td>\n",
       "      <td>E</td>\n",
       "      <td>8.58</td>\n",
       "      <td>8.58</td>\n",
       "      <td>25.74</td>\n",
       "    </tr>\n",
       "    <tr>\n",
       "      <th>92</th>\n",
       "      <td>Call of Duty: Advanced Warfare</td>\n",
       "      <td>PS4</td>\n",
       "      <td>2014</td>\n",
       "      <td>Shooter</td>\n",
       "      <td>2.81</td>\n",
       "      <td>3.48</td>\n",
       "      <td>0.14</td>\n",
       "      <td>1.23</td>\n",
       "      <td>83</td>\n",
       "      <td>5.7</td>\n",
       "      <td>M</td>\n",
       "      <td>7.66</td>\n",
       "      <td>7.66</td>\n",
       "      <td>22.98</td>\n",
       "    </tr>\n",
       "    <tr>\n",
       "      <th>94</th>\n",
       "      <td>FIFA 17</td>\n",
       "      <td>PS4</td>\n",
       "      <td>2016</td>\n",
       "      <td>Sports</td>\n",
       "      <td>0.66</td>\n",
       "      <td>5.75</td>\n",
       "      <td>0.08</td>\n",
       "      <td>1.11</td>\n",
       "      <td>85</td>\n",
       "      <td>5.0</td>\n",
       "      <td>E</td>\n",
       "      <td>7.60</td>\n",
       "      <td>7.60</td>\n",
       "      <td>22.80</td>\n",
       "    </tr>\n",
       "    <tr>\n",
       "      <th>105</th>\n",
       "      <td>Fallout 4</td>\n",
       "      <td>PS4</td>\n",
       "      <td>2015</td>\n",
       "      <td>Role-Playing</td>\n",
       "      <td>2.53</td>\n",
       "      <td>3.27</td>\n",
       "      <td>0.24</td>\n",
       "      <td>1.13</td>\n",
       "      <td>87</td>\n",
       "      <td>6.5</td>\n",
       "      <td>M</td>\n",
       "      <td>7.17</td>\n",
       "      <td>7.17</td>\n",
       "      <td>21.51</td>\n",
       "    </tr>\n",
       "    <tr>\n",
       "      <th>...</th>\n",
       "      <td>...</td>\n",
       "      <td>...</td>\n",
       "      <td>...</td>\n",
       "      <td>...</td>\n",
       "      <td>...</td>\n",
       "      <td>...</td>\n",
       "      <td>...</td>\n",
       "      <td>...</td>\n",
       "      <td>...</td>\n",
       "      <td>...</td>\n",
       "      <td>...</td>\n",
       "      <td>...</td>\n",
       "      <td>...</td>\n",
       "      <td>...</td>\n",
       "    </tr>\n",
       "    <tr>\n",
       "      <th>16486</th>\n",
       "      <td>Super Dungeon Bros</td>\n",
       "      <td>PS4</td>\n",
       "      <td>2016</td>\n",
       "      <td>Action</td>\n",
       "      <td>0.01</td>\n",
       "      <td>0.00</td>\n",
       "      <td>0.00</td>\n",
       "      <td>0.00</td>\n",
       "      <td>42</td>\n",
       "      <td>2.3</td>\n",
       "      <td>E10+</td>\n",
       "      <td>0.01</td>\n",
       "      <td>0.01</td>\n",
       "      <td>0.03</td>\n",
       "    </tr>\n",
       "    <tr>\n",
       "      <th>16499</th>\n",
       "      <td>Sherlock Holmes: The Devil's Daughter</td>\n",
       "      <td>PS4</td>\n",
       "      <td>2016</td>\n",
       "      <td>Adventure</td>\n",
       "      <td>0.01</td>\n",
       "      <td>0.00</td>\n",
       "      <td>0.00</td>\n",
       "      <td>0.00</td>\n",
       "      <td>70</td>\n",
       "      <td>6.8</td>\n",
       "      <td>T</td>\n",
       "      <td>0.01</td>\n",
       "      <td>0.01</td>\n",
       "      <td>0.03</td>\n",
       "    </tr>\n",
       "    <tr>\n",
       "      <th>16500</th>\n",
       "      <td>Root Letter</td>\n",
       "      <td>PS4</td>\n",
       "      <td>2016</td>\n",
       "      <td>Adventure</td>\n",
       "      <td>0.00</td>\n",
       "      <td>0.00</td>\n",
       "      <td>0.01</td>\n",
       "      <td>0.00</td>\n",
       "      <td>69</td>\n",
       "      <td>7.5</td>\n",
       "      <td>NAN</td>\n",
       "      <td>0.01</td>\n",
       "      <td>0.01</td>\n",
       "      <td>0.03</td>\n",
       "    </tr>\n",
       "    <tr>\n",
       "      <th>16526</th>\n",
       "      <td>Dungeons 2</td>\n",
       "      <td>PS4</td>\n",
       "      <td>2016</td>\n",
       "      <td>Role-Playing</td>\n",
       "      <td>0.01</td>\n",
       "      <td>0.00</td>\n",
       "      <td>0.00</td>\n",
       "      <td>0.00</td>\n",
       "      <td>61</td>\n",
       "      <td>7.9</td>\n",
       "      <td>T</td>\n",
       "      <td>0.01</td>\n",
       "      <td>0.01</td>\n",
       "      <td>0.03</td>\n",
       "    </tr>\n",
       "    <tr>\n",
       "      <th>16530</th>\n",
       "      <td>Carmageddon: Max Damage</td>\n",
       "      <td>PS4</td>\n",
       "      <td>2016</td>\n",
       "      <td>Action</td>\n",
       "      <td>0.01</td>\n",
       "      <td>0.00</td>\n",
       "      <td>0.00</td>\n",
       "      <td>0.00</td>\n",
       "      <td>51</td>\n",
       "      <td>5.5</td>\n",
       "      <td>M</td>\n",
       "      <td>0.01</td>\n",
       "      <td>0.01</td>\n",
       "      <td>0.03</td>\n",
       "    </tr>\n",
       "  </tbody>\n",
       "</table>\n",
       "<p>249 rows × 14 columns</p>\n",
       "</div>"
      ],
      "text/plain": [
       "                                        name platform  year_of_release  \\\n",
       "42                        Grand Theft Auto V      PS4             2014   \n",
       "77                                   FIFA 16      PS4             2015   \n",
       "92            Call of Duty: Advanced Warfare      PS4             2014   \n",
       "94                                   FIFA 17      PS4             2016   \n",
       "105                                Fallout 4      PS4             2015   \n",
       "...                                      ...      ...              ...   \n",
       "16486                     Super Dungeon Bros      PS4             2016   \n",
       "16499  Sherlock Holmes: The Devil's Daughter      PS4             2016   \n",
       "16500                            Root Letter      PS4             2016   \n",
       "16526                             Dungeons 2      PS4             2016   \n",
       "16530                Carmageddon: Max Damage      PS4             2016   \n",
       "\n",
       "              genre  na_sales  eu_sales  jp_sales  other_sales  critic_score  \\\n",
       "42           Action      3.96      6.31      0.38         1.97            97   \n",
       "77           Sports      1.12      6.12      0.06         1.28            82   \n",
       "92          Shooter      2.81      3.48      0.14         1.23            83   \n",
       "94           Sports      0.66      5.75      0.08         1.11            85   \n",
       "105    Role-Playing      2.53      3.27      0.24         1.13            87   \n",
       "...             ...       ...       ...       ...          ...           ...   \n",
       "16486        Action      0.01      0.00      0.00         0.00            42   \n",
       "16499     Adventure      0.01      0.00      0.00         0.00            70   \n",
       "16500     Adventure      0.00      0.00      0.01         0.00            69   \n",
       "16526  Role-Playing      0.01      0.00      0.00         0.00            61   \n",
       "16530        Action      0.01      0.00      0.00         0.00            51   \n",
       "\n",
       "       user_score rating  total_sales  total_sales_1  total_sales_2  \n",
       "42            8.3      M        12.62          12.62          37.86  \n",
       "77            4.3      E         8.58           8.58          25.74  \n",
       "92            5.7      M         7.66           7.66          22.98  \n",
       "94            5.0      E         7.60           7.60          22.80  \n",
       "105           6.5      M         7.17           7.17          21.51  \n",
       "...           ...    ...          ...            ...            ...  \n",
       "16486         2.3   E10+         0.01           0.01           0.03  \n",
       "16499         6.8      T         0.01           0.01           0.03  \n",
       "16500         7.5    NAN         0.01           0.01           0.03  \n",
       "16526         7.9      T         0.01           0.01           0.03  \n",
       "16530         5.5      M         0.01           0.01           0.03  \n",
       "\n",
       "[249 rows x 14 columns]"
      ]
     },
     "execution_count": 40,
     "metadata": {},
     "output_type": "execute_result"
    }
   ],
   "source": [
    "games_PS4 = games_actual.query('platform == \"PS4\" and critic_score > 0 and user_score < 20')\n",
    "games_PS4"
   ]
  },
  {
   "cell_type": "markdown",
   "metadata": {},
   "source": [
    "Построим диаграмму рассеяния и посчитаем корреляцию между продажами и оценкой критиков:"
   ]
  },
  {
   "cell_type": "code",
   "execution_count": 41,
   "metadata": {},
   "outputs": [
    {
     "name": "stdout",
     "output_type": "stream",
     "text": [
      "Коэффициент коррелляции между оценкой критиков и продажами: 0.41\n"
     ]
    },
    {
     "data": {
      "image/png": "[encoded data removed]",
      "text/plain": [
       "<Figure size 576x288 with 1 Axes>"
      ]
     },
     "metadata": {},
     "output_type": "display_data"
    }
   ],
   "source": [
    "games_PS4.plot(x = 'total_sales', \n",
    "               y = 'critic_score', \n",
    "               kind = 'scatter', \n",
    "               grid = True, \n",
    "               alpha = 0.5, \n",
    "               figsize = (8,4))\n",
    "print('Коэффициент коррелляции между оценкой критиков и продажами:', games_PS4['critic_score'].corr(games_PS4['total_sales']).round(2))"
   ]
  },
  {
   "cell_type": "markdown",
   "metadata": {},
   "source": [
    "Зависимость между оценкой и продажами дейтствительно есть, но она достаточно слабая (коэффициент кореляции равен 0,41): есть множество игр, получивших высокую оценку от критиков, продажи которых не превзошли даже 300 тыс. экземпляров. В то же время мы видим, что действительно популярные игры, продажи которых для PS4 начинаются от 2 млн. копий, получают высокие оценки - не менее 70 баллов из 100. Самая популярная из оцененных игр  -  Grand Theft Auto V, продажи которой составили 12,6 млн. копий, получила от критиков 97 баллов. \n",
    "\n",
    "Построим аналогичный график для продаж и оценок пользователей:"
   ]
  },
  {
   "cell_type": "code",
   "execution_count": 42,
   "metadata": {},
   "outputs": [
    {
     "name": "stdout",
     "output_type": "stream",
     "text": [
      "Коэффициент коррелляции между оценкой пользователей и продажами: -0.03\n"
     ]
    },
    {
     "data": {
      "image/png": "[encoded data removed]",
      "text/plain": [
       "<Figure size 576x288 with 1 Axes>"
      ]
     },
     "metadata": {},
     "output_type": "display_data"
    }
   ],
   "source": [
    "games_PS4.plot(x = 'total_sales', y = 'user_score', \n",
    "               kind = 'scatter', \n",
    "               grid = True, \n",
    "               alpha = 0.5, \n",
    "               color = 'green', \n",
    "               figsize = (8,4))\n",
    "print('Коэффициент коррелляции между оценкой пользователей и продажами:', \n",
    "      games_PS4['user_score'].corr(games_PS4['total_sales']).round(2))"
   ]
  },
  {
   "cell_type": "markdown",
   "metadata": {},
   "source": [
    "Коэффициент корреляции -0,03 говорит о том, что связи между оценками пользователей и продажами игр нет. По графику видно, что, как и в случае с оценками критиков, большинство игр, получивших высокую оценку пользователей, продавались в количестве менее 300 тыс. Но если в случае с оценками критиков, популярыне игры оценивались ими по достоинству, то в случае с пользователями это не так: , проданные в количестве от 4 до 9 млн. экземпляров, оценивались пользователями зачастую ниже, чем игры, чьи продажи не превысили 2 млн. копий. Так что высокая оценка пользователей - вовсе не признак популярности игры.\n",
    "\n",
    "Посмотрим аналогичные метрики для платформы конкурента - XBox 360:"
   ]
  },
  {
   "cell_type": "code",
   "execution_count": 43,
   "metadata": {},
   "outputs": [
    {
     "name": "stdout",
     "output_type": "stream",
     "text": [
      "Коэффициент коррелляции между оценкой критиков и продажами: 0.36\n",
      "Коэффициент коррелляции между оценкой пользователей и продажами: -0.0\n"
     ]
    },
    {
     "data": {
      "image/png": "[encoded data removed]",
      "text/plain": [
       "<Figure size 1152x360 with 2 Axes>"
      ]
     },
     "metadata": {},
     "output_type": "display_data"
    }
   ],
   "source": [
    "games_X360 = games_actual.query('platform == \"X360\" and critic_score > 0 and user_score < 20')\n",
    "\n",
    "print('Коэффициент коррелляции между оценкой критиков и продажами:', \n",
    "      games_X360['critic_score'].corr(games_X360['total_sales']).round(2))\n",
    "print('Коэффициент коррелляции между оценкой пользователей и продажами:', \n",
    "      games_X360['user_score'].corr(games_X360['total_sales']).round(2))\n",
    "\n",
    "fig, axes = plt.subplots(1, 2, figsize=(16, 5))\n",
    "axes[0].scatter(games_X360['total_sales'], \n",
    "                games_X360['critic_score'], alpha = 0.5)\n",
    "axes[1].scatter(games_X360['total_sales'], games_X360['user_score'], \n",
    "                alpha = 0.5, color = 'green')\n",
    "\n",
    "axes[0].set_xlabel('Продажи, млн. экземпляров')\n",
    "axes[0].set_ylabel('Оценка критиков')\n",
    "axes[1].set_xlabel('Продажи, млн. экземпляров')\n",
    "axes[1].set_ylabel('Оценка пользователей')\n",
    "fig.suptitle('Зависимость продаж от оценок для игр на платформе XBox 360')\n",
    "\n",
    "plt.show()"
   ]
  },
  {
   "cell_type": "code",
   "execution_count": 44,
   "metadata": {},
   "outputs": [
    {
     "data": {
      "text/html": [
       "<div>\n",
       "<style scoped>\n",
       "    .dataframe tbody tr th:only-of-type {\n",
       "        vertical-align: middle;\n",
       "    }\n",
       "\n",
       "    .dataframe tbody tr th {\n",
       "        vertical-align: top;\n",
       "    }\n",
       "\n",
       "    .dataframe thead th {\n",
       "        text-align: right;\n",
       "    }\n",
       "</style>\n",
       "<table border=\"1\" class=\"dataframe\">\n",
       "  <thead>\n",
       "    <tr style=\"text-align: right;\">\n",
       "      <th></th>\n",
       "      <th>critic_score</th>\n",
       "      <th>total_sales</th>\n",
       "      <th>user_score</th>\n",
       "    </tr>\n",
       "  </thead>\n",
       "  <tbody>\n",
       "    <tr>\n",
       "      <th>critic_score</th>\n",
       "      <td>1.000000</td>\n",
       "      <td>0.360266</td>\n",
       "      <td>0.557952</td>\n",
       "    </tr>\n",
       "    <tr>\n",
       "      <th>total_sales</th>\n",
       "      <td>0.360266</td>\n",
       "      <td>1.000000</td>\n",
       "      <td>-0.002257</td>\n",
       "    </tr>\n",
       "    <tr>\n",
       "      <th>user_score</th>\n",
       "      <td>0.557952</td>\n",
       "      <td>-0.002257</td>\n",
       "      <td>1.000000</td>\n",
       "    </tr>\n",
       "  </tbody>\n",
       "</table>\n",
       "</div>"
      ],
      "text/plain": [
       "              critic_score  total_sales  user_score\n",
       "critic_score      1.000000     0.360266    0.557952\n",
       "total_sales       0.360266     1.000000   -0.002257\n",
       "user_score        0.557952    -0.002257    1.000000"
      ]
     },
     "execution_count": 44,
     "metadata": {},
     "output_type": "execute_result"
    }
   ],
   "source": [
    "games_X360[['critic_score', 'total_sales', 'user_score']].corr()"
   ]
  },
  {
   "cell_type": "code",
   "execution_count": 45,
   "metadata": {},
   "outputs": [
    {
     "data": {
      "image/png": "[encoded data removed]",
      "text/plain": [
       "<Figure size 432x288 with 2 Axes>"
      ]
     },
     "metadata": {},
     "output_type": "display_data"
    }
   ],
   "source": [
    "sns.heatmap(games_X360[['critic_score', 'total_sales', 'user_score']].corr())\n",
    "plt.show()"
   ]
  },
  {
   "cell_type": "markdown",
   "metadata": {},
   "source": [
    "Картина аналогична той, что мы увидели для PS4. \n",
    "\n",
    "Расссмотрим **глобальные продажи игр в разрезе жанров**:"
   ]
  },
  {
   "cell_type": "code",
   "execution_count": 46,
   "metadata": {},
   "outputs": [
    {
     "data": {
      "text/html": [
       "<div>\n",
       "<style scoped>\n",
       "    .dataframe tbody tr th:only-of-type {\n",
       "        vertical-align: middle;\n",
       "    }\n",
       "\n",
       "    .dataframe tbody tr th {\n",
       "        vertical-align: top;\n",
       "    }\n",
       "\n",
       "    .dataframe thead th {\n",
       "        text-align: right;\n",
       "    }\n",
       "</style>\n",
       "<table border=\"1\" class=\"dataframe\">\n",
       "  <thead>\n",
       "    <tr style=\"text-align: right;\">\n",
       "      <th></th>\n",
       "      <th>total_sales</th>\n",
       "      <th>%</th>\n",
       "    </tr>\n",
       "    <tr>\n",
       "      <th>genre</th>\n",
       "      <th></th>\n",
       "      <th></th>\n",
       "    </tr>\n",
       "  </thead>\n",
       "  <tbody>\n",
       "    <tr>\n",
       "      <th>Action</th>\n",
       "      <td>446.41</td>\n",
       "      <td>30.74</td>\n",
       "    </tr>\n",
       "    <tr>\n",
       "      <th>Shooter</th>\n",
       "      <td>304.75</td>\n",
       "      <td>20.99</td>\n",
       "    </tr>\n",
       "    <tr>\n",
       "      <th>Role-Playing</th>\n",
       "      <td>192.80</td>\n",
       "      <td>13.28</td>\n",
       "    </tr>\n",
       "    <tr>\n",
       "      <th>Sports</th>\n",
       "      <td>181.07</td>\n",
       "      <td>12.47</td>\n",
       "    </tr>\n",
       "    <tr>\n",
       "      <th>Misc</th>\n",
       "      <td>85.28</td>\n",
       "      <td>5.87</td>\n",
       "    </tr>\n",
       "    <tr>\n",
       "      <th>Platform</th>\n",
       "      <td>61.00</td>\n",
       "      <td>4.20</td>\n",
       "    </tr>\n",
       "    <tr>\n",
       "      <th>Racing</th>\n",
       "      <td>53.50</td>\n",
       "      <td>3.68</td>\n",
       "    </tr>\n",
       "    <tr>\n",
       "      <th>Fighting</th>\n",
       "      <td>44.49</td>\n",
       "      <td>3.06</td>\n",
       "    </tr>\n",
       "    <tr>\n",
       "      <th>Simulation</th>\n",
       "      <td>35.12</td>\n",
       "      <td>2.42</td>\n",
       "    </tr>\n",
       "    <tr>\n",
       "      <th>Adventure</th>\n",
       "      <td>29.43</td>\n",
       "      <td>2.03</td>\n",
       "    </tr>\n",
       "    <tr>\n",
       "      <th>Strategy</th>\n",
       "      <td>13.34</td>\n",
       "      <td>0.92</td>\n",
       "    </tr>\n",
       "    <tr>\n",
       "      <th>Puzzle</th>\n",
       "      <td>4.89</td>\n",
       "      <td>0.34</td>\n",
       "    </tr>\n",
       "  </tbody>\n",
       "</table>\n",
       "</div>"
      ],
      "text/plain": [
       "              total_sales      %\n",
       "genre                           \n",
       "Action             446.41  30.74\n",
       "Shooter            304.75  20.99\n",
       "Role-Playing       192.80  13.28\n",
       "Sports             181.07  12.47\n",
       "Misc                85.28   5.87\n",
       "Platform            61.00   4.20\n",
       "Racing              53.50   3.68\n",
       "Fighting            44.49   3.06\n",
       "Simulation          35.12   2.42\n",
       "Adventure           29.43   2.03\n",
       "Strategy            13.34   0.92\n",
       "Puzzle               4.89   0.34"
      ]
     },
     "execution_count": 46,
     "metadata": {},
     "output_type": "execute_result"
    }
   ],
   "source": [
    "pivot_genre_act = games_actual.pivot_table(index = 'genre', \n",
    "                                           values = 'total_sales', aggfunc = 'sum')\n",
    "pivot_genre_act['%'] = ((pivot_genre_act['total_sales'] / \n",
    "                         pivot_genre_act['total_sales'].sum())*100).round(2)\n",
    "pivot_genre_act.sort_values(by = 'total_sales', ascending = False)"
   ]
  },
  {
   "cell_type": "markdown",
   "metadata": {},
   "source": [
    "Наиболее продаваемые жанры: экшн (31%), шутер (21%), ролевые (13%) и спортивные игры (13%). На остальные жанры приходится в сумме менее 22% всех продаж с 2012 по 2016 год. Посмотрим на распределения продаж внутри каждого жанра:"
   ]
  },
  {
   "cell_type": "code",
   "execution_count": 47,
   "metadata": {},
   "outputs": [
    {
     "data": {
      "image/png": "[encoded data removed]",
      "text/plain": [
       "<Figure size 1440x720 with 1 Axes>"
      ]
     },
     "metadata": {},
     "output_type": "display_data"
    }
   ],
   "source": [
    "sns.set_style('whitegrid')\n",
    "plt.figure(figsize=(20,10))\n",
    "sns.boxplot(x = games_actual['genre'], y = games_actual['total_sales'])\n",
    "plt.show()"
   ]
  },
  {
   "cell_type": "markdown",
   "metadata": {},
   "source": [
    "Несмотря на то, что жанр экшн принёс более 30% продаж за анализируемый период, на это скорее влияют отдельные супер-популярные игры, которые продаются тиражом более 10 млн. копий. А в среднем гораздо лучше продаются \"игры-стрелялки\", просто среди них меньше \"звёзд\" с огромными продажами.\n",
    "Самые низкие продажи - у стратегий, приключений и головоломок.\n",
    "\n",
    "Определим **самые популярные платформы для каждого региона** и выведем для каждой платформы долю соответствующего рынка:"
   ]
  },
  {
   "cell_type": "code",
   "execution_count": 48,
   "metadata": {},
   "outputs": [
    {
     "data": {
      "text/html": [
       "<div>\n",
       "<style scoped>\n",
       "    .dataframe tbody tr th:only-of-type {\n",
       "        vertical-align: middle;\n",
       "    }\n",
       "\n",
       "    .dataframe tbody tr th {\n",
       "        vertical-align: top;\n",
       "    }\n",
       "\n",
       "    .dataframe thead th {\n",
       "        text-align: right;\n",
       "    }\n",
       "</style>\n",
       "<table border=\"1\" class=\"dataframe\">\n",
       "  <thead>\n",
       "    <tr style=\"text-align: right;\">\n",
       "      <th></th>\n",
       "      <th>eu_sales</th>\n",
       "      <th>jp_sales</th>\n",
       "      <th>na_sales</th>\n",
       "    </tr>\n",
       "    <tr>\n",
       "      <th>platform</th>\n",
       "      <th></th>\n",
       "      <th></th>\n",
       "      <th></th>\n",
       "    </tr>\n",
       "  </thead>\n",
       "  <tbody>\n",
       "    <tr>\n",
       "      <th>3DS</th>\n",
       "      <td>8.41</td>\n",
       "      <td>45.53</td>\n",
       "      <td>9.35</td>\n",
       "    </tr>\n",
       "    <tr>\n",
       "      <th>DS</th>\n",
       "      <td>0.74</td>\n",
       "      <td>1.93</td>\n",
       "      <td>0.83</td>\n",
       "    </tr>\n",
       "    <tr>\n",
       "      <th>PC</th>\n",
       "      <td>7.54</td>\n",
       "      <td>0.00</td>\n",
       "      <td>3.25</td>\n",
       "    </tr>\n",
       "    <tr>\n",
       "      <th>PS3</th>\n",
       "      <td>21.07</td>\n",
       "      <td>18.30</td>\n",
       "      <td>17.49</td>\n",
       "    </tr>\n",
       "    <tr>\n",
       "      <th>PS4</th>\n",
       "      <td>27.71</td>\n",
       "      <td>8.28</td>\n",
       "      <td>18.33</td>\n",
       "    </tr>\n",
       "    <tr>\n",
       "      <th>PSP</th>\n",
       "      <td>0.10</td>\n",
       "      <td>5.55</td>\n",
       "      <td>0.04</td>\n",
       "    </tr>\n",
       "    <tr>\n",
       "      <th>PSV</th>\n",
       "      <td>2.23</td>\n",
       "      <td>10.91</td>\n",
       "      <td>1.85</td>\n",
       "    </tr>\n",
       "    <tr>\n",
       "      <th>Wii</th>\n",
       "      <td>2.42</td>\n",
       "      <td>1.76</td>\n",
       "      <td>3.06</td>\n",
       "    </tr>\n",
       "    <tr>\n",
       "      <th>WiiU</th>\n",
       "      <td>4.94</td>\n",
       "      <td>6.75</td>\n",
       "      <td>6.42</td>\n",
       "    </tr>\n",
       "    <tr>\n",
       "      <th>X360</th>\n",
       "      <td>14.71</td>\n",
       "      <td>0.81</td>\n",
       "      <td>23.69</td>\n",
       "    </tr>\n",
       "    <tr>\n",
       "      <th>XOne</th>\n",
       "      <td>10.13</td>\n",
       "      <td>0.18</td>\n",
       "      <td>15.70</td>\n",
       "    </tr>\n",
       "  </tbody>\n",
       "</table>\n",
       "</div>"
      ],
      "text/plain": [
       "          eu_sales  jp_sales  na_sales\n",
       "platform                              \n",
       "3DS           8.41     45.53      9.35\n",
       "DS            0.74      1.93      0.83\n",
       "PC            7.54      0.00      3.25\n",
       "PS3          21.07     18.30     17.49\n",
       "PS4          27.71      8.28     18.33\n",
       "PSP           0.10      5.55      0.04\n",
       "PSV           2.23     10.91      1.85\n",
       "Wii           2.42      1.76      3.06\n",
       "WiiU          4.94      6.75      6.42\n",
       "X360         14.71      0.81     23.69\n",
       "XOne         10.13      0.18     15.70"
      ]
     },
     "execution_count": 48,
     "metadata": {},
     "output_type": "execute_result"
    }
   ],
   "source": [
    "pivot_platform_reg = games_actual.pivot_table(index = 'platform', values = ['na_sales', 'eu_sales', 'jp_sales'], aggfunc = 'sum')\n",
    "\n",
    "# вычислим долю от рынка для каждой платформы:\n",
    "pivot_platform_reg['eu_sales'] = ((pivot_platform_reg['eu_sales'] / \n",
    "                                   pivot_platform_reg['eu_sales'].sum())*100).round(2)\n",
    "pivot_platform_reg['jp_sales'] = ((pivot_platform_reg['jp_sales'] / \n",
    "                                   pivot_platform_reg['jp_sales'].sum())*100).round(2)\n",
    "pivot_platform_reg['na_sales'] = ((pivot_platform_reg['na_sales'] / \n",
    "                                   pivot_platform_reg['na_sales'].sum())*100).round(2)\n",
    "\n",
    "pivot_platform_reg"
   ]
  },
  {
   "cell_type": "markdown",
   "metadata": {},
   "source": [
    "Как видно из сводной таблицы, предпочтения игроков в Северной Америке, Европе и Японии сильно отличаются. \n",
    "* В Северной Америке примерно равная доля у местного XBox и японских Sony (40% и 38% соответственно), доля приставок Nintendo - около 19%, игры под ПК - 3%. \n",
    "* В Европе более 50% рынка принадлежит Sony с её PlayStation, на втором месте с 25% - XBox, доля Nintendo - 17%, зато игры под ПК более популярны - 7,5%. \n",
    "* в Японии ситуация кардинально отличается: более 55% рынка занимает местная компания Nintendo со своими платформами, у Sony - 44%, у XBox - чуть больше 1% всех продаж, а на ПК не играет практически никто."
   ]
  },
  {
   "cell_type": "markdown",
   "metadata": {},
   "source": [
    "Определим **самые популярные жанры для каждого региона** и выведем долю соответствующего рынка:"
   ]
  },
  {
   "cell_type": "code",
   "execution_count": 49,
   "metadata": {},
   "outputs": [
    {
     "data": {
      "text/html": [
       "<div>\n",
       "<style scoped>\n",
       "    .dataframe tbody tr th:only-of-type {\n",
       "        vertical-align: middle;\n",
       "    }\n",
       "\n",
       "    .dataframe tbody tr th {\n",
       "        vertical-align: top;\n",
       "    }\n",
       "\n",
       "    .dataframe thead th {\n",
       "        text-align: right;\n",
       "    }\n",
       "</style>\n",
       "<table border=\"1\" class=\"dataframe\">\n",
       "  <thead>\n",
       "    <tr style=\"text-align: right;\">\n",
       "      <th></th>\n",
       "      <th>eu_sales</th>\n",
       "      <th>na_sales</th>\n",
       "    </tr>\n",
       "    <tr>\n",
       "      <th>genre</th>\n",
       "      <th></th>\n",
       "      <th></th>\n",
       "    </tr>\n",
       "  </thead>\n",
       "  <tbody>\n",
       "    <tr>\n",
       "      <th>Action</th>\n",
       "      <td>31.76</td>\n",
       "      <td>30.36</td>\n",
       "    </tr>\n",
       "    <tr>\n",
       "      <th>Shooter</th>\n",
       "      <td>22.28</td>\n",
       "      <td>24.40</td>\n",
       "    </tr>\n",
       "    <tr>\n",
       "      <th>Sports</th>\n",
       "      <td>13.57</td>\n",
       "      <td>13.74</td>\n",
       "    </tr>\n",
       "    <tr>\n",
       "      <th>Role-Playing</th>\n",
       "      <td>9.53</td>\n",
       "      <td>10.79</td>\n",
       "    </tr>\n",
       "    <tr>\n",
       "      <th>Racing</th>\n",
       "      <td>5.36</td>\n",
       "      <td>2.90</td>\n",
       "    </tr>\n",
       "    <tr>\n",
       "      <th>Misc</th>\n",
       "      <td>5.17</td>\n",
       "      <td>6.44</td>\n",
       "    </tr>\n",
       "  </tbody>\n",
       "</table>\n",
       "</div>"
      ],
      "text/plain": [
       "              eu_sales  na_sales\n",
       "genre                           \n",
       "Action           31.76     30.36\n",
       "Shooter          22.28     24.40\n",
       "Sports           13.57     13.74\n",
       "Role-Playing      9.53     10.79\n",
       "Racing            5.36      2.90\n",
       "Misc              5.17      6.44"
      ]
     },
     "metadata": {},
     "output_type": "display_data"
    },
    {
     "data": {
      "text/html": [
       "<div>\n",
       "<style scoped>\n",
       "    .dataframe tbody tr th:only-of-type {\n",
       "        vertical-align: middle;\n",
       "    }\n",
       "\n",
       "    .dataframe tbody tr th {\n",
       "        vertical-align: top;\n",
       "    }\n",
       "\n",
       "    .dataframe thead th {\n",
       "        text-align: right;\n",
       "    }\n",
       "</style>\n",
       "<table border=\"1\" class=\"dataframe\">\n",
       "  <thead>\n",
       "    <tr style=\"text-align: right;\">\n",
       "      <th></th>\n",
       "      <th>jp_sales</th>\n",
       "    </tr>\n",
       "    <tr>\n",
       "      <th>genre</th>\n",
       "      <th></th>\n",
       "    </tr>\n",
       "  </thead>\n",
       "  <tbody>\n",
       "    <tr>\n",
       "      <th>Role-Playing</th>\n",
       "      <td>33.94</td>\n",
       "    </tr>\n",
       "    <tr>\n",
       "      <th>Action</th>\n",
       "      <td>27.38</td>\n",
       "    </tr>\n",
       "    <tr>\n",
       "      <th>Misc</th>\n",
       "      <td>6.79</td>\n",
       "    </tr>\n",
       "    <tr>\n",
       "      <th>Simulation</th>\n",
       "      <td>5.40</td>\n",
       "    </tr>\n",
       "    <tr>\n",
       "      <th>Fighting</th>\n",
       "      <td>4.90</td>\n",
       "    </tr>\n",
       "  </tbody>\n",
       "</table>\n",
       "</div>"
      ],
      "text/plain": [
       "              jp_sales\n",
       "genre                 \n",
       "Role-Playing     33.94\n",
       "Action           27.38\n",
       "Misc              6.79\n",
       "Simulation        5.40\n",
       "Fighting          4.90"
      ]
     },
     "metadata": {},
     "output_type": "display_data"
    }
   ],
   "source": [
    "pivot_genre_reg = games_actual.pivot_table(index = 'genre', values = ['na_sales', 'eu_sales', 'jp_sales'], aggfunc = 'sum')\n",
    "\n",
    "# вычислим долю от рынка для каждой платформы:\n",
    "pivot_genre_reg['eu_sales'] = ((pivot_genre_reg['eu_sales'] / \n",
    "                                pivot_genre_reg['eu_sales'].sum())*100).round(2)\n",
    "pivot_genre_reg['jp_sales'] = ((pivot_genre_reg['jp_sales'] / \n",
    "                                pivot_genre_reg['jp_sales'].sum())*100).round(2)\n",
    "pivot_genre_reg['na_sales'] = ((pivot_genre_reg['na_sales'] / \n",
    "                                pivot_genre_reg['na_sales'].sum())*100).round(2)\n",
    "\n",
    "display(pivot_genre_reg.loc[:, ['eu_sales', 'na_sales']].sort_values(by = 'eu_sales', ascending = False).head(6))\n",
    "display(pivot_genre_reg.loc[:, ['jp_sales']].sort_values(by = 'jp_sales', ascending = False).head(5))"
   ]
  },
  {
   "cell_type": "markdown",
   "metadata": {},
   "source": [
    "И снова мы видим, что предпочтения японцев сильно отличаются от европейцев и американцев. Если в Америке и Европе топ-5 жанров выглядит примерно одинаково, за исключением 5го места (в Европе - гонки, в Америке - жанр misc), то у Японцев первую строчку занимают ролевые игры с долей почти 34%, тогда как в Европе и Америке у них 9,5% и 11% соответственно. Также в Японии достаточно популярны симуляции и рукопашный бой, которые в Европе и Америке в топ-5 вообще не входят. Однако жанр экшн одинаково популярен во всех регионах: у него около 30% каждого рынка. \n",
    "\n",
    "Посмотрим, **влияет ли рейтинг ESRB на продажи в каждом регионе**:"
   ]
  },
  {
   "cell_type": "code",
   "execution_count": 50,
   "metadata": {},
   "outputs": [
    {
     "data": {
      "text/html": [
       "<div>\n",
       "<style scoped>\n",
       "    .dataframe tbody tr th:only-of-type {\n",
       "        vertical-align: middle;\n",
       "    }\n",
       "\n",
       "    .dataframe tbody tr th {\n",
       "        vertical-align: top;\n",
       "    }\n",
       "\n",
       "    .dataframe thead th {\n",
       "        text-align: right;\n",
       "    }\n",
       "</style>\n",
       "<table border=\"1\" class=\"dataframe\">\n",
       "  <thead>\n",
       "    <tr style=\"text-align: right;\">\n",
       "      <th></th>\n",
       "      <th>eu_sales</th>\n",
       "      <th>jp_sales</th>\n",
       "      <th>na_sales</th>\n",
       "    </tr>\n",
       "    <tr>\n",
       "      <th>rating</th>\n",
       "      <th></th>\n",
       "      <th></th>\n",
       "      <th></th>\n",
       "    </tr>\n",
       "  </thead>\n",
       "  <tbody>\n",
       "    <tr>\n",
       "      <th>E</th>\n",
       "      <td>22.20</td>\n",
       "      <td>14.69</td>\n",
       "      <td>19.28</td>\n",
       "    </tr>\n",
       "    <tr>\n",
       "      <th>E10+</th>\n",
       "      <td>11.24</td>\n",
       "      <td>4.25</td>\n",
       "      <td>13.14</td>\n",
       "    </tr>\n",
       "    <tr>\n",
       "      <th>M</th>\n",
       "      <td>38.19</td>\n",
       "      <td>10.99</td>\n",
       "      <td>39.05</td>\n",
       "    </tr>\n",
       "    <tr>\n",
       "      <th>NAN</th>\n",
       "      <td>17.97</td>\n",
       "      <td>56.57</td>\n",
       "      <td>17.41</td>\n",
       "    </tr>\n",
       "    <tr>\n",
       "      <th>T</th>\n",
       "      <td>10.40</td>\n",
       "      <td>13.49</td>\n",
       "      <td>11.13</td>\n",
       "    </tr>\n",
       "  </tbody>\n",
       "</table>\n",
       "</div>"
      ],
      "text/plain": [
       "        eu_sales  jp_sales  na_sales\n",
       "rating                              \n",
       "E          22.20     14.69     19.28\n",
       "E10+       11.24      4.25     13.14\n",
       "M          38.19     10.99     39.05\n",
       "NAN        17.97     56.57     17.41\n",
       "T          10.40     13.49     11.13"
      ]
     },
     "execution_count": 50,
     "metadata": {},
     "output_type": "execute_result"
    }
   ],
   "source": [
    "pivot_rating_reg = games_actual.pivot_table(index = 'rating', values = ['na_sales', 'eu_sales', 'jp_sales'], aggfunc = 'sum')\n",
    "\n",
    "# в процентах:\n",
    "pivot_rating_reg['eu_sales'] = ((pivot_rating_reg['eu_sales'] / \n",
    "                                 pivot_rating_reg['eu_sales'].sum())*100).round(2)\n",
    "pivot_rating_reg['jp_sales'] = ((pivot_rating_reg['jp_sales'] / \n",
    "                                 pivot_rating_reg['jp_sales'].sum())*100).round(2)\n",
    "pivot_rating_reg['na_sales'] = ((pivot_rating_reg['na_sales'] / \n",
    "                                 pivot_rating_reg['na_sales'].sum())*100).round(2)\n",
    "\n",
    "pivot_rating_reg"
   ]
  },
  {
   "cell_type": "markdown",
   "metadata": {},
   "source": [
    "И снова Япония отличается от Европы и Америки: в Японии в 56,5% случаев игре вообще не присвоен рейтинг, тогда как в Европе и Аерике не рейтинговано менее 18% игр. В Америке и Европе доля игр, разрешённых в любом возрасте - 19% и 22% соответственно, доля игр с маркировкой 18+ - 39% и 38% соответственно, с маркировкой 10+ и 13+ - 24% и 22% соответстенно. Таким образом, можно говорить о том, что в Европе и Америке больше продаётся игр с маркировкой 18+, почти в 2 раза меньше - игр для детей от 10 и 13 лет, меньше всего доля у игр, разрешённых в любом возрасте. Поскольку в Японии более половины игр не имеют рейтинга, нельзя достоверно определить, игры для каой возрастной категории преобладают. \n",
    "\n",
    "\n",
    "Можно сказать, что сама по себе маркировка игры не оказывает влияние на её популярность, однако наиболее популярные жанры в Европе и америке - экшн и шутинг - наверняка имеют маркировку 18+."
   ]
  },
  {
   "cell_type": "markdown",
   "metadata": {},
   "source": [
    "---\n",
    "**Проверим следующие гипотезы**:\n",
    "1. Средние пользовательские рейтинги платформ Xbox One и PC одинаковые.\n",
    "2. Средние пользовательские рейтинги жанров Action и Sports разные.\n",
    "\n",
    "Уровень статистической значимости примем равным 5%.\n",
    "\n",
    "**1.** `Гипотеза H0`: cредние пользовательские рейтинги платформ Xbox One и PC равны. \n",
    "\n",
    "`Гипотеза H1`: cредние пользовательские рейтинги платформ Xbox One и PC различаются.\n",
    "\n",
    "Сперва построим распределения выборок пользовательских оценок для обеих платформ. В выборки примем только известные значения оценок, значения-маркеры исключим."
   ]
  },
  {
   "cell_type": "code",
   "execution_count": 51,
   "metadata": {},
   "outputs": [
    {
     "data": {
      "text/html": [
       "<div>\n",
       "<style scoped>\n",
       "    .dataframe tbody tr th:only-of-type {\n",
       "        vertical-align: middle;\n",
       "    }\n",
       "\n",
       "    .dataframe tbody tr th {\n",
       "        vertical-align: top;\n",
       "    }\n",
       "\n",
       "    .dataframe thead th {\n",
       "        text-align: right;\n",
       "    }\n",
       "</style>\n",
       "<table border=\"1\" class=\"dataframe\">\n",
       "  <thead>\n",
       "    <tr style=\"text-align: right;\">\n",
       "      <th></th>\n",
       "      <th>name</th>\n",
       "      <th>platform</th>\n",
       "      <th>year_of_release</th>\n",
       "      <th>genre</th>\n",
       "      <th>na_sales</th>\n",
       "      <th>eu_sales</th>\n",
       "      <th>jp_sales</th>\n",
       "      <th>other_sales</th>\n",
       "      <th>critic_score</th>\n",
       "      <th>user_score</th>\n",
       "      <th>rating</th>\n",
       "      <th>total_sales</th>\n",
       "      <th>total_sales_1</th>\n",
       "      <th>total_sales_2</th>\n",
       "    </tr>\n",
       "  </thead>\n",
       "  <tbody>\n",
       "    <tr>\n",
       "      <th>165</th>\n",
       "      <td>Grand Theft Auto V</td>\n",
       "      <td>XOne</td>\n",
       "      <td>2014</td>\n",
       "      <td>Action</td>\n",
       "      <td>2.81</td>\n",
       "      <td>2.19</td>\n",
       "      <td>0.00</td>\n",
       "      <td>0.47</td>\n",
       "      <td>97</td>\n",
       "      <td>7.9</td>\n",
       "      <td>M</td>\n",
       "      <td>5.47</td>\n",
       "      <td>5.47</td>\n",
       "      <td>16.41</td>\n",
       "    </tr>\n",
       "    <tr>\n",
       "      <th>179</th>\n",
       "      <td>Call of Duty: Advanced Warfare</td>\n",
       "      <td>XOne</td>\n",
       "      <td>2014</td>\n",
       "      <td>Shooter</td>\n",
       "      <td>3.22</td>\n",
       "      <td>1.55</td>\n",
       "      <td>0.01</td>\n",
       "      <td>0.48</td>\n",
       "      <td>81</td>\n",
       "      <td>5.4</td>\n",
       "      <td>M</td>\n",
       "      <td>5.26</td>\n",
       "      <td>5.26</td>\n",
       "      <td>15.78</td>\n",
       "    </tr>\n",
       "    <tr>\n",
       "      <th>242</th>\n",
       "      <td>Halo 5: Guardians</td>\n",
       "      <td>XOne</td>\n",
       "      <td>2015</td>\n",
       "      <td>Shooter</td>\n",
       "      <td>2.78</td>\n",
       "      <td>1.27</td>\n",
       "      <td>0.03</td>\n",
       "      <td>0.41</td>\n",
       "      <td>84</td>\n",
       "      <td>6.4</td>\n",
       "      <td>T</td>\n",
       "      <td>4.49</td>\n",
       "      <td>4.49</td>\n",
       "      <td>13.47</td>\n",
       "    </tr>\n",
       "    <tr>\n",
       "      <th>270</th>\n",
       "      <td>Fallout 4</td>\n",
       "      <td>XOne</td>\n",
       "      <td>2015</td>\n",
       "      <td>Role-Playing</td>\n",
       "      <td>2.51</td>\n",
       "      <td>1.32</td>\n",
       "      <td>0.01</td>\n",
       "      <td>0.38</td>\n",
       "      <td>88</td>\n",
       "      <td>6.2</td>\n",
       "      <td>M</td>\n",
       "      <td>4.22</td>\n",
       "      <td>4.22</td>\n",
       "      <td>12.66</td>\n",
       "    </tr>\n",
       "    <tr>\n",
       "      <th>373</th>\n",
       "      <td>Assassin's Creed: Unity</td>\n",
       "      <td>XOne</td>\n",
       "      <td>2014</td>\n",
       "      <td>Action</td>\n",
       "      <td>2.27</td>\n",
       "      <td>0.90</td>\n",
       "      <td>0.00</td>\n",
       "      <td>0.33</td>\n",
       "      <td>72</td>\n",
       "      <td>4.1</td>\n",
       "      <td>M</td>\n",
       "      <td>3.50</td>\n",
       "      <td>3.50</td>\n",
       "      <td>10.50</td>\n",
       "    </tr>\n",
       "    <tr>\n",
       "      <th>...</th>\n",
       "      <td>...</td>\n",
       "      <td>...</td>\n",
       "      <td>...</td>\n",
       "      <td>...</td>\n",
       "      <td>...</td>\n",
       "      <td>...</td>\n",
       "      <td>...</td>\n",
       "      <td>...</td>\n",
       "      <td>...</td>\n",
       "      <td>...</td>\n",
       "      <td>...</td>\n",
       "      <td>...</td>\n",
       "      <td>...</td>\n",
       "      <td>...</td>\n",
       "    </tr>\n",
       "    <tr>\n",
       "      <th>16544</th>\n",
       "      <td>Assassin's Creed Chronicles</td>\n",
       "      <td>XOne</td>\n",
       "      <td>2016</td>\n",
       "      <td>Action</td>\n",
       "      <td>0.00</td>\n",
       "      <td>0.01</td>\n",
       "      <td>0.00</td>\n",
       "      <td>0.00</td>\n",
       "      <td>0</td>\n",
       "      <td>6.8</td>\n",
       "      <td>T</td>\n",
       "      <td>0.01</td>\n",
       "      <td>0.01</td>\n",
       "      <td>0.03</td>\n",
       "    </tr>\n",
       "    <tr>\n",
       "      <th>16597</th>\n",
       "      <td>Saints Row: Gat out of Hell</td>\n",
       "      <td>XOne</td>\n",
       "      <td>2015</td>\n",
       "      <td>Action</td>\n",
       "      <td>0.00</td>\n",
       "      <td>0.01</td>\n",
       "      <td>0.00</td>\n",
       "      <td>0.00</td>\n",
       "      <td>65</td>\n",
       "      <td>6.0</td>\n",
       "      <td>M</td>\n",
       "      <td>0.01</td>\n",
       "      <td>0.01</td>\n",
       "      <td>0.03</td>\n",
       "    </tr>\n",
       "    <tr>\n",
       "      <th>16630</th>\n",
       "      <td>Sébastien Loeb Rally Evo</td>\n",
       "      <td>XOne</td>\n",
       "      <td>2016</td>\n",
       "      <td>Racing</td>\n",
       "      <td>0.00</td>\n",
       "      <td>0.01</td>\n",
       "      <td>0.00</td>\n",
       "      <td>0.00</td>\n",
       "      <td>63</td>\n",
       "      <td>8.2</td>\n",
       "      <td>E</td>\n",
       "      <td>0.01</td>\n",
       "      <td>0.01</td>\n",
       "      <td>0.03</td>\n",
       "    </tr>\n",
       "    <tr>\n",
       "      <th>16643</th>\n",
       "      <td>Rugby Challenge 3</td>\n",
       "      <td>XOne</td>\n",
       "      <td>2016</td>\n",
       "      <td>Sports</td>\n",
       "      <td>0.00</td>\n",
       "      <td>0.01</td>\n",
       "      <td>0.00</td>\n",
       "      <td>0.00</td>\n",
       "      <td>0</td>\n",
       "      <td>6.6</td>\n",
       "      <td>E</td>\n",
       "      <td>0.01</td>\n",
       "      <td>0.01</td>\n",
       "      <td>0.03</td>\n",
       "    </tr>\n",
       "    <tr>\n",
       "      <th>16660</th>\n",
       "      <td>Prison Architect</td>\n",
       "      <td>XOne</td>\n",
       "      <td>2016</td>\n",
       "      <td>Action</td>\n",
       "      <td>0.01</td>\n",
       "      <td>0.00</td>\n",
       "      <td>0.00</td>\n",
       "      <td>0.00</td>\n",
       "      <td>74</td>\n",
       "      <td>6.7</td>\n",
       "      <td>NAN</td>\n",
       "      <td>0.01</td>\n",
       "      <td>0.01</td>\n",
       "      <td>0.03</td>\n",
       "    </tr>\n",
       "  </tbody>\n",
       "</table>\n",
       "<p>182 rows × 14 columns</p>\n",
       "</div>"
      ],
      "text/plain": [
       "                                 name platform  year_of_release         genre  \\\n",
       "165                Grand Theft Auto V     XOne             2014        Action   \n",
       "179    Call of Duty: Advanced Warfare     XOne             2014       Shooter   \n",
       "242                 Halo 5: Guardians     XOne             2015       Shooter   \n",
       "270                         Fallout 4     XOne             2015  Role-Playing   \n",
       "373           Assassin's Creed: Unity     XOne             2014        Action   \n",
       "...                               ...      ...              ...           ...   \n",
       "16544     Assassin's Creed Chronicles     XOne             2016        Action   \n",
       "16597     Saints Row: Gat out of Hell     XOne             2015        Action   \n",
       "16630        Sébastien Loeb Rally Evo     XOne             2016        Racing   \n",
       "16643               Rugby Challenge 3     XOne             2016        Sports   \n",
       "16660                Prison Architect     XOne             2016        Action   \n",
       "\n",
       "       na_sales  eu_sales  jp_sales  other_sales  critic_score  user_score  \\\n",
       "165        2.81      2.19      0.00         0.47            97         7.9   \n",
       "179        3.22      1.55      0.01         0.48            81         5.4   \n",
       "242        2.78      1.27      0.03         0.41            84         6.4   \n",
       "270        2.51      1.32      0.01         0.38            88         6.2   \n",
       "373        2.27      0.90      0.00         0.33            72         4.1   \n",
       "...         ...       ...       ...          ...           ...         ...   \n",
       "16544      0.00      0.01      0.00         0.00             0         6.8   \n",
       "16597      0.00      0.01      0.00         0.00            65         6.0   \n",
       "16630      0.00      0.01      0.00         0.00            63         8.2   \n",
       "16643      0.00      0.01      0.00         0.00             0         6.6   \n",
       "16660      0.01      0.00      0.00         0.00            74         6.7   \n",
       "\n",
       "      rating  total_sales  total_sales_1  total_sales_2  \n",
       "165        M         5.47           5.47          16.41  \n",
       "179        M         5.26           5.26          15.78  \n",
       "242        T         4.49           4.49          13.47  \n",
       "270        M         4.22           4.22          12.66  \n",
       "373        M         3.50           3.50          10.50  \n",
       "...      ...          ...            ...            ...  \n",
       "16544      T         0.01           0.01           0.03  \n",
       "16597      M         0.01           0.01           0.03  \n",
       "16630      E         0.01           0.01           0.03  \n",
       "16643      E         0.01           0.01           0.03  \n",
       "16660    NAN         0.01           0.01           0.03  \n",
       "\n",
       "[182 rows x 14 columns]"
      ]
     },
     "execution_count": 51,
     "metadata": {},
     "output_type": "execute_result"
    }
   ],
   "source": [
    "games_XOne = games_actual.query('user_score < 20 and platform == \"XOne\"')\n",
    "games_XOne"
   ]
  },
  {
   "cell_type": "code",
   "execution_count": 52,
   "metadata": {},
   "outputs": [
    {
     "data": {
      "text/html": [
       "<div>\n",
       "<style scoped>\n",
       "    .dataframe tbody tr th:only-of-type {\n",
       "        vertical-align: middle;\n",
       "    }\n",
       "\n",
       "    .dataframe tbody tr th {\n",
       "        vertical-align: top;\n",
       "    }\n",
       "\n",
       "    .dataframe thead th {\n",
       "        text-align: right;\n",
       "    }\n",
       "</style>\n",
       "<table border=\"1\" class=\"dataframe\">\n",
       "  <thead>\n",
       "    <tr style=\"text-align: right;\">\n",
       "      <th></th>\n",
       "      <th>name</th>\n",
       "      <th>platform</th>\n",
       "      <th>year_of_release</th>\n",
       "      <th>genre</th>\n",
       "      <th>na_sales</th>\n",
       "      <th>eu_sales</th>\n",
       "      <th>jp_sales</th>\n",
       "      <th>other_sales</th>\n",
       "      <th>critic_score</th>\n",
       "      <th>user_score</th>\n",
       "      <th>rating</th>\n",
       "      <th>total_sales</th>\n",
       "      <th>total_sales_1</th>\n",
       "      <th>total_sales_2</th>\n",
       "    </tr>\n",
       "  </thead>\n",
       "  <tbody>\n",
       "    <tr>\n",
       "      <th>192</th>\n",
       "      <td>Diablo III</td>\n",
       "      <td>PC</td>\n",
       "      <td>2012</td>\n",
       "      <td>Role-Playing</td>\n",
       "      <td>2.44</td>\n",
       "      <td>2.16</td>\n",
       "      <td>0.0</td>\n",
       "      <td>0.54</td>\n",
       "      <td>88</td>\n",
       "      <td>4.0</td>\n",
       "      <td>M</td>\n",
       "      <td>5.14</td>\n",
       "      <td>5.14</td>\n",
       "      <td>15.42</td>\n",
       "    </tr>\n",
       "    <tr>\n",
       "      <th>458</th>\n",
       "      <td>The Sims 4</td>\n",
       "      <td>PC</td>\n",
       "      <td>2014</td>\n",
       "      <td>Simulation</td>\n",
       "      <td>1.00</td>\n",
       "      <td>1.82</td>\n",
       "      <td>0.0</td>\n",
       "      <td>0.23</td>\n",
       "      <td>70</td>\n",
       "      <td>3.9</td>\n",
       "      <td>T</td>\n",
       "      <td>3.05</td>\n",
       "      <td>3.05</td>\n",
       "      <td>9.15</td>\n",
       "    </tr>\n",
       "    <tr>\n",
       "      <th>688</th>\n",
       "      <td>Guild Wars 2</td>\n",
       "      <td>PC</td>\n",
       "      <td>2012</td>\n",
       "      <td>Action</td>\n",
       "      <td>0.96</td>\n",
       "      <td>1.07</td>\n",
       "      <td>0.0</td>\n",
       "      <td>0.27</td>\n",
       "      <td>90</td>\n",
       "      <td>7.9</td>\n",
       "      <td>T</td>\n",
       "      <td>2.30</td>\n",
       "      <td>2.30</td>\n",
       "      <td>6.90</td>\n",
       "    </tr>\n",
       "    <tr>\n",
       "      <th>959</th>\n",
       "      <td>World of Warcraft: Mists of Pandaria</td>\n",
       "      <td>PC</td>\n",
       "      <td>2012</td>\n",
       "      <td>Role-Playing</td>\n",
       "      <td>0.84</td>\n",
       "      <td>0.76</td>\n",
       "      <td>0.0</td>\n",
       "      <td>0.22</td>\n",
       "      <td>82</td>\n",
       "      <td>4.8</td>\n",
       "      <td>T</td>\n",
       "      <td>1.82</td>\n",
       "      <td>1.82</td>\n",
       "      <td>5.46</td>\n",
       "    </tr>\n",
       "    <tr>\n",
       "      <th>1095</th>\n",
       "      <td>StarCraft II: Heart of the Swarm</td>\n",
       "      <td>PC</td>\n",
       "      <td>2013</td>\n",
       "      <td>Strategy</td>\n",
       "      <td>0.83</td>\n",
       "      <td>0.66</td>\n",
       "      <td>0.0</td>\n",
       "      <td>0.18</td>\n",
       "      <td>86</td>\n",
       "      <td>7.9</td>\n",
       "      <td>T</td>\n",
       "      <td>1.67</td>\n",
       "      <td>1.67</td>\n",
       "      <td>5.01</td>\n",
       "    </tr>\n",
       "    <tr>\n",
       "      <th>...</th>\n",
       "      <td>...</td>\n",
       "      <td>...</td>\n",
       "      <td>...</td>\n",
       "      <td>...</td>\n",
       "      <td>...</td>\n",
       "      <td>...</td>\n",
       "      <td>...</td>\n",
       "      <td>...</td>\n",
       "      <td>...</td>\n",
       "      <td>...</td>\n",
       "      <td>...</td>\n",
       "      <td>...</td>\n",
       "      <td>...</td>\n",
       "      <td>...</td>\n",
       "    </tr>\n",
       "    <tr>\n",
       "      <th>16463</th>\n",
       "      <td>TrackMania Turbo</td>\n",
       "      <td>PC</td>\n",
       "      <td>2016</td>\n",
       "      <td>Action</td>\n",
       "      <td>0.00</td>\n",
       "      <td>0.01</td>\n",
       "      <td>0.0</td>\n",
       "      <td>0.00</td>\n",
       "      <td>79</td>\n",
       "      <td>6.8</td>\n",
       "      <td>E</td>\n",
       "      <td>0.01</td>\n",
       "      <td>0.01</td>\n",
       "      <td>0.03</td>\n",
       "    </tr>\n",
       "    <tr>\n",
       "      <th>16509</th>\n",
       "      <td>Ride 2</td>\n",
       "      <td>PC</td>\n",
       "      <td>2016</td>\n",
       "      <td>Racing</td>\n",
       "      <td>0.00</td>\n",
       "      <td>0.01</td>\n",
       "      <td>0.0</td>\n",
       "      <td>0.00</td>\n",
       "      <td>78</td>\n",
       "      <td>7.9</td>\n",
       "      <td>E</td>\n",
       "      <td>0.01</td>\n",
       "      <td>0.01</td>\n",
       "      <td>0.03</td>\n",
       "    </tr>\n",
       "    <tr>\n",
       "      <th>16518</th>\n",
       "      <td>Rugby World Cup 2015</td>\n",
       "      <td>PC</td>\n",
       "      <td>2015</td>\n",
       "      <td>Sports</td>\n",
       "      <td>0.00</td>\n",
       "      <td>0.01</td>\n",
       "      <td>0.0</td>\n",
       "      <td>0.00</td>\n",
       "      <td>0</td>\n",
       "      <td>1.4</td>\n",
       "      <td>E</td>\n",
       "      <td>0.01</td>\n",
       "      <td>0.01</td>\n",
       "      <td>0.03</td>\n",
       "    </tr>\n",
       "    <tr>\n",
       "      <th>16584</th>\n",
       "      <td>Transformers: Fall of Cybertron</td>\n",
       "      <td>PC</td>\n",
       "      <td>2012</td>\n",
       "      <td>Action</td>\n",
       "      <td>0.01</td>\n",
       "      <td>0.00</td>\n",
       "      <td>0.0</td>\n",
       "      <td>0.00</td>\n",
       "      <td>78</td>\n",
       "      <td>7.9</td>\n",
       "      <td>T</td>\n",
       "      <td>0.01</td>\n",
       "      <td>0.01</td>\n",
       "      <td>0.03</td>\n",
       "    </tr>\n",
       "    <tr>\n",
       "      <th>16692</th>\n",
       "      <td>Metal Gear Solid V: Ground Zeroes</td>\n",
       "      <td>PC</td>\n",
       "      <td>2014</td>\n",
       "      <td>Action</td>\n",
       "      <td>0.00</td>\n",
       "      <td>0.01</td>\n",
       "      <td>0.0</td>\n",
       "      <td>0.00</td>\n",
       "      <td>80</td>\n",
       "      <td>7.6</td>\n",
       "      <td>M</td>\n",
       "      <td>0.01</td>\n",
       "      <td>0.01</td>\n",
       "      <td>0.03</td>\n",
       "    </tr>\n",
       "  </tbody>\n",
       "</table>\n",
       "<p>211 rows × 14 columns</p>\n",
       "</div>"
      ],
      "text/plain": [
       "                                       name platform  year_of_release  \\\n",
       "192                              Diablo III       PC             2012   \n",
       "458                              The Sims 4       PC             2014   \n",
       "688                            Guild Wars 2       PC             2012   \n",
       "959    World of Warcraft: Mists of Pandaria       PC             2012   \n",
       "1095       StarCraft II: Heart of the Swarm       PC             2013   \n",
       "...                                     ...      ...              ...   \n",
       "16463                      TrackMania Turbo       PC             2016   \n",
       "16509                                Ride 2       PC             2016   \n",
       "16518                  Rugby World Cup 2015       PC             2015   \n",
       "16584       Transformers: Fall of Cybertron       PC             2012   \n",
       "16692     Metal Gear Solid V: Ground Zeroes       PC             2014   \n",
       "\n",
       "              genre  na_sales  eu_sales  jp_sales  other_sales  critic_score  \\\n",
       "192    Role-Playing      2.44      2.16       0.0         0.54            88   \n",
       "458      Simulation      1.00      1.82       0.0         0.23            70   \n",
       "688          Action      0.96      1.07       0.0         0.27            90   \n",
       "959    Role-Playing      0.84      0.76       0.0         0.22            82   \n",
       "1095       Strategy      0.83      0.66       0.0         0.18            86   \n",
       "...             ...       ...       ...       ...          ...           ...   \n",
       "16463        Action      0.00      0.01       0.0         0.00            79   \n",
       "16509        Racing      0.00      0.01       0.0         0.00            78   \n",
       "16518        Sports      0.00      0.01       0.0         0.00             0   \n",
       "16584        Action      0.01      0.00       0.0         0.00            78   \n",
       "16692        Action      0.00      0.01       0.0         0.00            80   \n",
       "\n",
       "       user_score rating  total_sales  total_sales_1  total_sales_2  \n",
       "192           4.0      M         5.14           5.14          15.42  \n",
       "458           3.9      T         3.05           3.05           9.15  \n",
       "688           7.9      T         2.30           2.30           6.90  \n",
       "959           4.8      T         1.82           1.82           5.46  \n",
       "1095          7.9      T         1.67           1.67           5.01  \n",
       "...           ...    ...          ...            ...            ...  \n",
       "16463         6.8      E         0.01           0.01           0.03  \n",
       "16509         7.9      E         0.01           0.01           0.03  \n",
       "16518         1.4      E         0.01           0.01           0.03  \n",
       "16584         7.9      T         0.01           0.01           0.03  \n",
       "16692         7.6      M         0.01           0.01           0.03  \n",
       "\n",
       "[211 rows x 14 columns]"
      ]
     },
     "execution_count": 52,
     "metadata": {},
     "output_type": "execute_result"
    }
   ],
   "source": [
    "games_PC = games_actual.query('user_score < 20 and platform == \"PC\"')\n",
    "games_PC"
   ]
  },
  {
   "cell_type": "markdown",
   "metadata": {},
   "source": [
    "Получили две выборки: 182 и 211 наблюдений. Построим графики плотности для обеих выборок:"
   ]
  },
  {
   "cell_type": "code",
   "execution_count": 53,
   "metadata": {},
   "outputs": [
    {
     "data": {
      "image/png": "[encoded data removed]",
      "text/plain": [
       "<Figure size 432x288 with 1 Axes>"
      ]
     },
     "metadata": {},
     "output_type": "display_data"
    }
   ],
   "source": [
    "games_XOne['user_score'].plot(kind = 'density')\n",
    "games_PC['user_score'].plot(kind= 'density')\n",
    "plt.title('График плотности')\n",
    "plt.xlabel('Оценка пользователей')\n",
    "plt.legend(['XOne', 'PC'])\n",
    "plt.grid(True)\n",
    "plt.show()"
   ]
  },
  {
   "cell_type": "markdown",
   "metadata": {},
   "source": [
    "Визуально распределения очень похожи, близки к нормальному, немного скошены влево, средние обеих выборок находятся в районе 7. \n",
    "\n",
    "Посчитаем дисперсию и воспользуемся тестом Левена  для проверки равенства дисперсий наших выборок:"
   ]
  },
  {
   "cell_type": "code",
   "execution_count": 54,
   "metadata": {},
   "outputs": [
    {
     "name": "stdout",
     "output_type": "stream",
     "text": [
      "Выборочная дисперсия оценок для платформы XBox One: 1.9069968429360695\n",
      "Выборочная дисперсия оценок для ПК: 2.747158203565786 \n",
      "\n",
      "Значение p-value для критерия Левена: 0.014264583982264795\n"
     ]
    }
   ],
   "source": [
    "print('Выборочная дисперсия оценок для платформы XBox One:', \n",
    "      np.var(games_XOne['user_score'], ddof = 1))\n",
    "print('Выборочная дисперсия оценок для ПК:', \n",
    "      np.var(games_PC['user_score'], ddof = 1), '\\n')\n",
    "\n",
    "# тест Левена:\n",
    "from scipy.stats import levene\n",
    "stat, p = levene(games_XOne['user_score'], games_PC['user_score'])\n",
    "print('Значение p-value для критерия Левена:', p)"
   ]
  },
  {
   "cell_type": "markdown",
   "metadata": {},
   "source": [
    "Поскольку значение p-value в тесте Левена ниже уровня статистической значимости в 5%, мы не можем принять гипотезу о равенстве дисперсий двух выборок. Учтём это при проведении t-теста:"
   ]
  },
  {
   "cell_type": "code",
   "execution_count": 55,
   "metadata": {},
   "outputs": [
    {
     "name": "stdout",
     "output_type": "stream",
     "text": [
      "p-значение: 0.6206366351489678\n",
      "Не получилось отвергнуть H0\n"
     ]
    }
   ],
   "source": [
    "alpha = 0.05\n",
    "results = st.ttest_ind(games_XOne['user_score'], \n",
    "                       games_PC['user_score'], \n",
    "                       equal_var = False) # дисперсии выборок отличаются, отразили это в расчёте\n",
    "print('p-значение:', results.pvalue)\n",
    "if (results.pvalue < alpha):\n",
    "    print('Отвергаем H0')\n",
    "else:\n",
    "    print('Не получилось отвергнуть H0')"
   ]
  },
  {
   "cell_type": "markdown",
   "metadata": {},
   "source": [
    "Значение p-value значительно выше уровня статистической значимости в 5%, а значит, у нас нет оснований отвергать нулевую гипотезу: с большой вероятностью средние значения пользовательских оценок для платформы XBox One и ПК равны.\n",
    "\n",
    "---\n",
    "**2.**  `Гипотеза H0`: средние пользовательские рейтинги жанров Action и Sports одинаковы.\n",
    "\n",
    "`Гипотеза H1`: средние пользовательские рейтинги жанров Action и Sports различаются.\n",
    "\n",
    "Построим распределения выборок пользовательских оценок для обоих жанров:"
   ]
  },
  {
   "cell_type": "code",
   "execution_count": 56,
   "metadata": {},
   "outputs": [
    {
     "data": {
      "text/html": [
       "<div>\n",
       "<style scoped>\n",
       "    .dataframe tbody tr th:only-of-type {\n",
       "        vertical-align: middle;\n",
       "    }\n",
       "\n",
       "    .dataframe tbody tr th {\n",
       "        vertical-align: top;\n",
       "    }\n",
       "\n",
       "    .dataframe thead th {\n",
       "        text-align: right;\n",
       "    }\n",
       "</style>\n",
       "<table border=\"1\" class=\"dataframe\">\n",
       "  <thead>\n",
       "    <tr style=\"text-align: right;\">\n",
       "      <th></th>\n",
       "      <th>name</th>\n",
       "      <th>platform</th>\n",
       "      <th>year_of_release</th>\n",
       "      <th>genre</th>\n",
       "      <th>na_sales</th>\n",
       "      <th>eu_sales</th>\n",
       "      <th>jp_sales</th>\n",
       "      <th>other_sales</th>\n",
       "      <th>critic_score</th>\n",
       "      <th>user_score</th>\n",
       "      <th>rating</th>\n",
       "      <th>total_sales</th>\n",
       "      <th>total_sales_1</th>\n",
       "      <th>total_sales_2</th>\n",
       "    </tr>\n",
       "  </thead>\n",
       "  <tbody>\n",
       "    <tr>\n",
       "      <th>16</th>\n",
       "      <td>Grand Theft Auto V</td>\n",
       "      <td>PS3</td>\n",
       "      <td>2013</td>\n",
       "      <td>Action</td>\n",
       "      <td>7.02</td>\n",
       "      <td>9.09</td>\n",
       "      <td>0.98</td>\n",
       "      <td>3.96</td>\n",
       "      <td>97</td>\n",
       "      <td>8.2</td>\n",
       "      <td>M</td>\n",
       "      <td>21.05</td>\n",
       "      <td>21.05</td>\n",
       "      <td>63.15</td>\n",
       "    </tr>\n",
       "    <tr>\n",
       "      <th>23</th>\n",
       "      <td>Grand Theft Auto V</td>\n",
       "      <td>X360</td>\n",
       "      <td>2013</td>\n",
       "      <td>Action</td>\n",
       "      <td>9.66</td>\n",
       "      <td>5.14</td>\n",
       "      <td>0.06</td>\n",
       "      <td>1.41</td>\n",
       "      <td>97</td>\n",
       "      <td>8.1</td>\n",
       "      <td>M</td>\n",
       "      <td>16.27</td>\n",
       "      <td>16.27</td>\n",
       "      <td>48.81</td>\n",
       "    </tr>\n",
       "    <tr>\n",
       "      <th>42</th>\n",
       "      <td>Grand Theft Auto V</td>\n",
       "      <td>PS4</td>\n",
       "      <td>2014</td>\n",
       "      <td>Action</td>\n",
       "      <td>3.96</td>\n",
       "      <td>6.31</td>\n",
       "      <td>0.38</td>\n",
       "      <td>1.97</td>\n",
       "      <td>97</td>\n",
       "      <td>8.3</td>\n",
       "      <td>M</td>\n",
       "      <td>12.62</td>\n",
       "      <td>12.62</td>\n",
       "      <td>37.86</td>\n",
       "    </tr>\n",
       "    <tr>\n",
       "      <th>81</th>\n",
       "      <td>FIFA Soccer 13</td>\n",
       "      <td>PS3</td>\n",
       "      <td>2012</td>\n",
       "      <td>Action</td>\n",
       "      <td>1.06</td>\n",
       "      <td>5.01</td>\n",
       "      <td>0.13</td>\n",
       "      <td>1.97</td>\n",
       "      <td>88</td>\n",
       "      <td>6.6</td>\n",
       "      <td>E</td>\n",
       "      <td>8.17</td>\n",
       "      <td>8.17</td>\n",
       "      <td>24.51</td>\n",
       "    </tr>\n",
       "    <tr>\n",
       "      <th>127</th>\n",
       "      <td>Assassin's Creed III</td>\n",
       "      <td>PS3</td>\n",
       "      <td>2012</td>\n",
       "      <td>Action</td>\n",
       "      <td>2.64</td>\n",
       "      <td>2.52</td>\n",
       "      <td>0.16</td>\n",
       "      <td>1.12</td>\n",
       "      <td>85</td>\n",
       "      <td>6.9</td>\n",
       "      <td>M</td>\n",
       "      <td>6.44</td>\n",
       "      <td>6.44</td>\n",
       "      <td>19.32</td>\n",
       "    </tr>\n",
       "    <tr>\n",
       "      <th>...</th>\n",
       "      <td>...</td>\n",
       "      <td>...</td>\n",
       "      <td>...</td>\n",
       "      <td>...</td>\n",
       "      <td>...</td>\n",
       "      <td>...</td>\n",
       "      <td>...</td>\n",
       "      <td>...</td>\n",
       "      <td>...</td>\n",
       "      <td>...</td>\n",
       "      <td>...</td>\n",
       "      <td>...</td>\n",
       "      <td>...</td>\n",
       "      <td>...</td>\n",
       "    </tr>\n",
       "    <tr>\n",
       "      <th>16597</th>\n",
       "      <td>Saints Row: Gat out of Hell</td>\n",
       "      <td>XOne</td>\n",
       "      <td>2015</td>\n",
       "      <td>Action</td>\n",
       "      <td>0.00</td>\n",
       "      <td>0.01</td>\n",
       "      <td>0.00</td>\n",
       "      <td>0.00</td>\n",
       "      <td>65</td>\n",
       "      <td>6.0</td>\n",
       "      <td>M</td>\n",
       "      <td>0.01</td>\n",
       "      <td>0.01</td>\n",
       "      <td>0.03</td>\n",
       "    </tr>\n",
       "    <tr>\n",
       "      <th>16652</th>\n",
       "      <td>Fast Racing Neo</td>\n",
       "      <td>WiiU</td>\n",
       "      <td>2016</td>\n",
       "      <td>Action</td>\n",
       "      <td>0.00</td>\n",
       "      <td>0.01</td>\n",
       "      <td>0.00</td>\n",
       "      <td>0.00</td>\n",
       "      <td>81</td>\n",
       "      <td>8.5</td>\n",
       "      <td>E</td>\n",
       "      <td>0.01</td>\n",
       "      <td>0.01</td>\n",
       "      <td>0.03</td>\n",
       "    </tr>\n",
       "    <tr>\n",
       "      <th>16654</th>\n",
       "      <td>Ben 10 Omniverse 2</td>\n",
       "      <td>X360</td>\n",
       "      <td>2013</td>\n",
       "      <td>Action</td>\n",
       "      <td>0.00</td>\n",
       "      <td>0.01</td>\n",
       "      <td>0.00</td>\n",
       "      <td>0.00</td>\n",
       "      <td>0</td>\n",
       "      <td>5.1</td>\n",
       "      <td>E10+</td>\n",
       "      <td>0.01</td>\n",
       "      <td>0.01</td>\n",
       "      <td>0.03</td>\n",
       "    </tr>\n",
       "    <tr>\n",
       "      <th>16660</th>\n",
       "      <td>Prison Architect</td>\n",
       "      <td>XOne</td>\n",
       "      <td>2016</td>\n",
       "      <td>Action</td>\n",
       "      <td>0.01</td>\n",
       "      <td>0.00</td>\n",
       "      <td>0.00</td>\n",
       "      <td>0.00</td>\n",
       "      <td>74</td>\n",
       "      <td>6.7</td>\n",
       "      <td>NAN</td>\n",
       "      <td>0.01</td>\n",
       "      <td>0.01</td>\n",
       "      <td>0.03</td>\n",
       "    </tr>\n",
       "    <tr>\n",
       "      <th>16692</th>\n",
       "      <td>Metal Gear Solid V: Ground Zeroes</td>\n",
       "      <td>PC</td>\n",
       "      <td>2014</td>\n",
       "      <td>Action</td>\n",
       "      <td>0.00</td>\n",
       "      <td>0.01</td>\n",
       "      <td>0.00</td>\n",
       "      <td>0.00</td>\n",
       "      <td>80</td>\n",
       "      <td>7.6</td>\n",
       "      <td>M</td>\n",
       "      <td>0.01</td>\n",
       "      <td>0.01</td>\n",
       "      <td>0.03</td>\n",
       "    </tr>\n",
       "  </tbody>\n",
       "</table>\n",
       "<p>531 rows × 14 columns</p>\n",
       "</div>"
      ],
      "text/plain": [
       "                                    name platform  year_of_release   genre  \\\n",
       "16                    Grand Theft Auto V      PS3             2013  Action   \n",
       "23                    Grand Theft Auto V     X360             2013  Action   \n",
       "42                    Grand Theft Auto V      PS4             2014  Action   \n",
       "81                        FIFA Soccer 13      PS3             2012  Action   \n",
       "127                 Assassin's Creed III      PS3             2012  Action   \n",
       "...                                  ...      ...              ...     ...   \n",
       "16597        Saints Row: Gat out of Hell     XOne             2015  Action   \n",
       "16652                   Fast Racing Neo      WiiU             2016  Action   \n",
       "16654                 Ben 10 Omniverse 2     X360             2013  Action   \n",
       "16660                   Prison Architect     XOne             2016  Action   \n",
       "16692  Metal Gear Solid V: Ground Zeroes       PC             2014  Action   \n",
       "\n",
       "       na_sales  eu_sales  jp_sales  other_sales  critic_score  user_score  \\\n",
       "16         7.02      9.09      0.98         3.96            97         8.2   \n",
       "23         9.66      5.14      0.06         1.41            97         8.1   \n",
       "42         3.96      6.31      0.38         1.97            97         8.3   \n",
       "81         1.06      5.01      0.13         1.97            88         6.6   \n",
       "127        2.64      2.52      0.16         1.12            85         6.9   \n",
       "...         ...       ...       ...          ...           ...         ...   \n",
       "16597      0.00      0.01      0.00         0.00            65         6.0   \n",
       "16652      0.00      0.01      0.00         0.00            81         8.5   \n",
       "16654      0.00      0.01      0.00         0.00             0         5.1   \n",
       "16660      0.01      0.00      0.00         0.00            74         6.7   \n",
       "16692      0.00      0.01      0.00         0.00            80         7.6   \n",
       "\n",
       "      rating  total_sales  total_sales_1  total_sales_2  \n",
       "16         M        21.05          21.05          63.15  \n",
       "23         M        16.27          16.27          48.81  \n",
       "42         M        12.62          12.62          37.86  \n",
       "81         E         8.17           8.17          24.51  \n",
       "127        M         6.44           6.44          19.32  \n",
       "...      ...          ...            ...            ...  \n",
       "16597      M         0.01           0.01           0.03  \n",
       "16652      E         0.01           0.01           0.03  \n",
       "16654   E10+         0.01           0.01           0.03  \n",
       "16660    NAN         0.01           0.01           0.03  \n",
       "16692      M         0.01           0.01           0.03  \n",
       "\n",
       "[531 rows x 14 columns]"
      ]
     },
     "execution_count": 56,
     "metadata": {},
     "output_type": "execute_result"
    }
   ],
   "source": [
    "games_action = games_actual.query('user_score < 20 and genre == \"Action\"')\n",
    "games_action"
   ]
  },
  {
   "cell_type": "code",
   "execution_count": 57,
   "metadata": {},
   "outputs": [
    {
     "data": {
      "text/html": [
       "<div>\n",
       "<style scoped>\n",
       "    .dataframe tbody tr th:only-of-type {\n",
       "        vertical-align: middle;\n",
       "    }\n",
       "\n",
       "    .dataframe tbody tr th {\n",
       "        vertical-align: top;\n",
       "    }\n",
       "\n",
       "    .dataframe thead th {\n",
       "        text-align: right;\n",
       "    }\n",
       "</style>\n",
       "<table border=\"1\" class=\"dataframe\">\n",
       "  <thead>\n",
       "    <tr style=\"text-align: right;\">\n",
       "      <th></th>\n",
       "      <th>name</th>\n",
       "      <th>platform</th>\n",
       "      <th>year_of_release</th>\n",
       "      <th>genre</th>\n",
       "      <th>na_sales</th>\n",
       "      <th>eu_sales</th>\n",
       "      <th>jp_sales</th>\n",
       "      <th>other_sales</th>\n",
       "      <th>critic_score</th>\n",
       "      <th>user_score</th>\n",
       "      <th>rating</th>\n",
       "      <th>total_sales</th>\n",
       "      <th>total_sales_1</th>\n",
       "      <th>total_sales_2</th>\n",
       "    </tr>\n",
       "  </thead>\n",
       "  <tbody>\n",
       "    <tr>\n",
       "      <th>77</th>\n",
       "      <td>FIFA 16</td>\n",
       "      <td>PS4</td>\n",
       "      <td>2015</td>\n",
       "      <td>Sports</td>\n",
       "      <td>1.12</td>\n",
       "      <td>6.12</td>\n",
       "      <td>0.06</td>\n",
       "      <td>1.28</td>\n",
       "      <td>82</td>\n",
       "      <td>4.3</td>\n",
       "      <td>E</td>\n",
       "      <td>8.58</td>\n",
       "      <td>8.58</td>\n",
       "      <td>25.74</td>\n",
       "    </tr>\n",
       "    <tr>\n",
       "      <th>94</th>\n",
       "      <td>FIFA 17</td>\n",
       "      <td>PS4</td>\n",
       "      <td>2016</td>\n",
       "      <td>Sports</td>\n",
       "      <td>0.66</td>\n",
       "      <td>5.75</td>\n",
       "      <td>0.08</td>\n",
       "      <td>1.11</td>\n",
       "      <td>85</td>\n",
       "      <td>5.0</td>\n",
       "      <td>E</td>\n",
       "      <td>7.60</td>\n",
       "      <td>7.60</td>\n",
       "      <td>22.80</td>\n",
       "    </tr>\n",
       "    <tr>\n",
       "      <th>126</th>\n",
       "      <td>FIFA 14</td>\n",
       "      <td>PS3</td>\n",
       "      <td>2013</td>\n",
       "      <td>Sports</td>\n",
       "      <td>0.78</td>\n",
       "      <td>4.24</td>\n",
       "      <td>0.07</td>\n",
       "      <td>1.37</td>\n",
       "      <td>86</td>\n",
       "      <td>4.3</td>\n",
       "      <td>E</td>\n",
       "      <td>6.46</td>\n",
       "      <td>6.46</td>\n",
       "      <td>19.38</td>\n",
       "    </tr>\n",
       "    <tr>\n",
       "      <th>143</th>\n",
       "      <td>FIFA 15</td>\n",
       "      <td>PS4</td>\n",
       "      <td>2014</td>\n",
       "      <td>Sports</td>\n",
       "      <td>0.80</td>\n",
       "      <td>4.33</td>\n",
       "      <td>0.05</td>\n",
       "      <td>0.90</td>\n",
       "      <td>82</td>\n",
       "      <td>5.7</td>\n",
       "      <td>E</td>\n",
       "      <td>6.08</td>\n",
       "      <td>6.08</td>\n",
       "      <td>18.24</td>\n",
       "    </tr>\n",
       "    <tr>\n",
       "      <th>264</th>\n",
       "      <td>FIFA 15</td>\n",
       "      <td>PS3</td>\n",
       "      <td>2014</td>\n",
       "      <td>Sports</td>\n",
       "      <td>0.58</td>\n",
       "      <td>3.02</td>\n",
       "      <td>0.04</td>\n",
       "      <td>0.64</td>\n",
       "      <td>0</td>\n",
       "      <td>4.5</td>\n",
       "      <td>E</td>\n",
       "      <td>4.28</td>\n",
       "      <td>4.28</td>\n",
       "      <td>12.84</td>\n",
       "    </tr>\n",
       "    <tr>\n",
       "      <th>...</th>\n",
       "      <td>...</td>\n",
       "      <td>...</td>\n",
       "      <td>...</td>\n",
       "      <td>...</td>\n",
       "      <td>...</td>\n",
       "      <td>...</td>\n",
       "      <td>...</td>\n",
       "      <td>...</td>\n",
       "      <td>...</td>\n",
       "      <td>...</td>\n",
       "      <td>...</td>\n",
       "      <td>...</td>\n",
       "      <td>...</td>\n",
       "      <td>...</td>\n",
       "    </tr>\n",
       "    <tr>\n",
       "      <th>16146</th>\n",
       "      <td>Don Bradman Cricket 14</td>\n",
       "      <td>PS3</td>\n",
       "      <td>2014</td>\n",
       "      <td>Sports</td>\n",
       "      <td>0.00</td>\n",
       "      <td>0.01</td>\n",
       "      <td>0.00</td>\n",
       "      <td>0.00</td>\n",
       "      <td>73</td>\n",
       "      <td>6.9</td>\n",
       "      <td>E</td>\n",
       "      <td>0.01</td>\n",
       "      <td>0.01</td>\n",
       "      <td>0.03</td>\n",
       "    </tr>\n",
       "    <tr>\n",
       "      <th>16230</th>\n",
       "      <td>Madden NFL 13</td>\n",
       "      <td>PS3</td>\n",
       "      <td>2012</td>\n",
       "      <td>Sports</td>\n",
       "      <td>0.00</td>\n",
       "      <td>0.01</td>\n",
       "      <td>0.00</td>\n",
       "      <td>0.00</td>\n",
       "      <td>83</td>\n",
       "      <td>5.5</td>\n",
       "      <td>E</td>\n",
       "      <td>0.01</td>\n",
       "      <td>0.01</td>\n",
       "      <td>0.03</td>\n",
       "    </tr>\n",
       "    <tr>\n",
       "      <th>16450</th>\n",
       "      <td>Turbo: Super Stunt Squad</td>\n",
       "      <td>X360</td>\n",
       "      <td>2013</td>\n",
       "      <td>Sports</td>\n",
       "      <td>0.00</td>\n",
       "      <td>0.01</td>\n",
       "      <td>0.00</td>\n",
       "      <td>0.00</td>\n",
       "      <td>0</td>\n",
       "      <td>4.5</td>\n",
       "      <td>E</td>\n",
       "      <td>0.01</td>\n",
       "      <td>0.01</td>\n",
       "      <td>0.03</td>\n",
       "    </tr>\n",
       "    <tr>\n",
       "      <th>16518</th>\n",
       "      <td>Rugby World Cup 2015</td>\n",
       "      <td>PC</td>\n",
       "      <td>2015</td>\n",
       "      <td>Sports</td>\n",
       "      <td>0.00</td>\n",
       "      <td>0.01</td>\n",
       "      <td>0.00</td>\n",
       "      <td>0.00</td>\n",
       "      <td>0</td>\n",
       "      <td>1.4</td>\n",
       "      <td>E</td>\n",
       "      <td>0.01</td>\n",
       "      <td>0.01</td>\n",
       "      <td>0.03</td>\n",
       "    </tr>\n",
       "    <tr>\n",
       "      <th>16643</th>\n",
       "      <td>Rugby Challenge 3</td>\n",
       "      <td>XOne</td>\n",
       "      <td>2016</td>\n",
       "      <td>Sports</td>\n",
       "      <td>0.00</td>\n",
       "      <td>0.01</td>\n",
       "      <td>0.00</td>\n",
       "      <td>0.00</td>\n",
       "      <td>0</td>\n",
       "      <td>6.6</td>\n",
       "      <td>E</td>\n",
       "      <td>0.01</td>\n",
       "      <td>0.01</td>\n",
       "      <td>0.03</td>\n",
       "    </tr>\n",
       "  </tbody>\n",
       "</table>\n",
       "<p>195 rows × 14 columns</p>\n",
       "</div>"
      ],
      "text/plain": [
       "                           name platform  year_of_release   genre  na_sales  \\\n",
       "77                      FIFA 16      PS4             2015  Sports      1.12   \n",
       "94                      FIFA 17      PS4             2016  Sports      0.66   \n",
       "126                     FIFA 14      PS3             2013  Sports      0.78   \n",
       "143                     FIFA 15      PS4             2014  Sports      0.80   \n",
       "264                     FIFA 15      PS3             2014  Sports      0.58   \n",
       "...                         ...      ...              ...     ...       ...   \n",
       "16146    Don Bradman Cricket 14      PS3             2014  Sports      0.00   \n",
       "16230             Madden NFL 13      PS3             2012  Sports      0.00   \n",
       "16450  Turbo: Super Stunt Squad     X360             2013  Sports      0.00   \n",
       "16518      Rugby World Cup 2015       PC             2015  Sports      0.00   \n",
       "16643         Rugby Challenge 3     XOne             2016  Sports      0.00   \n",
       "\n",
       "       eu_sales  jp_sales  other_sales  critic_score  user_score rating  \\\n",
       "77         6.12      0.06         1.28            82         4.3      E   \n",
       "94         5.75      0.08         1.11            85         5.0      E   \n",
       "126        4.24      0.07         1.37            86         4.3      E   \n",
       "143        4.33      0.05         0.90            82         5.7      E   \n",
       "264        3.02      0.04         0.64             0         4.5      E   \n",
       "...         ...       ...          ...           ...         ...    ...   \n",
       "16146      0.01      0.00         0.00            73         6.9      E   \n",
       "16230      0.01      0.00         0.00            83         5.5      E   \n",
       "16450      0.01      0.00         0.00             0         4.5      E   \n",
       "16518      0.01      0.00         0.00             0         1.4      E   \n",
       "16643      0.01      0.00         0.00             0         6.6      E   \n",
       "\n",
       "       total_sales  total_sales_1  total_sales_2  \n",
       "77            8.58           8.58          25.74  \n",
       "94            7.60           7.60          22.80  \n",
       "126           6.46           6.46          19.38  \n",
       "143           6.08           6.08          18.24  \n",
       "264           4.28           4.28          12.84  \n",
       "...            ...            ...            ...  \n",
       "16146         0.01           0.01           0.03  \n",
       "16230         0.01           0.01           0.03  \n",
       "16450         0.01           0.01           0.03  \n",
       "16518         0.01           0.01           0.03  \n",
       "16643         0.01           0.01           0.03  \n",
       "\n",
       "[195 rows x 14 columns]"
      ]
     },
     "execution_count": 57,
     "metadata": {},
     "output_type": "execute_result"
    }
   ],
   "source": [
    "games_sports = games_actual.query('user_score < 20 and genre == \"Sports\"')\n",
    "games_sports"
   ]
  },
  {
   "cell_type": "markdown",
   "metadata": {},
   "source": [
    "Получили две выборки в 531 и 195 наблюдений. Построим графики плотности:"
   ]
  },
  {
   "cell_type": "code",
   "execution_count": 58,
   "metadata": {},
   "outputs": [
    {
     "data": {
      "image/png": "[encoded data removed]",
      "text/plain": [
       "<Figure size 432x288 with 1 Axes>"
      ]
     },
     "metadata": {},
     "output_type": "display_data"
    }
   ],
   "source": [
    "games_action['user_score'].plot(kind = 'density')\n",
    "games_sports['user_score'].plot(kind= 'density')\n",
    "plt.title('График плотности')\n",
    "plt.xlabel('Оценка пользователей')\n",
    "plt.legend(['Action', 'Sports'])\n",
    "plt.grid(True)\n",
    "plt.show()"
   ]
  },
  {
   "cell_type": "markdown",
   "metadata": {},
   "source": [
    "Распределение игр в жанре Action - более узкое, со средним около 7,5 и относительно небольшой дисперсией. Распределение для спортивных игр более вариативно, среднее близко к 6. Даже визуально можно увидеть, что дисперсии выборок не равны, однако убедимся в этом с помощью расчетов:"
   ]
  },
  {
   "cell_type": "code",
   "execution_count": 59,
   "metadata": {},
   "outputs": [
    {
     "name": "stdout",
     "output_type": "stream",
     "text": [
      "Выборочная дисперсия оценок для игр в жанре Action: 1.8819173506733466\n",
      "Выборочная дисперсия оценок для игр в жанре Sports: 3.022890298704732 \n",
      "\n",
      "Значение p-value для критерия Левена: 1.8018286275085335e-05\n"
     ]
    }
   ],
   "source": [
    "print('Выборочная дисперсия оценок для игр в жанре Action:', \n",
    "      np.var(games_action['user_score'], ddof = 1))\n",
    "print('Выборочная дисперсия оценок для игр в жанре Sports:', \n",
    "      np.var(games_sports['user_score'], ddof = 1), '\\n')\n",
    "\n",
    "# тест Левена:\n",
    "from scipy.stats import levene\n",
    "stat, p = levene(games_action['user_score'], \n",
    "                 games_sports['user_score'])\n",
    "print('Значение p-value для критерия Левена:', p)"
   ]
  },
  {
   "cell_type": "markdown",
   "metadata": {},
   "source": [
    "Расчёты подтверждают, что дисперсии выборок существенно различаются. Проведём t-тест с поправкой на различия в дисперсиях:"
   ]
  },
  {
   "cell_type": "code",
   "execution_count": 60,
   "metadata": {},
   "outputs": [
    {
     "name": "stdout",
     "output_type": "stream",
     "text": [
      "p-значение: 2.337200239591976e-20\n",
      "Отвергаем H0\n"
     ]
    }
   ],
   "source": [
    "alpha = 0.05\n",
    "results = st.ttest_ind(games_action['user_score'], \n",
    "                       games_sports['user_score'], \n",
    "                       equal_var = False)\n",
    "print('p-значение:', results.pvalue)\n",
    "if (results.pvalue < alpha):\n",
    "    print('Отвергаем H0')\n",
    "else:\n",
    "    print('Не получилось отвергнуть H0')"
   ]
  },
  {
   "cell_type": "markdown",
   "metadata": {},
   "source": [
    "Значение p-value значительно ниже уровня статистической значимости в 5%, а значит, нулевую гипотезу о равенстве средних двух выборок стоит отвергнуть: с большой вероятностью средние оценки пользователей игр в жанрах Action и Sports не равны."
   ]
  },
  {
   "cell_type": "markdown",
   "metadata": {},
   "source": [
    "## Вывод"
   ]
  },
  {
   "cell_type": "markdown",
   "metadata": {},
   "source": [
    "Мы проанализировали данные о продажах игр на разных платформах в различных регионах с 1977 по 2016 год. В ходе анализа:\n",
    "1. Выяснили, что средний жизненный цикл игровой платформы составляет около 10 лет, определили платформы, игры под которые вероятно будут продаваться в 2017 году. \n",
    "2. Проанализировали объем глобальных продаж по годам, и в целях предиктивного анализа приняли в расчёт данные с 2012 по 2016 год как наиболее соответствующие текущей тенденции. \n",
    "3. Выяснили, что рынок Японии сильно отличается от европейского и американского в части предпочтения платформ и жанров. \n",
    "4. Определили, что оценки критиков имеют не очень сильную связь с объёмами продаж игры, а оценки пользователей вообще на продажи не влияют. \n",
    "5. Мы также проверили две гипотезы о том, равны ли оценки пользователей для платформ XBox One и ПК, и различаются ли оценки пользователей для жанров Action и Sports. В результате проверки выяснили, что с большой долей вероятности можно говорить о том, что средние оценки пользователей для платформ XBox One и ПК равны, а средние оценки пользователей для жанров Action и Sports различаются. Из этого можно сделать вывод, что оценка пользователя зависит от жанра игры, но не от платформы, которую он использует.\n",
    "\n",
    "**На 2017 год можно рекомендовать сосредоточить внимание на играх с жанре экшн, шутер, ролевых и спортивных играх, выпущенных под следующие существующие платформы: Nintendo 3DS, Sony PlayStation 4, Sony PlayStation Vita, Nintendo WiiU, Xbox One и ПК. И конечно, следить за платформами новых поколений, которые вероятно будут выпущены в скором времени. Рекламные кампании рекомендуется проводить отдельно для Японии с упором на ролевые и экшн игры под платформы компании Nintendo и Европы с Америкой с упором на игры в жанрах экшн и шутинг под платформы Sony Playstation и XBox.**    "
   ]
  }
 ],
 "metadata": {
  "ExecuteTimeLog": [
   {
    "duration": 4,
    "start_time": "2021-08-03T05:36:03.362Z"
   },
   {
    "duration": 1518,
    "start_time": "2021-08-03T05:37:33.191Z"
   },
   {
    "duration": 485,
    "start_time": "2021-08-03T05:48:49.618Z"
   },
   {
    "duration": 370,
    "start_time": "2021-08-03T05:48:57.750Z"
   },
   {
    "duration": 5,
    "start_time": "2021-08-03T05:49:16.394Z"
   },
   {
    "duration": 6,
    "start_time": "2021-08-03T05:50:05.161Z"
   },
   {
    "duration": 18,
    "start_time": "2021-08-03T05:50:22.130Z"
   },
   {
    "duration": 18,
    "start_time": "2021-08-03T05:50:33.392Z"
   },
   {
    "duration": 17,
    "start_time": "2021-08-03T05:50:49.218Z"
   },
   {
    "duration": 17,
    "start_time": "2021-08-03T05:58:18.091Z"
   },
   {
    "duration": 9,
    "start_time": "2021-08-03T05:59:21.016Z"
   },
   {
    "duration": 16,
    "start_time": "2021-08-03T05:59:46.116Z"
   },
   {
    "duration": 15,
    "start_time": "2021-08-03T06:00:29.677Z"
   },
   {
    "duration": 9,
    "start_time": "2021-08-03T06:02:31.470Z"
   },
   {
    "duration": 455,
    "start_time": "2021-08-03T06:03:32.423Z"
   },
   {
    "duration": 22,
    "start_time": "2021-08-03T06:03:49.516Z"
   },
   {
    "duration": 11,
    "start_time": "2021-08-03T06:06:57.982Z"
   },
   {
    "duration": 21,
    "start_time": "2021-08-03T06:07:46.862Z"
   },
   {
    "duration": 17,
    "start_time": "2021-08-03T06:08:11.301Z"
   },
   {
    "duration": 15,
    "start_time": "2021-08-03T06:08:46.479Z"
   },
   {
    "duration": 26,
    "start_time": "2021-08-03T06:10:18.470Z"
   },
   {
    "duration": 133,
    "start_time": "2021-08-03T06:11:08.828Z"
   },
   {
    "duration": 120,
    "start_time": "2021-08-03T06:11:23.717Z"
   },
   {
    "duration": 31,
    "start_time": "2021-08-03T06:11:45.453Z"
   },
   {
    "duration": 18,
    "start_time": "2021-08-03T06:17:36.638Z"
   },
   {
    "duration": 10,
    "start_time": "2021-08-03T06:17:49.871Z"
   },
   {
    "duration": 349,
    "start_time": "2021-08-03T06:30:05.169Z"
   },
   {
    "duration": 29,
    "start_time": "2021-08-03T06:30:56.541Z"
   },
   {
    "duration": 117,
    "start_time": "2021-08-03T06:34:41.715Z"
   },
   {
    "duration": 6,
    "start_time": "2021-08-03T06:40:42.706Z"
   },
   {
    "duration": 7,
    "start_time": "2021-08-03T06:40:55.843Z"
   },
   {
    "duration": 374,
    "start_time": "2021-08-03T06:44:31.186Z"
   },
   {
    "duration": 453,
    "start_time": "2021-08-03T06:44:39.130Z"
   },
   {
    "duration": 395,
    "start_time": "2021-08-03T06:45:16.422Z"
   },
   {
    "duration": 389,
    "start_time": "2021-08-03T06:45:26.661Z"
   },
   {
    "duration": 410,
    "start_time": "2021-08-03T06:45:44.829Z"
   },
   {
    "duration": 375,
    "start_time": "2021-08-03T06:45:55.573Z"
   },
   {
    "duration": 362,
    "start_time": "2021-08-03T06:47:29.379Z"
   },
   {
    "duration": 25,
    "start_time": "2021-08-03T06:47:46.170Z"
   },
   {
    "duration": 24,
    "start_time": "2021-08-03T06:48:39.467Z"
   },
   {
    "duration": 64,
    "start_time": "2021-08-03T06:49:23.834Z"
   },
   {
    "duration": 17,
    "start_time": "2021-08-03T06:49:23.900Z"
   },
   {
    "duration": 20,
    "start_time": "2021-08-03T06:49:23.920Z"
   },
   {
    "duration": 20,
    "start_time": "2021-08-03T06:49:23.943Z"
   },
   {
    "duration": 250,
    "start_time": "2021-08-03T06:49:23.965Z"
   },
   {
    "duration": 21,
    "start_time": "2021-08-03T06:49:24.217Z"
   },
   {
    "duration": 29,
    "start_time": "2021-08-03T06:49:24.240Z"
   },
   {
    "duration": 14,
    "start_time": "2021-08-03T06:49:24.271Z"
   },
   {
    "duration": 121,
    "start_time": "2021-08-03T06:49:24.289Z"
   },
   {
    "duration": 24,
    "start_time": "2021-08-03T06:49:24.413Z"
   },
   {
    "duration": 8,
    "start_time": "2021-08-03T06:49:24.440Z"
   },
   {
    "duration": 12,
    "start_time": "2021-08-03T06:57:47.142Z"
   },
   {
    "duration": 22,
    "start_time": "2021-08-03T06:58:15.399Z"
   },
   {
    "duration": 23,
    "start_time": "2021-08-03T06:59:00.591Z"
   },
   {
    "duration": 22,
    "start_time": "2021-08-03T06:59:14.692Z"
   },
   {
    "duration": 19,
    "start_time": "2021-08-03T06:59:50.713Z"
   },
   {
    "duration": 13,
    "start_time": "2021-08-03T07:00:44.590Z"
   },
   {
    "duration": 20,
    "start_time": "2021-08-03T07:02:38.168Z"
   },
   {
    "duration": 18,
    "start_time": "2021-08-03T07:11:55.626Z"
   },
   {
    "duration": 14,
    "start_time": "2021-08-03T07:13:08.954Z"
   },
   {
    "duration": 23,
    "start_time": "2021-08-03T07:14:33.261Z"
   },
   {
    "duration": 11,
    "start_time": "2021-08-03T07:15:08.104Z"
   },
   {
    "duration": 10,
    "start_time": "2021-08-03T07:15:14.997Z"
   },
   {
    "duration": 10,
    "start_time": "2021-08-03T07:16:21.815Z"
   },
   {
    "duration": 21,
    "start_time": "2021-08-03T07:17:07.824Z"
   },
   {
    "duration": 21,
    "start_time": "2021-08-03T07:17:24.568Z"
   },
   {
    "duration": 74,
    "start_time": "2021-08-03T07:19:06.784Z"
   },
   {
    "duration": 37,
    "start_time": "2021-08-03T07:19:06.861Z"
   },
   {
    "duration": 23,
    "start_time": "2021-08-03T07:19:06.901Z"
   },
   {
    "duration": 20,
    "start_time": "2021-08-03T07:19:06.927Z"
   },
   {
    "duration": 248,
    "start_time": "2021-08-03T07:19:06.950Z"
   },
   {
    "duration": 22,
    "start_time": "2021-08-03T07:19:07.201Z"
   },
   {
    "duration": 65,
    "start_time": "2021-08-03T07:19:07.225Z"
   },
   {
    "duration": 11,
    "start_time": "2021-08-03T07:19:07.293Z"
   },
   {
    "duration": 166,
    "start_time": "2021-08-03T07:19:07.307Z"
   },
   {
    "duration": 25,
    "start_time": "2021-08-03T07:19:07.482Z"
   },
   {
    "duration": 22,
    "start_time": "2021-08-03T07:19:07.510Z"
   },
   {
    "duration": 11,
    "start_time": "2021-08-03T07:19:07.535Z"
   },
   {
    "duration": 54,
    "start_time": "2021-08-03T07:19:07.548Z"
   },
   {
    "duration": 11,
    "start_time": "2021-08-03T07:19:07.605Z"
   },
   {
    "duration": 24,
    "start_time": "2021-08-03T07:19:07.619Z"
   },
   {
    "duration": 11,
    "start_time": "2021-08-03T07:20:06.398Z"
   },
   {
    "duration": 10,
    "start_time": "2021-08-03T07:20:22.612Z"
   },
   {
    "duration": 11,
    "start_time": "2021-08-03T07:21:57.157Z"
   },
   {
    "duration": 9,
    "start_time": "2021-08-03T07:22:29.873Z"
   },
   {
    "duration": 23,
    "start_time": "2021-08-03T07:22:40.003Z"
   },
   {
    "duration": 10,
    "start_time": "2021-08-03T07:23:36.254Z"
   },
   {
    "duration": 20,
    "start_time": "2021-08-03T07:23:43.975Z"
   },
   {
    "duration": 293,
    "start_time": "2021-08-03T07:24:58.286Z"
   },
   {
    "duration": 367,
    "start_time": "2021-08-03T07:25:08.904Z"
   },
   {
    "duration": 63,
    "start_time": "2021-08-03T07:25:37.858Z"
   },
   {
    "duration": 16,
    "start_time": "2021-08-03T07:25:37.924Z"
   },
   {
    "duration": 50,
    "start_time": "2021-08-03T07:25:37.943Z"
   },
   {
    "duration": 18,
    "start_time": "2021-08-03T07:25:37.996Z"
   },
   {
    "duration": 232,
    "start_time": "2021-08-03T07:25:38.017Z"
   },
   {
    "duration": 44,
    "start_time": "2021-08-03T07:25:38.252Z"
   },
   {
    "duration": 31,
    "start_time": "2021-08-03T07:25:38.299Z"
   },
   {
    "duration": 14,
    "start_time": "2021-08-03T07:25:38.385Z"
   },
   {
    "duration": 159,
    "start_time": "2021-08-03T07:25:38.402Z"
   },
   {
    "duration": 42,
    "start_time": "2021-08-03T07:25:38.563Z"
   },
   {
    "duration": 18,
    "start_time": "2021-08-03T07:25:38.607Z"
   },
   {
    "duration": 12,
    "start_time": "2021-08-03T07:25:38.627Z"
   },
   {
    "duration": 52,
    "start_time": "2021-08-03T07:25:38.641Z"
   },
   {
    "duration": 392,
    "start_time": "2021-08-03T07:25:38.695Z"
   },
   {
    "duration": -1746,
    "start_time": "2021-08-03T07:25:40.835Z"
   },
   {
    "duration": 203,
    "start_time": "2021-08-03T07:28:37.873Z"
   },
   {
    "duration": 20,
    "start_time": "2021-08-03T07:28:46.879Z"
   },
   {
    "duration": 20,
    "start_time": "2021-08-03T07:30:23.147Z"
   },
   {
    "duration": 227,
    "start_time": "2021-08-03T07:30:40.472Z"
   },
   {
    "duration": 214,
    "start_time": "2021-08-03T07:31:10.906Z"
   },
   {
    "duration": 18,
    "start_time": "2021-08-03T07:32:02.936Z"
   },
   {
    "duration": 19,
    "start_time": "2021-08-03T07:32:14.190Z"
   },
   {
    "duration": 368,
    "start_time": "2021-08-03T07:35:17.334Z"
   },
   {
    "duration": 368,
    "start_time": "2021-08-03T07:36:10.661Z"
   },
   {
    "duration": 364,
    "start_time": "2021-08-03T07:36:19.715Z"
   },
   {
    "duration": 1634,
    "start_time": "2021-08-03T07:36:27.627Z"
   },
   {
    "duration": 7597,
    "start_time": "2021-08-03T07:37:44.769Z"
   },
   {
    "duration": 7879,
    "start_time": "2021-08-03T07:38:08.592Z"
   },
   {
    "duration": 21,
    "start_time": "2021-08-03T07:38:27.660Z"
   },
   {
    "duration": 13111,
    "start_time": "2021-08-03T07:39:06.438Z"
   },
   {
    "duration": 21,
    "start_time": "2021-08-03T07:39:23.740Z"
   },
   {
    "duration": 69,
    "start_time": "2021-08-03T07:42:42.875Z"
   },
   {
    "duration": 361,
    "start_time": "2021-08-03T07:45:06.641Z"
   },
   {
    "duration": 29,
    "start_time": "2021-08-03T07:45:17.956Z"
   },
   {
    "duration": 326,
    "start_time": "2021-08-03T07:45:38.476Z"
   },
   {
    "duration": 378,
    "start_time": "2021-08-03T07:45:50.691Z"
   },
   {
    "duration": 375,
    "start_time": "2021-08-03T07:46:01.082Z"
   },
   {
    "duration": 10,
    "start_time": "2021-08-03T07:46:14.690Z"
   },
   {
    "duration": 10,
    "start_time": "2021-08-03T07:46:26.301Z"
   },
   {
    "duration": 22,
    "start_time": "2021-08-03T07:47:41.368Z"
   },
   {
    "duration": 21,
    "start_time": "2021-08-03T07:48:01.536Z"
   },
   {
    "duration": 8,
    "start_time": "2021-08-03T07:51:05.868Z"
   },
   {
    "duration": 10,
    "start_time": "2021-08-03T07:52:21.028Z"
   },
   {
    "duration": 19,
    "start_time": "2021-08-03T07:52:55.142Z"
   },
   {
    "duration": 63,
    "start_time": "2021-08-03T07:54:52.060Z"
   },
   {
    "duration": 18,
    "start_time": "2021-08-03T07:54:52.126Z"
   },
   {
    "duration": 19,
    "start_time": "2021-08-03T07:54:52.146Z"
   },
   {
    "duration": 20,
    "start_time": "2021-08-03T07:54:52.183Z"
   },
   {
    "duration": 15,
    "start_time": "2021-08-03T07:54:52.206Z"
   },
   {
    "duration": 20,
    "start_time": "2021-08-03T07:54:52.223Z"
   },
   {
    "duration": 44,
    "start_time": "2021-08-03T07:54:52.245Z"
   },
   {
    "duration": 10,
    "start_time": "2021-08-03T07:54:52.291Z"
   },
   {
    "duration": 129,
    "start_time": "2021-08-03T07:54:52.304Z"
   },
   {
    "duration": 24,
    "start_time": "2021-08-03T07:54:52.436Z"
   },
   {
    "duration": 35,
    "start_time": "2021-08-03T07:54:52.463Z"
   },
   {
    "duration": 13504,
    "start_time": "2021-08-03T07:54:52.500Z"
   },
   {
    "duration": 29,
    "start_time": "2021-08-03T07:55:06.006Z"
   },
   {
    "duration": 23,
    "start_time": "2021-08-03T07:55:06.037Z"
   },
   {
    "duration": 1372,
    "start_time": "2021-08-03T07:55:38.010Z"
   },
   {
    "duration": 18,
    "start_time": "2021-08-03T07:55:39.385Z"
   },
   {
    "duration": 26,
    "start_time": "2021-08-03T07:55:39.407Z"
   },
   {
    "duration": 20,
    "start_time": "2021-08-03T07:55:39.436Z"
   },
   {
    "duration": 17,
    "start_time": "2021-08-03T07:55:39.483Z"
   },
   {
    "duration": 35,
    "start_time": "2021-08-03T07:55:39.503Z"
   },
   {
    "duration": 43,
    "start_time": "2021-08-03T07:55:39.541Z"
   },
   {
    "duration": 9,
    "start_time": "2021-08-03T07:55:39.587Z"
   },
   {
    "duration": 134,
    "start_time": "2021-08-03T07:55:39.598Z"
   },
   {
    "duration": 25,
    "start_time": "2021-08-03T07:55:39.734Z"
   },
   {
    "duration": 22,
    "start_time": "2021-08-03T07:55:39.781Z"
   },
   {
    "duration": 12729,
    "start_time": "2021-08-03T07:55:39.805Z"
   },
   {
    "duration": 29,
    "start_time": "2021-08-03T07:55:52.537Z"
   },
   {
    "duration": 20,
    "start_time": "2021-08-03T07:55:52.584Z"
   },
   {
    "duration": 21,
    "start_time": "2021-08-03T07:58:46.700Z"
   },
   {
    "duration": 21,
    "start_time": "2021-08-03T07:59:29.519Z"
   },
   {
    "duration": 67,
    "start_time": "2021-08-03T08:00:48.826Z"
   },
   {
    "duration": 17,
    "start_time": "2021-08-03T08:00:48.896Z"
   },
   {
    "duration": 18,
    "start_time": "2021-08-03T08:00:48.916Z"
   },
   {
    "duration": 54,
    "start_time": "2021-08-03T08:00:48.936Z"
   },
   {
    "duration": 14,
    "start_time": "2021-08-03T08:00:48.993Z"
   },
   {
    "duration": 20,
    "start_time": "2021-08-03T08:00:49.010Z"
   },
   {
    "duration": 58,
    "start_time": "2021-08-03T08:00:49.033Z"
   },
   {
    "duration": 13,
    "start_time": "2021-08-03T08:00:49.094Z"
   },
   {
    "duration": 135,
    "start_time": "2021-08-03T08:00:49.109Z"
   },
   {
    "duration": 41,
    "start_time": "2021-08-03T08:00:49.246Z"
   },
   {
    "duration": 19,
    "start_time": "2021-08-03T08:00:49.290Z"
   },
   {
    "duration": 12786,
    "start_time": "2021-08-03T08:00:49.311Z"
   },
   {
    "duration": 31,
    "start_time": "2021-08-03T08:01:02.099Z"
   },
   {
    "duration": 25,
    "start_time": "2021-08-03T08:01:02.132Z"
   },
   {
    "duration": 20,
    "start_time": "2021-08-03T08:01:02.182Z"
   },
   {
    "duration": 66,
    "start_time": "2021-08-03T08:01:18.472Z"
   },
   {
    "duration": 18,
    "start_time": "2021-08-03T08:01:18.541Z"
   },
   {
    "duration": 18,
    "start_time": "2021-08-03T08:01:18.583Z"
   },
   {
    "duration": 21,
    "start_time": "2021-08-03T08:01:18.604Z"
   },
   {
    "duration": 15,
    "start_time": "2021-08-03T08:01:18.628Z"
   },
   {
    "duration": 54,
    "start_time": "2021-08-03T08:01:18.646Z"
   },
   {
    "duration": 30,
    "start_time": "2021-08-03T08:01:18.702Z"
   },
   {
    "duration": 9,
    "start_time": "2021-08-03T08:01:18.736Z"
   },
   {
    "duration": 149,
    "start_time": "2021-08-03T08:01:18.748Z"
   },
   {
    "duration": 24,
    "start_time": "2021-08-03T08:01:18.899Z"
   },
   {
    "duration": 21,
    "start_time": "2021-08-03T08:01:18.926Z"
   },
   {
    "duration": 7634,
    "start_time": "2021-08-03T08:01:18.949Z"
   },
   {
    "duration": 56,
    "start_time": "2021-08-03T08:01:26.586Z"
   },
   {
    "duration": 53,
    "start_time": "2021-08-03T08:01:26.648Z"
   },
   {
    "duration": 30,
    "start_time": "2021-08-03T08:01:26.704Z"
   },
   {
    "duration": 6460,
    "start_time": "2021-08-03T08:03:59.329Z"
   },
   {
    "duration": 12981,
    "start_time": "2021-08-03T08:05:58.988Z"
   },
   {
    "duration": 75,
    "start_time": "2021-08-03T08:06:54.629Z"
   },
   {
    "duration": 18,
    "start_time": "2021-08-03T08:06:54.706Z"
   },
   {
    "duration": 22,
    "start_time": "2021-08-03T08:06:54.727Z"
   },
   {
    "duration": 60,
    "start_time": "2021-08-03T08:06:54.753Z"
   },
   {
    "duration": 16,
    "start_time": "2021-08-03T08:06:54.816Z"
   },
   {
    "duration": 27,
    "start_time": "2021-08-03T08:06:54.835Z"
   },
   {
    "duration": 50,
    "start_time": "2021-08-03T08:06:54.865Z"
   },
   {
    "duration": 9,
    "start_time": "2021-08-03T08:06:54.919Z"
   },
   {
    "duration": 146,
    "start_time": "2021-08-03T08:06:54.930Z"
   },
   {
    "duration": 29,
    "start_time": "2021-08-03T08:06:55.082Z"
   },
   {
    "duration": 21,
    "start_time": "2021-08-03T08:06:55.113Z"
   },
   {
    "duration": 8377,
    "start_time": "2021-08-03T08:06:55.136Z"
   },
   {
    "duration": 32,
    "start_time": "2021-08-03T08:07:03.516Z"
   },
   {
    "duration": 53,
    "start_time": "2021-08-03T08:07:03.551Z"
   },
   {
    "duration": 10,
    "start_time": "2021-08-03T08:09:11.705Z"
   },
   {
    "duration": 16,
    "start_time": "2021-08-03T08:09:35.888Z"
   },
   {
    "duration": 10,
    "start_time": "2021-08-03T08:09:43.627Z"
   },
   {
    "duration": 12,
    "start_time": "2021-08-03T08:11:23.815Z"
   },
   {
    "duration": 13,
    "start_time": "2021-08-03T08:11:29.767Z"
   },
   {
    "duration": 12,
    "start_time": "2021-08-03T08:11:39.293Z"
   },
   {
    "duration": 72,
    "start_time": "2021-08-03T08:11:53.494Z"
   },
   {
    "duration": 29,
    "start_time": "2021-08-03T08:11:53.569Z"
   },
   {
    "duration": 27,
    "start_time": "2021-08-03T08:11:53.602Z"
   },
   {
    "duration": 51,
    "start_time": "2021-08-03T08:11:53.633Z"
   },
   {
    "duration": 19,
    "start_time": "2021-08-03T08:11:53.690Z"
   },
   {
    "duration": 21,
    "start_time": "2021-08-03T08:11:53.712Z"
   },
   {
    "duration": 61,
    "start_time": "2021-08-03T08:11:53.736Z"
   },
   {
    "duration": 9,
    "start_time": "2021-08-03T08:11:53.801Z"
   },
   {
    "duration": 146,
    "start_time": "2021-08-03T08:11:53.813Z"
   },
   {
    "duration": 40,
    "start_time": "2021-08-03T08:11:53.962Z"
   },
   {
    "duration": 21,
    "start_time": "2021-08-03T08:11:54.005Z"
   },
   {
    "duration": 8138,
    "start_time": "2021-08-03T08:11:54.028Z"
   },
   {
    "duration": 77,
    "start_time": "2021-08-03T08:12:02.168Z"
   },
   {
    "duration": 42,
    "start_time": "2021-08-03T08:12:02.248Z"
   },
   {
    "duration": 13,
    "start_time": "2021-08-03T08:12:02.293Z"
   },
   {
    "duration": 76,
    "start_time": "2021-08-03T08:13:54.857Z"
   },
   {
    "duration": 46,
    "start_time": "2021-08-03T08:13:54.936Z"
   },
   {
    "duration": 25,
    "start_time": "2021-08-03T08:13:54.986Z"
   },
   {
    "duration": 22,
    "start_time": "2021-08-03T08:13:55.014Z"
   },
   {
    "duration": 279,
    "start_time": "2021-08-03T08:13:55.039Z"
   },
   {
    "duration": 63,
    "start_time": "2021-08-03T08:13:55.320Z"
   },
   {
    "duration": 34,
    "start_time": "2021-08-03T08:13:55.385Z"
   },
   {
    "duration": 64,
    "start_time": "2021-08-03T08:13:55.422Z"
   },
   {
    "duration": 152,
    "start_time": "2021-08-03T08:13:55.490Z"
   },
   {
    "duration": 43,
    "start_time": "2021-08-03T08:13:55.644Z"
   },
   {
    "duration": 24,
    "start_time": "2021-08-03T08:13:55.689Z"
   },
   {
    "duration": 8247,
    "start_time": "2021-08-03T08:13:55.715Z"
   },
   {
    "duration": 85,
    "start_time": "2021-08-03T08:14:03.964Z"
   },
   {
    "duration": 41,
    "start_time": "2021-08-03T08:14:04.052Z"
   },
   {
    "duration": 11,
    "start_time": "2021-08-03T08:14:04.096Z"
   },
   {
    "duration": 1542,
    "start_time": "2021-08-03T08:14:25.633Z"
   },
   {
    "duration": 23,
    "start_time": "2021-08-03T08:14:27.177Z"
   },
   {
    "duration": 21,
    "start_time": "2021-08-03T08:14:27.203Z"
   },
   {
    "duration": 20,
    "start_time": "2021-08-03T08:14:27.227Z"
   },
   {
    "duration": 43,
    "start_time": "2021-08-03T08:14:27.250Z"
   },
   {
    "duration": 24,
    "start_time": "2021-08-03T08:14:27.296Z"
   },
   {
    "duration": 24,
    "start_time": "2021-08-03T08:14:27.323Z"
   },
   {
    "duration": 15,
    "start_time": "2021-08-03T08:14:27.385Z"
   },
   {
    "duration": 29,
    "start_time": "2021-08-03T08:14:27.403Z"
   },
   {
    "duration": 53,
    "start_time": "2021-08-03T08:14:27.435Z"
   },
   {
    "duration": 26,
    "start_time": "2021-08-03T08:14:27.492Z"
   },
   {
    "duration": 8250,
    "start_time": "2021-08-03T08:14:27.521Z"
   },
   {
    "duration": 37,
    "start_time": "2021-08-03T08:14:35.774Z"
   },
   {
    "duration": 23,
    "start_time": "2021-08-03T08:14:35.813Z"
   },
   {
    "duration": 9,
    "start_time": "2021-08-03T08:14:35.838Z"
   },
   {
    "duration": 10,
    "start_time": "2021-08-03T08:15:14.675Z"
   },
   {
    "duration": 9,
    "start_time": "2021-08-03T08:16:51.165Z"
   },
   {
    "duration": 533,
    "start_time": "2021-08-03T08:17:48.548Z"
   },
   {
    "duration": 424,
    "start_time": "2021-08-03T08:18:02.837Z"
   },
   {
    "duration": 15,
    "start_time": "2021-08-03T08:18:13.384Z"
   },
   {
    "duration": 433,
    "start_time": "2021-08-03T08:21:10.740Z"
   },
   {
    "duration": 30,
    "start_time": "2021-08-03T08:21:15.598Z"
   },
   {
    "duration": 11,
    "start_time": "2021-08-03T08:21:39.005Z"
   },
   {
    "duration": 21,
    "start_time": "2021-08-03T08:24:10.439Z"
   },
   {
    "duration": 27,
    "start_time": "2021-08-03T08:24:32.252Z"
   },
   {
    "duration": 21,
    "start_time": "2021-08-03T08:24:40.671Z"
   },
   {
    "duration": 19,
    "start_time": "2021-08-03T08:24:49.188Z"
   },
   {
    "duration": 20,
    "start_time": "2021-08-03T08:24:55.742Z"
   },
   {
    "duration": 20,
    "start_time": "2021-08-03T08:25:02.502Z"
   },
   {
    "duration": 23,
    "start_time": "2021-08-03T08:25:11.806Z"
   },
   {
    "duration": 20,
    "start_time": "2021-08-03T08:25:22.454Z"
   },
   {
    "duration": 21,
    "start_time": "2021-08-03T08:25:29.347Z"
   },
   {
    "duration": 20,
    "start_time": "2021-08-03T08:26:05.111Z"
   },
   {
    "duration": 25,
    "start_time": "2021-08-03T08:26:27.736Z"
   },
   {
    "duration": -234,
    "start_time": "2021-08-03T08:30:41.596Z"
   },
   {
    "duration": 14,
    "start_time": "2021-08-03T08:30:46.160Z"
   },
   {
    "duration": 379,
    "start_time": "2021-08-03T08:33:22.210Z"
   },
   {
    "duration": 30,
    "start_time": "2021-08-03T08:33:33.652Z"
   },
   {
    "duration": 6,
    "start_time": "2021-08-03T08:38:07.333Z"
   },
   {
    "duration": 37,
    "start_time": "2021-08-03T08:38:28.572Z"
   },
   {
    "duration": 165,
    "start_time": "2021-08-03T08:42:36.582Z"
   },
   {
    "duration": 15,
    "start_time": "2021-08-03T08:42:41.673Z"
   },
   {
    "duration": 37,
    "start_time": "2021-08-03T08:43:01.294Z"
   },
   {
    "duration": 21,
    "start_time": "2021-08-03T08:43:31.721Z"
   },
   {
    "duration": 18,
    "start_time": "2021-08-03T08:43:48.667Z"
   },
   {
    "duration": 1378,
    "start_time": "2021-08-03T08:44:46.304Z"
   },
   {
    "duration": 18,
    "start_time": "2021-08-03T08:44:59.805Z"
   },
   {
    "duration": 1479,
    "start_time": "2021-08-03T08:46:27.384Z"
   },
   {
    "duration": 28,
    "start_time": "2021-08-03T08:46:49.074Z"
   },
   {
    "duration": 16,
    "start_time": "2021-08-03T08:47:14.507Z"
   },
   {
    "duration": 81,
    "start_time": "2021-08-03T08:48:01.655Z"
   },
   {
    "duration": 19,
    "start_time": "2021-08-03T08:48:01.738Z"
   },
   {
    "duration": 40,
    "start_time": "2021-08-03T08:48:01.784Z"
   },
   {
    "duration": 35,
    "start_time": "2021-08-03T08:48:01.828Z"
   },
   {
    "duration": 40,
    "start_time": "2021-08-03T08:48:01.865Z"
   },
   {
    "duration": 39,
    "start_time": "2021-08-03T08:48:01.907Z"
   },
   {
    "duration": 24,
    "start_time": "2021-08-03T08:48:01.948Z"
   },
   {
    "duration": 64,
    "start_time": "2021-08-03T08:48:01.975Z"
   },
   {
    "duration": 67,
    "start_time": "2021-08-03T08:48:02.043Z"
   },
   {
    "duration": 30,
    "start_time": "2021-08-03T08:48:02.113Z"
   },
   {
    "duration": 57,
    "start_time": "2021-08-03T08:48:02.146Z"
   },
   {
    "duration": 8398,
    "start_time": "2021-08-03T08:48:02.206Z"
   },
   {
    "duration": 29,
    "start_time": "2021-08-03T08:48:10.607Z"
   },
   {
    "duration": 46,
    "start_time": "2021-08-03T08:48:10.639Z"
   },
   {
    "duration": 12,
    "start_time": "2021-08-03T08:48:10.689Z"
   },
   {
    "duration": 21,
    "start_time": "2021-08-03T08:48:10.704Z"
   },
   {
    "duration": 14,
    "start_time": "2021-08-03T08:48:10.728Z"
   },
   {
    "duration": 42,
    "start_time": "2021-08-03T08:48:10.744Z"
   },
   {
    "duration": 11,
    "start_time": "2021-08-03T08:48:10.790Z"
   },
   {
    "duration": 23,
    "start_time": "2021-08-03T08:48:10.804Z"
   },
   {
    "duration": 40,
    "start_time": "2021-08-03T08:48:10.829Z"
   },
   {
    "duration": 22,
    "start_time": "2021-08-03T08:48:10.883Z"
   },
   {
    "duration": 8,
    "start_time": "2021-08-03T08:50:12.247Z"
   },
   {
    "duration": 13,
    "start_time": "2021-08-03T08:50:25.765Z"
   },
   {
    "duration": 16,
    "start_time": "2021-08-03T08:50:45.279Z"
   },
   {
    "duration": 10,
    "start_time": "2021-08-03T08:52:13.576Z"
   },
   {
    "duration": 34,
    "start_time": "2021-08-03T08:55:38.991Z"
   },
   {
    "duration": 12,
    "start_time": "2021-08-03T09:03:11.542Z"
   },
   {
    "duration": 386,
    "start_time": "2021-08-03T09:10:58.385Z"
   },
   {
    "duration": 8,
    "start_time": "2021-08-03T09:11:05.297Z"
   },
   {
    "duration": 23,
    "start_time": "2021-08-03T10:17:22.052Z"
   },
   {
    "duration": 22,
    "start_time": "2021-08-03T10:22:30.368Z"
   },
   {
    "duration": 18,
    "start_time": "2021-08-03T10:23:27.119Z"
   },
   {
    "duration": 375,
    "start_time": "2021-08-03T10:25:37.114Z"
   },
   {
    "duration": 413,
    "start_time": "2021-08-03T10:25:48.560Z"
   },
   {
    "duration": 383,
    "start_time": "2021-08-03T10:26:01.794Z"
   },
   {
    "duration": 727,
    "start_time": "2021-08-03T10:27:22.097Z"
   },
   {
    "duration": 366,
    "start_time": "2021-08-03T10:28:58.637Z"
   },
   {
    "duration": 368,
    "start_time": "2021-08-03T10:29:32.608Z"
   },
   {
    "duration": 394,
    "start_time": "2021-08-03T10:29:43.979Z"
   },
   {
    "duration": 134,
    "start_time": "2021-08-03T10:30:39.018Z"
   },
   {
    "duration": 9435,
    "start_time": "2021-08-03T10:30:45.137Z"
   },
   {
    "duration": 776,
    "start_time": "2021-08-03T10:30:57.434Z"
   },
   {
    "duration": 349,
    "start_time": "2021-08-03T10:31:08.092Z"
   },
   {
    "duration": 413,
    "start_time": "2021-08-03T10:31:17.878Z"
   },
   {
    "duration": 398,
    "start_time": "2021-08-03T10:31:42.242Z"
   },
   {
    "duration": 704,
    "start_time": "2021-08-03T10:31:57.424Z"
   },
   {
    "duration": 292,
    "start_time": "2021-08-03T10:32:03.440Z"
   },
   {
    "duration": 313,
    "start_time": "2021-08-03T10:33:54.306Z"
   },
   {
    "duration": 17,
    "start_time": "2021-08-03T11:00:34.712Z"
   },
   {
    "duration": 29,
    "start_time": "2021-08-03T11:00:41.799Z"
   },
   {
    "duration": 33,
    "start_time": "2021-08-03T11:01:51.546Z"
   },
   {
    "duration": 21,
    "start_time": "2021-08-03T11:03:12.711Z"
   },
   {
    "duration": 21,
    "start_time": "2021-08-03T11:03:39.969Z"
   },
   {
    "duration": 22,
    "start_time": "2021-08-03T11:03:55.541Z"
   },
   {
    "duration": 30,
    "start_time": "2021-08-03T11:05:26.071Z"
   },
   {
    "duration": 22,
    "start_time": "2021-08-03T11:05:51.309Z"
   },
   {
    "duration": 20,
    "start_time": "2021-08-03T11:06:04.290Z"
   },
   {
    "duration": 132,
    "start_time": "2021-08-03T11:10:36.592Z"
   },
   {
    "duration": 108,
    "start_time": "2021-08-03T11:10:56.845Z"
   },
   {
    "duration": 450,
    "start_time": "2021-08-03T11:13:15.992Z"
   },
   {
    "duration": 389,
    "start_time": "2021-08-03T11:13:32.432Z"
   },
   {
    "duration": 15,
    "start_time": "2021-08-03T11:13:40.391Z"
   },
   {
    "duration": 20,
    "start_time": "2021-08-03T11:13:48.316Z"
   },
   {
    "duration": 408,
    "start_time": "2021-08-03T11:13:52.287Z"
   },
   {
    "duration": 8,
    "start_time": "2021-08-03T11:13:59.492Z"
   },
   {
    "duration": 34,
    "start_time": "2021-08-03T11:14:17.291Z"
   },
   {
    "duration": 13,
    "start_time": "2021-08-03T11:15:03.162Z"
   },
   {
    "duration": 34,
    "start_time": "2021-08-03T11:15:15.363Z"
   },
   {
    "duration": 21,
    "start_time": "2021-08-03T11:16:44.883Z"
   },
   {
    "duration": 34,
    "start_time": "2021-08-03T11:17:05.911Z"
   },
   {
    "duration": 328,
    "start_time": "2021-08-03T11:25:30.610Z"
   },
   {
    "duration": 823,
    "start_time": "2021-08-03T11:25:41.515Z"
   },
   {
    "duration": 663,
    "start_time": "2021-08-03T11:26:08.089Z"
   },
   {
    "duration": 882,
    "start_time": "2021-08-03T11:26:23.048Z"
   },
   {
    "duration": 735,
    "start_time": "2021-08-03T11:26:37.051Z"
   },
   {
    "duration": 716,
    "start_time": "2021-08-03T11:26:46.624Z"
   },
   {
    "duration": 778,
    "start_time": "2021-08-03T11:26:54.406Z"
   },
   {
    "duration": 738,
    "start_time": "2021-08-03T11:27:18.127Z"
   },
   {
    "duration": 755,
    "start_time": "2021-08-03T11:27:30.296Z"
   },
   {
    "duration": 725,
    "start_time": "2021-08-03T11:27:34.168Z"
   },
   {
    "duration": 665,
    "start_time": "2021-08-03T11:27:46.476Z"
   },
   {
    "duration": 8497,
    "start_time": "2021-08-03T11:42:05.305Z"
   },
   {
    "duration": 353,
    "start_time": "2021-08-03T11:46:47.768Z"
   },
   {
    "duration": 406,
    "start_time": "2021-08-03T11:47:11.174Z"
   },
   {
    "duration": 7,
    "start_time": "2021-08-03T11:47:49.647Z"
   },
   {
    "duration": 7,
    "start_time": "2021-08-03T11:48:11.561Z"
   },
   {
    "duration": 406,
    "start_time": "2021-08-03T11:50:33.922Z"
   },
   {
    "duration": 312,
    "start_time": "2021-08-03T11:51:00.822Z"
   },
   {
    "duration": 175,
    "start_time": "2021-08-03T11:53:03.777Z"
   },
   {
    "duration": 204,
    "start_time": "2021-08-03T11:53:30.929Z"
   },
   {
    "duration": 204,
    "start_time": "2021-08-03T11:53:53.732Z"
   },
   {
    "duration": 237,
    "start_time": "2021-08-03T11:55:20.979Z"
   },
   {
    "duration": 3405,
    "start_time": "2021-08-03T11:58:15.220Z"
   },
   {
    "duration": 3223,
    "start_time": "2021-08-03T11:58:32.314Z"
   },
   {
    "duration": 3326,
    "start_time": "2021-08-03T11:59:16.012Z"
   },
   {
    "duration": 3328,
    "start_time": "2021-08-03T12:00:06.029Z"
   },
   {
    "duration": 3518,
    "start_time": "2021-08-03T12:01:28.976Z"
   },
   {
    "duration": 3360,
    "start_time": "2021-08-03T12:02:00.940Z"
   },
   {
    "duration": 3567,
    "start_time": "2021-08-03T12:04:05.532Z"
   },
   {
    "duration": 3220,
    "start_time": "2021-08-03T12:04:15.709Z"
   },
   {
    "duration": 3216,
    "start_time": "2021-08-03T12:05:07.182Z"
   },
   {
    "duration": 1531,
    "start_time": "2021-08-03T12:19:47.081Z"
   },
   {
    "duration": 18,
    "start_time": "2021-08-03T12:19:48.615Z"
   },
   {
    "duration": 47,
    "start_time": "2021-08-03T12:19:48.637Z"
   },
   {
    "duration": 20,
    "start_time": "2021-08-03T12:19:48.688Z"
   },
   {
    "duration": 17,
    "start_time": "2021-08-03T12:19:48.711Z"
   },
   {
    "duration": 62,
    "start_time": "2021-08-03T12:19:48.731Z"
   },
   {
    "duration": 27,
    "start_time": "2021-08-03T12:19:48.796Z"
   },
   {
    "duration": 9,
    "start_time": "2021-08-03T12:19:48.829Z"
   },
   {
    "duration": 66,
    "start_time": "2021-08-03T12:19:48.842Z"
   },
   {
    "duration": 28,
    "start_time": "2021-08-03T12:19:48.911Z"
   },
   {
    "duration": 46,
    "start_time": "2021-08-03T12:19:48.942Z"
   },
   {
    "duration": 7609,
    "start_time": "2021-08-03T12:19:48.990Z"
   },
   {
    "duration": 29,
    "start_time": "2021-08-03T12:19:56.601Z"
   },
   {
    "duration": 27,
    "start_time": "2021-08-03T12:19:56.632Z"
   },
   {
    "duration": 25,
    "start_time": "2021-08-03T12:19:56.662Z"
   },
   {
    "duration": 24,
    "start_time": "2021-08-03T12:19:56.689Z"
   },
   {
    "duration": 10,
    "start_time": "2021-08-03T12:19:56.715Z"
   },
   {
    "duration": 23,
    "start_time": "2021-08-03T12:19:56.728Z"
   },
   {
    "duration": 31,
    "start_time": "2021-08-03T12:19:56.754Z"
   },
   {
    "duration": 16,
    "start_time": "2021-08-03T12:19:56.788Z"
   },
   {
    "duration": 34,
    "start_time": "2021-08-03T12:19:56.807Z"
   },
   {
    "duration": 45,
    "start_time": "2021-08-03T12:19:56.843Z"
   },
   {
    "duration": 15,
    "start_time": "2021-08-03T12:19:56.893Z"
   },
   {
    "duration": 16,
    "start_time": "2021-08-03T12:19:56.911Z"
   },
   {
    "duration": 34,
    "start_time": "2021-08-03T12:19:56.929Z"
   },
   {
    "duration": 14,
    "start_time": "2021-08-03T12:19:56.983Z"
   },
   {
    "duration": 24,
    "start_time": "2021-08-03T12:19:57.000Z"
   },
   {
    "duration": 644,
    "start_time": "2021-08-03T12:19:57.027Z"
   },
   {
    "duration": 24,
    "start_time": "2021-08-03T12:19:57.674Z"
   },
   {
    "duration": 3216,
    "start_time": "2021-08-03T12:19:57.700Z"
   },
   {
    "duration": 410,
    "start_time": "2021-08-04T04:44:45.960Z"
   },
   {
    "duration": 1601,
    "start_time": "2021-08-04T04:44:54.024Z"
   },
   {
    "duration": 18,
    "start_time": "2021-08-04T04:44:55.628Z"
   },
   {
    "duration": 33,
    "start_time": "2021-08-04T04:44:55.649Z"
   },
   {
    "duration": 20,
    "start_time": "2021-08-04T04:44:55.685Z"
   },
   {
    "duration": 16,
    "start_time": "2021-08-04T04:44:55.707Z"
   },
   {
    "duration": 60,
    "start_time": "2021-08-04T04:44:55.725Z"
   },
   {
    "duration": 26,
    "start_time": "2021-08-04T04:44:55.787Z"
   },
   {
    "duration": 9,
    "start_time": "2021-08-04T04:44:55.817Z"
   },
   {
    "duration": 60,
    "start_time": "2021-08-04T04:44:55.830Z"
   },
   {
    "duration": 29,
    "start_time": "2021-08-04T04:44:55.893Z"
   },
   {
    "duration": 50,
    "start_time": "2021-08-04T04:44:55.924Z"
   },
   {
    "duration": 8196,
    "start_time": "2021-08-04T04:44:55.977Z"
   },
   {
    "duration": 32,
    "start_time": "2021-08-04T04:45:04.175Z"
   },
   {
    "duration": 27,
    "start_time": "2021-08-04T04:45:04.210Z"
   },
   {
    "duration": 37,
    "start_time": "2021-08-04T04:45:04.240Z"
   },
   {
    "duration": 14,
    "start_time": "2021-08-04T04:45:04.280Z"
   },
   {
    "duration": 14,
    "start_time": "2021-08-04T04:45:04.297Z"
   },
   {
    "duration": 68,
    "start_time": "2021-08-04T04:45:04.314Z"
   },
   {
    "duration": 10,
    "start_time": "2021-08-04T04:45:04.385Z"
   },
   {
    "duration": 16,
    "start_time": "2021-08-04T04:45:04.398Z"
   },
   {
    "duration": 67,
    "start_time": "2021-08-04T04:45:04.417Z"
   },
   {
    "duration": 20,
    "start_time": "2021-08-04T04:45:04.487Z"
   },
   {
    "duration": 12,
    "start_time": "2021-08-04T04:45:04.513Z"
   },
   {
    "duration": 43,
    "start_time": "2021-08-04T04:45:04.528Z"
   },
   {
    "duration": 34,
    "start_time": "2021-08-04T04:45:04.573Z"
   },
   {
    "duration": 13,
    "start_time": "2021-08-04T04:45:04.609Z"
   },
   {
    "duration": 51,
    "start_time": "2021-08-04T04:45:04.625Z"
   },
   {
    "duration": 674,
    "start_time": "2021-08-04T04:45:04.678Z"
   },
   {
    "duration": 31,
    "start_time": "2021-08-04T04:45:05.355Z"
   },
   {
    "duration": 3550,
    "start_time": "2021-08-04T04:45:05.388Z"
   },
   {
    "duration": 37,
    "start_time": "2021-08-04T04:45:08.940Z"
   },
   {
    "duration": 38,
    "start_time": "2021-08-04T04:45:47.722Z"
   },
   {
    "duration": 13,
    "start_time": "2021-08-04T04:54:53.499Z"
   },
   {
    "duration": 19,
    "start_time": "2021-08-04T04:54:59.820Z"
   },
   {
    "duration": 117,
    "start_time": "2021-08-04T04:55:29.702Z"
   },
   {
    "duration": 20,
    "start_time": "2021-08-04T04:55:36.320Z"
   },
   {
    "duration": 25,
    "start_time": "2021-08-04T04:59:11.297Z"
   },
   {
    "duration": 26,
    "start_time": "2021-08-04T04:59:25.495Z"
   },
   {
    "duration": 422,
    "start_time": "2021-08-04T04:59:43.214Z"
   },
   {
    "duration": 24,
    "start_time": "2021-08-04T04:59:59.352Z"
   },
   {
    "duration": 25,
    "start_time": "2021-08-04T05:07:46.513Z"
   },
   {
    "duration": 24,
    "start_time": "2021-08-04T05:08:52.872Z"
   },
   {
    "duration": 2863,
    "start_time": "2021-08-04T05:15:08.495Z"
   },
   {
    "duration": 583,
    "start_time": "2021-08-04T05:30:26.202Z"
   },
   {
    "duration": 619,
    "start_time": "2021-08-04T05:30:52.884Z"
   },
   {
    "duration": 476,
    "start_time": "2021-08-04T05:31:12.175Z"
   },
   {
    "duration": 544,
    "start_time": "2021-08-04T05:32:05.441Z"
   },
   {
    "duration": 542,
    "start_time": "2021-08-04T05:32:57.088Z"
   },
   {
    "duration": 538,
    "start_time": "2021-08-04T05:34:47.047Z"
   },
   {
    "duration": 137,
    "start_time": "2021-08-04T05:34:57.789Z"
   },
   {
    "duration": 411,
    "start_time": "2021-08-04T05:35:19.611Z"
   },
   {
    "duration": 915,
    "start_time": "2021-08-04T05:35:28.675Z"
   },
   {
    "duration": 834,
    "start_time": "2021-08-04T05:36:58.208Z"
   },
   {
    "duration": 340,
    "start_time": "2021-08-04T05:37:23.590Z"
   },
   {
    "duration": 1127,
    "start_time": "2021-08-04T05:37:31.828Z"
   },
   {
    "duration": 1506,
    "start_time": "2021-08-04T05:39:57.866Z"
   },
   {
    "duration": 795,
    "start_time": "2021-08-04T05:40:16.683Z"
   },
   {
    "duration": 938,
    "start_time": "2021-08-04T05:40:39.661Z"
   },
   {
    "duration": 933,
    "start_time": "2021-08-04T05:41:00.602Z"
   },
   {
    "duration": 357,
    "start_time": "2021-08-04T05:47:34.285Z"
   },
   {
    "duration": 33,
    "start_time": "2021-08-04T05:47:41.336Z"
   },
   {
    "duration": 801,
    "start_time": "2021-08-04T05:50:42.777Z"
   },
   {
    "duration": 802,
    "start_time": "2021-08-04T05:51:27.322Z"
   },
   {
    "duration": 7,
    "start_time": "2021-08-04T06:02:34.491Z"
   },
   {
    "duration": 16,
    "start_time": "2021-08-04T06:02:39.783Z"
   },
   {
    "duration": 36,
    "start_time": "2021-08-04T06:02:51.325Z"
   },
   {
    "duration": 37,
    "start_time": "2021-08-04T06:03:23.292Z"
   },
   {
    "duration": 39,
    "start_time": "2021-08-04T06:03:39.800Z"
   },
   {
    "duration": 38,
    "start_time": "2021-08-04T06:04:03.579Z"
   },
   {
    "duration": 39,
    "start_time": "2021-08-04T06:04:29.856Z"
   },
   {
    "duration": 39,
    "start_time": "2021-08-04T06:04:50.545Z"
   },
   {
    "duration": 1045,
    "start_time": "2021-08-04T06:17:32.031Z"
   },
   {
    "duration": 98,
    "start_time": "2021-08-04T06:20:06.633Z"
   },
   {
    "duration": 860,
    "start_time": "2021-08-04T06:20:17.490Z"
   },
   {
    "duration": 857,
    "start_time": "2021-08-04T06:21:48.436Z"
   },
   {
    "duration": 820,
    "start_time": "2021-08-04T06:22:20.901Z"
   },
   {
    "duration": 923,
    "start_time": "2021-08-04T06:22:43.727Z"
   },
   {
    "duration": 1037,
    "start_time": "2021-08-04T06:22:52.097Z"
   },
   {
    "duration": 880,
    "start_time": "2021-08-04T06:29:21.019Z"
   },
   {
    "duration": 13,
    "start_time": "2021-08-04T06:39:55.236Z"
   },
   {
    "duration": 1074,
    "start_time": "2021-08-04T06:43:20.245Z"
   },
   {
    "duration": 1124,
    "start_time": "2021-08-04T06:43:33.650Z"
   },
   {
    "duration": 1136,
    "start_time": "2021-08-04T06:44:04.368Z"
   },
   {
    "duration": 1136,
    "start_time": "2021-08-04T06:44:20.504Z"
   },
   {
    "duration": 952,
    "start_time": "2021-08-04T06:45:50.961Z"
   },
   {
    "duration": 1162,
    "start_time": "2021-08-04T06:46:00.633Z"
   },
   {
    "duration": 1050,
    "start_time": "2021-08-04T06:47:51.087Z"
   },
   {
    "duration": 1054,
    "start_time": "2021-08-04T06:48:11.065Z"
   },
   {
    "duration": 1368,
    "start_time": "2021-08-04T06:49:16.244Z"
   },
   {
    "duration": 25,
    "start_time": "2021-08-04T06:59:38.644Z"
   },
   {
    "duration": 881,
    "start_time": "2021-08-04T07:05:12.392Z"
   },
   {
    "duration": 24,
    "start_time": "2021-08-04T07:33:43.172Z"
   },
   {
    "duration": 17,
    "start_time": "2021-08-04T07:35:28.864Z"
   },
   {
    "duration": 28,
    "start_time": "2021-08-04T07:35:40.085Z"
   },
   {
    "duration": 31,
    "start_time": "2021-08-04T07:36:33.485Z"
   },
   {
    "duration": 30,
    "start_time": "2021-08-04T07:50:38.340Z"
   },
   {
    "duration": 29,
    "start_time": "2021-08-04T07:53:05.090Z"
   },
   {
    "duration": 30,
    "start_time": "2021-08-04T07:54:07.035Z"
   },
   {
    "duration": 9215,
    "start_time": "2021-08-04T07:56:42.037Z"
   },
   {
    "duration": 106,
    "start_time": "2021-08-04T07:57:08.123Z"
   },
   {
    "duration": 30,
    "start_time": "2021-08-04T07:57:18.679Z"
   },
   {
    "duration": 365,
    "start_time": "2021-08-04T07:58:30.656Z"
   },
   {
    "duration": 38,
    "start_time": "2021-08-04T07:58:39.954Z"
   },
   {
    "duration": 49,
    "start_time": "2021-08-04T07:58:56.110Z"
   },
   {
    "duration": 1037,
    "start_time": "2021-08-04T08:09:44.696Z"
   },
   {
    "duration": 16,
    "start_time": "2021-08-04T08:11:15.612Z"
   },
   {
    "duration": 24,
    "start_time": "2021-08-04T08:11:25.763Z"
   },
   {
    "duration": 6,
    "start_time": "2021-08-04T08:16:02.836Z"
   },
   {
    "duration": 14,
    "start_time": "2021-08-04T08:16:04.949Z"
   },
   {
    "duration": 73,
    "start_time": "2021-08-04T08:17:32.048Z"
   },
   {
    "duration": 45,
    "start_time": "2021-08-04T08:17:32.124Z"
   },
   {
    "duration": 25,
    "start_time": "2021-08-04T08:17:32.173Z"
   },
   {
    "duration": 37,
    "start_time": "2021-08-04T08:17:32.201Z"
   },
   {
    "duration": 41,
    "start_time": "2021-08-04T08:17:32.240Z"
   },
   {
    "duration": 22,
    "start_time": "2021-08-04T08:17:32.284Z"
   },
   {
    "duration": 25,
    "start_time": "2021-08-04T08:17:32.309Z"
   },
   {
    "duration": 10,
    "start_time": "2021-08-04T08:17:32.370Z"
   },
   {
    "duration": 31,
    "start_time": "2021-08-04T08:17:32.383Z"
   },
   {
    "duration": 60,
    "start_time": "2021-08-04T08:17:32.418Z"
   },
   {
    "duration": 20,
    "start_time": "2021-08-04T08:17:32.481Z"
   },
   {
    "duration": 8330,
    "start_time": "2021-08-04T08:17:32.504Z"
   },
   {
    "duration": 34,
    "start_time": "2021-08-04T08:17:40.836Z"
   },
   {
    "duration": 28,
    "start_time": "2021-08-04T08:17:40.872Z"
   },
   {
    "duration": 11,
    "start_time": "2021-08-04T08:17:40.902Z"
   },
   {
    "duration": 12,
    "start_time": "2021-08-04T08:17:40.915Z"
   },
   {
    "duration": 46,
    "start_time": "2021-08-04T08:17:40.930Z"
   },
   {
    "duration": 25,
    "start_time": "2021-08-04T08:17:40.978Z"
   },
   {
    "duration": 8,
    "start_time": "2021-08-04T08:17:41.005Z"
   },
   {
    "duration": 53,
    "start_time": "2021-08-04T08:17:41.016Z"
   },
   {
    "duration": 39,
    "start_time": "2021-08-04T08:17:41.072Z"
   },
   {
    "duration": 17,
    "start_time": "2021-08-04T08:17:41.114Z"
   },
   {
    "duration": 43,
    "start_time": "2021-08-04T08:17:41.137Z"
   },
   {
    "duration": 10,
    "start_time": "2021-08-04T08:17:41.183Z"
   },
   {
    "duration": 35,
    "start_time": "2021-08-04T08:17:41.195Z"
   },
   {
    "duration": 35,
    "start_time": "2021-08-04T08:17:41.232Z"
   },
   {
    "duration": 15,
    "start_time": "2021-08-04T08:17:41.269Z"
   },
   {
    "duration": 22,
    "start_time": "2021-08-04T08:17:41.287Z"
   },
   {
    "duration": 910,
    "start_time": "2021-08-04T08:17:41.311Z"
   },
   {
    "duration": 22,
    "start_time": "2021-08-04T08:17:42.224Z"
   },
   {
    "duration": 7256,
    "start_time": "2021-08-04T08:17:42.249Z"
   },
   {
    "duration": 36,
    "start_time": "2021-08-04T08:17:49.508Z"
   },
   {
    "duration": 41,
    "start_time": "2021-08-04T08:17:49.547Z"
   },
   {
    "duration": 6654,
    "start_time": "2021-08-04T08:17:49.590Z"
   },
   {
    "duration": 854,
    "start_time": "2021-08-04T08:17:56.247Z"
   },
   {
    "duration": 26,
    "start_time": "2021-08-04T08:17:57.104Z"
   },
   {
    "duration": 834,
    "start_time": "2021-08-04T08:17:57.133Z"
   },
   {
    "duration": 39,
    "start_time": "2021-08-04T08:17:57.969Z"
   },
   {
    "duration": 1015,
    "start_time": "2021-08-04T08:17:58.010Z"
   },
   {
    "duration": 912,
    "start_time": "2021-08-04T08:17:59.028Z"
   },
   {
    "duration": 1126,
    "start_time": "2021-08-04T08:17:59.943Z"
   },
   {
    "duration": 24,
    "start_time": "2021-08-04T08:18:01.072Z"
   },
   {
    "duration": 998,
    "start_time": "2021-08-04T08:18:01.098Z"
   },
   {
    "duration": 30,
    "start_time": "2021-08-04T08:18:02.099Z"
   },
   {
    "duration": 64,
    "start_time": "2021-08-04T08:18:02.132Z"
   },
   {
    "duration": 28,
    "start_time": "2021-08-04T08:18:02.199Z"
   },
   {
    "duration": 28,
    "start_time": "2021-08-04T08:18:50.642Z"
   },
   {
    "duration": 688,
    "start_time": "2021-08-04T08:20:10.991Z"
   },
   {
    "duration": 1038,
    "start_time": "2021-08-04T08:20:18.802Z"
   },
   {
    "duration": 358,
    "start_time": "2021-08-04T08:20:57.919Z"
   },
   {
    "duration": 421,
    "start_time": "2021-08-04T16:32:59.469Z"
   },
   {
    "duration": 291,
    "start_time": "2021-08-04T16:35:33.071Z"
   },
   {
    "duration": 709,
    "start_time": "2021-08-04T16:35:52.298Z"
   },
   {
    "duration": 379,
    "start_time": "2021-08-04T16:46:31.761Z"
   },
   {
    "duration": 817,
    "start_time": "2021-08-04T16:46:40.352Z"
   },
   {
    "duration": 358,
    "start_time": "2021-08-04T16:52:13.700Z"
   },
   {
    "duration": 1027,
    "start_time": "2021-08-04T16:52:43.917Z"
   },
   {
    "duration": 825,
    "start_time": "2021-08-04T16:53:10.263Z"
   },
   {
    "duration": 1071,
    "start_time": "2021-08-04T16:53:29.554Z"
   },
   {
    "duration": 1357,
    "start_time": "2021-08-04T16:53:37.499Z"
   },
   {
    "duration": 1560,
    "start_time": "2021-08-04T16:54:10.792Z"
   },
   {
    "duration": 1387,
    "start_time": "2021-08-04T16:54:47.472Z"
   },
   {
    "duration": 4362,
    "start_time": "2021-08-04T17:01:37.054Z"
   },
   {
    "duration": 3898,
    "start_time": "2021-08-04T17:02:09.912Z"
   },
   {
    "duration": 4009,
    "start_time": "2021-08-04T17:02:32.249Z"
   },
   {
    "duration": 73,
    "start_time": "2021-08-04T17:03:05.443Z"
   },
   {
    "duration": 53,
    "start_time": "2021-08-04T17:03:05.520Z"
   },
   {
    "duration": 31,
    "start_time": "2021-08-04T17:03:05.578Z"
   },
   {
    "duration": 72,
    "start_time": "2021-08-04T17:03:05.613Z"
   },
   {
    "duration": 26,
    "start_time": "2021-08-04T17:03:05.688Z"
   },
   {
    "duration": 58,
    "start_time": "2021-08-04T17:03:05.717Z"
   },
   {
    "duration": 42,
    "start_time": "2021-08-04T17:03:05.778Z"
   },
   {
    "duration": 40,
    "start_time": "2021-08-04T17:03:05.827Z"
   },
   {
    "duration": 30,
    "start_time": "2021-08-04T17:03:05.870Z"
   },
   {
    "duration": 29,
    "start_time": "2021-08-04T17:03:05.902Z"
   },
   {
    "duration": 49,
    "start_time": "2021-08-04T17:03:05.933Z"
   },
   {
    "duration": 8757,
    "start_time": "2021-08-04T17:03:05.984Z"
   },
   {
    "duration": 39,
    "start_time": "2021-08-04T17:03:14.744Z"
   },
   {
    "duration": 27,
    "start_time": "2021-08-04T17:03:14.786Z"
   },
   {
    "duration": 11,
    "start_time": "2021-08-04T17:03:14.816Z"
   },
   {
    "duration": 46,
    "start_time": "2021-08-04T17:03:14.830Z"
   },
   {
    "duration": 11,
    "start_time": "2021-08-04T17:03:14.879Z"
   },
   {
    "duration": 34,
    "start_time": "2021-08-04T17:03:14.893Z"
   },
   {
    "duration": 39,
    "start_time": "2021-08-04T17:03:14.930Z"
   },
   {
    "duration": 12,
    "start_time": "2021-08-04T17:03:14.972Z"
   },
   {
    "duration": 60,
    "start_time": "2021-08-04T17:03:14.987Z"
   },
   {
    "duration": 28,
    "start_time": "2021-08-04T17:03:15.066Z"
   },
   {
    "duration": 27,
    "start_time": "2021-08-04T17:03:15.103Z"
   },
   {
    "duration": 40,
    "start_time": "2021-08-04T17:03:15.133Z"
   },
   {
    "duration": 35,
    "start_time": "2021-08-04T17:03:15.176Z"
   },
   {
    "duration": 6,
    "start_time": "2021-08-04T17:03:15.213Z"
   },
   {
    "duration": 47,
    "start_time": "2021-08-04T17:03:15.222Z"
   },
   {
    "duration": 23,
    "start_time": "2021-08-04T17:03:15.271Z"
   },
   {
    "duration": 924,
    "start_time": "2021-08-04T17:03:15.298Z"
   },
   {
    "duration": 21,
    "start_time": "2021-08-04T17:03:16.224Z"
   },
   {
    "duration": 5103,
    "start_time": "2021-08-04T17:03:16.267Z"
   },
   {
    "duration": 36,
    "start_time": "2021-08-04T17:03:21.373Z"
   },
   {
    "duration": 26,
    "start_time": "2021-08-04T17:03:21.411Z"
   },
   {
    "duration": 6835,
    "start_time": "2021-08-04T17:03:21.468Z"
   },
   {
    "duration": 831,
    "start_time": "2021-08-04T17:03:28.305Z"
   },
   {
    "duration": 36,
    "start_time": "2021-08-04T17:03:29.139Z"
   },
   {
    "duration": 811,
    "start_time": "2021-08-04T17:03:29.177Z"
   },
   {
    "duration": 40,
    "start_time": "2021-08-04T17:03:29.990Z"
   },
   {
    "duration": 1073,
    "start_time": "2021-08-04T17:03:30.033Z"
   },
   {
    "duration": 998,
    "start_time": "2021-08-04T17:03:31.109Z"
   },
   {
    "duration": 1134,
    "start_time": "2021-08-04T17:03:32.110Z"
   },
   {
    "duration": 34,
    "start_time": "2021-08-04T17:03:33.247Z"
   },
   {
    "duration": 898,
    "start_time": "2021-08-04T17:03:33.284Z"
   },
   {
    "duration": 28,
    "start_time": "2021-08-04T17:03:34.184Z"
   },
   {
    "duration": 62,
    "start_time": "2021-08-04T17:03:34.214Z"
   },
   {
    "duration": 30,
    "start_time": "2021-08-04T17:03:34.278Z"
   },
   {
    "duration": 1109,
    "start_time": "2021-08-04T17:04:38.804Z"
   },
   {
    "duration": 3303,
    "start_time": "2021-08-04T17:04:47.434Z"
   },
   {
    "duration": 718,
    "start_time": "2021-08-04T17:07:16.477Z"
   },
   {
    "duration": 553,
    "start_time": "2021-08-04T17:07:26.691Z"
   },
   {
    "duration": 703,
    "start_time": "2021-08-04T17:07:33.027Z"
   },
   {
    "duration": 563,
    "start_time": "2021-08-04T17:07:44.678Z"
   },
   {
    "duration": 598,
    "start_time": "2021-08-04T17:07:49.824Z"
   },
   {
    "duration": 319,
    "start_time": "2021-08-05T05:08:29.383Z"
   },
   {
    "duration": 1587,
    "start_time": "2021-08-05T05:08:36.471Z"
   },
   {
    "duration": 20,
    "start_time": "2021-08-05T05:08:38.061Z"
   },
   {
    "duration": 30,
    "start_time": "2021-08-05T05:08:38.083Z"
   },
   {
    "duration": 35,
    "start_time": "2021-08-05T05:08:38.116Z"
   },
   {
    "duration": 17,
    "start_time": "2021-08-05T05:08:38.153Z"
   },
   {
    "duration": 47,
    "start_time": "2021-08-05T05:08:38.172Z"
   },
   {
    "duration": 27,
    "start_time": "2021-08-05T05:08:38.222Z"
   },
   {
    "duration": 10,
    "start_time": "2021-08-05T05:08:38.253Z"
   },
   {
    "duration": 33,
    "start_time": "2021-08-05T05:08:38.300Z"
   },
   {
    "duration": 36,
    "start_time": "2021-08-05T05:08:38.336Z"
   },
   {
    "duration": 41,
    "start_time": "2021-08-05T05:08:38.374Z"
   },
   {
    "duration": 7813,
    "start_time": "2021-08-05T05:08:38.417Z"
   },
   {
    "duration": 29,
    "start_time": "2021-08-05T05:08:46.232Z"
   },
   {
    "duration": 46,
    "start_time": "2021-08-05T05:08:46.264Z"
   },
   {
    "duration": 9,
    "start_time": "2021-08-05T05:08:46.312Z"
   },
   {
    "duration": 12,
    "start_time": "2021-08-05T05:08:46.324Z"
   },
   {
    "duration": 11,
    "start_time": "2021-08-05T05:08:46.339Z"
   },
   {
    "duration": 63,
    "start_time": "2021-08-05T05:08:46.352Z"
   },
   {
    "duration": 8,
    "start_time": "2021-08-05T05:08:46.417Z"
   },
   {
    "duration": 14,
    "start_time": "2021-08-05T05:08:46.427Z"
   },
   {
    "duration": 58,
    "start_time": "2021-08-05T05:08:46.444Z"
   },
   {
    "duration": 18,
    "start_time": "2021-08-05T05:08:46.504Z"
   },
   {
    "duration": 13,
    "start_time": "2021-08-05T05:08:46.527Z"
   },
   {
    "duration": 9,
    "start_time": "2021-08-05T05:08:46.544Z"
   },
   {
    "duration": 71,
    "start_time": "2021-08-05T05:08:46.555Z"
   },
   {
    "duration": 6,
    "start_time": "2021-08-05T05:08:46.628Z"
   },
   {
    "duration": 17,
    "start_time": "2021-08-05T05:08:46.636Z"
   },
   {
    "duration": 49,
    "start_time": "2021-08-05T05:08:46.656Z"
   },
   {
    "duration": 649,
    "start_time": "2021-08-05T05:08:46.708Z"
   },
   {
    "duration": 21,
    "start_time": "2021-08-05T05:08:47.360Z"
   },
   {
    "duration": 3306,
    "start_time": "2021-08-05T05:08:47.384Z"
   },
   {
    "duration": 42,
    "start_time": "2021-08-05T05:08:50.692Z"
   },
   {
    "duration": 25,
    "start_time": "2021-08-05T05:08:50.737Z"
   },
   {
    "duration": 2826,
    "start_time": "2021-08-05T05:08:50.764Z"
   },
   {
    "duration": 932,
    "start_time": "2021-08-05T05:08:53.592Z"
   },
   {
    "duration": 23,
    "start_time": "2021-08-05T05:08:54.527Z"
   },
   {
    "duration": 800,
    "start_time": "2021-08-05T05:08:54.553Z"
   },
   {
    "duration": 58,
    "start_time": "2021-08-05T05:08:55.356Z"
   },
   {
    "duration": 545,
    "start_time": "2021-08-05T05:08:55.416Z"
   },
   {
    "duration": 599,
    "start_time": "2021-08-05T05:08:55.963Z"
   },
   {
    "duration": 1066,
    "start_time": "2021-08-05T05:08:56.566Z"
   },
   {
    "duration": 25,
    "start_time": "2021-08-05T05:08:57.635Z"
   },
   {
    "duration": 867,
    "start_time": "2021-08-05T05:08:57.663Z"
   },
   {
    "duration": 28,
    "start_time": "2021-08-05T05:08:58.533Z"
   },
   {
    "duration": 59,
    "start_time": "2021-08-05T05:08:58.564Z"
   },
   {
    "duration": 25,
    "start_time": "2021-08-05T05:08:58.625Z"
   },
   {
    "duration": 62,
    "start_time": "2021-08-05T05:08:58.652Z"
   },
   {
    "duration": 24,
    "start_time": "2021-08-05T05:09:41.998Z"
   },
   {
    "duration": 37,
    "start_time": "2021-08-05T05:09:51.363Z"
   },
   {
    "duration": 37,
    "start_time": "2021-08-05T05:10:29.359Z"
   },
   {
    "duration": 491,
    "start_time": "2021-08-05T05:11:57.194Z"
   },
   {
    "duration": 576,
    "start_time": "2021-08-05T05:13:13.038Z"
   },
   {
    "duration": 498,
    "start_time": "2021-08-05T05:14:55.397Z"
   },
   {
    "duration": 9,
    "start_time": "2021-08-05T05:20:02.931Z"
   },
   {
    "duration": 10,
    "start_time": "2021-08-05T05:20:30.172Z"
   },
   {
    "duration": 8,
    "start_time": "2021-08-05T05:30:22.868Z"
   },
   {
    "duration": 11,
    "start_time": "2021-08-05T05:32:51.936Z"
   },
   {
    "duration": 10,
    "start_time": "2021-08-05T05:33:08.935Z"
   },
   {
    "duration": 10,
    "start_time": "2021-08-05T05:33:35.675Z"
   },
   {
    "duration": 9,
    "start_time": "2021-08-05T05:34:57.108Z"
   },
   {
    "duration": 10,
    "start_time": "2021-08-05T05:35:05.482Z"
   },
   {
    "duration": 7,
    "start_time": "2021-08-05T05:36:49.216Z"
   },
   {
    "duration": 9,
    "start_time": "2021-08-05T05:43:37.499Z"
   },
   {
    "duration": 15,
    "start_time": "2021-08-05T05:43:44.637Z"
   },
   {
    "duration": 39,
    "start_time": "2021-08-05T05:44:03.054Z"
   },
   {
    "duration": 39,
    "start_time": "2021-08-05T05:44:31.728Z"
   },
   {
    "duration": 601,
    "start_time": "2021-08-05T05:45:51.086Z"
   },
   {
    "duration": 12,
    "start_time": "2021-08-05T05:50:03.621Z"
   },
   {
    "duration": 7,
    "start_time": "2021-08-05T05:51:19.658Z"
   },
   {
    "duration": 11,
    "start_time": "2021-08-05T05:56:15.769Z"
   },
   {
    "duration": 7,
    "start_time": "2021-08-05T06:59:18.129Z"
   },
   {
    "duration": 1518,
    "start_time": "2021-08-05T07:02:48.712Z"
   },
   {
    "duration": 18,
    "start_time": "2021-08-05T07:02:50.232Z"
   },
   {
    "duration": 23,
    "start_time": "2021-08-05T07:02:50.253Z"
   },
   {
    "duration": 38,
    "start_time": "2021-08-05T07:02:50.279Z"
   },
   {
    "duration": 15,
    "start_time": "2021-08-05T07:02:50.319Z"
   },
   {
    "duration": 27,
    "start_time": "2021-08-05T07:02:50.336Z"
   },
   {
    "duration": 53,
    "start_time": "2021-08-05T07:02:50.365Z"
   },
   {
    "duration": 8,
    "start_time": "2021-08-05T07:02:50.422Z"
   },
   {
    "duration": 32,
    "start_time": "2021-08-05T07:02:50.433Z"
   },
   {
    "duration": 51,
    "start_time": "2021-08-05T07:02:50.467Z"
   },
   {
    "duration": 22,
    "start_time": "2021-08-05T07:02:50.520Z"
   },
   {
    "duration": 8062,
    "start_time": "2021-08-05T07:02:50.545Z"
   },
   {
    "duration": 28,
    "start_time": "2021-08-05T07:02:58.610Z"
   },
   {
    "duration": 23,
    "start_time": "2021-08-05T07:02:58.641Z"
   },
   {
    "duration": 34,
    "start_time": "2021-08-05T07:02:58.666Z"
   },
   {
    "duration": 12,
    "start_time": "2021-08-05T07:02:58.702Z"
   },
   {
    "duration": 10,
    "start_time": "2021-08-05T07:02:58.716Z"
   },
   {
    "duration": 24,
    "start_time": "2021-08-05T07:02:58.728Z"
   },
   {
    "duration": 46,
    "start_time": "2021-08-05T07:02:58.755Z"
   },
   {
    "duration": 13,
    "start_time": "2021-08-05T07:02:58.803Z"
   },
   {
    "duration": 36,
    "start_time": "2021-08-05T07:02:58.818Z"
   },
   {
    "duration": 44,
    "start_time": "2021-08-05T07:02:58.857Z"
   },
   {
    "duration": 15,
    "start_time": "2021-08-05T07:02:58.906Z"
   },
   {
    "duration": 10,
    "start_time": "2021-08-05T07:02:58.924Z"
   },
   {
    "duration": 65,
    "start_time": "2021-08-05T07:02:58.936Z"
   },
   {
    "duration": 6,
    "start_time": "2021-08-05T07:02:59.004Z"
   },
   {
    "duration": 18,
    "start_time": "2021-08-05T07:02:59.012Z"
   },
   {
    "duration": 21,
    "start_time": "2021-08-05T07:02:59.033Z"
   },
   {
    "duration": 675,
    "start_time": "2021-08-05T07:02:59.057Z"
   },
   {
    "duration": 22,
    "start_time": "2021-08-05T07:02:59.735Z"
   },
   {
    "duration": 3269,
    "start_time": "2021-08-05T07:02:59.759Z"
   },
   {
    "duration": 34,
    "start_time": "2021-08-05T07:03:03.031Z"
   },
   {
    "duration": 44,
    "start_time": "2021-08-05T07:03:03.067Z"
   },
   {
    "duration": 2718,
    "start_time": "2021-08-05T07:03:03.114Z"
   },
   {
    "duration": 914,
    "start_time": "2021-08-05T07:03:05.835Z"
   },
   {
    "duration": 23,
    "start_time": "2021-08-05T07:03:06.752Z"
   },
   {
    "duration": 805,
    "start_time": "2021-08-05T07:03:06.777Z"
   },
   {
    "duration": 50,
    "start_time": "2021-08-05T07:03:07.584Z"
   },
   {
    "duration": 571,
    "start_time": "2021-08-05T07:03:07.636Z"
   },
   {
    "duration": 588,
    "start_time": "2021-08-05T07:03:08.209Z"
   },
   {
    "duration": 1075,
    "start_time": "2021-08-05T07:03:08.801Z"
   },
   {
    "duration": 37,
    "start_time": "2021-08-05T07:03:09.878Z"
   },
   {
    "duration": 884,
    "start_time": "2021-08-05T07:03:09.918Z"
   },
   {
    "duration": 29,
    "start_time": "2021-08-05T07:03:10.804Z"
   },
   {
    "duration": 37,
    "start_time": "2021-08-05T07:03:10.835Z"
   },
   {
    "duration": 29,
    "start_time": "2021-08-05T07:03:10.902Z"
   },
   {
    "duration": 36,
    "start_time": "2021-08-05T07:03:10.933Z"
   },
   {
    "duration": 62,
    "start_time": "2021-08-05T07:03:10.972Z"
   },
   {
    "duration": 521,
    "start_time": "2021-08-05T07:03:11.036Z"
   },
   {
    "duration": 9,
    "start_time": "2021-08-05T07:03:11.560Z"
   },
   {
    "duration": 31,
    "start_time": "2021-08-05T07:03:11.572Z"
   },
   {
    "duration": 42,
    "start_time": "2021-08-05T07:03:11.606Z"
   },
   {
    "duration": 57,
    "start_time": "2021-08-05T07:03:11.650Z"
   },
   {
    "duration": 608,
    "start_time": "2021-08-05T07:03:11.709Z"
   },
   {
    "duration": 12,
    "start_time": "2021-08-05T07:03:12.320Z"
   },
   {
    "duration": 12,
    "start_time": "2021-08-05T07:03:12.335Z"
   },
   {
    "duration": 1577,
    "start_time": "2021-08-05T10:01:10.221Z"
   },
   {
    "duration": 18,
    "start_time": "2021-08-05T10:01:11.802Z"
   },
   {
    "duration": 22,
    "start_time": "2021-08-05T10:01:11.823Z"
   },
   {
    "duration": 48,
    "start_time": "2021-08-05T10:01:11.847Z"
   },
   {
    "duration": 15,
    "start_time": "2021-08-05T10:01:11.897Z"
   },
   {
    "duration": 23,
    "start_time": "2021-08-05T10:01:11.914Z"
   },
   {
    "duration": 55,
    "start_time": "2021-08-05T10:01:11.940Z"
   },
   {
    "duration": 9,
    "start_time": "2021-08-05T10:01:11.999Z"
   },
   {
    "duration": 36,
    "start_time": "2021-08-05T10:01:12.011Z"
   },
   {
    "duration": 55,
    "start_time": "2021-08-05T10:01:12.051Z"
   },
   {
    "duration": 22,
    "start_time": "2021-08-05T10:01:12.109Z"
   },
   {
    "duration": 7622,
    "start_time": "2021-08-05T10:01:12.133Z"
   },
   {
    "duration": 38,
    "start_time": "2021-08-05T10:01:19.758Z"
   },
   {
    "duration": 29,
    "start_time": "2021-08-05T10:01:19.798Z"
   },
   {
    "duration": 9,
    "start_time": "2021-08-05T10:01:19.829Z"
   },
   {
    "duration": 10,
    "start_time": "2021-08-05T10:01:19.840Z"
   },
   {
    "duration": 33,
    "start_time": "2021-08-05T10:01:19.853Z"
   },
   {
    "duration": 22,
    "start_time": "2021-08-05T10:01:19.888Z"
   },
   {
    "duration": 8,
    "start_time": "2021-08-05T10:01:19.912Z"
   },
   {
    "duration": 13,
    "start_time": "2021-08-05T10:01:19.922Z"
   },
   {
    "duration": 65,
    "start_time": "2021-08-05T10:01:19.937Z"
   },
   {
    "duration": 19,
    "start_time": "2021-08-05T10:01:20.004Z"
   },
   {
    "duration": 14,
    "start_time": "2021-08-05T10:01:20.029Z"
   },
   {
    "duration": 39,
    "start_time": "2021-08-05T10:01:20.046Z"
   },
   {
    "duration": 37,
    "start_time": "2021-08-05T10:01:20.087Z"
   },
   {
    "duration": 6,
    "start_time": "2021-08-05T10:01:20.126Z"
   },
   {
    "duration": 20,
    "start_time": "2021-08-05T10:01:20.135Z"
   },
   {
    "duration": 44,
    "start_time": "2021-08-05T10:01:20.157Z"
   },
   {
    "duration": 616,
    "start_time": "2021-08-05T10:01:20.204Z"
   },
   {
    "duration": 20,
    "start_time": "2021-08-05T10:01:20.823Z"
   },
   {
    "duration": 3201,
    "start_time": "2021-08-05T10:01:20.846Z"
   },
   {
    "duration": 47,
    "start_time": "2021-08-05T10:01:24.049Z"
   },
   {
    "duration": 23,
    "start_time": "2021-08-05T10:01:24.098Z"
   },
   {
    "duration": 2622,
    "start_time": "2021-08-05T10:01:24.123Z"
   },
   {
    "duration": 866,
    "start_time": "2021-08-05T10:01:26.748Z"
   },
   {
    "duration": 22,
    "start_time": "2021-08-05T10:01:27.617Z"
   },
   {
    "duration": 775,
    "start_time": "2021-08-05T10:01:27.642Z"
   },
   {
    "duration": 36,
    "start_time": "2021-08-05T10:01:28.420Z"
   },
   {
    "duration": 560,
    "start_time": "2021-08-05T10:01:28.459Z"
   },
   {
    "duration": 508,
    "start_time": "2021-08-05T10:01:29.022Z"
   },
   {
    "duration": 1025,
    "start_time": "2021-08-05T10:01:29.533Z"
   },
   {
    "duration": 39,
    "start_time": "2021-08-05T10:01:30.560Z"
   },
   {
    "duration": 795,
    "start_time": "2021-08-05T10:01:30.602Z"
   },
   {
    "duration": 27,
    "start_time": "2021-08-05T10:01:31.399Z"
   },
   {
    "duration": 59,
    "start_time": "2021-08-05T10:01:31.429Z"
   },
   {
    "duration": 26,
    "start_time": "2021-08-05T10:01:31.491Z"
   },
   {
    "duration": 62,
    "start_time": "2021-08-05T10:01:31.520Z"
   },
   {
    "duration": 39,
    "start_time": "2021-08-05T10:01:31.585Z"
   },
   {
    "duration": 511,
    "start_time": "2021-08-05T10:01:31.627Z"
   },
   {
    "duration": 8,
    "start_time": "2021-08-05T10:01:32.141Z"
   },
   {
    "duration": 16,
    "start_time": "2021-08-05T10:01:32.152Z"
   },
   {
    "duration": 36,
    "start_time": "2021-08-05T10:01:32.183Z"
   },
   {
    "duration": 60,
    "start_time": "2021-08-05T10:01:32.222Z"
   },
   {
    "duration": 550,
    "start_time": "2021-08-05T10:01:32.284Z"
   },
   {
    "duration": 9,
    "start_time": "2021-08-05T10:01:32.836Z"
   },
   {
    "duration": 20,
    "start_time": "2021-08-05T10:01:32.847Z"
   }
  ],
  "kernelspec": {
   "display_name": "Python 3",
   "language": "python",
   "name": "python3"
  },
  "language_info": {
   "codemirror_mode": {
    "name": "ipython",
    "version": 3
   },
   "file_extension": ".py",
   "mimetype": "text/x-python",
   "name": "python",
   "nbconvert_exporter": "python",
   "pygments_lexer": "ipython3",
   "version": "3.8.2"
  },
  "toc": {
   "base_numbering": 1,
   "nav_menu": {},
   "number_sections": true,
   "sideBar": true,
   "skip_h1_title": true,
   "title_cell": "Table of Contents",
   "title_sidebar": "Contents",
   "toc_cell": false,
   "toc_position": {},
   "toc_section_display": true,
   "toc_window_display": false
  }
 },
 "nbformat": 4,
 "nbformat_minor": 2
}
