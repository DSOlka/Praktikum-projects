{
 "cells": [
  {
   "cell_type": "markdown",
   "metadata": {},
   "source": [
    "# Исследование тарифных планов оператора сотовой связи\n",
    "\n",
    "**Цель проекта**: \n",
    "анализ поведения 500 пользователей оператора сотовой связи за 2018 год для выбора наиболее выгодного для компании тарифа. \n",
    "\n",
    "**Исходные данные**: \n",
    "Информация о пользователях:\n",
    "- user_id — уникальный идентификатор пользователя\n",
    "- first_name — имя пользователя\n",
    "- last_name — фамилия пользователя\n",
    "- age — возраст пользователя (годы)\n",
    "- reg_date — дата подключения тарифа (день, месяц, год)\n",
    "- churn_date — дата прекращения пользования тарифом (если значение пропущено, то тариф ещё действовал на момент выгрузки данных)\n",
    "- city — город проживания пользователя\n",
    "- tariff — название тарифного плана\n",
    "\n",
    "Информация о звонках:\n",
    "- id — уникальный номер звонка\n",
    "- call_date — дата звонка\n",
    "- duration — длительность звонка в минутах\n",
    "- user_id — идентификатор пользователя, сделавшего звонок\n",
    "\n",
    "Информация о сообщениях:\n",
    "- id — уникальный номер сообщения\n",
    "- message_date — дата сообщения\n",
    "- user_id — идентификатор пользователя, отправившего сообщение\n",
    "\n",
    "Информация об интернет-сессиях:\n",
    "- id — уникальный номер сессии\n",
    "- mb_used — объём потраченного за сессию интернет-трафика (в мегабайтах)\n",
    "- session_date — дата интернет-сессии\n",
    "- user_id — идентификатор пользователя\n",
    "\n",
    "Информация о тарифах:\n",
    "- tariff_name — название тарифа\n",
    "- rub_monthly_fee — ежемесячная абонентская плата в рублях\n",
    "- minutes_included — количество минут разговора в месяц, включённых в абонентскую плату\n",
    "- messages_included — количество сообщений в месяц, включённых в абонентскую плату\n",
    "- mb_per_month_included — объём интернет-трафика, включённого в абонентскую плату (в мегабайтах)\n",
    "- rub_per_minute — стоимость минуты разговора сверх тарифного пакета\n",
    "- rub_per_message — стоимость отправки сообщения сверх тарифного пакета\n",
    "- rub_per_gb — стоимость дополнительного гигабайта интернет-трафика сверх тарифного пакета\n",
    "\n",
    "**Основные этапы проекта**:\n",
    "- Изучение предоставленных данных\n",
    "- Очистка и предобработка данных\n",
    "- Предварительные расчёты:\n",
    "    - количества сделанных звонков и израсходованных минут разговора по месяцам\n",
    "    - количества отправленных сообщений по месяцам\n",
    "    - объема израсходованного интернет-трафика по месяцам\n",
    "    - помесячной выручки от каждого пользователя\n",
    "- Анализ данных:\n",
    "    - анализ основных статистических метрик в разрезе тарифов\n",
    "    - построение и анализ графиков распределения в разрезе тарифов\n",
    "    - проверка гипотез\n",
    "- Общий вывод и рекомендации\n"
   ]
  },
  {
   "cell_type": "markdown",
   "metadata": {},
   "source": [
    "## Изучение данных из файла"
   ]
  },
  {
   "cell_type": "markdown",
   "metadata": {},
   "source": [
    "Рассмотрим каждый из предоставленных файлов в отдельности.\n",
    "\n",
    "**Информация о звонках:**"
   ]
  },
  {
   "cell_type": "code",
   "execution_count": 1,
   "metadata": {},
   "outputs": [
    {
     "name": "stdout",
     "output_type": "stream",
     "text": [
      "<class 'pandas.core.frame.DataFrame'>\n",
      "RangeIndex: 202607 entries, 0 to 202606\n",
      "Data columns (total 4 columns):\n",
      "id           202607 non-null object\n",
      "call_date    202607 non-null object\n",
      "duration     202607 non-null float64\n",
      "user_id      202607 non-null int64\n",
      "dtypes: float64(1), int64(1), object(2)\n",
      "memory usage: 6.2+ MB\n",
      "None\n"
     ]
    },
    {
     "data": {
      "text/html": [
       "<div>\n",
       "<style scoped>\n",
       "    .dataframe tbody tr th:only-of-type {\n",
       "        vertical-align: middle;\n",
       "    }\n",
       "\n",
       "    .dataframe tbody tr th {\n",
       "        vertical-align: top;\n",
       "    }\n",
       "\n",
       "    .dataframe thead th {\n",
       "        text-align: right;\n",
       "    }\n",
       "</style>\n",
       "<table border=\"1\" class=\"dataframe\">\n",
       "  <thead>\n",
       "    <tr style=\"text-align: right;\">\n",
       "      <th></th>\n",
       "      <th>id</th>\n",
       "      <th>call_date</th>\n",
       "      <th>duration</th>\n",
       "      <th>user_id</th>\n",
       "    </tr>\n",
       "  </thead>\n",
       "  <tbody>\n",
       "    <tr>\n",
       "      <td>0</td>\n",
       "      <td>1000_0</td>\n",
       "      <td>2018-07-25</td>\n",
       "      <td>0.00</td>\n",
       "      <td>1000</td>\n",
       "    </tr>\n",
       "    <tr>\n",
       "      <td>1</td>\n",
       "      <td>1000_1</td>\n",
       "      <td>2018-08-17</td>\n",
       "      <td>0.00</td>\n",
       "      <td>1000</td>\n",
       "    </tr>\n",
       "    <tr>\n",
       "      <td>2</td>\n",
       "      <td>1000_2</td>\n",
       "      <td>2018-06-11</td>\n",
       "      <td>2.85</td>\n",
       "      <td>1000</td>\n",
       "    </tr>\n",
       "    <tr>\n",
       "      <td>3</td>\n",
       "      <td>1000_3</td>\n",
       "      <td>2018-09-21</td>\n",
       "      <td>13.80</td>\n",
       "      <td>1000</td>\n",
       "    </tr>\n",
       "    <tr>\n",
       "      <td>4</td>\n",
       "      <td>1000_4</td>\n",
       "      <td>2018-12-15</td>\n",
       "      <td>5.18</td>\n",
       "      <td>1000</td>\n",
       "    </tr>\n",
       "  </tbody>\n",
       "</table>\n",
       "</div>"
      ],
      "text/plain": [
       "       id   call_date  duration  user_id\n",
       "0  1000_0  2018-07-25      0.00     1000\n",
       "1  1000_1  2018-08-17      0.00     1000\n",
       "2  1000_2  2018-06-11      2.85     1000\n",
       "3  1000_3  2018-09-21     13.80     1000\n",
       "4  1000_4  2018-12-15      5.18     1000"
      ]
     },
     "execution_count": 1,
     "metadata": {},
     "output_type": "execute_result"
    }
   ],
   "source": [
    "import pandas as pd\n",
    "import matplotlib.pyplot as plt\n",
    "import seaborn as sns\n",
    "from scipy import stats as st\n",
    "import numpy as np\n",
    "from functools import reduce\n",
    "\n",
    "calls = pd.read_csv('/calls.csv')\n",
    "print(calls.info())\n",
    "calls.head()"
   ]
  },
  {
   "cell_type": "markdown",
   "metadata": {},
   "source": [
    "В таблице содержатся данные о 202 607 звонках, пропусков в данных нет.\n",
    "\n",
    "**Информация об интернет-сессиях:**"
   ]
  },
  {
   "cell_type": "code",
   "execution_count": 2,
   "metadata": {},
   "outputs": [
    {
     "name": "stdout",
     "output_type": "stream",
     "text": [
      "<class 'pandas.core.frame.DataFrame'>\n",
      "Int64Index: 149396 entries, 0 to 149395\n",
      "Data columns (total 4 columns):\n",
      "id              149396 non-null object\n",
      "mb_used         149396 non-null float64\n",
      "session_date    149396 non-null object\n",
      "user_id         149396 non-null int64\n",
      "dtypes: float64(1), int64(1), object(2)\n",
      "memory usage: 5.7+ MB\n",
      "None\n"
     ]
    },
    {
     "data": {
      "text/html": [
       "<div>\n",
       "<style scoped>\n",
       "    .dataframe tbody tr th:only-of-type {\n",
       "        vertical-align: middle;\n",
       "    }\n",
       "\n",
       "    .dataframe tbody tr th {\n",
       "        vertical-align: top;\n",
       "    }\n",
       "\n",
       "    .dataframe thead th {\n",
       "        text-align: right;\n",
       "    }\n",
       "</style>\n",
       "<table border=\"1\" class=\"dataframe\">\n",
       "  <thead>\n",
       "    <tr style=\"text-align: right;\">\n",
       "      <th></th>\n",
       "      <th>id</th>\n",
       "      <th>mb_used</th>\n",
       "      <th>session_date</th>\n",
       "      <th>user_id</th>\n",
       "    </tr>\n",
       "  </thead>\n",
       "  <tbody>\n",
       "    <tr>\n",
       "      <td>0</td>\n",
       "      <td>1000_0</td>\n",
       "      <td>112.95</td>\n",
       "      <td>2018-11-25</td>\n",
       "      <td>1000</td>\n",
       "    </tr>\n",
       "    <tr>\n",
       "      <td>1</td>\n",
       "      <td>1000_1</td>\n",
       "      <td>1052.81</td>\n",
       "      <td>2018-09-07</td>\n",
       "      <td>1000</td>\n",
       "    </tr>\n",
       "    <tr>\n",
       "      <td>2</td>\n",
       "      <td>1000_2</td>\n",
       "      <td>1197.26</td>\n",
       "      <td>2018-06-25</td>\n",
       "      <td>1000</td>\n",
       "    </tr>\n",
       "    <tr>\n",
       "      <td>3</td>\n",
       "      <td>1000_3</td>\n",
       "      <td>550.27</td>\n",
       "      <td>2018-08-22</td>\n",
       "      <td>1000</td>\n",
       "    </tr>\n",
       "    <tr>\n",
       "      <td>4</td>\n",
       "      <td>1000_4</td>\n",
       "      <td>302.56</td>\n",
       "      <td>2018-09-24</td>\n",
       "      <td>1000</td>\n",
       "    </tr>\n",
       "  </tbody>\n",
       "</table>\n",
       "</div>"
      ],
      "text/plain": [
       "       id  mb_used session_date  user_id\n",
       "0  1000_0   112.95   2018-11-25     1000\n",
       "1  1000_1  1052.81   2018-09-07     1000\n",
       "2  1000_2  1197.26   2018-06-25     1000\n",
       "3  1000_3   550.27   2018-08-22     1000\n",
       "4  1000_4   302.56   2018-09-24     1000"
      ]
     },
     "execution_count": 2,
     "metadata": {},
     "output_type": "execute_result"
    }
   ],
   "source": [
    "internet = pd.read_csv('/internet.csv', index_col=0)\n",
    "print(internet.info())\n",
    "internet.head()"
   ]
  },
  {
   "cell_type": "markdown",
   "metadata": {},
   "source": [
    "У нас есть данные о 149 396 интернет-сессиях, пропусков в данных нет."
   ]
  },
  {
   "cell_type": "markdown",
   "metadata": {},
   "source": [
    "**Информация о сообщениях:**"
   ]
  },
  {
   "cell_type": "code",
   "execution_count": 3,
   "metadata": {},
   "outputs": [
    {
     "name": "stdout",
     "output_type": "stream",
     "text": [
      "<class 'pandas.core.frame.DataFrame'>\n",
      "RangeIndex: 123036 entries, 0 to 123035\n",
      "Data columns (total 3 columns):\n",
      "id              123036 non-null object\n",
      "message_date    123036 non-null object\n",
      "user_id         123036 non-null int64\n",
      "dtypes: int64(1), object(2)\n",
      "memory usage: 2.8+ MB\n",
      "None\n"
     ]
    },
    {
     "data": {
      "text/html": [
       "<div>\n",
       "<style scoped>\n",
       "    .dataframe tbody tr th:only-of-type {\n",
       "        vertical-align: middle;\n",
       "    }\n",
       "\n",
       "    .dataframe tbody tr th {\n",
       "        vertical-align: top;\n",
       "    }\n",
       "\n",
       "    .dataframe thead th {\n",
       "        text-align: right;\n",
       "    }\n",
       "</style>\n",
       "<table border=\"1\" class=\"dataframe\">\n",
       "  <thead>\n",
       "    <tr style=\"text-align: right;\">\n",
       "      <th></th>\n",
       "      <th>id</th>\n",
       "      <th>message_date</th>\n",
       "      <th>user_id</th>\n",
       "    </tr>\n",
       "  </thead>\n",
       "  <tbody>\n",
       "    <tr>\n",
       "      <td>0</td>\n",
       "      <td>1000_0</td>\n",
       "      <td>2018-06-27</td>\n",
       "      <td>1000</td>\n",
       "    </tr>\n",
       "    <tr>\n",
       "      <td>1</td>\n",
       "      <td>1000_1</td>\n",
       "      <td>2018-10-08</td>\n",
       "      <td>1000</td>\n",
       "    </tr>\n",
       "    <tr>\n",
       "      <td>2</td>\n",
       "      <td>1000_2</td>\n",
       "      <td>2018-08-04</td>\n",
       "      <td>1000</td>\n",
       "    </tr>\n",
       "    <tr>\n",
       "      <td>3</td>\n",
       "      <td>1000_3</td>\n",
       "      <td>2018-06-16</td>\n",
       "      <td>1000</td>\n",
       "    </tr>\n",
       "    <tr>\n",
       "      <td>4</td>\n",
       "      <td>1000_4</td>\n",
       "      <td>2018-12-05</td>\n",
       "      <td>1000</td>\n",
       "    </tr>\n",
       "  </tbody>\n",
       "</table>\n",
       "</div>"
      ],
      "text/plain": [
       "       id message_date  user_id\n",
       "0  1000_0   2018-06-27     1000\n",
       "1  1000_1   2018-10-08     1000\n",
       "2  1000_2   2018-08-04     1000\n",
       "3  1000_3   2018-06-16     1000\n",
       "4  1000_4   2018-12-05     1000"
      ]
     },
     "execution_count": 3,
     "metadata": {},
     "output_type": "execute_result"
    }
   ],
   "source": [
    "messages = pd.read_csv('/messages.csv')\n",
    "print(messages.info())\n",
    "messages.head()"
   ]
  },
  {
   "cell_type": "markdown",
   "metadata": {},
   "source": [
    "В таблице содержатся данные о 123 036 сообщениях, пропусков в данных нет.\n",
    "\n",
    "**Информация о тарифах:**"
   ]
  },
  {
   "cell_type": "code",
   "execution_count": 4,
   "metadata": {},
   "outputs": [
    {
     "name": "stdout",
     "output_type": "stream",
     "text": [
      "<class 'pandas.core.frame.DataFrame'>\n",
      "RangeIndex: 2 entries, 0 to 1\n",
      "Data columns (total 8 columns):\n",
      "messages_included        2 non-null int64\n",
      "mb_per_month_included    2 non-null int64\n",
      "minutes_included         2 non-null int64\n",
      "rub_monthly_fee          2 non-null int64\n",
      "rub_per_gb               2 non-null int64\n",
      "rub_per_message          2 non-null int64\n",
      "rub_per_minute           2 non-null int64\n",
      "tariff_name              2 non-null object\n",
      "dtypes: int64(7), object(1)\n",
      "memory usage: 256.0+ bytes\n",
      "None\n"
     ]
    },
    {
     "data": {
      "text/html": [
       "<div>\n",
       "<style scoped>\n",
       "    .dataframe tbody tr th:only-of-type {\n",
       "        vertical-align: middle;\n",
       "    }\n",
       "\n",
       "    .dataframe tbody tr th {\n",
       "        vertical-align: top;\n",
       "    }\n",
       "\n",
       "    .dataframe thead th {\n",
       "        text-align: right;\n",
       "    }\n",
       "</style>\n",
       "<table border=\"1\" class=\"dataframe\">\n",
       "  <thead>\n",
       "    <tr style=\"text-align: right;\">\n",
       "      <th></th>\n",
       "      <th>messages_included</th>\n",
       "      <th>mb_per_month_included</th>\n",
       "      <th>minutes_included</th>\n",
       "      <th>rub_monthly_fee</th>\n",
       "      <th>rub_per_gb</th>\n",
       "      <th>rub_per_message</th>\n",
       "      <th>rub_per_minute</th>\n",
       "      <th>tariff_name</th>\n",
       "    </tr>\n",
       "  </thead>\n",
       "  <tbody>\n",
       "    <tr>\n",
       "      <td>0</td>\n",
       "      <td>50</td>\n",
       "      <td>15360</td>\n",
       "      <td>500</td>\n",
       "      <td>550</td>\n",
       "      <td>200</td>\n",
       "      <td>3</td>\n",
       "      <td>3</td>\n",
       "      <td>smart</td>\n",
       "    </tr>\n",
       "    <tr>\n",
       "      <td>1</td>\n",
       "      <td>1000</td>\n",
       "      <td>30720</td>\n",
       "      <td>3000</td>\n",
       "      <td>1950</td>\n",
       "      <td>150</td>\n",
       "      <td>1</td>\n",
       "      <td>1</td>\n",
       "      <td>ultra</td>\n",
       "    </tr>\n",
       "  </tbody>\n",
       "</table>\n",
       "</div>"
      ],
      "text/plain": [
       "   messages_included  mb_per_month_included  minutes_included  \\\n",
       "0                 50                  15360               500   \n",
       "1               1000                  30720              3000   \n",
       "\n",
       "   rub_monthly_fee  rub_per_gb  rub_per_message  rub_per_minute tariff_name  \n",
       "0              550         200                3               3       smart  \n",
       "1             1950         150                1               1       ultra  "
      ]
     },
     "execution_count": 4,
     "metadata": {},
     "output_type": "execute_result"
    }
   ],
   "source": [
    "tariffs = pd.read_csv('/tariffs.csv')\n",
    "print(tariffs.info())\n",
    "tariffs.head()"
   ]
  },
  {
   "cell_type": "markdown",
   "metadata": {},
   "source": [
    "Эта таблица представляет собой справочник с условиями двух тарифов, которые предстоит сравнивать."
   ]
  },
  {
   "cell_type": "markdown",
   "metadata": {},
   "source": [
    "**Информация о пользователях:**"
   ]
  },
  {
   "cell_type": "code",
   "execution_count": 5,
   "metadata": {},
   "outputs": [
    {
     "name": "stdout",
     "output_type": "stream",
     "text": [
      "<class 'pandas.core.frame.DataFrame'>\n",
      "RangeIndex: 500 entries, 0 to 499\n",
      "Data columns (total 8 columns):\n",
      "user_id       500 non-null int64\n",
      "age           500 non-null int64\n",
      "churn_date    38 non-null object\n",
      "city          500 non-null object\n",
      "first_name    500 non-null object\n",
      "last_name     500 non-null object\n",
      "reg_date      500 non-null object\n",
      "tariff        500 non-null object\n",
      "dtypes: int64(2), object(6)\n",
      "memory usage: 31.4+ KB\n",
      "None\n"
     ]
    },
    {
     "data": {
      "text/html": [
       "<div>\n",
       "<style scoped>\n",
       "    .dataframe tbody tr th:only-of-type {\n",
       "        vertical-align: middle;\n",
       "    }\n",
       "\n",
       "    .dataframe tbody tr th {\n",
       "        vertical-align: top;\n",
       "    }\n",
       "\n",
       "    .dataframe thead th {\n",
       "        text-align: right;\n",
       "    }\n",
       "</style>\n",
       "<table border=\"1\" class=\"dataframe\">\n",
       "  <thead>\n",
       "    <tr style=\"text-align: right;\">\n",
       "      <th></th>\n",
       "      <th>user_id</th>\n",
       "      <th>age</th>\n",
       "      <th>churn_date</th>\n",
       "      <th>city</th>\n",
       "      <th>first_name</th>\n",
       "      <th>last_name</th>\n",
       "      <th>reg_date</th>\n",
       "      <th>tariff</th>\n",
       "    </tr>\n",
       "  </thead>\n",
       "  <tbody>\n",
       "    <tr>\n",
       "      <td>0</td>\n",
       "      <td>1000</td>\n",
       "      <td>52</td>\n",
       "      <td>NaN</td>\n",
       "      <td>Краснодар</td>\n",
       "      <td>Рафаил</td>\n",
       "      <td>Верещагин</td>\n",
       "      <td>2018-05-25</td>\n",
       "      <td>ultra</td>\n",
       "    </tr>\n",
       "    <tr>\n",
       "      <td>1</td>\n",
       "      <td>1001</td>\n",
       "      <td>41</td>\n",
       "      <td>NaN</td>\n",
       "      <td>Москва</td>\n",
       "      <td>Иван</td>\n",
       "      <td>Ежов</td>\n",
       "      <td>2018-11-01</td>\n",
       "      <td>smart</td>\n",
       "    </tr>\n",
       "    <tr>\n",
       "      <td>2</td>\n",
       "      <td>1002</td>\n",
       "      <td>59</td>\n",
       "      <td>NaN</td>\n",
       "      <td>Стерлитамак</td>\n",
       "      <td>Евгений</td>\n",
       "      <td>Абрамович</td>\n",
       "      <td>2018-06-17</td>\n",
       "      <td>smart</td>\n",
       "    </tr>\n",
       "    <tr>\n",
       "      <td>3</td>\n",
       "      <td>1003</td>\n",
       "      <td>23</td>\n",
       "      <td>NaN</td>\n",
       "      <td>Москва</td>\n",
       "      <td>Белла</td>\n",
       "      <td>Белякова</td>\n",
       "      <td>2018-08-17</td>\n",
       "      <td>ultra</td>\n",
       "    </tr>\n",
       "    <tr>\n",
       "      <td>4</td>\n",
       "      <td>1004</td>\n",
       "      <td>68</td>\n",
       "      <td>NaN</td>\n",
       "      <td>Новокузнецк</td>\n",
       "      <td>Татьяна</td>\n",
       "      <td>Авдеенко</td>\n",
       "      <td>2018-05-14</td>\n",
       "      <td>ultra</td>\n",
       "    </tr>\n",
       "    <tr>\n",
       "      <td>...</td>\n",
       "      <td>...</td>\n",
       "      <td>...</td>\n",
       "      <td>...</td>\n",
       "      <td>...</td>\n",
       "      <td>...</td>\n",
       "      <td>...</td>\n",
       "      <td>...</td>\n",
       "      <td>...</td>\n",
       "    </tr>\n",
       "    <tr>\n",
       "      <td>495</td>\n",
       "      <td>1495</td>\n",
       "      <td>65</td>\n",
       "      <td>NaN</td>\n",
       "      <td>Иркутск</td>\n",
       "      <td>Авксентий</td>\n",
       "      <td>Фокин</td>\n",
       "      <td>2018-08-28</td>\n",
       "      <td>ultra</td>\n",
       "    </tr>\n",
       "    <tr>\n",
       "      <td>496</td>\n",
       "      <td>1496</td>\n",
       "      <td>36</td>\n",
       "      <td>NaN</td>\n",
       "      <td>Вологда</td>\n",
       "      <td>Трифон</td>\n",
       "      <td>Блохин</td>\n",
       "      <td>2018-01-27</td>\n",
       "      <td>smart</td>\n",
       "    </tr>\n",
       "    <tr>\n",
       "      <td>497</td>\n",
       "      <td>1497</td>\n",
       "      <td>32</td>\n",
       "      <td>NaN</td>\n",
       "      <td>Челябинск</td>\n",
       "      <td>Каролина</td>\n",
       "      <td>Агеева</td>\n",
       "      <td>2018-10-09</td>\n",
       "      <td>smart</td>\n",
       "    </tr>\n",
       "    <tr>\n",
       "      <td>498</td>\n",
       "      <td>1498</td>\n",
       "      <td>68</td>\n",
       "      <td>2018-10-25</td>\n",
       "      <td>Владикавказ</td>\n",
       "      <td>Всеволод</td>\n",
       "      <td>Акимчин</td>\n",
       "      <td>2018-07-19</td>\n",
       "      <td>smart</td>\n",
       "    </tr>\n",
       "    <tr>\n",
       "      <td>499</td>\n",
       "      <td>1499</td>\n",
       "      <td>35</td>\n",
       "      <td>NaN</td>\n",
       "      <td>Пермь</td>\n",
       "      <td>Гектор</td>\n",
       "      <td>Корнилов</td>\n",
       "      <td>2018-09-27</td>\n",
       "      <td>smart</td>\n",
       "    </tr>\n",
       "  </tbody>\n",
       "</table>\n",
       "<p>500 rows × 8 columns</p>\n",
       "</div>"
      ],
      "text/plain": [
       "     user_id  age  churn_date         city first_name  last_name    reg_date  \\\n",
       "0       1000   52         NaN    Краснодар     Рафаил  Верещагин  2018-05-25   \n",
       "1       1001   41         NaN       Москва       Иван       Ежов  2018-11-01   \n",
       "2       1002   59         NaN  Стерлитамак    Евгений  Абрамович  2018-06-17   \n",
       "3       1003   23         NaN       Москва      Белла   Белякова  2018-08-17   \n",
       "4       1004   68         NaN  Новокузнецк    Татьяна   Авдеенко  2018-05-14   \n",
       "..       ...  ...         ...          ...        ...        ...         ...   \n",
       "495     1495   65         NaN      Иркутск  Авксентий      Фокин  2018-08-28   \n",
       "496     1496   36         NaN      Вологда     Трифон     Блохин  2018-01-27   \n",
       "497     1497   32         NaN    Челябинск   Каролина     Агеева  2018-10-09   \n",
       "498     1498   68  2018-10-25  Владикавказ   Всеволод    Акимчин  2018-07-19   \n",
       "499     1499   35         NaN        Пермь     Гектор   Корнилов  2018-09-27   \n",
       "\n",
       "    tariff  \n",
       "0    ultra  \n",
       "1    smart  \n",
       "2    smart  \n",
       "3    ultra  \n",
       "4    ultra  \n",
       "..     ...  \n",
       "495  ultra  \n",
       "496  smart  \n",
       "497  smart  \n",
       "498  smart  \n",
       "499  smart  \n",
       "\n",
       "[500 rows x 8 columns]"
      ]
     },
     "execution_count": 5,
     "metadata": {},
     "output_type": "execute_result"
    }
   ],
   "source": [
    "users = pd.read_csv('/users.csv')\n",
    "print(users.info())\n",
    "users"
   ]
  },
  {
   "cell_type": "markdown",
   "metadata": {},
   "source": [
    "Эта таблица представляет собой справочник с данными по каждому клиенту. Пропуски в столбце 'churn_date' означают, что указанный тариф действовал на момент выгрузки. Избавляться от них не будем."
   ]
  },
  {
   "cell_type": "markdown",
   "metadata": {},
   "source": [
    "### Вывод"
   ]
  },
  {
   "cell_type": "markdown",
   "metadata": {},
   "source": [
    "У нас в распоряжении 5 таблиц с данными о звонках, сообщениях и интернет-сессиях клиентов, две таблицы представляют собой справочники с данными об условиях тарифов и данными клиентов. \n",
    "\n",
    "\n",
    "Пропусков, от которых необходимо избавиться, не обнаружено. \n",
    "В таблице с данными об интернет сессиях мы избавились от первого столбца, дублирующего индексы таблицы. \n",
    "В каждой таблице, содержащей столбец с датами, тип данных необходимо будет привести к типу datetime.  "
   ]
  },
  {
   "cell_type": "markdown",
   "metadata": {},
   "source": [
    "## Предобработка данных"
   ]
  },
  {
   "cell_type": "markdown",
   "metadata": {},
   "source": [
    "В каждой таблице рассмотрим подробнее столбцы и переведём данные о дате в формат datetime, а данные с идентификатором пользователя - в тип object (поскольку математические операции с этим столбцом нам не нужны). Поскольку для дальнейшего анализа нам понадобится только месяц, выделим его в отдельный столбец. \n",
    "\n",
    "**Информация о пользователях:**"
   ]
  },
  {
   "cell_type": "code",
   "execution_count": 6,
   "metadata": {},
   "outputs": [
    {
     "data": {
      "text/plain": [
       "1023    1\n",
       "1194    1\n",
       "1181    1\n",
       "1182    1\n",
       "1183    1\n",
       "       ..\n",
       "1362    1\n",
       "1363    1\n",
       "1364    1\n",
       "1365    1\n",
       "1024    1\n",
       "Name: user_id, Length: 500, dtype: int64"
      ]
     },
     "execution_count": 6,
     "metadata": {},
     "output_type": "execute_result"
    }
   ],
   "source": [
    "users['user_id'].value_counts()"
   ]
  },
  {
   "cell_type": "markdown",
   "metadata": {},
   "source": [
    "Мы убедились, что у нас в справочнике действительно информация о 500 уникальных пользователях. Переведём столбец с ID в текстовый формат, а информацию с датой регистрации - в формат datetime:"
   ]
  },
  {
   "cell_type": "code",
   "execution_count": 7,
   "metadata": {},
   "outputs": [
    {
     "name": "stdout",
     "output_type": "stream",
     "text": [
      "<class 'pandas.core.frame.DataFrame'>\n",
      "RangeIndex: 500 entries, 0 to 499\n",
      "Data columns (total 8 columns):\n",
      "user_id       500 non-null object\n",
      "age           500 non-null int64\n",
      "churn_date    38 non-null object\n",
      "city          500 non-null object\n",
      "first_name    500 non-null object\n",
      "last_name     500 non-null object\n",
      "reg_date      500 non-null datetime64[ns]\n",
      "tariff        500 non-null object\n",
      "dtypes: datetime64[ns](1), int64(1), object(6)\n",
      "memory usage: 31.4+ KB\n"
     ]
    }
   ],
   "source": [
    "users['reg_date'] = pd.to_datetime(users['reg_date'])\n",
    "users['user_id'] = users['user_id'].astype(str)\n",
    "users.info()"
   ]
  },
  {
   "cell_type": "markdown",
   "metadata": {},
   "source": [
    "**Информация о звонках:**"
   ]
  },
  {
   "cell_type": "code",
   "execution_count": 8,
   "metadata": {},
   "outputs": [
    {
     "data": {
      "text/plain": [
       "1377    1760\n",
       "1168    1692\n",
       "1375    1560\n",
       "1453    1440\n",
       "1196    1240\n",
       "        ... \n",
       "1397      33\n",
       "1442      28\n",
       "1373      24\n",
       "1016      20\n",
       "1257      14\n",
       "Name: user_id, Length: 492, dtype: int64"
      ]
     },
     "execution_count": 8,
     "metadata": {},
     "output_type": "execute_result"
    }
   ],
   "source": [
    "calls['user_id'].value_counts()"
   ]
  },
  {
   "cell_type": "markdown",
   "metadata": {},
   "source": [
    "У нас в таблице данные о 492 пользователях из 500. Видимо, не все пользователи совершали звонки в 2018 году. Причины могут быть разные: они уже не пользуются сим-картой нашего оператора, или же они зарегистрированы в самом конце года и не успели совершить ни одного звонка, или сим-карта используется в планшете, с которого звонки в принципе невозможны. Можно также отметить, что есть очень активные и неактивные пользователи: количество зафиксированных звонков колеблется от 14 до 1760.\n",
    "\n",
    "Проверим таблицу на явные дубликаты:"
   ]
  },
  {
   "cell_type": "code",
   "execution_count": 9,
   "metadata": {},
   "outputs": [
    {
     "data": {
      "text/plain": [
       "0"
      ]
     },
     "execution_count": 9,
     "metadata": {},
     "output_type": "execute_result"
    }
   ],
   "source": [
    "calls.duplicated().sum()"
   ]
  },
  {
   "cell_type": "markdown",
   "metadata": {},
   "source": [
    "С дубликатами проблем нет. \n",
    "\n",
    "Теперь изменим тип столбцов с датой и ID клиента:"
   ]
  },
  {
   "cell_type": "code",
   "execution_count": 10,
   "metadata": {
    "scrolled": true
   },
   "outputs": [
    {
     "data": {
      "text/html": [
       "<div>\n",
       "<style scoped>\n",
       "    .dataframe tbody tr th:only-of-type {\n",
       "        vertical-align: middle;\n",
       "    }\n",
       "\n",
       "    .dataframe tbody tr th {\n",
       "        vertical-align: top;\n",
       "    }\n",
       "\n",
       "    .dataframe thead th {\n",
       "        text-align: right;\n",
       "    }\n",
       "</style>\n",
       "<table border=\"1\" class=\"dataframe\">\n",
       "  <thead>\n",
       "    <tr style=\"text-align: right;\">\n",
       "      <th></th>\n",
       "      <th>id</th>\n",
       "      <th>call_date</th>\n",
       "      <th>duration</th>\n",
       "      <th>user_id</th>\n",
       "    </tr>\n",
       "  </thead>\n",
       "  <tbody>\n",
       "    <tr>\n",
       "      <td>0</td>\n",
       "      <td>1000_0</td>\n",
       "      <td>2018-07-25</td>\n",
       "      <td>0.00</td>\n",
       "      <td>1000</td>\n",
       "    </tr>\n",
       "    <tr>\n",
       "      <td>1</td>\n",
       "      <td>1000_1</td>\n",
       "      <td>2018-08-17</td>\n",
       "      <td>0.00</td>\n",
       "      <td>1000</td>\n",
       "    </tr>\n",
       "    <tr>\n",
       "      <td>2</td>\n",
       "      <td>1000_2</td>\n",
       "      <td>2018-06-11</td>\n",
       "      <td>2.85</td>\n",
       "      <td>1000</td>\n",
       "    </tr>\n",
       "    <tr>\n",
       "      <td>3</td>\n",
       "      <td>1000_3</td>\n",
       "      <td>2018-09-21</td>\n",
       "      <td>13.80</td>\n",
       "      <td>1000</td>\n",
       "    </tr>\n",
       "    <tr>\n",
       "      <td>4</td>\n",
       "      <td>1000_4</td>\n",
       "      <td>2018-12-15</td>\n",
       "      <td>5.18</td>\n",
       "      <td>1000</td>\n",
       "    </tr>\n",
       "  </tbody>\n",
       "</table>\n",
       "</div>"
      ],
      "text/plain": [
       "       id  call_date  duration user_id\n",
       "0  1000_0 2018-07-25      0.00    1000\n",
       "1  1000_1 2018-08-17      0.00    1000\n",
       "2  1000_2 2018-06-11      2.85    1000\n",
       "3  1000_3 2018-09-21     13.80    1000\n",
       "4  1000_4 2018-12-15      5.18    1000"
      ]
     },
     "execution_count": 10,
     "metadata": {},
     "output_type": "execute_result"
    }
   ],
   "source": [
    "calls['call_date'] = pd.to_datetime(calls['call_date'])\n",
    "calls['user_id'] = calls['user_id'].astype(str)\n",
    "calls.head()"
   ]
  },
  {
   "cell_type": "markdown",
   "metadata": {},
   "source": [
    "Рассмотрим подробнее столбец со временем звонка:"
   ]
  },
  {
   "cell_type": "code",
   "execution_count": 11,
   "metadata": {},
   "outputs": [
    {
     "data": {
      "text/plain": [
       "count    202607.000000\n",
       "mean          6.755887\n",
       "std           5.843365\n",
       "min           0.000000\n",
       "25%           1.300000\n",
       "50%           6.000000\n",
       "75%          10.700000\n",
       "max          38.000000\n",
       "Name: duration, dtype: float64"
      ]
     },
     "execution_count": 11,
     "metadata": {},
     "output_type": "execute_result"
    }
   ],
   "source": [
    "calls['duration'].describe()"
   ]
  },
  {
   "cell_type": "markdown",
   "metadata": {},
   "source": [
    "Среднее и медианное время звонка похожи: 6,75 и 6 минут соответственно. Минимальное время - 0 (не дозвонились), максимальное - 38 минут. \n",
    "\n",
    "Выделим строки с нулевым временем звонка:"
   ]
  },
  {
   "cell_type": "code",
   "execution_count": 12,
   "metadata": {},
   "outputs": [
    {
     "data": {
      "text/html": [
       "<div>\n",
       "<style scoped>\n",
       "    .dataframe tbody tr th:only-of-type {\n",
       "        vertical-align: middle;\n",
       "    }\n",
       "\n",
       "    .dataframe tbody tr th {\n",
       "        vertical-align: top;\n",
       "    }\n",
       "\n",
       "    .dataframe thead th {\n",
       "        text-align: right;\n",
       "    }\n",
       "</style>\n",
       "<table border=\"1\" class=\"dataframe\">\n",
       "  <thead>\n",
       "    <tr style=\"text-align: right;\">\n",
       "      <th></th>\n",
       "      <th>id</th>\n",
       "      <th>call_date</th>\n",
       "      <th>duration</th>\n",
       "      <th>user_id</th>\n",
       "    </tr>\n",
       "  </thead>\n",
       "  <tbody>\n",
       "    <tr>\n",
       "      <td>0</td>\n",
       "      <td>1000_0</td>\n",
       "      <td>2018-07-25</td>\n",
       "      <td>0.0</td>\n",
       "      <td>1000</td>\n",
       "    </tr>\n",
       "    <tr>\n",
       "      <td>1</td>\n",
       "      <td>1000_1</td>\n",
       "      <td>2018-08-17</td>\n",
       "      <td>0.0</td>\n",
       "      <td>1000</td>\n",
       "    </tr>\n",
       "    <tr>\n",
       "      <td>5</td>\n",
       "      <td>1000_5</td>\n",
       "      <td>2018-11-02</td>\n",
       "      <td>0.0</td>\n",
       "      <td>1000</td>\n",
       "    </tr>\n",
       "    <tr>\n",
       "      <td>6</td>\n",
       "      <td>1000_6</td>\n",
       "      <td>2018-10-18</td>\n",
       "      <td>0.0</td>\n",
       "      <td>1000</td>\n",
       "    </tr>\n",
       "    <tr>\n",
       "      <td>9</td>\n",
       "      <td>1000_9</td>\n",
       "      <td>2018-08-15</td>\n",
       "      <td>0.0</td>\n",
       "      <td>1000</td>\n",
       "    </tr>\n",
       "    <tr>\n",
       "      <td>...</td>\n",
       "      <td>...</td>\n",
       "      <td>...</td>\n",
       "      <td>...</td>\n",
       "      <td>...</td>\n",
       "    </tr>\n",
       "    <tr>\n",
       "      <td>202590</td>\n",
       "      <td>1499_203</td>\n",
       "      <td>2018-12-03</td>\n",
       "      <td>0.0</td>\n",
       "      <td>1499</td>\n",
       "    </tr>\n",
       "    <tr>\n",
       "      <td>202592</td>\n",
       "      <td>1499_205</td>\n",
       "      <td>2018-10-13</td>\n",
       "      <td>0.0</td>\n",
       "      <td>1499</td>\n",
       "    </tr>\n",
       "    <tr>\n",
       "      <td>202593</td>\n",
       "      <td>1499_206</td>\n",
       "      <td>2018-12-26</td>\n",
       "      <td>0.0</td>\n",
       "      <td>1499</td>\n",
       "    </tr>\n",
       "    <tr>\n",
       "      <td>202594</td>\n",
       "      <td>1499_207</td>\n",
       "      <td>2018-10-28</td>\n",
       "      <td>0.0</td>\n",
       "      <td>1499</td>\n",
       "    </tr>\n",
       "    <tr>\n",
       "      <td>202596</td>\n",
       "      <td>1499_209</td>\n",
       "      <td>2018-12-16</td>\n",
       "      <td>0.0</td>\n",
       "      <td>1499</td>\n",
       "    </tr>\n",
       "  </tbody>\n",
       "</table>\n",
       "<p>39613 rows × 4 columns</p>\n",
       "</div>"
      ],
      "text/plain": [
       "              id  call_date  duration user_id\n",
       "0         1000_0 2018-07-25       0.0    1000\n",
       "1         1000_1 2018-08-17       0.0    1000\n",
       "5         1000_5 2018-11-02       0.0    1000\n",
       "6         1000_6 2018-10-18       0.0    1000\n",
       "9         1000_9 2018-08-15       0.0    1000\n",
       "...          ...        ...       ...     ...\n",
       "202590  1499_203 2018-12-03       0.0    1499\n",
       "202592  1499_205 2018-10-13       0.0    1499\n",
       "202593  1499_206 2018-12-26       0.0    1499\n",
       "202594  1499_207 2018-10-28       0.0    1499\n",
       "202596  1499_209 2018-12-16       0.0    1499\n",
       "\n",
       "[39613 rows x 4 columns]"
      ]
     },
     "execution_count": 12,
     "metadata": {},
     "output_type": "execute_result"
    }
   ],
   "source": [
    "calls.query('duration == 0')"
   ]
  },
  {
   "cell_type": "markdown",
   "metadata": {},
   "source": [
    "Поскольку нас интересуют только те звонки, которые тарифицировались оператором, то есть приносили ему прибыль, удалим из рассмотрения все звонки с нулевой продолжительностью. Таких звонков 39 613 или 19,5%: "
   ]
  },
  {
   "cell_type": "code",
   "execution_count": 13,
   "metadata": {},
   "outputs": [
    {
     "name": "stdout",
     "output_type": "stream",
     "text": [
      "<class 'pandas.core.frame.DataFrame'>\n",
      "Int64Index: 162994 entries, 2 to 202606\n",
      "Data columns (total 4 columns):\n",
      "id           162994 non-null object\n",
      "call_date    162994 non-null datetime64[ns]\n",
      "duration     162994 non-null float64\n",
      "user_id      162994 non-null object\n",
      "dtypes: datetime64[ns](1), float64(1), object(2)\n",
      "memory usage: 6.2+ MB\n"
     ]
    }
   ],
   "source": [
    "calls = calls.query('duration > 0')\n",
    "calls.info()"
   ]
  },
  {
   "cell_type": "markdown",
   "metadata": {},
   "source": [
    "**Информация об интернет-сессиях:**"
   ]
  },
  {
   "cell_type": "code",
   "execution_count": 14,
   "metadata": {
    "scrolled": true
   },
   "outputs": [
    {
     "data": {
      "text/plain": [
       "1496    834\n",
       "1227    812\n",
       "1204    789\n",
       "1240    764\n",
       "1251    759\n",
       "       ... \n",
       "1151     35\n",
       "1467     27\n",
       "1343     26\n",
       "1192     22\n",
       "1399      8\n",
       "Name: user_id, Length: 497, dtype: int64"
      ]
     },
     "execution_count": 14,
     "metadata": {},
     "output_type": "execute_result"
    }
   ],
   "source": [
    "internet['user_id'].value_counts()"
   ]
  },
  {
   "cell_type": "markdown",
   "metadata": {},
   "source": [
    "3 пользователя из 500 не выходили в Интернет с использованием своей сим-карты."
   ]
  },
  {
   "cell_type": "code",
   "execution_count": 15,
   "metadata": {},
   "outputs": [
    {
     "data": {
      "text/plain": [
       "0"
      ]
     },
     "execution_count": 15,
     "metadata": {},
     "output_type": "execute_result"
    }
   ],
   "source": [
    "internet.duplicated().sum()"
   ]
  },
  {
   "cell_type": "markdown",
   "metadata": {},
   "source": [
    "С дубликатами проблем нет. \n",
    "\n",
    "Рассмотрим подробно столбец с данными о потреблённом трафике:"
   ]
  },
  {
   "cell_type": "code",
   "execution_count": 16,
   "metadata": {
    "scrolled": true
   },
   "outputs": [
    {
     "data": {
      "text/plain": [
       "count    149396.000000\n",
       "mean        370.192426\n",
       "std         278.300951\n",
       "min           0.000000\n",
       "25%         138.187500\n",
       "50%         348.015000\n",
       "75%         559.552500\n",
       "max        1724.830000\n",
       "Name: mb_used, dtype: float64"
      ]
     },
     "execution_count": 16,
     "metadata": {},
     "output_type": "execute_result"
    }
   ],
   "source": [
    "internet['mb_used'].describe()"
   ]
  },
  {
   "cell_type": "markdown",
   "metadata": {},
   "source": [
    "Среднее количество потреблённых за сессию Мб: 370, максимальное - 1724, минимальное - 0. Поскольку сессии с нулевым траффиком не будут участвовать в анализе, их можно удалить:"
   ]
  },
  {
   "cell_type": "code",
   "execution_count": 17,
   "metadata": {},
   "outputs": [
    {
     "data": {
      "text/html": [
       "<div>\n",
       "<style scoped>\n",
       "    .dataframe tbody tr th:only-of-type {\n",
       "        vertical-align: middle;\n",
       "    }\n",
       "\n",
       "    .dataframe tbody tr th {\n",
       "        vertical-align: top;\n",
       "    }\n",
       "\n",
       "    .dataframe thead th {\n",
       "        text-align: right;\n",
       "    }\n",
       "</style>\n",
       "<table border=\"1\" class=\"dataframe\">\n",
       "  <thead>\n",
       "    <tr style=\"text-align: right;\">\n",
       "      <th></th>\n",
       "      <th>id</th>\n",
       "      <th>mb_used</th>\n",
       "      <th>session_date</th>\n",
       "      <th>user_id</th>\n",
       "    </tr>\n",
       "  </thead>\n",
       "  <tbody>\n",
       "    <tr>\n",
       "      <td>11</td>\n",
       "      <td>1000_11</td>\n",
       "      <td>0.0</td>\n",
       "      <td>2018-08-28</td>\n",
       "      <td>1000</td>\n",
       "    </tr>\n",
       "    <tr>\n",
       "      <td>38</td>\n",
       "      <td>1000_38</td>\n",
       "      <td>0.0</td>\n",
       "      <td>2018-11-27</td>\n",
       "      <td>1000</td>\n",
       "    </tr>\n",
       "    <tr>\n",
       "      <td>46</td>\n",
       "      <td>1000_46</td>\n",
       "      <td>0.0</td>\n",
       "      <td>2018-06-30</td>\n",
       "      <td>1000</td>\n",
       "    </tr>\n",
       "    <tr>\n",
       "      <td>67</td>\n",
       "      <td>1000_67</td>\n",
       "      <td>0.0</td>\n",
       "      <td>2018-06-16</td>\n",
       "      <td>1000</td>\n",
       "    </tr>\n",
       "    <tr>\n",
       "      <td>72</td>\n",
       "      <td>1000_72</td>\n",
       "      <td>0.0</td>\n",
       "      <td>2018-06-15</td>\n",
       "      <td>1000</td>\n",
       "    </tr>\n",
       "    <tr>\n",
       "      <td>...</td>\n",
       "      <td>...</td>\n",
       "      <td>...</td>\n",
       "      <td>...</td>\n",
       "      <td>...</td>\n",
       "    </tr>\n",
       "    <tr>\n",
       "      <td>149380</td>\n",
       "      <td>1499_141</td>\n",
       "      <td>0.0</td>\n",
       "      <td>2018-12-11</td>\n",
       "      <td>1499</td>\n",
       "    </tr>\n",
       "    <tr>\n",
       "      <td>149381</td>\n",
       "      <td>1499_142</td>\n",
       "      <td>0.0</td>\n",
       "      <td>2018-11-01</td>\n",
       "      <td>1499</td>\n",
       "    </tr>\n",
       "    <tr>\n",
       "      <td>149383</td>\n",
       "      <td>1499_144</td>\n",
       "      <td>0.0</td>\n",
       "      <td>2018-11-27</td>\n",
       "      <td>1499</td>\n",
       "    </tr>\n",
       "    <tr>\n",
       "      <td>149386</td>\n",
       "      <td>1499_147</td>\n",
       "      <td>0.0</td>\n",
       "      <td>2018-10-21</td>\n",
       "      <td>1499</td>\n",
       "    </tr>\n",
       "    <tr>\n",
       "      <td>149393</td>\n",
       "      <td>1499_154</td>\n",
       "      <td>0.0</td>\n",
       "      <td>2018-10-27</td>\n",
       "      <td>1499</td>\n",
       "    </tr>\n",
       "  </tbody>\n",
       "</table>\n",
       "<p>19598 rows × 4 columns</p>\n",
       "</div>"
      ],
      "text/plain": [
       "              id  mb_used session_date  user_id\n",
       "11       1000_11      0.0   2018-08-28     1000\n",
       "38       1000_38      0.0   2018-11-27     1000\n",
       "46       1000_46      0.0   2018-06-30     1000\n",
       "67       1000_67      0.0   2018-06-16     1000\n",
       "72       1000_72      0.0   2018-06-15     1000\n",
       "...          ...      ...          ...      ...\n",
       "149380  1499_141      0.0   2018-12-11     1499\n",
       "149381  1499_142      0.0   2018-11-01     1499\n",
       "149383  1499_144      0.0   2018-11-27     1499\n",
       "149386  1499_147      0.0   2018-10-21     1499\n",
       "149393  1499_154      0.0   2018-10-27     1499\n",
       "\n",
       "[19598 rows x 4 columns]"
      ]
     },
     "execution_count": 17,
     "metadata": {},
     "output_type": "execute_result"
    }
   ],
   "source": [
    "internet.query('mb_used == 0')"
   ]
  },
  {
   "cell_type": "code",
   "execution_count": 18,
   "metadata": {},
   "outputs": [],
   "source": [
    "internet = internet.query('mb_used > 0')"
   ]
  },
  {
   "cell_type": "markdown",
   "metadata": {},
   "source": [
    "Изменим тип столбцов с датой и ID клиента:"
   ]
  },
  {
   "cell_type": "code",
   "execution_count": 19,
   "metadata": {},
   "outputs": [
    {
     "name": "stdout",
     "output_type": "stream",
     "text": [
      "<class 'pandas.core.frame.DataFrame'>\n",
      "Int64Index: 129798 entries, 0 to 149395\n",
      "Data columns (total 4 columns):\n",
      "id              129798 non-null object\n",
      "mb_used         129798 non-null float64\n",
      "session_date    129798 non-null datetime64[ns]\n",
      "user_id         129798 non-null object\n",
      "dtypes: datetime64[ns](1), float64(1), object(2)\n",
      "memory usage: 5.0+ MB\n"
     ]
    }
   ],
   "source": [
    "internet['session_date'] = pd.to_datetime(internet['session_date'])\n",
    "internet['user_id'] = internet['user_id'].astype(str)\n",
    "internet.info()"
   ]
  },
  {
   "cell_type": "markdown",
   "metadata": {},
   "source": [
    "**Информация о сообщениях:**"
   ]
  },
  {
   "cell_type": "markdown",
   "metadata": {},
   "source": [
    "Проверим на дубликаты:"
   ]
  },
  {
   "cell_type": "code",
   "execution_count": 20,
   "metadata": {},
   "outputs": [
    {
     "data": {
      "text/plain": [
       "0"
      ]
     },
     "execution_count": 20,
     "metadata": {},
     "output_type": "execute_result"
    }
   ],
   "source": [
    "messages.duplicated().sum()"
   ]
  },
  {
   "cell_type": "markdown",
   "metadata": {},
   "source": [
    "Изменим тип столбцов с датой и ID клиента:"
   ]
  },
  {
   "cell_type": "code",
   "execution_count": 21,
   "metadata": {},
   "outputs": [
    {
     "name": "stdout",
     "output_type": "stream",
     "text": [
      "<class 'pandas.core.frame.DataFrame'>\n",
      "Int64Index: 129798 entries, 0 to 149395\n",
      "Data columns (total 4 columns):\n",
      "id              129798 non-null object\n",
      "mb_used         129798 non-null float64\n",
      "session_date    129798 non-null datetime64[ns]\n",
      "user_id         129798 non-null object\n",
      "dtypes: datetime64[ns](1), float64(1), object(2)\n",
      "memory usage: 5.0+ MB\n"
     ]
    }
   ],
   "source": [
    "messages['message_date'] = pd.to_datetime(messages['message_date'])\n",
    "messages['user_id'] = messages['user_id'].astype(str)\n",
    "internet.info()"
   ]
  },
  {
   "cell_type": "code",
   "execution_count": 22,
   "metadata": {
    "scrolled": true
   },
   "outputs": [
    {
     "data": {
      "text/plain": [
       "1277    1463\n",
       "1089    1408\n",
       "1231    1384\n",
       "1385    1380\n",
       "1356    1224\n",
       "        ... \n",
       "1389       6\n",
       "1279       5\n",
       "1074       3\n",
       "1159       2\n",
       "1141       1\n",
       "Name: user_id, Length: 426, dtype: int64"
      ]
     },
     "execution_count": 22,
     "metadata": {},
     "output_type": "execute_result"
    }
   ],
   "source": [
    "messages['user_id'].value_counts()"
   ]
  },
  {
   "cell_type": "markdown",
   "metadata": {},
   "source": [
    "Если звонками и мобильным Интернетом пользуется подавляющее большинство клиентов, то сообщений не писали уже гораздо больше людей: 74 человека из 500. "
   ]
  },
  {
   "cell_type": "markdown",
   "metadata": {},
   "source": [
    "### Вывод"
   ]
  },
  {
   "cell_type": "markdown",
   "metadata": {},
   "source": [
    "Каких-то серьёзных проблем в предоставленных данных не было. В рамках предобработки:\n",
    "- убедились в отсутствии явных дубликатов в каждой таблице;\n",
    "- тип столбцов с датой изменили на datetime, тип столбцов с ID клиента - на строковый;\n",
    "- удалили нулевые значения в данных о звонках и интернет-сессиях, поскольку такие звонки и сессии в дальнейшем анализе не участвуют.\n",
    "\n",
    "Попутно обнаружили, что не все пользователи из рассмотренных 500 совершали звонки, пользовались мобильным Интернетом и писали сообщения. "
   ]
  },
  {
   "cell_type": "markdown",
   "metadata": {},
   "source": [
    "## Расчёты и добавление результатов в таблицу"
   ]
  },
  {
   "cell_type": "markdown",
   "metadata": {},
   "source": [
    "Выделим месяц совершения звонка в отдельный столбец для каждой таблицы:"
   ]
  },
  {
   "cell_type": "code",
   "execution_count": 23,
   "metadata": {},
   "outputs": [
    {
     "data": {
      "text/html": [
       "<div>\n",
       "<style scoped>\n",
       "    .dataframe tbody tr th:only-of-type {\n",
       "        vertical-align: middle;\n",
       "    }\n",
       "\n",
       "    .dataframe tbody tr th {\n",
       "        vertical-align: top;\n",
       "    }\n",
       "\n",
       "    .dataframe thead th {\n",
       "        text-align: right;\n",
       "    }\n",
       "</style>\n",
       "<table border=\"1\" class=\"dataframe\">\n",
       "  <thead>\n",
       "    <tr style=\"text-align: right;\">\n",
       "      <th></th>\n",
       "      <th>id</th>\n",
       "      <th>mb_used</th>\n",
       "      <th>session_date</th>\n",
       "      <th>user_id</th>\n",
       "      <th>month</th>\n",
       "    </tr>\n",
       "  </thead>\n",
       "  <tbody>\n",
       "    <tr>\n",
       "      <td>0</td>\n",
       "      <td>1000_0</td>\n",
       "      <td>112.95</td>\n",
       "      <td>2018-11-25</td>\n",
       "      <td>1000</td>\n",
       "      <td>11</td>\n",
       "    </tr>\n",
       "    <tr>\n",
       "      <td>1</td>\n",
       "      <td>1000_1</td>\n",
       "      <td>1052.81</td>\n",
       "      <td>2018-09-07</td>\n",
       "      <td>1000</td>\n",
       "      <td>9</td>\n",
       "    </tr>\n",
       "    <tr>\n",
       "      <td>2</td>\n",
       "      <td>1000_2</td>\n",
       "      <td>1197.26</td>\n",
       "      <td>2018-06-25</td>\n",
       "      <td>1000</td>\n",
       "      <td>6</td>\n",
       "    </tr>\n",
       "    <tr>\n",
       "      <td>3</td>\n",
       "      <td>1000_3</td>\n",
       "      <td>550.27</td>\n",
       "      <td>2018-08-22</td>\n",
       "      <td>1000</td>\n",
       "      <td>8</td>\n",
       "    </tr>\n",
       "    <tr>\n",
       "      <td>4</td>\n",
       "      <td>1000_4</td>\n",
       "      <td>302.56</td>\n",
       "      <td>2018-09-24</td>\n",
       "      <td>1000</td>\n",
       "      <td>9</td>\n",
       "    </tr>\n",
       "  </tbody>\n",
       "</table>\n",
       "</div>"
      ],
      "text/plain": [
       "       id  mb_used session_date user_id  month\n",
       "0  1000_0   112.95   2018-11-25    1000     11\n",
       "1  1000_1  1052.81   2018-09-07    1000      9\n",
       "2  1000_2  1197.26   2018-06-25    1000      6\n",
       "3  1000_3   550.27   2018-08-22    1000      8\n",
       "4  1000_4   302.56   2018-09-24    1000      9"
      ]
     },
     "metadata": {},
     "output_type": "display_data"
    },
    {
     "data": {
      "text/html": [
       "<div>\n",
       "<style scoped>\n",
       "    .dataframe tbody tr th:only-of-type {\n",
       "        vertical-align: middle;\n",
       "    }\n",
       "\n",
       "    .dataframe tbody tr th {\n",
       "        vertical-align: top;\n",
       "    }\n",
       "\n",
       "    .dataframe thead th {\n",
       "        text-align: right;\n",
       "    }\n",
       "</style>\n",
       "<table border=\"1\" class=\"dataframe\">\n",
       "  <thead>\n",
       "    <tr style=\"text-align: right;\">\n",
       "      <th></th>\n",
       "      <th>id</th>\n",
       "      <th>message_date</th>\n",
       "      <th>user_id</th>\n",
       "      <th>month</th>\n",
       "    </tr>\n",
       "  </thead>\n",
       "  <tbody>\n",
       "    <tr>\n",
       "      <td>0</td>\n",
       "      <td>1000_0</td>\n",
       "      <td>2018-06-27</td>\n",
       "      <td>1000</td>\n",
       "      <td>6</td>\n",
       "    </tr>\n",
       "    <tr>\n",
       "      <td>1</td>\n",
       "      <td>1000_1</td>\n",
       "      <td>2018-10-08</td>\n",
       "      <td>1000</td>\n",
       "      <td>10</td>\n",
       "    </tr>\n",
       "    <tr>\n",
       "      <td>2</td>\n",
       "      <td>1000_2</td>\n",
       "      <td>2018-08-04</td>\n",
       "      <td>1000</td>\n",
       "      <td>8</td>\n",
       "    </tr>\n",
       "    <tr>\n",
       "      <td>3</td>\n",
       "      <td>1000_3</td>\n",
       "      <td>2018-06-16</td>\n",
       "      <td>1000</td>\n",
       "      <td>6</td>\n",
       "    </tr>\n",
       "    <tr>\n",
       "      <td>4</td>\n",
       "      <td>1000_4</td>\n",
       "      <td>2018-12-05</td>\n",
       "      <td>1000</td>\n",
       "      <td>12</td>\n",
       "    </tr>\n",
       "  </tbody>\n",
       "</table>\n",
       "</div>"
      ],
      "text/plain": [
       "       id message_date user_id  month\n",
       "0  1000_0   2018-06-27    1000      6\n",
       "1  1000_1   2018-10-08    1000     10\n",
       "2  1000_2   2018-08-04    1000      8\n",
       "3  1000_3   2018-06-16    1000      6\n",
       "4  1000_4   2018-12-05    1000     12"
      ]
     },
     "metadata": {},
     "output_type": "display_data"
    }
   ],
   "source": [
    "calls['month'] = pd.DatetimeIndex(calls['call_date']).month              # звонки\n",
    "internet['month'] = pd.DatetimeIndex(internet['session_date']).month     # интернет-сессии\n",
    "messages['month'] = pd.DatetimeIndex(messages['message_date']).month     # сообщения\n",
    "\n",
    "display(internet.head())\n",
    "display(messages.head())"
   ]
  },
  {
   "cell_type": "markdown",
   "metadata": {},
   "source": [
    "Наш оператор всегда округляет секунды до минут. Поэтому для анализа нам понадобится стобец с длительностью звонка, округлённом в большую сторону до целого:"
   ]
  },
  {
   "cell_type": "code",
   "execution_count": 24,
   "metadata": {},
   "outputs": [
    {
     "data": {
      "text/html": [
       "<div>\n",
       "<style scoped>\n",
       "    .dataframe tbody tr th:only-of-type {\n",
       "        vertical-align: middle;\n",
       "    }\n",
       "\n",
       "    .dataframe tbody tr th {\n",
       "        vertical-align: top;\n",
       "    }\n",
       "\n",
       "    .dataframe thead th {\n",
       "        text-align: right;\n",
       "    }\n",
       "</style>\n",
       "<table border=\"1\" class=\"dataframe\">\n",
       "  <thead>\n",
       "    <tr style=\"text-align: right;\">\n",
       "      <th></th>\n",
       "      <th>id</th>\n",
       "      <th>call_date</th>\n",
       "      <th>duration</th>\n",
       "      <th>user_id</th>\n",
       "      <th>month</th>\n",
       "      <th>duration_minutes</th>\n",
       "    </tr>\n",
       "  </thead>\n",
       "  <tbody>\n",
       "    <tr>\n",
       "      <td>2</td>\n",
       "      <td>1000_2</td>\n",
       "      <td>2018-06-11</td>\n",
       "      <td>2.85</td>\n",
       "      <td>1000</td>\n",
       "      <td>6</td>\n",
       "      <td>3</td>\n",
       "    </tr>\n",
       "    <tr>\n",
       "      <td>3</td>\n",
       "      <td>1000_3</td>\n",
       "      <td>2018-09-21</td>\n",
       "      <td>13.80</td>\n",
       "      <td>1000</td>\n",
       "      <td>9</td>\n",
       "      <td>14</td>\n",
       "    </tr>\n",
       "    <tr>\n",
       "      <td>4</td>\n",
       "      <td>1000_4</td>\n",
       "      <td>2018-12-15</td>\n",
       "      <td>5.18</td>\n",
       "      <td>1000</td>\n",
       "      <td>12</td>\n",
       "      <td>6</td>\n",
       "    </tr>\n",
       "    <tr>\n",
       "      <td>7</td>\n",
       "      <td>1000_7</td>\n",
       "      <td>2018-08-22</td>\n",
       "      <td>18.31</td>\n",
       "      <td>1000</td>\n",
       "      <td>8</td>\n",
       "      <td>19</td>\n",
       "    </tr>\n",
       "    <tr>\n",
       "      <td>8</td>\n",
       "      <td>1000_8</td>\n",
       "      <td>2018-09-15</td>\n",
       "      <td>18.44</td>\n",
       "      <td>1000</td>\n",
       "      <td>9</td>\n",
       "      <td>19</td>\n",
       "    </tr>\n",
       "  </tbody>\n",
       "</table>\n",
       "</div>"
      ],
      "text/plain": [
       "       id  call_date  duration user_id  month  duration_minutes\n",
       "2  1000_2 2018-06-11      2.85    1000      6                 3\n",
       "3  1000_3 2018-09-21     13.80    1000      9                14\n",
       "4  1000_4 2018-12-15      5.18    1000     12                 6\n",
       "7  1000_7 2018-08-22     18.31    1000      8                19\n",
       "8  1000_8 2018-09-15     18.44    1000      9                19"
      ]
     },
     "execution_count": 24,
     "metadata": {},
     "output_type": "execute_result"
    }
   ],
   "source": [
    "calls['duration_minutes'] = np.ceil(calls['duration']).astype(int)\n",
    "calls.head()"
   ]
  },
  {
   "cell_type": "markdown",
   "metadata": {},
   "source": [
    "Теперь посчитаем количество сделанных звонков и израсходованных минут разговора по месяцам для каждого пользователя. Будем использовать округлённые до целых минут значения:"
   ]
  },
  {
   "cell_type": "code",
   "execution_count": 25,
   "metadata": {},
   "outputs": [
    {
     "data": {
      "text/html": [
       "<div>\n",
       "<style scoped>\n",
       "    .dataframe tbody tr th:only-of-type {\n",
       "        vertical-align: middle;\n",
       "    }\n",
       "\n",
       "    .dataframe tbody tr th {\n",
       "        vertical-align: top;\n",
       "    }\n",
       "\n",
       "    .dataframe thead th {\n",
       "        text-align: right;\n",
       "    }\n",
       "</style>\n",
       "<table border=\"1\" class=\"dataframe\">\n",
       "  <thead>\n",
       "    <tr style=\"text-align: right;\">\n",
       "      <th></th>\n",
       "      <th></th>\n",
       "      <th>duration_count</th>\n",
       "      <th>duration_sum</th>\n",
       "    </tr>\n",
       "    <tr>\n",
       "      <th>user_id</th>\n",
       "      <th>month</th>\n",
       "      <th></th>\n",
       "      <th></th>\n",
       "    </tr>\n",
       "  </thead>\n",
       "  <tbody>\n",
       "    <tr>\n",
       "      <td rowspan=\"8\" valign=\"top\">1000</td>\n",
       "      <td>5</td>\n",
       "      <td>17</td>\n",
       "      <td>159</td>\n",
       "    </tr>\n",
       "    <tr>\n",
       "      <td>6</td>\n",
       "      <td>28</td>\n",
       "      <td>172</td>\n",
       "    </tr>\n",
       "    <tr>\n",
       "      <td>7</td>\n",
       "      <td>41</td>\n",
       "      <td>340</td>\n",
       "    </tr>\n",
       "    <tr>\n",
       "      <td>8</td>\n",
       "      <td>42</td>\n",
       "      <td>408</td>\n",
       "    </tr>\n",
       "    <tr>\n",
       "      <td>9</td>\n",
       "      <td>46</td>\n",
       "      <td>466</td>\n",
       "    </tr>\n",
       "    <tr>\n",
       "      <td>10</td>\n",
       "      <td>44</td>\n",
       "      <td>350</td>\n",
       "    </tr>\n",
       "    <tr>\n",
       "      <td>11</td>\n",
       "      <td>37</td>\n",
       "      <td>338</td>\n",
       "    </tr>\n",
       "    <tr>\n",
       "      <td>12</td>\n",
       "      <td>38</td>\n",
       "      <td>333</td>\n",
       "    </tr>\n",
       "    <tr>\n",
       "      <td rowspan=\"2\" valign=\"top\">1001</td>\n",
       "      <td>11</td>\n",
       "      <td>45</td>\n",
       "      <td>430</td>\n",
       "    </tr>\n",
       "    <tr>\n",
       "      <td>12</td>\n",
       "      <td>47</td>\n",
       "      <td>414</td>\n",
       "    </tr>\n",
       "  </tbody>\n",
       "</table>\n",
       "</div>"
      ],
      "text/plain": [
       "               duration_count  duration_sum\n",
       "user_id month                              \n",
       "1000    5                  17           159\n",
       "        6                  28           172\n",
       "        7                  41           340\n",
       "        8                  42           408\n",
       "        9                  46           466\n",
       "        10                 44           350\n",
       "        11                 37           338\n",
       "        12                 38           333\n",
       "1001    11                 45           430\n",
       "        12                 47           414"
      ]
     },
     "execution_count": 25,
     "metadata": {},
     "output_type": "execute_result"
    }
   ],
   "source": [
    "calls_pivot = calls.pivot_table(index = ['user_id', 'month'], values = 'duration_minutes', aggfunc = ['count', 'sum'])\n",
    "calls_pivot.columns = ['duration_count', 'duration_sum']\n",
    "calls_pivot.head(10)                                                                      "
   ]
  },
  {
   "cell_type": "markdown",
   "metadata": {},
   "source": [
    "Посчитаем количество отправленных сообщений по месяцам для каждого пользователя:"
   ]
  },
  {
   "cell_type": "code",
   "execution_count": 26,
   "metadata": {},
   "outputs": [
    {
     "data": {
      "text/html": [
       "<div>\n",
       "<style scoped>\n",
       "    .dataframe tbody tr th:only-of-type {\n",
       "        vertical-align: middle;\n",
       "    }\n",
       "\n",
       "    .dataframe tbody tr th {\n",
       "        vertical-align: top;\n",
       "    }\n",
       "\n",
       "    .dataframe thead th {\n",
       "        text-align: right;\n",
       "    }\n",
       "</style>\n",
       "<table border=\"1\" class=\"dataframe\">\n",
       "  <thead>\n",
       "    <tr style=\"text-align: right;\">\n",
       "      <th></th>\n",
       "      <th></th>\n",
       "      <th>messages_count</th>\n",
       "    </tr>\n",
       "    <tr>\n",
       "      <th>user_id</th>\n",
       "      <th>month</th>\n",
       "      <th></th>\n",
       "    </tr>\n",
       "  </thead>\n",
       "  <tbody>\n",
       "    <tr>\n",
       "      <td rowspan=\"8\" valign=\"top\">1000</td>\n",
       "      <td>5</td>\n",
       "      <td>22</td>\n",
       "    </tr>\n",
       "    <tr>\n",
       "      <td>6</td>\n",
       "      <td>60</td>\n",
       "    </tr>\n",
       "    <tr>\n",
       "      <td>7</td>\n",
       "      <td>75</td>\n",
       "    </tr>\n",
       "    <tr>\n",
       "      <td>8</td>\n",
       "      <td>81</td>\n",
       "    </tr>\n",
       "    <tr>\n",
       "      <td>9</td>\n",
       "      <td>57</td>\n",
       "    </tr>\n",
       "    <tr>\n",
       "      <td>10</td>\n",
       "      <td>73</td>\n",
       "    </tr>\n",
       "    <tr>\n",
       "      <td>11</td>\n",
       "      <td>58</td>\n",
       "    </tr>\n",
       "    <tr>\n",
       "      <td>12</td>\n",
       "      <td>70</td>\n",
       "    </tr>\n",
       "    <tr>\n",
       "      <td rowspan=\"2\" valign=\"top\">1002</td>\n",
       "      <td>6</td>\n",
       "      <td>4</td>\n",
       "    </tr>\n",
       "    <tr>\n",
       "      <td>7</td>\n",
       "      <td>11</td>\n",
       "    </tr>\n",
       "  </tbody>\n",
       "</table>\n",
       "</div>"
      ],
      "text/plain": [
       "               messages_count\n",
       "user_id month                \n",
       "1000    5                  22\n",
       "        6                  60\n",
       "        7                  75\n",
       "        8                  81\n",
       "        9                  57\n",
       "        10                 73\n",
       "        11                 58\n",
       "        12                 70\n",
       "1002    6                   4\n",
       "        7                  11"
      ]
     },
     "execution_count": 26,
     "metadata": {},
     "output_type": "execute_result"
    }
   ],
   "source": [
    "messages_pivot = messages.pivot_table(index = ['user_id', 'month'], values = 'id', aggfunc = 'count')\n",
    "messages_pivot.columns = ['messages_count']\n",
    "messages_pivot.head(10)  "
   ]
  },
  {
   "cell_type": "markdown",
   "metadata": {},
   "source": [
    "Посчитаем объем израсходованного интернет-трафика по месяцам для каждого пользователя:"
   ]
  },
  {
   "cell_type": "code",
   "execution_count": 27,
   "metadata": {},
   "outputs": [
    {
     "data": {
      "text/html": [
       "<div>\n",
       "<style scoped>\n",
       "    .dataframe tbody tr th:only-of-type {\n",
       "        vertical-align: middle;\n",
       "    }\n",
       "\n",
       "    .dataframe tbody tr th {\n",
       "        vertical-align: top;\n",
       "    }\n",
       "\n",
       "    .dataframe thead th {\n",
       "        text-align: right;\n",
       "    }\n",
       "</style>\n",
       "<table border=\"1\" class=\"dataframe\">\n",
       "  <thead>\n",
       "    <tr style=\"text-align: right;\">\n",
       "      <th></th>\n",
       "      <th></th>\n",
       "      <th>mb_used_sum</th>\n",
       "    </tr>\n",
       "    <tr>\n",
       "      <th>user_id</th>\n",
       "      <th>month</th>\n",
       "      <th></th>\n",
       "    </tr>\n",
       "  </thead>\n",
       "  <tbody>\n",
       "    <tr>\n",
       "      <td rowspan=\"8\" valign=\"top\">1000</td>\n",
       "      <td>5</td>\n",
       "      <td>2253.49</td>\n",
       "    </tr>\n",
       "    <tr>\n",
       "      <td>6</td>\n",
       "      <td>23233.77</td>\n",
       "    </tr>\n",
       "    <tr>\n",
       "      <td>7</td>\n",
       "      <td>14003.64</td>\n",
       "    </tr>\n",
       "    <tr>\n",
       "      <td>8</td>\n",
       "      <td>14055.93</td>\n",
       "    </tr>\n",
       "    <tr>\n",
       "      <td>9</td>\n",
       "      <td>14568.91</td>\n",
       "    </tr>\n",
       "    <tr>\n",
       "      <td>10</td>\n",
       "      <td>14702.49</td>\n",
       "    </tr>\n",
       "    <tr>\n",
       "      <td>11</td>\n",
       "      <td>14756.47</td>\n",
       "    </tr>\n",
       "    <tr>\n",
       "      <td>12</td>\n",
       "      <td>9817.61</td>\n",
       "    </tr>\n",
       "    <tr>\n",
       "      <td rowspan=\"2\" valign=\"top\">1001</td>\n",
       "      <td>11</td>\n",
       "      <td>18429.34</td>\n",
       "    </tr>\n",
       "    <tr>\n",
       "      <td>12</td>\n",
       "      <td>14036.66</td>\n",
       "    </tr>\n",
       "  </tbody>\n",
       "</table>\n",
       "</div>"
      ],
      "text/plain": [
       "               mb_used_sum\n",
       "user_id month             \n",
       "1000    5          2253.49\n",
       "        6         23233.77\n",
       "        7         14003.64\n",
       "        8         14055.93\n",
       "        9         14568.91\n",
       "        10        14702.49\n",
       "        11        14756.47\n",
       "        12         9817.61\n",
       "1001    11        18429.34\n",
       "        12        14036.66"
      ]
     },
     "execution_count": 27,
     "metadata": {},
     "output_type": "execute_result"
    }
   ],
   "source": [
    "internet_pivot = internet.pivot_table(index = ['user_id', 'month'], values = 'mb_used', aggfunc = 'sum')\n",
    "internet_pivot.columns = ['mb_used_sum']\n",
    "internet_pivot.head(10)  "
   ]
  },
  {
   "cell_type": "markdown",
   "metadata": {},
   "source": [
    "По правилам оператора, для веб-трафика отдельные сессии не считаются. Вместо этого общая сумма за месяц округляется в бо́льшую сторону. Если абонент использует 1025 мегабайт в этом месяце, с него возьмут плату за 2 гигабайта. Добавим в сводную таблицу столбец с округлённым количеством Гб:"
   ]
  },
  {
   "cell_type": "code",
   "execution_count": 28,
   "metadata": {},
   "outputs": [
    {
     "data": {
      "text/html": [
       "<div>\n",
       "<style scoped>\n",
       "    .dataframe tbody tr th:only-of-type {\n",
       "        vertical-align: middle;\n",
       "    }\n",
       "\n",
       "    .dataframe tbody tr th {\n",
       "        vertical-align: top;\n",
       "    }\n",
       "\n",
       "    .dataframe thead th {\n",
       "        text-align: right;\n",
       "    }\n",
       "</style>\n",
       "<table border=\"1\" class=\"dataframe\">\n",
       "  <thead>\n",
       "    <tr style=\"text-align: right;\">\n",
       "      <th></th>\n",
       "      <th></th>\n",
       "      <th>mb_used_sum</th>\n",
       "      <th>gb_used</th>\n",
       "    </tr>\n",
       "    <tr>\n",
       "      <th>user_id</th>\n",
       "      <th>month</th>\n",
       "      <th></th>\n",
       "      <th></th>\n",
       "    </tr>\n",
       "  </thead>\n",
       "  <tbody>\n",
       "    <tr>\n",
       "      <td rowspan=\"8\" valign=\"top\">1000</td>\n",
       "      <td>5</td>\n",
       "      <td>2253.49</td>\n",
       "      <td>3</td>\n",
       "    </tr>\n",
       "    <tr>\n",
       "      <td>6</td>\n",
       "      <td>23233.77</td>\n",
       "      <td>23</td>\n",
       "    </tr>\n",
       "    <tr>\n",
       "      <td>7</td>\n",
       "      <td>14003.64</td>\n",
       "      <td>14</td>\n",
       "    </tr>\n",
       "    <tr>\n",
       "      <td>8</td>\n",
       "      <td>14055.93</td>\n",
       "      <td>14</td>\n",
       "    </tr>\n",
       "    <tr>\n",
       "      <td>9</td>\n",
       "      <td>14568.91</td>\n",
       "      <td>15</td>\n",
       "    </tr>\n",
       "    <tr>\n",
       "      <td>10</td>\n",
       "      <td>14702.49</td>\n",
       "      <td>15</td>\n",
       "    </tr>\n",
       "    <tr>\n",
       "      <td>11</td>\n",
       "      <td>14756.47</td>\n",
       "      <td>15</td>\n",
       "    </tr>\n",
       "    <tr>\n",
       "      <td>12</td>\n",
       "      <td>9817.61</td>\n",
       "      <td>10</td>\n",
       "    </tr>\n",
       "    <tr>\n",
       "      <td rowspan=\"2\" valign=\"top\">1001</td>\n",
       "      <td>11</td>\n",
       "      <td>18429.34</td>\n",
       "      <td>18</td>\n",
       "    </tr>\n",
       "    <tr>\n",
       "      <td>12</td>\n",
       "      <td>14036.66</td>\n",
       "      <td>14</td>\n",
       "    </tr>\n",
       "  </tbody>\n",
       "</table>\n",
       "</div>"
      ],
      "text/plain": [
       "               mb_used_sum  gb_used\n",
       "user_id month                      \n",
       "1000    5          2253.49        3\n",
       "        6         23233.77       23\n",
       "        7         14003.64       14\n",
       "        8         14055.93       14\n",
       "        9         14568.91       15\n",
       "        10        14702.49       15\n",
       "        11        14756.47       15\n",
       "        12         9817.61       10\n",
       "1001    11        18429.34       18\n",
       "        12        14036.66       14"
      ]
     },
     "execution_count": 28,
     "metadata": {},
     "output_type": "execute_result"
    }
   ],
   "source": [
    "internet_pivot['gb_used'] = np.ceil(internet_pivot['mb_used_sum'] / 1024).astype(int)\n",
    "internet_pivot.head(10)"
   ]
  },
  {
   "cell_type": "markdown",
   "metadata": {},
   "source": [
    "Объединим данные для анализа в одну таблицу:"
   ]
  },
  {
   "cell_type": "code",
   "execution_count": 29,
   "metadata": {},
   "outputs": [
    {
     "data": {
      "text/html": [
       "<div>\n",
       "<style scoped>\n",
       "    .dataframe tbody tr th:only-of-type {\n",
       "        vertical-align: middle;\n",
       "    }\n",
       "\n",
       "    .dataframe tbody tr th {\n",
       "        vertical-align: top;\n",
       "    }\n",
       "\n",
       "    .dataframe thead th {\n",
       "        text-align: right;\n",
       "    }\n",
       "</style>\n",
       "<table border=\"1\" class=\"dataframe\">\n",
       "  <thead>\n",
       "    <tr style=\"text-align: right;\">\n",
       "      <th></th>\n",
       "      <th>user_id</th>\n",
       "      <th>month</th>\n",
       "      <th>mb_used_sum</th>\n",
       "      <th>gb_used</th>\n",
       "      <th>duration_count</th>\n",
       "      <th>duration_sum</th>\n",
       "      <th>messages_count</th>\n",
       "    </tr>\n",
       "  </thead>\n",
       "  <tbody>\n",
       "    <tr>\n",
       "      <td>0</td>\n",
       "      <td>1000</td>\n",
       "      <td>5</td>\n",
       "      <td>2253.49</td>\n",
       "      <td>3.0</td>\n",
       "      <td>17.0</td>\n",
       "      <td>159.0</td>\n",
       "      <td>22.0</td>\n",
       "    </tr>\n",
       "    <tr>\n",
       "      <td>1</td>\n",
       "      <td>1000</td>\n",
       "      <td>6</td>\n",
       "      <td>23233.77</td>\n",
       "      <td>23.0</td>\n",
       "      <td>28.0</td>\n",
       "      <td>172.0</td>\n",
       "      <td>60.0</td>\n",
       "    </tr>\n",
       "    <tr>\n",
       "      <td>2</td>\n",
       "      <td>1000</td>\n",
       "      <td>7</td>\n",
       "      <td>14003.64</td>\n",
       "      <td>14.0</td>\n",
       "      <td>41.0</td>\n",
       "      <td>340.0</td>\n",
       "      <td>75.0</td>\n",
       "    </tr>\n",
       "    <tr>\n",
       "      <td>3</td>\n",
       "      <td>1000</td>\n",
       "      <td>8</td>\n",
       "      <td>14055.93</td>\n",
       "      <td>14.0</td>\n",
       "      <td>42.0</td>\n",
       "      <td>408.0</td>\n",
       "      <td>81.0</td>\n",
       "    </tr>\n",
       "    <tr>\n",
       "      <td>4</td>\n",
       "      <td>1000</td>\n",
       "      <td>9</td>\n",
       "      <td>14568.91</td>\n",
       "      <td>15.0</td>\n",
       "      <td>46.0</td>\n",
       "      <td>466.0</td>\n",
       "      <td>57.0</td>\n",
       "    </tr>\n",
       "    <tr>\n",
       "      <td>...</td>\n",
       "      <td>...</td>\n",
       "      <td>...</td>\n",
       "      <td>...</td>\n",
       "      <td>...</td>\n",
       "      <td>...</td>\n",
       "      <td>...</td>\n",
       "      <td>...</td>\n",
       "    </tr>\n",
       "    <tr>\n",
       "      <td>3209</td>\n",
       "      <td>1273</td>\n",
       "      <td>12</td>\n",
       "      <td>NaN</td>\n",
       "      <td>NaN</td>\n",
       "      <td>38.0</td>\n",
       "      <td>260.0</td>\n",
       "      <td>39.0</td>\n",
       "    </tr>\n",
       "    <tr>\n",
       "      <td>3210</td>\n",
       "      <td>1365</td>\n",
       "      <td>10</td>\n",
       "      <td>NaN</td>\n",
       "      <td>NaN</td>\n",
       "      <td>5.0</td>\n",
       "      <td>43.0</td>\n",
       "      <td>1.0</td>\n",
       "    </tr>\n",
       "    <tr>\n",
       "      <td>3211</td>\n",
       "      <td>1377</td>\n",
       "      <td>2</td>\n",
       "      <td>NaN</td>\n",
       "      <td>NaN</td>\n",
       "      <td>20.0</td>\n",
       "      <td>179.0</td>\n",
       "      <td>2.0</td>\n",
       "    </tr>\n",
       "    <tr>\n",
       "      <td>3212</td>\n",
       "      <td>1392</td>\n",
       "      <td>2</td>\n",
       "      <td>NaN</td>\n",
       "      <td>NaN</td>\n",
       "      <td>2.0</td>\n",
       "      <td>13.0</td>\n",
       "      <td>3.0</td>\n",
       "    </tr>\n",
       "    <tr>\n",
       "      <td>3213</td>\n",
       "      <td>1446</td>\n",
       "      <td>8</td>\n",
       "      <td>NaN</td>\n",
       "      <td>NaN</td>\n",
       "      <td>4.0</td>\n",
       "      <td>50.0</td>\n",
       "      <td>1.0</td>\n",
       "    </tr>\n",
       "  </tbody>\n",
       "</table>\n",
       "<p>3214 rows × 7 columns</p>\n",
       "</div>"
      ],
      "text/plain": [
       "     user_id  month  mb_used_sum  gb_used  duration_count  duration_sum  \\\n",
       "0       1000      5      2253.49      3.0            17.0         159.0   \n",
       "1       1000      6     23233.77     23.0            28.0         172.0   \n",
       "2       1000      7     14003.64     14.0            41.0         340.0   \n",
       "3       1000      8     14055.93     14.0            42.0         408.0   \n",
       "4       1000      9     14568.91     15.0            46.0         466.0   \n",
       "...      ...    ...          ...      ...             ...           ...   \n",
       "3209    1273     12          NaN      NaN            38.0         260.0   \n",
       "3210    1365     10          NaN      NaN             5.0          43.0   \n",
       "3211    1377      2          NaN      NaN            20.0         179.0   \n",
       "3212    1392      2          NaN      NaN             2.0          13.0   \n",
       "3213    1446      8          NaN      NaN             4.0          50.0   \n",
       "\n",
       "      messages_count  \n",
       "0               22.0  \n",
       "1               60.0  \n",
       "2               75.0  \n",
       "3               81.0  \n",
       "4               57.0  \n",
       "...              ...  \n",
       "3209            39.0  \n",
       "3210             1.0  \n",
       "3211             2.0  \n",
       "3212             3.0  \n",
       "3213             1.0  \n",
       "\n",
       "[3214 rows x 7 columns]"
      ]
     },
     "execution_count": 29,
     "metadata": {},
     "output_type": "execute_result"
    }
   ],
   "source": [
    "pivot_data = reduce(lambda  left,right: pd.merge(left,right,on=['user_id', 'month'], how='outer'), [internet_pivot, calls_pivot,  messages_pivot]).reset_index()\n",
    "pivot_data  "
   ]
  },
  {
   "cell_type": "markdown",
   "metadata": {},
   "source": [
    "В нашей таблице теперь присутствуют пропущеные значения, поскольку, как мы уже отмечали, не каждый пользователь общался всеми тремя способами коммуникации, кроме того, не каждый месяц используется тот или иной вид трафика. Заменим пропуски в столбцах с данными на 0.   "
   ]
  },
  {
   "cell_type": "code",
   "execution_count": 30,
   "metadata": {},
   "outputs": [
    {
     "data": {
      "text/html": [
       "<div>\n",
       "<style scoped>\n",
       "    .dataframe tbody tr th:only-of-type {\n",
       "        vertical-align: middle;\n",
       "    }\n",
       "\n",
       "    .dataframe tbody tr th {\n",
       "        vertical-align: top;\n",
       "    }\n",
       "\n",
       "    .dataframe thead th {\n",
       "        text-align: right;\n",
       "    }\n",
       "</style>\n",
       "<table border=\"1\" class=\"dataframe\">\n",
       "  <thead>\n",
       "    <tr style=\"text-align: right;\">\n",
       "      <th></th>\n",
       "      <th>user_id</th>\n",
       "      <th>month</th>\n",
       "      <th>mb_used_sum</th>\n",
       "      <th>gb_used</th>\n",
       "      <th>duration_count</th>\n",
       "      <th>duration_sum</th>\n",
       "      <th>messages_count</th>\n",
       "    </tr>\n",
       "  </thead>\n",
       "  <tbody>\n",
       "    <tr>\n",
       "      <td>8</td>\n",
       "      <td>1001</td>\n",
       "      <td>11</td>\n",
       "      <td>18429.34</td>\n",
       "      <td>18.0</td>\n",
       "      <td>45.0</td>\n",
       "      <td>430.0</td>\n",
       "      <td>NaN</td>\n",
       "    </tr>\n",
       "    <tr>\n",
       "      <td>9</td>\n",
       "      <td>1001</td>\n",
       "      <td>12</td>\n",
       "      <td>14036.66</td>\n",
       "      <td>14.0</td>\n",
       "      <td>47.0</td>\n",
       "      <td>414.0</td>\n",
       "      <td>NaN</td>\n",
       "    </tr>\n",
       "    <tr>\n",
       "      <td>42</td>\n",
       "      <td>1006</td>\n",
       "      <td>2</td>\n",
       "      <td>1392.15</td>\n",
       "      <td>2.0</td>\n",
       "      <td>3.0</td>\n",
       "      <td>42.0</td>\n",
       "      <td>NaN</td>\n",
       "    </tr>\n",
       "    <tr>\n",
       "      <td>43</td>\n",
       "      <td>1006</td>\n",
       "      <td>3</td>\n",
       "      <td>17287.93</td>\n",
       "      <td>17.0</td>\n",
       "      <td>36.0</td>\n",
       "      <td>286.0</td>\n",
       "      <td>NaN</td>\n",
       "    </tr>\n",
       "    <tr>\n",
       "      <td>44</td>\n",
       "      <td>1006</td>\n",
       "      <td>4</td>\n",
       "      <td>13936.70</td>\n",
       "      <td>14.0</td>\n",
       "      <td>38.0</td>\n",
       "      <td>356.0</td>\n",
       "      <td>NaN</td>\n",
       "    </tr>\n",
       "  </tbody>\n",
       "</table>\n",
       "</div>"
      ],
      "text/plain": [
       "   user_id  month  mb_used_sum  gb_used  duration_count  duration_sum  \\\n",
       "8     1001     11     18429.34     18.0            45.0         430.0   \n",
       "9     1001     12     14036.66     14.0            47.0         414.0   \n",
       "42    1006      2      1392.15      2.0             3.0          42.0   \n",
       "43    1006      3     17287.93     17.0            36.0         286.0   \n",
       "44    1006      4     13936.70     14.0            38.0         356.0   \n",
       "\n",
       "    messages_count  \n",
       "8              NaN  \n",
       "9              NaN  \n",
       "42             NaN  \n",
       "43             NaN  \n",
       "44             NaN  "
      ]
     },
     "execution_count": 30,
     "metadata": {},
     "output_type": "execute_result"
    }
   ],
   "source": [
    "pivot_data.loc[pivot_data['messages_count'].isna()].head() # на примере столбца с количеством сообщений"
   ]
  },
  {
   "cell_type": "code",
   "execution_count": 31,
   "metadata": {},
   "outputs": [
    {
     "data": {
      "text/html": [
       "<div>\n",
       "<style scoped>\n",
       "    .dataframe tbody tr th:only-of-type {\n",
       "        vertical-align: middle;\n",
       "    }\n",
       "\n",
       "    .dataframe tbody tr th {\n",
       "        vertical-align: top;\n",
       "    }\n",
       "\n",
       "    .dataframe thead th {\n",
       "        text-align: right;\n",
       "    }\n",
       "</style>\n",
       "<table border=\"1\" class=\"dataframe\">\n",
       "  <thead>\n",
       "    <tr style=\"text-align: right;\">\n",
       "      <th></th>\n",
       "      <th>user_id</th>\n",
       "      <th>month</th>\n",
       "      <th>mb_used_sum</th>\n",
       "      <th>gb_used</th>\n",
       "      <th>duration_count</th>\n",
       "      <th>duration_sum</th>\n",
       "      <th>messages_count</th>\n",
       "    </tr>\n",
       "  </thead>\n",
       "  <tbody>\n",
       "  </tbody>\n",
       "</table>\n",
       "</div>"
      ],
      "text/plain": [
       "Empty DataFrame\n",
       "Columns: [user_id, month, mb_used_sum, gb_used, duration_count, duration_sum, messages_count]\n",
       "Index: []"
      ]
     },
     "execution_count": 31,
     "metadata": {},
     "output_type": "execute_result"
    }
   ],
   "source": [
    "pivot_data['duration_count'] = pivot_data['duration_count'].fillna(0)\n",
    "pivot_data['duration_sum'] = pivot_data['duration_sum'].fillna(0)\n",
    "pivot_data['messages_count'] = pivot_data['messages_count'].fillna(0)\n",
    "pivot_data['mb_used_sum'] = pivot_data['mb_used_sum'].fillna(0)\n",
    "pivot_data['gb_used'] = pivot_data['gb_used'].fillna(0)\n",
    "pivot_data.loc[pivot_data['messages_count'].isna()]                       # проверяем на примере столбца с количеством сообщений"
   ]
  },
  {
   "cell_type": "markdown",
   "metadata": {},
   "source": [
    "Добавим информацию об используемом тарифе:"
   ]
  },
  {
   "cell_type": "code",
   "execution_count": 32,
   "metadata": {},
   "outputs": [
    {
     "data": {
      "text/html": [
       "<div>\n",
       "<style scoped>\n",
       "    .dataframe tbody tr th:only-of-type {\n",
       "        vertical-align: middle;\n",
       "    }\n",
       "\n",
       "    .dataframe tbody tr th {\n",
       "        vertical-align: top;\n",
       "    }\n",
       "\n",
       "    .dataframe thead th {\n",
       "        text-align: right;\n",
       "    }\n",
       "</style>\n",
       "<table border=\"1\" class=\"dataframe\">\n",
       "  <thead>\n",
       "    <tr style=\"text-align: right;\">\n",
       "      <th></th>\n",
       "      <th>user_id</th>\n",
       "      <th>tariff_name</th>\n",
       "    </tr>\n",
       "  </thead>\n",
       "  <tbody>\n",
       "    <tr>\n",
       "      <td>0</td>\n",
       "      <td>1000</td>\n",
       "      <td>ultra</td>\n",
       "    </tr>\n",
       "    <tr>\n",
       "      <td>1</td>\n",
       "      <td>1001</td>\n",
       "      <td>smart</td>\n",
       "    </tr>\n",
       "    <tr>\n",
       "      <td>2</td>\n",
       "      <td>1002</td>\n",
       "      <td>smart</td>\n",
       "    </tr>\n",
       "    <tr>\n",
       "      <td>3</td>\n",
       "      <td>1003</td>\n",
       "      <td>ultra</td>\n",
       "    </tr>\n",
       "    <tr>\n",
       "      <td>4</td>\n",
       "      <td>1004</td>\n",
       "      <td>ultra</td>\n",
       "    </tr>\n",
       "    <tr>\n",
       "      <td>...</td>\n",
       "      <td>...</td>\n",
       "      <td>...</td>\n",
       "    </tr>\n",
       "    <tr>\n",
       "      <td>495</td>\n",
       "      <td>1495</td>\n",
       "      <td>ultra</td>\n",
       "    </tr>\n",
       "    <tr>\n",
       "      <td>496</td>\n",
       "      <td>1496</td>\n",
       "      <td>smart</td>\n",
       "    </tr>\n",
       "    <tr>\n",
       "      <td>497</td>\n",
       "      <td>1497</td>\n",
       "      <td>smart</td>\n",
       "    </tr>\n",
       "    <tr>\n",
       "      <td>498</td>\n",
       "      <td>1498</td>\n",
       "      <td>smart</td>\n",
       "    </tr>\n",
       "    <tr>\n",
       "      <td>499</td>\n",
       "      <td>1499</td>\n",
       "      <td>smart</td>\n",
       "    </tr>\n",
       "  </tbody>\n",
       "</table>\n",
       "<p>500 rows × 2 columns</p>\n",
       "</div>"
      ],
      "text/plain": [
       "    user_id tariff_name\n",
       "0      1000       ultra\n",
       "1      1001       smart\n",
       "2      1002       smart\n",
       "3      1003       ultra\n",
       "4      1004       ultra\n",
       "..      ...         ...\n",
       "495    1495       ultra\n",
       "496    1496       smart\n",
       "497    1497       smart\n",
       "498    1498       smart\n",
       "499    1499       smart\n",
       "\n",
       "[500 rows x 2 columns]"
      ]
     },
     "execution_count": 32,
     "metadata": {},
     "output_type": "execute_result"
    }
   ],
   "source": [
    "tarif = users.loc[:, ['user_id', 'tariff']]  # выделили в отдельный фрейм данные об ID и тарифе \n",
    "tarif.columns = ['user_id', 'tariff_name']\n",
    "tarif"
   ]
  },
  {
   "cell_type": "code",
   "execution_count": 33,
   "metadata": {},
   "outputs": [
    {
     "data": {
      "text/html": [
       "<div>\n",
       "<style scoped>\n",
       "    .dataframe tbody tr th:only-of-type {\n",
       "        vertical-align: middle;\n",
       "    }\n",
       "\n",
       "    .dataframe tbody tr th {\n",
       "        vertical-align: top;\n",
       "    }\n",
       "\n",
       "    .dataframe thead th {\n",
       "        text-align: right;\n",
       "    }\n",
       "</style>\n",
       "<table border=\"1\" class=\"dataframe\">\n",
       "  <thead>\n",
       "    <tr style=\"text-align: right;\">\n",
       "      <th></th>\n",
       "      <th>user_id</th>\n",
       "      <th>month</th>\n",
       "      <th>mb_used_sum</th>\n",
       "      <th>gb_used</th>\n",
       "      <th>duration_count</th>\n",
       "      <th>duration_sum</th>\n",
       "      <th>messages_count</th>\n",
       "      <th>tariff_name</th>\n",
       "    </tr>\n",
       "  </thead>\n",
       "  <tbody>\n",
       "    <tr>\n",
       "      <td>0</td>\n",
       "      <td>1000</td>\n",
       "      <td>5</td>\n",
       "      <td>2253.49</td>\n",
       "      <td>3.0</td>\n",
       "      <td>17.0</td>\n",
       "      <td>159.0</td>\n",
       "      <td>22.0</td>\n",
       "      <td>ultra</td>\n",
       "    </tr>\n",
       "    <tr>\n",
       "      <td>1</td>\n",
       "      <td>1000</td>\n",
       "      <td>6</td>\n",
       "      <td>23233.77</td>\n",
       "      <td>23.0</td>\n",
       "      <td>28.0</td>\n",
       "      <td>172.0</td>\n",
       "      <td>60.0</td>\n",
       "      <td>ultra</td>\n",
       "    </tr>\n",
       "    <tr>\n",
       "      <td>2</td>\n",
       "      <td>1000</td>\n",
       "      <td>7</td>\n",
       "      <td>14003.64</td>\n",
       "      <td>14.0</td>\n",
       "      <td>41.0</td>\n",
       "      <td>340.0</td>\n",
       "      <td>75.0</td>\n",
       "      <td>ultra</td>\n",
       "    </tr>\n",
       "    <tr>\n",
       "      <td>3</td>\n",
       "      <td>1000</td>\n",
       "      <td>8</td>\n",
       "      <td>14055.93</td>\n",
       "      <td>14.0</td>\n",
       "      <td>42.0</td>\n",
       "      <td>408.0</td>\n",
       "      <td>81.0</td>\n",
       "      <td>ultra</td>\n",
       "    </tr>\n",
       "    <tr>\n",
       "      <td>4</td>\n",
       "      <td>1000</td>\n",
       "      <td>9</td>\n",
       "      <td>14568.91</td>\n",
       "      <td>15.0</td>\n",
       "      <td>46.0</td>\n",
       "      <td>466.0</td>\n",
       "      <td>57.0</td>\n",
       "      <td>ultra</td>\n",
       "    </tr>\n",
       "    <tr>\n",
       "      <td>...</td>\n",
       "      <td>...</td>\n",
       "      <td>...</td>\n",
       "      <td>...</td>\n",
       "      <td>...</td>\n",
       "      <td>...</td>\n",
       "      <td>...</td>\n",
       "      <td>...</td>\n",
       "      <td>...</td>\n",
       "    </tr>\n",
       "    <tr>\n",
       "      <td>3209</td>\n",
       "      <td>1273</td>\n",
       "      <td>12</td>\n",
       "      <td>0.00</td>\n",
       "      <td>0.0</td>\n",
       "      <td>38.0</td>\n",
       "      <td>260.0</td>\n",
       "      <td>39.0</td>\n",
       "      <td>ultra</td>\n",
       "    </tr>\n",
       "    <tr>\n",
       "      <td>3210</td>\n",
       "      <td>1365</td>\n",
       "      <td>10</td>\n",
       "      <td>0.00</td>\n",
       "      <td>0.0</td>\n",
       "      <td>5.0</td>\n",
       "      <td>43.0</td>\n",
       "      <td>1.0</td>\n",
       "      <td>smart</td>\n",
       "    </tr>\n",
       "    <tr>\n",
       "      <td>3211</td>\n",
       "      <td>1377</td>\n",
       "      <td>2</td>\n",
       "      <td>0.00</td>\n",
       "      <td>0.0</td>\n",
       "      <td>20.0</td>\n",
       "      <td>179.0</td>\n",
       "      <td>2.0</td>\n",
       "      <td>ultra</td>\n",
       "    </tr>\n",
       "    <tr>\n",
       "      <td>3212</td>\n",
       "      <td>1392</td>\n",
       "      <td>2</td>\n",
       "      <td>0.00</td>\n",
       "      <td>0.0</td>\n",
       "      <td>2.0</td>\n",
       "      <td>13.0</td>\n",
       "      <td>3.0</td>\n",
       "      <td>ultra</td>\n",
       "    </tr>\n",
       "    <tr>\n",
       "      <td>3213</td>\n",
       "      <td>1446</td>\n",
       "      <td>8</td>\n",
       "      <td>0.00</td>\n",
       "      <td>0.0</td>\n",
       "      <td>4.0</td>\n",
       "      <td>50.0</td>\n",
       "      <td>1.0</td>\n",
       "      <td>smart</td>\n",
       "    </tr>\n",
       "  </tbody>\n",
       "</table>\n",
       "<p>3214 rows × 8 columns</p>\n",
       "</div>"
      ],
      "text/plain": [
       "     user_id  month  mb_used_sum  gb_used  duration_count  duration_sum  \\\n",
       "0       1000      5      2253.49      3.0            17.0         159.0   \n",
       "1       1000      6     23233.77     23.0            28.0         172.0   \n",
       "2       1000      7     14003.64     14.0            41.0         340.0   \n",
       "3       1000      8     14055.93     14.0            42.0         408.0   \n",
       "4       1000      9     14568.91     15.0            46.0         466.0   \n",
       "...      ...    ...          ...      ...             ...           ...   \n",
       "3209    1273     12         0.00      0.0            38.0         260.0   \n",
       "3210    1365     10         0.00      0.0             5.0          43.0   \n",
       "3211    1377      2         0.00      0.0            20.0         179.0   \n",
       "3212    1392      2         0.00      0.0             2.0          13.0   \n",
       "3213    1446      8         0.00      0.0             4.0          50.0   \n",
       "\n",
       "      messages_count tariff_name  \n",
       "0               22.0       ultra  \n",
       "1               60.0       ultra  \n",
       "2               75.0       ultra  \n",
       "3               81.0       ultra  \n",
       "4               57.0       ultra  \n",
       "...              ...         ...  \n",
       "3209            39.0       ultra  \n",
       "3210             1.0       smart  \n",
       "3211             2.0       ultra  \n",
       "3212             3.0       ultra  \n",
       "3213             1.0       smart  \n",
       "\n",
       "[3214 rows x 8 columns]"
      ]
     },
     "execution_count": 33,
     "metadata": {},
     "output_type": "execute_result"
    }
   ],
   "source": [
    "pivot_with_tarif = pivot_data.merge(tarif, on = 'user_id', how = 'left')\n",
    "pivot_with_tarif"
   ]
  },
  {
   "cell_type": "markdown",
   "metadata": {},
   "source": [
    "Добавим данные об условиях из справочника о тарифных планах:"
   ]
  },
  {
   "cell_type": "code",
   "execution_count": 34,
   "metadata": {
    "scrolled": true
   },
   "outputs": [
    {
     "data": {
      "text/html": [
       "<div>\n",
       "<style scoped>\n",
       "    .dataframe tbody tr th:only-of-type {\n",
       "        vertical-align: middle;\n",
       "    }\n",
       "\n",
       "    .dataframe tbody tr th {\n",
       "        vertical-align: top;\n",
       "    }\n",
       "\n",
       "    .dataframe thead th {\n",
       "        text-align: right;\n",
       "    }\n",
       "</style>\n",
       "<table border=\"1\" class=\"dataframe\">\n",
       "  <thead>\n",
       "    <tr style=\"text-align: right;\">\n",
       "      <th></th>\n",
       "      <th>user_id</th>\n",
       "      <th>month</th>\n",
       "      <th>mb_used_sum</th>\n",
       "      <th>gb_used</th>\n",
       "      <th>duration_count</th>\n",
       "      <th>duration_sum</th>\n",
       "      <th>messages_count</th>\n",
       "      <th>tariff_name</th>\n",
       "      <th>messages_included</th>\n",
       "      <th>mb_per_month_included</th>\n",
       "      <th>minutes_included</th>\n",
       "      <th>rub_monthly_fee</th>\n",
       "      <th>rub_per_gb</th>\n",
       "      <th>rub_per_message</th>\n",
       "      <th>rub_per_minute</th>\n",
       "    </tr>\n",
       "  </thead>\n",
       "  <tbody>\n",
       "    <tr>\n",
       "      <td>0</td>\n",
       "      <td>1000</td>\n",
       "      <td>5</td>\n",
       "      <td>2253.49</td>\n",
       "      <td>3.0</td>\n",
       "      <td>17.0</td>\n",
       "      <td>159.0</td>\n",
       "      <td>22.0</td>\n",
       "      <td>ultra</td>\n",
       "      <td>1000</td>\n",
       "      <td>30720</td>\n",
       "      <td>3000</td>\n",
       "      <td>1950</td>\n",
       "      <td>150</td>\n",
       "      <td>1</td>\n",
       "      <td>1</td>\n",
       "    </tr>\n",
       "    <tr>\n",
       "      <td>1</td>\n",
       "      <td>1000</td>\n",
       "      <td>6</td>\n",
       "      <td>23233.77</td>\n",
       "      <td>23.0</td>\n",
       "      <td>28.0</td>\n",
       "      <td>172.0</td>\n",
       "      <td>60.0</td>\n",
       "      <td>ultra</td>\n",
       "      <td>1000</td>\n",
       "      <td>30720</td>\n",
       "      <td>3000</td>\n",
       "      <td>1950</td>\n",
       "      <td>150</td>\n",
       "      <td>1</td>\n",
       "      <td>1</td>\n",
       "    </tr>\n",
       "    <tr>\n",
       "      <td>2</td>\n",
       "      <td>1000</td>\n",
       "      <td>7</td>\n",
       "      <td>14003.64</td>\n",
       "      <td>14.0</td>\n",
       "      <td>41.0</td>\n",
       "      <td>340.0</td>\n",
       "      <td>75.0</td>\n",
       "      <td>ultra</td>\n",
       "      <td>1000</td>\n",
       "      <td>30720</td>\n",
       "      <td>3000</td>\n",
       "      <td>1950</td>\n",
       "      <td>150</td>\n",
       "      <td>1</td>\n",
       "      <td>1</td>\n",
       "    </tr>\n",
       "    <tr>\n",
       "      <td>3</td>\n",
       "      <td>1000</td>\n",
       "      <td>8</td>\n",
       "      <td>14055.93</td>\n",
       "      <td>14.0</td>\n",
       "      <td>42.0</td>\n",
       "      <td>408.0</td>\n",
       "      <td>81.0</td>\n",
       "      <td>ultra</td>\n",
       "      <td>1000</td>\n",
       "      <td>30720</td>\n",
       "      <td>3000</td>\n",
       "      <td>1950</td>\n",
       "      <td>150</td>\n",
       "      <td>1</td>\n",
       "      <td>1</td>\n",
       "    </tr>\n",
       "    <tr>\n",
       "      <td>4</td>\n",
       "      <td>1000</td>\n",
       "      <td>9</td>\n",
       "      <td>14568.91</td>\n",
       "      <td>15.0</td>\n",
       "      <td>46.0</td>\n",
       "      <td>466.0</td>\n",
       "      <td>57.0</td>\n",
       "      <td>ultra</td>\n",
       "      <td>1000</td>\n",
       "      <td>30720</td>\n",
       "      <td>3000</td>\n",
       "      <td>1950</td>\n",
       "      <td>150</td>\n",
       "      <td>1</td>\n",
       "      <td>1</td>\n",
       "    </tr>\n",
       "    <tr>\n",
       "      <td>...</td>\n",
       "      <td>...</td>\n",
       "      <td>...</td>\n",
       "      <td>...</td>\n",
       "      <td>...</td>\n",
       "      <td>...</td>\n",
       "      <td>...</td>\n",
       "      <td>...</td>\n",
       "      <td>...</td>\n",
       "      <td>...</td>\n",
       "      <td>...</td>\n",
       "      <td>...</td>\n",
       "      <td>...</td>\n",
       "      <td>...</td>\n",
       "      <td>...</td>\n",
       "      <td>...</td>\n",
       "    </tr>\n",
       "    <tr>\n",
       "      <td>3209</td>\n",
       "      <td>1273</td>\n",
       "      <td>12</td>\n",
       "      <td>0.00</td>\n",
       "      <td>0.0</td>\n",
       "      <td>38.0</td>\n",
       "      <td>260.0</td>\n",
       "      <td>39.0</td>\n",
       "      <td>ultra</td>\n",
       "      <td>1000</td>\n",
       "      <td>30720</td>\n",
       "      <td>3000</td>\n",
       "      <td>1950</td>\n",
       "      <td>150</td>\n",
       "      <td>1</td>\n",
       "      <td>1</td>\n",
       "    </tr>\n",
       "    <tr>\n",
       "      <td>3210</td>\n",
       "      <td>1365</td>\n",
       "      <td>10</td>\n",
       "      <td>0.00</td>\n",
       "      <td>0.0</td>\n",
       "      <td>5.0</td>\n",
       "      <td>43.0</td>\n",
       "      <td>1.0</td>\n",
       "      <td>smart</td>\n",
       "      <td>50</td>\n",
       "      <td>15360</td>\n",
       "      <td>500</td>\n",
       "      <td>550</td>\n",
       "      <td>200</td>\n",
       "      <td>3</td>\n",
       "      <td>3</td>\n",
       "    </tr>\n",
       "    <tr>\n",
       "      <td>3211</td>\n",
       "      <td>1377</td>\n",
       "      <td>2</td>\n",
       "      <td>0.00</td>\n",
       "      <td>0.0</td>\n",
       "      <td>20.0</td>\n",
       "      <td>179.0</td>\n",
       "      <td>2.0</td>\n",
       "      <td>ultra</td>\n",
       "      <td>1000</td>\n",
       "      <td>30720</td>\n",
       "      <td>3000</td>\n",
       "      <td>1950</td>\n",
       "      <td>150</td>\n",
       "      <td>1</td>\n",
       "      <td>1</td>\n",
       "    </tr>\n",
       "    <tr>\n",
       "      <td>3212</td>\n",
       "      <td>1392</td>\n",
       "      <td>2</td>\n",
       "      <td>0.00</td>\n",
       "      <td>0.0</td>\n",
       "      <td>2.0</td>\n",
       "      <td>13.0</td>\n",
       "      <td>3.0</td>\n",
       "      <td>ultra</td>\n",
       "      <td>1000</td>\n",
       "      <td>30720</td>\n",
       "      <td>3000</td>\n",
       "      <td>1950</td>\n",
       "      <td>150</td>\n",
       "      <td>1</td>\n",
       "      <td>1</td>\n",
       "    </tr>\n",
       "    <tr>\n",
       "      <td>3213</td>\n",
       "      <td>1446</td>\n",
       "      <td>8</td>\n",
       "      <td>0.00</td>\n",
       "      <td>0.0</td>\n",
       "      <td>4.0</td>\n",
       "      <td>50.0</td>\n",
       "      <td>1.0</td>\n",
       "      <td>smart</td>\n",
       "      <td>50</td>\n",
       "      <td>15360</td>\n",
       "      <td>500</td>\n",
       "      <td>550</td>\n",
       "      <td>200</td>\n",
       "      <td>3</td>\n",
       "      <td>3</td>\n",
       "    </tr>\n",
       "  </tbody>\n",
       "</table>\n",
       "<p>3214 rows × 15 columns</p>\n",
       "</div>"
      ],
      "text/plain": [
       "     user_id  month  mb_used_sum  gb_used  duration_count  duration_sum  \\\n",
       "0       1000      5      2253.49      3.0            17.0         159.0   \n",
       "1       1000      6     23233.77     23.0            28.0         172.0   \n",
       "2       1000      7     14003.64     14.0            41.0         340.0   \n",
       "3       1000      8     14055.93     14.0            42.0         408.0   \n",
       "4       1000      9     14568.91     15.0            46.0         466.0   \n",
       "...      ...    ...          ...      ...             ...           ...   \n",
       "3209    1273     12         0.00      0.0            38.0         260.0   \n",
       "3210    1365     10         0.00      0.0             5.0          43.0   \n",
       "3211    1377      2         0.00      0.0            20.0         179.0   \n",
       "3212    1392      2         0.00      0.0             2.0          13.0   \n",
       "3213    1446      8         0.00      0.0             4.0          50.0   \n",
       "\n",
       "      messages_count tariff_name  messages_included  mb_per_month_included  \\\n",
       "0               22.0       ultra               1000                  30720   \n",
       "1               60.0       ultra               1000                  30720   \n",
       "2               75.0       ultra               1000                  30720   \n",
       "3               81.0       ultra               1000                  30720   \n",
       "4               57.0       ultra               1000                  30720   \n",
       "...              ...         ...                ...                    ...   \n",
       "3209            39.0       ultra               1000                  30720   \n",
       "3210             1.0       smart                 50                  15360   \n",
       "3211             2.0       ultra               1000                  30720   \n",
       "3212             3.0       ultra               1000                  30720   \n",
       "3213             1.0       smart                 50                  15360   \n",
       "\n",
       "      minutes_included  rub_monthly_fee  rub_per_gb  rub_per_message  \\\n",
       "0                 3000             1950         150                1   \n",
       "1                 3000             1950         150                1   \n",
       "2                 3000             1950         150                1   \n",
       "3                 3000             1950         150                1   \n",
       "4                 3000             1950         150                1   \n",
       "...                ...              ...         ...              ...   \n",
       "3209              3000             1950         150                1   \n",
       "3210               500              550         200                3   \n",
       "3211              3000             1950         150                1   \n",
       "3212              3000             1950         150                1   \n",
       "3213               500              550         200                3   \n",
       "\n",
       "      rub_per_minute  \n",
       "0                  1  \n",
       "1                  1  \n",
       "2                  1  \n",
       "3                  1  \n",
       "4                  1  \n",
       "...              ...  \n",
       "3209               1  \n",
       "3210               3  \n",
       "3211               1  \n",
       "3212               1  \n",
       "3213               3  \n",
       "\n",
       "[3214 rows x 15 columns]"
      ]
     },
     "execution_count": 34,
     "metadata": {},
     "output_type": "execute_result"
    }
   ],
   "source": [
    "pivot_cond = pivot_with_tarif.merge(tariffs, on = 'tariff_name', how = 'left')\n",
    "pivot_cond"
   ]
  },
  {
   "cell_type": "markdown",
   "metadata": {},
   "source": [
    "Теперь рассчитаем помесячную выручку с каждого пользователя по следующему правилу: из суммарного количества звонков, сообщений и интернет-трафика вычитается бесплатный лимит, остаток умножается на стоимость единицы из тарифного плана, прибавляется абонентская плата соответствующего тарифного плана."
   ]
  },
  {
   "cell_type": "code",
   "execution_count": 35,
   "metadata": {
    "scrolled": true
   },
   "outputs": [
    {
     "data": {
      "text/html": [
       "<div>\n",
       "<style scoped>\n",
       "    .dataframe tbody tr th:only-of-type {\n",
       "        vertical-align: middle;\n",
       "    }\n",
       "\n",
       "    .dataframe tbody tr th {\n",
       "        vertical-align: top;\n",
       "    }\n",
       "\n",
       "    .dataframe thead th {\n",
       "        text-align: right;\n",
       "    }\n",
       "</style>\n",
       "<table border=\"1\" class=\"dataframe\">\n",
       "  <thead>\n",
       "    <tr style=\"text-align: right;\">\n",
       "      <th></th>\n",
       "      <th>user_id</th>\n",
       "      <th>month</th>\n",
       "      <th>mb_used_sum</th>\n",
       "      <th>gb_used</th>\n",
       "      <th>duration_count</th>\n",
       "      <th>duration_sum</th>\n",
       "      <th>messages_count</th>\n",
       "      <th>tariff_name</th>\n",
       "      <th>messages_included</th>\n",
       "      <th>mb_per_month_included</th>\n",
       "      <th>minutes_included</th>\n",
       "      <th>rub_monthly_fee</th>\n",
       "      <th>rub_per_gb</th>\n",
       "      <th>rub_per_message</th>\n",
       "      <th>rub_per_minute</th>\n",
       "      <th>income</th>\n",
       "    </tr>\n",
       "  </thead>\n",
       "  <tbody>\n",
       "    <tr>\n",
       "      <td>0</td>\n",
       "      <td>1000</td>\n",
       "      <td>5</td>\n",
       "      <td>2253.49</td>\n",
       "      <td>3.0</td>\n",
       "      <td>17.0</td>\n",
       "      <td>159.0</td>\n",
       "      <td>22.0</td>\n",
       "      <td>ultra</td>\n",
       "      <td>1000</td>\n",
       "      <td>30720</td>\n",
       "      <td>3000</td>\n",
       "      <td>1950</td>\n",
       "      <td>150</td>\n",
       "      <td>1</td>\n",
       "      <td>1</td>\n",
       "      <td>1950.0</td>\n",
       "    </tr>\n",
       "    <tr>\n",
       "      <td>1</td>\n",
       "      <td>1000</td>\n",
       "      <td>6</td>\n",
       "      <td>23233.77</td>\n",
       "      <td>23.0</td>\n",
       "      <td>28.0</td>\n",
       "      <td>172.0</td>\n",
       "      <td>60.0</td>\n",
       "      <td>ultra</td>\n",
       "      <td>1000</td>\n",
       "      <td>30720</td>\n",
       "      <td>3000</td>\n",
       "      <td>1950</td>\n",
       "      <td>150</td>\n",
       "      <td>1</td>\n",
       "      <td>1</td>\n",
       "      <td>1950.0</td>\n",
       "    </tr>\n",
       "    <tr>\n",
       "      <td>2</td>\n",
       "      <td>1000</td>\n",
       "      <td>7</td>\n",
       "      <td>14003.64</td>\n",
       "      <td>14.0</td>\n",
       "      <td>41.0</td>\n",
       "      <td>340.0</td>\n",
       "      <td>75.0</td>\n",
       "      <td>ultra</td>\n",
       "      <td>1000</td>\n",
       "      <td>30720</td>\n",
       "      <td>3000</td>\n",
       "      <td>1950</td>\n",
       "      <td>150</td>\n",
       "      <td>1</td>\n",
       "      <td>1</td>\n",
       "      <td>1950.0</td>\n",
       "    </tr>\n",
       "    <tr>\n",
       "      <td>3</td>\n",
       "      <td>1000</td>\n",
       "      <td>8</td>\n",
       "      <td>14055.93</td>\n",
       "      <td>14.0</td>\n",
       "      <td>42.0</td>\n",
       "      <td>408.0</td>\n",
       "      <td>81.0</td>\n",
       "      <td>ultra</td>\n",
       "      <td>1000</td>\n",
       "      <td>30720</td>\n",
       "      <td>3000</td>\n",
       "      <td>1950</td>\n",
       "      <td>150</td>\n",
       "      <td>1</td>\n",
       "      <td>1</td>\n",
       "      <td>1950.0</td>\n",
       "    </tr>\n",
       "    <tr>\n",
       "      <td>4</td>\n",
       "      <td>1000</td>\n",
       "      <td>9</td>\n",
       "      <td>14568.91</td>\n",
       "      <td>15.0</td>\n",
       "      <td>46.0</td>\n",
       "      <td>466.0</td>\n",
       "      <td>57.0</td>\n",
       "      <td>ultra</td>\n",
       "      <td>1000</td>\n",
       "      <td>30720</td>\n",
       "      <td>3000</td>\n",
       "      <td>1950</td>\n",
       "      <td>150</td>\n",
       "      <td>1</td>\n",
       "      <td>1</td>\n",
       "      <td>1950.0</td>\n",
       "    </tr>\n",
       "  </tbody>\n",
       "</table>\n",
       "</div>"
      ],
      "text/plain": [
       "  user_id  month  mb_used_sum  gb_used  duration_count  duration_sum  \\\n",
       "0    1000      5      2253.49      3.0            17.0         159.0   \n",
       "1    1000      6     23233.77     23.0            28.0         172.0   \n",
       "2    1000      7     14003.64     14.0            41.0         340.0   \n",
       "3    1000      8     14055.93     14.0            42.0         408.0   \n",
       "4    1000      9     14568.91     15.0            46.0         466.0   \n",
       "\n",
       "   messages_count tariff_name  messages_included  mb_per_month_included  \\\n",
       "0            22.0       ultra               1000                  30720   \n",
       "1            60.0       ultra               1000                  30720   \n",
       "2            75.0       ultra               1000                  30720   \n",
       "3            81.0       ultra               1000                  30720   \n",
       "4            57.0       ultra               1000                  30720   \n",
       "\n",
       "   minutes_included  rub_monthly_fee  rub_per_gb  rub_per_message  \\\n",
       "0              3000             1950         150                1   \n",
       "1              3000             1950         150                1   \n",
       "2              3000             1950         150                1   \n",
       "3              3000             1950         150                1   \n",
       "4              3000             1950         150                1   \n",
       "\n",
       "   rub_per_minute  income  \n",
       "0               1  1950.0  \n",
       "1               1  1950.0  \n",
       "2               1  1950.0  \n",
       "3               1  1950.0  \n",
       "4               1  1950.0  "
      ]
     },
     "execution_count": 35,
     "metadata": {},
     "output_type": "execute_result"
    }
   ],
   "source": [
    "# функция для подсчёта доходов\n",
    "def income(row):                   \n",
    "    total_income = 0\n",
    "    calls_income = 0\n",
    "    messages_income = 0\n",
    "    internet_income = 0\n",
    "    if row['duration_sum'] > row['minutes_included']:\n",
    "        calls_income = (row['duration_sum'] - row['minutes_included']) * row['rub_per_minute']\n",
    "    if row['messages_count'] > row['messages_included']:\n",
    "        messages_income = (row['messages_count'] - row['messages_included']) * row['rub_per_message']\n",
    "    if row['gb_used'] > (row['mb_per_month_included'] / 1024):\n",
    "        internet_income = (row['gb_used'] - row['mb_per_month_included'] / 1024) * row['rub_per_gb']\n",
    "    total_income = calls_income + messages_income + internet_income + row['rub_monthly_fee']\n",
    "    return total_income\n",
    "\n",
    "# расчёты добавим в новый столбец\n",
    "pivot_cond['income'] = pivot_cond.apply(income, axis = 1)                     \n",
    "pivot_cond.head()"
   ]
  },
  {
   "cell_type": "markdown",
   "metadata": {},
   "source": [
    "Проверим расчёт для пары примеров, когда клиент вышел за рамки бесплатных пакетов:"
   ]
  },
  {
   "cell_type": "code",
   "execution_count": 36,
   "metadata": {},
   "outputs": [
    {
     "data": {
      "text/html": [
       "<div>\n",
       "<style scoped>\n",
       "    .dataframe tbody tr th:only-of-type {\n",
       "        vertical-align: middle;\n",
       "    }\n",
       "\n",
       "    .dataframe tbody tr th {\n",
       "        vertical-align: top;\n",
       "    }\n",
       "\n",
       "    .dataframe thead th {\n",
       "        text-align: right;\n",
       "    }\n",
       "</style>\n",
       "<table border=\"1\" class=\"dataframe\">\n",
       "  <thead>\n",
       "    <tr style=\"text-align: right;\">\n",
       "      <th></th>\n",
       "      <th>user_id</th>\n",
       "      <th>month</th>\n",
       "      <th>mb_used_sum</th>\n",
       "      <th>gb_used</th>\n",
       "      <th>duration_count</th>\n",
       "      <th>duration_sum</th>\n",
       "      <th>messages_count</th>\n",
       "      <th>tariff_name</th>\n",
       "      <th>messages_included</th>\n",
       "      <th>mb_per_month_included</th>\n",
       "      <th>minutes_included</th>\n",
       "      <th>rub_monthly_fee</th>\n",
       "      <th>rub_per_gb</th>\n",
       "      <th>rub_per_message</th>\n",
       "      <th>rub_per_minute</th>\n",
       "      <th>income</th>\n",
       "    </tr>\n",
       "  </thead>\n",
       "  <tbody>\n",
       "    <tr>\n",
       "      <td>32</td>\n",
       "      <td>1005</td>\n",
       "      <td>3</td>\n",
       "      <td>11104.25</td>\n",
       "      <td>11.0</td>\n",
       "      <td>63.0</td>\n",
       "      <td>606.0</td>\n",
       "      <td>56.0</td>\n",
       "      <td>smart</td>\n",
       "      <td>50</td>\n",
       "      <td>15360</td>\n",
       "      <td>500</td>\n",
       "      <td>550</td>\n",
       "      <td>200</td>\n",
       "      <td>3</td>\n",
       "      <td>3</td>\n",
       "      <td>886.0</td>\n",
       "    </tr>\n",
       "    <tr>\n",
       "      <td>33</td>\n",
       "      <td>1005</td>\n",
       "      <td>4</td>\n",
       "      <td>9351.72</td>\n",
       "      <td>10.0</td>\n",
       "      <td>77.0</td>\n",
       "      <td>712.0</td>\n",
       "      <td>41.0</td>\n",
       "      <td>smart</td>\n",
       "      <td>50</td>\n",
       "      <td>15360</td>\n",
       "      <td>500</td>\n",
       "      <td>550</td>\n",
       "      <td>200</td>\n",
       "      <td>3</td>\n",
       "      <td>3</td>\n",
       "      <td>1186.0</td>\n",
       "    </tr>\n",
       "  </tbody>\n",
       "</table>\n",
       "</div>"
      ],
      "text/plain": [
       "   user_id  month  mb_used_sum  gb_used  duration_count  duration_sum  \\\n",
       "32    1005      3     11104.25     11.0            63.0         606.0   \n",
       "33    1005      4      9351.72     10.0            77.0         712.0   \n",
       "\n",
       "    messages_count tariff_name  messages_included  mb_per_month_included  \\\n",
       "32            56.0       smart                 50                  15360   \n",
       "33            41.0       smart                 50                  15360   \n",
       "\n",
       "    minutes_included  rub_monthly_fee  rub_per_gb  rub_per_message  \\\n",
       "32               500              550         200                3   \n",
       "33               500              550         200                3   \n",
       "\n",
       "    rub_per_minute  income  \n",
       "32               3   886.0  \n",
       "33               3  1186.0  "
      ]
     },
     "execution_count": 36,
     "metadata": {},
     "output_type": "execute_result"
    }
   ],
   "source": [
    "pivot_cond.query('duration_sum > minutes_included').head(2)"
   ]
  },
  {
   "cell_type": "markdown",
   "metadata": {},
   "source": [
    "Функция работает корректно.\n",
    "\n",
    "Для наглядности оставим в сводной таблице только данные, которые в дальнейшем будут использованы для анализа:"
   ]
  },
  {
   "cell_type": "code",
   "execution_count": 37,
   "metadata": {},
   "outputs": [
    {
     "data": {
      "text/html": [
       "<div>\n",
       "<style scoped>\n",
       "    .dataframe tbody tr th:only-of-type {\n",
       "        vertical-align: middle;\n",
       "    }\n",
       "\n",
       "    .dataframe tbody tr th {\n",
       "        vertical-align: top;\n",
       "    }\n",
       "\n",
       "    .dataframe thead th {\n",
       "        text-align: right;\n",
       "    }\n",
       "</style>\n",
       "<table border=\"1\" class=\"dataframe\">\n",
       "  <thead>\n",
       "    <tr style=\"text-align: right;\">\n",
       "      <th></th>\n",
       "      <th>user_id</th>\n",
       "      <th>month</th>\n",
       "      <th>mb_used_sum</th>\n",
       "      <th>gb_used</th>\n",
       "      <th>duration_count</th>\n",
       "      <th>duration_sum</th>\n",
       "      <th>messages_count</th>\n",
       "      <th>tariff_name</th>\n",
       "      <th>income</th>\n",
       "    </tr>\n",
       "  </thead>\n",
       "  <tbody>\n",
       "    <tr>\n",
       "      <td>0</td>\n",
       "      <td>1000</td>\n",
       "      <td>5</td>\n",
       "      <td>2253.49</td>\n",
       "      <td>3.0</td>\n",
       "      <td>17.0</td>\n",
       "      <td>159.0</td>\n",
       "      <td>22.0</td>\n",
       "      <td>ultra</td>\n",
       "      <td>1950.0</td>\n",
       "    </tr>\n",
       "    <tr>\n",
       "      <td>1</td>\n",
       "      <td>1000</td>\n",
       "      <td>6</td>\n",
       "      <td>23233.77</td>\n",
       "      <td>23.0</td>\n",
       "      <td>28.0</td>\n",
       "      <td>172.0</td>\n",
       "      <td>60.0</td>\n",
       "      <td>ultra</td>\n",
       "      <td>1950.0</td>\n",
       "    </tr>\n",
       "    <tr>\n",
       "      <td>2</td>\n",
       "      <td>1000</td>\n",
       "      <td>7</td>\n",
       "      <td>14003.64</td>\n",
       "      <td>14.0</td>\n",
       "      <td>41.0</td>\n",
       "      <td>340.0</td>\n",
       "      <td>75.0</td>\n",
       "      <td>ultra</td>\n",
       "      <td>1950.0</td>\n",
       "    </tr>\n",
       "    <tr>\n",
       "      <td>3</td>\n",
       "      <td>1000</td>\n",
       "      <td>8</td>\n",
       "      <td>14055.93</td>\n",
       "      <td>14.0</td>\n",
       "      <td>42.0</td>\n",
       "      <td>408.0</td>\n",
       "      <td>81.0</td>\n",
       "      <td>ultra</td>\n",
       "      <td>1950.0</td>\n",
       "    </tr>\n",
       "    <tr>\n",
       "      <td>4</td>\n",
       "      <td>1000</td>\n",
       "      <td>9</td>\n",
       "      <td>14568.91</td>\n",
       "      <td>15.0</td>\n",
       "      <td>46.0</td>\n",
       "      <td>466.0</td>\n",
       "      <td>57.0</td>\n",
       "      <td>ultra</td>\n",
       "      <td>1950.0</td>\n",
       "    </tr>\n",
       "  </tbody>\n",
       "</table>\n",
       "</div>"
      ],
      "text/plain": [
       "  user_id  month  mb_used_sum  gb_used  duration_count  duration_sum  \\\n",
       "0    1000      5      2253.49      3.0            17.0         159.0   \n",
       "1    1000      6     23233.77     23.0            28.0         172.0   \n",
       "2    1000      7     14003.64     14.0            41.0         340.0   \n",
       "3    1000      8     14055.93     14.0            42.0         408.0   \n",
       "4    1000      9     14568.91     15.0            46.0         466.0   \n",
       "\n",
       "   messages_count tariff_name  income  \n",
       "0            22.0       ultra  1950.0  \n",
       "1            60.0       ultra  1950.0  \n",
       "2            75.0       ultra  1950.0  \n",
       "3            81.0       ultra  1950.0  \n",
       "4            57.0       ultra  1950.0  "
      ]
     },
     "execution_count": 37,
     "metadata": {},
     "output_type": "execute_result"
    }
   ],
   "source": [
    "pivot_incomes = pivot_cond.loc[:, ['user_id', 'month', 'mb_used_sum', 'gb_used', 'duration_count', 'duration_sum', 'messages_count', 'tariff_name', 'income']]\n",
    "pivot_incomes.head()"
   ]
  },
  {
   "cell_type": "markdown",
   "metadata": {},
   "source": [
    "### Вывод"
   ]
  },
  {
   "cell_type": "markdown",
   "metadata": {},
   "source": [
    "Для каждого пользователя были рассчитаны следующие показатели:\n",
    "- количество сделанных звонков и израсходованных минут разговора по месяцам;\n",
    "- количество отправленных сообщений по месяцам;\n",
    "- объем израсходованного интернет-трафика по месяцам;\n",
    "- помесячная выручка."
   ]
  },
  {
   "cell_type": "markdown",
   "metadata": {},
   "source": [
    "## Исследовательский анализ данных"
   ]
  },
  {
   "cell_type": "markdown",
   "metadata": {},
   "source": [
    "Посмотрим, сколько минут разговора, сколько сообщений и какой объём интернет-трафика требуется пользователям каждого тарифа в месяц на примере имеющейся выборки:"
   ]
  },
  {
   "cell_type": "code",
   "execution_count": 38,
   "metadata": {},
   "outputs": [
    {
     "data": {
      "text/html": [
       "<div>\n",
       "<style scoped>\n",
       "    .dataframe tbody tr th:only-of-type {\n",
       "        vertical-align: middle;\n",
       "    }\n",
       "\n",
       "    .dataframe tbody tr th {\n",
       "        vertical-align: top;\n",
       "    }\n",
       "\n",
       "    .dataframe thead th {\n",
       "        text-align: right;\n",
       "    }\n",
       "</style>\n",
       "<table border=\"1\" class=\"dataframe\">\n",
       "  <thead>\n",
       "    <tr style=\"text-align: right;\">\n",
       "      <th></th>\n",
       "      <th>user_id</th>\n",
       "      <th>month</th>\n",
       "      <th>mb_used_sum</th>\n",
       "      <th>gb_used</th>\n",
       "      <th>duration_count</th>\n",
       "      <th>duration_sum</th>\n",
       "      <th>messages_count</th>\n",
       "      <th>tariff_name</th>\n",
       "      <th>income</th>\n",
       "    </tr>\n",
       "  </thead>\n",
       "  <tbody>\n",
       "    <tr>\n",
       "      <td>0</td>\n",
       "      <td>1000</td>\n",
       "      <td>5</td>\n",
       "      <td>2253.49</td>\n",
       "      <td>3.0</td>\n",
       "      <td>17.0</td>\n",
       "      <td>159.0</td>\n",
       "      <td>22.0</td>\n",
       "      <td>ultra</td>\n",
       "      <td>1950.0</td>\n",
       "    </tr>\n",
       "    <tr>\n",
       "      <td>1</td>\n",
       "      <td>1000</td>\n",
       "      <td>6</td>\n",
       "      <td>23233.77</td>\n",
       "      <td>23.0</td>\n",
       "      <td>28.0</td>\n",
       "      <td>172.0</td>\n",
       "      <td>60.0</td>\n",
       "      <td>ultra</td>\n",
       "      <td>1950.0</td>\n",
       "    </tr>\n",
       "    <tr>\n",
       "      <td>2</td>\n",
       "      <td>1000</td>\n",
       "      <td>7</td>\n",
       "      <td>14003.64</td>\n",
       "      <td>14.0</td>\n",
       "      <td>41.0</td>\n",
       "      <td>340.0</td>\n",
       "      <td>75.0</td>\n",
       "      <td>ultra</td>\n",
       "      <td>1950.0</td>\n",
       "    </tr>\n",
       "    <tr>\n",
       "      <td>3</td>\n",
       "      <td>1000</td>\n",
       "      <td>8</td>\n",
       "      <td>14055.93</td>\n",
       "      <td>14.0</td>\n",
       "      <td>42.0</td>\n",
       "      <td>408.0</td>\n",
       "      <td>81.0</td>\n",
       "      <td>ultra</td>\n",
       "      <td>1950.0</td>\n",
       "    </tr>\n",
       "    <tr>\n",
       "      <td>4</td>\n",
       "      <td>1000</td>\n",
       "      <td>9</td>\n",
       "      <td>14568.91</td>\n",
       "      <td>15.0</td>\n",
       "      <td>46.0</td>\n",
       "      <td>466.0</td>\n",
       "      <td>57.0</td>\n",
       "      <td>ultra</td>\n",
       "      <td>1950.0</td>\n",
       "    </tr>\n",
       "  </tbody>\n",
       "</table>\n",
       "</div>"
      ],
      "text/plain": [
       "  user_id  month  mb_used_sum  gb_used  duration_count  duration_sum  \\\n",
       "0    1000      5      2253.49      3.0            17.0         159.0   \n",
       "1    1000      6     23233.77     23.0            28.0         172.0   \n",
       "2    1000      7     14003.64     14.0            41.0         340.0   \n",
       "3    1000      8     14055.93     14.0            42.0         408.0   \n",
       "4    1000      9     14568.91     15.0            46.0         466.0   \n",
       "\n",
       "   messages_count tariff_name  income  \n",
       "0            22.0       ultra  1950.0  \n",
       "1            60.0       ultra  1950.0  \n",
       "2            75.0       ultra  1950.0  \n",
       "3            81.0       ultra  1950.0  \n",
       "4            57.0       ultra  1950.0  "
      ]
     },
     "metadata": {},
     "output_type": "display_data"
    },
    {
     "data": {
      "text/html": [
       "<div>\n",
       "<style scoped>\n",
       "    .dataframe tbody tr th:only-of-type {\n",
       "        vertical-align: middle;\n",
       "    }\n",
       "\n",
       "    .dataframe tbody tr th {\n",
       "        vertical-align: top;\n",
       "    }\n",
       "\n",
       "    .dataframe thead th {\n",
       "        text-align: right;\n",
       "    }\n",
       "</style>\n",
       "<table border=\"1\" class=\"dataframe\">\n",
       "  <thead>\n",
       "    <tr style=\"text-align: right;\">\n",
       "      <th></th>\n",
       "      <th>user_id</th>\n",
       "      <th>month</th>\n",
       "      <th>mb_used_sum</th>\n",
       "      <th>gb_used</th>\n",
       "      <th>duration_count</th>\n",
       "      <th>duration_sum</th>\n",
       "      <th>messages_count</th>\n",
       "      <th>tariff_name</th>\n",
       "      <th>income</th>\n",
       "    </tr>\n",
       "  </thead>\n",
       "  <tbody>\n",
       "    <tr>\n",
       "      <td>8</td>\n",
       "      <td>1001</td>\n",
       "      <td>11</td>\n",
       "      <td>18429.34</td>\n",
       "      <td>18.0</td>\n",
       "      <td>45.0</td>\n",
       "      <td>430.0</td>\n",
       "      <td>0.0</td>\n",
       "      <td>smart</td>\n",
       "      <td>1150.0</td>\n",
       "    </tr>\n",
       "    <tr>\n",
       "      <td>9</td>\n",
       "      <td>1001</td>\n",
       "      <td>12</td>\n",
       "      <td>14036.66</td>\n",
       "      <td>14.0</td>\n",
       "      <td>47.0</td>\n",
       "      <td>414.0</td>\n",
       "      <td>0.0</td>\n",
       "      <td>smart</td>\n",
       "      <td>550.0</td>\n",
       "    </tr>\n",
       "    <tr>\n",
       "      <td>10</td>\n",
       "      <td>1002</td>\n",
       "      <td>6</td>\n",
       "      <td>10856.82</td>\n",
       "      <td>11.0</td>\n",
       "      <td>14.0</td>\n",
       "      <td>117.0</td>\n",
       "      <td>4.0</td>\n",
       "      <td>smart</td>\n",
       "      <td>550.0</td>\n",
       "    </tr>\n",
       "    <tr>\n",
       "      <td>11</td>\n",
       "      <td>1002</td>\n",
       "      <td>7</td>\n",
       "      <td>17580.10</td>\n",
       "      <td>18.0</td>\n",
       "      <td>21.0</td>\n",
       "      <td>214.0</td>\n",
       "      <td>11.0</td>\n",
       "      <td>smart</td>\n",
       "      <td>1150.0</td>\n",
       "    </tr>\n",
       "    <tr>\n",
       "      <td>12</td>\n",
       "      <td>1002</td>\n",
       "      <td>8</td>\n",
       "      <td>20319.26</td>\n",
       "      <td>20.0</td>\n",
       "      <td>37.0</td>\n",
       "      <td>289.0</td>\n",
       "      <td>13.0</td>\n",
       "      <td>smart</td>\n",
       "      <td>1550.0</td>\n",
       "    </tr>\n",
       "  </tbody>\n",
       "</table>\n",
       "</div>"
      ],
      "text/plain": [
       "   user_id  month  mb_used_sum  gb_used  duration_count  duration_sum  \\\n",
       "8     1001     11     18429.34     18.0            45.0         430.0   \n",
       "9     1001     12     14036.66     14.0            47.0         414.0   \n",
       "10    1002      6     10856.82     11.0            14.0         117.0   \n",
       "11    1002      7     17580.10     18.0            21.0         214.0   \n",
       "12    1002      8     20319.26     20.0            37.0         289.0   \n",
       "\n",
       "    messages_count tariff_name  income  \n",
       "8              0.0       smart  1150.0  \n",
       "9              0.0       smart   550.0  \n",
       "10             4.0       smart   550.0  \n",
       "11            11.0       smart  1150.0  \n",
       "12            13.0       smart  1550.0  "
      ]
     },
     "metadata": {},
     "output_type": "display_data"
    }
   ],
   "source": [
    "ultra = pivot_incomes.query('tariff_name == \"ultra\"') # для тарифа \"Ультра\"\n",
    "display(ultra.head())\n",
    "\n",
    "smart = pivot_incomes.query('tariff_name == \"smart\"') # для тарифа \"Смарт\"\n",
    "display(smart.head())"
   ]
  },
  {
   "cell_type": "code",
   "execution_count": 39,
   "metadata": {},
   "outputs": [
    {
     "name": "stdout",
     "output_type": "stream",
     "text": [
      "Количество клиентов, выбравших тариф \"Ультра\": 148\n",
      "Сумма выручки, которую принесли клиенты тарифа \"Ультра\" за 2018 год: 2039100.0\n"
     ]
    },
    {
     "data": {
      "text/html": [
       "<div>\n",
       "<style scoped>\n",
       "    .dataframe tbody tr th:only-of-type {\n",
       "        vertical-align: middle;\n",
       "    }\n",
       "\n",
       "    .dataframe tbody tr th {\n",
       "        vertical-align: top;\n",
       "    }\n",
       "\n",
       "    .dataframe thead th {\n",
       "        text-align: right;\n",
       "    }\n",
       "</style>\n",
       "<table border=\"1\" class=\"dataframe\">\n",
       "  <thead>\n",
       "    <tr style=\"text-align: right;\">\n",
       "      <th></th>\n",
       "      <th>count</th>\n",
       "      <th>mean</th>\n",
       "      <th>std</th>\n",
       "      <th>min</th>\n",
       "      <th>25%</th>\n",
       "      <th>50%</th>\n",
       "      <th>75%</th>\n",
       "      <th>max</th>\n",
       "      <th>var</th>\n",
       "    </tr>\n",
       "  </thead>\n",
       "  <tbody>\n",
       "    <tr>\n",
       "      <td>month</td>\n",
       "      <td>985.0</td>\n",
       "      <td>8.250761</td>\n",
       "      <td>2.871762</td>\n",
       "      <td>1.0</td>\n",
       "      <td>6.00</td>\n",
       "      <td>9.00</td>\n",
       "      <td>11.00</td>\n",
       "      <td>12.00</td>\n",
       "      <td>8.2</td>\n",
       "    </tr>\n",
       "    <tr>\n",
       "      <td>mb_used_sum</td>\n",
       "      <td>985.0</td>\n",
       "      <td>19468.805208</td>\n",
       "      <td>10087.170752</td>\n",
       "      <td>0.0</td>\n",
       "      <td>11770.26</td>\n",
       "      <td>19308.01</td>\n",
       "      <td>26837.69</td>\n",
       "      <td>49745.69</td>\n",
       "      <td>101751013.8</td>\n",
       "    </tr>\n",
       "    <tr>\n",
       "      <td>gb_used</td>\n",
       "      <td>985.0</td>\n",
       "      <td>19.494416</td>\n",
       "      <td>9.853511</td>\n",
       "      <td>0.0</td>\n",
       "      <td>12.00</td>\n",
       "      <td>19.00</td>\n",
       "      <td>27.00</td>\n",
       "      <td>49.00</td>\n",
       "      <td>97.1</td>\n",
       "    </tr>\n",
       "    <tr>\n",
       "      <td>duration_count</td>\n",
       "      <td>985.0</td>\n",
       "      <td>59.236548</td>\n",
       "      <td>35.562722</td>\n",
       "      <td>0.0</td>\n",
       "      <td>33.00</td>\n",
       "      <td>58.00</td>\n",
       "      <td>84.00</td>\n",
       "      <td>190.00</td>\n",
       "      <td>1264.7</td>\n",
       "    </tr>\n",
       "    <tr>\n",
       "      <td>duration_sum</td>\n",
       "      <td>985.0</td>\n",
       "      <td>526.623350</td>\n",
       "      <td>317.606098</td>\n",
       "      <td>0.0</td>\n",
       "      <td>284.00</td>\n",
       "      <td>518.00</td>\n",
       "      <td>752.00</td>\n",
       "      <td>1673.00</td>\n",
       "      <td>100873.6</td>\n",
       "    </tr>\n",
       "    <tr>\n",
       "      <td>messages_count</td>\n",
       "      <td>985.0</td>\n",
       "      <td>49.363452</td>\n",
       "      <td>47.804457</td>\n",
       "      <td>0.0</td>\n",
       "      <td>6.00</td>\n",
       "      <td>38.00</td>\n",
       "      <td>79.00</td>\n",
       "      <td>224.00</td>\n",
       "      <td>2285.3</td>\n",
       "    </tr>\n",
       "    <tr>\n",
       "      <td>income</td>\n",
       "      <td>985.0</td>\n",
       "      <td>2070.152284</td>\n",
       "      <td>376.187114</td>\n",
       "      <td>1950.0</td>\n",
       "      <td>1950.00</td>\n",
       "      <td>1950.00</td>\n",
       "      <td>1950.00</td>\n",
       "      <td>4800.00</td>\n",
       "      <td>141516.7</td>\n",
       "    </tr>\n",
       "  </tbody>\n",
       "</table>\n",
       "</div>"
      ],
      "text/plain": [
       "                count          mean           std     min       25%       50%  \\\n",
       "month           985.0      8.250761      2.871762     1.0      6.00      9.00   \n",
       "mb_used_sum     985.0  19468.805208  10087.170752     0.0  11770.26  19308.01   \n",
       "gb_used         985.0     19.494416      9.853511     0.0     12.00     19.00   \n",
       "duration_count  985.0     59.236548     35.562722     0.0     33.00     58.00   \n",
       "duration_sum    985.0    526.623350    317.606098     0.0    284.00    518.00   \n",
       "messages_count  985.0     49.363452     47.804457     0.0      6.00     38.00   \n",
       "income          985.0   2070.152284    376.187114  1950.0   1950.00   1950.00   \n",
       "\n",
       "                     75%       max          var  \n",
       "month              11.00     12.00          8.2  \n",
       "mb_used_sum     26837.69  49745.69  101751013.8  \n",
       "gb_used            27.00     49.00         97.1  \n",
       "duration_count     84.00    190.00       1264.7  \n",
       "duration_sum      752.00   1673.00     100873.6  \n",
       "messages_count     79.00    224.00       2285.3  \n",
       "income           1950.00   4800.00     141516.7  "
      ]
     },
     "execution_count": 39,
     "metadata": {},
     "output_type": "execute_result"
    }
   ],
   "source": [
    "print('Количество клиентов, выбравших тариф \"Ультра\":', len(ultra['user_id'].unique()))\n",
    "print('Сумма выручки, которую принесли клиенты тарифа \"Ультра\" за 2018 год:', ultra['income'].sum())\n",
    "stat_ultra = ultra.describe().T\n",
    "\n",
    "# расчёт выборочной дисперсии\n",
    "stat_ultra['var'] = (stat_ultra['std']**2).round(1)\n",
    "stat_ultra"
   ]
  },
  {
   "cell_type": "markdown",
   "metadata": {},
   "source": [
    "Тарифом \"Ультра\" пользуется 148 клиентов из нашей выборки. Сумма выручки от этого тарифа за год составила 2 млн. руб.\n",
    "\n",
    "В среднем, пользователям этого тарифа требуется 527 минут звонков, 49 сообщений, 19 Гб интернет-трафика. Средний доход, который приносит клиент этого тарифа - 2070 руб. Однако, если основываться на медианном значении, средний клиент платит только абонентскую плату - 1950 руб/месяц, а превышение получается за счёт небольшого количества клиентов, которые используют намного больше траффика."
   ]
  },
  {
   "cell_type": "code",
   "execution_count": 40,
   "metadata": {
    "scrolled": false
   },
   "outputs": [
    {
     "name": "stdout",
     "output_type": "stream",
     "text": [
      "Количество клиентов, выбравших тариф \"Смарт\": 350\n",
      "Сумма выручки, которую принесли клиенты тарифа \"Смарт\" за 2018 год: 2875351.0\n"
     ]
    },
    {
     "data": {
      "text/html": [
       "<div>\n",
       "<style scoped>\n",
       "    .dataframe tbody tr th:only-of-type {\n",
       "        vertical-align: middle;\n",
       "    }\n",
       "\n",
       "    .dataframe tbody tr th {\n",
       "        vertical-align: top;\n",
       "    }\n",
       "\n",
       "    .dataframe thead th {\n",
       "        text-align: right;\n",
       "    }\n",
       "</style>\n",
       "<table border=\"1\" class=\"dataframe\">\n",
       "  <thead>\n",
       "    <tr style=\"text-align: right;\">\n",
       "      <th></th>\n",
       "      <th>count</th>\n",
       "      <th>mean</th>\n",
       "      <th>std</th>\n",
       "      <th>min</th>\n",
       "      <th>25%</th>\n",
       "      <th>50%</th>\n",
       "      <th>75%</th>\n",
       "      <th>max</th>\n",
       "      <th>var</th>\n",
       "    </tr>\n",
       "  </thead>\n",
       "  <tbody>\n",
       "    <tr>\n",
       "      <td>month</td>\n",
       "      <td>2229.0</td>\n",
       "      <td>8.346792</td>\n",
       "      <td>2.920316</td>\n",
       "      <td>1.0</td>\n",
       "      <td>6.00</td>\n",
       "      <td>9.00</td>\n",
       "      <td>11.00</td>\n",
       "      <td>12.00</td>\n",
       "      <td>8.5</td>\n",
       "    </tr>\n",
       "    <tr>\n",
       "      <td>mb_used_sum</td>\n",
       "      <td>2229.0</td>\n",
       "      <td>16208.386990</td>\n",
       "      <td>5870.476681</td>\n",
       "      <td>0.0</td>\n",
       "      <td>12643.01</td>\n",
       "      <td>16506.84</td>\n",
       "      <td>20042.93</td>\n",
       "      <td>38552.45</td>\n",
       "      <td>34462496.5</td>\n",
       "    </tr>\n",
       "    <tr>\n",
       "      <td>gb_used</td>\n",
       "      <td>2229.0</td>\n",
       "      <td>16.328847</td>\n",
       "      <td>5.747061</td>\n",
       "      <td>0.0</td>\n",
       "      <td>13.00</td>\n",
       "      <td>17.00</td>\n",
       "      <td>20.00</td>\n",
       "      <td>38.00</td>\n",
       "      <td>33.0</td>\n",
       "    </tr>\n",
       "    <tr>\n",
       "      <td>duration_count</td>\n",
       "      <td>2229.0</td>\n",
       "      <td>46.947510</td>\n",
       "      <td>21.039171</td>\n",
       "      <td>0.0</td>\n",
       "      <td>32.00</td>\n",
       "      <td>47.00</td>\n",
       "      <td>61.00</td>\n",
       "      <td>162.00</td>\n",
       "      <td>442.6</td>\n",
       "    </tr>\n",
       "    <tr>\n",
       "      <td>duration_sum</td>\n",
       "      <td>2229.0</td>\n",
       "      <td>417.934948</td>\n",
       "      <td>190.313730</td>\n",
       "      <td>0.0</td>\n",
       "      <td>282.00</td>\n",
       "      <td>422.00</td>\n",
       "      <td>545.00</td>\n",
       "      <td>1435.00</td>\n",
       "      <td>36219.3</td>\n",
       "    </tr>\n",
       "    <tr>\n",
       "      <td>messages_count</td>\n",
       "      <td>2229.0</td>\n",
       "      <td>33.384029</td>\n",
       "      <td>28.227876</td>\n",
       "      <td>0.0</td>\n",
       "      <td>10.00</td>\n",
       "      <td>28.00</td>\n",
       "      <td>51.00</td>\n",
       "      <td>143.00</td>\n",
       "      <td>796.8</td>\n",
       "    </tr>\n",
       "    <tr>\n",
       "      <td>income</td>\n",
       "      <td>2229.0</td>\n",
       "      <td>1289.973531</td>\n",
       "      <td>818.404367</td>\n",
       "      <td>550.0</td>\n",
       "      <td>550.00</td>\n",
       "      <td>1023.00</td>\n",
       "      <td>1750.00</td>\n",
       "      <td>6770.00</td>\n",
       "      <td>669785.7</td>\n",
       "    </tr>\n",
       "  </tbody>\n",
       "</table>\n",
       "</div>"
      ],
      "text/plain": [
       "                 count          mean          std    min       25%       50%  \\\n",
       "month           2229.0      8.346792     2.920316    1.0      6.00      9.00   \n",
       "mb_used_sum     2229.0  16208.386990  5870.476681    0.0  12643.01  16506.84   \n",
       "gb_used         2229.0     16.328847     5.747061    0.0     13.00     17.00   \n",
       "duration_count  2229.0     46.947510    21.039171    0.0     32.00     47.00   \n",
       "duration_sum    2229.0    417.934948   190.313730    0.0    282.00    422.00   \n",
       "messages_count  2229.0     33.384029    28.227876    0.0     10.00     28.00   \n",
       "income          2229.0   1289.973531   818.404367  550.0    550.00   1023.00   \n",
       "\n",
       "                     75%       max         var  \n",
       "month              11.00     12.00         8.5  \n",
       "mb_used_sum     20042.93  38552.45  34462496.5  \n",
       "gb_used            20.00     38.00        33.0  \n",
       "duration_count     61.00    162.00       442.6  \n",
       "duration_sum      545.00   1435.00     36219.3  \n",
       "messages_count     51.00    143.00       796.8  \n",
       "income           1750.00   6770.00    669785.7  "
      ]
     },
     "execution_count": 40,
     "metadata": {},
     "output_type": "execute_result"
    }
   ],
   "source": [
    "print('Количество клиентов, выбравших тариф \"Смарт\":', len(smart['user_id'].unique()))\n",
    "print('Сумма выручки, которую принесли клиенты тарифа \"Смарт\" за 2018 год:', smart['income'].sum())\n",
    "stat_smart = smart.describe().T\n",
    "\n",
    "# расчёт выборочной дисперсии\n",
    "stat_smart['var'] = (stat_smart['std']**2).round(1)\n",
    "stat_smart"
   ]
  },
  {
   "cell_type": "markdown",
   "metadata": {},
   "source": [
    "Тариф \"Смарт\" выбирают чаще: 350 клиентов из выборки. Сумма выручки от этого тарифа за год составила 2,9 млн. руб. \n",
    "\n",
    "Пользователям этого тарифа требуется в среднем 418 минут разговора, 33 сообщения и 16 Гб интернет-трафика - меньше, чем пользователям тарифа \"Ультра\". Средний доход, который приносит клиент в рамках тарифа \"Смарт\" - 1290 руб., медианный - 1023 руб, нижний квартиль  - 550 руб., равен абонентской плате. То есть более 50% пользователей этого тарифа не укладывается в бесплатный пакет в рамках абонентской платы, им приходится платить за услуги сверх лимита.\n",
    "\n",
    "Отобразим графически распределения интересующих нас показателей тарифов.\n",
    "\n",
    "Начнём с **распределения времени разговора в месяц**:"
   ]
  },
  {
   "cell_type": "code",
   "execution_count": 41,
   "metadata": {},
   "outputs": [
    {
     "data": {
      "image/png": "[encoded data removed]",
      "text/plain": [
       "<Figure size 432x288 with 1 Axes>"
      ]
     },
     "metadata": {
      "needs_background": "light"
     },
     "output_type": "display_data"
    },
    {
     "data": {
      "image/png": "[encoded data removed]",
      "text/plain": [
       "<Figure size 432x288 with 1 Axes>"
      ]
     },
     "metadata": {
      "needs_background": "light"
     },
     "output_type": "display_data"
    },
    {
     "data": {
      "image/png": "[encoded data removed]",
      "text/plain": [
       "<Figure size 432x288 with 1 Axes>"
      ]
     },
     "metadata": {
      "needs_background": "light"
     },
     "output_type": "display_data"
    }
   ],
   "source": [
    "# частотная гистограмма\n",
    "ultra['duration_sum'].hist(alpha = 0.7)\n",
    "smart['duration_sum'].hist(alpha = 0.7)\n",
    "plt.title('Гистограмма частот')\n",
    "plt.xlabel('Количество минут')\n",
    "plt.legend(['Ультра', 'Смарт'])\n",
    "plt.show()\n",
    "\n",
    "# график плотности\n",
    "ultra['duration_sum'].plot(kind='density')\n",
    "smart['duration_sum'].plot(kind='density')\n",
    "plt.title('График плотности')\n",
    "plt.xlabel('Количество минут')\n",
    "plt.legend(['Ультра', 'Смарт'])\n",
    "plt.xlim(-200, 1700)\n",
    "plt.grid(True)\n",
    "plt.show()\n",
    "\n",
    "# боксплот\n",
    "sns.boxplot(x = pivot_incomes['tariff_name'], y = pivot_incomes['duration_sum'])\n",
    "plt.show()"
   ]
  },
  {
   "cell_type": "markdown",
   "metadata": {},
   "source": [
    "Оба распределения близки к нормальным, ассимметричны, скошены вправо, со средним около 500 минут (точнее - 418 для тарифа \"Смарт\" и 527 для тарифа \"Ультра\"). Распределение минут в тарифе \"Смарт\" - более компактное, распределение для тарифа \"Ультра\" имеет значительно большее стандартное отклонение (190 и 318 соответственно), что говорит о большем количестве абонентов дорогого тарифа \"Ультра\", которые тратят времени на разговоры больше среднего (а значит, не зря выбрали для себя данный тариф). 1,5 межквартильного размаха от верхнего квартиля для тарифа \"Ультра\" заканчивается на значениях около 1400 минут, тогда как для тарифа \"Смарт\" - в районе 900 минут. При этом абонентов, разговаривающих аномально много по сравнению с большинством, в тарифе \"Ультра\" всего 2, тогда как в тарифе \"Смарт\" - лостаточно много. И тем не менее, максимум разговоров в месяц принадлежит абоненту тарифа \"Ультра\" - 1674 минуты против 1435 минут в месяц для абонентов \"Смарт\".  \n",
    "\n",
    "**Распределение количества сообщений в месяц**:"
   ]
  },
  {
   "cell_type": "code",
   "execution_count": 42,
   "metadata": {},
   "outputs": [
    {
     "data": {
      "image/png": "[encoded data removed]",
      "text/plain": [
       "<Figure size 432x288 with 1 Axes>"
      ]
     },
     "metadata": {
      "needs_background": "light"
     },
     "output_type": "display_data"
    },
    {
     "data": {
      "image/png": "[encoded data removed]",
      "text/plain": [
       "<Figure size 432x288 with 1 Axes>"
      ]
     },
     "metadata": {
      "needs_background": "light"
     },
     "output_type": "display_data"
    },
    {
     "data": {
      "image/png": "[encoded data removed]",
      "text/plain": [
       "<Figure size 432x288 with 1 Axes>"
      ]
     },
     "metadata": {
      "needs_background": "light"
     },
     "output_type": "display_data"
    }
   ],
   "source": [
    "# частотная гистограмма\n",
    "ultra['messages_count'].hist(alpha = 0.7)\n",
    "smart['messages_count'].hist(alpha = 0.7)\n",
    "plt.title('Гистограмма частот')\n",
    "plt.xlabel('Количество сообщений')\n",
    "plt.legend(['Ультра', 'Смарт'])\n",
    "plt.show()\n",
    "\n",
    "# график плотности\n",
    "ultra['messages_count'].plot(kind='density')\n",
    "smart['messages_count'].plot(kind='density')\n",
    "plt.title('График плотности')\n",
    "plt.xlabel('Количество сообщений')\n",
    "plt.legend(['Ультра', 'Смарт'])\n",
    "plt.xlim(-50, 225)\n",
    "plt.grid(True)\n",
    "plt.show()\n",
    "\n",
    "# боксплот\n",
    "sns.boxplot(x = pivot_incomes['tariff_name'], y = pivot_incomes['messages_count'])\n",
    "plt.show()"
   ]
  },
  {
   "cell_type": "markdown",
   "metadata": {},
   "source": [
    "Оба распределения количества сообщений в месяц близки к нормальным, ассимметричны, сильно скошены вправо, со средним около 40 ( 33 для тарифа \"Смарт\" и 49 для тарифа \"Ультра\"). Распределение в тарифе \"Смарт\" снова выглядит более компактным, распределение для тарифа \"Ультра\" имеет большее стандартное отклонение (28 и 48 соответственно). 75% пользователей тарифа \"Смарт\" укладываются в  51 сообщение в месяц, тогда как 75% абонентов тарифа \"Ультра\" - в 79 сообщений в месяц. В обеих выборках достаточно много абонентов, использующих гораздо больше вообщений, нежели средний абонент. Максимум сообщений в месяц в тарифе \"Смарт\" - 143, в тарифе \"Ультра\" - 224.\n",
    "\n",
    "**Распределение использования интернет-трафика в месяц**:"
   ]
  },
  {
   "cell_type": "code",
   "execution_count": 43,
   "metadata": {
    "scrolled": true
   },
   "outputs": [
    {
     "data": {
      "image/png": "[encoded data removed]",
      "text/plain": [
       "<Figure size 432x288 with 1 Axes>"
      ]
     },
     "metadata": {
      "needs_background": "light"
     },
     "output_type": "display_data"
    },
    {
     "data": {
      "image/png": "[encoded data removed]",
      "text/plain": [
       "<Figure size 432x288 with 1 Axes>"
      ]
     },
     "metadata": {
      "needs_background": "light"
     },
     "output_type": "display_data"
    },
    {
     "data": {
      "image/png": "[encoded data removed]",
      "text/plain": [
       "<Figure size 432x288 with 1 Axes>"
      ]
     },
     "metadata": {
      "needs_background": "light"
     },
     "output_type": "display_data"
    }
   ],
   "source": [
    "# частотная гистограмма\n",
    "ultra['gb_used'].hist(alpha = 0.7)\n",
    "smart['gb_used'].hist(alpha = 0.7)\n",
    "plt.title('Гистограмма частот')\n",
    "plt.xlabel('Количество Гб')\n",
    "plt.legend(['Ультра', 'Смарт'])\n",
    "plt.show()\n",
    "\n",
    "# график плотности\n",
    "ultra['gb_used'].plot(kind = 'density')\n",
    "smart['gb_used'].plot(kind= 'density')\n",
    "plt.title('График плотности')\n",
    "plt.xlabel('Количество Гб')\n",
    "plt.legend(['Ультра', 'Смарт'])\n",
    "plt.xlim(-5, 50)\n",
    "plt.grid(True)\n",
    "plt.show()\n",
    "\n",
    "# боксплот\n",
    "sns.boxplot(x = pivot_incomes['tariff_name'], y = pivot_incomes['gb_used'])\n",
    "plt.show()"
   ]
  },
  {
   "cell_type": "markdown",
   "metadata": {},
   "source": [
    "Оба распределения близки к нормальным, практически симметричны, со средним для тарифа \"Смарт\" - 16Гб, для тарифа \"Ультра\" - 19Гб. Распределение в тарифе \"Смарт\", как и впредыдущих случаях - более узкое, распределение для тарифа \"Ультра\" - более широкое, стандартные отклонения равны 6 и 10 Гб соответственно. При этом в выборке абонентов тариа \"Ультра\" вообще нет выбросов, все абоненты укладываются в рамки, описанные распределением (за счёт того, что оно более вариативно и предполагает более широкие рамки), и используют в месяц не более 49Гб в месяц. Тогда как в распределении для абонентов тарифа \"Смарт\" много выбросов как сверху, так и снизу при максимуме в 38 Гб с месяц, то есть поведение абонентов этого тарифа более унифицированное, подавляющее большинство абонентов использует в месяц примерно 3 - 30 Гб трафика.  \n",
    "\n",
    "**Распределение месячных доходов от абонентов**:"
   ]
  },
  {
   "cell_type": "code",
   "execution_count": 44,
   "metadata": {
    "scrolled": true
   },
   "outputs": [
    {
     "data": {
      "image/png": "[encoded data removed]",
      "text/plain": [
       "<Figure size 432x288 with 1 Axes>"
      ]
     },
     "metadata": {
      "needs_background": "light"
     },
     "output_type": "display_data"
    },
    {
     "data": {
      "image/png": "[encoded data removed]",
      "text/plain": [
       "<Figure size 432x288 with 1 Axes>"
      ]
     },
     "metadata": {
      "needs_background": "light"
     },
     "output_type": "display_data"
    },
    {
     "data": {
      "image/png": "[encoded data removed]",
      "text/plain": [
       "<Figure size 432x288 with 1 Axes>"
      ]
     },
     "metadata": {
      "needs_background": "light"
     },
     "output_type": "display_data"
    }
   ],
   "source": [
    "# частотная гистограмма\n",
    "ultra['income'].hist(alpha = 0.7)\n",
    "smart['income'].hist(alpha = 0.7)\n",
    "plt.title('Гистограмма частот')\n",
    "plt.xlabel('Руб.')\n",
    "plt.legend(['Ультра', 'Смарт'])\n",
    "plt.show()\n",
    "\n",
    "# график плотности\n",
    "ultra['income'].plot(kind='density')\n",
    "smart['income'].plot(kind='density')\n",
    "plt.title('График плотности')\n",
    "plt.xlabel('Руб.')\n",
    "plt.legend(['Ультра', 'Смарт'])\n",
    "plt.xlim(0, 6800)\n",
    "plt.grid(True)\n",
    "plt.show()\n",
    "\n",
    "# боксплот\n",
    "sns.boxplot(x = pivot_incomes['tariff_name'], y = pivot_incomes['income'])\n",
    "plt.show()"
   ]
  },
  {
   "cell_type": "markdown",
   "metadata": {},
   "source": [
    "Оба распределения близки к нормальным,с выраженной ассимметрией вправо, со медианами для тарифа \"Смарт\" - 1023 руб., для тарифа \"Ультра\" - 1950 руб. На этот раз распределение доходов от тарифа \"Ультра\" гораздо уже, чем у тарифа \"Смарт\", что обусловлено условиями тарифных планов, - более 75% абонентов тарифа \"Ультра\" платят абонентскую плату 1950 руб./мес. и укладываются в рамки предоставленных пакетов. Тогда как в рамках тарифа \"Смарт\" менее 50% абонентов удаётся уложиться в рамки пакетов, для этого тарифа уже медианное значение затрат на связь превышет абонентскую плату 550 руб./месяц. Выбросов достаточно много в каждом распределении, оба сильно скошены вправо, что говорит о наличии большого количества абонентов, тратящих на связь гораздо больше средних сумм. Удивительно, но максимум затрат на связь в месяц приходится не на абонентов дорогого тарифа \"Ультра\", а на клиентов более дешёвого \"Смарт\" - 6770 руб. (максимум для тарифа \"Ультра\" - 4800 руб.). Взглянем на них:  "
   ]
  },
  {
   "cell_type": "code",
   "execution_count": 45,
   "metadata": {},
   "outputs": [
    {
     "data": {
      "text/html": [
       "<div>\n",
       "<style scoped>\n",
       "    .dataframe tbody tr th:only-of-type {\n",
       "        vertical-align: middle;\n",
       "    }\n",
       "\n",
       "    .dataframe tbody tr th {\n",
       "        vertical-align: top;\n",
       "    }\n",
       "\n",
       "    .dataframe thead th {\n",
       "        text-align: right;\n",
       "    }\n",
       "</style>\n",
       "<table border=\"1\" class=\"dataframe\">\n",
       "  <thead>\n",
       "    <tr style=\"text-align: right;\">\n",
       "      <th></th>\n",
       "      <th>user_id</th>\n",
       "      <th>month</th>\n",
       "      <th>mb_used_sum</th>\n",
       "      <th>gb_used</th>\n",
       "      <th>duration_count</th>\n",
       "      <th>duration_sum</th>\n",
       "      <th>messages_count</th>\n",
       "      <th>tariff_name</th>\n",
       "      <th>income</th>\n",
       "    </tr>\n",
       "  </thead>\n",
       "  <tbody>\n",
       "    <tr>\n",
       "      <td>260</td>\n",
       "      <td>1042</td>\n",
       "      <td>12</td>\n",
       "      <td>37165.69</td>\n",
       "      <td>37.0</td>\n",
       "      <td>94.0</td>\n",
       "      <td>728.0</td>\n",
       "      <td>75.0</td>\n",
       "      <td>smart</td>\n",
       "      <td>5709.0</td>\n",
       "    </tr>\n",
       "    <tr>\n",
       "      <td>622</td>\n",
       "      <td>1098</td>\n",
       "      <td>12</td>\n",
       "      <td>36523.90</td>\n",
       "      <td>36.0</td>\n",
       "      <td>63.0</td>\n",
       "      <td>588.0</td>\n",
       "      <td>14.0</td>\n",
       "      <td>smart</td>\n",
       "      <td>5014.0</td>\n",
       "    </tr>\n",
       "    <tr>\n",
       "      <td>1016</td>\n",
       "      <td>1159</td>\n",
       "      <td>12</td>\n",
       "      <td>35135.89</td>\n",
       "      <td>35.0</td>\n",
       "      <td>85.0</td>\n",
       "      <td>734.0</td>\n",
       "      <td>2.0</td>\n",
       "      <td>smart</td>\n",
       "      <td>5252.0</td>\n",
       "    </tr>\n",
       "    <tr>\n",
       "      <td>1646</td>\n",
       "      <td>1261</td>\n",
       "      <td>12</td>\n",
       "      <td>32650.91</td>\n",
       "      <td>32.0</td>\n",
       "      <td>113.0</td>\n",
       "      <td>1074.0</td>\n",
       "      <td>22.0</td>\n",
       "      <td>smart</td>\n",
       "      <td>5672.0</td>\n",
       "    </tr>\n",
       "    <tr>\n",
       "      <td>1809</td>\n",
       "      <td>1286</td>\n",
       "      <td>12</td>\n",
       "      <td>35108.07</td>\n",
       "      <td>35.0</td>\n",
       "      <td>83.0</td>\n",
       "      <td>739.0</td>\n",
       "      <td>68.0</td>\n",
       "      <td>smart</td>\n",
       "      <td>5321.0</td>\n",
       "    </tr>\n",
       "    <tr>\n",
       "      <td>3127</td>\n",
       "      <td>1486</td>\n",
       "      <td>11</td>\n",
       "      <td>36266.11</td>\n",
       "      <td>36.0</td>\n",
       "      <td>84.0</td>\n",
       "      <td>764.0</td>\n",
       "      <td>96.0</td>\n",
       "      <td>smart</td>\n",
       "      <td>5680.0</td>\n",
       "    </tr>\n",
       "    <tr>\n",
       "      <td>3128</td>\n",
       "      <td>1486</td>\n",
       "      <td>12</td>\n",
       "      <td>38552.45</td>\n",
       "      <td>38.0</td>\n",
       "      <td>115.0</td>\n",
       "      <td>1007.0</td>\n",
       "      <td>83.0</td>\n",
       "      <td>smart</td>\n",
       "      <td>6770.0</td>\n",
       "    </tr>\n",
       "  </tbody>\n",
       "</table>\n",
       "</div>"
      ],
      "text/plain": [
       "     user_id  month  mb_used_sum  gb_used  duration_count  duration_sum  \\\n",
       "260     1042     12     37165.69     37.0            94.0         728.0   \n",
       "622     1098     12     36523.90     36.0            63.0         588.0   \n",
       "1016    1159     12     35135.89     35.0            85.0         734.0   \n",
       "1646    1261     12     32650.91     32.0           113.0        1074.0   \n",
       "1809    1286     12     35108.07     35.0            83.0         739.0   \n",
       "3127    1486     11     36266.11     36.0            84.0         764.0   \n",
       "3128    1486     12     38552.45     38.0           115.0        1007.0   \n",
       "\n",
       "      messages_count tariff_name  income  \n",
       "260             75.0       smart  5709.0  \n",
       "622             14.0       smart  5014.0  \n",
       "1016             2.0       smart  5252.0  \n",
       "1646            22.0       smart  5672.0  \n",
       "1809            68.0       smart  5321.0  \n",
       "3127            96.0       smart  5680.0  \n",
       "3128            83.0       smart  6770.0  "
      ]
     },
     "execution_count": 45,
     "metadata": {},
     "output_type": "execute_result"
    }
   ],
   "source": [
    "smart.query('income > 5000')"
   ]
  },
  {
   "cell_type": "markdown",
   "metadata": {},
   "source": [
    "Веротяно, этим абонентам стоит пересмотреть свой тариф, поскольку в тарифе \"Ультра\" расценки на трафик сверх лимита ниже, чем в тарифе \"Смарт\". Примечательно, что почти все сверхрасходы приходятся на декабрь."
   ]
  },
  {
   "cell_type": "code",
   "execution_count": 46,
   "metadata": {},
   "outputs": [
    {
     "data": {
      "image/png": "[encoded data removed]",
      "text/plain": [
       "<Figure size 1152x360 with 2 Axes>"
      ]
     },
     "metadata": {
      "needs_background": "light"
     },
     "output_type": "display_data"
    }
   ],
   "source": [
    "fig, axs = plt.subplots(1, 2, figsize=(16, 5))\n",
    "axs[0].hist(ultra['income'],alpha = 0.7)\n",
    "axs[0].hist(smart['income'],alpha = 0.7)\n",
    "axs[1] = sns.boxplot(smart['income'])\n",
    "plt.show()"
   ]
  },
  {
   "cell_type": "markdown",
   "metadata": {},
   "source": [
    "**Проверим следующие гипотезы:**\n",
    "- средняя выручка пользователей тарифов «Ультра» и «Смарт» различается;\n",
    "- средняя выручка пользователей из Москвы отличается от выручки пользователей из других регионов.\n",
    "\n",
    "Уровень статистической значимости примем равным 5%.\n",
    "\n",
    "---\n",
    "**1.** Гипотеза H0: средняя выручка пользователей тарифов «Ультра» равна средней выручке тарифа «Смарт».\n",
    "   Гипотеза H1: средняя выручка пользователей тарифов «Ультра» не равна средней выручке тарифа «Смарт»"
   ]
  },
  {
   "cell_type": "code",
   "execution_count": 47,
   "metadata": {},
   "outputs": [
    {
     "name": "stdout",
     "output_type": "stream",
     "text": [
      "Выборочная дисперсия для тарифа \"Ультра\": 141516.74507861826\n",
      "Выборочная дисперсия для тарифа \"Смарт\": 669785.7080064242 \n",
      "\n",
      "p-значение: 4.2606313931076085e-250\n",
      "Отвергаем H0\n"
     ]
    }
   ],
   "source": [
    "# проверка равенства дисперсий:\n",
    "print('Выборочная дисперсия для тарифа \"Ультра\":', np.var(ultra['income'], ddof = 1))\n",
    "print('Выборочная дисперсия для тарифа \"Смарт\":', np.var(smart['income'], ddof = 1), '\\n')\n",
    "\n",
    "alpha = 0.05\n",
    "results = st.ttest_ind(smart['income'], ultra['income'], equal_var = False) # дисперсии выборок сильно отличаются, отразили это в расчёте\n",
    "print('p-значение:', results.pvalue)\n",
    "if (results.pvalue < alpha):\n",
    "    print('Отвергаем H0')\n",
    "else:\n",
    "    print('Не получилось отвергнуть H0')"
   ]
  },
  {
   "cell_type": "markdown",
   "metadata": {},
   "source": [
    "Значение p-value значительно ниже уровня статистической значимости в 5%, а значит, нулевую гипотезу стоит отвергнуть: с большой вероятностью средние значения выручки от клиентов тарифов \"Ультра\" и \"Смарт\" не равны (и как мы уже разобрали выше, это соответствует данным нашей выборки).\n",
    "\n",
    "---\n",
    "**2.** Гипотеза Н0: средняя выручка от клиентов из Москвы равна выручке от клиентов из других регионов. Гипотеза Н1: средняя выручка от клиентов из Москвы отличается от выручки от клиентов из других регионов.\n",
    "\n",
    "Для проверки этой гипотезы сперва добавим в сводную таблицу данные о городах абонентов."
   ]
  },
  {
   "cell_type": "code",
   "execution_count": 48,
   "metadata": {},
   "outputs": [
    {
     "data": {
      "text/html": [
       "<div>\n",
       "<style scoped>\n",
       "    .dataframe tbody tr th:only-of-type {\n",
       "        vertical-align: middle;\n",
       "    }\n",
       "\n",
       "    .dataframe tbody tr th {\n",
       "        vertical-align: top;\n",
       "    }\n",
       "\n",
       "    .dataframe thead th {\n",
       "        text-align: right;\n",
       "    }\n",
       "</style>\n",
       "<table border=\"1\" class=\"dataframe\">\n",
       "  <thead>\n",
       "    <tr style=\"text-align: right;\">\n",
       "      <th></th>\n",
       "      <th>user_id</th>\n",
       "      <th>city</th>\n",
       "    </tr>\n",
       "  </thead>\n",
       "  <tbody>\n",
       "    <tr>\n",
       "      <td>0</td>\n",
       "      <td>1000</td>\n",
       "      <td>Краснодар</td>\n",
       "    </tr>\n",
       "    <tr>\n",
       "      <td>1</td>\n",
       "      <td>1001</td>\n",
       "      <td>Москва</td>\n",
       "    </tr>\n",
       "    <tr>\n",
       "      <td>2</td>\n",
       "      <td>1002</td>\n",
       "      <td>Стерлитамак</td>\n",
       "    </tr>\n",
       "    <tr>\n",
       "      <td>3</td>\n",
       "      <td>1003</td>\n",
       "      <td>Москва</td>\n",
       "    </tr>\n",
       "    <tr>\n",
       "      <td>4</td>\n",
       "      <td>1004</td>\n",
       "      <td>Новокузнецк</td>\n",
       "    </tr>\n",
       "  </tbody>\n",
       "</table>\n",
       "</div>"
      ],
      "text/plain": [
       "  user_id         city\n",
       "0    1000    Краснодар\n",
       "1    1001       Москва\n",
       "2    1002  Стерлитамак\n",
       "3    1003       Москва\n",
       "4    1004  Новокузнецк"
      ]
     },
     "execution_count": 48,
     "metadata": {},
     "output_type": "execute_result"
    }
   ],
   "source": [
    "cities = users.loc[:, ['user_id', 'city']] # создали справочник с городами для объединения\n",
    "cities.head()"
   ]
  },
  {
   "cell_type": "code",
   "execution_count": 49,
   "metadata": {},
   "outputs": [
    {
     "data": {
      "text/html": [
       "<div>\n",
       "<style scoped>\n",
       "    .dataframe tbody tr th:only-of-type {\n",
       "        vertical-align: middle;\n",
       "    }\n",
       "\n",
       "    .dataframe tbody tr th {\n",
       "        vertical-align: top;\n",
       "    }\n",
       "\n",
       "    .dataframe thead th {\n",
       "        text-align: right;\n",
       "    }\n",
       "</style>\n",
       "<table border=\"1\" class=\"dataframe\">\n",
       "  <thead>\n",
       "    <tr style=\"text-align: right;\">\n",
       "      <th></th>\n",
       "      <th>user_id</th>\n",
       "      <th>month</th>\n",
       "      <th>mb_used_sum</th>\n",
       "      <th>gb_used</th>\n",
       "      <th>duration_count</th>\n",
       "      <th>duration_sum</th>\n",
       "      <th>messages_count</th>\n",
       "      <th>tariff_name</th>\n",
       "      <th>income</th>\n",
       "      <th>city</th>\n",
       "    </tr>\n",
       "  </thead>\n",
       "  <tbody>\n",
       "    <tr>\n",
       "      <td>0</td>\n",
       "      <td>1000</td>\n",
       "      <td>5</td>\n",
       "      <td>2253.49</td>\n",
       "      <td>3.0</td>\n",
       "      <td>17.0</td>\n",
       "      <td>159.0</td>\n",
       "      <td>22.0</td>\n",
       "      <td>ultra</td>\n",
       "      <td>1950.0</td>\n",
       "      <td>Краснодар</td>\n",
       "    </tr>\n",
       "    <tr>\n",
       "      <td>1</td>\n",
       "      <td>1000</td>\n",
       "      <td>6</td>\n",
       "      <td>23233.77</td>\n",
       "      <td>23.0</td>\n",
       "      <td>28.0</td>\n",
       "      <td>172.0</td>\n",
       "      <td>60.0</td>\n",
       "      <td>ultra</td>\n",
       "      <td>1950.0</td>\n",
       "      <td>Краснодар</td>\n",
       "    </tr>\n",
       "    <tr>\n",
       "      <td>2</td>\n",
       "      <td>1000</td>\n",
       "      <td>7</td>\n",
       "      <td>14003.64</td>\n",
       "      <td>14.0</td>\n",
       "      <td>41.0</td>\n",
       "      <td>340.0</td>\n",
       "      <td>75.0</td>\n",
       "      <td>ultra</td>\n",
       "      <td>1950.0</td>\n",
       "      <td>Краснодар</td>\n",
       "    </tr>\n",
       "    <tr>\n",
       "      <td>3</td>\n",
       "      <td>1000</td>\n",
       "      <td>8</td>\n",
       "      <td>14055.93</td>\n",
       "      <td>14.0</td>\n",
       "      <td>42.0</td>\n",
       "      <td>408.0</td>\n",
       "      <td>81.0</td>\n",
       "      <td>ultra</td>\n",
       "      <td>1950.0</td>\n",
       "      <td>Краснодар</td>\n",
       "    </tr>\n",
       "    <tr>\n",
       "      <td>4</td>\n",
       "      <td>1000</td>\n",
       "      <td>9</td>\n",
       "      <td>14568.91</td>\n",
       "      <td>15.0</td>\n",
       "      <td>46.0</td>\n",
       "      <td>466.0</td>\n",
       "      <td>57.0</td>\n",
       "      <td>ultra</td>\n",
       "      <td>1950.0</td>\n",
       "      <td>Краснодар</td>\n",
       "    </tr>\n",
       "  </tbody>\n",
       "</table>\n",
       "</div>"
      ],
      "text/plain": [
       "  user_id  month  mb_used_sum  gb_used  duration_count  duration_sum  \\\n",
       "0    1000      5      2253.49      3.0            17.0         159.0   \n",
       "1    1000      6     23233.77     23.0            28.0         172.0   \n",
       "2    1000      7     14003.64     14.0            41.0         340.0   \n",
       "3    1000      8     14055.93     14.0            42.0         408.0   \n",
       "4    1000      9     14568.91     15.0            46.0         466.0   \n",
       "\n",
       "   messages_count tariff_name  income       city  \n",
       "0            22.0       ultra  1950.0  Краснодар  \n",
       "1            60.0       ultra  1950.0  Краснодар  \n",
       "2            75.0       ultra  1950.0  Краснодар  \n",
       "3            81.0       ultra  1950.0  Краснодар  \n",
       "4            57.0       ultra  1950.0  Краснодар  "
      ]
     },
     "execution_count": 49,
     "metadata": {},
     "output_type": "execute_result"
    }
   ],
   "source": [
    "pivot_with_city = pivot_incomes.merge(cities, on = 'user_id', how = 'left') # добавляем данные по городам к сводной таблице\n",
    "pivot_with_city.head()"
   ]
  },
  {
   "cell_type": "code",
   "execution_count": 50,
   "metadata": {},
   "outputs": [
    {
     "data": {
      "text/html": [
       "<div>\n",
       "<style scoped>\n",
       "    .dataframe tbody tr th:only-of-type {\n",
       "        vertical-align: middle;\n",
       "    }\n",
       "\n",
       "    .dataframe tbody tr th {\n",
       "        vertical-align: top;\n",
       "    }\n",
       "\n",
       "    .dataframe thead th {\n",
       "        text-align: right;\n",
       "    }\n",
       "</style>\n",
       "<table border=\"1\" class=\"dataframe\">\n",
       "  <thead>\n",
       "    <tr style=\"text-align: right;\">\n",
       "      <th></th>\n",
       "      <th>user_id</th>\n",
       "      <th>month</th>\n",
       "      <th>mb_used_sum</th>\n",
       "      <th>gb_used</th>\n",
       "      <th>duration_count</th>\n",
       "      <th>duration_sum</th>\n",
       "      <th>messages_count</th>\n",
       "      <th>tariff_name</th>\n",
       "      <th>income</th>\n",
       "      <th>city</th>\n",
       "    </tr>\n",
       "  </thead>\n",
       "  <tbody>\n",
       "    <tr>\n",
       "      <td>8</td>\n",
       "      <td>1001</td>\n",
       "      <td>11</td>\n",
       "      <td>18429.34</td>\n",
       "      <td>18.0</td>\n",
       "      <td>45.0</td>\n",
       "      <td>430.0</td>\n",
       "      <td>0.0</td>\n",
       "      <td>smart</td>\n",
       "      <td>1150.0</td>\n",
       "      <td>Москва</td>\n",
       "    </tr>\n",
       "    <tr>\n",
       "      <td>9</td>\n",
       "      <td>1001</td>\n",
       "      <td>12</td>\n",
       "      <td>14036.66</td>\n",
       "      <td>14.0</td>\n",
       "      <td>47.0</td>\n",
       "      <td>414.0</td>\n",
       "      <td>0.0</td>\n",
       "      <td>smart</td>\n",
       "      <td>550.0</td>\n",
       "      <td>Москва</td>\n",
       "    </tr>\n",
       "    <tr>\n",
       "      <td>17</td>\n",
       "      <td>1003</td>\n",
       "      <td>8</td>\n",
       "      <td>8565.21</td>\n",
       "      <td>9.0</td>\n",
       "      <td>43.0</td>\n",
       "      <td>380.0</td>\n",
       "      <td>37.0</td>\n",
       "      <td>ultra</td>\n",
       "      <td>1950.0</td>\n",
       "      <td>Москва</td>\n",
       "    </tr>\n",
       "    <tr>\n",
       "      <td>18</td>\n",
       "      <td>1003</td>\n",
       "      <td>9</td>\n",
       "      <td>12468.87</td>\n",
       "      <td>13.0</td>\n",
       "      <td>105.0</td>\n",
       "      <td>961.0</td>\n",
       "      <td>91.0</td>\n",
       "      <td>ultra</td>\n",
       "      <td>1950.0</td>\n",
       "      <td>Москва</td>\n",
       "    </tr>\n",
       "    <tr>\n",
       "      <td>19</td>\n",
       "      <td>1003</td>\n",
       "      <td>10</td>\n",
       "      <td>14768.14</td>\n",
       "      <td>15.0</td>\n",
       "      <td>97.0</td>\n",
       "      <td>855.0</td>\n",
       "      <td>83.0</td>\n",
       "      <td>ultra</td>\n",
       "      <td>1950.0</td>\n",
       "      <td>Москва</td>\n",
       "    </tr>\n",
       "  </tbody>\n",
       "</table>\n",
       "</div>"
      ],
      "text/plain": [
       "   user_id  month  mb_used_sum  gb_used  duration_count  duration_sum  \\\n",
       "8     1001     11     18429.34     18.0            45.0         430.0   \n",
       "9     1001     12     14036.66     14.0            47.0         414.0   \n",
       "17    1003      8      8565.21      9.0            43.0         380.0   \n",
       "18    1003      9     12468.87     13.0           105.0         961.0   \n",
       "19    1003     10     14768.14     15.0            97.0         855.0   \n",
       "\n",
       "    messages_count tariff_name  income    city  \n",
       "8              0.0       smart  1150.0  Москва  \n",
       "9              0.0       smart   550.0  Москва  \n",
       "17            37.0       ultra  1950.0  Москва  \n",
       "18            91.0       ultra  1950.0  Москва  \n",
       "19            83.0       ultra  1950.0  Москва  "
      ]
     },
     "metadata": {},
     "output_type": "display_data"
    },
    {
     "name": "stdout",
     "output_type": "stream",
     "text": [
      "Средний доход от москвича: 1546.7135842880523\n"
     ]
    },
    {
     "data": {
      "text/html": [
       "<div>\n",
       "<style scoped>\n",
       "    .dataframe tbody tr th:only-of-type {\n",
       "        vertical-align: middle;\n",
       "    }\n",
       "\n",
       "    .dataframe tbody tr th {\n",
       "        vertical-align: top;\n",
       "    }\n",
       "\n",
       "    .dataframe thead th {\n",
       "        text-align: right;\n",
       "    }\n",
       "</style>\n",
       "<table border=\"1\" class=\"dataframe\">\n",
       "  <thead>\n",
       "    <tr style=\"text-align: right;\">\n",
       "      <th></th>\n",
       "      <th>user_id</th>\n",
       "      <th>month</th>\n",
       "      <th>mb_used_sum</th>\n",
       "      <th>gb_used</th>\n",
       "      <th>duration_count</th>\n",
       "      <th>duration_sum</th>\n",
       "      <th>messages_count</th>\n",
       "      <th>tariff_name</th>\n",
       "      <th>income</th>\n",
       "      <th>city</th>\n",
       "    </tr>\n",
       "  </thead>\n",
       "  <tbody>\n",
       "    <tr>\n",
       "      <td>0</td>\n",
       "      <td>1000</td>\n",
       "      <td>5</td>\n",
       "      <td>2253.49</td>\n",
       "      <td>3.0</td>\n",
       "      <td>17.0</td>\n",
       "      <td>159.0</td>\n",
       "      <td>22.0</td>\n",
       "      <td>ultra</td>\n",
       "      <td>1950.0</td>\n",
       "      <td>Краснодар</td>\n",
       "    </tr>\n",
       "    <tr>\n",
       "      <td>1</td>\n",
       "      <td>1000</td>\n",
       "      <td>6</td>\n",
       "      <td>23233.77</td>\n",
       "      <td>23.0</td>\n",
       "      <td>28.0</td>\n",
       "      <td>172.0</td>\n",
       "      <td>60.0</td>\n",
       "      <td>ultra</td>\n",
       "      <td>1950.0</td>\n",
       "      <td>Краснодар</td>\n",
       "    </tr>\n",
       "    <tr>\n",
       "      <td>2</td>\n",
       "      <td>1000</td>\n",
       "      <td>7</td>\n",
       "      <td>14003.64</td>\n",
       "      <td>14.0</td>\n",
       "      <td>41.0</td>\n",
       "      <td>340.0</td>\n",
       "      <td>75.0</td>\n",
       "      <td>ultra</td>\n",
       "      <td>1950.0</td>\n",
       "      <td>Краснодар</td>\n",
       "    </tr>\n",
       "    <tr>\n",
       "      <td>3</td>\n",
       "      <td>1000</td>\n",
       "      <td>8</td>\n",
       "      <td>14055.93</td>\n",
       "      <td>14.0</td>\n",
       "      <td>42.0</td>\n",
       "      <td>408.0</td>\n",
       "      <td>81.0</td>\n",
       "      <td>ultra</td>\n",
       "      <td>1950.0</td>\n",
       "      <td>Краснодар</td>\n",
       "    </tr>\n",
       "    <tr>\n",
       "      <td>4</td>\n",
       "      <td>1000</td>\n",
       "      <td>9</td>\n",
       "      <td>14568.91</td>\n",
       "      <td>15.0</td>\n",
       "      <td>46.0</td>\n",
       "      <td>466.0</td>\n",
       "      <td>57.0</td>\n",
       "      <td>ultra</td>\n",
       "      <td>1950.0</td>\n",
       "      <td>Краснодар</td>\n",
       "    </tr>\n",
       "  </tbody>\n",
       "</table>\n",
       "</div>"
      ],
      "text/plain": [
       "  user_id  month  mb_used_sum  gb_used  duration_count  duration_sum  \\\n",
       "0    1000      5      2253.49      3.0            17.0         159.0   \n",
       "1    1000      6     23233.77     23.0            28.0         172.0   \n",
       "2    1000      7     14003.64     14.0            41.0         340.0   \n",
       "3    1000      8     14055.93     14.0            42.0         408.0   \n",
       "4    1000      9     14568.91     15.0            46.0         466.0   \n",
       "\n",
       "   messages_count tariff_name  income       city  \n",
       "0            22.0       ultra  1950.0  Краснодар  \n",
       "1            60.0       ultra  1950.0  Краснодар  \n",
       "2            75.0       ultra  1950.0  Краснодар  \n",
       "3            81.0       ultra  1950.0  Краснодар  \n",
       "4            57.0       ultra  1950.0  Краснодар  "
      ]
     },
     "metadata": {},
     "output_type": "display_data"
    },
    {
     "name": "stdout",
     "output_type": "stream",
     "text": [
      "Средний доход от жителя другого региона: 1524.9362274298885\n"
     ]
    }
   ],
   "source": [
    "Msk_incomes = pivot_with_city.query('city == \"Москва\"')                              # фильтр по Москве\n",
    "non_Msk_incomes = pivot_with_city.query('city != \"Москва\"')                          # остальные регионы\n",
    "display(Msk_incomes.head())\n",
    "\n",
    "# посчитаем среднее по нашей выборке для москвичей и других регионов\n",
    "print('Средний доход от москвича:', Msk_incomes['income'].mean())             \n",
    "display(non_Msk_incomes.head())\n",
    "print('Средний доход от жителя другого региона:', non_Msk_incomes['income'].mean()) "
   ]
  },
  {
   "cell_type": "code",
   "execution_count": 51,
   "metadata": {},
   "outputs": [
    {
     "name": "stdout",
     "output_type": "stream",
     "text": [
      "Выборочная дисперсия для доходов от москвичей: 565636.467011886\n",
      "Выборочная дисперсия для доходов от других регионов: 654137.6285218114 \n",
      "\n",
      "p-значение: 0.5440152911670224\n",
      "Не получилось отвергнуть H0\n"
     ]
    }
   ],
   "source": [
    "# проверка равенства дисперсий\n",
    "print('Выборочная дисперсия для доходов от москвичей:', np.var(Msk_incomes['income'], ddof = 1))\n",
    "print('Выборочная дисперсия для доходов от других регионов:', np.var(non_Msk_incomes['income'], ddof = 1), '\\n')\n",
    "\n",
    "# дисперсии приблизительно одного порядка, поэтому в расчёте поправку не делаем \n",
    "alpha = 0.05\n",
    "results = st.ttest_ind(Msk_incomes['income'], non_Msk_incomes['income'])\n",
    "print('p-значение:', results.pvalue)\n",
    "if (results.pvalue < alpha):\n",
    "    print('Отвергаем H0')\n",
    "else:\n",
    "    print('Не получилось отвергнуть H0')"
   ]
  },
  {
   "cell_type": "markdown",
   "metadata": {},
   "source": [
    "Значение p-value равно 5,4%, а значит, нулевую гипотезу отвергать не стоит: с большой вероятностью средние значения выручки от жителей Москвы и других регионов приблизительно равны (и мы уже убедились, что для нашей выборки это так)."
   ]
  },
  {
   "cell_type": "markdown",
   "metadata": {},
   "source": [
    "## Вывод"
   ]
  },
  {
   "cell_type": "markdown",
   "metadata": {},
   "source": [
    "Мы проанализировали поведение клиентов двух тарифов оператора сотовой связи и выяснили, что в среднем клиенты более дорогого тарифа «Ультра» говорят по мобильному телефону больше, больше пишут сообщений и больше пользуются Интернетом, чем абонеты более дешёвого тарифа «Смарт». При этом распределения этих показателей в тарифе «Ультра» более вариативно, чем в тарифе «Смарт»: пользователи «Смарт» ведут себя более унифицированно, тогда как среди пользователей тарифа «Ультра» много тех, кто пользуется услугами связи в большем объеме, чем средний абонент.  \n",
    "\n",
    "Мы также проверили две гипотезы о том, равны ли средние доходы, полученные от абонентов двух тарифов и равны ли доходы от москвичей и жителей остальных регионов. В результате проверки выяснили, что с большой долей вероятности можно говорить о том, что средние доходы от тарифов «Ультра» и «Смарт»  различаются, при этом вероятно, доходы от москвичей не отличаются от доходов, полученных от жителей прочих регионов. Поскольку тарифы едины на всей территории страны, результат проверки этой гипотезы свидетельствует, что средний объем использования услуг связи по всей стране примерно одинаков.  \n",
    "\n",
    "Что касается главного вопроса: какой тариф выгодней оператору - можно сказать следующее. Исходя из предоставленной выборки, среднемесчные расходы абонентов тарифа «Ультра» больше, чем абонентов тарифа «Смарт»: 2070 и 1290 руб. соответственно. Казалось бы, можно утверждать, что тариф «Ультра» почти в 2 раза выгоднее тарифа «Смарт». Однако по причине высокой абонентской платы тариф «Ультра» выбирают более чем в 2 раза реже, чем тариф «Смарт», несмотря на то, что абоненты «Смарт» в большинстве своём не укладываются в рамки бесплатных пакетов и платят за услуги сверх абонентской платы. В результате за 2018 год в рамках предоставленной выборки выручка от тарифа «Смарт» намного превысила выручку от тарифа «Ультра»: 2,9 млн. руб. против 2 млн. руб. \n",
    "\n",
    "**Возможно, оператору стоит пересмотреть тариф «Ультра» в сторону небольшого удешевления для большей привлекательности, либо проработать новые, усилить текущие каналы продвижения этого тарифа.** "
   ]
  }
 ],
 "metadata": {
  "ExecuteTimeLog": [
   {
    "duration": 787,
    "start_time": "2021-07-22T05:00:32.486Z"
   },
   {
    "duration": 157,
    "start_time": "2021-07-22T05:02:04.434Z"
   },
   {
    "duration": 159,
    "start_time": "2021-07-22T05:02:15.451Z"
   },
   {
    "duration": 131,
    "start_time": "2021-07-22T05:04:24.510Z"
   },
   {
    "duration": 13,
    "start_time": "2021-07-22T05:15:00.462Z"
   },
   {
    "duration": 122,
    "start_time": "2021-07-22T05:17:50.313Z"
   },
   {
    "duration": 101,
    "start_time": "2021-07-22T05:18:04.775Z"
   },
   {
    "duration": 24,
    "start_time": "2021-07-22T05:20:17.996Z"
   },
   {
    "duration": 84,
    "start_time": "2021-07-22T05:21:35.963Z"
   },
   {
    "duration": 35,
    "start_time": "2021-07-22T05:23:26.228Z"
   },
   {
    "duration": 26,
    "start_time": "2021-07-22T05:49:03.587Z"
   },
   {
    "duration": 216,
    "start_time": "2021-07-22T05:51:27.921Z"
   },
   {
    "duration": 275,
    "start_time": "2021-07-22T05:51:42.519Z"
   },
   {
    "duration": 194,
    "start_time": "2021-07-22T05:51:52.103Z"
   },
   {
    "duration": 8,
    "start_time": "2021-07-22T05:52:21.966Z"
   },
   {
    "duration": 90,
    "start_time": "2021-07-22T05:58:59.874Z"
   },
   {
    "duration": 110,
    "start_time": "2021-07-22T06:00:43.166Z"
   },
   {
    "duration": 5348,
    "start_time": "2021-07-22T06:04:10.549Z"
   },
   {
    "duration": 76,
    "start_time": "2021-07-22T06:04:31.159Z"
   },
   {
    "duration": 259,
    "start_time": "2021-07-22T06:08:06.402Z"
   },
   {
    "duration": 61,
    "start_time": "2021-07-22T06:08:20.260Z"
   },
   {
    "duration": 68,
    "start_time": "2021-07-22T06:08:46.927Z"
   },
   {
    "duration": 6,
    "start_time": "2021-07-22T06:10:05.273Z"
   },
   {
    "duration": 11,
    "start_time": "2021-07-22T06:13:40.962Z"
   },
   {
    "duration": 9,
    "start_time": "2021-07-22T06:14:43.437Z"
   },
   {
    "duration": 23,
    "start_time": "2021-07-22T06:16:12.434Z"
   },
   {
    "duration": 18,
    "start_time": "2021-07-22T06:16:59.520Z"
   },
   {
    "duration": 22,
    "start_time": "2021-07-22T06:17:14.147Z"
   },
   {
    "duration": 4,
    "start_time": "2021-07-22T06:22:02.024Z"
   },
   {
    "duration": 31,
    "start_time": "2021-07-22T06:23:22.587Z"
   },
   {
    "duration": 13,
    "start_time": "2021-07-22T06:25:16.814Z"
   },
   {
    "duration": 165,
    "start_time": "2021-07-22T06:25:22.434Z"
   },
   {
    "duration": 134,
    "start_time": "2021-07-22T06:25:22.601Z"
   },
   {
    "duration": 11,
    "start_time": "2021-07-22T06:25:22.737Z"
   },
   {
    "duration": 101,
    "start_time": "2021-07-22T06:25:22.749Z"
   },
   {
    "duration": 23,
    "start_time": "2021-07-22T06:25:22.851Z"
   },
   {
    "duration": 35,
    "start_time": "2021-07-22T06:25:22.876Z"
   },
   {
    "duration": 7,
    "start_time": "2021-07-22T06:25:22.913Z"
   },
   {
    "duration": 7,
    "start_time": "2021-07-22T06:25:22.922Z"
   },
   {
    "duration": 9,
    "start_time": "2021-07-22T06:25:22.931Z"
   },
   {
    "duration": 111,
    "start_time": "2021-07-22T06:25:22.942Z"
   },
   {
    "duration": 165,
    "start_time": "2021-07-22T06:25:23.055Z"
   },
   {
    "duration": 15,
    "start_time": "2021-07-22T06:25:23.222Z"
   },
   {
    "duration": 38,
    "start_time": "2021-07-22T06:25:23.239Z"
   },
   {
    "duration": 34,
    "start_time": "2021-07-22T06:25:23.295Z"
   },
   {
    "duration": 280,
    "start_time": "2021-07-22T06:31:07.007Z"
   },
   {
    "duration": 14,
    "start_time": "2021-07-22T06:31:10.877Z"
   },
   {
    "duration": 7839,
    "start_time": "2021-07-22T06:31:50.074Z"
   },
   {
    "duration": 13,
    "start_time": "2021-07-22T06:32:13.962Z"
   },
   {
    "duration": 6,
    "start_time": "2021-07-22T06:35:47.103Z"
   },
   {
    "duration": 153,
    "start_time": "2021-07-22T06:39:25.399Z"
   },
   {
    "duration": 300,
    "start_time": "2021-07-22T06:40:15.036Z"
   },
   {
    "duration": 156,
    "start_time": "2021-07-22T06:40:22.530Z"
   },
   {
    "duration": 127,
    "start_time": "2021-07-22T06:40:22.691Z"
   },
   {
    "duration": 10,
    "start_time": "2021-07-22T06:40:22.820Z"
   },
   {
    "duration": 98,
    "start_time": "2021-07-22T06:40:22.831Z"
   },
   {
    "duration": 22,
    "start_time": "2021-07-22T06:40:22.931Z"
   },
   {
    "duration": 35,
    "start_time": "2021-07-22T06:40:22.954Z"
   },
   {
    "duration": 7,
    "start_time": "2021-07-22T06:40:22.991Z"
   },
   {
    "duration": 7,
    "start_time": "2021-07-22T06:40:23.000Z"
   },
   {
    "duration": 8,
    "start_time": "2021-07-22T06:40:23.009Z"
   },
   {
    "duration": 106,
    "start_time": "2021-07-22T06:40:23.019Z"
   },
   {
    "duration": 172,
    "start_time": "2021-07-22T06:40:23.127Z"
   },
   {
    "duration": 16,
    "start_time": "2021-07-22T06:40:23.301Z"
   },
   {
    "duration": 36,
    "start_time": "2021-07-22T06:40:23.319Z"
   },
   {
    "duration": 61,
    "start_time": "2021-07-22T06:40:23.357Z"
   },
   {
    "duration": 13,
    "start_time": "2021-07-22T06:40:23.420Z"
   },
   {
    "duration": 273,
    "start_time": "2021-07-22T06:40:23.435Z"
   },
   {
    "duration": 242,
    "start_time": "2021-07-22T06:40:44.819Z"
   },
   {
    "duration": 224,
    "start_time": "2021-07-22T06:43:18.487Z"
   },
   {
    "duration": 13,
    "start_time": "2021-07-22T06:43:54.295Z"
   },
   {
    "duration": 15,
    "start_time": "2021-07-22T06:44:14.041Z"
   },
   {
    "duration": 6,
    "start_time": "2021-07-22T06:44:21.767Z"
   },
   {
    "duration": 16,
    "start_time": "2021-07-22T06:44:28.473Z"
   },
   {
    "duration": 7,
    "start_time": "2021-07-22T06:44:40.532Z"
   },
   {
    "duration": 8,
    "start_time": "2021-07-22T06:44:49.230Z"
   },
   {
    "duration": 15,
    "start_time": "2021-07-22T06:45:45.541Z"
   },
   {
    "duration": 8,
    "start_time": "2021-07-22T06:45:51.352Z"
   },
   {
    "duration": 11,
    "start_time": "2021-07-22T06:46:25.828Z"
   },
   {
    "duration": 161,
    "start_time": "2021-07-22T06:46:49.309Z"
   },
   {
    "duration": 238,
    "start_time": "2021-07-22T06:46:49.472Z"
   },
   {
    "duration": 11,
    "start_time": "2021-07-22T06:46:49.713Z"
   },
   {
    "duration": 104,
    "start_time": "2021-07-22T06:46:49.726Z"
   },
   {
    "duration": 23,
    "start_time": "2021-07-22T06:46:49.832Z"
   },
   {
    "duration": 35,
    "start_time": "2021-07-22T06:46:49.857Z"
   },
   {
    "duration": 13,
    "start_time": "2021-07-22T06:46:49.894Z"
   },
   {
    "duration": 9,
    "start_time": "2021-07-22T06:46:49.909Z"
   },
   {
    "duration": 7,
    "start_time": "2021-07-22T06:46:49.920Z"
   },
   {
    "duration": 101,
    "start_time": "2021-07-22T06:46:49.929Z"
   },
   {
    "duration": 165,
    "start_time": "2021-07-22T06:46:50.032Z"
   },
   {
    "duration": 14,
    "start_time": "2021-07-22T06:46:50.199Z"
   },
   {
    "duration": 36,
    "start_time": "2021-07-22T06:46:50.215Z"
   },
   {
    "duration": 57,
    "start_time": "2021-07-22T06:46:50.253Z"
   },
   {
    "duration": 10,
    "start_time": "2021-07-22T06:46:50.312Z"
   },
   {
    "duration": 7,
    "start_time": "2021-07-22T07:15:01.241Z"
   },
   {
    "duration": 62,
    "start_time": "2021-07-22T07:15:56.981Z"
   },
   {
    "duration": 47,
    "start_time": "2021-07-22T07:16:34.779Z"
   },
   {
    "duration": 114,
    "start_time": "2021-07-22T07:17:43.610Z"
   },
   {
    "duration": 45,
    "start_time": "2021-07-22T07:17:59.231Z"
   },
   {
    "duration": 31,
    "start_time": "2021-07-22T07:19:19.826Z"
   },
   {
    "duration": 17,
    "start_time": "2021-07-22T07:20:34.884Z"
   },
   {
    "duration": 18,
    "start_time": "2021-07-22T07:23:30.914Z"
   },
   {
    "duration": 20,
    "start_time": "2021-07-22T07:24:54.486Z"
   },
   {
    "duration": 35,
    "start_time": "2021-07-22T07:25:29.565Z"
   },
   {
    "duration": 285,
    "start_time": "2021-07-22T07:26:29.703Z"
   },
   {
    "duration": 20,
    "start_time": "2021-07-22T07:26:51.210Z"
   },
   {
    "duration": 199,
    "start_time": "2021-07-22T07:26:58.869Z"
   },
   {
    "duration": 153,
    "start_time": "2021-07-22T07:26:59.070Z"
   },
   {
    "duration": 10,
    "start_time": "2021-07-22T07:26:59.225Z"
   },
   {
    "duration": 102,
    "start_time": "2021-07-22T07:26:59.237Z"
   },
   {
    "duration": 22,
    "start_time": "2021-07-22T07:26:59.341Z"
   },
   {
    "duration": 39,
    "start_time": "2021-07-22T07:26:59.365Z"
   },
   {
    "duration": 7,
    "start_time": "2021-07-22T07:26:59.406Z"
   },
   {
    "duration": 9,
    "start_time": "2021-07-22T07:26:59.416Z"
   },
   {
    "duration": 6,
    "start_time": "2021-07-22T07:26:59.428Z"
   },
   {
    "duration": 121,
    "start_time": "2021-07-22T07:26:59.436Z"
   },
   {
    "duration": 166,
    "start_time": "2021-07-22T07:26:59.558Z"
   },
   {
    "duration": 14,
    "start_time": "2021-07-22T07:26:59.725Z"
   },
   {
    "duration": 35,
    "start_time": "2021-07-22T07:26:59.741Z"
   },
   {
    "duration": 36,
    "start_time": "2021-07-22T07:26:59.792Z"
   },
   {
    "duration": 6,
    "start_time": "2021-07-22T07:26:59.830Z"
   },
   {
    "duration": 72,
    "start_time": "2021-07-22T07:26:59.837Z"
   },
   {
    "duration": 13,
    "start_time": "2021-07-22T07:26:59.911Z"
   },
   {
    "duration": 14,
    "start_time": "2021-07-22T07:26:59.925Z"
   },
   {
    "duration": 9,
    "start_time": "2021-07-22T07:26:59.941Z"
   },
   {
    "duration": 134,
    "start_time": "2021-07-22T07:26:59.952Z"
   },
   {
    "duration": 36,
    "start_time": "2021-07-22T07:27:00.087Z"
   },
   {
    "duration": 10,
    "start_time": "2021-07-22T07:27:00.124Z"
   },
   {
    "duration": 105,
    "start_time": "2021-07-22T07:28:49.242Z"
   },
   {
    "duration": 58,
    "start_time": "2021-07-22T07:29:37.565Z"
   },
   {
    "duration": 47,
    "start_time": "2021-07-22T07:29:42.461Z"
   },
   {
    "duration": 85,
    "start_time": "2021-07-22T07:30:43.723Z"
   },
   {
    "duration": 31,
    "start_time": "2021-07-22T07:30:44.159Z"
   },
   {
    "duration": 199,
    "start_time": "2021-07-22T07:30:50.777Z"
   },
   {
    "duration": 155,
    "start_time": "2021-07-22T07:30:50.978Z"
   },
   {
    "duration": 10,
    "start_time": "2021-07-22T07:30:51.135Z"
   },
   {
    "duration": 114,
    "start_time": "2021-07-22T07:30:51.147Z"
   },
   {
    "duration": 22,
    "start_time": "2021-07-22T07:30:51.263Z"
   },
   {
    "duration": 39,
    "start_time": "2021-07-22T07:30:51.286Z"
   },
   {
    "duration": 6,
    "start_time": "2021-07-22T07:30:51.327Z"
   },
   {
    "duration": 13,
    "start_time": "2021-07-22T07:30:51.336Z"
   },
   {
    "duration": 15,
    "start_time": "2021-07-22T07:30:51.351Z"
   },
   {
    "duration": 87,
    "start_time": "2021-07-22T07:30:51.368Z"
   },
   {
    "duration": 156,
    "start_time": "2021-07-22T07:30:51.457Z"
   },
   {
    "duration": 13,
    "start_time": "2021-07-22T07:30:51.615Z"
   },
   {
    "duration": 31,
    "start_time": "2021-07-22T07:30:51.630Z"
   },
   {
    "duration": 61,
    "start_time": "2021-07-22T07:30:51.662Z"
   },
   {
    "duration": 6,
    "start_time": "2021-07-22T07:30:51.725Z"
   },
   {
    "duration": 42,
    "start_time": "2021-07-22T07:30:51.733Z"
   },
   {
    "duration": 22,
    "start_time": "2021-07-22T07:30:51.777Z"
   },
   {
    "duration": 21,
    "start_time": "2021-07-22T07:30:51.801Z"
   },
   {
    "duration": 9,
    "start_time": "2021-07-22T07:30:51.824Z"
   },
   {
    "duration": 133,
    "start_time": "2021-07-22T07:30:51.835Z"
   },
   {
    "duration": 49,
    "start_time": "2021-07-22T07:30:51.969Z"
   },
   {
    "duration": 112,
    "start_time": "2021-07-22T07:30:52.020Z"
   },
   {
    "duration": 39,
    "start_time": "2021-07-22T07:30:52.134Z"
   },
   {
    "duration": 21,
    "start_time": "2021-07-22T07:30:52.174Z"
   },
   {
    "duration": 30,
    "start_time": "2021-07-22T07:34:48.734Z"
   },
   {
    "duration": 54,
    "start_time": "2021-07-22T07:39:52.583Z"
   },
   {
    "duration": 78,
    "start_time": "2021-07-22T07:43:08.136Z"
   },
   {
    "duration": 221,
    "start_time": "2021-07-22T07:43:15.558Z"
   },
   {
    "duration": 50,
    "start_time": "2021-07-22T07:43:49.264Z"
   },
   {
    "duration": 54,
    "start_time": "2021-07-22T07:45:02.184Z"
   },
   {
    "duration": 65,
    "start_time": "2021-07-22T07:47:18.045Z"
   },
   {
    "duration": 72,
    "start_time": "2021-07-22T07:48:17.829Z"
   },
   {
    "duration": 83,
    "start_time": "2021-07-22T07:48:39.960Z"
   },
   {
    "duration": 42,
    "start_time": "2021-07-22T07:50:22.026Z"
   },
   {
    "duration": 30,
    "start_time": "2021-07-22T07:53:06.721Z"
   },
   {
    "duration": 6768,
    "start_time": "2021-07-22T07:55:34.781Z"
   },
   {
    "duration": 9,
    "start_time": "2021-07-22T07:55:55.350Z"
   },
   {
    "duration": 14,
    "start_time": "2021-07-22T07:56:38.592Z"
   },
   {
    "duration": 22,
    "start_time": "2021-07-22T08:01:07.149Z"
   },
   {
    "duration": 18,
    "start_time": "2021-07-22T08:01:16.062Z"
   },
   {
    "duration": 6380,
    "start_time": "2021-07-22T08:01:55.697Z"
   },
   {
    "duration": 5389,
    "start_time": "2021-07-22T08:02:12.476Z"
   },
   {
    "duration": 242,
    "start_time": "2021-07-22T08:02:41.464Z"
   },
   {
    "duration": 20,
    "start_time": "2021-07-22T08:03:04.620Z"
   },
   {
    "duration": 9,
    "start_time": "2021-07-22T08:03:17.845Z"
   },
   {
    "duration": 27,
    "start_time": "2021-07-22T08:03:28.632Z"
   },
   {
    "duration": 31,
    "start_time": "2021-07-22T08:03:56.490Z"
   },
   {
    "duration": 59,
    "start_time": "2021-07-22T08:04:04.839Z"
   },
   {
    "duration": 63,
    "start_time": "2021-07-22T08:04:12.399Z"
   },
   {
    "duration": 33,
    "start_time": "2021-07-22T08:04:20.084Z"
   },
   {
    "duration": 28,
    "start_time": "2021-07-22T08:04:27.180Z"
   },
   {
    "duration": 10,
    "start_time": "2021-07-22T08:04:34.672Z"
   },
   {
    "duration": 16,
    "start_time": "2021-07-22T08:06:06.101Z"
   },
   {
    "duration": 17,
    "start_time": "2021-07-22T08:06:16.197Z"
   },
   {
    "duration": 240,
    "start_time": "2021-07-22T08:07:56.679Z"
   },
   {
    "duration": 20,
    "start_time": "2021-07-22T08:08:09.128Z"
   },
   {
    "duration": 19,
    "start_time": "2021-07-22T08:10:08.525Z"
   },
   {
    "duration": 22,
    "start_time": "2021-07-22T08:10:18.675Z"
   },
   {
    "duration": 14,
    "start_time": "2021-07-22T08:13:00.011Z"
   },
   {
    "duration": 20,
    "start_time": "2021-07-22T08:13:36.520Z"
   },
   {
    "duration": 243,
    "start_time": "2021-07-22T08:14:28.542Z"
   },
   {
    "duration": 6,
    "start_time": "2021-07-22T08:14:43.580Z"
   },
   {
    "duration": 73,
    "start_time": "2021-07-22T08:15:56.785Z"
   },
   {
    "duration": 62,
    "start_time": "2021-07-22T08:16:04.246Z"
   },
   {
    "duration": 64,
    "start_time": "2021-07-22T08:16:31.997Z"
   },
   {
    "duration": 7,
    "start_time": "2021-07-22T08:17:21.093Z"
   },
   {
    "duration": 67,
    "start_time": "2021-07-22T08:19:26.767Z"
   },
   {
    "duration": 18,
    "start_time": "2021-07-22T08:20:02.045Z"
   },
   {
    "duration": 22,
    "start_time": "2021-07-22T08:20:08.323Z"
   },
   {
    "duration": 6,
    "start_time": "2021-07-22T08:20:18.061Z"
   },
   {
    "duration": 17,
    "start_time": "2021-07-22T08:20:39.990Z"
   },
   {
    "duration": 22,
    "start_time": "2021-07-22T08:20:42.647Z"
   },
   {
    "duration": 7,
    "start_time": "2021-07-22T08:20:45.194Z"
   },
   {
    "duration": 231,
    "start_time": "2021-07-22T08:21:16.107Z"
   },
   {
    "duration": 16,
    "start_time": "2021-07-22T08:21:37.079Z"
   },
   {
    "duration": 22,
    "start_time": "2021-07-22T08:21:46.373Z"
   },
   {
    "duration": 17,
    "start_time": "2021-07-22T08:21:54.438Z"
   },
   {
    "duration": 23,
    "start_time": "2021-07-22T08:22:09.180Z"
   },
   {
    "duration": 21,
    "start_time": "2021-07-22T08:22:14.620Z"
   },
   {
    "duration": 18,
    "start_time": "2021-07-22T08:22:21.412Z"
   },
   {
    "duration": 23,
    "start_time": "2021-07-22T08:22:24.628Z"
   },
   {
    "duration": 7,
    "start_time": "2021-07-22T08:22:28.504Z"
   },
   {
    "duration": 22,
    "start_time": "2021-07-22T08:22:59.929Z"
   },
   {
    "duration": 19,
    "start_time": "2021-07-22T08:24:03.963Z"
   },
   {
    "duration": 29,
    "start_time": "2021-07-22T08:24:31.190Z"
   },
   {
    "duration": 7,
    "start_time": "2021-07-22T08:24:37.064Z"
   },
   {
    "duration": 4265,
    "start_time": "2021-07-22T08:29:25.095Z"
   },
   {
    "duration": 9,
    "start_time": "2021-07-22T08:29:43.588Z"
   },
   {
    "duration": 245,
    "start_time": "2021-07-22T08:30:30.785Z"
   },
   {
    "duration": 23,
    "start_time": "2021-07-22T08:30:37.383Z"
   },
   {
    "duration": 9,
    "start_time": "2021-07-22T08:30:41.382Z"
   },
   {
    "duration": 18,
    "start_time": "2021-07-22T08:30:43.147Z"
   },
   {
    "duration": 42,
    "start_time": "2021-07-22T08:31:15.899Z"
   },
   {
    "duration": 156,
    "start_time": "2021-07-22T08:31:26.688Z"
   },
   {
    "duration": 137,
    "start_time": "2021-07-22T08:31:26.846Z"
   },
   {
    "duration": 14,
    "start_time": "2021-07-22T08:31:26.985Z"
   },
   {
    "duration": 93,
    "start_time": "2021-07-22T08:31:27.001Z"
   },
   {
    "duration": 23,
    "start_time": "2021-07-22T08:31:27.096Z"
   },
   {
    "duration": 34,
    "start_time": "2021-07-22T08:31:27.121Z"
   },
   {
    "duration": 5,
    "start_time": "2021-07-22T08:31:27.157Z"
   },
   {
    "duration": 8,
    "start_time": "2021-07-22T08:31:27.165Z"
   },
   {
    "duration": 15,
    "start_time": "2021-07-22T08:31:27.176Z"
   },
   {
    "duration": 77,
    "start_time": "2021-07-22T08:31:27.192Z"
   },
   {
    "duration": 152,
    "start_time": "2021-07-22T08:31:27.271Z"
   },
   {
    "duration": 15,
    "start_time": "2021-07-22T08:31:27.424Z"
   },
   {
    "duration": 33,
    "start_time": "2021-07-22T08:31:27.441Z"
   },
   {
    "duration": 46,
    "start_time": "2021-07-22T08:31:27.476Z"
   },
   {
    "duration": 6,
    "start_time": "2021-07-22T08:31:27.523Z"
   },
   {
    "duration": 41,
    "start_time": "2021-07-22T08:31:27.530Z"
   },
   {
    "duration": 29,
    "start_time": "2021-07-22T08:31:27.573Z"
   },
   {
    "duration": 14,
    "start_time": "2021-07-22T08:31:27.603Z"
   },
   {
    "duration": 9,
    "start_time": "2021-07-22T08:31:27.619Z"
   },
   {
    "duration": 127,
    "start_time": "2021-07-22T08:31:27.629Z"
   },
   {
    "duration": 50,
    "start_time": "2021-07-22T08:31:27.757Z"
   },
   {
    "duration": 99,
    "start_time": "2021-07-22T08:31:27.808Z"
   },
   {
    "duration": 19,
    "start_time": "2021-07-22T08:31:27.910Z"
   },
   {
    "duration": 68,
    "start_time": "2021-07-22T08:31:27.932Z"
   },
   {
    "duration": 11,
    "start_time": "2021-07-22T08:31:28.002Z"
   },
   {
    "duration": 84,
    "start_time": "2021-07-22T08:31:28.015Z"
   },
   {
    "duration": 43,
    "start_time": "2021-07-22T08:31:28.101Z"
   },
   {
    "duration": 47,
    "start_time": "2021-07-22T08:31:28.146Z"
   },
   {
    "duration": 10,
    "start_time": "2021-07-22T08:31:28.195Z"
   },
   {
    "duration": 18,
    "start_time": "2021-07-22T08:31:28.207Z"
   },
   {
    "duration": 21,
    "start_time": "2021-07-22T08:31:28.227Z"
   },
   {
    "duration": 8,
    "start_time": "2021-07-22T08:31:28.250Z"
   },
   {
    "duration": 19,
    "start_time": "2021-07-22T08:31:28.292Z"
   },
   {
    "duration": 19,
    "start_time": "2021-07-22T08:47:53.056Z"
   },
   {
    "duration": 225,
    "start_time": "2021-07-22T08:48:46.904Z"
   },
   {
    "duration": 9,
    "start_time": "2021-07-22T08:50:43.561Z"
   },
   {
    "duration": 19,
    "start_time": "2021-07-22T08:50:53.619Z"
   },
   {
    "duration": 243,
    "start_time": "2021-07-22T08:50:57.620Z"
   },
   {
    "duration": 8,
    "start_time": "2021-07-22T08:51:10.062Z"
   },
   {
    "duration": 16,
    "start_time": "2021-07-22T08:51:23.796Z"
   },
   {
    "duration": 16,
    "start_time": "2021-07-22T08:52:37.248Z"
   },
   {
    "duration": 22,
    "start_time": "2021-07-22T08:53:15.112Z"
   },
   {
    "duration": 66,
    "start_time": "2021-07-22T08:55:29.087Z"
   },
   {
    "duration": 152,
    "start_time": "2021-07-22T08:55:34.322Z"
   },
   {
    "duration": 130,
    "start_time": "2021-07-22T08:55:34.476Z"
   },
   {
    "duration": 11,
    "start_time": "2021-07-22T08:55:34.609Z"
   },
   {
    "duration": 108,
    "start_time": "2021-07-22T08:55:34.622Z"
   },
   {
    "duration": 24,
    "start_time": "2021-07-22T08:55:34.731Z"
   },
   {
    "duration": 37,
    "start_time": "2021-07-22T08:55:34.757Z"
   },
   {
    "duration": 5,
    "start_time": "2021-07-22T08:55:34.795Z"
   },
   {
    "duration": 9,
    "start_time": "2021-07-22T08:55:34.802Z"
   },
   {
    "duration": 9,
    "start_time": "2021-07-22T08:55:34.813Z"
   },
   {
    "duration": 100,
    "start_time": "2021-07-22T08:55:34.824Z"
   },
   {
    "duration": 139,
    "start_time": "2021-07-22T08:55:34.925Z"
   },
   {
    "duration": 13,
    "start_time": "2021-07-22T08:55:35.066Z"
   },
   {
    "duration": 42,
    "start_time": "2021-07-22T08:55:35.080Z"
   },
   {
    "duration": 30,
    "start_time": "2021-07-22T08:55:35.123Z"
   },
   {
    "duration": 6,
    "start_time": "2021-07-22T08:55:35.154Z"
   },
   {
    "duration": 58,
    "start_time": "2021-07-22T08:55:35.162Z"
   },
   {
    "duration": 12,
    "start_time": "2021-07-22T08:55:35.221Z"
   },
   {
    "duration": 13,
    "start_time": "2021-07-22T08:55:35.235Z"
   },
   {
    "duration": 9,
    "start_time": "2021-07-22T08:55:35.250Z"
   },
   {
    "duration": 131,
    "start_time": "2021-07-22T08:55:35.260Z"
   },
   {
    "duration": 38,
    "start_time": "2021-07-22T08:55:35.393Z"
   },
   {
    "duration": 104,
    "start_time": "2021-07-22T08:55:35.432Z"
   },
   {
    "duration": 17,
    "start_time": "2021-07-22T08:55:35.539Z"
   },
   {
    "duration": 63,
    "start_time": "2021-07-22T08:55:35.558Z"
   },
   {
    "duration": 10,
    "start_time": "2021-07-22T08:55:35.622Z"
   },
   {
    "duration": 89,
    "start_time": "2021-07-22T08:55:35.634Z"
   },
   {
    "duration": 41,
    "start_time": "2021-07-22T08:55:35.725Z"
   },
   {
    "duration": 41,
    "start_time": "2021-07-22T08:55:35.768Z"
   },
   {
    "duration": 10,
    "start_time": "2021-07-22T08:55:35.811Z"
   },
   {
    "duration": 21,
    "start_time": "2021-07-22T08:55:35.822Z"
   },
   {
    "duration": 21,
    "start_time": "2021-07-22T08:55:35.845Z"
   },
   {
    "duration": 30,
    "start_time": "2021-07-22T08:55:35.868Z"
   },
   {
    "duration": 33,
    "start_time": "2021-07-22T08:55:35.899Z"
   },
   {
    "duration": 21,
    "start_time": "2021-07-22T08:55:35.933Z"
   },
   {
    "duration": 77,
    "start_time": "2021-07-22T08:55:35.955Z"
   },
   {
    "duration": 232,
    "start_time": "2021-07-22T08:56:13.007Z"
   },
   {
    "duration": 23,
    "start_time": "2021-07-22T08:56:31.845Z"
   },
   {
    "duration": 63,
    "start_time": "2021-07-22T08:56:47.847Z"
   },
   {
    "duration": 3335,
    "start_time": "2021-07-22T09:09:15.642Z"
   },
   {
    "duration": 391,
    "start_time": "2021-07-22T09:11:10.181Z"
   },
   {
    "duration": 375,
    "start_time": "2021-07-22T09:11:38.857Z"
   },
   {
    "duration": 364,
    "start_time": "2021-07-22T09:12:24.164Z"
   },
   {
    "duration": 171,
    "start_time": "2021-07-22T09:13:07.720Z"
   },
   {
    "duration": 187,
    "start_time": "2021-07-22T09:13:17.182Z"
   },
   {
    "duration": 9,
    "start_time": "2021-07-22T09:14:42.351Z"
   },
   {
    "duration": 22,
    "start_time": "2021-07-22T09:15:11.624Z"
   },
   {
    "duration": 192,
    "start_time": "2021-07-22T09:16:15.487Z"
   },
   {
    "duration": 22,
    "start_time": "2021-07-22T09:16:20.554Z"
   },
   {
    "duration": 196,
    "start_time": "2021-07-22T09:16:43.742Z"
   },
   {
    "duration": 23,
    "start_time": "2021-07-22T09:16:46.112Z"
   },
   {
    "duration": 15,
    "start_time": "2021-07-22T09:19:34.700Z"
   },
   {
    "duration": 14,
    "start_time": "2021-07-22T09:24:19.402Z"
   },
   {
    "duration": 13,
    "start_time": "2021-07-22T09:24:52.763Z"
   },
   {
    "duration": 249,
    "start_time": "2021-07-22T09:43:30.083Z"
   },
   {
    "duration": 7,
    "start_time": "2021-07-22T09:43:41.736Z"
   },
   {
    "duration": 10,
    "start_time": "2021-07-22T09:45:12.870Z"
   },
   {
    "duration": 19,
    "start_time": "2021-07-22T09:51:58.168Z"
   },
   {
    "duration": 28,
    "start_time": "2021-07-22T10:01:55.722Z"
   },
   {
    "duration": 12,
    "start_time": "2021-07-22T10:02:23.246Z"
   },
   {
    "duration": 34,
    "start_time": "2021-07-22T10:02:50.783Z"
   },
   {
    "duration": 27,
    "start_time": "2021-07-22T10:05:03.116Z"
   },
   {
    "duration": 12,
    "start_time": "2021-07-22T10:05:29.110Z"
   },
   {
    "duration": 33,
    "start_time": "2021-07-22T10:06:36.157Z"
   },
   {
    "duration": 26,
    "start_time": "2021-07-22T10:07:02.275Z"
   },
   {
    "duration": 22,
    "start_time": "2021-07-22T10:07:37.533Z"
   },
   {
    "duration": 9,
    "start_time": "2021-07-22T10:09:20.920Z"
   },
   {
    "duration": 14,
    "start_time": "2021-07-22T10:09:33.223Z"
   },
   {
    "duration": 15,
    "start_time": "2021-07-22T10:10:07.184Z"
   },
   {
    "duration": 5,
    "start_time": "2021-07-22T10:15:09.804Z"
   },
   {
    "duration": 9,
    "start_time": "2021-07-22T10:15:31.105Z"
   },
   {
    "duration": 10,
    "start_time": "2021-07-22T10:16:05.568Z"
   },
   {
    "duration": 248,
    "start_time": "2021-07-22T10:16:11.955Z"
   },
   {
    "duration": 10,
    "start_time": "2021-07-22T10:16:25.249Z"
   },
   {
    "duration": 10,
    "start_time": "2021-07-22T10:16:42.910Z"
   },
   {
    "duration": 177,
    "start_time": "2021-07-22T10:16:46.522Z"
   },
   {
    "duration": 134,
    "start_time": "2021-07-22T10:16:46.700Z"
   },
   {
    "duration": 10,
    "start_time": "2021-07-22T10:16:46.836Z"
   },
   {
    "duration": 95,
    "start_time": "2021-07-22T10:16:46.848Z"
   },
   {
    "duration": 23,
    "start_time": "2021-07-22T10:16:46.945Z"
   },
   {
    "duration": 45,
    "start_time": "2021-07-22T10:16:46.969Z"
   },
   {
    "duration": 5,
    "start_time": "2021-07-22T10:16:47.016Z"
   },
   {
    "duration": 12,
    "start_time": "2021-07-22T10:16:47.023Z"
   },
   {
    "duration": 9,
    "start_time": "2021-07-22T10:16:47.037Z"
   },
   {
    "duration": 130,
    "start_time": "2021-07-22T10:16:47.048Z"
   },
   {
    "duration": 145,
    "start_time": "2021-07-22T10:16:47.180Z"
   },
   {
    "duration": 13,
    "start_time": "2021-07-22T10:16:47.326Z"
   },
   {
    "duration": 54,
    "start_time": "2021-07-22T10:16:47.341Z"
   },
   {
    "duration": 30,
    "start_time": "2021-07-22T10:16:47.396Z"
   },
   {
    "duration": 6,
    "start_time": "2021-07-22T10:16:47.428Z"
   },
   {
    "duration": 61,
    "start_time": "2021-07-22T10:16:47.435Z"
   },
   {
    "duration": 13,
    "start_time": "2021-07-22T10:16:47.498Z"
   },
   {
    "duration": 15,
    "start_time": "2021-07-22T10:16:47.512Z"
   },
   {
    "duration": 9,
    "start_time": "2021-07-22T10:16:47.528Z"
   },
   {
    "duration": 139,
    "start_time": "2021-07-22T10:16:47.539Z"
   },
   {
    "duration": 43,
    "start_time": "2021-07-22T10:16:47.680Z"
   },
   {
    "duration": 109,
    "start_time": "2021-07-22T10:16:47.724Z"
   },
   {
    "duration": 17,
    "start_time": "2021-07-22T10:16:47.836Z"
   },
   {
    "duration": 75,
    "start_time": "2021-07-22T10:16:47.855Z"
   },
   {
    "duration": 14,
    "start_time": "2021-07-22T10:16:47.932Z"
   },
   {
    "duration": 111,
    "start_time": "2021-07-22T10:16:47.948Z"
   },
   {
    "duration": 65,
    "start_time": "2021-07-22T10:16:48.061Z"
   },
   {
    "duration": 39,
    "start_time": "2021-07-22T10:16:48.128Z"
   },
   {
    "duration": 25,
    "start_time": "2021-07-22T10:16:48.169Z"
   },
   {
    "duration": 28,
    "start_time": "2021-07-22T10:16:48.196Z"
   },
   {
    "duration": 33,
    "start_time": "2021-07-22T10:16:48.226Z"
   },
   {
    "duration": 42,
    "start_time": "2021-07-22T10:16:48.261Z"
   },
   {
    "duration": 9,
    "start_time": "2021-07-22T10:16:48.305Z"
   },
   {
    "duration": 14,
    "start_time": "2021-07-22T10:16:48.315Z"
   },
   {
    "duration": 23,
    "start_time": "2021-07-22T10:16:48.330Z"
   },
   {
    "duration": 38,
    "start_time": "2021-07-22T10:16:48.354Z"
   },
   {
    "duration": 194,
    "start_time": "2021-07-22T10:16:48.394Z"
   },
   {
    "duration": 13,
    "start_time": "2021-07-22T10:16:48.589Z"
   },
   {
    "duration": 16,
    "start_time": "2021-07-22T10:16:48.604Z"
   },
   {
    "duration": 24,
    "start_time": "2021-07-22T10:16:48.622Z"
   },
   {
    "duration": 44,
    "start_time": "2021-07-22T10:16:48.648Z"
   },
   {
    "duration": 8,
    "start_time": "2021-07-22T10:17:25.493Z"
   },
   {
    "duration": 210,
    "start_time": "2021-07-22T10:18:11.297Z"
   },
   {
    "duration": 132,
    "start_time": "2021-07-22T10:18:11.509Z"
   },
   {
    "duration": 9,
    "start_time": "2021-07-22T10:18:11.644Z"
   },
   {
    "duration": 101,
    "start_time": "2021-07-22T10:18:11.655Z"
   },
   {
    "duration": 23,
    "start_time": "2021-07-22T10:18:11.758Z"
   },
   {
    "duration": 43,
    "start_time": "2021-07-22T10:18:11.783Z"
   },
   {
    "duration": 8,
    "start_time": "2021-07-22T10:18:11.828Z"
   },
   {
    "duration": 11,
    "start_time": "2021-07-22T10:18:11.839Z"
   },
   {
    "duration": 8,
    "start_time": "2021-07-22T10:18:11.853Z"
   },
   {
    "duration": 141,
    "start_time": "2021-07-22T10:18:11.863Z"
   },
   {
    "duration": 141,
    "start_time": "2021-07-22T10:18:12.006Z"
   },
   {
    "duration": 15,
    "start_time": "2021-07-22T10:18:12.149Z"
   },
   {
    "duration": 54,
    "start_time": "2021-07-22T10:18:12.166Z"
   },
   {
    "duration": 32,
    "start_time": "2021-07-22T10:18:12.221Z"
   },
   {
    "duration": 7,
    "start_time": "2021-07-22T10:18:12.255Z"
   },
   {
    "duration": 62,
    "start_time": "2021-07-22T10:18:12.263Z"
   },
   {
    "duration": 13,
    "start_time": "2021-07-22T10:18:12.327Z"
   },
   {
    "duration": 16,
    "start_time": "2021-07-22T10:18:12.342Z"
   },
   {
    "duration": 10,
    "start_time": "2021-07-22T10:18:12.360Z"
   },
   {
    "duration": 131,
    "start_time": "2021-07-22T10:18:12.371Z"
   },
   {
    "duration": 39,
    "start_time": "2021-07-22T10:18:12.504Z"
   },
   {
    "duration": 110,
    "start_time": "2021-07-22T10:18:12.544Z"
   },
   {
    "duration": 17,
    "start_time": "2021-07-22T10:18:12.659Z"
   },
   {
    "duration": 51,
    "start_time": "2021-07-22T10:18:12.691Z"
   },
   {
    "duration": 9,
    "start_time": "2021-07-22T10:18:12.744Z"
   },
   {
    "duration": 92,
    "start_time": "2021-07-22T10:18:12.755Z"
   },
   {
    "duration": 49,
    "start_time": "2021-07-22T10:18:12.848Z"
   },
   {
    "duration": 26,
    "start_time": "2021-07-22T10:18:12.898Z"
   },
   {
    "duration": 8,
    "start_time": "2021-07-22T10:18:12.926Z"
   },
   {
    "duration": 23,
    "start_time": "2021-07-22T10:18:12.935Z"
   },
   {
    "duration": 47,
    "start_time": "2021-07-22T10:18:12.960Z"
   },
   {
    "duration": 9,
    "start_time": "2021-07-22T10:18:13.009Z"
   },
   {
    "duration": 14,
    "start_time": "2021-07-22T10:18:13.019Z"
   },
   {
    "duration": 9,
    "start_time": "2021-07-22T10:18:13.035Z"
   },
   {
    "duration": 47,
    "start_time": "2021-07-22T10:18:13.045Z"
   },
   {
    "duration": 22,
    "start_time": "2021-07-22T10:18:13.094Z"
   },
   {
    "duration": 211,
    "start_time": "2021-07-22T10:18:13.118Z"
   },
   {
    "duration": 13,
    "start_time": "2021-07-22T10:18:13.330Z"
   },
   {
    "duration": 11,
    "start_time": "2021-07-22T10:18:13.345Z"
   },
   {
    "duration": 44,
    "start_time": "2021-07-22T10:18:13.358Z"
   },
   {
    "duration": 24,
    "start_time": "2021-07-22T10:18:13.403Z"
   },
   {
    "duration": 26,
    "start_time": "2021-07-22T10:18:34.289Z"
   },
   {
    "duration": 229,
    "start_time": "2021-07-22T10:30:28.161Z"
   },
   {
    "duration": 84,
    "start_time": "2021-07-22T10:30:41.144Z"
   },
   {
    "duration": 29,
    "start_time": "2021-07-22T10:31:06.790Z"
   },
   {
    "duration": 26,
    "start_time": "2021-07-22T10:33:59.512Z"
   },
   {
    "duration": 26,
    "start_time": "2021-07-22T10:37:28.427Z"
   },
   {
    "duration": 27,
    "start_time": "2021-07-22T10:37:58.254Z"
   },
   {
    "duration": 26,
    "start_time": "2021-07-22T10:38:34.455Z"
   },
   {
    "duration": 25,
    "start_time": "2021-07-22T10:38:46.561Z"
   },
   {
    "duration": 757,
    "start_time": "2021-07-22T11:01:12.027Z"
   },
   {
    "duration": 159,
    "start_time": "2021-07-22T11:01:59.979Z"
   },
   {
    "duration": 292,
    "start_time": "2021-07-22T11:03:54.699Z"
   },
   {
    "duration": 273,
    "start_time": "2021-07-22T11:04:32.684Z"
   },
   {
    "duration": 171,
    "start_time": "2021-07-22T11:04:41.971Z"
   },
   {
    "duration": 179,
    "start_time": "2021-07-22T11:07:11.354Z"
   },
   {
    "duration": 279,
    "start_time": "2021-07-22T11:08:46.757Z"
   },
   {
    "duration": 173,
    "start_time": "2021-07-22T11:09:02.215Z"
   },
   {
    "duration": 621,
    "start_time": "2021-07-22T11:10:00.554Z"
   },
   {
    "duration": 225,
    "start_time": "2021-07-22T11:10:17.896Z"
   },
   {
    "duration": 158,
    "start_time": "2021-07-22T11:11:06.090Z"
   },
   {
    "duration": 149,
    "start_time": "2021-07-22T11:11:06.249Z"
   },
   {
    "duration": 10,
    "start_time": "2021-07-22T11:11:06.399Z"
   },
   {
    "duration": 97,
    "start_time": "2021-07-22T11:11:06.411Z"
   },
   {
    "duration": 22,
    "start_time": "2021-07-22T11:11:06.510Z"
   },
   {
    "duration": 38,
    "start_time": "2021-07-22T11:11:06.534Z"
   },
   {
    "duration": 6,
    "start_time": "2021-07-22T11:11:06.573Z"
   },
   {
    "duration": 14,
    "start_time": "2021-07-22T11:11:06.582Z"
   },
   {
    "duration": 8,
    "start_time": "2021-07-22T11:11:06.598Z"
   },
   {
    "duration": 83,
    "start_time": "2021-07-22T11:11:06.608Z"
   },
   {
    "duration": 141,
    "start_time": "2021-07-22T11:11:06.693Z"
   },
   {
    "duration": 15,
    "start_time": "2021-07-22T11:11:06.836Z"
   },
   {
    "duration": 48,
    "start_time": "2021-07-22T11:11:06.853Z"
   },
   {
    "duration": 31,
    "start_time": "2021-07-22T11:11:06.903Z"
   },
   {
    "duration": 7,
    "start_time": "2021-07-22T11:11:06.936Z"
   },
   {
    "duration": 61,
    "start_time": "2021-07-22T11:11:06.945Z"
   },
   {
    "duration": 13,
    "start_time": "2021-07-22T11:11:07.008Z"
   },
   {
    "duration": 15,
    "start_time": "2021-07-22T11:11:07.022Z"
   },
   {
    "duration": 9,
    "start_time": "2021-07-22T11:11:07.038Z"
   },
   {
    "duration": 131,
    "start_time": "2021-07-22T11:11:07.049Z"
   },
   {
    "duration": 48,
    "start_time": "2021-07-22T11:11:07.181Z"
   },
   {
    "duration": 109,
    "start_time": "2021-07-22T11:11:07.231Z"
   },
   {
    "duration": 17,
    "start_time": "2021-07-22T11:11:07.343Z"
   },
   {
    "duration": 67,
    "start_time": "2021-07-22T11:11:07.362Z"
   },
   {
    "duration": 9,
    "start_time": "2021-07-22T11:11:07.430Z"
   },
   {
    "duration": 82,
    "start_time": "2021-07-22T11:11:07.440Z"
   },
   {
    "duration": 40,
    "start_time": "2021-07-22T11:11:07.524Z"
   },
   {
    "duration": 43,
    "start_time": "2021-07-22T11:11:07.565Z"
   },
   {
    "duration": 8,
    "start_time": "2021-07-22T11:11:07.609Z"
   },
   {
    "duration": 29,
    "start_time": "2021-07-22T11:11:07.619Z"
   },
   {
    "duration": 22,
    "start_time": "2021-07-22T11:11:07.649Z"
   },
   {
    "duration": 11,
    "start_time": "2021-07-22T11:11:07.692Z"
   },
   {
    "duration": 13,
    "start_time": "2021-07-22T11:11:07.705Z"
   },
   {
    "duration": 18,
    "start_time": "2021-07-22T11:11:07.719Z"
   },
   {
    "duration": 21,
    "start_time": "2021-07-22T11:11:07.739Z"
   },
   {
    "duration": 34,
    "start_time": "2021-07-22T11:11:07.762Z"
   },
   {
    "duration": 199,
    "start_time": "2021-07-22T11:11:07.798Z"
   },
   {
    "duration": 13,
    "start_time": "2021-07-22T11:11:07.999Z"
   },
   {
    "duration": 9,
    "start_time": "2021-07-22T11:11:08.014Z"
   },
   {
    "duration": 26,
    "start_time": "2021-07-22T11:11:08.025Z"
   },
   {
    "duration": 61,
    "start_time": "2021-07-22T11:11:08.053Z"
   },
   {
    "duration": 37,
    "start_time": "2021-07-22T11:11:08.116Z"
   },
   {
    "duration": 190,
    "start_time": "2021-07-22T11:11:08.154Z"
   },
   {
    "duration": 181,
    "start_time": "2021-07-22T11:11:08.346Z"
   },
   {
    "duration": 180,
    "start_time": "2021-07-22T11:11:08.529Z"
   },
   {
    "duration": 269,
    "start_time": "2021-07-22T11:11:08.710Z"
   },
   {
    "duration": 234,
    "start_time": "2021-07-22T11:11:08.981Z"
   },
   {
    "duration": 168,
    "start_time": "2021-07-22T11:11:21.325Z"
   },
   {
    "duration": 180,
    "start_time": "2021-07-22T11:11:25.025Z"
   },
   {
    "duration": 261,
    "start_time": "2021-07-22T11:11:57.077Z"
   },
   {
    "duration": 266,
    "start_time": "2021-07-22T11:17:58.464Z"
   },
   {
    "duration": 225,
    "start_time": "2021-07-22T11:19:00.656Z"
   },
   {
    "duration": 220,
    "start_time": "2021-07-22T11:19:54.118Z"
   },
   {
    "duration": 413,
    "start_time": "2021-07-22T11:20:52.952Z"
   },
   {
    "duration": 627,
    "start_time": "2021-07-22T11:21:28.156Z"
   },
   {
    "duration": 941,
    "start_time": "2021-07-22T11:21:42.527Z"
   },
   {
    "duration": 729,
    "start_time": "2021-07-22T11:22:05.095Z"
   },
   {
    "duration": 524,
    "start_time": "2021-07-22T11:22:12.881Z"
   },
   {
    "duration": 618,
    "start_time": "2021-07-22T11:22:27.367Z"
   },
   {
    "duration": 605,
    "start_time": "2021-07-22T11:23:47.926Z"
   },
   {
    "duration": 566,
    "start_time": "2021-07-22T11:26:54.199Z"
   },
   {
    "duration": 744,
    "start_time": "2021-07-22T11:27:20.372Z"
   },
   {
    "duration": 600,
    "start_time": "2021-07-22T11:30:24.213Z"
   },
   {
    "duration": 606,
    "start_time": "2021-07-22T11:30:47.004Z"
   },
   {
    "duration": 886,
    "start_time": "2021-07-22T11:45:07.913Z"
   },
   {
    "duration": 628,
    "start_time": "2021-07-22T11:45:46.462Z"
   },
   {
    "duration": 769,
    "start_time": "2021-07-22T11:46:11.702Z"
   },
   {
    "duration": 156,
    "start_time": "2021-07-22T11:46:41.892Z"
   },
   {
    "duration": 135,
    "start_time": "2021-07-22T11:46:42.050Z"
   },
   {
    "duration": 10,
    "start_time": "2021-07-22T11:46:42.192Z"
   },
   {
    "duration": 95,
    "start_time": "2021-07-22T11:46:42.204Z"
   },
   {
    "duration": 23,
    "start_time": "2021-07-22T11:46:42.301Z"
   },
   {
    "duration": 38,
    "start_time": "2021-07-22T11:46:42.325Z"
   },
   {
    "duration": 5,
    "start_time": "2021-07-22T11:46:42.365Z"
   },
   {
    "duration": 14,
    "start_time": "2021-07-22T11:46:42.372Z"
   },
   {
    "duration": 7,
    "start_time": "2021-07-22T11:46:42.388Z"
   },
   {
    "duration": 84,
    "start_time": "2021-07-22T11:46:42.396Z"
   },
   {
    "duration": 137,
    "start_time": "2021-07-22T11:46:42.491Z"
   },
   {
    "duration": 13,
    "start_time": "2021-07-22T11:46:42.629Z"
   },
   {
    "duration": 48,
    "start_time": "2021-07-22T11:46:42.643Z"
   },
   {
    "duration": 30,
    "start_time": "2021-07-22T11:46:42.693Z"
   },
   {
    "duration": 6,
    "start_time": "2021-07-22T11:46:42.725Z"
   },
   {
    "duration": 37,
    "start_time": "2021-07-22T11:46:42.732Z"
   },
   {
    "duration": 30,
    "start_time": "2021-07-22T11:46:42.770Z"
   },
   {
    "duration": 13,
    "start_time": "2021-07-22T11:46:42.802Z"
   },
   {
    "duration": 9,
    "start_time": "2021-07-22T11:46:42.816Z"
   },
   {
    "duration": 118,
    "start_time": "2021-07-22T11:46:42.827Z"
   },
   {
    "duration": 46,
    "start_time": "2021-07-22T11:46:42.946Z"
   },
   {
    "duration": 98,
    "start_time": "2021-07-22T11:46:42.993Z"
   },
   {
    "duration": 16,
    "start_time": "2021-07-22T11:46:43.094Z"
   },
   {
    "duration": 53,
    "start_time": "2021-07-22T11:46:43.112Z"
   },
   {
    "duration": 8,
    "start_time": "2021-07-22T11:46:43.167Z"
   },
   {
    "duration": 61,
    "start_time": "2021-07-22T11:46:43.191Z"
   },
   {
    "duration": 48,
    "start_time": "2021-07-22T11:46:43.254Z"
   },
   {
    "duration": 26,
    "start_time": "2021-07-22T11:46:43.304Z"
   },
   {
    "duration": 9,
    "start_time": "2021-07-22T11:46:43.331Z"
   },
   {
    "duration": 24,
    "start_time": "2021-07-22T11:46:43.341Z"
   },
   {
    "duration": 37,
    "start_time": "2021-07-22T11:46:43.367Z"
   },
   {
    "duration": 9,
    "start_time": "2021-07-22T11:46:43.405Z"
   },
   {
    "duration": 10,
    "start_time": "2021-07-22T11:46:43.416Z"
   },
   {
    "duration": 20,
    "start_time": "2021-07-22T11:46:43.428Z"
   },
   {
    "duration": 30,
    "start_time": "2021-07-22T11:46:43.449Z"
   },
   {
    "duration": 28,
    "start_time": "2021-07-22T11:46:43.481Z"
   },
   {
    "duration": 191,
    "start_time": "2021-07-22T11:46:43.510Z"
   },
   {
    "duration": 13,
    "start_time": "2021-07-22T11:46:43.703Z"
   },
   {
    "duration": 10,
    "start_time": "2021-07-22T11:46:43.717Z"
   },
   {
    "duration": 22,
    "start_time": "2021-07-22T11:46:43.728Z"
   },
   {
    "duration": 50,
    "start_time": "2021-07-22T11:46:43.751Z"
   },
   {
    "duration": 25,
    "start_time": "2021-07-22T11:46:43.802Z"
   },
   {
    "duration": 632,
    "start_time": "2021-07-22T11:46:43.829Z"
   },
   {
    "duration": 605,
    "start_time": "2021-07-22T11:46:44.462Z"
   },
   {
    "duration": 591,
    "start_time": "2021-07-22T11:46:45.069Z"
   },
   {
    "duration": 742,
    "start_time": "2021-07-22T11:46:45.661Z"
   },
   {
    "duration": 717,
    "start_time": "2021-07-22T11:47:20.746Z"
   },
   {
    "duration": 619,
    "start_time": "2021-07-22T11:47:38.723Z"
   },
   {
    "duration": 616,
    "start_time": "2021-07-22T11:48:58.445Z"
   },
   {
    "duration": 149,
    "start_time": "2021-07-22T11:52:14.720Z"
   },
   {
    "duration": 132,
    "start_time": "2021-07-22T11:52:14.871Z"
   },
   {
    "duration": 11,
    "start_time": "2021-07-22T11:52:15.005Z"
   },
   {
    "duration": 99,
    "start_time": "2021-07-22T11:52:15.019Z"
   },
   {
    "duration": 23,
    "start_time": "2021-07-22T11:52:15.121Z"
   },
   {
    "duration": 35,
    "start_time": "2021-07-22T11:52:15.146Z"
   },
   {
    "duration": 6,
    "start_time": "2021-07-22T11:52:15.183Z"
   },
   {
    "duration": 8,
    "start_time": "2021-07-22T11:52:15.191Z"
   },
   {
    "duration": 7,
    "start_time": "2021-07-22T11:52:15.201Z"
   },
   {
    "duration": 92,
    "start_time": "2021-07-22T11:52:15.210Z"
   },
   {
    "duration": 138,
    "start_time": "2021-07-22T11:52:15.304Z"
   },
   {
    "duration": 14,
    "start_time": "2021-07-22T11:52:15.444Z"
   },
   {
    "duration": 51,
    "start_time": "2021-07-22T11:52:15.460Z"
   },
   {
    "duration": 30,
    "start_time": "2021-07-22T11:52:15.513Z"
   },
   {
    "duration": 7,
    "start_time": "2021-07-22T11:52:15.545Z"
   },
   {
    "duration": 62,
    "start_time": "2021-07-22T11:52:15.554Z"
   },
   {
    "duration": 13,
    "start_time": "2021-07-22T11:52:15.618Z"
   },
   {
    "duration": 14,
    "start_time": "2021-07-22T11:52:15.633Z"
   },
   {
    "duration": 10,
    "start_time": "2021-07-22T11:52:15.651Z"
   },
   {
    "duration": 134,
    "start_time": "2021-07-22T11:52:15.663Z"
   },
   {
    "duration": 34,
    "start_time": "2021-07-22T11:52:15.799Z"
   },
   {
    "duration": 107,
    "start_time": "2021-07-22T11:52:15.834Z"
   },
   {
    "duration": 16,
    "start_time": "2021-07-22T11:52:15.943Z"
   },
   {
    "duration": 59,
    "start_time": "2021-07-22T11:52:15.961Z"
   },
   {
    "duration": 10,
    "start_time": "2021-07-22T11:52:16.021Z"
   },
   {
    "duration": 74,
    "start_time": "2021-07-22T11:52:16.032Z"
   },
   {
    "duration": 39,
    "start_time": "2021-07-22T11:52:16.108Z"
   },
   {
    "duration": 43,
    "start_time": "2021-07-22T11:52:16.149Z"
   },
   {
    "duration": 8,
    "start_time": "2021-07-22T11:52:16.194Z"
   },
   {
    "duration": 21,
    "start_time": "2021-07-22T11:52:16.203Z"
   },
   {
    "duration": 21,
    "start_time": "2021-07-22T11:52:16.225Z"
   },
   {
    "duration": 9,
    "start_time": "2021-07-22T11:52:16.247Z"
   },
   {
    "duration": 8,
    "start_time": "2021-07-22T11:52:16.257Z"
   },
   {
    "duration": 31,
    "start_time": "2021-07-22T11:52:16.266Z"
   },
   {
    "duration": 19,
    "start_time": "2021-07-22T11:52:16.299Z"
   },
   {
    "duration": 19,
    "start_time": "2021-07-22T11:52:16.319Z"
   },
   {
    "duration": 204,
    "start_time": "2021-07-22T11:52:16.340Z"
   },
   {
    "duration": 12,
    "start_time": "2021-07-22T11:52:16.546Z"
   },
   {
    "duration": 10,
    "start_time": "2021-07-22T11:52:16.560Z"
   },
   {
    "duration": 37,
    "start_time": "2021-07-22T11:52:16.572Z"
   },
   {
    "duration": 25,
    "start_time": "2021-07-22T11:52:16.611Z"
   },
   {
    "duration": 25,
    "start_time": "2021-07-22T11:52:16.638Z"
   },
   {
    "duration": 651,
    "start_time": "2021-07-22T11:52:16.665Z"
   },
   {
    "duration": 589,
    "start_time": "2021-07-22T11:52:17.318Z"
   },
   {
    "duration": 583,
    "start_time": "2021-07-22T11:52:17.909Z"
   },
   {
    "duration": 715,
    "start_time": "2021-07-22T11:52:18.494Z"
   },
   {
    "duration": 742,
    "start_time": "2021-07-22T11:53:00.669Z"
   },
   {
    "duration": 519,
    "start_time": "2021-07-22T11:55:13.593Z"
   },
   {
    "duration": 517,
    "start_time": "2021-07-22T11:56:07.541Z"
   },
   {
    "duration": 789,
    "start_time": "2021-07-22T12:15:35.288Z"
   },
   {
    "duration": 133,
    "start_time": "2021-07-22T12:15:36.079Z"
   },
   {
    "duration": 11,
    "start_time": "2021-07-22T12:15:36.215Z"
   },
   {
    "duration": 102,
    "start_time": "2021-07-22T12:15:36.228Z"
   },
   {
    "duration": 23,
    "start_time": "2021-07-22T12:15:36.332Z"
   },
   {
    "duration": 38,
    "start_time": "2021-07-22T12:15:36.357Z"
   },
   {
    "duration": 6,
    "start_time": "2021-07-22T12:15:36.396Z"
   },
   {
    "duration": 7,
    "start_time": "2021-07-22T12:15:36.406Z"
   },
   {
    "duration": 10,
    "start_time": "2021-07-22T12:15:36.415Z"
   },
   {
    "duration": 107,
    "start_time": "2021-07-22T12:15:36.426Z"
   },
   {
    "duration": 137,
    "start_time": "2021-07-22T12:15:36.535Z"
   },
   {
    "duration": 22,
    "start_time": "2021-07-22T12:15:36.673Z"
   },
   {
    "duration": 40,
    "start_time": "2021-07-22T12:15:36.696Z"
   },
   {
    "duration": 30,
    "start_time": "2021-07-22T12:15:36.737Z"
   },
   {
    "duration": 26,
    "start_time": "2021-07-22T12:15:36.769Z"
   },
   {
    "duration": 39,
    "start_time": "2021-07-22T12:15:36.796Z"
   },
   {
    "duration": 11,
    "start_time": "2021-07-22T12:15:36.837Z"
   },
   {
    "duration": 14,
    "start_time": "2021-07-22T12:15:36.849Z"
   },
   {
    "duration": 31,
    "start_time": "2021-07-22T12:15:36.864Z"
   },
   {
    "duration": 112,
    "start_time": "2021-07-22T12:15:36.896Z"
   },
   {
    "duration": 35,
    "start_time": "2021-07-22T12:15:37.009Z"
   },
   {
    "duration": 103,
    "start_time": "2021-07-22T12:15:37.046Z"
   },
   {
    "duration": 17,
    "start_time": "2021-07-22T12:15:37.152Z"
   },
   {
    "duration": 61,
    "start_time": "2021-07-22T12:15:37.171Z"
   },
   {
    "duration": 10,
    "start_time": "2021-07-22T12:15:37.234Z"
   },
   {
    "duration": 81,
    "start_time": "2021-07-22T12:15:37.246Z"
   },
   {
    "duration": 41,
    "start_time": "2021-07-22T12:15:37.329Z"
   },
   {
    "duration": 40,
    "start_time": "2021-07-22T12:15:37.371Z"
   },
   {
    "duration": 8,
    "start_time": "2021-07-22T12:15:37.413Z"
   },
   {
    "duration": 21,
    "start_time": "2021-07-22T12:15:37.423Z"
   },
   {
    "duration": 21,
    "start_time": "2021-07-22T12:15:37.446Z"
   },
   {
    "duration": 30,
    "start_time": "2021-07-22T12:15:37.469Z"
   },
   {
    "duration": 11,
    "start_time": "2021-07-22T12:15:37.500Z"
   },
   {
    "duration": 8,
    "start_time": "2021-07-22T12:15:37.513Z"
   },
   {
    "duration": 22,
    "start_time": "2021-07-22T12:15:37.522Z"
   },
   {
    "duration": 20,
    "start_time": "2021-07-22T12:15:37.545Z"
   },
   {
    "duration": 205,
    "start_time": "2021-07-22T12:15:37.567Z"
   },
   {
    "duration": 21,
    "start_time": "2021-07-22T12:15:37.773Z"
   },
   {
    "duration": 10,
    "start_time": "2021-07-22T12:15:37.795Z"
   },
   {
    "duration": 27,
    "start_time": "2021-07-22T12:15:37.806Z"
   },
   {
    "duration": 23,
    "start_time": "2021-07-22T12:15:37.834Z"
   },
   {
    "duration": 45,
    "start_time": "2021-07-22T12:15:37.858Z"
   },
   {
    "duration": 995,
    "start_time": "2021-07-22T12:15:37.904Z"
   },
   {
    "duration": 662,
    "start_time": "2021-07-22T12:15:38.901Z"
   },
   {
    "duration": 664,
    "start_time": "2021-07-22T12:15:39.564Z"
   },
   {
    "duration": 606,
    "start_time": "2021-07-22T12:15:40.229Z"
   },
   {
    "duration": 818,
    "start_time": "2021-07-22T12:16:41.411Z"
   },
   {
    "duration": 626,
    "start_time": "2021-07-22T12:20:25.887Z"
   },
   {
    "duration": 856,
    "start_time": "2021-07-22T12:20:40.761Z"
   },
   {
    "duration": 620,
    "start_time": "2021-07-22T12:20:49.348Z"
   },
   {
    "duration": 627,
    "start_time": "2021-07-22T12:21:05.411Z"
   },
   {
    "duration": 823,
    "start_time": "2021-07-22T12:21:27.009Z"
   },
   {
    "duration": 875,
    "start_time": "2021-07-22T12:21:44.671Z"
   },
   {
    "duration": 745,
    "start_time": "2021-07-22T12:22:22.129Z"
   },
   {
    "duration": 20,
    "start_time": "2021-07-22T12:24:52.268Z"
   },
   {
    "duration": 42,
    "start_time": "2021-07-22T12:25:56.300Z"
   },
   {
    "duration": 543,
    "start_time": "2021-07-22T12:27:10.617Z"
   },
   {
    "duration": 542,
    "start_time": "2021-07-22T12:28:12.202Z"
   },
   {
    "duration": 566,
    "start_time": "2021-07-22T12:28:53.987Z"
   },
   {
    "duration": 1206,
    "start_time": "2021-07-22T12:29:16.306Z"
   },
   {
    "duration": 575,
    "start_time": "2021-07-22T12:30:03.287Z"
   },
   {
    "duration": 797,
    "start_time": "2021-07-22T12:32:58.802Z"
   },
   {
    "duration": 568,
    "start_time": "2021-07-22T12:33:20.399Z"
   },
   {
    "duration": 671,
    "start_time": "2021-07-22T12:33:59.965Z"
   },
   {
    "duration": 548,
    "start_time": "2021-07-22T12:36:06.501Z"
   },
   {
    "duration": 542,
    "start_time": "2021-07-22T12:36:28.915Z"
   },
   {
    "duration": 643,
    "start_time": "2021-07-22T12:36:52.979Z"
   },
   {
    "duration": 640,
    "start_time": "2021-07-22T12:40:36.693Z"
   },
   {
    "duration": 601,
    "start_time": "2021-07-22T12:41:31.047Z"
   },
   {
    "duration": 555,
    "start_time": "2021-07-22T12:42:49.483Z"
   },
   {
    "duration": 527,
    "start_time": "2021-07-22T12:46:02.684Z"
   },
   {
    "duration": 622,
    "start_time": "2021-07-22T12:48:22.647Z"
   },
   {
    "duration": 523,
    "start_time": "2021-07-22T12:49:38.342Z"
   },
   {
    "duration": 552,
    "start_time": "2021-07-22T12:50:55.832Z"
   },
   {
    "duration": 656,
    "start_time": "2021-07-22T12:51:29.814Z"
   },
   {
    "duration": 550,
    "start_time": "2021-07-22T12:51:44.230Z"
   },
   {
    "duration": 560,
    "start_time": "2021-07-22T12:52:04.954Z"
   },
   {
    "duration": 555,
    "start_time": "2021-07-22T12:53:10.654Z"
   },
   {
    "duration": 710,
    "start_time": "2021-07-22T12:53:55.751Z"
   },
   {
    "duration": 589,
    "start_time": "2021-07-22T12:54:24.431Z"
   },
   {
    "duration": 573,
    "start_time": "2021-07-22T12:54:35.464Z"
   },
   {
    "duration": 788,
    "start_time": "2021-07-22T12:57:02.462Z"
   },
   {
    "duration": 663,
    "start_time": "2021-07-22T12:57:14.240Z"
   },
   {
    "duration": 546,
    "start_time": "2021-07-22T12:58:51.464Z"
   },
   {
    "duration": 553,
    "start_time": "2021-07-22T13:00:01.631Z"
   },
   {
    "duration": 656,
    "start_time": "2021-07-22T13:00:18.470Z"
   },
   {
    "duration": 572,
    "start_time": "2021-07-22T13:00:37.484Z"
   },
   {
    "duration": 555,
    "start_time": "2021-07-22T13:00:44.002Z"
   },
   {
    "duration": 488,
    "start_time": "2021-07-22T13:01:38.360Z"
   },
   {
    "duration": 679,
    "start_time": "2021-07-22T13:02:41.083Z"
   },
   {
    "duration": 614,
    "start_time": "2021-07-22T13:03:32.303Z"
   },
   {
    "duration": 542,
    "start_time": "2021-07-22T13:03:48.208Z"
   },
   {
    "duration": 611,
    "start_time": "2021-07-22T13:04:59.450Z"
   },
   {
    "duration": 685,
    "start_time": "2021-07-22T13:05:12.804Z"
   },
   {
    "duration": 559,
    "start_time": "2021-07-22T13:06:29.541Z"
   },
   {
    "duration": 564,
    "start_time": "2021-07-22T13:07:08.785Z"
   },
   {
    "duration": 694,
    "start_time": "2021-07-22T13:10:00.955Z"
   },
   {
    "duration": 153,
    "start_time": "2021-07-22T13:12:44.107Z"
   },
   {
    "duration": 140,
    "start_time": "2021-07-22T13:12:44.261Z"
   },
   {
    "duration": 11,
    "start_time": "2021-07-22T13:12:44.403Z"
   },
   {
    "duration": 102,
    "start_time": "2021-07-22T13:12:44.416Z"
   },
   {
    "duration": 22,
    "start_time": "2021-07-22T13:12:44.520Z"
   },
   {
    "duration": 36,
    "start_time": "2021-07-22T13:12:44.543Z"
   },
   {
    "duration": 6,
    "start_time": "2021-07-22T13:12:44.580Z"
   },
   {
    "duration": 8,
    "start_time": "2021-07-22T13:12:44.588Z"
   },
   {
    "duration": 6,
    "start_time": "2021-07-22T13:12:44.598Z"
   },
   {
    "duration": 95,
    "start_time": "2021-07-22T13:12:44.606Z"
   },
   {
    "duration": 135,
    "start_time": "2021-07-22T13:12:44.705Z"
   },
   {
    "duration": 13,
    "start_time": "2021-07-22T13:12:44.842Z"
   },
   {
    "duration": 46,
    "start_time": "2021-07-22T13:12:44.856Z"
   },
   {
    "duration": 31,
    "start_time": "2021-07-22T13:12:44.903Z"
   },
   {
    "duration": 6,
    "start_time": "2021-07-22T13:12:44.936Z"
   },
   {
    "duration": 54,
    "start_time": "2021-07-22T13:12:44.943Z"
   },
   {
    "duration": 14,
    "start_time": "2021-07-22T13:12:44.999Z"
   },
   {
    "duration": 15,
    "start_time": "2021-07-22T13:12:45.014Z"
   },
   {
    "duration": 10,
    "start_time": "2021-07-22T13:12:45.031Z"
   },
   {
    "duration": 133,
    "start_time": "2021-07-22T13:12:45.043Z"
   },
   {
    "duration": 48,
    "start_time": "2021-07-22T13:12:45.178Z"
   },
   {
    "duration": 103,
    "start_time": "2021-07-22T13:12:45.228Z"
   },
   {
    "duration": 17,
    "start_time": "2021-07-22T13:12:45.335Z"
   },
   {
    "duration": 64,
    "start_time": "2021-07-22T13:12:45.354Z"
   },
   {
    "duration": 10,
    "start_time": "2021-07-22T13:12:45.419Z"
   },
   {
    "duration": 85,
    "start_time": "2021-07-22T13:12:45.430Z"
   },
   {
    "duration": 41,
    "start_time": "2021-07-22T13:12:45.516Z"
   },
   {
    "duration": 38,
    "start_time": "2021-07-22T13:12:45.558Z"
   },
   {
    "duration": 8,
    "start_time": "2021-07-22T13:12:45.598Z"
   },
   {
    "duration": 18,
    "start_time": "2021-07-22T13:12:45.608Z"
   },
   {
    "duration": 22,
    "start_time": "2021-07-22T13:12:45.628Z"
   },
   {
    "duration": 8,
    "start_time": "2021-07-22T13:12:45.652Z"
   },
   {
    "duration": 37,
    "start_time": "2021-07-22T13:12:45.662Z"
   },
   {
    "duration": 12,
    "start_time": "2021-07-22T13:12:45.700Z"
   },
   {
    "duration": 20,
    "start_time": "2021-07-22T13:12:45.714Z"
   },
   {
    "duration": 21,
    "start_time": "2021-07-22T13:12:45.736Z"
   },
   {
    "duration": 205,
    "start_time": "2021-07-22T13:12:45.758Z"
   },
   {
    "duration": 12,
    "start_time": "2021-07-22T13:12:45.964Z"
   },
   {
    "duration": 18,
    "start_time": "2021-07-22T13:12:45.978Z"
   },
   {
    "duration": 19,
    "start_time": "2021-07-22T13:12:45.998Z"
   },
   {
    "duration": 25,
    "start_time": "2021-07-22T13:12:46.019Z"
   },
   {
    "duration": 53,
    "start_time": "2021-07-22T13:12:46.046Z"
   },
   {
    "duration": 608,
    "start_time": "2021-07-22T13:12:46.101Z"
   },
   {
    "duration": 567,
    "start_time": "2021-07-22T13:12:46.710Z"
   },
   {
    "duration": 559,
    "start_time": "2021-07-22T13:12:47.278Z"
   },
   {
    "duration": 666,
    "start_time": "2021-07-22T13:12:47.838Z"
   },
   {
    "duration": 692,
    "start_time": "2021-07-22T13:17:09.177Z"
   },
   {
    "duration": 599,
    "start_time": "2021-07-22T13:18:08.292Z"
   },
   {
    "duration": 662,
    "start_time": "2021-07-22T13:20:03.504Z"
   },
   {
    "duration": 551,
    "start_time": "2021-07-22T13:20:33.100Z"
   },
   {
    "duration": 596,
    "start_time": "2021-07-22T13:21:05.782Z"
   },
   {
    "duration": 80,
    "start_time": "2021-07-22T13:21:21.515Z"
   },
   {
    "duration": 185,
    "start_time": "2021-07-22T13:21:30.504Z"
   },
   {
    "duration": 593,
    "start_time": "2021-07-22T13:21:38.578Z"
   },
   {
    "duration": 677,
    "start_time": "2021-07-22T13:21:51.896Z"
   },
   {
    "duration": 557,
    "start_time": "2021-07-22T13:22:09.230Z"
   },
   {
    "duration": 558,
    "start_time": "2021-07-22T13:22:20.791Z"
   },
   {
    "duration": 692,
    "start_time": "2021-07-22T13:22:42.997Z"
   },
   {
    "duration": 724,
    "start_time": "2021-07-22T13:22:50.146Z"
   },
   {
    "duration": 556,
    "start_time": "2021-07-22T13:23:02.973Z"
   },
   {
    "duration": 552,
    "start_time": "2021-07-22T13:23:34.253Z"
   },
   {
    "duration": 645,
    "start_time": "2021-07-22T13:23:52.257Z"
   },
   {
    "duration": 581,
    "start_time": "2021-07-22T13:25:43.470Z"
   },
   {
    "duration": 560,
    "start_time": "2021-07-22T13:37:20.953Z"
   },
   {
    "duration": 553,
    "start_time": "2021-07-22T13:38:03.742Z"
   },
   {
    "duration": 411,
    "start_time": "2021-07-22T13:42:04.993Z"
   },
   {
    "duration": 643,
    "start_time": "2021-07-22T13:42:25.993Z"
   },
   {
    "duration": 541,
    "start_time": "2021-07-22T13:42:52.454Z"
   },
   {
    "duration": 576,
    "start_time": "2021-07-22T13:43:06.311Z"
   },
   {
    "duration": 659,
    "start_time": "2021-07-22T13:43:28.037Z"
   },
   {
    "duration": 638,
    "start_time": "2021-07-22T13:43:47.628Z"
   },
   {
    "duration": 569,
    "start_time": "2021-07-22T13:45:41.778Z"
   },
   {
    "duration": 676,
    "start_time": "2021-07-22T13:46:07.140Z"
   },
   {
    "duration": 281,
    "start_time": "2021-07-22T16:59:24.003Z"
   },
   {
    "duration": 821,
    "start_time": "2021-07-22T16:59:45.099Z"
   },
   {
    "duration": 136,
    "start_time": "2021-07-22T16:59:45.922Z"
   },
   {
    "duration": 12,
    "start_time": "2021-07-22T16:59:46.060Z"
   },
   {
    "duration": 98,
    "start_time": "2021-07-22T16:59:46.073Z"
   },
   {
    "duration": 23,
    "start_time": "2021-07-22T16:59:46.173Z"
   },
   {
    "duration": 38,
    "start_time": "2021-07-22T16:59:46.197Z"
   },
   {
    "duration": 5,
    "start_time": "2021-07-22T16:59:46.236Z"
   },
   {
    "duration": 9,
    "start_time": "2021-07-22T16:59:46.243Z"
   },
   {
    "duration": 8,
    "start_time": "2021-07-22T16:59:46.254Z"
   },
   {
    "duration": 103,
    "start_time": "2021-07-22T16:59:46.263Z"
   },
   {
    "duration": 144,
    "start_time": "2021-07-22T16:59:46.367Z"
   },
   {
    "duration": 14,
    "start_time": "2021-07-22T16:59:46.513Z"
   },
   {
    "duration": 40,
    "start_time": "2021-07-22T16:59:46.529Z"
   },
   {
    "duration": 48,
    "start_time": "2021-07-22T16:59:46.571Z"
   },
   {
    "duration": 7,
    "start_time": "2021-07-22T16:59:46.621Z"
   },
   {
    "duration": 41,
    "start_time": "2021-07-22T16:59:46.630Z"
   },
   {
    "duration": 30,
    "start_time": "2021-07-22T16:59:46.672Z"
   },
   {
    "duration": 14,
    "start_time": "2021-07-22T16:59:46.704Z"
   },
   {
    "duration": 12,
    "start_time": "2021-07-22T16:59:46.720Z"
   },
   {
    "duration": 135,
    "start_time": "2021-07-22T16:59:46.734Z"
   },
   {
    "duration": 48,
    "start_time": "2021-07-22T16:59:46.871Z"
   },
   {
    "duration": 105,
    "start_time": "2021-07-22T16:59:46.921Z"
   },
   {
    "duration": 19,
    "start_time": "2021-07-22T16:59:47.030Z"
   },
   {
    "duration": 67,
    "start_time": "2021-07-22T16:59:47.051Z"
   },
   {
    "duration": 12,
    "start_time": "2021-07-22T16:59:47.120Z"
   },
   {
    "duration": 87,
    "start_time": "2021-07-22T16:59:47.133Z"
   },
   {
    "duration": 44,
    "start_time": "2021-07-22T16:59:47.222Z"
   },
   {
    "duration": 50,
    "start_time": "2021-07-22T16:59:47.267Z"
   },
   {
    "duration": 9,
    "start_time": "2021-07-22T16:59:47.318Z"
   },
   {
    "duration": 19,
    "start_time": "2021-07-22T16:59:47.328Z"
   },
   {
    "duration": 42,
    "start_time": "2021-07-22T16:59:47.349Z"
   },
   {
    "duration": 10,
    "start_time": "2021-07-22T16:59:47.392Z"
   },
   {
    "duration": 8,
    "start_time": "2021-07-22T16:59:47.403Z"
   },
   {
    "duration": 13,
    "start_time": "2021-07-22T16:59:47.412Z"
   },
   {
    "duration": 19,
    "start_time": "2021-07-22T16:59:47.427Z"
   },
   {
    "duration": 44,
    "start_time": "2021-07-22T16:59:47.447Z"
   },
   {
    "duration": 189,
    "start_time": "2021-07-22T16:59:47.493Z"
   },
   {
    "duration": 16,
    "start_time": "2021-07-22T16:59:47.684Z"
   },
   {
    "duration": 268,
    "start_time": "2021-07-22T16:59:47.702Z"
   },
   {
    "duration": -94,
    "start_time": "2021-07-22T16:59:48.066Z"
   },
   {
    "duration": -107,
    "start_time": "2021-07-22T16:59:48.080Z"
   },
   {
    "duration": -112,
    "start_time": "2021-07-22T16:59:48.086Z"
   },
   {
    "duration": -118,
    "start_time": "2021-07-22T16:59:48.093Z"
   },
   {
    "duration": -120,
    "start_time": "2021-07-22T16:59:48.096Z"
   },
   {
    "duration": -126,
    "start_time": "2021-07-22T16:59:48.103Z"
   },
   {
    "duration": 12,
    "start_time": "2021-07-22T17:02:41.692Z"
   },
   {
    "duration": 165,
    "start_time": "2021-07-22T17:02:45.234Z"
   },
   {
    "duration": 144,
    "start_time": "2021-07-22T17:02:45.400Z"
   },
   {
    "duration": 10,
    "start_time": "2021-07-22T17:02:45.546Z"
   },
   {
    "duration": 94,
    "start_time": "2021-07-22T17:02:45.558Z"
   },
   {
    "duration": 22,
    "start_time": "2021-07-22T17:02:45.654Z"
   },
   {
    "duration": 34,
    "start_time": "2021-07-22T17:02:45.678Z"
   },
   {
    "duration": 5,
    "start_time": "2021-07-22T17:02:45.713Z"
   },
   {
    "duration": 8,
    "start_time": "2021-07-22T17:02:45.720Z"
   },
   {
    "duration": 6,
    "start_time": "2021-07-22T17:02:45.730Z"
   },
   {
    "duration": 90,
    "start_time": "2021-07-22T17:02:45.738Z"
   },
   {
    "duration": 134,
    "start_time": "2021-07-22T17:02:45.830Z"
   },
   {
    "duration": 13,
    "start_time": "2021-07-22T17:02:45.965Z"
   },
   {
    "duration": 39,
    "start_time": "2021-07-22T17:02:45.980Z"
   },
   {
    "duration": 32,
    "start_time": "2021-07-22T17:02:46.021Z"
   },
   {
    "duration": 7,
    "start_time": "2021-07-22T17:02:46.054Z"
   },
   {
    "duration": 58,
    "start_time": "2021-07-22T17:02:46.062Z"
   },
   {
    "duration": 12,
    "start_time": "2021-07-22T17:02:46.122Z"
   },
   {
    "duration": 14,
    "start_time": "2021-07-22T17:02:46.135Z"
   },
   {
    "duration": 9,
    "start_time": "2021-07-22T17:02:46.150Z"
   },
   {
    "duration": 124,
    "start_time": "2021-07-22T17:02:46.160Z"
   },
   {
    "duration": 42,
    "start_time": "2021-07-22T17:02:46.285Z"
   },
   {
    "duration": 102,
    "start_time": "2021-07-22T17:02:46.328Z"
   },
   {
    "duration": 17,
    "start_time": "2021-07-22T17:02:46.433Z"
   },
   {
    "duration": 60,
    "start_time": "2021-07-22T17:02:46.452Z"
   },
   {
    "duration": 9,
    "start_time": "2021-07-22T17:02:46.514Z"
   },
   {
    "duration": 87,
    "start_time": "2021-07-22T17:02:46.525Z"
   },
   {
    "duration": 44,
    "start_time": "2021-07-22T17:02:46.614Z"
   },
   {
    "duration": 41,
    "start_time": "2021-07-22T17:02:46.659Z"
   },
   {
    "duration": 8,
    "start_time": "2021-07-22T17:02:46.702Z"
   },
   {
    "duration": 21,
    "start_time": "2021-07-22T17:02:46.711Z"
   },
   {
    "duration": 21,
    "start_time": "2021-07-22T17:02:46.734Z"
   },
   {
    "duration": 9,
    "start_time": "2021-07-22T17:02:46.757Z"
   },
   {
    "duration": 30,
    "start_time": "2021-07-22T17:02:46.767Z"
   },
   {
    "duration": 8,
    "start_time": "2021-07-22T17:02:46.798Z"
   },
   {
    "duration": 18,
    "start_time": "2021-07-22T17:02:46.808Z"
   },
   {
    "duration": 20,
    "start_time": "2021-07-22T17:02:46.828Z"
   },
   {
    "duration": 208,
    "start_time": "2021-07-22T17:02:46.849Z"
   },
   {
    "duration": 13,
    "start_time": "2021-07-22T17:02:47.058Z"
   },
   {
    "duration": 19,
    "start_time": "2021-07-22T17:02:47.073Z"
   },
   {
    "duration": 20,
    "start_time": "2021-07-22T17:02:47.093Z"
   },
   {
    "duration": 24,
    "start_time": "2021-07-22T17:02:47.114Z"
   },
   {
    "duration": 23,
    "start_time": "2021-07-22T17:02:47.140Z"
   },
   {
    "duration": 994,
    "start_time": "2021-07-22T17:02:47.190Z"
   },
   {
    "duration": 770,
    "start_time": "2021-07-22T17:02:48.186Z"
   },
   {
    "duration": 839,
    "start_time": "2021-07-22T17:02:48.958Z"
   },
   {
    "duration": 699,
    "start_time": "2021-07-22T17:02:49.799Z"
   },
   {
    "duration": 806,
    "start_time": "2021-07-22T17:03:32.591Z"
   },
   {
    "duration": 743,
    "start_time": "2021-07-22T17:03:56.041Z"
   },
   {
    "duration": 663,
    "start_time": "2021-07-22T17:05:13.883Z"
   },
   {
    "duration": 766,
    "start_time": "2021-07-22T17:05:56.636Z"
   },
   {
    "duration": 672,
    "start_time": "2021-07-22T17:09:30.489Z"
   },
   {
    "duration": 229,
    "start_time": "2021-07-22T17:09:35.316Z"
   },
   {
    "duration": 132,
    "start_time": "2021-07-22T17:09:35.546Z"
   },
   {
    "duration": 16,
    "start_time": "2021-07-22T17:09:35.680Z"
   },
   {
    "duration": 94,
    "start_time": "2021-07-22T17:09:35.697Z"
   },
   {
    "duration": 22,
    "start_time": "2021-07-22T17:09:35.793Z"
   },
   {
    "duration": 38,
    "start_time": "2021-07-22T17:09:35.816Z"
   },
   {
    "duration": 5,
    "start_time": "2021-07-22T17:09:35.856Z"
   },
   {
    "duration": 8,
    "start_time": "2021-07-22T17:09:35.863Z"
   },
   {
    "duration": 7,
    "start_time": "2021-07-22T17:09:35.873Z"
   },
   {
    "duration": 77,
    "start_time": "2021-07-22T17:09:35.882Z"
   },
   {
    "duration": 140,
    "start_time": "2021-07-22T17:09:35.961Z"
   },
   {
    "duration": 13,
    "start_time": "2021-07-22T17:09:36.103Z"
   },
   {
    "duration": 33,
    "start_time": "2021-07-22T17:09:36.118Z"
   },
   {
    "duration": 50,
    "start_time": "2021-07-22T17:09:36.153Z"
   },
   {
    "duration": 6,
    "start_time": "2021-07-22T17:09:36.205Z"
   },
   {
    "duration": 42,
    "start_time": "2021-07-22T17:09:36.213Z"
   },
   {
    "duration": 12,
    "start_time": "2021-07-22T17:09:36.257Z"
   },
   {
    "duration": 33,
    "start_time": "2021-07-22T17:09:36.270Z"
   },
   {
    "duration": 9,
    "start_time": "2021-07-22T17:09:36.305Z"
   },
   {
    "duration": 114,
    "start_time": "2021-07-22T17:09:36.315Z"
   },
   {
    "duration": 39,
    "start_time": "2021-07-22T17:09:36.431Z"
   },
   {
    "duration": 112,
    "start_time": "2021-07-22T17:09:36.471Z"
   },
   {
    "duration": 17,
    "start_time": "2021-07-22T17:09:36.590Z"
   },
   {
    "duration": 50,
    "start_time": "2021-07-22T17:09:36.609Z"
   },
   {
    "duration": 10,
    "start_time": "2021-07-22T17:09:36.660Z"
   },
   {
    "duration": 70,
    "start_time": "2021-07-22T17:09:36.691Z"
   },
   {
    "duration": 53,
    "start_time": "2021-07-22T17:09:36.763Z"
   },
   {
    "duration": 26,
    "start_time": "2021-07-22T17:09:36.818Z"
   },
   {
    "duration": 9,
    "start_time": "2021-07-22T17:09:36.845Z"
   },
   {
    "duration": 36,
    "start_time": "2021-07-22T17:09:36.855Z"
   },
   {
    "duration": 21,
    "start_time": "2021-07-22T17:09:36.892Z"
   },
   {
    "duration": 9,
    "start_time": "2021-07-22T17:09:36.915Z"
   },
   {
    "duration": 13,
    "start_time": "2021-07-22T17:09:36.926Z"
   },
   {
    "duration": 16,
    "start_time": "2021-07-22T17:09:36.941Z"
   },
   {
    "duration": 25,
    "start_time": "2021-07-22T17:09:36.959Z"
   },
   {
    "duration": 19,
    "start_time": "2021-07-22T17:09:36.991Z"
   },
   {
    "duration": 193,
    "start_time": "2021-07-22T17:09:37.011Z"
   },
   {
    "duration": 12,
    "start_time": "2021-07-22T17:09:37.206Z"
   },
   {
    "duration": 21,
    "start_time": "2021-07-22T17:09:37.219Z"
   },
   {
    "duration": 21,
    "start_time": "2021-07-22T17:09:37.241Z"
   },
   {
    "duration": 33,
    "start_time": "2021-07-22T17:09:37.263Z"
   },
   {
    "duration": 24,
    "start_time": "2021-07-22T17:09:37.297Z"
   },
   {
    "duration": 626,
    "start_time": "2021-07-22T17:09:37.323Z"
   },
   {
    "duration": 716,
    "start_time": "2021-07-22T17:09:37.951Z"
   },
   {
    "duration": 565,
    "start_time": "2021-07-22T17:09:38.669Z"
   },
   {
    "duration": 585,
    "start_time": "2021-07-22T17:09:39.236Z"
   },
   {
    "duration": 625,
    "start_time": "2021-07-22T17:10:21.798Z"
   },
   {
    "duration": 551,
    "start_time": "2021-07-22T17:11:08.968Z"
   },
   {
    "duration": 582,
    "start_time": "2021-07-22T17:12:07.198Z"
   },
   {
    "duration": 1774,
    "start_time": "2021-07-23T04:23:55.109Z"
   },
   {
    "duration": 200,
    "start_time": "2021-07-23T04:23:56.886Z"
   },
   {
    "duration": 20,
    "start_time": "2021-07-23T04:23:57.090Z"
   },
   {
    "duration": 161,
    "start_time": "2021-07-23T04:23:57.113Z"
   },
   {
    "duration": 32,
    "start_time": "2021-07-23T04:23:57.278Z"
   },
   {
    "duration": 51,
    "start_time": "2021-07-23T04:23:57.313Z"
   },
   {
    "duration": 11,
    "start_time": "2021-07-23T04:23:57.367Z"
   },
   {
    "duration": 14,
    "start_time": "2021-07-23T04:23:57.384Z"
   },
   {
    "duration": 60,
    "start_time": "2021-07-23T04:23:57.402Z"
   },
   {
    "duration": 153,
    "start_time": "2021-07-23T04:23:57.466Z"
   },
   {
    "duration": 227,
    "start_time": "2021-07-23T04:23:57.622Z"
   },
   {
    "duration": 29,
    "start_time": "2021-07-23T04:23:57.851Z"
   },
   {
    "duration": 55,
    "start_time": "2021-07-23T04:23:57.882Z"
   },
   {
    "duration": 59,
    "start_time": "2021-07-23T04:23:57.939Z"
   },
   {
    "duration": 10,
    "start_time": "2021-07-23T04:23:58.000Z"
   },
   {
    "duration": 94,
    "start_time": "2021-07-23T04:23:58.012Z"
   },
   {
    "duration": 17,
    "start_time": "2021-07-23T04:23:58.108Z"
   },
   {
    "duration": 43,
    "start_time": "2021-07-23T04:23:58.128Z"
   },
   {
    "duration": 14,
    "start_time": "2021-07-23T04:23:58.174Z"
   },
   {
    "duration": 191,
    "start_time": "2021-07-23T04:23:58.190Z"
   },
   {
    "duration": 57,
    "start_time": "2021-07-23T04:23:58.384Z"
   },
   {
    "duration": 173,
    "start_time": "2021-07-23T04:23:58.443Z"
   },
   {
    "duration": 27,
    "start_time": "2021-07-23T04:23:58.622Z"
   },
   {
    "duration": 79,
    "start_time": "2021-07-23T04:23:58.663Z"
   },
   {
    "duration": 18,
    "start_time": "2021-07-23T04:23:58.762Z"
   },
   {
    "duration": 121,
    "start_time": "2021-07-23T04:23:58.782Z"
   },
   {
    "duration": 70,
    "start_time": "2021-07-23T04:23:58.905Z"
   },
   {
    "duration": 42,
    "start_time": "2021-07-23T04:23:58.977Z"
   },
   {
    "duration": 14,
    "start_time": "2021-07-23T04:23:59.021Z"
   },
   {
    "duration": 52,
    "start_time": "2021-07-23T04:23:59.037Z"
   },
   {
    "duration": 37,
    "start_time": "2021-07-23T04:23:59.091Z"
   },
   {
    "duration": 42,
    "start_time": "2021-07-23T04:23:59.131Z"
   },
   {
    "duration": 14,
    "start_time": "2021-07-23T04:23:59.176Z"
   },
   {
    "duration": 16,
    "start_time": "2021-07-23T04:23:59.192Z"
   },
   {
    "duration": 63,
    "start_time": "2021-07-23T04:23:59.210Z"
   },
   {
    "duration": 38,
    "start_time": "2021-07-23T04:23:59.275Z"
   },
   {
    "duration": 377,
    "start_time": "2021-07-23T04:23:59.315Z"
   },
   {
    "duration": 23,
    "start_time": "2021-07-23T04:23:59.694Z"
   },
   {
    "duration": 42,
    "start_time": "2021-07-23T04:23:59.719Z"
   },
   {
    "duration": 36,
    "start_time": "2021-07-23T04:23:59.764Z"
   },
   {
    "duration": 70,
    "start_time": "2021-07-23T04:23:59.803Z"
   },
   {
    "duration": 48,
    "start_time": "2021-07-23T04:23:59.875Z"
   },
   {
    "duration": 1180,
    "start_time": "2021-07-23T04:23:59.925Z"
   },
   {
    "duration": 1189,
    "start_time": "2021-07-23T04:24:01.108Z"
   },
   {
    "duration": 1164,
    "start_time": "2021-07-23T04:24:02.300Z"
   },
   {
    "duration": 1141,
    "start_time": "2021-07-23T04:24:03.467Z"
   },
   {
    "duration": 1095,
    "start_time": "2021-07-23T04:28:20.619Z"
   },
   {
    "duration": 1137,
    "start_time": "2021-07-23T05:10:49.506Z"
   },
   {
    "duration": 1044,
    "start_time": "2021-07-23T05:19:16.984Z"
   },
   {
    "duration": 1048,
    "start_time": "2021-07-23T05:19:36.681Z"
   },
   {
    "duration": 1103,
    "start_time": "2021-07-23T05:31:12.358Z"
   },
   {
    "duration": 20,
    "start_time": "2021-07-23T05:43:56.004Z"
   },
   {
    "duration": 433,
    "start_time": "2021-07-23T06:04:09.013Z"
   },
   {
    "duration": 232,
    "start_time": "2021-07-23T06:05:13.620Z"
   },
   {
    "duration": 8,
    "start_time": "2021-07-23T06:05:22.499Z"
   },
   {
    "duration": 256,
    "start_time": "2021-07-23T06:10:05.907Z"
   },
   {
    "duration": 214,
    "start_time": "2021-07-23T06:10:06.166Z"
   },
   {
    "duration": 20,
    "start_time": "2021-07-23T06:10:06.383Z"
   },
   {
    "duration": 161,
    "start_time": "2021-07-23T06:10:06.405Z"
   },
   {
    "duration": 30,
    "start_time": "2021-07-23T06:10:06.569Z"
   },
   {
    "duration": 65,
    "start_time": "2021-07-23T06:10:06.602Z"
   },
   {
    "duration": 11,
    "start_time": "2021-07-23T06:10:06.670Z"
   },
   {
    "duration": 14,
    "start_time": "2021-07-23T06:10:06.687Z"
   },
   {
    "duration": 12,
    "start_time": "2021-07-23T06:10:06.706Z"
   },
   {
    "duration": 174,
    "start_time": "2021-07-23T06:10:06.721Z"
   },
   {
    "duration": 246,
    "start_time": "2021-07-23T06:10:06.898Z"
   },
   {
    "duration": 33,
    "start_time": "2021-07-23T06:10:07.147Z"
   },
   {
    "duration": 78,
    "start_time": "2021-07-23T06:10:07.183Z"
   },
   {
    "duration": 44,
    "start_time": "2021-07-23T06:10:07.264Z"
   },
   {
    "duration": 10,
    "start_time": "2021-07-23T06:10:07.310Z"
   },
   {
    "duration": 91,
    "start_time": "2021-07-23T06:10:07.322Z"
   },
   {
    "duration": 16,
    "start_time": "2021-07-23T06:10:07.415Z"
   },
   {
    "duration": 42,
    "start_time": "2021-07-23T06:10:07.434Z"
   },
   {
    "duration": 14,
    "start_time": "2021-07-23T06:10:07.479Z"
   },
   {
    "duration": 198,
    "start_time": "2021-07-23T06:10:07.496Z"
   },
   {
    "duration": 67,
    "start_time": "2021-07-23T06:10:07.696Z"
   },
   {
    "duration": 165,
    "start_time": "2021-07-23T06:10:07.766Z"
   },
   {
    "duration": 35,
    "start_time": "2021-07-23T06:10:07.936Z"
   },
   {
    "duration": 102,
    "start_time": "2021-07-23T06:10:07.974Z"
   },
   {
    "duration": 16,
    "start_time": "2021-07-23T06:10:08.078Z"
   },
   {
    "duration": 138,
    "start_time": "2021-07-23T06:10:08.097Z"
   },
   {
    "duration": 75,
    "start_time": "2021-07-23T06:10:08.238Z"
   },
   {
    "duration": 58,
    "start_time": "2021-07-23T06:10:08.317Z"
   },
   {
    "duration": 17,
    "start_time": "2021-07-23T06:10:08.378Z"
   },
   {
    "duration": 46,
    "start_time": "2021-07-23T06:10:08.398Z"
   },
   {
    "duration": 41,
    "start_time": "2021-07-23T06:10:08.463Z"
   },
   {
    "duration": 21,
    "start_time": "2021-07-23T06:10:08.507Z"
   },
   {
    "duration": 20,
    "start_time": "2021-07-23T06:10:08.563Z"
   },
   {
    "duration": 39,
    "start_time": "2021-07-23T06:10:08.586Z"
   },
   {
    "duration": 54,
    "start_time": "2021-07-23T06:10:08.628Z"
   },
   {
    "duration": 40,
    "start_time": "2021-07-23T06:10:08.685Z"
   },
   {
    "duration": 399,
    "start_time": "2021-07-23T06:10:08.727Z"
   },
   {
    "duration": 35,
    "start_time": "2021-07-23T06:10:09.128Z"
   },
   {
    "duration": 19,
    "start_time": "2021-07-23T06:10:09.165Z"
   },
   {
    "duration": 50,
    "start_time": "2021-07-23T06:10:09.186Z"
   },
   {
    "duration": 68,
    "start_time": "2021-07-23T06:10:09.239Z"
   },
   {
    "duration": 66,
    "start_time": "2021-07-23T06:10:09.310Z"
   },
   {
    "duration": 1283,
    "start_time": "2021-07-23T06:10:09.379Z"
   },
   {
    "duration": 1091,
    "start_time": "2021-07-23T06:10:10.664Z"
   },
   {
    "duration": 1152,
    "start_time": "2021-07-23T06:10:11.757Z"
   },
   {
    "duration": 1159,
    "start_time": "2021-07-23T06:10:12.911Z"
   },
   {
    "duration": 20,
    "start_time": "2021-07-23T06:10:14.072Z"
   },
   {
    "duration": 11,
    "start_time": "2021-07-23T06:10:14.095Z"
   },
   {
    "duration": 342,
    "start_time": "2021-07-23T06:24:45.310Z"
   },
   {
    "duration": 9459,
    "start_time": "2021-07-23T06:25:05.235Z"
   },
   {
    "duration": 4,
    "start_time": "2021-07-23T06:25:29.801Z"
   },
   {
    "duration": 12,
    "start_time": "2021-07-23T06:25:38.584Z"
   },
   {
    "duration": 27,
    "start_time": "2021-07-23T06:26:20.305Z"
   },
   {
    "duration": 40,
    "start_time": "2021-07-23T06:26:35.754Z"
   },
   {
    "duration": 26,
    "start_time": "2021-07-23T06:26:44.748Z"
   },
   {
    "duration": 22,
    "start_time": "2021-07-23T06:27:48.325Z"
   },
   {
    "duration": 25,
    "start_time": "2021-07-23T06:29:37.694Z"
   },
   {
    "duration": 39,
    "start_time": "2021-07-23T06:29:53.311Z"
   },
   {
    "duration": 61,
    "start_time": "2021-07-23T06:31:19.945Z"
   },
   {
    "duration": 9,
    "start_time": "2021-07-23T06:33:03.057Z"
   },
   {
    "duration": 4,
    "start_time": "2021-07-23T06:36:24.144Z"
   },
   {
    "duration": 3,
    "start_time": "2021-07-23T06:36:26.848Z"
   },
   {
    "duration": 379,
    "start_time": "2021-07-23T07:13:03.915Z"
   },
   {
    "duration": 303,
    "start_time": "2021-07-23T07:13:04.297Z"
   },
   {
    "duration": 24,
    "start_time": "2021-07-23T07:13:04.604Z"
   },
   {
    "duration": 210,
    "start_time": "2021-07-23T07:13:04.631Z"
   },
   {
    "duration": 39,
    "start_time": "2021-07-23T07:13:04.844Z"
   },
   {
    "duration": 97,
    "start_time": "2021-07-23T07:13:04.887Z"
   },
   {
    "duration": 9,
    "start_time": "2021-07-23T07:13:04.987Z"
   },
   {
    "duration": 14,
    "start_time": "2021-07-23T07:13:05.000Z"
   },
   {
    "duration": 44,
    "start_time": "2021-07-23T07:13:05.017Z"
   },
   {
    "duration": 155,
    "start_time": "2021-07-23T07:13:05.064Z"
   },
   {
    "duration": 426,
    "start_time": "2021-07-23T07:13:05.221Z"
   },
   {
    "duration": 31,
    "start_time": "2021-07-23T07:13:05.651Z"
   },
   {
    "duration": 80,
    "start_time": "2021-07-23T07:13:05.685Z"
   },
   {
    "duration": 59,
    "start_time": "2021-07-23T07:13:05.768Z"
   },
   {
    "duration": 38,
    "start_time": "2021-07-23T07:13:05.830Z"
   },
   {
    "duration": 102,
    "start_time": "2021-07-23T07:13:05.872Z"
   },
   {
    "duration": 43,
    "start_time": "2021-07-23T07:13:05.977Z"
   },
   {
    "duration": 44,
    "start_time": "2021-07-23T07:13:06.030Z"
   },
   {
    "duration": 19,
    "start_time": "2021-07-23T07:13:06.077Z"
   },
   {
    "duration": 328,
    "start_time": "2021-07-23T07:13:06.099Z"
   },
   {
    "duration": 80,
    "start_time": "2021-07-23T07:13:06.430Z"
   },
   {
    "duration": 169,
    "start_time": "2021-07-23T07:13:06.513Z"
   },
   {
    "duration": 26,
    "start_time": "2021-07-23T07:13:06.690Z"
   },
   {
    "duration": 104,
    "start_time": "2021-07-23T07:13:06.719Z"
   },
   {
    "duration": 18,
    "start_time": "2021-07-23T07:13:06.826Z"
   },
   {
    "duration": 118,
    "start_time": "2021-07-23T07:13:06.863Z"
   },
   {
    "duration": 63,
    "start_time": "2021-07-23T07:13:06.983Z"
   },
   {
    "duration": 41,
    "start_time": "2021-07-23T07:13:07.062Z"
   },
   {
    "duration": 14,
    "start_time": "2021-07-23T07:13:07.106Z"
   },
   {
    "duration": 61,
    "start_time": "2021-07-23T07:13:07.123Z"
   },
   {
    "duration": 39,
    "start_time": "2021-07-23T07:13:07.187Z"
   },
   {
    "duration": 42,
    "start_time": "2021-07-23T07:13:07.229Z"
   },
   {
    "duration": 16,
    "start_time": "2021-07-23T07:13:07.273Z"
   },
   {
    "duration": 19,
    "start_time": "2021-07-23T07:13:07.292Z"
   },
   {
    "duration": 65,
    "start_time": "2021-07-23T07:13:07.314Z"
   },
   {
    "duration": 41,
    "start_time": "2021-07-23T07:13:07.381Z"
   },
   {
    "duration": 384,
    "start_time": "2021-07-23T07:13:07.425Z"
   },
   {
    "duration": 23,
    "start_time": "2021-07-23T07:13:07.811Z"
   },
   {
    "duration": 42,
    "start_time": "2021-07-23T07:13:07.836Z"
   },
   {
    "duration": 36,
    "start_time": "2021-07-23T07:13:07.880Z"
   },
   {
    "duration": 77,
    "start_time": "2021-07-23T07:13:07.919Z"
   },
   {
    "duration": 66,
    "start_time": "2021-07-23T07:13:07.998Z"
   },
   {
    "duration": 1342,
    "start_time": "2021-07-23T07:13:08.082Z"
   },
   {
    "duration": 1107,
    "start_time": "2021-07-23T07:13:09.427Z"
   },
   {
    "duration": 1108,
    "start_time": "2021-07-23T07:13:10.537Z"
   },
   {
    "duration": 1223,
    "start_time": "2021-07-23T07:13:11.648Z"
   },
   {
    "duration": 28,
    "start_time": "2021-07-23T07:13:12.874Z"
   },
   {
    "duration": 14,
    "start_time": "2021-07-23T07:13:12.906Z"
   },
   {
    "duration": 41,
    "start_time": "2021-07-23T07:13:12.923Z"
   },
   {
    "duration": 29,
    "start_time": "2021-07-23T07:13:12.967Z"
   },
   {
    "duration": 77,
    "start_time": "2021-07-23T07:13:12.999Z"
   },
   {
    "duration": 9,
    "start_time": "2021-07-23T07:13:13.079Z"
   },
   {
    "duration": 217,
    "start_time": "2021-07-23T08:55:25.719Z"
   },
   {
    "duration": 1239,
    "start_time": "2021-07-23T08:55:32.359Z"
   },
   {
    "duration": 137,
    "start_time": "2021-07-23T08:55:33.600Z"
   },
   {
    "duration": 13,
    "start_time": "2021-07-23T08:55:33.740Z"
   },
   {
    "duration": 109,
    "start_time": "2021-07-23T08:55:33.755Z"
   },
   {
    "duration": 27,
    "start_time": "2021-07-23T08:55:33.968Z"
   },
   {
    "duration": 41,
    "start_time": "2021-07-23T08:55:34.464Z"
   },
   {
    "duration": 7,
    "start_time": "2021-07-23T08:55:35.824Z"
   },
   {
    "duration": 10,
    "start_time": "2021-07-23T08:55:36.306Z"
   },
   {
    "duration": 8,
    "start_time": "2021-07-23T08:55:37.012Z"
   },
   {
    "duration": 116,
    "start_time": "2021-07-23T08:55:38.228Z"
   },
   {
    "duration": 148,
    "start_time": "2021-07-23T08:55:38.864Z"
   },
   {
    "duration": 16,
    "start_time": "2021-07-23T08:55:41.495Z"
   },
   {
    "duration": 38,
    "start_time": "2021-07-23T08:55:41.808Z"
   },
   {
    "duration": 32,
    "start_time": "2021-07-23T08:55:42.477Z"
   },
   {
    "duration": 8,
    "start_time": "2021-07-23T08:55:43.170Z"
   },
   {
    "duration": 41,
    "start_time": "2021-07-23T08:55:45.815Z"
   },
   {
    "duration": 15,
    "start_time": "2021-07-23T08:55:46.295Z"
   },
   {
    "duration": 15,
    "start_time": "2021-07-23T08:55:46.671Z"
   },
   {
    "duration": 10,
    "start_time": "2021-07-23T08:55:47.175Z"
   },
   {
    "duration": 114,
    "start_time": "2021-07-23T08:55:49.236Z"
   },
   {
    "duration": 35,
    "start_time": "2021-07-23T08:55:52.151Z"
   },
   {
    "duration": 96,
    "start_time": "2021-07-23T08:55:52.559Z"
   },
   {
    "duration": 19,
    "start_time": "2021-07-23T08:55:52.752Z"
   },
   {
    "duration": 57,
    "start_time": "2021-07-23T08:56:08.904Z"
   },
   {
    "duration": 4399,
    "start_time": "2021-07-23T08:56:11.133Z"
   },
   {
    "duration": 6,
    "start_time": "2021-07-23T08:56:23.252Z"
   },
   {
    "duration": 5,
    "start_time": "2021-07-23T08:56:48.026Z"
   },
   {
    "duration": 14,
    "start_time": "2021-07-23T08:56:50.999Z"
   },
   {
    "duration": 1219,
    "start_time": "2021-07-23T08:59:20.889Z"
   },
   {
    "duration": 140,
    "start_time": "2021-07-23T08:59:22.110Z"
   },
   {
    "duration": 12,
    "start_time": "2021-07-23T08:59:22.252Z"
   },
   {
    "duration": 107,
    "start_time": "2021-07-23T08:59:22.266Z"
   },
   {
    "duration": 25,
    "start_time": "2021-07-23T08:59:22.374Z"
   },
   {
    "duration": 42,
    "start_time": "2021-07-23T08:59:22.401Z"
   },
   {
    "duration": 6,
    "start_time": "2021-07-23T08:59:22.445Z"
   },
   {
    "duration": 9,
    "start_time": "2021-07-23T08:59:22.454Z"
   },
   {
    "duration": 7,
    "start_time": "2021-07-23T08:59:22.465Z"
   },
   {
    "duration": 118,
    "start_time": "2021-07-23T08:59:22.474Z"
   },
   {
    "duration": 157,
    "start_time": "2021-07-23T08:59:22.594Z"
   },
   {
    "duration": 15,
    "start_time": "2021-07-23T08:59:22.752Z"
   },
   {
    "duration": 50,
    "start_time": "2021-07-23T08:59:22.769Z"
   },
   {
    "duration": 31,
    "start_time": "2021-07-23T08:59:22.821Z"
   },
   {
    "duration": 6,
    "start_time": "2021-07-23T08:59:22.854Z"
   },
   {
    "duration": 61,
    "start_time": "2021-07-23T08:59:22.861Z"
   },
   {
    "duration": 13,
    "start_time": "2021-07-23T08:59:22.924Z"
   },
   {
    "duration": 15,
    "start_time": "2021-07-23T08:59:22.938Z"
   },
   {
    "duration": 34,
    "start_time": "2021-07-23T08:59:22.954Z"
   },
   {
    "duration": 126,
    "start_time": "2021-07-23T08:59:22.989Z"
   },
   {
    "duration": 36,
    "start_time": "2021-07-23T08:59:23.117Z"
   },
   {
    "duration": 114,
    "start_time": "2021-07-23T08:59:23.154Z"
   },
   {
    "duration": 31,
    "start_time": "2021-07-23T08:59:23.271Z"
   },
   {
    "duration": 56,
    "start_time": "2021-07-23T08:59:23.305Z"
   },
   {
    "duration": 31,
    "start_time": "2021-07-23T08:59:23.363Z"
   },
   {
    "duration": 73,
    "start_time": "2021-07-23T08:59:23.396Z"
   },
   {
    "duration": 54,
    "start_time": "2021-07-23T08:59:23.470Z"
   },
   {
    "duration": 30,
    "start_time": "2021-07-23T08:59:23.526Z"
   },
   {
    "duration": 28,
    "start_time": "2021-07-23T08:59:23.558Z"
   },
   {
    "duration": 23,
    "start_time": "2021-07-23T08:59:23.587Z"
   },
   {
    "duration": 24,
    "start_time": "2021-07-23T08:59:23.612Z"
   },
   {
    "duration": 11,
    "start_time": "2021-07-23T08:59:23.637Z"
   },
   {
    "duration": 36,
    "start_time": "2021-07-23T08:59:23.650Z"
   },
   {
    "duration": 10,
    "start_time": "2021-07-23T08:59:23.688Z"
   },
   {
    "duration": 21,
    "start_time": "2021-07-23T08:59:23.700Z"
   },
   {
    "duration": 24,
    "start_time": "2021-07-23T08:59:23.723Z"
   },
   {
    "duration": 227,
    "start_time": "2021-07-23T08:59:23.749Z"
   },
   {
    "duration": 18,
    "start_time": "2021-07-23T08:59:23.978Z"
   },
   {
    "duration": 12,
    "start_time": "2021-07-23T08:59:23.998Z"
   },
   {
    "duration": 28,
    "start_time": "2021-07-23T08:59:24.012Z"
   },
   {
    "duration": 60,
    "start_time": "2021-07-23T08:59:24.041Z"
   },
   {
    "duration": 29,
    "start_time": "2021-07-23T08:59:24.103Z"
   },
   {
    "duration": 728,
    "start_time": "2021-07-23T08:59:24.134Z"
   },
   {
    "duration": 660,
    "start_time": "2021-07-23T08:59:24.864Z"
   },
   {
    "duration": 717,
    "start_time": "2021-07-23T08:59:25.525Z"
   },
   {
    "duration": 666,
    "start_time": "2021-07-23T08:59:26.243Z"
   },
   {
    "duration": 14,
    "start_time": "2021-07-23T08:59:26.910Z"
   },
   {
    "duration": 6,
    "start_time": "2021-07-23T08:59:26.925Z"
   },
   {
    "duration": 9,
    "start_time": "2021-07-23T08:59:26.932Z"
   },
   {
    "duration": 43,
    "start_time": "2021-07-23T08:59:26.943Z"
   },
   {
    "duration": 28,
    "start_time": "2021-07-23T08:59:26.988Z"
   },
   {
    "duration": 4,
    "start_time": "2021-07-23T08:59:27.018Z"
   },
   {
    "duration": 13,
    "start_time": "2021-07-23T08:59:57.166Z"
   },
   {
    "duration": 32,
    "start_time": "2021-07-23T09:02:01.836Z"
   },
   {
    "duration": 31,
    "start_time": "2021-07-23T09:02:06.165Z"
   },
   {
    "duration": 112,
    "start_time": "2021-07-23T10:22:43.679Z"
   },
   {
    "duration": 468,
    "start_time": "2021-07-23T10:22:50.626Z"
   },
   {
    "duration": 1904,
    "start_time": "2021-07-23T10:23:32.286Z"
   },
   {
    "duration": 210,
    "start_time": "2021-07-23T10:23:34.192Z"
   },
   {
    "duration": 19,
    "start_time": "2021-07-23T10:23:34.405Z"
   },
   {
    "duration": 157,
    "start_time": "2021-07-23T10:23:34.427Z"
   },
   {
    "duration": 31,
    "start_time": "2021-07-23T10:23:34.587Z"
   },
   {
    "duration": 50,
    "start_time": "2021-07-23T10:23:34.620Z"
   },
   {
    "duration": 15,
    "start_time": "2021-07-23T10:23:34.672Z"
   },
   {
    "duration": 14,
    "start_time": "2021-07-23T10:23:34.691Z"
   },
   {
    "duration": 14,
    "start_time": "2021-07-23T10:23:34.708Z"
   },
   {
    "duration": 171,
    "start_time": "2021-07-23T10:23:34.725Z"
   },
   {
    "duration": 240,
    "start_time": "2021-07-23T10:23:34.899Z"
   },
   {
    "duration": 21,
    "start_time": "2021-07-23T10:23:35.141Z"
   },
   {
    "duration": 57,
    "start_time": "2021-07-23T10:23:35.183Z"
   },
   {
    "duration": 55,
    "start_time": "2021-07-23T10:23:35.242Z"
   },
   {
    "duration": 9,
    "start_time": "2021-07-23T10:23:35.299Z"
   },
   {
    "duration": 86,
    "start_time": "2021-07-23T10:23:35.311Z"
   },
   {
    "duration": 18,
    "start_time": "2021-07-23T10:23:35.399Z"
   },
   {
    "duration": 21,
    "start_time": "2021-07-23T10:23:35.419Z"
   },
   {
    "duration": 46,
    "start_time": "2021-07-23T10:23:35.443Z"
   },
   {
    "duration": 178,
    "start_time": "2021-07-23T10:23:35.491Z"
   },
   {
    "duration": 62,
    "start_time": "2021-07-23T10:23:35.672Z"
   },
   {
    "duration": 191,
    "start_time": "2021-07-23T10:23:35.737Z"
   },
   {
    "duration": 29,
    "start_time": "2021-07-23T10:23:35.934Z"
   },
   {
    "duration": 77,
    "start_time": "2021-07-23T10:23:35.983Z"
   },
   {
    "duration": 35,
    "start_time": "2021-07-23T10:23:36.062Z"
   },
   {
    "duration": 114,
    "start_time": "2021-07-23T10:23:36.099Z"
   },
   {
    "duration": 98,
    "start_time": "2021-07-23T10:23:36.215Z"
   },
   {
    "duration": 45,
    "start_time": "2021-07-23T10:23:36.315Z"
   },
   {
    "duration": 32,
    "start_time": "2021-07-23T10:23:36.362Z"
   },
   {
    "duration": 45,
    "start_time": "2021-07-23T10:23:36.396Z"
   },
   {
    "duration": 96,
    "start_time": "2021-07-23T10:23:36.443Z"
   },
   {
    "duration": 50,
    "start_time": "2021-07-23T10:23:36.541Z"
   },
   {
    "duration": 15,
    "start_time": "2021-07-23T10:23:36.593Z"
   },
   {
    "duration": 22,
    "start_time": "2021-07-23T10:23:36.611Z"
   },
   {
    "duration": 22,
    "start_time": "2021-07-23T10:23:36.638Z"
   },
   {
    "duration": 37,
    "start_time": "2021-07-23T10:23:36.682Z"
   },
   {
    "duration": 60,
    "start_time": "2021-07-23T10:23:36.722Z"
   },
   {
    "duration": 383,
    "start_time": "2021-07-23T10:23:36.785Z"
   },
   {
    "duration": 30,
    "start_time": "2021-07-23T10:23:37.170Z"
   },
   {
    "duration": 19,
    "start_time": "2021-07-23T10:23:37.202Z"
   },
   {
    "duration": 63,
    "start_time": "2021-07-23T10:23:37.223Z"
   },
   {
    "duration": 48,
    "start_time": "2021-07-23T10:23:37.289Z"
   },
   {
    "duration": 77,
    "start_time": "2021-07-23T10:23:37.339Z"
   },
   {
    "duration": 1220,
    "start_time": "2021-07-23T10:23:37.419Z"
   },
   {
    "duration": 1231,
    "start_time": "2021-07-23T10:23:38.642Z"
   },
   {
    "duration": 1126,
    "start_time": "2021-07-23T10:23:39.875Z"
   },
   {
    "duration": 1081,
    "start_time": "2021-07-23T10:23:41.004Z"
   },
   {
    "duration": 21,
    "start_time": "2021-07-23T10:23:42.088Z"
   },
   {
    "duration": 10,
    "start_time": "2021-07-23T10:23:42.112Z"
   },
   {
    "duration": 14,
    "start_time": "2021-07-23T10:23:42.125Z"
   },
   {
    "duration": 59,
    "start_time": "2021-07-23T10:23:42.142Z"
   },
   {
    "duration": 43,
    "start_time": "2021-07-23T10:23:42.204Z"
   },
   {
    "duration": 6,
    "start_time": "2021-07-23T10:23:42.284Z"
   },
   {
    "duration": 53,
    "start_time": "2021-07-23T10:24:42.452Z"
   },
   {
    "duration": 392,
    "start_time": "2021-07-23T10:25:16.056Z"
   },
   {
    "duration": 422,
    "start_time": "2021-07-23T10:25:32.726Z"
   },
   {
    "duration": 39,
    "start_time": "2021-07-23T10:25:44.512Z"
   },
   {
    "duration": 47,
    "start_time": "2021-07-23T10:26:36.599Z"
   },
   {
    "duration": 33,
    "start_time": "2021-07-23T10:28:04.894Z"
   },
   {
    "duration": 45,
    "start_time": "2021-07-23T10:28:47.233Z"
   },
   {
    "duration": 45,
    "start_time": "2021-07-23T10:29:41.570Z"
   },
   {
    "duration": 325,
    "start_time": "2021-07-23T10:30:15.493Z"
   },
   {
    "duration": 17,
    "start_time": "2021-07-23T10:30:22.957Z"
   },
   {
    "duration": 17,
    "start_time": "2021-07-23T10:30:40.383Z"
   },
   {
    "duration": 15,
    "start_time": "2021-07-23T10:31:02.563Z"
   },
   {
    "duration": 17,
    "start_time": "2021-07-23T10:31:08.719Z"
   },
   {
    "duration": 17,
    "start_time": "2021-07-23T10:31:19.507Z"
   },
   {
    "duration": 651,
    "start_time": "2021-07-23T10:33:33.884Z"
   },
   {
    "duration": 59,
    "start_time": "2021-07-23T10:33:50.268Z"
   },
   {
    "duration": 44,
    "start_time": "2021-07-23T10:33:57.098Z"
   },
   {
    "duration": 48,
    "start_time": "2021-07-23T10:34:03.266Z"
   },
   {
    "duration": 46,
    "start_time": "2021-07-23T10:34:08.895Z"
   },
   {
    "duration": 45,
    "start_time": "2021-07-23T10:34:14.974Z"
   },
   {
    "duration": 390,
    "start_time": "2021-07-23T10:36:40.212Z"
   },
   {
    "duration": 18,
    "start_time": "2021-07-23T10:36:56.810Z"
   },
   {
    "duration": 280,
    "start_time": "2021-07-23T10:37:08.672Z"
   },
   {
    "duration": 213,
    "start_time": "2021-07-23T10:37:08.955Z"
   },
   {
    "duration": 25,
    "start_time": "2021-07-23T10:37:09.171Z"
   },
   {
    "duration": 155,
    "start_time": "2021-07-23T10:37:09.199Z"
   },
   {
    "duration": 34,
    "start_time": "2021-07-23T10:37:09.357Z"
   },
   {
    "duration": 45,
    "start_time": "2021-07-23T10:37:09.394Z"
   },
   {
    "duration": 10,
    "start_time": "2021-07-23T10:37:09.442Z"
   },
   {
    "duration": 15,
    "start_time": "2021-07-23T10:37:09.484Z"
   },
   {
    "duration": 14,
    "start_time": "2021-07-23T10:37:09.502Z"
   },
   {
    "duration": 152,
    "start_time": "2021-07-23T10:37:09.519Z"
   },
   {
    "duration": 222,
    "start_time": "2021-07-23T10:37:09.674Z"
   },
   {
    "duration": 19,
    "start_time": "2021-07-23T10:37:09.898Z"
   },
   {
    "duration": 83,
    "start_time": "2021-07-23T10:37:09.920Z"
   },
   {
    "duration": 44,
    "start_time": "2021-07-23T10:37:10.005Z"
   },
   {
    "duration": 31,
    "start_time": "2021-07-23T10:37:10.051Z"
   },
   {
    "duration": 63,
    "start_time": "2021-07-23T10:37:10.085Z"
   },
   {
    "duration": 43,
    "start_time": "2021-07-23T10:37:10.151Z"
   },
   {
    "duration": 22,
    "start_time": "2021-07-23T10:37:10.197Z"
   },
   {
    "duration": 14,
    "start_time": "2021-07-23T10:37:10.222Z"
   },
   {
    "duration": 206,
    "start_time": "2021-07-23T10:37:10.239Z"
   },
   {
    "duration": 95,
    "start_time": "2021-07-23T10:37:10.448Z"
   },
   {
    "duration": 169,
    "start_time": "2021-07-23T10:37:10.546Z"
   },
   {
    "duration": 27,
    "start_time": "2021-07-23T10:37:10.720Z"
   },
   {
    "duration": 99,
    "start_time": "2021-07-23T10:37:10.750Z"
   },
   {
    "duration": 16,
    "start_time": "2021-07-23T10:37:10.851Z"
   },
   {
    "duration": 111,
    "start_time": "2021-07-23T10:37:10.883Z"
   },
   {
    "duration": 65,
    "start_time": "2021-07-23T10:37:10.996Z"
   },
   {
    "duration": 63,
    "start_time": "2021-07-23T10:37:11.064Z"
   },
   {
    "duration": 14,
    "start_time": "2021-07-23T10:37:11.130Z"
   },
   {
    "duration": 10,
    "start_time": "2021-07-23T10:37:11.147Z"
   },
   {
    "duration": 74,
    "start_time": "2021-07-23T10:37:11.159Z"
   },
   {
    "duration": 3,
    "start_time": "2021-07-23T10:37:11.236Z"
   },
   {
    "duration": 50,
    "start_time": "2021-07-23T10:37:11.243Z"
   },
   {
    "duration": 24,
    "start_time": "2021-07-23T10:37:11.296Z"
   },
   {
    "duration": 28,
    "start_time": "2021-07-23T10:37:11.323Z"
   },
   {
    "duration": 67,
    "start_time": "2021-07-23T10:37:11.353Z"
   },
   {
    "duration": 43,
    "start_time": "2021-07-23T10:37:11.423Z"
   },
   {
    "duration": 410,
    "start_time": "2021-07-23T10:37:11.481Z"
   },
   {
    "duration": 23,
    "start_time": "2021-07-23T10:37:11.893Z"
   },
   {
    "duration": 312,
    "start_time": "2021-07-23T10:37:11.918Z"
   },
   {
    "duration": 43,
    "start_time": "2021-07-23T10:37:12.232Z"
   },
   {
    "duration": 51,
    "start_time": "2021-07-23T10:37:12.279Z"
   },
   {
    "duration": 62,
    "start_time": "2021-07-23T10:37:12.332Z"
   },
   {
    "duration": 1169,
    "start_time": "2021-07-23T10:37:12.397Z"
   },
   {
    "duration": 1292,
    "start_time": "2021-07-23T10:37:13.569Z"
   },
   {
    "duration": 1072,
    "start_time": "2021-07-23T10:37:14.864Z"
   },
   {
    "duration": 1113,
    "start_time": "2021-07-23T10:37:15.938Z"
   },
   {
    "duration": 30,
    "start_time": "2021-07-23T10:37:17.054Z"
   },
   {
    "duration": 34,
    "start_time": "2021-07-23T10:37:17.088Z"
   },
   {
    "duration": 47,
    "start_time": "2021-07-23T10:37:17.124Z"
   },
   {
    "duration": 44,
    "start_time": "2021-07-23T10:37:17.173Z"
   },
   {
    "duration": 63,
    "start_time": "2021-07-23T10:37:17.219Z"
   },
   {
    "duration": 9,
    "start_time": "2021-07-23T10:37:17.286Z"
   },
   {
    "duration": 16,
    "start_time": "2021-07-23T10:38:40.122Z"
   },
   {
    "duration": 15,
    "start_time": "2021-07-23T10:38:52.533Z"
   },
   {
    "duration": 18,
    "start_time": "2021-07-23T10:40:20.922Z"
   },
   {
    "duration": 45,
    "start_time": "2021-07-23T10:41:57.321Z"
   },
   {
    "duration": 389,
    "start_time": "2021-07-23T10:42:17.456Z"
   },
   {
    "duration": 307,
    "start_time": "2021-07-23T10:42:17.848Z"
   },
   {
    "duration": 38,
    "start_time": "2021-07-23T10:42:18.159Z"
   },
   {
    "duration": 225,
    "start_time": "2021-07-23T10:42:18.201Z"
   },
   {
    "duration": 41,
    "start_time": "2021-07-23T10:42:18.429Z"
   },
   {
    "duration": 77,
    "start_time": "2021-07-23T10:42:18.484Z"
   },
   {
    "duration": 17,
    "start_time": "2021-07-23T10:42:18.565Z"
   },
   {
    "duration": 15,
    "start_time": "2021-07-23T10:42:18.587Z"
   },
   {
    "duration": 20,
    "start_time": "2021-07-23T10:42:18.606Z"
   },
   {
    "duration": 220,
    "start_time": "2021-07-23T10:42:18.629Z"
   },
   {
    "duration": 251,
    "start_time": "2021-07-23T10:42:18.853Z"
   },
   {
    "duration": 29,
    "start_time": "2021-07-23T10:42:19.107Z"
   },
   {
    "duration": 81,
    "start_time": "2021-07-23T10:42:19.138Z"
   },
   {
    "duration": 43,
    "start_time": "2021-07-23T10:42:19.221Z"
   },
   {
    "duration": 26,
    "start_time": "2021-07-23T10:42:19.267Z"
   },
   {
    "duration": 101,
    "start_time": "2021-07-23T10:42:19.295Z"
   },
   {
    "duration": 23,
    "start_time": "2021-07-23T10:42:19.399Z"
   },
   {
    "duration": 27,
    "start_time": "2021-07-23T10:42:19.425Z"
   },
   {
    "duration": 20,
    "start_time": "2021-07-23T10:42:19.484Z"
   },
   {
    "duration": 327,
    "start_time": "2021-07-23T10:42:19.508Z"
   },
   {
    "duration": 103,
    "start_time": "2021-07-23T10:42:19.838Z"
   },
   {
    "duration": 193,
    "start_time": "2021-07-23T10:42:19.943Z"
   },
   {
    "duration": 47,
    "start_time": "2021-07-23T10:42:20.145Z"
   },
   {
    "duration": 112,
    "start_time": "2021-07-23T10:42:20.196Z"
   },
   {
    "duration": 22,
    "start_time": "2021-07-23T10:42:20.312Z"
   },
   {
    "duration": 166,
    "start_time": "2021-07-23T10:42:20.338Z"
   },
   {
    "duration": 100,
    "start_time": "2021-07-23T10:42:20.507Z"
   },
   {
    "duration": 74,
    "start_time": "2021-07-23T10:42:20.610Z"
   },
   {
    "duration": 22,
    "start_time": "2021-07-23T10:42:20.688Z"
   },
   {
    "duration": 102,
    "start_time": "2021-07-23T10:42:20.713Z"
   },
   {
    "duration": 25,
    "start_time": "2021-07-23T10:42:20.819Z"
   },
   {
    "duration": 35,
    "start_time": "2021-07-23T10:42:20.850Z"
   },
   {
    "duration": 26,
    "start_time": "2021-07-23T10:42:20.888Z"
   },
   {
    "duration": 48,
    "start_time": "2021-07-23T10:42:20.917Z"
   },
   {
    "duration": 55,
    "start_time": "2021-07-23T10:42:20.984Z"
   },
   {
    "duration": 428,
    "start_time": "2021-07-23T10:42:21.042Z"
   },
   {
    "duration": 27,
    "start_time": "2021-07-23T10:42:21.472Z"
   },
   {
    "duration": 23,
    "start_time": "2021-07-23T10:42:21.501Z"
   },
   {
    "duration": 72,
    "start_time": "2021-07-23T10:42:21.527Z"
   },
   {
    "duration": 82,
    "start_time": "2021-07-23T10:42:21.602Z"
   },
   {
    "duration": 57,
    "start_time": "2021-07-23T10:42:21.687Z"
   },
   {
    "duration": 1459,
    "start_time": "2021-07-23T10:42:21.747Z"
   },
   {
    "duration": 1369,
    "start_time": "2021-07-23T10:42:23.209Z"
   },
   {
    "duration": 1261,
    "start_time": "2021-07-23T10:42:24.581Z"
   },
   {
    "duration": 1285,
    "start_time": "2021-07-23T10:42:25.844Z"
   },
   {
    "duration": 19,
    "start_time": "2021-07-23T10:42:27.132Z"
   },
   {
    "duration": 29,
    "start_time": "2021-07-23T10:42:27.154Z"
   },
   {
    "duration": 23,
    "start_time": "2021-07-23T10:42:27.186Z"
   },
   {
    "duration": 30,
    "start_time": "2021-07-23T10:42:27.212Z"
   },
   {
    "duration": 65,
    "start_time": "2021-07-23T10:42:27.245Z"
   },
   {
    "duration": 6,
    "start_time": "2021-07-23T10:42:27.313Z"
   },
   {
    "duration": 38,
    "start_time": "2021-07-23T10:43:34.193Z"
   },
   {
    "duration": 394,
    "start_time": "2021-07-23T10:44:04.706Z"
   },
   {
    "duration": 24,
    "start_time": "2021-07-23T10:44:15.427Z"
   },
   {
    "duration": 20,
    "start_time": "2021-07-23T10:44:34.457Z"
   },
   {
    "duration": 262,
    "start_time": "2021-07-23T10:46:23.247Z"
   },
   {
    "duration": 205,
    "start_time": "2021-07-23T10:46:23.512Z"
   },
   {
    "duration": 16,
    "start_time": "2021-07-23T10:46:23.720Z"
   },
   {
    "duration": 150,
    "start_time": "2021-07-23T10:46:23.739Z"
   },
   {
    "duration": 29,
    "start_time": "2021-07-23T10:46:23.891Z"
   },
   {
    "duration": 59,
    "start_time": "2021-07-23T10:46:23.922Z"
   },
   {
    "duration": 8,
    "start_time": "2021-07-23T10:46:23.983Z"
   },
   {
    "duration": 13,
    "start_time": "2021-07-23T10:46:23.995Z"
   },
   {
    "duration": 10,
    "start_time": "2021-07-23T10:46:24.011Z"
   },
   {
    "duration": 154,
    "start_time": "2021-07-23T10:46:24.024Z"
   },
   {
    "duration": 219,
    "start_time": "2021-07-23T10:46:24.183Z"
   },
   {
    "duration": 19,
    "start_time": "2021-07-23T10:46:24.404Z"
   },
   {
    "duration": 73,
    "start_time": "2021-07-23T10:46:24.425Z"
   },
   {
    "duration": 40,
    "start_time": "2021-07-23T10:46:24.500Z"
   },
   {
    "duration": 10,
    "start_time": "2021-07-23T10:46:24.543Z"
   },
   {
    "duration": 80,
    "start_time": "2021-07-23T10:46:24.555Z"
   },
   {
    "duration": 17,
    "start_time": "2021-07-23T10:46:24.637Z"
   },
   {
    "duration": 42,
    "start_time": "2021-07-23T10:46:24.656Z"
   },
   {
    "duration": 14,
    "start_time": "2021-07-23T10:46:24.701Z"
   },
   {
    "duration": 193,
    "start_time": "2021-07-23T10:46:24.717Z"
   },
   {
    "duration": 50,
    "start_time": "2021-07-23T10:46:24.913Z"
   },
   {
    "duration": 154,
    "start_time": "2021-07-23T10:46:24.982Z"
   },
   {
    "duration": 25,
    "start_time": "2021-07-23T10:46:25.141Z"
   },
   {
    "duration": 78,
    "start_time": "2021-07-23T10:46:25.183Z"
   },
   {
    "duration": 33,
    "start_time": "2021-07-23T10:46:25.263Z"
   },
   {
    "duration": 112,
    "start_time": "2021-07-23T10:46:25.299Z"
   },
   {
    "duration": 57,
    "start_time": "2021-07-23T10:46:25.413Z"
   },
   {
    "duration": 43,
    "start_time": "2021-07-23T10:46:25.483Z"
   },
   {
    "duration": 15,
    "start_time": "2021-07-23T10:46:25.529Z"
   },
   {
    "duration": 75,
    "start_time": "2021-07-23T10:46:25.546Z"
   },
   {
    "duration": 17,
    "start_time": "2021-07-23T10:46:25.623Z"
   },
   {
    "duration": 16,
    "start_time": "2021-07-23T10:46:25.642Z"
   },
   {
    "duration": 15,
    "start_time": "2021-07-23T10:46:25.682Z"
   },
   {
    "duration": 30,
    "start_time": "2021-07-23T10:46:25.700Z"
   },
   {
    "duration": 63,
    "start_time": "2021-07-23T10:46:25.732Z"
   },
   {
    "duration": 375,
    "start_time": "2021-07-23T10:46:25.798Z"
   },
   {
    "duration": 29,
    "start_time": "2021-07-23T10:46:26.175Z"
   },
   {
    "duration": 19,
    "start_time": "2021-07-23T10:46:26.207Z"
   },
   {
    "duration": 66,
    "start_time": "2021-07-23T10:46:26.228Z"
   },
   {
    "duration": 46,
    "start_time": "2021-07-23T10:46:26.297Z"
   },
   {
    "duration": 77,
    "start_time": "2021-07-23T10:46:26.345Z"
   },
   {
    "duration": 1219,
    "start_time": "2021-07-23T10:46:26.424Z"
   },
   {
    "duration": 1169,
    "start_time": "2021-07-23T10:46:27.646Z"
   },
   {
    "duration": 1038,
    "start_time": "2021-07-23T10:46:28.817Z"
   },
   {
    "duration": 1087,
    "start_time": "2021-07-23T10:46:29.858Z"
   },
   {
    "duration": 20,
    "start_time": "2021-07-23T10:46:30.948Z"
   },
   {
    "duration": 11,
    "start_time": "2021-07-23T10:46:30.983Z"
   },
   {
    "duration": 43,
    "start_time": "2021-07-23T10:46:30.997Z"
   },
   {
    "duration": 54,
    "start_time": "2021-07-23T10:46:31.043Z"
   },
   {
    "duration": 48,
    "start_time": "2021-07-23T10:46:31.099Z"
   },
   {
    "duration": 7,
    "start_time": "2021-07-23T10:46:31.150Z"
   },
   {
    "duration": 1196,
    "start_time": "2021-07-23T10:46:47.902Z"
   },
   {
    "duration": 111,
    "start_time": "2021-07-23T10:47:29.965Z"
   },
   {
    "duration": 1040,
    "start_time": "2021-07-23T10:47:53.110Z"
   },
   {
    "duration": 1052,
    "start_time": "2021-07-23T10:48:01.904Z"
   },
   {
    "duration": 1068,
    "start_time": "2021-07-23T10:48:09.876Z"
   },
   {
    "duration": 47,
    "start_time": "2021-07-23T10:49:59.622Z"
   },
   {
    "duration": 51,
    "start_time": "2021-07-23T10:50:52.382Z"
   },
   {
    "duration": 49,
    "start_time": "2021-07-23T10:57:00.695Z"
   },
   {
    "duration": 52,
    "start_time": "2021-07-23T10:58:13.835Z"
   },
   {
    "duration": 53,
    "start_time": "2021-07-23T11:03:04.324Z"
   },
   {
    "duration": 51,
    "start_time": "2021-07-23T11:04:31.168Z"
   },
   {
    "duration": 52,
    "start_time": "2021-07-23T11:05:24.347Z"
   },
   {
    "duration": 110,
    "start_time": "2021-07-23T11:05:51.147Z"
   },
   {
    "duration": 50,
    "start_time": "2021-07-23T11:06:23.027Z"
   },
   {
    "duration": 363,
    "start_time": "2021-07-23T11:06:30.683Z"
   },
   {
    "duration": 50,
    "start_time": "2021-07-23T11:06:34.102Z"
   },
   {
    "duration": 567,
    "start_time": "2021-07-23T11:07:27.171Z"
   },
   {
    "duration": 53,
    "start_time": "2021-07-23T11:07:40.922Z"
   },
   {
    "duration": 51,
    "start_time": "2021-07-23T11:07:48.756Z"
   },
   {
    "duration": 269,
    "start_time": "2021-07-23T11:07:55.046Z"
   },
   {
    "duration": 211,
    "start_time": "2021-07-23T11:07:55.318Z"
   },
   {
    "duration": 18,
    "start_time": "2021-07-23T11:07:55.533Z"
   },
   {
    "duration": 164,
    "start_time": "2021-07-23T11:07:55.554Z"
   },
   {
    "duration": 32,
    "start_time": "2021-07-23T11:07:55.721Z"
   },
   {
    "duration": 51,
    "start_time": "2021-07-23T11:07:55.756Z"
   },
   {
    "duration": 8,
    "start_time": "2021-07-23T11:07:55.809Z"
   },
   {
    "duration": 17,
    "start_time": "2021-07-23T11:07:55.821Z"
   },
   {
    "duration": 46,
    "start_time": "2021-07-23T11:07:55.842Z"
   },
   {
    "duration": 136,
    "start_time": "2021-07-23T11:07:55.891Z"
   },
   {
    "duration": 224,
    "start_time": "2021-07-23T11:07:56.029Z"
   },
   {
    "duration": 32,
    "start_time": "2021-07-23T11:07:56.255Z"
   },
   {
    "duration": 48,
    "start_time": "2021-07-23T11:07:56.289Z"
   },
   {
    "duration": 59,
    "start_time": "2021-07-23T11:07:56.340Z"
   },
   {
    "duration": 9,
    "start_time": "2021-07-23T11:07:56.402Z"
   },
   {
    "duration": 88,
    "start_time": "2021-07-23T11:07:56.414Z"
   },
   {
    "duration": 17,
    "start_time": "2021-07-23T11:07:56.504Z"
   },
   {
    "duration": 22,
    "start_time": "2021-07-23T11:07:56.523Z"
   },
   {
    "duration": 42,
    "start_time": "2021-07-23T11:07:56.547Z"
   },
   {
    "duration": 172,
    "start_time": "2021-07-23T11:07:56.591Z"
   },
   {
    "duration": 62,
    "start_time": "2021-07-23T11:07:56.766Z"
   },
   {
    "duration": 162,
    "start_time": "2021-07-23T11:07:56.831Z"
   },
   {
    "duration": 25,
    "start_time": "2021-07-23T11:07:56.999Z"
   },
   {
    "duration": 102,
    "start_time": "2021-07-23T11:07:57.027Z"
   },
   {
    "duration": 18,
    "start_time": "2021-07-23T11:07:57.131Z"
   },
   {
    "duration": 120,
    "start_time": "2021-07-23T11:07:57.151Z"
   },
   {
    "duration": 61,
    "start_time": "2021-07-23T11:07:57.273Z"
   },
   {
    "duration": 61,
    "start_time": "2021-07-23T11:07:57.337Z"
   },
   {
    "duration": 13,
    "start_time": "2021-07-23T11:07:57.401Z"
   },
   {
    "duration": 46,
    "start_time": "2021-07-23T11:07:57.416Z"
   },
   {
    "duration": 17,
    "start_time": "2021-07-23T11:07:57.482Z"
   },
   {
    "duration": 18,
    "start_time": "2021-07-23T11:07:57.501Z"
   },
   {
    "duration": 14,
    "start_time": "2021-07-23T11:07:57.522Z"
   },
   {
    "duration": 62,
    "start_time": "2021-07-23T11:07:57.538Z"
   },
   {
    "duration": 35,
    "start_time": "2021-07-23T11:07:57.602Z"
   },
   {
    "duration": 398,
    "start_time": "2021-07-23T11:07:57.640Z"
   },
   {
    "duration": 24,
    "start_time": "2021-07-23T11:07:58.041Z"
   },
   {
    "duration": 20,
    "start_time": "2021-07-23T11:07:58.083Z"
   },
   {
    "duration": 41,
    "start_time": "2021-07-23T11:07:58.105Z"
   },
   {
    "duration": 75,
    "start_time": "2021-07-23T11:07:58.149Z"
   },
   {
    "duration": 75,
    "start_time": "2021-07-23T11:07:58.227Z"
   },
   {
    "duration": 1214,
    "start_time": "2021-07-23T11:07:58.304Z"
   },
   {
    "duration": 1064,
    "start_time": "2021-07-23T11:07:59.521Z"
   },
   {
    "duration": 1074,
    "start_time": "2021-07-23T11:08:00.587Z"
   },
   {
    "duration": 1121,
    "start_time": "2021-07-23T11:08:01.664Z"
   },
   {
    "duration": 20,
    "start_time": "2021-07-23T11:08:02.787Z"
   },
   {
    "duration": 13,
    "start_time": "2021-07-23T11:08:02.810Z"
   },
   {
    "duration": 14,
    "start_time": "2021-07-23T11:08:02.825Z"
   },
   {
    "duration": 58,
    "start_time": "2021-07-23T11:08:02.841Z"
   },
   {
    "duration": 45,
    "start_time": "2021-07-23T11:08:02.902Z"
   },
   {
    "duration": 36,
    "start_time": "2021-07-23T11:08:02.950Z"
   },
   {
    "duration": 50,
    "start_time": "2021-07-23T11:13:29.392Z"
   },
   {
    "duration": 237,
    "start_time": "2021-07-23T11:13:46.487Z"
   },
   {
    "duration": 188,
    "start_time": "2021-07-23T11:13:46.727Z"
   },
   {
    "duration": 17,
    "start_time": "2021-07-23T11:13:46.918Z"
   },
   {
    "duration": 147,
    "start_time": "2021-07-23T11:13:46.937Z"
   },
   {
    "duration": 29,
    "start_time": "2021-07-23T11:13:47.087Z"
   },
   {
    "duration": 44,
    "start_time": "2021-07-23T11:13:47.119Z"
   },
   {
    "duration": 20,
    "start_time": "2021-07-23T11:13:47.166Z"
   },
   {
    "duration": 13,
    "start_time": "2021-07-23T11:13:47.188Z"
   },
   {
    "duration": 20,
    "start_time": "2021-07-23T11:13:47.205Z"
   },
   {
    "duration": 141,
    "start_time": "2021-07-23T11:13:47.228Z"
   },
   {
    "duration": 225,
    "start_time": "2021-07-23T11:13:47.371Z"
   },
   {
    "duration": 19,
    "start_time": "2021-07-23T11:13:47.598Z"
   },
   {
    "duration": 70,
    "start_time": "2021-07-23T11:13:47.619Z"
   },
   {
    "duration": 43,
    "start_time": "2021-07-23T11:13:47.692Z"
   },
   {
    "duration": 10,
    "start_time": "2021-07-23T11:13:47.737Z"
   },
   {
    "duration": 90,
    "start_time": "2021-07-23T11:13:47.749Z"
   },
   {
    "duration": 16,
    "start_time": "2021-07-23T11:13:47.842Z"
   },
   {
    "duration": 43,
    "start_time": "2021-07-23T11:13:47.861Z"
   },
   {
    "duration": 13,
    "start_time": "2021-07-23T11:13:47.907Z"
   },
   {
    "duration": 195,
    "start_time": "2021-07-23T11:13:47.923Z"
   },
   {
    "duration": 72,
    "start_time": "2021-07-23T11:13:48.120Z"
   },
   {
    "duration": 162,
    "start_time": "2021-07-23T11:13:48.194Z"
   },
   {
    "duration": 33,
    "start_time": "2021-07-23T11:13:48.359Z"
   },
   {
    "duration": 97,
    "start_time": "2021-07-23T11:13:48.395Z"
   },
   {
    "duration": 15,
    "start_time": "2021-07-23T11:13:48.494Z"
   },
   {
    "duration": 118,
    "start_time": "2021-07-23T11:13:48.511Z"
   },
   {
    "duration": 70,
    "start_time": "2021-07-23T11:13:48.635Z"
   },
   {
    "duration": 41,
    "start_time": "2021-07-23T11:13:48.708Z"
   },
   {
    "duration": 35,
    "start_time": "2021-07-23T11:13:48.752Z"
   },
   {
    "duration": 54,
    "start_time": "2021-07-23T11:13:48.789Z"
   },
   {
    "duration": 37,
    "start_time": "2021-07-23T11:13:48.845Z"
   },
   {
    "duration": 16,
    "start_time": "2021-07-23T11:13:48.885Z"
   },
   {
    "duration": 19,
    "start_time": "2021-07-23T11:13:48.903Z"
   },
   {
    "duration": 38,
    "start_time": "2021-07-23T11:13:48.925Z"
   },
   {
    "duration": 50,
    "start_time": "2021-07-23T11:13:48.965Z"
   },
   {
    "duration": 381,
    "start_time": "2021-07-23T11:13:49.017Z"
   },
   {
    "duration": 22,
    "start_time": "2021-07-23T11:13:49.400Z"
   },
   {
    "duration": 26,
    "start_time": "2021-07-23T11:13:49.425Z"
   },
   {
    "duration": 63,
    "start_time": "2021-07-23T11:13:49.453Z"
   },
   {
    "duration": 66,
    "start_time": "2021-07-23T11:13:49.519Z"
   },
   {
    "duration": 49,
    "start_time": "2021-07-23T11:13:49.588Z"
   },
   {
    "duration": 1316,
    "start_time": "2021-07-23T11:13:49.639Z"
   },
   {
    "duration": 1038,
    "start_time": "2021-07-23T11:13:50.959Z"
   },
   {
    "duration": 1037,
    "start_time": "2021-07-23T11:13:51.999Z"
   },
   {
    "duration": 1077,
    "start_time": "2021-07-23T11:13:53.039Z"
   },
   {
    "duration": 21,
    "start_time": "2021-07-23T11:13:54.119Z"
   },
   {
    "duration": 10,
    "start_time": "2021-07-23T11:13:54.144Z"
   },
   {
    "duration": 15,
    "start_time": "2021-07-23T11:13:54.182Z"
   },
   {
    "duration": 29,
    "start_time": "2021-07-23T11:13:54.199Z"
   },
   {
    "duration": 76,
    "start_time": "2021-07-23T11:13:54.230Z"
   },
   {
    "duration": 7,
    "start_time": "2021-07-23T11:13:54.309Z"
   },
   {
    "duration": 51,
    "start_time": "2021-07-23T11:14:33.925Z"
   },
   {
    "duration": 53,
    "start_time": "2021-07-23T11:14:38.703Z"
   },
   {
    "duration": 50,
    "start_time": "2021-07-23T11:14:42.554Z"
   },
   {
    "duration": 65,
    "start_time": "2021-07-23T11:14:46.648Z"
   },
   {
    "duration": 59,
    "start_time": "2021-07-23T11:14:54.476Z"
   },
   {
    "duration": 336,
    "start_time": "2021-07-23T11:22:14.677Z"
   },
   {
    "duration": 9,
    "start_time": "2021-07-23T11:22:21.643Z"
   },
   {
    "duration": 9,
    "start_time": "2021-07-23T11:23:34.563Z"
   },
   {
    "duration": 12,
    "start_time": "2021-07-23T11:24:08.107Z"
   },
   {
    "duration": 10,
    "start_time": "2021-07-23T11:27:01.668Z"
   },
   {
    "duration": 11,
    "start_time": "2021-07-23T11:28:05.932Z"
   },
   {
    "duration": 11,
    "start_time": "2021-07-23T11:29:06.008Z"
   },
   {
    "duration": 238,
    "start_time": "2021-07-23T11:30:49.499Z"
   },
   {
    "duration": 206,
    "start_time": "2021-07-23T11:30:49.739Z"
   },
   {
    "duration": 35,
    "start_time": "2021-07-23T11:30:49.948Z"
   },
   {
    "duration": 127,
    "start_time": "2021-07-23T11:30:49.986Z"
   },
   {
    "duration": 30,
    "start_time": "2021-07-23T11:30:50.115Z"
   },
   {
    "duration": 43,
    "start_time": "2021-07-23T11:30:50.147Z"
   },
   {
    "duration": 8,
    "start_time": "2021-07-23T11:30:50.193Z"
   },
   {
    "duration": 12,
    "start_time": "2021-07-23T11:30:50.205Z"
   },
   {
    "duration": 13,
    "start_time": "2021-07-23T11:30:50.221Z"
   },
   {
    "duration": 164,
    "start_time": "2021-07-23T11:30:50.236Z"
   },
   {
    "duration": 216,
    "start_time": "2021-07-23T11:30:50.403Z"
   },
   {
    "duration": 19,
    "start_time": "2021-07-23T11:30:50.622Z"
   },
   {
    "duration": 67,
    "start_time": "2021-07-23T11:30:50.644Z"
   },
   {
    "duration": 42,
    "start_time": "2021-07-23T11:30:50.714Z"
   },
   {
    "duration": 26,
    "start_time": "2021-07-23T11:30:50.759Z"
   },
   {
    "duration": 63,
    "start_time": "2021-07-23T11:30:50.787Z"
   },
   {
    "duration": 34,
    "start_time": "2021-07-23T11:30:50.852Z"
   },
   {
    "duration": 21,
    "start_time": "2021-07-23T11:30:50.888Z"
   },
   {
    "duration": 14,
    "start_time": "2021-07-23T11:30:50.911Z"
   },
   {
    "duration": 203,
    "start_time": "2021-07-23T11:30:50.927Z"
   },
   {
    "duration": 67,
    "start_time": "2021-07-23T11:30:51.132Z"
   },
   {
    "duration": 154,
    "start_time": "2021-07-23T11:30:51.201Z"
   },
   {
    "duration": 33,
    "start_time": "2021-07-23T11:30:51.360Z"
   },
   {
    "duration": 90,
    "start_time": "2021-07-23T11:30:51.396Z"
   },
   {
    "duration": 16,
    "start_time": "2021-07-23T11:30:51.489Z"
   },
   {
    "duration": 126,
    "start_time": "2021-07-23T11:30:51.508Z"
   },
   {
    "duration": 65,
    "start_time": "2021-07-23T11:30:51.637Z"
   },
   {
    "duration": 40,
    "start_time": "2021-07-23T11:30:51.705Z"
   },
   {
    "duration": 36,
    "start_time": "2021-07-23T11:30:51.748Z"
   },
   {
    "duration": 45,
    "start_time": "2021-07-23T11:30:51.786Z"
   },
   {
    "duration": 15,
    "start_time": "2021-07-23T11:30:51.834Z"
   },
   {
    "duration": 43,
    "start_time": "2021-07-23T11:30:51.852Z"
   },
   {
    "duration": 13,
    "start_time": "2021-07-23T11:30:51.898Z"
   },
   {
    "duration": 33,
    "start_time": "2021-07-23T11:30:51.913Z"
   },
   {
    "duration": 62,
    "start_time": "2021-07-23T11:30:51.948Z"
   },
   {
    "duration": 384,
    "start_time": "2021-07-23T11:30:52.013Z"
   },
   {
    "duration": 24,
    "start_time": "2021-07-23T11:30:52.399Z"
   },
   {
    "duration": 19,
    "start_time": "2021-07-23T11:30:52.425Z"
   },
   {
    "duration": 66,
    "start_time": "2021-07-23T11:30:52.446Z"
   },
   {
    "duration": 67,
    "start_time": "2021-07-23T11:30:52.515Z"
   },
   {
    "duration": 51,
    "start_time": "2021-07-23T11:30:52.584Z"
   },
   {
    "duration": 1215,
    "start_time": "2021-07-23T11:30:52.637Z"
   },
   {
    "duration": 1046,
    "start_time": "2021-07-23T11:30:53.855Z"
   },
   {
    "duration": 1033,
    "start_time": "2021-07-23T11:30:54.905Z"
   },
   {
    "duration": 1078,
    "start_time": "2021-07-23T11:30:55.941Z"
   },
   {
    "duration": 19,
    "start_time": "2021-07-23T11:30:57.023Z"
   },
   {
    "duration": 13,
    "start_time": "2021-07-23T11:30:57.044Z"
   },
   {
    "duration": 11,
    "start_time": "2021-07-23T11:30:57.083Z"
   },
   {
    "duration": 30,
    "start_time": "2021-07-23T11:30:57.097Z"
   },
   {
    "duration": 74,
    "start_time": "2021-07-23T11:30:57.130Z"
   },
   {
    "duration": 9,
    "start_time": "2021-07-23T11:30:57.206Z"
   },
   {
    "duration": 202,
    "start_time": "2021-07-23T11:39:05.395Z"
   },
   {
    "duration": 130,
    "start_time": "2021-07-23T11:39:56.557Z"
   },
   {
    "duration": 215,
    "start_time": "2021-07-23T11:40:15.752Z"
   },
   {
    "duration": 213,
    "start_time": "2021-07-23T11:40:15.970Z"
   },
   {
    "duration": 138,
    "start_time": "2021-07-23T11:40:16.187Z"
   },
   {
    "duration": 29,
    "start_time": "2021-07-23T11:40:16.329Z"
   },
   {
    "duration": 53,
    "start_time": "2021-07-23T11:40:16.361Z"
   },
   {
    "duration": 8,
    "start_time": "2021-07-23T11:40:16.416Z"
   },
   {
    "duration": 16,
    "start_time": "2021-07-23T11:40:16.427Z"
   },
   {
    "duration": 38,
    "start_time": "2021-07-23T11:40:16.446Z"
   },
   {
    "duration": 127,
    "start_time": "2021-07-23T11:40:16.488Z"
   },
   {
    "duration": 240,
    "start_time": "2021-07-23T11:40:16.619Z"
   },
   {
    "duration": 28,
    "start_time": "2021-07-23T11:40:16.861Z"
   },
   {
    "duration": 43,
    "start_time": "2021-07-23T11:40:16.892Z"
   },
   {
    "duration": 70,
    "start_time": "2021-07-23T11:40:16.938Z"
   },
   {
    "duration": 10,
    "start_time": "2021-07-23T11:40:17.010Z"
   },
   {
    "duration": 77,
    "start_time": "2021-07-23T11:40:17.023Z"
   },
   {
    "duration": 18,
    "start_time": "2021-07-23T11:40:17.102Z"
   },
   {
    "duration": 22,
    "start_time": "2021-07-23T11:40:17.122Z"
   },
   {
    "duration": 43,
    "start_time": "2021-07-23T11:40:17.147Z"
   },
   {
    "duration": 179,
    "start_time": "2021-07-23T11:40:17.192Z"
   },
   {
    "duration": 58,
    "start_time": "2021-07-23T11:40:17.374Z"
   },
   {
    "duration": 167,
    "start_time": "2021-07-23T11:40:17.435Z"
   },
   {
    "duration": 26,
    "start_time": "2021-07-23T11:40:17.604Z"
   },
   {
    "duration": 101,
    "start_time": "2021-07-23T11:40:17.632Z"
   },
   {
    "duration": 16,
    "start_time": "2021-07-23T11:40:17.736Z"
   },
   {
    "duration": 132,
    "start_time": "2021-07-23T11:40:17.754Z"
   },
   {
    "duration": 59,
    "start_time": "2021-07-23T11:40:17.889Z"
   },
   {
    "duration": 61,
    "start_time": "2021-07-23T11:40:17.954Z"
   },
   {
    "duration": 15,
    "start_time": "2021-07-23T11:40:18.018Z"
   },
   {
    "duration": 74,
    "start_time": "2021-07-23T11:40:18.035Z"
   },
   {
    "duration": 16,
    "start_time": "2021-07-23T11:40:18.112Z"
   },
   {
    "duration": 21,
    "start_time": "2021-07-23T11:40:18.130Z"
   },
   {
    "duration": 37,
    "start_time": "2021-07-23T11:40:18.153Z"
   },
   {
    "duration": 32,
    "start_time": "2021-07-23T11:40:18.193Z"
   },
   {
    "duration": 62,
    "start_time": "2021-07-23T11:40:18.228Z"
   },
   {
    "duration": 378,
    "start_time": "2021-07-23T11:40:18.292Z"
   },
   {
    "duration": 30,
    "start_time": "2021-07-23T11:40:18.672Z"
   },
   {
    "duration": 18,
    "start_time": "2021-07-23T11:40:18.704Z"
   },
   {
    "duration": 70,
    "start_time": "2021-07-23T11:40:18.724Z"
   },
   {
    "duration": 53,
    "start_time": "2021-07-23T11:40:18.796Z"
   },
   {
    "duration": 77,
    "start_time": "2021-07-23T11:40:18.851Z"
   },
   {
    "duration": 1286,
    "start_time": "2021-07-23T11:40:18.930Z"
   },
   {
    "duration": 1067,
    "start_time": "2021-07-23T11:40:20.218Z"
   },
   {
    "duration": 1029,
    "start_time": "2021-07-23T11:40:21.288Z"
   },
   {
    "duration": 1088,
    "start_time": "2021-07-23T11:40:22.319Z"
   },
   {
    "duration": 20,
    "start_time": "2021-07-23T11:40:23.409Z"
   },
   {
    "duration": 11,
    "start_time": "2021-07-23T11:40:23.432Z"
   },
   {
    "duration": 41,
    "start_time": "2021-07-23T11:40:23.446Z"
   },
   {
    "duration": 33,
    "start_time": "2021-07-23T11:40:23.489Z"
   },
   {
    "duration": 63,
    "start_time": "2021-07-23T11:40:23.524Z"
   },
   {
    "duration": 10,
    "start_time": "2021-07-23T11:40:23.589Z"
   },
   {
    "duration": 630,
    "start_time": "2021-07-23T11:44:50.040Z"
   },
   {
    "duration": 1159,
    "start_time": "2021-07-23T11:45:17.005Z"
   },
   {
    "duration": 861,
    "start_time": "2021-07-23T11:45:41.339Z"
   },
   {
    "duration": 983,
    "start_time": "2021-07-23T11:46:01.358Z"
   },
   {
    "duration": 733,
    "start_time": "2021-07-23T11:46:26.591Z"
   },
   {
    "duration": 112,
    "start_time": "2021-07-23T11:47:17.891Z"
   },
   {
    "duration": 954,
    "start_time": "2021-07-23T11:47:23.190Z"
   },
   {
    "duration": 1193,
    "start_time": "2021-07-23T11:47:37.091Z"
   },
   {
    "duration": 1168,
    "start_time": "2021-07-23T11:47:52.201Z"
   },
   {
    "duration": 1107,
    "start_time": "2021-07-23T11:48:00.160Z"
   },
   {
    "duration": 1067,
    "start_time": "2021-07-23T11:48:15.353Z"
   },
   {
    "duration": 988,
    "start_time": "2021-07-23T11:48:26.827Z"
   },
   {
    "duration": 968,
    "start_time": "2021-07-23T11:48:38.933Z"
   },
   {
    "duration": 713,
    "start_time": "2021-07-23T11:48:52.586Z"
   },
   {
    "duration": 809,
    "start_time": "2021-07-23T11:50:26.084Z"
   },
   {
    "duration": 852,
    "start_time": "2021-07-23T11:50:34.905Z"
   },
   {
    "duration": 996,
    "start_time": "2021-07-23T11:51:32.221Z"
   },
   {
    "duration": 605,
    "start_time": "2021-07-23T11:51:41.616Z"
   },
   {
    "duration": 738,
    "start_time": "2021-07-23T11:52:02.808Z"
   },
   {
    "duration": 729,
    "start_time": "2021-07-23T11:52:23.616Z"
   },
   {
    "duration": 712,
    "start_time": "2021-07-23T11:52:40.773Z"
   },
   {
    "duration": 1325,
    "start_time": "2021-07-23T11:53:56.977Z"
   },
   {
    "duration": 867,
    "start_time": "2021-07-23T11:54:15.068Z"
   },
   {
    "duration": 716,
    "start_time": "2021-07-23T11:54:40.056Z"
   },
   {
    "duration": 773,
    "start_time": "2021-07-23T11:54:50.957Z"
   },
   {
    "duration": 786,
    "start_time": "2021-07-23T11:54:57.474Z"
   },
   {
    "duration": 716,
    "start_time": "2021-07-23T11:55:03.324Z"
   },
   {
    "duration": 713,
    "start_time": "2021-07-23T11:55:11.650Z"
   },
   {
    "duration": 1279,
    "start_time": "2021-07-23T11:55:36.587Z"
   },
   {
    "duration": 1253,
    "start_time": "2021-07-23T11:55:59.388Z"
   },
   {
    "duration": 1016,
    "start_time": "2021-07-23T11:56:16.487Z"
   },
   {
    "duration": 981,
    "start_time": "2021-07-23T11:56:26.153Z"
   },
   {
    "duration": 850,
    "start_time": "2021-07-23T11:56:34.055Z"
   },
   {
    "duration": 724,
    "start_time": "2021-07-23T11:56:51.328Z"
   },
   {
    "duration": 1090,
    "start_time": "2021-07-23T11:57:29.489Z"
   },
   {
    "duration": 742,
    "start_time": "2021-07-23T11:57:41.866Z"
   },
   {
    "duration": 261,
    "start_time": "2021-07-23T11:58:39.378Z"
   },
   {
    "duration": 243,
    "start_time": "2021-07-23T11:58:39.642Z"
   },
   {
    "duration": 133,
    "start_time": "2021-07-23T11:58:39.888Z"
   },
   {
    "duration": 28,
    "start_time": "2021-07-23T11:58:40.024Z"
   },
   {
    "duration": 53,
    "start_time": "2021-07-23T11:58:40.055Z"
   },
   {
    "duration": 8,
    "start_time": "2021-07-23T11:58:40.110Z"
   },
   {
    "duration": 16,
    "start_time": "2021-07-23T11:58:40.121Z"
   },
   {
    "duration": 42,
    "start_time": "2021-07-23T11:58:40.141Z"
   },
   {
    "duration": 119,
    "start_time": "2021-07-23T11:58:40.186Z"
   },
   {
    "duration": 231,
    "start_time": "2021-07-23T11:58:40.307Z"
   },
   {
    "duration": 19,
    "start_time": "2021-07-23T11:58:40.541Z"
   },
   {
    "duration": 61,
    "start_time": "2021-07-23T11:58:40.563Z"
   },
   {
    "duration": 64,
    "start_time": "2021-07-23T11:58:40.626Z"
   },
   {
    "duration": 12,
    "start_time": "2021-07-23T11:58:40.693Z"
   },
   {
    "duration": 84,
    "start_time": "2021-07-23T11:58:40.708Z"
   },
   {
    "duration": 18,
    "start_time": "2021-07-23T11:58:40.794Z"
   },
   {
    "duration": 22,
    "start_time": "2021-07-23T11:58:40.814Z"
   },
   {
    "duration": 43,
    "start_time": "2021-07-23T11:58:40.839Z"
   },
   {
    "duration": 175,
    "start_time": "2021-07-23T11:58:40.886Z"
   },
   {
    "duration": 64,
    "start_time": "2021-07-23T11:58:41.064Z"
   },
   {
    "duration": 172,
    "start_time": "2021-07-23T11:58:41.132Z"
   },
   {
    "duration": 29,
    "start_time": "2021-07-23T11:58:41.307Z"
   },
   {
    "duration": 107,
    "start_time": "2021-07-23T11:58:41.343Z"
   },
   {
    "duration": 38,
    "start_time": "2021-07-23T11:58:41.454Z"
   },
   {
    "duration": 111,
    "start_time": "2021-07-23T11:58:41.495Z"
   },
   {
    "duration": 75,
    "start_time": "2021-07-23T11:58:41.609Z"
   },
   {
    "duration": 43,
    "start_time": "2021-07-23T11:58:41.687Z"
   },
   {
    "duration": 14,
    "start_time": "2021-07-23T11:58:41.733Z"
   },
   {
    "duration": 46,
    "start_time": "2021-07-23T11:58:41.782Z"
   },
   {
    "duration": 17,
    "start_time": "2021-07-23T11:58:41.831Z"
   },
   {
    "duration": 41,
    "start_time": "2021-07-23T11:58:41.850Z"
   },
   {
    "duration": 28,
    "start_time": "2021-07-23T11:58:41.893Z"
   },
   {
    "duration": 38,
    "start_time": "2021-07-23T11:58:41.923Z"
   },
   {
    "duration": 42,
    "start_time": "2021-07-23T11:58:41.964Z"
   },
   {
    "duration": 381,
    "start_time": "2021-07-23T11:58:42.009Z"
   },
   {
    "duration": 22,
    "start_time": "2021-07-23T11:58:42.393Z"
   },
   {
    "duration": 18,
    "start_time": "2021-07-23T11:58:42.417Z"
   },
   {
    "duration": 73,
    "start_time": "2021-07-23T11:58:42.437Z"
   },
   {
    "duration": 48,
    "start_time": "2021-07-23T11:58:42.512Z"
   },
   {
    "duration": 65,
    "start_time": "2021-07-23T11:58:42.562Z"
   },
   {
    "duration": 1162,
    "start_time": "2021-07-23T11:58:42.630Z"
   },
   {
    "duration": 1156,
    "start_time": "2021-07-23T11:58:43.794Z"
   },
   {
    "duration": 1049,
    "start_time": "2021-07-23T11:58:44.952Z"
   },
   {
    "duration": 1119,
    "start_time": "2021-07-23T11:58:46.003Z"
   },
   {
    "duration": 19,
    "start_time": "2021-07-23T11:58:47.125Z"
   },
   {
    "duration": 867,
    "start_time": "2021-07-23T11:58:47.146Z"
   },
   {
    "duration": 10,
    "start_time": "2021-07-23T11:58:48.016Z"
   },
   {
    "duration": 16,
    "start_time": "2021-07-23T11:58:48.029Z"
   },
   {
    "duration": 51,
    "start_time": "2021-07-23T11:58:48.047Z"
   },
   {
    "duration": 44,
    "start_time": "2021-07-23T11:58:48.101Z"
   },
   {
    "duration": 38,
    "start_time": "2021-07-23T11:58:48.147Z"
   },
   {
    "duration": 561,
    "start_time": "2021-07-23T11:59:51.053Z"
   },
   {
    "duration": 813,
    "start_time": "2021-07-23T12:00:53.887Z"
   },
   {
    "duration": 597,
    "start_time": "2021-07-23T12:01:11.980Z"
   },
   {
    "duration": 657,
    "start_time": "2021-07-23T12:01:26.871Z"
   },
   {
    "duration": 730,
    "start_time": "2021-07-23T12:01:33.911Z"
   },
   {
    "duration": 789,
    "start_time": "2021-07-23T12:01:43.322Z"
   },
   {
    "duration": 560,
    "start_time": "2021-07-23T12:01:51.109Z"
   },
   {
    "duration": 569,
    "start_time": "2021-07-23T12:02:27.630Z"
   },
   {
    "duration": 547,
    "start_time": "2021-07-23T12:02:33.172Z"
   },
   {
    "duration": 843,
    "start_time": "2021-07-23T12:03:08.419Z"
   },
   {
    "duration": 577,
    "start_time": "2021-07-23T12:03:32.169Z"
   },
   {
    "duration": 546,
    "start_time": "2021-07-23T12:03:43.838Z"
   },
   {
    "duration": 679,
    "start_time": "2021-07-23T12:04:31.423Z"
   },
   {
    "duration": 874,
    "start_time": "2021-07-23T12:04:45.045Z"
   },
   {
    "duration": 557,
    "start_time": "2021-07-23T12:04:52.162Z"
   },
   {
    "duration": 542,
    "start_time": "2021-07-23T12:05:06.852Z"
   },
   {
    "duration": 1655,
    "start_time": "2021-07-23T12:08:14.134Z"
   },
   {
    "duration": 208,
    "start_time": "2021-07-23T12:08:15.791Z"
   },
   {
    "duration": 141,
    "start_time": "2021-07-23T12:08:16.001Z"
   },
   {
    "duration": 29,
    "start_time": "2021-07-23T12:08:16.145Z"
   },
   {
    "duration": 44,
    "start_time": "2021-07-23T12:08:16.182Z"
   },
   {
    "duration": 7,
    "start_time": "2021-07-23T12:08:16.229Z"
   },
   {
    "duration": 14,
    "start_time": "2021-07-23T12:08:16.239Z"
   },
   {
    "duration": 34,
    "start_time": "2021-07-23T12:08:16.257Z"
   },
   {
    "duration": 147,
    "start_time": "2021-07-23T12:08:16.294Z"
   },
   {
    "duration": 272,
    "start_time": "2021-07-23T12:08:16.444Z"
   },
   {
    "duration": 21,
    "start_time": "2021-07-23T12:08:16.718Z"
   },
   {
    "duration": 71,
    "start_time": "2021-07-23T12:08:16.742Z"
   },
   {
    "duration": 43,
    "start_time": "2021-07-23T12:08:16.815Z"
   },
   {
    "duration": 29,
    "start_time": "2021-07-23T12:08:16.861Z"
   },
   {
    "duration": 62,
    "start_time": "2021-07-23T12:08:16.892Z"
   },
   {
    "duration": 40,
    "start_time": "2021-07-23T12:08:16.956Z"
   },
   {
    "duration": 22,
    "start_time": "2021-07-23T12:08:16.998Z"
   },
   {
    "duration": 16,
    "start_time": "2021-07-23T12:08:17.022Z"
   },
   {
    "duration": 200,
    "start_time": "2021-07-23T12:08:17.041Z"
   },
   {
    "duration": 73,
    "start_time": "2021-07-23T12:08:17.244Z"
   },
   {
    "duration": 164,
    "start_time": "2021-07-23T12:08:17.320Z"
   },
   {
    "duration": 26,
    "start_time": "2021-07-23T12:08:17.486Z"
   },
   {
    "duration": 96,
    "start_time": "2021-07-23T12:08:17.517Z"
   },
   {
    "duration": 15,
    "start_time": "2021-07-23T12:08:17.616Z"
   },
   {
    "duration": 122,
    "start_time": "2021-07-23T12:08:17.634Z"
   },
   {
    "duration": 69,
    "start_time": "2021-07-23T12:08:17.758Z"
   },
   {
    "duration": 63,
    "start_time": "2021-07-23T12:08:17.830Z"
   },
   {
    "duration": 15,
    "start_time": "2021-07-23T12:08:17.895Z"
   },
   {
    "duration": 71,
    "start_time": "2021-07-23T12:08:17.913Z"
   },
   {
    "duration": 19,
    "start_time": "2021-07-23T12:08:17.987Z"
   },
   {
    "duration": 19,
    "start_time": "2021-07-23T12:08:18.009Z"
   },
   {
    "duration": 14,
    "start_time": "2021-07-23T12:08:18.030Z"
   },
   {
    "duration": 63,
    "start_time": "2021-07-23T12:08:18.047Z"
   },
   {
    "duration": 36,
    "start_time": "2021-07-23T12:08:18.113Z"
   },
   {
    "duration": 384,
    "start_time": "2021-07-23T12:08:18.152Z"
   },
   {
    "duration": 24,
    "start_time": "2021-07-23T12:08:18.539Z"
   },
   {
    "duration": 32,
    "start_time": "2021-07-23T12:08:18.565Z"
   },
   {
    "duration": 46,
    "start_time": "2021-07-23T12:08:18.599Z"
   },
   {
    "duration": 82,
    "start_time": "2021-07-23T12:08:18.648Z"
   },
   {
    "duration": 70,
    "start_time": "2021-07-23T12:08:18.733Z"
   },
   {
    "duration": 1089,
    "start_time": "2021-07-23T12:08:18.806Z"
   },
   {
    "duration": 1028,
    "start_time": "2021-07-23T12:08:19.898Z"
   },
   {
    "duration": 1087,
    "start_time": "2021-07-23T12:08:20.928Z"
   },
   {
    "duration": 1040,
    "start_time": "2021-07-23T12:08:22.018Z"
   },
   {
    "duration": 24,
    "start_time": "2021-07-23T12:08:23.060Z"
   },
   {
    "duration": 540,
    "start_time": "2021-07-23T12:08:23.086Z"
   },
   {
    "duration": 10,
    "start_time": "2021-07-23T12:08:23.629Z"
   },
   {
    "duration": 17,
    "start_time": "2021-07-23T12:08:23.641Z"
   },
   {
    "duration": 25,
    "start_time": "2021-07-23T12:08:23.681Z"
   },
   {
    "duration": 74,
    "start_time": "2021-07-23T12:08:23.708Z"
   },
   {
    "duration": 11,
    "start_time": "2021-07-23T12:08:23.784Z"
   },
   {
    "duration": 14,
    "start_time": "2021-07-23T12:10:58.883Z"
   },
   {
    "duration": 291,
    "start_time": "2021-07-23T12:13:29.303Z"
   },
   {
    "duration": 220,
    "start_time": "2021-07-23T12:13:29.598Z"
   },
   {
    "duration": 139,
    "start_time": "2021-07-23T12:13:29.822Z"
   },
   {
    "duration": 38,
    "start_time": "2021-07-23T12:13:29.965Z"
   },
   {
    "duration": 47,
    "start_time": "2021-07-23T12:13:30.005Z"
   },
   {
    "duration": 28,
    "start_time": "2021-07-23T12:13:30.054Z"
   },
   {
    "duration": 14,
    "start_time": "2021-07-23T12:13:30.084Z"
   },
   {
    "duration": 20,
    "start_time": "2021-07-23T12:13:30.102Z"
   },
   {
    "duration": 142,
    "start_time": "2021-07-23T12:13:30.126Z"
   },
   {
    "duration": 227,
    "start_time": "2021-07-23T12:13:30.271Z"
   },
   {
    "duration": 21,
    "start_time": "2021-07-23T12:13:30.500Z"
   },
   {
    "duration": 72,
    "start_time": "2021-07-23T12:13:30.523Z"
   },
   {
    "duration": 47,
    "start_time": "2021-07-23T12:13:30.597Z"
   },
   {
    "duration": 37,
    "start_time": "2021-07-23T12:13:30.647Z"
   },
   {
    "duration": 66,
    "start_time": "2021-07-23T12:13:30.687Z"
   },
   {
    "duration": 40,
    "start_time": "2021-07-23T12:13:30.756Z"
   },
   {
    "duration": 61,
    "start_time": "2021-07-23T12:13:30.799Z"
   },
   {
    "duration": 21,
    "start_time": "2021-07-23T12:13:30.863Z"
   },
   {
    "duration": 179,
    "start_time": "2021-07-23T12:13:30.887Z"
   },
   {
    "duration": 78,
    "start_time": "2021-07-23T12:13:31.069Z"
   },
   {
    "duration": 160,
    "start_time": "2021-07-23T12:13:31.149Z"
   },
   {
    "duration": 25,
    "start_time": "2021-07-23T12:13:31.311Z"
   },
   {
    "duration": 101,
    "start_time": "2021-07-23T12:13:31.341Z"
   },
   {
    "duration": 15,
    "start_time": "2021-07-23T12:13:31.445Z"
   },
   {
    "duration": 124,
    "start_time": "2021-07-23T12:13:31.483Z"
   },
   {
    "duration": 85,
    "start_time": "2021-07-23T12:13:31.610Z"
   },
   {
    "duration": 60,
    "start_time": "2021-07-23T12:13:31.698Z"
   },
   {
    "duration": 35,
    "start_time": "2021-07-23T12:13:31.760Z"
   },
   {
    "duration": 53,
    "start_time": "2021-07-23T12:13:31.798Z"
   },
   {
    "duration": 30,
    "start_time": "2021-07-23T12:13:31.854Z"
   },
   {
    "duration": 31,
    "start_time": "2021-07-23T12:13:31.886Z"
   },
   {
    "duration": 23,
    "start_time": "2021-07-23T12:13:31.919Z"
   },
   {
    "duration": 39,
    "start_time": "2021-07-23T12:13:31.945Z"
   },
   {
    "duration": 34,
    "start_time": "2021-07-23T12:13:31.986Z"
   },
   {
    "duration": 375,
    "start_time": "2021-07-23T12:13:32.022Z"
   },
   {
    "duration": 22,
    "start_time": "2021-07-23T12:13:32.400Z"
   },
   {
    "duration": 19,
    "start_time": "2021-07-23T12:13:32.425Z"
   },
   {
    "duration": 77,
    "start_time": "2021-07-23T12:13:32.446Z"
   },
   {
    "duration": 65,
    "start_time": "2021-07-23T12:13:32.526Z"
   },
   {
    "duration": 51,
    "start_time": "2021-07-23T12:13:32.593Z"
   },
   {
    "duration": 1216,
    "start_time": "2021-07-23T12:13:32.646Z"
   },
   {
    "duration": 1049,
    "start_time": "2021-07-23T12:13:33.864Z"
   },
   {
    "duration": 1049,
    "start_time": "2021-07-23T12:13:34.916Z"
   },
   {
    "duration": 1085,
    "start_time": "2021-07-23T12:13:35.967Z"
   },
   {
    "duration": 30,
    "start_time": "2021-07-23T12:13:37.054Z"
   },
   {
    "duration": 557,
    "start_time": "2021-07-23T12:13:37.087Z"
   },
   {
    "duration": 42,
    "start_time": "2021-07-23T12:13:37.646Z"
   },
   {
    "duration": 18,
    "start_time": "2021-07-23T12:13:37.691Z"
   },
   {
    "duration": 34,
    "start_time": "2021-07-23T12:13:37.711Z"
   },
   {
    "duration": 136,
    "start_time": "2021-07-23T12:13:37.747Z"
   },
   {
    "duration": 11,
    "start_time": "2021-07-23T12:13:37.885Z"
   },
   {
    "duration": 1641,
    "start_time": "2021-07-23T14:11:36.778Z"
   },
   {
    "duration": 198,
    "start_time": "2021-07-23T14:11:38.421Z"
   },
   {
    "duration": 133,
    "start_time": "2021-07-23T14:11:38.622Z"
   },
   {
    "duration": 31,
    "start_time": "2021-07-23T14:11:38.758Z"
   },
   {
    "duration": 59,
    "start_time": "2021-07-23T14:11:38.791Z"
   },
   {
    "duration": 9,
    "start_time": "2021-07-23T14:11:38.852Z"
   },
   {
    "duration": 13,
    "start_time": "2021-07-23T14:11:38.863Z"
   },
   {
    "duration": 12,
    "start_time": "2021-07-23T14:11:38.879Z"
   },
   {
    "duration": 162,
    "start_time": "2021-07-23T14:11:38.894Z"
   },
   {
    "duration": 217,
    "start_time": "2021-07-23T14:11:39.058Z"
   },
   {
    "duration": 21,
    "start_time": "2021-07-23T14:11:39.277Z"
   },
   {
    "duration": 72,
    "start_time": "2021-07-23T14:11:39.301Z"
   },
   {
    "duration": 41,
    "start_time": "2021-07-23T14:11:39.376Z"
   },
   {
    "duration": 35,
    "start_time": "2021-07-23T14:11:39.420Z"
   },
   {
    "duration": 58,
    "start_time": "2021-07-23T14:11:39.458Z"
   },
   {
    "duration": 16,
    "start_time": "2021-07-23T14:11:39.518Z"
   },
   {
    "duration": 20,
    "start_time": "2021-07-23T14:11:39.557Z"
   },
   {
    "duration": 15,
    "start_time": "2021-07-23T14:11:39.579Z"
   },
   {
    "duration": 187,
    "start_time": "2021-07-23T14:11:39.596Z"
   },
   {
    "duration": 70,
    "start_time": "2021-07-23T14:11:39.786Z"
   },
   {
    "duration": 150,
    "start_time": "2021-07-23T14:11:39.858Z"
   },
   {
    "duration": 25,
    "start_time": "2021-07-23T14:11:40.011Z"
   },
   {
    "duration": 90,
    "start_time": "2021-07-23T14:11:40.041Z"
   },
   {
    "duration": 35,
    "start_time": "2021-07-23T14:11:40.134Z"
   },
   {
    "duration": 110,
    "start_time": "2021-07-23T14:11:40.172Z"
   },
   {
    "duration": 94,
    "start_time": "2021-07-23T14:11:40.284Z"
   },
   {
    "duration": 45,
    "start_time": "2021-07-23T14:11:40.381Z"
   },
   {
    "duration": 36,
    "start_time": "2021-07-23T14:11:40.428Z"
   },
   {
    "duration": 48,
    "start_time": "2021-07-23T14:11:40.467Z"
   },
   {
    "duration": 43,
    "start_time": "2021-07-23T14:11:40.518Z"
   },
   {
    "duration": 27,
    "start_time": "2021-07-23T14:11:40.564Z"
   },
   {
    "duration": 21,
    "start_time": "2021-07-23T14:11:40.594Z"
   },
   {
    "duration": 76,
    "start_time": "2021-07-23T14:11:40.618Z"
   },
   {
    "duration": 43,
    "start_time": "2021-07-23T14:11:40.698Z"
   },
   {
    "duration": 366,
    "start_time": "2021-07-23T14:11:40.755Z"
   },
   {
    "duration": 35,
    "start_time": "2021-07-23T14:11:41.123Z"
   },
   {
    "duration": 20,
    "start_time": "2021-07-23T14:11:41.160Z"
   },
   {
    "duration": 41,
    "start_time": "2021-07-23T14:11:41.183Z"
   },
   {
    "duration": 77,
    "start_time": "2021-07-23T14:11:41.226Z"
   },
   {
    "duration": 75,
    "start_time": "2021-07-23T14:11:41.305Z"
   },
   {
    "duration": 1090,
    "start_time": "2021-07-23T14:11:41.383Z"
   },
   {
    "duration": 1280,
    "start_time": "2021-07-23T14:11:42.476Z"
   },
   {
    "duration": 1187,
    "start_time": "2021-07-23T14:11:43.759Z"
   },
   {
    "duration": 1022,
    "start_time": "2021-07-23T14:11:44.948Z"
   },
   {
    "duration": 23,
    "start_time": "2021-07-23T14:11:45.973Z"
   },
   {
    "duration": 647,
    "start_time": "2021-07-23T14:11:45.999Z"
   },
   {
    "duration": 15,
    "start_time": "2021-07-23T14:11:46.657Z"
   },
   {
    "duration": 14,
    "start_time": "2021-07-23T14:11:46.675Z"
   },
   {
    "duration": 34,
    "start_time": "2021-07-23T14:11:46.692Z"
   },
   {
    "duration": 70,
    "start_time": "2021-07-23T14:11:46.728Z"
   },
   {
    "duration": 10,
    "start_time": "2021-07-23T14:11:46.800Z"
   },
   {
    "duration": 8,
    "start_time": "2021-07-23T14:18:41.805Z"
   },
   {
    "duration": 7,
    "start_time": "2021-07-23T14:18:48.346Z"
   },
   {
    "duration": 25,
    "start_time": "2021-07-23T14:19:50.889Z"
   },
   {
    "duration": 741,
    "start_time": "2021-07-23T14:20:01.609Z"
   }
  ],
  "kernelspec": {
   "display_name": "Python 3",
   "language": "python",
   "name": "python3"
  },
  "language_info": {
   "codemirror_mode": {
    "name": "ipython",
    "version": 3
   },
   "file_extension": ".py",
   "mimetype": "text/x-python",
   "name": "python",
   "nbconvert_exporter": "python",
   "pygments_lexer": "ipython3",
   "version": "3.8.2"
  },
  "toc": {
   "base_numbering": 1,
   "nav_menu": {},
   "number_sections": true,
   "sideBar": true,
   "skip_h1_title": true,
   "title_cell": "Table of Contents",
   "title_sidebar": "Contents",
   "toc_cell": false,
   "toc_position": {},
   "toc_section_display": true,
   "toc_window_display": false
  }
 },
 "nbformat": 4,
 "nbformat_minor": 2
}
