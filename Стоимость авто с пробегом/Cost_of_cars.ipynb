{
 "cells": [
  {
   "cell_type": "markdown",
   "metadata": {},
   "source": [
    "# Определение стоимости автомобилей"
   ]
  },
  {
   "cell_type": "markdown",
   "metadata": {},
   "source": [
    "**Цель проекта**: построение модели для определения стоимости автомобилей с пробегом.  \n",
    "\n",
    "**Требования заказчика**:\n",
    "- качество предсказания;\n",
    "- скорость предсказания;\n",
    "- время обучения.\n",
    "\n",
    "В качестве метрики качества для выбора моделей будет использован RMSE.\n",
    "\n",
    "Для построения модели используется выборка следующих ретроспективных данных:\n",
    "-\tDateCrawled — дата скачивания анкеты из базы\n",
    "-\tVehicleType — тип автомобильного кузова\n",
    "-\tRegistrationYear — год регистрации автомобиля\n",
    "-\tGearbox — тип коробки передач\n",
    "-\tPower — мощность (л. с.)\n",
    "-\tModel — модель автомобиля\n",
    "-\tKilometer — пробег (км)\n",
    "-\tRegistrationMonth — месяц регистрации автомобиля\n",
    "-\tFuelType — тип топлива\n",
    "-\tBrand — марка автомобиля\n",
    "-\tNotRepaired — была машина в ремонте или нет\n",
    "-\tDateCreated — дата создания анкеты\n",
    "-\tNumberOfPictures — количество фотографий автомобиля\n",
    "-\tPostalCode — почтовый индекс владельца анкеты (пользователя)\n",
    "-\tLastSeen — дата последней активности пользователя\n",
    "\n",
    "\n",
    "**Основные этапы проекта**:\n",
    "- Подготовка данных\n",
    "    - анализ и обработка аномалий\n",
    "    - обработка пропусков\n",
    "    - коррелляционный анализ количественных переменных\n",
    "    - кодирование качественных переменных\n",
    "- Построение моделей\n",
    "    - случайный лес\n",
    "    - линейная регрессия\n",
    "    - стохастический градиентный бустинг\n",
    "- Тестирование полученных моделей, анализ скорости работы моделей"
   ]
  },
  {
   "cell_type": "markdown",
   "metadata": {},
   "source": [
    "## Подготовка данных"
   ]
  },
  {
   "cell_type": "code",
   "execution_count": 1,
   "metadata": {
    "scrolled": true
   },
   "outputs": [],
   "source": [
    "import pandas as pd\n",
    "import numpy as np\n",
    "import lightgbm as ltb\n",
    "import matplotlib.pyplot as plt\n",
    "import seaborn as sns\n",
    "from sklearn.dummy import DummyRegressor\n",
    "from sklearn.ensemble import RandomForestRegressor\n",
    "from sklearn.linear_model import LinearRegression\n",
    "from sklearn.metrics import mean_squared_error, make_scorer\n",
    "from sklearn.model_selection import cross_val_score, RandomizedSearchCV, train_test_split\n",
    "from sklearn.preprocessing import StandardScaler"
   ]
  },
  {
   "cell_type": "code",
   "execution_count": 2,
   "metadata": {},
   "outputs": [
    {
     "data": {
      "text/html": [
       "<div>\n",
       "<style scoped>\n",
       "    .dataframe tbody tr th:only-of-type {\n",
       "        vertical-align: middle;\n",
       "    }\n",
       "\n",
       "    .dataframe tbody tr th {\n",
       "        vertical-align: top;\n",
       "    }\n",
       "\n",
       "    .dataframe thead th {\n",
       "        text-align: right;\n",
       "    }\n",
       "</style>\n",
       "<table border=\"1\" class=\"dataframe\">\n",
       "  <thead>\n",
       "    <tr style=\"text-align: right;\">\n",
       "      <th></th>\n",
       "      <th>DateCrawled</th>\n",
       "      <th>Price</th>\n",
       "      <th>VehicleType</th>\n",
       "      <th>RegistrationYear</th>\n",
       "      <th>Gearbox</th>\n",
       "      <th>Power</th>\n",
       "      <th>Model</th>\n",
       "      <th>Kilometer</th>\n",
       "      <th>RegistrationMonth</th>\n",
       "      <th>FuelType</th>\n",
       "      <th>Brand</th>\n",
       "      <th>NotRepaired</th>\n",
       "      <th>DateCreated</th>\n",
       "      <th>NumberOfPictures</th>\n",
       "      <th>PostalCode</th>\n",
       "      <th>LastSeen</th>\n",
       "    </tr>\n",
       "  </thead>\n",
       "  <tbody>\n",
       "    <tr>\n",
       "      <td>0</td>\n",
       "      <td>2016-03-24 11:52:17</td>\n",
       "      <td>480</td>\n",
       "      <td>NaN</td>\n",
       "      <td>1993</td>\n",
       "      <td>manual</td>\n",
       "      <td>0</td>\n",
       "      <td>golf</td>\n",
       "      <td>150000</td>\n",
       "      <td>0</td>\n",
       "      <td>petrol</td>\n",
       "      <td>volkswagen</td>\n",
       "      <td>NaN</td>\n",
       "      <td>2016-03-24 00:00:00</td>\n",
       "      <td>0</td>\n",
       "      <td>70435</td>\n",
       "      <td>2016-04-07 03:16:57</td>\n",
       "    </tr>\n",
       "    <tr>\n",
       "      <td>1</td>\n",
       "      <td>2016-03-24 10:58:45</td>\n",
       "      <td>18300</td>\n",
       "      <td>coupe</td>\n",
       "      <td>2011</td>\n",
       "      <td>manual</td>\n",
       "      <td>190</td>\n",
       "      <td>NaN</td>\n",
       "      <td>125000</td>\n",
       "      <td>5</td>\n",
       "      <td>gasoline</td>\n",
       "      <td>audi</td>\n",
       "      <td>yes</td>\n",
       "      <td>2016-03-24 00:00:00</td>\n",
       "      <td>0</td>\n",
       "      <td>66954</td>\n",
       "      <td>2016-04-07 01:46:50</td>\n",
       "    </tr>\n",
       "    <tr>\n",
       "      <td>2</td>\n",
       "      <td>2016-03-14 12:52:21</td>\n",
       "      <td>9800</td>\n",
       "      <td>suv</td>\n",
       "      <td>2004</td>\n",
       "      <td>auto</td>\n",
       "      <td>163</td>\n",
       "      <td>grand</td>\n",
       "      <td>125000</td>\n",
       "      <td>8</td>\n",
       "      <td>gasoline</td>\n",
       "      <td>jeep</td>\n",
       "      <td>NaN</td>\n",
       "      <td>2016-03-14 00:00:00</td>\n",
       "      <td>0</td>\n",
       "      <td>90480</td>\n",
       "      <td>2016-04-05 12:47:46</td>\n",
       "    </tr>\n",
       "    <tr>\n",
       "      <td>3</td>\n",
       "      <td>2016-03-17 16:54:04</td>\n",
       "      <td>1500</td>\n",
       "      <td>small</td>\n",
       "      <td>2001</td>\n",
       "      <td>manual</td>\n",
       "      <td>75</td>\n",
       "      <td>golf</td>\n",
       "      <td>150000</td>\n",
       "      <td>6</td>\n",
       "      <td>petrol</td>\n",
       "      <td>volkswagen</td>\n",
       "      <td>no</td>\n",
       "      <td>2016-03-17 00:00:00</td>\n",
       "      <td>0</td>\n",
       "      <td>91074</td>\n",
       "      <td>2016-03-17 17:40:17</td>\n",
       "    </tr>\n",
       "    <tr>\n",
       "      <td>4</td>\n",
       "      <td>2016-03-31 17:25:20</td>\n",
       "      <td>3600</td>\n",
       "      <td>small</td>\n",
       "      <td>2008</td>\n",
       "      <td>manual</td>\n",
       "      <td>69</td>\n",
       "      <td>fabia</td>\n",
       "      <td>90000</td>\n",
       "      <td>7</td>\n",
       "      <td>gasoline</td>\n",
       "      <td>skoda</td>\n",
       "      <td>no</td>\n",
       "      <td>2016-03-31 00:00:00</td>\n",
       "      <td>0</td>\n",
       "      <td>60437</td>\n",
       "      <td>2016-04-06 10:17:21</td>\n",
       "    </tr>\n",
       "  </tbody>\n",
       "</table>\n",
       "</div>"
      ],
      "text/plain": [
       "           DateCrawled  Price VehicleType  RegistrationYear Gearbox  Power  \\\n",
       "0  2016-03-24 11:52:17    480         NaN              1993  manual      0   \n",
       "1  2016-03-24 10:58:45  18300       coupe              2011  manual    190   \n",
       "2  2016-03-14 12:52:21   9800         suv              2004    auto    163   \n",
       "3  2016-03-17 16:54:04   1500       small              2001  manual     75   \n",
       "4  2016-03-31 17:25:20   3600       small              2008  manual     69   \n",
       "\n",
       "   Model  Kilometer  RegistrationMonth  FuelType       Brand NotRepaired  \\\n",
       "0   golf     150000                  0    petrol  volkswagen         NaN   \n",
       "1    NaN     125000                  5  gasoline        audi         yes   \n",
       "2  grand     125000                  8  gasoline        jeep         NaN   \n",
       "3   golf     150000                  6    petrol  volkswagen          no   \n",
       "4  fabia      90000                  7  gasoline       skoda          no   \n",
       "\n",
       "           DateCreated  NumberOfPictures  PostalCode             LastSeen  \n",
       "0  2016-03-24 00:00:00                 0       70435  2016-04-07 03:16:57  \n",
       "1  2016-03-24 00:00:00                 0       66954  2016-04-07 01:46:50  \n",
       "2  2016-03-14 00:00:00                 0       90480  2016-04-05 12:47:46  \n",
       "3  2016-03-17 00:00:00                 0       91074  2016-03-17 17:40:17  \n",
       "4  2016-03-31 00:00:00                 0       60437  2016-04-06 10:17:21  "
      ]
     },
     "execution_count": 2,
     "metadata": {},
     "output_type": "execute_result"
    }
   ],
   "source": [
    "data = pd.read_csv('/autos.csv')\n",
    "data.head()"
   ]
  },
  {
   "cell_type": "code",
   "execution_count": 3,
   "metadata": {},
   "outputs": [
    {
     "name": "stdout",
     "output_type": "stream",
     "text": [
      "<class 'pandas.core.frame.DataFrame'>\n",
      "RangeIndex: 354369 entries, 0 to 354368\n",
      "Data columns (total 16 columns):\n",
      "DateCrawled          354369 non-null object\n",
      "Price                354369 non-null int64\n",
      "VehicleType          316879 non-null object\n",
      "RegistrationYear     354369 non-null int64\n",
      "Gearbox              334536 non-null object\n",
      "Power                354369 non-null int64\n",
      "Model                334664 non-null object\n",
      "Kilometer            354369 non-null int64\n",
      "RegistrationMonth    354369 non-null int64\n",
      "FuelType             321474 non-null object\n",
      "Brand                354369 non-null object\n",
      "NotRepaired          283215 non-null object\n",
      "DateCreated          354369 non-null object\n",
      "NumberOfPictures     354369 non-null int64\n",
      "PostalCode           354369 non-null int64\n",
      "LastSeen             354369 non-null object\n",
      "dtypes: int64(7), object(9)\n",
      "memory usage: 43.3+ MB\n"
     ]
    }
   ],
   "source": [
    "data.info()"
   ]
  },
  {
   "cell_type": "code",
   "execution_count": 4,
   "metadata": {},
   "outputs": [
    {
     "data": {
      "text/html": [
       "<div>\n",
       "<style scoped>\n",
       "    .dataframe tbody tr th:only-of-type {\n",
       "        vertical-align: middle;\n",
       "    }\n",
       "\n",
       "    .dataframe tbody tr th {\n",
       "        vertical-align: top;\n",
       "    }\n",
       "\n",
       "    .dataframe thead th {\n",
       "        text-align: right;\n",
       "    }\n",
       "</style>\n",
       "<table border=\"1\" class=\"dataframe\">\n",
       "  <thead>\n",
       "    <tr style=\"text-align: right;\">\n",
       "      <th></th>\n",
       "      <th>Price</th>\n",
       "      <th>RegistrationYear</th>\n",
       "      <th>Power</th>\n",
       "      <th>Kilometer</th>\n",
       "      <th>RegistrationMonth</th>\n",
       "      <th>NumberOfPictures</th>\n",
       "      <th>PostalCode</th>\n",
       "    </tr>\n",
       "  </thead>\n",
       "  <tbody>\n",
       "    <tr>\n",
       "      <td>count</td>\n",
       "      <td>354369.000000</td>\n",
       "      <td>354369.000000</td>\n",
       "      <td>354369.000000</td>\n",
       "      <td>354369.000000</td>\n",
       "      <td>354369.000000</td>\n",
       "      <td>354369.0</td>\n",
       "      <td>354369.000000</td>\n",
       "    </tr>\n",
       "    <tr>\n",
       "      <td>mean</td>\n",
       "      <td>4416.656776</td>\n",
       "      <td>2004.234448</td>\n",
       "      <td>110.094337</td>\n",
       "      <td>128211.172535</td>\n",
       "      <td>5.714645</td>\n",
       "      <td>0.0</td>\n",
       "      <td>50508.689087</td>\n",
       "    </tr>\n",
       "    <tr>\n",
       "      <td>std</td>\n",
       "      <td>4514.158514</td>\n",
       "      <td>90.227958</td>\n",
       "      <td>189.850405</td>\n",
       "      <td>37905.341530</td>\n",
       "      <td>3.726421</td>\n",
       "      <td>0.0</td>\n",
       "      <td>25783.096248</td>\n",
       "    </tr>\n",
       "    <tr>\n",
       "      <td>min</td>\n",
       "      <td>0.000000</td>\n",
       "      <td>1000.000000</td>\n",
       "      <td>0.000000</td>\n",
       "      <td>5000.000000</td>\n",
       "      <td>0.000000</td>\n",
       "      <td>0.0</td>\n",
       "      <td>1067.000000</td>\n",
       "    </tr>\n",
       "    <tr>\n",
       "      <td>25%</td>\n",
       "      <td>1050.000000</td>\n",
       "      <td>1999.000000</td>\n",
       "      <td>69.000000</td>\n",
       "      <td>125000.000000</td>\n",
       "      <td>3.000000</td>\n",
       "      <td>0.0</td>\n",
       "      <td>30165.000000</td>\n",
       "    </tr>\n",
       "    <tr>\n",
       "      <td>50%</td>\n",
       "      <td>2700.000000</td>\n",
       "      <td>2003.000000</td>\n",
       "      <td>105.000000</td>\n",
       "      <td>150000.000000</td>\n",
       "      <td>6.000000</td>\n",
       "      <td>0.0</td>\n",
       "      <td>49413.000000</td>\n",
       "    </tr>\n",
       "    <tr>\n",
       "      <td>75%</td>\n",
       "      <td>6400.000000</td>\n",
       "      <td>2008.000000</td>\n",
       "      <td>143.000000</td>\n",
       "      <td>150000.000000</td>\n",
       "      <td>9.000000</td>\n",
       "      <td>0.0</td>\n",
       "      <td>71083.000000</td>\n",
       "    </tr>\n",
       "    <tr>\n",
       "      <td>max</td>\n",
       "      <td>20000.000000</td>\n",
       "      <td>9999.000000</td>\n",
       "      <td>20000.000000</td>\n",
       "      <td>150000.000000</td>\n",
       "      <td>12.000000</td>\n",
       "      <td>0.0</td>\n",
       "      <td>99998.000000</td>\n",
       "    </tr>\n",
       "  </tbody>\n",
       "</table>\n",
       "</div>"
      ],
      "text/plain": [
       "               Price  RegistrationYear          Power      Kilometer  \\\n",
       "count  354369.000000     354369.000000  354369.000000  354369.000000   \n",
       "mean     4416.656776       2004.234448     110.094337  128211.172535   \n",
       "std      4514.158514         90.227958     189.850405   37905.341530   \n",
       "min         0.000000       1000.000000       0.000000    5000.000000   \n",
       "25%      1050.000000       1999.000000      69.000000  125000.000000   \n",
       "50%      2700.000000       2003.000000     105.000000  150000.000000   \n",
       "75%      6400.000000       2008.000000     143.000000  150000.000000   \n",
       "max     20000.000000       9999.000000   20000.000000  150000.000000   \n",
       "\n",
       "       RegistrationMonth  NumberOfPictures     PostalCode  \n",
       "count      354369.000000          354369.0  354369.000000  \n",
       "mean            5.714645               0.0   50508.689087  \n",
       "std             3.726421               0.0   25783.096248  \n",
       "min             0.000000               0.0    1067.000000  \n",
       "25%             3.000000               0.0   30165.000000  \n",
       "50%             6.000000               0.0   49413.000000  \n",
       "75%             9.000000               0.0   71083.000000  \n",
       "max            12.000000               0.0   99998.000000  "
      ]
     },
     "execution_count": 4,
     "metadata": {},
     "output_type": "execute_result"
    }
   ],
   "source": [
    "data.describe()"
   ]
  },
  {
   "cell_type": "markdown",
   "metadata": {},
   "source": [
    "В данных 16 столбцов, 3 из которых содержат дату, 6 - качественные данные, 7 (включая целевой) - численные. В данных есть как пропуски, так и аномальные значения.\n",
    "\n",
    "Проверим датасет на наличие явных дубликатов:"
   ]
  },
  {
   "cell_type": "markdown",
   "metadata": {},
   "source": [
    "Поскольку данные с датой создания, скачивания и последнего просмотра анкеты не оказывают влияния на оценку стоимости автомобиля для будущих клиентов, удалим их:"
   ]
  },
  {
   "cell_type": "code",
   "execution_count": 5,
   "metadata": {},
   "outputs": [
    {
     "data": {
      "text/plain": [
       "4"
      ]
     },
     "execution_count": 5,
     "metadata": {},
     "output_type": "execute_result"
    }
   ],
   "source": [
    "data.duplicated().sum()"
   ]
  },
  {
   "cell_type": "code",
   "execution_count": 6,
   "metadata": {},
   "outputs": [
    {
     "data": {
      "text/plain": [
       "0"
      ]
     },
     "execution_count": 6,
     "metadata": {},
     "output_type": "execute_result"
    }
   ],
   "source": [
    "data = data.drop_duplicates().reset_index(drop=True)\n",
    "data.duplicated().sum()"
   ]
  },
  {
   "cell_type": "code",
   "execution_count": 7,
   "metadata": {},
   "outputs": [],
   "source": [
    "data = data.drop(columns = ['DateCrawled', 'LastSeen', 'DateCreated'])"
   ]
  },
  {
   "cell_type": "markdown",
   "metadata": {},
   "source": [
    "### Обработка аномальных значений\n",
    "Первое, что бросается в глаза - столбец с количеством фотографий **`NumberOfPictures`** содержит только нули, он неинформативен - удалим его:"
   ]
  },
  {
   "cell_type": "code",
   "execution_count": 8,
   "metadata": {},
   "outputs": [],
   "source": [
    "data = data.drop(['NumberOfPictures'], axis = 1)"
   ]
  },
  {
   "cell_type": "markdown",
   "metadata": {},
   "source": [
    "Целевой столбец **`Price`** содержит нулевые значения. Посмотрим, много ли в нашем датасете аномально низких цен (менее 5 евро):"
   ]
  },
  {
   "cell_type": "code",
   "execution_count": 9,
   "metadata": {
    "scrolled": true
   },
   "outputs": [
    {
     "data": {
      "text/html": [
       "<div>\n",
       "<style scoped>\n",
       "    .dataframe tbody tr th:only-of-type {\n",
       "        vertical-align: middle;\n",
       "    }\n",
       "\n",
       "    .dataframe tbody tr th {\n",
       "        vertical-align: top;\n",
       "    }\n",
       "\n",
       "    .dataframe thead th {\n",
       "        text-align: right;\n",
       "    }\n",
       "</style>\n",
       "<table border=\"1\" class=\"dataframe\">\n",
       "  <thead>\n",
       "    <tr style=\"text-align: right;\">\n",
       "      <th></th>\n",
       "      <th>Price</th>\n",
       "      <th>VehicleType</th>\n",
       "      <th>RegistrationYear</th>\n",
       "      <th>Gearbox</th>\n",
       "      <th>Power</th>\n",
       "      <th>Model</th>\n",
       "      <th>Kilometer</th>\n",
       "      <th>RegistrationMonth</th>\n",
       "      <th>FuelType</th>\n",
       "      <th>Brand</th>\n",
       "      <th>NotRepaired</th>\n",
       "      <th>PostalCode</th>\n",
       "    </tr>\n",
       "  </thead>\n",
       "  <tbody>\n",
       "    <tr>\n",
       "      <td>7</td>\n",
       "      <td>0</td>\n",
       "      <td>sedan</td>\n",
       "      <td>1980</td>\n",
       "      <td>manual</td>\n",
       "      <td>50</td>\n",
       "      <td>other</td>\n",
       "      <td>40000</td>\n",
       "      <td>7</td>\n",
       "      <td>petrol</td>\n",
       "      <td>volkswagen</td>\n",
       "      <td>no</td>\n",
       "      <td>19348</td>\n",
       "    </tr>\n",
       "    <tr>\n",
       "      <td>40</td>\n",
       "      <td>0</td>\n",
       "      <td>NaN</td>\n",
       "      <td>1990</td>\n",
       "      <td>NaN</td>\n",
       "      <td>0</td>\n",
       "      <td>corsa</td>\n",
       "      <td>150000</td>\n",
       "      <td>1</td>\n",
       "      <td>petrol</td>\n",
       "      <td>opel</td>\n",
       "      <td>NaN</td>\n",
       "      <td>56412</td>\n",
       "    </tr>\n",
       "    <tr>\n",
       "      <td>59</td>\n",
       "      <td>1</td>\n",
       "      <td>suv</td>\n",
       "      <td>1994</td>\n",
       "      <td>manual</td>\n",
       "      <td>286</td>\n",
       "      <td>NaN</td>\n",
       "      <td>150000</td>\n",
       "      <td>11</td>\n",
       "      <td>NaN</td>\n",
       "      <td>sonstige_autos</td>\n",
       "      <td>NaN</td>\n",
       "      <td>53721</td>\n",
       "    </tr>\n",
       "    <tr>\n",
       "      <td>89</td>\n",
       "      <td>1</td>\n",
       "      <td>sedan</td>\n",
       "      <td>1995</td>\n",
       "      <td>manual</td>\n",
       "      <td>113</td>\n",
       "      <td>e_klasse</td>\n",
       "      <td>150000</td>\n",
       "      <td>4</td>\n",
       "      <td>gasoline</td>\n",
       "      <td>mercedes_benz</td>\n",
       "      <td>no</td>\n",
       "      <td>40589</td>\n",
       "    </tr>\n",
       "    <tr>\n",
       "      <td>111</td>\n",
       "      <td>0</td>\n",
       "      <td>NaN</td>\n",
       "      <td>2017</td>\n",
       "      <td>manual</td>\n",
       "      <td>0</td>\n",
       "      <td>golf</td>\n",
       "      <td>5000</td>\n",
       "      <td>12</td>\n",
       "      <td>petrol</td>\n",
       "      <td>volkswagen</td>\n",
       "      <td>NaN</td>\n",
       "      <td>21698</td>\n",
       "    </tr>\n",
       "    <tr>\n",
       "      <td>...</td>\n",
       "      <td>...</td>\n",
       "      <td>...</td>\n",
       "      <td>...</td>\n",
       "      <td>...</td>\n",
       "      <td>...</td>\n",
       "      <td>...</td>\n",
       "      <td>...</td>\n",
       "      <td>...</td>\n",
       "      <td>...</td>\n",
       "      <td>...</td>\n",
       "      <td>...</td>\n",
       "      <td>...</td>\n",
       "    </tr>\n",
       "    <tr>\n",
       "      <td>354201</td>\n",
       "      <td>0</td>\n",
       "      <td>NaN</td>\n",
       "      <td>2000</td>\n",
       "      <td>manual</td>\n",
       "      <td>65</td>\n",
       "      <td>corsa</td>\n",
       "      <td>150000</td>\n",
       "      <td>0</td>\n",
       "      <td>NaN</td>\n",
       "      <td>opel</td>\n",
       "      <td>yes</td>\n",
       "      <td>23758</td>\n",
       "    </tr>\n",
       "    <tr>\n",
       "      <td>354234</td>\n",
       "      <td>0</td>\n",
       "      <td>small</td>\n",
       "      <td>2002</td>\n",
       "      <td>manual</td>\n",
       "      <td>60</td>\n",
       "      <td>fiesta</td>\n",
       "      <td>150000</td>\n",
       "      <td>3</td>\n",
       "      <td>petrol</td>\n",
       "      <td>ford</td>\n",
       "      <td>NaN</td>\n",
       "      <td>33659</td>\n",
       "    </tr>\n",
       "    <tr>\n",
       "      <td>354244</td>\n",
       "      <td>0</td>\n",
       "      <td>small</td>\n",
       "      <td>1999</td>\n",
       "      <td>manual</td>\n",
       "      <td>53</td>\n",
       "      <td>swift</td>\n",
       "      <td>150000</td>\n",
       "      <td>3</td>\n",
       "      <td>petrol</td>\n",
       "      <td>suzuki</td>\n",
       "      <td>NaN</td>\n",
       "      <td>42329</td>\n",
       "    </tr>\n",
       "    <tr>\n",
       "      <td>354273</td>\n",
       "      <td>0</td>\n",
       "      <td>small</td>\n",
       "      <td>1999</td>\n",
       "      <td>manual</td>\n",
       "      <td>37</td>\n",
       "      <td>arosa</td>\n",
       "      <td>150000</td>\n",
       "      <td>7</td>\n",
       "      <td>petrol</td>\n",
       "      <td>seat</td>\n",
       "      <td>yes</td>\n",
       "      <td>22559</td>\n",
       "    </tr>\n",
       "    <tr>\n",
       "      <td>354360</td>\n",
       "      <td>0</td>\n",
       "      <td>NaN</td>\n",
       "      <td>2005</td>\n",
       "      <td>manual</td>\n",
       "      <td>0</td>\n",
       "      <td>colt</td>\n",
       "      <td>150000</td>\n",
       "      <td>7</td>\n",
       "      <td>petrol</td>\n",
       "      <td>mitsubishi</td>\n",
       "      <td>yes</td>\n",
       "      <td>2694</td>\n",
       "    </tr>\n",
       "  </tbody>\n",
       "</table>\n",
       "<p>11982 rows × 12 columns</p>\n",
       "</div>"
      ],
      "text/plain": [
       "        Price VehicleType  RegistrationYear Gearbox  Power     Model  \\\n",
       "7           0       sedan              1980  manual     50     other   \n",
       "40          0         NaN              1990     NaN      0     corsa   \n",
       "59          1         suv              1994  manual    286       NaN   \n",
       "89          1       sedan              1995  manual    113  e_klasse   \n",
       "111         0         NaN              2017  manual      0      golf   \n",
       "...       ...         ...               ...     ...    ...       ...   \n",
       "354201      0         NaN              2000  manual     65     corsa   \n",
       "354234      0       small              2002  manual     60    fiesta   \n",
       "354244      0       small              1999  manual     53     swift   \n",
       "354273      0       small              1999  manual     37     arosa   \n",
       "354360      0         NaN              2005  manual      0      colt   \n",
       "\n",
       "        Kilometer  RegistrationMonth  FuelType           Brand NotRepaired  \\\n",
       "7           40000                  7    petrol      volkswagen          no   \n",
       "40         150000                  1    petrol            opel         NaN   \n",
       "59         150000                 11       NaN  sonstige_autos         NaN   \n",
       "89         150000                  4  gasoline   mercedes_benz          no   \n",
       "111          5000                 12    petrol      volkswagen         NaN   \n",
       "...           ...                ...       ...             ...         ...   \n",
       "354201     150000                  0       NaN            opel         yes   \n",
       "354234     150000                  3    petrol            ford         NaN   \n",
       "354244     150000                  3    petrol          suzuki         NaN   \n",
       "354273     150000                  7    petrol            seat         yes   \n",
       "354360     150000                  7    petrol      mitsubishi         yes   \n",
       "\n",
       "        PostalCode  \n",
       "7            19348  \n",
       "40           56412  \n",
       "59           53721  \n",
       "89           40589  \n",
       "111          21698  \n",
       "...            ...  \n",
       "354201       23758  \n",
       "354234       33659  \n",
       "354244       42329  \n",
       "354273       22559  \n",
       "354360        2694  \n",
       "\n",
       "[11982 rows x 12 columns]"
      ]
     },
     "execution_count": 9,
     "metadata": {},
     "output_type": "execute_result"
    }
   ],
   "source": [
    "data.query('Price < 5')"
   ]
  },
  {
   "cell_type": "markdown",
   "metadata": {},
   "source": [
    "11 982 строк, или 3% от выборки. Судя по всему, это или ошибка выгрузки, или некорректное заполнение анкеты. Поскольку цена - целевой признак, восстанавливать его по аналогии с похожими строками будет некорректным, удалим позиции со слишком низкими ценами (менее 5 евро)."
   ]
  },
  {
   "cell_type": "code",
   "execution_count": 10,
   "metadata": {
    "scrolled": true
   },
   "outputs": [
    {
     "data": {
      "image/png": "[encoded data removed]",
      "text/plain": [
       "<Figure size 432x288 with 1 Axes>"
      ]
     },
     "metadata": {
      "needs_background": "light"
     },
     "output_type": "display_data"
    }
   ],
   "source": [
    "data = data.query('Price > 5')\n",
    "plt.hist(data['Price'], bins = 100, color = 'teal')\n",
    "plt.title('Распределение цен на автомобили')\n",
    "plt.show()"
   ]
  },
  {
   "cell_type": "markdown",
   "metadata": {},
   "source": [
    "Как видно из графика, значений около 0 всё ещё много, но это могут быть реально выставленные цены на очень старые или битые авто. Распределение сильно скошено влево: основная масса автомобилей выставляется по цене 1000 до 6500 евро, однако есть и очень дорогие предложения: до 20 000 евро. "
   ]
  },
  {
   "cell_type": "markdown",
   "metadata": {},
   "source": [
    "В столбце с датой постановки на учёт **`RegistrationYear`** также есть аномальные значения: 1000 или 9999 год. Проанализируем, много ли авто, зарегистрированных после 2016 (дата выгрузки наших данных) и до 1980 года:"
   ]
  },
  {
   "cell_type": "code",
   "execution_count": 11,
   "metadata": {},
   "outputs": [
    {
     "data": {
      "text/html": [
       "<div>\n",
       "<style scoped>\n",
       "    .dataframe tbody tr th:only-of-type {\n",
       "        vertical-align: middle;\n",
       "    }\n",
       "\n",
       "    .dataframe tbody tr th {\n",
       "        vertical-align: top;\n",
       "    }\n",
       "\n",
       "    .dataframe thead th {\n",
       "        text-align: right;\n",
       "    }\n",
       "</style>\n",
       "<table border=\"1\" class=\"dataframe\">\n",
       "  <thead>\n",
       "    <tr style=\"text-align: right;\">\n",
       "      <th></th>\n",
       "      <th>Price</th>\n",
       "      <th>VehicleType</th>\n",
       "      <th>RegistrationYear</th>\n",
       "      <th>Gearbox</th>\n",
       "      <th>Power</th>\n",
       "      <th>Model</th>\n",
       "      <th>Kilometer</th>\n",
       "      <th>RegistrationMonth</th>\n",
       "      <th>FuelType</th>\n",
       "      <th>Brand</th>\n",
       "      <th>NotRepaired</th>\n",
       "      <th>PostalCode</th>\n",
       "    </tr>\n",
       "  </thead>\n",
       "  <tbody>\n",
       "    <tr>\n",
       "      <td>22</td>\n",
       "      <td>2900</td>\n",
       "      <td>NaN</td>\n",
       "      <td>2018</td>\n",
       "      <td>manual</td>\n",
       "      <td>90</td>\n",
       "      <td>meriva</td>\n",
       "      <td>150000</td>\n",
       "      <td>5</td>\n",
       "      <td>petrol</td>\n",
       "      <td>opel</td>\n",
       "      <td>no</td>\n",
       "      <td>49716</td>\n",
       "    </tr>\n",
       "    <tr>\n",
       "      <td>26</td>\n",
       "      <td>5555</td>\n",
       "      <td>NaN</td>\n",
       "      <td>2017</td>\n",
       "      <td>manual</td>\n",
       "      <td>125</td>\n",
       "      <td>c4</td>\n",
       "      <td>125000</td>\n",
       "      <td>4</td>\n",
       "      <td>NaN</td>\n",
       "      <td>citroen</td>\n",
       "      <td>no</td>\n",
       "      <td>31139</td>\n",
       "    </tr>\n",
       "    <tr>\n",
       "      <td>48</td>\n",
       "      <td>7750</td>\n",
       "      <td>NaN</td>\n",
       "      <td>2017</td>\n",
       "      <td>manual</td>\n",
       "      <td>80</td>\n",
       "      <td>golf</td>\n",
       "      <td>100000</td>\n",
       "      <td>1</td>\n",
       "      <td>petrol</td>\n",
       "      <td>volkswagen</td>\n",
       "      <td>NaN</td>\n",
       "      <td>48499</td>\n",
       "    </tr>\n",
       "    <tr>\n",
       "      <td>51</td>\n",
       "      <td>2000</td>\n",
       "      <td>NaN</td>\n",
       "      <td>2017</td>\n",
       "      <td>manual</td>\n",
       "      <td>90</td>\n",
       "      <td>punto</td>\n",
       "      <td>150000</td>\n",
       "      <td>11</td>\n",
       "      <td>gasoline</td>\n",
       "      <td>fiat</td>\n",
       "      <td>yes</td>\n",
       "      <td>66115</td>\n",
       "    </tr>\n",
       "    <tr>\n",
       "      <td>57</td>\n",
       "      <td>2399</td>\n",
       "      <td>NaN</td>\n",
       "      <td>2018</td>\n",
       "      <td>manual</td>\n",
       "      <td>64</td>\n",
       "      <td>other</td>\n",
       "      <td>125000</td>\n",
       "      <td>3</td>\n",
       "      <td>NaN</td>\n",
       "      <td>seat</td>\n",
       "      <td>no</td>\n",
       "      <td>33397</td>\n",
       "    </tr>\n",
       "    <tr>\n",
       "      <td>...</td>\n",
       "      <td>...</td>\n",
       "      <td>...</td>\n",
       "      <td>...</td>\n",
       "      <td>...</td>\n",
       "      <td>...</td>\n",
       "      <td>...</td>\n",
       "      <td>...</td>\n",
       "      <td>...</td>\n",
       "      <td>...</td>\n",
       "      <td>...</td>\n",
       "      <td>...</td>\n",
       "      <td>...</td>\n",
       "    </tr>\n",
       "    <tr>\n",
       "      <td>354108</td>\n",
       "      <td>3600</td>\n",
       "      <td>NaN</td>\n",
       "      <td>2017</td>\n",
       "      <td>manual</td>\n",
       "      <td>86</td>\n",
       "      <td>transit</td>\n",
       "      <td>150000</td>\n",
       "      <td>5</td>\n",
       "      <td>gasoline</td>\n",
       "      <td>ford</td>\n",
       "      <td>NaN</td>\n",
       "      <td>32339</td>\n",
       "    </tr>\n",
       "    <tr>\n",
       "      <td>354136</td>\n",
       "      <td>1000</td>\n",
       "      <td>NaN</td>\n",
       "      <td>2017</td>\n",
       "      <td>manual</td>\n",
       "      <td>101</td>\n",
       "      <td>a4</td>\n",
       "      <td>150000</td>\n",
       "      <td>9</td>\n",
       "      <td>NaN</td>\n",
       "      <td>audi</td>\n",
       "      <td>NaN</td>\n",
       "      <td>38315</td>\n",
       "    </tr>\n",
       "    <tr>\n",
       "      <td>354199</td>\n",
       "      <td>2140</td>\n",
       "      <td>NaN</td>\n",
       "      <td>2018</td>\n",
       "      <td>manual</td>\n",
       "      <td>80</td>\n",
       "      <td>fiesta</td>\n",
       "      <td>150000</td>\n",
       "      <td>6</td>\n",
       "      <td>NaN</td>\n",
       "      <td>ford</td>\n",
       "      <td>no</td>\n",
       "      <td>44866</td>\n",
       "    </tr>\n",
       "    <tr>\n",
       "      <td>354249</td>\n",
       "      <td>1250</td>\n",
       "      <td>NaN</td>\n",
       "      <td>2018</td>\n",
       "      <td>NaN</td>\n",
       "      <td>0</td>\n",
       "      <td>corsa</td>\n",
       "      <td>150000</td>\n",
       "      <td>0</td>\n",
       "      <td>petrol</td>\n",
       "      <td>opel</td>\n",
       "      <td>NaN</td>\n",
       "      <td>45527</td>\n",
       "    </tr>\n",
       "    <tr>\n",
       "      <td>354285</td>\n",
       "      <td>5000</td>\n",
       "      <td>NaN</td>\n",
       "      <td>2017</td>\n",
       "      <td>manual</td>\n",
       "      <td>120</td>\n",
       "      <td>other</td>\n",
       "      <td>150000</td>\n",
       "      <td>7</td>\n",
       "      <td>NaN</td>\n",
       "      <td>citroen</td>\n",
       "      <td>yes</td>\n",
       "      <td>15518</td>\n",
       "    </tr>\n",
       "  </tbody>\n",
       "</table>\n",
       "<p>13711 rows × 12 columns</p>\n",
       "</div>"
      ],
      "text/plain": [
       "        Price VehicleType  RegistrationYear Gearbox  Power    Model  \\\n",
       "22       2900         NaN              2018  manual     90   meriva   \n",
       "26       5555         NaN              2017  manual    125       c4   \n",
       "48       7750         NaN              2017  manual     80     golf   \n",
       "51       2000         NaN              2017  manual     90    punto   \n",
       "57       2399         NaN              2018  manual     64    other   \n",
       "...       ...         ...               ...     ...    ...      ...   \n",
       "354108   3600         NaN              2017  manual     86  transit   \n",
       "354136   1000         NaN              2017  manual    101       a4   \n",
       "354199   2140         NaN              2018  manual     80   fiesta   \n",
       "354249   1250         NaN              2018     NaN      0    corsa   \n",
       "354285   5000         NaN              2017  manual    120    other   \n",
       "\n",
       "        Kilometer  RegistrationMonth  FuelType       Brand NotRepaired  \\\n",
       "22         150000                  5    petrol        opel          no   \n",
       "26         125000                  4       NaN     citroen          no   \n",
       "48         100000                  1    petrol  volkswagen         NaN   \n",
       "51         150000                 11  gasoline        fiat         yes   \n",
       "57         125000                  3       NaN        seat          no   \n",
       "...           ...                ...       ...         ...         ...   \n",
       "354108     150000                  5  gasoline        ford         NaN   \n",
       "354136     150000                  9       NaN        audi         NaN   \n",
       "354199     150000                  6       NaN        ford          no   \n",
       "354249     150000                  0    petrol        opel         NaN   \n",
       "354285     150000                  7       NaN     citroen         yes   \n",
       "\n",
       "        PostalCode  \n",
       "22           49716  \n",
       "26           31139  \n",
       "48           48499  \n",
       "51           66115  \n",
       "57           33397  \n",
       "...            ...  \n",
       "354108       32339  \n",
       "354136       38315  \n",
       "354199       44866  \n",
       "354249       45527  \n",
       "354285       15518  \n",
       "\n",
       "[13711 rows x 12 columns]"
      ]
     },
     "execution_count": 11,
     "metadata": {},
     "output_type": "execute_result"
    }
   ],
   "source": [
    "data.query('RegistrationYear > 2016')"
   ]
  },
  {
   "cell_type": "code",
   "execution_count": 12,
   "metadata": {},
   "outputs": [
    {
     "data": {
      "text/html": [
       "<div>\n",
       "<style scoped>\n",
       "    .dataframe tbody tr th:only-of-type {\n",
       "        vertical-align: middle;\n",
       "    }\n",
       "\n",
       "    .dataframe tbody tr th {\n",
       "        vertical-align: top;\n",
       "    }\n",
       "\n",
       "    .dataframe thead th {\n",
       "        text-align: right;\n",
       "    }\n",
       "</style>\n",
       "<table border=\"1\" class=\"dataframe\">\n",
       "  <thead>\n",
       "    <tr style=\"text-align: right;\">\n",
       "      <th></th>\n",
       "      <th>Price</th>\n",
       "      <th>VehicleType</th>\n",
       "      <th>RegistrationYear</th>\n",
       "      <th>Gearbox</th>\n",
       "      <th>Power</th>\n",
       "      <th>Model</th>\n",
       "      <th>Kilometer</th>\n",
       "      <th>RegistrationMonth</th>\n",
       "      <th>FuelType</th>\n",
       "      <th>Brand</th>\n",
       "      <th>NotRepaired</th>\n",
       "      <th>PostalCode</th>\n",
       "    </tr>\n",
       "  </thead>\n",
       "  <tbody>\n",
       "    <tr>\n",
       "      <td>15</td>\n",
       "      <td>450</td>\n",
       "      <td>small</td>\n",
       "      <td>1910</td>\n",
       "      <td>NaN</td>\n",
       "      <td>0</td>\n",
       "      <td>ka</td>\n",
       "      <td>5000</td>\n",
       "      <td>0</td>\n",
       "      <td>petrol</td>\n",
       "      <td>ford</td>\n",
       "      <td>NaN</td>\n",
       "      <td>24148</td>\n",
       "    </tr>\n",
       "    <tr>\n",
       "      <td>360</td>\n",
       "      <td>10000</td>\n",
       "      <td>bus</td>\n",
       "      <td>1976</td>\n",
       "      <td>NaN</td>\n",
       "      <td>0</td>\n",
       "      <td>transporter</td>\n",
       "      <td>5000</td>\n",
       "      <td>0</td>\n",
       "      <td>petrol</td>\n",
       "      <td>volkswagen</td>\n",
       "      <td>NaN</td>\n",
       "      <td>73479</td>\n",
       "    </tr>\n",
       "    <tr>\n",
       "      <td>534</td>\n",
       "      <td>4900</td>\n",
       "      <td>convertible</td>\n",
       "      <td>1973</td>\n",
       "      <td>manual</td>\n",
       "      <td>44</td>\n",
       "      <td>kaefer</td>\n",
       "      <td>90000</td>\n",
       "      <td>4</td>\n",
       "      <td>petrol</td>\n",
       "      <td>volkswagen</td>\n",
       "      <td>no</td>\n",
       "      <td>16567</td>\n",
       "    </tr>\n",
       "    <tr>\n",
       "      <td>630</td>\n",
       "      <td>12000</td>\n",
       "      <td>sedan</td>\n",
       "      <td>1969</td>\n",
       "      <td>manual</td>\n",
       "      <td>140</td>\n",
       "      <td>s_klasse</td>\n",
       "      <td>80000</td>\n",
       "      <td>3</td>\n",
       "      <td>petrol</td>\n",
       "      <td>mercedes_benz</td>\n",
       "      <td>no</td>\n",
       "      <td>46286</td>\n",
       "    </tr>\n",
       "    <tr>\n",
       "      <td>650</td>\n",
       "      <td>15000</td>\n",
       "      <td>coupe</td>\n",
       "      <td>1971</td>\n",
       "      <td>NaN</td>\n",
       "      <td>0</td>\n",
       "      <td>NaN</td>\n",
       "      <td>5000</td>\n",
       "      <td>4</td>\n",
       "      <td>NaN</td>\n",
       "      <td>sonstige_autos</td>\n",
       "      <td>no</td>\n",
       "      <td>51145</td>\n",
       "    </tr>\n",
       "    <tr>\n",
       "      <td>...</td>\n",
       "      <td>...</td>\n",
       "      <td>...</td>\n",
       "      <td>...</td>\n",
       "      <td>...</td>\n",
       "      <td>...</td>\n",
       "      <td>...</td>\n",
       "      <td>...</td>\n",
       "      <td>...</td>\n",
       "      <td>...</td>\n",
       "      <td>...</td>\n",
       "      <td>...</td>\n",
       "      <td>...</td>\n",
       "    </tr>\n",
       "    <tr>\n",
       "      <td>353908</td>\n",
       "      <td>800</td>\n",
       "      <td>NaN</td>\n",
       "      <td>1970</td>\n",
       "      <td>NaN</td>\n",
       "      <td>0</td>\n",
       "      <td>other</td>\n",
       "      <td>150000</td>\n",
       "      <td>0</td>\n",
       "      <td>NaN</td>\n",
       "      <td>trabant</td>\n",
       "      <td>NaN</td>\n",
       "      <td>1609</td>\n",
       "    </tr>\n",
       "    <tr>\n",
       "      <td>353957</td>\n",
       "      <td>200</td>\n",
       "      <td>NaN</td>\n",
       "      <td>1910</td>\n",
       "      <td>NaN</td>\n",
       "      <td>0</td>\n",
       "      <td>NaN</td>\n",
       "      <td>5000</td>\n",
       "      <td>0</td>\n",
       "      <td>petrol</td>\n",
       "      <td>sonstige_autos</td>\n",
       "      <td>NaN</td>\n",
       "      <td>42289</td>\n",
       "    </tr>\n",
       "    <tr>\n",
       "      <td>354033</td>\n",
       "      <td>10500</td>\n",
       "      <td>convertible</td>\n",
       "      <td>1968</td>\n",
       "      <td>manual</td>\n",
       "      <td>54</td>\n",
       "      <td>other</td>\n",
       "      <td>20000</td>\n",
       "      <td>4</td>\n",
       "      <td>NaN</td>\n",
       "      <td>renault</td>\n",
       "      <td>no</td>\n",
       "      <td>63755</td>\n",
       "    </tr>\n",
       "    <tr>\n",
       "      <td>354282</td>\n",
       "      <td>16500</td>\n",
       "      <td>coupe</td>\n",
       "      <td>1973</td>\n",
       "      <td>manual</td>\n",
       "      <td>200</td>\n",
       "      <td>other</td>\n",
       "      <td>150000</td>\n",
       "      <td>6</td>\n",
       "      <td>petrol</td>\n",
       "      <td>bmw</td>\n",
       "      <td>yes</td>\n",
       "      <td>74722</td>\n",
       "    </tr>\n",
       "    <tr>\n",
       "      <td>354312</td>\n",
       "      <td>3300</td>\n",
       "      <td>coupe</td>\n",
       "      <td>1957</td>\n",
       "      <td>manual</td>\n",
       "      <td>40</td>\n",
       "      <td>other</td>\n",
       "      <td>100000</td>\n",
       "      <td>11</td>\n",
       "      <td>petrol</td>\n",
       "      <td>trabant</td>\n",
       "      <td>no</td>\n",
       "      <td>10317</td>\n",
       "    </tr>\n",
       "  </tbody>\n",
       "</table>\n",
       "<p>3113 rows × 12 columns</p>\n",
       "</div>"
      ],
      "text/plain": [
       "        Price  VehicleType  RegistrationYear Gearbox  Power        Model  \\\n",
       "15        450        small              1910     NaN      0           ka   \n",
       "360     10000          bus              1976     NaN      0  transporter   \n",
       "534      4900  convertible              1973  manual     44       kaefer   \n",
       "630     12000        sedan              1969  manual    140     s_klasse   \n",
       "650     15000        coupe              1971     NaN      0          NaN   \n",
       "...       ...          ...               ...     ...    ...          ...   \n",
       "353908    800          NaN              1970     NaN      0        other   \n",
       "353957    200          NaN              1910     NaN      0          NaN   \n",
       "354033  10500  convertible              1968  manual     54        other   \n",
       "354282  16500        coupe              1973  manual    200        other   \n",
       "354312   3300        coupe              1957  manual     40        other   \n",
       "\n",
       "        Kilometer  RegistrationMonth FuelType           Brand NotRepaired  \\\n",
       "15           5000                  0   petrol            ford         NaN   \n",
       "360          5000                  0   petrol      volkswagen         NaN   \n",
       "534         90000                  4   petrol      volkswagen          no   \n",
       "630         80000                  3   petrol   mercedes_benz          no   \n",
       "650          5000                  4      NaN  sonstige_autos          no   \n",
       "...           ...                ...      ...             ...         ...   \n",
       "353908     150000                  0      NaN         trabant         NaN   \n",
       "353957       5000                  0   petrol  sonstige_autos         NaN   \n",
       "354033      20000                  4      NaN         renault          no   \n",
       "354282     150000                  6   petrol             bmw         yes   \n",
       "354312     100000                 11   petrol         trabant          no   \n",
       "\n",
       "        PostalCode  \n",
       "15           24148  \n",
       "360          73479  \n",
       "534          16567  \n",
       "630          46286  \n",
       "650          51145  \n",
       "...            ...  \n",
       "353908        1609  \n",
       "353957       42289  \n",
       "354033       63755  \n",
       "354282       74722  \n",
       "354312       10317  \n",
       "\n",
       "[3113 rows x 12 columns]"
      ]
     },
     "execution_count": 12,
     "metadata": {},
     "output_type": "execute_result"
    }
   ],
   "source": [
    "data.query('RegistrationYear < 1980')"
   ]
  },
  {
   "cell_type": "markdown",
   "metadata": {},
   "source": [
    "С автомобилями из \"будущего\" всё понятно - такие строки придётся удалить, поскольку это явные ошибки выгрузки или ввода, достоверно восстановить эти данные не получится, а возраст авто имеет очевидное влияние на его цену. Можно было бы предположить, что это опечатки, и авто все новые - 2016 года, но по выборке видно, что у них большой пробег, так что реальный год регистрации не угадаешь.\n",
    "\n",
    "С \"ретроавтомобилями\" не всё так очевидно, вероятно, в эту выборку могли попасть и правда ретроэкзепляры, но рынок таких автомобилей характеризуется особым ценообразованием, каждый экземпляр рассматривается уже не с точки зрения формальных характеристик, а с учётом сохранности, ухоженности и \"истории\". Есть и очевидные ошибки - например, Fiat 500, якобы поставленный на учёт в 1971 г., тогда как выпуск этой модели начался в 2007.\n",
    "\n",
    "Количество таких авто почти 5%, удалим их из рассмотрения:"
   ]
  },
  {
   "cell_type": "code",
   "execution_count": 13,
   "metadata": {},
   "outputs": [],
   "source": [
    "data = data.query('2016 >= RegistrationYear >= 1980')"
   ]
  },
  {
   "cell_type": "markdown",
   "metadata": {},
   "source": [
    "В столбце **`Power`** с данными о мощности автомобиля явно аномальные значения - менее 10 л.с. или больше 1600."
   ]
  },
  {
   "cell_type": "code",
   "execution_count": 14,
   "metadata": {},
   "outputs": [
    {
     "name": "stdout",
     "output_type": "stream",
     "text": [
      "Доля аномальных значений в столбце Power: 9.8 %\n"
     ]
    }
   ],
   "source": [
    "print('Доля аномальных значений в столбце Power:', round(data.query('Power < 10 | Power > 1600')['Power'].count() / len(data) * 100, 1), '%')"
   ]
  },
  {
   "cell_type": "markdown",
   "metadata": {},
   "source": [
    "Посмотрим на графики распределения мощности в нашей выборке и зависимости цены от мощности:"
   ]
  },
  {
   "cell_type": "code",
   "execution_count": 15,
   "metadata": {
    "scrolled": true
   },
   "outputs": [
    {
     "data": {
      "image/png": "[encoded data removed]",
      "text/plain": [
       "<Figure size 504x360 with 1 Axes>"
      ]
     },
     "metadata": {
      "needs_background": "light"
     },
     "output_type": "display_data"
    }
   ],
   "source": [
    "fig, ax = plt.subplots(figsize=(7, 5))\n",
    "data['Power'].hist(bins = 2000, grid = False, color = 'teal')\n",
    "plt.title('Распределение мощности автомобилей')\n",
    "plt.xlabel('Price')\n",
    "ax.set_xlim([0, 400])\n",
    "plt.show()"
   ]
  },
  {
   "cell_type": "code",
   "execution_count": 16,
   "metadata": {},
   "outputs": [
    {
     "data": {
      "image/png": "[encoded data removed]",
      "text/plain": [
       "<Figure size 720x360 with 1 Axes>"
      ]
     },
     "metadata": {
      "needs_background": "light"
     },
     "output_type": "display_data"
    }
   ],
   "source": [
    "fig, ax = plt.subplots(figsize=(10, 5))\n",
    "ax.scatter(data['Power'], data['Price'], alpha = 0.3, color = 'teal')\n",
    "plt.title('Зависимость цены от мощности, ось X не ограничена')\n",
    "plt.xlabel('Power')\n",
    "plt.ylabel('Price')\n",
    "plt.show()"
   ]
  },
  {
   "cell_type": "markdown",
   "metadata": {},
   "source": [
    "По графику видно, что в основном цена на самые \"мощные\" экземпляры находится в нижнем диапазоне, что также говорит об ошибках в анкетах."
   ]
  },
  {
   "cell_type": "code",
   "execution_count": 17,
   "metadata": {},
   "outputs": [
    {
     "data": {
      "image/png": "[encoded data removed]",
      "text/plain": [
       "<Figure size 720x432 with 1 Axes>"
      ]
     },
     "metadata": {
      "needs_background": "light"
     },
     "output_type": "display_data"
    }
   ],
   "source": [
    "fig, ax = plt.subplots(figsize=(10, 6))\n",
    "ax.scatter(data['Power'], data['Price'], alpha = 0.3, color = 'teal')\n",
    "ax.set_xlim([0, 500])\n",
    "plt.title('Зависимость цены от мощности, до 500 л.с.')\n",
    "plt.xlabel('Power')\n",
    "plt.ylabel('Price')\n",
    "plt.show()"
   ]
  },
  {
   "cell_type": "markdown",
   "metadata": {},
   "source": [
    "Попробуем заменить аномально высокие (границу приняла за 500 л.с.) и низкие значения (менее 50 л.с.) на наиболее частые по аналогичной модели."
   ]
  },
  {
   "cell_type": "code",
   "execution_count": 19,
   "metadata": {},
   "outputs": [],
   "source": [
    "data.loc[(data['Power'] < 50) | (data['Power'] > 500), 'Power'] = np.NAN\n",
    "data['Power'] = data.groupby(['Brand', 'Model'])['Power'].apply(lambda x: x.fillna(x.mode().iat[0]))"
   ]
  },
  {
   "cell_type": "markdown",
   "metadata": {},
   "source": [
    "Посмотрим на график зависимости после замены аномалий:"
   ]
  },
  {
   "cell_type": "code",
   "execution_count": 20,
   "metadata": {},
   "outputs": [
    {
     "data": {
      "image/png": "[encoded data removed]",
      "text/plain": [
       "<Figure size 720x432 with 1 Axes>"
      ]
     },
     "metadata": {
      "needs_background": "light"
     },
     "output_type": "display_data"
    }
   ],
   "source": [
    "fig, ax = plt.subplots(figsize=(10, 6))\n",
    "ax.scatter(data['Power'], data['Price'], alpha = 0.3, color = 'teal')\n",
    "plt.title('Зависимость цены от мощности после обработки аномальных значений')\n",
    "plt.xlabel('Power')\n",
    "plt.ylabel('Price')\n",
    "plt.show()"
   ]
  },
  {
   "cell_type": "markdown",
   "metadata": {},
   "source": [
    "По графику видно, что у маломощных машин цены находятся в нижнем диапазоне (в основном до 7500 евро), мощные же машины в основном оцениваются выше этого порога. \n",
    "\n",
    "\n",
    "Нам осталось проверить, нет ли опечаток и скрытых повторов в названиях **моделей** и **марок автомобилей**:"
   ]
  },
  {
   "cell_type": "code",
   "execution_count": 21,
   "metadata": {},
   "outputs": [
    {
     "data": {
      "text/plain": [
       "array(['100', '145', '147', '156', '159', '1_reihe', '1er', '200',\n",
       "       '2_reihe', '300c', '3_reihe', '3er', '4_reihe', '500', '5_reihe',\n",
       "       '5er', '601', '6_reihe', '6er', '7er', '80', '850', '90', '900',\n",
       "       '9000', '911', 'a1', 'a2', 'a3', 'a4', 'a5', 'a6', 'a8',\n",
       "       'a_klasse', 'accord', 'agila', 'alhambra', 'almera', 'altea',\n",
       "       'amarok', 'antara', 'arosa', 'astra', 'auris', 'avensis', 'aveo',\n",
       "       'aygo', 'b_klasse', 'b_max', 'beetle', 'berlingo', 'bora',\n",
       "       'boxster', 'bravo', 'c1', 'c2', 'c3', 'c4', 'c5', 'c_klasse',\n",
       "       'c_max', 'c_reihe', 'caddy', 'calibra', 'captiva', 'carisma',\n",
       "       'carnival', 'cayenne', 'cc', 'ceed', 'charade', 'cherokee',\n",
       "       'citigo', 'civic', 'cl', 'clio', 'clk', 'clubman', 'colt', 'combo',\n",
       "       'cooper', 'cordoba', 'corolla', 'corsa', 'cr_reihe', 'croma',\n",
       "       'crossfire', 'cuore', 'cx_reihe', 'defender', 'delta', 'discovery',\n",
       "       'doblo', 'ducato', 'duster', 'e_klasse', 'elefantino', 'eos',\n",
       "       'escort', 'espace', 'exeo', 'fabia', 'fiesta', 'focus', 'forester',\n",
       "       'forfour', 'fortwo', 'fox', 'freelander', 'fusion', 'g_klasse',\n",
       "       'galant', 'galaxy', 'getz', 'gl', 'glk', 'golf', 'grand', 'i3',\n",
       "       'i_reihe', 'ibiza', 'impreza', 'insignia', 'jazz', 'jetta',\n",
       "       'jimny', 'juke', 'justy', 'ka', 'kadett', 'kaefer', 'kalina',\n",
       "       'kalos', 'kangoo', 'kappa', 'kuga', 'laguna', 'lancer', 'lanos',\n",
       "       'legacy', 'leon', 'lodgy', 'logan', 'lupo', 'lybra', 'm_klasse',\n",
       "       'm_reihe', 'materia', 'matiz', 'megane', 'meriva', 'micra', 'mii',\n",
       "       'modus', 'mondeo', 'move', 'musa', 'mustang', 'mx_reihe', 'nan',\n",
       "       'navara', 'niva', 'note', 'nubira', 'octavia', 'omega', 'one',\n",
       "       'other', 'outlander', 'pajero', 'panda', 'passat', 'phaeton',\n",
       "       'picanto', 'polo', 'primera', 'ptcruiser', 'punto', 'q3', 'q5',\n",
       "       'q7', 'qashqai', 'r19', 'range_rover', 'range_rover_evoque',\n",
       "       'range_rover_sport', 'rangerover', 'rav', 'rio', 'roadster',\n",
       "       'roomster', 'rx_reihe', 's60', 's_klasse', 's_max', 's_type',\n",
       "       'samara', 'sandero', 'santa', 'scenic', 'scirocco', 'seicento',\n",
       "       'serie_2', 'sharan', 'signum', 'sirion', 'sl', 'slk', 'sorento',\n",
       "       'spark', 'spider', 'sportage', 'sprinter', 'stilo', 'superb',\n",
       "       'swift', 'terios', 'tigra', 'tiguan', 'toledo', 'touareg',\n",
       "       'touran', 'transit', 'transporter', 'tt', 'tucson', 'twingo', 'up',\n",
       "       'v40', 'v50', 'v60', 'v70', 'v_klasse', 'vectra', 'verso', 'viano',\n",
       "       'vito', 'vivaro', 'voyager', 'wrangler', 'x_reihe', 'x_trail',\n",
       "       'x_type', 'xc_reihe', 'yaris', 'yeti', 'ypsilon', 'z_reihe',\n",
       "       'zafira'], dtype='<U18')"
      ]
     },
     "execution_count": 21,
     "metadata": {},
     "output_type": "execute_result"
    }
   ],
   "source": [
    "np.sort(data['Model'].unique().tolist())"
   ]
  },
  {
   "cell_type": "code",
   "execution_count": 22,
   "metadata": {
    "scrolled": true
   },
   "outputs": [
    {
     "data": {
      "text/plain": [
       "array(['volkswagen', 'audi', 'jeep', 'skoda', 'bmw', 'peugeot', 'ford',\n",
       "       'mazda', 'nissan', 'renault', 'mercedes_benz', 'seat', 'honda',\n",
       "       'fiat', 'opel', 'mini', 'smart', 'hyundai', 'alfa_romeo', 'subaru',\n",
       "       'volvo', 'mitsubishi', 'kia', 'suzuki', 'lancia', 'citroen',\n",
       "       'sonstige_autos', 'toyota', 'chevrolet', 'dacia', 'daihatsu',\n",
       "       'trabant', 'chrysler', 'jaguar', 'daewoo', 'rover', 'porsche',\n",
       "       'saab', 'land_rover', 'lada'], dtype=object)"
      ]
     },
     "execution_count": 22,
     "metadata": {},
     "output_type": "execute_result"
    }
   ],
   "source": [
    "data['Brand'].unique()"
   ]
  },
  {
   "cell_type": "markdown",
   "metadata": {},
   "source": [
    "В названиях марок и моделей скрытых дубликатов не обнаружено."
   ]
  },
  {
   "cell_type": "markdown",
   "metadata": {},
   "source": [
    "### Обработка пропусков\n",
    "\n",
    "Посмотрим на количество пропусков по столбцам в абсолютных значениях и в долях (напомню, в столбце `Power` у нас искусственно созданные NAN, они совпадают с теми строками, в которых пропущено название модели автомобиля): "
   ]
  },
  {
   "cell_type": "code",
   "execution_count": 23,
   "metadata": {},
   "outputs": [
    {
     "data": {
      "text/plain": [
       "Price                    0\n",
       "VehicleType          19288\n",
       "RegistrationYear         0\n",
       "Gearbox              14709\n",
       "Power                14678\n",
       "Model                14678\n",
       "Kilometer                0\n",
       "RegistrationMonth        0\n",
       "FuelType             23213\n",
       "Brand                    0\n",
       "NotRepaired          58407\n",
       "PostalCode               0\n",
       "dtype: int64"
      ]
     },
     "metadata": {},
     "output_type": "display_data"
    },
    {
     "name": "stdout",
     "output_type": "stream",
     "text": [
      "Пропуски в долях:\n"
     ]
    },
    {
     "data": {
      "text/plain": [
       "VehicleType    0.06\n",
       "Gearbox        0.05\n",
       "Power          0.05\n",
       "Model          0.05\n",
       "FuelType       0.07\n",
       "NotRepaired    0.18\n",
       "dtype: float64"
      ]
     },
     "metadata": {},
     "output_type": "display_data"
    }
   ],
   "source": [
    "display(data.isnull().sum())\n",
    "print('Пропуски в долях:')\n",
    "display(round(data[['VehicleType', 'Gearbox', 'Power', 'Model', 'FuelType', 'NotRepaired']].isnull().sum() / len(data), 2))"
   ]
  },
  {
   "cell_type": "markdown",
   "metadata": {},
   "source": [
    "В столбце **`NotRepaired`** (была машина в ремонте или нет) пропусков очень много - 18%, терять такое количество данных не хотелось бы, восстановить достоверно эту информацию по имеющимся данным не получится. Предлагается оставить пропуск как третью категорию для этого признака: авто было в ремонте/не было/данные не указаны. "
   ]
  },
  {
   "cell_type": "code",
   "execution_count": 24,
   "metadata": {},
   "outputs": [],
   "source": [
    "data['NotRepaired'] = data['NotRepaired'].fillna('-')"
   ]
  },
  {
   "cell_type": "markdown",
   "metadata": {},
   "source": [
    "Столбец **`Model`** содержит 5% пропусков, их восстановить также не получится - никак не угадаешь, какую именно из моделей указанной марки владелец выставил на продажу, а для цены этот показатель имеет ключевое значение. Предлагается удалить строки с пропусками в этом признаке."
   ]
  },
  {
   "cell_type": "code",
   "execution_count": 25,
   "metadata": {},
   "outputs": [
    {
     "data": {
      "text/plain": [
       "VehicleType    0.05\n",
       "Gearbox        0.04\n",
       "Model          0.00\n",
       "FuelType       0.06\n",
       "NotRepaired    0.00\n",
       "dtype: float64"
      ]
     },
     "metadata": {},
     "output_type": "display_data"
    }
   ],
   "source": [
    "data.dropna(subset = ['Model'], inplace = True)\n",
    "\n",
    "# Проверрим, все ли пропуски удалены\n",
    "display(round(data[['VehicleType', 'Gearbox', 'Model', 'FuelType', 'NotRepaired']].isnull().sum() / len(data), 2))"
   ]
  },
  {
   "cell_type": "markdown",
   "metadata": {},
   "source": [
    "Следующий столбец с достаточно большим количеством пропусков (6%) - **`VehicleType` (тип кузова)**. Рассмотрим данные в столбце подробнее и попробуем восстановить тип кузова по марке и модели авто."
   ]
  },
  {
   "cell_type": "code",
   "execution_count": 26,
   "metadata": {
    "scrolled": true
   },
   "outputs": [
    {
     "data": {
      "text/plain": [
       "sedan          85312\n",
       "small          74510\n",
       "wagon          61487\n",
       "bus            27259\n",
       "convertible    18718\n",
       "NaN            15825\n",
       "coupe          14285\n",
       "suv            10927\n",
       "other           2532\n",
       "Name: VehicleType, dtype: int64"
      ]
     },
     "execution_count": 26,
     "metadata": {},
     "output_type": "execute_result"
    }
   ],
   "source": [
    "perc = data['VehicleType'].value_counts(dropna=False)\n",
    "perc"
   ]
  },
  {
   "cell_type": "code",
   "execution_count": 27,
   "metadata": {
    "scrolled": true
   },
   "outputs": [
    {
     "data": {
      "text/plain": [
       "Model    Brand     \n",
       "100      audi                    [nan, wagon, sedan, coupe, convertible]\n",
       "145      alfa_romeo                    [nan, small, sedan, coupe, other]\n",
       "147      alfa_romeo             [sedan, small, wagon, coupe, nan, other]\n",
       "156      alfa_romeo             [wagon, sedan, nan, coupe, other, small]\n",
       "159      alfa_romeo                                  [sedan, wagon, nan]\n",
       "                                             ...                        \n",
       "yaris    toyota                   [small, bus, other, nan, wagon, sedan]\n",
       "yeti     skoda                                  [suv, nan, other, wagon]\n",
       "ypsilon  lancia                                [small, nan, convertible]\n",
       "z_reihe  bmw                            [convertible, coupe, nan, sedan]\n",
       "zafira   opel          [bus, nan, other, wagon, small, suv, sedan, co...\n",
       "Name: VehicleType, Length: 295, dtype: object"
      ]
     },
     "execution_count": 27,
     "metadata": {},
     "output_type": "execute_result"
    }
   ],
   "source": [
    "data.groupby(['Model', 'Brand'])['VehicleType'].unique()"
   ]
  },
  {
   "cell_type": "code",
   "execution_count": 28,
   "metadata": {},
   "outputs": [
    {
     "data": {
      "text/html": [
       "<div>\n",
       "<style scoped>\n",
       "    .dataframe tbody tr th:only-of-type {\n",
       "        vertical-align: middle;\n",
       "    }\n",
       "\n",
       "    .dataframe tbody tr th {\n",
       "        vertical-align: top;\n",
       "    }\n",
       "\n",
       "    .dataframe thead th {\n",
       "        text-align: right;\n",
       "    }\n",
       "</style>\n",
       "<table border=\"1\" class=\"dataframe\">\n",
       "  <thead>\n",
       "    <tr style=\"text-align: right;\">\n",
       "      <th></th>\n",
       "      <th>VehicleType</th>\n",
       "      <th>bus</th>\n",
       "      <th>convertible</th>\n",
       "      <th>coupe</th>\n",
       "      <th>other</th>\n",
       "      <th>sedan</th>\n",
       "      <th>small</th>\n",
       "      <th>suv</th>\n",
       "      <th>wagon</th>\n",
       "    </tr>\n",
       "    <tr>\n",
       "      <th>Model</th>\n",
       "      <th>Brand</th>\n",
       "      <th></th>\n",
       "      <th></th>\n",
       "      <th></th>\n",
       "      <th></th>\n",
       "      <th></th>\n",
       "      <th></th>\n",
       "      <th></th>\n",
       "      <th></th>\n",
       "    </tr>\n",
       "  </thead>\n",
       "  <tbody>\n",
       "    <tr>\n",
       "      <td>100</td>\n",
       "      <td>audi</td>\n",
       "      <td>0.0</td>\n",
       "      <td>1.0</td>\n",
       "      <td>1.0</td>\n",
       "      <td>0.0</td>\n",
       "      <td>248.0</td>\n",
       "      <td>0.0</td>\n",
       "      <td>0.0</td>\n",
       "      <td>103.0</td>\n",
       "    </tr>\n",
       "    <tr>\n",
       "      <td>145</td>\n",
       "      <td>alfa_romeo</td>\n",
       "      <td>0.0</td>\n",
       "      <td>0.0</td>\n",
       "      <td>2.0</td>\n",
       "      <td>1.0</td>\n",
       "      <td>12.0</td>\n",
       "      <td>19.0</td>\n",
       "      <td>0.0</td>\n",
       "      <td>0.0</td>\n",
       "    </tr>\n",
       "    <tr>\n",
       "      <td>147</td>\n",
       "      <td>alfa_romeo</td>\n",
       "      <td>0.0</td>\n",
       "      <td>0.0</td>\n",
       "      <td>26.0</td>\n",
       "      <td>6.0</td>\n",
       "      <td>358.0</td>\n",
       "      <td>93.0</td>\n",
       "      <td>0.0</td>\n",
       "      <td>2.0</td>\n",
       "    </tr>\n",
       "    <tr>\n",
       "      <td>156</td>\n",
       "      <td>alfa_romeo</td>\n",
       "      <td>0.0</td>\n",
       "      <td>0.0</td>\n",
       "      <td>3.0</td>\n",
       "      <td>1.0</td>\n",
       "      <td>267.0</td>\n",
       "      <td>2.0</td>\n",
       "      <td>0.0</td>\n",
       "      <td>281.0</td>\n",
       "    </tr>\n",
       "    <tr>\n",
       "      <td>159</td>\n",
       "      <td>alfa_romeo</td>\n",
       "      <td>0.0</td>\n",
       "      <td>0.0</td>\n",
       "      <td>0.0</td>\n",
       "      <td>0.0</td>\n",
       "      <td>55.0</td>\n",
       "      <td>0.0</td>\n",
       "      <td>0.0</td>\n",
       "      <td>144.0</td>\n",
       "    </tr>\n",
       "    <tr>\n",
       "      <td>...</td>\n",
       "      <td>...</td>\n",
       "      <td>...</td>\n",
       "      <td>...</td>\n",
       "      <td>...</td>\n",
       "      <td>...</td>\n",
       "      <td>...</td>\n",
       "      <td>...</td>\n",
       "      <td>...</td>\n",
       "      <td>...</td>\n",
       "    </tr>\n",
       "    <tr>\n",
       "      <td>yaris</td>\n",
       "      <td>toyota</td>\n",
       "      <td>42.0</td>\n",
       "      <td>0.0</td>\n",
       "      <td>0.0</td>\n",
       "      <td>3.0</td>\n",
       "      <td>27.0</td>\n",
       "      <td>879.0</td>\n",
       "      <td>0.0</td>\n",
       "      <td>7.0</td>\n",
       "    </tr>\n",
       "    <tr>\n",
       "      <td>yeti</td>\n",
       "      <td>skoda</td>\n",
       "      <td>0.0</td>\n",
       "      <td>0.0</td>\n",
       "      <td>0.0</td>\n",
       "      <td>2.0</td>\n",
       "      <td>0.0</td>\n",
       "      <td>0.0</td>\n",
       "      <td>168.0</td>\n",
       "      <td>1.0</td>\n",
       "    </tr>\n",
       "    <tr>\n",
       "      <td>ypsilon</td>\n",
       "      <td>lancia</td>\n",
       "      <td>0.0</td>\n",
       "      <td>1.0</td>\n",
       "      <td>0.0</td>\n",
       "      <td>0.0</td>\n",
       "      <td>0.0</td>\n",
       "      <td>175.0</td>\n",
       "      <td>0.0</td>\n",
       "      <td>0.0</td>\n",
       "    </tr>\n",
       "    <tr>\n",
       "      <td>z_reihe</td>\n",
       "      <td>bmw</td>\n",
       "      <td>0.0</td>\n",
       "      <td>646.0</td>\n",
       "      <td>50.0</td>\n",
       "      <td>0.0</td>\n",
       "      <td>1.0</td>\n",
       "      <td>0.0</td>\n",
       "      <td>0.0</td>\n",
       "      <td>0.0</td>\n",
       "    </tr>\n",
       "    <tr>\n",
       "      <td>zafira</td>\n",
       "      <td>opel</td>\n",
       "      <td>2364.0</td>\n",
       "      <td>1.0</td>\n",
       "      <td>1.0</td>\n",
       "      <td>22.0</td>\n",
       "      <td>22.0</td>\n",
       "      <td>11.0</td>\n",
       "      <td>7.0</td>\n",
       "      <td>223.0</td>\n",
       "    </tr>\n",
       "  </tbody>\n",
       "</table>\n",
       "<p>295 rows × 8 columns</p>\n",
       "</div>"
      ],
      "text/plain": [
       "VehicleType            bus  convertible  coupe  other  sedan  small    suv  \\\n",
       "Model   Brand                                                                \n",
       "100     audi           0.0          1.0    1.0    0.0  248.0    0.0    0.0   \n",
       "145     alfa_romeo     0.0          0.0    2.0    1.0   12.0   19.0    0.0   \n",
       "147     alfa_romeo     0.0          0.0   26.0    6.0  358.0   93.0    0.0   \n",
       "156     alfa_romeo     0.0          0.0    3.0    1.0  267.0    2.0    0.0   \n",
       "159     alfa_romeo     0.0          0.0    0.0    0.0   55.0    0.0    0.0   \n",
       "...                    ...          ...    ...    ...    ...    ...    ...   \n",
       "yaris   toyota        42.0          0.0    0.0    3.0   27.0  879.0    0.0   \n",
       "yeti    skoda          0.0          0.0    0.0    2.0    0.0    0.0  168.0   \n",
       "ypsilon lancia         0.0          1.0    0.0    0.0    0.0  175.0    0.0   \n",
       "z_reihe bmw            0.0        646.0   50.0    0.0    1.0    0.0    0.0   \n",
       "zafira  opel        2364.0          1.0    1.0   22.0   22.0   11.0    7.0   \n",
       "\n",
       "VehicleType         wagon  \n",
       "Model   Brand              \n",
       "100     audi        103.0  \n",
       "145     alfa_romeo    0.0  \n",
       "147     alfa_romeo    2.0  \n",
       "156     alfa_romeo  281.0  \n",
       "159     alfa_romeo  144.0  \n",
       "...                   ...  \n",
       "yaris   toyota        7.0  \n",
       "yeti    skoda         1.0  \n",
       "ypsilon lancia        0.0  \n",
       "z_reihe bmw           0.0  \n",
       "zafira  opel        223.0  \n",
       "\n",
       "[295 rows x 8 columns]"
      ]
     },
     "execution_count": 28,
     "metadata": {},
     "output_type": "execute_result"
    }
   ],
   "source": [
    "data.pivot_table(index=['Model', 'Brand'], columns='VehicleType', values='Price', aggfunc='count').fillna(0)"
   ]
  },
  {
   "cell_type": "markdown",
   "metadata": {},
   "source": [
    "Мы столкнулись с тем, что одна и та же марка машины может выпускаться в разных типах кузова. Кроме того, сами владельцы могут указывать близкие типы кузова по-разному. Заполним пропуски типом, наиболее часто встречающимся для конкретной марки.  "
   ]
  },
  {
   "cell_type": "code",
   "execution_count": 29,
   "metadata": {},
   "outputs": [],
   "source": [
    "# создаем столбец с маркером замены NAN\n",
    "data.loc[data['VehicleType'].isna(), 'Vehicle_nan'] = 1\n",
    "\n",
    "# замена пропуска на моду по каждой группе:\n",
    "data['VehicleType'] = data.groupby(['Brand', 'Model'])['VehicleType'].apply(lambda x: x.fillna(x.mode().iat[0]))"
   ]
  },
  {
   "cell_type": "markdown",
   "metadata": {},
   "source": [
    "Проверим, все ли пропуски заполнены, и в какой пропорции:"
   ]
  },
  {
   "cell_type": "code",
   "execution_count": 30,
   "metadata": {},
   "outputs": [
    {
     "data": {
      "text/plain": [
       "sedan          6517\n",
       "small          4816\n",
       "bus            1837\n",
       "wagon          1800\n",
       "coupe           351\n",
       "suv             337\n",
       "convertible     155\n",
       "other            12\n",
       "Name: VehicleType, dtype: int64"
      ]
     },
     "execution_count": 30,
     "metadata": {},
     "output_type": "execute_result"
    }
   ],
   "source": [
    "data.loc[data['Vehicle_nan'] == 1]['VehicleType'].value_counts(dropna=False)"
   ]
  },
  {
   "cell_type": "markdown",
   "metadata": {},
   "source": [
    "Теперь рассмотрим подробнее пропуски в данных о типе **коробки передач** (столбец **`Gearbox`**):"
   ]
  },
  {
   "cell_type": "code",
   "execution_count": 31,
   "metadata": {
    "scrolled": true
   },
   "outputs": [
    {
     "data": {
      "text/html": [
       "<div>\n",
       "<style scoped>\n",
       "    .dataframe tbody tr th:only-of-type {\n",
       "        vertical-align: middle;\n",
       "    }\n",
       "\n",
       "    .dataframe tbody tr th {\n",
       "        vertical-align: top;\n",
       "    }\n",
       "\n",
       "    .dataframe thead th {\n",
       "        text-align: right;\n",
       "    }\n",
       "</style>\n",
       "<table border=\"1\" class=\"dataframe\">\n",
       "  <thead>\n",
       "    <tr style=\"text-align: right;\">\n",
       "      <th></th>\n",
       "      <th>Price</th>\n",
       "      <th>VehicleType</th>\n",
       "      <th>RegistrationYear</th>\n",
       "      <th>Gearbox</th>\n",
       "      <th>Power</th>\n",
       "      <th>Model</th>\n",
       "      <th>Kilometer</th>\n",
       "      <th>RegistrationMonth</th>\n",
       "      <th>FuelType</th>\n",
       "      <th>Brand</th>\n",
       "      <th>NotRepaired</th>\n",
       "      <th>PostalCode</th>\n",
       "      <th>Vehicle_nan</th>\n",
       "    </tr>\n",
       "  </thead>\n",
       "  <tbody>\n",
       "    <tr>\n",
       "      <td>16</td>\n",
       "      <td>300</td>\n",
       "      <td>small</td>\n",
       "      <td>2016</td>\n",
       "      <td>NaN</td>\n",
       "      <td>60.0</td>\n",
       "      <td>polo</td>\n",
       "      <td>150000</td>\n",
       "      <td>0</td>\n",
       "      <td>petrol</td>\n",
       "      <td>volkswagen</td>\n",
       "      <td>-</td>\n",
       "      <td>38871</td>\n",
       "      <td>1.0</td>\n",
       "    </tr>\n",
       "    <tr>\n",
       "      <td>32</td>\n",
       "      <td>245</td>\n",
       "      <td>sedan</td>\n",
       "      <td>1994</td>\n",
       "      <td>NaN</td>\n",
       "      <td>75.0</td>\n",
       "      <td>golf</td>\n",
       "      <td>150000</td>\n",
       "      <td>2</td>\n",
       "      <td>petrol</td>\n",
       "      <td>volkswagen</td>\n",
       "      <td>no</td>\n",
       "      <td>44145</td>\n",
       "      <td>NaN</td>\n",
       "    </tr>\n",
       "    <tr>\n",
       "      <td>37</td>\n",
       "      <td>1500</td>\n",
       "      <td>bus</td>\n",
       "      <td>2016</td>\n",
       "      <td>NaN</td>\n",
       "      <td>75.0</td>\n",
       "      <td>kangoo</td>\n",
       "      <td>150000</td>\n",
       "      <td>1</td>\n",
       "      <td>gasoline</td>\n",
       "      <td>renault</td>\n",
       "      <td>no</td>\n",
       "      <td>46483</td>\n",
       "      <td>1.0</td>\n",
       "    </tr>\n",
       "    <tr>\n",
       "      <td>69</td>\n",
       "      <td>1200</td>\n",
       "      <td>coupe</td>\n",
       "      <td>2001</td>\n",
       "      <td>NaN</td>\n",
       "      <td>75.0</td>\n",
       "      <td>astra</td>\n",
       "      <td>150000</td>\n",
       "      <td>0</td>\n",
       "      <td>NaN</td>\n",
       "      <td>opel</td>\n",
       "      <td>-</td>\n",
       "      <td>47249</td>\n",
       "      <td>NaN</td>\n",
       "    </tr>\n",
       "    <tr>\n",
       "      <td>92</td>\n",
       "      <td>250</td>\n",
       "      <td>small</td>\n",
       "      <td>2000</td>\n",
       "      <td>NaN</td>\n",
       "      <td>60.0</td>\n",
       "      <td>ka</td>\n",
       "      <td>150000</td>\n",
       "      <td>0</td>\n",
       "      <td>NaN</td>\n",
       "      <td>ford</td>\n",
       "      <td>-</td>\n",
       "      <td>51427</td>\n",
       "      <td>1.0</td>\n",
       "    </tr>\n",
       "  </tbody>\n",
       "</table>\n",
       "</div>"
      ],
      "text/plain": [
       "    Price VehicleType  RegistrationYear Gearbox  Power   Model  Kilometer  \\\n",
       "16    300       small              2016     NaN   60.0    polo     150000   \n",
       "32    245       sedan              1994     NaN   75.0    golf     150000   \n",
       "37   1500         bus              2016     NaN   75.0  kangoo     150000   \n",
       "69   1200       coupe              2001     NaN   75.0   astra     150000   \n",
       "92    250       small              2000     NaN   60.0      ka     150000   \n",
       "\n",
       "    RegistrationMonth  FuelType       Brand NotRepaired  PostalCode  \\\n",
       "16                  0    petrol  volkswagen           -       38871   \n",
       "32                  2    petrol  volkswagen          no       44145   \n",
       "37                  1  gasoline     renault          no       46483   \n",
       "69                  0       NaN        opel           -       47249   \n",
       "92                  0       NaN        ford           -       51427   \n",
       "\n",
       "    Vehicle_nan  \n",
       "16          1.0  \n",
       "32          NaN  \n",
       "37          1.0  \n",
       "69          NaN  \n",
       "92          1.0  "
      ]
     },
     "execution_count": 31,
     "metadata": {},
     "output_type": "execute_result"
    }
   ],
   "source": [
    "data.loc[data['Gearbox'].isna()].head()"
   ]
  },
  {
   "cell_type": "code",
   "execution_count": 32,
   "metadata": {},
   "outputs": [
    {
     "data": {
      "text/plain": [
       "manual    0.768477\n",
       "auto      0.191884\n",
       "NaN       0.039639\n",
       "Name: Gearbox, dtype: float64"
      ]
     },
     "execution_count": 32,
     "metadata": {},
     "output_type": "execute_result"
    }
   ],
   "source": [
    "data['Gearbox'].value_counts(normalize=True, dropna=False)"
   ]
  },
  {
   "cell_type": "markdown",
   "metadata": {},
   "source": [
    "Одна и та же модель автомобиля, как правило, выпускается в различных комплектациях коробки передач, а её тип существенно влияет на стоимость авто. Можно было бы заполнить пропуски наиболее частым типом - ручной коробкой, однако тем самым можно ухудшить работу моделей. Поскольку пропусков в этом столбце немного - 4%, предлагается их удалить. "
   ]
  },
  {
   "cell_type": "code",
   "execution_count": 33,
   "metadata": {},
   "outputs": [
    {
     "data": {
      "text/plain": [
       "VehicleType    0.00\n",
       "Gearbox        0.00\n",
       "Model          0.00\n",
       "FuelType       0.05\n",
       "NotRepaired    0.00\n",
       "dtype: float64"
      ]
     },
     "metadata": {},
     "output_type": "display_data"
    }
   ],
   "source": [
    "data.dropna(subset = ['Gearbox'], inplace = True)\n",
    "\n",
    "display(round(data[['VehicleType', 'Gearbox', 'Model', 'FuelType', 'NotRepaired']].isnull().sum() / len(data), 2))"
   ]
  },
  {
   "cell_type": "markdown",
   "metadata": {},
   "source": [
    "У нас остался только столбец с **типом топлива (`FuelType`)**, в котором 5% пропусков. Посмотрим, какие типы в нём встречаются:"
   ]
  },
  {
   "cell_type": "code",
   "execution_count": 34,
   "metadata": {},
   "outputs": [
    {
     "data": {
      "text/plain": [
       "petrol      0.634436\n",
       "gasoline    0.298784\n",
       "NaN         0.048554\n",
       "lpg         0.015435\n",
       "cng         0.001668\n",
       "hybrid      0.000650\n",
       "other       0.000278\n",
       "electric    0.000194\n",
       "Name: FuelType, dtype: float64"
      ]
     },
     "execution_count": 34,
     "metadata": {},
     "output_type": "execute_result"
    }
   ],
   "source": [
    "data['FuelType'].value_counts(normalize=True, dropna=False)"
   ]
  },
  {
   "cell_type": "code",
   "execution_count": 35,
   "metadata": {
    "scrolled": true
   },
   "outputs": [
    {
     "data": {
      "text/html": [
       "<div>\n",
       "<style scoped>\n",
       "    .dataframe tbody tr th:only-of-type {\n",
       "        vertical-align: middle;\n",
       "    }\n",
       "\n",
       "    .dataframe tbody tr th {\n",
       "        vertical-align: top;\n",
       "    }\n",
       "\n",
       "    .dataframe thead th {\n",
       "        text-align: right;\n",
       "    }\n",
       "</style>\n",
       "<table border=\"1\" class=\"dataframe\">\n",
       "  <thead>\n",
       "    <tr style=\"text-align: right;\">\n",
       "      <th></th>\n",
       "      <th>FuelType</th>\n",
       "      <th>cng</th>\n",
       "      <th>electric</th>\n",
       "      <th>gasoline</th>\n",
       "      <th>hybrid</th>\n",
       "      <th>lpg</th>\n",
       "      <th>other</th>\n",
       "      <th>petrol</th>\n",
       "    </tr>\n",
       "    <tr>\n",
       "      <th>Model</th>\n",
       "      <th>Brand</th>\n",
       "      <th></th>\n",
       "      <th></th>\n",
       "      <th></th>\n",
       "      <th></th>\n",
       "      <th></th>\n",
       "      <th></th>\n",
       "      <th></th>\n",
       "    </tr>\n",
       "  </thead>\n",
       "  <tbody>\n",
       "    <tr>\n",
       "      <td>100</td>\n",
       "      <td>audi</td>\n",
       "      <td>0.0</td>\n",
       "      <td>0.0</td>\n",
       "      <td>14.0</td>\n",
       "      <td>0.0</td>\n",
       "      <td>8.0</td>\n",
       "      <td>0.0</td>\n",
       "      <td>315.0</td>\n",
       "    </tr>\n",
       "    <tr>\n",
       "      <td>145</td>\n",
       "      <td>alfa_romeo</td>\n",
       "      <td>0.0</td>\n",
       "      <td>0.0</td>\n",
       "      <td>0.0</td>\n",
       "      <td>0.0</td>\n",
       "      <td>0.0</td>\n",
       "      <td>0.0</td>\n",
       "      <td>36.0</td>\n",
       "    </tr>\n",
       "    <tr>\n",
       "      <td>147</td>\n",
       "      <td>alfa_romeo</td>\n",
       "      <td>0.0</td>\n",
       "      <td>0.0</td>\n",
       "      <td>126.0</td>\n",
       "      <td>0.0</td>\n",
       "      <td>13.0</td>\n",
       "      <td>0.0</td>\n",
       "      <td>358.0</td>\n",
       "    </tr>\n",
       "    <tr>\n",
       "      <td>156</td>\n",
       "      <td>alfa_romeo</td>\n",
       "      <td>0.0</td>\n",
       "      <td>0.0</td>\n",
       "      <td>176.0</td>\n",
       "      <td>0.0</td>\n",
       "      <td>15.0</td>\n",
       "      <td>0.0</td>\n",
       "      <td>333.0</td>\n",
       "    </tr>\n",
       "    <tr>\n",
       "      <td>159</td>\n",
       "      <td>alfa_romeo</td>\n",
       "      <td>0.0</td>\n",
       "      <td>0.0</td>\n",
       "      <td>138.0</td>\n",
       "      <td>0.0</td>\n",
       "      <td>0.0</td>\n",
       "      <td>0.0</td>\n",
       "      <td>57.0</td>\n",
       "    </tr>\n",
       "    <tr>\n",
       "      <td>...</td>\n",
       "      <td>...</td>\n",
       "      <td>...</td>\n",
       "      <td>...</td>\n",
       "      <td>...</td>\n",
       "      <td>...</td>\n",
       "      <td>...</td>\n",
       "      <td>...</td>\n",
       "      <td>...</td>\n",
       "    </tr>\n",
       "    <tr>\n",
       "      <td>yaris</td>\n",
       "      <td>toyota</td>\n",
       "      <td>0.0</td>\n",
       "      <td>0.0</td>\n",
       "      <td>93.0</td>\n",
       "      <td>18.0</td>\n",
       "      <td>0.0</td>\n",
       "      <td>0.0</td>\n",
       "      <td>826.0</td>\n",
       "    </tr>\n",
       "    <tr>\n",
       "      <td>yeti</td>\n",
       "      <td>skoda</td>\n",
       "      <td>0.0</td>\n",
       "      <td>0.0</td>\n",
       "      <td>83.0</td>\n",
       "      <td>0.0</td>\n",
       "      <td>0.0</td>\n",
       "      <td>0.0</td>\n",
       "      <td>86.0</td>\n",
       "    </tr>\n",
       "    <tr>\n",
       "      <td>ypsilon</td>\n",
       "      <td>lancia</td>\n",
       "      <td>0.0</td>\n",
       "      <td>0.0</td>\n",
       "      <td>6.0</td>\n",
       "      <td>0.0</td>\n",
       "      <td>1.0</td>\n",
       "      <td>0.0</td>\n",
       "      <td>162.0</td>\n",
       "    </tr>\n",
       "    <tr>\n",
       "      <td>z_reihe</td>\n",
       "      <td>bmw</td>\n",
       "      <td>0.0</td>\n",
       "      <td>0.0</td>\n",
       "      <td>1.0</td>\n",
       "      <td>0.0</td>\n",
       "      <td>9.0</td>\n",
       "      <td>0.0</td>\n",
       "      <td>667.0</td>\n",
       "    </tr>\n",
       "    <tr>\n",
       "      <td>zafira</td>\n",
       "      <td>opel</td>\n",
       "      <td>106.0</td>\n",
       "      <td>0.0</td>\n",
       "      <td>1068.0</td>\n",
       "      <td>1.0</td>\n",
       "      <td>73.0</td>\n",
       "      <td>0.0</td>\n",
       "      <td>1262.0</td>\n",
       "    </tr>\n",
       "  </tbody>\n",
       "</table>\n",
       "<p>295 rows × 7 columns</p>\n",
       "</div>"
      ],
      "text/plain": [
       "FuelType              cng  electric  gasoline  hybrid   lpg  other  petrol\n",
       "Model   Brand                                                             \n",
       "100     audi          0.0       0.0      14.0     0.0   8.0    0.0   315.0\n",
       "145     alfa_romeo    0.0       0.0       0.0     0.0   0.0    0.0    36.0\n",
       "147     alfa_romeo    0.0       0.0     126.0     0.0  13.0    0.0   358.0\n",
       "156     alfa_romeo    0.0       0.0     176.0     0.0  15.0    0.0   333.0\n",
       "159     alfa_romeo    0.0       0.0     138.0     0.0   0.0    0.0    57.0\n",
       "...                   ...       ...       ...     ...   ...    ...     ...\n",
       "yaris   toyota        0.0       0.0      93.0    18.0   0.0    0.0   826.0\n",
       "yeti    skoda         0.0       0.0      83.0     0.0   0.0    0.0    86.0\n",
       "ypsilon lancia        0.0       0.0       6.0     0.0   1.0    0.0   162.0\n",
       "z_reihe bmw           0.0       0.0       1.0     0.0   9.0    0.0   667.0\n",
       "zafira  opel        106.0       0.0    1068.0     1.0  73.0    0.0  1262.0\n",
       "\n",
       "[295 rows x 7 columns]"
      ]
     },
     "execution_count": 35,
     "metadata": {},
     "output_type": "execute_result"
    }
   ],
   "source": [
    "data.pivot_table(index=['Model', 'Brand'], columns='FuelType', values='Price', aggfunc='count').fillna(0)"
   ]
  },
  {
   "cell_type": "markdown",
   "metadata": {},
   "source": [
    "Аналогично типу кузова и коробке передач, тип топлива может отличаться от одной и той же марки. Заполним пропуски типом топлива, наиболее часто встречающимся для каждой конкретной марки автомобиля:"
   ]
  },
  {
   "cell_type": "code",
   "execution_count": 36,
   "metadata": {},
   "outputs": [],
   "source": [
    "# создаем столбец с маркером замены NAN\n",
    "data.loc[data['FuelType'].isna(), 'Fuel_nan'] = 1\n",
    "\n",
    "# замена пропуска на моду по каждой группе:\n",
    "data['FuelType'] = data.groupby(['Model','Brand'])['FuelType'].apply(lambda x: x.fillna(x.mode().iat[0]))"
   ]
  },
  {
   "cell_type": "markdown",
   "metadata": {},
   "source": [
    "Проверим, все ли пропуски заполнены, и в какой пропорции:"
   ]
  },
  {
   "cell_type": "code",
   "execution_count": 37,
   "metadata": {},
   "outputs": [
    {
     "data": {
      "text/plain": [
       "petrol      11668\n",
       "gasoline     2827\n",
       "Name: FuelType, dtype: int64"
      ]
     },
     "execution_count": 37,
     "metadata": {},
     "output_type": "execute_result"
    }
   ],
   "source": [
    "data.loc[data['Fuel_nan'] == 1]['FuelType'].value_counts(dropna=False)"
   ]
  },
  {
   "cell_type": "markdown",
   "metadata": {},
   "source": [
    "Посмотрим на структуру нашего датасета после обработки аномалий и пропусков:"
   ]
  },
  {
   "cell_type": "code",
   "execution_count": 38,
   "metadata": {},
   "outputs": [
    {
     "name": "stdout",
     "output_type": "stream",
     "text": [
      "<class 'pandas.core.frame.DataFrame'>\n",
      "Int64Index: 298533 entries, 0 to 354364\n",
      "Data columns (total 12 columns):\n",
      "Price                298533 non-null int64\n",
      "VehicleType          298533 non-null object\n",
      "RegistrationYear     298533 non-null int64\n",
      "Gearbox              298533 non-null object\n",
      "Power                298533 non-null float64\n",
      "Model                298533 non-null object\n",
      "Kilometer            298533 non-null int64\n",
      "RegistrationMonth    298533 non-null int64\n",
      "FuelType             298533 non-null object\n",
      "Brand                298533 non-null object\n",
      "NotRepaired          298533 non-null object\n",
      "PostalCode           298533 non-null int64\n",
      "dtypes: float64(1), int64(5), object(6)\n",
      "memory usage: 29.6+ MB\n"
     ]
    }
   ],
   "source": [
    "data = data.drop(columns = ['Vehicle_nan', 'Fuel_nan'])\n",
    "data.info()"
   ]
  },
  {
   "cell_type": "code",
   "execution_count": 39,
   "metadata": {},
   "outputs": [
    {
     "data": {
      "text/plain": [
       "84.2"
      ]
     },
     "execution_count": 39,
     "metadata": {},
     "output_type": "execute_result"
    }
   ],
   "source": [
    "round(len(data) / 354369 * 100, 1)"
   ]
  },
  {
   "cell_type": "markdown",
   "metadata": {},
   "source": [
    "После удаления аномальных и пропущенных значений у нас осталось 84% данных."
   ]
  },
  {
   "cell_type": "markdown",
   "metadata": {},
   "source": [
    "### Корреляционный анализ"
   ]
  },
  {
   "cell_type": "markdown",
   "metadata": {},
   "source": [
    "Проанализируем связь между количественными переменными:"
   ]
  },
  {
   "cell_type": "code",
   "execution_count": 40,
   "metadata": {},
   "outputs": [
    {
     "data": {
      "text/html": [
       "<div>\n",
       "<style scoped>\n",
       "    .dataframe tbody tr th:only-of-type {\n",
       "        vertical-align: middle;\n",
       "    }\n",
       "\n",
       "    .dataframe tbody tr th {\n",
       "        vertical-align: top;\n",
       "    }\n",
       "\n",
       "    .dataframe thead th {\n",
       "        text-align: right;\n",
       "    }\n",
       "</style>\n",
       "<table border=\"1\" class=\"dataframe\">\n",
       "  <thead>\n",
       "    <tr style=\"text-align: right;\">\n",
       "      <th></th>\n",
       "      <th>Price</th>\n",
       "      <th>RegistrationYear</th>\n",
       "      <th>Power</th>\n",
       "      <th>Kilometer</th>\n",
       "      <th>RegistrationMonth</th>\n",
       "      <th>PostalCode</th>\n",
       "    </tr>\n",
       "  </thead>\n",
       "  <tbody>\n",
       "    <tr>\n",
       "      <td>Price</td>\n",
       "      <td>1.000000</td>\n",
       "      <td>0.571071</td>\n",
       "      <td>0.513016</td>\n",
       "      <td>-0.386281</td>\n",
       "      <td>0.073674</td>\n",
       "      <td>0.069277</td>\n",
       "    </tr>\n",
       "    <tr>\n",
       "      <td>RegistrationYear</td>\n",
       "      <td>0.571071</td>\n",
       "      <td>1.000000</td>\n",
       "      <td>0.130442</td>\n",
       "      <td>-0.362891</td>\n",
       "      <td>0.045157</td>\n",
       "      <td>0.035074</td>\n",
       "    </tr>\n",
       "    <tr>\n",
       "      <td>Power</td>\n",
       "      <td>0.513016</td>\n",
       "      <td>0.130442</td>\n",
       "      <td>1.000000</td>\n",
       "      <td>0.097472</td>\n",
       "      <td>0.044041</td>\n",
       "      <td>0.057251</td>\n",
       "    </tr>\n",
       "    <tr>\n",
       "      <td>Kilometer</td>\n",
       "      <td>-0.386281</td>\n",
       "      <td>-0.362891</td>\n",
       "      <td>0.097472</td>\n",
       "      <td>1.000000</td>\n",
       "      <td>-0.016269</td>\n",
       "      <td>-0.011647</td>\n",
       "    </tr>\n",
       "    <tr>\n",
       "      <td>RegistrationMonth</td>\n",
       "      <td>0.073674</td>\n",
       "      <td>0.045157</td>\n",
       "      <td>0.044041</td>\n",
       "      <td>-0.016269</td>\n",
       "      <td>1.000000</td>\n",
       "      <td>0.005386</td>\n",
       "    </tr>\n",
       "    <tr>\n",
       "      <td>PostalCode</td>\n",
       "      <td>0.069277</td>\n",
       "      <td>0.035074</td>\n",
       "      <td>0.057251</td>\n",
       "      <td>-0.011647</td>\n",
       "      <td>0.005386</td>\n",
       "      <td>1.000000</td>\n",
       "    </tr>\n",
       "  </tbody>\n",
       "</table>\n",
       "</div>"
      ],
      "text/plain": [
       "                      Price  RegistrationYear     Power  Kilometer  \\\n",
       "Price              1.000000          0.571071  0.513016  -0.386281   \n",
       "RegistrationYear   0.571071          1.000000  0.130442  -0.362891   \n",
       "Power              0.513016          0.130442  1.000000   0.097472   \n",
       "Kilometer         -0.386281         -0.362891  0.097472   1.000000   \n",
       "RegistrationMonth  0.073674          0.045157  0.044041  -0.016269   \n",
       "PostalCode         0.069277          0.035074  0.057251  -0.011647   \n",
       "\n",
       "                   RegistrationMonth  PostalCode  \n",
       "Price                       0.073674    0.069277  \n",
       "RegistrationYear            0.045157    0.035074  \n",
       "Power                       0.044041    0.057251  \n",
       "Kilometer                  -0.016269   -0.011647  \n",
       "RegistrationMonth           1.000000    0.005386  \n",
       "PostalCode                  0.005386    1.000000  "
      ]
     },
     "execution_count": 40,
     "metadata": {},
     "output_type": "execute_result"
    }
   ],
   "source": [
    "data.corr()"
   ]
  },
  {
   "cell_type": "code",
   "execution_count": 41,
   "metadata": {
    "scrolled": true
   },
   "outputs": [
    {
     "data": {
      "image/png": "[encoded data removed]",
      "text/plain": [
       "<Figure size 360x288 with 2 Axes>"
      ]
     },
     "metadata": {
      "needs_background": "light"
     },
     "output_type": "display_data"
    }
   ],
   "source": [
    "plt.figure(figsize=(5,4))\n",
    "sns.heatmap(data.corr())\n",
    "plt.show()"
   ]
  },
  {
   "cell_type": "markdown",
   "metadata": {},
   "source": [
    "Из количественных показателей на цену автомобиля наибольшее влияние оказывают *год регистрации* (т. е., \"возраст\") автомобиля, его *мощность* и *пробег*, который сильно коррелирует с *возрастом авто* (пробовала по этой причине исключить его из признаков - качество модели ухудшилось). Меньше всего влияют на ценообразование месяц регистрации и почтовый индекс владельца (также пробовала их исключить, но с ними качество модели лучше)."
   ]
  },
  {
   "cell_type": "markdown",
   "metadata": {},
   "source": [
    "### Кодирование качественных переменных\n",
    "\n",
    "Закодируем категориальные признаки (столбцы VehicleType, Gearbox, Model, FuelType, Brand, NotRepaired) с помощью метода One-Hot Encoding:"
   ]
  },
  {
   "cell_type": "code",
   "execution_count": 42,
   "metadata": {
    "scrolled": true
   },
   "outputs": [
    {
     "data": {
      "text/html": [
       "<div>\n",
       "<style scoped>\n",
       "    .dataframe tbody tr th:only-of-type {\n",
       "        vertical-align: middle;\n",
       "    }\n",
       "\n",
       "    .dataframe tbody tr th {\n",
       "        vertical-align: top;\n",
       "    }\n",
       "\n",
       "    .dataframe thead th {\n",
       "        text-align: right;\n",
       "    }\n",
       "</style>\n",
       "<table border=\"1\" class=\"dataframe\">\n",
       "  <thead>\n",
       "    <tr style=\"text-align: right;\">\n",
       "      <th></th>\n",
       "      <th>Price</th>\n",
       "      <th>RegistrationYear</th>\n",
       "      <th>Power</th>\n",
       "      <th>Kilometer</th>\n",
       "      <th>RegistrationMonth</th>\n",
       "      <th>PostalCode</th>\n",
       "      <th>VehicleType_convertible</th>\n",
       "      <th>VehicleType_coupe</th>\n",
       "      <th>VehicleType_other</th>\n",
       "      <th>VehicleType_sedan</th>\n",
       "      <th>...</th>\n",
       "      <th>Brand_skoda</th>\n",
       "      <th>Brand_smart</th>\n",
       "      <th>Brand_subaru</th>\n",
       "      <th>Brand_suzuki</th>\n",
       "      <th>Brand_toyota</th>\n",
       "      <th>Brand_trabant</th>\n",
       "      <th>Brand_volkswagen</th>\n",
       "      <th>Brand_volvo</th>\n",
       "      <th>NotRepaired_no</th>\n",
       "      <th>NotRepaired_yes</th>\n",
       "    </tr>\n",
       "  </thead>\n",
       "  <tbody>\n",
       "    <tr>\n",
       "      <td>0</td>\n",
       "      <td>480</td>\n",
       "      <td>1993</td>\n",
       "      <td>75.0</td>\n",
       "      <td>150000</td>\n",
       "      <td>0</td>\n",
       "      <td>70435</td>\n",
       "      <td>0</td>\n",
       "      <td>0</td>\n",
       "      <td>0</td>\n",
       "      <td>1</td>\n",
       "      <td>...</td>\n",
       "      <td>0</td>\n",
       "      <td>0</td>\n",
       "      <td>0</td>\n",
       "      <td>0</td>\n",
       "      <td>0</td>\n",
       "      <td>0</td>\n",
       "      <td>1</td>\n",
       "      <td>0</td>\n",
       "      <td>0</td>\n",
       "      <td>0</td>\n",
       "    </tr>\n",
       "    <tr>\n",
       "      <td>2</td>\n",
       "      <td>9800</td>\n",
       "      <td>2004</td>\n",
       "      <td>163.0</td>\n",
       "      <td>125000</td>\n",
       "      <td>8</td>\n",
       "      <td>90480</td>\n",
       "      <td>0</td>\n",
       "      <td>0</td>\n",
       "      <td>0</td>\n",
       "      <td>0</td>\n",
       "      <td>...</td>\n",
       "      <td>0</td>\n",
       "      <td>0</td>\n",
       "      <td>0</td>\n",
       "      <td>0</td>\n",
       "      <td>0</td>\n",
       "      <td>0</td>\n",
       "      <td>0</td>\n",
       "      <td>0</td>\n",
       "      <td>0</td>\n",
       "      <td>0</td>\n",
       "    </tr>\n",
       "  </tbody>\n",
       "</table>\n",
       "<p>2 rows × 307 columns</p>\n",
       "</div>"
      ],
      "text/plain": [
       "   Price  RegistrationYear  Power  Kilometer  RegistrationMonth  PostalCode  \\\n",
       "0    480              1993   75.0     150000                  0       70435   \n",
       "2   9800              2004  163.0     125000                  8       90480   \n",
       "\n",
       "   VehicleType_convertible  VehicleType_coupe  VehicleType_other  \\\n",
       "0                        0                  0                  0   \n",
       "2                        0                  0                  0   \n",
       "\n",
       "   VehicleType_sedan  ...  Brand_skoda  Brand_smart  Brand_subaru  \\\n",
       "0                  1  ...            0            0             0   \n",
       "2                  0  ...            0            0             0   \n",
       "\n",
       "   Brand_suzuki  Brand_toyota  Brand_trabant  Brand_volkswagen  Brand_volvo  \\\n",
       "0             0             0              0                 1            0   \n",
       "2             0             0              0                 0            0   \n",
       "\n",
       "   NotRepaired_no  NotRepaired_yes  \n",
       "0               0                0  \n",
       "2               0                0  \n",
       "\n",
       "[2 rows x 307 columns]"
      ]
     },
     "execution_count": 42,
     "metadata": {},
     "output_type": "execute_result"
    }
   ],
   "source": [
    "data_ohe = pd.get_dummies(data, drop_first = True)\n",
    "data_ohe.head(2)"
   ]
  },
  {
   "cell_type": "markdown",
   "metadata": {},
   "source": [
    "В результате получили 306 столбцов с влияющими признаками."
   ]
  },
  {
   "cell_type": "markdown",
   "metadata": {},
   "source": [
    "### Вывод\n",
    "В рамках предобрботки выполнено следующее:\n",
    "- удалены из рассмотрения столбцы с датой заполнения, выгрузки, последнего просмотра анкеты, данные о количестве фотографий;\n",
    "- удалены позиции с аномальными значениями о дате регистрации автомобиля;\n",
    "- аномальные значения в столбце с мощностью автомобиля заменены на модальные значения по марке авто;\n",
    "- удалены пропуски в целевом столбце с ценой, столбцах с моделью автомобиля и типом коробки передач;\n",
    "- пропуски в столбцах с типом кузова, типом топлива заменены на модальные по аналогичной марке автомобиля;\n",
    "- произведён коррелляционный анализ между переменными;\n",
    "- качественные переменные закодированы с помощью метода OHE.\n",
    "\n",
    "В результате нам пришлось удалить около 16% исходных данных, теперь датасет содержит 298533 наблюдений, 1 целевой признак и 306 влияющих."
   ]
  },
  {
   "cell_type": "markdown",
   "metadata": {},
   "source": [
    "## Обучение моделей"
   ]
  },
  {
   "cell_type": "markdown",
   "metadata": {},
   "source": [
    "Разобъём данные на **тестовую и обучающую** выборки в соотношении 25/75:"
   ]
  },
  {
   "cell_type": "code",
   "execution_count": 43,
   "metadata": {},
   "outputs": [
    {
     "name": "stdout",
     "output_type": "stream",
     "text": [
      "Размер тренировочной выборки: (223899,)\n",
      "Размер тестовой выборки: (74634,)\n"
     ]
    }
   ],
   "source": [
    "target = data_ohe['Price']\n",
    "features = data_ohe.drop('Price', axis = 1)\n",
    "\n",
    "features_train, features_test, target_train, target_test = train_test_split(features, target, test_size = 0.25, \n",
    "                                                                           random_state = 1)\n",
    "print('Размер тренировочной выборки:', target_train.shape)\n",
    "print('Размер тестовой выборки:', target_test.shape)"
   ]
  },
  {
   "cell_type": "markdown",
   "metadata": {},
   "source": [
    "Произведём **масштабирование** количественных данных:"
   ]
  },
  {
   "cell_type": "code",
   "execution_count": 44,
   "metadata": {
    "scrolled": true
   },
   "outputs": [
    {
     "data": {
      "text/html": [
       "<div>\n",
       "<style scoped>\n",
       "    .dataframe tbody tr th:only-of-type {\n",
       "        vertical-align: middle;\n",
       "    }\n",
       "\n",
       "    .dataframe tbody tr th {\n",
       "        vertical-align: top;\n",
       "    }\n",
       "\n",
       "    .dataframe thead th {\n",
       "        text-align: right;\n",
       "    }\n",
       "</style>\n",
       "<table border=\"1\" class=\"dataframe\">\n",
       "  <thead>\n",
       "    <tr style=\"text-align: right;\">\n",
       "      <th></th>\n",
       "      <th>RegistrationYear</th>\n",
       "      <th>Power</th>\n",
       "      <th>Kilometer</th>\n",
       "      <th>RegistrationMonth</th>\n",
       "      <th>PostalCode</th>\n",
       "      <th>VehicleType_convertible</th>\n",
       "      <th>VehicleType_coupe</th>\n",
       "      <th>VehicleType_other</th>\n",
       "      <th>VehicleType_sedan</th>\n",
       "      <th>VehicleType_small</th>\n",
       "      <th>...</th>\n",
       "      <th>Brand_skoda</th>\n",
       "      <th>Brand_smart</th>\n",
       "      <th>Brand_subaru</th>\n",
       "      <th>Brand_suzuki</th>\n",
       "      <th>Brand_toyota</th>\n",
       "      <th>Brand_trabant</th>\n",
       "      <th>Brand_volkswagen</th>\n",
       "      <th>Brand_volvo</th>\n",
       "      <th>NotRepaired_no</th>\n",
       "      <th>NotRepaired_yes</th>\n",
       "    </tr>\n",
       "  </thead>\n",
       "  <tbody>\n",
       "    <tr>\n",
       "      <td>191026</td>\n",
       "      <td>-0.511729</td>\n",
       "      <td>-1.226589</td>\n",
       "      <td>0.58203</td>\n",
       "      <td>1.116511</td>\n",
       "      <td>-0.120494</td>\n",
       "      <td>0</td>\n",
       "      <td>0</td>\n",
       "      <td>0</td>\n",
       "      <td>0</td>\n",
       "      <td>1</td>\n",
       "      <td>...</td>\n",
       "      <td>0</td>\n",
       "      <td>0</td>\n",
       "      <td>0</td>\n",
       "      <td>0</td>\n",
       "      <td>0</td>\n",
       "      <td>0</td>\n",
       "      <td>0</td>\n",
       "      <td>0</td>\n",
       "      <td>0</td>\n",
       "      <td>0</td>\n",
       "    </tr>\n",
       "    <tr>\n",
       "      <td>210314</td>\n",
       "      <td>-0.850772</td>\n",
       "      <td>0.568509</td>\n",
       "      <td>0.58203</td>\n",
       "      <td>-1.104883</td>\n",
       "      <td>-0.205072</td>\n",
       "      <td>0</td>\n",
       "      <td>1</td>\n",
       "      <td>0</td>\n",
       "      <td>0</td>\n",
       "      <td>0</td>\n",
       "      <td>...</td>\n",
       "      <td>0</td>\n",
       "      <td>0</td>\n",
       "      <td>0</td>\n",
       "      <td>0</td>\n",
       "      <td>0</td>\n",
       "      <td>0</td>\n",
       "      <td>0</td>\n",
       "      <td>0</td>\n",
       "      <td>0</td>\n",
       "      <td>0</td>\n",
       "    </tr>\n",
       "    <tr>\n",
       "      <td>327479</td>\n",
       "      <td>-0.003164</td>\n",
       "      <td>-1.188396</td>\n",
       "      <td>0.58203</td>\n",
       "      <td>1.116511</td>\n",
       "      <td>0.209122</td>\n",
       "      <td>0</td>\n",
       "      <td>0</td>\n",
       "      <td>0</td>\n",
       "      <td>0</td>\n",
       "      <td>1</td>\n",
       "      <td>...</td>\n",
       "      <td>0</td>\n",
       "      <td>0</td>\n",
       "      <td>0</td>\n",
       "      <td>0</td>\n",
       "      <td>0</td>\n",
       "      <td>0</td>\n",
       "      <td>0</td>\n",
       "      <td>0</td>\n",
       "      <td>1</td>\n",
       "      <td>0</td>\n",
       "    </tr>\n",
       "  </tbody>\n",
       "</table>\n",
       "<p>3 rows × 306 columns</p>\n",
       "</div>"
      ],
      "text/plain": [
       "        RegistrationYear     Power  Kilometer  RegistrationMonth  PostalCode  \\\n",
       "191026         -0.511729 -1.226589    0.58203           1.116511   -0.120494   \n",
       "210314         -0.850772  0.568509    0.58203          -1.104883   -0.205072   \n",
       "327479         -0.003164 -1.188396    0.58203           1.116511    0.209122   \n",
       "\n",
       "        VehicleType_convertible  VehicleType_coupe  VehicleType_other  \\\n",
       "191026                        0                  0                  0   \n",
       "210314                        0                  1                  0   \n",
       "327479                        0                  0                  0   \n",
       "\n",
       "        VehicleType_sedan  VehicleType_small  ...  Brand_skoda  Brand_smart  \\\n",
       "191026                  0                  1  ...            0            0   \n",
       "210314                  0                  0  ...            0            0   \n",
       "327479                  0                  1  ...            0            0   \n",
       "\n",
       "        Brand_subaru  Brand_suzuki  Brand_toyota  Brand_trabant  \\\n",
       "191026             0             0             0              0   \n",
       "210314             0             0             0              0   \n",
       "327479             0             0             0              0   \n",
       "\n",
       "        Brand_volkswagen  Brand_volvo  NotRepaired_no  NotRepaired_yes  \n",
       "191026                 0            0               0                0  \n",
       "210314                 0            0               0                0  \n",
       "327479                 0            0               1                0  \n",
       "\n",
       "[3 rows x 306 columns]"
      ]
     },
     "metadata": {},
     "output_type": "display_data"
    },
    {
     "data": {
      "text/html": [
       "<div>\n",
       "<style scoped>\n",
       "    .dataframe tbody tr th:only-of-type {\n",
       "        vertical-align: middle;\n",
       "    }\n",
       "\n",
       "    .dataframe tbody tr th {\n",
       "        vertical-align: top;\n",
       "    }\n",
       "\n",
       "    .dataframe thead th {\n",
       "        text-align: right;\n",
       "    }\n",
       "</style>\n",
       "<table border=\"1\" class=\"dataframe\">\n",
       "  <thead>\n",
       "    <tr style=\"text-align: right;\">\n",
       "      <th></th>\n",
       "      <th>RegistrationYear</th>\n",
       "      <th>Power</th>\n",
       "      <th>Kilometer</th>\n",
       "      <th>RegistrationMonth</th>\n",
       "      <th>PostalCode</th>\n",
       "      <th>VehicleType_convertible</th>\n",
       "      <th>VehicleType_coupe</th>\n",
       "      <th>VehicleType_other</th>\n",
       "      <th>VehicleType_sedan</th>\n",
       "      <th>VehicleType_small</th>\n",
       "      <th>...</th>\n",
       "      <th>Brand_skoda</th>\n",
       "      <th>Brand_smart</th>\n",
       "      <th>Brand_subaru</th>\n",
       "      <th>Brand_suzuki</th>\n",
       "      <th>Brand_toyota</th>\n",
       "      <th>Brand_trabant</th>\n",
       "      <th>Brand_volkswagen</th>\n",
       "      <th>Brand_volvo</th>\n",
       "      <th>NotRepaired_no</th>\n",
       "      <th>NotRepaired_yes</th>\n",
       "    </tr>\n",
       "  </thead>\n",
       "  <tbody>\n",
       "    <tr>\n",
       "      <td>222797</td>\n",
       "      <td>-1.698381</td>\n",
       "      <td>-0.577299</td>\n",
       "      <td>0.58203</td>\n",
       "      <td>-0.827209</td>\n",
       "      <td>-1.460036</td>\n",
       "      <td>0</td>\n",
       "      <td>1</td>\n",
       "      <td>0</td>\n",
       "      <td>0</td>\n",
       "      <td>0</td>\n",
       "      <td>...</td>\n",
       "      <td>0</td>\n",
       "      <td>0</td>\n",
       "      <td>0</td>\n",
       "      <td>0</td>\n",
       "      <td>0</td>\n",
       "      <td>0</td>\n",
       "      <td>0</td>\n",
       "      <td>0</td>\n",
       "      <td>1</td>\n",
       "      <td>0</td>\n",
       "    </tr>\n",
       "    <tr>\n",
       "      <td>120718</td>\n",
       "      <td>0.166358</td>\n",
       "      <td>-0.978331</td>\n",
       "      <td>0.58203</td>\n",
       "      <td>-0.827209</td>\n",
       "      <td>-1.512669</td>\n",
       "      <td>0</td>\n",
       "      <td>0</td>\n",
       "      <td>0</td>\n",
       "      <td>0</td>\n",
       "      <td>1</td>\n",
       "      <td>...</td>\n",
       "      <td>0</td>\n",
       "      <td>0</td>\n",
       "      <td>0</td>\n",
       "      <td>1</td>\n",
       "      <td>0</td>\n",
       "      <td>0</td>\n",
       "      <td>0</td>\n",
       "      <td>0</td>\n",
       "      <td>0</td>\n",
       "      <td>0</td>\n",
       "    </tr>\n",
       "    <tr>\n",
       "      <td>305410</td>\n",
       "      <td>-1.020294</td>\n",
       "      <td>-1.150202</td>\n",
       "      <td>0.58203</td>\n",
       "      <td>1.394185</td>\n",
       "      <td>1.098061</td>\n",
       "      <td>0</td>\n",
       "      <td>0</td>\n",
       "      <td>0</td>\n",
       "      <td>0</td>\n",
       "      <td>1</td>\n",
       "      <td>...</td>\n",
       "      <td>0</td>\n",
       "      <td>0</td>\n",
       "      <td>0</td>\n",
       "      <td>0</td>\n",
       "      <td>0</td>\n",
       "      <td>0</td>\n",
       "      <td>1</td>\n",
       "      <td>0</td>\n",
       "      <td>1</td>\n",
       "      <td>0</td>\n",
       "    </tr>\n",
       "  </tbody>\n",
       "</table>\n",
       "<p>3 rows × 306 columns</p>\n",
       "</div>"
      ],
      "text/plain": [
       "        RegistrationYear     Power  Kilometer  RegistrationMonth  PostalCode  \\\n",
       "222797         -1.698381 -0.577299    0.58203          -0.827209   -1.460036   \n",
       "120718          0.166358 -0.978331    0.58203          -0.827209   -1.512669   \n",
       "305410         -1.020294 -1.150202    0.58203           1.394185    1.098061   \n",
       "\n",
       "        VehicleType_convertible  VehicleType_coupe  VehicleType_other  \\\n",
       "222797                        0                  1                  0   \n",
       "120718                        0                  0                  0   \n",
       "305410                        0                  0                  0   \n",
       "\n",
       "        VehicleType_sedan  VehicleType_small  ...  Brand_skoda  Brand_smart  \\\n",
       "222797                  0                  0  ...            0            0   \n",
       "120718                  0                  1  ...            0            0   \n",
       "305410                  0                  1  ...            0            0   \n",
       "\n",
       "        Brand_subaru  Brand_suzuki  Brand_toyota  Brand_trabant  \\\n",
       "222797             0             0             0              0   \n",
       "120718             0             1             0              0   \n",
       "305410             0             0             0              0   \n",
       "\n",
       "        Brand_volkswagen  Brand_volvo  NotRepaired_no  NotRepaired_yes  \n",
       "222797                 0            0               1                0  \n",
       "120718                 0            0               0                0  \n",
       "305410                 1            0               1                0  \n",
       "\n",
       "[3 rows x 306 columns]"
      ]
     },
     "metadata": {},
     "output_type": "display_data"
    }
   ],
   "source": [
    "pd.options.mode.chained_assignment = None\n",
    "numeric = ['RegistrationYear', 'Power', 'Kilometer', 'RegistrationMonth', 'PostalCode']\n",
    "scaler = StandardScaler()\n",
    "scaler.fit(features_train[numeric])\n",
    "\n",
    "features_train[numeric] = scaler.transform(features_train[numeric])\n",
    "features_test[numeric] = scaler.transform(features_test[numeric])\n",
    "\n",
    "display(features_train.head(3))\n",
    "display(features_test.head(3))"
   ]
  },
  {
   "cell_type": "markdown",
   "metadata": {},
   "source": [
    "Обучим и исследуем следующие модели: \n",
    "- случайный лес\n",
    "- линейная регрессия\n",
    "- стохастический градиентный бустинг\n",
    "\n",
    "---\n",
    "Начнём со **случайного леса**:"
   ]
  },
  {
   "cell_type": "code",
   "execution_count": 45,
   "metadata": {},
   "outputs": [],
   "source": [
    "def RMSE (target, predictions): \n",
    "    return round(mean_squared_error(target, predictions)**0.5, 0)\n",
    "rmse_score = make_scorer(RMSE, greater_is_better = False)"
   ]
  },
  {
   "cell_type": "code",
   "execution_count": 46,
   "metadata": {},
   "outputs": [
    {
     "name": "stdout",
     "output_type": "stream",
     "text": [
      "Параметры лучшего случайного леса {'n_estimators': 30, 'max_depth': 4}\n",
      "Лучшая модель случайного леса показала RMSE 2481\n",
      "CPU times: user 14min 33s, sys: 12.7 s, total: 14min 46s\n",
      "Wall time: 14min 58s\n"
     ]
    }
   ],
   "source": [
    "%%time\n",
    "forest = RandomForestRegressor(random_state=1)\n",
    "params = {'max_depth':range(1,5),\n",
    "          'n_estimators': range(10,50,10)}\n",
    "random_forest = RandomizedSearchCV(forest, params, random_state=1, \n",
    "                                   scoring = rmse_score, cv = 5)\n",
    "random_forest.fit(features_train, target_train)\n",
    "print('Параметры лучшего случайного леса', random_forest.best_params_)\n",
    "print('Лучшая модель случайного леса показала RMSE', round(-random_forest.best_score_))"
   ]
  },
  {
   "cell_type": "markdown",
   "metadata": {},
   "source": [
    "---\n",
    "Модель **линейной регрессии**:"
   ]
  },
  {
   "cell_type": "code",
   "execution_count": 47,
   "metadata": {},
   "outputs": [
    {
     "name": "stdout",
     "output_type": "stream",
     "text": [
      "Средняя оценка RMSE модели линейной регрессии: 2455\n",
      "CPU times: user 1min 41s, sys: 29.3 s, total: 2min 10s\n",
      "Wall time: 2min 11s\n"
     ]
    }
   ],
   "source": [
    "%%time\n",
    "linear = LinearRegression()\n",
    "linear.fit(features_train, target_train)\n",
    "predictions = linear.predict(features_train)\n",
    "linear_scores = cross_val_score(linear, features_train, target_train, scoring = rmse_score, cv = 5)\n",
    "print('Средняя оценка RMSE модели линейной регрессии:', - round(linear_scores.mean()))"
   ]
  },
  {
   "cell_type": "markdown",
   "metadata": {},
   "source": [
    "---\n",
    "Стохастический **градиентный бустинг**. \n",
    "Сперва построим дефолтную модель, без изменения гиперпараметров:"
   ]
  },
  {
   "cell_type": "code",
   "execution_count": 48,
   "metadata": {},
   "outputs": [
    {
     "name": "stdout",
     "output_type": "stream",
     "text": [
      "Средняя оценка RMSE модели градиентного бустинга: 1614\n",
      "CPU times: user 1min 11s, sys: 2.59 s, total: 1min 14s\n",
      "Wall time: 1min 16s\n"
     ]
    }
   ],
   "source": [
    "%%time\n",
    "boost = ltb.LGBMRegressor(random_state = 1, metric = 'rmse')\n",
    "boost.fit(features_train, target_train)\n",
    "predictions = boost.predict(features_train)\n",
    "\n",
    "boost_scores = cross_val_score(boost, features_train, target_train, scoring = rmse_score, cv = 5)\n",
    "print('Средняя оценка RMSE модели градиентного бустинга:', - round(boost_scores.mean()))"
   ]
  },
  {
   "cell_type": "markdown",
   "metadata": {},
   "source": [
    "Теперь попробуем изменить гиперпараметры модели: увеличить количество деревьев (по умолчанию - 100), ограничить максимальную глубину дерева (по умолчанию не ограничена), изменить скорость обучения (по умолчанию 0,1):"
   ]
  },
  {
   "cell_type": "code",
   "execution_count": 49,
   "metadata": {},
   "outputs": [
    {
     "name": "stdout",
     "output_type": "stream",
     "text": [
      "Параметры лучшей модели бустинга {'n_estimators': 200, 'max_depth': 10, 'learning_rate': 0.2}\n",
      "Лучшая модель бустинга показала RMSE 1535\n",
      "CPU times: user 12min 42s, sys: 20.1 s, total: 13min 2s\n",
      "Wall time: 13min 12s\n"
     ]
    }
   ],
   "source": [
    "%%time\n",
    "model = ltb.LGBMRegressor(random_state = 1, metric = 'rmse')\n",
    "params = {'max_depth':[5,10],\n",
    "          'n_estimators': [150,200],\n",
    "          'learning_rate': [0.05,0.1,0.2]}\n",
    "boost_model = RandomizedSearchCV(model, params, random_state=1, \n",
    "                                   scoring = rmse_score, cv = 5)\n",
    "boost_model.fit(features_train, target_train)\n",
    "print('Параметры лучшей модели бустинга', boost_model.best_params_)\n",
    "print('Лучшая модель бустинга показала RMSE', round(-boost_model.best_score_))"
   ]
  },
  {
   "cell_type": "markdown",
   "metadata": {},
   "source": [
    "## Анализ моделей"
   ]
  },
  {
   "cell_type": "markdown",
   "metadata": {},
   "source": [
    "Как видим, модель градиентного бустинга даже с дефолтными параметрами показала ошибку RMSE гораздо лучше, чем модели линейной регрессии и случайного леса. При этом дефолтная модель бустинга обучалась почти в 2 раза быстрее, чем модель линейной регрессии. \n",
    "Подбор параметров бустинга позволили ещё немного улучшить метрику RMSE, но при этом время обучения увеличилось более, чем в 10 раз, а метрика изменилась незначительно.\n",
    "\n",
    "Проверим все модели на тестовой выборке: "
   ]
  },
  {
   "cell_type": "code",
   "execution_count": 50,
   "metadata": {},
   "outputs": [],
   "source": [
    "def model_test (model, name):\n",
    "    test_predictions = model.predict(features_test)\n",
    "    test_RMSE = round(RMSE(target_test, test_predictions))\n",
    "    print('RMSE модели ', name, 'на тестовой выборке:', test_RMSE)"
   ]
  },
  {
   "cell_type": "code",
   "execution_count": 51,
   "metadata": {},
   "outputs": [
    {
     "name": "stdout",
     "output_type": "stream",
     "text": [
      "RMSE модели  случайный лес на тестовой выборке: 2459\n",
      "CPU times: user 175 ms, sys: 61.4 ms, total: 237 ms\n",
      "Wall time: 283 ms\n"
     ]
    }
   ],
   "source": [
    "%%time\n",
    "model_test(random_forest, 'случайный лес')"
   ]
  },
  {
   "cell_type": "code",
   "execution_count": 52,
   "metadata": {},
   "outputs": [
    {
     "name": "stdout",
     "output_type": "stream",
     "text": [
      "RMSE модели  линейная регрессия на тестовой выборке: 2447\n",
      "CPU times: user 76.9 ms, sys: 81.5 ms, total: 158 ms\n",
      "Wall time: 166 ms\n"
     ]
    }
   ],
   "source": [
    "%%time\n",
    "model_test(linear, 'линейная регрессия')"
   ]
  },
  {
   "cell_type": "code",
   "execution_count": 53,
   "metadata": {},
   "outputs": [
    {
     "name": "stdout",
     "output_type": "stream",
     "text": [
      "RMSE модели  градиентный бустинг (дефолтная) на тестовой выборке: 1611\n",
      "CPU times: user 1.21 s, sys: 122 ms, total: 1.33 s\n",
      "Wall time: 1.32 s\n"
     ]
    }
   ],
   "source": [
    "%%time\n",
    "model_test(boost, 'градиентный бустинг (дефолтная)')"
   ]
  },
  {
   "cell_type": "code",
   "execution_count": 54,
   "metadata": {},
   "outputs": [
    {
     "name": "stdout",
     "output_type": "stream",
     "text": [
      "RMSE модели  градиентный бустинг (с подбором параметров) на тестовой выборке: 1536\n",
      "CPU times: user 1.9 s, sys: 109 ms, total: 2 s\n",
      "Wall time: 1.99 s\n"
     ]
    }
   ],
   "source": [
    "%%time\n",
    "model_test(boost_model, 'градиентный бустинг (с подбором параметров)')"
   ]
  },
  {
   "cell_type": "markdown",
   "metadata": {},
   "source": [
    "Сравним качество наших моделей с качеством константной модели, заполненной медианными значениями:"
   ]
  },
  {
   "cell_type": "code",
   "execution_count": 55,
   "metadata": {},
   "outputs": [
    {
     "name": "stdout",
     "output_type": "stream",
     "text": [
      "Константная модель показывает RMSE 4559.0\n"
     ]
    }
   ],
   "source": [
    "dummy_regr = DummyRegressor(strategy=\"mean\")\n",
    "dummy_regr.fit(features_train, target_train)\n",
    "dummy_predictions = dummy_regr.predict(features_test)\n",
    "dummy_rmse = RMSE(target_test, dummy_predictions)\n",
    "print('Константная модель показывает RMSE', dummy_rmse)"
   ]
  },
  {
   "cell_type": "markdown",
   "metadata": {},
   "source": [
    "Несмотря на то, что ошибка RMSE у наших моделей достаточно высокая (относительно медианных значений целевого признака), все модели показывают результат гораздо лучше константной. Высокие показатели RMSE можно объяснить большим размахом цен на автомобили в анализируемом датасете. \n",
    "\n",
    "Объединим полученные результаты по всем моделям:"
   ]
  },
  {
   "cell_type": "code",
   "execution_count": 57,
   "metadata": {
    "scrolled": true
   },
   "outputs": [
    {
     "data": {
      "text/html": [
       "<div>\n",
       "<style scoped>\n",
       "    .dataframe tbody tr th:only-of-type {\n",
       "        vertical-align: middle;\n",
       "    }\n",
       "\n",
       "    .dataframe tbody tr th {\n",
       "        vertical-align: top;\n",
       "    }\n",
       "\n",
       "    .dataframe thead th {\n",
       "        text-align: right;\n",
       "    }\n",
       "</style>\n",
       "<table border=\"1\" class=\"dataframe\">\n",
       "  <thead>\n",
       "    <tr style=\"text-align: right;\">\n",
       "      <th></th>\n",
       "      <th>Random forest</th>\n",
       "      <th>Linear regression</th>\n",
       "      <th>LGBMR (default)</th>\n",
       "      <th>LGBMR</th>\n",
       "    </tr>\n",
       "  </thead>\n",
       "  <tbody>\n",
       "    <tr>\n",
       "      <td>RMSE на обучении</td>\n",
       "      <td>2480.6</td>\n",
       "      <td>2455.0</td>\n",
       "      <td>1613.8</td>\n",
       "      <td>1534.8</td>\n",
       "    </tr>\n",
       "    <tr>\n",
       "      <td>RMSE на тесте</td>\n",
       "      <td>2459.0</td>\n",
       "      <td>2447.0</td>\n",
       "      <td>1611.0</td>\n",
       "      <td>1536.0</td>\n",
       "    </tr>\n",
       "    <tr>\n",
       "      <td>Время обучения, мин.</td>\n",
       "      <td>15.0</td>\n",
       "      <td>2.0</td>\n",
       "      <td>1.0</td>\n",
       "      <td>13.0</td>\n",
       "    </tr>\n",
       "    <tr>\n",
       "      <td>Скорость предсказания, сек.</td>\n",
       "      <td>0.3</td>\n",
       "      <td>0.1</td>\n",
       "      <td>1.3</td>\n",
       "      <td>2.0</td>\n",
       "    </tr>\n",
       "  </tbody>\n",
       "</table>\n",
       "</div>"
      ],
      "text/plain": [
       "                             Random forest  Linear regression  \\\n",
       "RMSE на обучении                    2480.6             2455.0   \n",
       "RMSE на тесте                       2459.0             2447.0   \n",
       "Время обучения, мин.                  15.0                2.0   \n",
       "Скорость предсказания, сек.            0.3                0.1   \n",
       "\n",
       "                             LGBMR (default)   LGBMR  \n",
       "RMSE на обучении                      1613.8  1534.8  \n",
       "RMSE на тесте                         1611.0  1536.0  \n",
       "Время обучения, мин.                     1.0    13.0  \n",
       "Скорость предсказания, сек.              1.3     2.0  "
      ]
     },
     "execution_count": 57,
     "metadata": {},
     "output_type": "execute_result"
    }
   ],
   "source": [
    "result_table = pd.DataFrame([[-random_forest.best_score_, -linear_scores.mean(), -boost_scores.mean(), \n",
    "                              -boost_model.best_score_],\n",
    "                            [2459, 2447, 1611, 1536],\n",
    "                            [15, 2, 1, 13],\n",
    "                            [0.3, 0.12, 1.3, 2]],\n",
    "                            columns = ['Random forest', 'Linear regression', 'LGBMR (default)', 'LGBMR'],\n",
    "                            index = ['RMSE на обучении', 'RMSE на тесте', 'Время обучения, мин.', 'Скорость предсказания, сек.'])\n",
    "round(result_table, 1)                           "
   ]
  },
  {
   "cell_type": "markdown",
   "metadata": {},
   "source": [
    "Проанализируем результаты работы лучшей модели (дефолтный градиентный бустинг) с точки зрения влияния переменных на целевой признак:"
   ]
  },
  {
   "cell_type": "code",
   "execution_count": 125,
   "metadata": {},
   "outputs": [
    {
     "data": {
      "text/plain": [
       "Model                658\n",
       "Brand                592\n",
       "RegistrationYear     549\n",
       "Power                479\n",
       "VehicleType          218\n",
       "Kilometer            204\n",
       "NotRepaired           86\n",
       "PostalCode            86\n",
       "FuelType              68\n",
       "RegistrationMonth     31\n",
       "Gearbox               29\n",
       "dtype: int64"
      ]
     },
     "execution_count": 125,
     "metadata": {},
     "output_type": "execute_result"
    }
   ],
   "source": [
    "importances = pd.Series(boost.feature_importances_, index = features_test.columns).sort_values(ascending = False)\n",
    "\n",
    "# исходные названия признаков:\n",
    "features = ['RegistrationYear', 'Power', 'Kilometer', 'RegistrationMonth', 'PostalCode', \n",
    "           'VehicleType', 'Gearbox', 'Model', 'FuelType', 'Brand', 'NotRepaired']\n",
    "# суммируем значения для каждого качественного признака:\n",
    "importances['VehicleType'] = importances[importances.index.str.contains(r\"^VehicleType\")].sum()\n",
    "importances['Gearbox'] = importances[importances.index.str.contains(r\"^Gearbox\")].sum()\n",
    "importances['Model'] = importances[importances.index.str.contains(r\"^Model\")].sum()\n",
    "importances['FuelType'] = importances[importances.index.str.contains(r\"^FuelType\")].sum()\n",
    "importances['Brand'] = importances[importances.index.str.contains(r\"^Brand\")].sum()\n",
    "importances['NotRepaired'] = importances[importances.index.str.contains(r\"^NotRepaired\")].sum()\n",
    "\n",
    "importances = importances[features].sort_values(ascending = False)\n",
    "importances"
   ]
  },
  {
   "cell_type": "code",
   "execution_count": 122,
   "metadata": {},
   "outputs": [
    {
     "data": {
      "image/png": "[encoded data removed]",
      "text/plain": [
       "<Figure size 720x360 with 1 Axes>"
      ]
     },
     "metadata": {
      "needs_background": "light"
     },
     "output_type": "display_data"
    }
   ],
   "source": [
    "plt.figure(figsize=(10, 5))\n",
    "bar = plt.bar(importances.index, importances)\n",
    "bar[0].set_color('g')\n",
    "plt.title('Влияние признаков')\n",
    "plt.xticks(rotation = 90)\n",
    "plt.show()"
   ]
  },
  {
   "cell_type": "markdown",
   "metadata": {},
   "source": [
    "Как видим, наибольшее влияние на формирование цены оказывает марка и модель машины и её возраст. Затем идут мощность, тип кузова и прочие характеристики. Удивляет, что факт ремонта оказывает небольшое влияние, а коробка передач оказалась наименее важной характеристикой в модели - даже менее важной, чем месяц регистрации. "
   ]
  },
  {
   "cell_type": "markdown",
   "metadata": {},
   "source": [
    "## Вывод\n",
    "Заказчиком была поставлена задача разработки модели для предсказания стоимости автомобилей с пробегом по характеристикам, указанным продавцом в анкете. Критерии выбора модели: качество и скорость работы. В качестве оценки качества применялась метрика RMSE.\n",
    "\n",
    "В рамках проекта было обучено 4 модели:\n",
    "- случайный лес\n",
    "- линейная регрессия\n",
    "- стохастический градиентный бустинг с дефолтными параметрами\n",
    "- стохастический градиентный бустинг с подбором гиперпараметров\n",
    "\n",
    "С точки зрения соотношения времени обучения и качества лучшие результаты показала **дефолтная модель градиентного бустинга**: RMSE на тестовой выборке 1653, время обучения - около 1 минуты. Подбор гиперпараметров для модели бустинга позволяет улучшить метрику RMSE на 5%, но скорость обучения модели падает более чем в десять раз по сравнению с дефолтной моделью. \n",
    "С точки зрения скорости предсказания разница во времени не существенна, поскольку все модели работают в пределах 3 секунд. \n",
    "\n",
    "**Поскольку в данном проекте для заказчика важны и качество, и скорость работы модели, рекомендуется использовать для предсказания дефолтную модель градиентного бустинга.**"
   ]
  }
 ],
 "metadata": {
  "ExecuteTimeLog": [
   {
    "duration": 650,
    "start_time": "2021-10-28T04:34:04.664Z"
   },
   {
    "duration": 807,
    "start_time": "2021-10-28T04:35:50.181Z"
   },
   {
    "duration": 851,
    "start_time": "2021-10-28T04:35:56.797Z"
   },
   {
    "duration": 14,
    "start_time": "2021-10-28T04:36:19.392Z"
   },
   {
    "duration": 117,
    "start_time": "2021-10-28T04:36:26.402Z"
   },
   {
    "duration": 750,
    "start_time": "2021-10-28T04:37:21.461Z"
   },
   {
    "duration": 409,
    "start_time": "2021-10-28T04:52:45.336Z"
   },
   {
    "duration": 337,
    "start_time": "2021-10-28T04:54:05.366Z"
   },
   {
    "duration": 388,
    "start_time": "2021-10-28T04:58:51.263Z"
   },
   {
    "duration": 352,
    "start_time": "2021-10-28T04:58:55.324Z"
   },
   {
    "duration": 340,
    "start_time": "2021-10-28T04:59:02.445Z"
   },
   {
    "duration": 6,
    "start_time": "2021-10-28T04:59:20.181Z"
   },
   {
    "duration": 354,
    "start_time": "2021-10-28T04:59:28.797Z"
   },
   {
    "duration": 352,
    "start_time": "2021-10-28T05:00:43.956Z"
   },
   {
    "duration": 339,
    "start_time": "2021-10-28T05:00:46.952Z"
   },
   {
    "duration": 15,
    "start_time": "2021-10-28T05:01:21.108Z"
   },
   {
    "duration": 92,
    "start_time": "2021-10-28T05:01:41.301Z"
   },
   {
    "duration": 5,
    "start_time": "2021-10-28T05:03:50.069Z"
   },
   {
    "duration": 115,
    "start_time": "2021-10-28T05:04:59.149Z"
   },
   {
    "duration": 339,
    "start_time": "2021-10-28T05:06:07.107Z"
   },
   {
    "duration": 551,
    "start_time": "2021-10-28T05:06:09.925Z"
   },
   {
    "duration": 4,
    "start_time": "2021-10-28T05:06:16.587Z"
   },
   {
    "duration": 119,
    "start_time": "2021-10-28T05:06:24.428Z"
   },
   {
    "duration": 226,
    "start_time": "2021-10-28T05:07:39.633Z"
   },
   {
    "duration": 117,
    "start_time": "2021-10-28T05:08:26.397Z"
   },
   {
    "duration": 232,
    "start_time": "2021-10-28T05:08:30.435Z"
   },
   {
    "duration": 231,
    "start_time": "2021-10-28T05:08:41.494Z"
   },
   {
    "duration": 229,
    "start_time": "2021-10-28T05:08:51.162Z"
   },
   {
    "duration": 235,
    "start_time": "2021-10-28T05:09:02.359Z"
   },
   {
    "duration": 1012,
    "start_time": "2021-10-28T05:09:57.028Z"
   },
   {
    "duration": 193,
    "start_time": "2021-10-28T05:10:02.243Z"
   },
   {
    "duration": 2,
    "start_time": "2021-10-28T05:13:45.188Z"
   },
   {
    "duration": 40,
    "start_time": "2021-10-28T05:17:53.536Z"
   },
   {
    "duration": 361,
    "start_time": "2021-10-28T05:24:58.430Z"
   },
   {
    "duration": 331,
    "start_time": "2021-10-28T05:25:11.546Z"
   },
   {
    "duration": 5,
    "start_time": "2021-10-28T05:25:34.267Z"
   },
   {
    "duration": 5,
    "start_time": "2021-10-28T05:25:39.481Z"
   },
   {
    "duration": 64,
    "start_time": "2021-10-28T05:25:55.858Z"
   },
   {
    "duration": 181,
    "start_time": "2021-10-28T05:26:25.863Z"
   },
   {
    "duration": 657,
    "start_time": "2021-10-28T05:28:02.500Z"
   },
   {
    "duration": 31,
    "start_time": "2021-10-28T05:28:08.673Z"
   },
   {
    "duration": 15,
    "start_time": "2021-10-28T05:28:37.215Z"
   },
   {
    "duration": 368,
    "start_time": "2021-10-28T05:29:06.980Z"
   },
   {
    "duration": 35,
    "start_time": "2021-10-28T05:29:12.704Z"
   },
   {
    "duration": 111,
    "start_time": "2021-10-28T05:31:48.389Z"
   },
   {
    "duration": 1307,
    "start_time": "2021-10-28T05:33:09.241Z"
   },
   {
    "duration": 2594,
    "start_time": "2021-10-28T05:33:30.659Z"
   },
   {
    "duration": 1279,
    "start_time": "2021-10-28T05:33:37.355Z"
   },
   {
    "duration": 124,
    "start_time": "2021-10-28T05:42:15.363Z"
   },
   {
    "duration": 437,
    "start_time": "2021-10-28T05:42:19.731Z"
   },
   {
    "duration": 346,
    "start_time": "2021-10-28T05:42:57.857Z"
   },
   {
    "duration": 115,
    "start_time": "2021-10-28T05:43:20.475Z"
   },
   {
    "duration": 112,
    "start_time": "2021-10-28T05:47:04.068Z"
   },
   {
    "duration": 100,
    "start_time": "2021-10-28T05:47:11.310Z"
   },
   {
    "duration": 104,
    "start_time": "2021-10-28T05:47:37.845Z"
   },
   {
    "duration": 100,
    "start_time": "2021-10-28T05:47:42.235Z"
   },
   {
    "duration": 433,
    "start_time": "2021-10-28T05:47:58.044Z"
   },
   {
    "duration": 442,
    "start_time": "2021-10-28T05:48:12.489Z"
   },
   {
    "duration": 432,
    "start_time": "2021-10-28T05:48:15.875Z"
   },
   {
    "duration": 98,
    "start_time": "2021-10-28T05:48:19.379Z"
   },
   {
    "duration": 195,
    "start_time": "2021-10-28T05:49:54.594Z"
   },
   {
    "duration": 101,
    "start_time": "2021-10-28T05:50:08.392Z"
   },
   {
    "duration": 2,
    "start_time": "2021-10-28T05:51:52.893Z"
   },
   {
    "duration": 101,
    "start_time": "2021-10-28T05:51:58.445Z"
   },
   {
    "duration": 104,
    "start_time": "2021-10-28T05:52:04.628Z"
   },
   {
    "duration": 110,
    "start_time": "2021-10-28T05:52:12.951Z"
   },
   {
    "duration": 121,
    "start_time": "2021-10-28T05:53:06.224Z"
   },
   {
    "duration": 101,
    "start_time": "2021-10-28T05:53:26.874Z"
   },
   {
    "duration": 104,
    "start_time": "2021-10-28T05:53:31.794Z"
   },
   {
    "duration": 103,
    "start_time": "2021-10-28T05:53:54.690Z"
   },
   {
    "duration": 102,
    "start_time": "2021-10-28T05:54:10.000Z"
   },
   {
    "duration": 417,
    "start_time": "2021-10-28T05:54:27.739Z"
   },
   {
    "duration": 101,
    "start_time": "2021-10-28T05:54:43.147Z"
   },
   {
    "duration": 104,
    "start_time": "2021-10-28T05:55:56.845Z"
   },
   {
    "duration": 102,
    "start_time": "2021-10-28T05:56:01.323Z"
   },
   {
    "duration": 55,
    "start_time": "2021-10-28T06:09:36.103Z"
   },
   {
    "duration": 84,
    "start_time": "2021-10-28T06:10:01.695Z"
   },
   {
    "duration": 71,
    "start_time": "2021-10-28T06:10:27.809Z"
   },
   {
    "duration": 128,
    "start_time": "2021-10-28T06:11:11.365Z"
   },
   {
    "duration": 31,
    "start_time": "2021-10-28T06:13:49.068Z"
   },
   {
    "duration": 96,
    "start_time": "2021-10-28T06:14:47.135Z"
   },
   {
    "duration": 95,
    "start_time": "2021-10-28T06:15:58.937Z"
   },
   {
    "duration": 40,
    "start_time": "2021-10-28T06:19:43.258Z"
   },
   {
    "duration": 34,
    "start_time": "2021-10-28T06:23:42.654Z"
   },
   {
    "duration": 37,
    "start_time": "2021-10-28T06:23:50.389Z"
   },
   {
    "duration": 31,
    "start_time": "2021-10-28T06:23:55.336Z"
   },
   {
    "duration": 31,
    "start_time": "2021-10-28T06:24:01.379Z"
   },
   {
    "duration": 34,
    "start_time": "2021-10-28T06:25:34.906Z"
   },
   {
    "duration": 21,
    "start_time": "2021-10-28T06:26:32.511Z"
   },
   {
    "duration": 25,
    "start_time": "2021-10-28T06:26:51.373Z"
   },
   {
    "duration": 31,
    "start_time": "2021-10-28T06:27:48.923Z"
   },
   {
    "duration": 35,
    "start_time": "2021-10-28T06:32:49.673Z"
   },
   {
    "duration": 35,
    "start_time": "2021-10-28T06:33:11.803Z"
   },
   {
    "duration": 33,
    "start_time": "2021-10-28T06:34:15.463Z"
   },
   {
    "duration": 61,
    "start_time": "2021-10-28T06:38:59.238Z"
   },
   {
    "duration": 124,
    "start_time": "2021-10-28T06:39:16.415Z"
   },
   {
    "duration": 37,
    "start_time": "2021-10-28T06:39:59.992Z"
   },
   {
    "duration": 93,
    "start_time": "2021-10-28T06:47:28.873Z"
   },
   {
    "duration": 107,
    "start_time": "2021-10-28T06:52:10.374Z"
   },
   {
    "duration": 101,
    "start_time": "2021-10-28T06:55:17.705Z"
   },
   {
    "duration": 88,
    "start_time": "2021-10-28T06:56:04.207Z"
   },
   {
    "duration": 39,
    "start_time": "2021-10-28T06:57:52.176Z"
   },
   {
    "duration": 25,
    "start_time": "2021-10-28T06:58:20.316Z"
   },
   {
    "duration": 40,
    "start_time": "2021-10-28T06:58:33.737Z"
   },
   {
    "duration": 25,
    "start_time": "2021-10-28T06:59:33.207Z"
   },
   {
    "duration": 18,
    "start_time": "2021-10-28T06:59:58.072Z"
   },
   {
    "duration": 59,
    "start_time": "2021-10-28T07:00:12.630Z"
   },
   {
    "duration": 59,
    "start_time": "2021-10-28T07:00:36.049Z"
   },
   {
    "duration": 1553,
    "start_time": "2021-10-28T07:02:40.072Z"
   },
   {
    "duration": 342,
    "start_time": "2021-10-28T07:03:07.230Z"
   },
   {
    "duration": 20,
    "start_time": "2021-10-28T07:03:11.453Z"
   },
   {
    "duration": 85875,
    "start_time": "2021-10-28T07:03:17.768Z"
   },
   {
    "duration": 6987,
    "start_time": "2021-10-28T07:05:53.112Z"
   },
   {
    "duration": 8706,
    "start_time": "2021-10-28T07:06:07.396Z"
   },
   {
    "duration": 333,
    "start_time": "2021-10-28T07:06:17.882Z"
   },
   {
    "duration": 380,
    "start_time": "2021-10-28T07:06:41.908Z"
   },
   {
    "duration": 355,
    "start_time": "2021-10-28T07:06:50.074Z"
   },
   {
    "duration": 36,
    "start_time": "2021-10-28T07:07:12.782Z"
   },
   {
    "duration": 15,
    "start_time": "2021-10-28T07:09:10.120Z"
   },
   {
    "duration": 523,
    "start_time": "2021-10-28T07:10:07.304Z"
   },
   {
    "duration": 6670,
    "start_time": "2021-10-28T07:10:33.095Z"
   },
   {
    "duration": 409,
    "start_time": "2021-10-28T07:10:52.251Z"
   },
   {
    "duration": 1637,
    "start_time": "2021-10-28T07:11:19.572Z"
   },
   {
    "duration": 375,
    "start_time": "2021-10-28T07:13:05.096Z"
   },
   {
    "duration": 677,
    "start_time": "2021-10-28T07:13:31.636Z"
   },
   {
    "duration": 3,
    "start_time": "2021-10-28T07:13:42.190Z"
   },
   {
    "duration": 788,
    "start_time": "2021-10-28T07:13:42.195Z"
   },
   {
    "duration": 126,
    "start_time": "2021-10-28T07:13:42.985Z"
   },
   {
    "duration": 103,
    "start_time": "2021-10-28T07:13:43.114Z"
   },
   {
    "duration": 202,
    "start_time": "2021-10-28T07:13:43.219Z"
   },
   {
    "duration": 140,
    "start_time": "2021-10-28T07:13:43.423Z"
   },
   {
    "duration": 31,
    "start_time": "2021-10-28T07:13:43.564Z"
   },
   {
    "duration": 196,
    "start_time": "2021-10-28T07:13:43.598Z"
   },
   {
    "duration": 117,
    "start_time": "2021-10-28T07:13:43.796Z"
   },
   {
    "duration": 119,
    "start_time": "2021-10-28T07:13:43.915Z"
   },
   {
    "duration": 41,
    "start_time": "2021-10-28T07:13:44.036Z"
   },
   {
    "duration": 33,
    "start_time": "2021-10-28T07:13:44.079Z"
   },
   {
    "duration": 143,
    "start_time": "2021-10-28T07:13:44.113Z"
   },
   {
    "duration": 36,
    "start_time": "2021-10-28T07:13:44.257Z"
   },
   {
    "duration": 102,
    "start_time": "2021-10-28T07:13:44.295Z"
   },
   {
    "duration": 123,
    "start_time": "2021-10-28T07:13:44.399Z"
   },
   {
    "duration": 44,
    "start_time": "2021-10-28T07:13:44.523Z"
   },
   {
    "duration": 383,
    "start_time": "2021-10-28T07:13:57.405Z"
   },
   {
    "duration": 327,
    "start_time": "2021-10-28T07:16:33.374Z"
   },
   {
    "duration": 43,
    "start_time": "2021-10-28T07:16:37.618Z"
   },
   {
    "duration": 32,
    "start_time": "2021-10-28T07:17:03.409Z"
   },
   {
    "duration": 349,
    "start_time": "2021-10-28T07:17:31.535Z"
   },
   {
    "duration": 32,
    "start_time": "2021-10-28T07:17:36.993Z"
   },
   {
    "duration": 5207,
    "start_time": "2021-10-28T07:18:11.937Z"
   },
   {
    "duration": 40,
    "start_time": "2021-10-28T07:18:17.146Z"
   },
   {
    "duration": 23,
    "start_time": "2021-10-28T07:18:43.725Z"
   },
   {
    "duration": 19,
    "start_time": "2021-10-28T07:19:08.342Z"
   },
   {
    "duration": 19,
    "start_time": "2021-10-28T07:19:48.723Z"
   },
   {
    "duration": 5064,
    "start_time": "2021-10-28T07:22:24.572Z"
   },
   {
    "duration": 18,
    "start_time": "2021-10-28T07:22:33.417Z"
   },
   {
    "duration": 31,
    "start_time": "2021-10-28T07:23:11.918Z"
   },
   {
    "duration": 5288,
    "start_time": "2021-10-28T07:27:43.546Z"
   },
   {
    "duration": 5133,
    "start_time": "2021-10-28T07:27:49.670Z"
   },
   {
    "duration": 5338,
    "start_time": "2021-10-28T07:33:20.811Z"
   },
   {
    "duration": 20,
    "start_time": "2021-10-28T07:34:48.062Z"
   },
   {
    "duration": 357,
    "start_time": "2021-10-28T07:35:21.960Z"
   },
   {
    "duration": 20,
    "start_time": "2021-10-28T07:35:24.287Z"
   },
   {
    "duration": 19,
    "start_time": "2021-10-28T07:35:28.117Z"
   },
   {
    "duration": 293,
    "start_time": "2021-10-28T07:36:11.225Z"
   },
   {
    "duration": 21,
    "start_time": "2021-10-28T07:36:12.959Z"
   },
   {
    "duration": 5339,
    "start_time": "2021-10-28T07:36:21.811Z"
   },
   {
    "duration": 20,
    "start_time": "2021-10-28T07:36:29.640Z"
   },
   {
    "duration": 3315,
    "start_time": "2021-10-28T07:37:11.344Z"
   },
   {
    "duration": 20,
    "start_time": "2021-10-28T07:37:15.998Z"
   },
   {
    "duration": 3279,
    "start_time": "2021-10-28T07:37:21.260Z"
   },
   {
    "duration": 20,
    "start_time": "2021-10-28T07:37:36.282Z"
   },
   {
    "duration": 267,
    "start_time": "2021-10-28T07:39:17.067Z"
   },
   {
    "duration": 20,
    "start_time": "2021-10-28T07:39:19.753Z"
   },
   {
    "duration": 3239,
    "start_time": "2021-10-28T07:43:16.478Z"
   },
   {
    "duration": 20,
    "start_time": "2021-10-28T07:43:21.148Z"
   },
   {
    "duration": 5583,
    "start_time": "2021-10-28T07:44:04.859Z"
   },
   {
    "duration": 20,
    "start_time": "2021-10-28T07:44:12.061Z"
   },
   {
    "duration": 109,
    "start_time": "2021-10-28T07:44:37.697Z"
   },
   {
    "duration": 20,
    "start_time": "2021-10-28T07:44:39.587Z"
   },
   {
    "duration": 125,
    "start_time": "2021-10-28T07:44:54.940Z"
   },
   {
    "duration": 19,
    "start_time": "2021-10-28T07:44:57.160Z"
   },
   {
    "duration": 3,
    "start_time": "2021-10-28T07:45:03.740Z"
   },
   {
    "duration": 745,
    "start_time": "2021-10-28T07:45:03.744Z"
   },
   {
    "duration": 126,
    "start_time": "2021-10-28T07:45:04.491Z"
   },
   {
    "duration": 109,
    "start_time": "2021-10-28T07:45:04.619Z"
   },
   {
    "duration": 203,
    "start_time": "2021-10-28T07:45:04.730Z"
   },
   {
    "duration": 132,
    "start_time": "2021-10-28T07:45:04.936Z"
   },
   {
    "duration": 33,
    "start_time": "2021-10-28T07:45:05.070Z"
   },
   {
    "duration": 192,
    "start_time": "2021-10-28T07:45:05.106Z"
   },
   {
    "duration": 100,
    "start_time": "2021-10-28T07:45:05.301Z"
   },
   {
    "duration": 146,
    "start_time": "2021-10-28T07:45:05.403Z"
   },
   {
    "duration": 32,
    "start_time": "2021-10-28T07:45:05.550Z"
   },
   {
    "duration": 35,
    "start_time": "2021-10-28T07:45:05.584Z"
   },
   {
    "duration": 58,
    "start_time": "2021-10-28T07:45:05.621Z"
   },
   {
    "duration": 138,
    "start_time": "2021-10-28T07:45:05.681Z"
   },
   {
    "duration": 33,
    "start_time": "2021-10-28T07:45:05.821Z"
   },
   {
    "duration": 103,
    "start_time": "2021-10-28T07:45:05.855Z"
   },
   {
    "duration": 5277,
    "start_time": "2021-10-28T07:45:05.960Z"
   },
   {
    "duration": 17,
    "start_time": "2021-10-28T07:45:11.239Z"
   },
   {
    "duration": 110,
    "start_time": "2021-10-28T07:45:36.216Z"
   },
   {
    "duration": 20,
    "start_time": "2021-10-28T07:45:37.755Z"
   },
   {
    "duration": 264,
    "start_time": "2021-10-28T07:46:08.976Z"
   },
   {
    "duration": 19,
    "start_time": "2021-10-28T07:46:10.779Z"
   },
   {
    "duration": 2,
    "start_time": "2021-10-28T07:46:15.126Z"
   },
   {
    "duration": 766,
    "start_time": "2021-10-28T07:46:15.130Z"
   },
   {
    "duration": 121,
    "start_time": "2021-10-28T07:46:15.898Z"
   },
   {
    "duration": 99,
    "start_time": "2021-10-28T07:46:16.021Z"
   },
   {
    "duration": 204,
    "start_time": "2021-10-28T07:46:16.122Z"
   },
   {
    "duration": 129,
    "start_time": "2021-10-28T07:46:16.327Z"
   },
   {
    "duration": 37,
    "start_time": "2021-10-28T07:46:16.457Z"
   },
   {
    "duration": 188,
    "start_time": "2021-10-28T07:46:16.496Z"
   },
   {
    "duration": 101,
    "start_time": "2021-10-28T07:46:16.687Z"
   },
   {
    "duration": 290,
    "start_time": "2021-10-28T07:46:16.790Z"
   },
   {
    "duration": 24,
    "start_time": "2021-10-28T07:46:17.083Z"
   },
   {
    "duration": 32,
    "start_time": "2021-10-28T07:46:17.109Z"
   },
   {
    "duration": 53,
    "start_time": "2021-10-28T07:46:17.143Z"
   },
   {
    "duration": 137,
    "start_time": "2021-10-28T07:46:17.198Z"
   },
   {
    "duration": 41,
    "start_time": "2021-10-28T07:46:17.337Z"
   },
   {
    "duration": 99,
    "start_time": "2021-10-28T07:46:17.379Z"
   },
   {
    "duration": 5224,
    "start_time": "2021-10-28T07:46:17.479Z"
   },
   {
    "duration": 18,
    "start_time": "2021-10-28T07:46:22.704Z"
   },
   {
    "duration": 3266,
    "start_time": "2021-10-28T07:46:46.843Z"
   },
   {
    "duration": 3,
    "start_time": "2021-10-28T07:47:05.029Z"
   },
   {
    "duration": 727,
    "start_time": "2021-10-28T07:47:05.034Z"
   },
   {
    "duration": 126,
    "start_time": "2021-10-28T07:47:05.763Z"
   },
   {
    "duration": 97,
    "start_time": "2021-10-28T07:47:05.891Z"
   },
   {
    "duration": 198,
    "start_time": "2021-10-28T07:47:05.990Z"
   },
   {
    "duration": 127,
    "start_time": "2021-10-28T07:47:06.190Z"
   },
   {
    "duration": 32,
    "start_time": "2021-10-28T07:47:06.319Z"
   },
   {
    "duration": 181,
    "start_time": "2021-10-28T07:47:06.354Z"
   },
   {
    "duration": 98,
    "start_time": "2021-10-28T07:47:06.537Z"
   },
   {
    "duration": 1713,
    "start_time": "2021-10-28T07:47:06.637Z"
   },
   {
    "duration": 971,
    "start_time": "2021-10-28T07:47:07.381Z"
   },
   {
    "duration": 971,
    "start_time": "2021-10-28T07:47:07.383Z"
   },
   {
    "duration": 968,
    "start_time": "2021-10-28T07:47:07.387Z"
   },
   {
    "duration": 952,
    "start_time": "2021-10-28T07:47:07.404Z"
   },
   {
    "duration": 943,
    "start_time": "2021-10-28T07:47:07.413Z"
   },
   {
    "duration": 943,
    "start_time": "2021-10-28T07:47:07.414Z"
   },
   {
    "duration": 940,
    "start_time": "2021-10-28T07:47:07.418Z"
   },
   {
    "duration": 939,
    "start_time": "2021-10-28T07:47:07.420Z"
   },
   {
    "duration": 3,
    "start_time": "2021-10-28T07:48:45.882Z"
   },
   {
    "duration": 790,
    "start_time": "2021-10-28T07:48:45.887Z"
   },
   {
    "duration": 126,
    "start_time": "2021-10-28T07:48:46.680Z"
   },
   {
    "duration": 102,
    "start_time": "2021-10-28T07:48:46.808Z"
   },
   {
    "duration": 201,
    "start_time": "2021-10-28T07:48:46.912Z"
   },
   {
    "duration": 139,
    "start_time": "2021-10-28T07:48:47.115Z"
   },
   {
    "duration": 37,
    "start_time": "2021-10-28T07:48:47.256Z"
   },
   {
    "duration": 191,
    "start_time": "2021-10-28T07:48:47.296Z"
   },
   {
    "duration": 103,
    "start_time": "2021-10-28T07:48:47.489Z"
   },
   {
    "duration": 275,
    "start_time": "2021-10-28T07:48:47.593Z"
   },
   {
    "duration": 23,
    "start_time": "2021-10-28T07:48:47.870Z"
   },
   {
    "duration": 32,
    "start_time": "2021-10-28T07:48:47.895Z"
   },
   {
    "duration": 48,
    "start_time": "2021-10-28T07:48:47.929Z"
   },
   {
    "duration": 135,
    "start_time": "2021-10-28T07:48:47.979Z"
   },
   {
    "duration": 33,
    "start_time": "2021-10-28T07:48:48.116Z"
   },
   {
    "duration": 102,
    "start_time": "2021-10-28T07:48:48.150Z"
   },
   {
    "duration": 5309,
    "start_time": "2021-10-28T07:48:48.254Z"
   },
   {
    "duration": 23,
    "start_time": "2021-10-28T07:48:53.565Z"
   },
   {
    "duration": 2,
    "start_time": "2021-10-28T07:49:27.020Z"
   },
   {
    "duration": 754,
    "start_time": "2021-10-28T07:49:27.024Z"
   },
   {
    "duration": 126,
    "start_time": "2021-10-28T07:49:27.780Z"
   },
   {
    "duration": 107,
    "start_time": "2021-10-28T07:49:27.908Z"
   },
   {
    "duration": 200,
    "start_time": "2021-10-28T07:49:28.017Z"
   },
   {
    "duration": 136,
    "start_time": "2021-10-28T07:49:28.218Z"
   },
   {
    "duration": 36,
    "start_time": "2021-10-28T07:49:28.355Z"
   },
   {
    "duration": 190,
    "start_time": "2021-10-28T07:49:28.394Z"
   },
   {
    "duration": 101,
    "start_time": "2021-10-28T07:49:28.585Z"
   },
   {
    "duration": 1062,
    "start_time": "2021-10-28T07:49:28.688Z"
   },
   {
    "duration": 940,
    "start_time": "2021-10-28T07:49:28.812Z"
   },
   {
    "duration": 938,
    "start_time": "2021-10-28T07:49:28.816Z"
   },
   {
    "duration": 937,
    "start_time": "2021-10-28T07:49:28.818Z"
   },
   {
    "duration": 934,
    "start_time": "2021-10-28T07:49:28.823Z"
   },
   {
    "duration": 933,
    "start_time": "2021-10-28T07:49:28.825Z"
   },
   {
    "duration": 933,
    "start_time": "2021-10-28T07:49:28.827Z"
   },
   {
    "duration": 932,
    "start_time": "2021-10-28T07:49:28.829Z"
   },
   {
    "duration": 929,
    "start_time": "2021-10-28T07:49:28.834Z"
   },
   {
    "duration": 285,
    "start_time": "2021-10-28T07:49:36.467Z"
   },
   {
    "duration": 3,
    "start_time": "2021-10-28T07:49:39.541Z"
   },
   {
    "duration": 765,
    "start_time": "2021-10-28T07:49:39.546Z"
   },
   {
    "duration": 122,
    "start_time": "2021-10-28T07:49:40.313Z"
   },
   {
    "duration": 104,
    "start_time": "2021-10-28T07:49:40.437Z"
   },
   {
    "duration": 202,
    "start_time": "2021-10-28T07:49:40.542Z"
   },
   {
    "duration": 147,
    "start_time": "2021-10-28T07:49:40.745Z"
   },
   {
    "duration": 33,
    "start_time": "2021-10-28T07:49:40.894Z"
   },
   {
    "duration": 202,
    "start_time": "2021-10-28T07:49:40.930Z"
   },
   {
    "duration": 104,
    "start_time": "2021-10-28T07:49:41.134Z"
   },
   {
    "duration": 288,
    "start_time": "2021-10-28T07:49:41.240Z"
   },
   {
    "duration": 22,
    "start_time": "2021-10-28T07:49:41.530Z"
   },
   {
    "duration": 48,
    "start_time": "2021-10-28T07:49:41.554Z"
   },
   {
    "duration": 34,
    "start_time": "2021-10-28T07:49:41.604Z"
   },
   {
    "duration": 162,
    "start_time": "2021-10-28T07:49:41.640Z"
   },
   {
    "duration": 33,
    "start_time": "2021-10-28T07:49:41.805Z"
   },
   {
    "duration": 103,
    "start_time": "2021-10-28T07:49:41.840Z"
   },
   {
    "duration": 5308,
    "start_time": "2021-10-28T07:49:41.944Z"
   },
   {
    "duration": 26,
    "start_time": "2021-10-28T07:49:47.254Z"
   },
   {
    "duration": 2,
    "start_time": "2021-10-28T07:50:38.831Z"
   },
   {
    "duration": 742,
    "start_time": "2021-10-28T07:50:38.835Z"
   },
   {
    "duration": 126,
    "start_time": "2021-10-28T07:50:39.579Z"
   },
   {
    "duration": 98,
    "start_time": "2021-10-28T07:50:39.707Z"
   },
   {
    "duration": 201,
    "start_time": "2021-10-28T07:50:39.807Z"
   },
   {
    "duration": 132,
    "start_time": "2021-10-28T07:50:40.010Z"
   },
   {
    "duration": 41,
    "start_time": "2021-10-28T07:50:40.144Z"
   },
   {
    "duration": 189,
    "start_time": "2021-10-28T07:50:40.187Z"
   },
   {
    "duration": 100,
    "start_time": "2021-10-28T07:50:40.378Z"
   },
   {
    "duration": 284,
    "start_time": "2021-10-28T07:50:40.479Z"
   },
   {
    "duration": 25,
    "start_time": "2021-10-28T07:50:40.765Z"
   },
   {
    "duration": 33,
    "start_time": "2021-10-28T07:50:40.792Z"
   },
   {
    "duration": 55,
    "start_time": "2021-10-28T07:50:40.826Z"
   },
   {
    "duration": 140,
    "start_time": "2021-10-28T07:50:40.882Z"
   },
   {
    "duration": 32,
    "start_time": "2021-10-28T07:50:41.024Z"
   },
   {
    "duration": 109,
    "start_time": "2021-10-28T07:50:41.058Z"
   },
   {
    "duration": 1120,
    "start_time": "2021-10-28T07:50:41.169Z"
   },
   {
    "duration": 941,
    "start_time": "2021-10-28T07:50:41.351Z"
   },
   {
    "duration": 3,
    "start_time": "2021-10-28T07:52:13.440Z"
   },
   {
    "duration": 857,
    "start_time": "2021-10-28T07:52:13.445Z"
   },
   {
    "duration": 124,
    "start_time": "2021-10-28T07:52:14.304Z"
   },
   {
    "duration": 103,
    "start_time": "2021-10-28T07:52:14.429Z"
   },
   {
    "duration": 201,
    "start_time": "2021-10-28T07:52:14.533Z"
   },
   {
    "duration": 128,
    "start_time": "2021-10-28T07:52:14.736Z"
   },
   {
    "duration": 36,
    "start_time": "2021-10-28T07:52:14.866Z"
   },
   {
    "duration": 207,
    "start_time": "2021-10-28T07:52:14.905Z"
   },
   {
    "duration": 101,
    "start_time": "2021-10-28T07:52:15.114Z"
   },
   {
    "duration": 288,
    "start_time": "2021-10-28T07:52:15.217Z"
   },
   {
    "duration": 20,
    "start_time": "2021-10-28T07:52:15.506Z"
   },
   {
    "duration": 50,
    "start_time": "2021-10-28T07:52:15.528Z"
   },
   {
    "duration": 32,
    "start_time": "2021-10-28T07:52:15.580Z"
   },
   {
    "duration": 142,
    "start_time": "2021-10-28T07:52:15.614Z"
   },
   {
    "duration": 35,
    "start_time": "2021-10-28T07:52:15.758Z"
   },
   {
    "duration": 95,
    "start_time": "2021-10-28T07:52:15.795Z"
   },
   {
    "duration": 1106,
    "start_time": "2021-10-28T07:52:15.892Z"
   },
   {
    "duration": 942,
    "start_time": "2021-10-28T07:52:16.058Z"
   },
   {
    "duration": 5229,
    "start_time": "2021-10-28T07:52:35.470Z"
   },
   {
    "duration": 17,
    "start_time": "2021-10-28T07:52:43.294Z"
   },
   {
    "duration": 266,
    "start_time": "2021-10-28T07:53:05.023Z"
   },
   {
    "duration": 18,
    "start_time": "2021-10-28T07:53:08.962Z"
   },
   {
    "duration": 266,
    "start_time": "2021-10-28T07:53:31.753Z"
   },
   {
    "duration": 34,
    "start_time": "2021-10-28T08:13:47.940Z"
   },
   {
    "duration": 7,
    "start_time": "2021-10-28T08:14:22.423Z"
   },
   {
    "duration": 5,
    "start_time": "2021-10-28T08:14:34.255Z"
   },
   {
    "duration": 5,
    "start_time": "2021-10-28T08:14:40.803Z"
   },
   {
    "duration": 6,
    "start_time": "2021-10-28T08:15:29.470Z"
   },
   {
    "duration": 15,
    "start_time": "2021-10-28T08:17:55.824Z"
   },
   {
    "duration": 34,
    "start_time": "2021-10-28T08:18:01.583Z"
   },
   {
    "duration": 8852,
    "start_time": "2021-10-28T08:18:18.199Z"
   },
   {
    "duration": 8298,
    "start_time": "2021-10-28T08:18:33.355Z"
   },
   {
    "duration": 5,
    "start_time": "2021-10-28T08:19:02.292Z"
   },
   {
    "duration": 38,
    "start_time": "2021-10-28T08:24:57.267Z"
   },
   {
    "duration": 57,
    "start_time": "2021-10-28T08:25:17.862Z"
   },
   {
    "duration": 29,
    "start_time": "2021-10-28T08:25:43.216Z"
   },
   {
    "duration": 40,
    "start_time": "2021-10-28T08:26:12.548Z"
   },
   {
    "duration": 31,
    "start_time": "2021-10-28T08:26:19.639Z"
   },
   {
    "duration": 365,
    "start_time": "2021-10-28T08:28:16.921Z"
   },
   {
    "duration": 398,
    "start_time": "2021-10-28T08:28:33.437Z"
   },
   {
    "duration": 762,
    "start_time": "2021-10-28T08:28:58.596Z"
   },
   {
    "duration": 3,
    "start_time": "2021-10-28T08:29:32.435Z"
   },
   {
    "duration": 400,
    "start_time": "2021-10-28T08:29:37.011Z"
   },
   {
    "duration": 391,
    "start_time": "2021-10-28T08:30:53.523Z"
   },
   {
    "duration": 727,
    "start_time": "2021-10-28T08:33:15.655Z"
   },
   {
    "duration": 473,
    "start_time": "2021-10-28T08:33:21.805Z"
   },
   {
    "duration": 170,
    "start_time": "2021-10-28T08:34:56.775Z"
   },
   {
    "duration": 450,
    "start_time": "2021-10-28T08:35:20.944Z"
   },
   {
    "duration": 559,
    "start_time": "2021-10-28T08:35:40.956Z"
   },
   {
    "duration": 555,
    "start_time": "2021-10-28T08:37:29.663Z"
   },
   {
    "duration": 1006,
    "start_time": "2021-10-28T08:37:35.362Z"
   },
   {
    "duration": 972,
    "start_time": "2021-10-28T08:37:40.748Z"
   },
   {
    "duration": 601,
    "start_time": "2021-10-28T08:37:50.324Z"
   },
   {
    "duration": 658,
    "start_time": "2021-10-28T08:38:00.648Z"
   },
   {
    "duration": 567,
    "start_time": "2021-10-28T08:39:11.588Z"
   },
   {
    "duration": 554,
    "start_time": "2021-10-28T08:39:30.295Z"
   },
   {
    "duration": 385,
    "start_time": "2021-10-28T08:39:56.435Z"
   },
   {
    "duration": 391,
    "start_time": "2021-10-28T11:56:03.075Z"
   },
   {
    "duration": 14,
    "start_time": "2021-10-28T12:00:23.083Z"
   },
   {
    "duration": 30,
    "start_time": "2021-10-28T12:00:57.362Z"
   },
   {
    "duration": 33,
    "start_time": "2021-10-28T12:07:48.233Z"
   },
   {
    "duration": 52,
    "start_time": "2021-10-28T12:08:56.981Z"
   },
   {
    "duration": 32,
    "start_time": "2021-10-28T12:12:59.515Z"
   },
   {
    "duration": 111,
    "start_time": "2021-10-28T12:13:18.116Z"
   },
   {
    "duration": 4,
    "start_time": "2021-10-28T12:14:11.866Z"
   },
   {
    "duration": 29,
    "start_time": "2021-10-28T12:19:21.094Z"
   },
   {
    "duration": 4,
    "start_time": "2021-10-28T12:20:34.292Z"
   },
   {
    "duration": 67,
    "start_time": "2021-10-28T12:32:21.771Z"
   },
   {
    "duration": 46,
    "start_time": "2021-10-28T12:32:31.834Z"
   },
   {
    "duration": 33,
    "start_time": "2021-10-28T12:34:57.601Z"
   },
   {
    "duration": 34,
    "start_time": "2021-10-28T12:35:53.641Z"
   },
   {
    "duration": 342,
    "start_time": "2021-10-28T12:38:03.403Z"
   },
   {
    "duration": 200,
    "start_time": "2021-10-28T12:38:10.876Z"
   },
   {
    "duration": 211,
    "start_time": "2021-10-28T12:38:35.865Z"
   },
   {
    "duration": 207,
    "start_time": "2021-10-28T12:39:28.698Z"
   },
   {
    "duration": 540,
    "start_time": "2021-10-28T12:41:01.607Z"
   },
   {
    "duration": 1218,
    "start_time": "2021-10-28T12:41:10.121Z"
   },
   {
    "duration": 784,
    "start_time": "2021-10-28T12:41:15.392Z"
   },
   {
    "duration": 442,
    "start_time": "2021-10-28T12:41:27.863Z"
   },
   {
    "duration": 396,
    "start_time": "2021-10-28T12:42:20.005Z"
   },
   {
    "duration": 749,
    "start_time": "2021-10-28T12:42:32.857Z"
   },
   {
    "duration": 857,
    "start_time": "2021-10-28T12:42:41.190Z"
   },
   {
    "duration": 734,
    "start_time": "2021-10-28T12:43:15.514Z"
   },
   {
    "duration": 716,
    "start_time": "2021-10-28T12:44:55.623Z"
   },
   {
    "duration": 1884,
    "start_time": "2021-10-28T12:45:37.037Z"
   },
   {
    "duration": 353,
    "start_time": "2021-10-28T12:45:48.878Z"
   },
   {
    "duration": 860,
    "start_time": "2021-10-28T12:47:55.923Z"
   },
   {
    "duration": 665,
    "start_time": "2021-10-28T12:48:06.851Z"
   },
   {
    "duration": 682,
    "start_time": "2021-10-28T12:48:18.317Z"
   },
   {
    "duration": 673,
    "start_time": "2021-10-28T12:48:28.073Z"
   },
   {
    "duration": 888,
    "start_time": "2021-10-28T12:49:35.326Z"
   },
   {
    "duration": 758,
    "start_time": "2021-10-28T12:50:12.268Z"
   },
   {
    "duration": 669,
    "start_time": "2021-10-28T12:50:21.510Z"
   },
   {
    "duration": 493,
    "start_time": "2021-10-28T12:51:17.737Z"
   },
   {
    "duration": 353,
    "start_time": "2021-10-28T12:56:46.119Z"
   },
   {
    "duration": 334,
    "start_time": "2021-10-28T12:56:55.274Z"
   },
   {
    "duration": 402,
    "start_time": "2021-10-28T12:57:02.573Z"
   },
   {
    "duration": 320,
    "start_time": "2021-10-28T12:57:11.610Z"
   },
   {
    "duration": 729,
    "start_time": "2021-10-28T12:57:21.322Z"
   },
   {
    "duration": 758,
    "start_time": "2021-10-28T12:57:27.961Z"
   },
   {
    "duration": 434,
    "start_time": "2021-10-28T12:58:02.861Z"
   },
   {
    "duration": 404,
    "start_time": "2021-10-28T12:58:42.516Z"
   },
   {
    "duration": 382,
    "start_time": "2021-10-28T12:59:05.370Z"
   },
   {
    "duration": 347,
    "start_time": "2021-10-28T12:59:50.298Z"
   },
   {
    "duration": 374,
    "start_time": "2021-10-28T12:59:56.670Z"
   },
   {
    "duration": 343,
    "start_time": "2021-10-28T13:00:20.849Z"
   },
   {
    "duration": 3,
    "start_time": "2021-10-28T13:00:52.820Z"
   },
   {
    "duration": 790,
    "start_time": "2021-10-28T13:00:52.825Z"
   },
   {
    "duration": 130,
    "start_time": "2021-10-28T13:00:53.617Z"
   },
   {
    "duration": 190,
    "start_time": "2021-10-28T13:00:53.749Z"
   },
   {
    "duration": 44,
    "start_time": "2021-10-28T13:00:53.941Z"
   },
   {
    "duration": 389,
    "start_time": "2021-10-28T13:00:53.987Z"
   },
   {
    "duration": 26,
    "start_time": "2021-10-28T13:00:54.378Z"
   },
   {
    "duration": 29,
    "start_time": "2021-10-28T13:00:54.407Z"
   },
   {
    "duration": 71,
    "start_time": "2021-10-28T13:00:54.439Z"
   },
   {
    "duration": 33,
    "start_time": "2021-10-28T13:00:54.513Z"
   },
   {
    "duration": 338,
    "start_time": "2021-10-28T13:00:54.548Z"
   },
   {
    "duration": 893,
    "start_time": "2021-10-28T13:00:53.995Z"
   },
   {
    "duration": 891,
    "start_time": "2021-10-28T13:00:53.998Z"
   },
   {
    "duration": 889,
    "start_time": "2021-10-28T13:00:54.001Z"
   },
   {
    "duration": 885,
    "start_time": "2021-10-28T13:00:54.006Z"
   },
   {
    "duration": 877,
    "start_time": "2021-10-28T13:00:54.015Z"
   },
   {
    "duration": 872,
    "start_time": "2021-10-28T13:00:54.021Z"
   },
   {
    "duration": 869,
    "start_time": "2021-10-28T13:00:54.024Z"
   },
   {
    "duration": 864,
    "start_time": "2021-10-28T13:00:54.030Z"
   },
   {
    "duration": 860,
    "start_time": "2021-10-28T13:00:54.035Z"
   },
   {
    "duration": 858,
    "start_time": "2021-10-28T13:00:54.038Z"
   },
   {
    "duration": 856,
    "start_time": "2021-10-28T13:00:54.041Z"
   },
   {
    "duration": 852,
    "start_time": "2021-10-28T13:00:54.046Z"
   },
   {
    "duration": 850,
    "start_time": "2021-10-28T13:00:54.049Z"
   },
   {
    "duration": 849,
    "start_time": "2021-10-28T13:00:54.051Z"
   },
   {
    "duration": 392,
    "start_time": "2021-10-28T13:03:01.418Z"
   },
   {
    "duration": 352,
    "start_time": "2021-10-28T13:03:14.677Z"
   },
   {
    "duration": 746,
    "start_time": "2021-10-28T13:05:47.434Z"
   },
   {
    "duration": 368,
    "start_time": "2021-10-28T13:06:50.409Z"
   },
   {
    "duration": 492,
    "start_time": "2021-10-28T13:07:00.973Z"
   },
   {
    "duration": 366,
    "start_time": "2021-10-28T13:07:08.971Z"
   },
   {
    "duration": 302,
    "start_time": "2021-10-28T13:07:16.977Z"
   },
   {
    "duration": 1853,
    "start_time": "2021-10-28T13:07:27.712Z"
   },
   {
    "duration": 2005,
    "start_time": "2021-10-28T13:07:53.247Z"
   },
   {
    "duration": 1863,
    "start_time": "2021-10-28T13:08:17.094Z"
   },
   {
    "duration": 1834,
    "start_time": "2021-10-28T13:08:25.394Z"
   },
   {
    "duration": 3,
    "start_time": "2021-10-28T13:08:48.348Z"
   },
   {
    "duration": 2144,
    "start_time": "2021-10-28T13:09:17.914Z"
   },
   {
    "duration": 2064,
    "start_time": "2021-10-28T13:09:33.465Z"
   },
   {
    "duration": 1782,
    "start_time": "2021-10-28T13:10:16.277Z"
   },
   {
    "duration": 2048,
    "start_time": "2021-10-28T13:10:44.845Z"
   },
   {
    "duration": 25,
    "start_time": "2021-10-28T13:11:29.575Z"
   },
   {
    "duration": 27,
    "start_time": "2021-10-28T13:11:57.192Z"
   },
   {
    "duration": 33,
    "start_time": "2021-10-28T13:12:51.247Z"
   },
   {
    "duration": 34,
    "start_time": "2021-10-28T13:16:11.064Z"
   },
   {
    "duration": 635,
    "start_time": "2021-10-28T14:10:07.807Z"
   },
   {
    "duration": 1039,
    "start_time": "2021-10-28T14:10:31.374Z"
   },
   {
    "duration": 342,
    "start_time": "2021-10-28T14:10:56.888Z"
   },
   {
    "duration": 336,
    "start_time": "2021-10-28T14:11:17.519Z"
   },
   {
    "duration": 111,
    "start_time": "2021-10-28T14:11:36.231Z"
   },
   {
    "duration": 365,
    "start_time": "2021-10-28T14:11:43.792Z"
   },
   {
    "duration": 761,
    "start_time": "2021-10-28T14:12:45.127Z"
   },
   {
    "duration": 380,
    "start_time": "2021-10-28T14:13:54.950Z"
   },
   {
    "duration": 504,
    "start_time": "2021-10-28T14:14:06.855Z"
   },
   {
    "duration": 35,
    "start_time": "2021-10-28T14:16:12.542Z"
   },
   {
    "duration": 18,
    "start_time": "2021-10-28T14:16:19.598Z"
   },
   {
    "duration": 1473,
    "start_time": "2021-10-28T14:16:24.925Z"
   },
   {
    "duration": 2915,
    "start_time": "2021-10-28T14:17:21.637Z"
   },
   {
    "duration": 44,
    "start_time": "2021-10-28T14:23:21.639Z"
   },
   {
    "duration": 48,
    "start_time": "2021-10-28T14:23:45.322Z"
   },
   {
    "duration": 40,
    "start_time": "2021-10-28T14:23:54.494Z"
   },
   {
    "duration": 11,
    "start_time": "2021-10-28T14:24:34.713Z"
   },
   {
    "duration": 407,
    "start_time": "2021-10-28T14:24:34.726Z"
   },
   {
    "duration": 10,
    "start_time": "2021-10-28T14:24:35.135Z"
   },
   {
    "duration": 31,
    "start_time": "2021-10-28T14:24:35.147Z"
   },
   {
    "duration": 46,
    "start_time": "2021-10-28T14:24:35.180Z"
   },
   {
    "duration": 48,
    "start_time": "2021-10-28T14:24:35.228Z"
   },
   {
    "duration": 1993,
    "start_time": "2021-10-28T14:24:35.279Z"
   },
   {
    "duration": 2,
    "start_time": "2021-10-28T14:24:37.278Z"
   },
   {
    "duration": 449,
    "start_time": "2021-10-28T14:24:37.282Z"
   },
   {
    "duration": 872,
    "start_time": "2021-10-28T14:24:36.861Z"
   },
   {
    "duration": 869,
    "start_time": "2021-10-28T14:24:36.865Z"
   },
   {
    "duration": 867,
    "start_time": "2021-10-28T14:24:36.868Z"
   },
   {
    "duration": 861,
    "start_time": "2021-10-28T14:24:36.876Z"
   },
   {
    "duration": 859,
    "start_time": "2021-10-28T14:24:36.879Z"
   },
   {
    "duration": 858,
    "start_time": "2021-10-28T14:24:36.881Z"
   },
   {
    "duration": 855,
    "start_time": "2021-10-28T14:24:36.885Z"
   },
   {
    "duration": 848,
    "start_time": "2021-10-28T14:24:36.893Z"
   },
   {
    "duration": 845,
    "start_time": "2021-10-28T14:24:36.897Z"
   },
   {
    "duration": 843,
    "start_time": "2021-10-28T14:24:36.900Z"
   },
   {
    "duration": 835,
    "start_time": "2021-10-28T14:24:36.909Z"
   },
   {
    "duration": 832,
    "start_time": "2021-10-28T14:24:36.913Z"
   },
   {
    "duration": 822,
    "start_time": "2021-10-28T14:24:36.924Z"
   },
   {
    "duration": 819,
    "start_time": "2021-10-28T14:24:36.928Z"
   },
   {
    "duration": 12,
    "start_time": "2021-10-28T14:25:43.267Z"
   },
   {
    "duration": 18,
    "start_time": "2021-10-28T14:35:41.843Z"
   },
   {
    "duration": 2,
    "start_time": "2021-10-28T14:35:49.460Z"
   },
   {
    "duration": 749,
    "start_time": "2021-10-28T14:35:49.464Z"
   },
   {
    "duration": 128,
    "start_time": "2021-10-28T14:35:50.215Z"
   },
   {
    "duration": 103,
    "start_time": "2021-10-28T14:35:50.345Z"
   },
   {
    "duration": 31,
    "start_time": "2021-10-28T14:35:50.450Z"
   },
   {
    "duration": 32,
    "start_time": "2021-10-28T14:35:50.484Z"
   },
   {
    "duration": 40,
    "start_time": "2021-10-28T14:35:50.518Z"
   },
   {
    "duration": 384,
    "start_time": "2021-10-28T14:35:50.560Z"
   },
   {
    "duration": 31,
    "start_time": "2021-10-28T14:35:50.947Z"
   },
   {
    "duration": 25,
    "start_time": "2021-10-28T14:35:50.979Z"
   },
   {
    "duration": 30,
    "start_time": "2021-10-28T14:35:51.006Z"
   },
   {
    "duration": 50,
    "start_time": "2021-10-28T14:35:51.038Z"
   },
   {
    "duration": 2252,
    "start_time": "2021-10-28T14:35:51.090Z"
   },
   {
    "duration": 2,
    "start_time": "2021-10-28T14:35:53.344Z"
   },
   {
    "duration": 14,
    "start_time": "2021-10-28T14:35:53.348Z"
   },
   {
    "duration": 193,
    "start_time": "2021-10-28T14:35:53.363Z"
   },
   {
    "duration": 119,
    "start_time": "2021-10-28T14:35:53.558Z"
   },
   {
    "duration": 32,
    "start_time": "2021-10-28T14:35:53.679Z"
   },
   {
    "duration": 182,
    "start_time": "2021-10-28T14:35:53.712Z"
   },
   {
    "duration": 105,
    "start_time": "2021-10-28T14:35:53.896Z"
   },
   {
    "duration": 287,
    "start_time": "2021-10-28T14:35:54.004Z"
   },
   {
    "duration": 17,
    "start_time": "2021-10-28T14:35:54.293Z"
   },
   {
    "duration": 29,
    "start_time": "2021-10-28T14:35:54.314Z"
   },
   {
    "duration": 52,
    "start_time": "2021-10-28T14:35:54.345Z"
   },
   {
    "duration": 116,
    "start_time": "2021-10-28T14:35:54.399Z"
   },
   {
    "duration": 32,
    "start_time": "2021-10-28T14:35:54.517Z"
   },
   {
    "duration": 99,
    "start_time": "2021-10-28T14:35:54.550Z"
   },
   {
    "duration": 280,
    "start_time": "2021-10-28T14:35:54.650Z"
   },
   {
    "duration": 15,
    "start_time": "2021-10-28T14:35:54.932Z"
   },
   {
    "duration": 73,
    "start_time": "2021-10-28T14:38:17.467Z"
   },
   {
    "duration": 79,
    "start_time": "2021-10-28T14:38:33.931Z"
   },
   {
    "duration": 32,
    "start_time": "2021-10-28T14:39:01.017Z"
   },
   {
    "duration": 38,
    "start_time": "2021-10-28T14:39:09.845Z"
   },
   {
    "duration": 36,
    "start_time": "2021-10-28T14:39:25.412Z"
   },
   {
    "duration": 28,
    "start_time": "2021-10-28T14:39:34.309Z"
   },
   {
    "duration": 31,
    "start_time": "2021-10-28T14:39:40.672Z"
   },
   {
    "duration": 3,
    "start_time": "2021-10-28T14:39:49.944Z"
   },
   {
    "duration": 748,
    "start_time": "2021-10-28T14:39:49.949Z"
   },
   {
    "duration": 126,
    "start_time": "2021-10-28T14:39:50.699Z"
   },
   {
    "duration": 104,
    "start_time": "2021-10-28T14:39:50.827Z"
   },
   {
    "duration": 25,
    "start_time": "2021-10-28T14:39:50.933Z"
   },
   {
    "duration": 93,
    "start_time": "2021-10-28T14:39:50.960Z"
   },
   {
    "duration": 3,
    "start_time": "2021-10-28T14:40:43.964Z"
   },
   {
    "duration": 1009,
    "start_time": "2021-10-28T14:40:43.969Z"
   },
   {
    "duration": 131,
    "start_time": "2021-10-28T14:40:44.981Z"
   },
   {
    "duration": 106,
    "start_time": "2021-10-28T14:40:45.114Z"
   },
   {
    "duration": 19,
    "start_time": "2021-10-28T14:40:45.221Z"
   },
   {
    "duration": 93,
    "start_time": "2021-10-28T14:40:51.757Z"
   },
   {
    "duration": 42,
    "start_time": "2021-10-28T14:40:59.028Z"
   },
   {
    "duration": 3,
    "start_time": "2021-10-28T14:41:09.630Z"
   },
   {
    "duration": 756,
    "start_time": "2021-10-28T14:41:09.635Z"
   },
   {
    "duration": 123,
    "start_time": "2021-10-28T14:41:10.393Z"
   },
   {
    "duration": 89,
    "start_time": "2021-10-28T14:41:10.517Z"
   },
   {
    "duration": 19,
    "start_time": "2021-10-28T14:41:10.607Z"
   },
   {
    "duration": 105,
    "start_time": "2021-10-28T14:41:10.628Z"
   },
   {
    "duration": 36,
    "start_time": "2021-10-28T14:42:04.036Z"
   },
   {
    "duration": 49,
    "start_time": "2021-10-28T14:42:53.153Z"
   },
   {
    "duration": 4,
    "start_time": "2021-10-28T14:43:03.608Z"
   },
   {
    "duration": 789,
    "start_time": "2021-10-28T14:43:03.614Z"
   },
   {
    "duration": 159,
    "start_time": "2021-10-28T14:43:04.405Z"
   },
   {
    "duration": 110,
    "start_time": "2021-10-28T14:43:04.567Z"
   },
   {
    "duration": 20,
    "start_time": "2021-10-28T14:43:04.679Z"
   },
   {
    "duration": 99,
    "start_time": "2021-10-28T14:43:04.700Z"
   },
   {
    "duration": 398,
    "start_time": "2021-10-28T14:46:47.999Z"
   },
   {
    "duration": 3,
    "start_time": "2021-10-28T14:46:59.303Z"
   },
   {
    "duration": 753,
    "start_time": "2021-10-28T14:46:59.308Z"
   },
   {
    "duration": 137,
    "start_time": "2021-10-28T14:47:00.063Z"
   },
   {
    "duration": 114,
    "start_time": "2021-10-28T14:47:00.202Z"
   },
   {
    "duration": 18,
    "start_time": "2021-10-28T14:47:00.317Z"
   },
   {
    "duration": 44,
    "start_time": "2021-10-28T14:47:00.337Z"
   },
   {
    "duration": 27,
    "start_time": "2021-10-28T14:47:00.383Z"
   },
   {
    "duration": 387,
    "start_time": "2021-10-28T14:47:00.412Z"
   },
   {
    "duration": 23,
    "start_time": "2021-10-28T14:47:00.801Z"
   },
   {
    "duration": 25,
    "start_time": "2021-10-28T14:47:00.826Z"
   },
   {
    "duration": 50,
    "start_time": "2021-10-28T14:47:00.853Z"
   },
   {
    "duration": 29,
    "start_time": "2021-10-28T14:47:00.904Z"
   },
   {
    "duration": 2093,
    "start_time": "2021-10-28T14:47:00.935Z"
   },
   {
    "duration": 2,
    "start_time": "2021-10-28T14:47:03.030Z"
   },
   {
    "duration": 14,
    "start_time": "2021-10-28T14:47:03.034Z"
   },
   {
    "duration": 167,
    "start_time": "2021-10-28T14:47:03.050Z"
   },
   {
    "duration": 121,
    "start_time": "2021-10-28T14:47:03.219Z"
   },
   {
    "duration": 36,
    "start_time": "2021-10-28T14:47:03.342Z"
   },
   {
    "duration": 180,
    "start_time": "2021-10-28T14:47:03.380Z"
   },
   {
    "duration": 92,
    "start_time": "2021-10-28T14:47:03.562Z"
   },
   {
    "duration": 270,
    "start_time": "2021-10-28T14:47:03.656Z"
   },
   {
    "duration": 15,
    "start_time": "2021-10-28T14:47:03.928Z"
   },
   {
    "duration": 44,
    "start_time": "2021-10-28T14:47:03.946Z"
   },
   {
    "duration": 32,
    "start_time": "2021-10-28T14:47:03.992Z"
   },
   {
    "duration": 121,
    "start_time": "2021-10-28T14:47:04.026Z"
   },
   {
    "duration": 40,
    "start_time": "2021-10-28T14:47:04.149Z"
   },
   {
    "duration": 94,
    "start_time": "2021-10-28T14:47:04.191Z"
   },
   {
    "duration": 276,
    "start_time": "2021-10-28T14:47:04.287Z"
   },
   {
    "duration": 19,
    "start_time": "2021-10-28T14:47:04.565Z"
   },
   {
    "duration": 1466,
    "start_time": "2021-10-28T14:51:37.855Z"
   },
   {
    "duration": 1144,
    "start_time": "2021-10-28T14:52:02.843Z"
   },
   {
    "duration": 953,
    "start_time": "2021-10-28T14:52:33.130Z"
   },
   {
    "duration": 3243,
    "start_time": "2021-10-28T14:53:44.130Z"
   },
   {
    "duration": 1068,
    "start_time": "2021-10-28T14:54:11.624Z"
   },
   {
    "duration": 1235,
    "start_time": "2021-10-28T14:54:16.835Z"
   },
   {
    "duration": 1086,
    "start_time": "2021-10-28T14:54:25.715Z"
   },
   {
    "duration": 1041,
    "start_time": "2021-10-28T14:54:35.001Z"
   },
   {
    "duration": 2,
    "start_time": "2021-10-28T14:54:45.273Z"
   },
   {
    "duration": 19,
    "start_time": "2021-10-28T14:57:07.539Z"
   },
   {
    "duration": 18,
    "start_time": "2021-10-28T14:57:11.729Z"
   },
   {
    "duration": 377,
    "start_time": "2021-10-28T14:57:27.220Z"
   },
   {
    "duration": 33,
    "start_time": "2021-10-28T14:57:41.645Z"
   },
   {
    "duration": 18,
    "start_time": "2021-10-28T14:57:50.035Z"
   },
   {
    "duration": 18,
    "start_time": "2021-10-28T14:58:07.798Z"
   },
   {
    "duration": 17,
    "start_time": "2021-10-28T14:58:34.071Z"
   },
   {
    "duration": 16,
    "start_time": "2021-10-28T14:59:49.753Z"
   },
   {
    "duration": 16,
    "start_time": "2021-10-28T15:00:00.672Z"
   },
   {
    "duration": 16,
    "start_time": "2021-10-28T15:00:03.228Z"
   },
   {
    "duration": 15,
    "start_time": "2021-10-28T15:00:07.629Z"
   },
   {
    "duration": 19,
    "start_time": "2021-10-28T15:00:11.221Z"
   },
   {
    "duration": 16,
    "start_time": "2021-10-28T15:00:53.673Z"
   },
   {
    "duration": 330,
    "start_time": "2021-10-28T15:01:04.987Z"
   },
   {
    "duration": 17,
    "start_time": "2021-10-28T15:01:09.753Z"
   },
   {
    "duration": 18,
    "start_time": "2021-10-28T15:01:43.587Z"
   },
   {
    "duration": 3036,
    "start_time": "2021-10-28T16:34:12.716Z"
   },
   {
    "duration": 4008,
    "start_time": "2021-10-28T16:34:28.742Z"
   },
   {
    "duration": 3114,
    "start_time": "2021-10-28T16:35:19.959Z"
   },
   {
    "duration": 2772,
    "start_time": "2021-10-28T16:35:29.230Z"
   },
   {
    "duration": 2573,
    "start_time": "2021-10-28T16:36:00.037Z"
   },
   {
    "duration": 1998,
    "start_time": "2021-10-28T16:36:35.217Z"
   },
   {
    "duration": 2651,
    "start_time": "2021-10-28T16:36:44.912Z"
   },
   {
    "duration": 3067,
    "start_time": "2021-10-28T16:37:13.697Z"
   },
   {
    "duration": 3369,
    "start_time": "2021-10-28T16:37:40.022Z"
   },
   {
    "duration": 3369,
    "start_time": "2021-10-28T16:37:55.351Z"
   },
   {
    "duration": 4048,
    "start_time": "2021-10-28T16:38:32.851Z"
   },
   {
    "duration": 3399,
    "start_time": "2021-10-28T16:39:25.473Z"
   },
   {
    "duration": 597,
    "start_time": "2021-10-28T16:42:07.650Z"
   },
   {
    "duration": 3466,
    "start_time": "2021-10-28T16:42:15.211Z"
   },
   {
    "duration": 3603,
    "start_time": "2021-10-28T16:42:41.375Z"
   },
   {
    "duration": 3971,
    "start_time": "2021-10-28T16:43:09.283Z"
   },
   {
    "duration": 20,
    "start_time": "2021-10-28T16:43:57.401Z"
   },
   {
    "duration": 16,
    "start_time": "2021-10-28T16:44:12.150Z"
   },
   {
    "duration": 31,
    "start_time": "2021-10-28T16:44:18.132Z"
   },
   {
    "duration": 15,
    "start_time": "2021-10-28T16:44:32.097Z"
   },
   {
    "duration": 1234,
    "start_time": "2021-10-28T16:44:50.318Z"
   },
   {
    "duration": 1045,
    "start_time": "2021-10-28T16:44:51.555Z"
   },
   {
    "duration": 123,
    "start_time": "2021-10-28T16:44:52.603Z"
   },
   {
    "duration": 122,
    "start_time": "2021-10-28T16:44:52.729Z"
   },
   {
    "duration": 35,
    "start_time": "2021-10-28T16:44:52.854Z"
   },
   {
    "duration": 39,
    "start_time": "2021-10-28T16:44:52.891Z"
   },
   {
    "duration": 46,
    "start_time": "2021-10-28T16:44:52.932Z"
   },
   {
    "duration": 371,
    "start_time": "2021-10-28T16:44:52.980Z"
   },
   {
    "duration": 32,
    "start_time": "2021-10-28T16:44:53.353Z"
   },
   {
    "duration": 25,
    "start_time": "2021-10-28T16:44:53.387Z"
   },
   {
    "duration": 29,
    "start_time": "2021-10-28T16:44:53.414Z"
   },
   {
    "duration": 41,
    "start_time": "2021-10-28T16:44:53.445Z"
   },
   {
    "duration": 4453,
    "start_time": "2021-10-28T16:44:53.488Z"
   },
   {
    "duration": 3808,
    "start_time": "2021-10-28T16:44:57.943Z"
   },
   {
    "duration": 4435,
    "start_time": "2021-10-28T16:45:01.753Z"
   },
   {
    "duration": 3,
    "start_time": "2021-10-28T16:45:06.190Z"
   },
   {
    "duration": 712,
    "start_time": "2021-10-28T16:45:06.194Z"
   },
   {
    "duration": 853,
    "start_time": "2021-10-28T16:45:06.055Z"
   },
   {
    "duration": 839,
    "start_time": "2021-10-28T16:45:06.070Z"
   },
   {
    "duration": 836,
    "start_time": "2021-10-28T16:45:06.074Z"
   },
   {
    "duration": 834,
    "start_time": "2021-10-28T16:45:06.077Z"
   },
   {
    "duration": 830,
    "start_time": "2021-10-28T16:45:06.082Z"
   },
   {
    "duration": 828,
    "start_time": "2021-10-28T16:45:06.085Z"
   },
   {
    "duration": 827,
    "start_time": "2021-10-28T16:45:06.087Z"
   },
   {
    "duration": 825,
    "start_time": "2021-10-28T16:45:06.089Z"
   },
   {
    "duration": 824,
    "start_time": "2021-10-28T16:45:06.092Z"
   },
   {
    "duration": 822,
    "start_time": "2021-10-28T16:45:06.094Z"
   },
   {
    "duration": 821,
    "start_time": "2021-10-28T16:45:06.097Z"
   },
   {
    "duration": 820,
    "start_time": "2021-10-28T16:45:06.099Z"
   },
   {
    "duration": 818,
    "start_time": "2021-10-28T16:45:06.102Z"
   },
   {
    "duration": 817,
    "start_time": "2021-10-28T16:45:06.104Z"
   },
   {
    "duration": 815,
    "start_time": "2021-10-28T16:45:06.107Z"
   },
   {
    "duration": 3901,
    "start_time": "2021-10-28T16:47:17.143Z"
   },
   {
    "duration": 3893,
    "start_time": "2021-10-28T16:47:41.675Z"
   },
   {
    "duration": 3530,
    "start_time": "2021-10-28T16:48:09.926Z"
   },
   {
    "duration": 621,
    "start_time": "2021-10-28T16:48:49.606Z"
   },
   {
    "duration": 29,
    "start_time": "2021-10-28T16:49:03.917Z"
   },
   {
    "duration": 610,
    "start_time": "2021-10-28T16:49:23.656Z"
   },
   {
    "duration": 21,
    "start_time": "2021-10-28T16:49:32.501Z"
   },
   {
    "duration": 365,
    "start_time": "2021-10-28T16:49:56.757Z"
   },
   {
    "duration": 338,
    "start_time": "2021-10-28T16:50:08.768Z"
   },
   {
    "duration": 583,
    "start_time": "2021-10-28T16:50:21.860Z"
   },
   {
    "duration": 20,
    "start_time": "2021-10-28T16:50:37.826Z"
   },
   {
    "duration": 33,
    "start_time": "2021-10-28T16:51:19.683Z"
   },
   {
    "duration": 34,
    "start_time": "2021-10-28T16:51:30.035Z"
   },
   {
    "duration": 35,
    "start_time": "2021-10-28T16:51:34.329Z"
   },
   {
    "duration": 360,
    "start_time": "2021-10-28T16:52:37.602Z"
   },
   {
    "duration": 3,
    "start_time": "2021-10-28T16:52:47.522Z"
   },
   {
    "duration": 940,
    "start_time": "2021-10-28T16:52:47.527Z"
   },
   {
    "duration": 234,
    "start_time": "2021-10-28T16:52:48.469Z"
   },
   {
    "duration": 141,
    "start_time": "2021-10-28T16:52:48.705Z"
   },
   {
    "duration": 30,
    "start_time": "2021-10-28T16:52:48.849Z"
   },
   {
    "duration": 27,
    "start_time": "2021-10-28T16:52:48.882Z"
   },
   {
    "duration": 37,
    "start_time": "2021-10-28T16:52:48.911Z"
   },
   {
    "duration": 431,
    "start_time": "2021-10-28T16:52:48.952Z"
   },
   {
    "duration": 22,
    "start_time": "2021-10-28T16:52:49.385Z"
   },
   {
    "duration": 24,
    "start_time": "2021-10-28T16:52:49.409Z"
   },
   {
    "duration": 55,
    "start_time": "2021-10-28T16:52:49.435Z"
   },
   {
    "duration": 16,
    "start_time": "2021-10-28T16:52:49.492Z"
   },
   {
    "duration": 4008,
    "start_time": "2021-10-28T16:52:49.509Z"
   },
   {
    "duration": 3840,
    "start_time": "2021-10-28T16:52:53.519Z"
   },
   {
    "duration": 3458,
    "start_time": "2021-10-28T16:52:57.361Z"
   },
   {
    "duration": 2,
    "start_time": "2021-10-28T16:53:00.821Z"
   },
   {
    "duration": 575,
    "start_time": "2021-10-28T16:53:00.825Z"
   },
   {
    "duration": 371,
    "start_time": "2021-10-28T16:53:33.186Z"
   },
   {
    "duration": 356,
    "start_time": "2021-10-28T16:53:41.342Z"
   },
   {
    "duration": 419,
    "start_time": "2021-10-28T16:53:50.129Z"
   },
   {
    "duration": 22,
    "start_time": "2021-10-28T16:53:53.513Z"
   },
   {
    "duration": 360,
    "start_time": "2021-10-28T16:55:04.449Z"
   },
   {
    "duration": 22,
    "start_time": "2021-10-28T16:55:15.927Z"
   },
   {
    "duration": 568,
    "start_time": "2021-10-28T16:55:40.072Z"
   },
   {
    "duration": 344,
    "start_time": "2021-10-28T16:56:49.726Z"
   },
   {
    "duration": 361,
    "start_time": "2021-10-28T16:57:04.941Z"
   },
   {
    "duration": 38,
    "start_time": "2021-10-28T16:57:46.794Z"
   },
   {
    "duration": 366,
    "start_time": "2021-10-28T16:58:00.431Z"
   },
   {
    "duration": 363,
    "start_time": "2021-10-28T16:58:08.417Z"
   },
   {
    "duration": 358,
    "start_time": "2021-10-28T16:58:21.849Z"
   },
   {
    "duration": 21,
    "start_time": "2021-10-28T16:58:28.578Z"
   },
   {
    "duration": 34,
    "start_time": "2021-10-28T16:58:50.286Z"
   },
   {
    "duration": 1193,
    "start_time": "2021-10-28T18:03:16.851Z"
   },
   {
    "duration": 966,
    "start_time": "2021-10-28T18:04:02.284Z"
   },
   {
    "duration": 1041,
    "start_time": "2021-10-28T18:04:30.299Z"
   },
   {
    "duration": 751,
    "start_time": "2021-10-28T18:06:25.427Z"
   },
   {
    "duration": 979,
    "start_time": "2021-10-28T18:06:54.222Z"
   },
   {
    "duration": 349,
    "start_time": "2021-10-28T18:09:17.305Z"
   },
   {
    "duration": 371,
    "start_time": "2021-10-28T18:09:26.786Z"
   },
   {
    "duration": 381,
    "start_time": "2021-10-28T18:09:38.809Z"
   },
   {
    "duration": 392,
    "start_time": "2021-10-28T18:09:45.453Z"
   },
   {
    "duration": 356,
    "start_time": "2021-10-28T18:10:02.346Z"
   },
   {
    "duration": 339,
    "start_time": "2021-10-28T18:10:09.576Z"
   },
   {
    "duration": 37,
    "start_time": "2021-10-28T18:10:42.018Z"
   },
   {
    "duration": 1041,
    "start_time": "2021-10-28T18:10:54.791Z"
   },
   {
    "duration": 1107,
    "start_time": "2021-10-28T18:11:11.429Z"
   },
   {
    "duration": 1084,
    "start_time": "2021-10-28T18:11:24.765Z"
   },
   {
    "duration": 19,
    "start_time": "2021-10-28T18:11:41.227Z"
   },
   {
    "duration": 90,
    "start_time": "2021-10-28T18:12:15.507Z"
   },
   {
    "duration": 111,
    "start_time": "2021-10-28T18:28:34.170Z"
   },
   {
    "duration": 470,
    "start_time": "2021-10-28T18:28:51.566Z"
   },
   {
    "duration": 480,
    "start_time": "2021-10-28T18:29:09.344Z"
   },
   {
    "duration": 1025,
    "start_time": "2021-10-28T18:29:28.699Z"
   },
   {
    "duration": 994,
    "start_time": "2021-10-28T18:30:01.545Z"
   },
   {
    "duration": 136,
    "start_time": "2021-10-29T04:50:19.168Z"
   },
   {
    "duration": 454,
    "start_time": "2021-10-29T04:50:31.905Z"
   },
   {
    "duration": 1600,
    "start_time": "2021-10-29T04:50:38.932Z"
   },
   {
    "duration": 1086,
    "start_time": "2021-10-29T04:50:40.534Z"
   },
   {
    "duration": 167,
    "start_time": "2021-10-29T04:50:41.623Z"
   },
   {
    "duration": 124,
    "start_time": "2021-10-29T04:50:41.792Z"
   },
   {
    "duration": 48,
    "start_time": "2021-10-29T04:50:41.919Z"
   },
   {
    "duration": 49,
    "start_time": "2021-10-29T04:50:41.970Z"
   },
   {
    "duration": 60,
    "start_time": "2021-10-29T04:50:42.022Z"
   },
   {
    "duration": 619,
    "start_time": "2021-10-29T04:50:42.085Z"
   },
   {
    "duration": 31,
    "start_time": "2021-10-29T04:50:42.708Z"
   },
   {
    "duration": 34,
    "start_time": "2021-10-29T04:50:42.757Z"
   },
   {
    "duration": 66,
    "start_time": "2021-10-29T04:50:42.793Z"
   },
   {
    "duration": 21,
    "start_time": "2021-10-29T04:50:42.861Z"
   },
   {
    "duration": 5436,
    "start_time": "2021-10-29T04:50:42.884Z"
   },
   {
    "duration": 5136,
    "start_time": "2021-10-29T04:50:48.322Z"
   },
   {
    "duration": 4962,
    "start_time": "2021-10-29T04:50:53.460Z"
   },
   {
    "duration": 1130,
    "start_time": "2021-10-29T04:50:58.424Z"
   },
   {
    "duration": 1255,
    "start_time": "2021-10-29T04:50:58.302Z"
   },
   {
    "duration": 1254,
    "start_time": "2021-10-29T04:50:58.304Z"
   },
   {
    "duration": 1252,
    "start_time": "2021-10-29T04:50:58.308Z"
   },
   {
    "duration": 1243,
    "start_time": "2021-10-29T04:50:58.318Z"
   },
   {
    "duration": 1237,
    "start_time": "2021-10-29T04:50:58.325Z"
   },
   {
    "duration": 1228,
    "start_time": "2021-10-29T04:50:58.335Z"
   },
   {
    "duration": 1218,
    "start_time": "2021-10-29T04:50:58.347Z"
   },
   {
    "duration": 1215,
    "start_time": "2021-10-29T04:50:58.351Z"
   },
   {
    "duration": 1213,
    "start_time": "2021-10-29T04:50:58.355Z"
   },
   {
    "duration": 1201,
    "start_time": "2021-10-29T04:50:58.370Z"
   },
   {
    "duration": 1191,
    "start_time": "2021-10-29T04:50:58.383Z"
   },
   {
    "duration": 1178,
    "start_time": "2021-10-29T04:50:58.398Z"
   },
   {
    "duration": 1162,
    "start_time": "2021-10-29T04:50:58.416Z"
   },
   {
    "duration": 1146,
    "start_time": "2021-10-29T04:50:58.434Z"
   },
   {
    "duration": 1121,
    "start_time": "2021-10-29T04:50:58.461Z"
   },
   {
    "duration": 1107,
    "start_time": "2021-10-29T04:50:58.477Z"
   },
   {
    "duration": 367,
    "start_time": "2021-10-29T04:51:50.852Z"
   },
   {
    "duration": 366,
    "start_time": "2021-10-29T04:54:11.633Z"
   },
   {
    "duration": 23,
    "start_time": "2021-10-29T04:57:29.398Z"
   },
   {
    "duration": 22,
    "start_time": "2021-10-29T04:57:55.820Z"
   },
   {
    "duration": 40,
    "start_time": "2021-10-29T04:58:40.707Z"
   },
   {
    "duration": 338,
    "start_time": "2021-10-29T04:59:47.095Z"
   },
   {
    "duration": 38,
    "start_time": "2021-10-29T05:00:08.202Z"
   },
   {
    "duration": 4,
    "start_time": "2021-10-29T05:01:19.356Z"
   },
   {
    "duration": 1067,
    "start_time": "2021-10-29T05:01:19.364Z"
   },
   {
    "duration": 213,
    "start_time": "2021-10-29T05:01:20.434Z"
   },
   {
    "duration": 152,
    "start_time": "2021-10-29T05:01:20.658Z"
   },
   {
    "duration": 30,
    "start_time": "2021-10-29T05:01:20.813Z"
   },
   {
    "duration": 45,
    "start_time": "2021-10-29T05:01:20.858Z"
   },
   {
    "duration": 58,
    "start_time": "2021-10-29T05:01:20.907Z"
   },
   {
    "duration": 603,
    "start_time": "2021-10-29T05:01:20.968Z"
   },
   {
    "duration": 33,
    "start_time": "2021-10-29T05:01:21.574Z"
   },
   {
    "duration": 60,
    "start_time": "2021-10-29T05:01:21.610Z"
   },
   {
    "duration": 50,
    "start_time": "2021-10-29T05:01:21.672Z"
   },
   {
    "duration": 41,
    "start_time": "2021-10-29T05:01:21.725Z"
   },
   {
    "duration": 5827,
    "start_time": "2021-10-29T05:01:21.769Z"
   },
   {
    "duration": 5042,
    "start_time": "2021-10-29T05:01:27.599Z"
   },
   {
    "duration": 5205,
    "start_time": "2021-10-29T05:01:32.645Z"
   },
   {
    "duration": 5,
    "start_time": "2021-10-29T05:01:37.853Z"
   },
   {
    "duration": 357,
    "start_time": "2021-10-29T05:01:37.861Z"
   },
   {
    "duration": 51,
    "start_time": "2021-10-29T05:01:38.221Z"
   },
   {
    "duration": 4,
    "start_time": "2021-10-29T05:05:15.096Z"
   },
   {
    "duration": 1122,
    "start_time": "2021-10-29T05:05:15.102Z"
   },
   {
    "duration": 160,
    "start_time": "2021-10-29T05:05:16.227Z"
   },
   {
    "duration": 119,
    "start_time": "2021-10-29T05:05:16.390Z"
   },
   {
    "duration": 30,
    "start_time": "2021-10-29T05:05:16.511Z"
   },
   {
    "duration": 49,
    "start_time": "2021-10-29T05:05:16.543Z"
   },
   {
    "duration": 40,
    "start_time": "2021-10-29T05:05:16.595Z"
   },
   {
    "duration": 615,
    "start_time": "2021-10-29T05:05:16.638Z"
   },
   {
    "duration": 31,
    "start_time": "2021-10-29T05:05:17.258Z"
   },
   {
    "duration": 33,
    "start_time": "2021-10-29T05:05:17.291Z"
   },
   {
    "duration": 73,
    "start_time": "2021-10-29T05:05:17.327Z"
   },
   {
    "duration": 21,
    "start_time": "2021-10-29T05:05:17.403Z"
   },
   {
    "duration": 6012,
    "start_time": "2021-10-29T05:05:17.426Z"
   },
   {
    "duration": 5228,
    "start_time": "2021-10-29T05:05:23.441Z"
   },
   {
    "duration": 5291,
    "start_time": "2021-10-29T05:05:28.671Z"
   },
   {
    "duration": 5,
    "start_time": "2021-10-29T05:05:33.964Z"
   },
   {
    "duration": 24,
    "start_time": "2021-10-29T05:05:33.971Z"
   },
   {
    "duration": 12,
    "start_time": "2021-10-29T05:05:52.617Z"
   },
   {
    "duration": 18,
    "start_time": "2021-10-29T05:06:04.981Z"
   },
   {
    "duration": 43,
    "start_time": "2021-10-29T05:06:11.757Z"
   },
   {
    "duration": 320,
    "start_time": "2021-10-29T05:06:44.377Z"
   },
   {
    "duration": 37,
    "start_time": "2021-10-29T05:06:58.792Z"
   },
   {
    "duration": 3,
    "start_time": "2021-10-29T05:07:19.155Z"
   },
   {
    "duration": 1035,
    "start_time": "2021-10-29T05:07:19.161Z"
   },
   {
    "duration": 174,
    "start_time": "2021-10-29T05:07:20.199Z"
   },
   {
    "duration": 126,
    "start_time": "2021-10-29T05:07:20.375Z"
   },
   {
    "duration": 32,
    "start_time": "2021-10-29T05:07:20.503Z"
   },
   {
    "duration": 64,
    "start_time": "2021-10-29T05:07:20.538Z"
   },
   {
    "duration": 54,
    "start_time": "2021-10-29T05:07:20.605Z"
   },
   {
    "duration": 604,
    "start_time": "2021-10-29T05:07:20.663Z"
   },
   {
    "duration": 32,
    "start_time": "2021-10-29T05:07:21.270Z"
   },
   {
    "duration": 55,
    "start_time": "2021-10-29T05:07:21.304Z"
   },
   {
    "duration": 52,
    "start_time": "2021-10-29T05:07:21.361Z"
   },
   {
    "duration": 45,
    "start_time": "2021-10-29T05:07:21.415Z"
   },
   {
    "duration": 5673,
    "start_time": "2021-10-29T05:07:21.462Z"
   },
   {
    "duration": 5215,
    "start_time": "2021-10-29T05:07:27.138Z"
   },
   {
    "duration": 5015,
    "start_time": "2021-10-29T05:07:32.358Z"
   },
   {
    "duration": 3,
    "start_time": "2021-10-29T05:07:37.375Z"
   },
   {
    "duration": 25,
    "start_time": "2021-10-29T05:07:37.381Z"
   },
   {
    "duration": 61,
    "start_time": "2021-10-29T05:07:37.408Z"
   },
   {
    "duration": 1417,
    "start_time": "2021-10-29T05:07:37.471Z"
   },
   {
    "duration": 1263,
    "start_time": "2021-10-29T05:07:37.627Z"
   },
   {
    "duration": 334,
    "start_time": "2021-10-29T05:08:24.499Z"
   },
   {
    "duration": 26,
    "start_time": "2021-10-29T05:08:51.944Z"
   },
   {
    "duration": 30,
    "start_time": "2021-10-29T05:09:14.409Z"
   },
   {
    "duration": 199,
    "start_time": "2021-10-29T05:10:04.971Z"
   },
   {
    "duration": 327,
    "start_time": "2021-10-29T05:15:08.280Z"
   },
   {
    "duration": 4,
    "start_time": "2021-10-29T05:16:09.444Z"
   },
   {
    "duration": 1213,
    "start_time": "2021-10-29T05:16:09.451Z"
   },
   {
    "duration": 170,
    "start_time": "2021-10-29T05:16:10.667Z"
   },
   {
    "duration": 120,
    "start_time": "2021-10-29T05:16:10.839Z"
   },
   {
    "duration": 30,
    "start_time": "2021-10-29T05:16:10.962Z"
   },
   {
    "duration": 64,
    "start_time": "2021-10-29T05:16:10.995Z"
   },
   {
    "duration": 40,
    "start_time": "2021-10-29T05:16:11.062Z"
   },
   {
    "duration": 595,
    "start_time": "2021-10-29T05:16:11.106Z"
   },
   {
    "duration": 33,
    "start_time": "2021-10-29T05:16:11.704Z"
   },
   {
    "duration": 52,
    "start_time": "2021-10-29T05:16:11.739Z"
   },
   {
    "duration": 72,
    "start_time": "2021-10-29T05:16:11.793Z"
   },
   {
    "duration": 22,
    "start_time": "2021-10-29T05:16:11.868Z"
   },
   {
    "duration": 5849,
    "start_time": "2021-10-29T05:16:11.892Z"
   },
   {
    "duration": 5317,
    "start_time": "2021-10-29T05:16:17.744Z"
   },
   {
    "duration": 5172,
    "start_time": "2021-10-29T05:16:23.063Z"
   },
   {
    "duration": 4,
    "start_time": "2021-10-29T05:16:28.237Z"
   },
   {
    "duration": 346,
    "start_time": "2021-10-29T05:16:28.243Z"
   },
   {
    "duration": 28,
    "start_time": "2021-10-29T05:16:28.591Z"
   },
   {
    "duration": 45,
    "start_time": "2021-10-29T05:16:28.622Z"
   },
   {
    "duration": 205,
    "start_time": "2021-10-29T05:16:28.669Z"
   },
   {
    "duration": 174,
    "start_time": "2021-10-29T05:16:28.877Z"
   },
   {
    "duration": 39,
    "start_time": "2021-10-29T05:16:29.057Z"
   },
   {
    "duration": 290,
    "start_time": "2021-10-29T05:16:29.101Z"
   },
   {
    "duration": 142,
    "start_time": "2021-10-29T05:16:29.393Z"
   },
   {
    "duration": 428,
    "start_time": "2021-10-29T05:16:29.537Z"
   },
   {
    "duration": 22,
    "start_time": "2021-10-29T05:16:29.967Z"
   },
   {
    "duration": 42,
    "start_time": "2021-10-29T05:16:29.991Z"
   },
   {
    "duration": 40,
    "start_time": "2021-10-29T05:16:30.059Z"
   },
   {
    "duration": 177,
    "start_time": "2021-10-29T05:16:30.102Z"
   },
   {
    "duration": 41,
    "start_time": "2021-10-29T05:16:30.281Z"
   },
   {
    "duration": 160,
    "start_time": "2021-10-29T05:16:30.325Z"
   },
   {
    "duration": 442,
    "start_time": "2021-10-29T05:16:30.487Z"
   },
   {
    "duration": 28,
    "start_time": "2021-10-29T05:16:30.931Z"
   },
   {
    "duration": 90,
    "start_time": "2021-10-29T05:18:22.790Z"
   },
   {
    "duration": 5,
    "start_time": "2021-10-29T05:19:44.472Z"
   },
   {
    "duration": 181,
    "start_time": "2021-10-29T05:22:11.532Z"
   },
   {
    "duration": 22,
    "start_time": "2021-10-29T05:23:18.456Z"
   },
   {
    "duration": 4,
    "start_time": "2021-10-29T05:23:43.074Z"
   },
   {
    "duration": 1055,
    "start_time": "2021-10-29T05:23:43.080Z"
   },
   {
    "duration": 163,
    "start_time": "2021-10-29T05:23:44.138Z"
   },
   {
    "duration": 126,
    "start_time": "2021-10-29T05:23:44.304Z"
   },
   {
    "duration": 39,
    "start_time": "2021-10-29T05:23:44.433Z"
   },
   {
    "duration": 35,
    "start_time": "2021-10-29T05:23:44.475Z"
   },
   {
    "duration": 59,
    "start_time": "2021-10-29T05:23:44.513Z"
   },
   {
    "duration": 595,
    "start_time": "2021-10-29T05:23:44.576Z"
   },
   {
    "duration": 33,
    "start_time": "2021-10-29T05:23:45.174Z"
   },
   {
    "duration": 56,
    "start_time": "2021-10-29T05:23:45.210Z"
   },
   {
    "duration": 65,
    "start_time": "2021-10-29T05:23:45.269Z"
   },
   {
    "duration": 52,
    "start_time": "2021-10-29T05:23:45.337Z"
   },
   {
    "duration": 5776,
    "start_time": "2021-10-29T05:23:45.392Z"
   },
   {
    "duration": 5344,
    "start_time": "2021-10-29T05:23:51.170Z"
   },
   {
    "duration": 5944,
    "start_time": "2021-10-29T05:23:56.517Z"
   },
   {
    "duration": 3,
    "start_time": "2021-10-29T05:24:02.464Z"
   },
   {
    "duration": 450,
    "start_time": "2021-10-29T05:24:02.469Z"
   },
   {
    "duration": 26,
    "start_time": "2021-10-29T05:24:02.922Z"
   },
   {
    "duration": 26,
    "start_time": "2021-10-29T05:24:02.958Z"
   },
   {
    "duration": 222,
    "start_time": "2021-10-29T05:24:02.986Z"
   },
   {
    "duration": 26,
    "start_time": "2021-10-29T05:24:03.210Z"
   },
   {
    "duration": 193,
    "start_time": "2021-10-29T05:24:03.238Z"
   },
   {
    "duration": 45,
    "start_time": "2021-10-29T05:24:03.435Z"
   },
   {
    "duration": 286,
    "start_time": "2021-10-29T05:24:03.483Z"
   },
   {
    "duration": 146,
    "start_time": "2021-10-29T05:24:03.771Z"
   },
   {
    "duration": 438,
    "start_time": "2021-10-29T05:24:03.919Z"
   },
   {
    "duration": 23,
    "start_time": "2021-10-29T05:24:04.359Z"
   },
   {
    "duration": 40,
    "start_time": "2021-10-29T05:24:04.384Z"
   },
   {
    "duration": 66,
    "start_time": "2021-10-29T05:24:04.426Z"
   },
   {
    "duration": 179,
    "start_time": "2021-10-29T05:24:04.495Z"
   },
   {
    "duration": 40,
    "start_time": "2021-10-29T05:24:04.677Z"
   },
   {
    "duration": 149,
    "start_time": "2021-10-29T05:24:04.719Z"
   },
   {
    "duration": 440,
    "start_time": "2021-10-29T05:24:04.870Z"
   },
   {
    "duration": 28,
    "start_time": "2021-10-29T05:24:05.313Z"
   },
   {
    "duration": 105,
    "start_time": "2021-10-29T05:24:05.357Z"
   },
   {
    "duration": 5,
    "start_time": "2021-10-29T05:24:05.464Z"
   },
   {
    "duration": 87,
    "start_time": "2021-10-29T05:25:57.922Z"
   },
   {
    "duration": 92,
    "start_time": "2021-10-29T05:26:29.758Z"
   },
   {
    "duration": 21,
    "start_time": "2021-10-29T05:26:44.711Z"
   },
   {
    "duration": 21,
    "start_time": "2021-10-29T05:26:53.902Z"
   },
   {
    "duration": 30,
    "start_time": "2021-10-29T05:27:29.984Z"
   },
   {
    "duration": 168,
    "start_time": "2021-10-29T05:27:30.018Z"
   },
   {
    "duration": 39,
    "start_time": "2021-10-29T05:27:30.189Z"
   },
   {
    "duration": 317,
    "start_time": "2021-10-29T05:27:30.231Z"
   },
   {
    "duration": 137,
    "start_time": "2021-10-29T05:27:30.550Z"
   },
   {
    "duration": 420,
    "start_time": "2021-10-29T05:27:30.689Z"
   },
   {
    "duration": 19,
    "start_time": "2021-10-29T05:27:31.112Z"
   },
   {
    "duration": 42,
    "start_time": "2021-10-29T05:27:31.134Z"
   },
   {
    "duration": 64,
    "start_time": "2021-10-29T05:27:31.179Z"
   },
   {
    "duration": 181,
    "start_time": "2021-10-29T05:27:31.246Z"
   },
   {
    "duration": 40,
    "start_time": "2021-10-29T05:27:31.429Z"
   },
   {
    "duration": 142,
    "start_time": "2021-10-29T05:27:31.472Z"
   },
   {
    "duration": 413,
    "start_time": "2021-10-29T05:27:31.617Z"
   },
   {
    "duration": 28,
    "start_time": "2021-10-29T05:27:32.032Z"
   },
   {
    "duration": 99,
    "start_time": "2021-10-29T05:27:32.063Z"
   },
   {
    "duration": 5,
    "start_time": "2021-10-29T05:27:32.165Z"
   },
   {
    "duration": 3,
    "start_time": "2021-10-29T05:28:47.509Z"
   },
   {
    "duration": 3,
    "start_time": "2021-10-29T05:29:11.664Z"
   },
   {
    "duration": 307,
    "start_time": "2021-10-29T05:30:00.758Z"
   },
   {
    "duration": 4752,
    "start_time": "2021-10-29T05:30:15.944Z"
   },
   {
    "duration": 4512,
    "start_time": "2021-10-29T05:30:36.634Z"
   },
   {
    "duration": 513,
    "start_time": "2021-10-29T05:30:57.715Z"
   },
   {
    "duration": 4953,
    "start_time": "2021-10-29T05:30:58.231Z"
   },
   {
    "duration": 23,
    "start_time": "2021-10-29T05:31:03.187Z"
   },
   {
    "duration": 47,
    "start_time": "2021-10-29T05:31:03.212Z"
   },
   {
    "duration": 197,
    "start_time": "2021-10-29T05:31:03.261Z"
   },
   {
    "duration": 22,
    "start_time": "2021-10-29T05:31:03.460Z"
   },
   {
    "duration": 167,
    "start_time": "2021-10-29T05:31:03.484Z"
   },
   {
    "duration": 39,
    "start_time": "2021-10-29T05:31:03.654Z"
   },
   {
    "duration": 284,
    "start_time": "2021-10-29T05:31:03.696Z"
   },
   {
    "duration": 127,
    "start_time": "2021-10-29T05:31:03.983Z"
   },
   {
    "duration": 431,
    "start_time": "2021-10-29T05:31:04.112Z"
   },
   {
    "duration": 24,
    "start_time": "2021-10-29T05:31:04.545Z"
   },
   {
    "duration": 27,
    "start_time": "2021-10-29T05:31:04.572Z"
   },
   {
    "duration": 63,
    "start_time": "2021-10-29T05:31:04.601Z"
   },
   {
    "duration": 166,
    "start_time": "2021-10-29T05:31:04.666Z"
   },
   {
    "duration": 42,
    "start_time": "2021-10-29T05:31:04.835Z"
   },
   {
    "duration": 134,
    "start_time": "2021-10-29T05:31:04.879Z"
   },
   {
    "duration": 446,
    "start_time": "2021-10-29T05:31:05.015Z"
   },
   {
    "duration": 21,
    "start_time": "2021-10-29T05:31:05.464Z"
   },
   {
    "duration": 115,
    "start_time": "2021-10-29T05:31:05.488Z"
   },
   {
    "duration": 6,
    "start_time": "2021-10-29T05:31:05.606Z"
   },
   {
    "duration": 4714,
    "start_time": "2021-10-29T05:31:39.877Z"
   },
   {
    "duration": 4688,
    "start_time": "2021-10-29T05:31:59.492Z"
   },
   {
    "duration": 310,
    "start_time": "2021-10-29T05:33:34.482Z"
   },
   {
    "duration": 4533,
    "start_time": "2021-10-29T05:33:36.225Z"
   },
   {
    "duration": 307,
    "start_time": "2021-10-29T05:33:54.357Z"
   },
   {
    "duration": 4668,
    "start_time": "2021-10-29T05:33:56.654Z"
   },
   {
    "duration": 315,
    "start_time": "2021-10-29T05:34:06.739Z"
   },
   {
    "duration": 4613,
    "start_time": "2021-10-29T05:34:10.762Z"
   },
   {
    "duration": 26,
    "start_time": "2021-10-29T05:34:21.831Z"
   },
   {
    "duration": 23,
    "start_time": "2021-10-29T05:34:21.860Z"
   },
   {
    "duration": 199,
    "start_time": "2021-10-29T05:34:21.886Z"
   },
   {
    "duration": 21,
    "start_time": "2021-10-29T05:34:22.088Z"
   },
   {
    "duration": 176,
    "start_time": "2021-10-29T05:34:22.112Z"
   },
   {
    "duration": 39,
    "start_time": "2021-10-29T05:34:22.291Z"
   },
   {
    "duration": 299,
    "start_time": "2021-10-29T05:34:22.333Z"
   },
   {
    "duration": 131,
    "start_time": "2021-10-29T05:34:22.637Z"
   },
   {
    "duration": 414,
    "start_time": "2021-10-29T05:34:22.771Z"
   },
   {
    "duration": 23,
    "start_time": "2021-10-29T05:34:23.187Z"
   },
   {
    "duration": 56,
    "start_time": "2021-10-29T05:34:23.213Z"
   },
   {
    "duration": 41,
    "start_time": "2021-10-29T05:34:23.271Z"
   },
   {
    "duration": 181,
    "start_time": "2021-10-29T05:34:23.315Z"
   },
   {
    "duration": 39,
    "start_time": "2021-10-29T05:34:23.499Z"
   },
   {
    "duration": 137,
    "start_time": "2021-10-29T05:34:23.541Z"
   },
   {
    "duration": 421,
    "start_time": "2021-10-29T05:34:23.680Z"
   },
   {
    "duration": 21,
    "start_time": "2021-10-29T05:34:24.103Z"
   },
   {
    "duration": 108,
    "start_time": "2021-10-29T05:34:24.127Z"
   },
   {
    "duration": 5,
    "start_time": "2021-10-29T05:34:24.238Z"
   },
   {
    "duration": 381,
    "start_time": "2021-10-29T05:34:56.858Z"
   },
   {
    "duration": 4981,
    "start_time": "2021-10-29T05:34:58.095Z"
   },
   {
    "duration": 115,
    "start_time": "2021-10-29T05:40:11.879Z"
   },
   {
    "duration": 375,
    "start_time": "2021-10-29T05:40:25.097Z"
   },
   {
    "duration": 372,
    "start_time": "2021-10-29T05:40:31.266Z"
   },
   {
    "duration": 208,
    "start_time": "2021-10-29T05:41:16.176Z"
   },
   {
    "duration": 192,
    "start_time": "2021-10-29T05:41:39.742Z"
   },
   {
    "duration": 230,
    "start_time": "2021-10-29T05:42:02.802Z"
   },
   {
    "duration": 224,
    "start_time": "2021-10-29T05:43:46.775Z"
   },
   {
    "duration": 3,
    "start_time": "2021-10-29T05:43:57.797Z"
   },
   {
    "duration": 994,
    "start_time": "2021-10-29T05:43:57.803Z"
   },
   {
    "duration": 164,
    "start_time": "2021-10-29T05:43:58.801Z"
   },
   {
    "duration": 556,
    "start_time": "2021-10-29T05:43:58.968Z"
   },
   {
    "duration": 658,
    "start_time": "2021-10-29T05:44:35.335Z"
   },
   {
    "duration": 582,
    "start_time": "2021-10-29T05:44:46.439Z"
   },
   {
    "duration": 533,
    "start_time": "2021-10-29T05:52:15.481Z"
   },
   {
    "duration": 1359,
    "start_time": "2021-10-29T05:52:59.725Z"
   },
   {
    "duration": 5266,
    "start_time": "2021-10-29T08:17:44.999Z"
   },
   {
    "duration": 56,
    "start_time": "2021-10-29T08:19:59.196Z"
   },
   {
    "duration": 67,
    "start_time": "2021-10-29T08:20:04.088Z"
   },
   {
    "duration": 4,
    "start_time": "2021-10-29T08:20:31.640Z"
   },
   {
    "duration": 1110,
    "start_time": "2021-10-29T08:20:31.647Z"
   },
   {
    "duration": 173,
    "start_time": "2021-10-29T08:20:32.761Z"
   },
   {
    "duration": 144,
    "start_time": "2021-10-29T08:20:32.937Z"
   },
   {
    "duration": 585,
    "start_time": "2021-10-29T08:20:33.084Z"
   },
   {
    "duration": 1312,
    "start_time": "2021-10-29T08:20:33.671Z"
   },
   {
    "duration": 50,
    "start_time": "2021-10-29T08:20:34.986Z"
   },
   {
    "duration": 39,
    "start_time": "2021-10-29T08:20:35.057Z"
   },
   {
    "duration": 41,
    "start_time": "2021-10-29T08:20:35.099Z"
   },
   {
    "duration": 736,
    "start_time": "2021-10-29T08:20:35.159Z"
   },
   {
    "duration": 31,
    "start_time": "2021-10-29T08:20:35.898Z"
   },
   {
    "duration": 50,
    "start_time": "2021-10-29T08:20:35.932Z"
   },
   {
    "duration": 72,
    "start_time": "2021-10-29T08:20:35.985Z"
   },
   {
    "duration": 23,
    "start_time": "2021-10-29T08:20:36.060Z"
   },
   {
    "duration": 5738,
    "start_time": "2021-10-29T08:20:36.085Z"
   },
   {
    "duration": 5227,
    "start_time": "2021-10-29T08:20:41.826Z"
   },
   {
    "duration": 5362,
    "start_time": "2021-10-29T08:20:47.058Z"
   },
   {
    "duration": 3,
    "start_time": "2021-10-29T08:20:52.422Z"
   },
   {
    "duration": 361,
    "start_time": "2021-10-29T08:20:52.427Z"
   },
   {
    "duration": 5011,
    "start_time": "2021-10-29T08:20:52.791Z"
   },
   {
    "duration": 29,
    "start_time": "2021-10-29T08:20:57.805Z"
   },
   {
    "duration": 30,
    "start_time": "2021-10-29T08:20:57.859Z"
   },
   {
    "duration": 233,
    "start_time": "2021-10-29T08:20:57.896Z"
   },
   {
    "duration": 35,
    "start_time": "2021-10-29T08:20:58.132Z"
   },
   {
    "duration": 169,
    "start_time": "2021-10-29T08:20:58.170Z"
   },
   {
    "duration": 48,
    "start_time": "2021-10-29T08:20:58.341Z"
   },
   {
    "duration": 467,
    "start_time": "2021-10-29T08:20:58.392Z"
   },
   {
    "duration": 141,
    "start_time": "2021-10-29T08:20:58.861Z"
   },
   {
    "duration": 434,
    "start_time": "2021-10-29T08:20:59.004Z"
   },
   {
    "duration": 29,
    "start_time": "2021-10-29T08:20:59.441Z"
   },
   {
    "duration": 39,
    "start_time": "2021-10-29T08:20:59.473Z"
   },
   {
    "duration": 61,
    "start_time": "2021-10-29T08:20:59.514Z"
   },
   {
    "duration": 162,
    "start_time": "2021-10-29T08:20:59.578Z"
   },
   {
    "duration": 46,
    "start_time": "2021-10-29T08:20:59.743Z"
   },
   {
    "duration": 143,
    "start_time": "2021-10-29T08:20:59.791Z"
   },
   {
    "duration": 450,
    "start_time": "2021-10-29T08:20:59.937Z"
   },
   {
    "duration": 21,
    "start_time": "2021-10-29T08:21:00.389Z"
   },
   {
    "duration": 140,
    "start_time": "2021-10-29T08:21:00.412Z"
   },
   {
    "duration": 50,
    "start_time": "2021-10-29T08:21:00.554Z"
   },
   {
    "duration": 48,
    "start_time": "2021-10-29T08:22:37.300Z"
   },
   {
    "duration": 603,
    "start_time": "2021-10-29T08:22:48.002Z"
   },
   {
    "duration": 455,
    "start_time": "2021-10-29T08:25:00.819Z"
   },
   {
    "duration": 412,
    "start_time": "2021-10-29T08:32:54.434Z"
   },
   {
    "duration": 33,
    "start_time": "2021-10-29T08:39:30.698Z"
   },
   {
    "duration": 381,
    "start_time": "2021-10-29T08:39:39.762Z"
   },
   {
    "duration": 3,
    "start_time": "2021-10-29T08:40:04.703Z"
   },
   {
    "duration": 1037,
    "start_time": "2021-10-29T08:40:04.709Z"
   },
   {
    "duration": 165,
    "start_time": "2021-10-29T08:40:05.750Z"
   },
   {
    "duration": 123,
    "start_time": "2021-10-29T08:40:05.918Z"
   },
   {
    "duration": 537,
    "start_time": "2021-10-29T08:40:06.044Z"
   },
   {
    "duration": 1206,
    "start_time": "2021-10-29T08:40:06.583Z"
   },
   {
    "duration": 49,
    "start_time": "2021-10-29T08:40:07.792Z"
   },
   {
    "duration": 50,
    "start_time": "2021-10-29T08:40:07.844Z"
   },
   {
    "duration": 62,
    "start_time": "2021-10-29T08:40:07.896Z"
   },
   {
    "duration": 607,
    "start_time": "2021-10-29T08:40:07.960Z"
   },
   {
    "duration": 33,
    "start_time": "2021-10-29T08:40:08.570Z"
   },
   {
    "duration": 60,
    "start_time": "2021-10-29T08:40:08.606Z"
   },
   {
    "duration": 52,
    "start_time": "2021-10-29T08:40:08.668Z"
   },
   {
    "duration": 37,
    "start_time": "2021-10-29T08:40:08.722Z"
   },
   {
    "duration": 5546,
    "start_time": "2021-10-29T08:40:08.762Z"
   },
   {
    "duration": 5035,
    "start_time": "2021-10-29T08:40:14.310Z"
   },
   {
    "duration": 5119,
    "start_time": "2021-10-29T08:40:19.348Z"
   },
   {
    "duration": 4,
    "start_time": "2021-10-29T08:40:24.469Z"
   },
   {
    "duration": 348,
    "start_time": "2021-10-29T08:40:24.478Z"
   },
   {
    "duration": 4996,
    "start_time": "2021-10-29T08:40:24.829Z"
   },
   {
    "duration": 42,
    "start_time": "2021-10-29T08:40:29.827Z"
   },
   {
    "duration": 28,
    "start_time": "2021-10-29T08:40:29.871Z"
   },
   {
    "duration": 224,
    "start_time": "2021-10-29T08:40:29.902Z"
   },
   {
    "duration": 37,
    "start_time": "2021-10-29T08:40:30.128Z"
   },
   {
    "duration": 174,
    "start_time": "2021-10-29T08:40:30.167Z"
   },
   {
    "duration": 49,
    "start_time": "2021-10-29T08:40:30.344Z"
   },
   {
    "duration": 316,
    "start_time": "2021-10-29T08:40:30.396Z"
   },
   {
    "duration": 146,
    "start_time": "2021-10-29T08:40:30.715Z"
   },
   {
    "duration": 441,
    "start_time": "2021-10-29T08:40:30.863Z"
   },
   {
    "duration": 21,
    "start_time": "2021-10-29T08:40:31.306Z"
   },
   {
    "duration": 52,
    "start_time": "2021-10-29T08:40:31.329Z"
   },
   {
    "duration": 45,
    "start_time": "2021-10-29T08:40:31.383Z"
   },
   {
    "duration": 177,
    "start_time": "2021-10-29T08:40:31.430Z"
   },
   {
    "duration": 51,
    "start_time": "2021-10-29T08:40:31.609Z"
   },
   {
    "duration": 132,
    "start_time": "2021-10-29T08:40:31.663Z"
   },
   {
    "duration": 428,
    "start_time": "2021-10-29T08:40:31.797Z"
   },
   {
    "duration": 30,
    "start_time": "2021-10-29T08:40:32.227Z"
   },
   {
    "duration": 132,
    "start_time": "2021-10-29T08:40:32.260Z"
   },
   {
    "duration": 49,
    "start_time": "2021-10-29T08:40:32.395Z"
   },
   {
    "duration": 447,
    "start_time": "2021-10-29T08:40:32.457Z"
   },
   {
    "duration": 32,
    "start_time": "2021-10-29T08:40:32.906Z"
   },
   {
    "duration": 17,
    "start_time": "2021-10-29T08:40:53.912Z"
   },
   {
    "duration": 984,
    "start_time": "2021-10-29T08:51:20.165Z"
   },
   {
    "duration": 567,
    "start_time": "2021-10-29T09:06:28.065Z"
   },
   {
    "duration": 60,
    "start_time": "2021-10-29T09:07:50.342Z"
   },
   {
    "duration": 1083,
    "start_time": "2021-10-29T09:07:57.876Z"
   },
   {
    "duration": 5,
    "start_time": "2021-10-29T09:13:45.198Z"
   },
   {
    "duration": 367,
    "start_time": "2021-10-29T09:20:59.116Z"
   },
   {
    "duration": 616,
    "start_time": "2021-10-29T09:21:48.210Z"
   },
   {
    "duration": 361,
    "start_time": "2021-10-29T09:22:06.969Z"
   },
   {
    "duration": 4,
    "start_time": "2021-10-29T09:23:13.990Z"
   },
   {
    "duration": 784,
    "start_time": "2021-10-29T09:23:45.895Z"
   },
   {
    "duration": 4,
    "start_time": "2021-10-29T09:23:58.796Z"
   },
   {
    "duration": 242,
    "start_time": "2021-10-29T09:24:04.551Z"
   },
   {
    "duration": 368,
    "start_time": "2021-10-29T09:24:22.574Z"
   },
   {
    "duration": 361,
    "start_time": "2021-10-29T09:24:26.543Z"
   },
   {
    "duration": 502,
    "start_time": "2021-10-29T09:25:30.975Z"
   },
   {
    "duration": 4,
    "start_time": "2021-10-29T09:26:59.112Z"
   },
   {
    "duration": 317,
    "start_time": "2021-10-29T09:27:04.212Z"
   },
   {
    "duration": 4,
    "start_time": "2021-10-29T09:27:25.665Z"
   },
   {
    "duration": 220,
    "start_time": "2021-10-29T09:27:30.728Z"
   },
   {
    "duration": 3,
    "start_time": "2021-10-29T09:28:26.117Z"
   },
   {
    "duration": 224,
    "start_time": "2021-10-29T09:28:30.663Z"
   },
   {
    "duration": 49,
    "start_time": "2021-10-29T09:33:48.510Z"
   },
   {
    "duration": 5,
    "start_time": "2021-10-29T09:48:24.579Z"
   },
   {
    "duration": 360,
    "start_time": "2021-10-29T09:51:04.642Z"
   },
   {
    "duration": 4,
    "start_time": "2021-10-29T09:54:40.359Z"
   },
   {
    "duration": 10,
    "start_time": "2021-10-29T09:56:05.984Z"
   },
   {
    "duration": 359,
    "start_time": "2021-10-29T09:56:49.160Z"
   },
   {
    "duration": 5,
    "start_time": "2021-10-29T09:58:21.352Z"
   },
   {
    "duration": 5,
    "start_time": "2021-10-29T09:58:26.495Z"
   },
   {
    "duration": 4,
    "start_time": "2021-10-29T10:08:35.400Z"
   },
   {
    "duration": 243,
    "start_time": "2021-10-29T10:08:37.145Z"
   },
   {
    "duration": 65708,
    "start_time": "2021-10-29T10:09:29.234Z"
   },
   {
    "duration": 4,
    "start_time": "2021-10-29T10:11:39.365Z"
   },
   {
    "duration": 16965,
    "start_time": "2021-10-29T10:11:42.151Z"
   },
   {
    "duration": 4,
    "start_time": "2021-10-29T10:12:09.091Z"
   },
   {
    "duration": 1323151,
    "start_time": "2021-10-29T10:12:13.209Z"
   },
   {
    "duration": 959124,
    "start_time": "2021-10-29T10:34:35.967Z"
   },
   {
    "duration": 29832,
    "start_time": "2021-10-29T10:58:27.627Z"
   },
   {
    "duration": 4,
    "start_time": "2021-10-29T11:00:12.762Z"
   },
   {
    "duration": 4,
    "start_time": "2021-10-29T11:00:24.835Z"
   },
   {
    "duration": 31775,
    "start_time": "2021-10-29T11:00:27.086Z"
   },
   {
    "duration": 5,
    "start_time": "2021-10-29T11:24:01.324Z"
   },
   {
    "duration": 165630,
    "start_time": "2021-10-29T11:25:25.631Z"
   },
   {
    "duration": 24,
    "start_time": "2021-10-29T16:42:52.877Z"
   },
   {
    "duration": 5,
    "start_time": "2021-10-29T16:45:47.197Z"
   },
   {
    "duration": 922,
    "start_time": "2021-10-29T16:45:47.204Z"
   },
   {
    "duration": 145,
    "start_time": "2021-10-29T16:45:48.128Z"
   },
   {
    "duration": 107,
    "start_time": "2021-10-29T16:45:48.276Z"
   },
   {
    "duration": 423,
    "start_time": "2021-10-29T16:45:48.385Z"
   },
   {
    "duration": 897,
    "start_time": "2021-10-29T16:45:48.811Z"
   },
   {
    "duration": 30,
    "start_time": "2021-10-29T16:45:49.711Z"
   },
   {
    "duration": 20,
    "start_time": "2021-10-29T16:45:49.744Z"
   },
   {
    "duration": 52,
    "start_time": "2021-10-29T16:45:49.766Z"
   },
   {
    "duration": 689,
    "start_time": "2021-10-29T16:45:49.821Z"
   },
   {
    "duration": 29,
    "start_time": "2021-10-29T16:45:50.512Z"
   },
   {
    "duration": 24,
    "start_time": "2021-10-29T16:45:50.543Z"
   },
   {
    "duration": 59,
    "start_time": "2021-10-29T16:45:50.569Z"
   },
   {
    "duration": 20,
    "start_time": "2021-10-29T16:45:50.630Z"
   },
   {
    "duration": 4305,
    "start_time": "2021-10-29T16:45:50.652Z"
   },
   {
    "duration": 4098,
    "start_time": "2021-10-29T16:45:54.959Z"
   },
   {
    "duration": 4119,
    "start_time": "2021-10-29T16:45:59.059Z"
   },
   {
    "duration": 2,
    "start_time": "2021-10-29T16:46:03.179Z"
   },
   {
    "duration": 258,
    "start_time": "2021-10-29T16:46:03.185Z"
   },
   {
    "duration": 3800,
    "start_time": "2021-10-29T16:46:03.445Z"
   },
   {
    "duration": 23,
    "start_time": "2021-10-29T16:46:07.247Z"
   },
   {
    "duration": 40,
    "start_time": "2021-10-29T16:46:07.272Z"
   },
   {
    "duration": 182,
    "start_time": "2021-10-29T16:46:07.315Z"
   },
   {
    "duration": 27,
    "start_time": "2021-10-29T16:46:07.508Z"
   },
   {
    "duration": 140,
    "start_time": "2021-10-29T16:46:07.537Z"
   },
   {
    "duration": 42,
    "start_time": "2021-10-29T16:46:07.679Z"
   },
   {
    "duration": 430,
    "start_time": "2021-10-29T16:46:07.723Z"
   },
   {
    "duration": 107,
    "start_time": "2021-10-29T16:46:08.155Z"
   },
   {
    "duration": 307,
    "start_time": "2021-10-29T16:46:08.264Z"
   },
   {
    "duration": 16,
    "start_time": "2021-10-29T16:46:08.573Z"
   },
   {
    "duration": 47,
    "start_time": "2021-10-29T16:46:08.591Z"
   },
   {
    "duration": 34,
    "start_time": "2021-10-29T16:46:08.640Z"
   },
   {
    "duration": 132,
    "start_time": "2021-10-29T16:46:08.676Z"
   },
   {
    "duration": 39,
    "start_time": "2021-10-29T16:46:08.810Z"
   },
   {
    "duration": 117,
    "start_time": "2021-10-29T16:46:08.851Z"
   },
   {
    "duration": 307,
    "start_time": "2021-10-29T16:46:08.970Z"
   },
   {
    "duration": 13,
    "start_time": "2021-10-29T16:46:09.279Z"
   },
   {
    "duration": 114,
    "start_time": "2021-10-29T16:46:09.293Z"
   },
   {
    "duration": 42,
    "start_time": "2021-10-29T16:46:09.410Z"
   },
   {
    "duration": 381,
    "start_time": "2021-10-29T16:46:09.454Z"
   },
   {
    "duration": 22,
    "start_time": "2021-10-29T16:46:09.838Z"
   },
   {
    "duration": 16,
    "start_time": "2021-10-29T16:46:09.862Z"
   },
   {
    "duration": 765,
    "start_time": "2021-10-29T16:46:09.880Z"
   },
   {
    "duration": 942,
    "start_time": "2021-10-29T16:46:10.647Z"
   },
   {
    "duration": 181,
    "start_time": "2021-10-29T16:46:11.591Z"
   },
   {
    "duration": 3,
    "start_time": "2021-10-29T16:46:11.773Z"
   },
   {
    "duration": 4,
    "start_time": "2021-10-29T16:52:16.992Z"
   },
   {
    "duration": 9523,
    "start_time": "2021-10-29T16:58:58.325Z"
   },
   {
    "duration": 59570,
    "start_time": "2021-10-29T16:59:13.875Z"
   },
   {
    "duration": 111,
    "start_time": "2021-10-29T17:01:22.609Z"
   },
   {
    "duration": 68649,
    "start_time": "2021-10-29T17:01:27.658Z"
   },
   {
    "duration": 266057,
    "start_time": "2021-10-29T17:06:29.063Z"
   },
   {
    "duration": 93308,
    "start_time": "2021-10-29T17:17:59.612Z"
   },
   {
    "duration": 4398,
    "start_time": "2021-10-29T17:22:27.329Z"
   },
   {
    "duration": 108,
    "start_time": "2021-10-29T17:32:15.740Z"
   },
   {
    "duration": 740858,
    "start_time": "2021-10-29T17:32:54.263Z"
   },
   {
    "duration": 716,
    "start_time": "2021-10-30T09:31:12.694Z"
   },
   {
    "duration": 1602,
    "start_time": "2021-10-30T09:31:18.969Z"
   },
   {
    "duration": 1157,
    "start_time": "2021-10-30T09:31:20.574Z"
   },
   {
    "duration": 181,
    "start_time": "2021-10-30T09:31:21.735Z"
   },
   {
    "duration": 138,
    "start_time": "2021-10-30T09:31:21.920Z"
   },
   {
    "duration": 624,
    "start_time": "2021-10-30T09:31:22.061Z"
   },
   {
    "duration": 1402,
    "start_time": "2021-10-30T09:31:22.688Z"
   },
   {
    "duration": 55,
    "start_time": "2021-10-30T09:31:24.093Z"
   },
   {
    "duration": 58,
    "start_time": "2021-10-30T09:31:24.151Z"
   },
   {
    "duration": 48,
    "start_time": "2021-10-30T09:31:24.211Z"
   },
   {
    "duration": 645,
    "start_time": "2021-10-30T09:31:24.261Z"
   },
   {
    "duration": 39,
    "start_time": "2021-10-30T09:31:24.908Z"
   },
   {
    "duration": 17,
    "start_time": "2021-10-30T09:33:05.581Z"
   },
   {
    "duration": 36,
    "start_time": "2021-10-30T09:33:17.705Z"
   },
   {
    "duration": 6072,
    "start_time": "2021-10-30T09:35:00.509Z"
   },
   {
    "duration": 6,
    "start_time": "2021-10-30T09:35:32.292Z"
   },
   {
    "duration": 1100,
    "start_time": "2021-10-30T09:35:32.300Z"
   },
   {
    "duration": 164,
    "start_time": "2021-10-30T09:35:33.403Z"
   },
   {
    "duration": 130,
    "start_time": "2021-10-30T09:35:33.570Z"
   },
   {
    "duration": 612,
    "start_time": "2021-10-30T09:35:33.702Z"
   },
   {
    "duration": 1308,
    "start_time": "2021-10-30T09:35:34.316Z"
   },
   {
    "duration": 48,
    "start_time": "2021-10-30T09:35:35.626Z"
   },
   {
    "duration": 54,
    "start_time": "2021-10-30T09:35:35.678Z"
   },
   {
    "duration": 42,
    "start_time": "2021-10-30T09:35:35.735Z"
   },
   {
    "duration": 637,
    "start_time": "2021-10-30T09:35:35.780Z"
   },
   {
    "duration": 36,
    "start_time": "2021-10-30T09:35:36.420Z"
   },
   {
    "duration": 60,
    "start_time": "2021-10-30T09:35:36.459Z"
   },
   {
    "duration": 55,
    "start_time": "2021-10-30T09:35:36.521Z"
   },
   {
    "duration": 40,
    "start_time": "2021-10-30T09:35:36.579Z"
   },
   {
    "duration": 5895,
    "start_time": "2021-10-30T09:35:36.621Z"
   },
   {
    "duration": 5702,
    "start_time": "2021-10-30T09:36:01.027Z"
   },
   {
    "duration": 5835,
    "start_time": "2021-10-30T09:37:04.186Z"
   },
   {
    "duration": 6609,
    "start_time": "2021-10-30T09:40:52.282Z"
   },
   {
    "duration": 5137,
    "start_time": "2021-10-30T09:41:48.034Z"
   },
   {
    "duration": 5319,
    "start_time": "2021-10-30T09:42:06.832Z"
   },
   {
    "duration": 5537,
    "start_time": "2021-10-30T09:42:37.284Z"
   },
   {
    "duration": 8679,
    "start_time": "2021-10-30T09:43:50.268Z"
   },
   {
    "duration": 7216,
    "start_time": "2021-10-30T09:44:09.232Z"
   },
   {
    "duration": 619,
    "start_time": "2021-10-30T09:45:24.658Z"
   },
   {
    "duration": 625,
    "start_time": "2021-10-30T09:46:05.045Z"
   },
   {
    "duration": 5225,
    "start_time": "2021-10-30T09:47:05.197Z"
   },
   {
    "duration": 3,
    "start_time": "2021-10-30T09:47:38.089Z"
   },
   {
    "duration": 613,
    "start_time": "2021-10-30T09:47:38.641Z"
   },
   {
    "duration": 5224,
    "start_time": "2021-10-30T09:47:41.194Z"
   },
   {
    "duration": 6707,
    "start_time": "2021-10-30T09:49:30.554Z"
   },
   {
    "duration": 6,
    "start_time": "2021-10-30T09:49:54.669Z"
   },
   {
    "duration": 1081,
    "start_time": "2021-10-30T09:49:54.678Z"
   },
   {
    "duration": 172,
    "start_time": "2021-10-30T09:49:55.763Z"
   },
   {
    "duration": 131,
    "start_time": "2021-10-30T09:49:55.937Z"
   },
   {
    "duration": 574,
    "start_time": "2021-10-30T09:49:56.071Z"
   },
   {
    "duration": 1254,
    "start_time": "2021-10-30T09:49:56.648Z"
   },
   {
    "duration": 48,
    "start_time": "2021-10-30T09:49:57.904Z"
   },
   {
    "duration": 57,
    "start_time": "2021-10-30T09:49:57.955Z"
   },
   {
    "duration": 41,
    "start_time": "2021-10-30T09:49:58.014Z"
   },
   {
    "duration": 647,
    "start_time": "2021-10-30T09:49:58.058Z"
   },
   {
    "duration": 34,
    "start_time": "2021-10-30T09:49:58.707Z"
   },
   {
    "duration": 61,
    "start_time": "2021-10-30T09:49:58.743Z"
   },
   {
    "duration": 54,
    "start_time": "2021-10-30T09:49:58.806Z"
   },
   {
    "duration": 40,
    "start_time": "2021-10-30T09:49:58.862Z"
   },
   {
    "duration": 6215,
    "start_time": "2021-10-30T09:49:58.905Z"
   },
   {
    "duration": 22,
    "start_time": "2021-10-30T09:53:27.813Z"
   },
   {
    "duration": 483,
    "start_time": "2021-10-30T09:54:02.719Z"
   },
   {
    "duration": 21,
    "start_time": "2021-10-30T09:54:08.202Z"
   },
   {
    "duration": 23,
    "start_time": "2021-10-30T09:54:30.761Z"
   },
   {
    "duration": 25,
    "start_time": "2021-10-30T09:54:44.080Z"
   },
   {
    "duration": 124,
    "start_time": "2021-10-30T09:55:24.204Z"
   },
   {
    "duration": 22,
    "start_time": "2021-10-30T09:55:39.683Z"
   },
   {
    "duration": 5978,
    "start_time": "2021-10-30T09:55:58.146Z"
   },
   {
    "duration": 5237,
    "start_time": "2021-10-30T09:56:20.266Z"
   },
   {
    "duration": 5184,
    "start_time": "2021-10-30T09:56:26.776Z"
   },
   {
    "duration": 341,
    "start_time": "2021-10-30T09:56:40.324Z"
   },
   {
    "duration": 5165,
    "start_time": "2021-10-30T09:56:43.366Z"
   },
   {
    "duration": 5225,
    "start_time": "2021-10-30T09:59:44.596Z"
   },
   {
    "duration": 301,
    "start_time": "2021-10-30T10:01:37.339Z"
   },
   {
    "duration": 702,
    "start_time": "2021-10-30T10:03:38.873Z"
   },
   {
    "duration": 587,
    "start_time": "2021-10-30T10:06:55.939Z"
   },
   {
    "duration": 142,
    "start_time": "2021-10-30T10:07:23.924Z"
   },
   {
    "duration": 133,
    "start_time": "2021-10-30T10:07:43.157Z"
   },
   {
    "duration": 361,
    "start_time": "2021-10-30T10:08:06.717Z"
   },
   {
    "duration": 27,
    "start_time": "2021-10-30T10:09:03.297Z"
   },
   {
    "duration": 29,
    "start_time": "2021-10-30T10:09:06.242Z"
   },
   {
    "duration": 29,
    "start_time": "2021-10-30T10:09:11.193Z"
   },
   {
    "duration": 161,
    "start_time": "2021-10-30T10:09:13.256Z"
   },
   {
    "duration": 45,
    "start_time": "2021-10-30T10:09:30.516Z"
   },
   {
    "duration": 286,
    "start_time": "2021-10-30T10:09:34.964Z"
   },
   {
    "duration": 141,
    "start_time": "2021-10-30T10:10:10.561Z"
   },
   {
    "duration": 443,
    "start_time": "2021-10-30T10:10:24.041Z"
   },
   {
    "duration": 23,
    "start_time": "2021-10-30T10:10:26.553Z"
   },
   {
    "duration": 396,
    "start_time": "2021-10-30T10:12:32.889Z"
   },
   {
    "duration": 45,
    "start_time": "2021-10-30T10:12:37.311Z"
   },
   {
    "duration": 41,
    "start_time": "2021-10-30T10:12:47.318Z"
   },
   {
    "duration": 42,
    "start_time": "2021-10-30T10:12:51.214Z"
   },
   {
    "duration": 52,
    "start_time": "2021-10-30T10:13:00.000Z"
   },
   {
    "duration": 392,
    "start_time": "2021-10-30T10:13:11.112Z"
   },
   {
    "duration": 43,
    "start_time": "2021-10-30T10:13:15.691Z"
   },
   {
    "duration": 42,
    "start_time": "2021-10-30T10:13:21.530Z"
   },
   {
    "duration": 42,
    "start_time": "2021-10-30T10:13:44.793Z"
   },
   {
    "duration": 5,
    "start_time": "2021-10-30T10:13:55.240Z"
   },
   {
    "duration": 1147,
    "start_time": "2021-10-30T10:13:55.248Z"
   },
   {
    "duration": 178,
    "start_time": "2021-10-30T10:13:56.401Z"
   },
   {
    "duration": 135,
    "start_time": "2021-10-30T10:13:56.582Z"
   },
   {
    "duration": 599,
    "start_time": "2021-10-30T10:13:56.720Z"
   },
   {
    "duration": 1352,
    "start_time": "2021-10-30T10:13:57.321Z"
   },
   {
    "duration": 62,
    "start_time": "2021-10-30T10:13:58.676Z"
   },
   {
    "duration": 38,
    "start_time": "2021-10-30T10:13:58.741Z"
   },
   {
    "duration": 57,
    "start_time": "2021-10-30T10:13:58.782Z"
   },
   {
    "duration": 637,
    "start_time": "2021-10-30T10:13:58.841Z"
   },
   {
    "duration": 41,
    "start_time": "2021-10-30T10:13:59.481Z"
   },
   {
    "duration": 35,
    "start_time": "2021-10-30T10:13:59.525Z"
   },
   {
    "duration": 76,
    "start_time": "2021-10-30T10:13:59.562Z"
   },
   {
    "duration": 21,
    "start_time": "2021-10-30T10:13:59.641Z"
   },
   {
    "duration": 5658,
    "start_time": "2021-10-30T10:13:59.665Z"
   },
   {
    "duration": 5114,
    "start_time": "2021-10-30T10:14:05.326Z"
   },
   {
    "duration": 5563,
    "start_time": "2021-10-30T10:14:10.442Z"
   },
   {
    "duration": 2,
    "start_time": "2021-10-30T10:14:16.008Z"
   },
   {
    "duration": 433,
    "start_time": "2021-10-30T10:14:16.013Z"
   },
   {
    "duration": 5266,
    "start_time": "2021-10-30T10:14:16.448Z"
   },
   {
    "duration": 29,
    "start_time": "2021-10-30T10:14:21.717Z"
   },
   {
    "duration": 30,
    "start_time": "2021-10-30T10:14:21.748Z"
   },
   {
    "duration": 215,
    "start_time": "2021-10-30T10:14:21.803Z"
   },
   {
    "duration": 27,
    "start_time": "2021-10-30T10:14:22.021Z"
   },
   {
    "duration": 193,
    "start_time": "2021-10-30T10:14:22.050Z"
   },
   {
    "duration": 43,
    "start_time": "2021-10-30T10:14:22.245Z"
   },
   {
    "duration": 189,
    "start_time": "2021-10-30T10:14:51.114Z"
   },
   {
    "duration": 43,
    "start_time": "2021-10-30T10:17:50.943Z"
   },
   {
    "duration": 587,
    "start_time": "2021-10-30T10:18:15.739Z"
   },
   {
    "duration": 43,
    "start_time": "2021-10-30T10:18:18.332Z"
   },
   {
    "duration": 589,
    "start_time": "2021-10-30T10:18:21.747Z"
   },
   {
    "duration": 600,
    "start_time": "2021-10-30T10:18:31.284Z"
   },
   {
    "duration": 706,
    "start_time": "2021-10-30T10:18:45.519Z"
   },
   {
    "duration": 44,
    "start_time": "2021-10-30T10:18:53.357Z"
   },
   {
    "duration": 43,
    "start_time": "2021-10-30T10:19:18.910Z"
   },
   {
    "duration": 123,
    "start_time": "2021-10-30T10:19:21.127Z"
   },
   {
    "duration": 684,
    "start_time": "2021-10-30T10:19:32.425Z"
   },
   {
    "duration": 120,
    "start_time": "2021-10-30T10:19:46.063Z"
   },
   {
    "duration": 641,
    "start_time": "2021-10-30T10:22:15.784Z"
   },
   {
    "duration": 123,
    "start_time": "2021-10-30T10:23:23.250Z"
   },
   {
    "duration": 626,
    "start_time": "2021-10-30T10:25:00.246Z"
   },
   {
    "duration": 596,
    "start_time": "2021-10-30T10:25:41.665Z"
   },
   {
    "duration": 49,
    "start_time": "2021-10-30T10:27:02.996Z"
   },
   {
    "duration": 43,
    "start_time": "2021-10-30T10:27:05.365Z"
   },
   {
    "duration": 164,
    "start_time": "2021-10-30T10:29:43.465Z"
   },
   {
    "duration": 42,
    "start_time": "2021-10-30T10:29:46.552Z"
   },
   {
    "duration": 5,
    "start_time": "2021-10-30T10:30:29.977Z"
   },
   {
    "duration": 1122,
    "start_time": "2021-10-30T10:30:29.985Z"
   },
   {
    "duration": 167,
    "start_time": "2021-10-30T10:30:31.110Z"
   },
   {
    "duration": 228,
    "start_time": "2021-10-30T10:30:31.280Z"
   },
   {
    "duration": 569,
    "start_time": "2021-10-30T10:30:31.510Z"
   },
   {
    "duration": 1278,
    "start_time": "2021-10-30T10:30:32.081Z"
   },
   {
    "duration": 61,
    "start_time": "2021-10-30T10:30:33.362Z"
   },
   {
    "duration": 37,
    "start_time": "2021-10-30T10:30:33.426Z"
   },
   {
    "duration": 57,
    "start_time": "2021-10-30T10:30:33.465Z"
   },
   {
    "duration": 627,
    "start_time": "2021-10-30T10:30:33.524Z"
   },
   {
    "duration": 47,
    "start_time": "2021-10-30T10:30:34.153Z"
   },
   {
    "duration": 35,
    "start_time": "2021-10-30T10:30:34.203Z"
   },
   {
    "duration": 80,
    "start_time": "2021-10-30T10:30:34.242Z"
   },
   {
    "duration": 25,
    "start_time": "2021-10-30T10:30:34.325Z"
   },
   {
    "duration": 6012,
    "start_time": "2021-10-30T10:30:34.353Z"
   },
   {
    "duration": 5083,
    "start_time": "2021-10-30T10:30:40.368Z"
   },
   {
    "duration": 5211,
    "start_time": "2021-10-30T10:30:45.454Z"
   },
   {
    "duration": 3,
    "start_time": "2021-10-30T10:30:50.667Z"
   },
   {
    "duration": 617,
    "start_time": "2021-10-30T10:30:50.674Z"
   },
   {
    "duration": 5181,
    "start_time": "2021-10-30T10:30:51.293Z"
   },
   {
    "duration": 37,
    "start_time": "2021-10-30T10:30:56.476Z"
   },
   {
    "duration": 34,
    "start_time": "2021-10-30T10:30:56.515Z"
   },
   {
    "duration": 228,
    "start_time": "2021-10-30T10:30:56.552Z"
   },
   {
    "duration": 36,
    "start_time": "2021-10-30T10:30:56.783Z"
   },
   {
    "duration": 196,
    "start_time": "2021-10-30T10:30:56.822Z"
   },
   {
    "duration": 43,
    "start_time": "2021-10-30T10:30:57.021Z"
   },
   {
    "duration": 311,
    "start_time": "2021-10-30T10:30:57.066Z"
   },
   {
    "duration": 146,
    "start_time": "2021-10-30T10:30:57.379Z"
   },
   {
    "duration": 472,
    "start_time": "2021-10-30T10:30:57.528Z"
   },
   {
    "duration": 21,
    "start_time": "2021-10-30T10:30:58.003Z"
   },
   {
    "duration": 40,
    "start_time": "2021-10-30T10:30:58.028Z"
   },
   {
    "duration": 68,
    "start_time": "2021-10-30T10:30:58.071Z"
   },
   {
    "duration": 156,
    "start_time": "2021-10-30T10:34:31.894Z"
   },
   {
    "duration": 42,
    "start_time": "2021-10-30T10:35:31.885Z"
   },
   {
    "duration": 42,
    "start_time": "2021-10-30T10:35:38.942Z"
   },
   {
    "duration": 443,
    "start_time": "2021-10-30T10:38:08.946Z"
   },
   {
    "duration": 21,
    "start_time": "2021-10-30T10:38:20.118Z"
   },
   {
    "duration": 123,
    "start_time": "2021-10-30T10:38:24.341Z"
   },
   {
    "duration": 6,
    "start_time": "2021-10-30T10:40:39.011Z"
   },
   {
    "duration": 5,
    "start_time": "2021-10-30T10:41:02.566Z"
   },
   {
    "duration": 6,
    "start_time": "2021-10-30T10:41:12.424Z"
   },
   {
    "duration": 7,
    "start_time": "2021-10-30T10:41:19.546Z"
   },
   {
    "duration": 114,
    "start_time": "2021-10-30T10:41:48.617Z"
   },
   {
    "duration": 477,
    "start_time": "2021-10-30T10:42:06.753Z"
   },
   {
    "duration": 52,
    "start_time": "2021-10-30T10:42:09.421Z"
   },
   {
    "duration": 362,
    "start_time": "2021-10-30T10:53:35.403Z"
   },
   {
    "duration": 5,
    "start_time": "2021-10-30T10:53:52.159Z"
   },
   {
    "duration": 1103,
    "start_time": "2021-10-30T10:53:52.166Z"
   },
   {
    "duration": 175,
    "start_time": "2021-10-30T10:53:53.273Z"
   },
   {
    "duration": 130,
    "start_time": "2021-10-30T10:53:53.452Z"
   },
   {
    "duration": 565,
    "start_time": "2021-10-30T10:53:53.585Z"
   },
   {
    "duration": 1335,
    "start_time": "2021-10-30T10:53:54.153Z"
   },
   {
    "duration": 54,
    "start_time": "2021-10-30T10:53:55.491Z"
   },
   {
    "duration": 55,
    "start_time": "2021-10-30T10:53:55.549Z"
   },
   {
    "duration": 43,
    "start_time": "2021-10-30T10:53:55.607Z"
   },
   {
    "duration": 748,
    "start_time": "2021-10-30T10:53:55.652Z"
   },
   {
    "duration": 33,
    "start_time": "2021-10-30T10:53:56.402Z"
   },
   {
    "duration": 36,
    "start_time": "2021-10-30T10:53:56.437Z"
   },
   {
    "duration": 52,
    "start_time": "2021-10-30T10:53:56.500Z"
   },
   {
    "duration": 23,
    "start_time": "2021-10-30T10:53:56.554Z"
   },
   {
    "duration": 5940,
    "start_time": "2021-10-30T10:53:56.601Z"
   },
   {
    "duration": 5268,
    "start_time": "2021-10-30T10:54:02.545Z"
   },
   {
    "duration": 5454,
    "start_time": "2021-10-30T10:54:07.816Z"
   },
   {
    "duration": 3,
    "start_time": "2021-10-30T10:54:13.272Z"
   },
   {
    "duration": 378,
    "start_time": "2021-10-30T10:54:13.277Z"
   },
   {
    "duration": 5622,
    "start_time": "2021-10-30T10:54:13.658Z"
   },
   {
    "duration": 39,
    "start_time": "2021-10-30T10:54:19.283Z"
   },
   {
    "duration": 32,
    "start_time": "2021-10-30T10:54:19.324Z"
   },
   {
    "duration": 238,
    "start_time": "2021-10-30T10:54:19.362Z"
   },
   {
    "duration": 29,
    "start_time": "2021-10-30T10:54:19.603Z"
   },
   {
    "duration": 188,
    "start_time": "2021-10-30T10:54:19.634Z"
   },
   {
    "duration": 43,
    "start_time": "2021-10-30T10:54:19.824Z"
   },
   {
    "duration": 329,
    "start_time": "2021-10-30T10:54:19.871Z"
   },
   {
    "duration": 149,
    "start_time": "2021-10-30T10:54:20.202Z"
   },
   {
    "duration": 470,
    "start_time": "2021-10-30T10:54:20.354Z"
   },
   {
    "duration": 21,
    "start_time": "2021-10-30T10:54:20.827Z"
   },
   {
    "duration": 62,
    "start_time": "2021-10-30T10:54:20.850Z"
   },
   {
    "duration": 44,
    "start_time": "2021-10-30T10:54:20.914Z"
   },
   {
    "duration": 179,
    "start_time": "2021-10-30T10:54:20.961Z"
   },
   {
    "duration": 60,
    "start_time": "2021-10-30T10:54:21.142Z"
   },
   {
    "duration": 139,
    "start_time": "2021-10-30T10:54:21.205Z"
   },
   {
    "duration": 447,
    "start_time": "2021-10-30T10:54:21.347Z"
   },
   {
    "duration": 21,
    "start_time": "2021-10-30T10:54:21.797Z"
   },
   {
    "duration": 141,
    "start_time": "2021-10-30T10:54:21.820Z"
   },
   {
    "duration": 5,
    "start_time": "2021-10-30T10:54:21.964Z"
   },
   {
    "duration": 72,
    "start_time": "2021-10-30T10:54:21.972Z"
   },
   {
    "duration": 455,
    "start_time": "2021-10-30T10:54:22.046Z"
   },
   {
    "duration": 34,
    "start_time": "2021-10-30T10:54:22.504Z"
   },
   {
    "duration": 17,
    "start_time": "2021-10-30T10:54:22.540Z"
   },
   {
    "duration": 1347,
    "start_time": "2021-10-30T10:54:22.560Z"
   },
   {
    "duration": 1203,
    "start_time": "2021-10-30T10:54:23.910Z"
   },
   {
    "duration": 241,
    "start_time": "2021-10-30T10:54:25.115Z"
   },
   {
    "duration": 4,
    "start_time": "2021-10-30T10:55:18.942Z"
   },
   {
    "duration": 127,
    "start_time": "2021-10-30T10:55:24.804Z"
   },
   {
    "duration": 134171,
    "start_time": "2021-10-30T10:55:46.433Z"
   },
   {
    "duration": 363,
    "start_time": "2021-10-30T10:59:25.560Z"
   },
   {
    "duration": 5,
    "start_time": "2021-10-30T10:59:48.066Z"
   },
   {
    "duration": 1144,
    "start_time": "2021-10-30T10:59:48.073Z"
   },
   {
    "duration": 169,
    "start_time": "2021-10-30T10:59:49.220Z"
   },
   {
    "duration": 124,
    "start_time": "2021-10-30T10:59:49.391Z"
   },
   {
    "duration": 569,
    "start_time": "2021-10-30T10:59:49.518Z"
   },
   {
    "duration": 1301,
    "start_time": "2021-10-30T10:59:50.090Z"
   },
   {
    "duration": 57,
    "start_time": "2021-10-30T10:59:51.394Z"
   },
   {
    "duration": 62,
    "start_time": "2021-10-30T10:59:51.455Z"
   },
   {
    "duration": 45,
    "start_time": "2021-10-30T10:59:51.520Z"
   },
   {
    "duration": 670,
    "start_time": "2021-10-30T10:59:51.567Z"
   },
   {
    "duration": 34,
    "start_time": "2021-10-30T10:59:52.240Z"
   },
   {
    "duration": 52,
    "start_time": "2021-10-30T10:59:52.276Z"
   },
   {
    "duration": 74,
    "start_time": "2021-10-30T10:59:52.330Z"
   },
   {
    "duration": 22,
    "start_time": "2021-10-30T10:59:52.406Z"
   },
   {
    "duration": 5939,
    "start_time": "2021-10-30T10:59:52.430Z"
   },
   {
    "duration": 5447,
    "start_time": "2021-10-30T10:59:58.372Z"
   },
   {
    "duration": 5287,
    "start_time": "2021-10-30T11:00:03.822Z"
   },
   {
    "duration": 4,
    "start_time": "2021-10-30T11:00:09.111Z"
   },
   {
    "duration": 369,
    "start_time": "2021-10-30T11:00:09.117Z"
   },
   {
    "duration": 5470,
    "start_time": "2021-10-30T11:00:09.489Z"
   },
   {
    "duration": 29,
    "start_time": "2021-10-30T11:00:14.961Z"
   },
   {
    "duration": 33,
    "start_time": "2021-10-30T11:00:14.992Z"
   },
   {
    "duration": 219,
    "start_time": "2021-10-30T11:00:15.030Z"
   },
   {
    "duration": 28,
    "start_time": "2021-10-30T11:00:15.253Z"
   },
   {
    "duration": 281,
    "start_time": "2021-10-30T11:00:15.284Z"
   },
   {
    "duration": 48,
    "start_time": "2021-10-30T11:00:15.567Z"
   },
   {
    "duration": 414,
    "start_time": "2021-10-30T11:00:15.618Z"
   },
   {
    "duration": 149,
    "start_time": "2021-10-30T11:00:16.034Z"
   },
   {
    "duration": 467,
    "start_time": "2021-10-30T11:00:16.185Z"
   },
   {
    "duration": 23,
    "start_time": "2021-10-30T11:00:16.655Z"
   },
   {
    "duration": 58,
    "start_time": "2021-10-30T11:00:16.681Z"
   },
   {
    "duration": 65,
    "start_time": "2021-10-30T11:00:16.743Z"
   },
   {
    "duration": 177,
    "start_time": "2021-10-30T11:00:16.812Z"
   },
   {
    "duration": 48,
    "start_time": "2021-10-30T11:00:16.992Z"
   },
   {
    "duration": 149,
    "start_time": "2021-10-30T11:00:17.042Z"
   },
   {
    "duration": 462,
    "start_time": "2021-10-30T11:00:17.193Z"
   },
   {
    "duration": 19,
    "start_time": "2021-10-30T11:00:17.658Z"
   },
   {
    "duration": 149,
    "start_time": "2021-10-30T11:00:17.680Z"
   },
   {
    "duration": 7,
    "start_time": "2021-10-30T11:00:17.832Z"
   },
   {
    "duration": 112,
    "start_time": "2021-10-30T11:00:17.841Z"
   },
   {
    "duration": 451,
    "start_time": "2021-10-30T11:00:17.955Z"
   },
   {
    "duration": 32,
    "start_time": "2021-10-30T11:00:18.409Z"
   },
   {
    "duration": 16,
    "start_time": "2021-10-30T11:00:18.443Z"
   },
   {
    "duration": 1245,
    "start_time": "2021-10-30T11:00:18.461Z"
   },
   {
    "duration": 1212,
    "start_time": "2021-10-30T11:00:19.708Z"
   },
   {
    "duration": 366,
    "start_time": "2021-10-30T11:00:20.922Z"
   },
   {
    "duration": 177,
    "start_time": "2021-10-30T11:01:00.013Z"
   },
   {
    "duration": 5,
    "start_time": "2021-10-30T11:01:07.526Z"
   },
   {
    "duration": 133702,
    "start_time": "2021-10-30T11:01:11.498Z"
   },
   {
    "duration": 5,
    "start_time": "2021-10-30T11:06:45.234Z"
   },
   {
    "duration": 1098,
    "start_time": "2021-10-30T11:06:45.242Z"
   },
   {
    "duration": 171,
    "start_time": "2021-10-30T11:06:46.343Z"
   },
   {
    "duration": 131,
    "start_time": "2021-10-30T11:06:46.516Z"
   },
   {
    "duration": 585,
    "start_time": "2021-10-30T11:06:46.650Z"
   },
   {
    "duration": 1262,
    "start_time": "2021-10-30T11:06:47.238Z"
   },
   {
    "duration": 51,
    "start_time": "2021-10-30T11:06:48.503Z"
   },
   {
    "duration": 65,
    "start_time": "2021-10-30T11:06:48.557Z"
   },
   {
    "duration": 41,
    "start_time": "2021-10-30T11:06:48.624Z"
   },
   {
    "duration": 641,
    "start_time": "2021-10-30T11:06:48.667Z"
   },
   {
    "duration": 34,
    "start_time": "2021-10-30T11:06:49.310Z"
   },
   {
    "duration": 62,
    "start_time": "2021-10-30T11:06:49.346Z"
   },
   {
    "duration": 52,
    "start_time": "2021-10-30T11:06:49.411Z"
   },
   {
    "duration": 41,
    "start_time": "2021-10-30T11:06:49.466Z"
   },
   {
    "duration": 6117,
    "start_time": "2021-10-30T11:06:49.510Z"
   },
   {
    "duration": 5265,
    "start_time": "2021-10-30T11:06:55.630Z"
   },
   {
    "duration": 5249,
    "start_time": "2021-10-30T11:07:00.901Z"
   },
   {
    "duration": 4,
    "start_time": "2021-10-30T11:07:06.153Z"
   },
   {
    "duration": 370,
    "start_time": "2021-10-30T11:07:06.165Z"
   },
   {
    "duration": 5282,
    "start_time": "2021-10-30T11:07:06.538Z"
   },
   {
    "duration": 29,
    "start_time": "2021-10-30T11:07:11.823Z"
   },
   {
    "duration": 49,
    "start_time": "2021-10-30T11:07:11.854Z"
   },
   {
    "duration": 223,
    "start_time": "2021-10-30T11:07:11.906Z"
   },
   {
    "duration": 29,
    "start_time": "2021-10-30T11:07:12.131Z"
   },
   {
    "duration": 188,
    "start_time": "2021-10-30T11:07:12.162Z"
   },
   {
    "duration": 51,
    "start_time": "2021-10-30T11:07:12.352Z"
   },
   {
    "duration": 304,
    "start_time": "2021-10-30T11:07:12.406Z"
   },
   {
    "duration": 158,
    "start_time": "2021-10-30T11:07:12.712Z"
   },
   {
    "duration": 444,
    "start_time": "2021-10-30T11:07:12.873Z"
   },
   {
    "duration": 22,
    "start_time": "2021-10-30T11:07:13.320Z"
   },
   {
    "duration": 69,
    "start_time": "2021-10-30T11:07:13.344Z"
   },
   {
    "duration": 47,
    "start_time": "2021-10-30T11:07:13.416Z"
   },
   {
    "duration": 190,
    "start_time": "2021-10-30T11:07:13.466Z"
   },
   {
    "duration": 58,
    "start_time": "2021-10-30T11:07:13.659Z"
   },
   {
    "duration": 155,
    "start_time": "2021-10-30T11:07:13.720Z"
   },
   {
    "duration": 785,
    "start_time": "2021-10-30T11:07:13.877Z"
   },
   {
    "duration": 21,
    "start_time": "2021-10-30T11:07:14.664Z"
   },
   {
    "duration": 131,
    "start_time": "2021-10-30T11:07:14.700Z"
   },
   {
    "duration": 6,
    "start_time": "2021-10-30T11:07:14.834Z"
   },
   {
    "duration": 73,
    "start_time": "2021-10-30T11:07:14.842Z"
   },
   {
    "duration": 483,
    "start_time": "2021-10-30T11:07:14.917Z"
   },
   {
    "duration": 4,
    "start_time": "2021-10-30T11:07:15.402Z"
   },
   {
    "duration": 22,
    "start_time": "2021-10-30T11:07:15.408Z"
   },
   {
    "duration": 1416,
    "start_time": "2021-10-30T11:07:15.432Z"
   },
   {
    "duration": 1293,
    "start_time": "2021-10-30T11:07:16.851Z"
   },
   {
    "duration": 377,
    "start_time": "2021-10-30T11:07:18.147Z"
   },
   {
    "duration": 136904,
    "start_time": "2021-10-30T11:09:47.205Z"
   },
   {
    "duration": 5,
    "start_time": "2021-10-30T11:15:36.575Z"
   },
   {
    "duration": 1143,
    "start_time": "2021-10-30T11:15:36.583Z"
   },
   {
    "duration": 181,
    "start_time": "2021-10-30T11:15:37.729Z"
   },
   {
    "duration": 134,
    "start_time": "2021-10-30T11:15:37.914Z"
   },
   {
    "duration": 619,
    "start_time": "2021-10-30T11:15:38.051Z"
   },
   {
    "duration": 1306,
    "start_time": "2021-10-30T11:15:38.672Z"
   },
   {
    "duration": 62,
    "start_time": "2021-10-30T11:15:39.980Z"
   },
   {
    "duration": 61,
    "start_time": "2021-10-30T11:15:40.045Z"
   },
   {
    "duration": 48,
    "start_time": "2021-10-30T11:15:40.109Z"
   },
   {
    "duration": 749,
    "start_time": "2021-10-30T11:15:40.159Z"
   },
   {
    "duration": 34,
    "start_time": "2021-10-30T11:15:40.910Z"
   },
   {
    "duration": 60,
    "start_time": "2021-10-30T11:15:40.947Z"
   },
   {
    "duration": 54,
    "start_time": "2021-10-30T11:15:41.009Z"
   },
   {
    "duration": 38,
    "start_time": "2021-10-30T11:15:41.065Z"
   },
   {
    "duration": 5870,
    "start_time": "2021-10-30T11:15:41.106Z"
   },
   {
    "duration": 5203,
    "start_time": "2021-10-30T11:15:46.980Z"
   },
   {
    "duration": 5380,
    "start_time": "2021-10-30T11:15:52.185Z"
   },
   {
    "duration": 4,
    "start_time": "2021-10-30T11:15:57.568Z"
   },
   {
    "duration": 371,
    "start_time": "2021-10-30T11:15:57.574Z"
   },
   {
    "duration": 5195,
    "start_time": "2021-10-30T11:15:57.947Z"
   },
   {
    "duration": 30,
    "start_time": "2021-10-30T11:16:03.144Z"
   },
   {
    "duration": 46,
    "start_time": "2021-10-30T11:16:03.177Z"
   },
   {
    "duration": 227,
    "start_time": "2021-10-30T11:16:03.229Z"
   },
   {
    "duration": 42,
    "start_time": "2021-10-30T11:16:03.459Z"
   },
   {
    "duration": 177,
    "start_time": "2021-10-30T11:16:03.503Z"
   },
   {
    "duration": 54,
    "start_time": "2021-10-30T11:16:03.683Z"
   },
   {
    "duration": 316,
    "start_time": "2021-10-30T11:16:03.740Z"
   },
   {
    "duration": 163,
    "start_time": "2021-10-30T11:16:04.059Z"
   },
   {
    "duration": 465,
    "start_time": "2021-10-30T11:16:04.224Z"
   },
   {
    "duration": 24,
    "start_time": "2021-10-30T11:16:04.691Z"
   },
   {
    "duration": 42,
    "start_time": "2021-10-30T11:16:04.718Z"
   },
   {
    "duration": 66,
    "start_time": "2021-10-30T11:16:04.763Z"
   },
   {
    "duration": 174,
    "start_time": "2021-10-30T11:16:04.832Z"
   },
   {
    "duration": 45,
    "start_time": "2021-10-30T11:16:05.009Z"
   },
   {
    "duration": 160,
    "start_time": "2021-10-30T11:16:05.057Z"
   },
   {
    "duration": 466,
    "start_time": "2021-10-30T11:16:05.220Z"
   },
   {
    "duration": 30,
    "start_time": "2021-10-30T11:16:05.688Z"
   },
   {
    "duration": 147,
    "start_time": "2021-10-30T11:16:05.721Z"
   },
   {
    "duration": 6,
    "start_time": "2021-10-30T11:16:05.871Z"
   },
   {
    "duration": 69,
    "start_time": "2021-10-30T11:16:05.880Z"
   },
   {
    "duration": 465,
    "start_time": "2021-10-30T11:16:05.953Z"
   },
   {
    "duration": 4,
    "start_time": "2021-10-30T11:16:06.421Z"
   },
   {
    "duration": 26,
    "start_time": "2021-10-30T11:16:06.428Z"
   },
   {
    "duration": 1045,
    "start_time": "2021-10-30T11:16:06.457Z"
   },
   {
    "duration": 1365,
    "start_time": "2021-10-30T11:16:07.505Z"
   },
   {
    "duration": 369,
    "start_time": "2021-10-30T11:16:08.872Z"
   },
   {
    "duration": 4,
    "start_time": "2021-10-30T11:16:09.244Z"
   },
   {
    "duration": 924729,
    "start_time": "2021-10-30T11:16:09.251Z"
   },
   {
    "duration": 135318,
    "start_time": "2021-10-30T11:31:33.982Z"
   },
   {
    "duration": 80019,
    "start_time": "2021-10-30T11:33:49.304Z"
   },
   {
    "duration": 429451,
    "start_time": "2021-10-30T11:35:09.325Z"
   },
   {
    "duration": 228,
    "start_time": "2021-10-30T11:42:18.780Z"
   },
   {
    "duration": 226,
    "start_time": "2021-10-30T11:42:30.474Z"
   },
   {
    "duration": 151,
    "start_time": "2021-10-30T11:44:16.858Z"
   },
   {
    "duration": 1485,
    "start_time": "2021-10-30T11:46:13.518Z"
   },
   {
    "duration": 791006,
    "start_time": "2021-10-30T11:46:33.900Z"
   },
   {
    "duration": 741,
    "start_time": "2021-10-30T12:02:46.148Z"
   },
   {
    "duration": 5,
    "start_time": "2021-10-30T12:03:30.727Z"
   },
   {
    "duration": 232,
    "start_time": "2021-10-30T12:03:32.727Z"
   },
   {
    "duration": 142,
    "start_time": "2021-10-30T12:03:59.966Z"
   },
   {
    "duration": 1448,
    "start_time": "2021-10-30T12:04:06.557Z"
   },
   {
    "duration": 2179,
    "start_time": "2021-10-30T12:04:10.932Z"
   },
   {
    "duration": 8,
    "start_time": "2021-10-30T12:04:56.467Z"
   },
   {
    "duration": 5,
    "start_time": "2021-10-30T12:07:29.454Z"
   },
   {
    "duration": 837,
    "start_time": "2021-10-30T12:07:34.987Z"
   },
   {
    "duration": 4,
    "start_time": "2021-10-30T12:08:50.188Z"
   },
   {
    "duration": 227,
    "start_time": "2021-10-30T12:08:51.816Z"
   },
   {
    "duration": 175,
    "start_time": "2021-10-30T12:08:57.433Z"
   },
   {
    "duration": 1399,
    "start_time": "2021-10-30T12:09:00.010Z"
   },
   {
    "duration": 2186,
    "start_time": "2021-10-30T12:09:04.417Z"
   },
   {
    "duration": 11,
    "start_time": "2021-10-30T12:17:53.218Z"
   },
   {
    "duration": 367,
    "start_time": "2021-10-30T12:18:03.049Z"
   },
   {
    "duration": 8,
    "start_time": "2021-10-30T12:18:16.106Z"
   },
   {
    "duration": 10,
    "start_time": "2021-10-30T12:18:55.452Z"
   },
   {
    "duration": 10,
    "start_time": "2021-10-30T12:19:02.651Z"
   },
   {
    "duration": 10,
    "start_time": "2021-10-30T12:19:24.782Z"
   },
   {
    "duration": 4,
    "start_time": "2021-10-30T14:18:26.354Z"
   },
   {
    "duration": 551,
    "start_time": "2021-10-30T14:18:37.764Z"
   },
   {
    "duration": 223,
    "start_time": "2021-10-30T14:18:45.384Z"
   },
   {
    "duration": 4,
    "start_time": "2021-10-30T14:19:00.628Z"
   },
   {
    "duration": 239,
    "start_time": "2021-10-30T14:19:03.509Z"
   },
   {
    "duration": 486,
    "start_time": "2021-10-30T14:19:39.622Z"
   },
   {
    "duration": 477,
    "start_time": "2021-10-30T14:19:44.535Z"
   },
   {
    "duration": 522,
    "start_time": "2021-10-30T14:19:54.325Z"
   },
   {
    "duration": 226,
    "start_time": "2021-10-30T14:20:02.098Z"
   },
   {
    "duration": 5,
    "start_time": "2021-10-30T14:20:22.790Z"
   },
   {
    "duration": 227,
    "start_time": "2021-10-30T14:20:23.296Z"
   },
   {
    "duration": 377,
    "start_time": "2021-10-30T14:26:22.908Z"
   },
   {
    "duration": 124,
    "start_time": "2021-10-30T14:27:18.533Z"
   },
   {
    "duration": 383,
    "start_time": "2021-10-30T14:27:36.610Z"
   },
   {
    "duration": 14,
    "start_time": "2021-10-30T14:29:05.686Z"
   },
   {
    "duration": 19,
    "start_time": "2021-10-30T14:29:21.153Z"
   },
   {
    "duration": 379,
    "start_time": "2021-10-30T14:29:26.793Z"
   },
   {
    "duration": 15,
    "start_time": "2021-10-30T14:29:50.024Z"
   },
   {
    "duration": 363,
    "start_time": "2021-10-30T15:41:25.865Z"
   },
   {
    "duration": 382,
    "start_time": "2021-10-30T15:41:57.124Z"
   },
   {
    "duration": 356,
    "start_time": "2021-10-30T15:42:16.748Z"
   },
   {
    "duration": 5,
    "start_time": "2021-10-30T15:43:13.450Z"
   },
   {
    "duration": 437,
    "start_time": "2021-10-30T15:44:58.333Z"
   },
   {
    "duration": 10,
    "start_time": "2021-10-30T15:45:22.405Z"
   },
   {
    "duration": 386,
    "start_time": "2021-10-30T15:47:24.028Z"
   },
   {
    "duration": 6,
    "start_time": "2021-10-30T15:47:36.417Z"
   },
   {
    "duration": 4,
    "start_time": "2021-10-30T15:51:25.650Z"
   },
   {
    "duration": 373,
    "start_time": "2021-10-30T15:54:51.519Z"
   },
   {
    "duration": 14,
    "start_time": "2021-10-30T15:55:10.389Z"
   },
   {
    "duration": 19,
    "start_time": "2021-10-30T15:55:35.846Z"
   },
   {
    "duration": 18,
    "start_time": "2021-10-30T15:55:48.711Z"
   },
   {
    "duration": 18,
    "start_time": "2021-10-30T15:57:00.410Z"
   },
   {
    "duration": 1651,
    "start_time": "2021-10-30T17:06:02.855Z"
   },
   {
    "duration": 1259,
    "start_time": "2021-10-30T17:06:04.508Z"
   },
   {
    "duration": 184,
    "start_time": "2021-10-30T17:06:05.770Z"
   },
   {
    "duration": 132,
    "start_time": "2021-10-30T17:06:05.957Z"
   },
   {
    "duration": 662,
    "start_time": "2021-10-30T17:06:06.091Z"
   },
   {
    "duration": 1444,
    "start_time": "2021-10-30T17:06:06.756Z"
   },
   {
    "duration": 50,
    "start_time": "2021-10-30T17:06:08.202Z"
   },
   {
    "duration": 53,
    "start_time": "2021-10-30T17:06:08.255Z"
   },
   {
    "duration": 48,
    "start_time": "2021-10-30T17:06:08.311Z"
   },
   {
    "duration": 638,
    "start_time": "2021-10-30T17:06:08.362Z"
   },
   {
    "duration": 35,
    "start_time": "2021-10-30T17:06:09.002Z"
   },
   {
    "duration": 63,
    "start_time": "2021-10-30T17:06:09.039Z"
   },
   {
    "duration": 54,
    "start_time": "2021-10-30T17:06:09.105Z"
   },
   {
    "duration": 44,
    "start_time": "2021-10-30T17:06:09.161Z"
   },
   {
    "duration": 5904,
    "start_time": "2021-10-30T17:06:09.207Z"
   },
   {
    "duration": 5658,
    "start_time": "2021-10-30T17:06:15.113Z"
   },
   {
    "duration": 5870,
    "start_time": "2021-10-30T17:06:20.774Z"
   },
   {
    "duration": 3,
    "start_time": "2021-10-30T17:06:26.647Z"
   },
   {
    "duration": 506,
    "start_time": "2021-10-30T17:06:26.652Z"
   },
   {
    "duration": 5766,
    "start_time": "2021-10-30T17:06:27.161Z"
   },
   {
    "duration": 29,
    "start_time": "2021-10-30T17:06:32.930Z"
   },
   {
    "duration": 53,
    "start_time": "2021-10-30T17:06:32.963Z"
   },
   {
    "duration": 226,
    "start_time": "2021-10-30T17:06:33.025Z"
   },
   {
    "duration": 44,
    "start_time": "2021-10-30T17:06:33.256Z"
   },
   {
    "duration": 178,
    "start_time": "2021-10-30T17:06:33.303Z"
   },
   {
    "duration": 46,
    "start_time": "2021-10-30T17:06:33.484Z"
   },
   {
    "duration": 316,
    "start_time": "2021-10-30T17:06:33.533Z"
   },
   {
    "duration": 156,
    "start_time": "2021-10-30T17:06:33.852Z"
   },
   {
    "duration": 471,
    "start_time": "2021-10-30T17:06:34.010Z"
   },
   {
    "duration": 34,
    "start_time": "2021-10-30T17:06:34.483Z"
   },
   {
    "duration": 41,
    "start_time": "2021-10-30T17:06:34.520Z"
   },
   {
    "duration": 66,
    "start_time": "2021-10-30T17:06:34.564Z"
   },
   {
    "duration": 204,
    "start_time": "2021-10-30T17:06:34.633Z"
   },
   {
    "duration": 41,
    "start_time": "2021-10-30T17:06:34.840Z"
   },
   {
    "duration": 153,
    "start_time": "2021-10-30T17:06:34.884Z"
   },
   {
    "duration": 455,
    "start_time": "2021-10-30T17:06:35.039Z"
   },
   {
    "duration": 22,
    "start_time": "2021-10-30T17:06:35.496Z"
   },
   {
    "duration": 142,
    "start_time": "2021-10-30T17:06:35.520Z"
   },
   {
    "duration": 5,
    "start_time": "2021-10-30T17:06:35.665Z"
   },
   {
    "duration": 72,
    "start_time": "2021-10-30T17:06:35.672Z"
   },
   {
    "duration": 462,
    "start_time": "2021-10-30T17:06:35.747Z"
   },
   {
    "duration": 833,
    "start_time": "2021-10-30T17:06:36.212Z"
   },
   {
    "duration": 1246,
    "start_time": "2021-10-30T17:06:37.048Z"
   },
   {
    "duration": 375,
    "start_time": "2021-10-30T17:06:38.296Z"
   },
   {
    "duration": 4,
    "start_time": "2021-10-30T17:06:38.674Z"
   },
   {
    "duration": 971730,
    "start_time": "2021-10-30T17:06:38.680Z"
   },
   {
    "duration": 138091,
    "start_time": "2021-10-30T17:22:50.413Z"
   },
   {
    "duration": 80507,
    "start_time": "2021-10-30T17:25:08.508Z"
   },
   {
    "duration": 818591,
    "start_time": "2021-10-30T17:26:29.017Z"
   },
   {
    "duration": 4,
    "start_time": "2021-10-30T17:40:07.611Z"
   },
   {
    "duration": 269,
    "start_time": "2021-10-30T17:40:07.618Z"
   },
   {
    "duration": 213,
    "start_time": "2021-10-30T17:40:07.890Z"
   },
   {
    "duration": 1507,
    "start_time": "2021-10-30T17:40:08.106Z"
   },
   {
    "duration": 2112,
    "start_time": "2021-10-30T17:40:09.615Z"
   },
   {
    "duration": 7,
    "start_time": "2021-10-30T17:40:11.729Z"
   },
   {
    "duration": 19,
    "start_time": "2021-10-30T17:40:11.801Z"
   },
   {
    "duration": 1629,
    "start_time": "2021-10-30T18:24:44.224Z"
   },
   {
    "duration": 1190,
    "start_time": "2021-10-30T18:24:45.856Z"
   },
   {
    "duration": 171,
    "start_time": "2021-10-30T18:24:47.050Z"
   },
   {
    "duration": 138,
    "start_time": "2021-10-30T18:24:47.224Z"
   },
   {
    "duration": 648,
    "start_time": "2021-10-30T18:24:47.364Z"
   },
   {
    "duration": 1373,
    "start_time": "2021-10-30T18:24:48.015Z"
   },
   {
    "duration": 52,
    "start_time": "2021-10-30T18:24:49.390Z"
   },
   {
    "duration": 58,
    "start_time": "2021-10-30T18:24:49.445Z"
   },
   {
    "duration": 47,
    "start_time": "2021-10-30T18:24:49.505Z"
   },
   {
    "duration": 634,
    "start_time": "2021-10-30T18:24:49.554Z"
   },
   {
    "duration": 41,
    "start_time": "2021-10-30T18:24:50.190Z"
   },
   {
    "duration": 35,
    "start_time": "2021-10-30T18:24:50.234Z"
   },
   {
    "duration": 53,
    "start_time": "2021-10-30T18:24:50.372Z"
   },
   {
    "duration": 24,
    "start_time": "2021-10-30T18:24:51.427Z"
   },
   {
    "duration": 6211,
    "start_time": "2021-10-30T18:24:52.159Z"
   },
   {
    "duration": 5520,
    "start_time": "2021-10-30T18:24:58.373Z"
   },
   {
    "duration": 5668,
    "start_time": "2021-10-30T18:25:03.896Z"
   },
   {
    "duration": 1308,
    "start_time": "2021-10-30T18:26:13.024Z"
   },
   {
    "duration": 25,
    "start_time": "2021-10-30T18:26:25.255Z"
   },
   {
    "duration": 6,
    "start_time": "2021-10-30T18:26:31.184Z"
   },
   {
    "duration": 6,
    "start_time": "2021-10-30T18:26:33.028Z"
   },
   {
    "duration": 5,
    "start_time": "2021-10-30T18:26:43.768Z"
   },
   {
    "duration": 32,
    "start_time": "2021-10-30T18:26:46.417Z"
   },
   {
    "duration": 4,
    "start_time": "2021-10-30T18:26:48.562Z"
   },
   {
    "duration": 127,
    "start_time": "2021-10-30T18:26:56.274Z"
   },
   {
    "duration": 7,
    "start_time": "2021-10-30T18:26:58.204Z"
   },
   {
    "duration": 6,
    "start_time": "2021-10-30T18:27:03.741Z"
   },
   {
    "duration": 137,
    "start_time": "2021-10-30T18:27:07.876Z"
   },
   {
    "duration": 115,
    "start_time": "2021-10-30T18:27:11.178Z"
   },
   {
    "duration": 362,
    "start_time": "2021-10-30T18:27:21.482Z"
   },
   {
    "duration": 83,
    "start_time": "2021-10-30T18:27:23.231Z"
   },
   {
    "duration": 1094,
    "start_time": "2021-10-30T18:28:07.112Z"
   },
   {
    "duration": 1250,
    "start_time": "2021-10-30T18:28:36.899Z"
   },
   {
    "duration": 1462,
    "start_time": "2021-10-30T18:29:50.541Z"
   },
   {
    "duration": 1347,
    "start_time": "2021-10-30T18:30:20.766Z"
   },
   {
    "duration": 1104,
    "start_time": "2021-10-30T18:31:18.329Z"
   },
   {
    "duration": 1162,
    "start_time": "2021-10-30T18:31:31.942Z"
   },
   {
    "duration": 41,
    "start_time": "2021-10-30T18:31:51.144Z"
   },
   {
    "duration": 1815,
    "start_time": "2021-10-30T18:31:56.934Z"
   },
   {
    "duration": 163,
    "start_time": "2021-10-30T18:32:24.745Z"
   },
   {
    "duration": 7,
    "start_time": "2021-10-30T18:32:33.532Z"
   },
   {
    "duration": 28,
    "start_time": "2021-10-30T18:32:41.411Z"
   },
   {
    "duration": 335,
    "start_time": "2021-10-30T18:33:13.766Z"
   },
   {
    "duration": 28,
    "start_time": "2021-10-30T18:33:21.074Z"
   },
   {
    "duration": 3523,
    "start_time": "2021-10-30T18:33:23.111Z"
   },
   {
    "duration": 1106,
    "start_time": "2021-10-30T18:33:35.343Z"
   },
   {
    "duration": 7,
    "start_time": "2021-10-30T18:33:42.892Z"
   },
   {
    "duration": 324,
    "start_time": "2021-10-30T18:33:53.013Z"
   },
   {
    "duration": 8,
    "start_time": "2021-10-30T18:33:55.061Z"
   },
   {
    "duration": 232,
    "start_time": "2021-10-30T18:34:02.210Z"
   },
   {
    "duration": 8,
    "start_time": "2021-10-30T18:34:04.825Z"
   },
   {
    "duration": 16,
    "start_time": "2021-10-30T18:35:28.435Z"
   },
   {
    "duration": 29,
    "start_time": "2021-10-30T18:35:31.663Z"
   },
   {
    "duration": 7,
    "start_time": "2021-10-30T18:35:38.389Z"
   },
   {
    "duration": 7,
    "start_time": "2021-10-30T18:35:45.683Z"
   },
   {
    "duration": 1373,
    "start_time": "2021-10-30T18:36:04.646Z"
   },
   {
    "duration": 6,
    "start_time": "2021-10-30T18:36:08.537Z"
   },
   {
    "duration": 1106,
    "start_time": "2021-10-30T18:36:23.335Z"
   },
   {
    "duration": 1145,
    "start_time": "2021-10-30T18:36:26.875Z"
   },
   {
    "duration": 1095,
    "start_time": "2021-10-30T18:36:49.758Z"
   },
   {
    "duration": 7,
    "start_time": "2021-10-30T18:37:07.964Z"
   },
   {
    "duration": 27,
    "start_time": "2021-10-30T18:37:10.311Z"
   },
   {
    "duration": 603,
    "start_time": "2021-10-30T18:37:15.950Z"
   },
   {
    "duration": 389,
    "start_time": "2021-10-30T18:37:22.762Z"
   },
   {
    "duration": 367,
    "start_time": "2021-10-30T18:37:27.525Z"
   },
   {
    "duration": 1332,
    "start_time": "2021-10-30T18:37:39.423Z"
   },
   {
    "duration": 938,
    "start_time": "2021-10-30T18:37:48.658Z"
   },
   {
    "duration": 1039,
    "start_time": "2021-10-30T18:37:56.065Z"
   },
   {
    "duration": 7,
    "start_time": "2021-10-30T18:38:08.438Z"
   },
   {
    "duration": 7264,
    "start_time": "2021-10-30T18:38:41.627Z"
   },
   {
    "duration": 6873,
    "start_time": "2021-10-30T18:39:07.088Z"
   },
   {
    "duration": 6536,
    "start_time": "2021-10-30T18:39:15.926Z"
   },
   {
    "duration": 65,
    "start_time": "2021-10-30T18:39:31.949Z"
   },
   {
    "duration": 6,
    "start_time": "2021-10-30T18:39:38.555Z"
   },
   {
    "duration": 56,
    "start_time": "2021-10-30T18:39:44.725Z"
   },
   {
    "duration": 41,
    "start_time": "2021-10-30T18:39:48.224Z"
   },
   {
    "duration": 381,
    "start_time": "2021-10-30T18:39:53.572Z"
   },
   {
    "duration": 386,
    "start_time": "2021-10-30T18:39:56.101Z"
   },
   {
    "duration": 411,
    "start_time": "2021-10-30T18:40:01.118Z"
   },
   {
    "duration": 9,
    "start_time": "2021-10-30T18:40:04.708Z"
   },
   {
    "duration": 8,
    "start_time": "2021-10-30T18:40:06.554Z"
   },
   {
    "duration": 9,
    "start_time": "2021-10-30T18:40:08.747Z"
   },
   {
    "duration": 9,
    "start_time": "2021-10-30T18:40:11.078Z"
   },
   {
    "duration": 56,
    "start_time": "2021-10-30T18:40:16.619Z"
   },
   {
    "duration": 352,
    "start_time": "2021-10-30T18:40:27.767Z"
   },
   {
    "duration": 1338,
    "start_time": "2021-10-30T18:40:32.831Z"
   },
   {
    "duration": 43,
    "start_time": "2021-10-30T18:40:34.936Z"
   },
   {
    "duration": 8,
    "start_time": "2021-10-30T18:40:44.955Z"
   },
   {
    "duration": 8,
    "start_time": "2021-10-30T18:40:52.320Z"
   },
   {
    "duration": 8,
    "start_time": "2021-10-30T18:40:58.016Z"
   },
   {
    "duration": 4,
    "start_time": "2021-10-30T18:41:02.689Z"
   },
   {
    "duration": 428,
    "start_time": "2021-10-30T18:41:03.675Z"
   },
   {
    "duration": 5,
    "start_time": "2021-10-30T18:41:19.881Z"
   },
   {
    "duration": 6,
    "start_time": "2021-10-30T18:41:27.611Z"
   },
   {
    "duration": 190,
    "start_time": "2021-10-30T18:42:03.536Z"
   },
   {
    "duration": 3832,
    "start_time": "2021-10-30T18:42:19.932Z"
   },
   {
    "duration": 58,
    "start_time": "2021-10-30T18:42:29.912Z"
   },
   {
    "duration": 127,
    "start_time": "2021-10-30T18:42:30.525Z"
   },
   {
    "duration": 726,
    "start_time": "2021-10-30T18:42:41.664Z"
   },
   {
    "duration": 79,
    "start_time": "2021-10-30T18:42:46.381Z"
   },
   {
    "duration": 85,
    "start_time": "2021-10-30T18:42:49.534Z"
   },
   {
    "duration": 898,
    "start_time": "2021-10-30T18:42:53.848Z"
   },
   {
    "duration": 1681,
    "start_time": "2021-10-30T18:47:15.635Z"
   },
   {
    "duration": 1838,
    "start_time": "2021-10-30T18:47:29.420Z"
   },
   {
    "duration": 546,
    "start_time": "2021-10-30T18:48:39.786Z"
   },
   {
    "duration": 2291,
    "start_time": "2021-10-30T18:48:50.630Z"
   },
   {
    "duration": 1656,
    "start_time": "2021-10-30T18:49:07.469Z"
   },
   {
    "duration": 1917,
    "start_time": "2021-10-31T08:39:12.830Z"
   },
   {
    "duration": 1159,
    "start_time": "2021-10-31T08:39:14.749Z"
   },
   {
    "duration": 169,
    "start_time": "2021-10-31T08:39:15.911Z"
   },
   {
    "duration": 140,
    "start_time": "2021-10-31T08:39:16.083Z"
   },
   {
    "duration": 669,
    "start_time": "2021-10-31T08:39:16.226Z"
   },
   {
    "duration": 1369,
    "start_time": "2021-10-31T08:39:16.897Z"
   },
   {
    "duration": 65,
    "start_time": "2021-10-31T08:39:18.269Z"
   },
   {
    "duration": 37,
    "start_time": "2021-10-31T08:39:18.338Z"
   },
   {
    "duration": 62,
    "start_time": "2021-10-31T08:39:18.378Z"
   },
   {
    "duration": 629,
    "start_time": "2021-10-31T08:39:18.443Z"
   },
   {
    "duration": 15,
    "start_time": "2021-10-31T08:40:32.688Z"
   },
   {
    "duration": 5,
    "start_time": "2021-10-31T08:40:39.373Z"
   },
   {
    "duration": 1320,
    "start_time": "2021-10-31T08:40:39.381Z"
   },
   {
    "duration": 168,
    "start_time": "2021-10-31T08:40:40.705Z"
   },
   {
    "duration": 126,
    "start_time": "2021-10-31T08:40:40.876Z"
   },
   {
    "duration": 625,
    "start_time": "2021-10-31T08:40:41.005Z"
   },
   {
    "duration": 1430,
    "start_time": "2021-10-31T08:40:41.633Z"
   },
   {
    "duration": 61,
    "start_time": "2021-10-31T08:40:43.065Z"
   },
   {
    "duration": 57,
    "start_time": "2021-10-31T08:40:43.130Z"
   },
   {
    "duration": 44,
    "start_time": "2021-10-31T08:40:43.189Z"
   },
   {
    "duration": 6,
    "start_time": "2021-10-31T08:41:18.157Z"
   },
   {
    "duration": 41,
    "start_time": "2021-10-31T08:42:26.568Z"
   },
   {
    "duration": 41,
    "start_time": "2021-10-31T08:45:35.089Z"
   },
   {
    "duration": 34,
    "start_time": "2021-10-31T08:45:52.522Z"
   },
   {
    "duration": 42,
    "start_time": "2021-10-31T08:46:02.087Z"
   },
   {
    "duration": 57,
    "start_time": "2021-10-31T08:46:33.774Z"
   },
   {
    "duration": 5,
    "start_time": "2021-10-31T08:48:55.750Z"
   },
   {
    "duration": 1096,
    "start_time": "2021-10-31T08:48:55.758Z"
   },
   {
    "duration": 173,
    "start_time": "2021-10-31T08:48:56.857Z"
   },
   {
    "duration": 127,
    "start_time": "2021-10-31T08:48:57.033Z"
   },
   {
    "duration": 602,
    "start_time": "2021-10-31T08:48:57.163Z"
   },
   {
    "duration": 1317,
    "start_time": "2021-10-31T08:48:57.768Z"
   },
   {
    "duration": 56,
    "start_time": "2021-10-31T08:48:59.088Z"
   },
   {
    "duration": 53,
    "start_time": "2021-10-31T08:48:59.147Z"
   },
   {
    "duration": 42,
    "start_time": "2021-10-31T08:48:59.203Z"
   },
   {
    "duration": 626,
    "start_time": "2021-10-31T08:48:59.247Z"
   },
   {
    "duration": 53,
    "start_time": "2021-10-31T08:48:59.875Z"
   },
   {
    "duration": 34,
    "start_time": "2021-10-31T08:48:59.930Z"
   },
   {
    "duration": 5,
    "start_time": "2021-10-31T08:49:31.603Z"
   },
   {
    "duration": 6,
    "start_time": "2021-10-31T08:51:30.796Z"
   },
   {
    "duration": 1183,
    "start_time": "2021-10-31T08:51:30.805Z"
   },
   {
    "duration": 166,
    "start_time": "2021-10-31T08:51:31.991Z"
   },
   {
    "duration": 196,
    "start_time": "2021-10-31T08:51:32.159Z"
   },
   {
    "duration": 600,
    "start_time": "2021-10-31T08:51:32.357Z"
   },
   {
    "duration": 1282,
    "start_time": "2021-10-31T08:51:32.960Z"
   },
   {
    "duration": 62,
    "start_time": "2021-10-31T08:51:34.244Z"
   },
   {
    "duration": 38,
    "start_time": "2021-10-31T08:51:34.309Z"
   },
   {
    "duration": 63,
    "start_time": "2021-10-31T08:51:34.352Z"
   },
   {
    "duration": 620,
    "start_time": "2021-10-31T08:51:34.418Z"
   },
   {
    "duration": 40,
    "start_time": "2021-10-31T08:51:35.041Z"
   },
   {
    "duration": 35,
    "start_time": "2021-10-31T08:51:35.100Z"
   },
   {
    "duration": 66,
    "start_time": "2021-10-31T08:51:35.137Z"
   },
   {
    "duration": 20,
    "start_time": "2021-10-31T08:51:35.206Z"
   },
   {
    "duration": 5389,
    "start_time": "2021-10-31T08:51:35.228Z"
   },
   {
    "duration": 4937,
    "start_time": "2021-10-31T08:51:40.620Z"
   },
   {
    "duration": 5283,
    "start_time": "2021-10-31T08:51:45.559Z"
   },
   {
    "duration": 3,
    "start_time": "2021-10-31T08:51:50.845Z"
   },
   {
    "duration": 650,
    "start_time": "2021-10-31T08:51:50.850Z"
   },
   {
    "duration": 5113,
    "start_time": "2021-10-31T08:51:51.502Z"
   },
   {
    "duration": 28,
    "start_time": "2021-10-31T08:51:56.617Z"
   },
   {
    "duration": 25,
    "start_time": "2021-10-31T08:51:56.647Z"
   },
   {
    "duration": 228,
    "start_time": "2021-10-31T08:51:56.674Z"
   },
   {
    "duration": 27,
    "start_time": "2021-10-31T08:51:56.904Z"
   },
   {
    "duration": 173,
    "start_time": "2021-10-31T08:51:56.934Z"
   },
   {
    "duration": 40,
    "start_time": "2021-10-31T08:51:57.110Z"
   },
   {
    "duration": 300,
    "start_time": "2021-10-31T08:51:57.155Z"
   },
   {
    "duration": 143,
    "start_time": "2021-10-31T08:51:57.458Z"
   },
   {
    "duration": 446,
    "start_time": "2021-10-31T08:51:57.604Z"
   },
   {
    "duration": 18,
    "start_time": "2021-10-31T08:51:58.053Z"
   },
   {
    "duration": 55,
    "start_time": "2021-10-31T08:51:58.073Z"
   },
   {
    "duration": 40,
    "start_time": "2021-10-31T08:51:58.131Z"
   },
   {
    "duration": 178,
    "start_time": "2021-10-31T08:51:58.174Z"
   },
   {
    "duration": 48,
    "start_time": "2021-10-31T08:51:58.354Z"
   },
   {
    "duration": 138,
    "start_time": "2021-10-31T08:51:58.405Z"
   },
   {
    "duration": 468,
    "start_time": "2021-10-31T08:51:58.546Z"
   },
   {
    "duration": 18,
    "start_time": "2021-10-31T08:51:59.017Z"
   },
   {
    "duration": 131,
    "start_time": "2021-10-31T08:51:59.038Z"
   },
   {
    "duration": 6,
    "start_time": "2021-10-31T08:51:59.171Z"
   },
   {
    "duration": 64,
    "start_time": "2021-10-31T08:51:59.179Z"
   },
   {
    "duration": 453,
    "start_time": "2021-10-31T08:51:59.245Z"
   },
   {
    "duration": 1235,
    "start_time": "2021-10-31T08:51:59.701Z"
   },
   {
    "duration": 1178,
    "start_time": "2021-10-31T08:52:00.938Z"
   },
   {
    "duration": 355,
    "start_time": "2021-10-31T08:52:02.119Z"
   },
   {
    "duration": 1640,
    "start_time": "2021-10-31T09:02:40.998Z"
   },
   {
    "duration": 1173,
    "start_time": "2021-10-31T09:02:42.640Z"
   },
   {
    "duration": 176,
    "start_time": "2021-10-31T09:02:43.816Z"
   },
   {
    "duration": 130,
    "start_time": "2021-10-31T09:02:44.000Z"
   },
   {
    "duration": 757,
    "start_time": "2021-10-31T09:02:44.132Z"
   },
   {
    "duration": 1510,
    "start_time": "2021-10-31T09:02:44.892Z"
   },
   {
    "duration": 59,
    "start_time": "2021-10-31T09:02:46.404Z"
   },
   {
    "duration": 65,
    "start_time": "2021-10-31T09:02:46.467Z"
   },
   {
    "duration": 53,
    "start_time": "2021-10-31T09:02:46.535Z"
   },
   {
    "duration": 667,
    "start_time": "2021-10-31T09:02:46.591Z"
   },
   {
    "duration": 54,
    "start_time": "2021-10-31T09:02:47.260Z"
   },
   {
    "duration": 36,
    "start_time": "2021-10-31T09:02:47.316Z"
   },
   {
    "duration": 80,
    "start_time": "2021-10-31T09:02:47.355Z"
   },
   {
    "duration": 22,
    "start_time": "2021-10-31T09:02:47.438Z"
   },
   {
    "duration": 5780,
    "start_time": "2021-10-31T09:02:47.463Z"
   },
   {
    "duration": 5088,
    "start_time": "2021-10-31T09:02:53.246Z"
   },
   {
    "duration": 5075,
    "start_time": "2021-10-31T09:02:58.336Z"
   },
   {
    "duration": 3,
    "start_time": "2021-10-31T09:03:03.413Z"
   },
   {
    "duration": 375,
    "start_time": "2021-10-31T09:03:03.418Z"
   },
   {
    "duration": 5171,
    "start_time": "2021-10-31T09:03:03.799Z"
   },
   {
    "duration": 37,
    "start_time": "2021-10-31T09:03:08.972Z"
   },
   {
    "duration": 29,
    "start_time": "2021-10-31T09:03:09.012Z"
   },
   {
    "duration": 230,
    "start_time": "2021-10-31T09:03:09.047Z"
   },
   {
    "duration": 36,
    "start_time": "2021-10-31T09:03:09.280Z"
   },
   {
    "duration": 182,
    "start_time": "2021-10-31T09:03:09.318Z"
   },
   {
    "duration": 43,
    "start_time": "2021-10-31T09:03:09.502Z"
   },
   {
    "duration": 308,
    "start_time": "2021-10-31T09:03:09.547Z"
   },
   {
    "duration": 152,
    "start_time": "2021-10-31T09:03:09.858Z"
   },
   {
    "duration": 465,
    "start_time": "2021-10-31T09:03:10.013Z"
   },
   {
    "duration": 33,
    "start_time": "2021-10-31T09:03:10.481Z"
   },
   {
    "duration": 41,
    "start_time": "2021-10-31T09:03:10.517Z"
   },
   {
    "duration": 58,
    "start_time": "2021-10-31T09:03:10.560Z"
   },
   {
    "duration": 168,
    "start_time": "2021-10-31T09:03:10.621Z"
   },
   {
    "duration": 46,
    "start_time": "2021-10-31T09:03:10.792Z"
   },
   {
    "duration": 148,
    "start_time": "2021-10-31T09:03:10.841Z"
   },
   {
    "duration": 457,
    "start_time": "2021-10-31T09:03:10.992Z"
   },
   {
    "duration": 22,
    "start_time": "2021-10-31T09:03:11.451Z"
   },
   {
    "duration": 152,
    "start_time": "2021-10-31T09:03:11.476Z"
   },
   {
    "duration": 7,
    "start_time": "2021-10-31T09:03:11.631Z"
   },
   {
    "duration": 70,
    "start_time": "2021-10-31T09:03:11.641Z"
   },
   {
    "duration": 485,
    "start_time": "2021-10-31T09:03:11.713Z"
   },
   {
    "duration": 1186,
    "start_time": "2021-10-31T09:03:12.201Z"
   },
   {
    "duration": 1282,
    "start_time": "2021-10-31T09:03:13.390Z"
   },
   {
    "duration": 362,
    "start_time": "2021-10-31T09:03:14.675Z"
   },
   {
    "duration": 4,
    "start_time": "2021-10-31T09:03:15.039Z"
   },
   {
    "duration": 898864,
    "start_time": "2021-10-31T09:03:15.046Z"
   },
   {
    "duration": 131294,
    "start_time": "2021-10-31T09:18:13.913Z"
   },
   {
    "duration": 76104,
    "start_time": "2021-10-31T09:20:25.300Z"
   },
   {
    "duration": 793006,
    "start_time": "2021-10-31T09:21:41.407Z"
   },
   {
    "duration": 4,
    "start_time": "2021-10-31T09:34:54.416Z"
   },
   {
    "duration": 307,
    "start_time": "2021-10-31T09:34:54.422Z"
   },
   {
    "duration": 183,
    "start_time": "2021-10-31T09:34:54.731Z"
   },
   {
    "duration": 1324,
    "start_time": "2021-10-31T09:34:55.001Z"
   },
   {
    "duration": 1993,
    "start_time": "2021-10-31T09:34:56.327Z"
   },
   {
    "duration": 7,
    "start_time": "2021-10-31T09:34:58.323Z"
   },
   {
    "duration": 82,
    "start_time": "2021-10-31T09:34:58.332Z"
   },
   {
    "duration": 18,
    "start_time": "2021-10-31T09:38:20.311Z"
   },
   {
    "duration": 8,
    "start_time": "2021-10-31T09:38:31.607Z"
   },
   {
    "duration": 7491,
    "start_time": "2021-10-31T09:39:06.385Z"
   },
   {
    "duration": 7584,
    "start_time": "2021-10-31T09:39:28.767Z"
   },
   {
    "duration": 1005,
    "start_time": "2021-10-31T09:39:52.412Z"
   },
   {
    "duration": 445,
    "start_time": "2021-10-31T09:40:01.111Z"
   },
   {
    "duration": 7,
    "start_time": "2021-10-31T09:40:06.241Z"
   },
   {
    "duration": 932,
    "start_time": "2021-10-31T09:40:39.679Z"
   },
   {
    "duration": 123,
    "start_time": "2021-10-31T09:40:50.634Z"
   },
   {
    "duration": 7,
    "start_time": "2021-10-31T09:40:54.305Z"
   },
   {
    "duration": 353,
    "start_time": "2021-10-31T09:41:16.199Z"
   },
   {
    "duration": 182,
    "start_time": "2021-10-31T09:41:45.062Z"
   },
   {
    "duration": 113,
    "start_time": "2021-10-31T09:41:50.008Z"
   },
   {
    "duration": 365,
    "start_time": "2021-10-31T09:42:06.588Z"
   },
   {
    "duration": 134,
    "start_time": "2021-10-31T09:42:30.341Z"
   },
   {
    "duration": 8,
    "start_time": "2021-10-31T09:42:32.900Z"
   },
   {
    "duration": 9,
    "start_time": "2021-10-31T09:42:37.293Z"
   },
   {
    "duration": 9,
    "start_time": "2021-10-31T09:42:40.924Z"
   },
   {
    "duration": 7,
    "start_time": "2021-10-31T09:42:45.110Z"
   },
   {
    "duration": 8,
    "start_time": "2021-10-31T09:42:53.418Z"
   },
   {
    "duration": 115,
    "start_time": "2021-10-31T09:42:59.346Z"
   },
   {
    "duration": 6,
    "start_time": "2021-10-31T09:44:08.071Z"
   },
   {
    "duration": 7,
    "start_time": "2021-10-31T09:44:33.346Z"
   },
   {
    "duration": 5,
    "start_time": "2021-10-31T09:45:38.765Z"
   },
   {
    "duration": 5,
    "start_time": "2021-10-31T09:45:57.804Z"
   },
   {
    "duration": 5,
    "start_time": "2021-10-31T09:46:05.530Z"
   },
   {
    "duration": 351,
    "start_time": "2021-10-31T09:46:19.300Z"
   },
   {
    "duration": 126,
    "start_time": "2021-10-31T09:46:36.277Z"
   },
   {
    "duration": 10163,
    "start_time": "2021-10-31T09:46:40.538Z"
   },
   {
    "duration": 9,
    "start_time": "2021-10-31T09:49:16.190Z"
   },
   {
    "duration": 6,
    "start_time": "2021-10-31T09:49:26.174Z"
   },
   {
    "duration": 7,
    "start_time": "2021-10-31T09:49:39.992Z"
   },
   {
    "duration": 505,
    "start_time": "2021-10-31T09:50:49.452Z"
   },
   {
    "duration": 361,
    "start_time": "2021-10-31T09:51:10.670Z"
   },
   {
    "duration": 375,
    "start_time": "2021-10-31T09:52:20.433Z"
   },
   {
    "duration": 5,
    "start_time": "2021-10-31T09:54:23.253Z"
   },
   {
    "duration": 5,
    "start_time": "2021-10-31T09:54:36.721Z"
   },
   {
    "duration": 5,
    "start_time": "2021-10-31T09:54:43.141Z"
   },
   {
    "duration": 364,
    "start_time": "2021-10-31T09:55:10.479Z"
   },
   {
    "duration": 383,
    "start_time": "2021-10-31T09:55:25.614Z"
   },
   {
    "duration": 2104,
    "start_time": "2021-10-31T09:56:38.860Z"
   },
   {
    "duration": 9,
    "start_time": "2021-10-31T09:57:11.801Z"
   },
   {
    "duration": 383,
    "start_time": "2021-10-31T09:57:50.345Z"
   },
   {
    "duration": 5,
    "start_time": "2021-10-31T09:58:04.957Z"
   },
   {
    "duration": 10,
    "start_time": "2021-10-31T09:59:01.009Z"
   },
   {
    "duration": 11,
    "start_time": "2021-10-31T09:59:22.406Z"
   },
   {
    "duration": 10,
    "start_time": "2021-10-31T10:00:01.718Z"
   },
   {
    "duration": 11,
    "start_time": "2021-10-31T10:00:21.405Z"
   },
   {
    "duration": 591,
    "start_time": "2021-10-31T10:00:35.168Z"
   },
   {
    "duration": 9,
    "start_time": "2021-10-31T10:01:41.854Z"
   },
   {
    "duration": 710,
    "start_time": "2021-10-31T10:01:44.562Z"
   },
   {
    "duration": 8,
    "start_time": "2021-10-31T10:01:58.349Z"
   },
   {
    "duration": 1216,
    "start_time": "2021-10-31T10:02:00.162Z"
   },
   {
    "duration": 7,
    "start_time": "2021-10-31T10:05:51.516Z"
   },
   {
    "duration": 9,
    "start_time": "2021-10-31T10:06:06.020Z"
   },
   {
    "duration": 8,
    "start_time": "2021-10-31T10:06:13.309Z"
   },
   {
    "duration": 8,
    "start_time": "2021-10-31T10:07:12.210Z"
   },
   {
    "duration": 10,
    "start_time": "2021-10-31T10:07:44.500Z"
   },
   {
    "duration": 11,
    "start_time": "2021-10-31T10:08:06.474Z"
   },
   {
    "duration": 6,
    "start_time": "2021-10-31T10:09:03.254Z"
   },
   {
    "duration": 11,
    "start_time": "2021-10-31T10:09:05.393Z"
   },
   {
    "duration": 22,
    "start_time": "2021-10-31T10:11:16.310Z"
   },
   {
    "duration": 32,
    "start_time": "2021-10-31T10:13:58.383Z"
   },
   {
    "duration": 33,
    "start_time": "2021-10-31T10:14:12.071Z"
   },
   {
    "duration": 439,
    "start_time": "2021-10-31T10:14:29.565Z"
   },
   {
    "duration": 355,
    "start_time": "2021-10-31T10:14:34.275Z"
   },
   {
    "duration": 9,
    "start_time": "2021-10-31T10:20:12.260Z"
   },
   {
    "duration": 33,
    "start_time": "2021-10-31T10:20:19.704Z"
   },
   {
    "duration": 33,
    "start_time": "2021-10-31T10:20:27.522Z"
   }
  ],
  "kernelspec": {
   "display_name": "Python 3",
   "language": "python",
   "name": "python3"
  },
  "language_info": {
   "codemirror_mode": {
    "name": "ipython",
    "version": 3
   },
   "file_extension": ".py",
   "mimetype": "text/x-python",
   "name": "python",
   "nbconvert_exporter": "python",
   "pygments_lexer": "ipython3",
   "version": "3.8.2"
  },
  "toc": {
   "base_numbering": 1,
   "nav_menu": {},
   "number_sections": true,
   "sideBar": true,
   "skip_h1_title": true,
   "title_cell": "Table of Contents",
   "title_sidebar": "Contents",
   "toc_cell": false,
   "toc_position": {
    "height": "calc(100% - 180px)",
    "left": "10px",
    "top": "150px",
    "width": "244.391px"
   },
   "toc_section_display": true,
   "toc_window_display": true
  }
 },
 "nbformat": 4,
 "nbformat_minor": 2
}
