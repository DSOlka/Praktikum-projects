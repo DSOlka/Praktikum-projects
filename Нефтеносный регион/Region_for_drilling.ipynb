{
 "cells": [
  {
   "cell_type": "markdown",
   "metadata": {},
   "source": [
    "# Выбор региона для бурения скважин"
   ]
  },
  {
   "cell_type": "markdown",
   "metadata": {},
   "source": [
    "**Цель проекта**: построение модели машинного обучения для добывающей компании, которая поможет определить регион, где добыча принесёт наибольшую прибыль.\n",
    "\n",
    "Механизм выбора локации:\n",
    "- В избранном регионе ищут месторождения, для каждого определяют значения признаков;\n",
    "- Строят модель и оценивают объём запасов;\n",
    "- Выбирают месторождения с самым высокими оценками значений. Количество месторождений зависит от бюджета компании и стоимости разработки одной скважины;\n",
    "- Прибыль равна суммарной прибыли отобранных месторождений.\n",
    "\n",
    "**Вводные данные от компании**:\n",
    "- при разведке региона исследуют 500 точек, из которых выбирают 200 лучших для разработки;\n",
    "- бюджет на разработку скважин в регионе — 10 млрд рублей;\n",
    "- один баррель сырья приносит 450 рублей дохода (или 450 тыс. руб. с тысячи баррелей);\n",
    "- вероятность убытков в регионе должна быть меньше 2.5%;\n",
    "- среди подходящих выберут регион с наибольшей средней прибылью.\n",
    "\n",
    "Нам предоставлены пробы нефти в трёх регионах: в каждом 10 000 месторождений, где измерили качество нефти и объём её запасов. Датасет содержит следующие данные:\n",
    "- id — уникальный идентификатор скважины;\n",
    "- f0, f1, f2 — три признака точек;\n",
    "- product — объём запасов в скважине (тыс. баррелей).\n",
    "\n",
    "**Основные этапы проекта**:\n",
    "- Загрузка и подготовка данных\n",
    "- Обучение и проверка модели для каждого региона\n",
    "- Подготовка к расчёту прибыли:\n",
    "    - Определение ключевых констант для расчёта\n",
    "    - Расчёт достаточного объёма сырья для безубыточной разработки новой скважины\n",
    "- Написание функции для расчёта прибыли по выбранным скважинам и предсказаниям модели\n",
    "- Расчёт рисков и наиболее вероятной прибыли для каждого региона методом bootstrap. Выбор региона для разработки."
   ]
  },
  {
   "cell_type": "markdown",
   "metadata": {},
   "source": [
    "## Загрузка и подготовка данных"
   ]
  },
  {
   "cell_type": "code",
   "execution_count": 1,
   "metadata": {},
   "outputs": [],
   "source": [
    "import pandas as pd\n",
    "import numpy as np\n",
    "import matplotlib.pyplot as plt\n",
    "from sklearn.model_selection import train_test_split\n",
    "from sklearn.linear_model import LinearRegression\n",
    "from sklearn.metrics import mean_squared_error\n",
    "from sklearn.dummy import DummyRegressor\n",
    "from scipy import stats as st"
   ]
  },
  {
   "cell_type": "markdown",
   "metadata": {},
   "source": [
    "Ознакомимся с данными, с которыми предстоит работать:"
   ]
  },
  {
   "cell_type": "code",
   "execution_count": 2,
   "metadata": {
    "scrolled": true
   },
   "outputs": [
    {
     "name": "stdout",
     "output_type": "stream",
     "text": [
      "Данные о скважинах в Регионе 1:\n"
     ]
    },
    {
     "data": {
      "text/html": [
       "<div>\n",
       "<style scoped>\n",
       "    .dataframe tbody tr th:only-of-type {\n",
       "        vertical-align: middle;\n",
       "    }\n",
       "\n",
       "    .dataframe tbody tr th {\n",
       "        vertical-align: top;\n",
       "    }\n",
       "\n",
       "    .dataframe thead th {\n",
       "        text-align: right;\n",
       "    }\n",
       "</style>\n",
       "<table border=\"1\" class=\"dataframe\">\n",
       "  <thead>\n",
       "    <tr style=\"text-align: right;\">\n",
       "      <th></th>\n",
       "      <th>id</th>\n",
       "      <th>f0</th>\n",
       "      <th>f1</th>\n",
       "      <th>f2</th>\n",
       "      <th>product</th>\n",
       "    </tr>\n",
       "  </thead>\n",
       "  <tbody>\n",
       "    <tr>\n",
       "      <td>0</td>\n",
       "      <td>txEyH</td>\n",
       "      <td>0.705745</td>\n",
       "      <td>-0.497823</td>\n",
       "      <td>1.221170</td>\n",
       "      <td>105.280062</td>\n",
       "    </tr>\n",
       "    <tr>\n",
       "      <td>1</td>\n",
       "      <td>2acmU</td>\n",
       "      <td>1.334711</td>\n",
       "      <td>-0.340164</td>\n",
       "      <td>4.365080</td>\n",
       "      <td>73.037750</td>\n",
       "    </tr>\n",
       "    <tr>\n",
       "      <td>2</td>\n",
       "      <td>409Wp</td>\n",
       "      <td>1.022732</td>\n",
       "      <td>0.151990</td>\n",
       "      <td>1.419926</td>\n",
       "      <td>85.265647</td>\n",
       "    </tr>\n",
       "    <tr>\n",
       "      <td>3</td>\n",
       "      <td>iJLyR</td>\n",
       "      <td>-0.032172</td>\n",
       "      <td>0.139033</td>\n",
       "      <td>2.978566</td>\n",
       "      <td>168.620776</td>\n",
       "    </tr>\n",
       "    <tr>\n",
       "      <td>4</td>\n",
       "      <td>Xdl7t</td>\n",
       "      <td>1.988431</td>\n",
       "      <td>0.155413</td>\n",
       "      <td>4.751769</td>\n",
       "      <td>154.036647</td>\n",
       "    </tr>\n",
       "  </tbody>\n",
       "</table>\n",
       "</div>"
      ],
      "text/plain": [
       "      id        f0        f1        f2     product\n",
       "0  txEyH  0.705745 -0.497823  1.221170  105.280062\n",
       "1  2acmU  1.334711 -0.340164  4.365080   73.037750\n",
       "2  409Wp  1.022732  0.151990  1.419926   85.265647\n",
       "3  iJLyR -0.032172  0.139033  2.978566  168.620776\n",
       "4  Xdl7t  1.988431  0.155413  4.751769  154.036647"
      ]
     },
     "metadata": {},
     "output_type": "display_data"
    },
    {
     "name": "stdout",
     "output_type": "stream",
     "text": [
      "<class 'pandas.core.frame.DataFrame'>\n",
      "RangeIndex: 100000 entries, 0 to 99999\n",
      "Data columns (total 5 columns):\n",
      "id         100000 non-null object\n",
      "f0         100000 non-null float64\n",
      "f1         100000 non-null float64\n",
      "f2         100000 non-null float64\n",
      "product    100000 non-null float64\n",
      "dtypes: float64(4), object(1)\n",
      "memory usage: 3.8+ MB\n"
     ]
    },
    {
     "data": {
      "text/plain": [
       "None"
      ]
     },
     "metadata": {},
     "output_type": "display_data"
    }
   ],
   "source": [
    "reg_1 = pd.read_csv('/geo_data_0.csv')\n",
    "print('Данные о скважинах в Регионе 1:')\n",
    "display(reg_1.head())\n",
    "display(reg_1.info())"
   ]
  },
  {
   "cell_type": "code",
   "execution_count": 3,
   "metadata": {},
   "outputs": [
    {
     "name": "stdout",
     "output_type": "stream",
     "text": [
      "Данные о скважинах в Регионе 2:\n"
     ]
    },
    {
     "data": {
      "text/html": [
       "<div>\n",
       "<style scoped>\n",
       "    .dataframe tbody tr th:only-of-type {\n",
       "        vertical-align: middle;\n",
       "    }\n",
       "\n",
       "    .dataframe tbody tr th {\n",
       "        vertical-align: top;\n",
       "    }\n",
       "\n",
       "    .dataframe thead th {\n",
       "        text-align: right;\n",
       "    }\n",
       "</style>\n",
       "<table border=\"1\" class=\"dataframe\">\n",
       "  <thead>\n",
       "    <tr style=\"text-align: right;\">\n",
       "      <th></th>\n",
       "      <th>id</th>\n",
       "      <th>f0</th>\n",
       "      <th>f1</th>\n",
       "      <th>f2</th>\n",
       "      <th>product</th>\n",
       "    </tr>\n",
       "  </thead>\n",
       "  <tbody>\n",
       "    <tr>\n",
       "      <td>0</td>\n",
       "      <td>kBEdx</td>\n",
       "      <td>-15.001348</td>\n",
       "      <td>-8.276000</td>\n",
       "      <td>-0.005876</td>\n",
       "      <td>3.179103</td>\n",
       "    </tr>\n",
       "    <tr>\n",
       "      <td>1</td>\n",
       "      <td>62mP7</td>\n",
       "      <td>14.272088</td>\n",
       "      <td>-3.475083</td>\n",
       "      <td>0.999183</td>\n",
       "      <td>26.953261</td>\n",
       "    </tr>\n",
       "    <tr>\n",
       "      <td>2</td>\n",
       "      <td>vyE1P</td>\n",
       "      <td>6.263187</td>\n",
       "      <td>-5.948386</td>\n",
       "      <td>5.001160</td>\n",
       "      <td>134.766305</td>\n",
       "    </tr>\n",
       "    <tr>\n",
       "      <td>3</td>\n",
       "      <td>KcrkZ</td>\n",
       "      <td>-13.081196</td>\n",
       "      <td>-11.506057</td>\n",
       "      <td>4.999415</td>\n",
       "      <td>137.945408</td>\n",
       "    </tr>\n",
       "    <tr>\n",
       "      <td>4</td>\n",
       "      <td>AHL4O</td>\n",
       "      <td>12.702195</td>\n",
       "      <td>-8.147433</td>\n",
       "      <td>5.004363</td>\n",
       "      <td>134.766305</td>\n",
       "    </tr>\n",
       "  </tbody>\n",
       "</table>\n",
       "</div>"
      ],
      "text/plain": [
       "      id         f0         f1        f2     product\n",
       "0  kBEdx -15.001348  -8.276000 -0.005876    3.179103\n",
       "1  62mP7  14.272088  -3.475083  0.999183   26.953261\n",
       "2  vyE1P   6.263187  -5.948386  5.001160  134.766305\n",
       "3  KcrkZ -13.081196 -11.506057  4.999415  137.945408\n",
       "4  AHL4O  12.702195  -8.147433  5.004363  134.766305"
      ]
     },
     "metadata": {},
     "output_type": "display_data"
    },
    {
     "name": "stdout",
     "output_type": "stream",
     "text": [
      "<class 'pandas.core.frame.DataFrame'>\n",
      "RangeIndex: 100000 entries, 0 to 99999\n",
      "Data columns (total 5 columns):\n",
      "id         100000 non-null object\n",
      "f0         100000 non-null float64\n",
      "f1         100000 non-null float64\n",
      "f2         100000 non-null float64\n",
      "product    100000 non-null float64\n",
      "dtypes: float64(4), object(1)\n",
      "memory usage: 3.8+ MB\n"
     ]
    },
    {
     "data": {
      "text/plain": [
       "None"
      ]
     },
     "metadata": {},
     "output_type": "display_data"
    }
   ],
   "source": [
    "print('Данные о скважинах в Регионе 2:')\n",
    "reg_2 = pd.read_csv('/geo_data_1.csv')\n",
    "display(reg_2.head())\n",
    "display(reg_2.info())"
   ]
  },
  {
   "cell_type": "code",
   "execution_count": 4,
   "metadata": {},
   "outputs": [
    {
     "name": "stdout",
     "output_type": "stream",
     "text": [
      "Данные о скважинах в Регионе 3:\n"
     ]
    },
    {
     "data": {
      "text/html": [
       "<div>\n",
       "<style scoped>\n",
       "    .dataframe tbody tr th:only-of-type {\n",
       "        vertical-align: middle;\n",
       "    }\n",
       "\n",
       "    .dataframe tbody tr th {\n",
       "        vertical-align: top;\n",
       "    }\n",
       "\n",
       "    .dataframe thead th {\n",
       "        text-align: right;\n",
       "    }\n",
       "</style>\n",
       "<table border=\"1\" class=\"dataframe\">\n",
       "  <thead>\n",
       "    <tr style=\"text-align: right;\">\n",
       "      <th></th>\n",
       "      <th>id</th>\n",
       "      <th>f0</th>\n",
       "      <th>f1</th>\n",
       "      <th>f2</th>\n",
       "      <th>product</th>\n",
       "    </tr>\n",
       "  </thead>\n",
       "  <tbody>\n",
       "    <tr>\n",
       "      <td>0</td>\n",
       "      <td>fwXo0</td>\n",
       "      <td>-1.146987</td>\n",
       "      <td>0.963328</td>\n",
       "      <td>-0.828965</td>\n",
       "      <td>27.758673</td>\n",
       "    </tr>\n",
       "    <tr>\n",
       "      <td>1</td>\n",
       "      <td>WJtFt</td>\n",
       "      <td>0.262778</td>\n",
       "      <td>0.269839</td>\n",
       "      <td>-2.530187</td>\n",
       "      <td>56.069697</td>\n",
       "    </tr>\n",
       "    <tr>\n",
       "      <td>2</td>\n",
       "      <td>ovLUW</td>\n",
       "      <td>0.194587</td>\n",
       "      <td>0.289035</td>\n",
       "      <td>-5.586433</td>\n",
       "      <td>62.871910</td>\n",
       "    </tr>\n",
       "    <tr>\n",
       "      <td>3</td>\n",
       "      <td>q6cA6</td>\n",
       "      <td>2.236060</td>\n",
       "      <td>-0.553760</td>\n",
       "      <td>0.930038</td>\n",
       "      <td>114.572842</td>\n",
       "    </tr>\n",
       "    <tr>\n",
       "      <td>4</td>\n",
       "      <td>WPMUX</td>\n",
       "      <td>-0.515993</td>\n",
       "      <td>1.716266</td>\n",
       "      <td>5.899011</td>\n",
       "      <td>149.600746</td>\n",
       "    </tr>\n",
       "  </tbody>\n",
       "</table>\n",
       "</div>"
      ],
      "text/plain": [
       "      id        f0        f1        f2     product\n",
       "0  fwXo0 -1.146987  0.963328 -0.828965   27.758673\n",
       "1  WJtFt  0.262778  0.269839 -2.530187   56.069697\n",
       "2  ovLUW  0.194587  0.289035 -5.586433   62.871910\n",
       "3  q6cA6  2.236060 -0.553760  0.930038  114.572842\n",
       "4  WPMUX -0.515993  1.716266  5.899011  149.600746"
      ]
     },
     "metadata": {},
     "output_type": "display_data"
    },
    {
     "name": "stdout",
     "output_type": "stream",
     "text": [
      "<class 'pandas.core.frame.DataFrame'>\n",
      "RangeIndex: 100000 entries, 0 to 99999\n",
      "Data columns (total 5 columns):\n",
      "id         100000 non-null object\n",
      "f0         100000 non-null float64\n",
      "f1         100000 non-null float64\n",
      "f2         100000 non-null float64\n",
      "product    100000 non-null float64\n",
      "dtypes: float64(4), object(1)\n",
      "memory usage: 3.8+ MB\n"
     ]
    },
    {
     "data": {
      "text/plain": [
       "None"
      ]
     },
     "metadata": {},
     "output_type": "display_data"
    }
   ],
   "source": [
    "print('Данные о скважинах в Регионе 3:')\n",
    "reg_3 = pd.read_csv('/geo_data_2.csv')\n",
    "display(reg_3.head())\n",
    "display(reg_3.info())"
   ]
  },
  {
   "cell_type": "markdown",
   "metadata": {},
   "source": [
    "Поскольку для анализа каждого региона будет построена отдельная модель, предлагается данные не объединять. Для каждого региона в таблице собраны наблюдения о 100 000 скважин. Пропусков в таблицах нет, типы данных подходят для анализа. Проверим, нет ли дубликатов в ID скважин:"
   ]
  },
  {
   "cell_type": "code",
   "execution_count": 5,
   "metadata": {},
   "outputs": [
    {
     "name": "stdout",
     "output_type": "stream",
     "text": [
      "Доля дублирующих данных о скважинах в общем объеме запасов по Региону 1: 0.02 %\n"
     ]
    },
    {
     "data": {
      "text/html": [
       "<div>\n",
       "<style scoped>\n",
       "    .dataframe tbody tr th:only-of-type {\n",
       "        vertical-align: middle;\n",
       "    }\n",
       "\n",
       "    .dataframe tbody tr th {\n",
       "        vertical-align: top;\n",
       "    }\n",
       "\n",
       "    .dataframe thead th {\n",
       "        text-align: right;\n",
       "    }\n",
       "</style>\n",
       "<table border=\"1\" class=\"dataframe\">\n",
       "  <thead>\n",
       "    <tr style=\"text-align: right;\">\n",
       "      <th></th>\n",
       "      <th>id</th>\n",
       "      <th>f0</th>\n",
       "      <th>f1</th>\n",
       "      <th>f2</th>\n",
       "      <th>product</th>\n",
       "    </tr>\n",
       "  </thead>\n",
       "  <tbody>\n",
       "    <tr>\n",
       "      <td>931</td>\n",
       "      <td>HZww2</td>\n",
       "      <td>0.755284</td>\n",
       "      <td>0.368511</td>\n",
       "      <td>1.863211</td>\n",
       "      <td>30.681774</td>\n",
       "    </tr>\n",
       "    <tr>\n",
       "      <td>1364</td>\n",
       "      <td>bxg6G</td>\n",
       "      <td>0.411645</td>\n",
       "      <td>0.856830</td>\n",
       "      <td>-3.653440</td>\n",
       "      <td>73.604260</td>\n",
       "    </tr>\n",
       "    <tr>\n",
       "      <td>1949</td>\n",
       "      <td>QcMuo</td>\n",
       "      <td>0.506563</td>\n",
       "      <td>-0.323775</td>\n",
       "      <td>-2.215583</td>\n",
       "      <td>75.496502</td>\n",
       "    </tr>\n",
       "    <tr>\n",
       "      <td>3389</td>\n",
       "      <td>A5aEY</td>\n",
       "      <td>-0.039949</td>\n",
       "      <td>0.156872</td>\n",
       "      <td>0.209861</td>\n",
       "      <td>89.249364</td>\n",
       "    </tr>\n",
       "    <tr>\n",
       "      <td>7530</td>\n",
       "      <td>HZww2</td>\n",
       "      <td>1.061194</td>\n",
       "      <td>-0.373969</td>\n",
       "      <td>10.430210</td>\n",
       "      <td>158.828695</td>\n",
       "    </tr>\n",
       "    <tr>\n",
       "      <td>16633</td>\n",
       "      <td>fiKDv</td>\n",
       "      <td>0.157341</td>\n",
       "      <td>1.028359</td>\n",
       "      <td>5.585586</td>\n",
       "      <td>95.817889</td>\n",
       "    </tr>\n",
       "    <tr>\n",
       "      <td>21426</td>\n",
       "      <td>Tdehs</td>\n",
       "      <td>0.829407</td>\n",
       "      <td>0.298807</td>\n",
       "      <td>-0.049563</td>\n",
       "      <td>96.035308</td>\n",
       "    </tr>\n",
       "    <tr>\n",
       "      <td>41724</td>\n",
       "      <td>bxg6G</td>\n",
       "      <td>-0.823752</td>\n",
       "      <td>0.546319</td>\n",
       "      <td>3.630479</td>\n",
       "      <td>93.007798</td>\n",
       "    </tr>\n",
       "    <tr>\n",
       "      <td>42529</td>\n",
       "      <td>AGS9W</td>\n",
       "      <td>1.454747</td>\n",
       "      <td>-0.479651</td>\n",
       "      <td>0.683380</td>\n",
       "      <td>126.370504</td>\n",
       "    </tr>\n",
       "    <tr>\n",
       "      <td>51970</td>\n",
       "      <td>A5aEY</td>\n",
       "      <td>-0.180335</td>\n",
       "      <td>0.935548</td>\n",
       "      <td>-2.094773</td>\n",
       "      <td>33.020205</td>\n",
       "    </tr>\n",
       "    <tr>\n",
       "      <td>60140</td>\n",
       "      <td>TtcGQ</td>\n",
       "      <td>0.569276</td>\n",
       "      <td>-0.104876</td>\n",
       "      <td>6.440215</td>\n",
       "      <td>85.350186</td>\n",
       "    </tr>\n",
       "    <tr>\n",
       "      <td>63593</td>\n",
       "      <td>QcMuo</td>\n",
       "      <td>0.635635</td>\n",
       "      <td>-0.473422</td>\n",
       "      <td>0.862670</td>\n",
       "      <td>64.578675</td>\n",
       "    </tr>\n",
       "    <tr>\n",
       "      <td>64022</td>\n",
       "      <td>74z30</td>\n",
       "      <td>0.741456</td>\n",
       "      <td>0.459229</td>\n",
       "      <td>5.153109</td>\n",
       "      <td>140.771492</td>\n",
       "    </tr>\n",
       "    <tr>\n",
       "      <td>66136</td>\n",
       "      <td>74z30</td>\n",
       "      <td>1.084962</td>\n",
       "      <td>-0.312358</td>\n",
       "      <td>6.990771</td>\n",
       "      <td>127.643327</td>\n",
       "    </tr>\n",
       "    <tr>\n",
       "      <td>69163</td>\n",
       "      <td>AGS9W</td>\n",
       "      <td>-0.933795</td>\n",
       "      <td>0.116194</td>\n",
       "      <td>-3.655896</td>\n",
       "      <td>19.230453</td>\n",
       "    </tr>\n",
       "    <tr>\n",
       "      <td>75715</td>\n",
       "      <td>Tdehs</td>\n",
       "      <td>0.112079</td>\n",
       "      <td>0.430296</td>\n",
       "      <td>3.218993</td>\n",
       "      <td>60.964018</td>\n",
       "    </tr>\n",
       "    <tr>\n",
       "      <td>89582</td>\n",
       "      <td>bsk9y</td>\n",
       "      <td>0.398908</td>\n",
       "      <td>-0.400253</td>\n",
       "      <td>10.122376</td>\n",
       "      <td>163.433078</td>\n",
       "    </tr>\n",
       "    <tr>\n",
       "      <td>90815</td>\n",
       "      <td>fiKDv</td>\n",
       "      <td>0.049883</td>\n",
       "      <td>0.841313</td>\n",
       "      <td>6.394613</td>\n",
       "      <td>137.346586</td>\n",
       "    </tr>\n",
       "    <tr>\n",
       "      <td>92341</td>\n",
       "      <td>TtcGQ</td>\n",
       "      <td>0.110711</td>\n",
       "      <td>1.022689</td>\n",
       "      <td>0.911381</td>\n",
       "      <td>101.318008</td>\n",
       "    </tr>\n",
       "    <tr>\n",
       "      <td>97785</td>\n",
       "      <td>bsk9y</td>\n",
       "      <td>0.378429</td>\n",
       "      <td>0.005837</td>\n",
       "      <td>0.160827</td>\n",
       "      <td>160.637302</td>\n",
       "    </tr>\n",
       "  </tbody>\n",
       "</table>\n",
       "</div>"
      ],
      "text/plain": [
       "          id        f0        f1         f2     product\n",
       "931    HZww2  0.755284  0.368511   1.863211   30.681774\n",
       "1364   bxg6G  0.411645  0.856830  -3.653440   73.604260\n",
       "1949   QcMuo  0.506563 -0.323775  -2.215583   75.496502\n",
       "3389   A5aEY -0.039949  0.156872   0.209861   89.249364\n",
       "7530   HZww2  1.061194 -0.373969  10.430210  158.828695\n",
       "16633  fiKDv  0.157341  1.028359   5.585586   95.817889\n",
       "21426  Tdehs  0.829407  0.298807  -0.049563   96.035308\n",
       "41724  bxg6G -0.823752  0.546319   3.630479   93.007798\n",
       "42529  AGS9W  1.454747 -0.479651   0.683380  126.370504\n",
       "51970  A5aEY -0.180335  0.935548  -2.094773   33.020205\n",
       "60140  TtcGQ  0.569276 -0.104876   6.440215   85.350186\n",
       "63593  QcMuo  0.635635 -0.473422   0.862670   64.578675\n",
       "64022  74z30  0.741456  0.459229   5.153109  140.771492\n",
       "66136  74z30  1.084962 -0.312358   6.990771  127.643327\n",
       "69163  AGS9W -0.933795  0.116194  -3.655896   19.230453\n",
       "75715  Tdehs  0.112079  0.430296   3.218993   60.964018\n",
       "89582  bsk9y  0.398908 -0.400253  10.122376  163.433078\n",
       "90815  fiKDv  0.049883  0.841313   6.394613  137.346586\n",
       "92341  TtcGQ  0.110711  1.022689   0.911381  101.318008\n",
       "97785  bsk9y  0.378429  0.005837   0.160827  160.637302"
      ]
     },
     "metadata": {},
     "output_type": "display_data"
    }
   ],
   "source": [
    "def find_duplicates(data):\n",
    "    duplicates = data['id'].value_counts()[data['id'].value_counts() >= 2]\n",
    "    dup_borehole = data.loc[data['id'].isin(duplicates.index)]\n",
    "    percent = (dup_borehole['product'].sum() / data['product'].sum() * 100).round(2)\n",
    "    return(dup_borehole, percent)\n",
    "dubles_1, perc_1 = find_duplicates(reg_1)\n",
    "print('Доля дублирующих данных о скважинах в общем объеме запасов по Региону 1:', perc_1, '%')\n",
    "display(dubles_1)"
   ]
  },
  {
   "cell_type": "code",
   "execution_count": 6,
   "metadata": {},
   "outputs": [
    {
     "name": "stdout",
     "output_type": "stream",
     "text": [
      "оля дублирующих данных о скважинах в общем объеме запасов по Региону 2: 0.01 %\n"
     ]
    },
    {
     "data": {
      "text/html": [
       "<div>\n",
       "<style scoped>\n",
       "    .dataframe tbody tr th:only-of-type {\n",
       "        vertical-align: middle;\n",
       "    }\n",
       "\n",
       "    .dataframe tbody tr th {\n",
       "        vertical-align: top;\n",
       "    }\n",
       "\n",
       "    .dataframe thead th {\n",
       "        text-align: right;\n",
       "    }\n",
       "</style>\n",
       "<table border=\"1\" class=\"dataframe\">\n",
       "  <thead>\n",
       "    <tr style=\"text-align: right;\">\n",
       "      <th></th>\n",
       "      <th>id</th>\n",
       "      <th>f0</th>\n",
       "      <th>f1</th>\n",
       "      <th>f2</th>\n",
       "      <th>product</th>\n",
       "    </tr>\n",
       "  </thead>\n",
       "  <tbody>\n",
       "    <tr>\n",
       "      <td>1305</td>\n",
       "      <td>LHZR0</td>\n",
       "      <td>11.170835</td>\n",
       "      <td>-1.945066</td>\n",
       "      <td>3.002872</td>\n",
       "      <td>80.859783</td>\n",
       "    </tr>\n",
       "    <tr>\n",
       "      <td>2721</td>\n",
       "      <td>bfPNe</td>\n",
       "      <td>-9.494442</td>\n",
       "      <td>-5.463692</td>\n",
       "      <td>4.006042</td>\n",
       "      <td>110.992147</td>\n",
       "    </tr>\n",
       "    <tr>\n",
       "      <td>5849</td>\n",
       "      <td>5ltQ6</td>\n",
       "      <td>-3.435401</td>\n",
       "      <td>-12.296043</td>\n",
       "      <td>1.999796</td>\n",
       "      <td>57.085625</td>\n",
       "    </tr>\n",
       "    <tr>\n",
       "      <td>41906</td>\n",
       "      <td>LHZR0</td>\n",
       "      <td>-8.989672</td>\n",
       "      <td>-4.286607</td>\n",
       "      <td>2.009139</td>\n",
       "      <td>57.085625</td>\n",
       "    </tr>\n",
       "    <tr>\n",
       "      <td>47591</td>\n",
       "      <td>wt4Uk</td>\n",
       "      <td>-9.091098</td>\n",
       "      <td>-8.109279</td>\n",
       "      <td>-0.002314</td>\n",
       "      <td>3.179103</td>\n",
       "    </tr>\n",
       "    <tr>\n",
       "      <td>82178</td>\n",
       "      <td>bfPNe</td>\n",
       "      <td>-6.202799</td>\n",
       "      <td>-4.820045</td>\n",
       "      <td>2.995107</td>\n",
       "      <td>84.038886</td>\n",
       "    </tr>\n",
       "    <tr>\n",
       "      <td>82873</td>\n",
       "      <td>wt4Uk</td>\n",
       "      <td>10.259972</td>\n",
       "      <td>-9.376355</td>\n",
       "      <td>4.994297</td>\n",
       "      <td>134.766305</td>\n",
       "    </tr>\n",
       "    <tr>\n",
       "      <td>84461</td>\n",
       "      <td>5ltQ6</td>\n",
       "      <td>18.213839</td>\n",
       "      <td>2.191999</td>\n",
       "      <td>3.993869</td>\n",
       "      <td>107.813044</td>\n",
       "    </tr>\n",
       "  </tbody>\n",
       "</table>\n",
       "</div>"
      ],
      "text/plain": [
       "          id         f0         f1        f2     product\n",
       "1305   LHZR0  11.170835  -1.945066  3.002872   80.859783\n",
       "2721   bfPNe  -9.494442  -5.463692  4.006042  110.992147\n",
       "5849   5ltQ6  -3.435401 -12.296043  1.999796   57.085625\n",
       "41906  LHZR0  -8.989672  -4.286607  2.009139   57.085625\n",
       "47591  wt4Uk  -9.091098  -8.109279 -0.002314    3.179103\n",
       "82178  bfPNe  -6.202799  -4.820045  2.995107   84.038886\n",
       "82873  wt4Uk  10.259972  -9.376355  4.994297  134.766305\n",
       "84461  5ltQ6  18.213839   2.191999  3.993869  107.813044"
      ]
     },
     "metadata": {},
     "output_type": "display_data"
    }
   ],
   "source": [
    "dubles_2, perc_2 = find_duplicates(reg_2)\n",
    "print('Доля дублирующих данных о скважинах в общем объеме запасов по Региону 2:', perc_2, '%')\n",
    "display(dubles_2)"
   ]
  },
  {
   "cell_type": "code",
   "execution_count": 7,
   "metadata": {
    "scrolled": true
   },
   "outputs": [
    {
     "name": "stdout",
     "output_type": "stream",
     "text": [
      "оля дублирующих данных о скважинах в общем объеме запасов по Региону 3: 0.01 %\n"
     ]
    },
    {
     "data": {
      "text/html": [
       "<div>\n",
       "<style scoped>\n",
       "    .dataframe tbody tr th:only-of-type {\n",
       "        vertical-align: middle;\n",
       "    }\n",
       "\n",
       "    .dataframe tbody tr th {\n",
       "        vertical-align: top;\n",
       "    }\n",
       "\n",
       "    .dataframe thead th {\n",
       "        text-align: right;\n",
       "    }\n",
       "</style>\n",
       "<table border=\"1\" class=\"dataframe\">\n",
       "  <thead>\n",
       "    <tr style=\"text-align: right;\">\n",
       "      <th></th>\n",
       "      <th>id</th>\n",
       "      <th>f0</th>\n",
       "      <th>f1</th>\n",
       "      <th>f2</th>\n",
       "      <th>product</th>\n",
       "    </tr>\n",
       "  </thead>\n",
       "  <tbody>\n",
       "    <tr>\n",
       "      <td>11449</td>\n",
       "      <td>VF7Jo</td>\n",
       "      <td>2.122656</td>\n",
       "      <td>-0.858275</td>\n",
       "      <td>5.746001</td>\n",
       "      <td>181.716817</td>\n",
       "    </tr>\n",
       "    <tr>\n",
       "      <td>28039</td>\n",
       "      <td>xCHr8</td>\n",
       "      <td>1.633027</td>\n",
       "      <td>0.368135</td>\n",
       "      <td>-2.378367</td>\n",
       "      <td>6.120525</td>\n",
       "    </tr>\n",
       "    <tr>\n",
       "      <td>43233</td>\n",
       "      <td>xCHr8</td>\n",
       "      <td>-0.847066</td>\n",
       "      <td>2.101796</td>\n",
       "      <td>5.597130</td>\n",
       "      <td>184.388641</td>\n",
       "    </tr>\n",
       "    <tr>\n",
       "      <td>44378</td>\n",
       "      <td>Vcm5J</td>\n",
       "      <td>-1.229484</td>\n",
       "      <td>-2.439204</td>\n",
       "      <td>1.222909</td>\n",
       "      <td>137.968290</td>\n",
       "    </tr>\n",
       "    <tr>\n",
       "      <td>45404</td>\n",
       "      <td>KUPhW</td>\n",
       "      <td>0.231846</td>\n",
       "      <td>-1.698941</td>\n",
       "      <td>4.990775</td>\n",
       "      <td>11.716299</td>\n",
       "    </tr>\n",
       "    <tr>\n",
       "      <td>49564</td>\n",
       "      <td>VF7Jo</td>\n",
       "      <td>-0.883115</td>\n",
       "      <td>0.560537</td>\n",
       "      <td>0.723601</td>\n",
       "      <td>136.233420</td>\n",
       "    </tr>\n",
       "    <tr>\n",
       "      <td>55967</td>\n",
       "      <td>KUPhW</td>\n",
       "      <td>1.211150</td>\n",
       "      <td>3.176408</td>\n",
       "      <td>5.543540</td>\n",
       "      <td>132.831802</td>\n",
       "    </tr>\n",
       "    <tr>\n",
       "      <td>95090</td>\n",
       "      <td>Vcm5J</td>\n",
       "      <td>2.587702</td>\n",
       "      <td>1.986875</td>\n",
       "      <td>2.482245</td>\n",
       "      <td>92.327572</td>\n",
       "    </tr>\n",
       "  </tbody>\n",
       "</table>\n",
       "</div>"
      ],
      "text/plain": [
       "          id        f0        f1        f2     product\n",
       "11449  VF7Jo  2.122656 -0.858275  5.746001  181.716817\n",
       "28039  xCHr8  1.633027  0.368135 -2.378367    6.120525\n",
       "43233  xCHr8 -0.847066  2.101796  5.597130  184.388641\n",
       "44378  Vcm5J -1.229484 -2.439204  1.222909  137.968290\n",
       "45404  KUPhW  0.231846 -1.698941  4.990775   11.716299\n",
       "49564  VF7Jo -0.883115  0.560537  0.723601  136.233420\n",
       "55967  KUPhW  1.211150  3.176408  5.543540  132.831802\n",
       "95090  Vcm5J  2.587702  1.986875  2.482245   92.327572"
      ]
     },
     "metadata": {},
     "output_type": "display_data"
    }
   ],
   "source": [
    "dubles_3, perc_3 = find_duplicates(reg_3)\n",
    "print('Доля дублирующих данных о скважинах в общем объеме запасов по Региону 3:', perc_3, '%')\n",
    "display(dubles_3)"
   ]
  },
  {
   "cell_type": "markdown",
   "metadata": {},
   "source": [
    "В каждом регионе нашлись скважины, записей для которых больше 1. Поскольку у нас нет возможности обратиться к экспертам для пояснения, а объем добычи на таких скважинах относительно всей добычи в регионе невелик и не превышает 0,02%, удалим эти записи. \n",
    "\n",
    "Также удалим и столбец с id скважины, поскольку в нём остаются только уникальные значения, которые для построения модели не понадобятся.\n",
    "\n",
    "И, наконец, для удобства, округлим значения в столбцах до 2-х знаков после разделителя."
   ]
  },
  {
   "cell_type": "code",
   "execution_count": 8,
   "metadata": {},
   "outputs": [
    {
     "data": {
      "text/html": [
       "<div>\n",
       "<style scoped>\n",
       "    .dataframe tbody tr th:only-of-type {\n",
       "        vertical-align: middle;\n",
       "    }\n",
       "\n",
       "    .dataframe tbody tr th {\n",
       "        vertical-align: top;\n",
       "    }\n",
       "\n",
       "    .dataframe thead th {\n",
       "        text-align: right;\n",
       "    }\n",
       "</style>\n",
       "<table border=\"1\" class=\"dataframe\">\n",
       "  <thead>\n",
       "    <tr style=\"text-align: right;\">\n",
       "      <th></th>\n",
       "      <th>f0</th>\n",
       "      <th>f1</th>\n",
       "      <th>f2</th>\n",
       "      <th>product</th>\n",
       "    </tr>\n",
       "  </thead>\n",
       "  <tbody>\n",
       "    <tr>\n",
       "      <td>0</td>\n",
       "      <td>0.71</td>\n",
       "      <td>-0.50</td>\n",
       "      <td>1.22</td>\n",
       "      <td>105.28</td>\n",
       "    </tr>\n",
       "    <tr>\n",
       "      <td>1</td>\n",
       "      <td>1.33</td>\n",
       "      <td>-0.34</td>\n",
       "      <td>4.37</td>\n",
       "      <td>73.04</td>\n",
       "    </tr>\n",
       "    <tr>\n",
       "      <td>2</td>\n",
       "      <td>1.02</td>\n",
       "      <td>0.15</td>\n",
       "      <td>1.42</td>\n",
       "      <td>85.27</td>\n",
       "    </tr>\n",
       "    <tr>\n",
       "      <td>3</td>\n",
       "      <td>-0.03</td>\n",
       "      <td>0.14</td>\n",
       "      <td>2.98</td>\n",
       "      <td>168.62</td>\n",
       "    </tr>\n",
       "    <tr>\n",
       "      <td>4</td>\n",
       "      <td>1.99</td>\n",
       "      <td>0.16</td>\n",
       "      <td>4.75</td>\n",
       "      <td>154.04</td>\n",
       "    </tr>\n",
       "    <tr>\n",
       "      <td>...</td>\n",
       "      <td>...</td>\n",
       "      <td>...</td>\n",
       "      <td>...</td>\n",
       "      <td>...</td>\n",
       "    </tr>\n",
       "    <tr>\n",
       "      <td>99975</td>\n",
       "      <td>0.97</td>\n",
       "      <td>0.37</td>\n",
       "      <td>6.08</td>\n",
       "      <td>110.74</td>\n",
       "    </tr>\n",
       "    <tr>\n",
       "      <td>99976</td>\n",
       "      <td>1.39</td>\n",
       "      <td>-0.38</td>\n",
       "      <td>1.27</td>\n",
       "      <td>122.35</td>\n",
       "    </tr>\n",
       "    <tr>\n",
       "      <td>99977</td>\n",
       "      <td>1.03</td>\n",
       "      <td>0.02</td>\n",
       "      <td>-1.35</td>\n",
       "      <td>64.38</td>\n",
       "    </tr>\n",
       "    <tr>\n",
       "      <td>99978</td>\n",
       "      <td>1.00</td>\n",
       "      <td>-0.53</td>\n",
       "      <td>1.58</td>\n",
       "      <td>74.04</td>\n",
       "    </tr>\n",
       "    <tr>\n",
       "      <td>99979</td>\n",
       "      <td>1.76</td>\n",
       "      <td>-0.27</td>\n",
       "      <td>5.72</td>\n",
       "      <td>149.63</td>\n",
       "    </tr>\n",
       "  </tbody>\n",
       "</table>\n",
       "<p>99980 rows × 4 columns</p>\n",
       "</div>"
      ],
      "text/plain": [
       "         f0    f1    f2  product\n",
       "0      0.71 -0.50  1.22   105.28\n",
       "1      1.33 -0.34  4.37    73.04\n",
       "2      1.02  0.15  1.42    85.27\n",
       "3     -0.03  0.14  2.98   168.62\n",
       "4      1.99  0.16  4.75   154.04\n",
       "...     ...   ...   ...      ...\n",
       "99975  0.97  0.37  6.08   110.74\n",
       "99976  1.39 -0.38  1.27   122.35\n",
       "99977  1.03  0.02 -1.35    64.38\n",
       "99978  1.00 -0.53  1.58    74.04\n",
       "99979  1.76 -0.27  5.72   149.63\n",
       "\n",
       "[99980 rows x 4 columns]"
      ]
     },
     "execution_count": 8,
     "metadata": {},
     "output_type": "execute_result"
    }
   ],
   "source": [
    "# удаляем дубликаты и столбец с id:\n",
    "reg_1 = reg_1.drop(dubles_1.index).reset_index(drop=True).drop('id', axis = 1).round(2)\n",
    "reg_1"
   ]
  },
  {
   "cell_type": "code",
   "execution_count": 9,
   "metadata": {},
   "outputs": [
    {
     "data": {
      "text/html": [
       "<div>\n",
       "<style scoped>\n",
       "    .dataframe tbody tr th:only-of-type {\n",
       "        vertical-align: middle;\n",
       "    }\n",
       "\n",
       "    .dataframe tbody tr th {\n",
       "        vertical-align: top;\n",
       "    }\n",
       "\n",
       "    .dataframe thead th {\n",
       "        text-align: right;\n",
       "    }\n",
       "</style>\n",
       "<table border=\"1\" class=\"dataframe\">\n",
       "  <thead>\n",
       "    <tr style=\"text-align: right;\">\n",
       "      <th></th>\n",
       "      <th>f0</th>\n",
       "      <th>f1</th>\n",
       "      <th>f2</th>\n",
       "      <th>product</th>\n",
       "    </tr>\n",
       "  </thead>\n",
       "  <tbody>\n",
       "    <tr>\n",
       "      <td>0</td>\n",
       "      <td>-15.00</td>\n",
       "      <td>-8.28</td>\n",
       "      <td>-0.01</td>\n",
       "      <td>3.18</td>\n",
       "    </tr>\n",
       "    <tr>\n",
       "      <td>1</td>\n",
       "      <td>14.27</td>\n",
       "      <td>-3.48</td>\n",
       "      <td>1.00</td>\n",
       "      <td>26.95</td>\n",
       "    </tr>\n",
       "    <tr>\n",
       "      <td>2</td>\n",
       "      <td>6.26</td>\n",
       "      <td>-5.95</td>\n",
       "      <td>5.00</td>\n",
       "      <td>134.77</td>\n",
       "    </tr>\n",
       "    <tr>\n",
       "      <td>3</td>\n",
       "      <td>-13.08</td>\n",
       "      <td>-11.51</td>\n",
       "      <td>5.00</td>\n",
       "      <td>137.95</td>\n",
       "    </tr>\n",
       "    <tr>\n",
       "      <td>4</td>\n",
       "      <td>12.70</td>\n",
       "      <td>-8.15</td>\n",
       "      <td>5.00</td>\n",
       "      <td>134.77</td>\n",
       "    </tr>\n",
       "    <tr>\n",
       "      <td>...</td>\n",
       "      <td>...</td>\n",
       "      <td>...</td>\n",
       "      <td>...</td>\n",
       "      <td>...</td>\n",
       "    </tr>\n",
       "    <tr>\n",
       "      <td>99987</td>\n",
       "      <td>9.54</td>\n",
       "      <td>-6.88</td>\n",
       "      <td>2.00</td>\n",
       "      <td>53.91</td>\n",
       "    </tr>\n",
       "    <tr>\n",
       "      <td>99988</td>\n",
       "      <td>-10.16</td>\n",
       "      <td>-12.56</td>\n",
       "      <td>5.01</td>\n",
       "      <td>137.95</td>\n",
       "    </tr>\n",
       "    <tr>\n",
       "      <td>99989</td>\n",
       "      <td>-7.38</td>\n",
       "      <td>-3.08</td>\n",
       "      <td>5.00</td>\n",
       "      <td>137.95</td>\n",
       "    </tr>\n",
       "    <tr>\n",
       "      <td>99990</td>\n",
       "      <td>0.67</td>\n",
       "      <td>-6.15</td>\n",
       "      <td>1.00</td>\n",
       "      <td>30.13</td>\n",
       "    </tr>\n",
       "    <tr>\n",
       "      <td>99991</td>\n",
       "      <td>-3.43</td>\n",
       "      <td>-7.79</td>\n",
       "      <td>-0.00</td>\n",
       "      <td>3.18</td>\n",
       "    </tr>\n",
       "  </tbody>\n",
       "</table>\n",
       "<p>99992 rows × 4 columns</p>\n",
       "</div>"
      ],
      "text/plain": [
       "          f0     f1    f2  product\n",
       "0     -15.00  -8.28 -0.01     3.18\n",
       "1      14.27  -3.48  1.00    26.95\n",
       "2       6.26  -5.95  5.00   134.77\n",
       "3     -13.08 -11.51  5.00   137.95\n",
       "4      12.70  -8.15  5.00   134.77\n",
       "...      ...    ...   ...      ...\n",
       "99987   9.54  -6.88  2.00    53.91\n",
       "99988 -10.16 -12.56  5.01   137.95\n",
       "99989  -7.38  -3.08  5.00   137.95\n",
       "99990   0.67  -6.15  1.00    30.13\n",
       "99991  -3.43  -7.79 -0.00     3.18\n",
       "\n",
       "[99992 rows x 4 columns]"
      ]
     },
     "execution_count": 9,
     "metadata": {},
     "output_type": "execute_result"
    }
   ],
   "source": [
    "reg_2 = reg_2.drop(dubles_2.index).reset_index(drop=True).drop('id', axis = 1).round(2)\n",
    "reg_2"
   ]
  },
  {
   "cell_type": "code",
   "execution_count": 10,
   "metadata": {},
   "outputs": [
    {
     "data": {
      "text/html": [
       "<div>\n",
       "<style scoped>\n",
       "    .dataframe tbody tr th:only-of-type {\n",
       "        vertical-align: middle;\n",
       "    }\n",
       "\n",
       "    .dataframe tbody tr th {\n",
       "        vertical-align: top;\n",
       "    }\n",
       "\n",
       "    .dataframe thead th {\n",
       "        text-align: right;\n",
       "    }\n",
       "</style>\n",
       "<table border=\"1\" class=\"dataframe\">\n",
       "  <thead>\n",
       "    <tr style=\"text-align: right;\">\n",
       "      <th></th>\n",
       "      <th>f0</th>\n",
       "      <th>f1</th>\n",
       "      <th>f2</th>\n",
       "      <th>product</th>\n",
       "    </tr>\n",
       "  </thead>\n",
       "  <tbody>\n",
       "    <tr>\n",
       "      <td>0</td>\n",
       "      <td>-1.15</td>\n",
       "      <td>0.96</td>\n",
       "      <td>-0.83</td>\n",
       "      <td>27.76</td>\n",
       "    </tr>\n",
       "    <tr>\n",
       "      <td>1</td>\n",
       "      <td>0.26</td>\n",
       "      <td>0.27</td>\n",
       "      <td>-2.53</td>\n",
       "      <td>56.07</td>\n",
       "    </tr>\n",
       "    <tr>\n",
       "      <td>2</td>\n",
       "      <td>0.19</td>\n",
       "      <td>0.29</td>\n",
       "      <td>-5.59</td>\n",
       "      <td>62.87</td>\n",
       "    </tr>\n",
       "    <tr>\n",
       "      <td>3</td>\n",
       "      <td>2.24</td>\n",
       "      <td>-0.55</td>\n",
       "      <td>0.93</td>\n",
       "      <td>114.57</td>\n",
       "    </tr>\n",
       "    <tr>\n",
       "      <td>4</td>\n",
       "      <td>-0.52</td>\n",
       "      <td>1.72</td>\n",
       "      <td>5.90</td>\n",
       "      <td>149.60</td>\n",
       "    </tr>\n",
       "    <tr>\n",
       "      <td>...</td>\n",
       "      <td>...</td>\n",
       "      <td>...</td>\n",
       "      <td>...</td>\n",
       "      <td>...</td>\n",
       "    </tr>\n",
       "    <tr>\n",
       "      <td>99987</td>\n",
       "      <td>-1.78</td>\n",
       "      <td>1.13</td>\n",
       "      <td>6.26</td>\n",
       "      <td>172.33</td>\n",
       "    </tr>\n",
       "    <tr>\n",
       "      <td>99988</td>\n",
       "      <td>-1.26</td>\n",
       "      <td>-0.89</td>\n",
       "      <td>2.52</td>\n",
       "      <td>138.75</td>\n",
       "    </tr>\n",
       "    <tr>\n",
       "      <td>99989</td>\n",
       "      <td>-1.20</td>\n",
       "      <td>-2.96</td>\n",
       "      <td>5.22</td>\n",
       "      <td>157.08</td>\n",
       "    </tr>\n",
       "    <tr>\n",
       "      <td>99990</td>\n",
       "      <td>-2.42</td>\n",
       "      <td>2.42</td>\n",
       "      <td>-5.55</td>\n",
       "      <td>51.80</td>\n",
       "    </tr>\n",
       "    <tr>\n",
       "      <td>99991</td>\n",
       "      <td>-2.55</td>\n",
       "      <td>-2.03</td>\n",
       "      <td>6.09</td>\n",
       "      <td>102.78</td>\n",
       "    </tr>\n",
       "  </tbody>\n",
       "</table>\n",
       "<p>99992 rows × 4 columns</p>\n",
       "</div>"
      ],
      "text/plain": [
       "         f0    f1    f2  product\n",
       "0     -1.15  0.96 -0.83    27.76\n",
       "1      0.26  0.27 -2.53    56.07\n",
       "2      0.19  0.29 -5.59    62.87\n",
       "3      2.24 -0.55  0.93   114.57\n",
       "4     -0.52  1.72  5.90   149.60\n",
       "...     ...   ...   ...      ...\n",
       "99987 -1.78  1.13  6.26   172.33\n",
       "99988 -1.26 -0.89  2.52   138.75\n",
       "99989 -1.20 -2.96  5.22   157.08\n",
       "99990 -2.42  2.42 -5.55    51.80\n",
       "99991 -2.55 -2.03  6.09   102.78\n",
       "\n",
       "[99992 rows x 4 columns]"
      ]
     },
     "execution_count": 10,
     "metadata": {},
     "output_type": "execute_result"
    }
   ],
   "source": [
    "reg_3 = reg_3.drop(dubles_3.index).reset_index(drop=True).drop('id', axis = 1).round(2)\n",
    "reg_3"
   ]
  },
  {
   "cell_type": "markdown",
   "metadata": {},
   "source": [
    "Проверим также целевой столбец `products` на аномальные значения:"
   ]
  },
  {
   "cell_type": "code",
   "execution_count": 11,
   "metadata": {},
   "outputs": [
    {
     "data": {
      "text/plain": [
       "count    99980.000000\n",
       "mean        92.499177\n",
       "std         44.289058\n",
       "min          0.000000\n",
       "25%         56.500000\n",
       "50%         91.850000\n",
       "75%        128.560000\n",
       "max        185.360000\n",
       "Name: product, dtype: float64"
      ]
     },
     "metadata": {},
     "output_type": "display_data"
    },
    {
     "data": {
      "image/png": "[encoded data removed]",
      "text/plain": [
       "<Figure size 432x288 with 1 Axes>"
      ]
     },
     "metadata": {
      "needs_background": "light"
     },
     "output_type": "display_data"
    }
   ],
   "source": [
    "def prod_issue(data, reg_number):\n",
    "    display(data['product'].describe())\n",
    "    data['product'].hist(grid=False, bins = 50)\n",
    "    plt.title('Распределение объёмов запасов в скважинах в Регионе {} (тыс. баррелей)'.format(reg_number))\n",
    "    plt.show()\n",
    "prod_issue(reg_1, 1)"
   ]
  },
  {
   "cell_type": "code",
   "execution_count": 12,
   "metadata": {
    "scrolled": true
   },
   "outputs": [
    {
     "data": {
      "text/plain": [
       "count    99992.000000\n",
       "mean        68.824781\n",
       "std         45.945679\n",
       "min          0.000000\n",
       "25%         26.950000\n",
       "50%         57.090000\n",
       "75%        107.810000\n",
       "max        137.950000\n",
       "Name: product, dtype: float64"
      ]
     },
     "metadata": {},
     "output_type": "display_data"
    },
    {
     "data": {
      "image/png": "[encoded data removed]",
      "text/plain": [
       "<Figure size 432x288 with 1 Axes>"
      ]
     },
     "metadata": {
      "needs_background": "light"
     },
     "output_type": "display_data"
    }
   ],
   "source": [
    "prod_issue(reg_2, 2)"
   ]
  },
  {
   "cell_type": "code",
   "execution_count": 13,
   "metadata": {
    "scrolled": true
   },
   "outputs": [
    {
     "data": {
      "text/plain": [
       "count    99992.000000\n",
       "mean        94.998778\n",
       "std         44.747754\n",
       "min          0.000000\n",
       "25%         59.450000\n",
       "50%         94.925000\n",
       "75%        130.590000\n",
       "max        190.030000\n",
       "Name: product, dtype: float64"
      ]
     },
     "metadata": {},
     "output_type": "display_data"
    },
    {
     "data": {
      "image/png": "[encoded data removed]",
      "text/plain": [
       "<Figure size 432x288 with 1 Axes>"
      ]
     },
     "metadata": {
      "needs_background": "light"
     },
     "output_type": "display_data"
    }
   ],
   "source": [
    "prod_issue(reg_3, 3)"
   ]
  },
  {
   "cell_type": "markdown",
   "metadata": {},
   "source": [
    "### Вывод\n",
    "В рамках предобработки выполнено следующее:\n",
    "- удалена информация о скважинах, для которых было сделано более 1 записи;\n",
    "- удалён из рассмотрения столбец с id скважины;\n",
    "- числовые значения округлены до 2 знаков после разделителя.\n",
    "\n",
    "Данные об объёмах запасов адекватны, отрицательных значений нет, распределения объемов в первом и третьем регионе схожи, по форме напоминают нормальное, однако мультимодальны. Во втором регионе распределение сильно отличается и близко к дискретному равномерному с несколькими значениями объемов."
   ]
  },
  {
   "cell_type": "markdown",
   "metadata": {},
   "source": [
    "## Обучение и проверка модели"
   ]
  },
  {
   "cell_type": "markdown",
   "metadata": {},
   "source": [
    "Для каждого региона разделим выборки на обучающую и валидационную в пропорциях 75/25, построим модель линейной регрессии и рассчитаем RMSE. Для оценки адекватности наших моделей добавим также расчёт RMSE константной модели, которая использует средние значения целевого показателя."
   ]
  },
  {
   "cell_type": "code",
   "execution_count": 14,
   "metadata": {},
   "outputs": [
    {
     "name": "stdout",
     "output_type": "stream",
     "text": [
      "Для региона 1\n",
      "\n",
      "Предсказанный средний объём запасов: 92.5 тыс. баррелей\n",
      "RMSE модели: 37.5\n",
      "Dummy-RMSE: 44.3\n"
     ]
    }
   ],
   "source": [
    "# функция для построения модели:\n",
    "def regression_model(data):\n",
    "    # деление на выборки:\n",
    "    target = data['product']\n",
    "    features = data.loc[:, 'f0':'f2']\n",
    "    features_train, features_valid, target_train, target_valid = train_test_split(\n",
    "        features, target, test_size = 0.25, random_state = 0)\n",
    "    \n",
    "    # обучение и оценка качества модели:\n",
    "    model = LinearRegression()\n",
    "    model.fit(features_train, target_train)\n",
    "    predictions_valid = model.predict(features_valid)\n",
    "    RMSE = mean_squared_error(target_valid, predictions_valid)**0.5\n",
    "    \n",
    "    # предсказания модели по всем данным:\n",
    "    predictions = model.predict(features)\n",
    "    predictions_mean = predictions.mean().round(1)\n",
    "    \n",
    "    # константная модель:\n",
    "    dummy_regr = DummyRegressor(strategy=\"mean\")\n",
    "    dummy_regr.fit(features_train, target_train)\n",
    "    dummy_predictions = dummy_regr.predict(features_valid)\n",
    "    dummy_RMSE = mean_squared_error(target_valid, dummy_predictions)**0.5\n",
    "    return(predictions_mean, RMSE, dummy_RMSE, predictions, target)\n",
    "\n",
    "pred_mean_1, RMSE_1, dummy_RMSE_1, predictions_1, target_1 = regression_model(reg_1)\n",
    "print('Для региона 1', '\\n'*2, 'Предсказанный средний объём запасов: {} тыс. баррелей'.format(pred_mean_1),\n",
    "      '\\n', 'RMSE модели: {}'.format(RMSE_1.round(1)), '\\n', 'Dummy-RMSE: {}'.format(dummy_RMSE_1.round(1)), sep = '')"
   ]
  },
  {
   "cell_type": "markdown",
   "metadata": {},
   "source": [
    "Покажем распределения фактических запасов и предсказания модели наглядно:"
   ]
  },
  {
   "cell_type": "code",
   "execution_count": 15,
   "metadata": {},
   "outputs": [
    {
     "data": {
      "image/png": "[encoded data removed]",
      "text/plain": [
       "<Figure size 576x360 with 1 Axes>"
      ]
     },
     "metadata": {
      "needs_background": "light"
     },
     "output_type": "display_data"
    }
   ],
   "source": [
    "def plots(predictions, target, num):\n",
    "    plt.figure(figsize=(8, 5))\n",
    "    plt.hist(predictions, alpha = 0.7, bins = 50, label='Предсказания')\n",
    "    plt.hist(target, alpha = 0.7, bins = 50, label='Фактические запасы')\n",
    "    plt.title('Предсказания и фактические запасы в скважинах Региона {}'.format(num))\n",
    "    plt.legend(loc = 'upper left')\n",
    "    plt.show()\n",
    "plots(predictions_1, target_1, 1)"
   ]
  },
  {
   "cell_type": "code",
   "execution_count": 16,
   "metadata": {},
   "outputs": [
    {
     "name": "stdout",
     "output_type": "stream",
     "text": [
      "Для региона 2\n",
      "\n",
      "Предсказанный средний объём запасов: 68.8 тыс. баррелей\n",
      "RMSE модели: 0.9\n",
      "Dummy-RMSE: 46.0\n"
     ]
    },
    {
     "data": {
      "image/png": "[encoded data removed]",
      "text/plain": [
       "<Figure size 576x360 with 1 Axes>"
      ]
     },
     "metadata": {
      "needs_background": "light"
     },
     "output_type": "display_data"
    }
   ],
   "source": [
    "pred_mean_2, RMSE_2, dummy_RMSE_2, predictions_2, target_2 = regression_model(reg_2)\n",
    "print('Для региона 2', '\\n'*2, 'Предсказанный средний объём запасов: {} тыс. баррелей'.format(pred_mean_2),\n",
    "      '\\n', 'RMSE модели: {}'.format(RMSE_2.round(1)), '\\n', 'Dummy-RMSE: {}'.format(dummy_RMSE_2.round(1)), sep = '')\n",
    "plots(predictions_2, target_2, 2)"
   ]
  },
  {
   "cell_type": "code",
   "execution_count": 17,
   "metadata": {},
   "outputs": [
    {
     "name": "stdout",
     "output_type": "stream",
     "text": [
      "Для региона 3\n",
      "\n",
      "Предсказанный средний объём запасов: 95.0 тыс. баррелей\n",
      "RMSE модели: 40.0\n",
      "Dummy-RMSE: 44.6\n"
     ]
    },
    {
     "data": {
      "image/png": "[encoded data removed]",
      "text/plain": [
       "<Figure size 576x360 with 1 Axes>"
      ]
     },
     "metadata": {
      "needs_background": "light"
     },
     "output_type": "display_data"
    }
   ],
   "source": [
    "pred_mean_3, RMSE_3, dummy_RMSE_3, predictions_3, target_3 = regression_model(reg_3)\n",
    "print('Для региона 3', '\\n'*2, 'Предсказанный средний объём запасов: {} тыс. баррелей'.format(pred_mean_3),\n",
    "      '\\n', 'RMSE модели: {}'.format(RMSE_3.round(1)), '\\n', 'Dummy-RMSE: {}'.format(dummy_RMSE_3.round(1)), sep = '')\n",
    "plots(predictions_3, target_3, 3)"
   ]
  },
  {
   "cell_type": "markdown",
   "metadata": {},
   "source": [
    "Объединим результаты в таблицу:"
   ]
  },
  {
   "cell_type": "code",
   "execution_count": 18,
   "metadata": {},
   "outputs": [
    {
     "data": {
      "text/html": [
       "<div>\n",
       "<style scoped>\n",
       "    .dataframe tbody tr th:only-of-type {\n",
       "        vertical-align: middle;\n",
       "    }\n",
       "\n",
       "    .dataframe tbody tr th {\n",
       "        vertical-align: top;\n",
       "    }\n",
       "\n",
       "    .dataframe thead th {\n",
       "        text-align: right;\n",
       "    }\n",
       "</style>\n",
       "<table border=\"1\" class=\"dataframe\">\n",
       "  <thead>\n",
       "    <tr style=\"text-align: right;\">\n",
       "      <th></th>\n",
       "      <th>Регион 1</th>\n",
       "      <th>Регион 2</th>\n",
       "      <th>Регион 3</th>\n",
       "    </tr>\n",
       "  </thead>\n",
       "  <tbody>\n",
       "    <tr>\n",
       "      <td>Средние запасы</td>\n",
       "      <td>92.5</td>\n",
       "      <td>68.80</td>\n",
       "      <td>95.00</td>\n",
       "    </tr>\n",
       "    <tr>\n",
       "      <td>RMSE</td>\n",
       "      <td>37.5</td>\n",
       "      <td>0.89</td>\n",
       "      <td>40.04</td>\n",
       "    </tr>\n",
       "  </tbody>\n",
       "</table>\n",
       "</div>"
      ],
      "text/plain": [
       "                Регион 1  Регион 2  Регион 3\n",
       "Средние запасы      92.5     68.80     95.00\n",
       "RMSE                37.5      0.89     40.04"
      ]
     },
     "execution_count": 18,
     "metadata": {},
     "output_type": "execute_result"
    }
   ],
   "source": [
    "result_table = pd.DataFrame([[pred_mean_1, pred_mean_2, pred_mean_3], [RMSE_1, RMSE_2, RMSE_3]], \n",
    "                            columns=['Регион 1', 'Регион 2', 'Регион 3'],\n",
    "index = ['Средние запасы', 'RMSE'])\n",
    "result_table.round(2)"
   ]
  },
  {
   "cell_type": "markdown",
   "metadata": {},
   "source": [
    "### Вывод\n",
    "Построенные модели регрессии для всех регионов показывают ошибку RMSE меньше, чем константные модели. Самая маленькая ошибка - у модели для второго региона, вероятно, за счёт характера распределения запасов в этом регионе. Максимальная ошибка - у модели для третьего региона, она ненамного ниже, чем у константной модели, и составляет 42% от среднего значения целевой переменной, что на мой взгляд, достаточно много. \n",
    "\n",
    "Наибольший объем запасов предсказывается в Регионе 3 - 95 тыс. баррелей., минимальный - в Регионе 2 - 68,8 тыс. баррелей."
   ]
  },
  {
   "cell_type": "markdown",
   "metadata": {},
   "source": [
    "## Подготовка к расчёту прибыли"
   ]
  },
  {
   "cell_type": "markdown",
   "metadata": {},
   "source": [
    "Все ключевые значения для расчётов сохраним в отдельных переменных. Все денежные показатели будем указывать в тысячах рублей:\n",
    "- `BUDGET` - общий бюджет на разработку скважин в регионе (10 млрд. руб.)\n",
    "- `INCOME_PER_TH_BARREL` - доход с каждой тысячи баррелей (450 тыс. руб.)\n",
    "- `NUM_FOR_EXPLORE` - количество скважин, которое исследуется в каждом регионе (500)\n",
    "- `NUM_BEST_BORE` - количество лучших скважин, которое будет разработано в каждом регионе (200)\n",
    "\n",
    "Средние запасы для каждого региона уже сохранены на предыдущем шаге."
   ]
  },
  {
   "cell_type": "code",
   "execution_count": 19,
   "metadata": {},
   "outputs": [],
   "source": [
    "BUDGET = 10000000\n",
    "INCOME_PER_TH_BARREL = 450 \n",
    "NUM_FOR_EXPLORE = 500\n",
    "NUM_BEST_BORE = 200"
   ]
  },
  {
   "cell_type": "markdown",
   "metadata": {},
   "source": [
    "Рассчитаем достаточный объём сырья для безубыточной разработки новой скважины (учитываем, что в каждом регионе будет разработано по 200 скважин):"
   ]
  },
  {
   "cell_type": "code",
   "execution_count": 20,
   "metadata": {},
   "outputs": [
    {
     "name": "stdout",
     "output_type": "stream",
     "text": [
      "Минимальный средний объем запасов в скважине: 111.11 тыс. баррелей\n"
     ]
    }
   ],
   "source": [
    "min_value = (BUDGET/INCOME_PER_TH_BARREL)/200\n",
    "print('Минимальный средний объем запасов в скважине: {} тыс. баррелей'.format(round(min_value, 2)))"
   ]
  },
  {
   "cell_type": "markdown",
   "metadata": {},
   "source": [
    "Ни в одном из исследуемых регионов средний объём предсказанных запасов не удовлетворяет условию безубыточности. Но нужно учитывать, что среднее рассчитано по всем предсказанным скважинам. На следующем этапе отберём самые прибыльные скважины, и посчитаем прогнозную прибыль для них."
   ]
  },
  {
   "cell_type": "markdown",
   "metadata": {},
   "source": [
    "Напишем функцию, которая будет отбирать 200 скважин с максимальным значением предсказанных запасов, считать фактический объём запасов в них и ожидаемую прибыль от их разработки:"
   ]
  },
  {
   "cell_type": "code",
   "execution_count": 21,
   "metadata": {},
   "outputs": [
    {
     "name": "stdout",
     "output_type": "stream",
     "text": [
      "Ожидаемая прибыль от 200 лучших скважин в Регионе 1: 3.49 млрд. руб.\n"
     ]
    }
   ],
   "source": [
    "def best_bore(target, predictions):\n",
    "    predictions = pd.Series(predictions)\n",
    "    target = pd.Series(target).reset_index(drop=True)\n",
    "    pred_sort = predictions.sort_values(ascending = False)\n",
    "    selected_bore = target[pred_sort.index][:NUM_BEST_BORE]\n",
    "    total_profit = sum(selected_bore)*INCOME_PER_TH_BARREL - BUDGET\n",
    "    return(total_profit)\n",
    "print('Ожидаемая прибыль от 200 лучших скважин в Регионе 1: {} млрд. руб.'.format(\n",
    "    round(best_bore(target_1, predictions_1)/1000000, 2)))"
   ]
  },
  {
   "cell_type": "code",
   "execution_count": 22,
   "metadata": {},
   "outputs": [
    {
     "name": "stdout",
     "output_type": "stream",
     "text": [
      "Ожидаемая прибыль от 200 лучших скважин в Регионе 2: 2.42 млрд. руб.\n"
     ]
    }
   ],
   "source": [
    "print('Ожидаемая прибыль от 200 лучших скважин в Регионе 2: {} млрд. руб.'.format(\n",
    "    round(best_bore(target_2, predictions_2)/1000000, 2)))"
   ]
  },
  {
   "cell_type": "code",
   "execution_count": 23,
   "metadata": {},
   "outputs": [
    {
     "name": "stdout",
     "output_type": "stream",
     "text": [
      "Ожидаемая прибыль от 200 лучших скважин в Регионе 3: 2.58 млрд. руб.\n"
     ]
    }
   ],
   "source": [
    "print('Ожидаемая прибыль от 200 лучших скважин в Регионе 3: {} млрд. руб.'.format(\n",
    "    round(best_bore(target_3, predictions_3)/1000000, 2)))"
   ]
  },
  {
   "cell_type": "markdown",
   "metadata": {},
   "source": [
    "### Вывод\n",
    "Данные подготовлены для анализа прибыли и рисков. \n",
    "\n",
    "Во всех трёх регионах ожидаемая прибыль от разработки 200 лучших по результатам работы модели скважин положительна."
   ]
  },
  {
   "cell_type": "markdown",
   "metadata": {},
   "source": [
    "## Расчёт прибыли и рисков "
   ]
  },
  {
   "cell_type": "markdown",
   "metadata": {},
   "source": [
    "Применим технику Bootstrap с 1000 выборок, чтобы найти распределение прибыли для каждого региона:"
   ]
  },
  {
   "cell_type": "code",
   "execution_count": 24,
   "metadata": {
    "scrolled": true
   },
   "outputs": [
    {
     "name": "stdout",
     "output_type": "stream",
     "text": [
      "Для Региона 1:\n",
      "\n",
      "Ожидаемая средняя прибыль равна 0.42 млрд. руб.\n",
      "95%-ый доверительный интервал для прибыли: (-0.08, 0.9) млрд. руб.\n",
      "Вероятность убытка составляет 5.3%\n"
     ]
    }
   ],
   "source": [
    "state = np.random.RandomState(1)\n",
    "def bootstrap(target, predictions):\n",
    "    profits = []\n",
    "    for i in range(1000):\n",
    "        target_subsample = target.sample(n = NUM_FOR_EXPLORE, replace = True, random_state = state)\n",
    "        predictions_subsample = predictions[target_subsample.index]\n",
    "        \n",
    "        # расчёт прибыли:\n",
    "        profits.append(best_bore(target_subsample, predictions_subsample))\n",
    "    profits = pd.Series(profits)\n",
    "    mean_profit = profits.mean()\n",
    "    \n",
    "    # расчёт вероятности убытка:\n",
    "    p_loss = (profits < 0).mean()*100\n",
    "    \n",
    "    # расчёт доверительных интервалов:\n",
    "    q_lower = round(profits.quantile(0.025)/1000000, 2)\n",
    "    q_upper = round(profits.quantile(0.975)/1000000, 2)\n",
    "    return(profits, mean_profit, p_loss, q_lower, q_upper)\n",
    "    \n",
    "profits_1, mean_profit_1, p_loss_1, q_lower_1, q_upper_1 = bootstrap(target_1, predictions_1)\n",
    "print('Для Региона 1:', '\\n'*2, 'Ожидаемая средняя прибыль равна {} млрд. руб.'.format(round(mean_profit_1/1000000, 2)),\n",
    "     '\\n', '95%-ый доверительный интервал для прибыли: (', q_lower_1, ', ', q_upper_1, ') млрд. руб.',\n",
    "     '\\n', 'Вероятность убытка составляет {}%'.format(p_loss_1),  sep = '')"
   ]
  },
  {
   "cell_type": "code",
   "execution_count": 25,
   "metadata": {
    "scrolled": false
   },
   "outputs": [
    {
     "name": "stdout",
     "output_type": "stream",
     "text": [
      "Для Региона 2:\n",
      "\n",
      "Ожидаемая средняя прибыль равна 0.46 млрд. руб.\n",
      "95%-ый доверительный интервал для прибыли: (0.07, 0.86) млрд. руб.\n",
      "Вероятность убытка составляет 1.1%\n"
     ]
    }
   ],
   "source": [
    "profits_2, mean_profit_2, p_loss_2, q_lower_2, q_upper_2 = bootstrap(target_2, predictions_2)\n",
    "print('Для Региона 2:', '\\n'*2, 'Ожидаемая средняя прибыль равна {} млрд. руб.'.format(round(mean_profit_2/1000000, 2)),\n",
    "     '\\n', '95%-ый доверительный интервал для прибыли: (', q_lower_2, ', ', q_upper_2, ') млрд. руб.',\n",
    "     '\\n', 'Вероятность убытка составляет {}%'.format(round(p_loss_2, 2)),  sep = '')"
   ]
  },
  {
   "cell_type": "code",
   "execution_count": 26,
   "metadata": {},
   "outputs": [
    {
     "name": "stdout",
     "output_type": "stream",
     "text": [
      "Для Региона 3:\n",
      "\n",
      "Ожидаемая средняя прибыль равна 0.38 млрд. руб.\n",
      "95%-ый доверительный интервал для прибыли: (-0.15, 0.94) млрд. руб.\n",
      "Вероятность убытка составляет 8.6%\n"
     ]
    }
   ],
   "source": [
    "profits_3, mean_profit_3, p_loss_3, q_lower_3, q_upper_3 = bootstrap(target_3, predictions_3)\n",
    "print('Для Региона 3:', '\\n'*2, 'Ожидаемая средняя прибыль равна {} млрд. руб.'.format(round(mean_profit_3/1000000, 2)),\n",
    "     '\\n', '95%-ый доверительный интервал для прибыли: (', q_lower_3, ', ', q_upper_3, ') млрд. руб.',\n",
    "     '\\n', 'Вероятность убытка составляет {}%'.format(p_loss_3),  sep = '')"
   ]
  },
  {
   "cell_type": "code",
   "execution_count": 29,
   "metadata": {},
   "outputs": [
    {
     "data": {
      "text/html": [
       "<div>\n",
       "<style scoped>\n",
       "    .dataframe tbody tr th:only-of-type {\n",
       "        vertical-align: middle;\n",
       "    }\n",
       "\n",
       "    .dataframe tbody tr th {\n",
       "        vertical-align: top;\n",
       "    }\n",
       "\n",
       "    .dataframe thead th {\n",
       "        text-align: right;\n",
       "    }\n",
       "</style>\n",
       "<table border=\"1\" class=\"dataframe\">\n",
       "  <thead>\n",
       "    <tr style=\"text-align: right;\">\n",
       "      <th></th>\n",
       "      <th>Регион 1</th>\n",
       "      <th>Регион 2</th>\n",
       "      <th>Регион 3</th>\n",
       "    </tr>\n",
       "  </thead>\n",
       "  <tbody>\n",
       "    <tr>\n",
       "      <td>Прогнозная прибыль, млн. руб.</td>\n",
       "      <td>417.41</td>\n",
       "      <td>455.99</td>\n",
       "      <td>376.0</td>\n",
       "    </tr>\n",
       "    <tr>\n",
       "      <td>Вероятность убытков, %</td>\n",
       "      <td>5.30</td>\n",
       "      <td>1.10</td>\n",
       "      <td>8.6</td>\n",
       "    </tr>\n",
       "  </tbody>\n",
       "</table>\n",
       "</div>"
      ],
      "text/plain": [
       "                               Регион 1  Регион 2  Регион 3\n",
       "Прогнозная прибыль, млн. руб.    417.41    455.99     376.0\n",
       "Вероятность убытков, %             5.30      1.10       8.6"
      ]
     },
     "execution_count": 29,
     "metadata": {},
     "output_type": "execute_result"
    }
   ],
   "source": [
    "total_table = pd.DataFrame([[mean_profit_1/1000, mean_profit_2/1000, mean_profit_3/1000], [p_loss_1, p_loss_2, p_loss_3]], \n",
    "                            columns=['Регион 1', 'Регион 2', 'Регион 3'],\n",
    "index = ['Прогнозная прибыль, млн. руб.', 'Вероятность убытков, %'])\n",
    "total_table.round(2)"
   ]
  },
  {
   "cell_type": "markdown",
   "metadata": {},
   "source": [
    "# Вывод\n",
    "Перед нами была поставлена задача построения модели машинного обучения для добывающей компании, которая поможет определить регион, где добыча принесёт наибольшую прибыль при затратах на разработку в 10 млрд. руб., приемлемом риске убытков - не более 2,5%. В качестве модели для анализа использовалась линейная регрессия. Для всех регионов построенные модели оказались адекватны, лучшего качества с применением метрики RMSE удалось достичь модели для Региона 2.\n",
    "\n",
    "С помощью метода bootstrap смоделированы вероятные значения прибыли в каждом регионе, рассчитан риск получения убытка от разработки. \n",
    "\n",
    "Из трёх рассмотренных регионов только один удовлетворяет условию заказчика относительно рисков убытков, которые не должны превышать 2,5%: Регион 2. Прогнозные показатели региона:\n",
    "- средняя прибыль от разработки 200 лучших скважин в регионе составит 442 млн. руб. \n",
    "- вероятность убытков составляет 1,1% \n",
    "- с вероятностью 95% прибыль от разработки Региона 2 будет лежать в промежутке от 70 до 860 млн. руб.\n",
    "\n",
    "**Добывающей компании в качестве региона для разработки рекомендуется выбрать Регион №2**."
   ]
  }
 ],
 "metadata": {
  "ExecuteTimeLog": [
   {
    "duration": 1435,
    "start_time": "2021-09-14T07:21:09.267Z"
   },
   {
    "duration": 489,
    "start_time": "2021-09-14T07:23:58.098Z"
   },
   {
    "duration": 494,
    "start_time": "2021-09-14T07:25:40.726Z"
   },
   {
    "duration": 500,
    "start_time": "2021-09-14T07:29:02.568Z"
   },
   {
    "duration": 2030,
    "start_time": "2021-09-14T07:29:35.663Z"
   },
   {
    "duration": 188,
    "start_time": "2021-09-14T07:31:34.490Z"
   },
   {
    "duration": 179,
    "start_time": "2021-09-14T07:31:41.015Z"
   },
   {
    "duration": 182,
    "start_time": "2021-09-14T07:31:44.047Z"
   },
   {
    "duration": 67,
    "start_time": "2021-09-14T07:35:46.231Z"
   },
   {
    "duration": 83,
    "start_time": "2021-09-14T07:36:45.148Z"
   },
   {
    "duration": 91,
    "start_time": "2021-09-14T07:37:16.105Z"
   },
   {
    "duration": 80,
    "start_time": "2021-09-14T07:37:28.907Z"
   },
   {
    "duration": 84,
    "start_time": "2021-09-14T07:38:05.534Z"
   },
   {
    "duration": 848,
    "start_time": "2021-09-14T07:38:09.672Z"
   },
   {
    "duration": 79,
    "start_time": "2021-09-14T07:38:14.921Z"
   },
   {
    "duration": 529,
    "start_time": "2021-09-14T07:38:33.284Z"
   },
   {
    "duration": 442,
    "start_time": "2021-09-14T07:39:33.238Z"
   },
   {
    "duration": 80,
    "start_time": "2021-09-14T07:41:33.369Z"
   },
   {
    "duration": 193,
    "start_time": "2021-09-14T07:42:39.478Z"
   },
   {
    "duration": 110,
    "start_time": "2021-09-14T07:43:26.866Z"
   },
   {
    "duration": 149,
    "start_time": "2021-09-14T07:44:13.231Z"
   },
   {
    "duration": 167,
    "start_time": "2021-09-14T07:44:28.490Z"
   },
   {
    "duration": 240,
    "start_time": "2021-09-14T07:47:50.564Z"
   },
   {
    "duration": 160,
    "start_time": "2021-09-14T07:47:57.517Z"
   },
   {
    "duration": 146,
    "start_time": "2021-09-14T07:48:45.211Z"
   },
   {
    "duration": 176,
    "start_time": "2021-09-14T07:51:53.024Z"
   },
   {
    "duration": 103,
    "start_time": "2021-09-14T07:53:11.850Z"
   },
   {
    "duration": 104,
    "start_time": "2021-09-14T07:53:41.851Z"
   },
   {
    "duration": 112,
    "start_time": "2021-09-14T07:54:21.235Z"
   },
   {
    "duration": 122,
    "start_time": "2021-09-14T07:55:04.141Z"
   },
   {
    "duration": 490,
    "start_time": "2021-09-14T07:55:44.136Z"
   },
   {
    "duration": 111,
    "start_time": "2021-09-14T07:56:03.197Z"
   },
   {
    "duration": 97,
    "start_time": "2021-09-14T07:56:18.734Z"
   },
   {
    "duration": 97,
    "start_time": "2021-09-14T07:56:34.683Z"
   },
   {
    "duration": 105,
    "start_time": "2021-09-14T07:56:48.073Z"
   },
   {
    "duration": 183,
    "start_time": "2021-09-14T07:57:20.682Z"
   },
   {
    "duration": 163,
    "start_time": "2021-09-14T07:57:46.140Z"
   },
   {
    "duration": 479,
    "start_time": "2021-09-14T07:58:06.549Z"
   },
   {
    "duration": 170,
    "start_time": "2021-09-14T07:59:23.850Z"
   },
   {
    "duration": 180,
    "start_time": "2021-09-14T08:00:00.868Z"
   },
   {
    "duration": 173,
    "start_time": "2021-09-14T08:02:17.272Z"
   },
   {
    "duration": 184,
    "start_time": "2021-09-14T08:02:41.321Z"
   },
   {
    "duration": 172,
    "start_time": "2021-09-14T08:03:27.954Z"
   },
   {
    "duration": 180,
    "start_time": "2021-09-14T08:03:44.398Z"
   },
   {
    "duration": 251,
    "start_time": "2021-09-14T08:14:10.000Z"
   },
   {
    "duration": 153,
    "start_time": "2021-09-14T08:14:27.807Z"
   },
   {
    "duration": 694,
    "start_time": "2021-09-14T08:14:42.403Z"
   },
   {
    "duration": 96,
    "start_time": "2021-09-14T08:14:54.846Z"
   },
   {
    "duration": 104,
    "start_time": "2021-09-14T08:15:15.955Z"
   },
   {
    "duration": 164,
    "start_time": "2021-09-14T08:15:21.078Z"
   },
   {
    "duration": 280,
    "start_time": "2021-09-14T08:15:55.019Z"
   },
   {
    "duration": 112,
    "start_time": "2021-09-14T08:16:02.933Z"
   },
   {
    "duration": 92,
    "start_time": "2021-09-14T08:16:10.437Z"
   },
   {
    "duration": 115,
    "start_time": "2021-09-14T08:16:24.935Z"
   },
   {
    "duration": 112,
    "start_time": "2021-09-14T08:16:48.511Z"
   },
   {
    "duration": 148,
    "start_time": "2021-09-14T08:16:59.757Z"
   },
   {
    "duration": 448,
    "start_time": "2021-09-14T08:17:48.253Z"
   },
   {
    "duration": 145,
    "start_time": "2021-09-14T08:18:25.542Z"
   },
   {
    "duration": 171,
    "start_time": "2021-09-14T08:19:02.173Z"
   },
   {
    "duration": 218,
    "start_time": "2021-09-14T08:19:50.076Z"
   },
   {
    "duration": 157,
    "start_time": "2021-09-14T08:19:57.349Z"
   },
   {
    "duration": 431,
    "start_time": "2021-09-14T08:21:22.377Z"
   },
   {
    "duration": 159,
    "start_time": "2021-09-14T08:21:36.281Z"
   },
   {
    "duration": 150,
    "start_time": "2021-09-14T08:21:56.950Z"
   },
   {
    "duration": 334,
    "start_time": "2021-09-14T08:22:31.235Z"
   },
   {
    "duration": 147,
    "start_time": "2021-09-14T08:25:27.723Z"
   },
   {
    "duration": 196,
    "start_time": "2021-09-14T08:25:54.960Z"
   },
   {
    "duration": 170,
    "start_time": "2021-09-14T08:26:28.356Z"
   },
   {
    "duration": 172,
    "start_time": "2021-09-14T08:26:59.969Z"
   },
   {
    "duration": 181,
    "start_time": "2021-09-14T08:27:42.229Z"
   },
   {
    "duration": 24,
    "start_time": "2021-09-14T08:30:03.509Z"
   },
   {
    "duration": 7485,
    "start_time": "2021-09-14T08:30:37.175Z"
   },
   {
    "duration": 32,
    "start_time": "2021-09-14T08:30:52.057Z"
   },
   {
    "duration": 32,
    "start_time": "2021-09-14T08:31:00.157Z"
   },
   {
    "duration": 42,
    "start_time": "2021-09-14T08:31:47.528Z"
   },
   {
    "duration": 27,
    "start_time": "2021-09-14T08:31:59.880Z"
   },
   {
    "duration": 29,
    "start_time": "2021-09-14T08:32:07.446Z"
   },
   {
    "duration": 26,
    "start_time": "2021-09-14T08:32:24.464Z"
   },
   {
    "duration": 16,
    "start_time": "2021-09-14T08:32:55.924Z"
   },
   {
    "duration": 33,
    "start_time": "2021-09-14T08:33:02.409Z"
   },
   {
    "duration": 3,
    "start_time": "2021-09-14T08:33:16.331Z"
   },
   {
    "duration": 186,
    "start_time": "2021-09-14T08:33:16.338Z"
   },
   {
    "duration": 189,
    "start_time": "2021-09-14T08:33:16.527Z"
   },
   {
    "duration": 184,
    "start_time": "2021-09-14T08:33:16.718Z"
   },
   {
    "duration": 179,
    "start_time": "2021-09-14T08:33:16.905Z"
   },
   {
    "duration": 178,
    "start_time": "2021-09-14T08:33:17.086Z"
   },
   {
    "duration": 200,
    "start_time": "2021-09-14T08:33:17.266Z"
   },
   {
    "duration": 51,
    "start_time": "2021-09-14T08:33:17.470Z"
   },
   {
    "duration": 14,
    "start_time": "2021-09-14T08:33:52.781Z"
   },
   {
    "duration": 304,
    "start_time": "2021-09-14T08:34:00.518Z"
   },
   {
    "duration": 4,
    "start_time": "2021-09-14T08:38:17.818Z"
   },
   {
    "duration": 198,
    "start_time": "2021-09-14T08:38:17.825Z"
   },
   {
    "duration": 172,
    "start_time": "2021-09-14T08:38:18.026Z"
   },
   {
    "duration": 195,
    "start_time": "2021-09-14T08:38:18.201Z"
   },
   {
    "duration": 183,
    "start_time": "2021-09-14T08:38:18.399Z"
   },
   {
    "duration": 178,
    "start_time": "2021-09-14T08:38:18.585Z"
   },
   {
    "duration": 176,
    "start_time": "2021-09-14T08:38:18.765Z"
   },
   {
    "duration": 25,
    "start_time": "2021-09-14T08:38:18.945Z"
   },
   {
    "duration": 28,
    "start_time": "2021-09-14T08:38:37.392Z"
   },
   {
    "duration": 344,
    "start_time": "2021-09-14T08:40:37.789Z"
   },
   {
    "duration": 29,
    "start_time": "2021-09-14T08:40:49.151Z"
   },
   {
    "duration": 4,
    "start_time": "2021-09-14T08:41:04.184Z"
   },
   {
    "duration": 185,
    "start_time": "2021-09-14T08:41:04.190Z"
   },
   {
    "duration": 190,
    "start_time": "2021-09-14T08:41:04.378Z"
   },
   {
    "duration": 188,
    "start_time": "2021-09-14T08:41:04.571Z"
   },
   {
    "duration": 181,
    "start_time": "2021-09-14T08:41:04.761Z"
   },
   {
    "duration": 177,
    "start_time": "2021-09-14T08:41:04.944Z"
   },
   {
    "duration": 190,
    "start_time": "2021-09-14T08:41:05.124Z"
   },
   {
    "duration": 28,
    "start_time": "2021-09-14T08:41:05.317Z"
   },
   {
    "duration": 28,
    "start_time": "2021-09-14T08:42:23.824Z"
   },
   {
    "duration": 29,
    "start_time": "2021-09-14T08:42:44.019Z"
   },
   {
    "duration": 7807,
    "start_time": "2021-09-14T08:44:43.268Z"
   },
   {
    "duration": 11,
    "start_time": "2021-09-14T08:44:53.037Z"
   },
   {
    "duration": 15,
    "start_time": "2021-09-14T08:45:00.270Z"
   },
   {
    "duration": 314,
    "start_time": "2021-09-14T08:45:07.543Z"
   },
   {
    "duration": 6,
    "start_time": "2021-09-14T08:45:21.013Z"
   },
   {
    "duration": 9096,
    "start_time": "2021-09-14T08:46:08.158Z"
   },
   {
    "duration": 14,
    "start_time": "2021-09-14T08:46:26.215Z"
   },
   {
    "duration": 24,
    "start_time": "2021-09-14T08:46:43.902Z"
   },
   {
    "duration": 224,
    "start_time": "2021-09-14T08:47:05.850Z"
   },
   {
    "duration": 105,
    "start_time": "2021-09-14T08:47:20.221Z"
   },
   {
    "duration": 133,
    "start_time": "2021-09-14T08:47:31.669Z"
   },
   {
    "duration": 141,
    "start_time": "2021-09-14T08:47:43.498Z"
   },
   {
    "duration": 328,
    "start_time": "2021-09-14T08:48:19.408Z"
   },
   {
    "duration": 161,
    "start_time": "2021-09-14T08:48:30.374Z"
   },
   {
    "duration": 13,
    "start_time": "2021-09-14T08:48:38.740Z"
   },
   {
    "duration": 116,
    "start_time": "2021-09-14T08:48:52.659Z"
   },
   {
    "duration": 103,
    "start_time": "2021-09-14T08:49:02.189Z"
   },
   {
    "duration": 16,
    "start_time": "2021-09-14T08:49:36.734Z"
   },
   {
    "duration": 22,
    "start_time": "2021-09-14T08:49:46.167Z"
   },
   {
    "duration": 376,
    "start_time": "2021-09-14T08:50:07.734Z"
   },
   {
    "duration": 4,
    "start_time": "2021-09-14T08:50:23.403Z"
   },
   {
    "duration": 198,
    "start_time": "2021-09-14T08:50:23.409Z"
   },
   {
    "duration": 174,
    "start_time": "2021-09-14T08:50:23.616Z"
   },
   {
    "duration": 187,
    "start_time": "2021-09-14T08:50:23.793Z"
   },
   {
    "duration": 187,
    "start_time": "2021-09-14T08:50:23.982Z"
   },
   {
    "duration": 166,
    "start_time": "2021-09-14T08:50:24.171Z"
   },
   {
    "duration": 184,
    "start_time": "2021-09-14T08:50:24.339Z"
   },
   {
    "duration": 34,
    "start_time": "2021-09-14T08:50:24.526Z"
   },
   {
    "duration": 56,
    "start_time": "2021-09-14T08:50:24.562Z"
   },
   {
    "duration": 28,
    "start_time": "2021-09-14T08:50:24.620Z"
   },
   {
    "duration": 4,
    "start_time": "2021-09-14T08:52:16.942Z"
   },
   {
    "duration": 190,
    "start_time": "2021-09-14T08:52:16.949Z"
   },
   {
    "duration": 182,
    "start_time": "2021-09-14T08:52:17.142Z"
   },
   {
    "duration": 193,
    "start_time": "2021-09-14T08:52:17.327Z"
   },
   {
    "duration": 195,
    "start_time": "2021-09-14T08:52:17.523Z"
   },
   {
    "duration": 189,
    "start_time": "2021-09-14T08:52:17.720Z"
   },
   {
    "duration": 234,
    "start_time": "2021-09-14T08:52:17.917Z"
   },
   {
    "duration": 34,
    "start_time": "2021-09-14T08:52:18.155Z"
   },
   {
    "duration": 55,
    "start_time": "2021-09-14T08:52:18.191Z"
   },
   {
    "duration": 34,
    "start_time": "2021-09-14T08:52:18.249Z"
   },
   {
    "duration": 15,
    "start_time": "2021-09-14T08:54:03.164Z"
   },
   {
    "duration": 16,
    "start_time": "2021-09-14T08:54:33.297Z"
   },
   {
    "duration": 15,
    "start_time": "2021-09-14T08:54:49.307Z"
   },
   {
    "duration": 15,
    "start_time": "2021-09-14T08:55:03.882Z"
   },
   {
    "duration": 16,
    "start_time": "2021-09-14T08:55:17.475Z"
   },
   {
    "duration": 15,
    "start_time": "2021-09-14T08:55:22.063Z"
   },
   {
    "duration": 15,
    "start_time": "2021-09-14T08:55:32.561Z"
   },
   {
    "duration": 19,
    "start_time": "2021-09-14T08:57:05.341Z"
   },
   {
    "duration": 327,
    "start_time": "2021-09-14T08:57:32.041Z"
   },
   {
    "duration": 307,
    "start_time": "2021-09-14T08:57:49.436Z"
   },
   {
    "duration": 294,
    "start_time": "2021-09-14T08:58:55.286Z"
   },
   {
    "duration": 323,
    "start_time": "2021-09-14T08:59:47.694Z"
   },
   {
    "duration": 1019,
    "start_time": "2021-09-14T09:02:10.176Z"
   },
   {
    "duration": 118,
    "start_time": "2021-09-14T09:02:43.605Z"
   },
   {
    "duration": 106,
    "start_time": "2021-09-14T09:02:53.793Z"
   },
   {
    "duration": 308,
    "start_time": "2021-09-14T09:03:02.330Z"
   },
   {
    "duration": 290,
    "start_time": "2021-09-14T09:04:45.772Z"
   },
   {
    "duration": 384,
    "start_time": "2021-09-14T09:05:18.247Z"
   },
   {
    "duration": 314,
    "start_time": "2021-09-14T09:07:57.113Z"
   },
   {
    "duration": 348,
    "start_time": "2021-09-14T09:08:10.518Z"
   },
   {
    "duration": 319,
    "start_time": "2021-09-14T09:08:20.137Z"
   },
   {
    "duration": 335,
    "start_time": "2021-09-14T09:08:35.012Z"
   },
   {
    "duration": 962,
    "start_time": "2021-09-14T09:12:06.972Z"
   },
   {
    "duration": 539,
    "start_time": "2021-09-14T09:12:23.665Z"
   },
   {
    "duration": 542,
    "start_time": "2021-09-14T09:13:23.992Z"
   },
   {
    "duration": 1149,
    "start_time": "2021-09-14T09:13:50.960Z"
   },
   {
    "duration": 571,
    "start_time": "2021-09-14T09:14:55.003Z"
   },
   {
    "duration": 550,
    "start_time": "2021-09-14T09:18:00.400Z"
   },
   {
    "duration": 652,
    "start_time": "2021-09-14T09:18:07.529Z"
   },
   {
    "duration": 563,
    "start_time": "2021-09-14T09:18:35.809Z"
   },
   {
    "duration": 325,
    "start_time": "2021-09-14T09:19:18.306Z"
   },
   {
    "duration": 333,
    "start_time": "2021-09-14T09:19:20.513Z"
   },
   {
    "duration": 501,
    "start_time": "2021-09-14T09:19:23.289Z"
   },
   {
    "duration": 312,
    "start_time": "2021-09-14T09:51:32.987Z"
   },
   {
    "duration": 9,
    "start_time": "2021-09-14T09:52:05.931Z"
   },
   {
    "duration": 6,
    "start_time": "2021-09-14T09:53:21.444Z"
   },
   {
    "duration": 23,
    "start_time": "2021-09-14T09:55:21.501Z"
   },
   {
    "duration": 21,
    "start_time": "2021-09-14T09:57:12.276Z"
   },
   {
    "duration": 4,
    "start_time": "2021-09-14T09:58:35.489Z"
   },
   {
    "duration": 32,
    "start_time": "2021-09-14T10:03:55.356Z"
   },
   {
    "duration": 32,
    "start_time": "2021-09-14T10:09:20.039Z"
   },
   {
    "duration": 33,
    "start_time": "2021-09-14T10:09:28.365Z"
   },
   {
    "duration": 70,
    "start_time": "2021-09-14T10:09:39.953Z"
   },
   {
    "duration": 107,
    "start_time": "2021-09-14T10:10:14.162Z"
   },
   {
    "duration": 125,
    "start_time": "2021-09-14T10:10:20.846Z"
   },
   {
    "duration": 61,
    "start_time": "2021-09-14T10:10:27.258Z"
   },
   {
    "duration": 32,
    "start_time": "2021-09-14T10:10:49.374Z"
   },
   {
    "duration": 72,
    "start_time": "2021-09-14T10:11:08.146Z"
   },
   {
    "duration": 44,
    "start_time": "2021-09-14T10:11:47.279Z"
   },
   {
    "duration": 33,
    "start_time": "2021-09-14T10:11:53.102Z"
   },
   {
    "duration": 36,
    "start_time": "2021-09-14T10:11:56.905Z"
   },
   {
    "duration": 34,
    "start_time": "2021-09-14T10:12:10.571Z"
   },
   {
    "duration": 34,
    "start_time": "2021-09-14T10:12:14.810Z"
   },
   {
    "duration": 610,
    "start_time": "2021-09-14T10:12:40.082Z"
   },
   {
    "duration": 768,
    "start_time": "2021-09-14T10:13:28.499Z"
   },
   {
    "duration": 33,
    "start_time": "2021-09-14T10:13:53.718Z"
   },
   {
    "duration": 32,
    "start_time": "2021-09-14T10:14:09.006Z"
   },
   {
    "duration": 31,
    "start_time": "2021-09-14T10:14:46.825Z"
   },
   {
    "duration": 30,
    "start_time": "2021-09-14T10:14:51.167Z"
   },
   {
    "duration": 36,
    "start_time": "2021-09-14T10:20:56.820Z"
   },
   {
    "duration": 100,
    "start_time": "2021-09-14T10:21:33.718Z"
   },
   {
    "duration": 31,
    "start_time": "2021-09-14T10:21:36.690Z"
   },
   {
    "duration": 31,
    "start_time": "2021-09-14T10:21:38.706Z"
   },
   {
    "duration": 6,
    "start_time": "2021-09-14T10:22:57.078Z"
   },
   {
    "duration": 13,
    "start_time": "2021-09-14T10:23:03.311Z"
   },
   {
    "duration": 16,
    "start_time": "2021-09-14T10:23:15.706Z"
   },
   {
    "duration": 760,
    "start_time": "2021-09-14T10:32:14.655Z"
   },
   {
    "duration": 5,
    "start_time": "2021-09-14T10:32:21.789Z"
   },
   {
    "duration": 112,
    "start_time": "2021-09-14T10:32:29.111Z"
   },
   {
    "duration": 127,
    "start_time": "2021-09-14T10:33:29.088Z"
   },
   {
    "duration": 420,
    "start_time": "2021-09-14T10:33:35.576Z"
   },
   {
    "duration": 55,
    "start_time": "2021-09-14T10:34:19.573Z"
   },
   {
    "duration": 32,
    "start_time": "2021-09-14T10:34:22.475Z"
   },
   {
    "duration": 76,
    "start_time": "2021-09-14T10:36:45.540Z"
   },
   {
    "duration": 107,
    "start_time": "2021-09-14T10:36:55.021Z"
   },
   {
    "duration": 31,
    "start_time": "2021-09-14T10:37:00.680Z"
   },
   {
    "duration": 14,
    "start_time": "2021-09-14T10:37:09.448Z"
   },
   {
    "duration": 5,
    "start_time": "2021-09-14T10:41:05.595Z"
   },
   {
    "duration": 3,
    "start_time": "2021-09-14T11:03:48.845Z"
   },
   {
    "duration": 3,
    "start_time": "2021-09-14T11:03:59.655Z"
   },
   {
    "duration": 132,
    "start_time": "2021-09-14T11:05:01.290Z"
   },
   {
    "duration": 147,
    "start_time": "2021-09-14T11:05:26.208Z"
   },
   {
    "duration": 4,
    "start_time": "2021-09-14T11:06:02.693Z"
   },
   {
    "duration": 371,
    "start_time": "2021-09-14T11:06:14.946Z"
   },
   {
    "duration": 5,
    "start_time": "2021-09-14T11:06:35.803Z"
   },
   {
    "duration": 5,
    "start_time": "2021-09-14T11:07:51.190Z"
   },
   {
    "duration": 96,
    "start_time": "2021-09-14T11:13:30.920Z"
   },
   {
    "duration": 101,
    "start_time": "2021-09-14T11:13:32.719Z"
   },
   {
    "duration": 52,
    "start_time": "2021-09-14T11:13:35.471Z"
   },
   {
    "duration": 88,
    "start_time": "2021-09-14T11:29:34.531Z"
   },
   {
    "duration": 582,
    "start_time": "2021-09-14T11:30:00.897Z"
   },
   {
    "duration": 37,
    "start_time": "2021-09-14T11:30:09.285Z"
   },
   {
    "duration": 85,
    "start_time": "2021-09-14T11:30:23.132Z"
   },
   {
    "duration": 88,
    "start_time": "2021-09-14T11:31:35.330Z"
   },
   {
    "duration": 16,
    "start_time": "2021-09-14T11:31:50.413Z"
   },
   {
    "duration": 363,
    "start_time": "2021-09-14T11:36:15.841Z"
   },
   {
    "duration": 359,
    "start_time": "2021-09-14T11:36:44.317Z"
   },
   {
    "duration": 330,
    "start_time": "2021-09-14T11:37:08.975Z"
   },
   {
    "duration": 330,
    "start_time": "2021-09-14T11:37:28.666Z"
   },
   {
    "duration": 391,
    "start_time": "2021-09-14T11:37:34.626Z"
   },
   {
    "duration": 22,
    "start_time": "2021-09-14T11:37:47.498Z"
   },
   {
    "duration": 386,
    "start_time": "2021-09-14T11:39:01.854Z"
   },
   {
    "duration": 28,
    "start_time": "2021-09-14T11:39:13.904Z"
   },
   {
    "duration": 29,
    "start_time": "2021-09-14T11:39:21.840Z"
   },
   {
    "duration": 5,
    "start_time": "2021-09-14T11:40:59.320Z"
   },
   {
    "duration": 683,
    "start_time": "2021-09-14T11:41:10.536Z"
   },
   {
    "duration": 29,
    "start_time": "2021-09-14T11:41:29.852Z"
   },
   {
    "duration": 29,
    "start_time": "2021-09-14T11:42:35.120Z"
   },
   {
    "duration": 400,
    "start_time": "2021-09-14T11:43:17.085Z"
   },
   {
    "duration": 31,
    "start_time": "2021-09-14T11:43:48.212Z"
   },
   {
    "duration": 29,
    "start_time": "2021-09-14T11:44:09.760Z"
   },
   {
    "duration": 30,
    "start_time": "2021-09-14T11:44:39.451Z"
   },
   {
    "duration": 29,
    "start_time": "2021-09-14T11:44:56.073Z"
   },
   {
    "duration": 413,
    "start_time": "2021-09-14T16:20:37.556Z"
   },
   {
    "duration": 5,
    "start_time": "2021-09-14T16:20:58.206Z"
   },
   {
    "duration": 368,
    "start_time": "2021-09-14T16:21:04.020Z"
   },
   {
    "duration": 5420,
    "start_time": "2021-09-14T16:21:14.380Z"
   },
   {
    "duration": 5095,
    "start_time": "2021-09-14T16:21:26.747Z"
   },
   {
    "duration": 5202,
    "start_time": "2021-09-14T16:22:24.810Z"
   },
   {
    "duration": 5766,
    "start_time": "2021-09-14T16:23:32.514Z"
   },
   {
    "duration": 5523,
    "start_time": "2021-09-14T16:30:37.842Z"
   },
   {
    "duration": 5,
    "start_time": "2021-09-14T16:30:52.967Z"
   },
   {
    "duration": 5470,
    "start_time": "2021-09-14T16:30:57.355Z"
   },
   {
    "duration": 6711,
    "start_time": "2021-09-14T16:31:33.271Z"
   },
   {
    "duration": 5172,
    "start_time": "2021-09-14T16:31:53.097Z"
   },
   {
    "duration": 435,
    "start_time": "2021-09-14T16:32:20.031Z"
   },
   {
    "duration": 4,
    "start_time": "2021-09-14T16:32:43.580Z"
   },
   {
    "duration": 8,
    "start_time": "2021-09-14T16:32:53.258Z"
   },
   {
    "duration": 6,
    "start_time": "2021-09-14T16:33:15.380Z"
   },
   {
    "duration": 422,
    "start_time": "2021-09-14T16:33:35.820Z"
   },
   {
    "duration": 5230,
    "start_time": "2021-09-14T16:34:39.620Z"
   },
   {
    "duration": 6,
    "start_time": "2021-09-14T16:35:06.137Z"
   },
   {
    "duration": 123,
    "start_time": "2021-09-14T16:35:44.659Z"
   },
   {
    "duration": 11463,
    "start_time": "2021-09-14T16:35:49.233Z"
   },
   {
    "duration": 5069,
    "start_time": "2021-09-14T16:36:12.487Z"
   },
   {
    "duration": 118,
    "start_time": "2021-09-14T16:36:36.273Z"
   },
   {
    "duration": 5164,
    "start_time": "2021-09-14T16:36:41.065Z"
   },
   {
    "duration": 5562,
    "start_time": "2021-09-14T16:37:24.212Z"
   },
   {
    "duration": 130,
    "start_time": "2021-09-14T16:37:42.577Z"
   },
   {
    "duration": 6116,
    "start_time": "2021-09-14T16:37:54.601Z"
   },
   {
    "duration": 5370,
    "start_time": "2021-09-14T16:38:27.747Z"
   },
   {
    "duration": 116,
    "start_time": "2021-09-14T16:40:11.186Z"
   },
   {
    "duration": 4952,
    "start_time": "2021-09-14T16:40:17.028Z"
   },
   {
    "duration": 5111,
    "start_time": "2021-09-14T16:41:56.450Z"
   },
   {
    "duration": 1089,
    "start_time": "2021-09-14T16:42:06.902Z"
   },
   {
    "duration": 1132,
    "start_time": "2021-09-14T16:42:38.641Z"
   },
   {
    "duration": 5139,
    "start_time": "2021-09-14T16:44:00.525Z"
   },
   {
    "duration": 1139,
    "start_time": "2021-09-14T16:44:17.848Z"
   },
   {
    "duration": 1211,
    "start_time": "2021-09-14T16:44:24.962Z"
   },
   {
    "duration": 792,
    "start_time": "2021-09-14T16:46:22.155Z"
   },
   {
    "duration": 1801,
    "start_time": "2021-09-14T16:48:02.474Z"
   },
   {
    "duration": 5716,
    "start_time": "2021-09-14T16:49:34.807Z"
   },
   {
    "duration": 5454,
    "start_time": "2021-09-14T16:49:55.345Z"
   },
   {
    "duration": 387,
    "start_time": "2021-09-14T16:50:15.276Z"
   },
   {
    "duration": 5304,
    "start_time": "2021-09-14T16:50:24.260Z"
   },
   {
    "duration": 1086,
    "start_time": "2021-09-14T16:50:45.948Z"
   },
   {
    "duration": 5,
    "start_time": "2021-09-14T16:50:58.308Z"
   },
   {
    "duration": 201,
    "start_time": "2021-09-14T16:50:58.315Z"
   },
   {
    "duration": 172,
    "start_time": "2021-09-14T16:50:58.519Z"
   },
   {
    "duration": 198,
    "start_time": "2021-09-14T16:50:58.693Z"
   },
   {
    "duration": 177,
    "start_time": "2021-09-14T16:50:58.894Z"
   },
   {
    "duration": 174,
    "start_time": "2021-09-14T16:50:59.074Z"
   },
   {
    "duration": 158,
    "start_time": "2021-09-14T16:50:59.250Z"
   },
   {
    "duration": 34,
    "start_time": "2021-09-14T16:50:59.416Z"
   },
   {
    "duration": 33,
    "start_time": "2021-09-14T16:50:59.453Z"
   },
   {
    "duration": 34,
    "start_time": "2021-09-14T16:50:59.517Z"
   },
   {
    "duration": 350,
    "start_time": "2021-09-14T16:50:59.554Z"
   },
   {
    "duration": 354,
    "start_time": "2021-09-14T16:50:59.907Z"
   },
   {
    "duration": 365,
    "start_time": "2021-09-14T16:51:00.263Z"
   },
   {
    "duration": 92,
    "start_time": "2021-09-14T16:51:00.630Z"
   },
   {
    "duration": 290,
    "start_time": "2021-09-14T16:51:00.726Z"
   },
   {
    "duration": 101,
    "start_time": "2021-09-14T16:51:01.018Z"
   },
   {
    "duration": 108,
    "start_time": "2021-09-14T16:51:01.123Z"
   },
   {
    "duration": 40,
    "start_time": "2021-09-14T16:51:01.233Z"
   },
   {
    "duration": 31,
    "start_time": "2021-09-14T16:51:01.276Z"
   },
   {
    "duration": 57,
    "start_time": "2021-09-14T16:51:01.309Z"
   },
   {
    "duration": 34,
    "start_time": "2021-09-14T16:51:01.368Z"
   },
   {
    "duration": 29,
    "start_time": "2021-09-14T16:51:01.404Z"
   },
   {
    "duration": 1581,
    "start_time": "2021-09-14T16:51:01.437Z"
   },
   {
    "duration": 12,
    "start_time": "2021-09-14T16:52:54.588Z"
   },
   {
    "duration": 11,
    "start_time": "2021-09-14T16:54:37.515Z"
   },
   {
    "duration": 11,
    "start_time": "2021-09-14T16:54:41.256Z"
   },
   {
    "duration": 12,
    "start_time": "2021-09-14T16:55:22.079Z"
   },
   {
    "duration": 13,
    "start_time": "2021-09-14T16:55:31.311Z"
   },
   {
    "duration": 17,
    "start_time": "2021-09-14T16:55:40.445Z"
   },
   {
    "duration": 12,
    "start_time": "2021-09-14T16:56:01.162Z"
   },
   {
    "duration": 707,
    "start_time": "2021-09-14T16:56:52.876Z"
   },
   {
    "duration": 6,
    "start_time": "2021-09-14T16:57:09.452Z"
   },
   {
    "duration": 7,
    "start_time": "2021-09-14T16:57:20.333Z"
   },
   {
    "duration": 31,
    "start_time": "2021-09-14T16:57:51.929Z"
   },
   {
    "duration": 11,
    "start_time": "2021-09-14T16:58:06.209Z"
   },
   {
    "duration": 10,
    "start_time": "2021-09-14T16:59:35.549Z"
   },
   {
    "duration": 11,
    "start_time": "2021-09-14T16:59:38.878Z"
   },
   {
    "duration": 12,
    "start_time": "2021-09-14T17:00:41.651Z"
   },
   {
    "duration": 11,
    "start_time": "2021-09-14T17:00:49.321Z"
   },
   {
    "duration": 12,
    "start_time": "2021-09-14T17:00:53.809Z"
   },
   {
    "duration": 13,
    "start_time": "2021-09-14T17:01:02.328Z"
   },
   {
    "duration": 12,
    "start_time": "2021-09-14T17:01:11.125Z"
   },
   {
    "duration": 12,
    "start_time": "2021-09-14T17:01:22.776Z"
   },
   {
    "duration": 12,
    "start_time": "2021-09-14T17:01:33.298Z"
   },
   {
    "duration": 10,
    "start_time": "2021-09-14T17:01:49.744Z"
   },
   {
    "duration": 34,
    "start_time": "2021-09-14T17:02:06.113Z"
   },
   {
    "duration": 31,
    "start_time": "2021-09-14T17:02:13.798Z"
   },
   {
    "duration": 32,
    "start_time": "2021-09-14T17:02:26.384Z"
   },
   {
    "duration": 33,
    "start_time": "2021-09-14T17:02:36.202Z"
   },
   {
    "duration": 34,
    "start_time": "2021-09-14T17:02:42.564Z"
   },
   {
    "duration": 31,
    "start_time": "2021-09-14T17:03:38.617Z"
   },
   {
    "duration": 37,
    "start_time": "2021-09-14T17:03:47.033Z"
   },
   {
    "duration": 32,
    "start_time": "2021-09-14T17:04:00.655Z"
   },
   {
    "duration": 36,
    "start_time": "2021-09-14T17:04:04.987Z"
   },
   {
    "duration": 31,
    "start_time": "2021-09-14T17:04:20.981Z"
   },
   {
    "duration": 33,
    "start_time": "2021-09-14T17:04:28.885Z"
   },
   {
    "duration": 10,
    "start_time": "2021-09-14T17:04:57.297Z"
   },
   {
    "duration": 14,
    "start_time": "2021-09-14T17:05:12.668Z"
   },
   {
    "duration": 10,
    "start_time": "2021-09-14T17:05:48.690Z"
   },
   {
    "duration": 12,
    "start_time": "2021-09-14T17:05:56.011Z"
   },
   {
    "duration": 13,
    "start_time": "2021-09-14T17:06:07.150Z"
   },
   {
    "duration": 12,
    "start_time": "2021-09-14T17:06:28.153Z"
   },
   {
    "duration": 14,
    "start_time": "2021-09-14T17:06:36.269Z"
   },
   {
    "duration": 38,
    "start_time": "2021-09-14T17:07:17.631Z"
   },
   {
    "duration": 12,
    "start_time": "2021-09-14T17:08:51.803Z"
   },
   {
    "duration": 31,
    "start_time": "2021-09-14T17:09:03.922Z"
   },
   {
    "duration": 32,
    "start_time": "2021-09-14T17:09:16.260Z"
   },
   {
    "duration": 12,
    "start_time": "2021-09-14T17:09:41.274Z"
   },
   {
    "duration": 12,
    "start_time": "2021-09-14T17:10:04.402Z"
   },
   {
    "duration": 13,
    "start_time": "2021-09-14T17:10:33.104Z"
   },
   {
    "duration": 11,
    "start_time": "2021-09-14T17:11:37.436Z"
   },
   {
    "duration": 11,
    "start_time": "2021-09-14T17:11:44.393Z"
   },
   {
    "duration": 10,
    "start_time": "2021-09-14T17:12:21.840Z"
   },
   {
    "duration": 30,
    "start_time": "2021-09-14T17:12:33.278Z"
   },
   {
    "duration": 32,
    "start_time": "2021-09-14T17:12:58.716Z"
   },
   {
    "duration": 30,
    "start_time": "2021-09-14T17:13:00.863Z"
   },
   {
    "duration": 29,
    "start_time": "2021-09-14T17:13:02.085Z"
   },
   {
    "duration": 3209,
    "start_time": "2021-09-14T17:13:06.131Z"
   },
   {
    "duration": 3193,
    "start_time": "2021-09-14T17:13:15.855Z"
   },
   {
    "duration": 321,
    "start_time": "2021-09-14T17:14:11.587Z"
   },
   {
    "duration": 3215,
    "start_time": "2021-09-14T17:14:20.823Z"
   },
   {
    "duration": 3299,
    "start_time": "2021-09-14T17:14:39.051Z"
   },
   {
    "duration": 3227,
    "start_time": "2021-09-14T17:14:57.792Z"
   },
   {
    "duration": 3250,
    "start_time": "2021-09-14T17:19:35.984Z"
   },
   {
    "duration": 3221,
    "start_time": "2021-09-14T17:19:57.435Z"
   },
   {
    "duration": 3227,
    "start_time": "2021-09-14T17:20:03.419Z"
   },
   {
    "duration": 3203,
    "start_time": "2021-09-14T17:22:14.138Z"
   },
   {
    "duration": 3205,
    "start_time": "2021-09-14T17:22:22.511Z"
   },
   {
    "duration": 3186,
    "start_time": "2021-09-14T17:22:28.113Z"
   },
   {
    "duration": 3236,
    "start_time": "2021-09-14T17:22:40.682Z"
   },
   {
    "duration": 3212,
    "start_time": "2021-09-14T17:22:45.823Z"
   },
   {
    "duration": 3248,
    "start_time": "2021-09-14T17:22:50.765Z"
   },
   {
    "duration": 3302,
    "start_time": "2021-09-14T17:23:17.354Z"
   },
   {
    "duration": 3256,
    "start_time": "2021-09-14T17:24:52.548Z"
   },
   {
    "duration": 3231,
    "start_time": "2021-09-14T17:25:05.526Z"
   },
   {
    "duration": 3272,
    "start_time": "2021-09-14T17:27:22.881Z"
   },
   {
    "duration": 4114,
    "start_time": "2021-09-14T17:27:32.515Z"
   },
   {
    "duration": 3520,
    "start_time": "2021-09-14T17:29:06.652Z"
   },
   {
    "duration": 101,
    "start_time": "2021-09-14T17:36:32.475Z"
   },
   {
    "duration": 3235,
    "start_time": "2021-09-14T17:36:39.632Z"
   },
   {
    "duration": 112,
    "start_time": "2021-09-14T17:37:53.218Z"
   },
   {
    "duration": 3178,
    "start_time": "2021-09-14T17:37:57.374Z"
   },
   {
    "duration": 3193,
    "start_time": "2021-09-14T17:42:04.818Z"
   },
   {
    "duration": 3391,
    "start_time": "2021-09-14T17:42:51.866Z"
   },
   {
    "duration": 3221,
    "start_time": "2021-09-14T17:44:15.010Z"
   },
   {
    "duration": 3243,
    "start_time": "2021-09-14T17:44:21.884Z"
   },
   {
    "duration": 3247,
    "start_time": "2021-09-14T17:44:28.110Z"
   },
   {
    "duration": 3223,
    "start_time": "2021-09-14T17:44:47.129Z"
   },
   {
    "duration": 3221,
    "start_time": "2021-09-14T17:44:57.196Z"
   },
   {
    "duration": 3227,
    "start_time": "2021-09-14T17:45:02.399Z"
   },
   {
    "duration": 3257,
    "start_time": "2021-09-14T17:45:07.559Z"
   },
   {
    "duration": 3263,
    "start_time": "2021-09-14T17:45:21.954Z"
   },
   {
    "duration": 3199,
    "start_time": "2021-09-14T17:45:27.057Z"
   },
   {
    "duration": 3304,
    "start_time": "2021-09-14T17:45:32.713Z"
   },
   {
    "duration": 4,
    "start_time": "2021-09-14T17:50:21.820Z"
   },
   {
    "duration": 198,
    "start_time": "2021-09-14T17:50:21.827Z"
   },
   {
    "duration": 188,
    "start_time": "2021-09-14T17:50:22.028Z"
   },
   {
    "duration": 178,
    "start_time": "2021-09-14T17:50:22.219Z"
   },
   {
    "duration": 178,
    "start_time": "2021-09-14T17:50:22.399Z"
   },
   {
    "duration": 175,
    "start_time": "2021-09-14T17:50:22.580Z"
   },
   {
    "duration": 167,
    "start_time": "2021-09-14T17:50:22.758Z"
   },
   {
    "duration": 38,
    "start_time": "2021-09-14T17:50:22.928Z"
   },
   {
    "duration": 59,
    "start_time": "2021-09-14T17:50:22.969Z"
   },
   {
    "duration": 34,
    "start_time": "2021-09-14T17:50:23.030Z"
   },
   {
    "duration": 353,
    "start_time": "2021-09-14T17:50:23.066Z"
   },
   {
    "duration": 340,
    "start_time": "2021-09-14T17:50:23.422Z"
   },
   {
    "duration": 333,
    "start_time": "2021-09-14T17:50:23.764Z"
   },
   {
    "duration": 137,
    "start_time": "2021-09-14T17:50:24.099Z"
   },
   {
    "duration": 202,
    "start_time": "2021-09-14T17:50:24.318Z"
   },
   {
    "duration": 202,
    "start_time": "2021-09-14T17:50:24.523Z"
   },
   {
    "duration": 106,
    "start_time": "2021-09-14T17:50:24.818Z"
   },
   {
    "duration": 3,
    "start_time": "2021-09-14T17:50:24.927Z"
   },
   {
    "duration": 8,
    "start_time": "2021-09-14T17:50:24.933Z"
   },
   {
    "duration": 72,
    "start_time": "2021-09-14T17:50:24.944Z"
   },
   {
    "duration": 37,
    "start_time": "2021-09-14T17:50:25.019Z"
   },
   {
    "duration": 63,
    "start_time": "2021-09-14T17:50:25.059Z"
   },
   {
    "duration": 3317,
    "start_time": "2021-09-14T17:50:25.128Z"
   },
   {
    "duration": 3276,
    "start_time": "2021-09-14T17:50:28.448Z"
   },
   {
    "duration": 3275,
    "start_time": "2021-09-14T17:50:31.727Z"
   },
   {
    "duration": 103,
    "start_time": "2021-09-14T17:55:21.267Z"
   },
   {
    "duration": 3289,
    "start_time": "2021-09-14T17:55:30.408Z"
   },
   {
    "duration": 3785,
    "start_time": "2021-09-14T18:02:43.893Z"
   },
   {
    "duration": 3869,
    "start_time": "2021-09-14T18:02:58.371Z"
   },
   {
    "duration": 3877,
    "start_time": "2021-09-14T18:08:20.123Z"
   },
   {
    "duration": 3189,
    "start_time": "2021-09-14T18:09:45.683Z"
   },
   {
    "duration": 3226,
    "start_time": "2021-09-14T18:10:01.390Z"
   },
   {
    "duration": 3389,
    "start_time": "2021-09-14T18:10:08.424Z"
   },
   {
    "duration": 3974,
    "start_time": "2021-09-14T18:11:58.525Z"
   },
   {
    "duration": 3180,
    "start_time": "2021-09-14T18:14:23.061Z"
   },
   {
    "duration": 3232,
    "start_time": "2021-09-14T18:14:28.515Z"
   },
   {
    "duration": 1384,
    "start_time": "2021-09-15T04:00:10.217Z"
   },
   {
    "duration": 189,
    "start_time": "2021-09-15T04:00:11.604Z"
   },
   {
    "duration": 178,
    "start_time": "2021-09-15T04:00:11.796Z"
   },
   {
    "duration": 171,
    "start_time": "2021-09-15T04:00:11.982Z"
   },
   {
    "duration": 172,
    "start_time": "2021-09-15T04:00:12.155Z"
   },
   {
    "duration": 176,
    "start_time": "2021-09-15T04:00:12.329Z"
   },
   {
    "duration": 163,
    "start_time": "2021-09-15T04:00:12.508Z"
   },
   {
    "duration": 48,
    "start_time": "2021-09-15T04:00:12.673Z"
   },
   {
    "duration": 36,
    "start_time": "2021-09-15T04:00:12.725Z"
   },
   {
    "duration": 34,
    "start_time": "2021-09-15T04:00:12.785Z"
   },
   {
    "duration": 327,
    "start_time": "2021-09-15T04:00:12.821Z"
   },
   {
    "duration": 322,
    "start_time": "2021-09-15T04:00:13.150Z"
   },
   {
    "duration": 310,
    "start_time": "2021-09-15T04:00:13.474Z"
   },
   {
    "duration": 97,
    "start_time": "2021-09-15T04:00:13.787Z"
   },
   {
    "duration": 197,
    "start_time": "2021-09-15T04:00:13.888Z"
   },
   {
    "duration": 196,
    "start_time": "2021-09-15T04:00:14.089Z"
   },
   {
    "duration": 104,
    "start_time": "2021-09-15T04:00:14.289Z"
   },
   {
    "duration": 11,
    "start_time": "2021-09-15T04:00:14.396Z"
   },
   {
    "duration": 10,
    "start_time": "2021-09-15T04:00:14.410Z"
   },
   {
    "duration": 33,
    "start_time": "2021-09-15T04:00:14.422Z"
   },
   {
    "duration": 51,
    "start_time": "2021-09-15T04:00:14.458Z"
   },
   {
    "duration": 29,
    "start_time": "2021-09-15T04:00:14.511Z"
   },
   {
    "duration": 3098,
    "start_time": "2021-09-15T04:00:14.543Z"
   },
   {
    "duration": 2942,
    "start_time": "2021-09-15T04:00:17.644Z"
   },
   {
    "duration": 2933,
    "start_time": "2021-09-15T04:00:20.588Z"
   },
   {
    "duration": 117,
    "start_time": "2021-09-15T04:03:34.619Z"
   },
   {
    "duration": 2973,
    "start_time": "2021-09-15T04:04:04.527Z"
   },
   {
    "duration": 2957,
    "start_time": "2021-09-15T04:05:30.918Z"
   },
   {
    "duration": 3033,
    "start_time": "2021-09-15T04:05:37.207Z"
   },
   {
    "duration": 2924,
    "start_time": "2021-09-15T04:05:41.973Z"
   },
   {
    "duration": 2993,
    "start_time": "2021-09-15T04:07:47.439Z"
   },
   {
    "duration": 2891,
    "start_time": "2021-09-15T04:07:53.955Z"
   },
   {
    "duration": 2978,
    "start_time": "2021-09-15T04:07:57.988Z"
   },
   {
    "duration": 9815,
    "start_time": "2021-09-15T04:38:19.655Z"
   },
   {
    "duration": 5,
    "start_time": "2021-09-15T04:38:38.168Z"
   },
   {
    "duration": 168,
    "start_time": "2021-09-15T04:38:38.175Z"
   },
   {
    "duration": 165,
    "start_time": "2021-09-15T04:38:38.346Z"
   },
   {
    "duration": 173,
    "start_time": "2021-09-15T04:38:38.513Z"
   },
   {
    "duration": 151,
    "start_time": "2021-09-15T04:38:38.689Z"
   },
   {
    "duration": 57,
    "start_time": "2021-09-15T04:50:19.130Z"
   },
   {
    "duration": 61,
    "start_time": "2021-09-15T04:50:30.424Z"
   },
   {
    "duration": 97,
    "start_time": "2021-09-15T04:50:54.588Z"
   },
   {
    "duration": 71,
    "start_time": "2021-09-15T04:50:57.016Z"
   },
   {
    "duration": 101,
    "start_time": "2021-09-15T04:50:59.287Z"
   },
   {
    "duration": 40,
    "start_time": "2021-09-15T04:51:33.145Z"
   },
   {
    "duration": 79,
    "start_time": "2021-09-15T04:51:35.107Z"
   },
   {
    "duration": 52,
    "start_time": "2021-09-15T04:51:37.433Z"
   },
   {
    "duration": 9233,
    "start_time": "2021-09-15T04:53:22.559Z"
   },
   {
    "duration": 589,
    "start_time": "2021-09-15T04:54:08.660Z"
   },
   {
    "duration": 1176,
    "start_time": "2021-09-15T04:54:54.133Z"
   },
   {
    "duration": 8743,
    "start_time": "2021-09-15T04:55:28.071Z"
   },
   {
    "duration": 293,
    "start_time": "2021-09-15T04:55:48.780Z"
   },
   {
    "duration": 8,
    "start_time": "2021-09-15T04:56:24.806Z"
   },
   {
    "duration": 6,
    "start_time": "2021-09-15T04:56:38.763Z"
   },
   {
    "duration": 377,
    "start_time": "2021-09-15T04:56:53.151Z"
   },
   {
    "duration": 593,
    "start_time": "2021-09-15T04:57:37.704Z"
   },
   {
    "duration": 316,
    "start_time": "2021-09-15T04:58:08.733Z"
   },
   {
    "duration": 597,
    "start_time": "2021-09-15T04:58:19.289Z"
   },
   {
    "duration": 688,
    "start_time": "2021-09-15T04:59:33.871Z"
   },
   {
    "duration": 9139,
    "start_time": "2021-09-15T04:59:48.723Z"
   },
   {
    "duration": 591,
    "start_time": "2021-09-15T05:00:04.121Z"
   },
   {
    "duration": 306,
    "start_time": "2021-09-15T05:00:27.045Z"
   },
   {
    "duration": 373,
    "start_time": "2021-09-15T05:02:20.076Z"
   },
   {
    "duration": 248,
    "start_time": "2021-09-15T05:03:23.693Z"
   },
   {
    "duration": 366,
    "start_time": "2021-09-15T05:03:48.365Z"
   },
   {
    "duration": 353,
    "start_time": "2021-09-15T05:04:05.301Z"
   },
   {
    "duration": 291,
    "start_time": "2021-09-15T05:04:12.531Z"
   },
   {
    "duration": 268,
    "start_time": "2021-09-15T05:04:32.300Z"
   },
   {
    "duration": 278,
    "start_time": "2021-09-15T05:04:38.286Z"
   },
   {
    "duration": 364,
    "start_time": "2021-09-15T05:09:09.992Z"
   },
   {
    "duration": 671,
    "start_time": "2021-09-15T05:10:40.065Z"
   },
   {
    "duration": 656,
    "start_time": "2021-09-15T05:10:53.585Z"
   },
   {
    "duration": 1608,
    "start_time": "2021-09-15T05:13:25.282Z"
   },
   {
    "duration": 706,
    "start_time": "2021-09-15T05:15:37.362Z"
   },
   {
    "duration": 307,
    "start_time": "2021-09-15T05:15:50.252Z"
   },
   {
    "duration": 6705,
    "start_time": "2021-09-15T05:16:26.028Z"
   },
   {
    "duration": 345,
    "start_time": "2021-09-15T05:16:58.470Z"
   },
   {
    "duration": 324,
    "start_time": "2021-09-15T05:20:38.313Z"
   },
   {
    "duration": 309,
    "start_time": "2021-09-15T05:20:45.806Z"
   },
   {
    "duration": 351,
    "start_time": "2021-09-15T05:21:02.167Z"
   },
   {
    "duration": 334,
    "start_time": "2021-09-15T05:21:10.090Z"
   },
   {
    "duration": 318,
    "start_time": "2021-09-15T05:25:02.300Z"
   },
   {
    "duration": 348,
    "start_time": "2021-09-15T05:25:08.654Z"
   },
   {
    "duration": 562,
    "start_time": "2021-09-15T05:25:24.970Z"
   },
   {
    "duration": 541,
    "start_time": "2021-09-15T05:26:02.592Z"
   },
   {
    "duration": 3031,
    "start_time": "2021-09-15T05:34:27.015Z"
   },
   {
    "duration": 3066,
    "start_time": "2021-09-15T05:35:09.937Z"
   },
   {
    "duration": 2861,
    "start_time": "2021-09-15T05:35:49.392Z"
   },
   {
    "duration": 124,
    "start_time": "2021-09-15T05:37:37.538Z"
   },
   {
    "duration": 371,
    "start_time": "2021-09-15T05:37:58.919Z"
   },
   {
    "duration": 865,
    "start_time": "2021-09-15T05:38:41.331Z"
   },
   {
    "duration": 16,
    "start_time": "2021-09-15T05:40:12.691Z"
   },
   {
    "duration": 15,
    "start_time": "2021-09-15T05:40:49.987Z"
   },
   {
    "duration": 15,
    "start_time": "2021-09-15T05:42:01.294Z"
   },
   {
    "duration": 8170,
    "start_time": "2021-09-15T05:42:58.010Z"
   },
   {
    "duration": 14,
    "start_time": "2021-09-15T05:43:08.033Z"
   },
   {
    "duration": 8167,
    "start_time": "2021-09-15T05:43:09.597Z"
   },
   {
    "duration": 114,
    "start_time": "2021-09-15T05:43:39.406Z"
   },
   {
    "duration": 10,
    "start_time": "2021-09-15T05:43:51.215Z"
   },
   {
    "duration": 11,
    "start_time": "2021-09-15T05:43:57.309Z"
   },
   {
    "duration": 8,
    "start_time": "2021-09-15T05:44:04.129Z"
   },
   {
    "duration": 10,
    "start_time": "2021-09-15T05:44:09.118Z"
   },
   {
    "duration": 312,
    "start_time": "2021-09-15T05:44:45.254Z"
   },
   {
    "duration": 346,
    "start_time": "2021-09-15T05:45:00.926Z"
   },
   {
    "duration": 305,
    "start_time": "2021-09-15T05:45:08.026Z"
   },
   {
    "duration": 6,
    "start_time": "2021-09-15T05:45:51.015Z"
   },
   {
    "duration": 7,
    "start_time": "2021-09-15T05:45:55.483Z"
   },
   {
    "duration": 5,
    "start_time": "2021-09-15T05:46:03.493Z"
   },
   {
    "duration": 517,
    "start_time": "2021-09-15T05:46:21.997Z"
   },
   {
    "duration": 212,
    "start_time": "2021-09-15T05:46:45.024Z"
   },
   {
    "duration": 6,
    "start_time": "2021-09-15T05:47:37.034Z"
   },
   {
    "duration": 7,
    "start_time": "2021-09-15T05:47:41.212Z"
   },
   {
    "duration": 6,
    "start_time": "2021-09-15T05:47:47.370Z"
   },
   {
    "duration": 6,
    "start_time": "2021-09-15T05:47:50.374Z"
   },
   {
    "duration": 6,
    "start_time": "2021-09-15T05:47:58.868Z"
   },
   {
    "duration": 364,
    "start_time": "2021-09-15T05:48:10.928Z"
   },
   {
    "duration": 321,
    "start_time": "2021-09-15T05:48:20.692Z"
   },
   {
    "duration": 299,
    "start_time": "2021-09-15T05:48:25.110Z"
   },
   {
    "duration": 383,
    "start_time": "2021-09-15T05:48:44.373Z"
   },
   {
    "duration": 301,
    "start_time": "2021-09-15T05:48:53.855Z"
   },
   {
    "duration": 11,
    "start_time": "2021-09-15T05:48:59.263Z"
   },
   {
    "duration": 6,
    "start_time": "2021-09-15T05:49:17.397Z"
   },
   {
    "duration": 1502,
    "start_time": "2021-09-15T05:58:35.268Z"
   },
   {
    "duration": 179,
    "start_time": "2021-09-15T05:58:36.773Z"
   },
   {
    "duration": 181,
    "start_time": "2021-09-15T05:58:36.955Z"
   },
   {
    "duration": 245,
    "start_time": "2021-09-15T05:58:37.138Z"
   },
   {
    "duration": 269,
    "start_time": "2021-09-15T05:58:37.386Z"
   },
   {
    "duration": 185,
    "start_time": "2021-09-15T05:58:37.658Z"
   },
   {
    "duration": 158,
    "start_time": "2021-09-15T05:58:37.845Z"
   },
   {
    "duration": 40,
    "start_time": "2021-09-15T05:58:38.007Z"
   },
   {
    "duration": 58,
    "start_time": "2021-09-15T05:58:38.050Z"
   },
   {
    "duration": 33,
    "start_time": "2021-09-15T05:58:38.111Z"
   },
   {
    "duration": 347,
    "start_time": "2021-09-15T05:58:38.146Z"
   },
   {
    "duration": 313,
    "start_time": "2021-09-15T05:58:38.496Z"
   },
   {
    "duration": 332,
    "start_time": "2021-09-15T05:58:38.811Z"
   },
   {
    "duration": 54,
    "start_time": "2021-09-15T05:58:39.145Z"
   },
   {
    "duration": 466,
    "start_time": "2021-09-15T05:58:39.286Z"
   },
   {
    "duration": 610,
    "start_time": "2021-09-15T05:58:39.755Z"
   },
   {
    "duration": 565,
    "start_time": "2021-09-15T05:58:40.368Z"
   },
   {
    "duration": 16,
    "start_time": "2021-09-15T05:58:40.935Z"
   },
   {
    "duration": 6,
    "start_time": "2021-09-15T05:58:40.953Z"
   },
   {
    "duration": 23,
    "start_time": "2021-09-15T05:58:40.961Z"
   },
   {
    "duration": 32,
    "start_time": "2021-09-15T05:58:40.987Z"
   },
   {
    "duration": 26,
    "start_time": "2021-09-15T05:58:41.021Z"
   },
   {
    "duration": 55,
    "start_time": "2021-09-15T05:58:41.052Z"
   },
   {
    "duration": 3084,
    "start_time": "2021-09-15T05:58:41.110Z"
   },
   {
    "duration": 3002,
    "start_time": "2021-09-15T05:58:44.196Z"
   },
   {
    "duration": 3092,
    "start_time": "2021-09-15T05:58:47.200Z"
   },
   {
    "duration": 14,
    "start_time": "2021-09-15T05:58:50.294Z"
   },
   {
    "duration": 317,
    "start_time": "2021-09-15T08:21:24.093Z"
   },
   {
    "duration": 399,
    "start_time": "2021-09-15T08:21:32.275Z"
   },
   {
    "duration": 322,
    "start_time": "2021-09-15T08:21:51.915Z"
   },
   {
    "duration": 332,
    "start_time": "2021-09-15T08:22:26.659Z"
   },
   {
    "duration": 420,
    "start_time": "2021-09-15T08:22:32.343Z"
   },
   {
    "duration": 346,
    "start_time": "2021-09-15T08:22:44.700Z"
   },
   {
    "duration": 436,
    "start_time": "2021-09-15T08:22:47.636Z"
   },
   {
    "duration": 329,
    "start_time": "2021-09-15T08:26:26.387Z"
   },
   {
    "duration": 360,
    "start_time": "2021-09-15T08:26:33.057Z"
   },
   {
    "duration": 328,
    "start_time": "2021-09-15T08:26:36.119Z"
   },
   {
    "duration": 395,
    "start_time": "2021-09-15T08:28:25.353Z"
   },
   {
    "duration": 414,
    "start_time": "2021-09-15T08:28:28.637Z"
   },
   {
    "duration": 477,
    "start_time": "2021-09-15T08:29:09.337Z"
   },
   {
    "duration": 392,
    "start_time": "2021-09-15T08:29:12.567Z"
   },
   {
    "duration": 408,
    "start_time": "2021-09-15T08:29:24.874Z"
   },
   {
    "duration": 391,
    "start_time": "2021-09-15T08:29:28.954Z"
   },
   {
    "duration": 486,
    "start_time": "2021-09-15T08:29:52.528Z"
   },
   {
    "duration": 448,
    "start_time": "2021-09-15T08:29:55.227Z"
   },
   {
    "duration": 414,
    "start_time": "2021-09-15T08:30:15.855Z"
   },
   {
    "duration": 398,
    "start_time": "2021-09-15T08:30:17.799Z"
   },
   {
    "duration": 389,
    "start_time": "2021-09-15T08:30:23.955Z"
   },
   {
    "duration": 688,
    "start_time": "2021-09-15T08:49:30.274Z"
   },
   {
    "duration": 770,
    "start_time": "2021-09-15T08:49:36.376Z"
   },
   {
    "duration": 730,
    "start_time": "2021-09-15T08:49:46.716Z"
   },
   {
    "duration": 451,
    "start_time": "2021-09-15T08:53:15.636Z"
   },
   {
    "duration": 3,
    "start_time": "2021-09-15T08:53:18.400Z"
   },
   {
    "duration": 4,
    "start_time": "2021-09-15T08:53:21.380Z"
   },
   {
    "duration": 634,
    "start_time": "2021-09-15T08:55:02.121Z"
   },
   {
    "duration": 33,
    "start_time": "2021-09-15T08:55:13.291Z"
   },
   {
    "duration": 33,
    "start_time": "2021-09-15T08:56:08.442Z"
   },
   {
    "duration": 31,
    "start_time": "2021-09-15T08:56:10.466Z"
   },
   {
    "duration": 3285,
    "start_time": "2021-09-15T09:01:07.787Z"
   },
   {
    "duration": 2904,
    "start_time": "2021-09-15T09:01:18.641Z"
   },
   {
    "duration": 2948,
    "start_time": "2021-09-15T09:02:24.910Z"
   },
   {
    "duration": 3412,
    "start_time": "2021-09-15T09:04:26.176Z"
   },
   {
    "duration": 2964,
    "start_time": "2021-09-15T09:04:37.976Z"
   },
   {
    "duration": 15,
    "start_time": "2021-09-15T09:05:08.953Z"
   },
   {
    "duration": 2927,
    "start_time": "2021-09-15T09:06:02.426Z"
   },
   {
    "duration": 20,
    "start_time": "2021-09-15T09:06:39.152Z"
   },
   {
    "duration": 1418,
    "start_time": "2021-09-15T09:13:38.820Z"
   },
   {
    "duration": 188,
    "start_time": "2021-09-15T09:13:40.241Z"
   },
   {
    "duration": 185,
    "start_time": "2021-09-15T09:13:40.435Z"
   },
   {
    "duration": 192,
    "start_time": "2021-09-15T09:13:40.622Z"
   },
   {
    "duration": 175,
    "start_time": "2021-09-15T09:13:40.817Z"
   },
   {
    "duration": 165,
    "start_time": "2021-09-15T09:13:40.994Z"
   },
   {
    "duration": 153,
    "start_time": "2021-09-15T09:13:41.163Z"
   },
   {
    "duration": 40,
    "start_time": "2021-09-15T09:13:41.320Z"
   },
   {
    "duration": 52,
    "start_time": "2021-09-15T09:13:41.363Z"
   },
   {
    "duration": 34,
    "start_time": "2021-09-15T09:13:41.418Z"
   },
   {
    "duration": 454,
    "start_time": "2021-09-15T09:13:41.455Z"
   },
   {
    "duration": 547,
    "start_time": "2021-09-15T09:13:41.912Z"
   },
   {
    "duration": 513,
    "start_time": "2021-09-15T09:13:42.462Z"
   },
   {
    "duration": 205,
    "start_time": "2021-09-15T09:13:42.982Z"
   },
   {
    "duration": 676,
    "start_time": "2021-09-15T09:13:43.192Z"
   },
   {
    "duration": 992,
    "start_time": "2021-09-15T09:13:43.870Z"
   },
   {
    "duration": 773,
    "start_time": "2021-09-15T09:13:44.865Z"
   },
   {
    "duration": 14,
    "start_time": "2021-09-15T09:13:45.641Z"
   },
   {
    "duration": 24,
    "start_time": "2021-09-15T09:13:45.658Z"
   },
   {
    "duration": 8,
    "start_time": "2021-09-15T09:13:45.685Z"
   },
   {
    "duration": 42,
    "start_time": "2021-09-15T09:13:45.696Z"
   },
   {
    "duration": 49,
    "start_time": "2021-09-15T09:13:45.744Z"
   },
   {
    "duration": 30,
    "start_time": "2021-09-15T09:13:45.797Z"
   },
   {
    "duration": 3611,
    "start_time": "2021-09-15T09:13:45.830Z"
   },
   {
    "duration": 4816,
    "start_time": "2021-09-15T09:13:49.444Z"
   },
   {
    "duration": 4824,
    "start_time": "2021-09-15T09:13:54.263Z"
   },
   {
    "duration": 20,
    "start_time": "2021-09-15T09:13:59.090Z"
   },
   {
    "duration": 3137,
    "start_time": "2021-09-15T09:15:46.807Z"
   },
   {
    "duration": 1358,
    "start_time": "2021-09-15T09:16:07.097Z"
   },
   {
    "duration": 173,
    "start_time": "2021-09-15T09:16:08.458Z"
   },
   {
    "duration": 177,
    "start_time": "2021-09-15T09:16:08.634Z"
   },
   {
    "duration": 176,
    "start_time": "2021-09-15T09:16:08.814Z"
   },
   {
    "duration": 263,
    "start_time": "2021-09-15T09:16:08.992Z"
   },
   {
    "duration": 195,
    "start_time": "2021-09-15T09:16:09.258Z"
   },
   {
    "duration": 158,
    "start_time": "2021-09-15T09:16:09.456Z"
   },
   {
    "duration": 42,
    "start_time": "2021-09-15T09:16:09.618Z"
   },
   {
    "duration": 35,
    "start_time": "2021-09-15T09:16:09.684Z"
   },
   {
    "duration": 34,
    "start_time": "2021-09-15T09:16:09.722Z"
   },
   {
    "duration": 433,
    "start_time": "2021-09-15T09:16:09.783Z"
   },
   {
    "duration": 424,
    "start_time": "2021-09-15T09:16:10.219Z"
   },
   {
    "duration": 426,
    "start_time": "2021-09-15T09:16:10.646Z"
   },
   {
    "duration": 113,
    "start_time": "2021-09-15T09:16:11.075Z"
   },
   {
    "duration": 679,
    "start_time": "2021-09-15T09:16:11.192Z"
   },
   {
    "duration": 827,
    "start_time": "2021-09-15T09:16:11.874Z"
   },
   {
    "duration": 794,
    "start_time": "2021-09-15T09:16:12.705Z"
   },
   {
    "duration": 14,
    "start_time": "2021-09-15T09:16:13.502Z"
   },
   {
    "duration": 9,
    "start_time": "2021-09-15T09:16:13.518Z"
   },
   {
    "duration": 16,
    "start_time": "2021-09-15T09:16:13.530Z"
   },
   {
    "duration": 55,
    "start_time": "2021-09-15T09:16:13.548Z"
   },
   {
    "duration": 30,
    "start_time": "2021-09-15T09:16:13.605Z"
   },
   {
    "duration": 53,
    "start_time": "2021-09-15T09:16:13.639Z"
   },
   {
    "duration": 3087,
    "start_time": "2021-09-15T09:16:13.695Z"
   },
   {
    "duration": 3048,
    "start_time": "2021-09-15T09:16:16.785Z"
   },
   {
    "duration": 3103,
    "start_time": "2021-09-15T09:16:19.835Z"
   },
   {
    "duration": 14,
    "start_time": "2021-09-15T09:16:22.941Z"
   },
   {
    "duration": 14,
    "start_time": "2021-09-15T09:16:52.406Z"
   },
   {
    "duration": 15,
    "start_time": "2021-09-15T09:17:04.821Z"
   }
  ],
  "kernelspec": {
   "display_name": "Python 3",
   "language": "python",
   "name": "python3"
  },
  "language_info": {
   "codemirror_mode": {
    "name": "ipython",
    "version": 3
   },
   "file_extension": ".py",
   "mimetype": "text/x-python",
   "name": "python",
   "nbconvert_exporter": "python",
   "pygments_lexer": "ipython3",
   "version": "3.8.2"
  },
  "toc": {
   "base_numbering": 1,
   "nav_menu": {},
   "number_sections": true,
   "sideBar": true,
   "skip_h1_title": true,
   "title_cell": "Table of Contents",
   "title_sidebar": "Contents",
   "toc_cell": false,
   "toc_position": {},
   "toc_section_display": true,
   "toc_window_display": false
  }
 },
 "nbformat": 4,
 "nbformat_minor": 2
}
