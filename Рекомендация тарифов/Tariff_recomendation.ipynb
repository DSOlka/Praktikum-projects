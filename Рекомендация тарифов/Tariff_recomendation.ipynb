{
 "cells": [
  {
   "cell_type": "markdown",
   "metadata": {},
   "source": [
    "# Рекомендация тарифов"
   ]
  },
  {
   "cell_type": "markdown",
   "metadata": {},
   "source": [
    "**Цель проекта**: разработка модели классификации тарифов для оператора сотовой связи в зависимости от поведения абонентов на основании имеющихся данных об абонентах, которые уже используют целевые тарифы. Минимально необходимая точность прогнозирования модели - 75%. \n",
    "\n",
    "В нашем распоряжении следующая информация о поведении пользователей за месяц:\n",
    "- сalls — количество звонков,\n",
    "- minutes — суммарная длительность звонков в минутах,\n",
    "- messages — количество sms-сообщений,\n",
    "- mb_used — израсходованный интернет-трафик в Мб,\n",
    "- is_ultra — каким тарифом пользовался в течение месяца («Ультра» — 1, «Смарт» — 0).\n",
    "\n",
    "\n",
    "**Основные этапы проекта**:\n",
    "\n",
    "- Изучение предоставленных данных\n",
    "- Разбиение данных на выборки\n",
    "- Выбор и построение моделей классификации\n",
    "- Проверка моделей на тестовой выборке\n",
    "- Поверка моделей на адекватность\n",
    "- Общий вывод и рекомендации"
   ]
  },
  {
   "cell_type": "markdown",
   "metadata": {},
   "source": [
    "## Изучение предоставленных данных"
   ]
  },
  {
   "cell_type": "code",
   "execution_count": 3,
   "metadata": {},
   "outputs": [],
   "source": [
    "import pandas as pd\n",
    "from sklearn.model_selection import train_test_split\n",
    "from sklearn.tree import DecisionTreeClassifier\n",
    "from sklearn.ensemble import RandomForestClassifier\n",
    "from sklearn.linear_model import LogisticRegression\n",
    "from sklearn.metrics import accuracy_score\n",
    "from sklearn.metrics import classification_report\n",
    "from sklearn.dummy import DummyClassifier"
   ]
  },
  {
   "cell_type": "code",
   "execution_count": 4,
   "metadata": {},
   "outputs": [
    {
     "name": "stdout",
     "output_type": "stream",
     "text": [
      "<class 'pandas.core.frame.DataFrame'>\n",
      "RangeIndex: 3214 entries, 0 to 3213\n",
      "Data columns (total 5 columns):\n",
      "calls       3214 non-null float64\n",
      "minutes     3214 non-null float64\n",
      "messages    3214 non-null float64\n",
      "mb_used     3214 non-null float64\n",
      "is_ultra    3214 non-null int64\n",
      "dtypes: float64(4), int64(1)\n",
      "memory usage: 125.7 KB\n",
      "None\n"
     ]
    },
    {
     "data": {
      "text/html": [
       "<div>\n",
       "<style scoped>\n",
       "    .dataframe tbody tr th:only-of-type {\n",
       "        vertical-align: middle;\n",
       "    }\n",
       "\n",
       "    .dataframe tbody tr th {\n",
       "        vertical-align: top;\n",
       "    }\n",
       "\n",
       "    .dataframe thead th {\n",
       "        text-align: right;\n",
       "    }\n",
       "</style>\n",
       "<table border=\"1\" class=\"dataframe\">\n",
       "  <thead>\n",
       "    <tr style=\"text-align: right;\">\n",
       "      <th></th>\n",
       "      <th>calls</th>\n",
       "      <th>minutes</th>\n",
       "      <th>messages</th>\n",
       "      <th>mb_used</th>\n",
       "      <th>is_ultra</th>\n",
       "    </tr>\n",
       "  </thead>\n",
       "  <tbody>\n",
       "    <tr>\n",
       "      <td>0</td>\n",
       "      <td>40.0</td>\n",
       "      <td>311.90</td>\n",
       "      <td>83.0</td>\n",
       "      <td>19915.42</td>\n",
       "      <td>0</td>\n",
       "    </tr>\n",
       "    <tr>\n",
       "      <td>1</td>\n",
       "      <td>85.0</td>\n",
       "      <td>516.75</td>\n",
       "      <td>56.0</td>\n",
       "      <td>22696.96</td>\n",
       "      <td>0</td>\n",
       "    </tr>\n",
       "    <tr>\n",
       "      <td>2</td>\n",
       "      <td>77.0</td>\n",
       "      <td>467.66</td>\n",
       "      <td>86.0</td>\n",
       "      <td>21060.45</td>\n",
       "      <td>0</td>\n",
       "    </tr>\n",
       "    <tr>\n",
       "      <td>3</td>\n",
       "      <td>106.0</td>\n",
       "      <td>745.53</td>\n",
       "      <td>81.0</td>\n",
       "      <td>8437.39</td>\n",
       "      <td>1</td>\n",
       "    </tr>\n",
       "    <tr>\n",
       "      <td>4</td>\n",
       "      <td>66.0</td>\n",
       "      <td>418.74</td>\n",
       "      <td>1.0</td>\n",
       "      <td>14502.75</td>\n",
       "      <td>0</td>\n",
       "    </tr>\n",
       "  </tbody>\n",
       "</table>\n",
       "</div>"
      ],
      "text/plain": [
       "   calls  minutes  messages   mb_used  is_ultra\n",
       "0   40.0   311.90      83.0  19915.42         0\n",
       "1   85.0   516.75      56.0  22696.96         0\n",
       "2   77.0   467.66      86.0  21060.45         0\n",
       "3  106.0   745.53      81.0   8437.39         1\n",
       "4   66.0   418.74       1.0  14502.75         0"
      ]
     },
     "execution_count": 4,
     "metadata": {},
     "output_type": "execute_result"
    }
   ],
   "source": [
    "tarifs = pd.read_csv('/datasets/users_behavior.csv')\n",
    "print(tarifs.info())\n",
    "tarifs.head()"
   ]
  },
  {
   "cell_type": "markdown",
   "metadata": {},
   "source": [
    "Проверим таблицу на дубликаты:"
   ]
  },
  {
   "cell_type": "code",
   "execution_count": 5,
   "metadata": {
    "scrolled": true
   },
   "outputs": [
    {
     "data": {
      "text/plain": [
       "0"
      ]
     },
     "execution_count": 5,
     "metadata": {},
     "output_type": "execute_result"
    }
   ],
   "source": [
    "tarifs.duplicated().sum()"
   ]
  },
  {
   "cell_type": "markdown",
   "metadata": {},
   "source": [
    "Для удобства переведём столбцы с **количеством звонков** и **отправленных сообщений** в целочисленный тип:"
   ]
  },
  {
   "cell_type": "code",
   "execution_count": 6,
   "metadata": {},
   "outputs": [
    {
     "name": "stdout",
     "output_type": "stream",
     "text": [
      "<class 'pandas.core.frame.DataFrame'>\n",
      "RangeIndex: 3214 entries, 0 to 3213\n",
      "Data columns (total 5 columns):\n",
      "calls       3214 non-null int64\n",
      "minutes     3214 non-null float64\n",
      "messages    3214 non-null int64\n",
      "mb_used     3214 non-null float64\n",
      "is_ultra    3214 non-null int64\n",
      "dtypes: float64(2), int64(3)\n",
      "memory usage: 125.7 KB\n"
     ]
    }
   ],
   "source": [
    "tarifs['calls'] = tarifs['calls'].astype(int)\n",
    "tarifs['messages'] = tarifs['messages'].astype(int)\n",
    "tarifs.info()"
   ]
  },
  {
   "cell_type": "markdown",
   "metadata": {},
   "source": [
    "### Вывод\n",
    "В предоставленной таблице 3 214 строк и 5 столбцов.\n",
    "\n",
    "Пропусков в данных нет, дубликатов тоже. Предобработка данных не требуется, однако для удобства анализа мы привели столбцы с данными о количестве звонков и отправленных сообщений к целочисленному типу."
   ]
  },
  {
   "cell_type": "markdown",
   "metadata": {},
   "source": [
    "## Разбиение данных на выборки"
   ]
  },
  {
   "cell_type": "markdown",
   "metadata": {},
   "source": [
    "Сперва выделим целевой признак (выбранный абонентом тариф - \"Ультра\" или \"Смарт\") и влияющие на него признаки (остальные столбцы в таблице):"
   ]
  },
  {
   "cell_type": "code",
   "execution_count": 7,
   "metadata": {},
   "outputs": [
    {
     "name": "stdout",
     "output_type": "stream",
     "text": [
      "(3214,)\n",
      "(3214, 4)\n"
     ]
    }
   ],
   "source": [
    "target = tarifs['is_ultra']\n",
    "features = tarifs.drop('is_ultra', axis = 1)\n",
    "print(target.shape)\n",
    "print(features.shape)"
   ]
  },
  {
   "cell_type": "markdown",
   "metadata": {},
   "source": [
    "Для анализа выделим валидационную и тестовую выборки, по 20% наблюдений в каждой. Оставшиеся 60% данных будут использованы в обучении моделей."
   ]
  },
  {
   "cell_type": "code",
   "execution_count": 8,
   "metadata": {},
   "outputs": [
    {
     "name": "stdout",
     "output_type": "stream",
     "text": [
      "Размер тренировочной выборки: (1928,)\n",
      "Размер валидационной выборки: (643,)\n",
      "Размер тестовой выборки: (643,)\n"
     ]
    }
   ],
   "source": [
    "# сперва выделим 60% обучающих данных:\n",
    "features_train, features_valid_test, target_train, target_valid_test = train_test_split(\n",
    "    features, target, test_size = 0.4, random_state = 12345)\n",
    "# затем оставшиеся 40% разделим на две выборки по 20%:\n",
    "features_valid, features_test, target_valid, target_test = train_test_split(\n",
    "    features_valid_test, target_valid_test, test_size = 0.5, \n",
    "    random_state = 12345)\n",
    "print('Размер тренировочной выборки:', target_train.shape)\n",
    "print('Размер валидационной выборки:', target_valid.shape)\n",
    "print('Размер тестовой выборки:', target_test.shape)"
   ]
  },
  {
   "cell_type": "markdown",
   "metadata": {},
   "source": [
    "### Вывод\n",
    "Мы разбили наш набор данных на тренировочный (1928 наблюдений), на котором и будем обучать модели, валидационный и тестовый (по 643 наблюдения), на которых будем проверять качество моделей. "
   ]
  },
  {
   "cell_type": "markdown",
   "metadata": {},
   "source": [
    "## Исследование моделей"
   ]
  },
  {
   "cell_type": "markdown",
   "metadata": {},
   "source": [
    "Поскольку целевой признак в нашем случае - категориальная переменная, которая принимает два значения, перед нами стоит задача классификации. Для этого будем использовать следующие модели:\n",
    "- дерево решений\n",
    "- случайный лес\n",
    "- логистическую регрессию.\n",
    "\n",
    "Начнём с построения модели **дерева решений**. Подберём оптимальную при различной максимальной глубине дерева - от 1 до 10. Для оценки качества модели будем использовать точность прогнозирования (accuracy) модели на валидационной выборке."
   ]
  },
  {
   "cell_type": "code",
   "execution_count": 9,
   "metadata": {},
   "outputs": [
    {
     "name": "stdout",
     "output_type": "stream",
     "text": [
      "Лучшая модель дерева решений показала точность прогнозирования 78.5% при максимальной глубине дерева, равной 3\n"
     ]
    }
   ],
   "source": [
    "best_tree_model = None\n",
    "best_tree_accuracy = 0\n",
    "best_tree_depth = 0\n",
    "for depth in range(1,11):\n",
    "    model = DecisionTreeClassifier(random_state = 1, max_depth = depth)\n",
    "    model.fit(features_train, target_train)\n",
    "    predictions = model.predict(features_valid)\n",
    "    accuracy = accuracy_score(target_valid, predictions)\n",
    "    if accuracy > best_tree_accuracy:\n",
    "        best_tree_model = model\n",
    "        best_tree_accuracy = accuracy\n",
    "        best_tree_depth = depth\n",
    "print('Лучшая модель дерева решений показала точность прогнозирования ', \n",
    "      best_tree_accuracy.round(3)*100, \n",
    "      '% при максимальной глубине дерева, равной ', best_tree_depth, sep='')"
   ]
  },
  {
   "cell_type": "markdown",
   "metadata": {},
   "source": [
    "Следующей построим модель **случайного леса**. В качестве гиперпараметров зададим диапазон максимальной глубины дерева от 1 до 10, количество деревьев - от 5 до 60 с шагом 5."
   ]
  },
  {
   "cell_type": "code",
   "execution_count": 10,
   "metadata": {},
   "outputs": [
    {
     "name": "stdout",
     "output_type": "stream",
     "text": [
      "Лучшая модель случайного леса показала точность прогнозирования 80.1% при максимальной глубине дерева, равной 10 и количестве деревьев, равном 60\n"
     ]
    }
   ],
   "source": [
    "best_forest_model = None\n",
    "best_forest_accuracy = 0\n",
    "best_forest_depth = 0\n",
    "best_forest_est = 0\n",
    "for depth in range(1,11):\n",
    "    for est in range(5,61,5):\n",
    "        model = RandomForestClassifier(random_state = 1, max_depth = depth, n_estimators = est)\n",
    "        model.fit(features_train, target_train)\n",
    "        predictions = model.predict(features_valid)\n",
    "        accuracy = accuracy_score(target_valid, predictions)\n",
    "        if accuracy > best_tree_accuracy:\n",
    "            best_forest_model = model\n",
    "            best_forest_accuracy = accuracy\n",
    "            best_forest_depth = depth\n",
    "            best_forest_est = est\n",
    "print('Лучшая модель случайного леса показала точность прогнозирования ', \n",
    "      (best_forest_accuracy*100).round(1), \n",
    "      '% при максимальной глубине дерева, равной ', best_forest_depth, \n",
    "      ' и количестве деревьев, равном ', best_forest_est, sep='')"
   ]
  },
  {
   "cell_type": "markdown",
   "metadata": {},
   "source": [
    "Осталось построить модель **логистической регрессии**:"
   ]
  },
  {
   "cell_type": "code",
   "execution_count": 11,
   "metadata": {},
   "outputs": [
    {
     "name": "stdout",
     "output_type": "stream",
     "text": [
      "Модель логистической регрессии показала точность прогнозирования 75.9%\n"
     ]
    },
    {
     "name": "stderr",
     "output_type": "stream",
     "text": [
      "/opt/conda/lib/python3.7/site-packages/sklearn/linear_model/logistic.py:432: FutureWarning: Default solver will be changed to 'lbfgs' in 0.22. Specify a solver to silence this warning.\n",
      "  FutureWarning)\n"
     ]
    }
   ],
   "source": [
    "model = LogisticRegression(random_state = 1)\n",
    "model.fit(features_train, target_train)\n",
    "logistic_accuracy = model.score(features_valid, target_valid)\n",
    "print('Модель логистической регрессии показала точность прогнозирования ', \n",
    "      logistic_accuracy.round(3)*100, '%', sep = '')"
   ]
  },
  {
   "cell_type": "markdown",
   "metadata": {},
   "source": [
    "### Вывод\n",
    "Мы построили 3 вида моделей для классификации пользователей по выбранным тарифам в зависимости от их поведения в течение месяца, которые показали следующую точность прогнозирования на валидационной выборке:\n",
    "- дерево решений с максимальной глубиной 3: 78,5%;\n",
    "- случайный лес с максимальной глубиной дерева 10 и количеством деревьев 60: 80,1%;\n",
    "- логистическая регрессия: 75,9%.\n",
    "\n",
    "Как видим, на валидационной выборке лучше всего работает модель случайного леса. Проверим каждую модель на тестовой выборке."
   ]
  },
  {
   "cell_type": "markdown",
   "metadata": {},
   "source": [
    "## Проверка модели на тестовой выборке"
   ]
  },
  {
   "cell_type": "markdown",
   "metadata": {},
   "source": [
    "Начнём с модели **дерева решений**, максимальная глубина дерева - 3."
   ]
  },
  {
   "cell_type": "code",
   "execution_count": 12,
   "metadata": {},
   "outputs": [
    {
     "name": "stdout",
     "output_type": "stream",
     "text": [
      "Модель дерева решений на тестовой выборке показала точность прогнозирования 77.9%\n"
     ]
    }
   ],
   "source": [
    "tree_model = best_tree_model\n",
    "tree_model.fit(features_train, target_train)\n",
    "tree_predictions = tree_model.predict(features_test)\n",
    "tree_test_accuracy = accuracy_score(target_test, tree_predictions)\n",
    "print('Модель дерева решений на тестовой выборке показала точность прогнозирования ', \n",
    "      tree_test_accuracy.round(3)*100, '%', \n",
    "      sep='')"
   ]
  },
  {
   "cell_type": "markdown",
   "metadata": {},
   "source": [
    "Модель **случайного леса**:"
   ]
  },
  {
   "cell_type": "code",
   "execution_count": 13,
   "metadata": {},
   "outputs": [
    {
     "name": "stdout",
     "output_type": "stream",
     "text": [
      "Модель случайного леса на тестовой выборке показала точность прогнозирования 80.4%\n"
     ]
    }
   ],
   "source": [
    "forest_model = best_forest_model\n",
    "forest_model.fit(features_train, target_train)\n",
    "forest_predictions = forest_model.predict(features_test)\n",
    "forest_test_accuracy = accuracy_score(target_test, forest_predictions)\n",
    "print('Модель случайного леса на тестовой выборке показала точность прогнозирования ',\n",
    "      forest_test_accuracy.round(3)*100, '%', \n",
    "      sep='')"
   ]
  },
  {
   "cell_type": "markdown",
   "metadata": {},
   "source": [
    "Модель **логит-регрессии**:"
   ]
  },
  {
   "cell_type": "code",
   "execution_count": 14,
   "metadata": {},
   "outputs": [
    {
     "name": "stdout",
     "output_type": "stream",
     "text": [
      "Модель логистической регрессии на тестовой выборке показала точность прогнозирования 74.0%\n"
     ]
    },
    {
     "name": "stderr",
     "output_type": "stream",
     "text": [
      "/opt/conda/lib/python3.7/site-packages/sklearn/linear_model/logistic.py:432: FutureWarning: Default solver will be changed to 'lbfgs' in 0.22. Specify a solver to silence this warning.\n",
      "  FutureWarning)\n"
     ]
    }
   ],
   "source": [
    "logit_model = LogisticRegression(random_state = 1)\n",
    "logit_model.fit(features_train, target_train)\n",
    "logistic_test_accuracy = logit_model.score(features_test, target_test)\n",
    "print('Модель логистической регрессии на тестовой выборке показала точность прогнозирования ',\n",
    "      logistic_test_accuracy.round(3)*100, '%', \n",
    "      sep='')"
   ]
  },
  {
   "cell_type": "markdown",
   "metadata": {},
   "source": [
    "### Вывод\n",
    "\n",
    "На тестовой выборке модели дерева решений и логит-регрессии получили результаты точности прогнозирования ниже, чем на валидационной: 77,9% и 74% соответственно. А модель случайного леса напротив, повысила точность прогнозирования: 80,4% на тестовой выборке против 79,8% на валидационной. "
   ]
  },
  {
   "cell_type": "markdown",
   "metadata": {},
   "source": [
    "## Проверка модели на адекватность"
   ]
  },
  {
   "cell_type": "markdown",
   "metadata": {},
   "source": [
    "Воспользуемся функцией classification_report библиотеки sklearn для проверки качества выбранных моделей, которая рассчитывает для каждого класса и модели в целом следующие показатели: \n",
    "\n",
    "*Precision (точность)* - показывает, какая доля объектов, выделенных классификатором в данный класс, действительно принадлежат к данному классу.\n",
    "\n",
    "*Recall (полнота)*  - показывает, какая доля объектов из этого класса выделена классификатором как принадлежащие к данному классу.\n",
    "\n",
    "*F-мера* - гармоническое среднее точности и полноты.\n",
    "\n",
    "Для лучшей модели **дерева решений** classification_report выглядит следующим образом:"
   ]
  },
  {
   "cell_type": "code",
   "execution_count": 15,
   "metadata": {
    "scrolled": true
   },
   "outputs": [
    {
     "name": "stdout",
     "output_type": "stream",
     "text": [
      "              precision    recall  f1-score   support\n",
      "\n",
      "           0       0.79      0.93      0.85       440\n",
      "           1       0.74      0.46      0.57       203\n",
      "\n",
      "    accuracy                           0.78       643\n",
      "   macro avg       0.77      0.69      0.71       643\n",
      "weighted avg       0.77      0.78      0.76       643\n",
      "\n"
     ]
    }
   ],
   "source": [
    "print(classification_report(target_test, tree_predictions))"
   ]
  },
  {
   "cell_type": "markdown",
   "metadata": {},
   "source": [
    "Для лучшей модели **случайного леса**:"
   ]
  },
  {
   "cell_type": "code",
   "execution_count": 16,
   "metadata": {},
   "outputs": [
    {
     "name": "stdout",
     "output_type": "stream",
     "text": [
      "              precision    recall  f1-score   support\n",
      "\n",
      "           0       0.82      0.92      0.87       440\n",
      "           1       0.76      0.56      0.64       203\n",
      "\n",
      "    accuracy                           0.80       643\n",
      "   macro avg       0.79      0.74      0.75       643\n",
      "weighted avg       0.80      0.80      0.79       643\n",
      "\n"
     ]
    }
   ],
   "source": [
    "print(classification_report(target_test, forest_predictions))"
   ]
  },
  {
   "cell_type": "markdown",
   "metadata": {},
   "source": [
    "Для **логит-регрессии**."
   ]
  },
  {
   "cell_type": "code",
   "execution_count": 17,
   "metadata": {
    "scrolled": true
   },
   "outputs": [
    {
     "name": "stdout",
     "output_type": "stream",
     "text": [
      "              precision    recall  f1-score   support\n",
      "\n",
      "           0       0.73      0.98      0.84       440\n",
      "           1       0.82      0.23      0.36       203\n",
      "\n",
      "    accuracy                           0.74       643\n",
      "   macro avg       0.78      0.60      0.60       643\n",
      "weighted avg       0.76      0.74      0.69       643\n",
      "\n"
     ]
    }
   ],
   "source": [
    "print(classification_report(target_test, logit_model.predict(features_test)))"
   ]
  },
  {
   "cell_type": "markdown",
   "metadata": {},
   "source": [
    "Сравним результаты построенных моделей с константной, полученной с помощью DummyClassifier, в качестве стратегии будет использована мода целевого признака."
   ]
  },
  {
   "cell_type": "code",
   "execution_count": 36,
   "metadata": {},
   "outputs": [
    {
     "name": "stdout",
     "output_type": "stream",
     "text": [
      "Точность предсказания фиктивного классификатора: 68.0%\n"
     ]
    }
   ],
   "source": [
    "dummy_clf = DummyClassifier(strategy=\"most_frequent\", random_state=0)\n",
    "dummy_clf.fit(features_train, target_train)\n",
    "dummy_clf.predict(features_test)\n",
    "print('Точность предсказания фиктивного классификатора: ',\n",
    "      dummy_clf.score(features_test, target_test).round(2)*100, '%', sep='')"
   ]
  },
  {
   "cell_type": "markdown",
   "metadata": {},
   "source": [
    "Сравнение протестированных моделей с фиктивным классификатором свидетельствует об адекватности всех 3х рассмотреных моделей, поскольку их accuracy превышает точность фиктивного классификатора (однако, не намного)."
   ]
  },
  {
   "cell_type": "markdown",
   "metadata": {},
   "source": [
    "Как видим из отчётов, все три модели имеют достаточно низкие ошибки классификации: средневзвешенный показатель F1 для дерева решений равен 76%, для случайного леса - 79%, для логистической регрессии - 69%. Точность и полнота для всех моделей превышает 73%. И снова можно убедиться в том, что качество модели случайного леса выше, чем у двух других."
   ]
  },
  {
   "cell_type": "markdown",
   "metadata": {},
   "source": [
    "# Вывод\n",
    "\n",
    "Для задачи классификации тарифов в зависимости от поведения пользователя было построено 3 модели:\n",
    "- дерево решений;\n",
    "- случайный лес;\n",
    "- логит-регрессия.\n",
    "\n",
    "Лучшую точность прогнозирования как на валидационной, так и на тестовой выборке, показала модель случайного леса со следующими параметрами: количество деревьев - 60, максимальная высота дерева - 10. Бизнесом поставлена задача - достичь точности прогнозирования на тестовой выборке не менее 75%. Выбранная модель верно предсказала выбор тарифа пользователем на тестовых данных в 80,4% случаев.\n",
    "\n",
    "Все модели проверены с помощью метрик качества и имеют досточно низкий процент ошибок классификатора. Сравнение с фиктивным классификатором свидетельствует об адекватности всех рассмотренных моделей.\n",
    "\n",
    "**Таким образом, можно рекомендовать оператору использовать выбранную модель случайного леса для выработки предложений клиентам, использующим архивные тарифы.**"
   ]
  }
 ],
 "metadata": {
  "ExecuteTimeLog": [
   {
    "duration": 5487,
    "start_time": "2021-08-19T04:29:35.583Z"
   },
   {
    "duration": 4224,
    "start_time": "2021-08-19T04:30:26.436Z"
   },
   {
    "duration": 46,
    "start_time": "2021-08-19T04:31:00.483Z"
   },
   {
    "duration": 10,
    "start_time": "2021-08-19T04:32:53.098Z"
   },
   {
    "duration": 6,
    "start_time": "2021-08-19T04:35:23.961Z"
   },
   {
    "duration": 11,
    "start_time": "2021-08-19T04:35:37.902Z"
   },
   {
    "duration": 283,
    "start_time": "2021-08-19T04:49:16.577Z"
   },
   {
    "duration": 293,
    "start_time": "2021-08-19T04:50:21.582Z"
   },
   {
    "duration": 8,
    "start_time": "2021-08-19T04:50:56.600Z"
   },
   {
    "duration": 6,
    "start_time": "2021-08-19T04:51:09.756Z"
   },
   {
    "duration": 993,
    "start_time": "2021-08-19T04:56:26.691Z"
   },
   {
    "duration": 36,
    "start_time": "2021-08-19T04:56:49.725Z"
   },
   {
    "duration": 19,
    "start_time": "2021-08-19T05:05:58.701Z"
   },
   {
    "duration": 14,
    "start_time": "2021-08-19T05:06:17.964Z"
   },
   {
    "duration": 280,
    "start_time": "2021-08-19T05:22:38.413Z"
   },
   {
    "duration": 37,
    "start_time": "2021-08-19T05:23:24.184Z"
   },
   {
    "duration": 76,
    "start_time": "2021-08-19T05:23:29.370Z"
   },
   {
    "duration": 185,
    "start_time": "2021-08-19T05:23:38.673Z"
   },
   {
    "duration": 77,
    "start_time": "2021-08-19T05:23:44.645Z"
   },
   {
    "duration": 76,
    "start_time": "2021-08-19T05:23:56.284Z"
   },
   {
    "duration": 77,
    "start_time": "2021-08-19T05:24:00.349Z"
   },
   {
    "duration": 76,
    "start_time": "2021-08-19T05:24:14.181Z"
   },
   {
    "duration": 74,
    "start_time": "2021-08-19T05:24:21.445Z"
   },
   {
    "duration": 35,
    "start_time": "2021-08-19T05:24:49.571Z"
   },
   {
    "duration": 78,
    "start_time": "2021-08-19T05:25:05.805Z"
   },
   {
    "duration": 77,
    "start_time": "2021-08-19T05:26:13.089Z"
   },
   {
    "duration": 80,
    "start_time": "2021-08-19T05:26:47.420Z"
   },
   {
    "duration": 79,
    "start_time": "2021-08-19T05:26:58.357Z"
   },
   {
    "duration": 77,
    "start_time": "2021-08-19T05:27:03.955Z"
   },
   {
    "duration": 82,
    "start_time": "2021-08-19T05:27:10.525Z"
   },
   {
    "duration": 79,
    "start_time": "2021-08-19T05:27:14.513Z"
   },
   {
    "duration": 103,
    "start_time": "2021-08-19T05:27:19.527Z"
   },
   {
    "duration": 80,
    "start_time": "2021-08-19T05:27:28.665Z"
   },
   {
    "duration": 357,
    "start_time": "2021-08-19T05:27:35.365Z"
   },
   {
    "duration": 97,
    "start_time": "2021-08-19T05:27:41.196Z"
   },
   {
    "duration": 755,
    "start_time": "2021-08-19T05:29:25.151Z"
   },
   {
    "duration": 76,
    "start_time": "2021-08-19T05:29:38.443Z"
   },
   {
    "duration": 76,
    "start_time": "2021-08-19T05:29:45.442Z"
   },
   {
    "duration": 77,
    "start_time": "2021-08-19T05:29:55.036Z"
   },
   {
    "duration": 89,
    "start_time": "2021-08-19T05:30:01.488Z"
   },
   {
    "duration": 79,
    "start_time": "2021-08-19T05:30:22.146Z"
   },
   {
    "duration": 81,
    "start_time": "2021-08-19T05:32:04.884Z"
   },
   {
    "duration": 7987,
    "start_time": "2021-08-19T05:45:56.414Z"
   },
   {
    "duration": 7730,
    "start_time": "2021-08-19T05:46:21.557Z"
   },
   {
    "duration": 27,
    "start_time": "2021-08-19T05:50:04.623Z"
   },
   {
    "duration": 25,
    "start_time": "2021-08-19T05:50:33.333Z"
   },
   {
    "duration": 13,
    "start_time": "2021-08-19T05:59:28.889Z"
   },
   {
    "duration": 13,
    "start_time": "2021-08-19T05:59:49.631Z"
   },
   {
    "duration": 13,
    "start_time": "2021-08-19T05:59:56.432Z"
   },
   {
    "duration": 200,
    "start_time": "2021-08-19T06:01:52.156Z"
   },
   {
    "duration": 38,
    "start_time": "2021-08-19T06:02:12.698Z"
   },
   {
    "duration": 9,
    "start_time": "2021-08-19T06:02:12.738Z"
   },
   {
    "duration": 11,
    "start_time": "2021-08-19T06:02:12.750Z"
   },
   {
    "duration": 6,
    "start_time": "2021-08-19T06:02:12.764Z"
   },
   {
    "duration": 36,
    "start_time": "2021-08-19T06:02:12.773Z"
   },
   {
    "duration": 93,
    "start_time": "2021-08-19T06:02:12.812Z"
   },
   {
    "duration": 7942,
    "start_time": "2021-08-19T06:02:12.907Z"
   },
   {
    "duration": 25,
    "start_time": "2021-08-19T06:02:20.853Z"
   },
   {
    "duration": 28,
    "start_time": "2021-08-19T06:02:20.880Z"
   },
   {
    "duration": 215,
    "start_time": "2021-08-19T06:02:20.911Z"
   },
   {
    "duration": 12,
    "start_time": "2021-08-19T06:02:47.101Z"
   },
   {
    "duration": 197,
    "start_time": "2021-08-19T06:03:02.633Z"
   },
   {
    "duration": 196,
    "start_time": "2021-08-19T06:03:25.405Z"
   },
   {
    "duration": 25,
    "start_time": "2021-08-19T06:04:12.528Z"
   },
   {
    "duration": 33,
    "start_time": "2021-08-19T06:04:21.726Z"
   },
   {
    "duration": 43908,
    "start_time": "2021-08-19T06:05:22.921Z"
   },
   {
    "duration": 15283,
    "start_time": "2021-08-19T06:07:12.055Z"
   },
   {
    "duration": 5233,
    "start_time": "2021-08-19T06:08:18.031Z"
   },
   {
    "duration": 13106,
    "start_time": "2021-08-19T06:09:41.085Z"
   },
   {
    "duration": 252,
    "start_time": "2021-08-19T06:10:38.726Z"
   },
   {
    "duration": 405,
    "start_time": "2021-08-19T06:12:59.309Z"
   },
   {
    "duration": 26,
    "start_time": "2021-08-19T06:14:02.716Z"
   },
   {
    "duration": 76,
    "start_time": "2021-08-19T06:19:43.409Z"
   },
   {
    "duration": 36,
    "start_time": "2021-08-19T06:19:47.572Z"
   },
   {
    "duration": 8,
    "start_time": "2021-08-19T06:19:47.611Z"
   },
   {
    "duration": 16,
    "start_time": "2021-08-19T06:19:47.622Z"
   },
   {
    "duration": 15,
    "start_time": "2021-08-19T06:19:47.641Z"
   },
   {
    "duration": 19,
    "start_time": "2021-08-19T06:19:47.658Z"
   },
   {
    "duration": 77,
    "start_time": "2021-08-19T06:19:47.700Z"
   },
   {
    "duration": 13125,
    "start_time": "2021-08-19T06:19:47.780Z"
   },
   {
    "duration": 25,
    "start_time": "2021-08-19T06:20:00.907Z"
   },
   {
    "duration": 12,
    "start_time": "2021-08-19T06:20:00.936Z"
   },
   {
    "duration": 295,
    "start_time": "2021-08-19T06:20:00.951Z"
   },
   {
    "duration": 34,
    "start_time": "2021-08-19T06:20:01.249Z"
   },
   {
    "duration": 13818,
    "start_time": "2021-08-19T06:21:56.716Z"
   },
   {
    "duration": 12986,
    "start_time": "2021-08-19T06:22:32.951Z"
   },
   {
    "duration": 340,
    "start_time": "2021-08-19T06:53:45.091Z"
   },
   {
    "duration": 38,
    "start_time": "2021-08-19T06:53:51.456Z"
   },
   {
    "duration": 280,
    "start_time": "2021-08-19T06:53:57.976Z"
   },
   {
    "duration": 306,
    "start_time": "2021-08-19T06:54:11.252Z"
   },
   {
    "duration": 361,
    "start_time": "2021-08-19T06:54:16.812Z"
   },
   {
    "duration": 10,
    "start_time": "2021-08-19T06:54:28.236Z"
   },
   {
    "duration": 10,
    "start_time": "2021-08-19T06:55:09.519Z"
   },
   {
    "duration": 336,
    "start_time": "2021-08-19T06:56:09.524Z"
   },
   {
    "duration": 328,
    "start_time": "2021-08-19T06:56:40.103Z"
   },
   {
    "duration": 8,
    "start_time": "2021-08-19T06:57:15.872Z"
   },
   {
    "duration": 9,
    "start_time": "2021-08-19T06:57:28.580Z"
   },
   {
    "duration": 7,
    "start_time": "2021-08-19T06:57:51.855Z"
   },
   {
    "duration": 11,
    "start_time": "2021-08-19T06:58:11.836Z"
   },
   {
    "duration": 65,
    "start_time": "2021-08-19T07:06:32.089Z"
   },
   {
    "duration": 13,
    "start_time": "2021-08-19T07:06:38.671Z"
   },
   {
    "duration": 21,
    "start_time": "2021-08-19T07:07:00.491Z"
   },
   {
    "duration": 17,
    "start_time": "2021-08-19T07:07:19.615Z"
   },
   {
    "duration": 13,
    "start_time": "2021-08-19T07:22:49.562Z"
   },
   {
    "duration": 1493,
    "start_time": "2021-08-19T07:35:34.300Z"
   },
   {
    "duration": 18,
    "start_time": "2021-08-19T07:35:35.795Z"
   },
   {
    "duration": 12,
    "start_time": "2021-08-19T07:35:35.817Z"
   },
   {
    "duration": 15,
    "start_time": "2021-08-19T07:35:35.833Z"
   },
   {
    "duration": 16,
    "start_time": "2021-08-19T07:35:35.851Z"
   },
   {
    "duration": 114,
    "start_time": "2021-08-19T07:35:35.869Z"
   },
   {
    "duration": 13805,
    "start_time": "2021-08-19T07:35:36.006Z"
   },
   {
    "duration": 27,
    "start_time": "2021-08-19T07:35:49.817Z"
   },
   {
    "duration": 12,
    "start_time": "2021-08-19T07:35:49.847Z"
   },
   {
    "duration": 308,
    "start_time": "2021-08-19T07:35:49.861Z"
   },
   {
    "duration": 44,
    "start_time": "2021-08-19T07:35:50.172Z"
   },
   {
    "duration": 10,
    "start_time": "2021-08-19T07:35:50.219Z"
   },
   {
    "duration": 14,
    "start_time": "2021-08-19T07:35:50.231Z"
   },
   {
    "duration": 21,
    "start_time": "2021-08-19T07:35:50.247Z"
   },
   {
    "duration": 26,
    "start_time": "2021-08-19T07:43:33.736Z"
   },
   {
    "duration": 975,
    "start_time": "2021-08-19T10:13:45.779Z"
   },
   {
    "duration": 328,
    "start_time": "2021-08-19T10:17:51.915Z"
   },
   {
    "duration": 4,
    "start_time": "2021-08-19T10:18:00.139Z"
   },
   {
    "duration": 42,
    "start_time": "2021-08-19T10:18:00.144Z"
   },
   {
    "duration": 6,
    "start_time": "2021-08-19T10:18:00.188Z"
   },
   {
    "duration": 30,
    "start_time": "2021-08-19T10:18:00.195Z"
   },
   {
    "duration": 11,
    "start_time": "2021-08-19T10:18:00.227Z"
   },
   {
    "duration": 23,
    "start_time": "2021-08-19T10:18:00.240Z"
   },
   {
    "duration": 60,
    "start_time": "2021-08-19T10:18:00.265Z"
   },
   {
    "duration": 8273,
    "start_time": "2021-08-19T10:18:00.328Z"
   },
   {
    "duration": 13,
    "start_time": "2021-08-19T10:18:08.603Z"
   },
   {
    "duration": 25,
    "start_time": "2021-08-19T10:18:08.618Z"
   },
   {
    "duration": 185,
    "start_time": "2021-08-19T10:18:08.644Z"
   },
   {
    "duration": 18,
    "start_time": "2021-08-19T10:18:08.830Z"
   },
   {
    "duration": 7,
    "start_time": "2021-08-19T10:18:08.849Z"
   },
   {
    "duration": 7,
    "start_time": "2021-08-19T10:18:08.858Z"
   },
   {
    "duration": 8,
    "start_time": "2021-08-19T10:18:08.866Z"
   },
   {
    "duration": 5,
    "start_time": "2021-08-19T10:18:08.875Z"
   },
   {
    "duration": 5,
    "start_time": "2021-08-19T10:19:44.696Z"
   },
   {
    "duration": 6,
    "start_time": "2021-08-19T10:20:11.628Z"
   },
   {
    "duration": 5,
    "start_time": "2021-08-19T10:20:17.082Z"
   },
   {
    "duration": 6,
    "start_time": "2021-08-19T10:20:29.711Z"
   },
   {
    "duration": 6,
    "start_time": "2021-08-19T10:21:06.241Z"
   },
   {
    "duration": 6,
    "start_time": "2021-08-19T10:21:38.459Z"
   },
   {
    "duration": 6,
    "start_time": "2021-08-19T10:30:55.080Z"
   },
   {
    "duration": 5,
    "start_time": "2021-08-19T10:31:12.453Z"
   },
   {
    "duration": 7,
    "start_time": "2021-08-19T10:31:20.519Z"
   },
   {
    "duration": 257,
    "start_time": "2021-08-19T10:31:28.578Z"
   },
   {
    "duration": 6,
    "start_time": "2021-08-19T10:31:55.131Z"
   },
   {
    "duration": 6,
    "start_time": "2021-08-19T10:35:21.287Z"
   },
   {
    "duration": 7,
    "start_time": "2021-08-19T10:40:15.342Z"
   },
   {
    "duration": 6,
    "start_time": "2021-08-19T10:40:24.500Z"
   },
   {
    "duration": 6,
    "start_time": "2021-08-19T10:41:56.379Z"
   },
   {
    "duration": 6,
    "start_time": "2021-08-19T10:42:22.639Z"
   },
   {
    "duration": 5,
    "start_time": "2021-08-19T10:42:40.361Z"
   },
   {
    "duration": 6,
    "start_time": "2021-08-19T10:50:00.661Z"
   }
  ],
  "kernelspec": {
   "display_name": "Python 3",
   "language": "python",
   "name": "python3"
  },
  "language_info": {
   "codemirror_mode": {
    "name": "ipython",
    "version": 3
   },
   "file_extension": ".py",
   "mimetype": "text/x-python",
   "name": "python",
   "nbconvert_exporter": "python",
   "pygments_lexer": "ipython3",
   "version": "3.8.2"
  },
  "toc": {
   "base_numbering": 1,
   "nav_menu": {},
   "number_sections": true,
   "sideBar": true,
   "skip_h1_title": true,
   "title_cell": "Table of Contents",
   "title_sidebar": "Contents",
   "toc_cell": false,
   "toc_position": {},
   "toc_section_display": true,
   "toc_window_display": false
  }
 },
 "nbformat": 4,
 "nbformat_minor": 2
}
