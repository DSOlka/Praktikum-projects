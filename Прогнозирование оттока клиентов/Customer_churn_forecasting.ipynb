{
 "cells": [
  {
   "cell_type": "markdown",
   "metadata": {
    "toc": true
   },
   "source": [
    "<h1>Содержание<span class=\"tocSkip\"></span></h1>\n",
    "<div class=\"toc\"><ul class=\"toc-item\"><li><span><a href=\"#Подготовка-данных\" data-toc-modified-id=\"Подготовка-данных-1\"><span class=\"toc-item-num\">1&nbsp;&nbsp;</span>Подготовка данных</a></span><ul class=\"toc-item\"><li><span><a href=\"#Вывод\" data-toc-modified-id=\"Вывод-1.1\"><span class=\"toc-item-num\">1.1&nbsp;&nbsp;</span>Вывод</a></span></li></ul></li><li><span><a href=\"#Исследование-задачи\" data-toc-modified-id=\"Исследование-задачи-2\"><span class=\"toc-item-num\">2&nbsp;&nbsp;</span>Исследование задачи</a></span><ul class=\"toc-item\"><li><span><a href=\"#Вывод\" data-toc-modified-id=\"Вывод-2.1\"><span class=\"toc-item-num\">2.1&nbsp;&nbsp;</span>Вывод</a></span></li></ul></li><li><span><a href=\"#Борьба-с-дисбалансом\" data-toc-modified-id=\"Борьба-с-дисбалансом-3\"><span class=\"toc-item-num\">3&nbsp;&nbsp;</span>Борьба с дисбалансом</a></span></li><li><span><a href=\"#Тестирование-модели\" data-toc-modified-id=\"Тестирование-модели-4\"><span class=\"toc-item-num\">4&nbsp;&nbsp;</span>Тестирование модели</a></li></ul></div>"
   ]
  },
  {
   "cell_type": "markdown",
   "metadata": {},
   "source": [
    "# Прогнозирование оттока клиентов"
   ]
  },
  {
   "cell_type": "markdown",
   "metadata": {},
   "source": [
    "**Цель проекта**: разработка модели прогнозирования оттока клиентов банка на основе исторических данных о поведении клиентов и расторжении договоров с банком. Минимально необходимая для модели метрика F1  - 0,59. \n",
    "\n",
    "**Основные этапы проекта**:\n",
    "\n",
    "- Изучение и предобработка предоставленных данных\n",
    "- Разбиение данных на выборки, нормализация количественных данных\n",
    "- Выбор и построение моделей классификации (дерево решений, случайный лес, логистическая регрессия) без учёта дисбаланса классов\n",
    "- Исследование дисбаланса классов, корректировка моделей с учётом дисбаланса\n",
    "- Проверка лучших моделей на тестовой выборке, анализ итоговых метрик\n",
    "- Общий вывод и рекомендации\n",
    "\n",
    "**Датасет содержит следующие данные**:\n",
    "- RowNumber — индекс строки в данных\n",
    "- CustomerId — уникальный идентификатор клиента\n",
    "- Surname — фамилия\n",
    "- CreditScore — кредитный рейтинг\n",
    "- Geography — страна проживания\n",
    "- Gender — пол\n",
    "- Age — возраст\n",
    "- Tenure — сколько лет человек является клиентом банка\n",
    "- Balance — баланс на счёте\n",
    "- NumOfProducts — количество продуктов банка, используемых клиентом\n",
    "- HasCrCard — наличие кредитной карты\n",
    "- IsActiveMember — активность клиента\n",
    "- EstimatedSalary — предполагаемая зарплата"
   ]
  },
  {
   "cell_type": "markdown",
   "metadata": {},
   "source": [
    "## Подготовка данных"
   ]
  },
  {
   "cell_type": "code",
   "execution_count": 2,
   "metadata": {
    "scrolled": true
   },
   "outputs": [
    {
     "name": "stdout",
     "output_type": "stream",
     "text": [
      "<class 'pandas.core.frame.DataFrame'>\n",
      "RangeIndex: 10000 entries, 0 to 9999\n",
      "Data columns (total 14 columns):\n",
      " #   Column           Non-Null Count  Dtype  \n",
      "---  ------           --------------  -----  \n",
      " 0   RowNumber        10000 non-null  int64  \n",
      " 1   CustomerId       10000 non-null  int64  \n",
      " 2   Surname          10000 non-null  object \n",
      " 3   CreditScore      10000 non-null  int64  \n",
      " 4   Geography        10000 non-null  object \n",
      " 5   Gender           10000 non-null  object \n",
      " 6   Age              10000 non-null  int64  \n",
      " 7   Tenure           9091 non-null   float64\n",
      " 8   Balance          10000 non-null  float64\n",
      " 9   NumOfProducts    10000 non-null  int64  \n",
      " 10  HasCrCard        10000 non-null  int64  \n",
      " 11  IsActiveMember   10000 non-null  int64  \n",
      " 12  EstimatedSalary  10000 non-null  float64\n",
      " 13  Exited           10000 non-null  int64  \n",
      "dtypes: float64(3), int64(8), object(3)\n",
      "memory usage: 1.1+ MB\n",
      "None\n"
     ]
    },
    {
     "data": {
      "text/html": [
       "<div>\n",
       "<style scoped>\n",
       "    .dataframe tbody tr th:only-of-type {\n",
       "        vertical-align: middle;\n",
       "    }\n",
       "\n",
       "    .dataframe tbody tr th {\n",
       "        vertical-align: top;\n",
       "    }\n",
       "\n",
       "    .dataframe thead th {\n",
       "        text-align: right;\n",
       "    }\n",
       "</style>\n",
       "<table border=\"1\" class=\"dataframe\">\n",
       "  <thead>\n",
       "    <tr style=\"text-align: right;\">\n",
       "      <th></th>\n",
       "      <th>RowNumber</th>\n",
       "      <th>CustomerId</th>\n",
       "      <th>Surname</th>\n",
       "      <th>CreditScore</th>\n",
       "      <th>Geography</th>\n",
       "      <th>Gender</th>\n",
       "      <th>Age</th>\n",
       "      <th>Tenure</th>\n",
       "      <th>Balance</th>\n",
       "      <th>NumOfProducts</th>\n",
       "      <th>HasCrCard</th>\n",
       "      <th>IsActiveMember</th>\n",
       "      <th>EstimatedSalary</th>\n",
       "      <th>Exited</th>\n",
       "    </tr>\n",
       "  </thead>\n",
       "  <tbody>\n",
       "    <tr>\n",
       "      <th>0</th>\n",
       "      <td>1</td>\n",
       "      <td>15634602</td>\n",
       "      <td>Hargrave</td>\n",
       "      <td>619</td>\n",
       "      <td>France</td>\n",
       "      <td>Female</td>\n",
       "      <td>42</td>\n",
       "      <td>2.0</td>\n",
       "      <td>0.00</td>\n",
       "      <td>1</td>\n",
       "      <td>1</td>\n",
       "      <td>1</td>\n",
       "      <td>101348.88</td>\n",
       "      <td>1</td>\n",
       "    </tr>\n",
       "    <tr>\n",
       "      <th>1</th>\n",
       "      <td>2</td>\n",
       "      <td>15647311</td>\n",
       "      <td>Hill</td>\n",
       "      <td>608</td>\n",
       "      <td>Spain</td>\n",
       "      <td>Female</td>\n",
       "      <td>41</td>\n",
       "      <td>1.0</td>\n",
       "      <td>83807.86</td>\n",
       "      <td>1</td>\n",
       "      <td>0</td>\n",
       "      <td>1</td>\n",
       "      <td>112542.58</td>\n",
       "      <td>0</td>\n",
       "    </tr>\n",
       "    <tr>\n",
       "      <th>2</th>\n",
       "      <td>3</td>\n",
       "      <td>15619304</td>\n",
       "      <td>Onio</td>\n",
       "      <td>502</td>\n",
       "      <td>France</td>\n",
       "      <td>Female</td>\n",
       "      <td>42</td>\n",
       "      <td>8.0</td>\n",
       "      <td>159660.80</td>\n",
       "      <td>3</td>\n",
       "      <td>1</td>\n",
       "      <td>0</td>\n",
       "      <td>113931.57</td>\n",
       "      <td>1</td>\n",
       "    </tr>\n",
       "    <tr>\n",
       "      <th>3</th>\n",
       "      <td>4</td>\n",
       "      <td>15701354</td>\n",
       "      <td>Boni</td>\n",
       "      <td>699</td>\n",
       "      <td>France</td>\n",
       "      <td>Female</td>\n",
       "      <td>39</td>\n",
       "      <td>1.0</td>\n",
       "      <td>0.00</td>\n",
       "      <td>2</td>\n",
       "      <td>0</td>\n",
       "      <td>0</td>\n",
       "      <td>93826.63</td>\n",
       "      <td>0</td>\n",
       "    </tr>\n",
       "    <tr>\n",
       "      <th>4</th>\n",
       "      <td>5</td>\n",
       "      <td>15737888</td>\n",
       "      <td>Mitchell</td>\n",
       "      <td>850</td>\n",
       "      <td>Spain</td>\n",
       "      <td>Female</td>\n",
       "      <td>43</td>\n",
       "      <td>2.0</td>\n",
       "      <td>125510.82</td>\n",
       "      <td>1</td>\n",
       "      <td>1</td>\n",
       "      <td>1</td>\n",
       "      <td>79084.10</td>\n",
       "      <td>0</td>\n",
       "    </tr>\n",
       "  </tbody>\n",
       "</table>\n",
       "</div>"
      ],
      "text/plain": [
       "   RowNumber  CustomerId   Surname  CreditScore Geography  Gender  Age  \\\n",
       "0          1    15634602  Hargrave          619    France  Female   42   \n",
       "1          2    15647311      Hill          608     Spain  Female   41   \n",
       "2          3    15619304      Onio          502    France  Female   42   \n",
       "3          4    15701354      Boni          699    France  Female   39   \n",
       "4          5    15737888  Mitchell          850     Spain  Female   43   \n",
       "\n",
       "   Tenure    Balance  NumOfProducts  HasCrCard  IsActiveMember  \\\n",
       "0     2.0       0.00              1          1               1   \n",
       "1     1.0   83807.86              1          0               1   \n",
       "2     8.0  159660.80              3          1               0   \n",
       "3     1.0       0.00              2          0               0   \n",
       "4     2.0  125510.82              1          1               1   \n",
       "\n",
       "   EstimatedSalary  Exited  \n",
       "0        101348.88       1  \n",
       "1        112542.58       0  \n",
       "2        113931.57       1  \n",
       "3         93826.63       0  \n",
       "4         79084.10       0  "
      ]
     },
     "execution_count": 2,
     "metadata": {},
     "output_type": "execute_result"
    }
   ],
   "source": [
    "import pandas as pd\n",
    "import matplotlib.pyplot as plt\n",
    "from sklearn.preprocessing import StandardScaler \n",
    "from sklearn.model_selection import train_test_split, GridSearchCV\n",
    "from sklearn.tree import DecisionTreeClassifier\n",
    "from sklearn.ensemble import RandomForestClassifier\n",
    "from sklearn.linear_model import LogisticRegression\n",
    "from sklearn.metrics import f1_score, roc_curve, roc_auc_score, classification_report\n",
    "import numpy as np\n",
    "from sklearn.utils import shuffle\n",
    "\n",
    "churn = pd.read_csv('/Churn.csv')\n",
    "print(churn.info())\n",
    "churn.head()"
   ]
  },
  {
   "cell_type": "markdown",
   "metadata": {},
   "source": [
    "Типы данных столбцам в основном присвоены оптимально, однако в столбце `Tenure` с данными о том, сколько лет клиент обслуживается в банке, тип лучше заменить на целочисленный. В этом же столбце имеется 909 пропусков, которые необходимо обработать. Первые три столбца с номером, ID клиента и его фамилией персонализированы и не влияют на вероятность ухода клиента, предлагается исключить их из дальнейшего рассмотрения. \n",
    "\n",
    "Но сперва проверим таблицу на наличие явных дубликатов:"
   ]
  },
  {
   "cell_type": "code",
   "execution_count": 3,
   "metadata": {},
   "outputs": [
    {
     "data": {
      "text/plain": [
       "0"
      ]
     },
     "execution_count": 3,
     "metadata": {},
     "output_type": "execute_result"
    }
   ],
   "source": [
    "churn.duplicated().sum()"
   ]
  },
  {
   "cell_type": "markdown",
   "metadata": {},
   "source": [
    "Дубликатов нет. Удалим первые 3 столбца:"
   ]
  },
  {
   "cell_type": "code",
   "execution_count": 4,
   "metadata": {},
   "outputs": [
    {
     "data": {
      "text/html": [
       "<div>\n",
       "<style scoped>\n",
       "    .dataframe tbody tr th:only-of-type {\n",
       "        vertical-align: middle;\n",
       "    }\n",
       "\n",
       "    .dataframe tbody tr th {\n",
       "        vertical-align: top;\n",
       "    }\n",
       "\n",
       "    .dataframe thead th {\n",
       "        text-align: right;\n",
       "    }\n",
       "</style>\n",
       "<table border=\"1\" class=\"dataframe\">\n",
       "  <thead>\n",
       "    <tr style=\"text-align: right;\">\n",
       "      <th></th>\n",
       "      <th>CreditScore</th>\n",
       "      <th>Geography</th>\n",
       "      <th>Gender</th>\n",
       "      <th>Age</th>\n",
       "      <th>Tenure</th>\n",
       "      <th>Balance</th>\n",
       "      <th>NumOfProducts</th>\n",
       "      <th>HasCrCard</th>\n",
       "      <th>IsActiveMember</th>\n",
       "      <th>EstimatedSalary</th>\n",
       "      <th>Exited</th>\n",
       "    </tr>\n",
       "  </thead>\n",
       "  <tbody>\n",
       "    <tr>\n",
       "      <th>0</th>\n",
       "      <td>619</td>\n",
       "      <td>France</td>\n",
       "      <td>Female</td>\n",
       "      <td>42</td>\n",
       "      <td>2.0</td>\n",
       "      <td>0.00</td>\n",
       "      <td>1</td>\n",
       "      <td>1</td>\n",
       "      <td>1</td>\n",
       "      <td>101348.88</td>\n",
       "      <td>1</td>\n",
       "    </tr>\n",
       "    <tr>\n",
       "      <th>1</th>\n",
       "      <td>608</td>\n",
       "      <td>Spain</td>\n",
       "      <td>Female</td>\n",
       "      <td>41</td>\n",
       "      <td>1.0</td>\n",
       "      <td>83807.86</td>\n",
       "      <td>1</td>\n",
       "      <td>0</td>\n",
       "      <td>1</td>\n",
       "      <td>112542.58</td>\n",
       "      <td>0</td>\n",
       "    </tr>\n",
       "    <tr>\n",
       "      <th>2</th>\n",
       "      <td>502</td>\n",
       "      <td>France</td>\n",
       "      <td>Female</td>\n",
       "      <td>42</td>\n",
       "      <td>8.0</td>\n",
       "      <td>159660.80</td>\n",
       "      <td>3</td>\n",
       "      <td>1</td>\n",
       "      <td>0</td>\n",
       "      <td>113931.57</td>\n",
       "      <td>1</td>\n",
       "    </tr>\n",
       "  </tbody>\n",
       "</table>\n",
       "</div>"
      ],
      "text/plain": [
       "   CreditScore Geography  Gender  Age  Tenure    Balance  NumOfProducts  \\\n",
       "0          619    France  Female   42     2.0       0.00              1   \n",
       "1          608     Spain  Female   41     1.0   83807.86              1   \n",
       "2          502    France  Female   42     8.0  159660.80              3   \n",
       "\n",
       "   HasCrCard  IsActiveMember  EstimatedSalary  Exited  \n",
       "0          1               1        101348.88       1  \n",
       "1          0               1        112542.58       0  \n",
       "2          1               0        113931.57       1  "
      ]
     },
     "execution_count": 4,
     "metadata": {},
     "output_type": "execute_result"
    }
   ],
   "source": [
    "churn = churn.drop(churn.iloc[:, 0:3], axis=1)\n",
    "churn.head(3)"
   ]
  },
  {
   "cell_type": "markdown",
   "metadata": {},
   "source": [
    "Рассмотрим параметры клиентов в каждом столбце подробнее.\n",
    "\n",
    "**Кредитный рейтинг**: "
   ]
  },
  {
   "cell_type": "code",
   "execution_count": 5,
   "metadata": {},
   "outputs": [
    {
     "data": {
      "text/plain": [
       "count    10000.000000\n",
       "mean       650.528800\n",
       "std         96.653299\n",
       "min        350.000000\n",
       "25%        584.000000\n",
       "50%        652.000000\n",
       "75%        718.000000\n",
       "max        850.000000\n",
       "Name: CreditScore, dtype: float64"
      ]
     },
     "execution_count": 5,
     "metadata": {},
     "output_type": "execute_result"
    }
   ],
   "source": [
    "churn['CreditScore'].describe()"
   ]
  },
  {
   "cell_type": "markdown",
   "metadata": {},
   "source": [
    "**Страна проживания**: "
   ]
  },
  {
   "cell_type": "code",
   "execution_count": 6,
   "metadata": {
    "scrolled": false
   },
   "outputs": [
    {
     "data": {
      "text/plain": [
       "France     5014\n",
       "Germany    2509\n",
       "Spain      2477\n",
       "Name: Geography, dtype: int64"
      ]
     },
     "execution_count": 6,
     "metadata": {},
     "output_type": "execute_result"
    }
   ],
   "source": [
    "churn['Geography'].value_counts()"
   ]
  },
  {
   "cell_type": "markdown",
   "metadata": {},
   "source": [
    "**Пол**: "
   ]
  },
  {
   "cell_type": "code",
   "execution_count": 7,
   "metadata": {
    "scrolled": false
   },
   "outputs": [
    {
     "data": {
      "text/plain": [
       "Male      5457\n",
       "Female    4543\n",
       "Name: Gender, dtype: int64"
      ]
     },
     "execution_count": 7,
     "metadata": {},
     "output_type": "execute_result"
    }
   ],
   "source": [
    "churn['Gender'].value_counts()"
   ]
  },
  {
   "cell_type": "markdown",
   "metadata": {},
   "source": [
    "**Возраст клиента**: "
   ]
  },
  {
   "cell_type": "code",
   "execution_count": 8,
   "metadata": {},
   "outputs": [
    {
     "data": {
      "text/plain": [
       "count    10000.000000\n",
       "mean        38.921800\n",
       "std         10.487806\n",
       "min         18.000000\n",
       "25%         32.000000\n",
       "50%         37.000000\n",
       "75%         44.000000\n",
       "max         92.000000\n",
       "Name: Age, dtype: float64"
      ]
     },
     "execution_count": 8,
     "metadata": {},
     "output_type": "execute_result"
    }
   ],
   "source": [
    "churn['Age'].describe()"
   ]
  },
  {
   "cell_type": "markdown",
   "metadata": {},
   "source": [
    "**Сколько лет клиент обслуживается в банке**: этот столбец содержит пропуски."
   ]
  },
  {
   "cell_type": "code",
   "execution_count": 9,
   "metadata": {},
   "outputs": [
    {
     "name": "stdout",
     "output_type": "stream",
     "text": [
      "count    9091.000000\n",
      "mean        4.997690\n",
      "std         2.894723\n",
      "min         0.000000\n",
      "25%         2.000000\n",
      "50%         5.000000\n",
      "75%         7.000000\n",
      "max        10.000000\n",
      "Name: Tenure, dtype: float64\n"
     ]
    },
    {
     "data": {
      "text/html": [
       "<div>\n",
       "<style scoped>\n",
       "    .dataframe tbody tr th:only-of-type {\n",
       "        vertical-align: middle;\n",
       "    }\n",
       "\n",
       "    .dataframe tbody tr th {\n",
       "        vertical-align: top;\n",
       "    }\n",
       "\n",
       "    .dataframe thead th {\n",
       "        text-align: right;\n",
       "    }\n",
       "</style>\n",
       "<table border=\"1\" class=\"dataframe\">\n",
       "  <thead>\n",
       "    <tr style=\"text-align: right;\">\n",
       "      <th></th>\n",
       "      <th>CreditScore</th>\n",
       "      <th>Geography</th>\n",
       "      <th>Gender</th>\n",
       "      <th>Age</th>\n",
       "      <th>Tenure</th>\n",
       "      <th>Balance</th>\n",
       "      <th>NumOfProducts</th>\n",
       "      <th>HasCrCard</th>\n",
       "      <th>IsActiveMember</th>\n",
       "      <th>EstimatedSalary</th>\n",
       "      <th>Exited</th>\n",
       "    </tr>\n",
       "  </thead>\n",
       "  <tbody>\n",
       "    <tr>\n",
       "      <th>30</th>\n",
       "      <td>591</td>\n",
       "      <td>Spain</td>\n",
       "      <td>Female</td>\n",
       "      <td>39</td>\n",
       "      <td>NaN</td>\n",
       "      <td>0.00</td>\n",
       "      <td>3</td>\n",
       "      <td>1</td>\n",
       "      <td>0</td>\n",
       "      <td>140469.38</td>\n",
       "      <td>1</td>\n",
       "    </tr>\n",
       "    <tr>\n",
       "      <th>48</th>\n",
       "      <td>550</td>\n",
       "      <td>Germany</td>\n",
       "      <td>Male</td>\n",
       "      <td>38</td>\n",
       "      <td>NaN</td>\n",
       "      <td>103391.38</td>\n",
       "      <td>1</td>\n",
       "      <td>0</td>\n",
       "      <td>1</td>\n",
       "      <td>90878.13</td>\n",
       "      <td>0</td>\n",
       "    </tr>\n",
       "    <tr>\n",
       "      <th>51</th>\n",
       "      <td>585</td>\n",
       "      <td>Germany</td>\n",
       "      <td>Male</td>\n",
       "      <td>36</td>\n",
       "      <td>NaN</td>\n",
       "      <td>146050.97</td>\n",
       "      <td>2</td>\n",
       "      <td>0</td>\n",
       "      <td>0</td>\n",
       "      <td>86424.57</td>\n",
       "      <td>0</td>\n",
       "    </tr>\n",
       "    <tr>\n",
       "      <th>53</th>\n",
       "      <td>655</td>\n",
       "      <td>Germany</td>\n",
       "      <td>Male</td>\n",
       "      <td>41</td>\n",
       "      <td>NaN</td>\n",
       "      <td>125561.97</td>\n",
       "      <td>1</td>\n",
       "      <td>0</td>\n",
       "      <td>0</td>\n",
       "      <td>164040.94</td>\n",
       "      <td>1</td>\n",
       "    </tr>\n",
       "    <tr>\n",
       "      <th>60</th>\n",
       "      <td>742</td>\n",
       "      <td>Germany</td>\n",
       "      <td>Male</td>\n",
       "      <td>35</td>\n",
       "      <td>NaN</td>\n",
       "      <td>136857.00</td>\n",
       "      <td>1</td>\n",
       "      <td>0</td>\n",
       "      <td>0</td>\n",
       "      <td>84509.57</td>\n",
       "      <td>0</td>\n",
       "    </tr>\n",
       "    <tr>\n",
       "      <th>...</th>\n",
       "      <td>...</td>\n",
       "      <td>...</td>\n",
       "      <td>...</td>\n",
       "      <td>...</td>\n",
       "      <td>...</td>\n",
       "      <td>...</td>\n",
       "      <td>...</td>\n",
       "      <td>...</td>\n",
       "      <td>...</td>\n",
       "      <td>...</td>\n",
       "      <td>...</td>\n",
       "    </tr>\n",
       "    <tr>\n",
       "      <th>9944</th>\n",
       "      <td>744</td>\n",
       "      <td>Germany</td>\n",
       "      <td>Male</td>\n",
       "      <td>41</td>\n",
       "      <td>NaN</td>\n",
       "      <td>190409.34</td>\n",
       "      <td>2</td>\n",
       "      <td>1</td>\n",
       "      <td>1</td>\n",
       "      <td>138361.48</td>\n",
       "      <td>0</td>\n",
       "    </tr>\n",
       "    <tr>\n",
       "      <th>9956</th>\n",
       "      <td>520</td>\n",
       "      <td>France</td>\n",
       "      <td>Female</td>\n",
       "      <td>46</td>\n",
       "      <td>NaN</td>\n",
       "      <td>85216.61</td>\n",
       "      <td>1</td>\n",
       "      <td>1</td>\n",
       "      <td>0</td>\n",
       "      <td>117369.52</td>\n",
       "      <td>1</td>\n",
       "    </tr>\n",
       "    <tr>\n",
       "      <th>9964</th>\n",
       "      <td>479</td>\n",
       "      <td>France</td>\n",
       "      <td>Male</td>\n",
       "      <td>34</td>\n",
       "      <td>NaN</td>\n",
       "      <td>117593.48</td>\n",
       "      <td>2</td>\n",
       "      <td>0</td>\n",
       "      <td>0</td>\n",
       "      <td>113308.29</td>\n",
       "      <td>0</td>\n",
       "    </tr>\n",
       "    <tr>\n",
       "      <th>9985</th>\n",
       "      <td>659</td>\n",
       "      <td>France</td>\n",
       "      <td>Male</td>\n",
       "      <td>36</td>\n",
       "      <td>NaN</td>\n",
       "      <td>123841.49</td>\n",
       "      <td>2</td>\n",
       "      <td>1</td>\n",
       "      <td>0</td>\n",
       "      <td>96833.00</td>\n",
       "      <td>0</td>\n",
       "    </tr>\n",
       "    <tr>\n",
       "      <th>9999</th>\n",
       "      <td>792</td>\n",
       "      <td>France</td>\n",
       "      <td>Female</td>\n",
       "      <td>28</td>\n",
       "      <td>NaN</td>\n",
       "      <td>130142.79</td>\n",
       "      <td>1</td>\n",
       "      <td>1</td>\n",
       "      <td>0</td>\n",
       "      <td>38190.78</td>\n",
       "      <td>0</td>\n",
       "    </tr>\n",
       "  </tbody>\n",
       "</table>\n",
       "<p>909 rows × 11 columns</p>\n",
       "</div>"
      ],
      "text/plain": [
       "      CreditScore Geography  Gender  Age  Tenure    Balance  NumOfProducts  \\\n",
       "30            591     Spain  Female   39     NaN       0.00              3   \n",
       "48            550   Germany    Male   38     NaN  103391.38              1   \n",
       "51            585   Germany    Male   36     NaN  146050.97              2   \n",
       "53            655   Germany    Male   41     NaN  125561.97              1   \n",
       "60            742   Germany    Male   35     NaN  136857.00              1   \n",
       "...           ...       ...     ...  ...     ...        ...            ...   \n",
       "9944          744   Germany    Male   41     NaN  190409.34              2   \n",
       "9956          520    France  Female   46     NaN   85216.61              1   \n",
       "9964          479    France    Male   34     NaN  117593.48              2   \n",
       "9985          659    France    Male   36     NaN  123841.49              2   \n",
       "9999          792    France  Female   28     NaN  130142.79              1   \n",
       "\n",
       "      HasCrCard  IsActiveMember  EstimatedSalary  Exited  \n",
       "30            1               0        140469.38       1  \n",
       "48            0               1         90878.13       0  \n",
       "51            0               0         86424.57       0  \n",
       "53            0               0        164040.94       1  \n",
       "60            0               0         84509.57       0  \n",
       "...         ...             ...              ...     ...  \n",
       "9944          1               1        138361.48       0  \n",
       "9956          1               0        117369.52       1  \n",
       "9964          0               0        113308.29       0  \n",
       "9985          1               0         96833.00       0  \n",
       "9999          1               0         38190.78       0  \n",
       "\n",
       "[909 rows x 11 columns]"
      ]
     },
     "execution_count": 9,
     "metadata": {},
     "output_type": "execute_result"
    }
   ],
   "source": [
    "print(churn['Tenure'].describe())\n",
    "churn.loc[churn['Tenure'].isna()]"
   ]
  },
  {
   "cell_type": "markdown",
   "metadata": {},
   "source": [
    "Посмотрим на распределение клиентов по количеству лет, в течение которых они обслуживаются в банке:"
   ]
  },
  {
   "cell_type": "code",
   "execution_count": 10,
   "metadata": {},
   "outputs": [
    {
     "data": {
      "text/plain": [
       "1.0     952\n",
       "2.0     950\n",
       "8.0     933\n",
       "3.0     928\n",
       "5.0     927\n",
       "7.0     925\n",
       "4.0     885\n",
       "9.0     882\n",
       "6.0     881\n",
       "10.0    446\n",
       "0.0     382\n",
       "Name: Tenure, dtype: int64"
      ]
     },
     "execution_count": 10,
     "metadata": {},
     "output_type": "execute_result"
    }
   ],
   "source": [
    "churn['Tenure'].value_counts()"
   ]
  },
  {
   "cell_type": "markdown",
   "metadata": {},
   "source": [
    "Группа пользователей, которые пользуются услугами банка менее года, содержит значительно меньше наблюдений, чем остальные группы, тогда как в реальных выборках должно наблюбдаться обратное: число клиентов должно уменьшаться с каждым годом, поскольку далеко не все клиенты верны одному банку на протяжении десятилетий. Можно предположить, что пропущенные значения принадлежат именно к этой группе. В \"боевых\" условиях, конечно, стоит уточнить принадлежность этих пропусков у бизнеса. \n",
    "\n",
    "Заменим пропуски на 0 и приведём данные к целочисленному типу."
   ]
  },
  {
   "cell_type": "code",
   "execution_count": 11,
   "metadata": {},
   "outputs": [
    {
     "data": {
      "text/plain": [
       "count    10000.000000\n",
       "mean         4.543400\n",
       "std          3.111573\n",
       "min          0.000000\n",
       "25%          2.000000\n",
       "50%          4.000000\n",
       "75%          7.000000\n",
       "max         10.000000\n",
       "Name: Tenure, dtype: float64"
      ]
     },
     "execution_count": 11,
     "metadata": {},
     "output_type": "execute_result"
    }
   ],
   "source": [
    "churn['Tenure'] = churn['Tenure'].fillna(0)\n",
    "churn['Tenure'] = churn['Tenure'].astype(int)\n",
    "churn['Tenure'].describe()"
   ]
  },
  {
   "cell_type": "markdown",
   "metadata": {},
   "source": [
    "**Баланс на счёте клиента**: "
   ]
  },
  {
   "cell_type": "code",
   "execution_count": 12,
   "metadata": {
    "scrolled": true
   },
   "outputs": [
    {
     "data": {
      "text/plain": [
       "count     10000.000000\n",
       "mean      76485.889288\n",
       "std       62397.405202\n",
       "min           0.000000\n",
       "25%           0.000000\n",
       "50%       97198.540000\n",
       "75%      127644.240000\n",
       "max      250898.090000\n",
       "Name: Balance, dtype: float64"
      ]
     },
     "execution_count": 12,
     "metadata": {},
     "output_type": "execute_result"
    }
   ],
   "source": [
    "churn['Balance'].describe()"
   ]
  },
  {
   "cell_type": "markdown",
   "metadata": {},
   "source": [
    "**Количество продуктов, которыми пользуется клиент**:"
   ]
  },
  {
   "cell_type": "code",
   "execution_count": 13,
   "metadata": {},
   "outputs": [
    {
     "data": {
      "text/plain": [
       "1    5084\n",
       "2    4590\n",
       "3     266\n",
       "4      60\n",
       "Name: NumOfProducts, dtype: int64"
      ]
     },
     "execution_count": 13,
     "metadata": {},
     "output_type": "execute_result"
    }
   ],
   "source": [
    "churn['NumOfProducts'].value_counts()"
   ]
  },
  {
   "cell_type": "markdown",
   "metadata": {},
   "source": [
    "**Пользуется ли клиент кредитной картой**:"
   ]
  },
  {
   "cell_type": "code",
   "execution_count": 14,
   "metadata": {},
   "outputs": [
    {
     "data": {
      "text/plain": [
       "1    7055\n",
       "0    2945\n",
       "Name: HasCrCard, dtype: int64"
      ]
     },
     "execution_count": 14,
     "metadata": {},
     "output_type": "execute_result"
    }
   ],
   "source": [
    "churn['HasCrCard'].value_counts()"
   ]
  },
  {
   "cell_type": "markdown",
   "metadata": {},
   "source": [
    "**Активность клиента**:"
   ]
  },
  {
   "cell_type": "code",
   "execution_count": 15,
   "metadata": {
    "scrolled": true
   },
   "outputs": [
    {
     "data": {
      "text/plain": [
       "1    5151\n",
       "0    4849\n",
       "Name: IsActiveMember, dtype: int64"
      ]
     },
     "execution_count": 15,
     "metadata": {},
     "output_type": "execute_result"
    }
   ],
   "source": [
    "churn['IsActiveMember'].value_counts()"
   ]
  },
  {
   "cell_type": "markdown",
   "metadata": {},
   "source": [
    "**Предполагаемая зарплата**:"
   ]
  },
  {
   "cell_type": "code",
   "execution_count": 16,
   "metadata": {},
   "outputs": [
    {
     "data": {
      "text/plain": [
       "count     10000.000000\n",
       "mean     100090.239881\n",
       "std       57510.492818\n",
       "min          11.580000\n",
       "25%       51002.110000\n",
       "50%      100193.915000\n",
       "75%      149388.247500\n",
       "max      199992.480000\n",
       "Name: EstimatedSalary, dtype: float64"
      ]
     },
     "execution_count": 16,
     "metadata": {},
     "output_type": "execute_result"
    }
   ],
   "source": [
    "churn['EstimatedSalary'].describe()"
   ]
  },
  {
   "cell_type": "markdown",
   "metadata": {},
   "source": [
    "И, наконец, целевой признак - **факт ухода клиента** (1 - клиент ушёл, 0 - обслуживается в банке)"
   ]
  },
  {
   "cell_type": "code",
   "execution_count": 17,
   "metadata": {},
   "outputs": [
    {
     "data": {
      "text/plain": [
       "0    7963\n",
       "1    2037\n",
       "Name: Exited, dtype: int64"
      ]
     },
     "execution_count": 17,
     "metadata": {},
     "output_type": "execute_result"
    }
   ],
   "source": [
    "churn['Exited'].value_counts()"
   ]
  },
  {
   "cell_type": "markdown",
   "metadata": {},
   "source": [
    "Теперь закодируем категориальные признаки (столбцы `Geography` и `Gender`) с помощью метода One-Hot Encoding, который работает со всеми моделями классификации:"
   ]
  },
  {
   "cell_type": "code",
   "execution_count": 18,
   "metadata": {
    "scrolled": true
   },
   "outputs": [
    {
     "data": {
      "text/html": [
       "<div>\n",
       "<style scoped>\n",
       "    .dataframe tbody tr th:only-of-type {\n",
       "        vertical-align: middle;\n",
       "    }\n",
       "\n",
       "    .dataframe tbody tr th {\n",
       "        vertical-align: top;\n",
       "    }\n",
       "\n",
       "    .dataframe thead th {\n",
       "        text-align: right;\n",
       "    }\n",
       "</style>\n",
       "<table border=\"1\" class=\"dataframe\">\n",
       "  <thead>\n",
       "    <tr style=\"text-align: right;\">\n",
       "      <th></th>\n",
       "      <th>CreditScore</th>\n",
       "      <th>Age</th>\n",
       "      <th>Tenure</th>\n",
       "      <th>Balance</th>\n",
       "      <th>NumOfProducts</th>\n",
       "      <th>HasCrCard</th>\n",
       "      <th>IsActiveMember</th>\n",
       "      <th>EstimatedSalary</th>\n",
       "      <th>Exited</th>\n",
       "      <th>Geography_Germany</th>\n",
       "      <th>Geography_Spain</th>\n",
       "      <th>Gender_Male</th>\n",
       "    </tr>\n",
       "  </thead>\n",
       "  <tbody>\n",
       "    <tr>\n",
       "      <th>0</th>\n",
       "      <td>619</td>\n",
       "      <td>42</td>\n",
       "      <td>2</td>\n",
       "      <td>0.00</td>\n",
       "      <td>1</td>\n",
       "      <td>1</td>\n",
       "      <td>1</td>\n",
       "      <td>101348.88</td>\n",
       "      <td>1</td>\n",
       "      <td>0</td>\n",
       "      <td>0</td>\n",
       "      <td>0</td>\n",
       "    </tr>\n",
       "    <tr>\n",
       "      <th>1</th>\n",
       "      <td>608</td>\n",
       "      <td>41</td>\n",
       "      <td>1</td>\n",
       "      <td>83807.86</td>\n",
       "      <td>1</td>\n",
       "      <td>0</td>\n",
       "      <td>1</td>\n",
       "      <td>112542.58</td>\n",
       "      <td>0</td>\n",
       "      <td>0</td>\n",
       "      <td>1</td>\n",
       "      <td>0</td>\n",
       "    </tr>\n",
       "    <tr>\n",
       "      <th>2</th>\n",
       "      <td>502</td>\n",
       "      <td>42</td>\n",
       "      <td>8</td>\n",
       "      <td>159660.80</td>\n",
       "      <td>3</td>\n",
       "      <td>1</td>\n",
       "      <td>0</td>\n",
       "      <td>113931.57</td>\n",
       "      <td>1</td>\n",
       "      <td>0</td>\n",
       "      <td>0</td>\n",
       "      <td>0</td>\n",
       "    </tr>\n",
       "  </tbody>\n",
       "</table>\n",
       "</div>"
      ],
      "text/plain": [
       "   CreditScore  Age  Tenure    Balance  NumOfProducts  HasCrCard  \\\n",
       "0          619   42       2       0.00              1          1   \n",
       "1          608   41       1   83807.86              1          0   \n",
       "2          502   42       8  159660.80              3          1   \n",
       "\n",
       "   IsActiveMember  EstimatedSalary  Exited  Geography_Germany  \\\n",
       "0               1        101348.88       1                  0   \n",
       "1               1        112542.58       0                  0   \n",
       "2               0        113931.57       1                  0   \n",
       "\n",
       "   Geography_Spain  Gender_Male  \n",
       "0                0            0  \n",
       "1                1            0  \n",
       "2                0            0  "
      ]
     },
     "execution_count": 18,
     "metadata": {},
     "output_type": "execute_result"
    }
   ],
   "source": [
    "churn_ohe = pd.get_dummies(churn, drop_first = True)\n",
    "churn_ohe.head(3)"
   ]
  },
  {
   "cell_type": "markdown",
   "metadata": {},
   "source": [
    "### Вывод\n",
    "\n",
    "В предоставленной таблице 10 000 строк и 14 столбцов.\n",
    "\n",
    "В рамках предобратботки осуществлено следующее:\n",
    "- из рассмотрения исключены 3 столбца: с порядковым номером, уникальным ID и фамилией клиента;\n",
    "- пропуски в столбце с данными о сроках обслуживания клиента в банке заменены на 0, тип приведён к целочисленному;\n",
    "- закодированы категориальные признаки `Geography` и `Gender`.\n",
    "\n",
    "После предобработки таблица содержит 10 000 наблюдений, 10 влияющих признаков и один бинарный целевой. "
   ]
  },
  {
   "cell_type": "markdown",
   "metadata": {},
   "source": [
    "## Исследование задачи"
   ]
  },
  {
   "cell_type": "code",
   "execution_count": 19,
   "metadata": {
    "scrolled": true
   },
   "outputs": [
    {
     "data": {
      "text/plain": [
       "0    0.7963\n",
       "1    0.2037\n",
       "Name: Exited, dtype: float64"
      ]
     },
     "execution_count": 19,
     "metadata": {},
     "output_type": "execute_result"
    }
   ],
   "source": [
    "churn['Exited'].value_counts() / churn['Exited'].value_counts().sum()"
   ]
  },
  {
   "cell_type": "markdown",
   "metadata": {},
   "source": [
    "Уже на этапе предобработки мы увидели, что в предоставленных данных классы целевого признака не сбалансированы: ушло из банка 20% проанализированных клиентов, осталось - 80%. Но на данном этапе построение модели будет вестись без корректировки на дисбаланс.\n",
    "\n",
    "Разобьём данные на обучающую, валидационную и тестовую выборки в пропорции 60/20/20:"
   ]
  },
  {
   "cell_type": "code",
   "execution_count": 20,
   "metadata": {},
   "outputs": [
    {
     "name": "stdout",
     "output_type": "stream",
     "text": [
      "Размер тренировочной выборки: (6000,)\n",
      "Размер валидационной выборки: (2000,)\n",
      "Размер тестовой выборки: (2000,)\n"
     ]
    }
   ],
   "source": [
    "# целевой признак:\n",
    "target = churn_ohe['Exited']\n",
    "# влияющие признаки:\n",
    "features = churn_ohe.drop('Exited', axis = 1)\n",
    "\n",
    "# сперва выделим 60% обучающих данных:\n",
    "features_train, features_valid_test, target_train, target_valid_test = train_test_split(features, target, test_size = 0.4, \n",
    "                                                                             random_state = 12345)\n",
    "# затем оставшиеся 40% разделим на две выборки по 20%:\n",
    "features_valid, features_test, target_valid, target_test = train_test_split(features_valid_test, target_valid_test, test_size = 0.5, \n",
    "                                                                             random_state = 12345)\n",
    "print('Размер тренировочной выборки:', target_train.shape)\n",
    "print('Размер валидационной выборки:', target_valid.shape)\n",
    "print('Размер тестовой выборки:', target_test.shape)"
   ]
  },
  {
   "cell_type": "code",
   "execution_count": 24,
   "metadata": {},
   "outputs": [
    {
     "name": "stdout",
     "output_type": "stream",
     "text": [
      "      CreditScore  Age  Tenure    Balance  NumOfProducts  HasCrCard  \\\n",
      "7479          567   35       8  153137.74              1          1   \n",
      "3411          711   37       8  113899.92              1          0   \n",
      "6027          850   44       3  140393.65              2          0   \n",
      "1247          512   24       6       0.00              2          1   \n",
      "3716          665   27       2  147435.96              1          0   \n",
      "\n",
      "      IsActiveMember  EstimatedSalary  Geography_Germany  Geography_Spain  \\\n",
      "7479               0         88659.07                  0                1   \n",
      "3411               0         80215.20                  0                0   \n",
      "6027               1        186285.52                  1                0   \n",
      "1247               0         37654.31                  0                0   \n",
      "3716               0        187508.06                  1                0   \n",
      "\n",
      "      Gender_Male  \n",
      "7479            1  \n",
      "3411            0  \n",
      "6027            1  \n",
      "1247            1  \n",
      "3716            0  \n"
     ]
    }
   ],
   "source": [
    "print(features_train.head())"
   ]
  },
  {
   "cell_type": "markdown",
   "metadata": {},
   "source": [
    "Масштабируем количественные данные (столбцы CreditScore, Age, Tenure, Balance, NumOfProducts и EstimatedSalary):"
   ]
  },
  {
   "cell_type": "code",
   "execution_count": 25,
   "metadata": {},
   "outputs": [
    {
     "name": "stderr",
     "output_type": "stream",
     "text": [
      "<ipython-input-25-e48ea885055e>:4: SettingWithCopyWarning: \n",
      "A value is trying to be set on a copy of a slice from a DataFrame.\n",
      "Try using .loc[row_indexer,col_indexer] = value instead\n",
      "\n",
      "See the caveats in the documentation: https://pandas.pydata.org/pandas-docs/stable/user_guide/indexing.html#returning-a-view-versus-a-copy\n",
      "  features_train[numeric] = scaler.transform(features_train[numeric])\n",
      "c:\\program files\\python38\\lib\\site-packages\\pandas\\core\\indexing.py:1738: SettingWithCopyWarning: \n",
      "A value is trying to be set on a copy of a slice from a DataFrame.\n",
      "Try using .loc[row_indexer,col_indexer] = value instead\n",
      "\n",
      "See the caveats in the documentation: https://pandas.pydata.org/pandas-docs/stable/user_guide/indexing.html#returning-a-view-versus-a-copy\n",
      "  self._setitem_single_column(loc, value[:, i].tolist(), pi)\n",
      "<ipython-input-25-e48ea885055e>:5: SettingWithCopyWarning: \n",
      "A value is trying to be set on a copy of a slice from a DataFrame.\n",
      "Try using .loc[row_indexer,col_indexer] = value instead\n",
      "\n",
      "See the caveats in the documentation: https://pandas.pydata.org/pandas-docs/stable/user_guide/indexing.html#returning-a-view-versus-a-copy\n",
      "  features_valid[numeric] = scaler.transform(features_valid[numeric])\n",
      "c:\\program files\\python38\\lib\\site-packages\\pandas\\core\\indexing.py:1738: SettingWithCopyWarning: \n",
      "A value is trying to be set on a copy of a slice from a DataFrame.\n",
      "Try using .loc[row_indexer,col_indexer] = value instead\n",
      "\n",
      "See the caveats in the documentation: https://pandas.pydata.org/pandas-docs/stable/user_guide/indexing.html#returning-a-view-versus-a-copy\n",
      "  self._setitem_single_column(loc, value[:, i].tolist(), pi)\n",
      "<ipython-input-25-e48ea885055e>:6: SettingWithCopyWarning: \n",
      "A value is trying to be set on a copy of a slice from a DataFrame.\n",
      "Try using .loc[row_indexer,col_indexer] = value instead\n",
      "\n",
      "See the caveats in the documentation: https://pandas.pydata.org/pandas-docs/stable/user_guide/indexing.html#returning-a-view-versus-a-copy\n",
      "  features_test[numeric] = scaler.transform(features_test[numeric])\n",
      "c:\\program files\\python38\\lib\\site-packages\\pandas\\core\\indexing.py:1738: SettingWithCopyWarning: \n",
      "A value is trying to be set on a copy of a slice from a DataFrame.\n",
      "Try using .loc[row_indexer,col_indexer] = value instead\n",
      "\n",
      "See the caveats in the documentation: https://pandas.pydata.org/pandas-docs/stable/user_guide/indexing.html#returning-a-view-versus-a-copy\n",
      "  self._setitem_single_column(loc, value[:, i].tolist(), pi)\n"
     ]
    },
    {
     "data": {
      "text/html": [
       "<div>\n",
       "<style scoped>\n",
       "    .dataframe tbody tr th:only-of-type {\n",
       "        vertical-align: middle;\n",
       "    }\n",
       "\n",
       "    .dataframe tbody tr th {\n",
       "        vertical-align: top;\n",
       "    }\n",
       "\n",
       "    .dataframe thead th {\n",
       "        text-align: right;\n",
       "    }\n",
       "</style>\n",
       "<table border=\"1\" class=\"dataframe\">\n",
       "  <thead>\n",
       "    <tr style=\"text-align: right;\">\n",
       "      <th></th>\n",
       "      <th>CreditScore</th>\n",
       "      <th>Age</th>\n",
       "      <th>Tenure</th>\n",
       "      <th>Balance</th>\n",
       "      <th>NumOfProducts</th>\n",
       "      <th>HasCrCard</th>\n",
       "      <th>IsActiveMember</th>\n",
       "      <th>EstimatedSalary</th>\n",
       "      <th>Geography_Germany</th>\n",
       "      <th>Geography_Spain</th>\n",
       "      <th>Gender_Male</th>\n",
       "    </tr>\n",
       "  </thead>\n",
       "  <tbody>\n",
       "    <tr>\n",
       "      <th>7479</th>\n",
       "      <td>-0.886751</td>\n",
       "      <td>-0.373192</td>\n",
       "      <td>1.104696</td>\n",
       "      <td>1.232271</td>\n",
       "      <td>-0.891560</td>\n",
       "      <td>1</td>\n",
       "      <td>0</td>\n",
       "      <td>-0.187705</td>\n",
       "      <td>0</td>\n",
       "      <td>1</td>\n",
       "      <td>1</td>\n",
       "    </tr>\n",
       "    <tr>\n",
       "      <th>3411</th>\n",
       "      <td>0.608663</td>\n",
       "      <td>-0.183385</td>\n",
       "      <td>1.104696</td>\n",
       "      <td>0.600563</td>\n",
       "      <td>-0.891560</td>\n",
       "      <td>0</td>\n",
       "      <td>0</td>\n",
       "      <td>-0.333945</td>\n",
       "      <td>0</td>\n",
       "      <td>0</td>\n",
       "      <td>0</td>\n",
       "    </tr>\n",
       "    <tr>\n",
       "      <th>6027</th>\n",
       "      <td>2.052152</td>\n",
       "      <td>0.480939</td>\n",
       "      <td>-0.503694</td>\n",
       "      <td>1.027098</td>\n",
       "      <td>0.830152</td>\n",
       "      <td>0</td>\n",
       "      <td>1</td>\n",
       "      <td>1.503095</td>\n",
       "      <td>1</td>\n",
       "      <td>0</td>\n",
       "      <td>1</td>\n",
       "    </tr>\n",
       "  </tbody>\n",
       "</table>\n",
       "</div>"
      ],
      "text/plain": [
       "      CreditScore       Age    Tenure   Balance  NumOfProducts  HasCrCard  \\\n",
       "7479    -0.886751 -0.373192  1.104696  1.232271      -0.891560          1   \n",
       "3411     0.608663 -0.183385  1.104696  0.600563      -0.891560          0   \n",
       "6027     2.052152  0.480939 -0.503694  1.027098       0.830152          0   \n",
       "\n",
       "      IsActiveMember  EstimatedSalary  Geography_Germany  Geography_Spain  \\\n",
       "7479               0        -0.187705                  0                1   \n",
       "3411               0        -0.333945                  0                0   \n",
       "6027               1         1.503095                  1                0   \n",
       "\n",
       "      Gender_Male  \n",
       "7479            1  \n",
       "3411            0  \n",
       "6027            1  "
      ]
     },
     "metadata": {},
     "output_type": "display_data"
    },
    {
     "data": {
      "text/html": [
       "<div>\n",
       "<style scoped>\n",
       "    .dataframe tbody tr th:only-of-type {\n",
       "        vertical-align: middle;\n",
       "    }\n",
       "\n",
       "    .dataframe tbody tr th {\n",
       "        vertical-align: top;\n",
       "    }\n",
       "\n",
       "    .dataframe thead th {\n",
       "        text-align: right;\n",
       "    }\n",
       "</style>\n",
       "<table border=\"1\" class=\"dataframe\">\n",
       "  <thead>\n",
       "    <tr style=\"text-align: right;\">\n",
       "      <th></th>\n",
       "      <th>CreditScore</th>\n",
       "      <th>Age</th>\n",
       "      <th>Tenure</th>\n",
       "      <th>Balance</th>\n",
       "      <th>NumOfProducts</th>\n",
       "      <th>HasCrCard</th>\n",
       "      <th>IsActiveMember</th>\n",
       "      <th>EstimatedSalary</th>\n",
       "      <th>Geography_Germany</th>\n",
       "      <th>Geography_Spain</th>\n",
       "      <th>Gender_Male</th>\n",
       "    </tr>\n",
       "  </thead>\n",
       "  <tbody>\n",
       "    <tr>\n",
       "      <th>8532</th>\n",
       "      <td>-0.699824</td>\n",
       "      <td>-0.373192</td>\n",
       "      <td>-0.825373</td>\n",
       "      <td>-1.233163</td>\n",
       "      <td>0.830152</td>\n",
       "      <td>1</td>\n",
       "      <td>0</td>\n",
       "      <td>-0.015173</td>\n",
       "      <td>0</td>\n",
       "      <td>0</td>\n",
       "      <td>0</td>\n",
       "    </tr>\n",
       "    <tr>\n",
       "      <th>5799</th>\n",
       "      <td>-0.284431</td>\n",
       "      <td>0.575842</td>\n",
       "      <td>-0.503694</td>\n",
       "      <td>-1.233163</td>\n",
       "      <td>-0.891560</td>\n",
       "      <td>1</td>\n",
       "      <td>1</td>\n",
       "      <td>1.471724</td>\n",
       "      <td>0</td>\n",
       "      <td>0</td>\n",
       "      <td>0</td>\n",
       "    </tr>\n",
       "    <tr>\n",
       "      <th>5511</th>\n",
       "      <td>0.151731</td>\n",
       "      <td>-0.657902</td>\n",
       "      <td>-1.468729</td>\n",
       "      <td>0.438711</td>\n",
       "      <td>-0.891560</td>\n",
       "      <td>1</td>\n",
       "      <td>0</td>\n",
       "      <td>-1.367107</td>\n",
       "      <td>1</td>\n",
       "      <td>0</td>\n",
       "      <td>1</td>\n",
       "    </tr>\n",
       "  </tbody>\n",
       "</table>\n",
       "</div>"
      ],
      "text/plain": [
       "      CreditScore       Age    Tenure   Balance  NumOfProducts  HasCrCard  \\\n",
       "8532    -0.699824 -0.373192 -0.825373 -1.233163       0.830152          1   \n",
       "5799    -0.284431  0.575842 -0.503694 -1.233163      -0.891560          1   \n",
       "5511     0.151731 -0.657902 -1.468729  0.438711      -0.891560          1   \n",
       "\n",
       "      IsActiveMember  EstimatedSalary  Geography_Germany  Geography_Spain  \\\n",
       "8532               0        -0.015173                  0                0   \n",
       "5799               1         1.471724                  0                0   \n",
       "5511               0        -1.367107                  1                0   \n",
       "\n",
       "      Gender_Male  \n",
       "8532            0  \n",
       "5799            0  \n",
       "5511            1  "
      ]
     },
     "metadata": {},
     "output_type": "display_data"
    },
    {
     "data": {
      "text/html": [
       "<div>\n",
       "<style scoped>\n",
       "    .dataframe tbody tr th:only-of-type {\n",
       "        vertical-align: middle;\n",
       "    }\n",
       "\n",
       "    .dataframe tbody tr th {\n",
       "        vertical-align: top;\n",
       "    }\n",
       "\n",
       "    .dataframe thead th {\n",
       "        text-align: right;\n",
       "    }\n",
       "</style>\n",
       "<table border=\"1\" class=\"dataframe\">\n",
       "  <thead>\n",
       "    <tr style=\"text-align: right;\">\n",
       "      <th></th>\n",
       "      <th>CreditScore</th>\n",
       "      <th>Age</th>\n",
       "      <th>Tenure</th>\n",
       "      <th>Balance</th>\n",
       "      <th>NumOfProducts</th>\n",
       "      <th>HasCrCard</th>\n",
       "      <th>IsActiveMember</th>\n",
       "      <th>EstimatedSalary</th>\n",
       "      <th>Geography_Germany</th>\n",
       "      <th>Geography_Spain</th>\n",
       "      <th>Gender_Male</th>\n",
       "    </tr>\n",
       "  </thead>\n",
       "  <tbody>\n",
       "    <tr>\n",
       "      <th>7041</th>\n",
       "      <td>-2.226392</td>\n",
       "      <td>-0.088482</td>\n",
       "      <td>-0.825373</td>\n",
       "      <td>-1.233163</td>\n",
       "      <td>0.830152</td>\n",
       "      <td>1</td>\n",
       "      <td>0</td>\n",
       "      <td>0.647083</td>\n",
       "      <td>0</td>\n",
       "      <td>0</td>\n",
       "      <td>1</td>\n",
       "    </tr>\n",
       "    <tr>\n",
       "      <th>5709</th>\n",
       "      <td>-0.087120</td>\n",
       "      <td>0.006422</td>\n",
       "      <td>1.426375</td>\n",
       "      <td>-1.233163</td>\n",
       "      <td>-0.891560</td>\n",
       "      <td>1</td>\n",
       "      <td>0</td>\n",
       "      <td>-1.658410</td>\n",
       "      <td>0</td>\n",
       "      <td>0</td>\n",
       "      <td>0</td>\n",
       "    </tr>\n",
       "    <tr>\n",
       "      <th>7117</th>\n",
       "      <td>-0.917905</td>\n",
       "      <td>-0.752805</td>\n",
       "      <td>0.139662</td>\n",
       "      <td>0.722307</td>\n",
       "      <td>-0.891560</td>\n",
       "      <td>1</td>\n",
       "      <td>1</td>\n",
       "      <td>-1.369334</td>\n",
       "      <td>0</td>\n",
       "      <td>1</td>\n",
       "      <td>1</td>\n",
       "    </tr>\n",
       "  </tbody>\n",
       "</table>\n",
       "</div>"
      ],
      "text/plain": [
       "      CreditScore       Age    Tenure   Balance  NumOfProducts  HasCrCard  \\\n",
       "7041    -2.226392 -0.088482 -0.825373 -1.233163       0.830152          1   \n",
       "5709    -0.087120  0.006422  1.426375 -1.233163      -0.891560          1   \n",
       "7117    -0.917905 -0.752805  0.139662  0.722307      -0.891560          1   \n",
       "\n",
       "      IsActiveMember  EstimatedSalary  Geography_Germany  Geography_Spain  \\\n",
       "7041               0         0.647083                  0                0   \n",
       "5709               0        -1.658410                  0                0   \n",
       "7117               1        -1.369334                  0                1   \n",
       "\n",
       "      Gender_Male  \n",
       "7041            1  \n",
       "5709            0  \n",
       "7117            1  "
      ]
     },
     "metadata": {},
     "output_type": "display_data"
    }
   ],
   "source": [
    "numeric = ['CreditScore', 'Age', 'Tenure', 'Balance', 'NumOfProducts', 'EstimatedSalary']\n",
    "scaler = StandardScaler()\n",
    "scaler.fit(features_train[numeric])\n",
    "features_train[numeric] = scaler.transform(features_train[numeric])\n",
    "features_valid[numeric] = scaler.transform(features_valid[numeric])\n",
    "features_test[numeric] = scaler.transform(features_test[numeric])\n",
    "display(features_train.head(3))\n",
    "display(features_valid.head(3))\n",
    "display(features_test.head(3))"
   ]
  },
  {
   "cell_type": "markdown",
   "metadata": {},
   "source": [
    "Поскольку целевой признак в нашем случае - бинарная переменная, перед нами стоит задача классификации. Для этого будем использовать следующие модели:\n",
    "\n",
    "- дерево решений\n",
    "- случайный лес\n",
    "- логистическую регрессию.\n",
    "\n",
    "Начнём с построения оптимальной модели **дерева решений**. Подберём оптимальную при различной максимальной глубине дерева - от 1 до 20. Для оценки качества модели будем использовать показатель F1, дополнительно посчитаем площадь под ROC-кривой."
   ]
  },
  {
   "cell_type": "code",
   "execution_count": 22,
   "metadata": {},
   "outputs": [],
   "source": [
    "# Объявим функцию для вычиления F1 и AUC-ROC\n",
    "def F1_AUC(model):\n",
    "    model.fit(features_train, target_train)\n",
    "    predictions = model.predict(features_valid)\n",
    "    probabilities_one = model.predict_proba(features_valid)[:,1]\n",
    "    # вычисляем F1:\n",
    "    F1 = f1_score(target_valid, predictions)\n",
    "\n",
    "    # вычисляем AUC_ROC:\n",
    "    auc_roc = roc_auc_score(target_valid, probabilities_one)\n",
    "    return F1, auc_roc"
   ]
  },
  {
   "cell_type": "code",
   "execution_count": 23,
   "metadata": {
    "scrolled": true
   },
   "outputs": [
    {
     "name": "stderr",
     "output_type": "stream",
     "text": [
      "/opt/conda/lib/python3.7/site-packages/sklearn/metrics/classification.py:1437: UndefinedMetricWarning: F-score is ill-defined and being set to 0.0 due to no predicted samples.\n",
      "  'precision', 'predicted', average, warn_for)\n",
      "/opt/conda/lib/python3.7/site-packages/sklearn/metrics/classification.py:1437: UndefinedMetricWarning: F-score is ill-defined and being set to 0.0 due to no predicted samples.\n",
      "  'precision', 'predicted', average, warn_for)\n"
     ]
    },
    {
     "name": "stdout",
     "output_type": "stream",
     "text": [
      "Показатель F1 лучшей модели дерева решений: 0.57 при максимальной глубине дерева 6\n",
      "Площадь под ROC-кривой лучшей модели дерева решений: 0.82\n"
     ]
    }
   ],
   "source": [
    "f1_base = []\n",
    "auc_base = []\n",
    "best_tree_depth = 0\n",
    "max_tree_f1 = 0\n",
    "max_tree_auc = 0\n",
    "\n",
    "# выбор оптимальной модели дерева решений:\n",
    "for depth in range(1,20):\n",
    "    tree_model = DecisionTreeClassifier(random_state = 1, max_depth = depth, min_samples_leaf = 2)\n",
    "    F1 = F1_AUC(tree_model)[0]\n",
    "    auc_roc = F1_AUC(tree_model)[1]\n",
    "    if F1 > max_tree_f1:\n",
    "        best_tree_depth = depth\n",
    "        max_tree_f1 = F1\n",
    "        max_tree_auc = auc_roc\n",
    "        best_tree_model = tree_model\n",
    "print('Показатель F1 лучшей модели дерева решений: ', max_tree_f1.round(2), ' при максимальной глубине дерева ', best_tree_depth, \n",
    "      '\\n', 'Площадь под ROC-кривой лучшей модели дерева решений: ', max_tree_auc.round(2), sep = '')\n",
    "\n",
    "# для сводной таблицы запомним результаты:\n",
    "f1_base.append(max_tree_f1.round(2))\n",
    "auc_base.append(max_tree_auc.round(2))"
   ]
  },
  {
   "cell_type": "markdown",
   "metadata": {},
   "source": [
    "Следующей построим модель **случайного леса**. В качестве гиперпараметров зададим диапазон максимальной глубины дерева от 1 до 20, количество деревьев - от 20 до 80 с шагом 10, минимальное количество \"листьев\" - 2."
   ]
  },
  {
   "cell_type": "code",
   "execution_count": 24,
   "metadata": {
    "scrolled": true
   },
   "outputs": [
    {
     "name": "stderr",
     "output_type": "stream",
     "text": [
      "/opt/conda/lib/python3.7/site-packages/sklearn/metrics/classification.py:1437: UndefinedMetricWarning: F-score is ill-defined and being set to 0.0 due to no predicted samples.\n",
      "  'precision', 'predicted', average, warn_for)\n",
      "/opt/conda/lib/python3.7/site-packages/sklearn/metrics/classification.py:1437: UndefinedMetricWarning: F-score is ill-defined and being set to 0.0 due to no predicted samples.\n",
      "  'precision', 'predicted', average, warn_for)\n",
      "/opt/conda/lib/python3.7/site-packages/sklearn/metrics/classification.py:1437: UndefinedMetricWarning: F-score is ill-defined and being set to 0.0 due to no predicted samples.\n",
      "  'precision', 'predicted', average, warn_for)\n",
      "/opt/conda/lib/python3.7/site-packages/sklearn/metrics/classification.py:1437: UndefinedMetricWarning: F-score is ill-defined and being set to 0.0 due to no predicted samples.\n",
      "  'precision', 'predicted', average, warn_for)\n",
      "/opt/conda/lib/python3.7/site-packages/sklearn/metrics/classification.py:1437: UndefinedMetricWarning: F-score is ill-defined and being set to 0.0 due to no predicted samples.\n",
      "  'precision', 'predicted', average, warn_for)\n",
      "/opt/conda/lib/python3.7/site-packages/sklearn/metrics/classification.py:1437: UndefinedMetricWarning: F-score is ill-defined and being set to 0.0 due to no predicted samples.\n",
      "  'precision', 'predicted', average, warn_for)\n",
      "/opt/conda/lib/python3.7/site-packages/sklearn/metrics/classification.py:1437: UndefinedMetricWarning: F-score is ill-defined and being set to 0.0 due to no predicted samples.\n",
      "  'precision', 'predicted', average, warn_for)\n",
      "/opt/conda/lib/python3.7/site-packages/sklearn/metrics/classification.py:1437: UndefinedMetricWarning: F-score is ill-defined and being set to 0.0 due to no predicted samples.\n",
      "  'precision', 'predicted', average, warn_for)\n",
      "/opt/conda/lib/python3.7/site-packages/sklearn/metrics/classification.py:1437: UndefinedMetricWarning: F-score is ill-defined and being set to 0.0 due to no predicted samples.\n",
      "  'precision', 'predicted', average, warn_for)\n",
      "/opt/conda/lib/python3.7/site-packages/sklearn/metrics/classification.py:1437: UndefinedMetricWarning: F-score is ill-defined and being set to 0.0 due to no predicted samples.\n",
      "  'precision', 'predicted', average, warn_for)\n",
      "/opt/conda/lib/python3.7/site-packages/sklearn/metrics/classification.py:1437: UndefinedMetricWarning: F-score is ill-defined and being set to 0.0 due to no predicted samples.\n",
      "  'precision', 'predicted', average, warn_for)\n",
      "/opt/conda/lib/python3.7/site-packages/sklearn/metrics/classification.py:1437: UndefinedMetricWarning: F-score is ill-defined and being set to 0.0 due to no predicted samples.\n",
      "  'precision', 'predicted', average, warn_for)\n"
     ]
    },
    {
     "name": "stdout",
     "output_type": "stream",
     "text": [
      "Показатель F1 лучшей модели случайного леса: 0.59 при максимальной глубине дерева 14 и количестве деревьев 50\n",
      "Площадь под ROC-кривой лучшей модели дерева решений: 0.84\n"
     ]
    }
   ],
   "source": [
    "best_forest_depth = 0\n",
    "max_forest_f1 = 0\n",
    "best_est = 0\n",
    "max_forest_auc = 0\n",
    "for depth in range(1,20):\n",
    "    for est in range(20, 80, 10):\n",
    "        forest_model = RandomForestClassifier(random_state = 1, max_depth = depth, min_samples_leaf = 2, n_estimators = est)\n",
    "        F1 = F1_AUC(forest_model)[0]\n",
    "        auc_roc = F1_AUC(forest_model)[1]\n",
    "        if F1 > max_forest_f1:\n",
    "            best_forest_depth = depth\n",
    "            max_forest_f1 = F1\n",
    "            best_est = est\n",
    "            max_forest_auc = auc_roc\n",
    "            best_forest_model = forest_model\n",
    "print('Показатель F1 лучшей модели случайного леса: ', max_forest_f1.round(2), ' при максимальной глубине дерева ', \n",
    "      best_forest_depth, ' и количестве деревьев ', best_est, '\\n', \n",
    "      'Площадь под ROC-кривой лучшей модели дерева решений: ', max_forest_auc.round(2), sep = '')"
   ]
  },
  {
   "cell_type": "code",
   "execution_count": 25,
   "metadata": {},
   "outputs": [],
   "source": [
    "f1_base.append(max_forest_f1.round(2))\n",
    "auc_base.append(max_forest_auc.round(2))"
   ]
  },
  {
   "cell_type": "markdown",
   "metadata": {},
   "source": [
    "Осталось построить модель **логистической регрессии**:"
   ]
  },
  {
   "cell_type": "code",
   "execution_count": 26,
   "metadata": {},
   "outputs": [
    {
     "name": "stdout",
     "output_type": "stream",
     "text": [
      "Показатель F1 логистической регрессии равен 0.33\n"
     ]
    }
   ],
   "source": [
    "logist_model = LogisticRegression(random_state = 1, solver = 'liblinear')\n",
    "f1_logist = F1_AUC(logist_model)[0]\n",
    "auc_logist = F1_AUC(logist_model)[1]\n",
    "print('Показатель F1 логистической регрессии равен', f1_logist.round(2))\n",
    "\n",
    "f1_base.append(f1_logist.round(2))\n",
    "auc_base.append(auc_logist.round(2))"
   ]
  },
  {
   "cell_type": "markdown",
   "metadata": {},
   "source": [
    "Сформируем итоговую таблицу с оценкой качества построенных моделей:"
   ]
  },
  {
   "cell_type": "code",
   "execution_count": 27,
   "metadata": {},
   "outputs": [
    {
     "data": {
      "text/html": [
       "<div>\n",
       "<style scoped>\n",
       "    .dataframe tbody tr th:only-of-type {\n",
       "        vertical-align: middle;\n",
       "    }\n",
       "\n",
       "    .dataframe tbody tr th {\n",
       "        vertical-align: top;\n",
       "    }\n",
       "\n",
       "    .dataframe thead th {\n",
       "        text-align: right;\n",
       "    }\n",
       "</style>\n",
       "<table border=\"1\" class=\"dataframe\">\n",
       "  <thead>\n",
       "    <tr style=\"text-align: right;\">\n",
       "      <th></th>\n",
       "      <th>Tree</th>\n",
       "      <th>Forest</th>\n",
       "      <th>LogitR</th>\n",
       "    </tr>\n",
       "  </thead>\n",
       "  <tbody>\n",
       "    <tr>\n",
       "      <td>F1</td>\n",
       "      <td>0.57</td>\n",
       "      <td>0.59</td>\n",
       "      <td>0.33</td>\n",
       "    </tr>\n",
       "    <tr>\n",
       "      <td>AUC-ROC</td>\n",
       "      <td>0.82</td>\n",
       "      <td>0.84</td>\n",
       "      <td>0.76</td>\n",
       "    </tr>\n",
       "  </tbody>\n",
       "</table>\n",
       "</div>"
      ],
      "text/plain": [
       "         Tree  Forest  LogitR\n",
       "F1       0.57    0.59    0.33\n",
       "AUC-ROC  0.82    0.84    0.76"
      ]
     },
     "execution_count": 27,
     "metadata": {},
     "output_type": "execute_result"
    }
   ],
   "source": [
    "result = pd.DataFrame(np.array([f1_base, auc_base]), columns=['Tree', 'Forest', 'LogitR'], index = ['F1', 'AUC-ROC'])\n",
    "result"
   ]
  },
  {
   "cell_type": "markdown",
   "metadata": {},
   "source": [
    "### Вывод\n",
    "Целевой показатель F1, поставленный для нас бизнесом - 0,59, и его удалось достичь уже на данном этапе, без учёта дисбаланса классов. Лучший показатель F1 - у модели случайного леса - 0,59. Худший - у модели логистической регрессии - всего 0,33. Площадь под ROC-кривой максимальна также у модели случайного леса - 0,84. \n",
    "\n",
    "На следующем этапе мы скорректируем модели с учётом имеющегося дисбаланса классов."
   ]
  },
  {
   "cell_type": "markdown",
   "metadata": {},
   "source": [
    "## Борьба с дисбалансом"
   ]
  },
  {
   "cell_type": "markdown",
   "metadata": {},
   "source": [
    "Попробуем скорректировать наши модели исходя из имеющегося дисбаланса с помощью следующих методов:\n",
    "- взвешивание\n",
    "- upsampling\n",
    "- downsampling\n",
    "\n",
    "---\n",
    "Внесём в модели поправку на дисбаланс классов с помощью **взвешивания** и проанализируем результаты:"
   ]
  },
  {
   "cell_type": "code",
   "execution_count": 28,
   "metadata": {},
   "outputs": [
    {
     "name": "stdout",
     "output_type": "stream",
     "text": [
      "Применение взвешивания:\n",
      "Показатель F1 модели дерева решений равен: 0.56\n",
      "Показатель AUC_ROC модели дерева решений равен: 0.81\n"
     ]
    }
   ],
   "source": [
    "# дерево решений\n",
    "\n",
    "balanced_tree_model = DecisionTreeClassifier(random_state = 1, max_depth = best_tree_depth, \n",
    "                                         min_samples_leaf = 2, class_weight = 'balanced')\n",
    "f1_bal = []\n",
    "auc_bal = []\n",
    "def F1_AUC_bal(model, name):\n",
    "    model.fit(features_train, target_train)\n",
    "    predictions = model.predict(features_valid)\n",
    "    probabilities_one = model.predict_proba(features_valid)[:,1]\n",
    "    # вычисляем F1:\n",
    "    F1 = f1_score(target_valid, predictions)\n",
    "    f1_bal.append(F1.round(2))\n",
    "\n",
    "    # вычисляем AUC_ROC:\n",
    "    auc_roc = roc_auc_score(target_valid, probabilities_one)\n",
    "    auc_bal.append(auc_roc.round(2))\n",
    "    print('Применение взвешивания:', '\\n', 'Показатель F1 модели ', name, ' равен: ', F1.round(2), '\\n', \n",
    "         'Показатель AUC_ROC модели ', name, ' равен: ', auc_roc.round(2), sep = '')\n",
    "\n",
    "F1_AUC_bal(balanced_tree_model, 'дерева решений')"
   ]
  },
  {
   "cell_type": "code",
   "execution_count": 29,
   "metadata": {},
   "outputs": [
    {
     "name": "stdout",
     "output_type": "stream",
     "text": [
      "Применение взвешивания:\n",
      "Показатель F1 модели случайного леса с учётом дисбаланса классов равен: 0.62\n",
      "Показатель AUC_ROC модели случайного леса с учётом дисбаланса классов равен: 0.85\n"
     ]
    }
   ],
   "source": [
    "# случайный лес\n",
    "balanced_forest_model = RandomForestClassifier(random_state = 1, n_estimators = best_est, max_depth = best_forest_depth, \n",
    "                                         min_samples_leaf = 2, class_weight = 'balanced')\n",
    "F1_AUC_bal(balanced_forest_model, 'случайного леса с учётом дисбаланса классов')"
   ]
  },
  {
   "cell_type": "code",
   "execution_count": 30,
   "metadata": {},
   "outputs": [
    {
     "name": "stdout",
     "output_type": "stream",
     "text": [
      "Применение взвешивания:\n",
      "Показатель F1 модели логит-регрессии с учётом дисбаланса классов равен: 0.49\n",
      "Показатель AUC_ROC модели логит-регрессии с учётом дисбаланса классов равен: 0.76\n"
     ]
    }
   ],
   "source": [
    "balanced_logist_model = LogisticRegression(random_state = 1, solver = 'liblinear', class_weight = 'balanced')\n",
    "F1_AUC_bal(balanced_logist_model, 'логит-регрессии с учётом дисбаланса классов')"
   ]
  },
  {
   "cell_type": "markdown",
   "metadata": {},
   "source": [
    "Поправка на дисбаланс с помощью взвешивания позволила нам улучшить F1 для двух моделей: случайный лес и логистическая регрессия. \n",
    "\n",
    "------\n",
    "Попробуем увеличить выборку (**upsamling**):"
   ]
  },
  {
   "cell_type": "code",
   "execution_count": 26,
   "metadata": {},
   "outputs": [
    {
     "name": "stdout",
     "output_type": "stream",
     "text": [
      "(9588, 11)\n",
      "(9588,)\n",
      "      CreditScore       Age    Tenure   Balance  NumOfProducts  HasCrCard  \\\n",
      "7479    -0.886751 -0.373192  1.104696  1.232271      -0.891560          1   \n",
      "3411     0.608663 -0.183385  1.104696  0.600563      -0.891560          0   \n",
      "6027     2.052152  0.480939 -0.503694  1.027098       0.830152          0   \n",
      "1247    -1.457915 -1.417129  0.461340 -1.233163       0.830152          1   \n",
      "3716     0.130961 -1.132419 -0.825373  1.140475      -0.891560          0   \n",
      "\n",
      "      IsActiveMember  EstimatedSalary  Geography_Germany  Geography_Spain  \\\n",
      "7479               0        -0.187705                  0                1   \n",
      "3411               0        -0.333945                  0                0   \n",
      "6027               1         1.503095                  1                0   \n",
      "1247               0        -1.071061                  0                0   \n",
      "3716               0         1.524268                  1                0   \n",
      "\n",
      "      Gender_Male  \n",
      "7479            1  \n",
      "3411            0  \n",
      "6027            1  \n",
      "1247            1  \n",
      "3716            0  \n"
     ]
    }
   ],
   "source": [
    "features_0 = features_train[target_train == 0]\n",
    "features_1 = features_train[target_train == 1]\n",
    "target_0 = target_train[target_train == 0]\n",
    "target_1 = target_train[target_train == 1]\n",
    "repeat = 4\n",
    "features_up = pd.concat([features_0] + [features_1]*repeat)\n",
    "target_up = pd.concat([target_0] + [target_1]*repeat)\n",
    "features_up, target_up = shuffle(features_up, target_up, random_state = 1)\n",
    "print(features_up.shape)\n",
    "print(target_up.shape)"
   ]
  },
  {
   "cell_type": "markdown",
   "metadata": {},
   "source": [
    "Обучим модели на новых данных:"
   ]
  },
  {
   "cell_type": "code",
   "execution_count": 32,
   "metadata": {},
   "outputs": [
    {
     "name": "stdout",
     "output_type": "stream",
     "text": [
      "Применение метода upsamling:\n",
      "Показатель F1 модели дерево решений равен: 0.56\n",
      "Показатель AUC_ROC модели дерево решений равен: 0.81\n"
     ]
    }
   ],
   "source": [
    "# Дерево решений\n",
    "f1_up = []\n",
    "auc_up = []\n",
    "# функция для вычисления метрик\n",
    "def F1_AUC_up(model, name):\n",
    "    model.fit(features_up, target_up)\n",
    "    predictions = model.predict(features_valid)\n",
    "    probabilities_one = model.predict_proba(features_valid)[:,1]\n",
    "    F1 = f1_score(target_valid, predictions)\n",
    "    f1_up.append(F1.round(2))\n",
    "    auc_roc = roc_auc_score(target_valid, probabilities_one)\n",
    "    auc_up.append(auc_roc.round(2))\n",
    "    print('Применение метода upsamling:', '\\n', 'Показатель F1 модели ', name, ' равен: ', F1.round(2), '\\n', \n",
    "         'Показатель AUC_ROC модели ', name, ' равен: ', auc_roc.round(2), sep = '')\n",
    "F1_AUC_up(best_tree_model, 'дерево решений')"
   ]
  },
  {
   "cell_type": "code",
   "execution_count": 33,
   "metadata": {},
   "outputs": [
    {
     "name": "stdout",
     "output_type": "stream",
     "text": [
      "Применение метода upsamling:\n",
      "Показатель F1 модели случайного леса равен: 0.63\n",
      "Показатель AUC_ROC модели случайного леса равен: 0.85\n"
     ]
    }
   ],
   "source": [
    "# случайный лес\n",
    "F1_AUC_up(best_forest_model, 'случайного леса')"
   ]
  },
  {
   "cell_type": "code",
   "execution_count": 34,
   "metadata": {},
   "outputs": [
    {
     "name": "stdout",
     "output_type": "stream",
     "text": [
      "Применение метода upsamling:\n",
      "Показатель F1 модели логит-регрессии равен: 0.49\n",
      "Показатель AUC_ROC модели логит-регрессии равен: 0.76\n"
     ]
    }
   ],
   "source": [
    "# логит-регрессия\n",
    "F1_AUC_up(logist_model, 'логит-регрессии')"
   ]
  },
  {
   "cell_type": "markdown",
   "metadata": {},
   "source": [
    "Результаты получили практически те же, что и при обучении с применением взвешивания.\n",
    "\n",
    "---\n",
    "Осталось попробовать метод уменьшения выборки (**downsamling**):"
   ]
  },
  {
   "cell_type": "code",
   "execution_count": 30,
   "metadata": {},
   "outputs": [
    {
     "name": "stdout",
     "output_type": "stream",
     "text": [
      "(2397, 11)\n",
      "(2397,)\n",
      "      CreditScore       Age    Tenure   Balance  NumOfProducts  HasCrCard  \\\n",
      "5558     0.255579 -0.468095 -1.468729  0.807111      -0.891560          1   \n",
      "441      1.429063 -0.752805  1.426375 -1.233163       0.830152          1   \n",
      "3485    -0.502513 -0.562998 -0.503694 -1.233163      -0.891560          1   \n",
      "3878    -1.312528 -0.657902  0.461340  0.890981       0.830152          1   \n",
      "7800     0.473660  1.240166 -1.147051  0.504077      -0.891560          1   \n",
      "\n",
      "      IsActiveMember  EstimatedSalary  Geography_Germany  Geography_Spain  \\\n",
      "5558               1        -1.271060                  1                0   \n",
      "441                0        -0.266201                  0                0   \n",
      "3485               0        -0.992834                  0                0   \n",
      "3878               1        -1.692095                  1                0   \n",
      "7800               0         1.201758                  1                0   \n",
      "\n",
      "      Gender_Male  \n",
      "5558            1  \n",
      "441             0  \n",
      "3485            1  \n",
      "3878            0  \n",
      "7800            0  \n",
      "5558    1\n",
      "4118    0\n",
      "3485    1\n",
      "753     0\n",
      "7800    1\n",
      "Name: Exited, dtype: int64\n"
     ]
    }
   ],
   "source": [
    "fraction = 0.25\n",
    "features_down = pd.concat([features_0.sample(frac = fraction, random_state = 1)] + [features_1])\n",
    "target_down = pd.concat([target_0.sample(frac = fraction, random_state = 456)] + [target_1])\n",
    "features_down= shuffle(features_down, random_state = 1)\n",
    "target_down = shuffle(target_down, random_state = 1)\n",
    "print(features_down.shape)\n",
    "print(target_down.shape)\n",
    "print(features_down.head())\n",
    "print(target_down.head())"
   ]
  },
  {
   "cell_type": "code",
   "execution_count": 36,
   "metadata": {},
   "outputs": [
    {
     "name": "stdout",
     "output_type": "stream",
     "text": [
      "Применение downsampling:\n",
      "Показатель F1 модели дерево решений равен: 0.56\n",
      "Показатель AUC_ROC модели дерево решений равен: 0.82\n"
     ]
    }
   ],
   "source": [
    "f1_down = []\n",
    "auc_down = []\n",
    "# функция для вычисления метрик\n",
    "def F1_AUC_down(model, name):\n",
    "    model.fit(features_down, target_down)\n",
    "    predictions = model.predict(features_valid)\n",
    "    probabilities_one = model.predict_proba(features_valid)[:,1]\n",
    "    F1 = f1_score(target_valid, predictions)\n",
    "    f1_down.append(F1.round(2))\n",
    "    auc_roc = roc_auc_score(target_valid, probabilities_one)\n",
    "    auc_down.append(auc_roc.round(2))\n",
    "    print('Применение downsampling:', '\\n', 'Показатель F1 модели ', name, ' равен: ', F1.round(2), '\\n', \n",
    "         'Показатель AUC_ROC модели ', name, ' равен: ', auc_roc.round(2), sep = '')\n",
    "\n",
    "# Дерево решений\n",
    "F1_AUC_down(best_tree_model, 'дерево решений')"
   ]
  },
  {
   "cell_type": "code",
   "execution_count": 37,
   "metadata": {},
   "outputs": [
    {
     "name": "stdout",
     "output_type": "stream",
     "text": [
      "Применение downsampling:\n",
      "Показатель F1 модели случайного леса равен: 0.57\n",
      "Показатель AUC_ROC модели случайного леса равен: 0.83\n"
     ]
    }
   ],
   "source": [
    "# случайный лес\n",
    "F1_AUC_down(best_forest_model, 'случайного леса')"
   ]
  },
  {
   "cell_type": "code",
   "execution_count": 38,
   "metadata": {
    "scrolled": true
   },
   "outputs": [
    {
     "name": "stdout",
     "output_type": "stream",
     "text": [
      "Применение downsampling:\n",
      "Показатель F1 модели логит-регрессии равен: 0.49\n",
      "Показатель AUC_ROC модели логит-регрессии равен: 0.76\n"
     ]
    }
   ],
   "source": [
    "# логит-регрессия\n",
    "F1_AUC_down(logist_model, 'логит-регрессии')"
   ]
  },
  {
   "cell_type": "code",
   "execution_count": 39,
   "metadata": {},
   "outputs": [
    {
     "data": {
      "text/html": [
       "<div>\n",
       "<style scoped>\n",
       "    .dataframe tbody tr th:only-of-type {\n",
       "        vertical-align: middle;\n",
       "    }\n",
       "\n",
       "    .dataframe tbody tr th {\n",
       "        vertical-align: top;\n",
       "    }\n",
       "\n",
       "    .dataframe thead th {\n",
       "        text-align: right;\n",
       "    }\n",
       "</style>\n",
       "<table border=\"1\" class=\"dataframe\">\n",
       "  <thead>\n",
       "    <tr style=\"text-align: right;\">\n",
       "      <th></th>\n",
       "      <th>Tree</th>\n",
       "      <th>Forest</th>\n",
       "      <th>LogitR</th>\n",
       "    </tr>\n",
       "  </thead>\n",
       "  <tbody>\n",
       "    <tr>\n",
       "      <td>F1 базовой модели</td>\n",
       "      <td>0.57</td>\n",
       "      <td>0.59</td>\n",
       "      <td>0.33</td>\n",
       "    </tr>\n",
       "    <tr>\n",
       "      <td>F1 взвешенный</td>\n",
       "      <td>0.56</td>\n",
       "      <td>0.62</td>\n",
       "      <td>0.49</td>\n",
       "    </tr>\n",
       "    <tr>\n",
       "      <td>F1 upsample</td>\n",
       "      <td>0.56</td>\n",
       "      <td>0.63</td>\n",
       "      <td>0.49</td>\n",
       "    </tr>\n",
       "    <tr>\n",
       "      <td>F1 downsample</td>\n",
       "      <td>0.56</td>\n",
       "      <td>0.57</td>\n",
       "      <td>0.49</td>\n",
       "    </tr>\n",
       "  </tbody>\n",
       "</table>\n",
       "</div>"
      ],
      "text/plain": [
       "                   Tree  Forest  LogitR\n",
       "F1 базовой модели  0.57    0.59    0.33\n",
       "F1 взвешенный      0.56    0.62    0.49\n",
       "F1 upsample        0.56    0.63    0.49\n",
       "F1 downsample      0.56    0.57    0.49"
      ]
     },
     "metadata": {},
     "output_type": "display_data"
    },
    {
     "data": {
      "text/html": [
       "<div>\n",
       "<style scoped>\n",
       "    .dataframe tbody tr th:only-of-type {\n",
       "        vertical-align: middle;\n",
       "    }\n",
       "\n",
       "    .dataframe tbody tr th {\n",
       "        vertical-align: top;\n",
       "    }\n",
       "\n",
       "    .dataframe thead th {\n",
       "        text-align: right;\n",
       "    }\n",
       "</style>\n",
       "<table border=\"1\" class=\"dataframe\">\n",
       "  <thead>\n",
       "    <tr style=\"text-align: right;\">\n",
       "      <th></th>\n",
       "      <th>Tree</th>\n",
       "      <th>Forest</th>\n",
       "      <th>LogitR</th>\n",
       "    </tr>\n",
       "  </thead>\n",
       "  <tbody>\n",
       "    <tr>\n",
       "      <td>AUC-ROC базовой модели</td>\n",
       "      <td>0.82</td>\n",
       "      <td>0.84</td>\n",
       "      <td>0.76</td>\n",
       "    </tr>\n",
       "    <tr>\n",
       "      <td>AUC-ROC взвешенный</td>\n",
       "      <td>0.81</td>\n",
       "      <td>0.85</td>\n",
       "      <td>0.76</td>\n",
       "    </tr>\n",
       "    <tr>\n",
       "      <td>AUC-ROC upsample</td>\n",
       "      <td>0.81</td>\n",
       "      <td>0.85</td>\n",
       "      <td>0.76</td>\n",
       "    </tr>\n",
       "    <tr>\n",
       "      <td>AUC-ROC downsample</td>\n",
       "      <td>0.82</td>\n",
       "      <td>0.83</td>\n",
       "      <td>0.76</td>\n",
       "    </tr>\n",
       "  </tbody>\n",
       "</table>\n",
       "</div>"
      ],
      "text/plain": [
       "                        Tree  Forest  LogitR\n",
       "AUC-ROC базовой модели  0.82    0.84    0.76\n",
       "AUC-ROC взвешенный      0.81    0.85    0.76\n",
       "AUC-ROC upsample        0.81    0.85    0.76\n",
       "AUC-ROC downsample      0.82    0.83    0.76"
      ]
     },
     "metadata": {},
     "output_type": "display_data"
    }
   ],
   "source": [
    "result_F1 = pd.DataFrame(np.array([f1_base, f1_bal, f1_up, f1_down]), columns=['Tree', 'Forest', 'LogitR'], \n",
    "                         index = ['F1 базовой модели', 'F1 взвешенный', 'F1 upsample', 'F1 downsample'])\n",
    "display(result_F1)\n",
    "\n",
    "result_AUC = pd.DataFrame(np.array([auc_base, auc_bal, auc_up, auc_down]), columns=['Tree', 'Forest', 'LogitR'], \n",
    "                         index = ['AUC-ROC базовой модели', 'AUC-ROC взвешенный', 'AUC-ROC upsample', 'AUC-ROC downsample'])\n",
    "display(result_AUC)"
   ]
  },
  {
   "cell_type": "markdown",
   "metadata": {},
   "source": [
    "Как видно из итоговых таблиц с метриками качества моделей, наилучшие результаты показывает модель случайного леса, обученная с помощью метода увеличения выборки: F1 такой модели равен 0,63, площадь под ROC-кривой - 0,85. Практически такие же показатели у модели случайного леса, обученной с помощью взвешивания классов. \n",
    "\n",
    "Худшие показатели меры F1 получены при обучении на уменьшенной выборке."
   ]
  },
  {
   "cell_type": "code",
   "execution_count": 40,
   "metadata": {
    "scrolled": true
   },
   "outputs": [
    {
     "name": "stderr",
     "output_type": "stream",
     "text": [
      "/opt/conda/lib/python3.7/site-packages/sklearn/metrics/classification.py:1437: UndefinedMetricWarning: F-score is ill-defined and being set to 0.0 due to no predicted samples.\n",
      "  'precision', 'predicted', average, warn_for)\n",
      "/opt/conda/lib/python3.7/site-packages/sklearn/metrics/classification.py:1437: UndefinedMetricWarning: F-score is ill-defined and being set to 0.0 due to no predicted samples.\n",
      "  'precision', 'predicted', average, warn_for)\n",
      "/opt/conda/lib/python3.7/site-packages/sklearn/metrics/classification.py:1437: UndefinedMetricWarning: F-score is ill-defined and being set to 0.0 due to no predicted samples.\n",
      "  'precision', 'predicted', average, warn_for)\n",
      "/opt/conda/lib/python3.7/site-packages/sklearn/metrics/classification.py:1437: UndefinedMetricWarning: F-score is ill-defined and being set to 0.0 due to no predicted samples.\n",
      "  'precision', 'predicted', average, warn_for)\n",
      "/opt/conda/lib/python3.7/site-packages/sklearn/metrics/classification.py:1437: UndefinedMetricWarning: F-score is ill-defined and being set to 0.0 due to no predicted samples.\n",
      "  'precision', 'predicted', average, warn_for)\n",
      "/opt/conda/lib/python3.7/site-packages/sklearn/metrics/classification.py:1437: UndefinedMetricWarning: F-score is ill-defined and being set to 0.0 due to no predicted samples.\n",
      "  'precision', 'predicted', average, warn_for)\n",
      "/opt/conda/lib/python3.7/site-packages/sklearn/metrics/classification.py:1437: UndefinedMetricWarning: F-score is ill-defined and being set to 0.0 due to no predicted samples.\n",
      "  'precision', 'predicted', average, warn_for)\n",
      "/opt/conda/lib/python3.7/site-packages/sklearn/metrics/classification.py:1437: UndefinedMetricWarning: F-score is ill-defined and being set to 0.0 due to no predicted samples.\n",
      "  'precision', 'predicted', average, warn_for)\n",
      "/opt/conda/lib/python3.7/site-packages/sklearn/metrics/classification.py:1437: UndefinedMetricWarning: F-score is ill-defined and being set to 0.0 due to no predicted samples.\n",
      "  'precision', 'predicted', average, warn_for)\n",
      "/opt/conda/lib/python3.7/site-packages/sklearn/metrics/classification.py:1437: UndefinedMetricWarning: F-score is ill-defined and being set to 0.0 due to no predicted samples.\n",
      "  'precision', 'predicted', average, warn_for)\n",
      "/opt/conda/lib/python3.7/site-packages/sklearn/metrics/classification.py:1437: UndefinedMetricWarning: F-score is ill-defined and being set to 0.0 due to no predicted samples.\n",
      "  'precision', 'predicted', average, warn_for)\n",
      "/opt/conda/lib/python3.7/site-packages/sklearn/metrics/classification.py:1437: UndefinedMetricWarning: F-score is ill-defined and being set to 0.0 due to no predicted samples.\n",
      "  'precision', 'predicted', average, warn_for)\n",
      "/opt/conda/lib/python3.7/site-packages/sklearn/metrics/classification.py:1437: UndefinedMetricWarning: F-score is ill-defined and being set to 0.0 due to no predicted samples.\n",
      "  'precision', 'predicted', average, warn_for)\n",
      "/opt/conda/lib/python3.7/site-packages/sklearn/metrics/classification.py:1437: UndefinedMetricWarning: F-score is ill-defined and being set to 0.0 due to no predicted samples.\n",
      "  'precision', 'predicted', average, warn_for)\n",
      "/opt/conda/lib/python3.7/site-packages/sklearn/metrics/classification.py:1437: UndefinedMetricWarning: F-score is ill-defined and being set to 0.0 due to no predicted samples.\n",
      "  'precision', 'predicted', average, warn_for)\n",
      "/opt/conda/lib/python3.7/site-packages/sklearn/metrics/classification.py:1437: UndefinedMetricWarning: F-score is ill-defined and being set to 0.0 due to no predicted samples.\n",
      "  'precision', 'predicted', average, warn_for)\n",
      "/opt/conda/lib/python3.7/site-packages/sklearn/metrics/classification.py:1437: UndefinedMetricWarning: F-score is ill-defined and being set to 0.0 due to no predicted samples.\n",
      "  'precision', 'predicted', average, warn_for)\n",
      "/opt/conda/lib/python3.7/site-packages/sklearn/metrics/classification.py:1437: UndefinedMetricWarning: F-score is ill-defined and being set to 0.0 due to no predicted samples.\n",
      "  'precision', 'predicted', average, warn_for)\n",
      "/opt/conda/lib/python3.7/site-packages/sklearn/metrics/classification.py:1437: UndefinedMetricWarning: F-score is ill-defined and being set to 0.0 due to no predicted samples.\n",
      "  'precision', 'predicted', average, warn_for)\n",
      "/opt/conda/lib/python3.7/site-packages/sklearn/metrics/classification.py:1437: UndefinedMetricWarning: F-score is ill-defined and being set to 0.0 due to no predicted samples.\n",
      "  'precision', 'predicted', average, warn_for)\n",
      "/opt/conda/lib/python3.7/site-packages/sklearn/metrics/classification.py:1437: UndefinedMetricWarning: F-score is ill-defined and being set to 0.0 due to no predicted samples.\n",
      "  'precision', 'predicted', average, warn_for)\n",
      "/opt/conda/lib/python3.7/site-packages/sklearn/metrics/classification.py:1437: UndefinedMetricWarning: F-score is ill-defined and being set to 0.0 due to no predicted samples.\n",
      "  'precision', 'predicted', average, warn_for)\n",
      "/opt/conda/lib/python3.7/site-packages/sklearn/metrics/classification.py:1437: UndefinedMetricWarning: F-score is ill-defined and being set to 0.0 due to no predicted samples.\n",
      "  'precision', 'predicted', average, warn_for)\n",
      "/opt/conda/lib/python3.7/site-packages/sklearn/metrics/classification.py:1437: UndefinedMetricWarning: F-score is ill-defined and being set to 0.0 due to no predicted samples.\n",
      "  'precision', 'predicted', average, warn_for)\n",
      "/opt/conda/lib/python3.7/site-packages/sklearn/metrics/classification.py:1437: UndefinedMetricWarning: F-score is ill-defined and being set to 0.0 due to no predicted samples.\n",
      "  'precision', 'predicted', average, warn_for)\n",
      "/opt/conda/lib/python3.7/site-packages/sklearn/metrics/classification.py:1437: UndefinedMetricWarning: F-score is ill-defined and being set to 0.0 due to no predicted samples.\n",
      "  'precision', 'predicted', average, warn_for)\n",
      "/opt/conda/lib/python3.7/site-packages/sklearn/metrics/classification.py:1437: UndefinedMetricWarning: F-score is ill-defined and being set to 0.0 due to no predicted samples.\n",
      "  'precision', 'predicted', average, warn_for)\n",
      "/opt/conda/lib/python3.7/site-packages/sklearn/metrics/classification.py:1437: UndefinedMetricWarning: F-score is ill-defined and being set to 0.0 due to no predicted samples.\n",
      "  'precision', 'predicted', average, warn_for)\n",
      "/opt/conda/lib/python3.7/site-packages/sklearn/metrics/classification.py:1437: UndefinedMetricWarning: F-score is ill-defined and being set to 0.0 due to no predicted samples.\n",
      "  'precision', 'predicted', average, warn_for)\n"
     ]
    },
    {
     "data": {
      "text/plain": [
       "{'max_depth': 16, 'n_estimators': 50}"
      ]
     },
     "execution_count": 40,
     "metadata": {},
     "output_type": "execute_result"
    }
   ],
   "source": [
    "model = RandomForestClassifier(random_state = 1, min_samples_leaf = 2)\n",
    "parametrs = { 'n_estimators': range (20, 80, 10),\n",
    "              'max_depth': range (1,20)}\n",
    "grid = GridSearchCV(model, parametrs, cv=5, scoring = 'f1')\n",
    "grid.fit(features_train, target_train)\n",
    "grid.best_params_"
   ]
  },
  {
   "cell_type": "code",
   "execution_count": 41,
   "metadata": {},
   "outputs": [
    {
     "data": {
      "text/plain": [
       "(0.5779122541603631, 0.842938500716796)"
      ]
     },
     "execution_count": 41,
     "metadata": {},
     "output_type": "execute_result"
    }
   ],
   "source": [
    "grid_model = RandomForestClassifier(random_state = 1, max_depth = grid.best_params_['max_depth'], \n",
    "                                    n_estimators = grid.best_params_['n_estimators'], min_samples_leaf = 2)\n",
    "F1_AUC(grid_model)"
   ]
  },
  {
   "cell_type": "markdown",
   "metadata": {},
   "source": [
    "## Тестирование модели"
   ]
  },
  {
   "cell_type": "markdown",
   "metadata": {},
   "source": [
    "Протестируем две лучшие модели: \n",
    "\n",
    "**1. Модель случайного леса со взвешиванием** "
   ]
  },
  {
   "cell_type": "code",
   "execution_count": 42,
   "metadata": {
    "scrolled": true
   },
   "outputs": [],
   "source": [
    "balanced_forest_model.fit(features_train, target_train)\n",
    "predictions = balanced_forest_model.predict(features_test)\n",
    "probabilities_one = balanced_forest_model.predict_proba(features_test)[:,1]\n",
    "fpr_bal, tpr_bal, thr_bal = roc_curve(target_test, probabilities_one)\n",
    "F1_balanced = f1_score(target_test, predictions)\n",
    "auc_roc_balanced = roc_auc_score(target_test, probabilities_one)"
   ]
  },
  {
   "cell_type": "markdown",
   "metadata": {},
   "source": [
    "**2. Модель случайного леса, обученная с применением upsample**"
   ]
  },
  {
   "cell_type": "code",
   "execution_count": 43,
   "metadata": {},
   "outputs": [],
   "source": [
    "best_forest_model.fit(features_up, target_up)\n",
    "predictions = best_forest_model.predict(features_test)\n",
    "probabilities_one = best_forest_model.predict_proba(features_test)[:,1]\n",
    "fpr_up, tpr_up, thr_up = roc_curve(target_test, probabilities_one)\n",
    "F1_upsamle = f1_score(target_test, predictions)\n",
    "auc_roc_upsamle = roc_auc_score(target_test, probabilities_one)"
   ]
  },
  {
   "cell_type": "code",
   "execution_count": 44,
   "metadata": {},
   "outputs": [
    {
     "data": {
      "text/html": [
       "<div>\n",
       "<style scoped>\n",
       "    .dataframe tbody tr th:only-of-type {\n",
       "        vertical-align: middle;\n",
       "    }\n",
       "\n",
       "    .dataframe tbody tr th {\n",
       "        vertical-align: top;\n",
       "    }\n",
       "\n",
       "    .dataframe thead th {\n",
       "        text-align: right;\n",
       "    }\n",
       "</style>\n",
       "<table border=\"1\" class=\"dataframe\">\n",
       "  <thead>\n",
       "    <tr style=\"text-align: right;\">\n",
       "      <th></th>\n",
       "      <th>Forest_balanced</th>\n",
       "      <th>Forest_up</th>\n",
       "    </tr>\n",
       "  </thead>\n",
       "  <tbody>\n",
       "    <tr>\n",
       "      <td>F1</td>\n",
       "      <td>0.61</td>\n",
       "      <td>0.61</td>\n",
       "    </tr>\n",
       "    <tr>\n",
       "      <td>AUC-ROC</td>\n",
       "      <td>0.86</td>\n",
       "      <td>0.85</td>\n",
       "    </tr>\n",
       "  </tbody>\n",
       "</table>\n",
       "</div>"
      ],
      "text/plain": [
       "         Forest_balanced  Forest_up\n",
       "F1                  0.61       0.61\n",
       "AUC-ROC             0.86       0.85"
      ]
     },
     "metadata": {},
     "output_type": "display_data"
    }
   ],
   "source": [
    "test_result = pd.DataFrame([[F1_balanced.round(2), F1_upsamle.round(2)], [auc_roc_balanced.round(2), auc_roc_upsamle.round(2)]], \n",
    "                           columns=['Forest_balanced', 'Forest_up'], \n",
    "                           index = ['F1', 'AUC-ROC'])\n",
    "display(test_result)"
   ]
  },
  {
   "cell_type": "code",
   "execution_count": 45,
   "metadata": {},
   "outputs": [
    {
     "data": {
      "image/png": "[encoded data removed]",
      "text/plain": [
       "<Figure size 432x288 with 1 Axes>"
      ]
     },
     "metadata": {
      "needs_background": "light"
     },
     "output_type": "display_data"
    }
   ],
   "source": [
    "plt.figure()\n",
    "plt.plot(fpr_bal, tpr_bal, label='Forest_balanced')\n",
    "plt.plot(fpr_up, tpr_up, label='Forest_up')\n",
    "plt.plot([0, 1], [0, 1], linestyle = '--')\n",
    "plt.ylim([0, 1])\n",
    "plt.xlim([0, 1])\n",
    "plt.xlabel('False Positive Rate')\n",
    "plt.ylabel('True Positive Rate')\n",
    "plt.gca().legend()\n",
    "plt.title('ROC-кривая')\n",
    "plt.show()"
   ]
  },
  {
   "cell_type": "markdown",
   "metadata": {},
   "source": [
    "Мы видим, что на тестовой выборке обе модели показывают одинаковые значения метрики F1: 0,61. Но у модели, обученной на взвешенных классах, чуть больше площадь под ROC-кривой. Для обеих моделей AUC-ROC значительно превышает AUC-ROC для константной модели, что свидетельствует об их адекватности."
   ]
  },
  {
   "cell_type": "code",
   "execution_count": 46,
   "metadata": {
    "scrolled": true
   },
   "outputs": [
    {
     "name": "stdout",
     "output_type": "stream",
     "text": [
      "              precision    recall  f1-score   support\n",
      "\n",
      "           0       0.90      0.89      0.90      1577\n",
      "           1       0.61      0.61      0.61       423\n",
      "\n",
      "    accuracy                           0.83      2000\n",
      "   macro avg       0.75      0.75      0.75      2000\n",
      "weighted avg       0.83      0.83      0.83      2000\n",
      "\n"
     ]
    }
   ],
   "source": [
    "print(classification_report(target_test, predictions))"
   ]
  },
  {
   "cell_type": "markdown",
   "metadata": {},
   "source": [
    "Доля верных ответов (accuracy) модели на тестовых данных - 83%. Меры precision, recall и взвешенная f1 в целом для модели одинаковы и равны 0,83."
   ]
  },
  {
   "cell_type": "code",
   "execution_count": 47,
   "metadata": {},
   "outputs": [
    {
     "name": "stdout",
     "output_type": "stream",
     "text": [
      "Age                  0.276210\n",
      "NumOfProducts        0.141856\n",
      "Balance              0.134165\n",
      "EstimatedSalary      0.119917\n",
      "CreditScore          0.116154\n",
      "Tenure               0.069674\n",
      "IsActiveMember       0.047898\n",
      "Geography_Germany    0.042071\n",
      "Gender_Male          0.024784\n",
      "HasCrCard            0.015798\n",
      "Geography_Spain      0.011473\n",
      "dtype: float64\n"
     ]
    }
   ],
   "source": [
    "importances = best_forest_model.feature_importances_\n",
    "forest_importances = pd.Series(importances, index = features_test.columns).sort_values(ascending = False)\n",
    "print(forest_importances)"
   ]
  },
  {
   "cell_type": "code",
   "execution_count": 48,
   "metadata": {},
   "outputs": [
    {
     "data": {
      "image/png": "[encoded data removed]",
      "text/plain": [
       "<Figure size 720x360 with 1 Axes>"
      ]
     },
     "metadata": {
      "needs_background": "light"
     },
     "output_type": "display_data"
    }
   ],
   "source": [
    "plt.figure(figsize=(10, 5))\n",
    "bar = plt.bar(forest_importances.index, forest_importances)\n",
    "bar[0].set_color('g')\n",
    "plt.title('Влияние признаков')\n",
    "plt.xticks(rotation = 90)\n",
    "plt.show()"
   ]
  },
  {
   "cell_type": "markdown",
   "metadata": {},
   "source": [
    "# Вывод\n",
    "\n",
    "Перед нами была поставлена задача разработки модели для прогнозирования оттока клиентов банка на основе исторических данных о поведении клиентов и расторжении договоров с банком с метрикой F1 не ниже 0,59. Задача выполнена успешно: метрика F1 для выбранной модели на тестовой выборке равна 0,61. \n",
    "В ходе анализа проверялись следующие модели:\n",
    "- дерево решений\n",
    "- случайный лес\n",
    "- логистическая регрессия. \n",
    "\n",
    "Анализ моделей проводился в два этапа: без учёта дисбаланса классов и с учётом дисбаланса. Поскольку в предоставленных данных классы существенно разбалансированы, модели показывают лучшие результаты при обучении с учётом имеющегося дисбаланса. \n",
    "\n",
    "**Наилучший результат показала модель случайного леса, обученная с применением взвешивания классов со следующими гиперпараметрами**:\n",
    "- **количество деревьев - 50**\n",
    "- **максимальная глубина дерева - 14**\n",
    "- **минимальное количество \"листьев\" - 2**\n",
    "\n",
    "Наибольшее влияние на уход клиента из банка оказывает фактор возраста, наименьшее - географическая и половая принадлежность, наличие кредитной карты банка. "
   ]
  }
 ],
 "metadata": {
  "ExecuteTimeLog": [
   {
    "duration": 1255,
    "start_time": "2021-09-01T05:14:11.717Z"
   },
   {
    "duration": 10,
    "start_time": "2021-09-01T05:17:08.852Z"
   },
   {
    "duration": 12,
    "start_time": "2021-09-01T05:26:20.671Z"
   },
   {
    "duration": 121,
    "start_time": "2021-09-01T05:26:31.724Z"
   },
   {
    "duration": 91,
    "start_time": "2021-09-01T05:26:42.211Z"
   },
   {
    "duration": 82,
    "start_time": "2021-09-01T05:27:05.233Z"
   },
   {
    "duration": 411,
    "start_time": "2021-09-01T05:33:05.039Z"
   },
   {
    "duration": 42,
    "start_time": "2021-09-01T05:33:14.920Z"
   },
   {
    "duration": 13,
    "start_time": "2021-09-01T05:33:22.198Z"
   },
   {
    "duration": 12,
    "start_time": "2021-09-01T05:33:30.036Z"
   },
   {
    "duration": 42,
    "start_time": "2021-09-01T05:35:34.419Z"
   },
   {
    "duration": 11,
    "start_time": "2021-09-01T05:35:34.463Z"
   },
   {
    "duration": 12,
    "start_time": "2021-09-01T05:35:34.476Z"
   },
   {
    "duration": 44,
    "start_time": "2021-09-01T05:35:53.176Z"
   },
   {
    "duration": 10,
    "start_time": "2021-09-01T05:35:53.222Z"
   },
   {
    "duration": 13,
    "start_time": "2021-09-01T05:35:53.233Z"
   },
   {
    "duration": 45,
    "start_time": "2021-09-01T05:36:06.724Z"
   },
   {
    "duration": 12,
    "start_time": "2021-09-01T05:36:06.771Z"
   },
   {
    "duration": 14,
    "start_time": "2021-09-01T05:36:06.784Z"
   },
   {
    "duration": 9,
    "start_time": "2021-09-01T05:38:57.631Z"
   },
   {
    "duration": 5,
    "start_time": "2021-09-01T05:39:37.640Z"
   },
   {
    "duration": 7,
    "start_time": "2021-09-01T05:39:55.418Z"
   },
   {
    "duration": 7,
    "start_time": "2021-09-01T05:40:45.670Z"
   },
   {
    "duration": 9,
    "start_time": "2021-09-01T05:43:20.459Z"
   },
   {
    "duration": 9,
    "start_time": "2021-09-01T05:46:22.039Z"
   },
   {
    "duration": 246,
    "start_time": "2021-09-01T05:47:35.325Z"
   },
   {
    "duration": 8,
    "start_time": "2021-09-01T05:47:54.219Z"
   },
   {
    "duration": 20,
    "start_time": "2021-09-01T05:49:00.166Z"
   },
   {
    "duration": 22,
    "start_time": "2021-09-01T05:49:08.425Z"
   },
   {
    "duration": 18,
    "start_time": "2021-09-01T05:51:51.821Z"
   },
   {
    "duration": 19,
    "start_time": "2021-09-01T05:52:56.728Z"
   },
   {
    "duration": 18,
    "start_time": "2021-09-01T05:53:01.382Z"
   },
   {
    "duration": 19,
    "start_time": "2021-09-01T05:53:05.388Z"
   },
   {
    "duration": 19,
    "start_time": "2021-09-01T05:53:09.683Z"
   },
   {
    "duration": 19,
    "start_time": "2021-09-01T05:53:13.808Z"
   },
   {
    "duration": 18,
    "start_time": "2021-09-01T05:53:19.185Z"
   },
   {
    "duration": 18,
    "start_time": "2021-09-01T05:53:22.889Z"
   },
   {
    "duration": 16,
    "start_time": "2021-09-01T05:53:26.647Z"
   },
   {
    "duration": 6,
    "start_time": "2021-09-01T05:53:51.484Z"
   },
   {
    "duration": 5,
    "start_time": "2021-09-01T06:02:23.318Z"
   },
   {
    "duration": 9,
    "start_time": "2021-09-01T06:02:41.177Z"
   },
   {
    "duration": 9,
    "start_time": "2021-09-01T06:07:18.246Z"
   },
   {
    "duration": 6,
    "start_time": "2021-09-01T06:08:23.214Z"
   },
   {
    "duration": 6,
    "start_time": "2021-09-01T06:08:51.940Z"
   },
   {
    "duration": 164,
    "start_time": "2021-09-01T06:09:15.937Z"
   },
   {
    "duration": 6,
    "start_time": "2021-09-01T06:10:13.567Z"
   },
   {
    "duration": 7,
    "start_time": "2021-09-01T06:10:41.350Z"
   },
   {
    "duration": 8,
    "start_time": "2021-09-01T06:10:51.240Z"
   },
   {
    "duration": 6,
    "start_time": "2021-09-01T06:14:10.155Z"
   },
   {
    "duration": 13,
    "start_time": "2021-09-01T09:16:45.182Z"
   },
   {
    "duration": 19,
    "start_time": "2021-09-01T09:16:55.769Z"
   },
   {
    "duration": 19,
    "start_time": "2021-09-01T09:18:00.103Z"
   },
   {
    "duration": 45,
    "start_time": "2021-09-01T09:21:45.514Z"
   },
   {
    "duration": 25,
    "start_time": "2021-09-01T09:26:09.460Z"
   },
   {
    "duration": 12,
    "start_time": "2021-09-01T09:39:26.449Z"
   },
   {
    "duration": 10,
    "start_time": "2021-09-01T09:39:46.685Z"
   },
   {
    "duration": 13,
    "start_time": "2021-09-01T09:55:47.549Z"
   },
   {
    "duration": 57,
    "start_time": "2021-09-01T09:58:58.668Z"
   },
   {
    "duration": 60,
    "start_time": "2021-09-01T10:01:00.611Z"
   },
   {
    "duration": 260,
    "start_time": "2021-09-01T10:12:10.720Z"
   },
   {
    "duration": 41,
    "start_time": "2021-09-01T10:12:45.309Z"
   },
   {
    "duration": 3074,
    "start_time": "2021-09-01T10:12:49.795Z"
   },
   {
    "duration": 6230,
    "start_time": "2021-09-01T10:13:13.957Z"
   },
   {
    "duration": 4676,
    "start_time": "2021-09-01T10:13:36.533Z"
   },
   {
    "duration": 370,
    "start_time": "2021-09-01T10:19:10.028Z"
   },
   {
    "duration": 231,
    "start_time": "2021-09-01T10:21:18.051Z"
   },
   {
    "duration": 4,
    "start_time": "2021-09-01T10:21:29.283Z"
   },
   {
    "duration": 21,
    "start_time": "2021-09-01T10:26:39.338Z"
   },
   {
    "duration": 606,
    "start_time": "2021-09-01T10:45:37.490Z"
   },
   {
    "duration": 24,
    "start_time": "2021-09-01T10:46:19.868Z"
   },
   {
    "duration": 434,
    "start_time": "2021-09-01T10:46:27.958Z"
   },
   {
    "duration": 24,
    "start_time": "2021-09-01T10:46:36.988Z"
   },
   {
    "duration": 84,
    "start_time": "2021-09-01T10:46:43.935Z"
   },
   {
    "duration": 26,
    "start_time": "2021-09-01T10:47:01.117Z"
   },
   {
    "duration": 23,
    "start_time": "2021-09-01T10:47:25.591Z"
   },
   {
    "duration": 25,
    "start_time": "2021-09-01T10:47:38.939Z"
   },
   {
    "duration": 24,
    "start_time": "2021-09-01T10:47:46.281Z"
   },
   {
    "duration": 25,
    "start_time": "2021-09-01T10:47:56.713Z"
   },
   {
    "duration": 86,
    "start_time": "2021-09-01T10:55:22.585Z"
   },
   {
    "duration": 268785,
    "start_time": "2021-09-01T10:55:36.112Z"
   },
   {
    "duration": 249,
    "start_time": "2021-09-01T11:00:18.174Z"
   },
   {
    "duration": 180002,
    "start_time": "2021-09-01T11:00:54.955Z"
   },
   {
    "duration": 395,
    "start_time": "2021-09-01T11:07:27.324Z"
   },
   {
    "duration": 126,
    "start_time": "2021-09-01T11:12:27.669Z"
   },
   {
    "duration": 46,
    "start_time": "2021-09-01T11:14:03.452Z"
   },
   {
    "duration": 3,
    "start_time": "2021-09-01T11:16:51.433Z"
   },
   {
    "duration": 8,
    "start_time": "2021-09-01T11:16:58.005Z"
   },
   {
    "duration": 7,
    "start_time": "2021-09-01T11:17:14.826Z"
   },
   {
    "duration": 259,
    "start_time": "2021-09-01T11:19:24.802Z"
   },
   {
    "duration": 51,
    "start_time": "2021-09-01T11:20:00.965Z"
   },
   {
    "duration": 45,
    "start_time": "2021-09-01T11:20:16.057Z"
   },
   {
    "duration": 11,
    "start_time": "2021-09-01T11:20:22.197Z"
   },
   {
    "duration": 243,
    "start_time": "2021-09-01T11:20:54.427Z"
   },
   {
    "duration": 10,
    "start_time": "2021-09-01T11:21:26.353Z"
   },
   {
    "duration": 250,
    "start_time": "2021-09-01T11:24:18.405Z"
   },
   {
    "duration": 9,
    "start_time": "2021-09-01T11:24:35.480Z"
   },
   {
    "duration": 12,
    "start_time": "2021-09-01T11:26:19.902Z"
   },
   {
    "duration": 31,
    "start_time": "2021-09-01T11:32:59.990Z"
   },
   {
    "duration": 389,
    "start_time": "2021-09-01T11:34:43.918Z"
   },
   {
    "duration": 414,
    "start_time": "2021-09-01T11:35:06.274Z"
   },
   {
    "duration": 70,
    "start_time": "2021-09-01T11:36:16.322Z"
   },
   {
    "duration": 9,
    "start_time": "2021-09-01T11:40:19.851Z"
   },
   {
    "duration": 356,
    "start_time": "2021-09-01T11:52:26.863Z"
   },
   {
    "duration": 4673,
    "start_time": "2021-09-01T11:52:29.957Z"
   },
   {
    "duration": 26,
    "start_time": "2021-09-01T11:52:34.632Z"
   },
   {
    "duration": 26,
    "start_time": "2021-09-01T11:53:13.932Z"
   },
   {
    "duration": 396,
    "start_time": "2021-09-01T11:53:24.143Z"
   },
   {
    "duration": 25,
    "start_time": "2021-09-01T11:53:31.503Z"
   },
   {
    "duration": 24,
    "start_time": "2021-09-01T11:54:07.323Z"
   },
   {
    "duration": 24842,
    "start_time": "2021-09-01T11:56:50.723Z"
   },
   {
    "duration": 4605,
    "start_time": "2021-09-01T11:57:41.336Z"
   },
   {
    "duration": 4420,
    "start_time": "2021-09-01T11:57:53.368Z"
   },
   {
    "duration": 25,
    "start_time": "2021-09-01T11:58:11.950Z"
   },
   {
    "duration": 25349,
    "start_time": "2021-09-01T11:58:26.650Z"
   },
   {
    "duration": 24990,
    "start_time": "2021-09-01T11:59:13.980Z"
   },
   {
    "duration": 261,
    "start_time": "2021-09-01T11:59:49.515Z"
   },
   {
    "duration": 4,
    "start_time": "2021-09-01T12:00:16.330Z"
   },
   {
    "duration": 5082,
    "start_time": "2021-09-01T12:00:30.997Z"
   },
   {
    "duration": 24,
    "start_time": "2021-09-01T12:00:52.001Z"
   },
   {
    "duration": 4832,
    "start_time": "2021-09-01T12:01:00.084Z"
   },
   {
    "duration": 47255,
    "start_time": "2021-09-01T12:02:06.113Z"
   },
   {
    "duration": 270,
    "start_time": "2021-09-01T12:03:22.336Z"
   },
   {
    "duration": 27,
    "start_time": "2021-09-01T12:04:10.496Z"
   },
   {
    "duration": 265,
    "start_time": "2021-09-01T12:05:05.341Z"
   },
   {
    "duration": 28,
    "start_time": "2021-09-01T12:05:26.563Z"
   },
   {
    "duration": 9,
    "start_time": "2021-09-01T12:05:30.103Z"
   },
   {
    "duration": 8,
    "start_time": "2021-09-01T12:05:37.293Z"
   },
   {
    "duration": 353,
    "start_time": "2021-09-01T12:07:22.403Z"
   },
   {
    "duration": 443,
    "start_time": "2021-09-01T12:07:35.297Z"
   },
   {
    "duration": 851,
    "start_time": "2021-09-01T12:07:40.107Z"
   },
   {
    "duration": 32,
    "start_time": "2021-09-01T12:18:24.023Z"
   },
   {
    "duration": 35,
    "start_time": "2021-09-01T12:18:28.367Z"
   },
   {
    "duration": 21,
    "start_time": "2021-09-01T12:18:32.530Z"
   },
   {
    "duration": 20,
    "start_time": "2021-09-01T12:18:37.674Z"
   },
   {
    "duration": 23,
    "start_time": "2021-09-01T12:18:41.588Z"
   },
   {
    "duration": 21,
    "start_time": "2021-09-01T12:18:45.844Z"
   },
   {
    "duration": 23,
    "start_time": "2021-09-01T12:18:57.992Z"
   },
   {
    "duration": 28,
    "start_time": "2021-09-01T12:19:38.376Z"
   },
   {
    "duration": 27,
    "start_time": "2021-09-01T12:19:46.440Z"
   },
   {
    "duration": 11,
    "start_time": "2021-09-01T12:22:20.952Z"
   },
   {
    "duration": 8,
    "start_time": "2021-09-01T12:22:32.765Z"
   },
   {
    "duration": 430,
    "start_time": "2021-09-01T12:24:39.825Z"
   },
   {
    "duration": 126,
    "start_time": "2021-09-01T12:24:46.603Z"
   },
   {
    "duration": 12,
    "start_time": "2021-09-01T12:24:53.023Z"
   },
   {
    "duration": 27,
    "start_time": "2021-09-01T12:29:00.216Z"
   },
   {
    "duration": 25,
    "start_time": "2021-09-01T12:29:33.505Z"
   },
   {
    "duration": 258,
    "start_time": "2021-09-01T12:31:03.553Z"
   },
   {
    "duration": 24,
    "start_time": "2021-09-01T12:32:18.270Z"
   },
   {
    "duration": 290,
    "start_time": "2021-09-01T12:32:25.452Z"
   },
   {
    "duration": 135,
    "start_time": "2021-09-01T12:33:33.361Z"
   },
   {
    "duration": 394,
    "start_time": "2021-09-01T12:38:14.050Z"
   },
   {
    "duration": 412,
    "start_time": "2021-09-01T12:40:13.760Z"
   },
   {
    "duration": 43,
    "start_time": "2021-09-01T12:40:42.850Z"
   },
   {
    "duration": 16,
    "start_time": "2021-09-01T12:40:50.169Z"
   },
   {
    "duration": 23,
    "start_time": "2021-09-01T12:40:53.095Z"
   },
   {
    "duration": 273,
    "start_time": "2021-09-01T12:40:55.490Z"
   },
   {
    "duration": 34,
    "start_time": "2021-09-01T12:40:57.873Z"
   },
   {
    "duration": 15,
    "start_time": "2021-09-01T12:42:17.953Z"
   },
   {
    "duration": 23,
    "start_time": "2021-09-01T12:42:20.545Z"
   },
   {
    "duration": 289,
    "start_time": "2021-09-01T12:42:22.572Z"
   },
   {
    "duration": 89,
    "start_time": "2021-09-01T12:42:24.705Z"
   },
   {
    "duration": 368,
    "start_time": "2021-09-01T12:43:01.906Z"
   },
   {
    "duration": 375,
    "start_time": "2021-09-01T12:43:24.378Z"
   },
   {
    "duration": 10,
    "start_time": "2021-09-01T12:43:32.300Z"
   },
   {
    "duration": 46,
    "start_time": "2021-09-01T12:44:44.465Z"
   },
   {
    "duration": 663,
    "start_time": "2021-09-01T12:44:51.375Z"
   },
   {
    "duration": 61,
    "start_time": "2021-09-01T12:44:58.938Z"
   },
   {
    "duration": 26,
    "start_time": "2021-09-01T12:45:12.214Z"
   },
   {
    "duration": 26,
    "start_time": "2021-09-01T12:46:40.982Z"
   },
   {
    "duration": 236,
    "start_time": "2021-09-01T12:47:39.800Z"
   },
   {
    "duration": 34,
    "start_time": "2021-09-01T12:48:03.759Z"
   },
   {
    "duration": 15,
    "start_time": "2021-09-01T12:51:11.721Z"
   },
   {
    "duration": 41,
    "start_time": "2021-09-01T12:51:26.314Z"
   },
   {
    "duration": 563,
    "start_time": "2021-09-01T12:51:29.123Z"
   },
   {
    "duration": 41,
    "start_time": "2021-09-01T12:51:32.249Z"
   },
   {
    "duration": 10,
    "start_time": "2021-09-01T12:52:07.401Z"
   },
   {
    "duration": 20,
    "start_time": "2021-09-01T12:52:09.874Z"
   },
   {
    "duration": 170,
    "start_time": "2021-09-01T12:52:11.640Z"
   },
   {
    "duration": 106,
    "start_time": "2021-09-01T12:52:13.586Z"
   },
   {
    "duration": 5,
    "start_time": "2021-09-01T12:52:38.845Z"
   },
   {
    "duration": 10,
    "start_time": "2021-09-01T12:52:43.557Z"
   },
   {
    "duration": 9,
    "start_time": "2021-09-01T12:52:57.716Z"
   },
   {
    "duration": 13,
    "start_time": "2021-09-01T12:53:04.556Z"
   },
   {
    "duration": 14,
    "start_time": "2021-09-01T12:53:24.171Z"
   },
   {
    "duration": 357,
    "start_time": "2021-09-01T12:54:07.891Z"
   },
   {
    "duration": 397,
    "start_time": "2021-09-01T12:54:16.689Z"
   },
   {
    "duration": 404,
    "start_time": "2021-09-01T12:54:24.588Z"
   },
   {
    "duration": 366,
    "start_time": "2021-09-01T12:55:57.267Z"
   },
   {
    "duration": 391,
    "start_time": "2021-09-01T12:56:17.218Z"
   },
   {
    "duration": 13,
    "start_time": "2021-09-01T12:57:21.403Z"
   },
   {
    "duration": 375,
    "start_time": "2021-09-01T12:57:41.536Z"
   },
   {
    "duration": 12,
    "start_time": "2021-09-01T12:57:59.161Z"
   },
   {
    "duration": 391,
    "start_time": "2021-09-01T12:58:07.200Z"
   },
   {
    "duration": 16,
    "start_time": "2021-09-01T12:59:55.794Z"
   },
   {
    "duration": 9,
    "start_time": "2021-09-01T13:00:03.878Z"
   },
   {
    "duration": 10,
    "start_time": "2021-09-01T13:00:08.120Z"
   },
   {
    "duration": 10,
    "start_time": "2021-09-01T13:00:31.501Z"
   },
   {
    "duration": 10,
    "start_time": "2021-09-01T13:00:43.495Z"
   },
   {
    "duration": 9,
    "start_time": "2021-09-01T13:00:47.652Z"
   },
   {
    "duration": 1306,
    "start_time": "2021-09-01T13:03:00.914Z"
   },
   {
    "duration": 10062,
    "start_time": "2021-09-01T13:03:18.478Z"
   },
   {
    "duration": 1295,
    "start_time": "2021-09-01T13:03:27.247Z"
   },
   {
    "duration": 9,
    "start_time": "2021-09-01T13:03:35.534Z"
   },
   {
    "duration": 9563,
    "start_time": "2021-09-01T13:03:46.841Z"
   },
   {
    "duration": 10371,
    "start_time": "2021-09-01T13:04:37.416Z"
   },
   {
    "duration": 10256,
    "start_time": "2021-09-01T13:04:59.453Z"
   },
   {
    "duration": 360,
    "start_time": "2021-09-01T13:05:35.891Z"
   },
   {
    "duration": 371,
    "start_time": "2021-09-01T13:05:52.091Z"
   },
   {
    "duration": 413,
    "start_time": "2021-09-01T13:05:57.126Z"
   },
   {
    "duration": 7,
    "start_time": "2021-09-01T13:06:02.293Z"
   },
   {
    "duration": 5,
    "start_time": "2021-09-01T13:06:28.243Z"
   },
   {
    "duration": 10,
    "start_time": "2021-09-01T13:11:36.558Z"
   },
   {
    "duration": 9,
    "start_time": "2021-09-01T13:13:01.543Z"
   },
   {
    "duration": 14,
    "start_time": "2021-09-01T13:14:07.209Z"
   },
   {
    "duration": 798,
    "start_time": "2021-09-01T14:09:54.675Z"
   },
   {
    "duration": 34,
    "start_time": "2021-09-01T14:10:18.669Z"
   },
   {
    "duration": 32,
    "start_time": "2021-09-01T14:10:32.991Z"
   },
   {
    "duration": 282,
    "start_time": "2021-09-01T14:10:53.624Z"
   },
   {
    "duration": 28,
    "start_time": "2021-09-01T14:11:35.097Z"
   },
   {
    "duration": 291,
    "start_time": "2021-09-01T14:11:50.872Z"
   },
   {
    "duration": 111,
    "start_time": "2021-09-01T14:11:59.082Z"
   },
   {
    "duration": 12,
    "start_time": "2021-09-01T14:12:26.334Z"
   },
   {
    "duration": 28,
    "start_time": "2021-09-01T14:13:40.167Z"
   },
   {
    "duration": 290,
    "start_time": "2021-09-01T14:13:45.823Z"
   },
   {
    "duration": 112,
    "start_time": "2021-09-01T14:13:55.693Z"
   },
   {
    "duration": 9,
    "start_time": "2021-09-01T14:14:05.723Z"
   },
   {
    "duration": 31,
    "start_time": "2021-09-01T14:14:11.335Z"
   },
   {
    "duration": 27,
    "start_time": "2021-09-01T14:19:02.819Z"
   },
   {
    "duration": 409,
    "start_time": "2021-09-01T14:19:24.587Z"
   },
   {
    "duration": 32,
    "start_time": "2021-09-01T14:19:30.283Z"
   },
   {
    "duration": 12,
    "start_time": "2021-09-01T14:20:09.472Z"
   },
   {
    "duration": 14,
    "start_time": "2021-09-01T14:20:23.851Z"
   },
   {
    "duration": 357,
    "start_time": "2021-09-01T14:20:55.799Z"
   },
   {
    "duration": 387,
    "start_time": "2021-09-01T14:22:42.681Z"
   },
   {
    "duration": 26,
    "start_time": "2021-09-01T14:23:11.252Z"
   },
   {
    "duration": 261,
    "start_time": "2021-09-01T14:23:14.133Z"
   },
   {
    "duration": 26,
    "start_time": "2021-09-01T14:23:15.260Z"
   },
   {
    "duration": 377,
    "start_time": "2021-09-01T14:23:25.421Z"
   },
   {
    "duration": 447,
    "start_time": "2021-09-01T14:24:59.815Z"
   },
   {
    "duration": 1199,
    "start_time": "2021-09-01T14:25:32.869Z"
   },
   {
    "duration": 11,
    "start_time": "2021-09-01T14:25:34.070Z"
   },
   {
    "duration": 14,
    "start_time": "2021-09-01T14:25:34.085Z"
   },
   {
    "duration": 11,
    "start_time": "2021-09-01T14:25:34.101Z"
   },
   {
    "duration": 5,
    "start_time": "2021-09-01T14:25:34.114Z"
   },
   {
    "duration": 7,
    "start_time": "2021-09-01T14:25:34.121Z"
   },
   {
    "duration": 8,
    "start_time": "2021-09-01T14:25:34.131Z"
   },
   {
    "duration": 18,
    "start_time": "2021-09-01T14:25:34.141Z"
   },
   {
    "duration": 5,
    "start_time": "2021-09-01T14:25:34.160Z"
   },
   {
    "duration": 9,
    "start_time": "2021-09-01T14:25:34.192Z"
   },
   {
    "duration": 6,
    "start_time": "2021-09-01T14:25:34.203Z"
   },
   {
    "duration": 15,
    "start_time": "2021-09-01T14:25:34.210Z"
   },
   {
    "duration": 10,
    "start_time": "2021-09-01T14:25:34.227Z"
   },
   {
    "duration": 15,
    "start_time": "2021-09-01T14:25:34.238Z"
   },
   {
    "duration": 11,
    "start_time": "2021-09-01T14:25:34.255Z"
   },
   {
    "duration": 6,
    "start_time": "2021-09-01T14:25:34.267Z"
   },
   {
    "duration": 31,
    "start_time": "2021-09-01T14:25:34.274Z"
   },
   {
    "duration": 25,
    "start_time": "2021-09-01T14:25:34.306Z"
   },
   {
    "duration": 7,
    "start_time": "2021-09-01T14:25:34.333Z"
   },
   {
    "duration": 11,
    "start_time": "2021-09-01T14:25:34.341Z"
   },
   {
    "duration": 4421,
    "start_time": "2021-09-01T14:25:34.354Z"
   },
   {
    "duration": 32,
    "start_time": "2021-09-01T14:25:38.779Z"
   },
   {
    "duration": 25117,
    "start_time": "2021-09-01T14:25:38.813Z"
   },
   {
    "duration": 274,
    "start_time": "2021-09-01T14:26:03.932Z"
   },
   {
    "duration": 89,
    "start_time": "2021-09-01T14:26:04.208Z"
   },
   {
    "duration": 97,
    "start_time": "2021-09-01T14:26:04.302Z"
   },
   {
    "duration": 729,
    "start_time": "2021-09-01T14:26:04.400Z"
   },
   {
    "duration": 1318,
    "start_time": "2021-09-01T14:26:03.813Z"
   },
   {
    "duration": 1297,
    "start_time": "2021-09-01T14:26:03.835Z"
   },
   {
    "duration": 1292,
    "start_time": "2021-09-01T14:26:03.841Z"
   },
   {
    "duration": 1287,
    "start_time": "2021-09-01T14:26:03.847Z"
   },
   {
    "duration": 1280,
    "start_time": "2021-09-01T14:26:03.855Z"
   },
   {
    "duration": 1274,
    "start_time": "2021-09-01T14:26:03.861Z"
   },
   {
    "duration": 1269,
    "start_time": "2021-09-01T14:26:03.867Z"
   },
   {
    "duration": 1263,
    "start_time": "2021-09-01T14:26:03.874Z"
   },
   {
    "duration": 1257,
    "start_time": "2021-09-01T14:26:03.881Z"
   },
   {
    "duration": 1251,
    "start_time": "2021-09-01T14:26:03.887Z"
   },
   {
    "duration": 1233,
    "start_time": "2021-09-01T14:26:03.906Z"
   },
   {
    "duration": 1226,
    "start_time": "2021-09-01T14:26:03.914Z"
   },
   {
    "duration": 26,
    "start_time": "2021-09-01T14:27:15.306Z"
   },
   {
    "duration": 272,
    "start_time": "2021-09-01T14:27:19.117Z"
   },
   {
    "duration": 96,
    "start_time": "2021-09-01T14:27:20.796Z"
   },
   {
    "duration": 11,
    "start_time": "2021-09-01T14:27:21.987Z"
   },
   {
    "duration": 7,
    "start_time": "2021-09-01T14:28:04.468Z"
   },
   {
    "duration": 713,
    "start_time": "2021-09-01T14:29:45.977Z"
   },
   {
    "duration": 13,
    "start_time": "2021-09-01T14:29:52.869Z"
   },
   {
    "duration": 32,
    "start_time": "2021-09-01T14:29:55.117Z"
   },
   {
    "duration": 354,
    "start_time": "2021-09-01T14:30:04.407Z"
   },
   {
    "duration": 104,
    "start_time": "2021-09-01T14:30:05.790Z"
   },
   {
    "duration": 11,
    "start_time": "2021-09-01T14:31:18.082Z"
   },
   {
    "duration": 18,
    "start_time": "2021-09-01T14:31:20.694Z"
   },
   {
    "duration": 163,
    "start_time": "2021-09-01T14:31:23.363Z"
   },
   {
    "duration": 20,
    "start_time": "2021-09-01T14:31:24.699Z"
   },
   {
    "duration": 1709,
    "start_time": "2021-09-01T14:35:28.069Z"
   },
   {
    "duration": 1458,
    "start_time": "2021-09-01T14:35:44.818Z"
   },
   {
    "duration": 11,
    "start_time": "2021-09-01T14:35:46.278Z"
   },
   {
    "duration": 18,
    "start_time": "2021-09-01T14:35:46.291Z"
   },
   {
    "duration": 9,
    "start_time": "2021-09-01T14:35:46.310Z"
   },
   {
    "duration": 6,
    "start_time": "2021-09-01T14:35:46.321Z"
   },
   {
    "duration": 8,
    "start_time": "2021-09-01T14:35:46.328Z"
   },
   {
    "duration": 7,
    "start_time": "2021-09-01T14:35:46.337Z"
   },
   {
    "duration": 54,
    "start_time": "2021-09-01T14:35:46.347Z"
   },
   {
    "duration": 6,
    "start_time": "2021-09-01T14:35:46.404Z"
   },
   {
    "duration": 11,
    "start_time": "2021-09-01T14:35:46.412Z"
   },
   {
    "duration": 7,
    "start_time": "2021-09-01T14:35:46.425Z"
   },
   {
    "duration": 6,
    "start_time": "2021-09-01T14:35:46.434Z"
   },
   {
    "duration": 9,
    "start_time": "2021-09-01T14:35:46.442Z"
   },
   {
    "duration": 7,
    "start_time": "2021-09-01T14:35:46.452Z"
   },
   {
    "duration": 43,
    "start_time": "2021-09-01T14:35:46.460Z"
   },
   {
    "duration": 7,
    "start_time": "2021-09-01T14:35:46.505Z"
   },
   {
    "duration": 23,
    "start_time": "2021-09-01T14:35:46.513Z"
   },
   {
    "duration": 25,
    "start_time": "2021-09-01T14:35:46.538Z"
   },
   {
    "duration": 37,
    "start_time": "2021-09-01T14:35:46.564Z"
   },
   {
    "duration": 13,
    "start_time": "2021-09-01T14:35:46.603Z"
   },
   {
    "duration": 4790,
    "start_time": "2021-09-01T14:35:46.617Z"
   },
   {
    "duration": 26,
    "start_time": "2021-09-01T14:35:51.409Z"
   },
   {
    "duration": 27728,
    "start_time": "2021-09-01T14:35:51.438Z"
   },
   {
    "duration": 284,
    "start_time": "2021-09-01T14:36:19.168Z"
   },
   {
    "duration": 138,
    "start_time": "2021-09-01T14:36:19.454Z"
   },
   {
    "duration": 11,
    "start_time": "2021-09-01T14:36:19.595Z"
   },
   {
    "duration": 139,
    "start_time": "2021-09-01T14:36:19.608Z"
   },
   {
    "duration": 284,
    "start_time": "2021-09-01T14:36:19.749Z"
   },
   {
    "duration": 64,
    "start_time": "2021-09-01T14:36:20.034Z"
   },
   {
    "duration": 89,
    "start_time": "2021-09-01T14:36:20.103Z"
   },
   {
    "duration": 31,
    "start_time": "2021-09-01T14:36:20.194Z"
   },
   {
    "duration": 44,
    "start_time": "2021-09-01T14:36:20.227Z"
   },
   {
    "duration": 386,
    "start_time": "2021-09-01T14:36:20.273Z"
   },
   {
    "duration": 41,
    "start_time": "2021-09-01T14:36:20.661Z"
   },
   {
    "duration": 96,
    "start_time": "2021-09-01T14:36:20.704Z"
   },
   {
    "duration": 107,
    "start_time": "2021-09-01T14:36:20.803Z"
   },
   {
    "duration": 185,
    "start_time": "2021-09-01T14:36:20.912Z"
   },
   {
    "duration": 94,
    "start_time": "2021-09-01T14:36:21.099Z"
   },
   {
    "duration": 1731,
    "start_time": "2021-09-01T14:36:21.196Z"
   },
   {
    "duration": 7,
    "start_time": "2021-09-01T14:37:07.346Z"
   },
   {
    "duration": 1583,
    "start_time": "2021-09-01T14:37:14.789Z"
   },
   {
    "duration": 1271,
    "start_time": "2021-09-01T14:41:09.990Z"
   },
   {
    "duration": 13,
    "start_time": "2021-09-01T14:41:11.263Z"
   },
   {
    "duration": 21,
    "start_time": "2021-09-01T14:41:11.278Z"
   },
   {
    "duration": 15,
    "start_time": "2021-09-01T14:41:11.302Z"
   },
   {
    "duration": 15,
    "start_time": "2021-09-01T14:41:11.319Z"
   },
   {
    "duration": 15,
    "start_time": "2021-09-01T14:41:11.336Z"
   },
   {
    "duration": 22,
    "start_time": "2021-09-01T14:41:11.353Z"
   },
   {
    "duration": 28,
    "start_time": "2021-09-01T14:41:11.377Z"
   },
   {
    "duration": 7,
    "start_time": "2021-09-01T14:41:11.408Z"
   },
   {
    "duration": 26,
    "start_time": "2021-09-01T14:41:11.417Z"
   },
   {
    "duration": 12,
    "start_time": "2021-09-01T14:41:11.445Z"
   },
   {
    "duration": 17,
    "start_time": "2021-09-01T14:41:11.458Z"
   },
   {
    "duration": 16,
    "start_time": "2021-09-01T14:41:11.477Z"
   },
   {
    "duration": 12,
    "start_time": "2021-09-01T14:41:11.497Z"
   },
   {
    "duration": 12,
    "start_time": "2021-09-01T14:41:11.511Z"
   },
   {
    "duration": 18,
    "start_time": "2021-09-01T14:41:11.525Z"
   },
   {
    "duration": 31,
    "start_time": "2021-09-01T14:41:11.545Z"
   },
   {
    "duration": 32,
    "start_time": "2021-09-01T14:41:11.577Z"
   },
   {
    "duration": 9,
    "start_time": "2021-09-01T14:41:11.611Z"
   },
   {
    "duration": 22,
    "start_time": "2021-09-01T14:41:11.621Z"
   },
   {
    "duration": 5139,
    "start_time": "2021-09-01T14:41:11.645Z"
   },
   {
    "duration": 34,
    "start_time": "2021-09-01T14:41:16.786Z"
   },
   {
    "duration": 26197,
    "start_time": "2021-09-01T14:41:16.824Z"
   },
   {
    "duration": 284,
    "start_time": "2021-09-01T14:41:43.024Z"
   },
   {
    "duration": 86,
    "start_time": "2021-09-01T14:41:43.309Z"
   },
   {
    "duration": 96,
    "start_time": "2021-09-01T14:41:43.397Z"
   },
   {
    "duration": 32,
    "start_time": "2021-09-01T14:41:43.495Z"
   },
   {
    "duration": 303,
    "start_time": "2021-09-01T14:41:43.529Z"
   },
   {
    "duration": 63,
    "start_time": "2021-09-01T14:41:43.834Z"
   },
   {
    "duration": 95,
    "start_time": "2021-09-01T14:41:43.900Z"
   },
   {
    "duration": 19,
    "start_time": "2021-09-01T14:41:43.997Z"
   },
   {
    "duration": 28,
    "start_time": "2021-09-01T14:41:44.017Z"
   },
   {
    "duration": 395,
    "start_time": "2021-09-01T14:41:44.047Z"
   },
   {
    "duration": 55,
    "start_time": "2021-09-01T14:41:44.444Z"
   },
   {
    "duration": 96,
    "start_time": "2021-09-01T14:41:44.502Z"
   },
   {
    "duration": 106,
    "start_time": "2021-09-01T14:41:44.600Z"
   },
   {
    "duration": 178,
    "start_time": "2021-09-01T14:41:44.708Z"
   },
   {
    "duration": 25,
    "start_time": "2021-09-01T14:41:44.892Z"
   },
   {
    "duration": 9175,
    "start_time": "2021-09-01T14:41:44.991Z"
   },
   {
    "duration": 9270,
    "start_time": "2021-09-01T14:42:23.982Z"
   },
   {
    "duration": 47,
    "start_time": "2021-09-01T14:42:55.757Z"
   },
   {
    "duration": 17,
    "start_time": "2021-09-01T14:42:55.807Z"
   },
   {
    "duration": 18,
    "start_time": "2021-09-01T14:42:55.826Z"
   },
   {
    "duration": 17,
    "start_time": "2021-09-01T14:42:55.845Z"
   },
   {
    "duration": 29,
    "start_time": "2021-09-01T14:42:55.864Z"
   },
   {
    "duration": 26,
    "start_time": "2021-09-01T14:42:55.896Z"
   },
   {
    "duration": 13,
    "start_time": "2021-09-01T14:42:55.923Z"
   },
   {
    "duration": 43,
    "start_time": "2021-09-01T14:42:55.938Z"
   },
   {
    "duration": 11,
    "start_time": "2021-09-01T14:42:55.983Z"
   },
   {
    "duration": 18,
    "start_time": "2021-09-01T14:42:55.996Z"
   },
   {
    "duration": 29,
    "start_time": "2021-09-01T14:42:56.016Z"
   },
   {
    "duration": 14,
    "start_time": "2021-09-01T14:42:56.047Z"
   },
   {
    "duration": 21,
    "start_time": "2021-09-01T14:42:56.062Z"
   },
   {
    "duration": 26,
    "start_time": "2021-09-01T14:42:56.085Z"
   },
   {
    "duration": 20,
    "start_time": "2021-09-01T14:42:56.112Z"
   },
   {
    "duration": 10,
    "start_time": "2021-09-01T14:42:56.134Z"
   },
   {
    "duration": 26,
    "start_time": "2021-09-01T14:42:56.146Z"
   },
   {
    "duration": 26,
    "start_time": "2021-09-01T14:42:56.173Z"
   },
   {
    "duration": 8,
    "start_time": "2021-09-01T14:42:56.201Z"
   },
   {
    "duration": 21,
    "start_time": "2021-09-01T14:42:56.210Z"
   },
   {
    "duration": 5081,
    "start_time": "2021-09-01T14:42:56.232Z"
   },
   {
    "duration": 25,
    "start_time": "2021-09-01T14:43:01.315Z"
   },
   {
    "duration": 27931,
    "start_time": "2021-09-01T14:43:01.343Z"
   },
   {
    "duration": 291,
    "start_time": "2021-09-01T14:43:29.276Z"
   },
   {
    "duration": 36,
    "start_time": "2021-09-01T14:43:29.569Z"
   },
   {
    "duration": 91,
    "start_time": "2021-09-01T14:43:29.607Z"
   },
   {
    "duration": 113,
    "start_time": "2021-09-01T14:43:29.700Z"
   },
   {
    "duration": 284,
    "start_time": "2021-09-01T14:43:29.815Z"
   },
   {
    "duration": 92,
    "start_time": "2021-09-01T14:43:30.102Z"
   },
   {
    "duration": 101,
    "start_time": "2021-09-01T14:43:30.199Z"
   },
   {
    "duration": 42,
    "start_time": "2021-09-01T14:43:30.302Z"
   },
   {
    "duration": 385,
    "start_time": "2021-09-01T14:43:30.346Z"
   },
   {
    "duration": 66,
    "start_time": "2021-09-01T14:43:30.733Z"
   },
   {
    "duration": 93,
    "start_time": "2021-09-01T14:43:30.801Z"
   },
   {
    "duration": 27,
    "start_time": "2021-09-01T14:43:30.896Z"
   },
   {
    "duration": 214,
    "start_time": "2021-09-01T14:43:30.925Z"
   },
   {
    "duration": 55,
    "start_time": "2021-09-01T14:43:31.141Z"
   },
   {
    "duration": 9415,
    "start_time": "2021-09-01T14:43:31.199Z"
   },
   {
    "duration": 9163,
    "start_time": "2021-09-01T14:44:13.108Z"
   },
   {
    "duration": 9543,
    "start_time": "2021-09-01T14:44:30.293Z"
   },
   {
    "duration": 9559,
    "start_time": "2021-09-01T14:44:44.418Z"
   },
   {
    "duration": 52,
    "start_time": "2021-09-01T14:44:59.680Z"
   },
   {
    "duration": 11,
    "start_time": "2021-09-01T14:44:59.734Z"
   },
   {
    "duration": 11,
    "start_time": "2021-09-01T14:44:59.747Z"
   },
   {
    "duration": 42,
    "start_time": "2021-09-01T14:44:59.760Z"
   },
   {
    "duration": 10,
    "start_time": "2021-09-01T14:44:59.804Z"
   },
   {
    "duration": 10,
    "start_time": "2021-09-01T14:44:59.816Z"
   },
   {
    "duration": 16,
    "start_time": "2021-09-01T14:44:59.828Z"
   },
   {
    "duration": 20,
    "start_time": "2021-09-01T14:44:59.847Z"
   },
   {
    "duration": 30,
    "start_time": "2021-09-01T14:44:59.870Z"
   },
   {
    "duration": 11,
    "start_time": "2021-09-01T14:44:59.902Z"
   },
   {
    "duration": 8,
    "start_time": "2021-09-01T14:44:59.915Z"
   },
   {
    "duration": 5,
    "start_time": "2021-09-01T14:44:59.925Z"
   },
   {
    "duration": 6,
    "start_time": "2021-09-01T14:44:59.932Z"
   },
   {
    "duration": 8,
    "start_time": "2021-09-01T14:44:59.940Z"
   },
   {
    "duration": 10,
    "start_time": "2021-09-01T14:44:59.950Z"
   },
   {
    "duration": 8,
    "start_time": "2021-09-01T14:44:59.993Z"
   },
   {
    "duration": 36,
    "start_time": "2021-09-01T14:45:00.003Z"
   },
   {
    "duration": 31,
    "start_time": "2021-09-01T14:45:00.041Z"
   },
   {
    "duration": 25,
    "start_time": "2021-09-01T14:45:00.074Z"
   },
   {
    "duration": 18,
    "start_time": "2021-09-01T14:45:00.102Z"
   },
   {
    "duration": 5200,
    "start_time": "2021-09-01T14:45:00.123Z"
   },
   {
    "duration": 24,
    "start_time": "2021-09-01T14:45:05.325Z"
   },
   {
    "duration": 27103,
    "start_time": "2021-09-01T14:45:05.352Z"
   },
   {
    "duration": 287,
    "start_time": "2021-09-01T14:45:32.456Z"
   },
   {
    "duration": 53,
    "start_time": "2021-09-01T14:45:32.745Z"
   },
   {
    "duration": 9405,
    "start_time": "2021-09-01T14:45:32.800Z"
   },
   {
    "duration": 10273,
    "start_time": "2021-09-01T14:45:49.258Z"
   },
   {
    "duration": 9,
    "start_time": "2021-09-01T14:46:09.413Z"
   },
   {
    "duration": 49,
    "start_time": "2021-09-01T14:47:19.172Z"
   },
   {
    "duration": 11,
    "start_time": "2021-09-01T14:47:19.223Z"
   },
   {
    "duration": 27,
    "start_time": "2021-09-01T14:47:19.236Z"
   },
   {
    "duration": 30,
    "start_time": "2021-09-01T14:47:19.266Z"
   },
   {
    "duration": 14,
    "start_time": "2021-09-01T14:47:19.298Z"
   },
   {
    "duration": 21,
    "start_time": "2021-09-01T14:47:19.313Z"
   },
   {
    "duration": 21,
    "start_time": "2021-09-01T14:47:19.336Z"
   },
   {
    "duration": 21,
    "start_time": "2021-09-01T14:47:19.359Z"
   },
   {
    "duration": 15,
    "start_time": "2021-09-01T14:47:19.383Z"
   },
   {
    "duration": 18,
    "start_time": "2021-09-01T14:47:19.401Z"
   },
   {
    "duration": 8,
    "start_time": "2021-09-01T14:47:19.421Z"
   },
   {
    "duration": 11,
    "start_time": "2021-09-01T14:47:19.431Z"
   },
   {
    "duration": 14,
    "start_time": "2021-09-01T14:47:19.444Z"
   },
   {
    "duration": 23,
    "start_time": "2021-09-01T14:47:19.459Z"
   },
   {
    "duration": 17,
    "start_time": "2021-09-01T14:47:19.483Z"
   },
   {
    "duration": 19,
    "start_time": "2021-09-01T14:47:19.502Z"
   },
   {
    "duration": 34,
    "start_time": "2021-09-01T14:47:19.523Z"
   },
   {
    "duration": 28,
    "start_time": "2021-09-01T14:47:19.559Z"
   },
   {
    "duration": 11,
    "start_time": "2021-09-01T14:47:19.589Z"
   },
   {
    "duration": 23,
    "start_time": "2021-09-01T14:47:19.602Z"
   },
   {
    "duration": 5194,
    "start_time": "2021-09-01T14:47:19.627Z"
   },
   {
    "duration": 25,
    "start_time": "2021-09-01T14:47:24.823Z"
   },
   {
    "duration": 26834,
    "start_time": "2021-09-01T14:47:24.851Z"
   },
   {
    "duration": 303,
    "start_time": "2021-09-01T14:47:51.688Z"
   },
   {
    "duration": 28,
    "start_time": "2021-09-01T14:47:51.994Z"
   },
   {
    "duration": 15,
    "start_time": "2021-09-01T14:47:52.091Z"
   },
   {
    "duration": 32,
    "start_time": "2021-09-01T14:47:52.193Z"
   },
   {
    "duration": 311,
    "start_time": "2021-09-01T14:47:52.227Z"
   },
   {
    "duration": 59,
    "start_time": "2021-09-01T14:47:52.540Z"
   },
   {
    "duration": 103,
    "start_time": "2021-09-01T14:47:52.604Z"
   },
   {
    "duration": 84,
    "start_time": "2021-09-01T14:47:52.710Z"
   },
   {
    "duration": 416,
    "start_time": "2021-09-01T14:47:52.798Z"
   },
   {
    "duration": 78,
    "start_time": "2021-09-01T14:47:53.216Z"
   },
   {
    "duration": 101,
    "start_time": "2021-09-01T14:47:53.297Z"
   },
   {
    "duration": 22,
    "start_time": "2021-09-01T14:47:53.400Z"
   },
   {
    "duration": 214,
    "start_time": "2021-09-01T14:47:53.424Z"
   },
   {
    "duration": 57,
    "start_time": "2021-09-01T14:47:53.640Z"
   },
   {
    "duration": 367,
    "start_time": "2021-09-01T14:47:53.699Z"
   },
   {
    "duration": 9208,
    "start_time": "2021-09-01T14:50:23.211Z"
   },
   {
    "duration": 3413,
    "start_time": "2021-09-01T14:51:12.010Z"
   },
   {
    "duration": 478,
    "start_time": "2021-09-01T14:51:37.886Z"
   },
   {
    "duration": 384,
    "start_time": "2021-09-01T14:52:01.683Z"
   },
   {
    "duration": 417,
    "start_time": "2021-09-01T14:52:47.198Z"
   },
   {
    "duration": 367,
    "start_time": "2021-09-01T14:52:54.545Z"
   },
   {
    "duration": 516,
    "start_time": "2021-09-01T14:53:07.988Z"
   },
   {
    "duration": 48,
    "start_time": "2021-09-01T14:53:21.839Z"
   },
   {
    "duration": 15,
    "start_time": "2021-09-01T14:53:21.889Z"
   },
   {
    "duration": 19,
    "start_time": "2021-09-01T14:53:21.907Z"
   },
   {
    "duration": 26,
    "start_time": "2021-09-01T14:53:21.928Z"
   },
   {
    "duration": 27,
    "start_time": "2021-09-01T14:53:21.956Z"
   },
   {
    "duration": 27,
    "start_time": "2021-09-01T14:53:21.984Z"
   },
   {
    "duration": 25,
    "start_time": "2021-09-01T14:53:22.012Z"
   },
   {
    "duration": 39,
    "start_time": "2021-09-01T14:53:22.040Z"
   },
   {
    "duration": 19,
    "start_time": "2021-09-01T14:53:22.081Z"
   },
   {
    "duration": 25,
    "start_time": "2021-09-01T14:53:22.102Z"
   },
   {
    "duration": 41,
    "start_time": "2021-09-01T14:53:22.129Z"
   },
   {
    "duration": 30,
    "start_time": "2021-09-01T14:53:22.172Z"
   },
   {
    "duration": 27,
    "start_time": "2021-09-01T14:53:22.204Z"
   },
   {
    "duration": 35,
    "start_time": "2021-09-01T14:53:22.232Z"
   },
   {
    "duration": 26,
    "start_time": "2021-09-01T14:53:22.269Z"
   },
   {
    "duration": 20,
    "start_time": "2021-09-01T14:53:22.297Z"
   },
   {
    "duration": 34,
    "start_time": "2021-09-01T14:53:22.319Z"
   },
   {
    "duration": 27,
    "start_time": "2021-09-01T14:53:22.355Z"
   },
   {
    "duration": 8,
    "start_time": "2021-09-01T14:53:22.384Z"
   },
   {
    "duration": 25,
    "start_time": "2021-09-01T14:53:22.393Z"
   },
   {
    "duration": 4927,
    "start_time": "2021-09-01T14:53:22.420Z"
   },
   {
    "duration": 24,
    "start_time": "2021-09-01T14:53:27.348Z"
   },
   {
    "duration": 25524,
    "start_time": "2021-09-01T14:53:27.375Z"
   },
   {
    "duration": 274,
    "start_time": "2021-09-01T14:53:52.901Z"
   },
   {
    "duration": 34,
    "start_time": "2021-09-01T14:53:53.176Z"
   },
   {
    "duration": 89,
    "start_time": "2021-09-01T14:53:53.212Z"
   },
   {
    "duration": 28,
    "start_time": "2021-09-01T14:53:53.392Z"
   },
   {
    "duration": 289,
    "start_time": "2021-09-01T14:53:53.421Z"
   },
   {
    "duration": 81,
    "start_time": "2021-09-01T14:53:53.712Z"
   },
   {
    "duration": 102,
    "start_time": "2021-09-01T14:53:53.795Z"
   },
   {
    "duration": 29,
    "start_time": "2021-09-01T14:53:53.899Z"
   },
   {
    "duration": 384,
    "start_time": "2021-09-01T14:53:53.930Z"
   },
   {
    "duration": 78,
    "start_time": "2021-09-01T14:53:54.317Z"
   },
   {
    "duration": 100,
    "start_time": "2021-09-01T14:53:54.398Z"
   },
   {
    "duration": 20,
    "start_time": "2021-09-01T14:53:54.500Z"
   },
   {
    "duration": 194,
    "start_time": "2021-09-01T14:53:54.522Z"
   },
   {
    "duration": 76,
    "start_time": "2021-09-01T14:53:54.718Z"
   },
   {
    "duration": 447,
    "start_time": "2021-09-01T14:53:54.796Z"
   },
   {
    "duration": 376,
    "start_time": "2021-09-01T14:54:20.448Z"
   },
   {
    "duration": 351,
    "start_time": "2021-09-01T14:54:28.181Z"
   },
   {
    "duration": 7,
    "start_time": "2021-09-01T14:54:32.721Z"
   },
   {
    "duration": 9,
    "start_time": "2021-09-01T14:54:41.262Z"
   },
   {
    "duration": 9497,
    "start_time": "2021-09-01T14:54:59.644Z"
   },
   {
    "duration": 1516,
    "start_time": "2021-09-01T14:55:30.423Z"
   },
   {
    "duration": 10318,
    "start_time": "2021-09-01T14:56:27.431Z"
   },
   {
    "duration": 6,
    "start_time": "2021-09-01T14:56:42.125Z"
   },
   {
    "duration": 8,
    "start_time": "2021-09-01T14:57:02.087Z"
   },
   {
    "duration": 51,
    "start_time": "2021-09-01T14:57:44.996Z"
   },
   {
    "duration": 14,
    "start_time": "2021-09-01T14:57:45.049Z"
   },
   {
    "duration": 40,
    "start_time": "2021-09-01T14:57:45.065Z"
   },
   {
    "duration": 8,
    "start_time": "2021-09-01T14:57:45.107Z"
   },
   {
    "duration": 6,
    "start_time": "2021-09-01T14:57:45.117Z"
   },
   {
    "duration": 7,
    "start_time": "2021-09-01T14:57:45.125Z"
   },
   {
    "duration": 12,
    "start_time": "2021-09-01T14:57:45.134Z"
   },
   {
    "duration": 60,
    "start_time": "2021-09-01T14:57:45.148Z"
   },
   {
    "duration": 6,
    "start_time": "2021-09-01T14:57:45.211Z"
   },
   {
    "duration": 17,
    "start_time": "2021-09-01T14:57:45.218Z"
   },
   {
    "duration": 8,
    "start_time": "2021-09-01T14:57:45.236Z"
   },
   {
    "duration": 5,
    "start_time": "2021-09-01T14:57:45.246Z"
   },
   {
    "duration": 8,
    "start_time": "2021-09-01T14:57:45.253Z"
   },
   {
    "duration": 34,
    "start_time": "2021-09-01T14:57:45.262Z"
   },
   {
    "duration": 10,
    "start_time": "2021-09-01T14:57:45.298Z"
   },
   {
    "duration": 8,
    "start_time": "2021-09-01T14:57:45.310Z"
   },
   {
    "duration": 27,
    "start_time": "2021-09-01T14:57:45.320Z"
   },
   {
    "duration": 49,
    "start_time": "2021-09-01T14:57:45.349Z"
   },
   {
    "duration": 8,
    "start_time": "2021-09-01T14:57:45.399Z"
   },
   {
    "duration": 12,
    "start_time": "2021-09-01T14:57:45.409Z"
   },
   {
    "duration": 4990,
    "start_time": "2021-09-01T14:57:45.422Z"
   },
   {
    "duration": 26,
    "start_time": "2021-09-01T14:57:50.414Z"
   },
   {
    "duration": 25659,
    "start_time": "2021-09-01T14:57:50.444Z"
   },
   {
    "duration": 278,
    "start_time": "2021-09-01T14:58:16.105Z"
   },
   {
    "duration": 26,
    "start_time": "2021-09-01T14:58:16.385Z"
   },
   {
    "duration": 86,
    "start_time": "2021-09-01T14:58:16.413Z"
   },
   {
    "duration": 121,
    "start_time": "2021-09-01T14:58:16.501Z"
   },
   {
    "duration": 289,
    "start_time": "2021-09-01T14:58:16.624Z"
   },
   {
    "duration": 77,
    "start_time": "2021-09-01T14:58:16.916Z"
   },
   {
    "duration": 104,
    "start_time": "2021-09-01T14:58:16.995Z"
   },
   {
    "duration": 36,
    "start_time": "2021-09-01T14:58:17.100Z"
   },
   {
    "duration": 401,
    "start_time": "2021-09-01T14:58:17.137Z"
   },
   {
    "duration": 60,
    "start_time": "2021-09-01T14:58:17.540Z"
   },
   {
    "duration": 104,
    "start_time": "2021-09-01T14:58:17.693Z"
   },
   {
    "duration": 18,
    "start_time": "2021-09-01T14:58:17.800Z"
   },
   {
    "duration": 194,
    "start_time": "2021-09-01T14:58:17.820Z"
   },
   {
    "duration": 78,
    "start_time": "2021-09-01T14:58:18.016Z"
   },
   {
    "duration": 1411,
    "start_time": "2021-09-01T14:58:18.097Z"
   },
   {
    "duration": 10096,
    "start_time": "2021-09-01T14:58:50.976Z"
   },
   {
    "duration": 7,
    "start_time": "2021-09-01T14:59:44.936Z"
   },
   {
    "duration": 9,
    "start_time": "2021-09-01T14:59:50.865Z"
   },
   {
    "duration": 140,
    "start_time": "2021-09-01T15:02:13.866Z"
   },
   {
    "duration": 13,
    "start_time": "2021-09-01T15:02:28.520Z"
   },
   {
    "duration": 14,
    "start_time": "2021-09-01T15:03:39.118Z"
   },
   {
    "duration": 254,
    "start_time": "2021-09-01T16:37:09.248Z"
   },
   {
    "duration": 529,
    "start_time": "2021-09-01T16:39:15.783Z"
   },
   {
    "duration": 365,
    "start_time": "2021-09-01T16:41:41.372Z"
   },
   {
    "duration": 379,
    "start_time": "2021-09-01T16:42:15.127Z"
   },
   {
    "duration": 8,
    "start_time": "2021-09-01T16:43:07.601Z"
   },
   {
    "duration": 8,
    "start_time": "2021-09-01T16:43:49.632Z"
   },
   {
    "duration": 9,
    "start_time": "2021-09-01T16:44:09.922Z"
   },
   {
    "duration": 613,
    "start_time": "2021-09-01T16:53:07.519Z"
   },
   {
    "duration": 661,
    "start_time": "2021-09-01T16:53:14.893Z"
   },
   {
    "duration": 58,
    "start_time": "2021-09-01T16:54:17.311Z"
   },
   {
    "duration": 1032,
    "start_time": "2021-09-01T16:54:26.542Z"
   },
   {
    "duration": 678,
    "start_time": "2021-09-01T16:54:50.065Z"
   },
   {
    "duration": 48,
    "start_time": "2021-09-01T16:54:59.178Z"
   },
   {
    "duration": 10,
    "start_time": "2021-09-01T16:54:59.228Z"
   },
   {
    "duration": 26,
    "start_time": "2021-09-01T16:54:59.240Z"
   },
   {
    "duration": 10,
    "start_time": "2021-09-01T16:54:59.292Z"
   },
   {
    "duration": 25,
    "start_time": "2021-09-01T16:54:59.304Z"
   },
   {
    "duration": 36,
    "start_time": "2021-09-01T16:54:59.330Z"
   },
   {
    "duration": 25,
    "start_time": "2021-09-01T16:54:59.368Z"
   },
   {
    "duration": 34,
    "start_time": "2021-09-01T16:54:59.396Z"
   },
   {
    "duration": 7,
    "start_time": "2021-09-01T16:54:59.433Z"
   },
   {
    "duration": 38,
    "start_time": "2021-09-01T16:54:59.441Z"
   },
   {
    "duration": 32,
    "start_time": "2021-09-01T16:54:59.482Z"
   },
   {
    "duration": 22,
    "start_time": "2021-09-01T16:54:59.516Z"
   },
   {
    "duration": 10,
    "start_time": "2021-09-01T16:54:59.540Z"
   },
   {
    "duration": 24,
    "start_time": "2021-09-01T16:54:59.552Z"
   },
   {
    "duration": 37,
    "start_time": "2021-09-01T16:54:59.578Z"
   },
   {
    "duration": 11,
    "start_time": "2021-09-01T16:54:59.618Z"
   },
   {
    "duration": 31,
    "start_time": "2021-09-01T16:54:59.631Z"
   },
   {
    "duration": 35,
    "start_time": "2021-09-01T16:54:59.665Z"
   },
   {
    "duration": 9,
    "start_time": "2021-09-01T16:54:59.703Z"
   },
   {
    "duration": 36,
    "start_time": "2021-09-01T16:54:59.714Z"
   },
   {
    "duration": 6048,
    "start_time": "2021-09-01T16:54:59.752Z"
   },
   {
    "duration": 33,
    "start_time": "2021-09-01T16:55:05.802Z"
   },
   {
    "duration": 29908,
    "start_time": "2021-09-01T16:55:05.838Z"
   },
   {
    "duration": 406,
    "start_time": "2021-09-01T16:55:35.748Z"
   },
   {
    "duration": 148,
    "start_time": "2021-09-01T16:55:36.157Z"
   },
   {
    "duration": 89,
    "start_time": "2021-09-01T16:55:36.309Z"
   },
   {
    "duration": 33,
    "start_time": "2021-09-01T16:55:36.400Z"
   },
   {
    "duration": 307,
    "start_time": "2021-09-01T16:55:36.434Z"
   },
   {
    "duration": 57,
    "start_time": "2021-09-01T16:55:36.743Z"
   },
   {
    "duration": 98,
    "start_time": "2021-09-01T16:55:36.803Z"
   },
   {
    "duration": 88,
    "start_time": "2021-09-01T16:55:36.904Z"
   },
   {
    "duration": 555,
    "start_time": "2021-09-01T16:55:36.994Z"
   },
   {
    "duration": 140,
    "start_time": "2021-09-01T16:55:37.551Z"
   },
   {
    "duration": 99,
    "start_time": "2021-09-01T16:55:37.694Z"
   },
   {
    "duration": 28,
    "start_time": "2021-09-01T16:55:37.795Z"
   },
   {
    "duration": 202,
    "start_time": "2021-09-01T16:55:37.825Z"
   },
   {
    "duration": 65,
    "start_time": "2021-09-01T16:55:38.029Z"
   },
   {
    "duration": 106,
    "start_time": "2021-09-01T16:55:38.096Z"
   },
   {
    "duration": 785,
    "start_time": "2021-09-01T16:55:38.205Z"
   },
   {
    "duration": 1254,
    "start_time": "2021-09-01T16:55:37.738Z"
   },
   {
    "duration": 1251,
    "start_time": "2021-09-01T16:55:37.742Z"
   },
   {
    "duration": 1250,
    "start_time": "2021-09-01T16:55:37.745Z"
   },
   {
    "duration": 386,
    "start_time": "2021-09-01T16:56:26.605Z"
   },
   {
    "duration": 292,
    "start_time": "2021-09-01T16:58:28.237Z"
   },
   {
    "duration": 379,
    "start_time": "2021-09-01T16:58:34.840Z"
   },
   {
    "duration": 9,
    "start_time": "2021-09-01T16:58:36.543Z"
   },
   {
    "duration": 148,
    "start_time": "2021-09-01T16:58:39.015Z"
   },
   {
    "duration": 512,
    "start_time": "2021-09-01T16:59:59.379Z"
   },
   {
    "duration": 217,
    "start_time": "2021-09-01T17:00:21.752Z"
   },
   {
    "duration": 594,
    "start_time": "2021-09-01T17:00:51.914Z"
   },
   {
    "duration": 170,
    "start_time": "2021-09-01T17:01:04.651Z"
   },
   {
    "duration": 192,
    "start_time": "2021-09-01T17:01:12.465Z"
   },
   {
    "duration": 548,
    "start_time": "2021-09-01T17:01:54.462Z"
   },
   {
    "duration": 538,
    "start_time": "2021-09-01T17:02:20.458Z"
   },
   {
    "duration": 612,
    "start_time": "2021-09-01T17:02:25.948Z"
   },
   {
    "duration": 517,
    "start_time": "2021-09-01T17:03:23.935Z"
   },
   {
    "duration": 609,
    "start_time": "2021-09-01T17:04:17.037Z"
   },
   {
    "duration": 230,
    "start_time": "2021-09-01T17:04:30.431Z"
   },
   {
    "duration": 556,
    "start_time": "2021-09-01T17:05:04.880Z"
   },
   {
    "duration": 529,
    "start_time": "2021-09-01T17:06:26.414Z"
   },
   {
    "duration": 513,
    "start_time": "2021-09-01T17:06:36.813Z"
   },
   {
    "duration": 497,
    "start_time": "2021-09-01T17:06:43.520Z"
   },
   {
    "duration": 46,
    "start_time": "2021-09-01T17:06:49.489Z"
   },
   {
    "duration": 12,
    "start_time": "2021-09-01T17:06:49.537Z"
   },
   {
    "duration": 12,
    "start_time": "2021-09-01T17:06:49.551Z"
   },
   {
    "duration": 32,
    "start_time": "2021-09-01T17:06:49.565Z"
   },
   {
    "duration": 7,
    "start_time": "2021-09-01T17:06:49.599Z"
   },
   {
    "duration": 9,
    "start_time": "2021-09-01T17:06:49.607Z"
   },
   {
    "duration": 21,
    "start_time": "2021-09-01T17:06:49.618Z"
   },
   {
    "duration": 21,
    "start_time": "2021-09-01T17:06:49.642Z"
   },
   {
    "duration": 31,
    "start_time": "2021-09-01T17:06:49.665Z"
   },
   {
    "duration": 8,
    "start_time": "2021-09-01T17:06:49.698Z"
   },
   {
    "duration": 6,
    "start_time": "2021-09-01T17:06:49.708Z"
   },
   {
    "duration": 7,
    "start_time": "2021-09-01T17:06:49.716Z"
   },
   {
    "duration": 8,
    "start_time": "2021-09-01T17:06:49.724Z"
   },
   {
    "duration": 12,
    "start_time": "2021-09-01T17:06:49.734Z"
   },
   {
    "duration": 12,
    "start_time": "2021-09-01T17:06:49.748Z"
   },
   {
    "duration": 34,
    "start_time": "2021-09-01T17:06:49.762Z"
   },
   {
    "duration": 29,
    "start_time": "2021-09-01T17:06:49.798Z"
   },
   {
    "duration": 26,
    "start_time": "2021-09-01T17:06:49.828Z"
   },
   {
    "duration": 7,
    "start_time": "2021-09-01T17:06:49.855Z"
   },
   {
    "duration": 29,
    "start_time": "2021-09-01T17:06:49.864Z"
   },
   {
    "duration": 4607,
    "start_time": "2021-09-01T17:06:49.895Z"
   },
   {
    "duration": 27,
    "start_time": "2021-09-01T17:06:54.506Z"
   },
   {
    "duration": 28524,
    "start_time": "2021-09-01T17:06:54.537Z"
   },
   {
    "duration": 369,
    "start_time": "2021-09-01T17:07:23.063Z"
   },
   {
    "duration": 257,
    "start_time": "2021-09-01T17:07:23.435Z"
   },
   {
    "duration": 12,
    "start_time": "2021-09-01T17:07:23.694Z"
   },
   {
    "duration": 37,
    "start_time": "2021-09-01T17:07:23.708Z"
   },
   {
    "duration": 426,
    "start_time": "2021-09-01T17:07:23.748Z"
   },
   {
    "duration": 38,
    "start_time": "2021-09-01T17:07:24.176Z"
   },
   {
    "duration": 176,
    "start_time": "2021-09-01T17:07:24.216Z"
   },
   {
    "duration": 40,
    "start_time": "2021-09-01T17:07:24.394Z"
   },
   {
    "duration": 534,
    "start_time": "2021-09-01T17:07:24.436Z"
   },
   {
    "duration": 43,
    "start_time": "2021-09-01T17:07:24.972Z"
   },
   {
    "duration": 12,
    "start_time": "2021-09-01T17:07:25.092Z"
   },
   {
    "duration": 110,
    "start_time": "2021-09-01T17:07:25.106Z"
   },
   {
    "duration": 251,
    "start_time": "2021-09-01T17:07:25.218Z"
   },
   {
    "duration": 125,
    "start_time": "2021-09-01T17:07:25.471Z"
   },
   {
    "duration": 104,
    "start_time": "2021-09-01T17:07:25.598Z"
   },
   {
    "duration": 279,
    "start_time": "2021-09-01T17:07:25.704Z"
   },
   {
    "duration": 371,
    "start_time": "2021-09-01T17:07:25.985Z"
   },
   {
    "duration": 9,
    "start_time": "2021-09-01T17:07:26.358Z"
   },
   {
    "duration": 522,
    "start_time": "2021-09-01T17:07:26.369Z"
   },
   {
    "duration": 509,
    "start_time": "2021-09-01T17:07:57.244Z"
   },
   {
    "duration": 381,
    "start_time": "2021-09-01T17:08:18.454Z"
   },
   {
    "duration": 157,
    "start_time": "2021-09-01T17:08:24.517Z"
   },
   {
    "duration": 529,
    "start_time": "2021-09-01T17:08:43.818Z"
   },
   {
    "duration": 632,
    "start_time": "2021-09-01T17:09:10.767Z"
   },
   {
    "duration": 527,
    "start_time": "2021-09-01T17:11:45.883Z"
   },
   {
    "duration": 169,
    "start_time": "2021-09-01T17:12:38.850Z"
   },
   {
    "duration": 9,
    "start_time": "2021-09-01T17:16:32.391Z"
   },
   {
    "duration": 7,
    "start_time": "2021-09-01T17:20:05.025Z"
   },
   {
    "duration": 7,
    "start_time": "2021-09-01T17:20:18.617Z"
   },
   {
    "duration": 6,
    "start_time": "2021-09-01T17:20:23.736Z"
   },
   {
    "duration": 9,
    "start_time": "2021-09-01T17:20:49.526Z"
   },
   {
    "duration": 9,
    "start_time": "2021-09-01T17:21:12.334Z"
   },
   {
    "duration": 1931,
    "start_time": "2021-09-02T07:21:05.370Z"
   },
   {
    "duration": 20,
    "start_time": "2021-09-02T07:21:07.303Z"
   },
   {
    "duration": 20,
    "start_time": "2021-09-02T07:21:07.329Z"
   },
   {
    "duration": 11,
    "start_time": "2021-09-02T07:21:07.352Z"
   },
   {
    "duration": 8,
    "start_time": "2021-09-02T07:21:07.365Z"
   },
   {
    "duration": 49,
    "start_time": "2021-09-02T07:21:07.376Z"
   },
   {
    "duration": 10,
    "start_time": "2021-09-02T07:21:07.428Z"
   },
   {
    "duration": 32,
    "start_time": "2021-09-02T07:21:07.444Z"
   },
   {
    "duration": 8,
    "start_time": "2021-09-02T07:21:07.479Z"
   },
   {
    "duration": 17,
    "start_time": "2021-09-02T07:21:07.517Z"
   },
   {
    "duration": 9,
    "start_time": "2021-09-02T07:21:07.536Z"
   },
   {
    "duration": 7,
    "start_time": "2021-09-02T07:21:07.547Z"
   },
   {
    "duration": 8,
    "start_time": "2021-09-02T07:21:07.556Z"
   },
   {
    "duration": 59,
    "start_time": "2021-09-02T07:21:07.566Z"
   },
   {
    "duration": 10,
    "start_time": "2021-09-02T07:21:07.628Z"
   },
   {
    "duration": 12,
    "start_time": "2021-09-02T07:21:07.640Z"
   },
   {
    "duration": 31,
    "start_time": "2021-09-02T07:21:07.655Z"
   },
   {
    "duration": 67,
    "start_time": "2021-09-02T07:21:07.688Z"
   },
   {
    "duration": 20,
    "start_time": "2021-09-02T07:21:07.757Z"
   },
   {
    "duration": 46,
    "start_time": "2021-09-02T07:21:07.780Z"
   },
   {
    "duration": 7636,
    "start_time": "2021-09-02T07:21:07.832Z"
   },
   {
    "duration": 45,
    "start_time": "2021-09-02T07:21:15.470Z"
   },
   {
    "duration": 43358,
    "start_time": "2021-09-02T07:21:15.521Z"
   },
   {
    "duration": 457,
    "start_time": "2021-09-02T07:21:58.883Z"
   },
   {
    "duration": 95,
    "start_time": "2021-09-02T07:21:59.343Z"
   },
   {
    "duration": 14,
    "start_time": "2021-09-02T07:21:59.517Z"
   },
   {
    "duration": 100,
    "start_time": "2021-09-02T07:21:59.533Z"
   },
   {
    "duration": 436,
    "start_time": "2021-09-02T07:21:59.639Z"
   },
   {
    "duration": 56,
    "start_time": "2021-09-02T07:22:00.078Z"
   },
   {
    "duration": 115,
    "start_time": "2021-09-02T07:22:00.215Z"
   },
   {
    "duration": 52,
    "start_time": "2021-09-02T07:22:00.332Z"
   },
   {
    "duration": 650,
    "start_time": "2021-09-02T07:22:00.386Z"
   },
   {
    "duration": 88,
    "start_time": "2021-09-02T07:22:01.038Z"
   },
   {
    "duration": 101,
    "start_time": "2021-09-02T07:22:01.136Z"
   },
   {
    "duration": 49,
    "start_time": "2021-09-02T07:22:01.239Z"
   },
   {
    "duration": 300,
    "start_time": "2021-09-02T07:22:01.290Z"
   },
   {
    "duration": 124,
    "start_time": "2021-09-02T07:22:01.593Z"
   },
   {
    "duration": 122,
    "start_time": "2021-09-02T07:22:01.720Z"
   },
   {
    "duration": 447,
    "start_time": "2021-09-02T07:22:01.844Z"
   },
   {
    "duration": 616,
    "start_time": "2021-09-02T07:22:02.294Z"
   },
   {
    "duration": 13,
    "start_time": "2021-09-02T07:22:02.912Z"
   },
   {
    "duration": 326,
    "start_time": "2021-09-02T07:22:02.927Z"
   },
   {
    "duration": 42795,
    "start_time": "2021-09-02T07:22:21.008Z"
   },
   {
    "duration": 783,
    "start_time": "2021-09-02T07:25:57.968Z"
   },
   {
    "duration": 844,
    "start_time": "2021-09-02T07:27:17.625Z"
   },
   {
    "duration": 65,
    "start_time": "2021-09-02T07:28:11.741Z"
   },
   {
    "duration": 43414,
    "start_time": "2021-09-02T07:28:34.873Z"
   },
   {
    "duration": 844,
    "start_time": "2021-09-02T07:33:36.325Z"
   },
   {
    "duration": 7816,
    "start_time": "2021-09-02T07:33:47.105Z"
   },
   {
    "duration": 7650,
    "start_time": "2021-09-02T07:34:57.014Z"
   },
   {
    "duration": 7635,
    "start_time": "2021-09-02T07:35:27.108Z"
   },
   {
    "duration": 7624,
    "start_time": "2021-09-02T07:35:58.316Z"
   },
   {
    "duration": 40,
    "start_time": "2021-09-02T07:36:12.553Z"
   },
   {
    "duration": 7602,
    "start_time": "2021-09-02T07:38:05.230Z"
   },
   {
    "duration": 1510,
    "start_time": "2021-09-02T07:40:19.505Z"
   },
   {
    "duration": 7034,
    "start_time": "2021-09-02T07:41:20.560Z"
   },
   {
    "duration": 38,
    "start_time": "2021-09-02T07:41:36.746Z"
   },
   {
    "duration": 7430,
    "start_time": "2021-09-02T07:41:44.560Z"
   },
   {
    "duration": 38,
    "start_time": "2021-09-02T07:41:57.810Z"
   },
   {
    "duration": 7491,
    "start_time": "2021-09-02T07:43:05.948Z"
   },
   {
    "duration": 41,
    "start_time": "2021-09-02T07:43:24.211Z"
   },
   {
    "duration": 7844,
    "start_time": "2021-09-02T07:44:00.156Z"
   },
   {
    "duration": 42,
    "start_time": "2021-09-02T07:45:29.409Z"
   },
   {
    "duration": 1802,
    "start_time": "2021-09-02T07:45:37.225Z"
   },
   {
    "duration": 7542,
    "start_time": "2021-09-02T07:45:50.101Z"
   },
   {
    "duration": 37,
    "start_time": "2021-09-02T07:47:08.429Z"
   },
   {
    "duration": 42589,
    "start_time": "2021-09-02T07:47:22.630Z"
   },
   {
    "duration": 441,
    "start_time": "2021-09-02T07:49:18.215Z"
   },
   {
    "duration": 47,
    "start_time": "2021-09-02T07:49:45.009Z"
   },
   {
    "duration": 445,
    "start_time": "2021-09-02T07:49:47.577Z"
   },
   {
    "duration": 47,
    "start_time": "2021-09-02T07:49:50.879Z"
   },
   {
    "duration": 607,
    "start_time": "2021-09-02T07:53:38.551Z"
   },
   {
    "duration": 646,
    "start_time": "2021-09-02T07:54:01.808Z"
   },
   {
    "duration": 626,
    "start_time": "2021-09-02T07:56:30.294Z"
   },
   {
    "duration": 625,
    "start_time": "2021-09-02T07:58:12.728Z"
   },
   {
    "duration": 642,
    "start_time": "2021-09-02T07:59:01.162Z"
   },
   {
    "duration": 713,
    "start_time": "2021-09-02T07:59:32.576Z"
   },
   {
    "duration": 632,
    "start_time": "2021-09-02T07:59:39.706Z"
   },
   {
    "duration": 244,
    "start_time": "2021-09-02T08:02:00.897Z"
   },
   {
    "duration": 399,
    "start_time": "2021-09-02T08:02:07.031Z"
   },
   {
    "duration": 43210,
    "start_time": "2021-09-02T08:02:22.250Z"
   },
   {
    "duration": 42812,
    "start_time": "2021-09-02T08:03:32.651Z"
   },
   {
    "duration": 226,
    "start_time": "2021-09-02T08:04:22.770Z"
   },
   {
    "duration": 43470,
    "start_time": "2021-09-02T08:04:32.724Z"
   },
   {
    "duration": 457,
    "start_time": "2021-09-02T08:05:24.588Z"
   },
   {
    "duration": 41896,
    "start_time": "2021-09-02T08:05:30.271Z"
   },
   {
    "duration": 42230,
    "start_time": "2021-09-02T08:06:39.727Z"
   },
   {
    "duration": 167516,
    "start_time": "2021-09-02T08:07:30.878Z"
   },
   {
    "duration": 622,
    "start_time": "2021-09-02T08:11:06.821Z"
   },
   {
    "duration": 166496,
    "start_time": "2021-09-02T08:11:40.263Z"
   },
   {
    "duration": 225,
    "start_time": "2021-09-02T08:14:32.954Z"
   },
   {
    "duration": 64,
    "start_time": "2021-09-02T08:15:07.524Z"
   },
   {
    "duration": 711,
    "start_time": "2021-09-02T08:25:58.278Z"
   },
   {
    "duration": 941,
    "start_time": "2021-09-02T08:30:05.139Z"
   },
   {
    "duration": 1837,
    "start_time": "2021-09-02T08:30:56.276Z"
   },
   {
    "duration": 1119,
    "start_time": "2021-09-02T08:31:11.570Z"
   },
   {
    "duration": 1289,
    "start_time": "2021-09-02T08:31:40.083Z"
   },
   {
    "duration": 22,
    "start_time": "2021-09-02T08:34:05.340Z"
   },
   {
    "duration": 32,
    "start_time": "2021-09-02T08:34:15.707Z"
   },
   {
    "duration": 32,
    "start_time": "2021-09-02T08:34:51.202Z"
   },
   {
    "duration": 1385,
    "start_time": "2021-09-02T08:34:57.933Z"
   },
   {
    "duration": 2007,
    "start_time": "2021-09-02T08:35:25.258Z"
   },
   {
    "duration": 1849,
    "start_time": "2021-09-02T08:35:40.161Z"
   },
   {
    "duration": 32,
    "start_time": "2021-09-02T08:35:59.311Z"
   },
   {
    "duration": 1033,
    "start_time": "2021-09-02T08:36:32.213Z"
   },
   {
    "duration": 32,
    "start_time": "2021-09-02T08:36:52.678Z"
   },
   {
    "duration": 1357,
    "start_time": "2021-09-02T08:37:02.496Z"
   },
   {
    "duration": 32,
    "start_time": "2021-09-02T08:37:10.030Z"
   },
   {
    "duration": 33,
    "start_time": "2021-09-02T08:37:18.256Z"
   },
   {
    "duration": 51,
    "start_time": "2021-09-02T08:37:24.329Z"
   },
   {
    "duration": 1456,
    "start_time": "2021-09-02T08:37:32.699Z"
   },
   {
    "duration": 5,
    "start_time": "2021-09-02T08:38:08.038Z"
   },
   {
    "duration": 630,
    "start_time": "2021-09-02T08:38:11.192Z"
   },
   {
    "duration": 636,
    "start_time": "2021-09-02T08:38:40.060Z"
   },
   {
    "duration": 646,
    "start_time": "2021-09-02T08:39:09.697Z"
   },
   {
    "duration": 22,
    "start_time": "2021-09-02T08:39:45.609Z"
   },
   {
    "duration": 23,
    "start_time": "2021-09-02T08:39:55.120Z"
   },
   {
    "duration": 67,
    "start_time": "2021-09-02T08:40:25.261Z"
   },
   {
    "duration": 16,
    "start_time": "2021-09-02T08:40:25.332Z"
   },
   {
    "duration": 22,
    "start_time": "2021-09-02T08:40:25.351Z"
   },
   {
    "duration": 26,
    "start_time": "2021-09-02T08:40:25.376Z"
   },
   {
    "duration": 11,
    "start_time": "2021-09-02T08:40:25.417Z"
   },
   {
    "duration": 26,
    "start_time": "2021-09-02T08:40:25.430Z"
   },
   {
    "duration": 15,
    "start_time": "2021-09-02T08:40:25.459Z"
   },
   {
    "duration": 54,
    "start_time": "2021-09-02T08:40:25.477Z"
   },
   {
    "duration": 8,
    "start_time": "2021-09-02T08:40:25.534Z"
   },
   {
    "duration": 15,
    "start_time": "2021-09-02T08:40:25.544Z"
   },
   {
    "duration": 15,
    "start_time": "2021-09-02T08:40:25.561Z"
   },
   {
    "duration": 38,
    "start_time": "2021-09-02T08:40:25.578Z"
   },
   {
    "duration": 9,
    "start_time": "2021-09-02T08:40:25.618Z"
   },
   {
    "duration": 18,
    "start_time": "2021-09-02T08:40:25.629Z"
   },
   {
    "duration": 18,
    "start_time": "2021-09-02T08:40:25.650Z"
   },
   {
    "duration": 17,
    "start_time": "2021-09-02T08:40:25.670Z"
   },
   {
    "duration": 46,
    "start_time": "2021-09-02T08:40:25.689Z"
   },
   {
    "duration": 39,
    "start_time": "2021-09-02T08:40:25.737Z"
   },
   {
    "duration": 37,
    "start_time": "2021-09-02T08:40:25.779Z"
   },
   {
    "duration": 16,
    "start_time": "2021-09-02T08:40:25.819Z"
   },
   {
    "duration": 60,
    "start_time": "2021-09-02T08:40:42.139Z"
   },
   {
    "duration": 15,
    "start_time": "2021-09-02T08:40:42.202Z"
   },
   {
    "duration": 18,
    "start_time": "2021-09-02T08:40:42.220Z"
   },
   {
    "duration": 15,
    "start_time": "2021-09-02T08:40:42.241Z"
   },
   {
    "duration": 9,
    "start_time": "2021-09-02T08:40:42.258Z"
   },
   {
    "duration": 21,
    "start_time": "2021-09-02T08:40:42.269Z"
   },
   {
    "duration": 10,
    "start_time": "2021-09-02T08:40:42.317Z"
   },
   {
    "duration": 33,
    "start_time": "2021-09-02T08:40:42.331Z"
   },
   {
    "duration": 8,
    "start_time": "2021-09-02T08:40:42.367Z"
   },
   {
    "duration": 49,
    "start_time": "2021-09-02T08:40:42.377Z"
   },
   {
    "duration": 11,
    "start_time": "2021-09-02T08:40:42.429Z"
   },
   {
    "duration": 8,
    "start_time": "2021-09-02T08:40:42.442Z"
   },
   {
    "duration": 8,
    "start_time": "2021-09-02T08:40:42.453Z"
   },
   {
    "duration": 52,
    "start_time": "2021-09-02T08:40:42.464Z"
   },
   {
    "duration": 12,
    "start_time": "2021-09-02T08:40:42.519Z"
   },
   {
    "duration": 7,
    "start_time": "2021-09-02T08:40:42.533Z"
   },
   {
    "duration": 36,
    "start_time": "2021-09-02T08:40:42.543Z"
   },
   {
    "duration": 40,
    "start_time": "2021-09-02T08:40:42.616Z"
   },
   {
    "duration": 9,
    "start_time": "2021-09-02T08:40:42.659Z"
   },
   {
    "duration": 48,
    "start_time": "2021-09-02T08:40:42.670Z"
   },
   {
    "duration": 65,
    "start_time": "2021-09-02T08:40:49.044Z"
   },
   {
    "duration": 16,
    "start_time": "2021-09-02T08:40:49.112Z"
   },
   {
    "duration": 20,
    "start_time": "2021-09-02T08:40:49.130Z"
   },
   {
    "duration": 11,
    "start_time": "2021-09-02T08:40:49.153Z"
   },
   {
    "duration": 9,
    "start_time": "2021-09-02T08:40:49.166Z"
   },
   {
    "duration": 47,
    "start_time": "2021-09-02T08:40:49.177Z"
   },
   {
    "duration": 12,
    "start_time": "2021-09-02T08:40:49.226Z"
   },
   {
    "duration": 32,
    "start_time": "2021-09-02T08:40:49.242Z"
   },
   {
    "duration": 47,
    "start_time": "2021-09-02T08:40:49.277Z"
   },
   {
    "duration": 14,
    "start_time": "2021-09-02T08:40:49.327Z"
   },
   {
    "duration": 11,
    "start_time": "2021-09-02T08:40:49.343Z"
   },
   {
    "duration": 7,
    "start_time": "2021-09-02T08:40:49.357Z"
   },
   {
    "duration": 53,
    "start_time": "2021-09-02T08:40:49.367Z"
   },
   {
    "duration": 8,
    "start_time": "2021-09-02T08:40:49.423Z"
   },
   {
    "duration": 11,
    "start_time": "2021-09-02T08:40:49.433Z"
   },
   {
    "duration": 8,
    "start_time": "2021-09-02T08:40:49.446Z"
   },
   {
    "duration": 83,
    "start_time": "2021-09-02T08:40:49.457Z"
   },
   {
    "duration": 44,
    "start_time": "2021-09-02T08:40:49.544Z"
   },
   {
    "duration": 32,
    "start_time": "2021-09-02T08:40:49.590Z"
   },
   {
    "duration": 19,
    "start_time": "2021-09-02T08:40:49.625Z"
   },
   {
    "duration": 30,
    "start_time": "2021-09-02T08:40:49.647Z"
   },
   {
    "duration": 2114,
    "start_time": "2021-09-02T08:42:55.927Z"
   },
   {
    "duration": 50,
    "start_time": "2021-09-02T08:43:32.187Z"
   },
   {
    "duration": 36,
    "start_time": "2021-09-02T08:43:39.689Z"
   },
   {
    "duration": 2169,
    "start_time": "2021-09-02T08:44:26.395Z"
   },
   {
    "duration": 23,
    "start_time": "2021-09-02T08:46:14.151Z"
   },
   {
    "duration": 2206,
    "start_time": "2021-09-02T08:47:00.119Z"
   },
   {
    "duration": 658,
    "start_time": "2021-09-02T08:47:17.844Z"
   },
   {
    "duration": 626,
    "start_time": "2021-09-02T08:47:32.016Z"
   },
   {
    "duration": 649,
    "start_time": "2021-09-02T08:48:02.212Z"
   },
   {
    "duration": 4,
    "start_time": "2021-09-02T08:48:22.900Z"
   },
   {
    "duration": 647,
    "start_time": "2021-09-02T08:48:25.278Z"
   },
   {
    "duration": 648,
    "start_time": "2021-09-02T08:49:52.282Z"
   },
   {
    "duration": 1318,
    "start_time": "2021-09-02T08:51:27.856Z"
   },
   {
    "duration": 5,
    "start_time": "2021-09-02T08:52:17.369Z"
   },
   {
    "duration": 3187,
    "start_time": "2021-09-02T08:53:57.795Z"
   },
   {
    "duration": 1316,
    "start_time": "2021-09-02T08:54:08.851Z"
   },
   {
    "duration": 84610,
    "start_time": "2021-09-02T08:56:38.253Z"
   },
   {
    "duration": 83838,
    "start_time": "2021-09-02T09:00:21.140Z"
   },
   {
    "duration": 4,
    "start_time": "2021-09-02T09:02:19.738Z"
   },
   {
    "duration": 1161,
    "start_time": "2021-09-02T09:02:27.623Z"
   },
   {
    "duration": 91,
    "start_time": "2021-09-02T09:02:39.045Z"
   },
   {
    "duration": 261,
    "start_time": "2021-09-02T09:05:17.579Z"
   },
   {
    "duration": 12,
    "start_time": "2021-09-02T09:05:20.288Z"
   },
   {
    "duration": 41,
    "start_time": "2021-09-02T09:08:30.659Z"
   },
   {
    "duration": 519,
    "start_time": "2021-09-02T09:09:04.586Z"
   },
   {
    "duration": 102,
    "start_time": "2021-09-02T09:09:23.425Z"
   },
   {
    "duration": 1438,
    "start_time": "2021-09-02T09:11:44.501Z"
   },
   {
    "duration": 84435,
    "start_time": "2021-09-02T09:12:09.041Z"
   },
   {
    "duration": 48,
    "start_time": "2021-09-02T09:15:32.287Z"
   },
   {
    "duration": 734,
    "start_time": "2021-09-02T09:16:12.869Z"
   },
   {
    "duration": 72,
    "start_time": "2021-09-02T09:16:44.251Z"
   },
   {
    "duration": 26,
    "start_time": "2021-09-02T09:17:02.188Z"
   },
   {
    "duration": 282,
    "start_time": "2021-09-02T09:17:07.552Z"
   },
   {
    "duration": 46,
    "start_time": "2021-09-02T09:17:19.878Z"
   },
   {
    "duration": 1951,
    "start_time": "2021-09-02T09:17:24.960Z"
   },
   {
    "duration": 63,
    "start_time": "2021-09-02T09:17:37.632Z"
   },
   {
    "duration": 34,
    "start_time": "2021-09-02T09:17:37.697Z"
   },
   {
    "duration": 22,
    "start_time": "2021-09-02T09:17:37.735Z"
   },
   {
    "duration": 31,
    "start_time": "2021-09-02T09:17:37.760Z"
   },
   {
    "duration": 32,
    "start_time": "2021-09-02T09:17:37.794Z"
   },
   {
    "duration": 43,
    "start_time": "2021-09-02T09:17:37.828Z"
   },
   {
    "duration": 42,
    "start_time": "2021-09-02T09:17:37.874Z"
   },
   {
    "duration": 61,
    "start_time": "2021-09-02T09:17:37.923Z"
   },
   {
    "duration": 17,
    "start_time": "2021-09-02T09:17:37.987Z"
   },
   {
    "duration": 47,
    "start_time": "2021-09-02T09:17:38.006Z"
   },
   {
    "duration": 21,
    "start_time": "2021-09-02T09:17:38.056Z"
   },
   {
    "duration": 27,
    "start_time": "2021-09-02T09:17:38.080Z"
   },
   {
    "duration": 38,
    "start_time": "2021-09-02T09:17:38.110Z"
   },
   {
    "duration": 52,
    "start_time": "2021-09-02T09:17:38.151Z"
   },
   {
    "duration": 40,
    "start_time": "2021-09-02T09:17:38.206Z"
   },
   {
    "duration": 21,
    "start_time": "2021-09-02T09:17:38.249Z"
   },
   {
    "duration": 76,
    "start_time": "2021-09-02T09:17:38.272Z"
   },
   {
    "duration": 48,
    "start_time": "2021-09-02T09:17:38.350Z"
   },
   {
    "duration": 26,
    "start_time": "2021-09-02T09:17:38.401Z"
   },
   {
    "duration": 38,
    "start_time": "2021-09-02T09:17:38.430Z"
   },
   {
    "duration": 40,
    "start_time": "2021-09-02T09:17:38.471Z"
   },
   {
    "duration": 1381,
    "start_time": "2021-09-02T09:17:38.514Z"
   },
   {
    "duration": 85782,
    "start_time": "2021-09-02T09:17:39.900Z"
   },
   {
    "duration": 3,
    "start_time": "2021-09-02T09:19:05.685Z"
   },
   {
    "duration": 240,
    "start_time": "2021-09-02T09:19:05.690Z"
   },
   {
    "duration": 88,
    "start_time": "2021-09-02T09:19:05.932Z"
   },
   {
    "duration": 115,
    "start_time": "2021-09-02T09:19:06.023Z"
   },
   {
    "duration": 530,
    "start_time": "2021-09-02T09:19:06.141Z"
   },
   {
    "duration": 149,
    "start_time": "2021-09-02T09:19:06.674Z"
   },
   {
    "duration": 106,
    "start_time": "2021-09-02T09:19:06.825Z"
   },
   {
    "duration": 45,
    "start_time": "2021-09-02T09:19:06.934Z"
   },
   {
    "duration": 755,
    "start_time": "2021-09-02T09:19:06.982Z"
   },
   {
    "duration": 98,
    "start_time": "2021-09-02T09:19:07.739Z"
   },
   {
    "duration": 19,
    "start_time": "2021-09-02T09:19:07.916Z"
   },
   {
    "duration": 86,
    "start_time": "2021-09-02T09:19:07.937Z"
   },
   {
    "duration": 292,
    "start_time": "2021-09-02T09:19:08.026Z"
   },
   {
    "duration": 107,
    "start_time": "2021-09-02T09:19:08.320Z"
   },
   {
    "duration": 105,
    "start_time": "2021-09-02T09:19:08.430Z"
   },
   {
    "duration": 513,
    "start_time": "2021-09-02T09:19:08.538Z"
   },
   {
    "duration": 739,
    "start_time": "2021-09-02T09:19:09.054Z"
   },
   {
    "duration": 12,
    "start_time": "2021-09-02T09:19:09.795Z"
   },
   {
    "duration": 338,
    "start_time": "2021-09-02T09:19:09.817Z"
   },
   {
    "duration": 48,
    "start_time": "2021-09-02T09:21:51.771Z"
   },
   {
    "duration": 724,
    "start_time": "2021-09-02T09:21:54.229Z"
   },
   {
    "duration": 57,
    "start_time": "2021-09-02T09:21:55.863Z"
   },
   {
    "duration": 14,
    "start_time": "2021-09-02T09:21:59.097Z"
   },
   {
    "duration": 25,
    "start_time": "2021-09-02T09:22:00.185Z"
   },
   {
    "duration": 290,
    "start_time": "2021-09-02T09:22:03.233Z"
   },
   {
    "duration": 163,
    "start_time": "2021-09-02T09:22:04.958Z"
   },
   {
    "duration": 21,
    "start_time": "2021-09-02T09:22:05.753Z"
   },
   {
    "duration": 526,
    "start_time": "2021-09-02T09:24:54.094Z"
   },
   {
    "duration": 740,
    "start_time": "2021-09-02T09:24:57.891Z"
   },
   {
    "duration": 11,
    "start_time": "2021-09-02T09:25:06.968Z"
   },
   {
    "duration": 12,
    "start_time": "2021-09-02T09:25:28.905Z"
   },
   {
    "duration": 12,
    "start_time": "2021-09-02T09:25:37.678Z"
   },
   {
    "duration": 11,
    "start_time": "2021-09-02T09:25:51.247Z"
   },
   {
    "duration": 1716,
    "start_time": "2021-09-02T09:47:33.998Z"
   },
   {
    "duration": 23,
    "start_time": "2021-09-02T09:47:35.717Z"
   },
   {
    "duration": 20,
    "start_time": "2021-09-02T09:47:35.743Z"
   },
   {
    "duration": 14,
    "start_time": "2021-09-02T09:47:35.766Z"
   },
   {
    "duration": 40,
    "start_time": "2021-09-02T09:47:35.782Z"
   },
   {
    "duration": 29,
    "start_time": "2021-09-02T09:47:35.825Z"
   },
   {
    "duration": 12,
    "start_time": "2021-09-02T09:47:35.857Z"
   },
   {
    "duration": 52,
    "start_time": "2021-09-02T09:47:35.873Z"
   },
   {
    "duration": 9,
    "start_time": "2021-09-02T09:47:35.928Z"
   },
   {
    "duration": 13,
    "start_time": "2021-09-02T09:47:35.940Z"
   },
   {
    "duration": 14,
    "start_time": "2021-09-02T09:47:35.956Z"
   },
   {
    "duration": 52,
    "start_time": "2021-09-02T09:47:35.973Z"
   },
   {
    "duration": 9,
    "start_time": "2021-09-02T09:47:36.028Z"
   },
   {
    "duration": 10,
    "start_time": "2021-09-02T09:47:36.040Z"
   },
   {
    "duration": 18,
    "start_time": "2021-09-02T09:47:36.053Z"
   },
   {
    "duration": 8,
    "start_time": "2021-09-02T09:47:36.073Z"
   },
   {
    "duration": 73,
    "start_time": "2021-09-02T09:47:36.084Z"
   },
   {
    "duration": 41,
    "start_time": "2021-09-02T09:47:36.160Z"
   },
   {
    "duration": 18,
    "start_time": "2021-09-02T09:47:36.216Z"
   },
   {
    "duration": 17,
    "start_time": "2021-09-02T09:47:36.236Z"
   },
   {
    "duration": 5,
    "start_time": "2021-09-02T09:47:36.255Z"
   },
   {
    "duration": 1318,
    "start_time": "2021-09-02T09:47:36.262Z"
   },
   {
    "duration": 86362,
    "start_time": "2021-09-02T09:47:37.585Z"
   },
   {
    "duration": 4,
    "start_time": "2021-09-02T09:49:03.950Z"
   },
   {
    "duration": 282,
    "start_time": "2021-09-02T09:49:03.957Z"
   },
   {
    "duration": 88,
    "start_time": "2021-09-02T09:49:04.243Z"
   },
   {
    "duration": 95,
    "start_time": "2021-09-02T09:49:04.335Z"
   },
   {
    "duration": 526,
    "start_time": "2021-09-02T09:49:04.434Z"
   },
   {
    "duration": 71,
    "start_time": "2021-09-02T09:49:04.963Z"
   },
   {
    "duration": 106,
    "start_time": "2021-09-02T09:49:05.123Z"
   },
   {
    "duration": 44,
    "start_time": "2021-09-02T09:49:05.232Z"
   },
   {
    "duration": 758,
    "start_time": "2021-09-02T09:49:05.278Z"
   },
   {
    "duration": 184,
    "start_time": "2021-09-02T09:49:06.039Z"
   },
   {
    "duration": 16,
    "start_time": "2021-09-02T09:49:06.225Z"
   },
   {
    "duration": 34,
    "start_time": "2021-09-02T09:49:06.243Z"
   },
   {
    "duration": 337,
    "start_time": "2021-09-02T09:49:06.280Z"
   },
   {
    "duration": 112,
    "start_time": "2021-09-02T09:49:06.620Z"
   },
   {
    "duration": 97,
    "start_time": "2021-09-02T09:49:06.735Z"
   },
   {
    "duration": 526,
    "start_time": "2021-09-02T09:49:06.834Z"
   },
   {
    "duration": 728,
    "start_time": "2021-09-02T09:49:07.363Z"
   },
   {
    "duration": 30,
    "start_time": "2021-09-02T09:49:08.093Z"
   },
   {
    "duration": 323,
    "start_time": "2021-09-02T09:49:08.125Z"
   },
   {
    "duration": 223,
    "start_time": "2021-09-03T04:04:11.284Z"
   },
   {
    "duration": 1168,
    "start_time": "2021-09-03T04:04:26.289Z"
   },
   {
    "duration": 10,
    "start_time": "2021-09-03T04:04:27.458Z"
   },
   {
    "duration": 12,
    "start_time": "2021-09-03T04:04:27.470Z"
   },
   {
    "duration": 7,
    "start_time": "2021-09-03T04:04:27.485Z"
   },
   {
    "duration": 8,
    "start_time": "2021-09-03T04:04:27.494Z"
   },
   {
    "duration": 8,
    "start_time": "2021-09-03T04:04:27.503Z"
   },
   {
    "duration": 8,
    "start_time": "2021-09-03T04:04:27.513Z"
   },
   {
    "duration": 21,
    "start_time": "2021-09-03T04:04:27.524Z"
   },
   {
    "duration": 39,
    "start_time": "2021-09-03T04:04:27.547Z"
   },
   {
    "duration": 10,
    "start_time": "2021-09-03T04:04:27.587Z"
   },
   {
    "duration": 8,
    "start_time": "2021-09-03T04:04:27.598Z"
   },
   {
    "duration": 6,
    "start_time": "2021-09-03T04:04:27.607Z"
   },
   {
    "duration": 5,
    "start_time": "2021-09-03T04:04:27.615Z"
   },
   {
    "duration": 6,
    "start_time": "2021-09-03T04:04:27.622Z"
   },
   {
    "duration": 7,
    "start_time": "2021-09-03T04:04:27.630Z"
   },
   {
    "duration": 48,
    "start_time": "2021-09-03T04:04:27.638Z"
   },
   {
    "duration": 20,
    "start_time": "2021-09-03T04:04:27.687Z"
   },
   {
    "duration": 2,
    "start_time": "2021-09-03T04:04:27.709Z"
   },
   {
    "duration": 10,
    "start_time": "2021-09-03T04:04:27.712Z"
   },
   {
    "duration": 232,
    "start_time": "2021-09-03T04:04:27.724Z"
   },
   {
    "duration": -255,
    "start_time": "2021-09-03T04:04:28.212Z"
   },
   {
    "duration": 13,
    "start_time": "2021-09-03T04:04:59.257Z"
   },
   {
    "duration": 48,
    "start_time": "2021-09-03T04:05:03.170Z"
   },
   {
    "duration": 44,
    "start_time": "2021-09-03T04:21:03.050Z"
   },
   {
    "duration": 10,
    "start_time": "2021-09-03T04:21:03.095Z"
   },
   {
    "duration": 12,
    "start_time": "2021-09-03T04:21:03.107Z"
   },
   {
    "duration": 19,
    "start_time": "2021-09-03T04:21:03.121Z"
   },
   {
    "duration": 8,
    "start_time": "2021-09-03T04:21:03.141Z"
   },
   {
    "duration": 11,
    "start_time": "2021-09-03T04:21:03.150Z"
   },
   {
    "duration": 8,
    "start_time": "2021-09-03T04:21:03.185Z"
   },
   {
    "duration": 21,
    "start_time": "2021-09-03T04:21:03.195Z"
   },
   {
    "duration": 5,
    "start_time": "2021-09-03T04:21:03.218Z"
   },
   {
    "duration": 11,
    "start_time": "2021-09-03T04:21:03.225Z"
   },
   {
    "duration": 7,
    "start_time": "2021-09-03T04:21:03.237Z"
   },
   {
    "duration": 8,
    "start_time": "2021-09-03T04:21:03.285Z"
   },
   {
    "duration": 7,
    "start_time": "2021-09-03T04:21:03.295Z"
   },
   {
    "duration": 8,
    "start_time": "2021-09-03T04:21:03.304Z"
   },
   {
    "duration": 9,
    "start_time": "2021-09-03T04:21:03.314Z"
   },
   {
    "duration": 5,
    "start_time": "2021-09-03T04:21:03.324Z"
   },
   {
    "duration": 55,
    "start_time": "2021-09-03T04:21:03.331Z"
   },
   {
    "duration": 3,
    "start_time": "2021-09-03T04:21:03.387Z"
   },
   {
    "duration": 12,
    "start_time": "2021-09-03T04:21:03.391Z"
   },
   {
    "duration": 12,
    "start_time": "2021-09-03T04:21:03.404Z"
   },
   {
    "duration": 72,
    "start_time": "2021-09-03T04:21:03.417Z"
   },
   {
    "duration": 4,
    "start_time": "2021-09-03T04:21:03.491Z"
   },
   {
    "duration": 821,
    "start_time": "2021-09-03T04:21:03.499Z"
   },
   {
    "duration": 49584,
    "start_time": "2021-09-03T04:21:04.323Z"
   },
   {
    "duration": 2,
    "start_time": "2021-09-03T04:21:53.909Z"
   },
   {
    "duration": 181,
    "start_time": "2021-09-03T04:21:53.912Z"
   },
   {
    "duration": 100,
    "start_time": "2021-09-03T04:21:54.186Z"
   },
   {
    "duration": 26,
    "start_time": "2021-09-03T04:21:54.288Z"
   },
   {
    "duration": 325,
    "start_time": "2021-09-03T04:21:54.315Z"
   },
   {
    "duration": 52,
    "start_time": "2021-09-03T04:21:54.641Z"
   },
   {
    "duration": 99,
    "start_time": "2021-09-03T04:21:54.786Z"
   },
   {
    "duration": 28,
    "start_time": "2021-09-03T04:21:54.887Z"
   },
   {
    "duration": 433,
    "start_time": "2021-09-03T04:21:54.916Z"
   },
   {
    "duration": 41,
    "start_time": "2021-09-03T04:21:55.350Z"
   },
   {
    "duration": 191,
    "start_time": "2021-09-03T04:21:55.394Z"
   },
   {
    "duration": 17,
    "start_time": "2021-09-03T04:21:55.587Z"
   },
   {
    "duration": 183,
    "start_time": "2021-09-03T04:21:55.605Z"
   },
   {
    "duration": 19,
    "start_time": "2021-09-03T04:21:55.790Z"
   },
   {
    "duration": 180,
    "start_time": "2021-09-03T04:21:55.810Z"
   },
   {
    "duration": 98134,
    "start_time": "2021-09-03T04:21:55.992Z"
   },
   {
    "duration": 305,
    "start_time": "2021-09-03T04:23:34.127Z"
   },
   {
    "duration": 435,
    "start_time": "2021-09-03T04:23:34.434Z"
   },
   {
    "duration": 7,
    "start_time": "2021-09-03T04:23:34.871Z"
   },
   {
    "duration": 191,
    "start_time": "2021-09-03T04:23:34.885Z"
   },
   {
    "duration": 4,
    "start_time": "2021-09-03T04:24:53.099Z"
   },
   {
    "duration": 97987,
    "start_time": "2021-09-03T04:27:12.463Z"
   },
   {
    "duration": 313,
    "start_time": "2021-09-03T04:29:55.312Z"
   },
   {
    "duration": 174,
    "start_time": "2021-09-03T04:31:45.816Z"
   },
   {
    "duration": 98087,
    "start_time": "2021-09-03T04:31:52.034Z"
   },
   {
    "duration": 43,
    "start_time": "2021-09-03T04:38:13.745Z"
   },
   {
    "duration": 9,
    "start_time": "2021-09-03T04:39:58.149Z"
   },
   {
    "duration": 10,
    "start_time": "2021-09-03T04:52:59.436Z"
   },
   {
    "duration": 170,
    "start_time": "2021-09-03T04:54:21.872Z"
   },
   {
    "duration": 190,
    "start_time": "2021-09-03T04:55:09.578Z"
   },
   {
    "duration": 186,
    "start_time": "2021-09-03T04:55:31.567Z"
   },
   {
    "duration": 54,
    "start_time": "2021-09-03T04:55:42.578Z"
   },
   {
    "duration": 182,
    "start_time": "2021-09-03T04:55:46.357Z"
   },
   {
    "duration": 176,
    "start_time": "2021-09-03T04:56:03.459Z"
   },
   {
    "duration": 4,
    "start_time": "2021-09-03T04:57:00.617Z"
   },
   {
    "duration": 11,
    "start_time": "2021-09-03T04:57:16.644Z"
   },
   {
    "duration": 209,
    "start_time": "2021-09-03T05:00:17.543Z"
   },
   {
    "duration": 176,
    "start_time": "2021-09-03T05:00:25.876Z"
   },
   {
    "duration": 247,
    "start_time": "2021-09-03T05:01:50.700Z"
   },
   {
    "duration": 183,
    "start_time": "2021-09-03T05:01:56.256Z"
   },
   {
    "duration": 190,
    "start_time": "2021-09-03T05:03:33.683Z"
   },
   {
    "duration": 192,
    "start_time": "2021-09-03T05:04:34.815Z"
   },
   {
    "duration": 177,
    "start_time": "2021-09-03T05:04:45.495Z"
   },
   {
    "duration": 182,
    "start_time": "2021-09-03T05:04:57.052Z"
   },
   {
    "duration": 172,
    "start_time": "2021-09-03T05:05:03.555Z"
   },
   {
    "duration": 180,
    "start_time": "2021-09-03T05:05:14.677Z"
   },
   {
    "duration": 70,
    "start_time": "2021-09-03T05:06:50.262Z"
   },
   {
    "duration": 548,
    "start_time": "2021-09-03T05:06:58.573Z"
   },
   {
    "duration": 325,
    "start_time": "2021-09-03T05:07:05.762Z"
   },
   {
    "duration": 238,
    "start_time": "2021-09-03T05:08:35.655Z"
   },
   {
    "duration": 199,
    "start_time": "2021-09-03T05:10:40.834Z"
   },
   {
    "duration": 314,
    "start_time": "2021-09-03T05:10:52.991Z"
   },
   {
    "duration": 375,
    "start_time": "2021-09-03T05:11:09.529Z"
   },
   {
    "duration": 313,
    "start_time": "2021-09-03T05:11:33.944Z"
   },
   {
    "duration": 318,
    "start_time": "2021-09-03T05:12:01.350Z"
   },
   {
    "duration": 212,
    "start_time": "2021-09-03T05:12:10.949Z"
   },
   {
    "duration": 217,
    "start_time": "2021-09-03T05:12:29.702Z"
   },
   {
    "duration": 166,
    "start_time": "2021-09-03T05:12:58.118Z"
   },
   {
    "duration": 161,
    "start_time": "2021-09-03T05:13:14.229Z"
   },
   {
    "duration": 175,
    "start_time": "2021-09-03T05:13:29.350Z"
   },
   {
    "duration": 324,
    "start_time": "2021-09-03T05:14:01.250Z"
   },
   {
    "duration": 169,
    "start_time": "2021-09-03T05:14:10.818Z"
   },
   {
    "duration": 182,
    "start_time": "2021-09-03T05:15:00.749Z"
   },
   {
    "duration": 336,
    "start_time": "2021-09-03T05:17:35.937Z"
   },
   {
    "duration": 398,
    "start_time": "2021-09-03T05:17:55.555Z"
   },
   {
    "duration": 454,
    "start_time": "2021-09-03T05:18:17.489Z"
   },
   {
    "duration": 213,
    "start_time": "2021-09-03T05:18:38.607Z"
   },
   {
    "duration": 174,
    "start_time": "2021-09-03T05:18:55.955Z"
   },
   {
    "duration": 171,
    "start_time": "2021-09-03T05:19:40.394Z"
   },
   {
    "duration": 168,
    "start_time": "2021-09-03T05:19:47.673Z"
   },
   {
    "duration": 172,
    "start_time": "2021-09-03T05:19:53.578Z"
   },
   {
    "duration": 169,
    "start_time": "2021-09-03T05:20:06.252Z"
   },
   {
    "duration": 383,
    "start_time": "2021-09-03T05:21:02.619Z"
   },
   {
    "duration": 720,
    "start_time": "2021-09-03T05:21:11.059Z"
   },
   {
    "duration": 426,
    "start_time": "2021-09-03T05:21:17.837Z"
   },
   {
    "duration": 429,
    "start_time": "2021-09-03T05:23:00.058Z"
   },
   {
    "duration": 436,
    "start_time": "2021-09-03T05:23:04.834Z"
   },
   {
    "duration": 684,
    "start_time": "2021-09-03T05:23:26.910Z"
   },
   {
    "duration": 601,
    "start_time": "2021-09-03T05:23:43.028Z"
   },
   {
    "duration": 446,
    "start_time": "2021-09-03T05:25:09.291Z"
   },
   {
    "duration": 509,
    "start_time": "2021-09-03T05:26:23.560Z"
   },
   {
    "duration": 372,
    "start_time": "2021-09-03T05:26:34.721Z"
   },
   {
    "duration": 282,
    "start_time": "2021-09-03T05:26:46.616Z"
   },
   {
    "duration": 227,
    "start_time": "2021-09-03T05:26:52.209Z"
   },
   {
    "duration": 214,
    "start_time": "2021-09-03T05:26:59.731Z"
   },
   {
    "duration": 221,
    "start_time": "2021-09-03T05:27:09.423Z"
   },
   {
    "duration": 211,
    "start_time": "2021-09-03T05:27:17.699Z"
   },
   {
    "duration": 9,
    "start_time": "2021-09-03T05:29:25.454Z"
   },
   {
    "duration": 10,
    "start_time": "2021-09-03T05:29:34.337Z"
   },
   {
    "duration": 9,
    "start_time": "2021-09-03T05:29:47.393Z"
   },
   {
    "duration": 220,
    "start_time": "2021-09-03T05:29:50.986Z"
   },
   {
    "duration": 286,
    "start_time": "2021-09-03T05:30:56.563Z"
   },
   {
    "duration": 211,
    "start_time": "2021-09-03T05:35:28.568Z"
   },
   {
    "duration": 216,
    "start_time": "2021-09-03T05:35:47.185Z"
   },
   {
    "duration": 208,
    "start_time": "2021-09-03T05:35:57.852Z"
   },
   {
    "duration": 211,
    "start_time": "2021-09-03T05:36:51.276Z"
   },
   {
    "duration": 214,
    "start_time": "2021-09-03T05:37:00.642Z"
   },
   {
    "duration": 217,
    "start_time": "2021-09-03T05:37:12.395Z"
   },
   {
    "duration": 1014,
    "start_time": "2021-09-03T05:45:34.543Z"
   },
   {
    "duration": 12,
    "start_time": "2021-09-03T05:45:35.559Z"
   },
   {
    "duration": 16,
    "start_time": "2021-09-03T05:45:35.573Z"
   },
   {
    "duration": 9,
    "start_time": "2021-09-03T05:45:35.591Z"
   },
   {
    "duration": 7,
    "start_time": "2021-09-03T05:45:35.602Z"
   },
   {
    "duration": 6,
    "start_time": "2021-09-03T05:45:35.610Z"
   },
   {
    "duration": 9,
    "start_time": "2021-09-03T05:45:35.618Z"
   },
   {
    "duration": 56,
    "start_time": "2021-09-03T05:45:35.630Z"
   },
   {
    "duration": 7,
    "start_time": "2021-09-03T05:45:35.688Z"
   },
   {
    "duration": 10,
    "start_time": "2021-09-03T05:45:35.696Z"
   },
   {
    "duration": 8,
    "start_time": "2021-09-03T05:45:35.708Z"
   },
   {
    "duration": 6,
    "start_time": "2021-09-03T05:45:35.718Z"
   },
   {
    "duration": 6,
    "start_time": "2021-09-03T05:45:35.725Z"
   },
   {
    "duration": 6,
    "start_time": "2021-09-03T05:45:35.732Z"
   },
   {
    "duration": 52,
    "start_time": "2021-09-03T05:45:35.739Z"
   },
   {
    "duration": 5,
    "start_time": "2021-09-03T05:45:35.792Z"
   },
   {
    "duration": 21,
    "start_time": "2021-09-03T05:45:35.799Z"
   },
   {
    "duration": 2,
    "start_time": "2021-09-03T05:45:35.821Z"
   },
   {
    "duration": 11,
    "start_time": "2021-09-03T05:45:35.825Z"
   },
   {
    "duration": 12,
    "start_time": "2021-09-03T05:45:35.838Z"
   },
   {
    "duration": 81,
    "start_time": "2021-09-03T05:45:35.852Z"
   },
   {
    "duration": 3,
    "start_time": "2021-09-03T05:45:35.935Z"
   },
   {
    "duration": 832,
    "start_time": "2021-09-03T05:45:35.941Z"
   },
   {
    "duration": 50534,
    "start_time": "2021-09-03T05:45:36.775Z"
   },
   {
    "duration": 3,
    "start_time": "2021-09-03T05:46:27.311Z"
   },
   {
    "duration": 180,
    "start_time": "2021-09-03T05:46:27.315Z"
   },
   {
    "duration": 91,
    "start_time": "2021-09-03T05:46:27.497Z"
   },
   {
    "duration": 117,
    "start_time": "2021-09-03T05:46:27.591Z"
   },
   {
    "duration": 331,
    "start_time": "2021-09-03T05:46:27.710Z"
   },
   {
    "duration": 50,
    "start_time": "2021-09-03T05:46:28.043Z"
   },
   {
    "duration": 192,
    "start_time": "2021-09-03T05:46:28.095Z"
   },
   {
    "duration": 34,
    "start_time": "2021-09-03T05:46:28.289Z"
   },
   {
    "duration": 450,
    "start_time": "2021-09-03T05:46:28.324Z"
   },
   {
    "duration": 108,
    "start_time": "2021-09-03T05:46:28.776Z"
   },
   {
    "duration": 103,
    "start_time": "2021-09-03T05:46:28.887Z"
   },
   {
    "duration": 16,
    "start_time": "2021-09-03T05:46:28.992Z"
   },
   {
    "duration": 186,
    "start_time": "2021-09-03T05:46:29.009Z"
   },
   {
    "duration": 17,
    "start_time": "2021-09-03T05:46:29.196Z"
   },
   {
    "duration": 104,
    "start_time": "2021-09-03T05:46:29.287Z"
   },
   {
    "duration": 99116,
    "start_time": "2021-09-03T05:46:29.392Z"
   },
   {
    "duration": 329,
    "start_time": "2021-09-03T05:48:08.509Z"
   },
   {
    "duration": 313,
    "start_time": "2021-09-03T05:48:08.839Z"
   },
   {
    "duration": 442,
    "start_time": "2021-09-03T05:48:09.154Z"
   },
   {
    "duration": 7,
    "start_time": "2021-09-03T05:48:09.598Z"
   },
   {
    "duration": 198,
    "start_time": "2021-09-03T05:48:09.606Z"
   },
   {
    "duration": 8,
    "start_time": "2021-09-03T05:48:09.805Z"
   },
   {
    "duration": 9,
    "start_time": "2021-09-03T05:48:09.815Z"
   },
   {
    "duration": 286,
    "start_time": "2021-09-03T05:48:09.825Z"
   }
  ],
  "kernelspec": {
   "display_name": "Python 3",
   "language": "python",
   "name": "python3"
  },
  "language_info": {
   "codemirror_mode": {
    "name": "ipython",
    "version": 3
   },
   "file_extension": ".py",
   "mimetype": "text/x-python",
   "name": "python",
   "nbconvert_exporter": "python",
   "pygments_lexer": "ipython3",
   "version": "3.8.2"
  },
  "toc": {
   "base_numbering": 1,
   "nav_menu": {},
   "number_sections": true,
   "sideBar": true,
   "skip_h1_title": true,
   "title_cell": "Содержание",
   "title_sidebar": "Contents",
   "toc_cell": true,
   "toc_position": {
    "height": "calc(100% - 180px)",
    "left": "10px",
    "top": "150px",
    "width": "165px"
   },
   "toc_section_display": true,
   "toc_window_display": true
  }
 },
 "nbformat": 4,
 "nbformat_minor": 2
}
