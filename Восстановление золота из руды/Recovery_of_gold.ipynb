{
 "cells": [
  {
   "cell_type": "markdown",
   "metadata": {
    "toc": true
   },
   "source": [
    "<h1>Содержание<span class=\"tocSkip\"></span></h1>\n",
    "<div class=\"toc\"><ul class=\"toc-item\"><li><span><a href=\"#Подготовка-данных\" data-toc-modified-id=\"Подготовка-данных-1\"><span class=\"toc-item-num\">1&nbsp;&nbsp;</span>Подготовка данных</a></span><ul class=\"toc-item\"><li><span><a href=\"#Изучение-данных\" data-toc-modified-id=\"Изучение-данных-1.1\"><span class=\"toc-item-num\">1.1&nbsp;&nbsp;</span>Изучение данных</a></span></li><li><span><a href=\"#Предобработка-данных\" data-toc-modified-id=\"Предобработка-данных-1.2\"><span class=\"toc-item-num\">1.2&nbsp;&nbsp;</span>Предобработка данных</a></span></li><li><span><a href=\"#Вывод\" data-toc-modified-id=\"Вывод-1.3\"><span class=\"toc-item-num\">1.3&nbsp;&nbsp;</span>Вывод</a></span></li></ul></li><li><span><a href=\"#Анализ-данных\" data-toc-modified-id=\"Анализ-данных-2\"><span class=\"toc-item-num\">2&nbsp;&nbsp;</span>Анализ данных</a></span><ul class=\"toc-item\"><li><span><a href=\"#Исследование-концентрации-металлов-(Au,-Ag,-Pb)-на-различных-этапах-очистки.\" data-toc-modified-id=\"Исследование-концентрации-металлов-(Au,-Ag,-Pb)-на-различных-этапах-очистки.-2.1\"><span class=\"toc-item-num\">2.1&nbsp;&nbsp;</span>Исследование концентрации металлов (Au, Ag, Pb) на различных этапах очистки.</a></span></li><li><span><a href=\"#Сравнение-распределения-размеров-гранул-сырья-на-обучающей-и-тестовой-выборках:\" data-toc-modified-id=\"Сравнение-распределения-размеров-гранул-сырья-на-обучающей-и-тестовой-выборках:-2.2\"><span class=\"toc-item-num\">2.2&nbsp;&nbsp;</span>Сравнение распределения размеров гранул сырья на обучающей и тестовой выборках:</a></span></li><li><span><a href=\"#Исследование-суммарной-концентрации-всех-веществ-на-разных-стадиях\" data-toc-modified-id=\"Исследование-суммарной-концентрации-всех-веществ-на-разных-стадиях-2.3\"><span class=\"toc-item-num\">2.3&nbsp;&nbsp;</span>Исследование суммарной концентрации всех веществ на разных стадиях</a></span></li><li><span><a href=\"#Вывод\" data-toc-modified-id=\"Вывод-2.4\"><span class=\"toc-item-num\">2.4&nbsp;&nbsp;</span>Вывод</a></span></li></ul></li><li><span><a href=\"#Построение-модели\" data-toc-modified-id=\"Построение-модели-3\"><span class=\"toc-item-num\">3&nbsp;&nbsp;</span>Построение модели</a></span><ul class=\"toc-item\"><li><span><a href=\"#Функция-для-вычисления-итоговой-sMAPE:\" data-toc-modified-id=\"Функция-для-вычисления-итоговой-sMAPE:-3.1\"><span class=\"toc-item-num\">3.1&nbsp;&nbsp;</span>Функция для вычисления итоговой sMAPE:</a></span></li><li><span><a href=\"#Обучение-и-выбор-лучшей-модели\" data-toc-modified-id=\"Обучение-и-выбор-лучшей-модели-3.2\"><span class=\"toc-item-num\">3.2&nbsp;&nbsp;</span>Обучение и выбор лучшей модели</a></span></li><li><span><a href=\"#Проверка-на-тестовой-выборке\" data-toc-modified-id=\"Проверка-на-тестовой-выборке-3.3\"><span class=\"toc-item-num\">3.3&nbsp;&nbsp;</span>Проверка на тестовой выборке</a></span></li></ul></li><li><span><a href=\"#Выводы\" data-toc-modified-id=\"Выводы-4\"><span class=\"toc-item-num\">4&nbsp;&nbsp;</span>Выводы</a></ul></div>"
   ]
  },
  {
   "cell_type": "markdown",
   "metadata": {},
   "source": [
    "# Восстановление золота из руды"
   ]
  },
  {
   "cell_type": "markdown",
   "metadata": {},
   "source": [
    "**Цель проекта**: подготовка прототипа модели машинного обучения для компании, которая разрабатывает решения для эффективной работы промышленных предприятий. Модель должна предсказать коэффициент восстановления золота из золотосодержащей руды в черновом и финальном концентратах. \n",
    "\n",
    "Технологичский процесс состоит из флотации (обогащения) и двухэтапной очистки, после каждого этапа получается концентрат и «отвальные хвосты», то есть остатки продукта с низкой концентрацией ценных металлов.\n",
    "\n",
    "В нашем распоряжении данные с параметрами добычи и очистки следующего формата: [этап].[тип_параметра].[название_параметра]\n",
    "\n",
    "Возможные значения для блока [этап]:\n",
    "- *rougher* — флотация\n",
    "- *primary_cleaner* — первичная очистка\n",
    "- *secondary_cleaner* — вторичная очистка\n",
    "- *final* — финальные характеристики\n",
    "\n",
    "Возможные значения для блока [тип_параметра]:\n",
    "- *input* — параметры сырья\n",
    "- *output* — параметры продукта\n",
    "- *state* — параметры, характеризующие текущее состояние этапа\n",
    "- *calculation* — расчётные характеристики\n",
    "\n",
    "Параметры этапов:\n",
    "- *air amount* — объём воздуха\n",
    "- *fluid levels* — уровень жидкости\n",
    "- *feed size* — размер гранул сырья\n",
    "- *feed rate* — скорость подачи\n",
    "\n",
    "В качестве метрики качества для оценки моделей будет использоваться **Symmetric Mean Absolute Percentage Error (sMAPE)**."
   ]
  },
  {
   "cell_type": "markdown",
   "metadata": {},
   "source": [
    "## Подготовка данных\n",
    "\n",
    "### Изучение данных"
   ]
  },
  {
   "cell_type": "code",
   "execution_count": 1,
   "metadata": {},
   "outputs": [],
   "source": [
    "import pandas as pd\n",
    "import numpy as np\n",
    "import seaborn as sns\n",
    "import matplotlib.pyplot as plt\n",
    "import warnings\n",
    "from sklearn.metrics import mean_absolute_error\n",
    "from scipy import stats as st\n",
    "from scipy.stats import ks_2samp\n",
    "from sklearn.dummy import DummyRegressor\n",
    "from sklearn.ensemble import RandomForestRegressor\n",
    "from sklearn.linear_model import LinearRegression\n",
    "from sklearn.model_selection import cross_val_score, GridSearchCV, RandomizedSearchCV\n",
    "from sklearn.metrics import make_scorer\n",
    "from sklearn.tree import DecisionTreeRegressor"
   ]
  },
  {
   "cell_type": "code",
   "execution_count": 2,
   "metadata": {},
   "outputs": [],
   "source": [
    "warnings.simplefilter(action='ignore', category=FutureWarning)"
   ]
  },
  {
   "cell_type": "code",
   "execution_count": 3,
   "metadata": {},
   "outputs": [],
   "source": [
    "train = pd.read_csv('/gold_recovery_train_new.csv')\n",
    "test = pd.read_csv('/gold_recovery_test_new.csv')\n",
    "full = pd.read_csv('/gold_recovery_full_new.csv')"
   ]
  },
  {
   "cell_type": "code",
   "execution_count": 4,
   "metadata": {},
   "outputs": [
    {
     "data": {
      "text/html": [
       "<div>\n",
       "<style scoped>\n",
       "    .dataframe tbody tr th:only-of-type {\n",
       "        vertical-align: middle;\n",
       "    }\n",
       "\n",
       "    .dataframe tbody tr th {\n",
       "        vertical-align: top;\n",
       "    }\n",
       "\n",
       "    .dataframe thead th {\n",
       "        text-align: right;\n",
       "    }\n",
       "</style>\n",
       "<table border=\"1\" class=\"dataframe\">\n",
       "  <thead>\n",
       "    <tr style=\"text-align: right;\">\n",
       "      <th></th>\n",
       "      <th>date</th>\n",
       "      <th>final.output.concentrate_ag</th>\n",
       "      <th>final.output.concentrate_pb</th>\n",
       "      <th>final.output.concentrate_sol</th>\n",
       "      <th>final.output.concentrate_au</th>\n",
       "      <th>final.output.recovery</th>\n",
       "      <th>final.output.tail_ag</th>\n",
       "      <th>final.output.tail_pb</th>\n",
       "      <th>final.output.tail_sol</th>\n",
       "      <th>final.output.tail_au</th>\n",
       "      <th>...</th>\n",
       "      <th>secondary_cleaner.state.floatbank4_a_air</th>\n",
       "      <th>secondary_cleaner.state.floatbank4_a_level</th>\n",
       "      <th>secondary_cleaner.state.floatbank4_b_air</th>\n",
       "      <th>secondary_cleaner.state.floatbank4_b_level</th>\n",
       "      <th>secondary_cleaner.state.floatbank5_a_air</th>\n",
       "      <th>secondary_cleaner.state.floatbank5_a_level</th>\n",
       "      <th>secondary_cleaner.state.floatbank5_b_air</th>\n",
       "      <th>secondary_cleaner.state.floatbank5_b_level</th>\n",
       "      <th>secondary_cleaner.state.floatbank6_a_air</th>\n",
       "      <th>secondary_cleaner.state.floatbank6_a_level</th>\n",
       "    </tr>\n",
       "  </thead>\n",
       "  <tbody>\n",
       "    <tr>\n",
       "      <td>0</td>\n",
       "      <td>2016-01-15 00:00:00</td>\n",
       "      <td>6.055403</td>\n",
       "      <td>9.889648</td>\n",
       "      <td>5.507324</td>\n",
       "      <td>42.192020</td>\n",
       "      <td>70.541216</td>\n",
       "      <td>10.411962</td>\n",
       "      <td>0.895447</td>\n",
       "      <td>16.904297</td>\n",
       "      <td>2.143149</td>\n",
       "      <td>...</td>\n",
       "      <td>14.016835</td>\n",
       "      <td>-502.488007</td>\n",
       "      <td>12.099931</td>\n",
       "      <td>-504.715942</td>\n",
       "      <td>9.925633</td>\n",
       "      <td>-498.310211</td>\n",
       "      <td>8.079666</td>\n",
       "      <td>-500.470978</td>\n",
       "      <td>14.151341</td>\n",
       "      <td>-605.841980</td>\n",
       "    </tr>\n",
       "    <tr>\n",
       "      <td>1</td>\n",
       "      <td>2016-01-15 01:00:00</td>\n",
       "      <td>6.029369</td>\n",
       "      <td>9.968944</td>\n",
       "      <td>5.257781</td>\n",
       "      <td>42.701629</td>\n",
       "      <td>69.266198</td>\n",
       "      <td>10.462676</td>\n",
       "      <td>0.927452</td>\n",
       "      <td>16.634514</td>\n",
       "      <td>2.224930</td>\n",
       "      <td>...</td>\n",
       "      <td>13.992281</td>\n",
       "      <td>-505.503262</td>\n",
       "      <td>11.950531</td>\n",
       "      <td>-501.331529</td>\n",
       "      <td>10.039245</td>\n",
       "      <td>-500.169983</td>\n",
       "      <td>7.984757</td>\n",
       "      <td>-500.582168</td>\n",
       "      <td>13.998353</td>\n",
       "      <td>-599.787184</td>\n",
       "    </tr>\n",
       "    <tr>\n",
       "      <td>2</td>\n",
       "      <td>2016-01-15 02:00:00</td>\n",
       "      <td>6.055926</td>\n",
       "      <td>10.213995</td>\n",
       "      <td>5.383759</td>\n",
       "      <td>42.657501</td>\n",
       "      <td>68.116445</td>\n",
       "      <td>10.507046</td>\n",
       "      <td>0.953716</td>\n",
       "      <td>16.208849</td>\n",
       "      <td>2.257889</td>\n",
       "      <td>...</td>\n",
       "      <td>14.015015</td>\n",
       "      <td>-502.520901</td>\n",
       "      <td>11.912783</td>\n",
       "      <td>-501.133383</td>\n",
       "      <td>10.070913</td>\n",
       "      <td>-500.129135</td>\n",
       "      <td>8.013877</td>\n",
       "      <td>-500.517572</td>\n",
       "      <td>14.028663</td>\n",
       "      <td>-601.427363</td>\n",
       "    </tr>\n",
       "    <tr>\n",
       "      <td>3</td>\n",
       "      <td>2016-01-15 03:00:00</td>\n",
       "      <td>6.047977</td>\n",
       "      <td>9.977019</td>\n",
       "      <td>4.858634</td>\n",
       "      <td>42.689819</td>\n",
       "      <td>68.347543</td>\n",
       "      <td>10.422762</td>\n",
       "      <td>0.883763</td>\n",
       "      <td>16.532835</td>\n",
       "      <td>2.146849</td>\n",
       "      <td>...</td>\n",
       "      <td>14.036510</td>\n",
       "      <td>-500.857308</td>\n",
       "      <td>11.999550</td>\n",
       "      <td>-501.193686</td>\n",
       "      <td>9.970366</td>\n",
       "      <td>-499.201640</td>\n",
       "      <td>7.977324</td>\n",
       "      <td>-500.255908</td>\n",
       "      <td>14.005551</td>\n",
       "      <td>-599.996129</td>\n",
       "    </tr>\n",
       "    <tr>\n",
       "      <td>4</td>\n",
       "      <td>2016-01-15 04:00:00</td>\n",
       "      <td>6.148599</td>\n",
       "      <td>10.142511</td>\n",
       "      <td>4.939416</td>\n",
       "      <td>42.774141</td>\n",
       "      <td>66.927016</td>\n",
       "      <td>10.360302</td>\n",
       "      <td>0.792826</td>\n",
       "      <td>16.525686</td>\n",
       "      <td>2.055292</td>\n",
       "      <td>...</td>\n",
       "      <td>14.027298</td>\n",
       "      <td>-499.838632</td>\n",
       "      <td>11.953070</td>\n",
       "      <td>-501.053894</td>\n",
       "      <td>9.925709</td>\n",
       "      <td>-501.686727</td>\n",
       "      <td>7.894242</td>\n",
       "      <td>-500.356035</td>\n",
       "      <td>13.996647</td>\n",
       "      <td>-601.496691</td>\n",
       "    </tr>\n",
       "  </tbody>\n",
       "</table>\n",
       "<p>5 rows × 87 columns</p>\n",
       "</div>"
      ],
      "text/plain": [
       "                  date  final.output.concentrate_ag  \\\n",
       "0  2016-01-15 00:00:00                     6.055403   \n",
       "1  2016-01-15 01:00:00                     6.029369   \n",
       "2  2016-01-15 02:00:00                     6.055926   \n",
       "3  2016-01-15 03:00:00                     6.047977   \n",
       "4  2016-01-15 04:00:00                     6.148599   \n",
       "\n",
       "   final.output.concentrate_pb  final.output.concentrate_sol  \\\n",
       "0                     9.889648                      5.507324   \n",
       "1                     9.968944                      5.257781   \n",
       "2                    10.213995                      5.383759   \n",
       "3                     9.977019                      4.858634   \n",
       "4                    10.142511                      4.939416   \n",
       "\n",
       "   final.output.concentrate_au  final.output.recovery  final.output.tail_ag  \\\n",
       "0                    42.192020              70.541216             10.411962   \n",
       "1                    42.701629              69.266198             10.462676   \n",
       "2                    42.657501              68.116445             10.507046   \n",
       "3                    42.689819              68.347543             10.422762   \n",
       "4                    42.774141              66.927016             10.360302   \n",
       "\n",
       "   final.output.tail_pb  final.output.tail_sol  final.output.tail_au  ...  \\\n",
       "0              0.895447              16.904297              2.143149  ...   \n",
       "1              0.927452              16.634514              2.224930  ...   \n",
       "2              0.953716              16.208849              2.257889  ...   \n",
       "3              0.883763              16.532835              2.146849  ...   \n",
       "4              0.792826              16.525686              2.055292  ...   \n",
       "\n",
       "   secondary_cleaner.state.floatbank4_a_air  \\\n",
       "0                                 14.016835   \n",
       "1                                 13.992281   \n",
       "2                                 14.015015   \n",
       "3                                 14.036510   \n",
       "4                                 14.027298   \n",
       "\n",
       "   secondary_cleaner.state.floatbank4_a_level  \\\n",
       "0                                 -502.488007   \n",
       "1                                 -505.503262   \n",
       "2                                 -502.520901   \n",
       "3                                 -500.857308   \n",
       "4                                 -499.838632   \n",
       "\n",
       "   secondary_cleaner.state.floatbank4_b_air  \\\n",
       "0                                 12.099931   \n",
       "1                                 11.950531   \n",
       "2                                 11.912783   \n",
       "3                                 11.999550   \n",
       "4                                 11.953070   \n",
       "\n",
       "   secondary_cleaner.state.floatbank4_b_level  \\\n",
       "0                                 -504.715942   \n",
       "1                                 -501.331529   \n",
       "2                                 -501.133383   \n",
       "3                                 -501.193686   \n",
       "4                                 -501.053894   \n",
       "\n",
       "   secondary_cleaner.state.floatbank5_a_air  \\\n",
       "0                                  9.925633   \n",
       "1                                 10.039245   \n",
       "2                                 10.070913   \n",
       "3                                  9.970366   \n",
       "4                                  9.925709   \n",
       "\n",
       "   secondary_cleaner.state.floatbank5_a_level  \\\n",
       "0                                 -498.310211   \n",
       "1                                 -500.169983   \n",
       "2                                 -500.129135   \n",
       "3                                 -499.201640   \n",
       "4                                 -501.686727   \n",
       "\n",
       "   secondary_cleaner.state.floatbank5_b_air  \\\n",
       "0                                  8.079666   \n",
       "1                                  7.984757   \n",
       "2                                  8.013877   \n",
       "3                                  7.977324   \n",
       "4                                  7.894242   \n",
       "\n",
       "   secondary_cleaner.state.floatbank5_b_level  \\\n",
       "0                                 -500.470978   \n",
       "1                                 -500.582168   \n",
       "2                                 -500.517572   \n",
       "3                                 -500.255908   \n",
       "4                                 -500.356035   \n",
       "\n",
       "   secondary_cleaner.state.floatbank6_a_air  \\\n",
       "0                                 14.151341   \n",
       "1                                 13.998353   \n",
       "2                                 14.028663   \n",
       "3                                 14.005551   \n",
       "4                                 13.996647   \n",
       "\n",
       "   secondary_cleaner.state.floatbank6_a_level  \n",
       "0                                 -605.841980  \n",
       "1                                 -599.787184  \n",
       "2                                 -601.427363  \n",
       "3                                 -599.996129  \n",
       "4                                 -601.496691  \n",
       "\n",
       "[5 rows x 87 columns]"
      ]
     },
     "metadata": {},
     "output_type": "display_data"
    }
   ],
   "source": [
    "display(full.head())"
   ]
  },
  {
   "cell_type": "code",
   "execution_count": 5,
   "metadata": {},
   "outputs": [
    {
     "name": "stdout",
     "output_type": "stream",
     "text": [
      "<class 'pandas.core.frame.DataFrame'>\n",
      "RangeIndex: 19439 entries, 0 to 19438\n",
      "Data columns (total 87 columns):\n",
      "date                                                  19439 non-null object\n",
      "final.output.concentrate_ag                           19438 non-null float64\n",
      "final.output.concentrate_pb                           19438 non-null float64\n",
      "final.output.concentrate_sol                          19228 non-null float64\n",
      "final.output.concentrate_au                           19439 non-null float64\n",
      "final.output.recovery                                 19439 non-null float64\n",
      "final.output.tail_ag                                  19438 non-null float64\n",
      "final.output.tail_pb                                  19338 non-null float64\n",
      "final.output.tail_sol                                 19433 non-null float64\n",
      "final.output.tail_au                                  19439 non-null float64\n",
      "primary_cleaner.input.sulfate                         19415 non-null float64\n",
      "primary_cleaner.input.depressant                      19402 non-null float64\n",
      "primary_cleaner.input.feed_size                       19439 non-null float64\n",
      "primary_cleaner.input.xanthate                        19335 non-null float64\n",
      "primary_cleaner.output.concentrate_ag                 19439 non-null float64\n",
      "primary_cleaner.output.concentrate_pb                 19323 non-null float64\n",
      "primary_cleaner.output.concentrate_sol                19069 non-null float64\n",
      "primary_cleaner.output.concentrate_au                 19439 non-null float64\n",
      "primary_cleaner.output.tail_ag                        19435 non-null float64\n",
      "primary_cleaner.output.tail_pb                        19418 non-null float64\n",
      "primary_cleaner.output.tail_sol                       19377 non-null float64\n",
      "primary_cleaner.output.tail_au                        19439 non-null float64\n",
      "primary_cleaner.state.floatbank8_a_air                19435 non-null float64\n",
      "primary_cleaner.state.floatbank8_a_level              19438 non-null float64\n",
      "primary_cleaner.state.floatbank8_b_air                19435 non-null float64\n",
      "primary_cleaner.state.floatbank8_b_level              19438 non-null float64\n",
      "primary_cleaner.state.floatbank8_c_air                19437 non-null float64\n",
      "primary_cleaner.state.floatbank8_c_level              19438 non-null float64\n",
      "primary_cleaner.state.floatbank8_d_air                19436 non-null float64\n",
      "primary_cleaner.state.floatbank8_d_level              19438 non-null float64\n",
      "rougher.calculation.sulfate_to_au_concentrate         19437 non-null float64\n",
      "rougher.calculation.floatbank10_sulfate_to_au_feed    19437 non-null float64\n",
      "rougher.calculation.floatbank11_sulfate_to_au_feed    19437 non-null float64\n",
      "rougher.calculation.au_pb_ratio                       19439 non-null float64\n",
      "rougher.input.feed_ag                                 19439 non-null float64\n",
      "rougher.input.feed_pb                                 19339 non-null float64\n",
      "rougher.input.feed_rate                               19428 non-null float64\n",
      "rougher.input.feed_size                               19294 non-null float64\n",
      "rougher.input.feed_sol                                19340 non-null float64\n",
      "rougher.input.feed_au                                 19439 non-null float64\n",
      "rougher.input.floatbank10_sulfate                     19405 non-null float64\n",
      "rougher.input.floatbank10_xanthate                    19431 non-null float64\n",
      "rougher.input.floatbank11_sulfate                     19395 non-null float64\n",
      "rougher.input.floatbank11_xanthate                    18986 non-null float64\n",
      "rougher.output.concentrate_ag                         19439 non-null float64\n",
      "rougher.output.concentrate_pb                         19439 non-null float64\n",
      "rougher.output.concentrate_sol                        19416 non-null float64\n",
      "rougher.output.concentrate_au                         19439 non-null float64\n",
      "rougher.output.recovery                               19439 non-null float64\n",
      "rougher.output.tail_ag                                19438 non-null float64\n",
      "rougher.output.tail_pb                                19439 non-null float64\n",
      "rougher.output.tail_sol                               19439 non-null float64\n",
      "rougher.output.tail_au                                19439 non-null float64\n",
      "rougher.state.floatbank10_a_air                       19438 non-null float64\n",
      "rougher.state.floatbank10_a_level                     19438 non-null float64\n",
      "rougher.state.floatbank10_b_air                       19438 non-null float64\n",
      "rougher.state.floatbank10_b_level                     19438 non-null float64\n",
      "rougher.state.floatbank10_c_air                       19438 non-null float64\n",
      "rougher.state.floatbank10_c_level                     19438 non-null float64\n",
      "rougher.state.floatbank10_d_air                       19439 non-null float64\n",
      "rougher.state.floatbank10_d_level                     19439 non-null float64\n",
      "rougher.state.floatbank10_e_air                       19003 non-null float64\n",
      "rougher.state.floatbank10_e_level                     19439 non-null float64\n",
      "rougher.state.floatbank10_f_air                       19439 non-null float64\n",
      "rougher.state.floatbank10_f_level                     19439 non-null float64\n",
      "secondary_cleaner.output.tail_ag                      19437 non-null float64\n",
      "secondary_cleaner.output.tail_pb                      19427 non-null float64\n",
      "secondary_cleaner.output.tail_sol                     17691 non-null float64\n",
      "secondary_cleaner.output.tail_au                      19439 non-null float64\n",
      "secondary_cleaner.state.floatbank2_a_air              19219 non-null float64\n",
      "secondary_cleaner.state.floatbank2_a_level            19438 non-null float64\n",
      "secondary_cleaner.state.floatbank2_b_air              19416 non-null float64\n",
      "secondary_cleaner.state.floatbank2_b_level            19438 non-null float64\n",
      "secondary_cleaner.state.floatbank3_a_air              19426 non-null float64\n",
      "secondary_cleaner.state.floatbank3_a_level            19438 non-null float64\n",
      "secondary_cleaner.state.floatbank3_b_air              19438 non-null float64\n",
      "secondary_cleaner.state.floatbank3_b_level            19438 non-null float64\n",
      "secondary_cleaner.state.floatbank4_a_air              19433 non-null float64\n",
      "secondary_cleaner.state.floatbank4_a_level            19438 non-null float64\n",
      "secondary_cleaner.state.floatbank4_b_air              19438 non-null float64\n",
      "secondary_cleaner.state.floatbank4_b_level            19438 non-null float64\n",
      "secondary_cleaner.state.floatbank5_a_air              19438 non-null float64\n",
      "secondary_cleaner.state.floatbank5_a_level            19438 non-null float64\n",
      "secondary_cleaner.state.floatbank5_b_air              19438 non-null float64\n",
      "secondary_cleaner.state.floatbank5_b_level            19438 non-null float64\n",
      "secondary_cleaner.state.floatbank6_a_air              19437 non-null float64\n",
      "secondary_cleaner.state.floatbank6_a_level            19438 non-null float64\n",
      "dtypes: float64(86), object(1)\n",
      "memory usage: 12.9+ MB\n"
     ]
    }
   ],
   "source": [
    "full.info()"
   ]
  },
  {
   "cell_type": "code",
   "execution_count": 6,
   "metadata": {
    "scrolled": true
   },
   "outputs": [
    {
     "name": "stdout",
     "output_type": "stream",
     "text": [
      "<class 'pandas.core.frame.DataFrame'>\n",
      "RangeIndex: 14149 entries, 0 to 14148\n",
      "Data columns (total 87 columns):\n",
      "date                                                  14149 non-null object\n",
      "final.output.concentrate_ag                           14148 non-null float64\n",
      "final.output.concentrate_pb                           14148 non-null float64\n",
      "final.output.concentrate_sol                          13938 non-null float64\n",
      "final.output.concentrate_au                           14149 non-null float64\n",
      "final.output.recovery                                 14149 non-null float64\n",
      "final.output.tail_ag                                  14149 non-null float64\n",
      "final.output.tail_pb                                  14049 non-null float64\n",
      "final.output.tail_sol                                 14144 non-null float64\n",
      "final.output.tail_au                                  14149 non-null float64\n",
      "primary_cleaner.input.sulfate                         14129 non-null float64\n",
      "primary_cleaner.input.depressant                      14117 non-null float64\n",
      "primary_cleaner.input.feed_size                       14149 non-null float64\n",
      "primary_cleaner.input.xanthate                        14049 non-null float64\n",
      "primary_cleaner.output.concentrate_ag                 14149 non-null float64\n",
      "primary_cleaner.output.concentrate_pb                 14063 non-null float64\n",
      "primary_cleaner.output.concentrate_sol                13863 non-null float64\n",
      "primary_cleaner.output.concentrate_au                 14149 non-null float64\n",
      "primary_cleaner.output.tail_ag                        14148 non-null float64\n",
      "primary_cleaner.output.tail_pb                        14134 non-null float64\n",
      "primary_cleaner.output.tail_sol                       14103 non-null float64\n",
      "primary_cleaner.output.tail_au                        14149 non-null float64\n",
      "primary_cleaner.state.floatbank8_a_air                14145 non-null float64\n",
      "primary_cleaner.state.floatbank8_a_level              14148 non-null float64\n",
      "primary_cleaner.state.floatbank8_b_air                14145 non-null float64\n",
      "primary_cleaner.state.floatbank8_b_level              14148 non-null float64\n",
      "primary_cleaner.state.floatbank8_c_air                14147 non-null float64\n",
      "primary_cleaner.state.floatbank8_c_level              14148 non-null float64\n",
      "primary_cleaner.state.floatbank8_d_air                14146 non-null float64\n",
      "primary_cleaner.state.floatbank8_d_level              14148 non-null float64\n",
      "rougher.calculation.sulfate_to_au_concentrate         14148 non-null float64\n",
      "rougher.calculation.floatbank10_sulfate_to_au_feed    14148 non-null float64\n",
      "rougher.calculation.floatbank11_sulfate_to_au_feed    14148 non-null float64\n",
      "rougher.calculation.au_pb_ratio                       14149 non-null float64\n",
      "rougher.input.feed_ag                                 14149 non-null float64\n",
      "rougher.input.feed_pb                                 14049 non-null float64\n",
      "rougher.input.feed_rate                               14141 non-null float64\n",
      "rougher.input.feed_size                               14005 non-null float64\n",
      "rougher.input.feed_sol                                14071 non-null float64\n",
      "rougher.input.feed_au                                 14149 non-null float64\n",
      "rougher.input.floatbank10_sulfate                     14120 non-null float64\n",
      "rougher.input.floatbank10_xanthate                    14141 non-null float64\n",
      "rougher.input.floatbank11_sulfate                     14113 non-null float64\n",
      "rougher.input.floatbank11_xanthate                    13721 non-null float64\n",
      "rougher.output.concentrate_ag                         14149 non-null float64\n",
      "rougher.output.concentrate_pb                         14149 non-null float64\n",
      "rougher.output.concentrate_sol                        14127 non-null float64\n",
      "rougher.output.concentrate_au                         14149 non-null float64\n",
      "rougher.output.recovery                               14149 non-null float64\n",
      "rougher.output.tail_ag                                14148 non-null float64\n",
      "rougher.output.tail_pb                                14149 non-null float64\n",
      "rougher.output.tail_sol                               14149 non-null float64\n",
      "rougher.output.tail_au                                14149 non-null float64\n",
      "rougher.state.floatbank10_a_air                       14148 non-null float64\n",
      "rougher.state.floatbank10_a_level                     14148 non-null float64\n",
      "rougher.state.floatbank10_b_air                       14148 non-null float64\n",
      "rougher.state.floatbank10_b_level                     14148 non-null float64\n",
      "rougher.state.floatbank10_c_air                       14148 non-null float64\n",
      "rougher.state.floatbank10_c_level                     14148 non-null float64\n",
      "rougher.state.floatbank10_d_air                       14149 non-null float64\n",
      "rougher.state.floatbank10_d_level                     14149 non-null float64\n",
      "rougher.state.floatbank10_e_air                       13713 non-null float64\n",
      "rougher.state.floatbank10_e_level                     14149 non-null float64\n",
      "rougher.state.floatbank10_f_air                       14149 non-null float64\n",
      "rougher.state.floatbank10_f_level                     14149 non-null float64\n",
      "secondary_cleaner.output.tail_ag                      14147 non-null float64\n",
      "secondary_cleaner.output.tail_pb                      14139 non-null float64\n",
      "secondary_cleaner.output.tail_sol                     12544 non-null float64\n",
      "secondary_cleaner.output.tail_au                      14149 non-null float64\n",
      "secondary_cleaner.state.floatbank2_a_air              13932 non-null float64\n",
      "secondary_cleaner.state.floatbank2_a_level            14148 non-null float64\n",
      "secondary_cleaner.state.floatbank2_b_air              14128 non-null float64\n",
      "secondary_cleaner.state.floatbank2_b_level            14148 non-null float64\n",
      "secondary_cleaner.state.floatbank3_a_air              14145 non-null float64\n",
      "secondary_cleaner.state.floatbank3_a_level            14148 non-null float64\n",
      "secondary_cleaner.state.floatbank3_b_air              14148 non-null float64\n",
      "secondary_cleaner.state.floatbank3_b_level            14148 non-null float64\n",
      "secondary_cleaner.state.floatbank4_a_air              14143 non-null float64\n",
      "secondary_cleaner.state.floatbank4_a_level            14148 non-null float64\n",
      "secondary_cleaner.state.floatbank4_b_air              14148 non-null float64\n",
      "secondary_cleaner.state.floatbank4_b_level            14148 non-null float64\n",
      "secondary_cleaner.state.floatbank5_a_air              14148 non-null float64\n",
      "secondary_cleaner.state.floatbank5_a_level            14148 non-null float64\n",
      "secondary_cleaner.state.floatbank5_b_air              14148 non-null float64\n",
      "secondary_cleaner.state.floatbank5_b_level            14148 non-null float64\n",
      "secondary_cleaner.state.floatbank6_a_air              14147 non-null float64\n",
      "secondary_cleaner.state.floatbank6_a_level            14148 non-null float64\n",
      "dtypes: float64(86), object(1)\n",
      "memory usage: 9.4+ MB\n"
     ]
    }
   ],
   "source": [
    "train.info()"
   ]
  },
  {
   "cell_type": "code",
   "execution_count": 7,
   "metadata": {
    "scrolled": true
   },
   "outputs": [
    {
     "name": "stdout",
     "output_type": "stream",
     "text": [
      "<class 'pandas.core.frame.DataFrame'>\n",
      "RangeIndex: 5290 entries, 0 to 5289\n",
      "Data columns (total 53 columns):\n",
      "date                                          5290 non-null object\n",
      "primary_cleaner.input.sulfate                 5286 non-null float64\n",
      "primary_cleaner.input.depressant              5285 non-null float64\n",
      "primary_cleaner.input.feed_size               5290 non-null float64\n",
      "primary_cleaner.input.xanthate                5286 non-null float64\n",
      "primary_cleaner.state.floatbank8_a_air        5290 non-null float64\n",
      "primary_cleaner.state.floatbank8_a_level      5290 non-null float64\n",
      "primary_cleaner.state.floatbank8_b_air        5290 non-null float64\n",
      "primary_cleaner.state.floatbank8_b_level      5290 non-null float64\n",
      "primary_cleaner.state.floatbank8_c_air        5290 non-null float64\n",
      "primary_cleaner.state.floatbank8_c_level      5290 non-null float64\n",
      "primary_cleaner.state.floatbank8_d_air        5290 non-null float64\n",
      "primary_cleaner.state.floatbank8_d_level      5290 non-null float64\n",
      "rougher.input.feed_ag                         5290 non-null float64\n",
      "rougher.input.feed_pb                         5290 non-null float64\n",
      "rougher.input.feed_rate                       5287 non-null float64\n",
      "rougher.input.feed_size                       5289 non-null float64\n",
      "rougher.input.feed_sol                        5269 non-null float64\n",
      "rougher.input.feed_au                         5290 non-null float64\n",
      "rougher.input.floatbank10_sulfate             5285 non-null float64\n",
      "rougher.input.floatbank10_xanthate            5290 non-null float64\n",
      "rougher.input.floatbank11_sulfate             5282 non-null float64\n",
      "rougher.input.floatbank11_xanthate            5265 non-null float64\n",
      "rougher.state.floatbank10_a_air               5290 non-null float64\n",
      "rougher.state.floatbank10_a_level             5290 non-null float64\n",
      "rougher.state.floatbank10_b_air               5290 non-null float64\n",
      "rougher.state.floatbank10_b_level             5290 non-null float64\n",
      "rougher.state.floatbank10_c_air               5290 non-null float64\n",
      "rougher.state.floatbank10_c_level             5290 non-null float64\n",
      "rougher.state.floatbank10_d_air               5290 non-null float64\n",
      "rougher.state.floatbank10_d_level             5290 non-null float64\n",
      "rougher.state.floatbank10_e_air               5290 non-null float64\n",
      "rougher.state.floatbank10_e_level             5290 non-null float64\n",
      "rougher.state.floatbank10_f_air               5290 non-null float64\n",
      "rougher.state.floatbank10_f_level             5290 non-null float64\n",
      "secondary_cleaner.state.floatbank2_a_air      5287 non-null float64\n",
      "secondary_cleaner.state.floatbank2_a_level    5290 non-null float64\n",
      "secondary_cleaner.state.floatbank2_b_air      5288 non-null float64\n",
      "secondary_cleaner.state.floatbank2_b_level    5290 non-null float64\n",
      "secondary_cleaner.state.floatbank3_a_air      5281 non-null float64\n",
      "secondary_cleaner.state.floatbank3_a_level    5290 non-null float64\n",
      "secondary_cleaner.state.floatbank3_b_air      5290 non-null float64\n",
      "secondary_cleaner.state.floatbank3_b_level    5290 non-null float64\n",
      "secondary_cleaner.state.floatbank4_a_air      5290 non-null float64\n",
      "secondary_cleaner.state.floatbank4_a_level    5290 non-null float64\n",
      "secondary_cleaner.state.floatbank4_b_air      5290 non-null float64\n",
      "secondary_cleaner.state.floatbank4_b_level    5290 non-null float64\n",
      "secondary_cleaner.state.floatbank5_a_air      5290 non-null float64\n",
      "secondary_cleaner.state.floatbank5_a_level    5290 non-null float64\n",
      "secondary_cleaner.state.floatbank5_b_air      5290 non-null float64\n",
      "secondary_cleaner.state.floatbank5_b_level    5290 non-null float64\n",
      "secondary_cleaner.state.floatbank6_a_air      5290 non-null float64\n",
      "secondary_cleaner.state.floatbank6_a_level    5290 non-null float64\n",
      "dtypes: float64(52), object(1)\n",
      "memory usage: 2.1+ MB\n"
     ]
    }
   ],
   "source": [
    "test.info()"
   ]
  },
  {
   "cell_type": "markdown",
   "metadata": {},
   "source": [
    "Нам предоставлены готовые тренировочная и тестовая выборки в соотношении 73/27 и полный набор данных, из которого они сформированы.\n",
    "В таблицах с полными и обучающими данными по 87 столбцов, с тестовыми данными - 53 стобца, в каждом наборе присутствуют пропуски в некоторых столбцах, однако их не очень много.  \n",
    "\n",
    "Проверим на примере обучающей выборки, что эффективность обогащения после этапа флотации (`rougher.output.recovery`) рассчитана правильно:"
   ]
  },
  {
   "cell_type": "code",
   "execution_count": 8,
   "metadata": {},
   "outputs": [],
   "source": [
    "train['recovery_check'] = (train['rougher.output.concentrate_au'] * (train['rougher.input.feed_au'] \n",
    "                                                                    - train['rougher.output.tail_au'])) / (\n",
    "    train['rougher.input.feed_au'] * (train['rougher.output.concentrate_au'] - train['rougher.output.tail_au'])) * 100"
   ]
  },
  {
   "cell_type": "code",
   "execution_count": 9,
   "metadata": {},
   "outputs": [
    {
     "data": {
      "text/html": [
       "<div>\n",
       "<style scoped>\n",
       "    .dataframe tbody tr th:only-of-type {\n",
       "        vertical-align: middle;\n",
       "    }\n",
       "\n",
       "    .dataframe tbody tr th {\n",
       "        vertical-align: top;\n",
       "    }\n",
       "\n",
       "    .dataframe thead th {\n",
       "        text-align: right;\n",
       "    }\n",
       "</style>\n",
       "<table border=\"1\" class=\"dataframe\">\n",
       "  <thead>\n",
       "    <tr style=\"text-align: right;\">\n",
       "      <th></th>\n",
       "      <th>rougher.output.recovery</th>\n",
       "      <th>recovery_check</th>\n",
       "    </tr>\n",
       "  </thead>\n",
       "  <tbody>\n",
       "    <tr>\n",
       "      <td>0</td>\n",
       "      <td>87.107763</td>\n",
       "      <td>87.107763</td>\n",
       "    </tr>\n",
       "    <tr>\n",
       "      <td>1</td>\n",
       "      <td>86.843261</td>\n",
       "      <td>86.843261</td>\n",
       "    </tr>\n",
       "    <tr>\n",
       "      <td>2</td>\n",
       "      <td>86.842308</td>\n",
       "      <td>86.842308</td>\n",
       "    </tr>\n",
       "    <tr>\n",
       "      <td>3</td>\n",
       "      <td>87.226430</td>\n",
       "      <td>87.226430</td>\n",
       "    </tr>\n",
       "    <tr>\n",
       "      <td>4</td>\n",
       "      <td>86.688794</td>\n",
       "      <td>86.688794</td>\n",
       "    </tr>\n",
       "    <tr>\n",
       "      <td>...</td>\n",
       "      <td>...</td>\n",
       "      <td>...</td>\n",
       "    </tr>\n",
       "    <tr>\n",
       "      <td>14144</td>\n",
       "      <td>89.574376</td>\n",
       "      <td>89.574376</td>\n",
       "    </tr>\n",
       "    <tr>\n",
       "      <td>14145</td>\n",
       "      <td>87.724007</td>\n",
       "      <td>87.724007</td>\n",
       "    </tr>\n",
       "    <tr>\n",
       "      <td>14146</td>\n",
       "      <td>88.890579</td>\n",
       "      <td>88.890579</td>\n",
       "    </tr>\n",
       "    <tr>\n",
       "      <td>14147</td>\n",
       "      <td>89.858126</td>\n",
       "      <td>89.858126</td>\n",
       "    </tr>\n",
       "    <tr>\n",
       "      <td>14148</td>\n",
       "      <td>89.514960</td>\n",
       "      <td>89.514960</td>\n",
       "    </tr>\n",
       "  </tbody>\n",
       "</table>\n",
       "<p>14149 rows × 2 columns</p>\n",
       "</div>"
      ],
      "text/plain": [
       "       rougher.output.recovery  recovery_check\n",
       "0                    87.107763       87.107763\n",
       "1                    86.843261       86.843261\n",
       "2                    86.842308       86.842308\n",
       "3                    87.226430       87.226430\n",
       "4                    86.688794       86.688794\n",
       "...                        ...             ...\n",
       "14144                89.574376       89.574376\n",
       "14145                87.724007       87.724007\n",
       "14146                88.890579       88.890579\n",
       "14147                89.858126       89.858126\n",
       "14148                89.514960       89.514960\n",
       "\n",
       "[14149 rows x 2 columns]"
      ]
     },
     "metadata": {},
     "output_type": "display_data"
    }
   ],
   "source": [
    "display(train[['rougher.output.recovery', 'recovery_check']])"
   ]
  },
  {
   "cell_type": "markdown",
   "metadata": {},
   "source": [
    "Рассчитаем среднее абсолютное отклонение (MAE) между расчётными значениями recovery и recovery из исходных данных: "
   ]
  },
  {
   "cell_type": "code",
   "execution_count": 10,
   "metadata": {
    "scrolled": true
   },
   "outputs": [
    {
     "name": "stdout",
     "output_type": "stream",
     "text": [
      "MAE =  9.682896147825551e-15\n"
     ]
    }
   ],
   "source": [
    "print('MAE = ', mean_absolute_error(train['rougher.output.recovery'], train['recovery_check']))"
   ]
  },
  {
   "cell_type": "markdown",
   "metadata": {},
   "source": [
    "MAE близка к 0, разница может быть объяснена небольшой погрешностью расчётов. **Таким образом, можно принять расчёт recovery из исходных данных как верный**. \n",
    "\n",
    "В тестовой выборке данные представлены не в полном объёме: 53 столбца из 87 исходных. Проанализируем, что за данные пропущены:\n",
    "- данные с финальными параметрами продукта (блок столбцов `final.output.`)\n",
    "- данные с параметрами продукта на каждом из этапов флотации и очистки (столбцы `output` для `rougher`, `primary_cleaner`, `secondary_cleaner`)\n",
    "- блок столбцов `rougher.calculation` с расчётными характеристиками флотации\n",
    "\n",
    "Таким образом, в тестовой выборке представлены только данные, оказывающие влияние на результат каждого этапа: параметры сырья и параметры текущего состояния этапа."
   ]
  },
  {
   "cell_type": "markdown",
   "metadata": {},
   "source": [
    "### Предобработка данных\n",
    "\n",
    "Заполним пропуски в исходных данных ближайшими по времени значениями. Сделаем это в полной таблице, затем пересоберём тестовую и тренировочную выборки по данным без прпусков, используя в качестве индекса дату."
   ]
  },
  {
   "cell_type": "code",
   "execution_count": 11,
   "metadata": {},
   "outputs": [],
   "source": [
    "full = full.ffill()"
   ]
  },
  {
   "cell_type": "markdown",
   "metadata": {},
   "source": [
    "Убедимся, что пропуски заполнены:"
   ]
  },
  {
   "cell_type": "code",
   "execution_count": 12,
   "metadata": {
    "scrolled": true
   },
   "outputs": [
    {
     "name": "stdout",
     "output_type": "stream",
     "text": [
      "<class 'pandas.core.frame.DataFrame'>\n",
      "RangeIndex: 19439 entries, 0 to 19438\n",
      "Data columns (total 87 columns):\n",
      "date                                                  19439 non-null object\n",
      "final.output.concentrate_ag                           19439 non-null float64\n",
      "final.output.concentrate_pb                           19439 non-null float64\n",
      "final.output.concentrate_sol                          19439 non-null float64\n",
      "final.output.concentrate_au                           19439 non-null float64\n",
      "final.output.recovery                                 19439 non-null float64\n",
      "final.output.tail_ag                                  19439 non-null float64\n",
      "final.output.tail_pb                                  19439 non-null float64\n",
      "final.output.tail_sol                                 19439 non-null float64\n",
      "final.output.tail_au                                  19439 non-null float64\n",
      "primary_cleaner.input.sulfate                         19439 non-null float64\n",
      "primary_cleaner.input.depressant                      19439 non-null float64\n",
      "primary_cleaner.input.feed_size                       19439 non-null float64\n",
      "primary_cleaner.input.xanthate                        19439 non-null float64\n",
      "primary_cleaner.output.concentrate_ag                 19439 non-null float64\n",
      "primary_cleaner.output.concentrate_pb                 19439 non-null float64\n",
      "primary_cleaner.output.concentrate_sol                19439 non-null float64\n",
      "primary_cleaner.output.concentrate_au                 19439 non-null float64\n",
      "primary_cleaner.output.tail_ag                        19439 non-null float64\n",
      "primary_cleaner.output.tail_pb                        19439 non-null float64\n",
      "primary_cleaner.output.tail_sol                       19439 non-null float64\n",
      "primary_cleaner.output.tail_au                        19439 non-null float64\n",
      "primary_cleaner.state.floatbank8_a_air                19439 non-null float64\n",
      "primary_cleaner.state.floatbank8_a_level              19439 non-null float64\n",
      "primary_cleaner.state.floatbank8_b_air                19439 non-null float64\n",
      "primary_cleaner.state.floatbank8_b_level              19439 non-null float64\n",
      "primary_cleaner.state.floatbank8_c_air                19439 non-null float64\n",
      "primary_cleaner.state.floatbank8_c_level              19439 non-null float64\n",
      "primary_cleaner.state.floatbank8_d_air                19439 non-null float64\n",
      "primary_cleaner.state.floatbank8_d_level              19439 non-null float64\n",
      "rougher.calculation.sulfate_to_au_concentrate         19439 non-null float64\n",
      "rougher.calculation.floatbank10_sulfate_to_au_feed    19439 non-null float64\n",
      "rougher.calculation.floatbank11_sulfate_to_au_feed    19439 non-null float64\n",
      "rougher.calculation.au_pb_ratio                       19439 non-null float64\n",
      "rougher.input.feed_ag                                 19439 non-null float64\n",
      "rougher.input.feed_pb                                 19439 non-null float64\n",
      "rougher.input.feed_rate                               19439 non-null float64\n",
      "rougher.input.feed_size                               19439 non-null float64\n",
      "rougher.input.feed_sol                                19439 non-null float64\n",
      "rougher.input.feed_au                                 19439 non-null float64\n",
      "rougher.input.floatbank10_sulfate                     19439 non-null float64\n",
      "rougher.input.floatbank10_xanthate                    19439 non-null float64\n",
      "rougher.input.floatbank11_sulfate                     19439 non-null float64\n",
      "rougher.input.floatbank11_xanthate                    19439 non-null float64\n",
      "rougher.output.concentrate_ag                         19439 non-null float64\n",
      "rougher.output.concentrate_pb                         19439 non-null float64\n",
      "rougher.output.concentrate_sol                        19439 non-null float64\n",
      "rougher.output.concentrate_au                         19439 non-null float64\n",
      "rougher.output.recovery                               19439 non-null float64\n",
      "rougher.output.tail_ag                                19439 non-null float64\n",
      "rougher.output.tail_pb                                19439 non-null float64\n",
      "rougher.output.tail_sol                               19439 non-null float64\n",
      "rougher.output.tail_au                                19439 non-null float64\n",
      "rougher.state.floatbank10_a_air                       19439 non-null float64\n",
      "rougher.state.floatbank10_a_level                     19439 non-null float64\n",
      "rougher.state.floatbank10_b_air                       19439 non-null float64\n",
      "rougher.state.floatbank10_b_level                     19439 non-null float64\n",
      "rougher.state.floatbank10_c_air                       19439 non-null float64\n",
      "rougher.state.floatbank10_c_level                     19439 non-null float64\n",
      "rougher.state.floatbank10_d_air                       19439 non-null float64\n",
      "rougher.state.floatbank10_d_level                     19439 non-null float64\n",
      "rougher.state.floatbank10_e_air                       19439 non-null float64\n",
      "rougher.state.floatbank10_e_level                     19439 non-null float64\n",
      "rougher.state.floatbank10_f_air                       19439 non-null float64\n",
      "rougher.state.floatbank10_f_level                     19439 non-null float64\n",
      "secondary_cleaner.output.tail_ag                      19439 non-null float64\n",
      "secondary_cleaner.output.tail_pb                      19439 non-null float64\n",
      "secondary_cleaner.output.tail_sol                     19439 non-null float64\n",
      "secondary_cleaner.output.tail_au                      19439 non-null float64\n",
      "secondary_cleaner.state.floatbank2_a_air              19439 non-null float64\n",
      "secondary_cleaner.state.floatbank2_a_level            19439 non-null float64\n",
      "secondary_cleaner.state.floatbank2_b_air              19439 non-null float64\n",
      "secondary_cleaner.state.floatbank2_b_level            19439 non-null float64\n",
      "secondary_cleaner.state.floatbank3_a_air              19439 non-null float64\n",
      "secondary_cleaner.state.floatbank3_a_level            19439 non-null float64\n",
      "secondary_cleaner.state.floatbank3_b_air              19439 non-null float64\n",
      "secondary_cleaner.state.floatbank3_b_level            19439 non-null float64\n",
      "secondary_cleaner.state.floatbank4_a_air              19439 non-null float64\n",
      "secondary_cleaner.state.floatbank4_a_level            19439 non-null float64\n",
      "secondary_cleaner.state.floatbank4_b_air              19439 non-null float64\n",
      "secondary_cleaner.state.floatbank4_b_level            19439 non-null float64\n",
      "secondary_cleaner.state.floatbank5_a_air              19439 non-null float64\n",
      "secondary_cleaner.state.floatbank5_a_level            19439 non-null float64\n",
      "secondary_cleaner.state.floatbank5_b_air              19439 non-null float64\n",
      "secondary_cleaner.state.floatbank5_b_level            19439 non-null float64\n",
      "secondary_cleaner.state.floatbank6_a_air              19439 non-null float64\n",
      "secondary_cleaner.state.floatbank6_a_level            19439 non-null float64\n",
      "dtypes: float64(86), object(1)\n",
      "memory usage: 12.9+ MB\n"
     ]
    }
   ],
   "source": [
    "full.info()"
   ]
  },
  {
   "cell_type": "code",
   "execution_count": 13,
   "metadata": {},
   "outputs": [],
   "source": [
    "# удаляем все столбцы, кроме даты в тестовой и тренировочной выборке\n",
    "cols_to_remove_train = list(train.columns)\n",
    "cols_to_remove_train.remove('date')\n",
    "\n",
    "cols_to_remove_test = list(test.columns)\n",
    "cols_to_remove_test.remove('date')\n",
    "\n",
    "# добавляем обратно столбцы с целевыми и влияющими параметрами\n",
    "cols_to_plus = list(test.columns)\n",
    "cols_to_plus.extend(['final.output.recovery', 'rougher.output.recovery'])"
   ]
  },
  {
   "cell_type": "code",
   "execution_count": 14,
   "metadata": {},
   "outputs": [
    {
     "data": {
      "text/plain": [
       "(14149, 54)"
      ]
     },
     "execution_count": 14,
     "metadata": {},
     "output_type": "execute_result"
    }
   ],
   "source": [
    "# для тренировочной выборки\n",
    "train_data = train.drop(cols_to_remove_train, axis = 1) \n",
    "train_data = pd.merge(train_data, full[cols_to_plus], on = 'date', how = 'left')\n",
    "train_data = train_data.drop('date', axis = 1)\n",
    "train_data.shape"
   ]
  },
  {
   "cell_type": "code",
   "execution_count": 15,
   "metadata": {
    "scrolled": true
   },
   "outputs": [
    {
     "data": {
      "text/plain": [
       "(5290, 54)"
      ]
     },
     "execution_count": 15,
     "metadata": {},
     "output_type": "execute_result"
    }
   ],
   "source": [
    "# для тестовой выборки\n",
    "test_data = test.drop(cols_to_remove_test, axis = 1) \n",
    "test_data = pd.merge(test_data, full[cols_to_plus], on = 'date', how = 'left')\n",
    "test_data = test_data.drop('date', axis = 1)\n",
    "test_data.shape"
   ]
  },
  {
   "cell_type": "markdown",
   "metadata": {},
   "source": [
    "Проверим таблицы на наличие дубликатов:"
   ]
  },
  {
   "cell_type": "code",
   "execution_count": 16,
   "metadata": {},
   "outputs": [
    {
     "data": {
      "text/plain": [
       "0"
      ]
     },
     "execution_count": 16,
     "metadata": {},
     "output_type": "execute_result"
    }
   ],
   "source": [
    "full.duplicated().sum()"
   ]
  },
  {
   "cell_type": "code",
   "execution_count": 17,
   "metadata": {},
   "outputs": [
    {
     "data": {
      "text/plain": [
       "0"
      ]
     },
     "execution_count": 17,
     "metadata": {},
     "output_type": "execute_result"
    }
   ],
   "source": [
    "train.duplicated().sum()"
   ]
  },
  {
   "cell_type": "code",
   "execution_count": 18,
   "metadata": {},
   "outputs": [
    {
     "data": {
      "text/plain": [
       "0"
      ]
     },
     "execution_count": 18,
     "metadata": {},
     "output_type": "execute_result"
    }
   ],
   "source": [
    "test.duplicated().sum()"
   ]
  },
  {
   "cell_type": "markdown",
   "metadata": {},
   "source": [
    "### Вывод\n",
    "\n",
    "Данные проанализированы, правильность расчёта целевого признака проверена. В рамках предобработки удалены пропуски, проведена проверка на дубликаты, размер обучающей и тестовой выборки приведён к единому - 54 столбца, из них 52 влияющих параметра и 2 целевых признака. "
   ]
  },
  {
   "cell_type": "markdown",
   "metadata": {},
   "source": [
    "## Анализ данных"
   ]
  },
  {
   "cell_type": "markdown",
   "metadata": {},
   "source": [
    "### Исследование концентрации металлов (Au, Ag, Pb) на различных этапах очистки.\n",
    "\n",
    "Начнём с **золота**:"
   ]
  },
  {
   "cell_type": "code",
   "execution_count": 19,
   "metadata": {},
   "outputs": [
    {
     "data": {
      "text/html": [
       "<div>\n",
       "<style scoped>\n",
       "    .dataframe tbody tr th:only-of-type {\n",
       "        vertical-align: middle;\n",
       "    }\n",
       "\n",
       "    .dataframe tbody tr th {\n",
       "        vertical-align: top;\n",
       "    }\n",
       "\n",
       "    .dataframe thead th {\n",
       "        text-align: right;\n",
       "    }\n",
       "</style>\n",
       "<table border=\"1\" class=\"dataframe\">\n",
       "  <thead>\n",
       "    <tr style=\"text-align: right;\">\n",
       "      <th></th>\n",
       "      <th>Содержание золота, %</th>\n",
       "    </tr>\n",
       "  </thead>\n",
       "  <tbody>\n",
       "    <tr>\n",
       "      <td>Первичная руда</td>\n",
       "      <td>8.27</td>\n",
       "    </tr>\n",
       "    <tr>\n",
       "      <td>Черновой концентрат</td>\n",
       "      <td>19.77</td>\n",
       "    </tr>\n",
       "    <tr>\n",
       "      <td>Первый этап очистки</td>\n",
       "      <td>32.12</td>\n",
       "    </tr>\n",
       "    <tr>\n",
       "      <td>Финальный концентрат</td>\n",
       "      <td>44.08</td>\n",
       "    </tr>\n",
       "  </tbody>\n",
       "</table>\n",
       "</div>"
      ],
      "text/plain": [
       "                      Содержание золота, %\n",
       "Первичная руда                        8.27\n",
       "Черновой концентрат                  19.77\n",
       "Первый этап очистки                  32.12\n",
       "Финальный концентрат                 44.08"
      ]
     },
     "metadata": {},
     "output_type": "display_data"
    },
    {
     "data": {
      "image/png": "[encoded data removed]",
      "text/plain": [
       "<Figure size 720x360 with 1 Axes>"
      ]
     },
     "metadata": {
      "needs_background": "light"
     },
     "output_type": "display_data"
    }
   ],
   "source": [
    "stages = ['Первичная руда', 'Черновой концентрат', 'Первый этап очистки', 'Финальный концентрат']\n",
    "# таблица\n",
    "au_percent = pd.DataFrame([full['rougher.input.feed_au'].mean(), \n",
    "                          full['rougher.output.concentrate_au'].mean(),\n",
    "                          full['primary_cleaner.output.concentrate_au'].mean(),\n",
    "                          full['final.output.concentrate_au'].mean()],\n",
    "                         index = stages,\n",
    "                         columns = ['Содержание золота, %'])\n",
    "display(au_percent.round(2))\n",
    "\n",
    "# график плотности\n",
    "plt.figure(figsize=(10,5))\n",
    "full['rougher.input.feed_au'].plot(kind='density')\n",
    "full['rougher.output.concentrate_au'].plot(kind='density')\n",
    "full['primary_cleaner.output.concentrate_au'].plot(kind='density')\n",
    "full['final.output.concentrate_au'].plot(kind='density')\n",
    "plt.title('Плотность распределения концентрации золота на различных этапах очистки')\n",
    "plt.xlabel('Концентрация, %')\n",
    "plt.ylabel('Плотность')\n",
    "plt.legend(stages)\n",
    "plt.show()"
   ]
  },
  {
   "cell_type": "markdown",
   "metadata": {},
   "source": [
    "Динамика концентрации **серебра**:"
   ]
  },
  {
   "cell_type": "code",
   "execution_count": 20,
   "metadata": {},
   "outputs": [
    {
     "data": {
      "text/html": [
       "<div>\n",
       "<style scoped>\n",
       "    .dataframe tbody tr th:only-of-type {\n",
       "        vertical-align: middle;\n",
       "    }\n",
       "\n",
       "    .dataframe tbody tr th {\n",
       "        vertical-align: top;\n",
       "    }\n",
       "\n",
       "    .dataframe thead th {\n",
       "        text-align: right;\n",
       "    }\n",
       "</style>\n",
       "<table border=\"1\" class=\"dataframe\">\n",
       "  <thead>\n",
       "    <tr style=\"text-align: right;\">\n",
       "      <th></th>\n",
       "      <th>Содержание серебра, %</th>\n",
       "    </tr>\n",
       "  </thead>\n",
       "  <tbody>\n",
       "    <tr>\n",
       "      <td>Первичная руда</td>\n",
       "      <td>8.79</td>\n",
       "    </tr>\n",
       "    <tr>\n",
       "      <td>Черновой концентрат</td>\n",
       "      <td>11.99</td>\n",
       "    </tr>\n",
       "    <tr>\n",
       "      <td>Первый этап очистки</td>\n",
       "      <td>8.44</td>\n",
       "    </tr>\n",
       "    <tr>\n",
       "      <td>Финальный концентрат</td>\n",
       "      <td>5.17</td>\n",
       "    </tr>\n",
       "  </tbody>\n",
       "</table>\n",
       "</div>"
      ],
      "text/plain": [
       "                      Содержание серебра, %\n",
       "Первичная руда                         8.79\n",
       "Черновой концентрат                   11.99\n",
       "Первый этап очистки                    8.44\n",
       "Финальный концентрат                   5.17"
      ]
     },
     "metadata": {},
     "output_type": "display_data"
    },
    {
     "data": {
      "image/png": "[encoded data removed]",
      "text/plain": [
       "<Figure size 720x360 with 1 Axes>"
      ]
     },
     "metadata": {
      "needs_background": "light"
     },
     "output_type": "display_data"
    }
   ],
   "source": [
    "ag_percent = pd.DataFrame([full['rougher.input.feed_ag'].mean(), \n",
    "                          full['rougher.output.concentrate_ag'].mean(),\n",
    "                          full['primary_cleaner.output.concentrate_ag'].mean(),\n",
    "                          full['final.output.concentrate_ag'].mean()],\n",
    "                         index = stages,\n",
    "                         columns = ['Содержание серебра, %'])\n",
    "display(ag_percent.round(2))\n",
    "\n",
    "plt.figure(figsize=(10,5))\n",
    "full['rougher.input.feed_ag'].plot(kind='density')\n",
    "full['rougher.output.concentrate_ag'].plot(kind='density')\n",
    "full['primary_cleaner.output.concentrate_ag'].plot(kind='density')\n",
    "full['final.output.concentrate_ag'].plot(kind='density')\n",
    "plt.title('Плотность распределения концентрации серебра на различных этапах очистки')\n",
    "plt.xlabel('Концентрация, %')\n",
    "plt.ylabel('Плотность')\n",
    "plt.legend(stages)\n",
    "plt.show()"
   ]
  },
  {
   "cell_type": "markdown",
   "metadata": {},
   "source": [
    "Динамика концентрации **свинца**:"
   ]
  },
  {
   "cell_type": "code",
   "execution_count": 21,
   "metadata": {},
   "outputs": [
    {
     "data": {
      "text/html": [
       "<div>\n",
       "<style scoped>\n",
       "    .dataframe tbody tr th:only-of-type {\n",
       "        vertical-align: middle;\n",
       "    }\n",
       "\n",
       "    .dataframe tbody tr th {\n",
       "        vertical-align: top;\n",
       "    }\n",
       "\n",
       "    .dataframe thead th {\n",
       "        text-align: right;\n",
       "    }\n",
       "</style>\n",
       "<table border=\"1\" class=\"dataframe\">\n",
       "  <thead>\n",
       "    <tr style=\"text-align: right;\">\n",
       "      <th></th>\n",
       "      <th>Содержание свинца, %</th>\n",
       "    </tr>\n",
       "  </thead>\n",
       "  <tbody>\n",
       "    <tr>\n",
       "      <td>Первичная руда</td>\n",
       "      <td>3.59</td>\n",
       "    </tr>\n",
       "    <tr>\n",
       "      <td>Черновой концентрат</td>\n",
       "      <td>7.61</td>\n",
       "    </tr>\n",
       "    <tr>\n",
       "      <td>Первый этап очистки</td>\n",
       "      <td>9.81</td>\n",
       "    </tr>\n",
       "    <tr>\n",
       "      <td>Финальный концентрат</td>\n",
       "      <td>9.98</td>\n",
       "    </tr>\n",
       "  </tbody>\n",
       "</table>\n",
       "</div>"
      ],
      "text/plain": [
       "                      Содержание свинца, %\n",
       "Первичная руда                        3.59\n",
       "Черновой концентрат                   7.61\n",
       "Первый этап очистки                   9.81\n",
       "Финальный концентрат                  9.98"
      ]
     },
     "metadata": {},
     "output_type": "display_data"
    },
    {
     "data": {
      "image/png": "[encoded data removed]",
      "text/plain": [
       "<Figure size 720x360 with 1 Axes>"
      ]
     },
     "metadata": {
      "needs_background": "light"
     },
     "output_type": "display_data"
    }
   ],
   "source": [
    "pb_percent = pd.DataFrame([full['rougher.input.feed_pb'].mean(), \n",
    "                          full['rougher.output.concentrate_pb'].mean(),\n",
    "                          full['primary_cleaner.output.concentrate_pb'].mean(),\n",
    "                          full['final.output.concentrate_pb'].mean()],\n",
    "                         index = stages,\n",
    "                         columns = ['Содержание свинца, %'])\n",
    "display(pb_percent.round(2))\n",
    "\n",
    "plt.figure(figsize=(10,5))\n",
    "full['rougher.input.feed_pb'].plot(kind='density')\n",
    "full['rougher.output.concentrate_pb'].plot(kind='density')\n",
    "full['primary_cleaner.output.concentrate_pb'].plot(kind='density')\n",
    "full['final.output.concentrate_pb'].plot(kind='density')\n",
    "plt.title('Плотность распределения концентрации свинца на различных этапах очистки')\n",
    "plt.xlabel('Концентрация, %')\n",
    "plt.ylabel('Плотность')\n",
    "plt.legend(stages)\n",
    "plt.show()"
   ]
  },
  {
   "cell_type": "markdown",
   "metadata": {},
   "source": [
    "Содержание золота в продукте переработки увеличивается с каждым этапом: с 8,3% до 44% в среднем в финальном концентрате. \n",
    "\n",
    "Содержание серебра увеличивается после флотации, однако снижается в последующем после обоих этапов очистки, и в финальном концентрате составляет 5,2% против 8,9% в первичной руде. Возможно, это особенность технологического процесса, поскольку в нашем случае задача состоит в максимизации содержания золота.\n",
    "\n",
    "Содержание свинца значительно увеличивается после флотации и первого этапа очистки, после второго этапа очистки остаётся примерно на том же уровне. Финальный концентрат содержит 9,98% свинца. \n",
    "___\n",
    "\n",
    "### Сравнение распределения размеров гранул сырья на обучающей и тестовой выборках:\n",
    "**На этапе флотации**:"
   ]
  },
  {
   "cell_type": "code",
   "execution_count": 22,
   "metadata": {},
   "outputs": [
    {
     "data": {
      "image/png": "[encoded data removed]",
      "text/plain": [
       "<Figure size 576x360 with 1 Axes>"
      ]
     },
     "metadata": {
      "needs_background": "light"
     },
     "output_type": "display_data"
    }
   ],
   "source": [
    "plt.figure(figsize=(8,5))\n",
    "train_data['rougher.input.feed_size'].plot(kind='density')\n",
    "test_data['rougher.input.feed_size'].plot(kind='density')\n",
    "plt.title('Плотность распределения размеров гранул сырья на этапе флотации')\n",
    "plt.xlabel('Размер гранул')\n",
    "plt.legend(['Тренировочная выборка', 'Тестовая выборка'])\n",
    "plt.show()"
   ]
  },
  {
   "cell_type": "markdown",
   "metadata": {},
   "source": [
    "**На первом этапе очистки**:"
   ]
  },
  {
   "cell_type": "code",
   "execution_count": 23,
   "metadata": {
    "scrolled": true
   },
   "outputs": [
    {
     "data": {
      "image/png": "[encoded data removed]",
      "text/plain": [
       "<Figure size 576x360 with 1 Axes>"
      ]
     },
     "metadata": {
      "needs_background": "light"
     },
     "output_type": "display_data"
    }
   ],
   "source": [
    "plt.figure(figsize=(8,5))\n",
    "train_data['primary_cleaner.input.feed_size'].plot(kind='density')\n",
    "test_data['primary_cleaner.input.feed_size'].plot(kind='density')\n",
    "plt.title('Плотность распределения размеров гранул сырья на первом этапе очистки')\n",
    "plt.xlabel('Размер гранул')\n",
    "plt.legend(['Тренировочная выборка', 'Тестовая выборка'])\n",
    "plt.show()"
   ]
  },
  {
   "cell_type": "code",
   "execution_count": 24,
   "metadata": {},
   "outputs": [
    {
     "data": {
      "text/html": [
       "<div>\n",
       "<style scoped>\n",
       "    .dataframe tbody tr th:only-of-type {\n",
       "        vertical-align: middle;\n",
       "    }\n",
       "\n",
       "    .dataframe tbody tr th {\n",
       "        vertical-align: top;\n",
       "    }\n",
       "\n",
       "    .dataframe thead th {\n",
       "        text-align: right;\n",
       "    }\n",
       "</style>\n",
       "<table border=\"1\" class=\"dataframe\">\n",
       "  <thead>\n",
       "    <tr style=\"text-align: right;\">\n",
       "      <th></th>\n",
       "      <th>Обучающая выборка</th>\n",
       "      <th>Тестовая выборка</th>\n",
       "    </tr>\n",
       "  </thead>\n",
       "  <tbody>\n",
       "    <tr>\n",
       "      <td>Этап флотации</td>\n",
       "      <td>60.24</td>\n",
       "      <td>55.95</td>\n",
       "    </tr>\n",
       "    <tr>\n",
       "      <td>Первый этап очистки</td>\n",
       "      <td>7.32</td>\n",
       "      <td>7.27</td>\n",
       "    </tr>\n",
       "  </tbody>\n",
       "</table>\n",
       "</div>"
      ],
      "text/plain": [
       "                     Обучающая выборка  Тестовая выборка\n",
       "Этап флотации                    60.24             55.95\n",
       "Первый этап очистки               7.32              7.27"
      ]
     },
     "execution_count": 24,
     "metadata": {},
     "output_type": "execute_result"
    }
   ],
   "source": [
    "feed_size = pd.DataFrame([[train_data['rougher.input.feed_size'].mean(), test_data['rougher.input.feed_size'].mean()], \n",
    "                          [train_data['primary_cleaner.input.feed_size'].mean(), test_data['primary_cleaner.input.feed_size'].mean()]],\n",
    "                         index = ['Этап флотации', 'Первый этап очистки'],\n",
    "                         columns = ['Обучающая выборка', 'Тестовая выборка'])\n",
    "feed_size.round(2)"
   ]
  },
  {
   "cell_type": "markdown",
   "metadata": {},
   "source": [
    "Проверим гипотезы о равенстве распределений с помощью критерия Колмогорова-Смирнова.\n",
    "\n",
    "*Гипотеза H0*: распределения в обучающей и тестовой выборке идентичны. *Гипотеза H1*: распределения в обучающей и тестовой выборке значимо отличатся. Alpha примем равным 0.05."
   ]
  },
  {
   "cell_type": "code",
   "execution_count": 25,
   "metadata": {},
   "outputs": [
    {
     "data": {
      "text/plain": [
       "Ks_2sampResult(statistic=0.2502993057549405, pvalue=5.936066942422686e-210)"
      ]
     },
     "execution_count": 25,
     "metadata": {},
     "output_type": "execute_result"
    }
   ],
   "source": [
    "ks_2samp(train_data['rougher.input.feed_size'], test_data['rougher.input.feed_size'])"
   ]
  },
  {
   "cell_type": "code",
   "execution_count": 26,
   "metadata": {},
   "outputs": [
    {
     "data": {
      "text/plain": [
       "Ks_2sampResult(statistic=0.05922065470904381, pvalue=3.73108187167308e-12)"
      ]
     },
     "execution_count": 26,
     "metadata": {},
     "output_type": "execute_result"
    }
   ],
   "source": [
    "ks_2samp(train_data['primary_cleaner.input.feed_size'], test_data['primary_cleaner.input.feed_size'])"
   ]
  },
  {
   "cell_type": "code",
   "execution_count": 27,
   "metadata": {},
   "outputs": [
    {
     "data": {
      "text/plain": [
       "MannwhitneyuResult(statistic=29591362.0, pvalue=2.3787583288418054e-112)"
      ]
     },
     "execution_count": 27,
     "metadata": {},
     "output_type": "execute_result"
    }
   ],
   "source": [
    "st.mannwhitneyu(train_data['rougher.input.feed_size'], test_data['rougher.input.feed_size'])"
   ]
  },
  {
   "cell_type": "code",
   "execution_count": 28,
   "metadata": {},
   "outputs": [
    {
     "data": {
      "text/plain": [
       "MannwhitneyuResult(statistic=35164961.0, pvalue=4.352958293398979e-11)"
      ]
     },
     "execution_count": 28,
     "metadata": {},
     "output_type": "execute_result"
    }
   ],
   "source": [
    "st.mannwhitneyu(train_data['primary_cleaner.input.feed_size'], test_data['primary_cleaner.input.feed_size'])"
   ]
  },
  {
   "cell_type": "markdown",
   "metadata": {},
   "source": [
    "Визуально распределения размеров гранул на тестовой и тренировочной выборке идентичны. \n",
    "___\n",
    "\n",
    "### Исследование суммарной концентрации всех веществ на разных стадиях"
   ]
  },
  {
   "cell_type": "code",
   "execution_count": 29,
   "metadata": {},
   "outputs": [
    {
     "data": {
      "text/html": [
       "<div>\n",
       "<style scoped>\n",
       "    .dataframe tbody tr th:only-of-type {\n",
       "        vertical-align: middle;\n",
       "    }\n",
       "\n",
       "    .dataframe tbody tr th {\n",
       "        vertical-align: top;\n",
       "    }\n",
       "\n",
       "    .dataframe thead th {\n",
       "        text-align: right;\n",
       "    }\n",
       "</style>\n",
       "<table border=\"1\" class=\"dataframe\">\n",
       "  <thead>\n",
       "    <tr style=\"text-align: right;\">\n",
       "      <th></th>\n",
       "      <th>sum_percent_rougher</th>\n",
       "      <th>sum_percent_first</th>\n",
       "      <th>sum_percent_sec</th>\n",
       "      <th>sum_percent_final</th>\n",
       "    </tr>\n",
       "  </thead>\n",
       "  <tbody>\n",
       "    <tr>\n",
       "      <td>count</td>\n",
       "      <td>19439.000000</td>\n",
       "      <td>19439.000000</td>\n",
       "      <td>19439.000000</td>\n",
       "      <td>19439.000000</td>\n",
       "    </tr>\n",
       "    <tr>\n",
       "      <td>mean</td>\n",
       "      <td>57.320789</td>\n",
       "      <td>68.170865</td>\n",
       "      <td>60.764731</td>\n",
       "      <td>68.653624</td>\n",
       "    </tr>\n",
       "    <tr>\n",
       "      <td>std</td>\n",
       "      <td>7.212680</td>\n",
       "      <td>12.491279</td>\n",
       "      <td>10.017271</td>\n",
       "      <td>7.427536</td>\n",
       "    </tr>\n",
       "    <tr>\n",
       "      <td>min</td>\n",
       "      <td>0.040000</td>\n",
       "      <td>0.000000</td>\n",
       "      <td>0.000000</td>\n",
       "      <td>0.000000</td>\n",
       "    </tr>\n",
       "    <tr>\n",
       "      <td>25%</td>\n",
       "      <td>53.557679</td>\n",
       "      <td>66.012495</td>\n",
       "      <td>58.929364</td>\n",
       "      <td>67.932362</td>\n",
       "    </tr>\n",
       "    <tr>\n",
       "      <td>50%</td>\n",
       "      <td>57.594391</td>\n",
       "      <td>70.181495</td>\n",
       "      <td>62.497674</td>\n",
       "      <td>69.598444</td>\n",
       "    </tr>\n",
       "    <tr>\n",
       "      <td>75%</td>\n",
       "      <td>61.953459</td>\n",
       "      <td>74.356904</td>\n",
       "      <td>65.667336</td>\n",
       "      <td>71.368472</td>\n",
       "    </tr>\n",
       "    <tr>\n",
       "      <td>max</td>\n",
       "      <td>76.978947</td>\n",
       "      <td>88.140119</td>\n",
       "      <td>80.749343</td>\n",
       "      <td>80.210644</td>\n",
       "    </tr>\n",
       "  </tbody>\n",
       "</table>\n",
       "</div>"
      ],
      "text/plain": [
       "       sum_percent_rougher  sum_percent_first  sum_percent_sec  \\\n",
       "count         19439.000000       19439.000000     19439.000000   \n",
       "mean             57.320789          68.170865        60.764731   \n",
       "std               7.212680          12.491279        10.017271   \n",
       "min               0.040000           0.000000         0.000000   \n",
       "25%              53.557679          66.012495        58.929364   \n",
       "50%              57.594391          70.181495        62.497674   \n",
       "75%              61.953459          74.356904        65.667336   \n",
       "max              76.978947          88.140119        80.749343   \n",
       "\n",
       "       sum_percent_final  \n",
       "count       19439.000000  \n",
       "mean           68.653624  \n",
       "std             7.427536  \n",
       "min             0.000000  \n",
       "25%            67.932362  \n",
       "50%            69.598444  \n",
       "75%            71.368472  \n",
       "max            80.210644  "
      ]
     },
     "execution_count": 29,
     "metadata": {},
     "output_type": "execute_result"
    }
   ],
   "source": [
    "def sum_percent (data):\n",
    "    data['sum_percent_rougher'] = data['rougher.input.feed_ag'] + data['rougher.input.feed_au'] + data[\n",
    "    'rougher.input.feed_pb'] + data['rougher.input.feed_sol']\n",
    "\n",
    "    # черновой концентрат\n",
    "    data['sum_percent_first'] = data['rougher.output.concentrate_ag'] + data['rougher.output.concentrate_au'] + data[\n",
    "    'rougher.output.concentrate_pb'] + data['rougher.output.concentrate_sol']\n",
    "\n",
    "    # после первой очистки\n",
    "    data['sum_percent_sec'] = data['primary_cleaner.output.concentrate_ag'] + data[\n",
    "        'primary_cleaner.output.concentrate_au'] + data['primary_cleaner.output.concentrate_pb'] + full[\n",
    "        'primary_cleaner.output.concentrate_sol']\n",
    "\n",
    "    # финальный концентрат\n",
    "    data['sum_percent_final'] = data['final.output.concentrate_ag'] + data['final.output.concentrate_au'] + data[\n",
    "    'final.output.concentrate_pb'] + data['final.output.concentrate_sol']\n",
    "    return data\n",
    "\n",
    "sum_percent(full)\n",
    "full[['sum_percent_rougher', 'sum_percent_first', 'sum_percent_sec', 'sum_percent_final']].describe()"
   ]
  },
  {
   "cell_type": "code",
   "execution_count": 30,
   "metadata": {},
   "outputs": [
    {
     "data": {
      "image/png": "[encoded data removed]",
      "text/plain": [
       "<Figure size 1152x576 with 4 Axes>"
      ]
     },
     "metadata": {
      "needs_background": "light"
     },
     "output_type": "display_data"
    }
   ],
   "source": [
    "fig, axs = plt.subplots(2, 2, figsize = (16, 8))\n",
    "axs[0, 0].hist(full['sum_percent_rougher'], bins = 50, color='paleturquoise')\n",
    "axs[0, 0].set_title('Первичная руда')\n",
    "\n",
    "axs[0, 1].hist(full['sum_percent_first'], bins = 50, color = 'turquoise')\n",
    "axs[0, 1].set_title('Черновой концентрат')\n",
    "\n",
    "axs[1, 0].hist(full['sum_percent_sec'], bins = 50, color = 'c')\n",
    "axs[1, 0].set_title('Первый этап очистки')\n",
    "\n",
    "axs[1, 1].hist(full['sum_percent_final'], bins = 50, color = 'darkcyan')\n",
    "axs[1, 1].set_title('Финальный концентрат')\n",
    "fig.suptitle('Суммарная концентрация веществ на разных стадиях')\n",
    "plt.show()"
   ]
  },
  {
   "cell_type": "code",
   "execution_count": 31,
   "metadata": {},
   "outputs": [
    {
     "data": {
      "image/png": "[encoded data removed]",
      "text/plain": [
       "<Figure size 1080x720 with 1 Axes>"
      ]
     },
     "metadata": {
      "needs_background": "light"
     },
     "output_type": "display_data"
    }
   ],
   "source": [
    "plt.figure(figsize = (15,10))\n",
    "sns.set_style('whitegrid')\n",
    "data = [full['sum_percent_rougher'], full['sum_percent_first'], full['sum_percent_sec'], full['sum_percent_final']]\n",
    "lbl = ['Первичная руда', 'Черновой концентрат', 'Первый этап очистки', 'Финальный концентрат']\n",
    "colors = ['paleturquoise', 'turquoise', 'c', 'darkcyan']\n",
    "sns.boxplot(x = lbl, y = data, palette = colors)\n",
    "plt.title('Анализ выбросов концентрации веществ на разных стадиях')\n",
    "plt.show()"
   ]
  },
  {
   "cell_type": "markdown",
   "metadata": {},
   "source": [
    "Распределения на каждой стадии ассиметричны, с длинными хвостами в области низких значений и, соответственно, большим количеством выбросов ниже 5% квантиля. На каждом этапе встречаются партии с нулевой концентрацией веществ, что маловерятно в реальных условиях. Посмотрим на эти данные подробнее:"
   ]
  },
  {
   "cell_type": "code",
   "execution_count": 32,
   "metadata": {},
   "outputs": [
    {
     "data": {
      "text/html": [
       "<div>\n",
       "<style scoped>\n",
       "    .dataframe tbody tr th:only-of-type {\n",
       "        vertical-align: middle;\n",
       "    }\n",
       "\n",
       "    .dataframe tbody tr th {\n",
       "        vertical-align: top;\n",
       "    }\n",
       "\n",
       "    .dataframe thead th {\n",
       "        text-align: right;\n",
       "    }\n",
       "</style>\n",
       "<table border=\"1\" class=\"dataframe\">\n",
       "  <thead>\n",
       "    <tr style=\"text-align: right;\">\n",
       "      <th></th>\n",
       "      <th>sum_percent_rougher</th>\n",
       "      <th>sum_percent_first</th>\n",
       "      <th>sum_percent_sec</th>\n",
       "      <th>sum_percent_final</th>\n",
       "    </tr>\n",
       "  </thead>\n",
       "  <tbody>\n",
       "    <tr>\n",
       "      <td>45</td>\n",
       "      <td>58.602038</td>\n",
       "      <td>0.0</td>\n",
       "      <td>74.992510</td>\n",
       "      <td>66.175996</td>\n",
       "    </tr>\n",
       "    <tr>\n",
       "      <td>46</td>\n",
       "      <td>59.921613</td>\n",
       "      <td>0.0</td>\n",
       "      <td>75.187102</td>\n",
       "      <td>66.794250</td>\n",
       "    </tr>\n",
       "    <tr>\n",
       "      <td>47</td>\n",
       "      <td>57.269041</td>\n",
       "      <td>0.0</td>\n",
       "      <td>75.513787</td>\n",
       "      <td>67.572604</td>\n",
       "    </tr>\n",
       "    <tr>\n",
       "      <td>48</td>\n",
       "      <td>25.352358</td>\n",
       "      <td>0.0</td>\n",
       "      <td>75.491415</td>\n",
       "      <td>65.598903</td>\n",
       "    </tr>\n",
       "    <tr>\n",
       "      <td>49</td>\n",
       "      <td>40.721375</td>\n",
       "      <td>0.0</td>\n",
       "      <td>71.837866</td>\n",
       "      <td>63.445359</td>\n",
       "    </tr>\n",
       "    <tr>\n",
       "      <td>...</td>\n",
       "      <td>...</td>\n",
       "      <td>...</td>\n",
       "      <td>...</td>\n",
       "      <td>...</td>\n",
       "    </tr>\n",
       "    <tr>\n",
       "      <td>15620</td>\n",
       "      <td>58.106496</td>\n",
       "      <td>0.0</td>\n",
       "      <td>68.284696</td>\n",
       "      <td>70.703344</td>\n",
       "    </tr>\n",
       "    <tr>\n",
       "      <td>15621</td>\n",
       "      <td>59.500740</td>\n",
       "      <td>0.0</td>\n",
       "      <td>68.539751</td>\n",
       "      <td>70.814703</td>\n",
       "    </tr>\n",
       "    <tr>\n",
       "      <td>15622</td>\n",
       "      <td>60.129638</td>\n",
       "      <td>0.0</td>\n",
       "      <td>69.365785</td>\n",
       "      <td>71.329178</td>\n",
       "    </tr>\n",
       "    <tr>\n",
       "      <td>15623</td>\n",
       "      <td>59.267147</td>\n",
       "      <td>0.0</td>\n",
       "      <td>69.325494</td>\n",
       "      <td>71.195925</td>\n",
       "    </tr>\n",
       "    <tr>\n",
       "      <td>15624</td>\n",
       "      <td>59.490974</td>\n",
       "      <td>0.0</td>\n",
       "      <td>69.281619</td>\n",
       "      <td>71.148257</td>\n",
       "    </tr>\n",
       "  </tbody>\n",
       "</table>\n",
       "<p>394 rows × 4 columns</p>\n",
       "</div>"
      ],
      "text/plain": [
       "       sum_percent_rougher  sum_percent_first  sum_percent_sec  \\\n",
       "45               58.602038                0.0        74.992510   \n",
       "46               59.921613                0.0        75.187102   \n",
       "47               57.269041                0.0        75.513787   \n",
       "48               25.352358                0.0        75.491415   \n",
       "49               40.721375                0.0        71.837866   \n",
       "...                    ...                ...              ...   \n",
       "15620            58.106496                0.0        68.284696   \n",
       "15621            59.500740                0.0        68.539751   \n",
       "15622            60.129638                0.0        69.365785   \n",
       "15623            59.267147                0.0        69.325494   \n",
       "15624            59.490974                0.0        69.281619   \n",
       "\n",
       "       sum_percent_final  \n",
       "45             66.175996  \n",
       "46             66.794250  \n",
       "47             67.572604  \n",
       "48             65.598903  \n",
       "49             63.445359  \n",
       "...                  ...  \n",
       "15620          70.703344  \n",
       "15621          70.814703  \n",
       "15622          71.329178  \n",
       "15623          71.195925  \n",
       "15624          71.148257  \n",
       "\n",
       "[394 rows x 4 columns]"
      ]
     },
     "execution_count": 32,
     "metadata": {},
     "output_type": "execute_result"
    }
   ],
   "source": [
    "full.query('sum_percent_first == 0')[['sum_percent_rougher', 'sum_percent_first', \n",
    "                                      'sum_percent_sec', 'sum_percent_final']]"
   ]
  },
  {
   "cell_type": "code",
   "execution_count": 33,
   "metadata": {},
   "outputs": [
    {
     "data": {
      "text/html": [
       "<div>\n",
       "<style scoped>\n",
       "    .dataframe tbody tr th:only-of-type {\n",
       "        vertical-align: middle;\n",
       "    }\n",
       "\n",
       "    .dataframe tbody tr th {\n",
       "        vertical-align: top;\n",
       "    }\n",
       "\n",
       "    .dataframe thead th {\n",
       "        text-align: right;\n",
       "    }\n",
       "</style>\n",
       "<table border=\"1\" class=\"dataframe\">\n",
       "  <thead>\n",
       "    <tr style=\"text-align: right;\">\n",
       "      <th></th>\n",
       "      <th>sum_percent_rougher</th>\n",
       "      <th>sum_percent_first</th>\n",
       "      <th>sum_percent_sec</th>\n",
       "      <th>sum_percent_final</th>\n",
       "    </tr>\n",
       "  </thead>\n",
       "  <tbody>\n",
       "    <tr>\n",
       "      <td>19</td>\n",
       "      <td>56.005644</td>\n",
       "      <td>62.930764</td>\n",
       "      <td>0.0</td>\n",
       "      <td>64.546766</td>\n",
       "    </tr>\n",
       "    <tr>\n",
       "      <td>22</td>\n",
       "      <td>56.038252</td>\n",
       "      <td>62.225893</td>\n",
       "      <td>0.0</td>\n",
       "      <td>64.554911</td>\n",
       "    </tr>\n",
       "    <tr>\n",
       "      <td>30</td>\n",
       "      <td>57.764677</td>\n",
       "      <td>62.283147</td>\n",
       "      <td>0.0</td>\n",
       "      <td>63.765751</td>\n",
       "    </tr>\n",
       "    <tr>\n",
       "      <td>71</td>\n",
       "      <td>56.626743</td>\n",
       "      <td>61.183102</td>\n",
       "      <td>0.0</td>\n",
       "      <td>65.773298</td>\n",
       "    </tr>\n",
       "    <tr>\n",
       "      <td>74</td>\n",
       "      <td>56.369424</td>\n",
       "      <td>60.301210</td>\n",
       "      <td>0.0</td>\n",
       "      <td>59.902215</td>\n",
       "    </tr>\n",
       "    <tr>\n",
       "      <td>...</td>\n",
       "      <td>...</td>\n",
       "      <td>...</td>\n",
       "      <td>...</td>\n",
       "      <td>...</td>\n",
       "    </tr>\n",
       "    <tr>\n",
       "      <td>15340</td>\n",
       "      <td>69.972632</td>\n",
       "      <td>75.419077</td>\n",
       "      <td>0.0</td>\n",
       "      <td>69.218790</td>\n",
       "    </tr>\n",
       "    <tr>\n",
       "      <td>15343</td>\n",
       "      <td>68.110175</td>\n",
       "      <td>74.071370</td>\n",
       "      <td>0.0</td>\n",
       "      <td>68.696202</td>\n",
       "    </tr>\n",
       "    <tr>\n",
       "      <td>15356</td>\n",
       "      <td>66.538045</td>\n",
       "      <td>68.047932</td>\n",
       "      <td>0.0</td>\n",
       "      <td>70.374035</td>\n",
       "    </tr>\n",
       "    <tr>\n",
       "      <td>15416</td>\n",
       "      <td>68.956264</td>\n",
       "      <td>80.582086</td>\n",
       "      <td>0.0</td>\n",
       "      <td>71.230414</td>\n",
       "    </tr>\n",
       "    <tr>\n",
       "      <td>15543</td>\n",
       "      <td>60.185592</td>\n",
       "      <td>80.113810</td>\n",
       "      <td>0.0</td>\n",
       "      <td>71.865737</td>\n",
       "    </tr>\n",
       "  </tbody>\n",
       "</table>\n",
       "<p>108 rows × 4 columns</p>\n",
       "</div>"
      ],
      "text/plain": [
       "       sum_percent_rougher  sum_percent_first  sum_percent_sec  \\\n",
       "19               56.005644          62.930764              0.0   \n",
       "22               56.038252          62.225893              0.0   \n",
       "30               57.764677          62.283147              0.0   \n",
       "71               56.626743          61.183102              0.0   \n",
       "74               56.369424          60.301210              0.0   \n",
       "...                    ...                ...              ...   \n",
       "15340            69.972632          75.419077              0.0   \n",
       "15343            68.110175          74.071370              0.0   \n",
       "15356            66.538045          68.047932              0.0   \n",
       "15416            68.956264          80.582086              0.0   \n",
       "15543            60.185592          80.113810              0.0   \n",
       "\n",
       "       sum_percent_final  \n",
       "19             64.546766  \n",
       "22             64.554911  \n",
       "30             63.765751  \n",
       "71             65.773298  \n",
       "74             59.902215  \n",
       "...                  ...  \n",
       "15340          69.218790  \n",
       "15343          68.696202  \n",
       "15356          70.374035  \n",
       "15416          71.230414  \n",
       "15543          71.865737  \n",
       "\n",
       "[108 rows x 4 columns]"
      ]
     },
     "execution_count": 33,
     "metadata": {},
     "output_type": "execute_result"
    }
   ],
   "source": [
    "full.query('sum_percent_sec == 0')[['sum_percent_rougher', 'sum_percent_first', \n",
    "                                      'sum_percent_sec', 'sum_percent_final']]"
   ]
  },
  {
   "cell_type": "code",
   "execution_count": 34,
   "metadata": {},
   "outputs": [
    {
     "data": {
      "text/html": [
       "<div>\n",
       "<style scoped>\n",
       "    .dataframe tbody tr th:only-of-type {\n",
       "        vertical-align: middle;\n",
       "    }\n",
       "\n",
       "    .dataframe tbody tr th {\n",
       "        vertical-align: top;\n",
       "    }\n",
       "\n",
       "    .dataframe thead th {\n",
       "        text-align: right;\n",
       "    }\n",
       "</style>\n",
       "<table border=\"1\" class=\"dataframe\">\n",
       "  <thead>\n",
       "    <tr style=\"text-align: right;\">\n",
       "      <th></th>\n",
       "      <th>sum_percent_rougher</th>\n",
       "      <th>sum_percent_first</th>\n",
       "      <th>sum_percent_sec</th>\n",
       "      <th>sum_percent_final</th>\n",
       "    </tr>\n",
       "  </thead>\n",
       "  <tbody>\n",
       "    <tr>\n",
       "      <td>644</td>\n",
       "      <td>46.703740</td>\n",
       "      <td>56.574778</td>\n",
       "      <td>53.725613</td>\n",
       "      <td>0.0</td>\n",
       "    </tr>\n",
       "    <tr>\n",
       "      <td>1193</td>\n",
       "      <td>53.368945</td>\n",
       "      <td>61.681632</td>\n",
       "      <td>61.254172</td>\n",
       "      <td>0.0</td>\n",
       "    </tr>\n",
       "    <tr>\n",
       "      <td>1194</td>\n",
       "      <td>51.963364</td>\n",
       "      <td>60.214950</td>\n",
       "      <td>60.410868</td>\n",
       "      <td>0.0</td>\n",
       "    </tr>\n",
       "    <tr>\n",
       "      <td>1195</td>\n",
       "      <td>48.892687</td>\n",
       "      <td>58.592426</td>\n",
       "      <td>60.154484</td>\n",
       "      <td>0.0</td>\n",
       "    </tr>\n",
       "    <tr>\n",
       "      <td>1196</td>\n",
       "      <td>49.265736</td>\n",
       "      <td>58.363177</td>\n",
       "      <td>59.909714</td>\n",
       "      <td>0.0</td>\n",
       "    </tr>\n",
       "    <tr>\n",
       "      <td>...</td>\n",
       "      <td>...</td>\n",
       "      <td>...</td>\n",
       "      <td>...</td>\n",
       "      <td>...</td>\n",
       "    </tr>\n",
       "    <tr>\n",
       "      <td>14951</td>\n",
       "      <td>70.195851</td>\n",
       "      <td>74.356346</td>\n",
       "      <td>63.650614</td>\n",
       "      <td>0.0</td>\n",
       "    </tr>\n",
       "    <tr>\n",
       "      <td>14952</td>\n",
       "      <td>69.677719</td>\n",
       "      <td>69.414486</td>\n",
       "      <td>66.086057</td>\n",
       "      <td>0.0</td>\n",
       "    </tr>\n",
       "    <tr>\n",
       "      <td>15183</td>\n",
       "      <td>52.381155</td>\n",
       "      <td>74.243066</td>\n",
       "      <td>16.240722</td>\n",
       "      <td>0.0</td>\n",
       "    </tr>\n",
       "    <tr>\n",
       "      <td>15184</td>\n",
       "      <td>59.410599</td>\n",
       "      <td>79.597733</td>\n",
       "      <td>61.584073</td>\n",
       "      <td>0.0</td>\n",
       "    </tr>\n",
       "    <tr>\n",
       "      <td>15310</td>\n",
       "      <td>33.929636</td>\n",
       "      <td>49.797341</td>\n",
       "      <td>15.124596</td>\n",
       "      <td>0.0</td>\n",
       "    </tr>\n",
       "  </tbody>\n",
       "</table>\n",
       "<p>98 rows × 4 columns</p>\n",
       "</div>"
      ],
      "text/plain": [
       "       sum_percent_rougher  sum_percent_first  sum_percent_sec  \\\n",
       "644              46.703740          56.574778        53.725613   \n",
       "1193             53.368945          61.681632        61.254172   \n",
       "1194             51.963364          60.214950        60.410868   \n",
       "1195             48.892687          58.592426        60.154484   \n",
       "1196             49.265736          58.363177        59.909714   \n",
       "...                    ...                ...              ...   \n",
       "14951            70.195851          74.356346        63.650614   \n",
       "14952            69.677719          69.414486        66.086057   \n",
       "15183            52.381155          74.243066        16.240722   \n",
       "15184            59.410599          79.597733        61.584073   \n",
       "15310            33.929636          49.797341        15.124596   \n",
       "\n",
       "       sum_percent_final  \n",
       "644                  0.0  \n",
       "1193                 0.0  \n",
       "1194                 0.0  \n",
       "1195                 0.0  \n",
       "1196                 0.0  \n",
       "...                  ...  \n",
       "14951                0.0  \n",
       "14952                0.0  \n",
       "15183                0.0  \n",
       "15184                0.0  \n",
       "15310                0.0  \n",
       "\n",
       "[98 rows x 4 columns]"
      ]
     },
     "execution_count": 34,
     "metadata": {},
     "output_type": "execute_result"
    }
   ],
   "source": [
    "full.query('sum_percent_final == 0')[['sum_percent_rougher', 'sum_percent_first', \n",
    "                                      'sum_percent_sec', 'sum_percent_final']]"
   ]
  },
  {
   "cell_type": "code",
   "execution_count": 35,
   "metadata": {},
   "outputs": [
    {
     "name": "stdout",
     "output_type": "stream",
     "text": [
      "Доля аномальных нулевых значений: 0.04\n"
     ]
    }
   ],
   "source": [
    "print('Доля аномальных нулевых значений:', round((98+108+394) / 14149, 2))"
   ]
  },
  {
   "cell_type": "markdown",
   "metadata": {},
   "source": [
    "Из представленных срезов можно сделать вывод, что нулевые концентрации на каждой стадии - техническая ошибка, поскольку на остальных стадиях для тех же партий концентрации не равны 0. На обучение моделей данные аномалии повлиять не должны, поскольку столбцы с концентрацией веществ на каждой стадии не являются влияющими переменными в моделях. Однако стоит проверить наличие нулевых значений в целевых переменных тренировочной и тестовой выборок:  "
   ]
  },
  {
   "cell_type": "code",
   "execution_count": 36,
   "metadata": {},
   "outputs": [
    {
     "data": {
      "text/html": [
       "<div>\n",
       "<style scoped>\n",
       "    .dataframe tbody tr th:only-of-type {\n",
       "        vertical-align: middle;\n",
       "    }\n",
       "\n",
       "    .dataframe tbody tr th {\n",
       "        vertical-align: top;\n",
       "    }\n",
       "\n",
       "    .dataframe thead th {\n",
       "        text-align: right;\n",
       "    }\n",
       "</style>\n",
       "<table border=\"1\" class=\"dataframe\">\n",
       "  <thead>\n",
       "    <tr style=\"text-align: right;\">\n",
       "      <th></th>\n",
       "      <th>rougher.output.recovery</th>\n",
       "      <th>final.output.recovery</th>\n",
       "    </tr>\n",
       "  </thead>\n",
       "  <tbody>\n",
       "    <tr>\n",
       "      <td>45</td>\n",
       "      <td>0.0</td>\n",
       "      <td>68.403877</td>\n",
       "    </tr>\n",
       "    <tr>\n",
       "      <td>46</td>\n",
       "      <td>0.0</td>\n",
       "      <td>70.675633</td>\n",
       "    </tr>\n",
       "    <tr>\n",
       "      <td>47</td>\n",
       "      <td>0.0</td>\n",
       "      <td>55.088448</td>\n",
       "    </tr>\n",
       "    <tr>\n",
       "      <td>48</td>\n",
       "      <td>0.0</td>\n",
       "      <td>41.962008</td>\n",
       "    </tr>\n",
       "    <tr>\n",
       "      <td>49</td>\n",
       "      <td>0.0</td>\n",
       "      <td>49.884856</td>\n",
       "    </tr>\n",
       "    <tr>\n",
       "      <td>...</td>\n",
       "      <td>...</td>\n",
       "      <td>...</td>\n",
       "    </tr>\n",
       "    <tr>\n",
       "      <td>10330</td>\n",
       "      <td>0.0</td>\n",
       "      <td>83.597741</td>\n",
       "    </tr>\n",
       "    <tr>\n",
       "      <td>10331</td>\n",
       "      <td>0.0</td>\n",
       "      <td>84.738648</td>\n",
       "    </tr>\n",
       "    <tr>\n",
       "      <td>10332</td>\n",
       "      <td>0.0</td>\n",
       "      <td>73.519948</td>\n",
       "    </tr>\n",
       "    <tr>\n",
       "      <td>10333</td>\n",
       "      <td>0.0</td>\n",
       "      <td>78.415342</td>\n",
       "    </tr>\n",
       "    <tr>\n",
       "      <td>10334</td>\n",
       "      <td>0.0</td>\n",
       "      <td>81.353620</td>\n",
       "    </tr>\n",
       "  </tbody>\n",
       "</table>\n",
       "<p>354 rows × 2 columns</p>\n",
       "</div>"
      ],
      "text/plain": [
       "       rougher.output.recovery  final.output.recovery\n",
       "45                         0.0              68.403877\n",
       "46                         0.0              70.675633\n",
       "47                         0.0              55.088448\n",
       "48                         0.0              41.962008\n",
       "49                         0.0              49.884856\n",
       "...                        ...                    ...\n",
       "10330                      0.0              83.597741\n",
       "10331                      0.0              84.738648\n",
       "10332                      0.0              73.519948\n",
       "10333                      0.0              78.415342\n",
       "10334                      0.0              81.353620\n",
       "\n",
       "[354 rows x 2 columns]"
      ]
     },
     "execution_count": 36,
     "metadata": {},
     "output_type": "execute_result"
    }
   ],
   "source": [
    "train_data.loc[(train_data['rougher.output.recovery'] == 0) \n",
    "               | (train_data['final.output.recovery'] == 0)][['rougher.output.recovery', 'final.output.recovery']]"
   ]
  },
  {
   "cell_type": "markdown",
   "metadata": {},
   "source": [
    "Если нулевая концентрация золота в финальном концентрате действительно может встречаться, то нулевая концентрация после флотации при том, что в финальном концентрате доля золота для тех же партий отлична от 0 - это явная ошибка. Посмотрим, много ли таких наблюдений:"
   ]
  },
  {
   "cell_type": "code",
   "execution_count": 37,
   "metadata": {},
   "outputs": [
    {
     "data": {
      "text/html": [
       "<div>\n",
       "<style scoped>\n",
       "    .dataframe tbody tr th:only-of-type {\n",
       "        vertical-align: middle;\n",
       "    }\n",
       "\n",
       "    .dataframe tbody tr th {\n",
       "        vertical-align: top;\n",
       "    }\n",
       "\n",
       "    .dataframe thead th {\n",
       "        text-align: right;\n",
       "    }\n",
       "</style>\n",
       "<table border=\"1\" class=\"dataframe\">\n",
       "  <thead>\n",
       "    <tr style=\"text-align: right;\">\n",
       "      <th></th>\n",
       "      <th>rougher.output.recovery</th>\n",
       "      <th>final.output.recovery</th>\n",
       "    </tr>\n",
       "  </thead>\n",
       "  <tbody>\n",
       "    <tr>\n",
       "      <td>45</td>\n",
       "      <td>0.0</td>\n",
       "      <td>68.403877</td>\n",
       "    </tr>\n",
       "    <tr>\n",
       "      <td>46</td>\n",
       "      <td>0.0</td>\n",
       "      <td>70.675633</td>\n",
       "    </tr>\n",
       "    <tr>\n",
       "      <td>47</td>\n",
       "      <td>0.0</td>\n",
       "      <td>55.088448</td>\n",
       "    </tr>\n",
       "    <tr>\n",
       "      <td>48</td>\n",
       "      <td>0.0</td>\n",
       "      <td>41.962008</td>\n",
       "    </tr>\n",
       "    <tr>\n",
       "      <td>49</td>\n",
       "      <td>0.0</td>\n",
       "      <td>49.884856</td>\n",
       "    </tr>\n",
       "  </tbody>\n",
       "</table>\n",
       "</div>"
      ],
      "text/plain": [
       "    rougher.output.recovery  final.output.recovery\n",
       "45                      0.0              68.403877\n",
       "46                      0.0              70.675633\n",
       "47                      0.0              55.088448\n",
       "48                      0.0              41.962008\n",
       "49                      0.0              49.884856"
      ]
     },
     "metadata": {},
     "output_type": "display_data"
    },
    {
     "name": "stdout",
     "output_type": "stream",
     "text": [
      "Доля аномальных нулевых значений в выборке: 0.02\n"
     ]
    }
   ],
   "source": [
    "zeros_train = train_data.loc[(train_data['rougher.output.recovery'] == 0) \n",
    "               & (train_data['final.output.recovery'] != 0)][['rougher.output.recovery', 'final.output.recovery']]\n",
    "display(zeros_train.head())\n",
    "print('Доля аномальных нулевых значений в выборке:', round(len(zeros_train) / len(train_data), 2))"
   ]
  },
  {
   "cell_type": "markdown",
   "metadata": {},
   "source": [
    "Двумя процентами можно пренебречь. Удалим их из рассмотрения:"
   ]
  },
  {
   "cell_type": "code",
   "execution_count": 38,
   "metadata": {},
   "outputs": [
    {
     "data": {
      "text/plain": [
       "(13852, 54)"
      ]
     },
     "execution_count": 38,
     "metadata": {},
     "output_type": "execute_result"
    }
   ],
   "source": [
    "train_data = train_data.loc[train_data['rougher.output.recovery'] != 0]\n",
    "train_data.shape"
   ]
  },
  {
   "cell_type": "markdown",
   "metadata": {},
   "source": [
    "Аналогично очистим тестовую выборку:"
   ]
  },
  {
   "cell_type": "code",
   "execution_count": 39,
   "metadata": {},
   "outputs": [
    {
     "data": {
      "text/html": [
       "<div>\n",
       "<style scoped>\n",
       "    .dataframe tbody tr th:only-of-type {\n",
       "        vertical-align: middle;\n",
       "    }\n",
       "\n",
       "    .dataframe tbody tr th {\n",
       "        vertical-align: top;\n",
       "    }\n",
       "\n",
       "    .dataframe thead th {\n",
       "        text-align: right;\n",
       "    }\n",
       "</style>\n",
       "<table border=\"1\" class=\"dataframe\">\n",
       "  <thead>\n",
       "    <tr style=\"text-align: right;\">\n",
       "      <th></th>\n",
       "      <th>rougher.output.recovery</th>\n",
       "      <th>final.output.recovery</th>\n",
       "    </tr>\n",
       "  </thead>\n",
       "  <tbody>\n",
       "    <tr>\n",
       "      <td>85</td>\n",
       "      <td>0.0</td>\n",
       "      <td>57.120911</td>\n",
       "    </tr>\n",
       "    <tr>\n",
       "      <td>86</td>\n",
       "      <td>0.0</td>\n",
       "      <td>52.005176</td>\n",
       "    </tr>\n",
       "    <tr>\n",
       "      <td>87</td>\n",
       "      <td>0.0</td>\n",
       "      <td>54.860958</td>\n",
       "    </tr>\n",
       "    <tr>\n",
       "      <td>88</td>\n",
       "      <td>0.0</td>\n",
       "      <td>55.044992</td>\n",
       "    </tr>\n",
       "    <tr>\n",
       "      <td>89</td>\n",
       "      <td>0.0</td>\n",
       "      <td>55.539770</td>\n",
       "    </tr>\n",
       "  </tbody>\n",
       "</table>\n",
       "</div>"
      ],
      "text/plain": [
       "    rougher.output.recovery  final.output.recovery\n",
       "85                      0.0              57.120911\n",
       "86                      0.0              52.005176\n",
       "87                      0.0              54.860958\n",
       "88                      0.0              55.044992\n",
       "89                      0.0              55.539770"
      ]
     },
     "metadata": {},
     "output_type": "display_data"
    },
    {
     "name": "stdout",
     "output_type": "stream",
     "text": [
      "Доля аномальных нулевых значений в выборке: 0.02\n"
     ]
    }
   ],
   "source": [
    "zeros_test = test_data.loc[(test_data['rougher.output.recovery'] == 0) \n",
    "               & (test_data['final.output.recovery'] != 0)][['rougher.output.recovery', 'final.output.recovery']]\n",
    "display(zeros_test.head())\n",
    "print('Доля аномальных нулевых значений в выборке:', round(len(zeros_test) / len(test_data), 2))"
   ]
  },
  {
   "cell_type": "code",
   "execution_count": 40,
   "metadata": {},
   "outputs": [
    {
     "data": {
      "text/plain": [
       "(5193, 54)"
      ]
     },
     "execution_count": 40,
     "metadata": {},
     "output_type": "execute_result"
    }
   ],
   "source": [
    "test_data = test_data.loc[test_data['rougher.output.recovery'] != 0]\n",
    "test_data.shape"
   ]
  },
  {
   "cell_type": "markdown",
   "metadata": {},
   "source": [
    "Исследуем признаки, оказывающие наибольшее влияние на целевые показатели:"
   ]
  },
  {
   "cell_type": "code",
   "execution_count": 41,
   "metadata": {},
   "outputs": [],
   "source": [
    "correlation = train_data.corr()[['final.output.recovery', 'rougher.output.recovery']]"
   ]
  },
  {
   "cell_type": "code",
   "execution_count": 42,
   "metadata": {},
   "outputs": [
    {
     "data": {
      "image/png": "[encoded data removed]",
      "text/plain": [
       "<Figure size 720x1440 with 2 Axes>"
      ]
     },
     "metadata": {},
     "output_type": "display_data"
    }
   ],
   "source": [
    "plt.figure(figsize = (10,20))\n",
    "sns.heatmap(correlation)\n",
    "plt.show()"
   ]
  },
  {
   "cell_type": "markdown",
   "metadata": {},
   "source": [
    "Исключим из рассмотрения показатели, которые практически не оказывают влияния на эффективность (коэффициент корреляции менее 0,2):"
   ]
  },
  {
   "cell_type": "code",
   "execution_count": 43,
   "metadata": {
    "scrolled": true
   },
   "outputs": [
    {
     "data": {
      "text/html": [
       "<div>\n",
       "<style scoped>\n",
       "    .dataframe tbody tr th:only-of-type {\n",
       "        vertical-align: middle;\n",
       "    }\n",
       "\n",
       "    .dataframe tbody tr th {\n",
       "        vertical-align: top;\n",
       "    }\n",
       "\n",
       "    .dataframe thead th {\n",
       "        text-align: right;\n",
       "    }\n",
       "</style>\n",
       "<table border=\"1\" class=\"dataframe\">\n",
       "  <thead>\n",
       "    <tr style=\"text-align: right;\">\n",
       "      <th></th>\n",
       "      <th>final.output.recovery</th>\n",
       "      <th>rougher.output.recovery</th>\n",
       "    </tr>\n",
       "  </thead>\n",
       "  <tbody>\n",
       "    <tr>\n",
       "      <td>primary_cleaner.input.depressant</td>\n",
       "      <td>0.162384</td>\n",
       "      <td>0.134622</td>\n",
       "    </tr>\n",
       "    <tr>\n",
       "      <td>primary_cleaner.input.feed_size</td>\n",
       "      <td>0.064027</td>\n",
       "      <td>-0.043961</td>\n",
       "    </tr>\n",
       "    <tr>\n",
       "      <td>primary_cleaner.state.floatbank8_a_air</td>\n",
       "      <td>0.138668</td>\n",
       "      <td>0.197603</td>\n",
       "    </tr>\n",
       "    <tr>\n",
       "      <td>primary_cleaner.state.floatbank8_a_level</td>\n",
       "      <td>0.030313</td>\n",
       "      <td>0.016695</td>\n",
       "    </tr>\n",
       "    <tr>\n",
       "      <td>primary_cleaner.state.floatbank8_b_level</td>\n",
       "      <td>0.044201</td>\n",
       "      <td>0.011276</td>\n",
       "    </tr>\n",
       "    <tr>\n",
       "      <td>primary_cleaner.state.floatbank8_c_level</td>\n",
       "      <td>0.031443</td>\n",
       "      <td>0.015591</td>\n",
       "    </tr>\n",
       "    <tr>\n",
       "      <td>primary_cleaner.state.floatbank8_d_air</td>\n",
       "      <td>0.062508</td>\n",
       "      <td>0.088979</td>\n",
       "    </tr>\n",
       "    <tr>\n",
       "      <td>primary_cleaner.state.floatbank8_d_level</td>\n",
       "      <td>-0.020000</td>\n",
       "      <td>-0.011592</td>\n",
       "    </tr>\n",
       "    <tr>\n",
       "      <td>rougher.input.feed_rate</td>\n",
       "      <td>0.162545</td>\n",
       "      <td>0.077214</td>\n",
       "    </tr>\n",
       "    <tr>\n",
       "      <td>rougher.input.feed_size</td>\n",
       "      <td>0.046446</td>\n",
       "      <td>0.090069</td>\n",
       "    </tr>\n",
       "    <tr>\n",
       "      <td>rougher.input.floatbank10_sulfate</td>\n",
       "      <td>0.003365</td>\n",
       "      <td>-0.011711</td>\n",
       "    </tr>\n",
       "    <tr>\n",
       "      <td>rougher.input.floatbank11_sulfate</td>\n",
       "      <td>0.029899</td>\n",
       "      <td>-0.008805</td>\n",
       "    </tr>\n",
       "    <tr>\n",
       "      <td>rougher.state.floatbank10_b_level</td>\n",
       "      <td>-0.088257</td>\n",
       "      <td>-0.186593</td>\n",
       "    </tr>\n",
       "    <tr>\n",
       "      <td>rougher.state.floatbank10_c_level</td>\n",
       "      <td>-0.097947</td>\n",
       "      <td>-0.185889</td>\n",
       "    </tr>\n",
       "    <tr>\n",
       "      <td>rougher.state.floatbank10_d_level</td>\n",
       "      <td>-0.098020</td>\n",
       "      <td>-0.187335</td>\n",
       "    </tr>\n",
       "    <tr>\n",
       "      <td>rougher.state.floatbank10_e_level</td>\n",
       "      <td>-0.099021</td>\n",
       "      <td>-0.183952</td>\n",
       "    </tr>\n",
       "    <tr>\n",
       "      <td>rougher.state.floatbank10_f_air</td>\n",
       "      <td>-0.092448</td>\n",
       "      <td>-0.179546</td>\n",
       "    </tr>\n",
       "    <tr>\n",
       "      <td>rougher.state.floatbank10_f_level</td>\n",
       "      <td>-0.096396</td>\n",
       "      <td>-0.184525</td>\n",
       "    </tr>\n",
       "    <tr>\n",
       "      <td>secondary_cleaner.state.floatbank2_a_level</td>\n",
       "      <td>0.002433</td>\n",
       "      <td>-0.072715</td>\n",
       "    </tr>\n",
       "    <tr>\n",
       "      <td>secondary_cleaner.state.floatbank2_b_level</td>\n",
       "      <td>-0.000665</td>\n",
       "      <td>-0.079720</td>\n",
       "    </tr>\n",
       "    <tr>\n",
       "      <td>secondary_cleaner.state.floatbank3_a_level</td>\n",
       "      <td>0.030099</td>\n",
       "      <td>-0.015830</td>\n",
       "    </tr>\n",
       "    <tr>\n",
       "      <td>secondary_cleaner.state.floatbank3_b_air</td>\n",
       "      <td>0.038774</td>\n",
       "      <td>0.050048</td>\n",
       "    </tr>\n",
       "    <tr>\n",
       "      <td>secondary_cleaner.state.floatbank3_b_level</td>\n",
       "      <td>0.010230</td>\n",
       "      <td>-0.107966</td>\n",
       "    </tr>\n",
       "    <tr>\n",
       "      <td>secondary_cleaner.state.floatbank4_a_level</td>\n",
       "      <td>0.056306</td>\n",
       "      <td>0.061163</td>\n",
       "    </tr>\n",
       "    <tr>\n",
       "      <td>secondary_cleaner.state.floatbank4_b_level</td>\n",
       "      <td>-0.082299</td>\n",
       "      <td>-0.039832</td>\n",
       "    </tr>\n",
       "    <tr>\n",
       "      <td>secondary_cleaner.state.floatbank5_a_level</td>\n",
       "      <td>0.022692</td>\n",
       "      <td>-0.031218</td>\n",
       "    </tr>\n",
       "    <tr>\n",
       "      <td>secondary_cleaner.state.floatbank5_b_level</td>\n",
       "      <td>0.037956</td>\n",
       "      <td>-0.003559</td>\n",
       "    </tr>\n",
       "    <tr>\n",
       "      <td>secondary_cleaner.state.floatbank6_a_air</td>\n",
       "      <td>-0.029768</td>\n",
       "      <td>-0.126376</td>\n",
       "    </tr>\n",
       "    <tr>\n",
       "      <td>secondary_cleaner.state.floatbank6_a_level</td>\n",
       "      <td>-0.036802</td>\n",
       "      <td>-0.082903</td>\n",
       "    </tr>\n",
       "  </tbody>\n",
       "</table>\n",
       "</div>"
      ],
      "text/plain": [
       "                                            final.output.recovery  \\\n",
       "primary_cleaner.input.depressant                         0.162384   \n",
       "primary_cleaner.input.feed_size                          0.064027   \n",
       "primary_cleaner.state.floatbank8_a_air                   0.138668   \n",
       "primary_cleaner.state.floatbank8_a_level                 0.030313   \n",
       "primary_cleaner.state.floatbank8_b_level                 0.044201   \n",
       "primary_cleaner.state.floatbank8_c_level                 0.031443   \n",
       "primary_cleaner.state.floatbank8_d_air                   0.062508   \n",
       "primary_cleaner.state.floatbank8_d_level                -0.020000   \n",
       "rougher.input.feed_rate                                  0.162545   \n",
       "rougher.input.feed_size                                  0.046446   \n",
       "rougher.input.floatbank10_sulfate                        0.003365   \n",
       "rougher.input.floatbank11_sulfate                        0.029899   \n",
       "rougher.state.floatbank10_b_level                       -0.088257   \n",
       "rougher.state.floatbank10_c_level                       -0.097947   \n",
       "rougher.state.floatbank10_d_level                       -0.098020   \n",
       "rougher.state.floatbank10_e_level                       -0.099021   \n",
       "rougher.state.floatbank10_f_air                         -0.092448   \n",
       "rougher.state.floatbank10_f_level                       -0.096396   \n",
       "secondary_cleaner.state.floatbank2_a_level               0.002433   \n",
       "secondary_cleaner.state.floatbank2_b_level              -0.000665   \n",
       "secondary_cleaner.state.floatbank3_a_level               0.030099   \n",
       "secondary_cleaner.state.floatbank3_b_air                 0.038774   \n",
       "secondary_cleaner.state.floatbank3_b_level               0.010230   \n",
       "secondary_cleaner.state.floatbank4_a_level               0.056306   \n",
       "secondary_cleaner.state.floatbank4_b_level              -0.082299   \n",
       "secondary_cleaner.state.floatbank5_a_level               0.022692   \n",
       "secondary_cleaner.state.floatbank5_b_level               0.037956   \n",
       "secondary_cleaner.state.floatbank6_a_air                -0.029768   \n",
       "secondary_cleaner.state.floatbank6_a_level              -0.036802   \n",
       "\n",
       "                                            rougher.output.recovery  \n",
       "primary_cleaner.input.depressant                           0.134622  \n",
       "primary_cleaner.input.feed_size                           -0.043961  \n",
       "primary_cleaner.state.floatbank8_a_air                     0.197603  \n",
       "primary_cleaner.state.floatbank8_a_level                   0.016695  \n",
       "primary_cleaner.state.floatbank8_b_level                   0.011276  \n",
       "primary_cleaner.state.floatbank8_c_level                   0.015591  \n",
       "primary_cleaner.state.floatbank8_d_air                     0.088979  \n",
       "primary_cleaner.state.floatbank8_d_level                  -0.011592  \n",
       "rougher.input.feed_rate                                    0.077214  \n",
       "rougher.input.feed_size                                    0.090069  \n",
       "rougher.input.floatbank10_sulfate                         -0.011711  \n",
       "rougher.input.floatbank11_sulfate                         -0.008805  \n",
       "rougher.state.floatbank10_b_level                         -0.186593  \n",
       "rougher.state.floatbank10_c_level                         -0.185889  \n",
       "rougher.state.floatbank10_d_level                         -0.187335  \n",
       "rougher.state.floatbank10_e_level                         -0.183952  \n",
       "rougher.state.floatbank10_f_air                           -0.179546  \n",
       "rougher.state.floatbank10_f_level                         -0.184525  \n",
       "secondary_cleaner.state.floatbank2_a_level                -0.072715  \n",
       "secondary_cleaner.state.floatbank2_b_level                -0.079720  \n",
       "secondary_cleaner.state.floatbank3_a_level                -0.015830  \n",
       "secondary_cleaner.state.floatbank3_b_air                   0.050048  \n",
       "secondary_cleaner.state.floatbank3_b_level                -0.107966  \n",
       "secondary_cleaner.state.floatbank4_a_level                 0.061163  \n",
       "secondary_cleaner.state.floatbank4_b_level                -0.039832  \n",
       "secondary_cleaner.state.floatbank5_a_level                -0.031218  \n",
       "secondary_cleaner.state.floatbank5_b_level                -0.003559  \n",
       "secondary_cleaner.state.floatbank6_a_air                  -0.126376  \n",
       "secondary_cleaner.state.floatbank6_a_level                -0.082903  "
      ]
     },
     "execution_count": 43,
     "metadata": {},
     "output_type": "execute_result"
    }
   ],
   "source": [
    "to_drop = correlation.loc[(abs(correlation['final.output.recovery']) < 0.2) & \n",
    "                          (abs(correlation['rougher.output.recovery']) < 0.2)]\n",
    "to_drop"
   ]
  },
  {
   "cell_type": "code",
   "execution_count": 44,
   "metadata": {
    "scrolled": true
   },
   "outputs": [
    {
     "name": "stdout",
     "output_type": "stream",
     "text": [
      "(13852, 25)\n",
      "(5193, 25)\n"
     ]
    }
   ],
   "source": [
    "train_data = train_data.drop(list(to_drop.index), axis = 1)\n",
    "test_data = test_data.drop(list(to_drop.index), axis = 1)\n",
    "print(train_data.shape)\n",
    "print(test_data.shape)"
   ]
  },
  {
   "cell_type": "markdown",
   "metadata": {},
   "source": [
    "### Вывод\n",
    "\n",
    "В рамках анализа данных:\n",
    "- исследована концентрация металлов на каждой стадии технологического процесса. Вяснено, что концентрация золота и свинца растёт от стадии к стадии, тогда как концентрация серебра снижается после этапа обогащения. \n",
    "- проведено сравнение распределений гранул сырья\n",
    "- исследована суммарная концентрация всех веществ на каждой стадии, из обучающего и тестового наборов исключены аномальные нулевые значения\n",
    "- проведён анализ корреляции между переменными, исключены переменные, оказывающие слабое влияние на эффективность обогащения. "
   ]
  },
  {
   "cell_type": "markdown",
   "metadata": {},
   "source": [
    "## Построение модели"
   ]
  },
  {
   "cell_type": "markdown",
   "metadata": {},
   "source": [
    "### Функция для вычисления итоговой sMAPE:"
   ]
  },
  {
   "cell_type": "code",
   "execution_count": 45,
   "metadata": {},
   "outputs": [],
   "source": [
    "def smape(target, predictions):\n",
    "    for_smape = abs(target - predictions) / ((abs(target) + abs(predictions)) * 0.5) * 100\n",
    "    smape_total = for_smape['rougher.output.recovery'].mean()*0.25 + for_smape['final.output.recovery'].mean()*0.75\n",
    "    return(round(smape_total, 2))"
   ]
  },
  {
   "cell_type": "markdown",
   "metadata": {},
   "source": [
    "Выделим целевые и обучающие переменные для моделей в обучающей и тестовой выборках:"
   ]
  },
  {
   "cell_type": "code",
   "execution_count": 46,
   "metadata": {},
   "outputs": [
    {
     "name": "stdout",
     "output_type": "stream",
     "text": [
      "Размер целевых переменных в обучающей выборке: (13852, 2)\n",
      "Размер влияющих переменных в обучающей выборке: (13852, 23)\n"
     ]
    }
   ],
   "source": [
    "# для обучающей выборки\n",
    "train_target = train_data[['rougher.output.recovery', 'final.output.recovery']]\n",
    "train_features = train_data.drop(['rougher.output.recovery', 'final.output.recovery'], axis = 1)\n",
    "print('Размер целевых переменных в обучающей выборке:', train_target.shape)\n",
    "print('Размер влияющих переменных в обучающей выборке:', train_features.shape)"
   ]
  },
  {
   "cell_type": "code",
   "execution_count": 47,
   "metadata": {},
   "outputs": [
    {
     "name": "stdout",
     "output_type": "stream",
     "text": [
      "Размер целевых переменных в тестовой выборке: (5193, 2)\n",
      "Размер влияющих переменных в тестовой выборке: (5193, 23)\n"
     ]
    }
   ],
   "source": [
    "# для тестовой выборки\n",
    "test_target = test_data[['rougher.output.recovery', 'final.output.recovery']]\n",
    "test_features = test_data.drop(['rougher.output.recovery', 'final.output.recovery'], axis = 1)\n",
    "print('Размер целевых переменных в тестовой выборке:', test_target.shape)\n",
    "print('Размер влияющих переменных в тестовой выборке:', test_features.shape)"
   ]
  },
  {
   "cell_type": "markdown",
   "metadata": {},
   "source": [
    "### Обучение и выбор лучшей модели\n",
    "\n",
    "Перед нами стоит задача регрессии, поскольку целевые признаки относятся к непрерывным величинам. В качестве моделей будем использовать линейную регрессию, дерево решений и случайный лес. В качестве метрики для оценки качества будет использоваться sMAPE, будет выбрана модель с минимальным значением sMAPE.\n",
    "\n",
    "Начнём с модели **линейной регрессии**:"
   ]
  },
  {
   "cell_type": "code",
   "execution_count": 48,
   "metadata": {},
   "outputs": [
    {
     "name": "stdout",
     "output_type": "stream",
     "text": [
      "sMAPE для модели линейной регрессии: 8.25\n"
     ]
    }
   ],
   "source": [
    "linear = LinearRegression()\n",
    "linear.fit(train_features, train_target)\n",
    "predictions = linear.predict(train_features)\n",
    "print('sMAPE для модели линейной регрессии:', smape(train_target, predictions))"
   ]
  },
  {
   "cell_type": "markdown",
   "metadata": {},
   "source": [
    "Кросс-валидация с метрикой sMAPE:"
   ]
  },
  {
   "cell_type": "code",
   "execution_count": 49,
   "metadata": {},
   "outputs": [
    {
     "name": "stdout",
     "output_type": "stream",
     "text": [
      "Средняя оценка sMAPE модели линейной регрессии: 9.6\n"
     ]
    }
   ],
   "source": [
    "# сохраним метрику sMAPE в отдельную переменную\n",
    "smape_score = make_scorer(smape, greater_is_better = False)\n",
    "\n",
    "scores = cross_val_score(linear, train_features, train_target, scoring = smape_score, cv = 5)\n",
    "print('Средняя оценка sMAPE модели линейной регрессии:', round(-scores.mean(), 2))"
   ]
  },
  {
   "cell_type": "markdown",
   "metadata": {},
   "source": [
    "Модель **дерева решений**:"
   ]
  },
  {
   "cell_type": "code",
   "execution_count": 50,
   "metadata": {},
   "outputs": [
    {
     "name": "stdout",
     "output_type": "stream",
     "text": [
      "Параметры лучшего дерева решений {'max_depth': 4}\n",
      "Лучшая модель дерева решений показала sMAPE 9.47\n"
     ]
    }
   ],
   "source": [
    "tree = DecisionTreeRegressor(random_state = 1)\n",
    "parametres = {'max_depth': range (1,20)}\n",
    "grid_tree = GridSearchCV(tree, parametres, scoring = smape_score, cv=5)\n",
    "grid_tree.fit(train_features, train_target)\n",
    "print('Параметры лучшего дерева решений', grid_tree.best_params_)\n",
    "print('Лучшая модель дерева решений показала sMAPE', round(-grid_tree.best_score_, 2))"
   ]
  },
  {
   "cell_type": "markdown",
   "metadata": {},
   "source": [
    "Модель **случайного леса**:"
   ]
  },
  {
   "cell_type": "code",
   "execution_count": 51,
   "metadata": {},
   "outputs": [
    {
     "name": "stdout",
     "output_type": "stream",
     "text": [
      "Параметры лучшего случайного леса {'n_estimators': 80, 'max_depth': 4}\n",
      "Лучшая модель случайного леса показала sMAPE 9.36\n"
     ]
    }
   ],
   "source": [
    "forest = RandomForestRegressor(random_state = 1)\n",
    "params = {'max_depth': range (1, 5),\n",
    "             'n_estimators': range (10, 100, 10)}\n",
    "random_forest = RandomizedSearchCV(forest, params, random_state=1, \n",
    "                                   scoring = smape_score, cv = 5)\n",
    "random_forest.fit(train_features, train_target)\n",
    "print('Параметры лучшего случайного леса', random_forest.best_params_)\n",
    "print('Лучшая модель случайного леса показала sMAPE', round(-random_forest.best_score_, 2))"
   ]
  },
  {
   "cell_type": "markdown",
   "metadata": {},
   "source": [
    "Вычислим sMAPE для константной модели:"
   ]
  },
  {
   "cell_type": "code",
   "execution_count": 52,
   "metadata": {},
   "outputs": [
    {
     "name": "stdout",
     "output_type": "stream",
     "text": [
      "Константная модель показывает sMAPE 10.13\n"
     ]
    }
   ],
   "source": [
    "dummy_regr = DummyRegressor(strategy=\"mean\")\n",
    "dummy_regr.fit(train_features, train_target)\n",
    "dummy_predictions = dummy_regr.predict(train_features)\n",
    "dummy_smape = smape(train_target, dummy_predictions)\n",
    "print('Константная модель показывает sMAPE', dummy_smape)"
   ]
  },
  {
   "cell_type": "markdown",
   "metadata": {},
   "source": [
    "Итак, метрики моделей по возрастанию качества:\n",
    "- константная модель 10.13\n",
    "- линейная регрессия 9.6\n",
    "- дерево решений 9.47\n",
    "- случайный лес 9.36\n",
    "\n",
    "Все построенные показывают метрику sMAPE ниже, чем константная модель (однако ненамного). Лучшие результаты показывает модель случайного леса с количеством деревьев 80, макисмальной глубиной 4.\n",
    "___\n",
    "\n",
    "### Проверка на тестовой выборке"
   ]
  },
  {
   "cell_type": "code",
   "execution_count": 53,
   "metadata": {},
   "outputs": [
    {
     "name": "stdout",
     "output_type": "stream",
     "text": [
      "sMAPE лучшей модели на тестовой выборке: 6.83\n"
     ]
    }
   ],
   "source": [
    "best_model = RandomForestRegressor(random_state = 1, max_depth = random_forest.best_params_['max_depth'], \n",
    "                                  n_estimators = random_forest.best_params_['n_estimators'])\n",
    "best_model.fit(test_features, test_target)\n",
    "test_predictions = best_model.predict(test_features)\n",
    "print('sMAPE лучшей модели на тестовой выборке:', smape(test_target, test_predictions))"
   ]
  },
  {
   "cell_type": "code",
   "execution_count": 54,
   "metadata": {},
   "outputs": [
    {
     "name": "stdout",
     "output_type": "stream",
     "text": [
      "Константная модель показывает sMAPE 8.06\n"
     ]
    }
   ],
   "source": [
    "dummy_regr.fit(test_features, test_target)\n",
    "dummy_predictions = dummy_regr.predict(test_features)\n",
    "dummy_smape = smape(test_target, dummy_predictions)\n",
    "print('Константная модель показывает sMAPE', dummy_smape)"
   ]
  },
  {
   "cell_type": "markdown",
   "metadata": {},
   "source": [
    "Как видно, на тестовой выборке модель достигла показателя sMAPE меньше, чем на обучающей."
   ]
  },
  {
   "cell_type": "markdown",
   "metadata": {},
   "source": [
    "## Выводы\n",
    "\n",
    "Нашей задачей была подготовка прототипа модели машинного обучения для предсказания коэффициента восстановления золота из золотосодержащей руды в черновом и финальном концентратах.\n",
    "\n",
    "В рамках проекта обучено и оценено 3 регрессионные модели:\n",
    "- линейная регрессия\n",
    "- дерево решений\n",
    "- случайный лес\n",
    "\n",
    "Все 3 модели проверены на адекватность и могут быть использованы для прогнозирования. \n",
    "\n",
    "Для прогнозирования эффективности  восстановления золота компании рекомендуется пользоваться **моделью случайного леса с 80 деревьями и максимальной глубиной 4**: на обучающей выборке sMAPE модели равна 9.36, на тестовой - 6.83."
   ]
  }
 ],
 "metadata": {
  "ExecuteTimeLog": [
   {
    "duration": 874,
    "start_time": "2021-10-02T15:35:25.190Z"
   },
   {
    "duration": 878,
    "start_time": "2021-10-02T15:37:15.758Z"
   },
   {
    "duration": 25,
    "start_time": "2021-10-02T15:37:26.543Z"
   },
   {
    "duration": 25,
    "start_time": "2021-10-02T15:39:46.069Z"
   },
   {
    "duration": 27,
    "start_time": "2021-10-02T16:14:47.237Z"
   },
   {
    "duration": 22,
    "start_time": "2021-10-02T16:15:08.623Z"
   },
   {
    "duration": 47,
    "start_time": "2021-10-02T16:15:28.265Z"
   },
   {
    "duration": 21,
    "start_time": "2021-10-02T16:15:34.162Z"
   },
   {
    "duration": 31,
    "start_time": "2021-10-02T16:15:55.918Z"
   },
   {
    "duration": 19,
    "start_time": "2021-10-02T16:33:54.362Z"
   },
   {
    "duration": 17,
    "start_time": "2021-10-02T16:34:29.922Z"
   },
   {
    "duration": 125,
    "start_time": "2021-10-02T16:47:41.531Z"
   },
   {
    "duration": 11,
    "start_time": "2021-10-02T16:47:52.430Z"
   },
   {
    "duration": 437,
    "start_time": "2021-10-02T16:51:50.988Z"
   },
   {
    "duration": 8248,
    "start_time": "2021-10-02T16:52:06.331Z"
   },
   {
    "duration": 23,
    "start_time": "2021-10-02T16:53:00.080Z"
   },
   {
    "duration": 7,
    "start_time": "2021-10-02T16:53:42.850Z"
   },
   {
    "duration": 15,
    "start_time": "2021-10-02T16:53:44.298Z"
   },
   {
    "duration": 14,
    "start_time": "2021-10-02T16:54:05.254Z"
   },
   {
    "duration": 14,
    "start_time": "2021-10-02T16:55:37.013Z"
   },
   {
    "duration": 14,
    "start_time": "2021-10-02T16:55:48.962Z"
   },
   {
    "duration": 584,
    "start_time": "2021-10-02T17:06:38.870Z"
   },
   {
    "duration": 7,
    "start_time": "2021-10-02T17:09:13.885Z"
   },
   {
    "duration": 397,
    "start_time": "2021-10-02T17:10:26.680Z"
   },
   {
    "duration": 419,
    "start_time": "2021-10-02T17:10:38.724Z"
   },
   {
    "duration": 358,
    "start_time": "2021-10-02T17:11:06.403Z"
   },
   {
    "duration": 47,
    "start_time": "2021-10-02T17:12:44.045Z"
   },
   {
    "duration": 57,
    "start_time": "2021-10-02T17:13:38.725Z"
   },
   {
    "duration": 15,
    "start_time": "2021-10-02T17:13:52.402Z"
   },
   {
    "duration": 41,
    "start_time": "2021-10-02T17:54:20.855Z"
   },
   {
    "duration": 2168,
    "start_time": "2021-10-02T17:54:41.875Z"
   },
   {
    "duration": 50,
    "start_time": "2021-10-02T18:00:25.605Z"
   },
   {
    "duration": 9,
    "start_time": "2021-10-02T18:01:03.101Z"
   },
   {
    "duration": 61,
    "start_time": "2021-10-02T18:01:28.402Z"
   },
   {
    "duration": 20,
    "start_time": "2021-10-02T18:01:49.764Z"
   },
   {
    "duration": 16,
    "start_time": "2021-10-02T18:02:09.626Z"
   },
   {
    "duration": 26,
    "start_time": "2021-10-02T18:02:12.327Z"
   },
   {
    "duration": 9,
    "start_time": "2021-10-02T18:06:35.294Z"
   },
   {
    "duration": 7,
    "start_time": "2021-10-02T18:06:39.405Z"
   },
   {
    "duration": 4,
    "start_time": "2021-10-02T18:06:54.388Z"
   },
   {
    "duration": 907,
    "start_time": "2021-10-02T18:06:54.395Z"
   },
   {
    "duration": 32,
    "start_time": "2021-10-02T18:06:55.305Z"
   },
   {
    "duration": 49,
    "start_time": "2021-10-02T18:06:55.339Z"
   },
   {
    "duration": 24,
    "start_time": "2021-10-02T18:06:55.391Z"
   },
   {
    "duration": 16,
    "start_time": "2021-10-02T18:06:55.418Z"
   },
   {
    "duration": 35,
    "start_time": "2021-10-02T18:06:55.436Z"
   },
   {
    "duration": 32,
    "start_time": "2021-10-02T18:06:55.473Z"
   },
   {
    "duration": 6,
    "start_time": "2021-10-02T18:06:55.508Z"
   },
   {
    "duration": 17,
    "start_time": "2021-10-02T18:06:55.516Z"
   },
   {
    "duration": 46,
    "start_time": "2021-10-02T18:15:43.926Z"
   },
   {
    "duration": 25,
    "start_time": "2021-10-02T18:15:59.044Z"
   },
   {
    "duration": 10,
    "start_time": "2021-10-02T18:16:08.046Z"
   },
   {
    "duration": 24,
    "start_time": "2021-10-02T18:16:11.133Z"
   },
   {
    "duration": 128,
    "start_time": "2021-10-02T18:16:26.601Z"
   },
   {
    "duration": 23,
    "start_time": "2021-10-02T18:16:31.886Z"
   },
   {
    "duration": 4,
    "start_time": "2021-10-02T18:16:58.343Z"
   },
   {
    "duration": 893,
    "start_time": "2021-10-02T18:16:58.350Z"
   },
   {
    "duration": 39,
    "start_time": "2021-10-02T18:16:59.246Z"
   },
   {
    "duration": 27,
    "start_time": "2021-10-02T18:16:59.287Z"
   },
   {
    "duration": 24,
    "start_time": "2021-10-02T18:16:59.316Z"
   },
   {
    "duration": 36,
    "start_time": "2021-10-02T18:16:59.342Z"
   },
   {
    "duration": 7,
    "start_time": "2021-10-02T18:16:59.380Z"
   },
   {
    "duration": 25,
    "start_time": "2021-10-02T18:16:59.389Z"
   },
   {
    "duration": 5,
    "start_time": "2021-10-02T18:16:59.418Z"
   },
   {
    "duration": 54,
    "start_time": "2021-10-02T18:16:59.425Z"
   },
   {
    "duration": 25,
    "start_time": "2021-10-02T18:16:59.481Z"
   },
   {
    "duration": 155,
    "start_time": "2021-10-02T18:16:59.508Z"
   },
   {
    "duration": 23,
    "start_time": "2021-10-02T18:16:59.665Z"
   },
   {
    "duration": 8,
    "start_time": "2021-10-02T18:18:49.549Z"
   },
   {
    "duration": 4,
    "start_time": "2021-10-02T18:19:00.966Z"
   },
   {
    "duration": 841,
    "start_time": "2021-10-02T18:19:00.973Z"
   },
   {
    "duration": 32,
    "start_time": "2021-10-02T18:19:01.817Z"
   },
   {
    "duration": 34,
    "start_time": "2021-10-02T18:19:01.867Z"
   },
   {
    "duration": 31,
    "start_time": "2021-10-02T18:19:01.903Z"
   },
   {
    "duration": 31,
    "start_time": "2021-10-02T18:19:01.936Z"
   },
   {
    "duration": 8,
    "start_time": "2021-10-02T18:19:01.970Z"
   },
   {
    "duration": 54,
    "start_time": "2021-10-02T18:19:01.980Z"
   },
   {
    "duration": 14,
    "start_time": "2021-10-02T18:19:02.038Z"
   },
   {
    "duration": 41,
    "start_time": "2021-10-02T18:19:02.055Z"
   },
   {
    "duration": 40,
    "start_time": "2021-10-02T18:19:02.099Z"
   },
   {
    "duration": 4,
    "start_time": "2021-10-02T18:19:08.531Z"
   },
   {
    "duration": 870,
    "start_time": "2021-10-02T18:19:08.537Z"
   },
   {
    "duration": 30,
    "start_time": "2021-10-02T18:19:09.410Z"
   },
   {
    "duration": 41,
    "start_time": "2021-10-02T18:19:09.443Z"
   },
   {
    "duration": 22,
    "start_time": "2021-10-02T18:19:09.487Z"
   },
   {
    "duration": 16,
    "start_time": "2021-10-02T18:19:09.512Z"
   },
   {
    "duration": 37,
    "start_time": "2021-10-02T18:19:09.531Z"
   },
   {
    "duration": 23,
    "start_time": "2021-10-02T18:19:09.572Z"
   },
   {
    "duration": 5,
    "start_time": "2021-10-02T18:19:09.598Z"
   },
   {
    "duration": 21,
    "start_time": "2021-10-02T18:19:09.605Z"
   },
   {
    "duration": 53,
    "start_time": "2021-10-02T18:19:09.628Z"
   },
   {
    "duration": 8,
    "start_time": "2021-10-02T18:19:09.683Z"
   },
   {
    "duration": 9,
    "start_time": "2021-10-02T18:19:09.693Z"
   },
   {
    "duration": 14,
    "start_time": "2021-10-02T18:19:09.704Z"
   },
   {
    "duration": 9,
    "start_time": "2021-10-02T18:19:39.521Z"
   },
   {
    "duration": 7972,
    "start_time": "2021-10-02T18:20:27.639Z"
   },
   {
    "duration": 109,
    "start_time": "2021-10-02T18:20:52.811Z"
   },
   {
    "duration": 32,
    "start_time": "2021-10-02T18:21:35.286Z"
   },
   {
    "duration": 11,
    "start_time": "2021-10-02T18:21:53.300Z"
   },
   {
    "duration": 128,
    "start_time": "2021-10-02T18:22:23.731Z"
   },
   {
    "duration": 297,
    "start_time": "2021-10-02T18:22:27.725Z"
   },
   {
    "duration": 15,
    "start_time": "2021-10-02T18:22:32.193Z"
   },
   {
    "duration": 351,
    "start_time": "2021-10-02T18:29:01.650Z"
   },
   {
    "duration": 7,
    "start_time": "2021-10-02T18:47:17.086Z"
   },
   {
    "duration": 974,
    "start_time": "2021-10-02T18:47:36.962Z"
   },
   {
    "duration": 292,
    "start_time": "2021-10-02T18:48:19.433Z"
   },
   {
    "duration": 4,
    "start_time": "2021-10-02T18:49:01.359Z"
   },
   {
    "duration": 4,
    "start_time": "2021-10-02T18:49:22.524Z"
   },
   {
    "duration": 4,
    "start_time": "2021-10-02T18:49:31.675Z"
   },
   {
    "duration": 4,
    "start_time": "2021-10-02T18:49:59.143Z"
   },
   {
    "duration": 4,
    "start_time": "2021-10-02T18:50:06.506Z"
   },
   {
    "duration": 4,
    "start_time": "2021-10-02T18:50:10.019Z"
   },
   {
    "duration": 5,
    "start_time": "2021-10-02T18:50:16.364Z"
   },
   {
    "duration": 5,
    "start_time": "2021-10-02T18:50:56.686Z"
   },
   {
    "duration": 4,
    "start_time": "2021-10-02T18:50:59.956Z"
   },
   {
    "duration": 341,
    "start_time": "2021-10-02T18:52:26.534Z"
   },
   {
    "duration": 298,
    "start_time": "2021-10-02T18:52:31.025Z"
   },
   {
    "duration": 365,
    "start_time": "2021-10-02T18:52:49.969Z"
   },
   {
    "duration": 4,
    "start_time": "2021-10-02T18:53:35.000Z"
   },
   {
    "duration": 8,
    "start_time": "2021-10-02T18:53:39.163Z"
   },
   {
    "duration": 5,
    "start_time": "2021-10-02T18:54:19.715Z"
   },
   {
    "duration": 5,
    "start_time": "2021-10-02T18:54:32.350Z"
   },
   {
    "duration": 6,
    "start_time": "2021-10-02T18:54:36.615Z"
   },
   {
    "duration": 6,
    "start_time": "2021-10-02T18:54:57.685Z"
   },
   {
    "duration": 4,
    "start_time": "2021-10-02T18:56:01.214Z"
   },
   {
    "duration": 8,
    "start_time": "2021-10-02T18:56:06.468Z"
   },
   {
    "duration": 332,
    "start_time": "2021-10-02T18:57:26.335Z"
   },
   {
    "duration": 15,
    "start_time": "2021-10-02T18:57:41.651Z"
   },
   {
    "duration": 343,
    "start_time": "2021-10-02T18:58:45.612Z"
   },
   {
    "duration": 1256,
    "start_time": "2021-10-02T18:59:08.595Z"
   },
   {
    "duration": 4,
    "start_time": "2021-10-02T18:59:20.611Z"
   },
   {
    "duration": 899,
    "start_time": "2021-10-02T18:59:20.617Z"
   },
   {
    "duration": 30,
    "start_time": "2021-10-02T18:59:21.519Z"
   },
   {
    "duration": 26,
    "start_time": "2021-10-02T18:59:21.567Z"
   },
   {
    "duration": 25,
    "start_time": "2021-10-02T18:59:21.595Z"
   },
   {
    "duration": 46,
    "start_time": "2021-10-02T18:59:21.622Z"
   },
   {
    "duration": 7,
    "start_time": "2021-10-02T18:59:21.671Z"
   },
   {
    "duration": 30,
    "start_time": "2021-10-02T18:59:21.681Z"
   },
   {
    "duration": 6,
    "start_time": "2021-10-02T18:59:21.714Z"
   },
   {
    "duration": 56,
    "start_time": "2021-10-02T18:59:21.723Z"
   },
   {
    "duration": 25,
    "start_time": "2021-10-02T18:59:21.781Z"
   },
   {
    "duration": 8,
    "start_time": "2021-10-02T18:59:21.808Z"
   },
   {
    "duration": 332,
    "start_time": "2021-10-02T18:59:21.819Z"
   },
   {
    "duration": 5,
    "start_time": "2021-10-02T19:00:04.295Z"
   },
   {
    "duration": 13,
    "start_time": "2021-10-02T19:00:09.906Z"
   },
   {
    "duration": 3,
    "start_time": "2021-10-02T19:00:21.607Z"
   },
   {
    "duration": 873,
    "start_time": "2021-10-02T19:00:21.613Z"
   },
   {
    "duration": 31,
    "start_time": "2021-10-02T19:00:22.489Z"
   },
   {
    "duration": 50,
    "start_time": "2021-10-02T19:00:22.522Z"
   },
   {
    "duration": 23,
    "start_time": "2021-10-02T19:00:22.575Z"
   },
   {
    "duration": 16,
    "start_time": "2021-10-02T19:00:22.600Z"
   },
   {
    "duration": 7,
    "start_time": "2021-10-02T19:00:22.619Z"
   },
   {
    "duration": 58,
    "start_time": "2021-10-02T19:00:22.629Z"
   },
   {
    "duration": 6,
    "start_time": "2021-10-02T19:00:22.690Z"
   },
   {
    "duration": 25,
    "start_time": "2021-10-02T19:00:22.698Z"
   },
   {
    "duration": 50,
    "start_time": "2021-10-02T19:00:22.725Z"
   },
   {
    "duration": 7,
    "start_time": "2021-10-02T19:00:22.777Z"
   },
   {
    "duration": 19,
    "start_time": "2021-10-02T19:00:22.787Z"
   },
   {
    "duration": 2105,
    "start_time": "2021-10-02T19:00:43.570Z"
   },
   {
    "duration": 4,
    "start_time": "2021-10-02T19:00:48.311Z"
   },
   {
    "duration": 887,
    "start_time": "2021-10-02T19:00:48.318Z"
   },
   {
    "duration": 32,
    "start_time": "2021-10-02T19:00:49.208Z"
   },
   {
    "duration": 47,
    "start_time": "2021-10-02T19:00:49.243Z"
   },
   {
    "duration": 25,
    "start_time": "2021-10-02T19:00:49.292Z"
   },
   {
    "duration": 17,
    "start_time": "2021-10-02T19:00:49.319Z"
   },
   {
    "duration": 32,
    "start_time": "2021-10-02T19:00:49.338Z"
   },
   {
    "duration": 25,
    "start_time": "2021-10-02T19:00:49.373Z"
   },
   {
    "duration": 6,
    "start_time": "2021-10-02T19:00:49.402Z"
   },
   {
    "duration": 18,
    "start_time": "2021-10-02T19:00:49.410Z"
   },
   {
    "duration": 58,
    "start_time": "2021-10-02T19:00:49.430Z"
   },
   {
    "duration": 8,
    "start_time": "2021-10-02T19:00:49.491Z"
   },
   {
    "duration": 2125,
    "start_time": "2021-10-02T19:00:49.501Z"
   },
   {
    "duration": 4,
    "start_time": "2021-10-02T19:01:33.748Z"
   },
   {
    "duration": 4,
    "start_time": "2021-10-02T19:01:53.446Z"
   },
   {
    "duration": 5,
    "start_time": "2021-10-02T19:02:18.313Z"
   },
   {
    "duration": 3,
    "start_time": "2021-10-02T19:02:22.034Z"
   },
   {
    "duration": 986,
    "start_time": "2021-10-02T19:02:22.040Z"
   },
   {
    "duration": 41,
    "start_time": "2021-10-02T19:02:23.029Z"
   },
   {
    "duration": 26,
    "start_time": "2021-10-02T19:02:23.072Z"
   },
   {
    "duration": 24,
    "start_time": "2021-10-02T19:02:23.100Z"
   },
   {
    "duration": 48,
    "start_time": "2021-10-02T19:02:23.126Z"
   },
   {
    "duration": 7,
    "start_time": "2021-10-02T19:02:23.176Z"
   },
   {
    "duration": 22,
    "start_time": "2021-10-02T19:02:23.187Z"
   },
   {
    "duration": 6,
    "start_time": "2021-10-02T19:02:23.211Z"
   },
   {
    "duration": 52,
    "start_time": "2021-10-02T19:02:23.219Z"
   },
   {
    "duration": 25,
    "start_time": "2021-10-02T19:02:23.274Z"
   },
   {
    "duration": 6,
    "start_time": "2021-10-02T19:02:23.301Z"
   },
   {
    "duration": 6,
    "start_time": "2021-10-02T19:02:23.309Z"
   },
   {
    "duration": 7,
    "start_time": "2021-10-02T19:02:42.457Z"
   },
   {
    "duration": 4,
    "start_time": "2021-10-02T19:03:31.498Z"
   },
   {
    "duration": 7,
    "start_time": "2021-10-02T19:03:37.842Z"
   },
   {
    "duration": 7,
    "start_time": "2021-10-02T19:04:21.369Z"
   },
   {
    "duration": 7,
    "start_time": "2021-10-02T19:05:12.172Z"
   },
   {
    "duration": 8,
    "start_time": "2021-10-02T19:06:29.362Z"
   },
   {
    "duration": 8,
    "start_time": "2021-10-02T19:06:55.795Z"
   },
   {
    "duration": 305,
    "start_time": "2021-10-02T19:07:03.279Z"
   },
   {
    "duration": 292,
    "start_time": "2021-10-02T19:07:08.060Z"
   },
   {
    "duration": 7,
    "start_time": "2021-10-02T19:07:14.428Z"
   },
   {
    "duration": 308,
    "start_time": "2021-10-02T19:07:23.451Z"
   },
   {
    "duration": 329,
    "start_time": "2021-10-02T19:07:32.357Z"
   },
   {
    "duration": 7,
    "start_time": "2021-10-02T19:07:38.811Z"
   },
   {
    "duration": 14,
    "start_time": "2021-10-02T19:08:29.817Z"
   },
   {
    "duration": 138,
    "start_time": "2021-10-02T19:12:34.069Z"
   },
   {
    "duration": 6,
    "start_time": "2021-10-02T19:12:50.942Z"
   },
   {
    "duration": 7,
    "start_time": "2021-10-02T19:13:00.098Z"
   },
   {
    "duration": 9,
    "start_time": "2021-10-02T19:13:44.229Z"
   },
   {
    "duration": 7,
    "start_time": "2021-10-02T19:13:55.770Z"
   },
   {
    "duration": 6,
    "start_time": "2021-10-02T19:14:04.147Z"
   },
   {
    "duration": 5,
    "start_time": "2021-10-02T19:14:26.633Z"
   },
   {
    "duration": 339,
    "start_time": "2021-10-02T19:15:18.651Z"
   },
   {
    "duration": 5,
    "start_time": "2021-10-02T19:15:28.547Z"
   },
   {
    "duration": 8,
    "start_time": "2021-10-02T19:15:34.432Z"
   },
   {
    "duration": 355,
    "start_time": "2021-10-02T19:16:00.432Z"
   },
   {
    "duration": 335,
    "start_time": "2021-10-02T19:16:11.488Z"
   },
   {
    "duration": 317,
    "start_time": "2021-10-02T19:17:19.149Z"
   },
   {
    "duration": 8,
    "start_time": "2021-10-02T19:17:39.873Z"
   },
   {
    "duration": 343,
    "start_time": "2021-10-02T19:17:56.047Z"
   },
   {
    "duration": 4,
    "start_time": "2021-10-02T19:17:58.991Z"
   },
   {
    "duration": 817,
    "start_time": "2021-10-02T19:17:58.999Z"
   },
   {
    "duration": 35,
    "start_time": "2021-10-02T19:17:59.819Z"
   },
   {
    "duration": 26,
    "start_time": "2021-10-02T19:17:59.867Z"
   },
   {
    "duration": 24,
    "start_time": "2021-10-02T19:17:59.896Z"
   },
   {
    "duration": 45,
    "start_time": "2021-10-02T19:17:59.923Z"
   },
   {
    "duration": 8,
    "start_time": "2021-10-02T19:17:59.971Z"
   },
   {
    "duration": 28,
    "start_time": "2021-10-02T19:17:59.982Z"
   },
   {
    "duration": 6,
    "start_time": "2021-10-02T19:18:00.013Z"
   },
   {
    "duration": 47,
    "start_time": "2021-10-02T19:18:00.022Z"
   },
   {
    "duration": 29,
    "start_time": "2021-10-02T19:18:00.071Z"
   },
   {
    "duration": 8,
    "start_time": "2021-10-02T19:18:00.103Z"
   },
   {
    "duration": 9,
    "start_time": "2021-10-02T19:18:00.113Z"
   },
   {
    "duration": 594,
    "start_time": "2021-10-02T19:18:00.125Z"
   },
   {
    "duration": 13,
    "start_time": "2021-10-02T19:18:23.486Z"
   },
   {
    "duration": 7,
    "start_time": "2021-10-02T19:19:13.700Z"
   },
   {
    "duration": 13,
    "start_time": "2021-10-02T19:19:17.071Z"
   },
   {
    "duration": 33,
    "start_time": "2021-10-02T19:19:20.575Z"
   },
   {
    "duration": 70,
    "start_time": "2021-10-02T19:19:27.808Z"
   },
   {
    "duration": 49,
    "start_time": "2021-10-02T19:19:41.834Z"
   },
   {
    "duration": 69,
    "start_time": "2021-10-02T19:19:57.584Z"
   },
   {
    "duration": 42,
    "start_time": "2021-10-02T19:20:06.561Z"
   },
   {
    "duration": 45,
    "start_time": "2021-10-02T19:20:47.518Z"
   },
   {
    "duration": 381,
    "start_time": "2021-10-02T19:22:07.121Z"
   },
   {
    "duration": 4,
    "start_time": "2021-10-02T19:22:36.570Z"
   },
   {
    "duration": 886,
    "start_time": "2021-10-02T19:22:36.577Z"
   },
   {
    "duration": 31,
    "start_time": "2021-10-02T19:22:37.466Z"
   },
   {
    "duration": 26,
    "start_time": "2021-10-02T19:22:37.500Z"
   },
   {
    "duration": 53,
    "start_time": "2021-10-02T19:22:37.528Z"
   },
   {
    "duration": 17,
    "start_time": "2021-10-02T19:22:37.583Z"
   },
   {
    "duration": 7,
    "start_time": "2021-10-02T19:22:37.602Z"
   },
   {
    "duration": 57,
    "start_time": "2021-10-02T19:22:37.612Z"
   },
   {
    "duration": 6,
    "start_time": "2021-10-02T19:22:37.673Z"
   },
   {
    "duration": 17,
    "start_time": "2021-10-02T19:22:37.681Z"
   },
   {
    "duration": 25,
    "start_time": "2021-10-02T19:22:37.701Z"
   },
   {
    "duration": 45,
    "start_time": "2021-10-02T19:22:37.729Z"
   },
   {
    "duration": 340,
    "start_time": "2021-10-02T19:22:37.776Z"
   },
   {
    "duration": -71,
    "start_time": "2021-10-02T19:22:38.190Z"
   },
   {
    "duration": 71,
    "start_time": "2021-10-02T19:22:45.600Z"
   },
   {
    "duration": 45,
    "start_time": "2021-10-02T19:22:55.817Z"
   },
   {
    "duration": 32,
    "start_time": "2021-10-02T19:23:13.253Z"
   },
   {
    "duration": 29,
    "start_time": "2021-10-02T19:23:17.473Z"
   },
   {
    "duration": 39,
    "start_time": "2021-10-02T19:23:35.841Z"
   },
   {
    "duration": 30,
    "start_time": "2021-10-02T19:24:05.055Z"
   },
   {
    "duration": 5,
    "start_time": "2021-10-02T19:26:22.267Z"
   },
   {
    "duration": 5,
    "start_time": "2021-10-02T19:29:31.502Z"
   },
   {
    "duration": 5,
    "start_time": "2021-10-02T19:30:02.210Z"
   },
   {
    "duration": 893,
    "start_time": "2021-10-02T19:30:02.218Z"
   },
   {
    "duration": 34,
    "start_time": "2021-10-02T19:30:03.114Z"
   },
   {
    "duration": 42,
    "start_time": "2021-10-02T19:30:03.151Z"
   },
   {
    "duration": 25,
    "start_time": "2021-10-02T19:30:03.196Z"
   },
   {
    "duration": 57,
    "start_time": "2021-10-02T19:30:03.224Z"
   },
   {
    "duration": 10,
    "start_time": "2021-10-02T19:30:03.284Z"
   },
   {
    "duration": 26,
    "start_time": "2021-10-02T19:30:03.297Z"
   },
   {
    "duration": 41,
    "start_time": "2021-10-02T19:30:03.329Z"
   },
   {
    "duration": 21,
    "start_time": "2021-10-02T19:30:03.373Z"
   },
   {
    "duration": 29,
    "start_time": "2021-10-02T19:30:03.396Z"
   },
   {
    "duration": 6,
    "start_time": "2021-10-02T19:30:03.428Z"
   },
   {
    "duration": 37,
    "start_time": "2021-10-02T19:30:03.468Z"
   },
   {
    "duration": 32,
    "start_time": "2021-10-02T19:30:03.508Z"
   },
   {
    "duration": 857,
    "start_time": "2021-10-03T17:11:11.350Z"
   },
   {
    "duration": 1500,
    "start_time": "2021-10-03T17:11:17.784Z"
   },
   {
    "duration": 933,
    "start_time": "2021-10-03T17:11:19.287Z"
   },
   {
    "duration": 43,
    "start_time": "2021-10-03T17:11:20.223Z"
   },
   {
    "duration": 26,
    "start_time": "2021-10-03T17:11:20.269Z"
   },
   {
    "duration": 25,
    "start_time": "2021-10-03T17:11:20.298Z"
   },
   {
    "duration": 49,
    "start_time": "2021-10-03T17:11:20.325Z"
   },
   {
    "duration": 14,
    "start_time": "2021-10-03T17:11:20.376Z"
   },
   {
    "duration": 23,
    "start_time": "2021-10-03T17:11:20.394Z"
   },
   {
    "duration": 7,
    "start_time": "2021-10-03T17:11:20.420Z"
   },
   {
    "duration": 47,
    "start_time": "2021-10-03T17:11:20.430Z"
   },
   {
    "duration": 24,
    "start_time": "2021-10-03T17:11:20.480Z"
   },
   {
    "duration": 6,
    "start_time": "2021-10-03T17:11:20.507Z"
   },
   {
    "duration": 82,
    "start_time": "2021-10-03T17:11:20.516Z"
   },
   {
    "duration": 31,
    "start_time": "2021-10-03T17:11:20.601Z"
   },
   {
    "duration": 43,
    "start_time": "2021-10-03T17:11:20.635Z"
   },
   {
    "duration": 12,
    "start_time": "2021-10-03T17:11:38.839Z"
   },
   {
    "duration": 19,
    "start_time": "2021-10-03T17:11:49.769Z"
   },
   {
    "duration": 154,
    "start_time": "2021-10-03T17:13:53.578Z"
   },
   {
    "duration": 183,
    "start_time": "2021-10-03T17:14:23.952Z"
   },
   {
    "duration": 37,
    "start_time": "2021-10-03T17:14:30.899Z"
   },
   {
    "duration": 7,
    "start_time": "2021-10-03T17:15:28.106Z"
   },
   {
    "duration": 12,
    "start_time": "2021-10-03T17:15:35.746Z"
   },
   {
    "duration": 11,
    "start_time": "2021-10-03T17:16:04.723Z"
   },
   {
    "duration": 12,
    "start_time": "2021-10-03T17:20:55.915Z"
   },
   {
    "duration": 11,
    "start_time": "2021-10-03T17:22:46.601Z"
   },
   {
    "duration": 12,
    "start_time": "2021-10-03T17:24:25.494Z"
   },
   {
    "duration": 12,
    "start_time": "2021-10-03T17:24:39.798Z"
   },
   {
    "duration": 7,
    "start_time": "2021-10-03T17:26:17.536Z"
   },
   {
    "duration": 429,
    "start_time": "2021-10-03T17:28:06.652Z"
   },
   {
    "duration": 475,
    "start_time": "2021-10-03T17:28:28.376Z"
   },
   {
    "duration": 6,
    "start_time": "2021-10-03T17:28:52.987Z"
   },
   {
    "duration": 11,
    "start_time": "2021-10-03T17:28:58.855Z"
   },
   {
    "duration": 11,
    "start_time": "2021-10-03T17:29:48.628Z"
   },
   {
    "duration": 372,
    "start_time": "2021-10-03T17:30:07.116Z"
   },
   {
    "duration": 364,
    "start_time": "2021-10-03T17:30:15.652Z"
   },
   {
    "duration": 379,
    "start_time": "2021-10-03T17:30:19.156Z"
   },
   {
    "duration": 420,
    "start_time": "2021-10-03T17:30:28.643Z"
   },
   {
    "duration": 11,
    "start_time": "2021-10-03T17:30:41.287Z"
   },
   {
    "duration": 11,
    "start_time": "2021-10-03T17:30:53.657Z"
   },
   {
    "duration": 11,
    "start_time": "2021-10-03T17:32:51.469Z"
   },
   {
    "duration": 13,
    "start_time": "2021-10-03T17:33:04.260Z"
   },
   {
    "duration": 14,
    "start_time": "2021-10-03T17:34:25.042Z"
   },
   {
    "duration": 14,
    "start_time": "2021-10-03T17:35:13.813Z"
   },
   {
    "duration": 15,
    "start_time": "2021-10-03T17:35:40.598Z"
   },
   {
    "duration": 14,
    "start_time": "2021-10-03T17:35:49.962Z"
   },
   {
    "duration": 14,
    "start_time": "2021-10-03T17:37:07.226Z"
   },
   {
    "duration": 14,
    "start_time": "2021-10-03T17:37:14.071Z"
   },
   {
    "duration": 15,
    "start_time": "2021-10-03T17:38:13.359Z"
   },
   {
    "duration": 15,
    "start_time": "2021-10-03T17:38:18.175Z"
   },
   {
    "duration": 15,
    "start_time": "2021-10-03T17:38:23.092Z"
   },
   {
    "duration": 654,
    "start_time": "2021-10-03T17:45:27.538Z"
   },
   {
    "duration": 395,
    "start_time": "2021-10-03T17:45:54.735Z"
   },
   {
    "duration": 406,
    "start_time": "2021-10-03T17:45:59.718Z"
   },
   {
    "duration": 399,
    "start_time": "2021-10-03T17:47:48.704Z"
   },
   {
    "duration": 527,
    "start_time": "2021-10-03T17:49:00.916Z"
   },
   {
    "duration": 707,
    "start_time": "2021-10-03T17:49:31.108Z"
   },
   {
    "duration": 638,
    "start_time": "2021-10-03T17:51:26.780Z"
   },
   {
    "duration": 740,
    "start_time": "2021-10-03T17:51:36.829Z"
   },
   {
    "duration": 727,
    "start_time": "2021-10-03T17:51:44.362Z"
   },
   {
    "duration": 705,
    "start_time": "2021-10-03T17:52:31.961Z"
   },
   {
    "duration": 684,
    "start_time": "2021-10-03T17:53:53.809Z"
   },
   {
    "duration": 3322,
    "start_time": "2021-10-03T17:55:59.509Z"
   },
   {
    "duration": 3071,
    "start_time": "2021-10-03T17:56:15.501Z"
   },
   {
    "duration": 3077,
    "start_time": "2021-10-03T17:56:36.443Z"
   },
   {
    "duration": 3111,
    "start_time": "2021-10-03T17:57:42.482Z"
   },
   {
    "duration": 3164,
    "start_time": "2021-10-03T17:58:20.722Z"
   },
   {
    "duration": 15,
    "start_time": "2021-10-03T18:19:28.701Z"
   },
   {
    "duration": 16,
    "start_time": "2021-10-03T18:19:41.477Z"
   },
   {
    "duration": 15,
    "start_time": "2021-10-03T18:20:44.162Z"
   },
   {
    "duration": 1050,
    "start_time": "2021-10-03T18:31:07.835Z"
   },
   {
    "duration": 1121,
    "start_time": "2021-10-03T18:31:31.120Z"
   },
   {
    "duration": 990,
    "start_time": "2021-10-03T18:31:37.503Z"
   },
   {
    "duration": 1085,
    "start_time": "2021-10-03T18:31:53.058Z"
   },
   {
    "duration": 1010,
    "start_time": "2021-10-03T18:32:25.211Z"
   },
   {
    "duration": 11,
    "start_time": "2021-10-03T18:32:54.263Z"
   },
   {
    "duration": 11,
    "start_time": "2021-10-03T18:33:14.440Z"
   },
   {
    "duration": 1075,
    "start_time": "2021-10-03T18:34:54.255Z"
   },
   {
    "duration": 1226,
    "start_time": "2021-10-03T18:35:55.048Z"
   },
   {
    "duration": 8,
    "start_time": "2021-10-03T18:46:58.759Z"
   },
   {
    "duration": 344,
    "start_time": "2021-10-03T18:50:36.738Z"
   },
   {
    "duration": 4,
    "start_time": "2021-10-03T18:51:23.447Z"
   },
   {
    "duration": 12,
    "start_time": "2021-10-03T18:51:28.987Z"
   },
   {
    "duration": 11,
    "start_time": "2021-10-03T18:51:53.941Z"
   },
   {
    "duration": 14,
    "start_time": "2021-10-03T18:52:01.529Z"
   },
   {
    "duration": 12,
    "start_time": "2021-10-03T18:54:57.813Z"
   },
   {
    "duration": 11,
    "start_time": "2021-10-03T18:55:08.359Z"
   },
   {
    "duration": 10,
    "start_time": "2021-10-03T18:55:18.585Z"
   },
   {
    "duration": 353,
    "start_time": "2021-10-03T19:00:46.248Z"
   },
   {
    "duration": 417,
    "start_time": "2021-10-03T19:00:53.093Z"
   },
   {
    "duration": 11,
    "start_time": "2021-10-03T19:01:12.729Z"
   },
   {
    "duration": 974,
    "start_time": "2021-10-03T19:01:51.560Z"
   },
   {
    "duration": 12,
    "start_time": "2021-10-03T19:02:12.020Z"
   },
   {
    "duration": 13,
    "start_time": "2021-10-03T19:03:37.991Z"
   },
   {
    "duration": 15,
    "start_time": "2021-10-03T19:03:44.311Z"
   },
   {
    "duration": 12,
    "start_time": "2021-10-03T19:03:51.384Z"
   },
   {
    "duration": 12,
    "start_time": "2021-10-03T19:04:51.803Z"
   },
   {
    "duration": 11,
    "start_time": "2021-10-03T19:05:32.363Z"
   },
   {
    "duration": 10,
    "start_time": "2021-10-03T19:05:48.644Z"
   },
   {
    "duration": 386,
    "start_time": "2021-10-03T19:05:59.546Z"
   },
   {
    "duration": 10,
    "start_time": "2021-10-03T19:06:08.612Z"
   },
   {
    "duration": 12,
    "start_time": "2021-10-03T19:07:33.535Z"
   },
   {
    "duration": 10,
    "start_time": "2021-10-03T19:08:00.577Z"
   },
   {
    "duration": 11,
    "start_time": "2021-10-03T19:08:17.627Z"
   },
   {
    "duration": 16,
    "start_time": "2021-10-03T19:15:21.486Z"
   },
   {
    "duration": 16,
    "start_time": "2021-10-03T19:15:47.018Z"
   },
   {
    "duration": 617,
    "start_time": "2021-10-03T19:19:21.474Z"
   },
   {
    "duration": 12,
    "start_time": "2021-10-03T19:19:38.533Z"
   },
   {
    "duration": 1496,
    "start_time": "2021-10-04T04:13:59.698Z"
   },
   {
    "duration": 1017,
    "start_time": "2021-10-04T04:14:01.197Z"
   },
   {
    "duration": 50,
    "start_time": "2021-10-04T04:14:02.217Z"
   },
   {
    "duration": 27,
    "start_time": "2021-10-04T04:14:02.270Z"
   },
   {
    "duration": 24,
    "start_time": "2021-10-04T04:14:02.300Z"
   },
   {
    "duration": 49,
    "start_time": "2021-10-04T04:14:02.327Z"
   },
   {
    "duration": 11,
    "start_time": "2021-10-04T04:14:02.378Z"
   },
   {
    "duration": 26,
    "start_time": "2021-10-04T04:14:02.394Z"
   },
   {
    "duration": 6,
    "start_time": "2021-10-04T04:14:02.423Z"
   },
   {
    "duration": 48,
    "start_time": "2021-10-04T04:14:02.432Z"
   },
   {
    "duration": 26,
    "start_time": "2021-10-04T04:14:02.483Z"
   },
   {
    "duration": 5,
    "start_time": "2021-10-04T04:14:02.512Z"
   },
   {
    "duration": 75,
    "start_time": "2021-10-04T04:14:02.520Z"
   },
   {
    "duration": 31,
    "start_time": "2021-10-04T04:14:02.597Z"
   },
   {
    "duration": 171,
    "start_time": "2021-10-04T04:14:02.631Z"
   },
   {
    "duration": 199,
    "start_time": "2021-10-04T04:14:02.805Z"
   },
   {
    "duration": 37,
    "start_time": "2021-10-04T04:14:03.007Z"
   },
   {
    "duration": 30,
    "start_time": "2021-10-04T04:14:03.047Z"
   },
   {
    "duration": 3249,
    "start_time": "2021-10-04T04:14:03.080Z"
   },
   {
    "duration": 16,
    "start_time": "2021-10-04T04:14:06.333Z"
   },
   {
    "duration": 3125,
    "start_time": "2021-10-04T04:14:06.369Z"
   },
   {
    "duration": 17,
    "start_time": "2021-10-04T04:14:09.497Z"
   },
   {
    "duration": 3190,
    "start_time": "2021-10-04T04:14:09.520Z"
   },
   {
    "duration": 1039,
    "start_time": "2021-10-04T04:14:12.714Z"
   },
   {
    "duration": 21,
    "start_time": "2021-10-04T04:14:13.756Z"
   },
   {
    "duration": 1007,
    "start_time": "2021-10-04T04:14:13.780Z"
   },
   {
    "duration": 13,
    "start_time": "2021-10-04T04:14:14.791Z"
   },
   {
    "duration": 16,
    "start_time": "2021-10-04T04:14:14.806Z"
   },
   {
    "duration": 6,
    "start_time": "2021-10-04T04:18:23.947Z"
   },
   {
    "duration": 9,
    "start_time": "2021-10-04T04:18:33.313Z"
   },
   {
    "duration": 100,
    "start_time": "2021-10-04T04:20:13.659Z"
   },
   {
    "duration": 9,
    "start_time": "2021-10-04T04:20:28.209Z"
   },
   {
    "duration": 14,
    "start_time": "2021-10-04T04:21:03.286Z"
   },
   {
    "duration": 18,
    "start_time": "2021-10-04T04:22:06.970Z"
   },
   {
    "duration": 463,
    "start_time": "2021-10-04T04:22:48.071Z"
   },
   {
    "duration": 34,
    "start_time": "2021-10-04T04:23:24.066Z"
   },
   {
    "duration": 17,
    "start_time": "2021-10-04T04:25:05.149Z"
   },
   {
    "duration": 3305,
    "start_time": "2021-10-04T04:29:19.149Z"
   },
   {
    "duration": 54,
    "start_time": "2021-10-04T04:29:50.561Z"
   },
   {
    "duration": 18,
    "start_time": "2021-10-04T04:30:10.145Z"
   },
   {
    "duration": 42,
    "start_time": "2021-10-04T04:33:46.075Z"
   },
   {
    "duration": 1054,
    "start_time": "2021-10-04T04:36:18.113Z"
   },
   {
    "duration": 1007,
    "start_time": "2021-10-04T04:36:28.436Z"
   },
   {
    "duration": 1041,
    "start_time": "2021-10-04T04:37:36.840Z"
   },
   {
    "duration": 1267,
    "start_time": "2021-10-04T04:38:26.281Z"
   },
   {
    "duration": 1191,
    "start_time": "2021-10-04T04:38:50.209Z"
   },
   {
    "duration": 1370,
    "start_time": "2021-10-04T04:39:15.493Z"
   },
   {
    "duration": 1283,
    "start_time": "2021-10-04T04:41:22.898Z"
   },
   {
    "duration": 1266,
    "start_time": "2021-10-04T04:41:36.814Z"
   },
   {
    "duration": 1264,
    "start_time": "2021-10-04T04:44:21.649Z"
   },
   {
    "duration": 1233,
    "start_time": "2021-10-04T05:00:25.654Z"
   },
   {
    "duration": 1597,
    "start_time": "2021-10-04T05:00:36.584Z"
   },
   {
    "duration": 1255,
    "start_time": "2021-10-04T05:00:57.195Z"
   },
   {
    "duration": 1265,
    "start_time": "2021-10-04T05:01:32.097Z"
   },
   {
    "duration": 985,
    "start_time": "2021-10-04T05:02:43.597Z"
   },
   {
    "duration": 1377,
    "start_time": "2021-10-04T05:03:00.592Z"
   },
   {
    "duration": 1540,
    "start_time": "2021-10-04T05:03:11.158Z"
   },
   {
    "duration": 1326,
    "start_time": "2021-10-04T05:03:35.006Z"
   },
   {
    "duration": 1227,
    "start_time": "2021-10-04T05:03:45.868Z"
   },
   {
    "duration": 1015,
    "start_time": "2021-10-04T05:04:07.785Z"
   },
   {
    "duration": 1785,
    "start_time": "2021-10-04T05:06:29.182Z"
   },
   {
    "duration": 1409,
    "start_time": "2021-10-04T05:06:34.818Z"
   },
   {
    "duration": 1326,
    "start_time": "2021-10-04T05:06:56.705Z"
   },
   {
    "duration": 1248,
    "start_time": "2021-10-04T05:07:11.910Z"
   },
   {
    "duration": 1267,
    "start_time": "2021-10-04T05:08:14.241Z"
   },
   {
    "duration": 1240,
    "start_time": "2021-10-04T05:08:25.594Z"
   },
   {
    "duration": 1342,
    "start_time": "2021-10-04T05:08:37.965Z"
   },
   {
    "duration": 742,
    "start_time": "2021-10-04T05:14:32.603Z"
   },
   {
    "duration": 869,
    "start_time": "2021-10-04T05:17:01.282Z"
   },
   {
    "duration": 730,
    "start_time": "2021-10-04T05:17:29.597Z"
   },
   {
    "duration": 1032,
    "start_time": "2021-10-04T05:17:48.395Z"
   },
   {
    "duration": 1132,
    "start_time": "2021-10-04T05:18:23.091Z"
   },
   {
    "duration": 1068,
    "start_time": "2021-10-04T05:18:31.664Z"
   },
   {
    "duration": 1570,
    "start_time": "2021-10-04T05:18:43.557Z"
   },
   {
    "duration": 5389,
    "start_time": "2021-10-04T05:21:38.655Z"
   },
   {
    "duration": 245,
    "start_time": "2021-10-04T05:25:40.163Z"
   },
   {
    "duration": 236,
    "start_time": "2021-10-04T05:26:08.777Z"
   },
   {
    "duration": 919,
    "start_time": "2021-10-04T05:30:40.635Z"
   },
   {
    "duration": 1191,
    "start_time": "2021-10-04T05:31:08.700Z"
   },
   {
    "duration": 839,
    "start_time": "2021-10-04T05:31:16.994Z"
   },
   {
    "duration": 907,
    "start_time": "2021-10-04T05:31:22.485Z"
   },
   {
    "duration": 63954,
    "start_time": "2021-10-04T05:32:02.136Z"
   },
   {
    "duration": 797,
    "start_time": "2021-10-04T05:34:10.059Z"
   },
   {
    "duration": 755,
    "start_time": "2021-10-04T05:34:31.004Z"
   },
   {
    "duration": 782,
    "start_time": "2021-10-04T05:35:21.868Z"
   },
   {
    "duration": 871,
    "start_time": "2021-10-04T05:35:35.745Z"
   },
   {
    "duration": 781,
    "start_time": "2021-10-04T05:35:45.698Z"
   },
   {
    "duration": 783,
    "start_time": "2021-10-04T05:37:08.201Z"
   },
   {
    "duration": 1168,
    "start_time": "2021-10-04T05:37:25.188Z"
   },
   {
    "duration": 1143,
    "start_time": "2021-10-04T05:37:43.869Z"
   },
   {
    "duration": 1181,
    "start_time": "2021-10-04T05:37:54.288Z"
   },
   {
    "duration": 1170,
    "start_time": "2021-10-04T05:38:09.720Z"
   },
   {
    "duration": 1208,
    "start_time": "2021-10-04T05:39:30.500Z"
   },
   {
    "duration": 750,
    "start_time": "2021-10-04T05:42:28.892Z"
   },
   {
    "duration": 781,
    "start_time": "2021-10-04T05:42:35.488Z"
   },
   {
    "duration": 295,
    "start_time": "2021-10-04T05:43:27.048Z"
   },
   {
    "duration": 285,
    "start_time": "2021-10-04T05:43:40.970Z"
   },
   {
    "duration": 311,
    "start_time": "2021-10-04T05:44:33.037Z"
   },
   {
    "duration": 337,
    "start_time": "2021-10-04T05:44:53.123Z"
   },
   {
    "duration": 307,
    "start_time": "2021-10-04T05:46:10.737Z"
   },
   {
    "duration": 294,
    "start_time": "2021-10-04T05:46:15.695Z"
   },
   {
    "duration": 299,
    "start_time": "2021-10-04T05:46:23.274Z"
   },
   {
    "duration": 313,
    "start_time": "2021-10-04T05:47:32.901Z"
   },
   {
    "duration": 611,
    "start_time": "2021-10-04T05:47:51.665Z"
   },
   {
    "duration": 324,
    "start_time": "2021-10-04T05:48:50.912Z"
   },
   {
    "duration": 316,
    "start_time": "2021-10-04T05:48:55.343Z"
   },
   {
    "duration": 327,
    "start_time": "2021-10-04T05:49:03.208Z"
   },
   {
    "duration": 469,
    "start_time": "2021-10-04T05:49:52.514Z"
   },
   {
    "duration": 606,
    "start_time": "2021-10-04T05:50:02.767Z"
   },
   {
    "duration": 893,
    "start_time": "2021-10-04T05:50:44.089Z"
   },
   {
    "duration": 1207,
    "start_time": "2021-10-04T05:51:03.714Z"
   },
   {
    "duration": 898,
    "start_time": "2021-10-04T05:51:10.505Z"
   },
   {
    "duration": 2110,
    "start_time": "2021-10-04T05:51:23.122Z"
   },
   {
    "duration": 7846,
    "start_time": "2021-10-04T05:52:12.888Z"
   },
   {
    "duration": 8467,
    "start_time": "2021-10-04T05:52:25.202Z"
   },
   {
    "duration": 708,
    "start_time": "2021-10-04T05:52:49.928Z"
   },
   {
    "duration": 1523,
    "start_time": "2021-10-04T05:53:53.357Z"
   },
   {
    "duration": 1719,
    "start_time": "2021-10-04T05:54:27.304Z"
   },
   {
    "duration": 1647,
    "start_time": "2021-10-04T05:54:34.382Z"
   },
   {
    "duration": 1729,
    "start_time": "2021-10-04T05:55:23.349Z"
   },
   {
    "duration": 1925,
    "start_time": "2021-10-04T05:56:25.244Z"
   },
   {
    "duration": 1647,
    "start_time": "2021-10-04T05:57:27.095Z"
   },
   {
    "duration": 105,
    "start_time": "2021-10-04T05:59:13.276Z"
   },
   {
    "duration": 1658,
    "start_time": "2021-10-04T06:00:13.899Z"
   },
   {
    "duration": 2142,
    "start_time": "2021-10-04T06:00:48.042Z"
   },
   {
    "duration": 1659,
    "start_time": "2021-10-04T06:00:58.241Z"
   },
   {
    "duration": 1237,
    "start_time": "2021-10-04T06:01:51.734Z"
   },
   {
    "duration": 1788,
    "start_time": "2021-10-04T06:02:10.315Z"
   },
   {
    "duration": 1691,
    "start_time": "2021-10-04T06:02:57.044Z"
   },
   {
    "duration": 905,
    "start_time": "2021-10-04T06:07:44.233Z"
   },
   {
    "duration": 911,
    "start_time": "2021-10-04T06:08:03.564Z"
   },
   {
    "duration": 596,
    "start_time": "2021-10-04T06:09:36.010Z"
   },
   {
    "duration": 311,
    "start_time": "2021-10-04T06:10:39.522Z"
   },
   {
    "duration": 328,
    "start_time": "2021-10-04T06:10:47.030Z"
   },
   {
    "duration": 775,
    "start_time": "2021-10-04T06:11:05.752Z"
   },
   {
    "duration": 617,
    "start_time": "2021-10-04T06:11:13.453Z"
   },
   {
    "duration": 90,
    "start_time": "2021-10-04T06:12:09.587Z"
   },
   {
    "duration": 348,
    "start_time": "2021-10-04T06:13:27.092Z"
   },
   {
    "duration": 347,
    "start_time": "2021-10-04T06:14:13.588Z"
   },
   {
    "duration": 662,
    "start_time": "2021-10-04T06:14:43.193Z"
   },
   {
    "duration": 677,
    "start_time": "2021-10-04T06:15:16.681Z"
   },
   {
    "duration": 662,
    "start_time": "2021-10-04T06:18:05.857Z"
   },
   {
    "duration": 645,
    "start_time": "2021-10-04T06:18:13.589Z"
   },
   {
    "duration": 8899,
    "start_time": "2021-10-04T06:23:39.315Z"
   },
   {
    "duration": 7693,
    "start_time": "2021-10-04T06:23:51.630Z"
   },
   {
    "duration": 26,
    "start_time": "2021-10-04T06:24:11.602Z"
   },
   {
    "duration": 44,
    "start_time": "2021-10-04T06:25:06.988Z"
   },
   {
    "duration": 11,
    "start_time": "2021-10-04T06:27:36.572Z"
   },
   {
    "duration": 20,
    "start_time": "2021-10-04T06:28:11.720Z"
   },
   {
    "duration": 21,
    "start_time": "2021-10-04T06:29:15.822Z"
   },
   {
    "duration": 21,
    "start_time": "2021-10-04T06:29:55.394Z"
   },
   {
    "duration": 18,
    "start_time": "2021-10-04T06:33:27.111Z"
   },
   {
    "duration": 18,
    "start_time": "2021-10-04T06:33:31.012Z"
   },
   {
    "duration": 20,
    "start_time": "2021-10-04T06:33:33.255Z"
   },
   {
    "duration": 21,
    "start_time": "2021-10-04T06:33:47.610Z"
   },
   {
    "duration": 21,
    "start_time": "2021-10-04T06:33:51.192Z"
   },
   {
    "duration": 21,
    "start_time": "2021-10-04T06:33:53.288Z"
   },
   {
    "duration": 6,
    "start_time": "2021-10-04T06:34:32.290Z"
   },
   {
    "duration": 6,
    "start_time": "2021-10-04T06:35:03.078Z"
   },
   {
    "duration": 96,
    "start_time": "2021-10-04T06:44:06.470Z"
   },
   {
    "duration": 814,
    "start_time": "2021-10-04T06:44:17.149Z"
   },
   {
    "duration": 5,
    "start_time": "2021-10-04T06:44:26.690Z"
   },
   {
    "duration": 5,
    "start_time": "2021-10-04T06:44:43.502Z"
   },
   {
    "duration": 36,
    "start_time": "2021-10-04T06:46:06.585Z"
   },
   {
    "duration": 4,
    "start_time": "2021-10-04T06:57:47.790Z"
   },
   {
    "duration": 941,
    "start_time": "2021-10-04T06:57:47.797Z"
   },
   {
    "duration": 35,
    "start_time": "2021-10-04T06:57:48.742Z"
   },
   {
    "duration": 28,
    "start_time": "2021-10-04T06:57:48.780Z"
   },
   {
    "duration": 23,
    "start_time": "2021-10-04T06:57:48.811Z"
   },
   {
    "duration": 19,
    "start_time": "2021-10-04T06:57:48.866Z"
   },
   {
    "duration": 8,
    "start_time": "2021-10-04T06:57:48.889Z"
   },
   {
    "duration": 28,
    "start_time": "2021-10-04T06:57:48.901Z"
   },
   {
    "duration": 36,
    "start_time": "2021-10-04T06:57:48.932Z"
   },
   {
    "duration": 16,
    "start_time": "2021-10-04T06:57:48.970Z"
   },
   {
    "duration": 25,
    "start_time": "2021-10-04T06:57:48.989Z"
   },
   {
    "duration": 5,
    "start_time": "2021-10-04T06:57:49.016Z"
   },
   {
    "duration": 81,
    "start_time": "2021-10-04T06:57:49.024Z"
   },
   {
    "duration": 31,
    "start_time": "2021-10-04T06:57:49.108Z"
   },
   {
    "duration": 241,
    "start_time": "2021-10-04T06:57:49.142Z"
   },
   {
    "duration": 266,
    "start_time": "2021-10-04T06:57:49.386Z"
   },
   {
    "duration": 58,
    "start_time": "2021-10-04T06:57:49.656Z"
   },
   {
    "duration": 21,
    "start_time": "2021-10-04T06:57:49.718Z"
   },
   {
    "duration": 4726,
    "start_time": "2021-10-04T06:57:49.742Z"
   },
   {
    "duration": 22,
    "start_time": "2021-10-04T06:57:54.472Z"
   },
   {
    "duration": 4189,
    "start_time": "2021-10-04T06:57:54.497Z"
   },
   {
    "duration": 14,
    "start_time": "2021-10-04T06:57:58.689Z"
   },
   {
    "duration": 3401,
    "start_time": "2021-10-04T06:57:58.708Z"
   },
   {
    "duration": 1341,
    "start_time": "2021-10-04T06:58:02.112Z"
   },
   {
    "duration": 12,
    "start_time": "2021-10-04T06:58:03.468Z"
   },
   {
    "duration": 1250,
    "start_time": "2021-10-04T06:58:03.483Z"
   },
   {
    "duration": 12,
    "start_time": "2021-10-04T06:58:04.736Z"
   },
   {
    "duration": 32,
    "start_time": "2021-10-04T06:58:04.750Z"
   },
   {
    "duration": 63,
    "start_time": "2021-10-04T06:58:04.785Z"
   },
   {
    "duration": 33,
    "start_time": "2021-10-04T06:59:09.162Z"
   },
   {
    "duration": 10812,
    "start_time": "2021-10-04T07:00:55.704Z"
   },
   {
    "duration": 4,
    "start_time": "2021-10-04T07:01:18.637Z"
   },
   {
    "duration": 906,
    "start_time": "2021-10-04T07:01:18.644Z"
   },
   {
    "duration": 42,
    "start_time": "2021-10-04T07:01:19.553Z"
   },
   {
    "duration": 27,
    "start_time": "2021-10-04T07:01:19.598Z"
   },
   {
    "duration": 49,
    "start_time": "2021-10-04T07:01:19.628Z"
   },
   {
    "duration": 17,
    "start_time": "2021-10-04T07:01:19.680Z"
   },
   {
    "duration": 9,
    "start_time": "2021-10-04T07:01:19.699Z"
   },
   {
    "duration": 57,
    "start_time": "2021-10-04T07:01:19.712Z"
   },
   {
    "duration": 7,
    "start_time": "2021-10-04T07:01:19.772Z"
   },
   {
    "duration": 23,
    "start_time": "2021-10-04T07:01:19.782Z"
   },
   {
    "duration": 25,
    "start_time": "2021-10-04T07:01:19.807Z"
   },
   {
    "duration": 34,
    "start_time": "2021-10-04T07:01:19.834Z"
   },
   {
    "duration": 40,
    "start_time": "2021-10-04T07:01:19.871Z"
   },
   {
    "duration": 58,
    "start_time": "2021-10-04T07:01:19.914Z"
   },
   {
    "duration": 169,
    "start_time": "2021-10-04T07:01:19.974Z"
   },
   {
    "duration": 196,
    "start_time": "2021-10-04T07:01:20.145Z"
   },
   {
    "duration": 50,
    "start_time": "2021-10-04T07:01:20.343Z"
   },
   {
    "duration": 14,
    "start_time": "2021-10-04T07:01:20.396Z"
   },
   {
    "duration": 3369,
    "start_time": "2021-10-04T07:01:20.412Z"
   },
   {
    "duration": 15,
    "start_time": "2021-10-04T07:01:23.783Z"
   },
   {
    "duration": 3348,
    "start_time": "2021-10-04T07:01:23.800Z"
   },
   {
    "duration": 23,
    "start_time": "2021-10-04T07:01:27.151Z"
   },
   {
    "duration": 3334,
    "start_time": "2021-10-04T07:01:27.178Z"
   },
   {
    "duration": 1201,
    "start_time": "2021-10-04T07:01:30.515Z"
   },
   {
    "duration": 12,
    "start_time": "2021-10-04T07:01:31.719Z"
   },
   {
    "duration": 1213,
    "start_time": "2021-10-04T07:01:31.734Z"
   },
   {
    "duration": 19,
    "start_time": "2021-10-04T07:01:32.951Z"
   },
   {
    "duration": 22,
    "start_time": "2021-10-04T07:01:32.972Z"
   },
   {
    "duration": 84,
    "start_time": "2021-10-04T07:01:32.997Z"
   },
   {
    "duration": 2674,
    "start_time": "2021-10-04T07:01:33.083Z"
   },
   {
    "duration": 680,
    "start_time": "2021-10-04T07:01:35.768Z"
   },
   {
    "duration": 33,
    "start_time": "2021-10-04T07:01:36.451Z"
   },
   {
    "duration": 21,
    "start_time": "2021-10-04T07:01:36.486Z"
   },
   {
    "duration": 31,
    "start_time": "2021-10-04T07:01:36.509Z"
   },
   {
    "duration": 27,
    "start_time": "2021-10-04T07:01:36.542Z"
   },
   {
    "duration": 9556,
    "start_time": "2021-10-04T07:01:36.571Z"
   },
   {
    "duration": 19,
    "start_time": "2021-10-04T07:03:53.448Z"
   },
   {
    "duration": 15,
    "start_time": "2021-10-04T07:07:21.895Z"
   },
   {
    "duration": 375,
    "start_time": "2021-10-04T07:13:21.020Z"
   },
   {
    "duration": 40,
    "start_time": "2021-10-04T07:13:34.480Z"
   },
   {
    "duration": 38,
    "start_time": "2021-10-04T07:13:52.093Z"
   },
   {
    "duration": 385,
    "start_time": "2021-10-04T07:14:33.735Z"
   },
   {
    "duration": 313,
    "start_time": "2021-10-04T07:15:28.586Z"
   },
   {
    "duration": 64,
    "start_time": "2021-10-04T07:15:35.430Z"
   },
   {
    "duration": 76,
    "start_time": "2021-10-04T07:16:19.736Z"
   },
   {
    "duration": 44,
    "start_time": "2021-10-04T07:16:43.164Z"
   },
   {
    "duration": 43,
    "start_time": "2021-10-04T07:20:42.172Z"
   },
   {
    "duration": 8228,
    "start_time": "2021-10-04T07:20:53.375Z"
   },
   {
    "duration": 43,
    "start_time": "2021-10-04T07:21:12.422Z"
   },
   {
    "duration": 6,
    "start_time": "2021-10-04T07:22:52.421Z"
   },
   {
    "duration": 305,
    "start_time": "2021-10-04T07:26:35.781Z"
   },
   {
    "duration": 1252,
    "start_time": "2021-10-04T07:26:50.574Z"
   },
   {
    "duration": 97,
    "start_time": "2021-10-04T07:26:57.056Z"
   },
   {
    "duration": 44,
    "start_time": "2021-10-04T07:27:14.457Z"
   },
   {
    "duration": 12,
    "start_time": "2021-10-04T07:27:42.235Z"
   },
   {
    "duration": 10890,
    "start_time": "2021-10-04T07:27:53.335Z"
   },
   {
    "duration": 18,
    "start_time": "2021-10-04T07:28:05.869Z"
   },
   {
    "duration": 18,
    "start_time": "2021-10-04T07:31:34.264Z"
   },
   {
    "duration": 18,
    "start_time": "2021-10-04T07:33:34.327Z"
   },
   {
    "duration": 19,
    "start_time": "2021-10-04T07:33:46.277Z"
   },
   {
    "duration": 15,
    "start_time": "2021-10-04T07:34:18.485Z"
   },
   {
    "duration": 8,
    "start_time": "2021-10-04T07:38:13.764Z"
   },
   {
    "duration": 347,
    "start_time": "2021-10-04T07:38:24.562Z"
   },
   {
    "duration": 9,
    "start_time": "2021-10-04T07:38:27.359Z"
   },
   {
    "duration": 4,
    "start_time": "2021-10-04T07:40:19.141Z"
   },
   {
    "duration": 839,
    "start_time": "2021-10-04T07:40:19.147Z"
   },
   {
    "duration": 32,
    "start_time": "2021-10-04T07:40:19.989Z"
   },
   {
    "duration": 49,
    "start_time": "2021-10-04T07:40:20.024Z"
   },
   {
    "duration": 24,
    "start_time": "2021-10-04T07:40:20.076Z"
   },
   {
    "duration": 23,
    "start_time": "2021-10-04T07:40:20.103Z"
   },
   {
    "duration": 39,
    "start_time": "2021-10-04T07:40:20.129Z"
   },
   {
    "duration": 24,
    "start_time": "2021-10-04T07:40:20.173Z"
   },
   {
    "duration": 7,
    "start_time": "2021-10-04T07:40:20.201Z"
   },
   {
    "duration": 26,
    "start_time": "2021-10-04T07:40:20.211Z"
   },
   {
    "duration": 35,
    "start_time": "2021-10-04T07:40:20.268Z"
   },
   {
    "duration": 5,
    "start_time": "2021-10-04T07:40:20.305Z"
   },
   {
    "duration": 65,
    "start_time": "2021-10-04T07:40:20.313Z"
   },
   {
    "duration": 30,
    "start_time": "2021-10-04T07:40:20.381Z"
   },
   {
    "duration": 277,
    "start_time": "2021-10-04T07:40:20.413Z"
   },
   {
    "duration": 201,
    "start_time": "2021-10-04T07:40:20.692Z"
   },
   {
    "duration": 37,
    "start_time": "2021-10-04T07:40:20.896Z"
   },
   {
    "duration": 40,
    "start_time": "2021-10-04T07:40:20.935Z"
   },
   {
    "duration": 3413,
    "start_time": "2021-10-04T07:40:20.977Z"
   },
   {
    "duration": 14,
    "start_time": "2021-10-04T07:40:24.392Z"
   },
   {
    "duration": 3362,
    "start_time": "2021-10-04T07:40:24.409Z"
   },
   {
    "duration": 15,
    "start_time": "2021-10-04T07:40:27.773Z"
   },
   {
    "duration": 3518,
    "start_time": "2021-10-04T07:40:27.795Z"
   },
   {
    "duration": 1251,
    "start_time": "2021-10-04T07:40:31.316Z"
   },
   {
    "duration": 13,
    "start_time": "2021-10-04T07:40:32.569Z"
   },
   {
    "duration": 1256,
    "start_time": "2021-10-04T07:40:32.584Z"
   },
   {
    "duration": 28,
    "start_time": "2021-10-04T07:40:33.842Z"
   },
   {
    "duration": 16,
    "start_time": "2021-10-04T07:40:33.873Z"
   },
   {
    "duration": 79,
    "start_time": "2021-10-04T07:40:33.892Z"
   },
   {
    "duration": 2473,
    "start_time": "2021-10-04T07:40:33.973Z"
   },
   {
    "duration": 677,
    "start_time": "2021-10-04T07:40:36.449Z"
   },
   {
    "duration": 39,
    "start_time": "2021-10-04T07:40:37.128Z"
   },
   {
    "duration": 21,
    "start_time": "2021-10-04T07:40:37.169Z"
   },
   {
    "duration": 22,
    "start_time": "2021-10-04T07:40:37.192Z"
   },
   {
    "duration": 5,
    "start_time": "2021-10-04T07:40:37.217Z"
   },
   {
    "duration": 56,
    "start_time": "2021-10-04T07:40:37.225Z"
   },
   {
    "duration": 18,
    "start_time": "2021-10-04T07:40:37.284Z"
   },
   {
    "duration": 12,
    "start_time": "2021-10-04T07:40:37.304Z"
   },
   {
    "duration": 54,
    "start_time": "2021-10-04T07:40:37.318Z"
   },
   {
    "duration": 8,
    "start_time": "2021-10-04T07:42:42.089Z"
   },
   {
    "duration": 5,
    "start_time": "2021-10-04T08:00:40.758Z"
   },
   {
    "duration": 5,
    "start_time": "2021-10-04T08:04:41.126Z"
   },
   {
    "duration": 6,
    "start_time": "2021-10-04T08:09:03.711Z"
   },
   {
    "duration": 15,
    "start_time": "2021-10-04T08:18:42.020Z"
   },
   {
    "duration": 335,
    "start_time": "2021-10-04T08:19:12.996Z"
   },
   {
    "duration": 342,
    "start_time": "2021-10-04T08:19:38.647Z"
   },
   {
    "duration": 426,
    "start_time": "2021-10-04T08:19:47.141Z"
   },
   {
    "duration": 95,
    "start_time": "2021-10-04T08:19:54.275Z"
   },
   {
    "duration": 341,
    "start_time": "2021-10-04T08:20:24.374Z"
   },
   {
    "duration": 321,
    "start_time": "2021-10-04T08:20:52.536Z"
   },
   {
    "duration": 9,
    "start_time": "2021-10-04T08:21:03.003Z"
   },
   {
    "duration": 501,
    "start_time": "2021-10-04T08:21:27.846Z"
   },
   {
    "duration": 11,
    "start_time": "2021-10-04T08:21:33.314Z"
   },
   {
    "duration": 10,
    "start_time": "2021-10-04T08:21:49.061Z"
   },
   {
    "duration": 14,
    "start_time": "2021-10-04T08:22:31.175Z"
   },
   {
    "duration": 10,
    "start_time": "2021-10-04T08:23:33.484Z"
   },
   {
    "duration": 11,
    "start_time": "2021-10-04T08:23:38.610Z"
   },
   {
    "duration": 26,
    "start_time": "2021-10-04T08:26:02.444Z"
   },
   {
    "duration": 6,
    "start_time": "2021-10-04T08:26:38.882Z"
   },
   {
    "duration": 236,
    "start_time": "2021-10-04T08:28:55.133Z"
   },
   {
    "duration": 269,
    "start_time": "2021-10-04T08:29:22.710Z"
   },
   {
    "duration": 284,
    "start_time": "2021-10-04T08:29:27.787Z"
   },
   {
    "duration": 264,
    "start_time": "2021-10-04T08:29:41.105Z"
   },
   {
    "duration": 289,
    "start_time": "2021-10-04T08:29:47.080Z"
   },
   {
    "duration": 548,
    "start_time": "2021-10-04T08:29:57.475Z"
   },
   {
    "duration": 299,
    "start_time": "2021-10-04T08:30:05.170Z"
   },
   {
    "duration": 132,
    "start_time": "2021-10-04T08:30:22.339Z"
   },
   {
    "duration": 308,
    "start_time": "2021-10-04T08:30:49.564Z"
   },
   {
    "duration": 195,
    "start_time": "2021-10-04T08:31:57.776Z"
   },
   {
    "duration": 177,
    "start_time": "2021-10-04T08:32:06.092Z"
   },
   {
    "duration": 743,
    "start_time": "2021-10-04T08:33:43.523Z"
   },
   {
    "duration": 930,
    "start_time": "2021-10-04T08:34:13.653Z"
   },
   {
    "duration": 254,
    "start_time": "2021-10-04T08:34:47.915Z"
   },
   {
    "duration": 546,
    "start_time": "2021-10-04T08:35:28.532Z"
   },
   {
    "duration": 395,
    "start_time": "2021-10-04T08:35:33.912Z"
   },
   {
    "duration": 4,
    "start_time": "2021-10-04T08:38:30.106Z"
   },
   {
    "duration": 222,
    "start_time": "2021-10-04T08:38:43.645Z"
   },
   {
    "duration": 345,
    "start_time": "2021-10-04T08:38:46.330Z"
   },
   {
    "duration": 7,
    "start_time": "2021-10-04T08:40:08.469Z"
   },
   {
    "duration": 410,
    "start_time": "2021-10-04T08:40:45.230Z"
   },
   {
    "duration": 7,
    "start_time": "2021-10-04T08:40:56.943Z"
   },
   {
    "duration": 347,
    "start_time": "2021-10-04T08:41:18.792Z"
   },
   {
    "duration": 7,
    "start_time": "2021-10-04T08:41:24.718Z"
   },
   {
    "duration": 6,
    "start_time": "2021-10-04T08:41:35.907Z"
   },
   {
    "duration": 6,
    "start_time": "2021-10-04T08:42:19.886Z"
   },
   {
    "duration": 8,
    "start_time": "2021-10-04T08:43:57.240Z"
   },
   {
    "duration": 7,
    "start_time": "2021-10-04T08:44:05.432Z"
   },
   {
    "duration": 7,
    "start_time": "2021-10-04T08:45:14.050Z"
   },
   {
    "duration": 7,
    "start_time": "2021-10-04T08:45:20.109Z"
   },
   {
    "duration": 5,
    "start_time": "2021-10-04T08:46:30.764Z"
   },
   {
    "duration": 7,
    "start_time": "2021-10-04T08:46:54.557Z"
   },
   {
    "duration": 292,
    "start_time": "2021-10-04T08:48:24.787Z"
   },
   {
    "duration": 5,
    "start_time": "2021-10-04T08:48:46.955Z"
   },
   {
    "duration": 238,
    "start_time": "2021-10-04T08:48:49.736Z"
   },
   {
    "duration": 264,
    "start_time": "2021-10-04T08:49:32.603Z"
   },
   {
    "duration": 382,
    "start_time": "2021-10-04T08:49:50.484Z"
   },
   {
    "duration": 4,
    "start_time": "2021-10-04T08:54:37.313Z"
   },
   {
    "duration": 1251,
    "start_time": "2021-10-04T08:55:58.922Z"
   },
   {
    "duration": 1488,
    "start_time": "2021-10-04T08:57:49.479Z"
   },
   {
    "duration": 306,
    "start_time": "2021-10-04T09:01:23.485Z"
   },
   {
    "duration": 5,
    "start_time": "2021-10-04T09:02:22.414Z"
   },
   {
    "duration": 1346,
    "start_time": "2021-10-04T09:04:46.124Z"
   },
   {
    "duration": 1336,
    "start_time": "2021-10-04T09:07:02.931Z"
   },
   {
    "duration": 1843,
    "start_time": "2021-10-04T09:08:17.626Z"
   },
   {
    "duration": 394,
    "start_time": "2021-10-04T09:09:26.877Z"
   },
   {
    "duration": 2173,
    "start_time": "2021-10-04T09:09:46.911Z"
   },
   {
    "duration": 1620,
    "start_time": "2021-10-04T09:10:20.051Z"
   },
   {
    "duration": 26,
    "start_time": "2021-10-04T09:20:40.891Z"
   },
   {
    "duration": 7,
    "start_time": "2021-10-04T09:22:19.020Z"
   },
   {
    "duration": 58976,
    "start_time": "2021-10-04T09:32:54.979Z"
   },
   {
    "duration": 7,
    "start_time": "2021-10-04T09:36:33.434Z"
   },
   {
    "duration": 4,
    "start_time": "2021-10-04T09:36:46.722Z"
   },
   {
    "duration": 60975,
    "start_time": "2021-10-04T09:36:53.093Z"
   },
   {
    "duration": 59141,
    "start_time": "2021-10-04T09:39:06.019Z"
   },
   {
    "duration": 7,
    "start_time": "2021-10-04T09:46:08.681Z"
   },
   {
    "duration": 6,
    "start_time": "2021-10-04T09:47:09.877Z"
   },
   {
    "duration": 6,
    "start_time": "2021-10-04T09:47:25.353Z"
   },
   {
    "duration": 370,
    "start_time": "2021-10-04T09:50:42.196Z"
   },
   {
    "duration": 1554,
    "start_time": "2021-10-04T09:50:51.326Z"
   },
   {
    "duration": 1149,
    "start_time": "2021-10-04T09:51:03.726Z"
   },
   {
    "duration": 813,
    "start_time": "2021-10-04T09:51:12.474Z"
   },
   {
    "duration": 386,
    "start_time": "2021-10-04T09:51:23.275Z"
   },
   {
    "duration": 503,
    "start_time": "2021-10-04T09:51:27.770Z"
   },
   {
    "duration": 288,
    "start_time": "2021-10-04T09:51:42.144Z"
   },
   {
    "duration": 205,
    "start_time": "2021-10-04T09:51:46.234Z"
   },
   {
    "duration": 735,
    "start_time": "2021-10-04T09:51:51.234Z"
   },
   {
    "duration": 6,
    "start_time": "2021-10-04T09:54:54.024Z"
   },
   {
    "duration": 7,
    "start_time": "2021-10-04T09:54:54.034Z"
   },
   {
    "duration": 843,
    "start_time": "2021-10-04T09:54:54.045Z"
   },
   {
    "duration": 32,
    "start_time": "2021-10-04T09:54:54.891Z"
   },
   {
    "duration": 47,
    "start_time": "2021-10-04T09:54:54.925Z"
   },
   {
    "duration": 24,
    "start_time": "2021-10-04T09:54:54.975Z"
   },
   {
    "duration": 15,
    "start_time": "2021-10-04T09:54:55.002Z"
   },
   {
    "duration": 7,
    "start_time": "2021-10-04T09:54:55.021Z"
   },
   {
    "duration": 54,
    "start_time": "2021-10-04T09:54:55.031Z"
   },
   {
    "duration": 6,
    "start_time": "2021-10-04T09:54:55.087Z"
   },
   {
    "duration": 31,
    "start_time": "2021-10-04T09:54:55.096Z"
   },
   {
    "duration": 46,
    "start_time": "2021-10-04T09:54:55.130Z"
   },
   {
    "duration": 6,
    "start_time": "2021-10-04T09:54:55.178Z"
   },
   {
    "duration": 45,
    "start_time": "2021-10-04T09:54:55.187Z"
   },
   {
    "duration": 60,
    "start_time": "2021-10-04T09:54:55.234Z"
   },
   {
    "duration": 175,
    "start_time": "2021-10-04T09:54:55.296Z"
   },
   {
    "duration": 204,
    "start_time": "2021-10-04T09:54:55.474Z"
   },
   {
    "duration": 39,
    "start_time": "2021-10-04T09:54:55.681Z"
   },
   {
    "duration": 15,
    "start_time": "2021-10-04T09:54:55.723Z"
   },
   {
    "duration": 3395,
    "start_time": "2021-10-04T09:54:55.740Z"
   },
   {
    "duration": 29,
    "start_time": "2021-10-04T09:54:59.138Z"
   },
   {
    "duration": 3298,
    "start_time": "2021-10-04T09:54:59.173Z"
   },
   {
    "duration": 15,
    "start_time": "2021-10-04T09:55:02.474Z"
   },
   {
    "duration": 3322,
    "start_time": "2021-10-04T09:55:02.491Z"
   },
   {
    "duration": 1186,
    "start_time": "2021-10-04T09:55:05.815Z"
   },
   {
    "duration": 10,
    "start_time": "2021-10-04T09:55:07.004Z"
   },
   {
    "duration": 1226,
    "start_time": "2021-10-04T09:55:07.016Z"
   },
   {
    "duration": 23,
    "start_time": "2021-10-04T09:55:08.245Z"
   },
   {
    "duration": 17,
    "start_time": "2021-10-04T09:55:08.271Z"
   },
   {
    "duration": 79,
    "start_time": "2021-10-04T09:55:08.291Z"
   },
   {
    "duration": 2522,
    "start_time": "2021-10-04T09:55:08.372Z"
   },
   {
    "duration": 678,
    "start_time": "2021-10-04T09:55:10.897Z"
   },
   {
    "duration": 25,
    "start_time": "2021-10-04T09:55:11.577Z"
   },
   {
    "duration": 23,
    "start_time": "2021-10-04T09:55:11.604Z"
   },
   {
    "duration": 48,
    "start_time": "2021-10-04T09:55:11.630Z"
   },
   {
    "duration": 5,
    "start_time": "2021-10-04T09:55:11.680Z"
   },
   {
    "duration": 28,
    "start_time": "2021-10-04T09:55:11.687Z"
   },
   {
    "duration": 16,
    "start_time": "2021-10-04T09:55:11.718Z"
   },
   {
    "duration": 10,
    "start_time": "2021-10-04T09:55:11.767Z"
   },
   {
    "duration": 19,
    "start_time": "2021-10-04T09:55:11.779Z"
   },
   {
    "duration": 14,
    "start_time": "2021-10-04T09:55:11.800Z"
   },
   {
    "duration": 5,
    "start_time": "2021-10-04T09:55:11.816Z"
   },
   {
    "duration": 48,
    "start_time": "2021-10-04T09:55:11.824Z"
   },
   {
    "duration": 17,
    "start_time": "2021-10-04T09:55:11.874Z"
   },
   {
    "duration": 2920,
    "start_time": "2021-10-04T09:55:11.893Z"
   },
   {
    "duration": 825,
    "start_time": "2021-10-04T09:55:13.990Z"
   },
   {
    "duration": 823,
    "start_time": "2021-10-04T09:55:13.994Z"
   },
   {
    "duration": 821,
    "start_time": "2021-10-04T09:55:13.998Z"
   },
   {
    "duration": 818,
    "start_time": "2021-10-04T09:55:14.002Z"
   },
   {
    "duration": 816,
    "start_time": "2021-10-04T09:55:14.006Z"
   },
   {
    "duration": 2800,
    "start_time": "2021-10-04T09:58:35.827Z"
   },
   {
    "duration": 453,
    "start_time": "2021-10-04T09:58:57.922Z"
   },
   {
    "duration": 2737,
    "start_time": "2021-10-04T09:59:05.420Z"
   },
   {
    "duration": 3111,
    "start_time": "2021-10-04T09:59:34.204Z"
   },
   {
    "duration": 190,
    "start_time": "2021-10-04T10:00:15.986Z"
   },
   {
    "duration": 13,
    "start_time": "2021-10-04T10:00:17.838Z"
   },
   {
    "duration": 2302,
    "start_time": "2021-10-04T10:00:28.935Z"
   },
   {
    "duration": 2320,
    "start_time": "2021-10-04T10:00:50.796Z"
   },
   {
    "duration": 23,
    "start_time": "2021-10-04T10:00:57.898Z"
   },
   {
    "duration": 10,
    "start_time": "2021-10-04T10:01:35.059Z"
   },
   {
    "duration": 345,
    "start_time": "2021-10-04T10:01:50.909Z"
   },
   {
    "duration": 6,
    "start_time": "2021-10-04T10:01:57.737Z"
   },
   {
    "duration": 1627,
    "start_time": "2021-10-04T10:03:36.945Z"
   },
   {
    "duration": 345,
    "start_time": "2021-10-04T10:04:43.728Z"
   },
   {
    "duration": 5,
    "start_time": "2021-10-04T10:05:17.788Z"
   },
   {
    "duration": 234,
    "start_time": "2021-10-04T10:05:26.246Z"
   },
   {
    "duration": 2983,
    "start_time": "2021-10-04T10:05:43.262Z"
   },
   {
    "duration": 2939,
    "start_time": "2021-10-04T10:05:52.362Z"
   },
   {
    "duration": 58754,
    "start_time": "2021-10-04T10:06:00.368Z"
   },
   {
    "duration": 5,
    "start_time": "2021-10-04T10:07:53.456Z"
   },
   {
    "duration": 1238,
    "start_time": "2021-10-04T10:07:58.729Z"
   },
   {
    "duration": 1229,
    "start_time": "2021-10-04T10:08:15.143Z"
   },
   {
    "duration": 1242,
    "start_time": "2021-10-04T10:09:02.834Z"
   },
   {
    "duration": 1523,
    "start_time": "2021-10-04T10:09:07.656Z"
   },
   {
    "duration": 1219,
    "start_time": "2021-10-04T10:09:42.391Z"
   },
   {
    "duration": 4865,
    "start_time": "2021-10-04T10:10:11.744Z"
   },
   {
    "duration": 4786,
    "start_time": "2021-10-04T10:10:30.126Z"
   },
   {
    "duration": 1228,
    "start_time": "2021-10-04T10:10:57.031Z"
   },
   {
    "duration": 1234,
    "start_time": "2021-10-04T10:12:29.028Z"
   },
   {
    "duration": 1229,
    "start_time": "2021-10-04T10:12:35.063Z"
   },
   {
    "duration": 386,
    "start_time": "2021-10-04T10:13:08.258Z"
   },
   {
    "duration": 457,
    "start_time": "2021-10-04T10:13:13.193Z"
   },
   {
    "duration": 767,
    "start_time": "2021-10-04T10:13:18.348Z"
   },
   {
    "duration": 807,
    "start_time": "2021-10-04T10:13:23.517Z"
   },
   {
    "duration": 1102,
    "start_time": "2021-10-04T10:13:28.313Z"
   },
   {
    "duration": 1302,
    "start_time": "2021-10-04T10:13:36.139Z"
   },
   {
    "duration": 1274,
    "start_time": "2021-10-04T10:13:43.613Z"
   },
   {
    "duration": 214,
    "start_time": "2021-10-04T10:13:50.341Z"
   },
   {
    "duration": 314,
    "start_time": "2021-10-04T10:13:56.064Z"
   },
   {
    "duration": 817,
    "start_time": "2021-10-04T10:14:07.222Z"
   },
   {
    "duration": 1969,
    "start_time": "2021-10-04T10:15:36.852Z"
   },
   {
    "duration": 1209,
    "start_time": "2021-10-04T10:15:53.302Z"
   },
   {
    "duration": 6,
    "start_time": "2021-10-04T10:16:00.769Z"
   },
   {
    "duration": 12,
    "start_time": "2021-10-04T10:16:00.777Z"
   },
   {
    "duration": 879,
    "start_time": "2021-10-04T10:16:00.792Z"
   },
   {
    "duration": 33,
    "start_time": "2021-10-04T10:16:01.674Z"
   },
   {
    "duration": 57,
    "start_time": "2021-10-04T10:16:01.711Z"
   },
   {
    "duration": 28,
    "start_time": "2021-10-04T10:16:01.771Z"
   },
   {
    "duration": 16,
    "start_time": "2021-10-04T10:16:01.801Z"
   },
   {
    "duration": 8,
    "start_time": "2021-10-04T10:16:01.821Z"
   },
   {
    "duration": 30,
    "start_time": "2021-10-04T10:16:01.869Z"
   },
   {
    "duration": 6,
    "start_time": "2021-10-04T10:16:01.902Z"
   },
   {
    "duration": 36,
    "start_time": "2021-10-04T10:16:01.911Z"
   },
   {
    "duration": 36,
    "start_time": "2021-10-04T10:16:01.949Z"
   },
   {
    "duration": 6,
    "start_time": "2021-10-04T10:16:01.988Z"
   },
   {
    "duration": 52,
    "start_time": "2021-10-04T10:16:01.997Z"
   },
   {
    "duration": 49,
    "start_time": "2021-10-04T10:16:02.052Z"
   },
   {
    "duration": 177,
    "start_time": "2021-10-04T10:16:02.104Z"
   },
   {
    "duration": 200,
    "start_time": "2021-10-04T10:16:02.283Z"
   },
   {
    "duration": 39,
    "start_time": "2021-10-04T10:16:02.486Z"
   },
   {
    "duration": 45,
    "start_time": "2021-10-04T10:16:02.529Z"
   },
   {
    "duration": 3566,
    "start_time": "2021-10-04T10:16:02.577Z"
   },
   {
    "duration": 28,
    "start_time": "2021-10-04T10:16:06.146Z"
   },
   {
    "duration": 3281,
    "start_time": "2021-10-04T10:16:06.176Z"
   },
   {
    "duration": 14,
    "start_time": "2021-10-04T10:16:09.466Z"
   },
   {
    "duration": 3320,
    "start_time": "2021-10-04T10:16:09.483Z"
   },
   {
    "duration": 1209,
    "start_time": "2021-10-04T10:16:12.806Z"
   },
   {
    "duration": 10,
    "start_time": "2021-10-04T10:16:14.017Z"
   },
   {
    "duration": 1206,
    "start_time": "2021-10-04T10:16:14.030Z"
   },
   {
    "duration": 10,
    "start_time": "2021-10-04T10:16:15.239Z"
   },
   {
    "duration": 15,
    "start_time": "2021-10-04T10:16:15.268Z"
   },
   {
    "duration": 52,
    "start_time": "2021-10-04T10:16:15.286Z"
   },
   {
    "duration": 2481,
    "start_time": "2021-10-04T10:16:15.340Z"
   },
   {
    "duration": 685,
    "start_time": "2021-10-04T10:16:17.824Z"
   },
   {
    "duration": 23,
    "start_time": "2021-10-04T10:16:18.511Z"
   },
   {
    "duration": 43,
    "start_time": "2021-10-04T10:16:18.537Z"
   },
   {
    "duration": 20,
    "start_time": "2021-10-04T10:16:18.582Z"
   },
   {
    "duration": 6,
    "start_time": "2021-10-04T10:16:18.604Z"
   },
   {
    "duration": 57,
    "start_time": "2021-10-04T10:16:18.612Z"
   },
   {
    "duration": 17,
    "start_time": "2021-10-04T10:16:18.671Z"
   },
   {
    "duration": 9,
    "start_time": "2021-10-04T10:16:18.690Z"
   },
   {
    "duration": 18,
    "start_time": "2021-10-04T10:16:18.702Z"
   },
   {
    "duration": 50,
    "start_time": "2021-10-04T10:16:18.722Z"
   },
   {
    "duration": 5,
    "start_time": "2021-10-04T10:16:18.775Z"
   },
   {
    "duration": 12,
    "start_time": "2021-10-04T10:16:18.783Z"
   },
   {
    "duration": 10,
    "start_time": "2021-10-04T10:16:18.798Z"
   },
   {
    "duration": 363,
    "start_time": "2021-10-04T10:16:18.811Z"
   },
   {
    "duration": 1698,
    "start_time": "2021-10-04T10:16:19.177Z"
   },
   {
    "duration": 1691,
    "start_time": "2021-10-04T10:16:20.878Z"
   },
   {
    "duration": 59159,
    "start_time": "2021-10-04T10:16:22.572Z"
   },
   {
    "duration": 5,
    "start_time": "2021-10-04T10:17:21.734Z"
   },
   {
    "duration": 1243,
    "start_time": "2021-10-04T10:17:21.742Z"
   },
   {
    "duration": 4889,
    "start_time": "2021-10-04T10:17:22.987Z"
   },
   {
    "duration": 4870,
    "start_time": "2021-10-04T10:17:47.578Z"
   },
   {
    "duration": 4809,
    "start_time": "2021-10-04T10:18:58.705Z"
   },
   {
    "duration": 395,
    "start_time": "2021-10-04T10:19:48.135Z"
   },
   {
    "duration": 1504,
    "start_time": "2021-10-04T10:19:52.777Z"
   },
   {
    "duration": 1653,
    "start_time": "2021-10-04T10:23:17.029Z"
   },
   {
    "duration": 1638,
    "start_time": "2021-10-04T10:23:27.231Z"
   },
   {
    "duration": 58026,
    "start_time": "2021-10-04T10:26:05.635Z"
   },
   {
    "duration": 5,
    "start_time": "2021-10-04T10:27:54.592Z"
   },
   {
    "duration": 5,
    "start_time": "2021-10-04T10:28:00.992Z"
   },
   {
    "duration": 355,
    "start_time": "2021-10-04T10:29:11.519Z"
   },
   {
    "duration": 1480,
    "start_time": "2021-10-04T10:29:44.690Z"
   },
   {
    "duration": 1450,
    "start_time": "2021-10-04T10:29:52.819Z"
   },
   {
    "duration": 1875,
    "start_time": "2021-10-04T10:30:02.895Z"
   },
   {
    "duration": 2025,
    "start_time": "2021-10-04T10:30:38.154Z"
   },
   {
    "duration": 4198,
    "start_time": "2021-10-04T10:30:47.226Z"
   },
   {
    "duration": 1170,
    "start_time": "2021-10-04T10:30:55.327Z"
   },
   {
    "duration": 15,
    "start_time": "2021-10-04T10:36:52.852Z"
   },
   {
    "duration": 29350,
    "start_time": "2021-10-04T10:37:07.735Z"
   },
   {
    "duration": 337438,
    "start_time": "2021-10-04T10:37:59.739Z"
   },
   {
    "duration": 1696127,
    "start_time": "2021-10-04T10:43:44.492Z"
   },
   {
    "duration": 232582,
    "start_time": "2021-10-04T11:12:36.663Z"
   },
   {
    "duration": 58309,
    "start_time": "2021-10-04T11:17:29.315Z"
   },
   {
    "duration": 314,
    "start_time": "2021-10-04T11:23:25.371Z"
   },
   {
    "duration": 6,
    "start_time": "2021-10-04T11:23:50.585Z"
   },
   {
    "duration": 366373,
    "start_time": "2021-10-04T11:23:55.185Z"
   },
   {
    "duration": 17,
    "start_time": "2021-10-04T11:35:35.375Z"
   },
   {
    "duration": 18,
    "start_time": "2021-10-04T11:35:40.894Z"
   },
   {
    "duration": 17,
    "start_time": "2021-10-04T11:42:26.468Z"
   },
   {
    "duration": 6439,
    "start_time": "2021-10-04T11:45:54.900Z"
   },
   {
    "duration": 17,
    "start_time": "2021-10-04T11:47:28.547Z"
   },
   {
    "duration": 590,
    "start_time": "2021-10-04T11:49:50.143Z"
   },
   {
    "duration": 339,
    "start_time": "2021-10-04T11:51:23.793Z"
   },
   {
    "duration": 173,
    "start_time": "2021-10-04T11:51:30.104Z"
   },
   {
    "duration": 102,
    "start_time": "2021-10-04T11:52:57.361Z"
   },
   {
    "duration": 813,
    "start_time": "2021-10-04T11:53:27.005Z"
   },
   {
    "duration": 115,
    "start_time": "2021-10-04T11:53:30.984Z"
   },
   {
    "duration": 98,
    "start_time": "2021-10-04T11:57:47.059Z"
   },
   {
    "duration": 113,
    "start_time": "2021-10-04T11:57:52.449Z"
   },
   {
    "duration": 1296,
    "start_time": "2021-10-04T11:59:07.483Z"
   },
   {
    "duration": 15,
    "start_time": "2021-10-04T11:59:48.344Z"
   },
   {
    "duration": 14,
    "start_time": "2021-10-04T12:00:27.114Z"
   },
   {
    "duration": 14,
    "start_time": "2021-10-04T12:01:48.965Z"
   },
   {
    "duration": 6,
    "start_time": "2021-10-04T12:02:00.173Z"
   },
   {
    "duration": 8,
    "start_time": "2021-10-04T12:02:12.184Z"
   },
   {
    "duration": 352,
    "start_time": "2021-10-04T12:02:51.445Z"
   },
   {
    "duration": 43,
    "start_time": "2021-10-04T12:03:03.503Z"
   },
   {
    "duration": 42,
    "start_time": "2021-10-04T12:03:23.550Z"
   },
   {
    "duration": 9,
    "start_time": "2021-10-04T12:04:04.122Z"
   },
   {
    "duration": 363,
    "start_time": "2021-10-04T12:04:17.440Z"
   },
   {
    "duration": 6,
    "start_time": "2021-10-04T12:04:25.653Z"
   },
   {
    "duration": 8,
    "start_time": "2021-10-04T12:04:25.662Z"
   },
   {
    "duration": 854,
    "start_time": "2021-10-04T12:04:25.673Z"
   },
   {
    "duration": 40,
    "start_time": "2021-10-04T12:04:26.531Z"
   },
   {
    "duration": 28,
    "start_time": "2021-10-04T12:04:26.574Z"
   },
   {
    "duration": 25,
    "start_time": "2021-10-04T12:04:26.604Z"
   },
   {
    "duration": 51,
    "start_time": "2021-10-04T12:04:26.631Z"
   },
   {
    "duration": 7,
    "start_time": "2021-10-04T12:04:26.685Z"
   },
   {
    "duration": 28,
    "start_time": "2021-10-04T12:04:26.695Z"
   },
   {
    "duration": 42,
    "start_time": "2021-10-04T12:04:26.726Z"
   },
   {
    "duration": 16,
    "start_time": "2021-10-04T12:04:26.771Z"
   },
   {
    "duration": 27,
    "start_time": "2021-10-04T12:04:26.789Z"
   },
   {
    "duration": 6,
    "start_time": "2021-10-04T12:04:26.818Z"
   },
   {
    "duration": 74,
    "start_time": "2021-10-04T12:04:26.827Z"
   },
   {
    "duration": 34,
    "start_time": "2021-10-04T12:04:26.904Z"
   },
   {
    "duration": 183,
    "start_time": "2021-10-04T12:04:26.940Z"
   },
   {
    "duration": 205,
    "start_time": "2021-10-04T12:04:27.127Z"
   },
   {
    "duration": 51,
    "start_time": "2021-10-04T12:04:27.334Z"
   },
   {
    "duration": 14,
    "start_time": "2021-10-04T12:04:27.387Z"
   },
   {
    "duration": 3393,
    "start_time": "2021-10-04T12:04:27.404Z"
   },
   {
    "duration": 15,
    "start_time": "2021-10-04T12:04:30.800Z"
   },
   {
    "duration": 3367,
    "start_time": "2021-10-04T12:04:30.818Z"
   },
   {
    "duration": 14,
    "start_time": "2021-10-04T12:04:34.191Z"
   },
   {
    "duration": 3466,
    "start_time": "2021-10-04T12:04:34.208Z"
   },
   {
    "duration": 1144,
    "start_time": "2021-10-04T12:04:37.676Z"
   },
   {
    "duration": 11,
    "start_time": "2021-10-04T12:04:38.823Z"
   },
   {
    "duration": 1188,
    "start_time": "2021-10-04T12:04:38.837Z"
   },
   {
    "duration": 10,
    "start_time": "2021-10-04T12:04:40.028Z"
   },
   {
    "duration": 42,
    "start_time": "2021-10-04T12:04:40.040Z"
   },
   {
    "duration": 56,
    "start_time": "2021-10-04T12:04:40.085Z"
   },
   {
    "duration": 2527,
    "start_time": "2021-10-04T12:04:40.144Z"
   },
   {
    "duration": 599,
    "start_time": "2021-10-04T12:04:42.674Z"
   },
   {
    "duration": 24,
    "start_time": "2021-10-04T12:04:43.276Z"
   },
   {
    "duration": 25,
    "start_time": "2021-10-04T12:04:43.302Z"
   },
   {
    "duration": 49,
    "start_time": "2021-10-04T12:04:43.330Z"
   },
   {
    "duration": 5,
    "start_time": "2021-10-04T12:04:43.382Z"
   },
   {
    "duration": 30,
    "start_time": "2021-10-04T12:04:43.390Z"
   },
   {
    "duration": 47,
    "start_time": "2021-10-04T12:04:43.423Z"
   },
   {
    "duration": 22,
    "start_time": "2021-10-04T12:04:43.473Z"
   },
   {
    "duration": 23,
    "start_time": "2021-10-04T12:04:43.498Z"
   },
   {
    "duration": 24,
    "start_time": "2021-10-04T12:04:43.524Z"
   },
   {
    "duration": 119,
    "start_time": "2021-10-04T12:04:43.550Z"
   },
   {
    "duration": 15,
    "start_time": "2021-10-04T12:04:43.671Z"
   },
   {
    "duration": 17,
    "start_time": "2021-10-04T12:04:43.689Z"
   },
   {
    "duration": 11,
    "start_time": "2021-10-04T12:05:52.573Z"
   },
   {
    "duration": 11,
    "start_time": "2021-10-04T12:06:56.987Z"
   },
   {
    "duration": 9,
    "start_time": "2021-10-04T12:06:59.532Z"
   },
   {
    "duration": 249,
    "start_time": "2021-10-04T12:07:05.238Z"
   },
   {
    "duration": 927,
    "start_time": "2021-10-04T12:07:11.544Z"
   },
   {
    "duration": 39279,
    "start_time": "2021-10-04T12:12:16.555Z"
   },
   {
    "duration": 249614,
    "start_time": "2021-10-04T12:13:06.433Z"
   },
   {
    "duration": 4558,
    "start_time": "2021-10-04T12:17:50.863Z"
   },
   {
    "duration": 19,
    "start_time": "2021-10-04T12:18:00.061Z"
   },
   {
    "duration": 19,
    "start_time": "2021-10-04T12:18:05.424Z"
   },
   {
    "duration": 5,
    "start_time": "2021-10-04T16:56:29.731Z"
   },
   {
    "duration": 3308,
    "start_time": "2021-10-04T17:06:50.487Z"
   },
   {
    "duration": 3317,
    "start_time": "2021-10-04T17:07:15.191Z"
   },
   {
    "duration": 14,
    "start_time": "2021-10-04T17:08:09.158Z"
   },
   {
    "duration": 3311,
    "start_time": "2021-10-04T17:08:19.294Z"
   },
   {
    "duration": 16,
    "start_time": "2021-10-04T17:08:47.004Z"
   },
   {
    "duration": 3303,
    "start_time": "2021-10-04T17:08:50.164Z"
   },
   {
    "duration": 16,
    "start_time": "2021-10-04T17:09:05.948Z"
   },
   {
    "duration": 3311,
    "start_time": "2021-10-04T17:09:13.587Z"
   },
   {
    "duration": 3322,
    "start_time": "2021-10-04T17:10:31.172Z"
   },
   {
    "duration": 3413,
    "start_time": "2021-10-04T17:11:55.150Z"
   },
   {
    "duration": 3405,
    "start_time": "2021-10-04T17:12:34.210Z"
   },
   {
    "duration": 1706,
    "start_time": "2021-10-04T17:25:00.645Z"
   },
   {
    "duration": 4,
    "start_time": "2021-10-04T17:25:02.354Z"
   },
   {
    "duration": 948,
    "start_time": "2021-10-04T17:25:02.369Z"
   },
   {
    "duration": 51,
    "start_time": "2021-10-04T17:25:03.320Z"
   },
   {
    "duration": 28,
    "start_time": "2021-10-04T17:25:03.374Z"
   },
   {
    "duration": 24,
    "start_time": "2021-10-04T17:25:03.405Z"
   },
   {
    "duration": 57,
    "start_time": "2021-10-04T17:25:03.431Z"
   },
   {
    "duration": 14,
    "start_time": "2021-10-04T17:25:03.493Z"
   },
   {
    "duration": 57,
    "start_time": "2021-10-04T17:25:03.512Z"
   },
   {
    "duration": 8,
    "start_time": "2021-10-04T17:25:03.572Z"
   },
   {
    "duration": 30,
    "start_time": "2021-10-04T17:25:03.583Z"
   },
   {
    "duration": 29,
    "start_time": "2021-10-04T17:25:03.616Z"
   },
   {
    "duration": 5,
    "start_time": "2021-10-04T17:25:03.668Z"
   },
   {
    "duration": 53,
    "start_time": "2021-10-04T17:25:03.676Z"
   },
   {
    "duration": 49,
    "start_time": "2021-10-04T17:25:03.732Z"
   },
   {
    "duration": 166,
    "start_time": "2021-10-04T17:25:03.784Z"
   },
   {
    "duration": 199,
    "start_time": "2021-10-04T17:25:03.952Z"
   },
   {
    "duration": 42,
    "start_time": "2021-10-04T17:25:04.153Z"
   },
   {
    "duration": 3248,
    "start_time": "2021-10-04T17:25:04.197Z"
   },
   {
    "duration": 3262,
    "start_time": "2021-10-04T17:25:07.447Z"
   },
   {
    "duration": 3344,
    "start_time": "2021-10-04T17:25:10.711Z"
   },
   {
    "duration": 1021,
    "start_time": "2021-10-04T17:25:14.058Z"
   },
   {
    "duration": 12,
    "start_time": "2021-10-04T17:25:15.084Z"
   },
   {
    "duration": 1105,
    "start_time": "2021-10-04T17:25:15.100Z"
   },
   {
    "duration": 10,
    "start_time": "2021-10-04T17:25:16.208Z"
   },
   {
    "duration": 14,
    "start_time": "2021-10-04T17:25:16.221Z"
   },
   {
    "duration": 81,
    "start_time": "2021-10-04T17:25:16.237Z"
   },
   {
    "duration": 1751,
    "start_time": "2021-10-04T17:25:16.321Z"
   },
   {
    "duration": 641,
    "start_time": "2021-10-04T17:25:18.075Z"
   },
   {
    "duration": 23,
    "start_time": "2021-10-04T17:25:18.718Z"
   },
   {
    "duration": 42,
    "start_time": "2021-10-04T17:25:18.744Z"
   },
   {
    "duration": 21,
    "start_time": "2021-10-04T17:25:18.789Z"
   },
   {
    "duration": 6,
    "start_time": "2021-10-04T17:25:18.813Z"
   },
   {
    "duration": 58,
    "start_time": "2021-10-04T17:25:18.822Z"
   },
   {
    "duration": 18,
    "start_time": "2021-10-04T17:25:18.883Z"
   },
   {
    "duration": 10,
    "start_time": "2021-10-04T17:25:18.903Z"
   },
   {
    "duration": 54,
    "start_time": "2021-10-04T17:25:18.916Z"
   },
   {
    "duration": 10,
    "start_time": "2021-10-04T17:25:18.973Z"
   },
   {
    "duration": 131,
    "start_time": "2021-10-04T17:25:18.985Z"
   },
   {
    "duration": 16,
    "start_time": "2021-10-04T17:25:19.118Z"
   },
   {
    "duration": 36,
    "start_time": "2021-10-04T17:25:19.137Z"
   },
   {
    "duration": 5,
    "start_time": "2021-10-04T17:25:19.175Z"
   },
   {
    "duration": 10,
    "start_time": "2021-10-04T17:25:19.183Z"
   },
   {
    "duration": 12,
    "start_time": "2021-10-04T17:25:19.195Z"
   },
   {
    "duration": 266,
    "start_time": "2021-10-04T17:25:19.209Z"
   },
   {
    "duration": 793,
    "start_time": "2021-10-04T17:25:19.478Z"
   },
   {
    "duration": 26921,
    "start_time": "2021-10-04T17:25:20.275Z"
   },
   {
    "duration": 168748,
    "start_time": "2021-10-04T17:25:47.198Z"
   },
   {
    "duration": 29,
    "start_time": "2021-10-04T17:28:35.949Z"
   },
   {
    "duration": 3193,
    "start_time": "2021-10-04T17:28:35.981Z"
   },
   {
    "duration": 19,
    "start_time": "2021-10-04T17:28:39.177Z"
   },
   {
    "duration": 653,
    "start_time": "2021-10-04T17:42:32.009Z"
   },
   {
    "duration": 1125,
    "start_time": "2021-10-04T17:43:15.747Z"
   },
   {
    "duration": 896,
    "start_time": "2021-10-04T17:43:49.377Z"
   },
   {
    "duration": 2969,
    "start_time": "2021-10-04T17:43:57.664Z"
   },
   {
    "duration": 2751,
    "start_time": "2021-10-04T17:44:42.111Z"
   },
   {
    "duration": 1051,
    "start_time": "2021-10-04T17:45:19.380Z"
   },
   {
    "duration": 1050,
    "start_time": "2021-10-04T17:45:43.081Z"
   },
   {
    "duration": 29,
    "start_time": "2021-10-04T17:46:04.743Z"
   },
   {
    "duration": 1039,
    "start_time": "2021-10-04T17:46:09.179Z"
   },
   {
    "duration": 6,
    "start_time": "2021-10-04T17:46:31.105Z"
   },
   {
    "duration": 14,
    "start_time": "2021-10-04T17:46:31.114Z"
   },
   {
    "duration": 896,
    "start_time": "2021-10-04T17:46:31.132Z"
   },
   {
    "duration": 38,
    "start_time": "2021-10-04T17:46:32.031Z"
   },
   {
    "duration": 28,
    "start_time": "2021-10-04T17:46:32.071Z"
   },
   {
    "duration": 23,
    "start_time": "2021-10-04T17:46:32.101Z"
   },
   {
    "duration": 48,
    "start_time": "2021-10-04T17:46:32.127Z"
   },
   {
    "duration": 7,
    "start_time": "2021-10-04T17:46:32.179Z"
   },
   {
    "duration": 25,
    "start_time": "2021-10-04T17:46:32.189Z"
   },
   {
    "duration": 6,
    "start_time": "2021-10-04T17:46:32.216Z"
   },
   {
    "duration": 13,
    "start_time": "2021-10-04T17:46:32.268Z"
   },
   {
    "duration": 25,
    "start_time": "2021-10-04T17:46:32.284Z"
   },
   {
    "duration": 6,
    "start_time": "2021-10-04T17:46:32.311Z"
   },
   {
    "duration": 82,
    "start_time": "2021-10-04T17:46:32.319Z"
   },
   {
    "duration": 34,
    "start_time": "2021-10-04T17:46:32.403Z"
   },
   {
    "duration": 188,
    "start_time": "2021-10-04T17:46:32.439Z"
   },
   {
    "duration": 210,
    "start_time": "2021-10-04T17:46:32.630Z"
   },
   {
    "duration": 49,
    "start_time": "2021-10-04T17:46:32.842Z"
   },
   {
    "duration": 3522,
    "start_time": "2021-10-04T17:46:32.893Z"
   },
   {
    "duration": 3350,
    "start_time": "2021-10-04T17:46:36.417Z"
   },
   {
    "duration": 3323,
    "start_time": "2021-10-04T17:46:39.770Z"
   },
   {
    "duration": 1306,
    "start_time": "2021-10-04T17:46:43.096Z"
   },
   {
    "duration": 9,
    "start_time": "2021-10-04T17:46:44.407Z"
   },
   {
    "duration": 1221,
    "start_time": "2021-10-04T17:46:44.420Z"
   },
   {
    "duration": 24,
    "start_time": "2021-10-04T17:46:45.643Z"
   },
   {
    "duration": 23,
    "start_time": "2021-10-04T17:46:45.670Z"
   },
   {
    "duration": 82,
    "start_time": "2021-10-04T17:46:45.696Z"
   },
   {
    "duration": 2296,
    "start_time": "2021-10-04T17:46:45.781Z"
   },
   {
    "duration": 623,
    "start_time": "2021-10-04T17:46:48.080Z"
   },
   {
    "duration": 31,
    "start_time": "2021-10-04T17:46:48.706Z"
   },
   {
    "duration": 44,
    "start_time": "2021-10-04T17:46:48.740Z"
   },
   {
    "duration": 20,
    "start_time": "2021-10-04T17:46:48.787Z"
   },
   {
    "duration": 5,
    "start_time": "2021-10-04T17:46:48.809Z"
   },
   {
    "duration": 60,
    "start_time": "2021-10-04T17:46:48.816Z"
   },
   {
    "duration": 15,
    "start_time": "2021-10-04T17:46:48.879Z"
   },
   {
    "duration": 12,
    "start_time": "2021-10-04T17:46:48.896Z"
   },
   {
    "duration": 57,
    "start_time": "2021-10-04T17:46:48.910Z"
   },
   {
    "duration": 8,
    "start_time": "2021-10-04T17:46:48.971Z"
   },
   {
    "duration": 222,
    "start_time": "2021-10-04T17:46:48.982Z"
   },
   {
    "duration": 3946,
    "start_time": "2021-10-04T17:46:49.207Z"
   },
   {
    "duration": 1145,
    "start_time": "2021-10-05T04:58:08.124Z"
   },
   {
    "duration": 385,
    "start_time": "2021-10-05T05:00:01.613Z"
   },
   {
    "duration": 4,
    "start_time": "2021-10-05T05:00:13.452Z"
   },
   {
    "duration": 7,
    "start_time": "2021-10-05T05:00:13.458Z"
   },
   {
    "duration": 4414,
    "start_time": "2021-10-05T05:00:13.468Z"
   },
   {
    "duration": 22,
    "start_time": "2021-10-05T05:00:17.884Z"
   },
   {
    "duration": 17,
    "start_time": "2021-10-05T05:00:17.908Z"
   },
   {
    "duration": 15,
    "start_time": "2021-10-05T05:00:17.927Z"
   },
   {
    "duration": 10,
    "start_time": "2021-10-05T05:00:17.943Z"
   },
   {
    "duration": 9,
    "start_time": "2021-10-05T05:00:17.977Z"
   },
   {
    "duration": 19,
    "start_time": "2021-10-05T05:00:17.988Z"
   },
   {
    "duration": 3,
    "start_time": "2021-10-05T05:00:18.009Z"
   },
   {
    "duration": 16,
    "start_time": "2021-10-05T05:00:18.014Z"
   },
   {
    "duration": 15,
    "start_time": "2021-10-05T05:00:18.031Z"
   },
   {
    "duration": 28,
    "start_time": "2021-10-05T05:00:18.048Z"
   },
   {
    "duration": 33,
    "start_time": "2021-10-05T05:00:18.078Z"
   },
   {
    "duration": 22,
    "start_time": "2021-10-05T05:00:18.113Z"
   },
   {
    "duration": 88,
    "start_time": "2021-10-05T05:00:18.137Z"
   },
   {
    "duration": 113,
    "start_time": "2021-10-05T05:00:18.226Z"
   },
   {
    "duration": 19,
    "start_time": "2021-10-05T05:00:18.341Z"
   },
   {
    "duration": 2209,
    "start_time": "2021-10-05T05:00:18.362Z"
   },
   {
    "duration": 2203,
    "start_time": "2021-10-05T05:00:20.576Z"
   },
   {
    "duration": 2199,
    "start_time": "2021-10-05T05:00:22.780Z"
   },
   {
    "duration": 670,
    "start_time": "2021-10-05T05:00:24.982Z"
   },
   {
    "duration": 8,
    "start_time": "2021-10-05T05:00:25.654Z"
   },
   {
    "duration": 776,
    "start_time": "2021-10-05T05:00:25.663Z"
   },
   {
    "duration": 7,
    "start_time": "2021-10-05T05:00:26.441Z"
   },
   {
    "duration": 27,
    "start_time": "2021-10-05T05:00:26.450Z"
   },
   {
    "duration": 6,
    "start_time": "2021-10-05T05:00:26.479Z"
   },
   {
    "duration": 6,
    "start_time": "2021-10-05T05:15:58.421Z"
   },
   {
    "duration": 8,
    "start_time": "2021-10-05T05:34:04.402Z"
   },
   {
    "duration": 300,
    "start_time": "2021-10-05T05:36:36.023Z"
   },
   {
    "duration": 394,
    "start_time": "2021-10-05T05:37:13.022Z"
   },
   {
    "duration": 7,
    "start_time": "2021-10-05T05:37:19.637Z"
   },
   {
    "duration": 7,
    "start_time": "2021-10-05T05:37:41.762Z"
   },
   {
    "duration": 584,
    "start_time": "2021-10-05T05:45:45.033Z"
   },
   {
    "duration": 4,
    "start_time": "2021-10-05T05:45:54.611Z"
   },
   {
    "duration": 4,
    "start_time": "2021-10-05T05:45:54.618Z"
   },
   {
    "duration": 752,
    "start_time": "2021-10-05T05:45:54.624Z"
   },
   {
    "duration": 19,
    "start_time": "2021-10-05T05:45:55.378Z"
   },
   {
    "duration": 18,
    "start_time": "2021-10-05T05:45:55.400Z"
   },
   {
    "duration": 14,
    "start_time": "2021-10-05T05:45:55.419Z"
   },
   {
    "duration": 10,
    "start_time": "2021-10-05T05:45:55.435Z"
   },
   {
    "duration": 33,
    "start_time": "2021-10-05T05:45:55.447Z"
   },
   {
    "duration": 17,
    "start_time": "2021-10-05T05:45:55.482Z"
   },
   {
    "duration": 5,
    "start_time": "2021-10-05T05:45:55.501Z"
   },
   {
    "duration": 14,
    "start_time": "2021-10-05T05:45:55.507Z"
   },
   {
    "duration": 16,
    "start_time": "2021-10-05T05:45:55.522Z"
   },
   {
    "duration": 37,
    "start_time": "2021-10-05T05:45:55.540Z"
   },
   {
    "duration": 32,
    "start_time": "2021-10-05T05:45:55.579Z"
   },
   {
    "duration": 24,
    "start_time": "2021-10-05T05:45:55.613Z"
   },
   {
    "duration": 97,
    "start_time": "2021-10-05T05:45:55.638Z"
   },
   {
    "duration": 121,
    "start_time": "2021-10-05T05:45:55.736Z"
   },
   {
    "duration": 25,
    "start_time": "2021-10-05T05:45:55.861Z"
   },
   {
    "duration": 2185,
    "start_time": "2021-10-05T05:45:55.888Z"
   },
   {
    "duration": 2202,
    "start_time": "2021-10-05T05:45:58.077Z"
   },
   {
    "duration": 2215,
    "start_time": "2021-10-05T05:46:00.280Z"
   },
   {
    "duration": 648,
    "start_time": "2021-10-05T05:46:02.496Z"
   },
   {
    "duration": 699,
    "start_time": "2021-10-05T05:46:03.146Z"
   },
   {
    "duration": 10,
    "start_time": "2021-10-05T05:46:03.847Z"
   },
   {
    "duration": 19,
    "start_time": "2021-10-05T05:46:03.859Z"
   },
   {
    "duration": 7,
    "start_time": "2021-10-05T05:46:03.880Z"
   },
   {
    "duration": 8,
    "start_time": "2021-10-05T05:46:03.888Z"
   },
   {
    "duration": 6,
    "start_time": "2021-10-05T05:46:03.898Z"
   },
   {
    "duration": 35,
    "start_time": "2021-10-05T05:46:03.906Z"
   },
   {
    "duration": 936,
    "start_time": "2021-10-05T05:46:03.943Z"
   },
   {
    "duration": 410,
    "start_time": "2021-10-05T05:46:04.881Z"
   },
   {
    "duration": 15,
    "start_time": "2021-10-05T05:46:05.293Z"
   },
   {
    "duration": 13,
    "start_time": "2021-10-05T05:46:05.309Z"
   },
   {
    "duration": 13,
    "start_time": "2021-10-05T05:46:05.323Z"
   },
   {
    "duration": 3,
    "start_time": "2021-10-05T05:46:05.337Z"
   },
   {
    "duration": 43,
    "start_time": "2021-10-05T05:46:05.342Z"
   },
   {
    "duration": 11,
    "start_time": "2021-10-05T05:46:05.387Z"
   },
   {
    "duration": 7,
    "start_time": "2021-10-05T05:46:05.400Z"
   },
   {
    "duration": 11,
    "start_time": "2021-10-05T05:46:05.409Z"
   },
   {
    "duration": 8,
    "start_time": "2021-10-05T05:46:05.422Z"
   },
   {
    "duration": 101,
    "start_time": "2021-10-05T05:46:05.431Z"
   },
   {
    "duration": 1744,
    "start_time": "2021-10-05T05:46:05.533Z"
   },
   {
    "duration": 10,
    "start_time": "2021-10-05T05:46:07.279Z"
   },
   {
    "duration": 9,
    "start_time": "2021-10-05T05:46:07.290Z"
   },
   {
    "duration": 5,
    "start_time": "2021-10-05T05:46:07.301Z"
   },
   {
    "duration": 8,
    "start_time": "2021-10-05T05:46:07.308Z"
   },
   {
    "duration": 16,
    "start_time": "2021-10-05T05:46:07.317Z"
   },
   {
    "duration": 245,
    "start_time": "2021-10-05T05:46:07.335Z"
   },
   {
    "duration": 511,
    "start_time": "2021-10-05T05:46:07.581Z"
   },
   {
    "duration": 361,
    "start_time": "2021-10-05T05:54:17.326Z"
   },
   {
    "duration": 1204,
    "start_time": "2021-10-05T06:02:49.747Z"
   },
   {
    "duration": 2,
    "start_time": "2021-10-05T06:02:50.953Z"
   },
   {
    "duration": 704,
    "start_time": "2021-10-05T06:02:50.957Z"
   },
   {
    "duration": 22,
    "start_time": "2021-10-05T06:02:51.662Z"
   },
   {
    "duration": 24,
    "start_time": "2021-10-05T06:02:51.686Z"
   },
   {
    "duration": 14,
    "start_time": "2021-10-05T06:02:51.711Z"
   },
   {
    "duration": 10,
    "start_time": "2021-10-05T06:02:51.727Z"
   },
   {
    "duration": 9,
    "start_time": "2021-10-05T06:02:51.739Z"
   },
   {
    "duration": 36,
    "start_time": "2021-10-05T06:02:51.750Z"
   },
   {
    "duration": 4,
    "start_time": "2021-10-05T06:02:51.787Z"
   },
   {
    "duration": 24,
    "start_time": "2021-10-05T06:02:51.793Z"
   },
   {
    "duration": 22,
    "start_time": "2021-10-05T06:02:51.818Z"
   },
   {
    "duration": 4,
    "start_time": "2021-10-05T06:02:51.842Z"
   },
   {
    "duration": 50,
    "start_time": "2021-10-05T06:02:51.847Z"
   },
   {
    "duration": 23,
    "start_time": "2021-10-05T06:02:51.899Z"
   },
   {
    "duration": 93,
    "start_time": "2021-10-05T06:02:51.924Z"
   },
   {
    "duration": 122,
    "start_time": "2021-10-05T06:02:52.019Z"
   },
   {
    "duration": 33,
    "start_time": "2021-10-05T06:02:52.143Z"
   },
   {
    "duration": 2204,
    "start_time": "2021-10-05T06:02:52.178Z"
   },
   {
    "duration": 2179,
    "start_time": "2021-10-05T06:02:54.384Z"
   },
   {
    "duration": 2209,
    "start_time": "2021-10-05T06:02:56.564Z"
   },
   {
    "duration": 667,
    "start_time": "2021-10-05T06:02:58.774Z"
   },
   {
    "duration": 716,
    "start_time": "2021-10-05T06:02:59.444Z"
   },
   {
    "duration": 18,
    "start_time": "2021-10-05T06:03:00.163Z"
   },
   {
    "duration": 6,
    "start_time": "2021-10-05T06:03:00.183Z"
   },
   {
    "duration": 9,
    "start_time": "2021-10-05T06:03:00.191Z"
   },
   {
    "duration": 11,
    "start_time": "2021-10-05T06:03:00.202Z"
   },
   {
    "duration": 9,
    "start_time": "2021-10-05T06:03:00.215Z"
   },
   {
    "duration": 57,
    "start_time": "2021-10-05T06:03:00.226Z"
   },
   {
    "duration": 903,
    "start_time": "2021-10-05T06:03:00.285Z"
   },
   {
    "duration": 339,
    "start_time": "2021-10-05T06:03:01.190Z"
   },
   {
    "duration": 16,
    "start_time": "2021-10-05T06:03:01.531Z"
   },
   {
    "duration": 28,
    "start_time": "2021-10-05T06:03:01.549Z"
   },
   {
    "duration": 20,
    "start_time": "2021-10-05T06:03:01.579Z"
   },
   {
    "duration": 9,
    "start_time": "2021-10-05T06:03:01.601Z"
   },
   {
    "duration": 14,
    "start_time": "2021-10-05T06:03:01.611Z"
   },
   {
    "duration": 12,
    "start_time": "2021-10-05T06:03:01.627Z"
   },
   {
    "duration": 15,
    "start_time": "2021-10-05T06:03:01.640Z"
   },
   {
    "duration": 27,
    "start_time": "2021-10-05T06:03:01.656Z"
   },
   {
    "duration": 6,
    "start_time": "2021-10-05T06:03:01.684Z"
   },
   {
    "duration": 94,
    "start_time": "2021-10-05T06:03:01.691Z"
   },
   {
    "duration": 1701,
    "start_time": "2021-10-05T06:03:01.786Z"
   },
   {
    "duration": 11,
    "start_time": "2021-10-05T06:03:03.489Z"
   },
   {
    "duration": 10,
    "start_time": "2021-10-05T06:03:03.501Z"
   },
   {
    "duration": 6,
    "start_time": "2021-10-05T06:03:03.513Z"
   },
   {
    "duration": 9,
    "start_time": "2021-10-05T06:03:03.521Z"
   },
   {
    "duration": 8,
    "start_time": "2021-10-05T06:03:03.531Z"
   },
   {
    "duration": 244,
    "start_time": "2021-10-05T06:03:03.541Z"
   },
   {
    "duration": 390,
    "start_time": "2021-10-05T06:03:03.787Z"
   },
   {
    "duration": 19838,
    "start_time": "2021-10-05T06:03:04.180Z"
   },
   {
    "duration": 127496,
    "start_time": "2021-10-05T06:03:24.020Z"
   },
   {
    "duration": 12,
    "start_time": "2021-10-05T06:05:31.518Z"
   },
   {
    "duration": 2205,
    "start_time": "2021-10-05T06:05:31.532Z"
   },
   {
    "duration": 10,
    "start_time": "2021-10-05T06:05:33.738Z"
   }
  ],
  "kernelspec": {
   "display_name": "Python 3",
   "language": "python",
   "name": "python3"
  },
  "language_info": {
   "codemirror_mode": {
    "name": "ipython",
    "version": 3
   },
   "file_extension": ".py",
   "mimetype": "text/x-python",
   "name": "python",
   "nbconvert_exporter": "python",
   "pygments_lexer": "ipython3",
   "version": "3.8.2"
  },
  "toc": {
   "base_numbering": 1,
   "nav_menu": {},
   "number_sections": true,
   "sideBar": true,
   "skip_h1_title": true,
   "title_cell": "Содержание",
   "title_sidebar": "Contents",
   "toc_cell": true,
   "toc_position": {
    "height": "calc(100% - 180px)",
    "left": "10px",
    "top": "150px",
    "width": "165px"
   },
   "toc_section_display": true,
   "toc_window_display": false
  }
 },
 "nbformat": 4,
 "nbformat_minor": 2
}
